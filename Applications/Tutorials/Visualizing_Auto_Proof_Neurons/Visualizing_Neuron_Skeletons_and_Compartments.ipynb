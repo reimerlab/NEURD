{
 "cells": [
  {
   "cell_type": "code",
   "execution_count": 1,
   "id": "68bdbd79",
   "metadata": {},
   "outputs": [],
   "source": [
    "%load_ext autoreload\n",
    "%autoreload 2"
   ]
  },
  {
   "cell_type": "code",
   "execution_count": 2,
   "id": "075c8f66",
   "metadata": {},
   "outputs": [
    {
     "name": "stdout",
     "output_type": "stream",
     "text": [
      "Jupyter environment detected. Enabling Open3D WebVisualizer.\n",
      "[Open3D INFO] WebRTC GUI backend enabled.\n",
      "[Open3D INFO] WebRTCWindowSystem: HTTP handshake server disabled.\n"
     ]
    }
   ],
   "source": [
    "import neurd"
   ]
  },
  {
   "cell_type": "code",
   "execution_count": 4,
   "id": "c5118b4a",
   "metadata": {},
   "outputs": [],
   "source": [
    "from datasci_tools import ipyvolume_utils as ipvu\n",
    "from neurd import neuron_utils as nru"
   ]
  },
  {
   "cell_type": "markdown",
   "id": "9e88e095",
   "metadata": {},
   "source": [
    "# Loading the Neuron Objects"
   ]
  },
  {
   "cell_type": "code",
   "execution_count": 10,
   "id": "5f0e0432",
   "metadata": {},
   "outputs": [
    {
     "name": "stdout",
     "output_type": "stream",
     "text": [
      "Decompressing Neuron in minimal output mode...please wait\n"
     ]
    },
    {
     "data": {
      "text/plain": [
       "<neurd.neuron.Neuron at 0x7fe754465a60>"
      ]
     },
     "execution_count": 10,
     "metadata": {},
     "output_type": "execute_result"
    }
   ],
   "source": [
    "mesh_path_exc = \"../Auto_Proof_Pipeline/Single_Soma_Exc/864691134917511946.off\"\n",
    "obj_path_exc = mesh_path_exc[:-4] + \"_auto_proof.pbz2\"\n",
    "\n",
    "neuron_obj_exc = nru.decompress_neuron(\n",
    "    filepath = obj_path_exc,\n",
    "    original_mesh=mesh_path_exc\n",
    ")\n",
    "\n",
    "neuron_obj_exc"
   ]
  },
  {
   "cell_type": "code",
   "execution_count": 12,
   "id": "5c15e169",
   "metadata": {},
   "outputs": [
    {
     "name": "stdout",
     "output_type": "stream",
     "text": [
      "Decompressing Neuron in minimal output mode...please wait\n"
     ]
    }
   ],
   "source": [
    "mesh_path_inh = \"../Auto_Proof_Pipeline/Single_Soma_Inh/864691135567721964.off\"\n",
    "obj_path_inh = mesh_path_inh[:-4] + \"_auto_proof.pbz2\"\n",
    "\n",
    "neuron_obj_inh = nru.decompress_neuron(\n",
    "    filepath = obj_path_inh,\n",
    "    original_mesh=mesh_path_inh\n",
    ")\n"
   ]
  },
  {
   "cell_type": "markdown",
   "id": "26017959",
   "metadata": {},
   "source": [
    "# Part 1: Visualizing the neuron skeleton"
   ]
  },
  {
   "cell_type": "code",
   "execution_count": 13,
   "id": "206ba168",
   "metadata": {},
   "outputs": [
    {
     "data": {
      "application/vnd.jupyter.widget-view+json": {
       "model_id": "ab07257212d14c7599e2ab2301e48c05",
       "version_major": 2,
       "version_minor": 0
      },
      "text/plain": [
       "Container(figure=Figure(box_center=[0.5, 0.5, 0.5], box_size=[1.0, 1.0, 1.0], camera=PerspectiveCamera(fov=45.…"
      ]
     },
     "metadata": {},
     "output_type": "display_data"
    }
   ],
   "source": [
    "mesh = neuron_obj_inh.mesh\n",
    "skeleton = neuron_obj_inh.skeleton\n",
    "\n",
    "ipvu.plot_objects(mesh,skeleton)"
   ]
  },
  {
   "cell_type": "markdown",
   "id": "329736c3",
   "metadata": {},
   "source": [
    "# Part 2: Visualizing the neuron compartments"
   ]
  },
  {
   "cell_type": "code",
   "execution_count": 8,
   "id": "314cf3b7",
   "metadata": {},
   "outputs": [
    {
     "name": "stdout",
     "output_type": "stream",
     "text": [
      "\n",
      " Working on visualization type: mesh\n"
     ]
    },
    {
     "data": {
      "application/vnd.jupyter.widget-view+json": {
       "model_id": "7c8f8868d5a7480aaa43725b21cc26cf",
       "version_major": 2,
       "version_minor": 0
      },
      "text/plain": [
       "Container(figure=Figure(box_center=[0.5, 0.5, 0.5], box_size=[1.0, 1.0, 1.0], camera=PerspectiveCamera(fov=45.…"
      ]
     },
     "metadata": {},
     "output_type": "display_data"
    },
    {
     "name": "stdout",
     "output_type": "stream",
     "text": [
      "apical:blue\n",
      "apical_shaft:aqua\n",
      "apical_tuft:purple\n",
      "basal:yellow\n",
      "axon:red\n",
      "oblique:green\n",
      "\n",
      "\n",
      "Unlabeled: transparent green\n"
     ]
    }
   ],
   "source": [
    "from neurd import neuron_visualizations as nviz\n",
    "nviz.plot_compartments(\n",
    "    neuron_obj_exc\n",
    ")"
   ]
  },
  {
   "cell_type": "code",
   "execution_count": null,
   "id": "940a650e",
   "metadata": {},
   "outputs": [],
   "source": []
  }
 ],
 "metadata": {
  "kernelspec": {
   "display_name": "Python 3 (ipykernel)",
   "language": "python",
   "name": "python3"
  },
  "language_info": {
   "codemirror_mode": {
    "name": "ipython",
    "version": 3
   },
   "file_extension": ".py",
   "mimetype": "text/x-python",
   "name": "python",
   "nbconvert_exporter": "python",
   "pygments_lexer": "ipython3",
   "version": "3.8.0"
  }
 },
 "nbformat": 4,
 "nbformat_minor": 5
}
