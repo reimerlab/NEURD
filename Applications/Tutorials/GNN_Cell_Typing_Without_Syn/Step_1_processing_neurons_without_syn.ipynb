{
 "cells": [
  {
   "cell_type": "code",
   "execution_count": 1,
   "id": "077350ae",
   "metadata": {},
   "outputs": [],
   "source": [
    "%load_ext autoreload\n",
    "%autoreload 2"
   ]
  },
  {
   "cell_type": "code",
   "execution_count": 2,
   "id": "c0765d62",
   "metadata": {
    "scrolled": true
   },
   "outputs": [
    {
     "name": "stdout",
     "output_type": "stream",
     "text": [
      "Jupyter environment detected. Enabling Open3D WebVisualizer.\n",
      "[Open3D INFO] WebRTC GUI backend enabled.\n",
      "[Open3D INFO] WebRTCWindowSystem: HTTP handshake server disabled.\n"
     ]
    }
   ],
   "source": [
    "import neurd"
   ]
  },
  {
   "cell_type": "code",
   "execution_count": 3,
   "id": "f59f25d5",
   "metadata": {
    "scrolled": true
   },
   "outputs": [],
   "source": [
    "from mesh_tools import trimesh_utils as tu\n",
    "from datasci_tools import ipyvolume_utils as ipvu\n",
    "\n",
    "from neurd import neuron_visualizations as nviz\n",
    "from pathlib import Path"
   ]
  },
  {
   "cell_type": "markdown",
   "id": "8c857d7b",
   "metadata": {},
   "source": [
    "# Load the appropriate volume data inferface object"
   ]
  },
  {
   "cell_type": "code",
   "execution_count": 4,
   "id": "863967b7",
   "metadata": {},
   "outputs": [],
   "source": [
    "from vdi_chen import volume_data_interface as vdi\n",
    "vdi.set_parameters_for_directory_modules()"
   ]
  },
  {
   "cell_type": "code",
   "execution_count": 5,
   "id": "4134e43b-28c1-4d79-9eb8-d814ff040000",
   "metadata": {},
   "outputs": [],
   "source": [
    "data_directory = \"./Data\""
   ]
  },
  {
   "cell_type": "code",
   "execution_count": 6,
   "id": "221b607d-6253-475b-9930-48e523a83f85",
   "metadata": {},
   "outputs": [],
   "source": [
    "vdi.meshes_directory = data_directory"
   ]
  },
  {
   "cell_type": "markdown",
   "id": "fc719214-13d0-4ad3-9b15-4c4738f1ee4c",
   "metadata": {},
   "source": [
    "# Pick the segment Id"
   ]
  },
  {
   "cell_type": "code",
   "execution_count": 7,
   "id": "c0b1bf59",
   "metadata": {},
   "outputs": [],
   "source": [
    "segment_id = 75086130432907868\n",
    "#segment_id = 74875092987018534\n",
    "#segment_id = 80433193454844380 # large neuron"
   ]
  },
  {
   "cell_type": "markdown",
   "id": "6f9b75c9",
   "metadata": {},
   "source": [
    "# Data Prep: Loading mesh and creating dummy synapse table"
   ]
  },
  {
   "cell_type": "code",
   "execution_count": 8,
   "id": "3c95c75b",
   "metadata": {},
   "outputs": [
    {
     "name": "stderr",
     "output_type": "stream",
     "text": [
      "/usr/local/lib/python3.8/dist-packages/traittypes/traittypes.py:97: UserWarning: Given trait value dtype \"float64\" does not match required type \"float64\". A coerced copy has been created.\n",
      "  warnings.warn(\n"
     ]
    },
    {
     "data": {
      "application/vnd.jupyter.widget-view+json": {
       "model_id": "68e2f61d63a0415cba85047e7867eae7",
       "version_major": 2,
       "version_minor": 0
      },
      "text/plain": [
       "Container(figure=Figure(box_center=[0.5, 0.5, 0.5], box_size=[1.0, 1.0, 1.0], camera=PerspectiveCamera(fov=45.…"
      ]
     },
     "metadata": {},
     "output_type": "display_data"
    },
    {
     "data": {
      "text/plain": [
       "<trimesh.Trimesh(vertices.shape=(264565, 3), faces.shape=(529210, 3))>"
      ]
     },
     "execution_count": 8,
     "metadata": {},
     "output_type": "execute_result"
    }
   ],
   "source": [
    "mesh = vdi.fetch_segment_id_mesh(\n",
    "    segment_id,\n",
    "    #meshes_directory = data_directory,\n",
    "    plot = True\n",
    ")\n",
    "mesh"
   ]
  },
  {
   "cell_type": "code",
   "execution_count": 9,
   "id": "36a8583d-43ef-4bb1-bd7b-851f706b3e85",
   "metadata": {},
   "outputs": [
    {
     "data": {
      "text/html": [
       "<div>\n",
       "<style scoped>\n",
       "    .dataframe tbody tr th:only-of-type {\n",
       "        vertical-align: middle;\n",
       "    }\n",
       "\n",
       "    .dataframe tbody tr th {\n",
       "        vertical-align: top;\n",
       "    }\n",
       "\n",
       "    .dataframe thead th {\n",
       "        text-align: right;\n",
       "    }\n",
       "</style>\n",
       "<table border=\"1\" class=\"dataframe\">\n",
       "  <thead>\n",
       "    <tr style=\"text-align: right;\">\n",
       "      <th></th>\n",
       "      <th>segment_id</th>\n",
       "      <th>segment_id_secondary</th>\n",
       "      <th>synapse_id</th>\n",
       "      <th>prepost</th>\n",
       "      <th>synapse_x</th>\n",
       "      <th>synapse_y</th>\n",
       "      <th>synapse_z</th>\n",
       "      <th>synapse_size</th>\n",
       "    </tr>\n",
       "  </thead>\n",
       "  <tbody>\n",
       "    <tr>\n",
       "      <th>0</th>\n",
       "      <td>75086130432907868</td>\n",
       "      <td>12345</td>\n",
       "      <td>0</td>\n",
       "      <td>postsyn</td>\n",
       "      <td>1320479.625</td>\n",
       "      <td>1198169.875</td>\n",
       "      <td>96525.062500</td>\n",
       "      <td>100</td>\n",
       "    </tr>\n",
       "    <tr>\n",
       "      <th>1</th>\n",
       "      <td>75086130432907868</td>\n",
       "      <td>12345</td>\n",
       "      <td>1</td>\n",
       "      <td>postsyn</td>\n",
       "      <td>1319369.875</td>\n",
       "      <td>1199400.000</td>\n",
       "      <td>96275.156250</td>\n",
       "      <td>100</td>\n",
       "    </tr>\n",
       "    <tr>\n",
       "      <th>2</th>\n",
       "      <td>75086130432907868</td>\n",
       "      <td>12345</td>\n",
       "      <td>2</td>\n",
       "      <td>presyn</td>\n",
       "      <td>1314868.750</td>\n",
       "      <td>1200367.375</td>\n",
       "      <td>91880.109375</td>\n",
       "      <td>100</td>\n",
       "    </tr>\n",
       "    <tr>\n",
       "      <th>3</th>\n",
       "      <td>75086130432907868</td>\n",
       "      <td>12345</td>\n",
       "      <td>3</td>\n",
       "      <td>presyn</td>\n",
       "      <td>1312006.125</td>\n",
       "      <td>1200424.375</td>\n",
       "      <td>88742.367188</td>\n",
       "      <td>100</td>\n",
       "    </tr>\n",
       "    <tr>\n",
       "      <th>4</th>\n",
       "      <td>75086130432907868</td>\n",
       "      <td>12345</td>\n",
       "      <td>4</td>\n",
       "      <td>postsyn</td>\n",
       "      <td>1311798.000</td>\n",
       "      <td>1200420.000</td>\n",
       "      <td>88685.046875</td>\n",
       "      <td>100</td>\n",
       "    </tr>\n",
       "    <tr>\n",
       "      <th>...</th>\n",
       "      <td>...</td>\n",
       "      <td>...</td>\n",
       "      <td>...</td>\n",
       "      <td>...</td>\n",
       "      <td>...</td>\n",
       "      <td>...</td>\n",
       "      <td>...</td>\n",
       "      <td>...</td>\n",
       "    </tr>\n",
       "    <tr>\n",
       "      <th>12852</th>\n",
       "      <td>75086130432907868</td>\n",
       "      <td>12345</td>\n",
       "      <td>12852</td>\n",
       "      <td>presyn</td>\n",
       "      <td>1406820.250</td>\n",
       "      <td>1244190.000</td>\n",
       "      <td>138925.203125</td>\n",
       "      <td>100</td>\n",
       "    </tr>\n",
       "    <tr>\n",
       "      <th>12853</th>\n",
       "      <td>75086130432907868</td>\n",
       "      <td>12345</td>\n",
       "      <td>12853</td>\n",
       "      <td>postsyn</td>\n",
       "      <td>1407209.875</td>\n",
       "      <td>1244190.000</td>\n",
       "      <td>138450.156250</td>\n",
       "      <td>100</td>\n",
       "    </tr>\n",
       "    <tr>\n",
       "      <th>12854</th>\n",
       "      <td>75086130432907868</td>\n",
       "      <td>12345</td>\n",
       "      <td>12854</td>\n",
       "      <td>postsyn</td>\n",
       "      <td>1407390.375</td>\n",
       "      <td>1244160.125</td>\n",
       "      <td>138724.828125</td>\n",
       "      <td>100</td>\n",
       "    </tr>\n",
       "    <tr>\n",
       "      <th>12855</th>\n",
       "      <td>75086130432907868</td>\n",
       "      <td>12345</td>\n",
       "      <td>12855</td>\n",
       "      <td>postsyn</td>\n",
       "      <td>1407030.250</td>\n",
       "      <td>1244190.000</td>\n",
       "      <td>138300.218750</td>\n",
       "      <td>100</td>\n",
       "    </tr>\n",
       "    <tr>\n",
       "      <th>12856</th>\n",
       "      <td>75086130432907868</td>\n",
       "      <td>12345</td>\n",
       "      <td>12856</td>\n",
       "      <td>postsyn</td>\n",
       "      <td>1402566.000</td>\n",
       "      <td>1230619.875</td>\n",
       "      <td>127604.468750</td>\n",
       "      <td>100</td>\n",
       "    </tr>\n",
       "  </tbody>\n",
       "</table>\n",
       "<p>12857 rows × 8 columns</p>\n",
       "</div>"
      ],
      "text/plain": [
       "              segment_id  segment_id_secondary  synapse_id  prepost  \\\n",
       "0      75086130432907868                 12345           0  postsyn   \n",
       "1      75086130432907868                 12345           1  postsyn   \n",
       "2      75086130432907868                 12345           2   presyn   \n",
       "3      75086130432907868                 12345           3   presyn   \n",
       "4      75086130432907868                 12345           4  postsyn   \n",
       "...                  ...                   ...         ...      ...   \n",
       "12852  75086130432907868                 12345       12852   presyn   \n",
       "12853  75086130432907868                 12345       12853  postsyn   \n",
       "12854  75086130432907868                 12345       12854  postsyn   \n",
       "12855  75086130432907868                 12345       12855  postsyn   \n",
       "12856  75086130432907868                 12345       12856  postsyn   \n",
       "\n",
       "         synapse_x    synapse_y      synapse_z  synapse_size  \n",
       "0      1320479.625  1198169.875   96525.062500           100  \n",
       "1      1319369.875  1199400.000   96275.156250           100  \n",
       "2      1314868.750  1200367.375   91880.109375           100  \n",
       "3      1312006.125  1200424.375   88742.367188           100  \n",
       "4      1311798.000  1200420.000   88685.046875           100  \n",
       "...            ...          ...            ...           ...  \n",
       "12852  1406820.250  1244190.000  138925.203125           100  \n",
       "12853  1407209.875  1244190.000  138450.156250           100  \n",
       "12854  1407390.375  1244160.125  138724.828125           100  \n",
       "12855  1407030.250  1244190.000  138300.218750           100  \n",
       "12856  1402566.000  1230619.875  127604.468750           100  \n",
       "\n",
       "[12857 rows x 8 columns]"
      ]
     },
     "execution_count": 9,
     "metadata": {},
     "output_type": "execute_result"
    }
   ],
   "source": [
    "import numpy as np\n",
    "import pandas as pd\n",
    "from datasci_tools import pandas_utils as pu\n",
    "from pathlib import Path\n",
    "\n",
    "def mesh_vertices_sampling(\n",
    "    mesh,\n",
    "    sampling_rate = 0.05,\n",
    "    n_samples = None,\n",
    "    verbose = False):\n",
    "    \"\"\"\n",
    "    Purpsoe\n",
    "    -------\n",
    "    perform a random sampling of vertices of a mesh\n",
    "\n",
    "    Application\n",
    "    -----------\n",
    "    Can use those vertices for example synapse coordinates\n",
    "\n",
    "    Example\n",
    "    ------\n",
    "        \n",
    "    syn_coords = mesh_vertices_sampling(mesh,**kwargs)\n",
    "    syn_coords\n",
    "    \"\"\"\n",
    "    \n",
    "    verts = np.array(mesh.vertices)\n",
    "    vert_num = len(verts)\n",
    "    if n_samples is None:\n",
    "        n_samples = int(sampling_rate*vert_num)\n",
    "    rand_int = np.unique(np.random.randint(0,vert_num,size = (n_samples,)))\n",
    "    coords = verts[rand_int,:]\n",
    "    return coords\n",
    "\n",
    "def synapse_df_dummy(\n",
    "    mesh,\n",
    "    segment_id,\n",
    "    syn_coords = None,\n",
    "    segment_id_secondary = 12345,\n",
    "    prepost =None,\n",
    "    synapse_size = 100,\n",
    "    **kwargs\n",
    "    ):\n",
    "    \"\"\"\n",
    "    Purpose\n",
    "    -------\n",
    "    To creae a dataframe with the following columns:\n",
    "\n",
    "    'segment_id',\n",
    "    'segment_id_secondary',\n",
    "    'synapse_id',\n",
    "    'prepost',\n",
    "    'synapse_x',\n",
    "    'synapse_y',\n",
    "    'synapse_z',\n",
    "    'synapse_size'\n",
    "    \"\"\"\n",
    "        \n",
    "\n",
    "    if syn_coords is None:\n",
    "        syn_coords = mesh_vertices_sampling(mesh,**kwargs)\n",
    "\n",
    "    syn_ids = np.arange(len(syn_coords)).astype('int')\n",
    "\n",
    "    df = pd.DataFrame()\n",
    "    df[['synapse_x','synapse_y','synapse_z']] = syn_coords\n",
    "    df['segment_id'] = segment_id\n",
    "    df['segment_id_secondary'] = segment_id_secondary\n",
    "    df['synapse_id'] = syn_ids\n",
    "    if prepost is None:\n",
    "        #prepost = np.array(['presyn','postsyn'])[np.random.randint(0,1,(len(syn_ids),))]\n",
    "        prepost = np.random.choice(['presyn','postsyn'],size = len(syn_ids), replace = True)\n",
    "    df['prepost'] = prepost\n",
    "    df['synapse_size'] = synapse_size\n",
    "    df = df[[\n",
    "        'segment_id',\n",
    "        'segment_id_secondary',\n",
    "        'synapse_id',\n",
    "        'prepost',\n",
    "        'synapse_x',\n",
    "        'synapse_y',\n",
    "        'synapse_z',\n",
    "        'synapse_size'\n",
    "    ]]\n",
    "    return df\n",
    "            \n",
    "syn_df = synapse_df_dummy(mesh,segment_id)    \n",
    "syn_df"
   ]
  },
  {
   "cell_type": "code",
   "execution_count": 10,
   "id": "fbe0532e-4ac2-4112-a822-5dfacf1df53d",
   "metadata": {},
   "outputs": [],
   "source": [
    "synapse_filepath = pu.df_to_csv(syn_df,Path(data_directory) / Path(f\"{segment_id}_synapses.csv\"))\n",
    "pu.csv_to_df(synapse_filepath)\n",
    "vdi.set_synapse_filepath(\n",
    "    synapse_filepath\n",
    ")"
   ]
  },
  {
   "cell_type": "code",
   "execution_count": 11,
   "id": "5e7fc401-044b-4e87-b78f-1bfa41c9b0b1",
   "metadata": {},
   "outputs": [
    {
     "name": "stderr",
     "output_type": "stream",
     "text": [
      "/usr/local/lib/python3.8/dist-packages/traittypes/traittypes.py:97: UserWarning: Given trait value dtype \"float64\" does not match required type \"float64\". A coerced copy has been created.\n",
      "  warnings.warn(\n"
     ]
    },
    {
     "data": {
      "application/vnd.jupyter.widget-view+json": {
       "model_id": "9bec1e4bf7d8411aaaea330f6b62acb1",
       "version_major": 2,
       "version_minor": 0
      },
      "text/plain": [
       "HBox(children=(FloatSlider(value=0.3, description='Size', max=3.0), Dropdown(description='Geo', index=3, optio…"
      ]
     },
     "metadata": {},
     "output_type": "display_data"
    },
    {
     "data": {
      "application/vnd.jupyter.widget-view+json": {
       "model_id": "6b46c83092c14f3f9ac71922c36659f0",
       "version_major": 2,
       "version_minor": 0
      },
      "text/plain": [
       "Container(figure=Figure(box_center=[0.5, 0.5, 0.5], box_size=[1.0, 1.0, 1.0], camera=PerspectiveCamera(fov=45.…"
      ]
     },
     "metadata": {},
     "output_type": "display_data"
    }
   ],
   "source": [
    "# Plotting the dummy synapses to see if they mapped well\n",
    "coords = syn_df[['synapse_x','synapse_y','synapse_z']]\n",
    "nviz.plot_objects(mesh,scatters=coords)"
   ]
  },
  {
   "cell_type": "code",
   "execution_count": 12,
   "id": "0cfc1789",
   "metadata": {},
   "outputs": [
    {
     "data": {
      "text/plain": [
       "<datasci_tools.pipeline.PipelineProducts at 0x7fbc352b13d0>"
      ]
     },
     "execution_count": 12,
     "metadata": {},
     "output_type": "execute_result"
    }
   ],
   "source": [
    "from datasci_tools import pipeline\n",
    "\n",
    "products = pipeline.PipelineProducts()\n",
    "products"
   ]
  },
  {
   "cell_type": "markdown",
   "id": "7a30c933",
   "metadata": {},
   "source": [
    "# Step 1: Decimation"
   ]
  },
  {
   "cell_type": "code",
   "execution_count": 13,
   "id": "29e0844f",
   "metadata": {},
   "outputs": [
    {
     "data": {
      "text/plain": [
       "\"\\nNOTE: an already decimated mesh is used for the example\\nin order to speed up time, that's why the mesh_dec\\nobject will be overwritten with original mesh object\\n\""
      ]
     },
     "execution_count": 13,
     "metadata": {},
     "output_type": "execute_result"
    }
   ],
   "source": [
    "\"\"\"\n",
    "NOTE: an already decimated mesh is used for the example\n",
    "in order to speed up time, that's why the mesh_dec\n",
    "object will be overwritten with original mesh object\n",
    "\"\"\""
   ]
  },
  {
   "cell_type": "code",
   "execution_count": 14,
   "id": "cdbb6e70",
   "metadata": {},
   "outputs": [],
   "source": [
    "decimation_parameters = dict(\n",
    "    decimation_ratio = 0.25,\n",
    ")"
   ]
  },
  {
   "cell_type": "code",
   "execution_count": 15,
   "id": "b3973f2c",
   "metadata": {
    "scrolled": true
   },
   "outputs": [
    {
     "name": "stdout",
     "output_type": "stream",
     "text": [
      "xvfb-run -n 2169 -s \"-screen 0 800x600x24\" meshlabserver $@  -i /neurd_packages/neuron_mesh_tools/CONNECTS/Chen_Lab/temp/neuron_51627.off -o /neurd_packages/neuron_mesh_tools/CONNECTS/Chen_Lab/temp/neuron_51627_decimated.off -s /neurd_packages/neuron_mesh_tools/CONNECTS/Chen_Lab/temp/decimation_meshlab_25997247.mls\n",
      "Total time = 15.455748319625854\n"
     ]
    }
   ],
   "source": [
    "import time\n",
    "\n",
    "st = time.time()\n",
    "mesh_decimated = tu.decimate(\n",
    "    mesh,\n",
    "    **decimation_parameters\n",
    ")\n",
    "\n",
    "print(f\"Total time = {time.time() - st}\")"
   ]
  },
  {
   "cell_type": "code",
   "execution_count": 16,
   "id": "bbf7c8d0",
   "metadata": {},
   "outputs": [
    {
     "name": "stdout",
     "output_type": "stream",
     "text": [
      "{\n",
      "  'decimation':\n",
      "  {\n",
      "    'decimation_parameters':\n",
      "    {\n",
      "      'decimation_ratio':0.25,\n",
      "    },\n",
      "    'segment_id':75086130432907868,\n",
      "  },\n",
      "}\n",
      "\n"
     ]
    }
   ],
   "source": [
    "# saving any parameters used or output products for later use\n",
    "products.set_stage_attrs(\n",
    "    stage = \"decimation\",\n",
    "    attr_dict = dict(\n",
    "        decimation_parameters = decimation_parameters,\n",
    "        segment_id = segment_id,\n",
    "    ),\n",
    "    \n",
    ")\n",
    "\n",
    "print(products)"
   ]
  },
  {
   "cell_type": "code",
   "execution_count": 17,
   "id": "abc15b5d-cd91-4cdc-a5f5-17e0f3622b42",
   "metadata": {},
   "outputs": [
    {
     "data": {
      "application/vnd.jupyter.widget-view+json": {
       "model_id": "97ce387783ca4dc29843282815f825d9",
       "version_major": 2,
       "version_minor": 0
      },
      "text/plain": [
       "Container(figure=Figure(box_center=[0.5, 0.5, 0.5], box_size=[1.0, 1.0, 1.0], camera=PerspectiveCamera(fov=45.…"
      ]
     },
     "metadata": {},
     "output_type": "display_data"
    }
   ],
   "source": [
    "nviz.plot_objects(mesh_decimated)"
   ]
  },
  {
   "cell_type": "markdown",
   "id": "bc57fd52",
   "metadata": {},
   "source": [
    "# Step 2: Soma Identification"
   ]
  },
  {
   "cell_type": "code",
   "execution_count": 18,
   "id": "8866641c",
   "metadata": {},
   "outputs": [],
   "source": [
    "from neurd import soma_extraction_utils as sm\n",
    "\n",
    "soma_extraction_parameters = dict(\n",
    "    #max_n_mesh_facer = 100\n",
    ")"
   ]
  },
  {
   "cell_type": "code",
   "execution_count": 19,
   "id": "b6ff9777",
   "metadata": {
    "scrolled": true
   },
   "outputs": [
    {
     "name": "stdout",
     "output_type": "stream",
     "text": [
      "Current Arguments Using (adjusted for decimation):\n",
      " large_mesh_threshold= 2500.0 \n",
      "large_mesh_threshold_inner = 2500.0 \n",
      "soma_size_threshold = 562.5 \n",
      "soma_size_threshold_max = 75000.0\n",
      "outer_decimation_ratio = 0.25\n",
      "inner_decimation_ratio = 0.25\n",
      "max_mesh_sized_filtered_away = 22500.0\n",
      "xvfb-run -n 8220 -s \"-screen 0 800x600x24\" meshlabserver $@  -i /neurd_packages/neuron_mesh_tools/CONNECTS/Chen_Lab/temp/neuron_88187.off -o /neurd_packages/neuron_mesh_tools/CONNECTS/Chen_Lab/temp/neuron_88187_remove_interior.off -s /neurd_packages/neuron_mesh_tools/CONNECTS/Chen_Lab/temp/remove_interior_113482.mls\n",
      "removed temporary input file: /neurd_packages/neuron_mesh_tools/CONNECTS/Chen_Lab/temp/neuron_88187.off\n",
      "removed temporary output file: /neurd_packages/neuron_mesh_tools/CONNECTS/Chen_Lab/temp/neuron_88187_remove_interior.off\n",
      "/neurd_packages/neuron_mesh_tools/CONNECTS/Chen_Lab/temp/remove_interior_113482.mls is being deleted....\n",
      "There were 1 total interior meshes\n",
      "Pieces satisfying glia requirements (volume) (x >= 2500000000000): 0\n",
      "Pieces satisfying nuclie requirements: n_faces (700 <= x) and volume (x < 2500000000000) : 1\n",
      "inside remove_mesh_interior and using precomputed inside_pieces\n",
      "Removing the following inside neurons: [<trimesh.Trimesh(vertices.shape=(4646, 3), faces.shape=(9304, 3))>]\n",
      "\n",
      "\n",
      "Original Mesh size: 132302, Final mesh size: 122998\n",
      "Total time = 7.480062246322632\n",
      "xvfb-run -n 633 -s \"-screen 0 800x600x24\" meshlabserver $@  -i /neurd_packages/neuron_mesh_tools/CONNECTS/Chen_Lab/12345/neuron_12345.off -o /neurd_packages/neuron_mesh_tools/CONNECTS/Chen_Lab/12345/neuron_12345_decimated.off -s /neurd_packages/neuron_mesh_tools/CONNECTS/Chen_Lab/12345/decimation_meshlab_25121477.mls\n",
      "Total found significant pieces before Poisson = [<trimesh.Trimesh(vertices.shape=(14889, 3), faces.shape=(30102, 3))>]\n",
      "----- working on large mesh #0: <trimesh.Trimesh(vertices.shape=(14889, 3), faces.shape=(30102, 3))>\n",
      "remove_inside_pieces requested \n",
      "xvfb-run -n 1690 -s \"-screen 0 800x600x24\" meshlabserver $@  -i /neurd_packages/neuron_mesh_tools/CONNECTS/Chen_Lab/temp/neuron_78873.off -o /neurd_packages/neuron_mesh_tools/CONNECTS/Chen_Lab/temp/neuron_78873_remove_interior.off -s /neurd_packages/neuron_mesh_tools/CONNECTS/Chen_Lab/temp/remove_interior_607750.mls\n",
      "removed temporary input file: /neurd_packages/neuron_mesh_tools/CONNECTS/Chen_Lab/temp/neuron_78873.off\n",
      "removed temporary output file: /neurd_packages/neuron_mesh_tools/CONNECTS/Chen_Lab/temp/neuron_78873_remove_interior.off\n",
      "/neurd_packages/neuron_mesh_tools/CONNECTS/Chen_Lab/temp/remove_interior_607750.mls is being deleted....\n",
      "No significant (1000) interior meshes present\n",
      "largest is 44\n",
      "pre_largest_mesh_path = /neurd_packages/neuron_mesh_tools/CONNECTS/Chen_Lab/12345/neuron_12345_decimated_largest_piece.off\n",
      "xvfb-run -n 6598 -s \"-screen 0 800x600x24\" meshlabserver $@  -i /neurd_packages/neuron_mesh_tools/CONNECTS/Chen_Lab/12345/neuron_12345_decimated_largest_piece.off -o /neurd_packages/neuron_mesh_tools/CONNECTS/Chen_Lab/12345/neuron_12345_decimated_largest_piece_poisson.off -s /neurd_packages/neuron_mesh_tools/CONNECTS/Chen_Lab/12345/poisson_427846.mls\n",
      "Total found significant pieces AFTER Poisson = [<trimesh.Trimesh(vertices.shape=(14516, 3), faces.shape=(29028, 3))>]\n",
      "----- working on mesh after poisson #0: <trimesh.Trimesh(vertices.shape=(14516, 3), faces.shape=(29028, 3))>\n",
      "xvfb-run -n 3243 -s \"-screen 0 800x600x24\" meshlabserver $@  -i /neurd_packages/neuron_mesh_tools/CONNECTS/Chen_Lab/12345/neuron_12345_decimated_largest_piece_poisson_largest_inner.off -o /neurd_packages/neuron_mesh_tools/CONNECTS/Chen_Lab/12345/neuron_12345_decimated_largest_piece_poisson_largest_inner_decimated.off -s /neurd_packages/neuron_mesh_tools/CONNECTS/Chen_Lab/12345/decimation_meshlab_25405259.mls\n",
      "\n",
      "-------Splits after inner decimation len = 1--------\n",
      "\n",
      "done exporting decimated mesh: neuron_12345_decimated_largest_piece_poisson_largest_inner.off\n",
      "\n",
      "    --- On segmentation loop 0 --\n",
      "largest_mesh_path_inner_decimated_clean = <trimesh.Trimesh(vertices.shape=(3628, 3), faces.shape=(7252, 3))>\n",
      "\n",
      "largest_mesh_path_inner_decimated_clean = <trimesh.Trimesh(vertices.shape=(3628, 3), faces.shape=(7252, 3))>\n",
      "soma_size_threshold = 562.5\n",
      "soma_size_threshold_max = 75000.0\n",
      "soma_width_threshold = 0.32\n",
      "\n",
      "Number of segments: 10\n",
      "\n"
     ]
    },
    {
     "data": {
      "application/vnd.jupyter.widget-view+json": {
       "model_id": "5238ab486b204b5fbe4d8cefa20315b1",
       "version_major": 2,
       "version_minor": 0
      },
      "text/plain": [
       "  0%|          | 0/10 [00:00<?, ?it/s]"
      ]
     },
     "metadata": {},
     "output_type": "display_data"
    },
    {
     "name": "stdout",
     "output_type": "stream",
     "text": [
      "      ------ Found 1 viable somas: [0.880647]\n",
      "Using Poisson Surface Reconstruction for watertightness in soma_volume_ratio\n",
      "xvfb-run -n 5719 -s \"-screen 0 800x600x24\" meshlabserver $@  -i /neurd_packages/neuron_mesh_tools/CONNECTS/Chen_Lab/Poisson_temp/neuron_694954.off -o /neurd_packages/neuron_mesh_tools/CONNECTS/Chen_Lab/Poisson_temp/neuron_694954_poisson.off -s /neurd_packages/neuron_mesh_tools/CONNECTS/Chen_Lab/Poisson_temp/poisson_819770.mls\n",
      "removed temporary input file: /neurd_packages/neuron_mesh_tools/CONNECTS/Chen_Lab/Poisson_temp/neuron_694954.off\n",
      "removed temporary output file: /neurd_packages/neuron_mesh_tools/CONNECTS/Chen_Lab/Poisson_temp/neuron_694954_poisson.off\n",
      "mesh.is_watertight = True\n",
      "/neurd_packages/neuron_mesh_tools/CONNECTS/Chen_Lab/Poisson_temp/poisson_819770.mls is being deleted....\n",
      "Inside sphere validater: ratio_val = 2.4050880795597904\n",
      "\n",
      "\n",
      "\n",
      " Total time for run = 34.565722942352295\n",
      "Before Filtering the number of somas found = 1\n",
      "\n",
      "---Performing Soma Mesh Backtracking to original mesh for poisson soma 0\n",
      "backtrack_soma_size_threshold = 8000\n",
      "xvfb-run -n 4266 -s \"-screen 0 800x600x24\" meshlabserver $@  -i /neurd_packages/neuron_mesh_tools/CONNECTS/Chen_Lab/temp/neuron_92678.off -o /neurd_packages/neuron_mesh_tools/CONNECTS/Chen_Lab/temp/neuron_92678_fill_holes.off -s /neurd_packages/neuron_mesh_tools/CONNECTS/Chen_Lab/temp/fill_holes_441639.mls\n",
      "removed temporary input file: /neurd_packages/neuron_mesh_tools/CONNECTS/Chen_Lab/temp/neuron_92678.off\n",
      "removed temporary output file: /neurd_packages/neuron_mesh_tools/CONNECTS/Chen_Lab/temp/neuron_92678_fill_holes.off\n",
      "/neurd_packages/neuron_mesh_tools/CONNECTS/Chen_Lab/temp/fill_holes_441639.mls is being deleted....\n",
      "xvfb-run -n 2725 -s \"-screen 0 800x600x24\" meshlabserver $@  -i /neurd_packages/neuron_mesh_tools/CONNECTS/Chen_Lab/temp/neuron_25306.off -o /neurd_packages/neuron_mesh_tools/CONNECTS/Chen_Lab/temp/neuron_25306_remove_interior.off -s /neurd_packages/neuron_mesh_tools/CONNECTS/Chen_Lab/temp/remove_interior_433278.mls\n",
      "removed temporary input file: /neurd_packages/neuron_mesh_tools/CONNECTS/Chen_Lab/temp/neuron_25306.off\n",
      "removed temporary output file: /neurd_packages/neuron_mesh_tools/CONNECTS/Chen_Lab/temp/neuron_25306_remove_interior.off\n",
      "/neurd_packages/neuron_mesh_tools/CONNECTS/Chen_Lab/temp/remove_interior_433278.mls is being deleted....\n",
      "No significant (300) interior meshes present\n",
      "largest is 162\n",
      "split_meshes_after_backtrack = [<trimesh.Trimesh(vertices.shape=(8581, 3), faces.shape=(17030, 3))>]\n",
      "soma_size_threshold = 8000\n",
      "After backtrack the found 1 possible somas: [<trimesh.Trimesh(vertices.shape=(8581, 3), faces.shape=(17030, 3))>] \n",
      "\n",
      "--- working on backtrack soma 0: <trimesh.Trimesh(vertices.shape=(8581, 3), faces.shape=(17030, 3))>\n",
      "poisson_backtrack_distance_threshold = None\n",
      "Using Poisson Surface Reconstruction for watertightness in soma_volume_ratio\n",
      "xvfb-run -n 2311 -s \"-screen 0 800x600x24\" meshlabserver $@  -i /neurd_packages/neuron_mesh_tools/CONNECTS/Chen_Lab/Poisson_temp/neuron_385597.off -o /neurd_packages/neuron_mesh_tools/CONNECTS/Chen_Lab/Poisson_temp/neuron_385597_poisson.off -s /neurd_packages/neuron_mesh_tools/CONNECTS/Chen_Lab/Poisson_temp/poisson_667986.mls\n",
      "removed temporary input file: /neurd_packages/neuron_mesh_tools/CONNECTS/Chen_Lab/Poisson_temp/neuron_385597.off\n",
      "removed temporary output file: /neurd_packages/neuron_mesh_tools/CONNECTS/Chen_Lab/Poisson_temp/neuron_385597_poisson.off\n",
      "mesh.is_watertight = True\n",
      "/neurd_packages/neuron_mesh_tools/CONNECTS/Chen_Lab/Poisson_temp/poisson_667986.mls is being deleted....\n",
      "Inside sphere validater: ratio_val = 3.714913548246219\n",
      "Skipping the segmentatio filter at end\n",
      "removing mesh interior before segmentation\n",
      "xvfb-run -n 3628 -s \"-screen 0 800x600x24\" meshlabserver $@  -i /neurd_packages/neuron_mesh_tools/CONNECTS/Chen_Lab/temp/neuron_62681.off -o /neurd_packages/neuron_mesh_tools/CONNECTS/Chen_Lab/temp/neuron_62681_fill_holes.off -s /neurd_packages/neuron_mesh_tools/CONNECTS/Chen_Lab/temp/fill_holes_893155.mls\n",
      "removed temporary input file: /neurd_packages/neuron_mesh_tools/CONNECTS/Chen_Lab/temp/neuron_62681.off\n",
      "removed temporary output file: /neurd_packages/neuron_mesh_tools/CONNECTS/Chen_Lab/temp/neuron_62681_fill_holes.off\n",
      "/neurd_packages/neuron_mesh_tools/CONNECTS/Chen_Lab/temp/fill_holes_893155.mls is being deleted....\n",
      "xvfb-run -n 5201 -s \"-screen 0 800x600x24\" meshlabserver $@  -i /neurd_packages/neuron_mesh_tools/CONNECTS/Chen_Lab/temp/neuron_63262.off -o /neurd_packages/neuron_mesh_tools/CONNECTS/Chen_Lab/temp/neuron_63262_remove_interior.off -s /neurd_packages/neuron_mesh_tools/CONNECTS/Chen_Lab/temp/remove_interior_514500.mls\n",
      "removed temporary input file: /neurd_packages/neuron_mesh_tools/CONNECTS/Chen_Lab/temp/neuron_63262.off\n",
      "removed temporary output file: /neurd_packages/neuron_mesh_tools/CONNECTS/Chen_Lab/temp/neuron_63262_remove_interior.off\n",
      "/neurd_packages/neuron_mesh_tools/CONNECTS/Chen_Lab/temp/remove_interior_514500.mls is being deleted....\n",
      "No significant (1000) interior meshes present\n",
      "largest is 155\n",
      "Doing the soma segmentation filter at end\n",
      "\n",
      "Number of segments: 9\n",
      "\n"
     ]
    },
    {
     "data": {
      "application/vnd.jupyter.widget-view+json": {
       "model_id": "bb26656b2fb94cc890050a40f509953f",
       "version_major": 2,
       "version_minor": 0
      },
      "text/plain": [
       "  0%|          | 0/9 [00:00<?, ?it/s]"
      ]
     },
     "metadata": {},
     "output_type": "display_data"
    },
    {
     "name": "stdout",
     "output_type": "stream",
     "text": [
      "Largest hole before segmentation = 62912.79710860358, after = 89613.42520974492,\n",
      "\n",
      "ratio = 1.4244069462537046, difference = 26700.628101141338\n",
      "filtered_soma_list_components = [<trimesh.Trimesh(vertices.shape=(8581, 3), faces.shape=(17030, 3))>]\n",
      "Not need to do a second pass because already found a soma\n"
     ]
    }
   ],
   "source": [
    "from neurd import neuron_visualizations as nviz\n",
    "verbose = True\n",
    "\n",
    "soma_products = sm.soma_indentification(\n",
    "    mesh_decimated,\n",
    "    verbose=verbose,\n",
    "    **soma_extraction_parameters\n",
    ")"
   ]
  },
  {
   "cell_type": "code",
   "execution_count": 20,
   "id": "7b8e60ff-eac6-4447-9889-148685e7fef3",
   "metadata": {},
   "outputs": [
    {
     "data": {
      "application/vnd.jupyter.widget-view+json": {
       "model_id": "11bd6fc2c0d44b479a0a4de7b963fab3",
       "version_major": 2,
       "version_minor": 0
      },
      "text/plain": [
       "Container(figure=Figure(box_center=[0.5, 0.5, 0.5], box_size=[1.0, 1.0, 1.0], camera=PerspectiveCamera(fov=45.…"
      ]
     },
     "metadata": {},
     "output_type": "display_data"
    }
   ],
   "source": [
    "from datasci_tools import ipyvolume_utils as ipvu \n",
    "ipvu.plot_objects(\n",
    "    meshes = soma_products.soma_meshes,# + soma_products.nuclei_meshes,\n",
    "    meshes_colors=\"random\",\n",
    ")"
   ]
  },
  {
   "cell_type": "code",
   "execution_count": 21,
   "id": "6a79d754",
   "metadata": {},
   "outputs": [
    {
     "name": "stdout",
     "output_type": "stream",
     "text": [
      "# of somas = 1\n",
      "# of glia = 0\n",
      "# of nuclei = 1\n"
     ]
    },
    {
     "data": {
      "application/vnd.jupyter.widget-view+json": {
       "model_id": "0bfa229fcbd249f89cad92ebbfe38e02",
       "version_major": 2,
       "version_minor": 0
      },
      "text/plain": [
       "Container(figure=Figure(box_center=[0.5, 0.5, 0.5], box_size=[1.0, 1.0, 1.0], camera=PerspectiveCamera(fov=45.…"
      ]
     },
     "metadata": {},
     "output_type": "display_data"
    }
   ],
   "source": [
    "sm.plot_soma_products(\n",
    "    mesh_decimated,\n",
    "    soma_products = soma_products,\n",
    "    verbose = True\n",
    ")"
   ]
  },
  {
   "cell_type": "code",
   "execution_count": 22,
   "id": "e43e9f14",
   "metadata": {},
   "outputs": [],
   "source": [
    "soma_products.soma_extraction_parameters = soma_extraction_parameters"
   ]
  },
  {
   "cell_type": "code",
   "execution_count": 23,
   "id": "a5056278",
   "metadata": {},
   "outputs": [
    {
     "name": "stdout",
     "output_type": "stream",
     "text": [
      "{\n",
      "  'decimation':\n",
      "  {\n",
      "    'decimation_parameters':\n",
      "    {\n",
      "      'decimation_ratio':0.25,\n",
      "    },\n",
      "    'segment_id':75086130432907868,\n",
      "  },\n",
      "  'soma_identification':\n",
      "  {\n",
      "    'glia_meshes':[],\n",
      "    'nuclei_meshes':[<trimesh.Trimesh(vertices.shape=(4646, 3), faces.shape=(9304, 3))>],\n",
      "    'soma_extraction_parameters':\n",
      "    {\n",
      "    },\n",
      "    'soma_meshes':[<trimesh.Trimesh(vertices.shape=(8581, 3), faces.shape=(17030, 3))>],\n",
      "    'soma_run_time':34.56571936607361,\n",
      "    'soma_sdfs':array([0.880647]),\n",
      "  },\n",
      "}\n",
      "\n"
     ]
    }
   ],
   "source": [
    "products.set_stage_attrs(\n",
    "    stage = \"soma_identification\",\n",
    "    attr_dict = soma_products,\n",
    ")\n",
    "\n",
    "print(products)"
   ]
  },
  {
   "cell_type": "markdown",
   "id": "da45be47",
   "metadata": {},
   "source": [
    "# Step 2b: Saving off pipeline products"
   ]
  },
  {
   "cell_type": "code",
   "execution_count": 24,
   "id": "c99ef858",
   "metadata": {
    "scrolled": true
   },
   "outputs": [
    {
     "name": "stdout",
     "output_type": "stream",
     "text": [
      "Saved object at /neurd_packages/neuron_mesh_tools/CONNECTS/Chen_Lab/products_up_to_soma_stage.pkl\n",
      "File size is 7.746181 MB\n",
      "Cleared mesh: <trimesh.Trimesh(vertices.shape=(4646, 3), faces.shape=(9304, 3))>:140449609655728\n",
      "Cleared mesh: <trimesh.Trimesh(vertices.shape=(8581, 3), faces.shape=(17030, 3))>:140449343478944\n"
     ]
    }
   ],
   "source": [
    "from datasci_tools import system_utils as su\n",
    "su.save_object(\n",
    "    products,\"products_up_to_soma_stage\"\n",
    ")"
   ]
  },
  {
   "cell_type": "markdown",
   "id": "bfdbcc82",
   "metadata": {},
   "source": [
    "# Step 3: Decomposition"
   ]
  },
  {
   "cell_type": "code",
   "execution_count": 25,
   "id": "84193a27",
   "metadata": {
    "scrolled": true
   },
   "outputs": [
    {
     "name": "stdout",
     "output_type": "stream",
     "text": [
      "--- 0) Having to preprocess the Neuron becuase no preprocessed data\n",
      "Please wait this could take a while.....\n",
      "Skipping the hole filling\n",
      "limb_remove_mesh_interior_face_threshold = 0\n",
      "use_meshafterparty = True\n",
      "Using pre-computed somas: soma_mesh_list = [<trimesh.Trimesh(vertices.shape=(8581, 3), faces.shape=(17030, 3))>]\n",
      "Soma List = [<trimesh.Trimesh(vertices.shape=(8581, 3), faces.shape=(17030, 3))>]\n",
      "soma_mesh_list_centers = [array([1344937.54329332, 1205760.83160471,  139424.80647943])]\n",
      "Getting Glia and Nuclei Pieces Subtracted Away 0.031423330307006836\n",
      " Splitting mesh after soma cancellation 0.11534929275512695\n",
      "# of split_meshes = 7\n",
      " Containing Mesh Indices 0.006861686706542969\n",
      "containing_mesh_indices = {0: 0}\n",
      " non_soma_touching_meshes 1.3113021850585938e-05\n",
      "There were 6 pieces found after size threshold\n",
      " Finding inside pieces and non_soma_touching meshes 0.2932088375091553\n",
      "soma_containing_meshes = {0: [0]}\n",
      "\n",
      "-----Before combining multiple mesh pieces-----\n",
      "soma_containing_meshes = {0: [0]}\n",
      "\n",
      "-----After combining multiple mesh pieces-----\n",
      "soma_containing_meshes = {0: [0]}\n",
      "\n",
      "\n",
      "----Working on soma-containing mesh piece 0----\n",
      "Total time for Subtract Soma and Original_mesh_faces_map for somas= 0.1264514923095703\n",
      "new_floating_pieces = []\n",
      "Total time for sig_non_soma_pieces= 0.3576974868774414\n",
      "Not applying expansions\n",
      "Total time for split= 5.245208740234375e-06\n",
      "Total time for mesh_pieces_connectivity= 0.20309710502624512\n",
      "# of insignificant_limbs = 3 with trimesh : [<trimesh.Trimesh(vertices.shape=(999, 3), faces.shape=(1976, 3))>, <trimesh.Trimesh(vertices.shape=(629, 3), faces.shape=(1252, 3))>, <trimesh.Trimesh(vertices.shape=(386, 3), faces.shape=(769, 3))>]\n",
      "# of not_processed_soma_containing_meshes = 0 with trimesh : []\n",
      "\n",
      "\n",
      "----- Working on Proper Limb # 0 ---------\n",
      "meshparty_segment_size = 100\n",
      "invalidation_d = 12000\n",
      "use_adaptive_invalidation_d= False\n",
      "axon_width_preprocess_limb_max = 200\n",
      "filter_end_node_length= 4000\n",
      "filter_end_node_length_meshparty = 4000\n",
      "invalidation_d = 12000\n",
      "root_curr = [1346702.  1212601.   144248.1]\n",
      "Time for preparing soma vertices and root: 0.00022840499877929688\n",
      "invalidation_d = 12000\n",
      "smooth_neighborhood = 1\n",
      "cc_vertex_thresh = 10\n"
     ]
    },
    {
     "name": "stderr",
     "output_type": "stream",
     "text": [
      "  0%|                                                                                                                                                                                                                          | 0/1 [00:00<?, ?it/s]"
     ]
    },
    {
     "data": {
      "application/vnd.jupyter.widget-view+json": {
       "model_id": "0835ab3c285644d29a32633cba13c0d8",
       "version_major": 2,
       "version_minor": 0
      },
      "text/plain": [
       "  0%|          | 0/19637 [00:00<?, ?it/s]"
      ]
     },
     "metadata": {},
     "output_type": "display_data"
    },
    {
     "name": "stderr",
     "output_type": "stream",
     "text": [
      "100%|██████████████████████████████████████████████████████████████████████████████████████████████████████████████████████████████████████████████████████████████████████████████████████████████████████████████████| 1/1 [00:00<00:00,  6.80it/s]\n"
     ]
    },
    {
     "name": "stdout",
     "output_type": "stream",
     "text": [
      "meshparty_segment_size = 100\n",
      "Time for 1st pass MP skeletonization: 0.3312556743621826\n",
      "connecting at the root\n",
      "branches_touching_root = [12]\n",
      "combining close nodes\n",
      "combine_threshold = 700\n",
      "length of Graph = 3820\n",
      "After combining close endpoints max(kept_branches_idx) = 12, len(kept_branches_idx) = 13\n",
      "empty_indices % = 0.0\n",
      " conflict_indices % = 0.014359052556673782\n"
     ]
    },
    {
     "data": {
      "application/vnd.jupyter.widget-view+json": {
       "model_id": "96e930adbe26425ebee06998c5e238fb",
       "version_major": 2,
       "version_minor": 0
      },
      "text/plain": [
       "  0%|          | 0/6 [00:00<?, ?it/s]"
      ]
     },
     "metadata": {},
     "output_type": "display_data"
    },
    {
     "data": {
      "application/vnd.jupyter.widget-view+json": {
       "model_id": "d41d197b192d49268845f840f6b8b2bf",
       "version_major": 2,
       "version_minor": 0
      },
      "text/plain": [
       "  0%|          | 0/13 [00:00<?, ?it/s]"
      ]
     },
     "metadata": {},
     "output_type": "display_data"
    },
    {
     "name": "stdout",
     "output_type": "stream",
     "text": [
      "Decomposing first pass: 2.420079231262207\n",
      "Attempting to use MeshAfterParty Skeletonization and Mesh Correspondence\n",
      "Another print\n",
      "Found len(mesh_large_idx) MAP candidates: [512, 1699, 4295, 5943, 1545, 3521, 659, 1596, 1282, 4636, 3913, 8361]\n",
      "mesh_large_connectivity: 0.07463836669921875\n",
      "Finding MAP candidates connected components: 0.00015234947204589844\n",
      "len(filtered_pieces) = 1\n",
      "skeleton_connectivity_MP : 0.019240617752075195\n",
      "Grouping MP Sublimbs by Graph: 0.0014965534210205078\n",
      "Divinding into MP and MAP pieces: 7.152557373046875e-07\n",
      "--- Working on MAP piece 0---\n",
      "MAP Filtering Soma Pieces: 0.002438068389892578\n",
      "inside skeletonize_connected_branch and use_surface_after_CGAL=True, surface_reconstruction_size=1000\n",
      "keep_idx = [0]\n",
      "     Starting Screened Poisson\n",
      "xvfb-run -n 8315 -s \"-screen 0 800x600x24\" meshlabserver $@  -i /neurd_packages/neuron_mesh_tools/CONNECTS/Chen_Lab/temp/None.off -o /neurd_packages/neuron_mesh_tools/CONNECTS/Chen_Lab/temp/None_poisson.off -s /neurd_packages/neuron_mesh_tools/CONNECTS/Chen_Lab/temp/poisson_727836.mls\n",
      "removed temporary input file: /neurd_packages/neuron_mesh_tools/CONNECTS/Chen_Lab/temp/None.off\n",
      "removed temporary output file: /neurd_packages/neuron_mesh_tools/CONNECTS/Chen_Lab/temp/None_poisson.off\n",
      "Using the close holes feature\n",
      "xvfb-run -n 9039 -s \"-screen 0 800x600x24\" meshlabserver $@  -i /neurd_packages/neuron_mesh_tools/CONNECTS/Chen_Lab/temp/neuron_96400.off -o /neurd_packages/neuron_mesh_tools/CONNECTS/Chen_Lab/temp/neuron_96400_fill_holes.off -s /neurd_packages/neuron_mesh_tools/CONNECTS/Chen_Lab/temp/fill_holes_352555.mls\n",
      "removed temporary input file: /neurd_packages/neuron_mesh_tools/CONNECTS/Chen_Lab/temp/neuron_96400.off\n",
      "removed temporary output file: /neurd_packages/neuron_mesh_tools/CONNECTS/Chen_Lab/temp/neuron_96400_fill_holes.off\n",
      "/neurd_packages/neuron_mesh_tools/CONNECTS/Chen_Lab/temp/fill_holes_352555.mls is being deleted....\n",
      "-----Time for Screened Poisson= 15.160271644592285\n",
      "mesh_pieces = [<trimesh.Trimesh(vertices.shape=(43232, 3), faces.shape=(86468, 3))>, <trimesh.Trimesh(vertices.shape=(5912, 3), faces.shape=(11820, 3))>, <trimesh.Trimesh(vertices.shape=(1256, 3), faces.shape=(2508, 3))>, <trimesh.Trimesh(vertices.shape=(936, 3), faces.shape=(1868, 3))>]\n",
      "     Starting Calcification (Changed back where stitches large poissons)\n",
      "Manifold status before skeletonization = True\n",
      "Watertight status before skeletonization = True\n",
      "min_edge_length = 75\n",
      "Manifold status before skeletonization = True\n",
      "Watertight status before skeletonization = True\n",
      "min_edge_length = 75\n",
      "Manifold status before skeletonization = True\n",
      "Watertight status before skeletonization = True\n",
      "min_edge_length = 75\n",
      "Manifold status before skeletonization = True\n",
      "Watertight status before skeletonization = True\n",
      "min_edge_length = 75\n",
      "node_degrees = [2 2 2 3 2 3]\n",
      "node_degrees = [5 2 2]\n",
      "Before mesh subtraction number of skeleton edges = 2195\n"
     ]
    },
    {
     "data": {
      "application/vnd.jupyter.widget-view+json": {
       "model_id": "d41127fffa1047be86a418d725bff7d8",
       "version_major": 2,
       "version_minor": 0
      },
      "text/plain": [
       "0it [00:00, ?it/s]"
      ]
     },
     "metadata": {},
     "output_type": "display_data"
    },
    {
     "name": "stdout",
     "output_type": "stream",
     "text": [
      "len(leftover_meshes_sig) = []\n"
     ]
    },
    {
     "data": {
      "application/vnd.jupyter.widget-view+json": {
       "model_id": "33b10e6355ea41c9a9454bf82eba2750",
       "version_major": 2,
       "version_minor": 0
      },
      "text/plain": [
       "0it [00:00, ?it/s]"
      ]
     },
     "metadata": {},
     "output_type": "display_data"
    },
    {
     "name": "stdout",
     "output_type": "stream",
     "text": [
      "No skeletons to stack so returning empty list\n",
      "STacking the leftover and significant poisson skeleton\n",
      "max_stitch_distance = 5000\n",
      "len_subgraphs AT BEGINNING of the loop\n"
     ]
    },
    {
     "data": {
      "application/vnd.jupyter.widget-view+json": {
       "model_id": "33991511c5b74b09a85343b1eff045e8",
       "version_major": 2,
       "version_minor": 0
      },
      "text/plain": [
       "  0%|          | 0/4 [00:00<?, ?it/s]"
      ]
     },
     "metadata": {},
     "output_type": "display_data"
    },
    {
     "name": "stdout",
     "output_type": "stream",
     "text": [
      "all graph is one component!\n",
      "Total time for skeleton stitching = 0.15465140342712402\n",
      "The process was using a temp folder\n",
      "Checking connected components after skeletonize_connected_branch\n",
      "    Total time for skeletonizing branch: 26.577903032302856\n",
      "Checking connected components after removing cycles\n",
      "Total time for mesh KDTree = 0.2796809673309326\n",
      "sbv[0].reshape(-1,3) = [[1346702.  1212601.   144248.1]]\n",
      "closest_sk_pt_coord BEFORE = [1345470. 1212080.  144128.]\n",
      "current_skeleton.shape = (2197, 2, 3)\n",
      "node_for_stitch = 1906: [1345470. 1212080.  144128.]\n",
      "node_for_stitch AFTER = 1906: [1345470. 1212080.  144128.]\n",
      "possible_node_loc = [   0  254  433  461  463  479  649  728  774  851  977 1161 1218 1243\n",
      " 1263 1306 1632 1738 1763 1911 2197]\n",
      "possible_node_loc AFTER = [   0  254  433  461  463  479  649  728  774  851  977 1161 1218 1243\n",
      " 1263 1306 1632 1738 1763 1911 2197]\n",
      "curr_shortest_path = [1906, 1908.0, 1910.0, 1911.0]\n",
      "Current stitch point was not a branch or endpoint, shortest_path_length to one = 368.8438638036671\n",
      "Changing the stitch point becasue the distance to end or branch node was 368.8438638036671\n",
      "New stitch point has degree 1\n",
      "change_status for create soma extending pieces = True\n",
      "closest_sk_pt_coord AFTER = [1345630. 1211890.  143857.]\n",
      "skipping soma 0 because closest skeleton node was already end node\n",
      "endpoints_must_keep = {0: array([[1345630., 1211890.,  143857.]])}\n",
      "    Total time for Fixing Skeleton Soma Endpoint Extension : 1.0364649295806885\n",
      "filter_end_node_length = 4000\n"
     ]
    },
    {
     "data": {
      "application/vnd.jupyter.widget-view+json": {
       "model_id": "988800d85822495ba7817950480ef292",
       "version_major": 2,
       "version_minor": 0
      },
      "text/plain": [
       "  0%|          | 0/14 [00:00<?, ?it/s]"
      ]
     },
     "metadata": {},
     "output_type": "display_data"
    },
    {
     "name": "stdout",
     "output_type": "stream",
     "text": [
      "Checking connected components after clean_skeleton\n",
      "after DISTANCE cleaning limb size of skeleton = (2142, 2, 3)\n",
      "********COMBINING CLOSE SKELETON NODES WITHIN 700 DISTANCE**********\n",
      "combine_threshold = 700\n",
      "Found 0 valid paths to replace\n",
      "valid_paths = []\n",
      "valid_path_lengths = []\n",
      "No valid paths found so just returning the original\n",
      "skeletonize_and_clean_connected_branch_CGAL: 31.826332569122314\n",
      "Working on limb correspondence for #0 MAP piece\n",
      "xvfb-run -n 7338 -s \"-screen 0 800x600x24\" meshlabserver $@  -i /neurd_packages/neuron_mesh_tools/CONNECTS/Chen_Lab/temp/neuron_22051.off -o /neurd_packages/neuron_mesh_tools/CONNECTS/Chen_Lab/temp/neuron_22051_remove_interior.off -s /neurd_packages/neuron_mesh_tools/CONNECTS/Chen_Lab/temp/remove_interior_678956.mls\n",
      "removed temporary input file: /neurd_packages/neuron_mesh_tools/CONNECTS/Chen_Lab/temp/neuron_22051.off\n",
      "removed temporary output file: /neurd_packages/neuron_mesh_tools/CONNECTS/Chen_Lab/temp/neuron_22051_remove_interior.off\n",
      "/neurd_packages/neuron_mesh_tools/CONNECTS/Chen_Lab/temp/remove_interior_678956.mls is being deleted....\n",
      "No significant (100) interior meshes present\n",
      "largest is 99\n"
     ]
    },
    {
     "data": {
      "application/vnd.jupyter.widget-view+json": {
       "model_id": "00704344e35d4c17986f8b394afb6899",
       "version_major": 2,
       "version_minor": 0
      },
      "text/plain": [
       "0it [00:00, ?it/s]"
      ]
     },
     "metadata": {},
     "output_type": "display_data"
    },
    {
     "name": "stdout",
     "output_type": "stream",
     "text": [
      "Total time for decomposition = 8.400880098342896\n",
      "mesh_correspondence_first_pass: 8.400950908660889\n",
      "Limb decomposed into 15 branches\n",
      "divided_skeleton_graph_recovered = (2142, 2, 3) and \n",
      "current_mesh_data[0]['branch_skeletons_cleaned'].shape = (2142, 2, 3)\n",
      "\n",
      "Number of connected components in deocmposed recovered graph = 1\n",
      "Number of connected components in cleaned skeleton graph= 1\n",
      "The downsampled branches number of connected components = 1\n",
      "Empty submeshes = []\n",
      "\n",
      "\n",
      "--- Working on 1-to-1 correspondence-----\n",
      "max(original_labels),len(original_labels) = (14, 15)\n",
      "empty_indices % = 0.044096728307254626\n",
      " conflict_indices % = 0.02621042094726305\n"
     ]
    },
    {
     "data": {
      "application/vnd.jupyter.widget-view+json": {
       "model_id": "914113c8e3314b4a85558c93d8bde909",
       "version_major": 2,
       "version_minor": 0
      },
      "text/plain": [
       "  0%|          | 0/72 [00:00<?, ?it/s]"
      ]
     },
     "metadata": {},
     "output_type": "display_data"
    },
    {
     "name": "stdout",
     "output_type": "stream",
     "text": [
      "Took 0 iterations to expand the label back\n",
      "empty_indices % = 0.0\n",
      " conflict_indices % = 0.0\n"
     ]
    },
    {
     "data": {
      "application/vnd.jupyter.widget-view+json": {
       "model_id": "76615a375a204beabc27dd007e4a6b8c",
       "version_major": 2,
       "version_minor": 0
      },
      "text/plain": [
       "0it [00:00, ?it/s]"
      ]
     },
     "metadata": {},
     "output_type": "display_data"
    },
    {
     "data": {
      "application/vnd.jupyter.widget-view+json": {
       "model_id": "c4ef80680bd341d7b76c35e69ab644b0",
       "version_major": 2,
       "version_minor": 0
      },
      "text/plain": [
       "  0%|          | 0/15 [00:00<?, ?it/s]"
      ]
     },
     "metadata": {},
     "output_type": "display_data"
    },
    {
     "name": "stdout",
     "output_type": "stream",
     "text": [
      "Total time for MAP sublimb #0 mesh processing = 43.24650573730469\n",
      "correspondence_1_to_1: 3.0167346000671387\n",
      "Total time for MAP sublimb processing 43.24656534194946\n",
      "---- Working on MP Decomposition #0 ----\n",
      "Computing the current soma touching verts dict manually\n",
      "MP filtering soma verts: 0.01965022087097168\n",
      "Do Not Need to Fix MP Decomposition 0 so just continuing\n",
      "Successful mesh connectivity with type edges\n",
      "\n",
      "---- Working on (0, 0) connection-----\n",
      "sk_conn = [0]\n",
      "conn = [0]\n",
      "winning_vertex = [1251426.81938465 1259121.12856729  146139.63227744]\n",
      "MP_branches_with_stitch_point = [0]\n",
      "MAP_branches_with_stitch_point = [1]\n",
      "MAP_stitch_point_on_end_or_branch = False\n"
     ]
    },
    {
     "data": {
      "application/vnd.jupyter.widget-view+json": {
       "model_id": "4ad4b96a14ce4d9487433e37a8db48ee",
       "version_major": 2,
       "version_minor": 0
      },
      "text/plain": [
       "0it [00:00, ?it/s]"
      ]
     },
     "metadata": {},
     "output_type": "display_data"
    },
    {
     "name": "stdout",
     "output_type": "stream",
     "text": [
      "\n",
      "\n",
      "--- Working on 1-to-1 correspondence-----\n",
      "max(original_labels),len(original_labels) = (1, 2)\n",
      "empty_indices % = 0.04625684723067559\n",
      " conflict_indices % = 0.007303712720632989\n"
     ]
    },
    {
     "data": {
      "application/vnd.jupyter.widget-view+json": {
       "model_id": "67247e7399c3482abedcecb35a47c405",
       "version_major": 2,
       "version_minor": 0
      },
      "text/plain": [
       "  0%|          | 0/8 [00:00<?, ?it/s]"
      ]
     },
     "metadata": {},
     "output_type": "display_data"
    },
    {
     "data": {
      "application/vnd.jupyter.widget-view+json": {
       "model_id": "5b18c87a52d1458e90f9eab953889401",
       "version_major": 2,
       "version_minor": 0
      },
      "text/plain": [
       "  0%|          | 0/2 [00:00<?, ?it/s]"
      ]
     },
     "metadata": {},
     "output_type": "display_data"
    },
    {
     "data": {
      "application/vnd.jupyter.widget-view+json": {
       "model_id": "cd2fab26f42148139f7bd70ec1ee3c13",
       "version_major": 2,
       "version_minor": 0
      },
      "text/plain": [
       "0it [00:00, ?it/s]"
      ]
     },
     "metadata": {},
     "output_type": "display_data"
    },
    {
     "name": "stdout",
     "output_type": "stream",
     "text": [
      "\n",
      "\n",
      "--- Working on 1-to-1 correspondence-----\n",
      "max(original_labels),len(original_labels) = (2, 3)\n",
      "empty_indices % = 0.06734896005282272\n",
      " conflict_indices % = 0.0237702211951139\n"
     ]
    },
    {
     "data": {
      "application/vnd.jupyter.widget-view+json": {
       "model_id": "5a804cbb22b640eab3b3f0d6f4532a1f",
       "version_major": 2,
       "version_minor": 0
      },
      "text/plain": [
       "  0%|          | 0/10 [00:00<?, ?it/s]"
      ]
     },
     "metadata": {},
     "output_type": "display_data"
    },
    {
     "data": {
      "application/vnd.jupyter.widget-view+json": {
       "model_id": "b5de03f5946149fd82900df314454cba",
       "version_major": 2,
       "version_minor": 0
      },
      "text/plain": [
       "  0%|          | 0/3 [00:00<?, ?it/s]"
      ]
     },
     "metadata": {},
     "output_type": "display_data"
    },
    {
     "name": "stdout",
     "output_type": "stream",
     "text": [
      "Deleting branches from dictionary\n",
      "MP_branches_with_stitch_point= [0]\n",
      "MP_branches_for_correspondence = [0]\n",
      "MP_leftover = [], MP_leftover_idx = []\n",
      " Finished with (0, 0) \n",
      "\n",
      "\n",
      "\n",
      "Time for decomp of Limb = 48.46134567260742\n",
      "Number of matching vertices = 42\n",
      "Only one endpoint after filtering away the endpoints that are not on the skeleton\n",
      "Removed 0 skeletal branches\n"
     ]
    },
    {
     "data": {
      "application/vnd.jupyter.widget-view+json": {
       "model_id": "6fad3f7190ed4788a86946cfc15dd21b",
       "version_major": 2,
       "version_minor": 0
      },
      "text/plain": [
       "  0%|          | 0/17 [00:00<?, ?it/s]"
      ]
     },
     "metadata": {},
     "output_type": "display_data"
    },
    {
     "name": "stdout",
     "output_type": "stream",
     "text": [
      "39347 39348\n",
      "For marked faces: None\n",
      "empty_indices % = 0.0\n",
      " conflict_indices % = 0.0\n"
     ]
    },
    {
     "data": {
      "application/vnd.jupyter.widget-view+json": {
       "model_id": "34078c0f8d964e6bb6de27815cd447db",
       "version_major": 2,
       "version_minor": 0
      },
      "text/plain": [
       "0it [00:00, ?it/s]"
      ]
     },
     "metadata": {},
     "output_type": "display_data"
    },
    {
     "data": {
      "application/vnd.jupyter.widget-view+json": {
       "model_id": "249e2929492640fc800514374b8800dc",
       "version_major": 2,
       "version_minor": 0
      },
      "text/plain": [
       "  0%|          | 0/17 [00:00<?, ?it/s]"
      ]
     },
     "metadata": {},
     "output_type": "display_data"
    },
    {
     "name": "stdout",
     "output_type": "stream",
     "text": [
      "Successful Limb Decomposition\n",
      "\n",
      "\n",
      "----- Working on Proper Limb # 1 ---------\n",
      "meshparty_segment_size = 100\n",
      "invalidation_d = 12000\n",
      "use_adaptive_invalidation_d= False\n",
      "axon_width_preprocess_limb_max = 200\n",
      "filter_end_node_length= 4000\n",
      "filter_end_node_length_meshparty = 4000\n",
      "invalidation_d = 12000\n",
      "root_curr = [1349284.  1207623.   132066.8]\n",
      "Time for preparing soma vertices and root: 0.0002646446228027344\n",
      "invalidation_d = 12000\n",
      "smooth_neighborhood = 1\n",
      "cc_vertex_thresh = 10\n"
     ]
    },
    {
     "name": "stderr",
     "output_type": "stream",
     "text": [
      "  0%|                                                                                                                                                                                                                          | 0/1 [00:00<?, ?it/s]"
     ]
    },
    {
     "data": {
      "application/vnd.jupyter.widget-view+json": {
       "model_id": "94d08a670b984375809770b384d93b2a",
       "version_major": 2,
       "version_minor": 0
      },
      "text/plain": [
       "  0%|          | 0/16243 [00:00<?, ?it/s]"
      ]
     },
     "metadata": {},
     "output_type": "display_data"
    },
    {
     "name": "stderr",
     "output_type": "stream",
     "text": [
      "100%|██████████████████████████████████████████████████████████████████████████████████████████████████████████████████████████████████████████████████████████████████████████████████████████████████████████████████| 1/1 [00:00<00:00,  7.68it/s]\n"
     ]
    },
    {
     "name": "stdout",
     "output_type": "stream",
     "text": [
      "meshparty_segment_size = 100\n",
      "Time for 1st pass MP skeletonization: 0.40041136741638184\n",
      "connecting at the root\n",
      "branches_touching_root = [12]\n",
      "combining close nodes\n",
      "combine_threshold = 700\n",
      "length of Graph = 3517\n",
      "After combining close endpoints max(kept_branches_idx) = 12, len(kept_branches_idx) = 13\n",
      "empty_indices % = 0.0\n",
      " conflict_indices % = 0.0185953588443215\n"
     ]
    },
    {
     "data": {
      "application/vnd.jupyter.widget-view+json": {
       "model_id": "d77ff4e017234a0bad6b59003654e3d4",
       "version_major": 2,
       "version_minor": 0
      },
      "text/plain": [
       "  0%|          | 0/6 [00:00<?, ?it/s]"
      ]
     },
     "metadata": {},
     "output_type": "display_data"
    },
    {
     "data": {
      "application/vnd.jupyter.widget-view+json": {
       "model_id": "b3a93581134d414095bfbe2c993159ea",
       "version_major": 2,
       "version_minor": 0
      },
      "text/plain": [
       "  0%|          | 0/13 [00:00<?, ?it/s]"
      ]
     },
     "metadata": {},
     "output_type": "display_data"
    },
    {
     "name": "stdout",
     "output_type": "stream",
     "text": [
      "Decomposing first pass: 2.1307506561279297\n",
      "Attempting to use MeshAfterParty Skeletonization and Mesh Correspondence\n",
      "Another print\n",
      "Found len(mesh_large_idx) MAP candidates: [3601, 1572, 736, 4780, 1020, 2334, 609, 1380, 1005, 1479, 3194, 8911, 1914]\n",
      "mesh_large_connectivity: 0.07150602340698242\n",
      "Finding MAP candidates connected components: 0.00018095970153808594\n",
      "len(filtered_pieces) = 1\n",
      "skeleton_connectivity_MP : 0.007044792175292969\n",
      "Grouping MP Sublimbs by Graph: 2.5272369384765625e-05\n",
      "Divinding into MP and MAP pieces: 7.152557373046875e-07\n",
      "--- Working on MAP piece 0---\n",
      "MAP Filtering Soma Pieces: 0.016547679901123047\n",
      "inside skeletonize_connected_branch and use_surface_after_CGAL=True, surface_reconstruction_size=1000\n",
      "keep_idx = [0]\n",
      "     Starting Screened Poisson\n",
      "xvfb-run -n 2734 -s \"-screen 0 800x600x24\" meshlabserver $@  -i /neurd_packages/neuron_mesh_tools/CONNECTS/Chen_Lab/temp/None.off -o /neurd_packages/neuron_mesh_tools/CONNECTS/Chen_Lab/temp/None_poisson.off -s /neurd_packages/neuron_mesh_tools/CONNECTS/Chen_Lab/temp/poisson_165336.mls\n",
      "removed temporary input file: /neurd_packages/neuron_mesh_tools/CONNECTS/Chen_Lab/temp/None.off\n",
      "removed temporary output file: /neurd_packages/neuron_mesh_tools/CONNECTS/Chen_Lab/temp/None_poisson.off\n",
      "Using the close holes feature\n",
      "xvfb-run -n 5744 -s \"-screen 0 800x600x24\" meshlabserver $@  -i /neurd_packages/neuron_mesh_tools/CONNECTS/Chen_Lab/temp/neuron_25946.off -o /neurd_packages/neuron_mesh_tools/CONNECTS/Chen_Lab/temp/neuron_25946_fill_holes.off -s /neurd_packages/neuron_mesh_tools/CONNECTS/Chen_Lab/temp/fill_holes_411029.mls\n",
      "removed temporary input file: /neurd_packages/neuron_mesh_tools/CONNECTS/Chen_Lab/temp/neuron_25946.off\n",
      "removed temporary output file: /neurd_packages/neuron_mesh_tools/CONNECTS/Chen_Lab/temp/neuron_25946_fill_holes.off\n",
      "/neurd_packages/neuron_mesh_tools/CONNECTS/Chen_Lab/temp/fill_holes_411029.mls is being deleted....\n",
      "-----Time for Screened Poisson= 12.48163390159607\n",
      "mesh_pieces = [<trimesh.Trimesh(vertices.shape=(31373, 3), faces.shape=(62742, 3))>]\n",
      "     Starting Calcification (Changed back where stitches large poissons)\n",
      "Manifold status before skeletonization = True\n",
      "Watertight status before skeletonization = True\n",
      "min_edge_length = 75\n",
      "Before mesh subtraction number of skeleton edges = 2277\n"
     ]
    },
    {
     "data": {
      "application/vnd.jupyter.widget-view+json": {
       "model_id": "3e61f90b7e6445f8b38fa3f3564f8429",
       "version_major": 2,
       "version_minor": 0
      },
      "text/plain": [
       "0it [00:00, ?it/s]"
      ]
     },
     "metadata": {},
     "output_type": "display_data"
    },
    {
     "name": "stdout",
     "output_type": "stream",
     "text": [
      "len(leftover_meshes_sig) = []\n"
     ]
    },
    {
     "data": {
      "application/vnd.jupyter.widget-view+json": {
       "model_id": "245ba12b0bf5437d9b9203dce9bec1ab",
       "version_major": 2,
       "version_minor": 0
      },
      "text/plain": [
       "0it [00:00, ?it/s]"
      ]
     },
     "metadata": {},
     "output_type": "display_data"
    },
    {
     "name": "stdout",
     "output_type": "stream",
     "text": [
      "No skeletons to stack so returning empty list\n",
      "STacking the leftover and significant poisson skeleton\n",
      "max_stitch_distance = 5000\n",
      "len_subgraphs AT BEGINNING of the loop\n"
     ]
    },
    {
     "data": {
      "application/vnd.jupyter.widget-view+json": {
       "model_id": "2f7e530d8d8b46a4802d0798051215ed",
       "version_major": 2,
       "version_minor": 0
      },
      "text/plain": [
       "  0%|          | 0/1 [00:00<?, ?it/s]"
      ]
     },
     "metadata": {},
     "output_type": "display_data"
    },
    {
     "name": "stdout",
     "output_type": "stream",
     "text": [
      "all graph is one component!\n",
      "Total time for skeleton stitching = 0.10569190979003906\n",
      "The process was using a temp folder\n",
      "Checking connected components after skeletonize_connected_branch\n",
      "    Total time for skeletonizing branch: 21.54035449028015\n",
      "Checking connected components after removing cycles\n",
      "Total time for mesh KDTree = 0.2383575439453125\n",
      "sbv[0].reshape(-1,3) = [[1349284.  1207623.   132066.8]]\n",
      "closest_sk_pt_coord BEFORE = [1350400. 1207200.  132830.]\n",
      "current_skeleton.shape = (2276, 2, 3)\n",
      "node_for_stitch = 25: [1350400. 1207200.  132830.]\n",
      "node_for_stitch AFTER = 25: [1350400. 1207200.  132830.]\n",
      "possible_node_loc = [   0   15   23   25  107  286  960 1097 1113 1469 1629 1630 1789 1844\n",
      " 1872 2155 2178 2276]\n",
      "possible_node_loc AFTER = [   0   15   23   25  107  286  960 1097 1113 1469 1629 1630 1789 1844\n",
      " 1872 2155 2178 2276]\n",
      "curr_shortest_path = [25]\n",
      "Current stitch point was a branch or endpoint\n",
      "change_status for create soma extending pieces = False\n",
      "closest_sk_pt_coord AFTER = [1350400. 1207200.  132830.]\n",
      "skipping soma 0 because closest skeleton node was already end node\n",
      "endpoints_must_keep = {0: array([[1350400., 1207200.,  132830.]])}\n",
      "    Total time for Fixing Skeleton Soma Endpoint Extension : 1.0294244289398193\n",
      "filter_end_node_length = 4000\n"
     ]
    },
    {
     "data": {
      "application/vnd.jupyter.widget-view+json": {
       "model_id": "e450d23131194b9783ab4e242a05c031",
       "version_major": 2,
       "version_minor": 0
      },
      "text/plain": [
       "  0%|          | 0/8 [00:00<?, ?it/s]"
      ]
     },
     "metadata": {},
     "output_type": "display_data"
    },
    {
     "name": "stdout",
     "output_type": "stream",
     "text": [
      "Checking connected components after clean_skeleton\n",
      "after DISTANCE cleaning limb size of skeleton = (2231, 2, 3)\n",
      "********COMBINING CLOSE SKELETON NODES WITHIN 700 DISTANCE**********\n",
      "combine_threshold = 700\n",
      "Found 0 valid paths to replace\n",
      "valid_paths = []\n",
      "valid_path_lengths = []\n",
      "No valid paths found so just returning the original\n",
      "skeletonize_and_clean_connected_branch_CGAL: 26.821791410446167\n",
      "Working on limb correspondence for #0 MAP piece\n",
      "xvfb-run -n 2978 -s \"-screen 0 800x600x24\" meshlabserver $@  -i /neurd_packages/neuron_mesh_tools/CONNECTS/Chen_Lab/temp/neuron_66010.off -o /neurd_packages/neuron_mesh_tools/CONNECTS/Chen_Lab/temp/neuron_66010_remove_interior.off -s /neurd_packages/neuron_mesh_tools/CONNECTS/Chen_Lab/temp/remove_interior_460493.mls\n",
      "removed temporary input file: /neurd_packages/neuron_mesh_tools/CONNECTS/Chen_Lab/temp/neuron_66010.off\n",
      "removed temporary output file: /neurd_packages/neuron_mesh_tools/CONNECTS/Chen_Lab/temp/neuron_66010_remove_interior.off\n",
      "/neurd_packages/neuron_mesh_tools/CONNECTS/Chen_Lab/temp/remove_interior_460493.mls is being deleted....\n",
      "No significant (100) interior meshes present\n",
      "largest is 15\n"
     ]
    },
    {
     "data": {
      "application/vnd.jupyter.widget-view+json": {
       "model_id": "a9d34debf94c4d1b9b94076668fe208c",
       "version_major": 2,
       "version_minor": 0
      },
      "text/plain": [
       "0it [00:00, ?it/s]"
      ]
     },
     "metadata": {},
     "output_type": "display_data"
    },
    {
     "name": "stdout",
     "output_type": "stream",
     "text": [
      "Total time for decomposition = 7.8106513023376465\n",
      "mesh_correspondence_first_pass: 7.810749769210815\n",
      "Limb decomposed into 19 branches\n",
      "divided_skeleton_graph_recovered = (2231, 2, 3) and \n",
      "current_mesh_data[0]['branch_skeletons_cleaned'].shape = (2231, 2, 3)\n",
      "\n",
      "Number of connected components in deocmposed recovered graph = 1\n",
      "Number of connected components in cleaned skeleton graph= 1\n",
      "The downsampled branches number of connected components = 1\n",
      "Empty submeshes = []\n",
      "\n",
      "\n",
      "--- Working on 1-to-1 correspondence-----\n",
      "max(original_labels),len(original_labels) = (18, 19)\n",
      "empty_indices % = 0.043737513447057015\n",
      " conflict_indices % = 0.027201475334255418\n"
     ]
    },
    {
     "data": {
      "application/vnd.jupyter.widget-view+json": {
       "model_id": "4dba9fb1adda4d4cb8d773bb7b3babe9",
       "version_major": 2,
       "version_minor": 0
      },
      "text/plain": [
       "  0%|          | 0/63 [00:00<?, ?it/s]"
      ]
     },
     "metadata": {},
     "output_type": "display_data"
    },
    {
     "name": "stdout",
     "output_type": "stream",
     "text": [
      "Took 0 iterations to expand the label back\n",
      "empty_indices % = 0.0\n",
      " conflict_indices % = 0.0\n"
     ]
    },
    {
     "data": {
      "application/vnd.jupyter.widget-view+json": {
       "model_id": "87cf9a0ec384432c931e0f437777c0bb",
       "version_major": 2,
       "version_minor": 0
      },
      "text/plain": [
       "0it [00:00, ?it/s]"
      ]
     },
     "metadata": {},
     "output_type": "display_data"
    },
    {
     "data": {
      "application/vnd.jupyter.widget-view+json": {
       "model_id": "9ec9734bfafa475fa8c91d856e8ff64b",
       "version_major": 2,
       "version_minor": 0
      },
      "text/plain": [
       "  0%|          | 0/19 [00:00<?, ?it/s]"
      ]
     },
     "metadata": {},
     "output_type": "display_data"
    },
    {
     "name": "stdout",
     "output_type": "stream",
     "text": [
      "Total time for MAP sublimb #0 mesh processing = 37.41298866271973\n",
      "correspondence_1_to_1: 2.763826370239258\n",
      "Total time for MAP sublimb processing 37.41306185722351\n",
      "There were not both MAP and MP pieces so skipping the stitch resolving phase\n",
      "Time for decomp of Limb = 40.10170006752014\n",
      "Number of matching vertices = 39\n",
      "Only one endpoint after filtering away the endpoints that are not on the skeleton\n",
      "Removed 0 skeletal branches\n"
     ]
    },
    {
     "data": {
      "application/vnd.jupyter.widget-view+json": {
       "model_id": "f935c29347b14bd882e496bda4b5622c",
       "version_major": 2,
       "version_minor": 0
      },
      "text/plain": [
       "  0%|          | 0/19 [00:00<?, ?it/s]"
      ]
     },
     "metadata": {},
     "output_type": "display_data"
    },
    {
     "name": "stdout",
     "output_type": "stream",
     "text": [
      "32534 32535\n",
      "For marked faces: None\n",
      "empty_indices % = 0.0\n",
      " conflict_indices % = 0.0\n"
     ]
    },
    {
     "data": {
      "application/vnd.jupyter.widget-view+json": {
       "model_id": "afb29f8ac3cd47eb99de54afffeb1f83",
       "version_major": 2,
       "version_minor": 0
      },
      "text/plain": [
       "0it [00:00, ?it/s]"
      ]
     },
     "metadata": {},
     "output_type": "display_data"
    },
    {
     "data": {
      "application/vnd.jupyter.widget-view+json": {
       "model_id": "2fad4fc91ce64651831dd52e0ed189ce",
       "version_major": 2,
       "version_minor": 0
      },
      "text/plain": [
       "  0%|          | 0/19 [00:00<?, ?it/s]"
      ]
     },
     "metadata": {},
     "output_type": "display_data"
    },
    {
     "name": "stdout",
     "output_type": "stream",
     "text": [
      "Successful Limb Decomposition\n",
      "\n",
      "\n",
      "----- Working on Proper Limb # 2 ---------\n",
      "meshparty_segment_size = 100\n",
      "invalidation_d = 12000\n",
      "use_adaptive_invalidation_d= False\n",
      "axon_width_preprocess_limb_max = 200\n",
      "filter_end_node_length= 4000\n",
      "filter_end_node_length_meshparty = 4000\n",
      "invalidation_d = 12000\n",
      "root_curr = [1336640. 1208147.  137295.]\n",
      "Time for preparing soma vertices and root: 0.00019311904907226562\n",
      "invalidation_d = 12000\n",
      "smooth_neighborhood = 1\n",
      "cc_vertex_thresh = 10\n"
     ]
    },
    {
     "name": "stderr",
     "output_type": "stream",
     "text": [
      "  0%|                                                                                                                                                                                                                          | 0/1 [00:00<?, ?it/s]"
     ]
    },
    {
     "data": {
      "application/vnd.jupyter.widget-view+json": {
       "model_id": "6094d1cce1384e7596a945f6a6597b79",
       "version_major": 2,
       "version_minor": 0
      },
      "text/plain": [
       "  0%|          | 0/5695 [00:00<?, ?it/s]"
      ]
     },
     "metadata": {},
     "output_type": "display_data"
    },
    {
     "name": "stderr",
     "output_type": "stream",
     "text": [
      "100%|██████████████████████████████████████████████████████████████████████████████████████████████████████████████████████████████████████████████████████████████████████████████████████████████████████████████████| 1/1 [00:00<00:00, 20.53it/s]"
     ]
    },
    {
     "name": "stdout",
     "output_type": "stream",
     "text": [
      "meshparty_segment_size = 100\n",
      "Time for 1st pass MP skeletonization: 0.17581415176391602\n",
      "branches_touching_root = [1]\n"
     ]
    },
    {
     "name": "stderr",
     "output_type": "stream",
     "text": [
      "\n"
     ]
    },
    {
     "name": "stdout",
     "output_type": "stream",
     "text": [
      "combining close nodes\n",
      "combine_threshold = 700\n",
      "length of Graph = 1421\n",
      "After combining close endpoints max(kept_branches_idx) = 2, len(kept_branches_idx) = 3\n",
      "empty_indices % = 0.0\n",
      " conflict_indices % = 0.00571077139342822\n"
     ]
    },
    {
     "data": {
      "application/vnd.jupyter.widget-view+json": {
       "model_id": "2f44cbd149804f69b59a5ae1ae759346",
       "version_major": 2,
       "version_minor": 0
      },
      "text/plain": [
       "  0%|          | 0/1 [00:00<?, ?it/s]"
      ]
     },
     "metadata": {},
     "output_type": "display_data"
    },
    {
     "data": {
      "application/vnd.jupyter.widget-view+json": {
       "model_id": "2c1266d6632e408bad08c2198a4087e7",
       "version_major": 2,
       "version_minor": 0
      },
      "text/plain": [
       "  0%|          | 0/3 [00:00<?, ?it/s]"
      ]
     },
     "metadata": {},
     "output_type": "display_data"
    },
    {
     "name": "stdout",
     "output_type": "stream",
     "text": [
      "Decomposing first pass: 0.7813727855682373\n",
      "Attempting to use MeshAfterParty Skeletonization and Mesh Correspondence\n",
      "Another print\n",
      "Found len(mesh_large_idx) MAP candidates: [7601, 3078, 703]\n",
      "mesh_large_connectivity: 0.004979848861694336\n",
      "Finding MAP candidates connected components: 7.05718994140625e-05\n",
      "len(filtered_pieces) = 1\n",
      "skeleton_connectivity_MP : 0.0030236244201660156\n",
      "Grouping MP Sublimbs by Graph: 2.193450927734375e-05\n",
      "Divinding into MP and MAP pieces: 1.1920928955078125e-06\n",
      "--- Working on MAP piece 0---\n",
      "MAP Filtering Soma Pieces: 0.021217823028564453\n",
      "inside skeletonize_connected_branch and use_surface_after_CGAL=True, surface_reconstruction_size=1000\n",
      "keep_idx = [0]\n",
      "     Starting Screened Poisson\n",
      "xvfb-run -n 8090 -s \"-screen 0 800x600x24\" meshlabserver $@  -i /neurd_packages/neuron_mesh_tools/CONNECTS/Chen_Lab/temp/None.off -o /neurd_packages/neuron_mesh_tools/CONNECTS/Chen_Lab/temp/None_poisson.off -s /neurd_packages/neuron_mesh_tools/CONNECTS/Chen_Lab/temp/poisson_807676.mls\n",
      "removed temporary input file: /neurd_packages/neuron_mesh_tools/CONNECTS/Chen_Lab/temp/None.off\n",
      "removed temporary output file: /neurd_packages/neuron_mesh_tools/CONNECTS/Chen_Lab/temp/None_poisson.off\n",
      "Using the close holes feature\n",
      "xvfb-run -n 7667 -s \"-screen 0 800x600x24\" meshlabserver $@  -i /neurd_packages/neuron_mesh_tools/CONNECTS/Chen_Lab/temp/neuron_51185.off -o /neurd_packages/neuron_mesh_tools/CONNECTS/Chen_Lab/temp/neuron_51185_fill_holes.off -s /neurd_packages/neuron_mesh_tools/CONNECTS/Chen_Lab/temp/fill_holes_495380.mls\n",
      "removed temporary input file: /neurd_packages/neuron_mesh_tools/CONNECTS/Chen_Lab/temp/neuron_51185.off\n",
      "removed temporary output file: /neurd_packages/neuron_mesh_tools/CONNECTS/Chen_Lab/temp/neuron_51185_fill_holes.off\n",
      "/neurd_packages/neuron_mesh_tools/CONNECTS/Chen_Lab/temp/fill_holes_495380.mls is being deleted....\n",
      "-----Time for Screened Poisson= 8.924527406692505\n",
      "mesh_pieces = [<trimesh.Trimesh(vertices.shape=(10170, 3), faces.shape=(20336, 3))>]\n",
      "     Starting Calcification (Changed back where stitches large poissons)\n",
      "Manifold status before skeletonization = True\n",
      "Watertight status before skeletonization = True\n",
      "min_edge_length = 75\n",
      "MAX ITERATIONS initially 500\n",
      "AREA VARIATION initially 0.0001\n",
      "medial centered initially 1\n",
      "medially_centered_speed_tradeoff initially 0.2\n",
      "quality_speed_tradeoff initially 0.1\n",
      "max_triangle_angle initially 1.91986\n",
      "min_edge_length initially 332.564\n",
      "setting the edge length by absolute length\n",
      "min_edge_length AFTER = 75\n",
      "max_triangle_angle AFTER = 1.91986\n",
      "quality_speed_tradeoff AFTER = 0.2\n",
      "set_medially_centered_speed_tradeoff AFTER = 0.2\n",
      "medial centered AFTER 1\n",
      "AREA VARIATION AFTER 0.0001\n",
      "MAX ITERATIONS AFTER 500\n",
      "medial centered END 1\n",
      "set_medially_centered_speed_tradeoff END = 0.2\n",
      "quality_speed_tradeoff END = 0.2\n",
      "Max iterations END = 500\n",
      "AREA VARIATION END 0.0001\n",
      "Number of vertices of the skeleton: 1775\n",
      "Number of edges of the skeleton: 1776\n",
      "MAX ITERATIONS initially 500\n",
      "AREA VARIATION initially 0.0001\n",
      "medial centered initially 1\n",
      "medially_centered_speed_tradeoff initially 0.2\n",
      "quality_speed_tradeoff initially 0.1\n",
      "max_triangle_angle initially 1.91986\n",
      "min_edge_length initially 101.069\n",
      "setting the edge length by absolute length\n",
      "min_edge_length AFTER = 75\n",
      "max_triangle_angle AFTER = 1.91986\n",
      "quality_speed_tradeoff AFTER = 0.2\n",
      "set_medially_centered_speed_tradeoff AFTER = 0.2\n",
      "medial centered AFTER 1\n",
      "AREA VARIATION AFTER 0.0001\n",
      "MAX ITERATIONS AFTER 500\n",
      "medial centered END 1\n",
      "set_medially_centered_speed_tradeoff END = 0.2\n",
      "quality_speed_tradeoff END = 0.2\n",
      "Max iterations END = 500\n",
      "AREA VARIATION END 0.0001\n",
      "Number of vertices of the skeleton: 344\n",
      "Number of edges of the skeleton: 343\n",
      "MAX ITERATIONS initially 500\n",
      "AREA VARIATION initially 0.0001\n",
      "medial centered initially 1\n",
      "medially_centered_speed_tradeoff initially 0.2\n",
      "quality_speed_tradeoff initially 0.1\n",
      "max_triangle_angle initially 1.91986\n",
      "min_edge_length initially 27.3158\n",
      "setting the edge length by absolute length\n",
      "min_edge_length AFTER = 75\n",
      "max_triangle_angle AFTER = 1.91986\n",
      "quality_speed_tradeoff AFTER = 0.2\n",
      "set_medially_centered_speed_tradeoff AFTER = 0.2\n",
      "medial centered AFTER 1\n",
      "AREA VARIATION AFTER 0.0001\n",
      "MAX ITERATIONS AFTER 500\n",
      "medial centered END 1\n",
      "set_medially_centered_speed_tradeoff END = 0.2\n",
      "quality_speed_tradeoff END = 0.2\n",
      "Max iterations END = 500\n",
      "AREA VARIATION END 0.0001\n",
      "Number of vertices of the skeleton: 69\n",
      "Number of edges of the skeleton: 68\n",
      "MAX ITERATIONS initially 500\n",
      "AREA VARIATION initially 0.0001\n",
      "medial centered initially 1\n",
      "medially_centered_speed_tradeoff initially 0.2\n",
      "quality_speed_tradeoff initially 0.1\n",
      "max_triangle_angle initially 1.91986\n",
      "min_edge_length initially 9.77604\n",
      "setting the edge length by absolute length\n",
      "min_edge_length AFTER = 75\n",
      "max_triangle_angle AFTER = 1.91986\n",
      "quality_speed_tradeoff AFTER = 0.2\n",
      "set_medially_centered_speed_tradeoff AFTER = 0.2\n",
      "medial centered AFTER 1\n",
      "AREA VARIATION AFTER 0.0001\n",
      "MAX ITERATIONS AFTER 500\n",
      "medial centered END 1\n",
      "set_medially_centered_speed_tradeoff END = 0.2\n",
      "quality_speed_tradeoff END = 0.2\n",
      "Max iterations END = 500\n",
      "AREA VARIATION END 0.0001\n",
      "Number of vertices of the skeleton: 15\n",
      "Number of edges of the skeleton: 14\n",
      "MAX ITERATIONS initially 500\n",
      "AREA VARIATION initially 0.0001\n",
      "medial centered initially 1\n",
      "medially_centered_speed_tradeoff initially 0.2\n",
      "quality_speed_tradeoff initially 0.1\n",
      "max_triangle_angle initially 1.91986\n",
      "min_edge_length initially 306.614\n",
      "setting the edge length by absolute length\n",
      "min_edge_length AFTER = 75\n",
      "max_triangle_angle AFTER = 1.91986\n",
      "quality_speed_tradeoff AFTER = 0.2\n",
      "set_medially_centered_speed_tradeoff AFTER = 0.2\n",
      "medial centered AFTER 1\n",
      "AREA VARIATION AFTER 0.0001\n",
      "MAX ITERATIONS AFTER 500\n",
      "medial centered END 1\n",
      "set_medially_centered_speed_tradeoff END = 0.2\n",
      "quality_speed_tradeoff END = 0.2\n",
      "Max iterations END = 500\n",
      "AREA VARIATION END 0.0001\n",
      "Number of vertices of the skeleton: 2277\n",
      "Number of edges of the skeleton: 2276\n",
      "MAX ITERATIONS initially 500\n",
      "AREA VARIATION initially 0.0001\n",
      "medial centered initially 1\n",
      "medially_centered_speed_tradeoff initially 0.2\n",
      "quality_speed_tradeoff initially 0.1\n",
      "max_triangle_angle initially 1.91986\n",
      "min_edge_length initially 245.489\n",
      "setting the edge length by absolute length\n",
      "min_edge_length AFTER = 75\n",
      "max_triangle_angle AFTER = 1.91986\n",
      "quality_speed_tradeoff AFTER = 0.2\n",
      "set_mediallyBefore mesh subtraction number of skeleton edges = 909\n"
     ]
    },
    {
     "data": {
      "application/vnd.jupyter.widget-view+json": {
       "model_id": "6a14a124f0d3444a9790a18d6180c246",
       "version_major": 2,
       "version_minor": 0
      },
      "text/plain": [
       "0it [00:00, ?it/s]"
      ]
     },
     "metadata": {},
     "output_type": "display_data"
    },
    {
     "name": "stdout",
     "output_type": "stream",
     "text": [
      "len(leftover_meshes_sig) = []\n"
     ]
    },
    {
     "data": {
      "application/vnd.jupyter.widget-view+json": {
       "model_id": "340f2e8aa009436681d10b6ad6df04e4",
       "version_major": 2,
       "version_minor": 0
      },
      "text/plain": [
       "0it [00:00, ?it/s]"
      ]
     },
     "metadata": {},
     "output_type": "display_data"
    },
    {
     "name": "stdout",
     "output_type": "stream",
     "text": [
      "No skeletons to stack so returning empty list\n",
      "STacking the leftover and significant poisson skeleton\n",
      "max_stitch_distance = 5000\n",
      "len_subgraphs AT BEGINNING of the loop\n"
     ]
    },
    {
     "data": {
      "application/vnd.jupyter.widget-view+json": {
       "model_id": "4171d97610d8402d971866f815aeb284",
       "version_major": 2,
       "version_minor": 0
      },
      "text/plain": [
       "  0%|          | 0/1 [00:00<?, ?it/s]"
      ]
     },
     "metadata": {},
     "output_type": "display_data"
    },
    {
     "name": "stdout",
     "output_type": "stream",
     "text": [
      "all graph is one component!\n",
      "Total time for skeleton stitching = 0.04327249526977539\n",
      "The process was using a temp folder\n",
      "Checking connected components after skeletonize_connected_branch\n",
      "    Total time for skeletonizing branch: 11.214203119277954\n",
      "Checking connected components after removing cycles\n",
      "Total time for mesh KDTree = 0.11213493347167969\n",
      "sbv[0].reshape(-1,3) = [[1336640. 1208147.  137295.]]\n",
      "closest_sk_pt_coord BEFORE = [1337110. 1208430.  137663.]\n",
      "current_skeleton.shape = (908, 2, 3)\n",
      "node_for_stitch = 908: [1337110. 1208430.  137663.]\n",
      "node_for_stitch AFTER = 908: [1337110. 1208430.  137663.]\n",
      "possible_node_loc = [  0 429 579 740 908]\n",
      "possible_node_loc AFTER = [  0 429 579 740 908]\n",
      "curr_shortest_path = [908]\n",
      "Current stitch point was a branch or endpoint\n",
      "change_status for create soma extending pieces = False\n",
      "closest_sk_pt_coord AFTER = [1337110. 1208430.  137663.]\n",
      "skipping soma 0 because closest skeleton node was already end node\n",
      "endpoints_must_keep = {0: array([[1337110., 1208430.,  137663.]])}\n",
      "    Total time for Fixing Skeleton Soma Endpoint Extension : 0.3332643508911133\n",
      "filter_end_node_length = 4000\n"
     ]
    },
    {
     "data": {
      "application/vnd.jupyter.widget-view+json": {
       "model_id": "56007337648f419e97263d156a961fe8",
       "version_major": 2,
       "version_minor": 0
      },
      "text/plain": [
       "  0%|          | 0/1 [00:00<?, ?it/s]"
      ]
     },
     "metadata": {},
     "output_type": "display_data"
    },
    {
     "name": "stdout",
     "output_type": "stream",
     "text": [
      "Checking connected components after clean_skeleton\n",
      "after DISTANCE cleaning limb size of skeleton = (903, 2, 3)\n",
      "********COMBINING CLOSE SKELETON NODES WITHIN 700 DISTANCE**********\n",
      "combine_threshold = 700\n",
      "Found 0 valid paths to replace\n",
      "valid_paths = []\n",
      "valid_path_lengths = []\n",
      "No valid paths found so just returning the original\n",
      "skeletonize_and_clean_connected_branch_CGAL: 12.678027153015137\n",
      "Working on limb correspondence for #0 MAP piece\n",
      "xvfb-run -n 6308 -s \"-screen 0 800x600x24\" meshlabserver $@  -i /neurd_packages/neuron_mesh_tools/CONNECTS/Chen_Lab/temp/neuron_92805.off -o /neurd_packages/neuron_mesh_tools/CONNECTS/Chen_Lab/temp/neuron_92805_remove_interior.off -s /neurd_packages/neuron_mesh_tools/CONNECTS/Chen_Lab/temp/remove_interior_206983.mls\n",
      "removed temporary input file: /neurd_packages/neuron_mesh_tools/CONNECTS/Chen_Lab/temp/neuron_92805.off\n",
      "removed temporary output file: /neurd_packages/neuron_mesh_tools/CONNECTS/Chen_Lab/temp/neuron_92805_remove_interior.off\n",
      "/neurd_packages/neuron_mesh_tools/CONNECTS/Chen_Lab/temp/remove_interior_206983.mls is being deleted....\n",
      "No significant (100) interior meshes present\n",
      "largest is 16\n"
     ]
    },
    {
     "data": {
      "application/vnd.jupyter.widget-view+json": {
       "model_id": "eb469fb6716e40b79d3d959cbcb78677",
       "version_major": 2,
       "version_minor": 0
      },
      "text/plain": [
       "0it [00:00, ?it/s]"
      ]
     },
     "metadata": {},
     "output_type": "display_data"
    },
    {
     "name": "stdout",
     "output_type": "stream",
     "text": [
      "Total time for decomposition = 3.3740010261535645\n",
      "mesh_correspondence_first_pass: 3.374039649963379\n",
      "Limb decomposed into 5 branches\n",
      "divided_skeleton_graph_recovered = (903, 2, 3) and \n",
      "current_mesh_data[0]['branch_skeletons_cleaned'].shape = (903, 2, 3)\n",
      "\n",
      "Number of connected components in deocmposed recovered graph = 1\n",
      "Number of connected components in cleaned skeleton graph= 1\n",
      "The downsampled branches number of connected components = 1\n",
      "Empty submeshes = []\n",
      "\n",
      "\n",
      "--- Working on 1-to-1 correspondence-----\n",
      "max(original_labels),len(original_labels) = (4, 5)\n",
      "empty_indices % = 0.019768054823405375\n",
      " conflict_indices % = 0.011685116851168511\n"
     ]
    },
    {
     "data": {
      "application/vnd.jupyter.widget-view+json": {
       "model_id": "cd8b6e245f9c4e6cb5af3495bbcc05ca",
       "version_major": 2,
       "version_minor": 0
      },
      "text/plain": [
       "  0%|          | 0/21 [00:00<?, ?it/s]"
      ]
     },
     "metadata": {},
     "output_type": "display_data"
    },
    {
     "name": "stdout",
     "output_type": "stream",
     "text": [
      "Took 0 iterations to expand the label back\n",
      "empty_indices % = 0.0\n",
      " conflict_indices % = 0.0\n"
     ]
    },
    {
     "data": {
      "application/vnd.jupyter.widget-view+json": {
       "model_id": "af880883fed5453eb06ac4a740a61879",
       "version_major": 2,
       "version_minor": 0
      },
      "text/plain": [
       "0it [00:00, ?it/s]"
      ]
     },
     "metadata": {},
     "output_type": "display_data"
    },
    {
     "data": {
      "application/vnd.jupyter.widget-view+json": {
       "model_id": "ea239387731449e9a6d0db55ff7dbf96",
       "version_major": 2,
       "version_minor": 0
      },
      "text/plain": [
       "  0%|          | 0/5 [00:00<?, ?it/s]"
      ]
     },
     "metadata": {},
     "output_type": "display_data"
    },
    {
     "name": "stdout",
     "output_type": "stream",
     "text": [
      "Total time for MAP sublimb #0 mesh processing = 16.872502088546753\n",
      "correspondence_1_to_1: 0.7991602420806885\n",
      "Total time for MAP sublimb processing 16.872565269470215\n",
      "There were not both MAP and MP pieces so skipping the stitch resolving phase\n",
      "Time for decomp of Limb = 17.872802734375\n",
      "Number of matching vertices = 20\n",
      "Only one endpoint after filtering away the endpoints that are not on the skeleton\n",
      "Removed 0 skeletal branches\n"
     ]
    },
    {
     "data": {
      "application/vnd.jupyter.widget-view+json": {
       "model_id": "a549fa46908e45448932157e1a8ba20a",
       "version_major": 2,
       "version_minor": 0
      },
      "text/plain": [
       "  0%|          | 0/5 [00:00<?, ?it/s]"
      ]
     },
     "metadata": {},
     "output_type": "display_data"
    },
    {
     "name": "stdout",
     "output_type": "stream",
     "text": [
      "11381 11382\n",
      "For marked faces: None\n",
      "empty_indices % = 0.0\n",
      " conflict_indices % = 0.0\n"
     ]
    },
    {
     "data": {
      "application/vnd.jupyter.widget-view+json": {
       "model_id": "9aa70e11a2904208a3418ddb92c59940",
       "version_major": 2,
       "version_minor": 0
      },
      "text/plain": [
       "0it [00:00, ?it/s]"
      ]
     },
     "metadata": {},
     "output_type": "display_data"
    },
    {
     "data": {
      "application/vnd.jupyter.widget-view+json": {
       "model_id": "f9ad7bb69e384c58a763bcdaf655048a",
       "version_major": 2,
       "version_minor": 0
      },
      "text/plain": [
       "  0%|          | 0/5 [00:00<?, ?it/s]"
      ]
     },
     "metadata": {},
     "output_type": "display_data"
    },
    {
     "name": "stdout",
     "output_type": "stream",
     "text": [
      "Successful Limb Decomposition\n",
      "\n",
      "\n",
      "----- Working on Proper Limb # 3 ---------\n",
      "meshparty_segment_size = 100\n",
      "invalidation_d = 12000\n",
      "use_adaptive_invalidation_d= False\n",
      "axon_width_preprocess_limb_max = 200\n",
      "filter_end_node_length= 4000\n",
      "filter_end_node_length_meshparty = 4000\n",
      "invalidation_d = 12000\n",
      "root_curr = [1338252.  1201644.   134080.2]\n",
      "Time for preparing soma vertices and root: 0.00020956993103027344\n",
      "invalidation_d = 12000\n",
      "smooth_neighborhood = 1\n",
      "cc_vertex_thresh = 10\n"
     ]
    },
    {
     "name": "stderr",
     "output_type": "stream",
     "text": [
      "  0%|                                                                                                                                                                                                                          | 0/1 [00:00<?, ?it/s]"
     ]
    },
    {
     "data": {
      "application/vnd.jupyter.widget-view+json": {
       "model_id": "ba4c35130cd54ba3a3998f333e14b9b7",
       "version_major": 2,
       "version_minor": 0
      },
      "text/plain": [
       "  0%|          | 0/3351 [00:00<?, ?it/s]"
      ]
     },
     "metadata": {},
     "output_type": "display_data"
    },
    {
     "name": "stderr",
     "output_type": "stream",
     "text": [
      "100%|██████████████████████████████████████████████████████████████████████████████████████████████████████████████████████████████████████████████████████████████████████████████████████████████████████████████████| 1/1 [00:00<00:00, 28.37it/s]\n"
     ]
    },
    {
     "name": "stdout",
     "output_type": "stream",
     "text": [
      "meshparty_segment_size = 100\n",
      "Time for 1st pass MP skeletonization: 0.20575332641601562\n",
      "connecting at the root\n",
      "branches_touching_root = [2]\n",
      "combining close nodes\n",
      "combine_threshold = 700\n",
      "length of Graph = 871\n",
      "After combining close endpoints max(kept_branches_idx) = 2, len(kept_branches_idx) = 3\n",
      "empty_indices % = 0.0\n",
      " conflict_indices % = 0.007150305377625503\n"
     ]
    },
    {
     "data": {
      "application/vnd.jupyter.widget-view+json": {
       "model_id": "52d46610b6844cb1896a9486968743b3",
       "version_major": 2,
       "version_minor": 0
      },
      "text/plain": [
       "  0%|          | 0/1 [00:00<?, ?it/s]"
      ]
     },
     "metadata": {},
     "output_type": "display_data"
    },
    {
     "data": {
      "application/vnd.jupyter.widget-view+json": {
       "model_id": "233d8ba21d6f40dcad2665e6c3e44e8a",
       "version_major": 2,
       "version_minor": 0
      },
      "text/plain": [
       "  0%|          | 0/3 [00:00<?, ?it/s]"
      ]
     },
     "metadata": {},
     "output_type": "display_data"
    },
    {
     "name": "stdout",
     "output_type": "stream",
     "text": [
      "Decomposing first pass: 0.4635927677154541\n",
      "Attempting to use MeshAfterParty Skeletonization and Mesh Correspondence\n",
      "Another print\n",
      "Found len(mesh_large_idx) MAP candidates: [2115, 2675, 1923]\n",
      "mesh_large_connectivity: 0.0033562183380126953\n",
      "Finding MAP candidates connected components: 8.153915405273438e-05\n",
      "len(filtered_pieces) = 1\n",
      "skeleton_connectivity_MP : 0.0021059513092041016\n",
      "Grouping MP Sublimbs by Graph: 2.6226043701171875e-05\n",
      "Divinding into MP and MAP pieces: 7.152557373046875e-07\n",
      "--- Working on MAP piece 0---\n",
      "MAP Filtering Soma Pieces: 0.013464927673339844\n",
      "inside skeletonize_connected_branch and use_surface_after_CGAL=True, surface_reconstruction_size=1000\n",
      "keep_idx = [0]\n",
      "     Starting Screened Poisson\n",
      "xvfb-run -n 657 -s \"-screen 0 800x600x24\" meshlabserver $@  -i /neurd_packages/neuron_mesh_tools/CONNECTS/Chen_Lab/temp/None.off -o /neurd_packages/neuron_mesh_tools/CONNECTS/Chen_Lab/temp/None_poisson.off -s /neurd_packages/neuron_mesh_tools/CONNECTS/Chen_Lab/temp/poisson_334330.mls\n",
      "removed temporary input file: /neurd_packages/neuron_mesh_tools/CONNECTS/Chen_Lab/temp/None.off\n",
      "removed temporary output file: /neurd_packages/neuron_mesh_tools/CONNECTS/Chen_Lab/temp/None_poisson.off\n",
      "Using the close holes feature\n",
      "xvfb-run -n 4892 -s \"-screen 0 800x600x24\" meshlabserver $@  -i /neurd_packages/neuron_mesh_tools/CONNECTS/Chen_Lab/temp/neuron_79341.off -o /neurd_packages/neuron_mesh_tools/CONNECTS/Chen_Lab/temp/neuron_79341_fill_holes.off -s /neurd_packages/neuron_mesh_tools/CONNECTS/Chen_Lab/temp/fill_holes_154943.mls\n",
      "removed temporary input file: /neurd_packages/neuron_mesh_tools/CONNECTS/Chen_Lab/temp/neuron_79341.off\n",
      "removed temporary output file: /neurd_packages/neuron_mesh_tools/CONNECTS/Chen_Lab/temp/neuron_79341_fill_holes.off\n",
      "/neurd_packages/neuron_mesh_tools/CONNECTS/Chen_Lab/temp/fill_holes_154943.mls is being deleted....\n",
      "-----Time for Screened Poisson= 8.342450618743896\n",
      "mesh_pieces = [<trimesh.Trimesh(vertices.shape=(8834, 3), faces.shape=(17664, 3))>]\n",
      "     Starting Calcification (Changed back where stitches large poissons)\n",
      "Manifold status before skeletonization = True\n",
      "Watertight status before skeletonization = True\n",
      "min_edge_length = 75\n",
      "Before mesh subtraction number of skeleton edges = 661\n"
     ]
    },
    {
     "data": {
      "application/vnd.jupyter.widget-view+json": {
       "model_id": "3ea9694f14984c1ea2c9aa57b374d4d2",
       "version_major": 2,
       "version_minor": 0
      },
      "text/plain": [
       "0it [00:00, ?it/s]"
      ]
     },
     "metadata": {},
     "output_type": "display_data"
    },
    {
     "name": "stdout",
     "output_type": "stream",
     "text": [
      "len(leftover_meshes_sig) = []\n"
     ]
    },
    {
     "data": {
      "application/vnd.jupyter.widget-view+json": {
       "model_id": "a2fee9e2abf7468483ae083ddc85881f",
       "version_major": 2,
       "version_minor": 0
      },
      "text/plain": [
       "0it [00:00, ?it/s]"
      ]
     },
     "metadata": {},
     "output_type": "display_data"
    },
    {
     "name": "stdout",
     "output_type": "stream",
     "text": [
      "No skeletons to stack so returning empty list\n",
      "STacking the leftover and significant poisson skeleton\n",
      "max_stitch_distance = 5000\n",
      "len_subgraphs AT BEGINNING of the loop\n"
     ]
    },
    {
     "data": {
      "application/vnd.jupyter.widget-view+json": {
       "model_id": "a65e36e3598149a397f5bc4232abcaa0",
       "version_major": 2,
       "version_minor": 0
      },
      "text/plain": [
       "  0%|          | 0/1 [00:00<?, ?it/s]"
      ]
     },
     "metadata": {},
     "output_type": "display_data"
    },
    {
     "name": "stdout",
     "output_type": "stream",
     "text": [
      "all graph is one component!\n",
      "Total time for skeleton stitching = 0.03145551681518555\n",
      "The process was using a temp folder\n",
      "Checking connected components after skeletonize_connected_branch\n",
      "    Total time for skeletonizing branch: 10.159830093383789\n",
      "Checking connected components after removing cycles\n",
      "Total time for mesh KDTree = 0.04187893867492676\n",
      "sbv[0].reshape(-1,3) = [[1338252.  1201644.   134080.2]]\n",
      "closest_sk_pt_coord BEFORE = [1337760. 1200950.  134002.]\n",
      "current_skeleton.shape = (660, 2, 3)\n",
      "node_for_stitch = 660: [1337760. 1200950.  134002.]\n",
      "node_for_stitch AFTER = 660: [1337760. 1200950.  134002.]\n",
      "possible_node_loc = [  4  86 360 557 633 660]\n",
      "possible_node_loc AFTER = [  4  86 360 557 633 660]\n",
      "curr_shortest_path = [660]\n",
      "Current stitch point was a branch or endpoint\n",
      "change_status for create soma extending pieces = False\n",
      "closest_sk_pt_coord AFTER = [1337760. 1200950.  134002.]\n",
      "skipping soma 0 because closest skeleton node was already end node\n",
      "endpoints_must_keep = {0: array([[1337760., 1200950.,  134002.]])}\n",
      "    Total time for Fixing Skeleton Soma Endpoint Extension : 0.27184033393859863\n",
      "filter_end_node_length = 4000\n"
     ]
    },
    {
     "data": {
      "application/vnd.jupyter.widget-view+json": {
       "model_id": "f02d93ac043a4079b7b7f2f6ad07479b",
       "version_major": 2,
       "version_minor": 0
      },
      "text/plain": [
       "  0%|          | 0/2 [00:00<?, ?it/s]"
      ]
     },
     "metadata": {},
     "output_type": "display_data"
    },
    {
     "name": "stdout",
     "output_type": "stream",
     "text": [
      "Checking connected components after clean_skeleton\n",
      "after DISTANCE cleaning limb size of skeleton = (658, 2, 3)\n",
      "********COMBINING CLOSE SKELETON NODES WITHIN 700 DISTANCE**********\n",
      "combine_threshold = 700\n",
      "Found 0 valid paths to replace\n",
      "valid_paths = []\n",
      "valid_path_lengths = []\n",
      "No valid paths found so just returning the original\n",
      "skeletonize_and_clean_connected_branch_CGAL: 11.211153984069824\n",
      "Working on limb correspondence for #0 MAP piece\n",
      "xvfb-run -n 9059 -s \"-screen 0 800x600x24\" meshlabserver $@  -i /neurd_packages/neuron_mesh_tools/CONNECTS/Chen_Lab/temp/neuron_48099.off -o /neurd_packages/neuron_mesh_tools/CONNECTS/Chen_Lab/temp/neuron_48099_remove_interior.off -s /neurd_packages/neuron_mesh_tools/CONNECTS/Chen_Lab/temp/remove_interior_609550.mls\n",
      "removed temporary input file: /neurd_packages/neuron_mesh_tools/CONNECTS/Chen_Lab/temp/neuron_48099.off\n",
      "removed temporary output file: /neurd_packages/neuron_mesh_tools/CONNECTS/Chen_Lab/temp/neuron_48099_remove_interior.off\n",
      "/neurd_packages/neuron_mesh_tools/CONNECTS/Chen_Lab/temp/remove_interior_609550.mls is being deleted....\n",
      "No significant (100) interior meshes present\n",
      "largest is 9\n"
     ]
    },
    {
     "data": {
      "application/vnd.jupyter.widget-view+json": {
       "model_id": "b8ac777ebe754c6e93b3e3c40e3ff528",
       "version_major": 2,
       "version_minor": 0
      },
      "text/plain": [
       "0it [00:00, ?it/s]"
      ]
     },
     "metadata": {},
     "output_type": "display_data"
    },
    {
     "name": "stdout",
     "output_type": "stream",
     "text": [
      "Total time for decomposition = 2.098719358444214\n",
      "mesh_correspondence_first_pass: 2.0987489223480225\n",
      "Limb decomposed into 7 branches\n",
      "divided_skeleton_graph_recovered = (658, 2, 3) and \n",
      "current_mesh_data[0]['branch_skeletons_cleaned'].shape = (658, 2, 3)\n",
      "\n",
      "Number of connected components in deocmposed recovered graph = 1\n",
      "Number of connected components in cleaned skeleton graph= 1\n",
      "The downsampled branches number of connected components = 1\n",
      "Empty submeshes = []\n",
      "\n",
      "\n",
      "--- Working on 1-to-1 correspondence-----\n",
      "max(original_labels),len(original_labels) = (6, 7)\n",
      "empty_indices % = 0.06494860718009832\n",
      " conflict_indices % = 0.027111574556830033\n"
     ]
    },
    {
     "data": {
      "application/vnd.jupyter.widget-view+json": {
       "model_id": "4232b51edfdc4ba8b3b4e34d10e0bbed",
       "version_major": 2,
       "version_minor": 0
      },
      "text/plain": [
       "  0%|          | 0/27 [00:00<?, ?it/s]"
      ]
     },
     "metadata": {},
     "output_type": "display_data"
    },
    {
     "name": "stdout",
     "output_type": "stream",
     "text": [
      "Took 0 iterations to expand the label back\n",
      "empty_indices % = 0.0\n",
      " conflict_indices % = 0.0\n"
     ]
    },
    {
     "data": {
      "application/vnd.jupyter.widget-view+json": {
       "model_id": "2e5eee6c93024b0fb167075ab82131ae",
       "version_major": 2,
       "version_minor": 0
      },
      "text/plain": [
       "0it [00:00, ?it/s]"
      ]
     },
     "metadata": {},
     "output_type": "display_data"
    },
    {
     "data": {
      "application/vnd.jupyter.widget-view+json": {
       "model_id": "e0510e22e8114c1f9138acedf2d1e9eb",
       "version_major": 2,
       "version_minor": 0
      },
      "text/plain": [
       "  0%|          | 0/7 [00:00<?, ?it/s]"
      ]
     },
     "metadata": {},
     "output_type": "display_data"
    },
    {
     "name": "stdout",
     "output_type": "stream",
     "text": [
      "Total time for MAP sublimb #0 mesh processing = 13.916558265686035\n",
      "correspondence_1_to_1: 0.5931737422943115\n",
      "Total time for MAP sublimb processing 13.916636943817139\n",
      "There were not both MAP and MP pieces so skipping the stitch resolving phase\n",
      "Time for decomp of Limb = 14.615694999694824\n",
      "Number of matching vertices = 13\n",
      "Only one endpoint after filtering away the endpoints that are not on the skeleton\n",
      "Removed 0 skeletal branches\n"
     ]
    },
    {
     "data": {
      "application/vnd.jupyter.widget-view+json": {
       "model_id": "6976a5675d7244a9827ffadeb48f9f81",
       "version_major": 2,
       "version_minor": 0
      },
      "text/plain": [
       "  0%|          | 0/7 [00:00<?, ?it/s]"
      ]
     },
     "metadata": {},
     "output_type": "display_data"
    },
    {
     "name": "stdout",
     "output_type": "stream",
     "text": [
      "6712 6713\n",
      "For marked faces: None\n",
      "empty_indices % = 0.0\n",
      " conflict_indices % = 0.0\n"
     ]
    },
    {
     "data": {
      "application/vnd.jupyter.widget-view+json": {
       "model_id": "400f32a55ead42748eeef848370042a9",
       "version_major": 2,
       "version_minor": 0
      },
      "text/plain": [
       "0it [00:00, ?it/s]"
      ]
     },
     "metadata": {},
     "output_type": "display_data"
    },
    {
     "data": {
      "application/vnd.jupyter.widget-view+json": {
       "model_id": "8430245522594ce68c16c9988b78cbc6",
       "version_major": 2,
       "version_minor": 0
      },
      "text/plain": [
       "  0%|          | 0/7 [00:00<?, ?it/s]"
      ]
     },
     "metadata": {},
     "output_type": "display_data"
    },
    {
     "name": "stdout",
     "output_type": "stream",
     "text": [
      "Successful Limb Decomposition\n",
      "\n",
      "\n",
      "----- Working on Proper Limb # 4 ---------\n",
      "meshparty_segment_size = 100\n",
      "invalidation_d = 12000\n",
      "use_adaptive_invalidation_d= False\n",
      "axon_width_preprocess_limb_max = 200\n",
      "filter_end_node_length= 4000\n",
      "filter_end_node_length_meshparty = 4000\n",
      "invalidation_d = 12000\n",
      "root_curr = [1350760.  1206437.   144522.1]\n",
      "Time for preparing soma vertices and root: 0.0002810955047607422\n",
      "invalidation_d = 12000\n",
      "smooth_neighborhood = 1\n",
      "cc_vertex_thresh = 10\n"
     ]
    },
    {
     "name": "stderr",
     "output_type": "stream",
     "text": [
      "  0%|                                                                                                                                                                                                                          | 0/1 [00:00<?, ?it/s]"
     ]
    },
    {
     "data": {
      "application/vnd.jupyter.widget-view+json": {
       "model_id": "e2bfe064222147c2928658d28df69220",
       "version_major": 2,
       "version_minor": 0
      },
      "text/plain": [
       "  0%|          | 0/2561 [00:00<?, ?it/s]"
      ]
     },
     "metadata": {},
     "output_type": "display_data"
    },
    {
     "name": "stderr",
     "output_type": "stream",
     "text": [
      "100%|██████████████████████████████████████████████████████████████████████████████████████████████████████████████████████████████████████████████████████████████████████████████████████████████████████████████████| 1/1 [00:00<00:00, 45.04it/s]"
     ]
    },
    {
     "name": "stdout",
     "output_type": "stream",
     "text": [
      "meshparty_segment_size = 100\n",
      "Time for 1st pass MP skeletonization: 0.12885403633117676\n",
      "branches_touching_root = [0]\n",
      "combining close nodes\n",
      "combine_threshold = 700\n"
     ]
    },
    {
     "name": "stderr",
     "output_type": "stream",
     "text": [
      "\n"
     ]
    },
    {
     "name": "stdout",
     "output_type": "stream",
     "text": [
      "length of Graph = 701\n",
      "After combining close endpoints max(kept_branches_idx) = 0, len(kept_branches_idx) = 1\n",
      "empty_indices % = 0.0\n",
      " conflict_indices % = 0.0\n"
     ]
    },
    {
     "data": {
      "application/vnd.jupyter.widget-view+json": {
       "model_id": "3aa3e3fa741b4b4aa66e04eb9fc285f8",
       "version_major": 2,
       "version_minor": 0
      },
      "text/plain": [
       "0it [00:00, ?it/s]"
      ]
     },
     "metadata": {},
     "output_type": "display_data"
    },
    {
     "data": {
      "application/vnd.jupyter.widget-view+json": {
       "model_id": "a8719428c70d445eaf2f009e90618167",
       "version_major": 2,
       "version_minor": 0
      },
      "text/plain": [
       "  0%|          | 0/1 [00:00<?, ?it/s]"
      ]
     },
     "metadata": {},
     "output_type": "display_data"
    },
    {
     "name": "stdout",
     "output_type": "stream",
     "text": [
      "Decomposing first pass: 0.33918118476867676\n",
      "Attempting to use MeshAfterParty Skeletonization and Mesh Correspondence\n",
      "Another print\n",
      "Found len(mesh_large_idx) MAP candidates: [5115]\n",
      "mesh_large_connectivity: 0.00013637542724609375\n",
      "Finding MAP candidates connected components: 5.698204040527344e-05\n",
      "len(filtered_pieces) = 1\n",
      "skeleton_connectivity_MP : 0.002239704132080078\n",
      "Grouping MP Sublimbs by Graph: 2.0742416381835938e-05\n",
      "Divinding into MP and MAP pieces: 7.152557373046875e-07\n",
      "--- Working on MAP piece 0---\n",
      "MAP Filtering Soma Pieces: 0.020679950714111328\n",
      "inside skeletonize_connected_branch and use_surface_after_CGAL=True, surface_reconstruction_size=1000\n",
      "keep_idx = [0]\n",
      "     Starting Screened Poisson\n",
      "xvfb-run -n 6071 -s \"-screen 0 800x600x24\" meshlabserver $@  -i /neurd_packages/neuron_mesh_tools/CONNECTS/Chen_Lab/temp/None.off -o /neurd_packages/neuron_mesh_tools/CONNECTS/Chen_Lab/temp/None_poisson.off -s /neurd_packages/neuron_mesh_tools/CONNECTS/Chen_Lab/temp/poisson_227226.mls\n",
      "removed temporary input file: /neurd_packages/neuron_mesh_tools/CONNECTS/Chen_Lab/temp/None.off\n",
      "removed temporary output file: /neurd_packages/neuron_mesh_tools/CONNECTS/Chen_Lab/temp/None_poisson.off\n",
      "Using the close holes feature\n",
      "xvfb-run -n 9848 -s \"-screen 0 800x600x24\" meshlabserver $@  -i /neurd_packages/neuron_mesh_tools/CONNECTS/Chen_Lab/temp/neuron_88635.off -o /neurd_packages/neuron_mesh_tools/CONNECTS/Chen_Lab/temp/neuron_88635_fill_holes.off -s /neurd_packages/neuron_mesh_tools/CONNECTS/Chen_Lab/temp/fill_holes_818256.mls\n",
      "removed temporary input file: /neurd_packages/neuron_mesh_tools/CONNECTS/Chen_Lab/temp/neuron_88635.off\n",
      "removed temporary output file: /neurd_packages/neuron_mesh_tools/CONNECTS/Chen_Lab/temp/neuron_88635_fill_holes.off\n",
      "/neurd_packages/neuron_mesh_tools/CONNECTS/Chen_Lab/temp/fill_holes_818256.mls is being deleted....\n",
      "-----Time for Screened Poisson= 7.449549198150635\n",
      "mesh_pieces = [<trimesh.Trimesh(vertices.shape=(3447, 3), faces.shape=(6890, 3))>, <trimesh.Trimesh(vertices.shape=(1939, 3), faces.shape=(3874, 3))>]\n",
      "     Starting Calcification (Changed back where stitches large poissons)\n",
      "Manifold status before skeletonization = True\n",
      "Watertight status before skeletonization = True\n",
      "min_edge_length = 75\n",
      "Manifold status before skeletonization = True\n",
      "Watertight status before skeletonization = True\n",
      "min_edge_length = 75\n",
      "Before mesh subtraction number of skeleton edges = 433\n"
     ]
    },
    {
     "data": {
      "application/vnd.jupyter.widget-view+json": {
       "model_id": "f69f2ea4b1a84eb9a028b08f12f9d27d",
       "version_major": 2,
       "version_minor": 0
      },
      "text/plain": [
       "0it [00:00, ?it/s]"
      ]
     },
     "metadata": {},
     "output_type": "display_data"
    },
    {
     "name": "stdout",
     "output_type": "stream",
     "text": [
      "len(leftover_meshes_sig) = []\n"
     ]
    },
    {
     "data": {
      "application/vnd.jupyter.widget-view+json": {
       "model_id": "4b20165e179646d7ad55b78cccacba91",
       "version_major": 2,
       "version_minor": 0
      },
      "text/plain": [
       "0it [00:00, ?it/s]"
      ]
     },
     "metadata": {},
     "output_type": "display_data"
    },
    {
     "name": "stdout",
     "output_type": "stream",
     "text": [
      "No skeletons to stack so returning empty list\n",
      "STacking the leftover and significant poisson skeleton\n",
      "max_stitch_distance = 5000\n",
      "len_subgraphs AT BEGINNING of the loop\n"
     ]
    },
    {
     "data": {
      "application/vnd.jupyter.widget-view+json": {
       "model_id": "a708f7ef393644dd810d73d122b6e3e3",
       "version_major": 2,
       "version_minor": 0
      },
      "text/plain": [
       "  0%|          | 0/2 [00:00<?, ?it/s]"
      ]
     },
     "metadata": {},
     "output_type": "display_data"
    },
    {
     "name": "stdout",
     "output_type": "stream",
     "text": [
      "all graph is one component!\n",
      "Total time for skeleton stitching = 0.027408123016357422\n",
      "The process was using a temp folder\n",
      "Checking connected components after skeletonize_connected_branch\n",
      "    Total time for skeletonizing branch: 8.565596580505371\n",
      "Checking connected components after removing cycles\n",
      "Total time for mesh KDTree = 0.07604336738586426\n",
      "sbv[0].reshape(-1,3) = [[1350760.  1206437.   144522.1]]\n",
      "closest_sk_pt_coord BEFORE = [1351080. 1206990.  144852.]\n",
      "current_skeleton.shape = (433, 2, 3)\n",
      "node_for_stitch = 0: [1351080. 1206990.  144852.]\n",
      "node_for_stitch AFTER = 0: [1351080. 1206990.  144852.]\n",
      "possible_node_loc = [  0 409 433]\n",
      "possible_node_loc AFTER = [  0 409 433]\n",
      "curr_shortest_path = [0]\n",
      "Current stitch point was a branch or endpoint\n",
      "change_status for create soma extending pieces = False\n",
      "closest_sk_pt_coord AFTER = [1351080. 1206990.  144852.]\n",
      "skipping soma 0 because closest skeleton node was already end node\n",
      "endpoints_must_keep = {0: array([[1351080., 1206990.,  144852.]])}\n",
      "    Total time for Fixing Skeleton Soma Endpoint Extension : 0.2432403564453125\n",
      "filter_end_node_length = 4000\n"
     ]
    },
    {
     "data": {
      "application/vnd.jupyter.widget-view+json": {
       "model_id": "d402a81106624b5297cb5d7391f7c899",
       "version_major": 2,
       "version_minor": 0
      },
      "text/plain": [
       "  0%|          | 0/2 [00:00<?, ?it/s]"
      ]
     },
     "metadata": {},
     "output_type": "display_data"
    },
    {
     "name": "stdout",
     "output_type": "stream",
     "text": [
      "Checking connected components after clean_skeleton\n",
      "after DISTANCE cleaning limb size of skeleton = (430, 2, 3)\n",
      "********COMBINING CLOSE SKELETON NODES WITHIN 700 DISTANCE**********\n",
      "combine_threshold = 700\n",
      "Found 0 valid paths to replace\n",
      "valid_paths = []\n",
      "valid_path_lengths = []\n",
      "No valid paths found so just returning the original\n",
      "skeletonize_and_clean_connected_branch_CGAL: 9.288976430892944\n",
      "Working on limb correspondence for #0 MAP piece\n",
      "xvfb-run -n 7954 -s \"-screen 0 800x600x24\" meshlabserver $@  -i /neurd_packages/neuron_mesh_tools/CONNECTS/Chen_Lab/temp/neuron_61819.off -o /neurd_packages/neuron_mesh_tools/CONNECTS/Chen_Lab/temp/neuron_61819_remove_interior.off -s /neurd_packages/neuron_mesh_tools/CONNECTS/Chen_Lab/temp/remove_interior_746417.mls\n",
      "removed temporary input file: /neurd_packages/neuron_mesh_tools/CONNECTS/Chen_Lab/temp/neuron_61819.off\n",
      "removed temporary output file: /neurd_packages/neuron_mesh_tools/CONNECTS/Chen_Lab/temp/neuron_61819_remove_interior.off\n",
      "/neurd_packages/neuron_mesh_tools/CONNECTS/Chen_Lab/temp/remove_interior_746417.mls is being deleted....\n",
      "No significant (100) interior meshes present\n"
     ]
    },
    {
     "data": {
      "application/vnd.jupyter.widget-view+json": {
       "model_id": "fd6f7c52ac484c568fa93e4329663eac",
       "version_major": 2,
       "version_minor": 0
      },
      "text/plain": [
       "0it [00:00, ?it/s]"
      ]
     },
     "metadata": {},
     "output_type": "display_data"
    },
    {
     "name": "stdout",
     "output_type": "stream",
     "text": [
      "Total time for decomposition = 1.662067174911499\n",
      "mesh_correspondence_first_pass: 1.6620945930480957\n",
      "Limb decomposed into 1 branches\n",
      "divided_skeleton_graph_recovered = (430, 2, 3) and \n",
      "current_mesh_data[0]['branch_skeletons_cleaned'].shape = (430, 2, 3)\n",
      "\n",
      "Number of connected components in deocmposed recovered graph = 1\n",
      "Number of connected components in cleaned skeleton graph= 1\n",
      "The downsampled branches number of connected components = 1\n",
      "Empty submeshes = []\n",
      "\n",
      "\n",
      "--- Working on 1-to-1 correspondence-----\n",
      "max(original_labels),len(original_labels) = (0, 1)\n",
      "empty_indices % = 0.029912023460410556\n",
      " conflict_indices % = 0.0\n"
     ]
    },
    {
     "data": {
      "application/vnd.jupyter.widget-view+json": {
       "model_id": "dae295fc75494b708ce4b1ababdb48a8",
       "version_major": 2,
       "version_minor": 0
      },
      "text/plain": [
       "  0%|          | 0/4 [00:00<?, ?it/s]"
      ]
     },
     "metadata": {},
     "output_type": "display_data"
    },
    {
     "name": "stdout",
     "output_type": "stream",
     "text": [
      "Took 0 iterations to expand the label back\n",
      "empty_indices % = 0.0\n",
      " conflict_indices % = 0.0\n"
     ]
    },
    {
     "data": {
      "application/vnd.jupyter.widget-view+json": {
       "model_id": "a5eed3bb4f9e46f1be76b9394c141f1c",
       "version_major": 2,
       "version_minor": 0
      },
      "text/plain": [
       "0it [00:00, ?it/s]"
      ]
     },
     "metadata": {},
     "output_type": "display_data"
    },
    {
     "data": {
      "application/vnd.jupyter.widget-view+json": {
       "model_id": "1469383b29db4e86a8f8d7cf6ff6f31e",
       "version_major": 2,
       "version_minor": 0
      },
      "text/plain": [
       "  0%|          | 0/1 [00:00<?, ?it/s]"
      ]
     },
     "metadata": {},
     "output_type": "display_data"
    },
    {
     "name": "stdout",
     "output_type": "stream",
     "text": [
      "Total time for MAP sublimb #0 mesh processing = 11.852544784545898\n",
      "correspondence_1_to_1: 0.8811349868774414\n",
      "Total time for MAP sublimb processing 11.85298204421997\n",
      "There were not both MAP and MP pieces so skipping the stitch resolving phase\n",
      "Time for decomp of Limb = 12.338790655136108\n",
      "Number of matching vertices = 11\n",
      "Only one endpoint after filtering away the endpoints that are not on the skeleton\n",
      "Removed 0 skeletal branches\n"
     ]
    },
    {
     "data": {
      "application/vnd.jupyter.widget-view+json": {
       "model_id": "30d147dbef2b460c9e006a4d915664c0",
       "version_major": 2,
       "version_minor": 0
      },
      "text/plain": [
       "  0%|          | 0/1 [00:00<?, ?it/s]"
      ]
     },
     "metadata": {},
     "output_type": "display_data"
    },
    {
     "name": "stdout",
     "output_type": "stream",
     "text": [
      "5114 5115\n",
      "For marked faces: None\n",
      "empty_indices % = 0.0\n",
      " conflict_indices % = 0.0\n"
     ]
    },
    {
     "data": {
      "application/vnd.jupyter.widget-view+json": {
       "model_id": "4cec4761adcc43e9825b241e55c27509",
       "version_major": 2,
       "version_minor": 0
      },
      "text/plain": [
       "0it [00:00, ?it/s]"
      ]
     },
     "metadata": {},
     "output_type": "display_data"
    },
    {
     "data": {
      "application/vnd.jupyter.widget-view+json": {
       "model_id": "058ea53c261841a4819d42881511ddd8",
       "version_major": 2,
       "version_minor": 0
      },
      "text/plain": [
       "  0%|          | 0/1 [00:00<?, ?it/s]"
      ]
     },
     "metadata": {},
     "output_type": "display_data"
    },
    {
     "name": "stdout",
     "output_type": "stream",
     "text": [
      "Successful Limb Decomposition\n",
      "\n",
      "\n",
      "----- Working on Proper Limb # 5 ---------\n",
      "meshparty_segment_size = 100\n",
      "invalidation_d = 12000\n",
      "use_adaptive_invalidation_d= False\n",
      "axon_width_preprocess_limb_max = 200\n",
      "filter_end_node_length= 4000\n",
      "filter_end_node_length_meshparty = 4000\n",
      "invalidation_d = 12000\n",
      "root_curr = [1349669.  1200470.   144643.6]\n",
      "Time for preparing soma vertices and root: 0.0002129077911376953\n",
      "invalidation_d = 12000\n",
      "smooth_neighborhood = 1\n",
      "cc_vertex_thresh = 10\n"
     ]
    },
    {
     "name": "stderr",
     "output_type": "stream",
     "text": [
      "  0%|                                                                                                                                                                                                                          | 0/1 [00:00<?, ?it/s]"
     ]
    },
    {
     "data": {
      "application/vnd.jupyter.widget-view+json": {
       "model_id": "a78e41aa6a7d45e686fd6622900d05b2",
       "version_major": 2,
       "version_minor": 0
      },
      "text/plain": [
       "  0%|          | 0/2123 [00:00<?, ?it/s]"
      ]
     },
     "metadata": {},
     "output_type": "display_data"
    },
    {
     "name": "stderr",
     "output_type": "stream",
     "text": [
      "100%|██████████████████████████████████████████████████████████████████████████████████████████████████████████████████████████████████████████████████████████████████████████████████████████████████████████████████| 1/1 [00:00<00:00, 45.48it/s]"
     ]
    },
    {
     "name": "stdout",
     "output_type": "stream",
     "text": [
      "meshparty_segment_size = 100\n",
      "Time for 1st pass MP skeletonization: 0.18636155128479004\n",
      "connecting at the root\n",
      "branches_touching_root = [2]\n"
     ]
    },
    {
     "name": "stderr",
     "output_type": "stream",
     "text": [
      "\n"
     ]
    },
    {
     "name": "stdout",
     "output_type": "stream",
     "text": [
      "combining close nodes\n",
      "combine_threshold = 700\n",
      "length of Graph = 525\n",
      "After combining close endpoints max(kept_branches_idx) = 2, len(kept_branches_idx) = 3\n",
      "empty_indices % = 0.0\n",
      " conflict_indices % = 0.01625058878944889\n"
     ]
    },
    {
     "data": {
      "application/vnd.jupyter.widget-view+json": {
       "model_id": "a244a511a136418fb16eb2f6144ad467",
       "version_major": 2,
       "version_minor": 0
      },
      "text/plain": [
       "  0%|          | 0/1 [00:00<?, ?it/s]"
      ]
     },
     "metadata": {},
     "output_type": "display_data"
    },
    {
     "data": {
      "application/vnd.jupyter.widget-view+json": {
       "model_id": "9926dd098d0f462397ce5c18f88b01f3",
       "version_major": 2,
       "version_minor": 0
      },
      "text/plain": [
       "  0%|          | 0/3 [00:00<?, ?it/s]"
      ]
     },
     "metadata": {},
     "output_type": "display_data"
    },
    {
     "name": "stdout",
     "output_type": "stream",
     "text": [
      "Decomposing first pass: 0.32489848136901855\n",
      "Attempting to use MeshAfterParty Skeletonization and Mesh Correspondence\n",
      "Another print\n",
      "Found len(mesh_large_idx) MAP candidates: [1849, 1642]\n",
      "mesh_large_connectivity: 0.001497507095336914\n",
      "Finding MAP candidates connected components: 8.58306884765625e-05\n",
      "len(filtered_pieces) = 1\n",
      "skeleton_connectivity_MP : 0.00605010986328125\n",
      "Grouping MP Sublimbs by Graph: 0.0013155937194824219\n",
      "Divinding into MP and MAP pieces: 9.5367431640625e-07\n",
      "--- Working on MAP piece 0---\n",
      "MAP Filtering Soma Pieces: 0.015086174011230469\n",
      "inside skeletonize_connected_branch and use_surface_after_CGAL=True, surface_reconstruction_size=1000\n",
      "keep_idx = [0]\n",
      "     Starting Screened Poisson\n",
      "xvfb-run -n 1978 -s \"-screen 0 800x600x24\" meshlabserver $@  -i /neurd_packages/neuron_mesh_tools/CONNECTS/Chen_Lab/temp/None.off -o /neurd_packages/neuron_mesh_tools/CONNECTS/Chen_Lab/temp/None_poisson.off -s /neurd_packages/neuron_mesh_tools/CONNECTS/Chen_Lab/temp/poisson_866755.mls\n",
      "removed temporary input file: /neurd_packages/neuron_mesh_tools/CONNECTS/Chen_Lab/temp/None.off\n",
      "removed temporary output file: /neurd_packages/neuron_mesh_tools/CONNECTS/Chen_Lab/temp/None_poisson.off\n",
      "Using the close holes feature\n",
      "xvfb-run -n 2880 -s \"-screen 0 800x600x24\" meshlabserver $@  -i /neurd_packages/neuron_mesh_tools/CONNECTS/Chen_Lab/temp/neuron_79758.off -o /neurd_packages/neuron_mesh_tools/CONNECTS/Chen_Lab/temp/neuron_79758_fill_holes.off -s /neurd_packages/neuron_mesh_tools/CONNECTS/Chen_Lab/temp/fill_holes_358726.mls\n",
      "removed temporary input file: /neurd_packages/neuron_mesh_tools/CONNECTS/Chen_Lab/temp/neuron_79758.off\n",
      "removed temporary output file: /neurd_packages/neuron_mesh_tools/CONNECTS/Chen_Lab/temp/neuron_79758_fill_holes.off\n",
      "/neurd_packages/neuron_mesh_tools/CONNECTS/Chen_Lab/temp/fill_holes_358726.mls is being deleted....\n",
      "-----Time for Screened Poisson= 7.1457085609436035\n",
      "mesh_pieces = [<trimesh.Trimesh(vertices.shape=(3645, 3), faces.shape=(7286, 3))>]\n",
      "     Starting Calcification (Changed back where stitches large poissons)\n",
      "Manifold status before skeletonization = True\n",
      "Watertight status before skeletonization = True\n",
      "min_edge_length = 75\n",
      "Before mesh subtraction number of skeleton edges = 310\n"
     ]
    },
    {
     "data": {
      "application/vnd.jupyter.widget-view+json": {
       "model_id": "df46eece824f423daccfd05cbe84482b",
       "version_major": 2,
       "version_minor": 0
      },
      "text/plain": [
       "0it [00:00, ?it/s]"
      ]
     },
     "metadata": {},
     "output_type": "display_data"
    },
    {
     "name": "stdout",
     "output_type": "stream",
     "text": [
      "len(leftover_meshes_sig) = []\n"
     ]
    },
    {
     "data": {
      "application/vnd.jupyter.widget-view+json": {
       "model_id": "36bc28da1c69458e8d0cddb0b4d2fd88",
       "version_major": 2,
       "version_minor": 0
      },
      "text/plain": [
       "0it [00:00, ?it/s]"
      ]
     },
     "metadata": {},
     "output_type": "display_data"
    },
    {
     "name": "stdout",
     "output_type": "stream",
     "text": [
      "No skeletons to stack so returning empty list\n",
      "STacking the leftover and significant poisson skeleton\n",
      "max_stitch_distance = 5000\n",
      "len_subgraphs AT BEGINNING of the loop\n"
     ]
    },
    {
     "data": {
      "application/vnd.jupyter.widget-view+json": {
       "model_id": "1638aa1180fa42c0a8d710b2acd7e534",
       "version_major": 2,
       "version_minor": 0
      },
      "text/plain": [
       "  0%|          | 0/1 [00:00<?, ?it/s]"
      ]
     },
     "metadata": {},
     "output_type": "display_data"
    },
    {
     "name": "stdout",
     "output_type": "stream",
     "text": [
      "all graph is one component!\n",
      "Total time for skeleton stitching = 0.01755499839782715\n",
      "The process was using a temp folder\n",
      "Checking connected components after skeletonize_connected_branch\n",
      "    Total time for skeletonizing branch: 7.906566143035889\n",
      "Checking connected components after removing cycles\n",
      "Total time for mesh KDTree = 0.026730060577392578\n",
      "sbv[0].reshape(-1,3) = [[1349669.  1200470.   144643.6]]\n",
      "closest_sk_pt_coord BEFORE = [1349200. 1200520.  144691.]\n",
      "current_skeleton.shape = (309, 2, 3)\n",
      "node_for_stitch = 0: [1349200. 1200520.  144691.]\n",
      "node_for_stitch AFTER = 0: [1349200. 1200520.  144691.]\n",
      "possible_node_loc = [  0  59 233 309]\n",
      "possible_node_loc AFTER = [  0  59 233 309]\n",
      "curr_shortest_path = [0]\n",
      "Current stitch point was a branch or endpoint\n",
      "change_status for create soma extending pieces = False\n",
      "closest_sk_pt_coord AFTER = [1349200. 1200520.  144691.]\n",
      "skipping soma 0 because closest skeleton node was already end node\n",
      "endpoints_must_keep = {0: array([[1349200., 1200520.,  144691.]])}\n",
      "    Total time for Fixing Skeleton Soma Endpoint Extension : 0.14426374435424805\n",
      "filter_end_node_length = 4000\n"
     ]
    },
    {
     "data": {
      "application/vnd.jupyter.widget-view+json": {
       "model_id": "f46d1d62139849b7920d7cac715f8264",
       "version_major": 2,
       "version_minor": 0
      },
      "text/plain": [
       "  0%|          | 0/1 [00:00<?, ?it/s]"
      ]
     },
     "metadata": {},
     "output_type": "display_data"
    },
    {
     "name": "stdout",
     "output_type": "stream",
     "text": [
      "Checking connected components after clean_skeleton\n",
      "after DISTANCE cleaning limb size of skeleton = (286, 2, 3)\n",
      "********COMBINING CLOSE SKELETON NODES WITHIN 700 DISTANCE**********\n",
      "combine_threshold = 700\n",
      "Found 0 valid paths to replace\n",
      "valid_paths = []\n",
      "valid_path_lengths = []\n",
      "No valid paths found so just returning the original\n",
      "skeletonize_and_clean_connected_branch_CGAL: 8.367046356201172\n",
      "Working on limb correspondence for #0 MAP piece\n",
      "xvfb-run -n 2304 -s \"-screen 0 800x600x24\" meshlabserver $@  -i /neurd_packages/neuron_mesh_tools/CONNECTS/Chen_Lab/temp/neuron_79621.off -o /neurd_packages/neuron_mesh_tools/CONNECTS/Chen_Lab/temp/neuron_79621_remove_interior.off -s /neurd_packages/neuron_mesh_tools/CONNECTS/Chen_Lab/temp/remove_interior_353586.mls\n",
      "removed temporary input file: /neurd_packages/neuron_mesh_tools/CONNECTS/Chen_Lab/temp/neuron_79621.off\n",
      "removed temporary output file: /neurd_packages/neuron_mesh_tools/CONNECTS/Chen_Lab/temp/neuron_79621_remove_interior.off\n",
      "/neurd_packages/neuron_mesh_tools/CONNECTS/Chen_Lab/temp/remove_interior_353586.mls is being deleted....\n",
      "No significant (100) interior meshes present\n",
      "largest is 33\n"
     ]
    },
    {
     "data": {
      "application/vnd.jupyter.widget-view+json": {
       "model_id": "ac57e47d079a4df984e17c0dd9ba7b19",
       "version_major": 2,
       "version_minor": 0
      },
      "text/plain": [
       "0it [00:00, ?it/s]"
      ]
     },
     "metadata": {},
     "output_type": "display_data"
    },
    {
     "name": "stdout",
     "output_type": "stream",
     "text": [
      "Total time for decomposition = 1.2980268001556396\n",
      "mesh_correspondence_first_pass: 1.29805588722229\n",
      "Limb decomposed into 3 branches\n",
      "divided_skeleton_graph_recovered = (286, 2, 3) and \n",
      "current_mesh_data[0]['branch_skeletons_cleaned'].shape = (286, 2, 3)\n",
      "\n",
      "Number of connected components in deocmposed recovered graph = 1\n",
      "Number of connected components in cleaned skeleton graph= 1\n",
      "The downsampled branches number of connected components = 1\n",
      "Empty submeshes = []\n",
      "\n",
      "\n",
      "--- Working on 1-to-1 correspondence-----\n",
      "max(original_labels),len(original_labels) = (2, 3)\n",
      "empty_indices % = 0.08879977083930106\n",
      " conflict_indices % = 0.01632769979948439\n"
     ]
    },
    {
     "data": {
      "application/vnd.jupyter.widget-view+json": {
       "model_id": "e9a1a9d262e04befb1c83bddb2375370",
       "version_major": 2,
       "version_minor": 0
      },
      "text/plain": [
       "  0%|          | 0/10 [00:00<?, ?it/s]"
      ]
     },
     "metadata": {},
     "output_type": "display_data"
    },
    {
     "name": "stdout",
     "output_type": "stream",
     "text": [
      "Took 0 iterations to expand the label back\n",
      "empty_indices % = 0.0\n",
      " conflict_indices % = 0.0\n"
     ]
    },
    {
     "data": {
      "application/vnd.jupyter.widget-view+json": {
       "model_id": "42ce700a8ba349319c6dad1ac3bd4d91",
       "version_major": 2,
       "version_minor": 0
      },
      "text/plain": [
       "0it [00:00, ?it/s]"
      ]
     },
     "metadata": {},
     "output_type": "display_data"
    },
    {
     "data": {
      "application/vnd.jupyter.widget-view+json": {
       "model_id": "bdc2712fb4a54d0684100f6538b89911",
       "version_major": 2,
       "version_minor": 0
      },
      "text/plain": [
       "  0%|          | 0/3 [00:00<?, ?it/s]"
      ]
     },
     "metadata": {},
     "output_type": "display_data"
    },
    {
     "name": "stdout",
     "output_type": "stream",
     "text": [
      "Total time for MAP sublimb #0 mesh processing = 9.978801250457764\n",
      "correspondence_1_to_1: 0.2986164093017578\n",
      "Total time for MAP sublimb processing 9.978885412216187\n",
      "---- Working on MP Decomposition #0 ----\n",
      "Computing the current soma touching verts dict manually\n",
      "MP filtering soma verts: 0.018974781036376953\n",
      "Do Not Need to Fix MP Decomposition 0 so just continuing\n",
      "Successful mesh connectivity with type edges\n",
      "\n",
      "---- Working on (0, 0) connection-----\n",
      "sk_conn = [0]\n",
      "conn = [0]\n",
      "winning_vertex = [1357579.56902311 1191999.86481074  152652.72379055]\n",
      "MP_branches_with_stitch_point = [0]\n",
      "MAP_branches_with_stitch_point = [2]\n",
      "MAP_stitch_point_on_end_or_branch = False\n"
     ]
    },
    {
     "data": {
      "application/vnd.jupyter.widget-view+json": {
       "model_id": "c978870ac81842a08359c4c5e5e381e8",
       "version_major": 2,
       "version_minor": 0
      },
      "text/plain": [
       "0it [00:00, ?it/s]"
      ]
     },
     "metadata": {},
     "output_type": "display_data"
    },
    {
     "name": "stdout",
     "output_type": "stream",
     "text": [
      "\n",
      "\n",
      "--- Working on 1-to-1 correspondence-----\n",
      "max(original_labels),len(original_labels) = (1, 2)\n",
      "empty_indices % = 0.1126338329764454\n",
      " conflict_indices % = 0.002569593147751606\n"
     ]
    },
    {
     "data": {
      "application/vnd.jupyter.widget-view+json": {
       "model_id": "a23a41498dba42b4a2fa9403ed9a62b6",
       "version_major": 2,
       "version_minor": 0
      },
      "text/plain": [
       "  0%|          | 0/8 [00:00<?, ?it/s]"
      ]
     },
     "metadata": {},
     "output_type": "display_data"
    },
    {
     "data": {
      "application/vnd.jupyter.widget-view+json": {
       "model_id": "86bd3ad5018045f8837bcef51825b84e",
       "version_major": 2,
       "version_minor": 0
      },
      "text/plain": [
       "  0%|          | 0/2 [00:00<?, ?it/s]"
      ]
     },
     "metadata": {},
     "output_type": "display_data"
    },
    {
     "data": {
      "application/vnd.jupyter.widget-view+json": {
       "model_id": "adafad3b366a49adad698ab44d89d8de",
       "version_major": 2,
       "version_minor": 0
      },
      "text/plain": [
       "0it [00:00, ?it/s]"
      ]
     },
     "metadata": {},
     "output_type": "display_data"
    },
    {
     "name": "stdout",
     "output_type": "stream",
     "text": [
      "\n",
      "\n",
      "--- Working on 1-to-1 correspondence-----\n",
      "max(original_labels),len(original_labels) = (2, 3)\n",
      "empty_indices % = 0.09902912621359224\n",
      " conflict_indices % = 0.02330097087378641\n"
     ]
    },
    {
     "data": {
      "application/vnd.jupyter.widget-view+json": {
       "model_id": "e26957ee5fc041e08d41755a0582ecaf",
       "version_major": 2,
       "version_minor": 0
      },
      "text/plain": [
       "  0%|          | 0/5 [00:00<?, ?it/s]"
      ]
     },
     "metadata": {},
     "output_type": "display_data"
    },
    {
     "data": {
      "application/vnd.jupyter.widget-view+json": {
       "model_id": "273bd692c0b74ccab2eb61c3f8c0e8a9",
       "version_major": 2,
       "version_minor": 0
      },
      "text/plain": [
       "  0%|          | 0/3 [00:00<?, ?it/s]"
      ]
     },
     "metadata": {},
     "output_type": "display_data"
    },
    {
     "name": "stdout",
     "output_type": "stream",
     "text": [
      "Deleting branches from dictionary\n",
      "MP_branches_with_stitch_point= [0]\n",
      "MP_branches_for_correspondence = [0]\n",
      "MP_leftover = [], MP_leftover_idx = []\n",
      " Finished with (0, 0) \n",
      "\n",
      "\n",
      "\n",
      "Time for decomp of Limb = 11.95068645477295\n",
      "Number of matching vertices = 16\n",
      "Only one endpoint after filtering away the endpoints that are not on the skeleton\n",
      "Removed 0 skeletal branches\n"
     ]
    },
    {
     "data": {
      "application/vnd.jupyter.widget-view+json": {
       "model_id": "31e278d384034e79b2a9ad17cfcc4077",
       "version_major": 2,
       "version_minor": 0
      },
      "text/plain": [
       "  0%|          | 0/5 [00:00<?, ?it/s]"
      ]
     },
     "metadata": {},
     "output_type": "display_data"
    },
    {
     "name": "stdout",
     "output_type": "stream",
     "text": [
      "4245 4246\n",
      "For marked faces: None\n",
      "empty_indices % = 0.0\n",
      " conflict_indices % = 0.0\n"
     ]
    },
    {
     "data": {
      "application/vnd.jupyter.widget-view+json": {
       "model_id": "689c18880ee4421eb95ef0b66f70e9a4",
       "version_major": 2,
       "version_minor": 0
      },
      "text/plain": [
       "0it [00:00, ?it/s]"
      ]
     },
     "metadata": {},
     "output_type": "display_data"
    },
    {
     "data": {
      "application/vnd.jupyter.widget-view+json": {
       "model_id": "2ecedb1690f1465baa9bd3c1cebf0df4",
       "version_major": 2,
       "version_minor": 0
      },
      "text/plain": [
       "  0%|          | 0/5 [00:00<?, ?it/s]"
      ]
     },
     "metadata": {},
     "output_type": "display_data"
    },
    {
     "name": "stdout",
     "output_type": "stream",
     "text": [
      "Successful Limb Decomposition\n",
      "Total time for Skeletonization and Mesh Correspondence = 152.44002723693848\n",
      "\n",
      "\n",
      " ----- Working on Stitching ----------\n",
      "Starting the floating pieces preprocessing\n",
      "Total time for stitching floating pieces = 5.221366882324219e-05\n",
      "Total time for Concept Networks = 1.3622355461120605\n",
      "Total time for all mesh and skeletonization decomp = 158.05255341529846\n",
      "No soma volume ratios so computing them now\n",
      "Using Poisson Surface Reconstruction for watertightness in soma_volume_ratio\n",
      "xvfb-run -n 6055 -s \"-screen 0 800x600x24\" meshlabserver $@  -i /neurd_packages/neuron_mesh_tools/CONNECTS/Chen_Lab/Poisson_temp/neuron_213843.off -o /neurd_packages/neuron_mesh_tools/CONNECTS/Chen_Lab/Poisson_temp/neuron_213843_poisson.off -s /neurd_packages/neuron_mesh_tools/CONNECTS/Chen_Lab/Poisson_temp/poisson_981240.mls\n",
      "removed temporary input file: /neurd_packages/neuron_mesh_tools/CONNECTS/Chen_Lab/Poisson_temp/neuron_213843.off\n",
      "removed temporary output file: /neurd_packages/neuron_mesh_tools/CONNECTS/Chen_Lab/Poisson_temp/neuron_213843_poisson.off\n",
      "mesh.is_watertight = True\n",
      "/neurd_packages/neuron_mesh_tools/CONNECTS/Chen_Lab/Poisson_temp/poisson_981240.mls is being deleted....\n",
      "--- 1) Finished unpacking preprocessed materials: 167.70258402824402\n",
      "total_edges = [['S0', 'L0'], ['S0', 'L1'], ['S0', 'L2'], ['S0', 'L3'], ['S0', 'L4'], ['S0', 'L5']]\n",
      "--- 2) Finished creating neuron connectivity graph: 0.0002720355987548828\n",
      "Having to generate soma_meshes_face_idx because none in preprocessed data\n",
      "--- 3a) Finshed generating soma_meshes_face_idx: 0.04351353645324707\n",
      "Using precomputed volume ratio\n",
      "--- 3b) Finished soma creation: 0.03732419013977051\n",
      "--- 3) Finshed generating soma objects and adding them to concept graph: 6.151199340820312e-05\n",
      "--- 4a) Finshed generating curr_limb_meshes_face_idx: 0.13961052894592285\n",
      "curr_limb_concept_networks= {0: [<datasci_tools.networkx_utils.GraphOrderedEdges object at 0x7fbce9255130>]}\n",
      "curr_limb_concept_networks= {0: [<datasci_tools.networkx_utils.GraphOrderedEdges object at 0x7fbcf08667c0>]}\n",
      "curr_limb_concept_networks= {0: [<datasci_tools.networkx_utils.GraphOrderedEdges object at 0x7fbb6c781700>]}\n",
      "curr_limb_concept_networks= {0: [<datasci_tools.networkx_utils.GraphOrderedEdges object at 0x7fba92fbceb0>]}\n",
      "curr_limb_concept_networks= {0: [<datasci_tools.networkx_utils.GraphOrderedEdges object at 0x7fba92fbce80>]}\n",
      "curr_limb_concept_networks= {0: [<datasci_tools.networkx_utils.GraphOrderedEdges object at 0x7fba92fbc880>]}\n",
      "--- 4) Finshed generating Limb objects and adding them to concept graph: 1.3249547481536865\n",
      "--- 5) SKIPPING Doing the adaptive mesh correspondence on the meshparty preprocessing ---\n",
      "--- 6) SKIPPING Using the computed_attribute_dict to populate neuron attributes ---\n",
      "self.n_limbs = 6\n",
      "7) Calculating the spines for the neuorn if do not already exist\n",
      "7a) calculating spines because didn't exist\n",
      "The median_mesh_center was requested but has not already been calculated so calculating now.... \n",
      "width_name BEFORE processing = None\n",
      "After processing\n",
      "width_name = median_mesh_center, distance_by_mesh_center= True, no_spines = False, summary_measure= median\n",
      "Working on limb L0 branch 15\n",
      "    current_width= 1089.9828968661784\n",
      "Working on limb L0 branch 14\n",
      "    current_width= 828.8907338923282\n",
      "Working on limb L0 branch 16\n",
      "    current_width= 415.95833806912344\n",
      "Working on limb L0 branch 12\n",
      "    current_width= 771.0632291031145\n",
      "Working on limb L0 branch 13\n",
      "    current_width= 386.10064140833373\n",
      "Working on limb L0 branch 8\n",
      "    current_width= 779.6649030243232\n",
      "Working on limb L0 branch 11\n",
      "    current_width= 246.53713053007215\n",
      "Working on limb L0 branch 6\n",
      "    current_width= 817.1551299684313\n",
      "Working on limb L0 branch 7\n",
      "    current_width= 435.1581110467687\n",
      "Working on limb L0 branch 4\n",
      "    current_width= 640.3194775904308\n",
      "Working on limb L0 branch 5\n",
      "    current_width= 389.708662250421\n",
      "Working on limb L0 branch 9\n",
      "    current_width= 335.37032907778655\n",
      "Working on limb L0 branch 10\n",
      "    current_width= 404.7999162651415\n",
      "Working on limb L0 branch 0\n",
      "    current_width= 438.4542512209946\n",
      "Working on limb L0 branch 3\n",
      "    current_width= 470.7790028029411\n",
      "Working on limb L0 branch 1\n",
      "    current_width= 279.95370304506366\n",
      "Working on limb L0 branch 2\n",
      "    current_width= 343.09695796759416\n",
      "Working on limb L1 branch 2\n",
      "    current_width= 1011.1936963210178\n",
      "Working on limb L1 branch 4\n",
      "    current_width= 491.9813164934752\n",
      "Working on limb L1 branch 7\n",
      "    current_width= 853.5003671387606\n",
      "Working on limb L1 branch 5\n",
      "    current_width= 241.61476800744978\n",
      "Working on limb L1 branch 6\n",
      "    current_width= 429.01119240933417\n",
      "Working on limb L1 branch 3\n",
      "    current_width= 371.5858871171059\n",
      "Working on limb L1 branch 10\n",
      "    current_width= 709.3666635976456\n",
      "Working on limb L1 branch 8\n",
      "    current_width= 443.9389710815309\n",
      "Working on limb L1 branch 9\n",
      "    current_width= 332.62144746123465\n",
      "Working on limb L1 branch 11\n",
      "    current_width= 717.2873041545292\n",
      "Working on limb L1 branch 12\n",
      "    current_width= 372.7814902591313\n",
      "Working on limb L1 branch 0\n",
      "    current_width= 248.36752722172034\n",
      "Working on limb L1 branch 1\n",
      "    current_width= 329.54104457130404\n",
      "Working on limb L1 branch 13\n",
      "    current_width= 314.3219852862786\n",
      "Working on limb L1 branch 14\n",
      "    current_width= 642.3152023046023\n",
      "Working on limb L1 branch 15\n",
      "    current_width= 283.89151378638667\n",
      "Working on limb L1 branch 16\n",
      "    current_width= 648.373364640162\n",
      "Working on limb L1 branch 17\n",
      "    current_width= 526.4768337356056\n",
      "Working on limb L1 branch 18\n",
      "    current_width= 259.0748242526305\n",
      "Working on limb L2 branch 4\n",
      "    current_width= 582.7727481366206\n",
      "Working on limb L2 branch 2\n",
      "    current_width= 460.7732860545435\n",
      "Working on limb L2 branch 3\n",
      "    current_width= 322.7720944324288\n",
      "Working on limb L2 branch 0\n",
      "    current_width= 368.9167601061096\n",
      "Working on limb L2 branch 1\n",
      "    current_width= 304.8481142094281\n",
      "Working on limb L3 branch 6\n",
      "    current_width= 643.8004597763227\n",
      "Working on limb L3 branch 4\n",
      "    current_width= 381.51408020181816\n",
      "Working on limb L3 branch 5\n",
      "    current_width= 437.62689864196267\n",
      "Working on limb L3 branch 0\n",
      "    current_width= 292.6544972475076\n",
      "Working on limb L3 branch 3\n",
      "    current_width= 303.1028465666103\n",
      "Working on limb L3 branch 1\n",
      "    current_width= 301.66938937697915\n",
      "Working on limb L3 branch 2\n",
      "    current_width= 316.3217398820092\n",
      "Working on limb L4 branch 0\n",
      "    current_width= 370.82450993292076\n",
      "Working on limb L5 branch 0\n",
      "    current_width= 446.1111963985836\n",
      "Working on limb L5 branch 1\n",
      "    current_width= 262.2417433042892\n",
      "Working on limb L5 branch 2\n",
      "    current_width= 430.40765593893633\n",
      "Working on limb L5 branch 3\n",
      "    current_width= 256.8088684705697\n",
      "Working on limb L5 branch 4\n",
      "    current_width= 345.3847885795383\n",
      "_centered_speed_tradeoff AFTER = 0.2\n",
      "medial centered AFTER 1\n",
      "AREA VARIATION AFTER 0.0001\n",
      "MAX ITERATIONS AFTER 500\n",
      "medial centered END 1\n",
      "set_medially_centered_speed_tradeoff END = 0.2\n",
      "quality_speed_tradeoff END = 0.2\n",
      "Max iterations END = 500\n",
      "AREA VARIATION END 0.0001\n",
      "Number of vertices of the skeleton: 909\n",
      "Number of edges of the skeleton: 908\n",
      "MAX ITERATIONS initially 500\n",
      "AREA VARIATION initially 0.0001\n",
      "medial centered initially 1\n",
      "medially_centered_speed_tradeoff initially 0.2\n",
      "quality_speed_tradeoff initially 0.1\n",
      "max_triangle_angle initially 1.91986\n",
      "min_edge_length initially 120.21\n",
      "setting the edge length by absolute length\n",
      "min_edge_length AFTER = 75\n",
      "max_triangle_angle AFTER = 1.91986\n",
      "quality_speed_tradeoff AFTER = 0.2\n",
      "set_medially_centered_speed_tradeoff AFTER = 0.2\n",
      "medial centered AFTER 1\n",
      "AREA VARIATION AFTER 0.0001\n",
      "MAX ITERATIONS AFTER 500\n",
      "medial centered END 1\n",
      "set_medially_centered_speed_tradeoff END = 0.2\n",
      "quality_speed_tradeoff END = 0.2\n",
      "Max iterations END = 500\n",
      "AREA VARIATION END 0.0001\n",
      "Number of vertices of the skeleton: 661\n",
      "Number of edges of the skeleton: 660\n",
      "MAX ITERATIONS initially 500\n",
      "AREA VARIATION initially 0.0001\n",
      "medial centered initially 1\n",
      "medially_centered_speed_tradeoff initially 0.2\n",
      "quality_speed_tradeoff initially 0.1\n",
      "max_triangle_angle initially 1.91986\n",
      "min_edge_length initially 92.2313\n",
      "setting the edge length by absolute length\n",
      "min_edge_length AFTER = 75\n",
      "max_triangle_angle AFTER = 1.91986\n",
      "quality_speed_tradeoff AFTER = 0.2\n",
      "set_medially_centered_speed_tradeoff AFTER = 0.2\n",
      "medial centered AFTER 1\n",
      "AREA VARIATION AFTER 0.0001\n",
      "MAX ITERATIONS AFTER 500\n",
      "medial centered END 1\n",
      "set_medially_centered_speed_tradeoff END = 0.2\n",
      "quality_speed_tradeoff END = 0.2\n",
      "Max iterations END = 500\n",
      "AREA VARIATION END 0.0001\n",
      "Number of vertices of the skeleton: 292\n",
      "Number of edges of the skeleton: 291\n",
      "MAX ITERATIONS initially 500\n",
      "AREA VARIATION initially 0.0001\n",
      "medial centered initially 1\n",
      "medially_centered_speed_tradeoff initially 0.2\n",
      "quality_speed_tradeoff initially 0.1\n",
      "max_triangle_angle initially 1.91986\n",
      "min_edge_length initially 46.7105\n",
      "setting the edge length by absolute length\n",
      "min_edge_length AFTER = 75\n",
      "max_triangle_angle AFTER = 1.91986\n",
      "quality_speed_tradeoff AFTER = 0.2\n",
      "set_medially_centered_speed_tradeoff AFTER = 0.2\n",
      "medial centered AFTER 1\n",
      "AREA VARIATION AFTER 0.0001\n",
      "MAX ITERATIONS AFTER 500\n",
      "medial centered END 1\n",
      "set_medially_centered_speed_tradeoff END = 0.2\n",
      "quality_speed_tradeoff END = 0.2\n",
      "Max iterations END = 500\n",
      "AREA VARIATION END 0.0001\n",
      "Number of vertices of the skeleton: 142\n",
      "Number of edges of the skeleton: 141\n",
      "MAX ITERATIONS initially 500\n",
      "AREA VARIATION initially 0.0001\n",
      "medial centered initially 1\n",
      "medially_centered_speed_tradeoff initially 0.2\n",
      "quality_speed_tradeoff initially 0.1\n",
      "max_triangle_angle initially 1.91986\n",
      "min_edge_length initially 80.6149\n",
      "setting the edge length by absolute length\n",
      "min_edge_length AFTER = 75\n",
      "max_triangle_angle AFTER = 1.91986\n",
      "quality_speed_tradeoff AFTER = 0.2\n",
      "set_medially_centered_speed_tradeoff AFTER = 0.2\n",
      "medial centered AFTER 1\n",
      "AREA VARIATION AFTER 0.0001\n",
      "MAX ITERATIONS AFTER 500\n",
      "medial centered END 1\n",
      "set_medially_centered_speed_tradeoff END = 0.2\n",
      "quality_speed_tradeoff END = 0.2\n",
      "Max iterations END = 500\n",
      "AREA VARIATION END 0.0001\n",
      "Number of vertices of the skeleton: 310\n",
      "Number of edges of the skeleton: 309\n",
      "\n",
      "Number of segments: 15\n",
      "\n"
     ]
    },
    {
     "data": {
      "application/vnd.jupyter.widget-view+json": {
       "model_id": "44f5fd05d4a444ba9755cc58df1170ad",
       "version_major": 2,
       "version_minor": 0
      },
      "text/plain": [
       "  0%|          | 0/15 [00:00<?, ?it/s]"
      ]
     },
     "metadata": {},
     "output_type": "display_data"
    },
    {
     "data": {
      "application/vnd.jupyter.widget-view+json": {
       "model_id": "592b9480e49f4dd798186c029eb8b704",
       "version_major": 2,
       "version_minor": 0
      },
      "text/plain": [
       "  0%|          | 0/15 [00:00<?, ?it/s]"
      ]
     },
     "metadata": {},
     "output_type": "display_data"
    },
    {
     "name": "stdout",
     "output_type": "stream",
     "text": [
      "Filtering away by face and skeletal length\n",
      "\n",
      "Number of segments: 12\n",
      "\n"
     ]
    },
    {
     "data": {
      "application/vnd.jupyter.widget-view+json": {
       "model_id": "dd310e2cad194bbb939ebdd5357e6f20",
       "version_major": 2,
       "version_minor": 0
      },
      "text/plain": [
       "  0%|          | 0/12 [00:00<?, ?it/s]"
      ]
     },
     "metadata": {},
     "output_type": "display_data"
    },
    {
     "data": {
      "application/vnd.jupyter.widget-view+json": {
       "model_id": "18ba18efee064667b3616c6e7f6a6b78",
       "version_major": 2,
       "version_minor": 0
      },
      "text/plain": [
       "  0%|          | 0/12 [00:00<?, ?it/s]"
      ]
     },
     "metadata": {},
     "output_type": "display_data"
    },
    {
     "name": "stdout",
     "output_type": "stream",
     "text": [
      "Filtering away by face and skeletal length\n",
      "\n",
      "Number of segments: 13\n",
      "\n"
     ]
    },
    {
     "data": {
      "application/vnd.jupyter.widget-view+json": {
       "model_id": "ac085a3ef3d447ae8902a5fab86a041a",
       "version_major": 2,
       "version_minor": 0
      },
      "text/plain": [
       "  0%|          | 0/13 [00:00<?, ?it/s]"
      ]
     },
     "metadata": {},
     "output_type": "display_data"
    },
    {
     "data": {
      "application/vnd.jupyter.widget-view+json": {
       "model_id": "a9fd0568f7aa4036b176464d75d054b6",
       "version_major": 2,
       "version_minor": 0
      },
      "text/plain": [
       "  0%|          | 0/13 [00:00<?, ?it/s]"
      ]
     },
     "metadata": {},
     "output_type": "display_data"
    },
    {
     "name": "stdout",
     "output_type": "stream",
     "text": [
      "Filtering away by face and skeletal length\n",
      "\n",
      "Number of segments: 7\n",
      "\n"
     ]
    },
    {
     "data": {
      "application/vnd.jupyter.widget-view+json": {
       "model_id": "be9e652beb12464a988846870ba938b4",
       "version_major": 2,
       "version_minor": 0
      },
      "text/plain": [
       "  0%|          | 0/7 [00:00<?, ?it/s]"
      ]
     },
     "metadata": {},
     "output_type": "display_data"
    },
    {
     "data": {
      "application/vnd.jupyter.widget-view+json": {
       "model_id": "49c8704aa60543f9b24fcc62e43a1ed0",
       "version_major": 2,
       "version_minor": 0
      },
      "text/plain": [
       "  0%|          | 0/7 [00:00<?, ?it/s]"
      ]
     },
     "metadata": {},
     "output_type": "display_data"
    },
    {
     "name": "stdout",
     "output_type": "stream",
     "text": [
      "Filtering away by face and skeletal length\n",
      "\n",
      "Number of segments: 8\n",
      "\n"
     ]
    },
    {
     "data": {
      "application/vnd.jupyter.widget-view+json": {
       "model_id": "5401bfeb05d341c79a35aee899f398d0",
       "version_major": 2,
       "version_minor": 0
      },
      "text/plain": [
       "  0%|          | 0/8 [00:00<?, ?it/s]"
      ]
     },
     "metadata": {},
     "output_type": "display_data"
    },
    {
     "data": {
      "application/vnd.jupyter.widget-view+json": {
       "model_id": "07f3df98eb934d7ba099b58589afbf48",
       "version_major": 2,
       "version_minor": 0
      },
      "text/plain": [
       "  0%|          | 0/8 [00:00<?, ?it/s]"
      ]
     },
     "metadata": {},
     "output_type": "display_data"
    },
    {
     "name": "stdout",
     "output_type": "stream",
     "text": [
      "Filtering away by face and skeletal length\n",
      "\n",
      "Number of segments: 13\n",
      "\n"
     ]
    },
    {
     "data": {
      "application/vnd.jupyter.widget-view+json": {
       "model_id": "b31ed799a5fb45c28f04f662a002ab80",
       "version_major": 2,
       "version_minor": 0
      },
      "text/plain": [
       "  0%|          | 0/13 [00:00<?, ?it/s]"
      ]
     },
     "metadata": {},
     "output_type": "display_data"
    },
    {
     "data": {
      "application/vnd.jupyter.widget-view+json": {
       "model_id": "fff560e2ba324eebb222b2cccbf00ffc",
       "version_major": 2,
       "version_minor": 0
      },
      "text/plain": [
       "  0%|          | 0/13 [00:00<?, ?it/s]"
      ]
     },
     "metadata": {},
     "output_type": "display_data"
    },
    {
     "name": "stdout",
     "output_type": "stream",
     "text": [
      "Filtering away by face and skeletal length\n",
      "\n",
      "Number of segments: 17\n",
      "\n"
     ]
    },
    {
     "data": {
      "application/vnd.jupyter.widget-view+json": {
       "model_id": "680bc1a97fab4e8f9d609b20490548f1",
       "version_major": 2,
       "version_minor": 0
      },
      "text/plain": [
       "  0%|          | 0/17 [00:00<?, ?it/s]"
      ]
     },
     "metadata": {},
     "output_type": "display_data"
    },
    {
     "data": {
      "application/vnd.jupyter.widget-view+json": {
       "model_id": "4b54ddb1b4404d0bb121b0a34b52ac6c",
       "version_major": 2,
       "version_minor": 0
      },
      "text/plain": [
       "  0%|          | 0/17 [00:00<?, ?it/s]"
      ]
     },
     "metadata": {},
     "output_type": "display_data"
    },
    {
     "name": "stdout",
     "output_type": "stream",
     "text": [
      "Filtering away by face and skeletal length\n",
      "\n",
      "Number of segments: 7\n",
      "\n"
     ]
    },
    {
     "data": {
      "application/vnd.jupyter.widget-view+json": {
       "model_id": "3811dc788f1f468abd812e30ed1fdf84",
       "version_major": 2,
       "version_minor": 0
      },
      "text/plain": [
       "  0%|          | 0/7 [00:00<?, ?it/s]"
      ]
     },
     "metadata": {},
     "output_type": "display_data"
    },
    {
     "data": {
      "application/vnd.jupyter.widget-view+json": {
       "model_id": "a9d45b8c08934ca78d1c08af94ab0a0e",
       "version_major": 2,
       "version_minor": 0
      },
      "text/plain": [
       "  0%|          | 0/7 [00:00<?, ?it/s]"
      ]
     },
     "metadata": {},
     "output_type": "display_data"
    },
    {
     "name": "stdout",
     "output_type": "stream",
     "text": [
      "Filtering away by face and skeletal length\n",
      "\n",
      "Number of segments: 11\n",
      "\n"
     ]
    },
    {
     "data": {
      "application/vnd.jupyter.widget-view+json": {
       "model_id": "be58923f999a4ee599be25b4a7c3bfb8",
       "version_major": 2,
       "version_minor": 0
      },
      "text/plain": [
       "  0%|          | 0/11 [00:00<?, ?it/s]"
      ]
     },
     "metadata": {},
     "output_type": "display_data"
    },
    {
     "data": {
      "application/vnd.jupyter.widget-view+json": {
       "model_id": "2a29f54ccbd546ea8eb99c4cb397483f",
       "version_major": 2,
       "version_minor": 0
      },
      "text/plain": [
       "  0%|          | 0/11 [00:00<?, ?it/s]"
      ]
     },
     "metadata": {},
     "output_type": "display_data"
    },
    {
     "name": "stdout",
     "output_type": "stream",
     "text": [
      "Filtering away by face and skeletal length\n",
      "\n",
      "Number of segments: 12\n",
      "\n"
     ]
    },
    {
     "data": {
      "application/vnd.jupyter.widget-view+json": {
       "model_id": "57677df83f364aeda83fd780c98014a2",
       "version_major": 2,
       "version_minor": 0
      },
      "text/plain": [
       "  0%|          | 0/12 [00:00<?, ?it/s]"
      ]
     },
     "metadata": {},
     "output_type": "display_data"
    },
    {
     "data": {
      "application/vnd.jupyter.widget-view+json": {
       "model_id": "d961a623ce1c4306a5e2658438e91be5",
       "version_major": 2,
       "version_minor": 0
      },
      "text/plain": [
       "  0%|          | 0/12 [00:00<?, ?it/s]"
      ]
     },
     "metadata": {},
     "output_type": "display_data"
    },
    {
     "name": "stdout",
     "output_type": "stream",
     "text": [
      "Filtering away by face and skeletal length\n",
      "\n",
      "Number of segments: 29\n",
      "\n"
     ]
    },
    {
     "data": {
      "application/vnd.jupyter.widget-view+json": {
       "model_id": "5d2f80e282c94bb8a65e0da941f17a9a",
       "version_major": 2,
       "version_minor": 0
      },
      "text/plain": [
       "  0%|          | 0/29 [00:00<?, ?it/s]"
      ]
     },
     "metadata": {},
     "output_type": "display_data"
    },
    {
     "data": {
      "application/vnd.jupyter.widget-view+json": {
       "model_id": "6df5e7759ddf4342a925e7043a53a56d",
       "version_major": 2,
       "version_minor": 0
      },
      "text/plain": [
       "  0%|          | 0/29 [00:00<?, ?it/s]"
      ]
     },
     "metadata": {},
     "output_type": "display_data"
    },
    {
     "name": "stdout",
     "output_type": "stream",
     "text": [
      "Filtering away by face and skeletal length\n",
      "\n",
      "Number of segments: 7\n",
      "\n"
     ]
    },
    {
     "data": {
      "application/vnd.jupyter.widget-view+json": {
       "model_id": "fcb6c3ac4b864c288ad563943dda0933",
       "version_major": 2,
       "version_minor": 0
      },
      "text/plain": [
       "  0%|          | 0/7 [00:00<?, ?it/s]"
      ]
     },
     "metadata": {},
     "output_type": "display_data"
    },
    {
     "data": {
      "application/vnd.jupyter.widget-view+json": {
       "model_id": "dfaa5a0ea9984bd9a8482dcc7f5d242e",
       "version_major": 2,
       "version_minor": 0
      },
      "text/plain": [
       "  0%|          | 0/7 [00:00<?, ?it/s]"
      ]
     },
     "metadata": {},
     "output_type": "display_data"
    },
    {
     "name": "stdout",
     "output_type": "stream",
     "text": [
      "Filtering away by face and skeletal length\n",
      "\n",
      "Number of segments: 9\n",
      "\n"
     ]
    },
    {
     "data": {
      "application/vnd.jupyter.widget-view+json": {
       "model_id": "4d867141e45e4988b6f38524e04945b1",
       "version_major": 2,
       "version_minor": 0
      },
      "text/plain": [
       "  0%|          | 0/9 [00:00<?, ?it/s]"
      ]
     },
     "metadata": {},
     "output_type": "display_data"
    },
    {
     "data": {
      "application/vnd.jupyter.widget-view+json": {
       "model_id": "a4635e0e61684729abcfe94701a8b93f",
       "version_major": 2,
       "version_minor": 0
      },
      "text/plain": [
       "  0%|          | 0/9 [00:00<?, ?it/s]"
      ]
     },
     "metadata": {},
     "output_type": "display_data"
    },
    {
     "name": "stdout",
     "output_type": "stream",
     "text": [
      "Filtering away by face and skeletal length\n",
      "\n",
      "Number of segments: 27\n",
      "\n"
     ]
    },
    {
     "data": {
      "application/vnd.jupyter.widget-view+json": {
       "model_id": "e190f4e5373144ff9055c5380845b394",
       "version_major": 2,
       "version_minor": 0
      },
      "text/plain": [
       "  0%|          | 0/27 [00:00<?, ?it/s]"
      ]
     },
     "metadata": {},
     "output_type": "display_data"
    },
    {
     "data": {
      "application/vnd.jupyter.widget-view+json": {
       "model_id": "7f587fb7da2c486ea39f0182e5805595",
       "version_major": 2,
       "version_minor": 0
      },
      "text/plain": [
       "  0%|          | 0/27 [00:00<?, ?it/s]"
      ]
     },
     "metadata": {},
     "output_type": "display_data"
    },
    {
     "name": "stdout",
     "output_type": "stream",
     "text": [
      "Filtering away by face and skeletal length\n",
      "\n",
      "Number of segments: 9\n",
      "\n"
     ]
    },
    {
     "data": {
      "application/vnd.jupyter.widget-view+json": {
       "model_id": "c3733c10cad342f4b48d95c57b289290",
       "version_major": 2,
       "version_minor": 0
      },
      "text/plain": [
       "  0%|          | 0/9 [00:00<?, ?it/s]"
      ]
     },
     "metadata": {},
     "output_type": "display_data"
    },
    {
     "data": {
      "application/vnd.jupyter.widget-view+json": {
       "model_id": "5c816be589324acd853cf491c80ffb08",
       "version_major": 2,
       "version_minor": 0
      },
      "text/plain": [
       "  0%|          | 0/9 [00:00<?, ?it/s]"
      ]
     },
     "metadata": {},
     "output_type": "display_data"
    },
    {
     "name": "stdout",
     "output_type": "stream",
     "text": [
      "Filtering away by face and skeletal length\n",
      "\n",
      "Number of segments: 4\n",
      "\n"
     ]
    },
    {
     "data": {
      "application/vnd.jupyter.widget-view+json": {
       "model_id": "2100c1cf80364592a908606f14d52027",
       "version_major": 2,
       "version_minor": 0
      },
      "text/plain": [
       "  0%|          | 0/4 [00:00<?, ?it/s]"
      ]
     },
     "metadata": {},
     "output_type": "display_data"
    },
    {
     "data": {
      "application/vnd.jupyter.widget-view+json": {
       "model_id": "b2dccb443a5d4ea5a2b5a92f20fc9a01",
       "version_major": 2,
       "version_minor": 0
      },
      "text/plain": [
       "  0%|          | 0/4 [00:00<?, ?it/s]"
      ]
     },
     "metadata": {},
     "output_type": "display_data"
    },
    {
     "name": "stdout",
     "output_type": "stream",
     "text": [
      "Filtering away by face and skeletal length\n",
      "\n",
      "Number of segments: 16\n",
      "\n"
     ]
    },
    {
     "data": {
      "application/vnd.jupyter.widget-view+json": {
       "model_id": "65b4eb6b3f0d41a9b7fe3840ae3faf9a",
       "version_major": 2,
       "version_minor": 0
      },
      "text/plain": [
       "  0%|          | 0/16 [00:00<?, ?it/s]"
      ]
     },
     "metadata": {},
     "output_type": "display_data"
    },
    {
     "data": {
      "application/vnd.jupyter.widget-view+json": {
       "model_id": "307f721a7ffe4f24839c07bc1d3688db",
       "version_major": 2,
       "version_minor": 0
      },
      "text/plain": [
       "  0%|          | 0/16 [00:00<?, ?it/s]"
      ]
     },
     "metadata": {},
     "output_type": "display_data"
    },
    {
     "name": "stdout",
     "output_type": "stream",
     "text": [
      "Filtering away by face and skeletal length\n",
      "\n",
      "Number of segments: 6\n",
      "\n"
     ]
    },
    {
     "data": {
      "application/vnd.jupyter.widget-view+json": {
       "model_id": "600d19b3a9784d5fa6c6d56bdc0e53f0",
       "version_major": 2,
       "version_minor": 0
      },
      "text/plain": [
       "  0%|          | 0/6 [00:00<?, ?it/s]"
      ]
     },
     "metadata": {},
     "output_type": "display_data"
    },
    {
     "data": {
      "application/vnd.jupyter.widget-view+json": {
       "model_id": "d009454f8fa24c20bfad51c2266b557f",
       "version_major": 2,
       "version_minor": 0
      },
      "text/plain": [
       "  0%|          | 0/6 [00:00<?, ?it/s]"
      ]
     },
     "metadata": {},
     "output_type": "display_data"
    },
    {
     "name": "stdout",
     "output_type": "stream",
     "text": [
      "Filtering away by face and skeletal length\n",
      "\n",
      "Number of segments: 6\n",
      "\n"
     ]
    },
    {
     "data": {
      "application/vnd.jupyter.widget-view+json": {
       "model_id": "f0210ddaf40a4dc88f2c5277724089a9",
       "version_major": 2,
       "version_minor": 0
      },
      "text/plain": [
       "  0%|          | 0/6 [00:00<?, ?it/s]"
      ]
     },
     "metadata": {},
     "output_type": "display_data"
    },
    {
     "data": {
      "application/vnd.jupyter.widget-view+json": {
       "model_id": "b7813ae67fee4f659d97d5383a058ac6",
       "version_major": 2,
       "version_minor": 0
      },
      "text/plain": [
       "  0%|          | 0/6 [00:00<?, ?it/s]"
      ]
     },
     "metadata": {},
     "output_type": "display_data"
    },
    {
     "name": "stdout",
     "output_type": "stream",
     "text": [
      "Filtering away by face and skeletal length\n",
      "\n",
      "Number of segments: 5\n",
      "\n"
     ]
    },
    {
     "data": {
      "application/vnd.jupyter.widget-view+json": {
       "model_id": "1bc802b8c9b64bb8bce271eda8d3c62c",
       "version_major": 2,
       "version_minor": 0
      },
      "text/plain": [
       "  0%|          | 0/5 [00:00<?, ?it/s]"
      ]
     },
     "metadata": {},
     "output_type": "display_data"
    },
    {
     "data": {
      "application/vnd.jupyter.widget-view+json": {
       "model_id": "4e9e68d2be4b4318aef14f177f1307b8",
       "version_major": 2,
       "version_minor": 0
      },
      "text/plain": [
       "  0%|          | 0/5 [00:00<?, ?it/s]"
      ]
     },
     "metadata": {},
     "output_type": "display_data"
    },
    {
     "name": "stdout",
     "output_type": "stream",
     "text": [
      "Filtering away by face and skeletal length\n",
      "\n",
      "Number of segments: 7\n",
      "\n"
     ]
    },
    {
     "data": {
      "application/vnd.jupyter.widget-view+json": {
       "model_id": "52e094ae1cfa480096e742e6de3882ae",
       "version_major": 2,
       "version_minor": 0
      },
      "text/plain": [
       "  0%|          | 0/7 [00:00<?, ?it/s]"
      ]
     },
     "metadata": {},
     "output_type": "display_data"
    },
    {
     "data": {
      "application/vnd.jupyter.widget-view+json": {
       "model_id": "4d730054b09942a8a3c40d4ea8669ef6",
       "version_major": 2,
       "version_minor": 0
      },
      "text/plain": [
       "  0%|          | 0/7 [00:00<?, ?it/s]"
      ]
     },
     "metadata": {},
     "output_type": "display_data"
    },
    {
     "name": "stdout",
     "output_type": "stream",
     "text": [
      "Filtering away by face and skeletal length\n",
      "\n",
      "Number of segments: 4\n",
      "\n"
     ]
    },
    {
     "data": {
      "application/vnd.jupyter.widget-view+json": {
       "model_id": "6b0bd3d9b59440edbeb1006470862811",
       "version_major": 2,
       "version_minor": 0
      },
      "text/plain": [
       "  0%|          | 0/4 [00:00<?, ?it/s]"
      ]
     },
     "metadata": {},
     "output_type": "display_data"
    },
    {
     "data": {
      "application/vnd.jupyter.widget-view+json": {
       "model_id": "0d005c670f80438b98bfdbae876f4d2e",
       "version_major": 2,
       "version_minor": 0
      },
      "text/plain": [
       "  0%|          | 0/4 [00:00<?, ?it/s]"
      ]
     },
     "metadata": {},
     "output_type": "display_data"
    },
    {
     "name": "stdout",
     "output_type": "stream",
     "text": [
      "Filtering away by face and skeletal length\n",
      "\n",
      "Number of segments: 5\n",
      "\n"
     ]
    },
    {
     "data": {
      "application/vnd.jupyter.widget-view+json": {
       "model_id": "d5f109ca957f4107b2d05d458cf6d800",
       "version_major": 2,
       "version_minor": 0
      },
      "text/plain": [
       "  0%|          | 0/5 [00:00<?, ?it/s]"
      ]
     },
     "metadata": {},
     "output_type": "display_data"
    },
    {
     "data": {
      "application/vnd.jupyter.widget-view+json": {
       "model_id": "825f57c2be264319badb963c5475c3f2",
       "version_major": 2,
       "version_minor": 0
      },
      "text/plain": [
       "  0%|          | 0/5 [00:00<?, ?it/s]"
      ]
     },
     "metadata": {},
     "output_type": "display_data"
    },
    {
     "name": "stdout",
     "output_type": "stream",
     "text": [
      "Filtering away by face and skeletal length\n",
      "\n",
      "Number of segments: 7\n",
      "\n"
     ]
    },
    {
     "data": {
      "application/vnd.jupyter.widget-view+json": {
       "model_id": "375e03ffd0234296915e815031ecfe2c",
       "version_major": 2,
       "version_minor": 0
      },
      "text/plain": [
       "  0%|          | 0/7 [00:00<?, ?it/s]"
      ]
     },
     "metadata": {},
     "output_type": "display_data"
    },
    {
     "data": {
      "application/vnd.jupyter.widget-view+json": {
       "model_id": "ed4c62c4e88745868a6a8efc47a49cda",
       "version_major": 2,
       "version_minor": 0
      },
      "text/plain": [
       "  0%|          | 0/7 [00:00<?, ?it/s]"
      ]
     },
     "metadata": {},
     "output_type": "display_data"
    },
    {
     "name": "stdout",
     "output_type": "stream",
     "text": [
      "Filtering away by face and skeletal length\n",
      "\n",
      "Number of segments: 5\n",
      "\n"
     ]
    },
    {
     "data": {
      "application/vnd.jupyter.widget-view+json": {
       "model_id": "0f610db4d3ea40bc89cb34fdc41d0fb2",
       "version_major": 2,
       "version_minor": 0
      },
      "text/plain": [
       "  0%|          | 0/5 [00:00<?, ?it/s]"
      ]
     },
     "metadata": {},
     "output_type": "display_data"
    },
    {
     "data": {
      "application/vnd.jupyter.widget-view+json": {
       "model_id": "3904fb5f55bb4deb92b21c9e54a218cf",
       "version_major": 2,
       "version_minor": 0
      },
      "text/plain": [
       "  0%|          | 0/5 [00:00<?, ?it/s]"
      ]
     },
     "metadata": {},
     "output_type": "display_data"
    },
    {
     "name": "stdout",
     "output_type": "stream",
     "text": [
      "Filtering away by face and skeletal length\n",
      "\n",
      "Number of segments: 3\n",
      "\n"
     ]
    },
    {
     "data": {
      "application/vnd.jupyter.widget-view+json": {
       "model_id": "6212176a5f2b4917af9079a424b83587",
       "version_major": 2,
       "version_minor": 0
      },
      "text/plain": [
       "  0%|          | 0/3 [00:00<?, ?it/s]"
      ]
     },
     "metadata": {},
     "output_type": "display_data"
    },
    {
     "data": {
      "application/vnd.jupyter.widget-view+json": {
       "model_id": "0297aac229d34fbeb89e55ed9b0235a6",
       "version_major": 2,
       "version_minor": 0
      },
      "text/plain": [
       "  0%|          | 0/3 [00:00<?, ?it/s]"
      ]
     },
     "metadata": {},
     "output_type": "display_data"
    },
    {
     "name": "stdout",
     "output_type": "stream",
     "text": [
      "Filtering away by face and skeletal length\n",
      "\n",
      "Number of segments: 40\n",
      "\n"
     ]
    },
    {
     "data": {
      "application/vnd.jupyter.widget-view+json": {
       "model_id": "28fa0287135e432fa1b72587030ad99d",
       "version_major": 2,
       "version_minor": 0
      },
      "text/plain": [
       "  0%|          | 0/40 [00:00<?, ?it/s]"
      ]
     },
     "metadata": {},
     "output_type": "display_data"
    },
    {
     "data": {
      "application/vnd.jupyter.widget-view+json": {
       "model_id": "76b52c57b6e343fab92c5bee926ce51c",
       "version_major": 2,
       "version_minor": 0
      },
      "text/plain": [
       "  0%|          | 0/40 [00:00<?, ?it/s]"
      ]
     },
     "metadata": {},
     "output_type": "display_data"
    },
    {
     "name": "stdout",
     "output_type": "stream",
     "text": [
      "Filtering away by face and skeletal length\n",
      "\n",
      "Number of segments: 6\n",
      "\n"
     ]
    },
    {
     "data": {
      "application/vnd.jupyter.widget-view+json": {
       "model_id": "b3a90f7bd7eb4eb09d30cc100aca9912",
       "version_major": 2,
       "version_minor": 0
      },
      "text/plain": [
       "  0%|          | 0/6 [00:00<?, ?it/s]"
      ]
     },
     "metadata": {},
     "output_type": "display_data"
    },
    {
     "data": {
      "application/vnd.jupyter.widget-view+json": {
       "model_id": "fdc9804ff7f444c08ec018db21029833",
       "version_major": 2,
       "version_minor": 0
      },
      "text/plain": [
       "  0%|          | 0/6 [00:00<?, ?it/s]"
      ]
     },
     "metadata": {},
     "output_type": "display_data"
    },
    {
     "name": "stdout",
     "output_type": "stream",
     "text": [
      "Filtering away by face and skeletal length\n",
      "\n",
      "Number of segments: 3\n",
      "\n"
     ]
    },
    {
     "data": {
      "application/vnd.jupyter.widget-view+json": {
       "model_id": "8ba39336ea6d4fe4ad9ceb9af05f4ecd",
       "version_major": 2,
       "version_minor": 0
      },
      "text/plain": [
       "  0%|          | 0/3 [00:00<?, ?it/s]"
      ]
     },
     "metadata": {},
     "output_type": "display_data"
    },
    {
     "data": {
      "application/vnd.jupyter.widget-view+json": {
       "model_id": "929dc9f6eb9b411a9f6f6319d15a44a7",
       "version_major": 2,
       "version_minor": 0
      },
      "text/plain": [
       "  0%|          | 0/3 [00:00<?, ?it/s]"
      ]
     },
     "metadata": {},
     "output_type": "display_data"
    },
    {
     "name": "stdout",
     "output_type": "stream",
     "text": [
      "Filtering away by face and skeletal length\n",
      "\n",
      "Number of segments: 28\n",
      "\n"
     ]
    },
    {
     "data": {
      "application/vnd.jupyter.widget-view+json": {
       "model_id": "c3bd47a8d73847f2844a424c8ab4ca23",
       "version_major": 2,
       "version_minor": 0
      },
      "text/plain": [
       "  0%|          | 0/28 [00:00<?, ?it/s]"
      ]
     },
     "metadata": {},
     "output_type": "display_data"
    },
    {
     "data": {
      "application/vnd.jupyter.widget-view+json": {
       "model_id": "a54fb0c84fa8448c9e7757f2f841db3f",
       "version_major": 2,
       "version_minor": 0
      },
      "text/plain": [
       "  0%|          | 0/28 [00:00<?, ?it/s]"
      ]
     },
     "metadata": {},
     "output_type": "display_data"
    },
    {
     "name": "stdout",
     "output_type": "stream",
     "text": [
      "Filtering away by face and skeletal length\n",
      "\n",
      "Number of segments: 16\n",
      "\n"
     ]
    },
    {
     "data": {
      "application/vnd.jupyter.widget-view+json": {
       "model_id": "f524febc9d7e44dfb7f6e9d60fca801a",
       "version_major": 2,
       "version_minor": 0
      },
      "text/plain": [
       "  0%|          | 0/16 [00:00<?, ?it/s]"
      ]
     },
     "metadata": {},
     "output_type": "display_data"
    },
    {
     "data": {
      "application/vnd.jupyter.widget-view+json": {
       "model_id": "7538880e21c248ea9583348cfec1c3d8",
       "version_major": 2,
       "version_minor": 0
      },
      "text/plain": [
       "  0%|          | 0/16 [00:00<?, ?it/s]"
      ]
     },
     "metadata": {},
     "output_type": "display_data"
    },
    {
     "name": "stdout",
     "output_type": "stream",
     "text": [
      "Filtering away by face and skeletal length\n",
      "\n",
      "Number of segments: 11\n",
      "\n"
     ]
    },
    {
     "data": {
      "application/vnd.jupyter.widget-view+json": {
       "model_id": "fe0168fdda2045d2bb9aeca4026cae3f",
       "version_major": 2,
       "version_minor": 0
      },
      "text/plain": [
       "  0%|          | 0/11 [00:00<?, ?it/s]"
      ]
     },
     "metadata": {},
     "output_type": "display_data"
    },
    {
     "data": {
      "application/vnd.jupyter.widget-view+json": {
       "model_id": "ae7380b386184bfba80364b87f64b343",
       "version_major": 2,
       "version_minor": 0
      },
      "text/plain": [
       "  0%|          | 0/11 [00:00<?, ?it/s]"
      ]
     },
     "metadata": {},
     "output_type": "display_data"
    },
    {
     "name": "stdout",
     "output_type": "stream",
     "text": [
      "Filtering away by face and skeletal length\n",
      "\n",
      "Number of segments: 11\n",
      "\n"
     ]
    },
    {
     "data": {
      "application/vnd.jupyter.widget-view+json": {
       "model_id": "32efb3d548dc4031be392651ef9dacc8",
       "version_major": 2,
       "version_minor": 0
      },
      "text/plain": [
       "  0%|          | 0/11 [00:00<?, ?it/s]"
      ]
     },
     "metadata": {},
     "output_type": "display_data"
    },
    {
     "data": {
      "application/vnd.jupyter.widget-view+json": {
       "model_id": "dfa84aea68b049c9a4f5a277ae8a2de1",
       "version_major": 2,
       "version_minor": 0
      },
      "text/plain": [
       "  0%|          | 0/11 [00:00<?, ?it/s]"
      ]
     },
     "metadata": {},
     "output_type": "display_data"
    },
    {
     "name": "stdout",
     "output_type": "stream",
     "text": [
      "Filtering away by face and skeletal length\n",
      "\n",
      "Number of segments: 2\n",
      "\n"
     ]
    },
    {
     "data": {
      "application/vnd.jupyter.widget-view+json": {
       "model_id": "20f89794e18d469b93fa5dc44eb4f754",
       "version_major": 2,
       "version_minor": 0
      },
      "text/plain": [
       "  0%|          | 0/2 [00:00<?, ?it/s]"
      ]
     },
     "metadata": {},
     "output_type": "display_data"
    },
    {
     "data": {
      "application/vnd.jupyter.widget-view+json": {
       "model_id": "fdb9794cf55147c09d5eb8738fb398a6",
       "version_major": 2,
       "version_minor": 0
      },
      "text/plain": [
       "  0%|          | 0/2 [00:00<?, ?it/s]"
      ]
     },
     "metadata": {},
     "output_type": "display_data"
    },
    {
     "name": "stdout",
     "output_type": "stream",
     "text": [
      "Filtering away by face and skeletal length\n",
      "\n",
      "Number of segments: 42\n",
      "\n"
     ]
    },
    {
     "data": {
      "application/vnd.jupyter.widget-view+json": {
       "model_id": "482b6b816d6046cca8d727cf53e03aed",
       "version_major": 2,
       "version_minor": 0
      },
      "text/plain": [
       "  0%|          | 0/42 [00:00<?, ?it/s]"
      ]
     },
     "metadata": {},
     "output_type": "display_data"
    },
    {
     "data": {
      "application/vnd.jupyter.widget-view+json": {
       "model_id": "5425c9dbd30f492b80791ffa25ef568b",
       "version_major": 2,
       "version_minor": 0
      },
      "text/plain": [
       "  0%|          | 0/42 [00:00<?, ?it/s]"
      ]
     },
     "metadata": {},
     "output_type": "display_data"
    },
    {
     "name": "stdout",
     "output_type": "stream",
     "text": [
      "Filtering away by face and skeletal length\n",
      "\n",
      "Number of segments: 5\n",
      "\n"
     ]
    },
    {
     "data": {
      "application/vnd.jupyter.widget-view+json": {
       "model_id": "590e8fb5ef664b1d82e6fb7da1c99f3d",
       "version_major": 2,
       "version_minor": 0
      },
      "text/plain": [
       "  0%|          | 0/5 [00:00<?, ?it/s]"
      ]
     },
     "metadata": {},
     "output_type": "display_data"
    },
    {
     "data": {
      "application/vnd.jupyter.widget-view+json": {
       "model_id": "36bf180bc3364ee7896320f5e478b28e",
       "version_major": 2,
       "version_minor": 0
      },
      "text/plain": [
       "  0%|          | 0/5 [00:00<?, ?it/s]"
      ]
     },
     "metadata": {},
     "output_type": "display_data"
    },
    {
     "name": "stdout",
     "output_type": "stream",
     "text": [
      "Filtering away by face and skeletal length\n",
      "\n",
      "Number of segments: 42\n",
      "\n"
     ]
    },
    {
     "data": {
      "application/vnd.jupyter.widget-view+json": {
       "model_id": "b086a2efd1a0451297f7a346ac5fbafc",
       "version_major": 2,
       "version_minor": 0
      },
      "text/plain": [
       "  0%|          | 0/42 [00:00<?, ?it/s]"
      ]
     },
     "metadata": {},
     "output_type": "display_data"
    },
    {
     "data": {
      "application/vnd.jupyter.widget-view+json": {
       "model_id": "37d4d95d2bd14e98bb333a71848d24a1",
       "version_major": 2,
       "version_minor": 0
      },
      "text/plain": [
       "  0%|          | 0/42 [00:00<?, ?it/s]"
      ]
     },
     "metadata": {},
     "output_type": "display_data"
    },
    {
     "name": "stdout",
     "output_type": "stream",
     "text": [
      "Filtering away by face and skeletal length\n",
      "\n",
      "Number of segments: 8\n",
      "\n"
     ]
    },
    {
     "data": {
      "application/vnd.jupyter.widget-view+json": {
       "model_id": "8cd218888bae4dda9dc0c8a086487b21",
       "version_major": 2,
       "version_minor": 0
      },
      "text/plain": [
       "  0%|          | 0/8 [00:00<?, ?it/s]"
      ]
     },
     "metadata": {},
     "output_type": "display_data"
    },
    {
     "data": {
      "application/vnd.jupyter.widget-view+json": {
       "model_id": "e42e45d3a07e409d80427a9ff5392efd",
       "version_major": 2,
       "version_minor": 0
      },
      "text/plain": [
       "  0%|          | 0/8 [00:00<?, ?it/s]"
      ]
     },
     "metadata": {},
     "output_type": "display_data"
    },
    {
     "name": "stdout",
     "output_type": "stream",
     "text": [
      "Filtering away by face and skeletal length\n",
      "\n",
      "Number of segments: 7\n",
      "\n"
     ]
    },
    {
     "data": {
      "application/vnd.jupyter.widget-view+json": {
       "model_id": "082a6ccb31164efc9d85d2a2904611e5",
       "version_major": 2,
       "version_minor": 0
      },
      "text/plain": [
       "  0%|          | 0/7 [00:00<?, ?it/s]"
      ]
     },
     "metadata": {},
     "output_type": "display_data"
    },
    {
     "data": {
      "application/vnd.jupyter.widget-view+json": {
       "model_id": "fd1c8cf1402b4200bd5e78d2124a592d",
       "version_major": 2,
       "version_minor": 0
      },
      "text/plain": [
       "  0%|          | 0/7 [00:00<?, ?it/s]"
      ]
     },
     "metadata": {},
     "output_type": "display_data"
    },
    {
     "name": "stdout",
     "output_type": "stream",
     "text": [
      "Filtering away by face and skeletal length\n",
      "\n",
      "Number of segments: 3\n",
      "\n"
     ]
    },
    {
     "data": {
      "application/vnd.jupyter.widget-view+json": {
       "model_id": "4fa9389faa9e49ad9bf871564dd451b6",
       "version_major": 2,
       "version_minor": 0
      },
      "text/plain": [
       "  0%|          | 0/3 [00:00<?, ?it/s]"
      ]
     },
     "metadata": {},
     "output_type": "display_data"
    },
    {
     "data": {
      "application/vnd.jupyter.widget-view+json": {
       "model_id": "eb79e983727d4634a2cb5d467c9d94ff",
       "version_major": 2,
       "version_minor": 0
      },
      "text/plain": [
       "  0%|          | 0/3 [00:00<?, ?it/s]"
      ]
     },
     "metadata": {},
     "output_type": "display_data"
    },
    {
     "name": "stdout",
     "output_type": "stream",
     "text": [
      "Filtering away by face and skeletal length\n",
      "\n",
      "Number of segments: 6\n",
      "\n"
     ]
    },
    {
     "data": {
      "application/vnd.jupyter.widget-view+json": {
       "model_id": "8a066fee8f8a49e6818d71fd03a00216",
       "version_major": 2,
       "version_minor": 0
      },
      "text/plain": [
       "  0%|          | 0/6 [00:00<?, ?it/s]"
      ]
     },
     "metadata": {},
     "output_type": "display_data"
    },
    {
     "data": {
      "application/vnd.jupyter.widget-view+json": {
       "model_id": "40087dc6a35746868c18885d93f54f00",
       "version_major": 2,
       "version_minor": 0
      },
      "text/plain": [
       "  0%|          | 0/6 [00:00<?, ?it/s]"
      ]
     },
     "metadata": {},
     "output_type": "display_data"
    },
    {
     "name": "stdout",
     "output_type": "stream",
     "text": [
      "Filtering away by face and skeletal length\n",
      "\n",
      "Number of segments: 21\n",
      "\n"
     ]
    },
    {
     "data": {
      "application/vnd.jupyter.widget-view+json": {
       "model_id": "ab69db923b4046a1b8bb467a618f10df",
       "version_major": 2,
       "version_minor": 0
      },
      "text/plain": [
       "  0%|          | 0/21 [00:00<?, ?it/s]"
      ]
     },
     "metadata": {},
     "output_type": "display_data"
    },
    {
     "data": {
      "application/vnd.jupyter.widget-view+json": {
       "model_id": "664e575a80ac44ee9f2a2d0d305d0bbc",
       "version_major": 2,
       "version_minor": 0
      },
      "text/plain": [
       "  0%|          | 0/21 [00:00<?, ?it/s]"
      ]
     },
     "metadata": {},
     "output_type": "display_data"
    },
    {
     "name": "stdout",
     "output_type": "stream",
     "text": [
      "Filtering away by face and skeletal length\n",
      "\n",
      "Number of segments: 9\n",
      "\n"
     ]
    },
    {
     "data": {
      "application/vnd.jupyter.widget-view+json": {
       "model_id": "15717b95b278492f88d92a025f9b47a2",
       "version_major": 2,
       "version_minor": 0
      },
      "text/plain": [
       "  0%|          | 0/9 [00:00<?, ?it/s]"
      ]
     },
     "metadata": {},
     "output_type": "display_data"
    },
    {
     "data": {
      "application/vnd.jupyter.widget-view+json": {
       "model_id": "8c629ae9b54e4a8db75cac491d55ca72",
       "version_major": 2,
       "version_minor": 0
      },
      "text/plain": [
       "  0%|          | 0/9 [00:00<?, ?it/s]"
      ]
     },
     "metadata": {},
     "output_type": "display_data"
    },
    {
     "name": "stdout",
     "output_type": "stream",
     "text": [
      "Filtering away by face and skeletal length\n",
      "\n",
      "Number of segments: 10\n",
      "\n"
     ]
    },
    {
     "data": {
      "application/vnd.jupyter.widget-view+json": {
       "model_id": "c20f52d0c909461f96c899e1bbdeed82",
       "version_major": 2,
       "version_minor": 0
      },
      "text/plain": [
       "  0%|          | 0/10 [00:00<?, ?it/s]"
      ]
     },
     "metadata": {},
     "output_type": "display_data"
    },
    {
     "data": {
      "application/vnd.jupyter.widget-view+json": {
       "model_id": "7aa15b3db1e94408b8b1fdee9bed8d6d",
       "version_major": 2,
       "version_minor": 0
      },
      "text/plain": [
       "  0%|          | 0/10 [00:00<?, ?it/s]"
      ]
     },
     "metadata": {},
     "output_type": "display_data"
    },
    {
     "name": "stdout",
     "output_type": "stream",
     "text": [
      "Filtering away by face and skeletal length\n",
      "\n",
      "Number of segments: 6\n",
      "\n"
     ]
    },
    {
     "data": {
      "application/vnd.jupyter.widget-view+json": {
       "model_id": "905deba5b37142bd83fa3a9297cb8458",
       "version_major": 2,
       "version_minor": 0
      },
      "text/plain": [
       "  0%|          | 0/6 [00:00<?, ?it/s]"
      ]
     },
     "metadata": {},
     "output_type": "display_data"
    },
    {
     "data": {
      "application/vnd.jupyter.widget-view+json": {
       "model_id": "de296da9934541c28a5bb37adf0d962f",
       "version_major": 2,
       "version_minor": 0
      },
      "text/plain": [
       "  0%|          | 0/6 [00:00<?, ?it/s]"
      ]
     },
     "metadata": {},
     "output_type": "display_data"
    },
    {
     "name": "stdout",
     "output_type": "stream",
     "text": [
      "Filtering away by face and skeletal length\n",
      "\n",
      "Number of segments: 12\n",
      "\n"
     ]
    },
    {
     "data": {
      "application/vnd.jupyter.widget-view+json": {
       "model_id": "f692e5da05134250b93df850fb4f4536",
       "version_major": 2,
       "version_minor": 0
      },
      "text/plain": [
       "  0%|          | 0/12 [00:00<?, ?it/s]"
      ]
     },
     "metadata": {},
     "output_type": "display_data"
    },
    {
     "data": {
      "application/vnd.jupyter.widget-view+json": {
       "model_id": "a9df1eef4e104ff481f1b678ade2da79",
       "version_major": 2,
       "version_minor": 0
      },
      "text/plain": [
       "  0%|          | 0/12 [00:00<?, ?it/s]"
      ]
     },
     "metadata": {},
     "output_type": "display_data"
    },
    {
     "name": "stdout",
     "output_type": "stream",
     "text": [
      "Filtering away by face and skeletal length\n",
      "\n",
      "Number of segments: 4\n",
      "\n"
     ]
    },
    {
     "data": {
      "application/vnd.jupyter.widget-view+json": {
       "model_id": "1fd7dc7a08244a6aa9be958ead2c577c",
       "version_major": 2,
       "version_minor": 0
      },
      "text/plain": [
       "  0%|          | 0/4 [00:00<?, ?it/s]"
      ]
     },
     "metadata": {},
     "output_type": "display_data"
    },
    {
     "data": {
      "application/vnd.jupyter.widget-view+json": {
       "model_id": "0fcd1b1a96004f8fafe84705502f336f",
       "version_major": 2,
       "version_minor": 0
      },
      "text/plain": [
       "  0%|          | 0/4 [00:00<?, ?it/s]"
      ]
     },
     "metadata": {},
     "output_type": "display_data"
    },
    {
     "name": "stdout",
     "output_type": "stream",
     "text": [
      "Filtering away by face and skeletal length\n",
      "\n",
      "Number of segments: 5\n",
      "\n"
     ]
    },
    {
     "data": {
      "application/vnd.jupyter.widget-view+json": {
       "model_id": "0e90d984787f4f3f854a5ae6c98dd306",
       "version_major": 2,
       "version_minor": 0
      },
      "text/plain": [
       "  0%|          | 0/5 [00:00<?, ?it/s]"
      ]
     },
     "metadata": {},
     "output_type": "display_data"
    },
    {
     "data": {
      "application/vnd.jupyter.widget-view+json": {
       "model_id": "c385d800276944f388cace531e4270f0",
       "version_major": 2,
       "version_minor": 0
      },
      "text/plain": [
       "  0%|          | 0/5 [00:00<?, ?it/s]"
      ]
     },
     "metadata": {},
     "output_type": "display_data"
    },
    {
     "name": "stdout",
     "output_type": "stream",
     "text": [
      "Filtering away by face and skeletal length\n",
      "\n",
      "Number of segments: 20\n",
      "\n"
     ]
    },
    {
     "data": {
      "application/vnd.jupyter.widget-view+json": {
       "model_id": "a1712484bc07492587c7fe8e5168a3b8",
       "version_major": 2,
       "version_minor": 0
      },
      "text/plain": [
       "  0%|          | 0/20 [00:00<?, ?it/s]"
      ]
     },
     "metadata": {},
     "output_type": "display_data"
    },
    {
     "data": {
      "application/vnd.jupyter.widget-view+json": {
       "model_id": "88fb59d742a94281b3e4a4bedd87e229",
       "version_major": 2,
       "version_minor": 0
      },
      "text/plain": [
       "  0%|          | 0/20 [00:00<?, ?it/s]"
      ]
     },
     "metadata": {},
     "output_type": "display_data"
    },
    {
     "name": "stdout",
     "output_type": "stream",
     "text": [
      "Filtering away by face and skeletal length\n",
      "\n",
      "Number of segments: 2\n",
      "\n"
     ]
    },
    {
     "data": {
      "application/vnd.jupyter.widget-view+json": {
       "model_id": "52bbb404b5c94c5bb72c8276ec6ee935",
       "version_major": 2,
       "version_minor": 0
      },
      "text/plain": [
       "  0%|          | 0/2 [00:00<?, ?it/s]"
      ]
     },
     "metadata": {},
     "output_type": "display_data"
    },
    {
     "data": {
      "application/vnd.jupyter.widget-view+json": {
       "model_id": "63e2d29a13804fec97e3204119b4db3f",
       "version_major": 2,
       "version_minor": 0
      },
      "text/plain": [
       "  0%|          | 0/2 [00:00<?, ?it/s]"
      ]
     },
     "metadata": {},
     "output_type": "display_data"
    },
    {
     "name": "stdout",
     "output_type": "stream",
     "text": [
      "Filtering away by face and skeletal length\n",
      "\n",
      "Number of segments: 4\n",
      "\n"
     ]
    },
    {
     "data": {
      "application/vnd.jupyter.widget-view+json": {
       "model_id": "3ba6b32d4a1d4f4e9ddfa0348c3d8d07",
       "version_major": 2,
       "version_minor": 0
      },
      "text/plain": [
       "  0%|          | 0/4 [00:00<?, ?it/s]"
      ]
     },
     "metadata": {},
     "output_type": "display_data"
    },
    {
     "data": {
      "application/vnd.jupyter.widget-view+json": {
       "model_id": "ff516e06ea9a4da2bea3635f45a3bd1f",
       "version_major": 2,
       "version_minor": 0
      },
      "text/plain": [
       "  0%|          | 0/4 [00:00<?, ?it/s]"
      ]
     },
     "metadata": {},
     "output_type": "display_data"
    },
    {
     "name": "stdout",
     "output_type": "stream",
     "text": [
      "Filtering away by face and skeletal length\n",
      "\n",
      "Number of segments: 4\n",
      "\n"
     ]
    },
    {
     "data": {
      "application/vnd.jupyter.widget-view+json": {
       "model_id": "df41126e6e124e7cbb45034ebb189a0e",
       "version_major": 2,
       "version_minor": 0
      },
      "text/plain": [
       "  0%|          | 0/4 [00:00<?, ?it/s]"
      ]
     },
     "metadata": {},
     "output_type": "display_data"
    },
    {
     "data": {
      "application/vnd.jupyter.widget-view+json": {
       "model_id": "385c45dc1f624452915ec9d539554935",
       "version_major": 2,
       "version_minor": 0
      },
      "text/plain": [
       "  0%|          | 0/4 [00:00<?, ?it/s]"
      ]
     },
     "metadata": {},
     "output_type": "display_data"
    },
    {
     "name": "stdout",
     "output_type": "stream",
     "text": [
      "Filtering away by face and skeletal length\n",
      "\n",
      "Number of segments: 9\n",
      "\n"
     ]
    },
    {
     "data": {
      "application/vnd.jupyter.widget-view+json": {
       "model_id": "ee381033024f44e9bfc847e92a41d9b9",
       "version_major": 2,
       "version_minor": 0
      },
      "text/plain": [
       "  0%|          | 0/9 [00:00<?, ?it/s]"
      ]
     },
     "metadata": {},
     "output_type": "display_data"
    },
    {
     "data": {
      "application/vnd.jupyter.widget-view+json": {
       "model_id": "4313f4d71b6f46f690e7663bc7d4ca76",
       "version_major": 2,
       "version_minor": 0
      },
      "text/plain": [
       "  0%|          | 0/9 [00:00<?, ?it/s]"
      ]
     },
     "metadata": {},
     "output_type": "display_data"
    },
    {
     "name": "stdout",
     "output_type": "stream",
     "text": [
      "Filtering away by face and skeletal length\n",
      "\n",
      "Number of segments: 18\n",
      "\n"
     ]
    },
    {
     "data": {
      "application/vnd.jupyter.widget-view+json": {
       "model_id": "acce622fc2ce4b31a31b746242522a28",
       "version_major": 2,
       "version_minor": 0
      },
      "text/plain": [
       "  0%|          | 0/18 [00:00<?, ?it/s]"
      ]
     },
     "metadata": {},
     "output_type": "display_data"
    },
    {
     "data": {
      "application/vnd.jupyter.widget-view+json": {
       "model_id": "91db1fb88d554181bbc09d0063b0cff4",
       "version_major": 2,
       "version_minor": 0
      },
      "text/plain": [
       "  0%|          | 0/18 [00:00<?, ?it/s]"
      ]
     },
     "metadata": {},
     "output_type": "display_data"
    },
    {
     "name": "stdout",
     "output_type": "stream",
     "text": [
      "Filtering away by face and skeletal length\n",
      "width_name BEFORE processing = no_spine_median_mesh_center\n",
      "After processing\n",
      "width_name = no_spine_median_mesh_center, distance_by_mesh_center= True, no_spines = True, summary_measure= median\n",
      "Working on limb L0 branch 15\n",
      "    No spines and using precomputed width: 1089.9828968661784\n",
      "Working on limb L0 branch 14\n",
      "    No spines and using precomputed width: 828.8907338923282\n",
      "Working on limb L0 branch 16\n",
      "    current_width= 415.1344041740468\n",
      "Working on limb L0 branch 12\n",
      "    No spines and using precomputed width: 771.0632291031145\n",
      "Working on limb L0 branch 13\n",
      "    current_width= 386.10064140833373\n",
      "Working on limb L0 branch 8\n",
      "    No spines and using precomputed width: 779.6649030243232\n",
      "Working on limb L0 branch 11\n",
      "    No spines and using precomputed width: 246.53713053007215\n",
      "Working on limb L0 branch 6\n",
      "    No spines and using precomputed width: 817.1551299684313\n",
      "Working on limb L0 branch 7\n",
      "    No spines and using precomputed width: 435.1581110467687\n",
      "Working on limb L0 branch 4\n",
      "    No spines and using precomputed width: 640.3194775904308\n",
      "Working on limb L0 branch 5\n",
      "    No spines and using precomputed width: 389.708662250421\n",
      "Working on limb L0 branch 9\n",
      "    No spines and using precomputed width: 335.37032907778655\n",
      "Working on limb L0 branch 10\n",
      "    current_width= 404.7999162651415\n",
      "Working on limb L0 branch 0\n",
      "    current_width= 438.4542512209946\n",
      "Working on limb L0 branch 3\n",
      "    No spines and using precomputed width: 470.7790028029411\n",
      "Working on limb L0 branch 1\n",
      "    No spines and using precomputed width: 279.95370304506366\n",
      "Working on limb L0 branch 2\n",
      "    No spines and using precomputed width: 343.09695796759416\n",
      "Working on limb L1 branch 2\n",
      "    No spines and using precomputed width: 1011.1936963210178\n",
      "Working on limb L1 branch 4\n",
      "    No spines and using precomputed width: 491.9813164934752\n",
      "Working on limb L1 branch 7\n",
      "    No spines and using precomputed width: 853.5003671387606\n",
      "Working on limb L1 branch 5\n",
      "    No spines and using precomputed width: 241.61476800744978\n",
      "Working on limb L1 branch 6\n",
      "    No spines and using precomputed width: 429.01119240933417\n",
      "Working on limb L1 branch 3\n",
      "    No spines and using precomputed width: 371.5858871171059\n",
      "Working on limb L1 branch 10\n",
      "    No spines and using precomputed width: 709.3666635976456\n",
      "Working on limb L1 branch 8\n",
      "    No spines and using precomputed width: 443.9389710815309\n",
      "Working on limb L1 branch 9\n",
      "    current_width= 332.62144746123465\n",
      "Working on limb L1 branch 11\n",
      "    No spines and using precomputed width: 717.2873041545292\n",
      "Working on limb L1 branch 12\n",
      "    No spines and using precomputed width: 372.7814902591313\n",
      "Working on limb L1 branch 0\n",
      "    No spines and using precomputed width: 248.36752722172034\n",
      "Working on limb L1 branch 1\n",
      "    No spines and using precomputed width: 329.54104457130404\n",
      "Working on limb L1 branch 13\n",
      "    current_width= 314.3219852862786\n",
      "Working on limb L1 branch 14\n",
      "    No spines and using precomputed width: 642.3152023046023\n",
      "Working on limb L1 branch 15\n",
      "    No spines and using precomputed width: 283.89151378638667\n",
      "Working on limb L1 branch 16\n",
      "    No spines and using precomputed width: 648.373364640162\n",
      "Working on limb L1 branch 17\n",
      "    No spines and using precomputed width: 526.4768337356056\n",
      "Working on limb L1 branch 18\n",
      "    No spines and using precomputed width: 259.0748242526305\n",
      "Working on limb L2 branch 4\n",
      "    No spines and using precomputed width: 582.7727481366206\n",
      "Working on limb L2 branch 2\n",
      "    No spines and using precomputed width: 460.7732860545435\n",
      "Working on limb L2 branch 3\n",
      "    No spines and using precomputed width: 322.7720944324288\n",
      "Working on limb L2 branch 0\n",
      "    current_width= 367.4651422401548\n",
      "Working on limb L2 branch 1\n",
      "    No spines and using precomputed width: 304.8481142094281\n",
      "Working on limb L3 branch 6\n",
      "    No spines and using precomputed width: 643.8004597763227\n",
      "Working on limb L3 branch 4\n",
      "    current_width= 311.17111387261997\n",
      "Working on limb L3 branch 5\n",
      "    No spines and using precomputed width: 437.62689864196267\n",
      "Working on limb L3 branch 0\n",
      "    current_width= 292.6544972475076\n",
      "Working on limb L3 branch 3\n",
      "    No spines and using precomputed width: 303.1028465666103\n",
      "Working on limb L3 branch 1\n",
      "    No spines and using precomputed width: 301.66938937697915\n",
      "Working on limb L3 branch 2\n",
      "    No spines and using precomputed width: 316.3217398820092\n",
      "Working on limb L4 branch 0\n",
      "    current_width= 370.82450993292076\n",
      "Working on limb L5 branch 0\n",
      "    No spines and using precomputed width: 446.1111963985836\n",
      "Working on limb L5 branch 1\n",
      "    No spines and using precomputed width: 262.2417433042892\n",
      "Working on limb L5 branch 2\n",
      "    No spines and using precomputed width: 430.40765593893633\n",
      "Working on limb L5 branch 3\n",
      "    No spines and using precomputed width: 256.8088684705697\n",
      "Working on limb L5 branch 4\n",
      "    No spines and using precomputed width: 345.3847885795383\n",
      "Total time for neuron instance creation = 217.56247639656067\n"
     ]
    },
    {
     "data": {
      "text/plain": [
       "<neurd.neuron.Neuron at 0x7fbce93a17c0>"
      ]
     },
     "execution_count": 25,
     "metadata": {},
     "output_type": "execute_result"
    }
   ],
   "source": [
    "from neurd import neuron\n",
    "\n",
    "neuron_obj = neuron.Neuron(\n",
    "    mesh = mesh_decimated,\n",
    "    segment_id = segment_id, # don't need this explicitely if segment_id is already in products\n",
    "    pipeline_products = products,\n",
    "    suppress_preprocessing_print=False,\n",
    "    suppress_output=False,\n",
    ")\n",
    "\n",
    "neuron_obj"
   ]
  },
  {
   "cell_type": "code",
   "execution_count": 26,
   "id": "5467bcfe",
   "metadata": {},
   "outputs": [
    {
     "name": "stdout",
     "output_type": "stream",
     "text": [
      "\n",
      " Working on visualization type: mesh\n",
      "\n",
      " Working on visualization type: skeleton\n"
     ]
    },
    {
     "data": {
      "application/vnd.jupyter.widget-view+json": {
       "model_id": "c52350acbc0842e3b80eb74a0a37317f",
       "version_major": 2,
       "version_minor": 0
      },
      "text/plain": [
       "Container(figure=Figure(box_center=[0.5, 0.5, 0.5], box_size=[1.0, 1.0, 1.0], camera=PerspectiveCamera(fov=45.…"
      ]
     },
     "metadata": {},
     "output_type": "display_data"
    }
   ],
   "source": [
    "from neurd import neuron_visualizations as nviz\n",
    "\n",
    "nviz.visualize_neuron(\n",
    "    neuron_obj,\n",
    "    limb_branch_dict=\"all\"\n",
    ")"
   ]
  },
  {
   "cell_type": "markdown",
   "id": "0d43b744",
   "metadata": {},
   "source": [
    "# Calculate statistics"
   ]
  },
  {
   "cell_type": "code",
   "execution_count": 27,
   "id": "cac08fd6",
   "metadata": {},
   "outputs": [
    {
     "data": {
      "text/plain": [
       "<datasci_tools.pipeline.StageProducts at 0x7fbb6c239fd0>"
      ]
     },
     "execution_count": 27,
     "metadata": {},
     "output_type": "execute_result"
    }
   ],
   "source": [
    "decomp_products = neuron_obj.calculate_decomposition_products(\n",
    "    store_in_obj = True,\n",
    ")\n",
    "\n",
    "decomp_products"
   ]
  },
  {
   "cell_type": "code",
   "execution_count": 28,
   "id": "1ad6b018-5c7b-486f-b36b-d1b2768a0bbc",
   "metadata": {
    "scrolled": true
   },
   "outputs": [
    {
     "name": "stdout",
     "output_type": "stream",
     "text": [
      "    bbox_volume:2.92156645359312\n",
      "    bbox_x_max:1457440.0\n",
      "    bbox_x_max_soma_relative:112502.45670667756\n",
      "    bbox_x_min:1217910.0\n",
      "    bbox_x_min_soma_relative:-127027.54329332244\n",
      "    bbox_y_max:1273610.0\n",
      "    bbox_y_max_soma_relative:67849.16839529201\n",
      "    bbox_y_min:1172330.0\n",
      "    bbox_y_min_soma_relative:-33430.831604707986\n",
      "    bbox_z_max:187607.0\n",
      "    bbox_z_max_soma_relative:48182.19352056895\n",
      "    bbox_z_min:67177.7\n",
      "    bbox_z_min_soma_relative:-72247.10647943105\n",
      "    branch_length_mean:22.71750615219005\n",
      "    branch_length_median:14.663879011652615\n",
      "    centroid_volume:1055.9502501835468\n",
      "    centroid_x:1344937\n",
      "    centroid_x_nm:1344937.5432933224\n",
      "    centroid_y:1205760\n",
      "    centroid_y_nm:1205760.831604708\n",
      "    centroid_z:139424\n",
      "    centroid_z_nm:139424.80647943105\n",
      "    max_limb_n_branches:19\n",
      "    max_limb_skeletal_length:402182.1425925456\n",
      "    max_soma_area:627.1727959189939\n",
      "    median_branch_length:13221.453\n",
      "    n_branches:54\n",
      "    n_error_limbs:0\n",
      "    n_faces:132302\n",
      "    n_limbs:6\n",
      "    n_long_branches:1\n",
      "    n_medium_branches:44\n",
      "    n_multi_soma_touching_limbs:0\n",
      "    n_not_processed_soma_containing_meshes:0\n",
      "    n_same_soma_multi_touching_limbs:0\n",
      "    n_short_branches:9\n",
      "    n_somas:1\n",
      "    n_spine_eligible_branches:54\n",
      "    n_spines:13\n",
      "    n_vertices:66111\n",
      "    skeletal_length:1174955.707097091\n",
      "    skeletal_length_eligible:1174955.707\n",
      "    skeleton:[[[1217910.         1257510.          123896.        ]\n",
      "  [1217980.         1257490.          123946.        ]]\n",
      "\n",
      " [[1217980.         1257490.          123946.        ]\n",
      "  [1218150.         1257450.          124079.        ]]\n",
      "\n",
      " [[1218150.         1257450.          124079.        ]\n",
      "  [1218220.         1257430.          124149.        ]]\n",
      "\n",
      " ...\n",
      "\n",
      " [[1344937.54329332 1205760.83160471  139424.80647943]\n",
      "  [1337760.         1200950.          134002.        ]]\n",
      "\n",
      " [[1344937.54329332 1205760.83160471  139424.80647943]\n",
      "  [1351080.         1206990.          144852.        ]]\n",
      "\n",
      " [[1344937.54329332 1205760.83160471  139424.80647943]\n",
      "  [1349200.         1200520.          144691.        ]]]\n",
      "    spine_density:1.1064246866052937e-05\n",
      "    spine_density_eligible:1.1064246866967216e-05\n",
      "    spine_volume_density:744.2380701685536\n",
      "    spine_volume_density_eligible:744.2380702300526\n",
      "    spine_volume_median:47335888.88332621\n",
      "    spine_volume_per_branch_eligible:16193458.666360501\n",
      "    spines_per_branch:0.24074074074074073\n",
      "    spines_per_branch_eligible:0.241\n",
      "    total_spine_volume:874446767.9834671\n",
      "    width_90_perc:777.084\n",
      "    width_median:397.254\n",
      "    width_no_spine_90_perc:777.084\n",
      "    width_no_spine_median:397.254\n",
      "\n"
     ]
    }
   ],
   "source": [
    "print(decomp_products)"
   ]
  },
  {
   "cell_type": "code",
   "execution_count": 29,
   "id": "fa148fc5",
   "metadata": {
    "scrolled": true
   },
   "outputs": [
    {
     "name": "stdout",
     "output_type": "stream",
     "text": [
      "{\n",
      "  'decimation':\n",
      "  {\n",
      "    'decimation_parameters':\n",
      "    {\n",
      "      'decimation_ratio':0.25,\n",
      "    },\n",
      "    'segment_id':75086130432907868,\n",
      "  },\n",
      "  'soma_identification':\n",
      "  {\n",
      "    'glia_meshes':[],\n",
      "    'nuclei_meshes':[<trimesh.Trimesh(vertices.shape=(4646, 3), faces.shape=(9304, 3))>],\n",
      "    'soma_extraction_parameters':\n",
      "    {\n",
      "    },\n",
      "    'soma_meshes':[<trimesh.Trimesh(vertices.shape=(8581, 3), faces.shape=(17030, 3))>],\n",
      "    'soma_run_time':34.56571936607361,\n",
      "    'soma_sdfs':array([0.880647]),\n",
      "  },\n",
      "  'decomposition':\n",
      "  {\n",
      "    'bbox_volume':2.92156645359312,\n",
      "    'bbox_x_max':1457440.0,\n",
      "    'bbox_x_max_soma_relative':112502.45670667756,\n",
      "    'bbox_x_min':1217910.0,\n",
      "    'bbox_x_min_soma_relative':-127027.54329332244,\n",
      "    'bbox_y_max':1273610.0,\n",
      "    'bbox_y_max_soma_relative':67849.16839529201,\n",
      "    'bbox_y_min':1172330.0,\n",
      "    'bbox_y_min_soma_relative':-33430.831604707986,\n",
      "    'bbox_z_max':187607.0,\n",
      "    'bbox_z_max_soma_relative':48182.19352056895,\n",
      "    'bbox_z_min':67177.7,\n",
      "    'bbox_z_min_soma_relative':-72247.10647943105,\n",
      "    'branch_length_mean':22.71750615219005,\n",
      "    'branch_length_median':14.663879011652615,\n",
      "    'centroid_volume':1055.9502501835468,\n",
      "    'centroid_x':1344937,\n",
      "    'centroid_x_nm':1344937.5432933224,\n",
      "    'centroid_y':1205760,\n",
      "    'centroid_y_nm':1205760.831604708,\n",
      "    'centroid_z':139424,\n",
      "    'centroid_z_nm':139424.80647943105,\n",
      "    'max_limb_n_branches':19,\n",
      "    'max_limb_skeletal_length':402182.1425925456,\n",
      "    'max_soma_area':627.1727959189939,\n",
      "    'median_branch_length':13221.453,\n",
      "    'n_branches':54,\n",
      "    'n_error_limbs':0,\n",
      "    'n_faces':132302,\n",
      "    'n_limbs':6,\n",
      "    'n_long_branches':1,\n",
      "    'n_medium_branches':44,\n",
      "    'n_multi_soma_touching_limbs':0,\n",
      "    'n_not_processed_soma_containing_meshes':0,\n",
      "    'n_same_soma_multi_touching_limbs':0,\n",
      "    'n_short_branches':9,\n",
      "    'n_somas':1,\n",
      "    'n_spine_eligible_branches':54,\n",
      "    'n_spines':13,\n",
      "    'n_vertices':66111,\n",
      "    'skeletal_length':1174955.707097091,\n",
      "    'skeletal_length_eligible':1174955.707,\n",
      "    'skeleton':array([[[1217910.        , 1257510.        ,  123896.        ],\n",
      "        [1217980.        , 1257490.        ,  123946.        ]],\n",
      "\n",
      "       [[1217980.        , 1257490.        ,  123946.        ],\n",
      "        [1218150.        , 1257450.        ,  124079.        ]],\n",
      "\n",
      "       [[1218150.        , 1257450.        ,  124079.        ],\n",
      "        [1218220.        , 1257430.        ,  124149.        ]],\n",
      "\n",
      "       ...,\n",
      "\n",
      "       [[1344937.54329332, 1205760.83160471,  139424.80647943],\n",
      "        [1337760.        , 1200950.        ,  134002.        ]],\n",
      "\n",
      "       [[1344937.54329332, 1205760.83160471,  139424.80647943],\n",
      "        [1351080.        , 1206990.        ,  144852.        ]],\n",
      "\n",
      "       [[1344937.54329332, 1205760.83160471,  139424.80647943],\n",
      "        [1349200.        , 1200520.        ,  144691.        ]]]),\n",
      "    'spine_density':1.1064246866052937e-05,\n",
      "    'spine_density_eligible':1.1064246866967216e-05,\n",
      "    'spine_volume_density':744.2380701685536,\n",
      "    'spine_volume_density_eligible':744.2380702300526,\n",
      "    'spine_volume_median':47335888.88332621,\n",
      "    'spine_volume_per_branch_eligible':16193458.666360501,\n",
      "    'spines_per_branch':0.24074074074074073,\n",
      "    'spines_per_branch_eligible':0.241,\n",
      "    'total_spine_volume':874446767.9834671,\n",
      "    'width_90_perc':777.084,\n",
      "    'width_median':397.254,\n",
      "    'width_no_spine_90_perc':777.084,\n",
      "    'width_no_spine_median':397.254,\n",
      "  },\n",
      "}\n",
      "\n"
     ]
    }
   ],
   "source": [
    "print(neuron_obj.pipeline_products)"
   ]
  },
  {
   "cell_type": "code",
   "execution_count": 30,
   "id": "9486c4e6",
   "metadata": {
    "scrolled": true
   },
   "outputs": [],
   "source": [
    "# vdi.save_neuron_obj(\n",
    "#     neuron_obj,\n",
    "#     verbose = True\n",
    "# )"
   ]
  },
  {
   "cell_type": "code",
   "execution_count": 31,
   "id": "8271a534-8d0e-437e-8e41-87716bc110f5",
   "metadata": {},
   "outputs": [
    {
     "ename": "AttributeError",
     "evalue": "'DataInterfaceChen' object has no attribute 's'",
     "output_type": "error",
     "traceback": [
      "\u001b[0;31m---------------------------------------------------------------------------\u001b[0m",
      "\u001b[0;31mAttributeError\u001b[0m                            Traceback (most recent call last)",
      "Cell \u001b[0;32mIn[31], line 1\u001b[0m\n\u001b[0;32m----> 1\u001b[0m \u001b[43mvdi\u001b[49m\u001b[38;5;241;43m.\u001b[39;49m\u001b[43ms\u001b[49m\n",
      "\u001b[0;31mAttributeError\u001b[0m: 'DataInterfaceChen' object has no attribute 's'"
     ]
    }
   ],
   "source": [
    "vdi.s"
   ]
  },
  {
   "cell_type": "markdown",
   "id": "06b5f069",
   "metadata": {},
   "source": [
    "# Step 4A: Multi Soma Split Suggestions"
   ]
  },
  {
   "cell_type": "code",
   "execution_count": null,
   "id": "0729b033",
   "metadata": {},
   "outputs": [],
   "source": [
    "from neurd import neuron_visualizations as nviz\n",
    "nviz.plot_soma_limb_concept_network(\n",
    "    neuron_obj\n",
    ")"
   ]
  },
  {
   "cell_type": "code",
   "execution_count": null,
   "id": "3ea8a7ec",
   "metadata": {},
   "outputs": [],
   "source": [
    "multi_soma_split_parameters = dict()"
   ]
  },
  {
   "cell_type": "code",
   "execution_count": null,
   "id": "6b654969",
   "metadata": {},
   "outputs": [],
   "source": [
    "_ = neuron_obj.calculate_multi_soma_split_suggestions(\n",
    "    plot = True,\n",
    "    store_in_obj = True,\n",
    "    **multi_soma_split_parameters\n",
    ")\n"
   ]
  },
  {
   "cell_type": "markdown",
   "id": "2206b4cc",
   "metadata": {},
   "source": [
    "# Step 4B: Multi Soma Split Execution"
   ]
  },
  {
   "cell_type": "code",
   "execution_count": null,
   "id": "cc8bc52a",
   "metadata": {},
   "outputs": [],
   "source": [
    "neuron_list = neuron_obj.multi_soma_split_execution(\n",
    "    verbose = False,\n",
    ")"
   ]
  },
  {
   "cell_type": "code",
   "execution_count": null,
   "id": "652da951-0059-4d3b-adba-76313ec624a5",
   "metadata": {},
   "outputs": [],
   "source": [
    "neuron_list"
   ]
  },
  {
   "cell_type": "code",
   "execution_count": null,
   "id": "1239884b",
   "metadata": {
    "scrolled": true
   },
   "outputs": [],
   "source": [
    "n1 = neuron_list[0]\n",
    "print(n1.pipeline_products)"
   ]
  },
  {
   "cell_type": "markdown",
   "id": "a2dcd901",
   "metadata": {},
   "source": [
    "# Step 5: Cell Typing"
   ]
  },
  {
   "cell_type": "code",
   "execution_count": null,
   "id": "023dd7aa",
   "metadata": {},
   "outputs": [],
   "source": [
    "from neurd import neuron_pipeline_utils as npu"
   ]
  },
  {
   "cell_type": "code",
   "execution_count": null,
   "id": "b17ecdd9",
   "metadata": {
    "scrolled": true
   },
   "outputs": [],
   "source": [
    "neuron_obj_axon = npu.cell_type_ax_dendr_stage(\n",
    "    n1,\n",
    "    mesh_decimated = mesh_decimated,\n",
    "    plot_axon = False,\n",
    ")"
   ]
  },
  {
   "cell_type": "code",
   "execution_count": null,
   "id": "ef29fb5b",
   "metadata": {},
   "outputs": [],
   "source": [
    "nviz.plot_axon(\n",
    "    neuron_obj_axon\n",
    ")"
   ]
  },
  {
   "cell_type": "code",
   "execution_count": null,
   "id": "b88b6193-f3ab-43c9-a202-e5b8e138812b",
   "metadata": {
    "scrolled": true
   },
   "outputs": [],
   "source": [
    "print(neuron_obj_axon.pipeline_products.cell_type_ax_dendr)"
   ]
  },
  {
   "cell_type": "markdown",
   "id": "086ff6d4-dd81-44b8-90bd-7958d8341f91",
   "metadata": {},
   "source": [
    "# If the true synapses and a rotation matrix was not provided then the axon identification can't be trusted (and overwrit them)"
   ]
  },
  {
   "cell_type": "code",
   "execution_count": null,
   "id": "c56eb426-0b81-4dad-b8e9-2106858cdf3d",
   "metadata": {},
   "outputs": [],
   "source": [
    "# showing that axon classification is stored in the branch labels\n",
    "neuron_obj_axon[0][0].labels,neuron_obj_axon[1][0].labels"
   ]
  },
  {
   "cell_type": "code",
   "execution_count": null,
   "id": "10818219-7bd4-46e9-a5e6-f390542e1069",
   "metadata": {},
   "outputs": [],
   "source": [
    "def make_every_branch_default_label(neuron_obj):\n",
    "    for limb in neuron_obj:\n",
    "        for b in limb:\n",
    "            b.labels = ['dendrite']\n",
    "\n",
    "make_every_branch_default_label(neuron_obj_axon)\n",
    "neuron_obj_dendrite = neuron_obj_axon"
   ]
  },
  {
   "cell_type": "code",
   "execution_count": null,
   "id": "0da1d949-a3a8-405e-994f-ef8d93b79b3b",
   "metadata": {},
   "outputs": [],
   "source": [
    "nviz.plot_axon(\n",
    "    neuron_obj_dendrite\n",
    ")"
   ]
  },
  {
   "cell_type": "markdown",
   "id": "839e6af5-da9f-4381-abd7-665d0bf53a3c",
   "metadata": {},
   "source": [
    "# Saving off the neuron"
   ]
  },
  {
   "cell_type": "code",
   "execution_count": null,
   "id": "54883a80-5d0a-46ed-887e-443061ba9db7",
   "metadata": {},
   "outputs": [],
   "source": [
    "processed_dir = \"./Data_Processed/\""
   ]
  },
  {
   "cell_type": "code",
   "execution_count": null,
   "id": "4bd1fb04-39b0-4199-9c74-de57835cccb0",
   "metadata": {},
   "outputs": [],
   "source": [
    "# Saving off the neuron object (and decimated mesh which is needed to read back in the saved object\n",
    "\n",
    "suffix = \"_cell_type\"\n",
    "vdi.save_neuron_obj(\n",
    "    neuron_obj_dendrite,\n",
    "    directory=processed_dir,\n",
    "    suffix=suffix\n",
    ")"
   ]
  },
  {
   "cell_type": "code",
   "execution_count": null,
   "id": "e64d64cf-5034-40d4-b32f-7d72cacc13f4",
   "metadata": {},
   "outputs": [],
   "source": [
    "from mesh_tools import trimesh_utils as tu\n",
    "tu.write_h5_file(\n",
    "    mesh_decimated,\n",
    "    filepath=processed_dir,\n",
    "    filename = f\"{segment_id}_decimated\",\n",
    "    return_file_path=True,\n",
    ")"
   ]
  },
  {
   "cell_type": "markdown",
   "id": "3e040dad-c202-47ae-8c03-925f8a8bc566",
   "metadata": {},
   "source": [
    "# Can continue to the cell typing ipynb with this processed mesh"
   ]
  },
  {
   "cell_type": "code",
   "execution_count": null,
   "id": "8b9f0c74-d3b2-45b5-98f0-14bf0faee03c",
   "metadata": {},
   "outputs": [],
   "source": []
  }
 ],
 "metadata": {
  "kernelspec": {
   "display_name": "Python 3 (ipykernel)",
   "language": "python",
   "name": "python3"
  },
  "language_info": {
   "codemirror_mode": {
    "name": "ipython",
    "version": 3
   },
   "file_extension": ".py",
   "mimetype": "text/x-python",
   "name": "python",
   "nbconvert_exporter": "python",
   "pygments_lexer": "ipython3",
   "version": "3.8.0"
  }
 },
 "nbformat": 4,
 "nbformat_minor": 5
}
