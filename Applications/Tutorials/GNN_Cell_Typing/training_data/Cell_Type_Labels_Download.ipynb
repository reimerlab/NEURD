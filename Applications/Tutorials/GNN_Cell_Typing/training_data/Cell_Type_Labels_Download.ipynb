{
 "cells": [
  {
   "cell_type": "code",
   "execution_count": 1,
   "id": "8d13acd1-626b-4398-afa7-3f417ab490a2",
   "metadata": {},
   "outputs": [
    {
     "data": {
      "text/plain": [
       "'\\nTo retrieve the public cell typing training data\\n'"
      ]
     },
     "execution_count": 1,
     "metadata": {},
     "output_type": "execute_result"
    }
   ],
   "source": [
    "\"\"\"\n",
    "To retrieve the public cell typing training data\n",
    "\"\"\""
   ]
  },
  {
   "cell_type": "code",
   "execution_count": 2,
   "id": "5af7eb1c-6aa5-4961-9de9-d1ba75dce1a9",
   "metadata": {},
   "outputs": [],
   "source": [
    "%load_ext autoreload\n",
    "%autoreload 2"
   ]
  },
  {
   "cell_type": "code",
   "execution_count": 3,
   "id": "cd420d62-f37e-437d-9744-4eab6a85c151",
   "metadata": {},
   "outputs": [],
   "source": [
    "from caveclient import CAVEclient\n",
    "client = CAVEclient('minnie65_phase3_v1') # doesn't work just by itself (all commands hang)"
   ]
  },
  {
   "cell_type": "code",
   "execution_count": 4,
   "id": "aa497414-329a-48ab-bc3b-193c1fec0896",
   "metadata": {
    "scrolled": true
   },
   "outputs": [
    {
     "data": {
      "text/plain": [
       "['allen_v1_column_thalamic',\n",
       " 'baylor_gnn_cell_type_fine_model_v2',\n",
       " 'apl_functional_coreg',\n",
       " 'nucleus_alternative_points',\n",
       " 'allen_column_mtypes_v2',\n",
       " 'column_atype',\n",
       " 'connectivity_groups_v507',\n",
       " 'new_table_test',\n",
       " 'connectivity_groups_v795',\n",
       " 'proofreading_functional_coreg',\n",
       " 'bodor_pt_cells',\n",
       " 'proofreading_apl_multisoma',\n",
       " 'aibs_metamodel_mtypes_v661_v2',\n",
       " 'aibs_metamodel_celltypes_v661_corrections',\n",
       " 'allen_column_l5it_types',\n",
       " 'allen_v1_column_types_slanted',\n",
       " 'baylor_e_i_model_v1',\n",
       " 'allen_column_mtypes_v1',\n",
       " 'allen_v1_column_types_slanted_ref',\n",
       " 'test_nvq_table',\n",
       " 'aibs_column_nonneuronal_ref',\n",
       " 'nucleus_ref_neuron_svm',\n",
       " 'apl_functional_coreg_v2',\n",
       " 'validated_opc_synapses',\n",
       " 'coregistration_manual',\n",
       " 'aibs_soma_nuc_exc_mtype_preds_v117',\n",
       " 'apl_functional_coreg_vess_fwd',\n",
       " 'test_nvq_table_status',\n",
       " 'vortex_compartment_targets',\n",
       " 'baylor_log_reg_cell_type_coarse_v1',\n",
       " 'test_synapse_target_proofreading',\n",
       " 'test_synapse_target_broadcast',\n",
       " 'l23exc_column',\n",
       " 'functional_properties_v3_bcm',\n",
       " 'apl_functional_coreg_forward_v3',\n",
       " 'proofreading_apl',\n",
       " 'apl_functional_coreg_forward_v5',\n",
       " 'coregistration_manual_v2',\n",
       " 'apl_functional_coreg_forward_v4',\n",
       " 'test_synapse_target_proofreading_status',\n",
       " 'l5et_column',\n",
       " 'gamlin_2023_mcs',\n",
       " 'test_table_local_csm',\n",
       " 'cell_edits_v661',\n",
       " 'apl_functional_coreg_backward_v3',\n",
       " 'proofreading_status_public_release',\n",
       " 'pt_synapse_targets',\n",
       " 'coregistration_auto_phase3_fwd_apl_vess_combined',\n",
       " 'orphan_neurites',\n",
       " 'coregistration_manual_v4',\n",
       " 'nucleus_neuron_svm',\n",
       " 'aibs_column_nonneuronal',\n",
       " 'proofreading_functional_coreg_v2',\n",
       " 'coregistration_manual_v3',\n",
       " 'allen_column_basket_molecular',\n",
       " 'allen_column_bodor_surround_inhib',\n",
       " 'cg_cell_type_calls',\n",
       " 'functional_coreg',\n",
       " 'allen_v1_column_pyc_proof',\n",
       " 'func_unit_em_match_release',\n",
       " 'allen_class_type_svm_v0',\n",
       " 'allen_subclass_type_svm_v0',\n",
       " 'allen_v1_column_proofreading',\n",
       " 'l5_mc_cg',\n",
       " 'allen_soma_coarse_cell_class_model_v1',\n",
       " 'synapses_pni_2',\n",
       " 'nucleus_detection_v0',\n",
       " 'allen_minnie_extra_types',\n",
       " 'vortex_manual_nodes_of_ranvier',\n",
       " 'aibs_soma_nuc_metamodel_preds_v117',\n",
       " 'layer5_it_proofreading',\n",
       " 'aibs_metamodel_mtypes_v661',\n",
       " 'vortex_astrocyte_proofreading_status',\n",
       " 'bodor_pt_target_proofread',\n",
       " 'nucleus_functional_area_assignment',\n",
       " 'coregistration_auto_phase3_fwd_apl_vess_combined_v2',\n",
       " 'aibs_metamodel_validation_v661',\n",
       " 'coregistration_auto_phase3_fwd',\n",
       " 'synapse_target_structure',\n",
       " 'coregistration_auto_phase3_fwd_v2',\n",
       " 'proofreading_status_and_strategy',\n",
       " 'vortex_proofreading_status',\n",
       " 'vortex_manual_myelination_v0',\n",
       " 'gamlin_2023_mcs_met_types',\n",
       " 'cell_edits_v1181',\n",
       " 'apl_functional_coreg_forward_v6',\n",
       " 'aibs_metamodel_celltypes_v661']"
      ]
     },
     "execution_count": 4,
     "metadata": {},
     "output_type": "execute_result"
    }
   ],
   "source": [
    "client.materialize.get_tables()"
   ]
  },
  {
   "cell_type": "code",
   "execution_count": 9,
   "id": "6d041fa9-2f2d-4f08-b9bd-109b52495998",
   "metadata": {},
   "outputs": [],
   "source": [
    "public_cave_ground_truth_cell_types = \"allen_v1_column_types_slanted_ref\"\n",
    "public_nucleus_table = \"nucleus_detection_v0\""
   ]
  },
  {
   "cell_type": "code",
   "execution_count": 14,
   "id": "7d0bd78d-f59e-433b-ac95-f0b1d03656e7",
   "metadata": {},
   "outputs": [
    {
     "name": "stdout",
     "output_type": "stream",
     "text": [
      "Jupyter environment detected. Enabling Open3D WebVisualizer.\n",
      "[Open3D INFO] WebRTC GUI backend enabled.\n",
      "[Open3D INFO] WebRTCWindowSystem: HTTP handshake server disabled.\n"
     ]
    }
   ],
   "source": [
    "from datasci_tools import pandas_utils as pu"
   ]
  },
  {
   "cell_type": "code",
   "execution_count": 15,
   "id": "373783a8-e95c-4803-87ff-a24a2250bd7b",
   "metadata": {},
   "outputs": [],
   "source": [
    "nucleus_db = client.materialize.query_table(public_nucleus_table)"
   ]
  },
  {
   "cell_type": "code",
   "execution_count": 16,
   "id": "97a66a36-78c3-4191-8074-17eade4588fe",
   "metadata": {},
   "outputs": [
    {
     "data": {
      "text/plain": [
       "\u001b[0;31mSignature:\u001b[0m \u001b[0mpu\u001b[0m\u001b[0;34m.\u001b[0m\u001b[0mrename_columns\u001b[0m\u001b[0;34m(\u001b[0m\u001b[0mdf\u001b[0m\u001b[0;34m,\u001b[0m \u001b[0mcolumns_name_map\u001b[0m\u001b[0;34m,\u001b[0m \u001b[0min_place\u001b[0m\u001b[0;34m=\u001b[0m\u001b[0;32mFalse\u001b[0m\u001b[0;34m)\u001b[0m\u001b[0;34m\u001b[0m\u001b[0;34m\u001b[0m\u001b[0m\n",
       "\u001b[0;31mDocstring:\u001b[0m <no docstring>\n",
       "\u001b[0;31mSource:\u001b[0m   \n",
       "\u001b[0;32mdef\u001b[0m \u001b[0mrename_columns\u001b[0m\u001b[0;34m(\u001b[0m\u001b[0mdf\u001b[0m\u001b[0;34m,\u001b[0m\u001b[0mcolumns_name_map\u001b[0m\u001b[0;34m,\u001b[0m\u001b[0min_place\u001b[0m \u001b[0;34m=\u001b[0m \u001b[0;32mFalse\u001b[0m\u001b[0;34m,\u001b[0m\u001b[0;34m)\u001b[0m\u001b[0;34m:\u001b[0m\u001b[0;34m\u001b[0m\n",
       "\u001b[0;34m\u001b[0m    \u001b[0mreturn_value\u001b[0m \u001b[0;34m=\u001b[0m \u001b[0mdf\u001b[0m\u001b[0;34m.\u001b[0m\u001b[0mrename\u001b[0m\u001b[0;34m(\u001b[0m\u001b[0mcolumns\u001b[0m\u001b[0;34m=\u001b[0m\u001b[0mcolumns_name_map\u001b[0m\u001b[0;34m,\u001b[0m\u001b[0minplace\u001b[0m \u001b[0;34m=\u001b[0m \u001b[0min_place\u001b[0m\u001b[0;34m)\u001b[0m\u001b[0;34m\u001b[0m\n",
       "\u001b[0;34m\u001b[0m    \u001b[0;32mif\u001b[0m \u001b[0min_place\u001b[0m\u001b[0;34m:\u001b[0m\u001b[0;34m\u001b[0m\n",
       "\u001b[0;34m\u001b[0m        \u001b[0;32mreturn\u001b[0m \u001b[0mdf\u001b[0m\u001b[0;34m\u001b[0m\n",
       "\u001b[0;34m\u001b[0m    \u001b[0;32melse\u001b[0m\u001b[0;34m:\u001b[0m\u001b[0;34m\u001b[0m\n",
       "\u001b[0;34m\u001b[0m        \u001b[0;32mreturn\u001b[0m \u001b[0mreturn_value\u001b[0m\u001b[0;34m\u001b[0m\u001b[0;34m\u001b[0m\u001b[0m\n",
       "\u001b[0;31mFile:\u001b[0m      /neurd_packages/datasci_tools/datasci_tools/pandas_utils.py\n",
       "\u001b[0;31mType:\u001b[0m      function"
      ]
     },
     "metadata": {},
     "output_type": "display_data"
    }
   ],
   "source": [
    "pu.rename_columns??"
   ]
  },
  {
   "cell_type": "code",
   "execution_count": 21,
   "id": "869aad65-28fb-4ce6-8ece-219ddb59d4fa",
   "metadata": {},
   "outputs": [
    {
     "data": {
      "text/html": [
       "<div>\n",
       "<style scoped>\n",
       "    .dataframe tbody tr th:only-of-type {\n",
       "        vertical-align: middle;\n",
       "    }\n",
       "\n",
       "    .dataframe tbody tr th {\n",
       "        vertical-align: top;\n",
       "    }\n",
       "\n",
       "    .dataframe thead th {\n",
       "        text-align: right;\n",
       "    }\n",
       "</style>\n",
       "<table border=\"1\" class=\"dataframe\">\n",
       "  <thead>\n",
       "    <tr style=\"text-align: right;\">\n",
       "      <th></th>\n",
       "      <th>nucleus_id</th>\n",
       "      <th>pt_root_id</th>\n",
       "    </tr>\n",
       "  </thead>\n",
       "  <tbody>\n",
       "    <tr>\n",
       "      <th>0</th>\n",
       "      <td>730537</td>\n",
       "      <td>0</td>\n",
       "    </tr>\n",
       "    <tr>\n",
       "      <th>1</th>\n",
       "      <td>373879</td>\n",
       "      <td>864691136090135607</td>\n",
       "    </tr>\n",
       "    <tr>\n",
       "      <th>2</th>\n",
       "      <td>601340</td>\n",
       "      <td>0</td>\n",
       "    </tr>\n",
       "    <tr>\n",
       "      <th>3</th>\n",
       "      <td>201858</td>\n",
       "      <td>864691135373893678</td>\n",
       "    </tr>\n",
       "    <tr>\n",
       "      <th>4</th>\n",
       "      <td>600774</td>\n",
       "      <td>0</td>\n",
       "    </tr>\n",
       "    <tr>\n",
       "      <th>...</th>\n",
       "      <td>...</td>\n",
       "      <td>...</td>\n",
       "    </tr>\n",
       "    <tr>\n",
       "      <th>144115</th>\n",
       "      <td>598753</td>\n",
       "      <td>864691135743752909</td>\n",
       "    </tr>\n",
       "    <tr>\n",
       "      <th>144116</th>\n",
       "      <td>111162</td>\n",
       "      <td>864691134912248365</td>\n",
       "    </tr>\n",
       "    <tr>\n",
       "      <th>144117</th>\n",
       "      <td>795176</td>\n",
       "      <td>0</td>\n",
       "    </tr>\n",
       "    <tr>\n",
       "      <th>144118</th>\n",
       "      <td>528334</td>\n",
       "      <td>864691135968943973</td>\n",
       "    </tr>\n",
       "    <tr>\n",
       "      <th>144119</th>\n",
       "      <td>267033</td>\n",
       "      <td>864691135489514810</td>\n",
       "    </tr>\n",
       "  </tbody>\n",
       "</table>\n",
       "<p>144120 rows × 2 columns</p>\n",
       "</div>"
      ],
      "text/plain": [
       "        nucleus_id          pt_root_id\n",
       "0           730537                   0\n",
       "1           373879  864691136090135607\n",
       "2           601340                   0\n",
       "3           201858  864691135373893678\n",
       "4           600774                   0\n",
       "...            ...                 ...\n",
       "144115      598753  864691135743752909\n",
       "144116      111162  864691134912248365\n",
       "144117      795176                   0\n",
       "144118      528334  864691135968943973\n",
       "144119      267033  864691135489514810\n",
       "\n",
       "[144120 rows x 2 columns]"
      ]
     },
     "execution_count": 21,
     "metadata": {},
     "output_type": "execute_result"
    }
   ],
   "source": [
    "nucleus_df = nucleus_db[[\"id\",\"pt_root_id\"]]\n",
    "nucleus_df = pu.rename_columns(nucleus_df,{\"id\":\"nucleus_id\",})\n",
    "nucleus_df"
   ]
  },
  {
   "cell_type": "code",
   "execution_count": 22,
   "id": "02766574-2761-4afb-a76a-2f0e9389a143",
   "metadata": {
    "scrolled": true
   },
   "outputs": [
    {
     "data": {
      "text/html": [
       "<div>\n",
       "<style scoped>\n",
       "    .dataframe tbody tr th:only-of-type {\n",
       "        vertical-align: middle;\n",
       "    }\n",
       "\n",
       "    .dataframe tbody tr th {\n",
       "        vertical-align: top;\n",
       "    }\n",
       "\n",
       "    .dataframe thead th {\n",
       "        text-align: right;\n",
       "    }\n",
       "</style>\n",
       "<table border=\"1\" class=\"dataframe\">\n",
       "  <thead>\n",
       "    <tr style=\"text-align: right;\">\n",
       "      <th></th>\n",
       "      <th>cell_type</th>\n",
       "      <th>pt_root_id</th>\n",
       "    </tr>\n",
       "  </thead>\n",
       "  <tbody>\n",
       "    <tr>\n",
       "      <th>0</th>\n",
       "      <td>23P</td>\n",
       "      <td>864691136021936376</td>\n",
       "    </tr>\n",
       "    <tr>\n",
       "      <th>1</th>\n",
       "      <td>6P-CT</td>\n",
       "      <td>864691136487559186</td>\n",
       "    </tr>\n",
       "    <tr>\n",
       "      <th>2</th>\n",
       "      <td>23P</td>\n",
       "      <td>864691135784109363</td>\n",
       "    </tr>\n",
       "    <tr>\n",
       "      <th>3</th>\n",
       "      <td>23P</td>\n",
       "      <td>864691135694415551</td>\n",
       "    </tr>\n",
       "    <tr>\n",
       "      <th>4</th>\n",
       "      <td>BPC</td>\n",
       "      <td>864691135759892302</td>\n",
       "    </tr>\n",
       "    <tr>\n",
       "      <th>...</th>\n",
       "      <td>...</td>\n",
       "      <td>...</td>\n",
       "    </tr>\n",
       "    <tr>\n",
       "      <th>1352</th>\n",
       "      <td>5P-PT</td>\n",
       "      <td>864691135503182685</td>\n",
       "    </tr>\n",
       "    <tr>\n",
       "      <th>1353</th>\n",
       "      <td>5P-PT</td>\n",
       "      <td>864691136335150259</td>\n",
       "    </tr>\n",
       "    <tr>\n",
       "      <th>1354</th>\n",
       "      <td>5P-PT</td>\n",
       "      <td>864691135688186080</td>\n",
       "    </tr>\n",
       "    <tr>\n",
       "      <th>1355</th>\n",
       "      <td>5P-PT</td>\n",
       "      <td>864691135503435613</td>\n",
       "    </tr>\n",
       "    <tr>\n",
       "      <th>1356</th>\n",
       "      <td>5P-PT</td>\n",
       "      <td>864691135489514810</td>\n",
       "    </tr>\n",
       "  </tbody>\n",
       "</table>\n",
       "<p>1357 rows × 2 columns</p>\n",
       "</div>"
      ],
      "text/plain": [
       "     cell_type          pt_root_id\n",
       "0          23P  864691136021936376\n",
       "1        6P-CT  864691136487559186\n",
       "2          23P  864691135784109363\n",
       "3          23P  864691135694415551\n",
       "4          BPC  864691135759892302\n",
       "...        ...                 ...\n",
       "1352     5P-PT  864691135503182685\n",
       "1353     5P-PT  864691136335150259\n",
       "1354     5P-PT  864691135688186080\n",
       "1355     5P-PT  864691135503435613\n",
       "1356     5P-PT  864691135489514810\n",
       "\n",
       "[1357 rows x 2 columns]"
      ]
     },
     "execution_count": 22,
     "metadata": {},
     "output_type": "execute_result"
    }
   ],
   "source": [
    "df = client.materialize.query_table(public_cave_ground_truth_cell_types)\n",
    "cell_type_df = df[[\"cell_type\",\"pt_root_id\"]]\n",
    "cell_type_df"
   ]
  },
  {
   "cell_type": "code",
   "execution_count": 28,
   "id": "06f4b4d8-dcf7-4dc4-9467-8ecfa8f53e67",
   "metadata": {},
   "outputs": [
    {
     "data": {
      "text/html": [
       "<div>\n",
       "<style scoped>\n",
       "    .dataframe tbody tr th:only-of-type {\n",
       "        vertical-align: middle;\n",
       "    }\n",
       "\n",
       "    .dataframe tbody tr th {\n",
       "        vertical-align: top;\n",
       "    }\n",
       "\n",
       "    .dataframe thead th {\n",
       "        text-align: right;\n",
       "    }\n",
       "</style>\n",
       "<table border=\"1\" class=\"dataframe\">\n",
       "  <thead>\n",
       "    <tr style=\"text-align: right;\">\n",
       "      <th></th>\n",
       "      <th>segment_id</th>\n",
       "      <th>nucleus_id</th>\n",
       "      <th>cell_type</th>\n",
       "    </tr>\n",
       "  </thead>\n",
       "  <tbody>\n",
       "    <tr>\n",
       "      <th>0</th>\n",
       "      <td>864691136021936376</td>\n",
       "      <td>258319</td>\n",
       "      <td>23P</td>\n",
       "    </tr>\n",
       "    <tr>\n",
       "      <th>1</th>\n",
       "      <td>864691136487559186</td>\n",
       "      <td>276438</td>\n",
       "      <td>6P-CT</td>\n",
       "    </tr>\n",
       "    <tr>\n",
       "      <th>2</th>\n",
       "      <td>864691135784109363</td>\n",
       "      <td>260552</td>\n",
       "      <td>23P</td>\n",
       "    </tr>\n",
       "    <tr>\n",
       "      <th>3</th>\n",
       "      <td>864691135694415551</td>\n",
       "      <td>260263</td>\n",
       "      <td>23P</td>\n",
       "    </tr>\n",
       "    <tr>\n",
       "      <th>4</th>\n",
       "      <td>864691135759892302</td>\n",
       "      <td>262898</td>\n",
       "      <td>BPC</td>\n",
       "    </tr>\n",
       "    <tr>\n",
       "      <th>...</th>\n",
       "      <td>...</td>\n",
       "      <td>...</td>\n",
       "      <td>...</td>\n",
       "    </tr>\n",
       "    <tr>\n",
       "      <th>1352</th>\n",
       "      <td>864691135503182685</td>\n",
       "      <td>267029</td>\n",
       "      <td>5P-PT</td>\n",
       "    </tr>\n",
       "    <tr>\n",
       "      <th>1353</th>\n",
       "      <td>864691136335150259</td>\n",
       "      <td>267294</td>\n",
       "      <td>5P-PT</td>\n",
       "    </tr>\n",
       "    <tr>\n",
       "      <th>1354</th>\n",
       "      <td>864691135688186080</td>\n",
       "      <td>303145</td>\n",
       "      <td>5P-PT</td>\n",
       "    </tr>\n",
       "    <tr>\n",
       "      <th>1355</th>\n",
       "      <td>864691135503435613</td>\n",
       "      <td>302955</td>\n",
       "      <td>5P-PT</td>\n",
       "    </tr>\n",
       "    <tr>\n",
       "      <th>1356</th>\n",
       "      <td>864691135489514810</td>\n",
       "      <td>267033</td>\n",
       "      <td>5P-PT</td>\n",
       "    </tr>\n",
       "  </tbody>\n",
       "</table>\n",
       "<p>1357 rows × 3 columns</p>\n",
       "</div>"
      ],
      "text/plain": [
       "              segment_id  nucleus_id cell_type\n",
       "0     864691136021936376      258319       23P\n",
       "1     864691136487559186      276438     6P-CT\n",
       "2     864691135784109363      260552       23P\n",
       "3     864691135694415551      260263       23P\n",
       "4     864691135759892302      262898       BPC\n",
       "...                  ...         ...       ...\n",
       "1352  864691135503182685      267029     5P-PT\n",
       "1353  864691136335150259      267294     5P-PT\n",
       "1354  864691135688186080      303145     5P-PT\n",
       "1355  864691135503435613      302955     5P-PT\n",
       "1356  864691135489514810      267033     5P-PT\n",
       "\n",
       "[1357 rows x 3 columns]"
      ]
     },
     "execution_count": 28,
     "metadata": {},
     "output_type": "execute_result"
    }
   ],
   "source": [
    "import pandas as pd\n",
    "nuc_cell_type_df = pd.merge(cell_type_df,nucleus_df,how=\"inner\",on=[\"pt_root_id\"])\n",
    "nuc_cell_type_df = nuc_cell_type_df.rename(columns=dict(pt_root_id='segment_id'),inplace = False)\n",
    "nuc_cell_type_df = nuc_cell_type_df[['segment_id','nucleus_id','cell_type']]\n",
    "nuc_cell_type_df"
   ]
  },
  {
   "cell_type": "code",
   "execution_count": 29,
   "id": "1f7d93e6-604c-4f11-8f04-f2e700173bc4",
   "metadata": {},
   "outputs": [
    {
     "data": {
      "text/plain": [
       "'/neurd_packages/NEURD/Applications/Tutorials/GNN_Cell_Typing/training_data/public_cave_ground_truth_cell_types_with_nucleus.csv'"
      ]
     },
     "execution_count": 29,
     "metadata": {},
     "output_type": "execute_result"
    }
   ],
   "source": [
    "pu.df_to_csv(nuc_cell_type_df,\"public_cave_ground_truth_cell_types_with_nucleus.csv\")"
   ]
  },
  {
   "cell_type": "code",
   "execution_count": null,
   "id": "4aa49055-0976-433a-9889-1aab865df365",
   "metadata": {},
   "outputs": [],
   "source": []
  }
 ],
 "metadata": {
  "kernelspec": {
   "display_name": "Python 3 (ipykernel)",
   "language": "python",
   "name": "python3"
  },
  "language_info": {
   "codemirror_mode": {
    "name": "ipython",
    "version": 3
   },
   "file_extension": ".py",
   "mimetype": "text/x-python",
   "name": "python",
   "nbconvert_exporter": "python",
   "pygments_lexer": "ipython3",
   "version": "3.8.0"
  }
 },
 "nbformat": 4,
 "nbformat_minor": 5
}
