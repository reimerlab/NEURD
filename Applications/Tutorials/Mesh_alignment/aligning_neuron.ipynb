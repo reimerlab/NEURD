{
 "cells": [
  {
   "cell_type": "code",
   "execution_count": 1,
   "id": "1a121c38-4ff4-4297-b069-1cecbe63607e",
   "metadata": {},
   "outputs": [],
   "source": [
    "%load_ext autoreload\n",
    "%autoreload 2"
   ]
  },
  {
   "cell_type": "code",
   "execution_count": 2,
   "id": "b62de73f-acb8-4e7f-8952-7ccd85ad8e5b",
   "metadata": {},
   "outputs": [
    {
     "name": "stdout",
     "output_type": "stream",
     "text": [
      "Jupyter environment detected. Enabling Open3D WebVisualizer.\n",
      "[Open3D INFO] WebRTC GUI backend enabled.\n",
      "[Open3D INFO] WebRTCWindowSystem: HTTP handshake server disabled.\n"
     ]
    }
   ],
   "source": [
    "from neurd.vdi_h01 import volume_data_interface as vdi"
   ]
  },
  {
   "cell_type": "markdown",
   "id": "1250cd7b-4ac2-4b60-b506-813061e373bb",
   "metadata": {},
   "source": [
    "# Loading the data"
   ]
  },
  {
   "cell_type": "code",
   "execution_count": 3,
   "id": "64102efe-5428-441b-91a3-dca15de0f511",
   "metadata": {},
   "outputs": [],
   "source": [
    "from mesh_tools import trimesh_utils as tu\n",
    "import numpy as np\n",
    "from neurd import neuron_visualizations as nviz\n",
    "from datasci_tools import ipyvolume_utils as ipvu"
   ]
  },
  {
   "cell_type": "code",
   "execution_count": 4,
   "id": "d8c233d6-76c2-4e7b-9ba3-f08487a84bc9",
   "metadata": {},
   "outputs": [],
   "source": [
    "segment_id = 74875092987018534"
   ]
  },
  {
   "cell_type": "code",
   "execution_count": 5,
   "id": "21a1aeb8-41c0-4a52-b2d0-33e9d8858a57",
   "metadata": {},
   "outputs": [
    {
     "name": "stderr",
     "output_type": "stream",
     "text": [
      "/usr/local/lib/python3.8/dist-packages/traittypes/traittypes.py:97: UserWarning: Given trait value dtype \"float64\" does not match required type \"float64\". A coerced copy has been created.\n",
      "  warnings.warn(\n"
     ]
    },
    {
     "data": {
      "application/vnd.jupyter.widget-view+json": {
       "model_id": "955054f5d9c94d9095f361f291f227e1",
       "version_major": 2,
       "version_minor": 0
      },
      "text/plain": [
       "Container(figure=Figure(box_center=[0.5, 0.5, 0.5], box_size=[1.0, 1.0, 1.0], camera=PerspectiveCamera(fov=45.…"
      ]
     },
     "metadata": {},
     "output_type": "display_data"
    }
   ],
   "source": [
    "mesh = tu.load_mesh_no_processing(f\"./{segment_id}.off\")\n",
    "nviz.plot_objects(mesh)"
   ]
  },
  {
   "cell_type": "code",
   "execution_count": 6,
   "id": "8db4d04b-463f-454a-a1bc-ef77238685bc",
   "metadata": {},
   "outputs": [
    {
     "name": "stdout",
     "output_type": "stream",
     "text": [
      "Decompressing Neuron in minimal output mode...please wait\n"
     ]
    }
   ],
   "source": [
    "neuron_obj = vdi.load_neuron_obj(\n",
    "    segment_id = segment_id,\n",
    "    mesh_decimated=mesh,\n",
    "    directory=\"./\",\n",
    ")"
   ]
  },
  {
   "cell_type": "code",
   "execution_count": 7,
   "id": "6d118918-a5d1-4ee6-9147-faaa85d726e8",
   "metadata": {},
   "outputs": [
    {
     "name": "stdout",
     "output_type": "stream",
     "text": [
      "\n",
      " Working on visualization type: mesh\n",
      "\n",
      " Working on visualization type: skeleton\n"
     ]
    },
    {
     "data": {
      "application/vnd.jupyter.widget-view+json": {
       "model_id": "6c094635d34049bb82bdc26a7e79b0fe",
       "version_major": 2,
       "version_minor": 0
      },
      "text/plain": [
       "Container(figure=Figure(box_center=[0.5, 0.5, 0.5], box_size=[1.0, 1.0, 1.0], camera=PerspectiveCamera(fov=45.…"
      ]
     },
     "metadata": {},
     "output_type": "display_data"
    }
   ],
   "source": [
    "nviz.visualize_neuron(neuron_obj,limb_branch_dict=\"all\")"
   ]
  },
  {
   "cell_type": "code",
   "execution_count": 8,
   "id": "beca3e1f-bfbb-4c03-a46e-4d8483593df9",
   "metadata": {},
   "outputs": [
    {
     "data": {
      "text/plain": [
       "array([[ 0.84065925, -0.54156439,  0.        ],\n",
       "       [ 0.54156439,  0.84065925,  0.        ],\n",
       "       [ 0.        ,  0.        ,  1.        ]])"
      ]
     },
     "execution_count": 8,
     "metadata": {},
     "output_type": "execute_result"
    }
   ],
   "source": [
    "align_matrix = np.array([[ 0.84065925, -0.54156439,  0.        ],\n",
    "       [ 0.54156439,  0.84065925,  0.        ],\n",
    "       [ 0.        ,  0.        ,  1.        ]])\n",
    "align_matrix"
   ]
  },
  {
   "cell_type": "code",
   "execution_count": 9,
   "id": "92f7c3e3-31a7-4c9b-9080-8f0d619e7eb2",
   "metadata": {},
   "outputs": [
    {
     "data": {
      "text/plain": [
       "array([[ 0.84065928,  0.54156441,  0.        ],\n",
       "       [-0.54156441,  0.84065928,  0.        ],\n",
       "       [ 0.        ,  0.        ,  1.        ]])"
      ]
     },
     "execution_count": 9,
     "metadata": {},
     "output_type": "execute_result"
    }
   ],
   "source": [
    "inv_matrix = np.linalg.inv(align_matrix)\n",
    "inv_matrix"
   ]
  },
  {
   "cell_type": "markdown",
   "id": "bd94e30d-86db-4fd5-abbd-960b7da542fd",
   "metadata": {},
   "source": [
    "# Trying the align and unalign functions"
   ]
  },
  {
   "cell_type": "code",
   "execution_count": 10,
   "id": "7ec997e2-2b5b-43f2-9269-c970f28a4d8d",
   "metadata": {},
   "outputs": [],
   "source": [
    "from neurd import neuron_utils as nru"
   ]
  },
  {
   "cell_type": "code",
   "execution_count": 23,
   "id": "a91d8faa-87da-4de5-ba00-92c6a4e3ea5b",
   "metadata": {},
   "outputs": [],
   "source": [
    "n_aligned = vdi.align_neuron_obj(\n",
    "    neuron_obj,\n",
    "    align_matrix=align_matrix,\n",
    ")\n",
    "\n",
    "n_not = vdi.unalign_neuron_obj(\n",
    "    n_aligned,\n",
    "    #align_matrix=align_matrix,\n",
    ")"
   ]
  },
  {
   "cell_type": "code",
   "execution_count": 24,
   "id": "3cff9c57-4986-4dfe-a28b-bd510694970f",
   "metadata": {},
   "outputs": [
    {
     "data": {
      "text/plain": [
       "(TrackedArray([[1223220.125   , 1212090.      ,  102325.09375 ],\n",
       "               [1223321.25    , 1212108.875   ,  102275.109375],\n",
       "               [1223250.      , 1212090.      ,  102199.90625 ],\n",
       "               ...,\n",
       "               [1265378.75    , 1243799.75    ,  149482.0625  ],\n",
       "               [1286365.75    , 1278419.      ,   72673.09375 ],\n",
       "               [1204230.      , 1293998.5     ,  168906.921875]]),\n",
       " TrackedArray([[1223220.125   , 1212090.      ,  102325.09375 ],\n",
       "               [1223321.25    , 1212108.875   ,  102275.109375],\n",
       "               [1223250.      , 1212090.      ,  102199.90625 ],\n",
       "               ...,\n",
       "               [1265378.75    , 1243799.75    ,  149482.0625  ],\n",
       "               [1286365.75    , 1278419.      ,   72673.09375 ],\n",
       "               [1204230.      , 1293998.5     ,  168906.921875]]))"
      ]
     },
     "execution_count": 24,
     "metadata": {},
     "output_type": "execute_result"
    }
   ],
   "source": [
    "neuron_obj.mesh.vertices,n_not.mesh.vertices"
   ]
  },
  {
   "cell_type": "code",
   "execution_count": null,
   "id": "178d087c-4ed6-487c-8ce4-1dd0a925e4ca",
   "metadata": {},
   "outputs": [],
   "source": []
  },
  {
   "cell_type": "code",
   "execution_count": null,
   "id": "dbb32c1a-b1a7-4808-9a45-c221f7d0e24c",
   "metadata": {},
   "outputs": [],
   "source": [
    "ipvu.plot_objects(n_not.mesh)"
   ]
  },
  {
   "cell_type": "code",
   "execution_count": null,
   "id": "8222dc40-b6eb-4b4c-9b72-3628bffb067a",
   "metadata": {},
   "outputs": [],
   "source": []
  },
  {
   "cell_type": "markdown",
   "id": "87e36155-80b7-4409-9415-541bf686ac92",
   "metadata": {},
   "source": [
    "# Previous Debugging"
   ]
  },
  {
   "cell_type": "code",
   "execution_count": null,
   "id": "fd7d86e4-af2c-49a9-9743-70512351d6f9",
   "metadata": {},
   "outputs": [],
   "source": [
    "print(f\"verts before:\\n{neuron_obj.mesh.vertices}\")\n",
    "mesh1 = nru.align_mesh(\n",
    "    neuron_obj.mesh,\n",
    "    align_matrix=align_matrix,\n",
    "    verbose = False\n",
    ")\n",
    "print(f\"-->verts after:\\n{mesh1.vertices}\")\n",
    "\n",
    "print(f\"verts before:\\n{mesh1.vertices}\")\n",
    "mesh2 = nru.align_mesh(\n",
    "    mesh1,\n",
    "    align_matrix=inv_matrix,\n",
    "    verbose = False\n",
    ")\n",
    "print(f\"-->verts after:\\n{mesh2.vertices}\")"
   ]
  },
  {
   "cell_type": "code",
   "execution_count": null,
   "id": "17664ff3-964a-42e3-a266-085bcb98c0f4",
   "metadata": {},
   "outputs": [],
   "source": []
  },
  {
   "cell_type": "code",
   "execution_count": null,
   "id": "284aec8a-3639-4590-9b1f-70b2fa6ea983",
   "metadata": {},
   "outputs": [],
   "source": [
    "neuron_obj.mesh.vertices,mesh2.vertices"
   ]
  },
  {
   "cell_type": "code",
   "execution_count": null,
   "id": "00fdded9-125e-4c82-9977-1345d0763076",
   "metadata": {},
   "outputs": [],
   "source": [
    "ipvu.plot_objects(n_aligned.mesh)"
   ]
  },
  {
   "cell_type": "code",
   "execution_count": null,
   "id": "d70ed947-4f7e-431e-b185-5518b397c6b8",
   "metadata": {},
   "outputs": [],
   "source": [
    "n_aligned.align_matrix@ inv_matrix"
   ]
  },
  {
   "cell_type": "code",
   "execution_count": null,
   "id": "1ad674b1-434c-4daf-8691-78aead816e99",
   "metadata": {},
   "outputs": [],
   "source": [
    "ipvu.plot_objects(n_not.mesh)"
   ]
  },
  {
   "cell_type": "code",
   "execution_count": null,
   "id": "288a0ab7-68e9-4fc0-952e-43e66c89103d",
   "metadata": {},
   "outputs": [],
   "source": [
    "ipvu.plot_objects(neuron_obj.mesh)"
   ]
  },
  {
   "cell_type": "code",
   "execution_count": null,
   "id": "82ed8b6c-3649-48ae-87d9-03b5344dbf2f",
   "metadata": {},
   "outputs": [],
   "source": [
    "aligned_mesh = nru.align_mesh(neuron_obj.mesh,align_matrix)\n",
    "unaligned_mesh = nru.align_mesh(aligned_mesh,inv_matrix)"
   ]
  },
  {
   "cell_type": "code",
   "execution_count": null,
   "id": "07204705-aa74-4705-9662-41863b8275fb",
   "metadata": {},
   "outputs": [],
   "source": [
    "nviz.plot_objects(unaligned_mesh)"
   ]
  },
  {
   "cell_type": "code",
   "execution_count": null,
   "id": "43b467e7-c6f8-4858-bd5c-92fe1a8917a2",
   "metadata": {},
   "outputs": [],
   "source": []
  }
 ],
 "metadata": {
  "kernelspec": {
   "display_name": "Python 3 (ipykernel)",
   "language": "python",
   "name": "python3"
  },
  "language_info": {
   "codemirror_mode": {
    "name": "ipython",
    "version": 3
   },
   "file_extension": ".py",
   "mimetype": "text/x-python",
   "name": "python",
   "nbconvert_exporter": "python",
   "pygments_lexer": "ipython3",
   "version": "3.8.0"
  }
 },
 "nbformat": 4,
 "nbformat_minor": 5
}
