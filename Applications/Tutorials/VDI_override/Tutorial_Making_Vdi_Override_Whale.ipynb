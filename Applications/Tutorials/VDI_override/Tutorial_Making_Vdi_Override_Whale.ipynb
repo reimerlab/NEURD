{
 "cells": [
  {
   "cell_type": "code",
   "execution_count": 1,
   "id": "209a2345",
   "metadata": {},
   "outputs": [
    {
     "data": {
      "text/plain": [
       "'\\nPurpose: To demonstrate how a custom made vdi_override \\ncould be incorporated in the NEURD pipeline\\n\\nApplication: \\n1) Apply own volume specific paramters\\nand functions easily\\n\\n'"
      ]
     },
     "execution_count": 1,
     "metadata": {},
     "output_type": "execute_result"
    }
   ],
   "source": [
    "\"\"\"\n",
    "Purpose: To demonstrate how a custom made vdi_override \n",
    "could be incorporated in the NEURD pipeline\n",
    "\n",
    "Application: \n",
    "1) Apply own volume specific paramters\n",
    "and functions easily\n",
    "\n",
    "\"\"\""
   ]
  },
  {
   "cell_type": "code",
   "execution_count": 2,
   "id": "b07c4966",
   "metadata": {},
   "outputs": [],
   "source": [
    "%load_ext autoreload\n",
    "%autoreload 2"
   ]
  },
  {
   "cell_type": "code",
   "execution_count": 3,
   "id": "a1a33eb7",
   "metadata": {},
   "outputs": [
    {
     "name": "stderr",
     "output_type": "stream",
     "text": [
      "/usr/local/lib/python3.8/dist-packages/python_jsonschema_objects/__init__.py:113: UserWarning: Schema id not specified. Defaulting to 'self'\n",
      "  warnings.warn(\"Schema id not specified. Defaulting to 'self'\")\n"
     ]
    }
   ],
   "source": [
    "from neurd import neuron_visualizations as nviz"
   ]
  },
  {
   "cell_type": "markdown",
   "id": "a6145bef",
   "metadata": {},
   "source": [
    "# Importing the vdi"
   ]
  },
  {
   "cell_type": "code",
   "execution_count": 4,
   "id": "69772206",
   "metadata": {},
   "outputs": [],
   "source": [
    "from vdi_whale import volume_data_interface as vdi"
   ]
  },
  {
   "cell_type": "code",
   "execution_count": 5,
   "id": "a15f4aef",
   "metadata": {},
   "outputs": [
    {
     "data": {
      "text/plain": [
       "160"
      ]
     },
     "execution_count": 5,
     "metadata": {},
     "output_type": "execute_result"
    }
   ],
   "source": [
    "from neurd import spine_utils as spu\n",
    "spu.clusters_threshold_global"
   ]
  },
  {
   "cell_type": "markdown",
   "id": "dc8ca4f3",
   "metadata": {},
   "source": [
    "# Loading a neuron object"
   ]
  },
  {
   "cell_type": "code",
   "execution_count": 6,
   "id": "5255ad08",
   "metadata": {},
   "outputs": [],
   "source": [
    "segment_id = 864691135567721964\n",
    "folder = \"Single_Soma_Inh\"\n",
    "mesh_filepath = f\"../Auto_Proof_Pipeline/{folder}/{segment_id}.off\"\n",
    "neuron_obj_filepath = f\"../Auto_Proof_Pipeline/{folder}/{segment_id}_auto_proof.pbz2\""
   ]
  },
  {
   "cell_type": "code",
   "execution_count": 7,
   "id": "ab3a108b",
   "metadata": {},
   "outputs": [
    {
     "name": "stdout",
     "output_type": "stream",
     "text": [
      "Decompressing Neuron in minimal output mode...please wait\n"
     ]
    }
   ],
   "source": [
    "neuron_obj = vdi.load_neuron_obj(\n",
    "    segment_id = segment_id,\n",
    "    mesh_filepath = mesh_filepath,\n",
    "    filepath = neuron_obj_filepath,\n",
    ")"
   ]
  },
  {
   "cell_type": "code",
   "execution_count": 8,
   "id": "f667eb9d",
   "metadata": {},
   "outputs": [
    {
     "name": "stdout",
     "output_type": "stream",
     "text": [
      "\n",
      " Working on visualization type: mesh\n",
      "\n",
      " Working on visualization type: skeleton\n"
     ]
    },
    {
     "data": {
      "application/vnd.jupyter.widget-view+json": {
       "model_id": "4074fa5a44f04cffb263456cdfb6f95f",
       "version_major": 2,
       "version_minor": 0
      },
      "text/plain": [
       "Container(figure=Figure(box_center=[0.5, 0.5, 0.5], box_size=[1.0, 1.0, 1.0], camera=PerspectiveCamera(fov=45.…"
      ]
     },
     "metadata": {},
     "output_type": "display_data"
    }
   ],
   "source": [
    "nviz.plot_axon(neuron_obj)"
   ]
  },
  {
   "cell_type": "markdown",
   "id": "934c405e",
   "metadata": {},
   "source": [
    "# Rotating the neuron obj"
   ]
  },
  {
   "cell_type": "code",
   "execution_count": 11,
   "id": "4e0c3010-ad90-496c-92f3-5a8e5022d0e3",
   "metadata": {},
   "outputs": [
    {
     "data": {
      "text/plain": [
       "'\\nUsing the different neuron alignment matrix\\ndefined in the vdi_whale\\n'"
      ]
     },
     "execution_count": 11,
     "metadata": {},
     "output_type": "execute_result"
    }
   ],
   "source": [
    "\"\"\"\n",
    "Using the different neuron alignment matrix\n",
    "defined in the vdi_whale\n",
    "\"\"\""
   ]
  },
  {
   "cell_type": "code",
   "execution_count": 12,
   "id": "84a47bf6",
   "metadata": {},
   "outputs": [
    {
     "data": {
      "text/plain": [
       "<neurd.neuron.Neuron at 0x7effa2d37d90>"
      ]
     },
     "execution_count": 12,
     "metadata": {},
     "output_type": "execute_result"
    }
   ],
   "source": [
    "neuron_obj_aligned = vdi.align_neuron_obj(neuron_obj)\n",
    "neuron_obj_aligned"
   ]
  },
  {
   "cell_type": "code",
   "execution_count": 10,
   "id": "de249442",
   "metadata": {},
   "outputs": [
    {
     "name": "stdout",
     "output_type": "stream",
     "text": [
      "\n",
      " Working on visualization type: mesh\n",
      "\n",
      " Working on visualization type: skeleton\n"
     ]
    },
    {
     "data": {
      "application/vnd.jupyter.widget-view+json": {
       "model_id": "95034d528f4143f68d411451388f83e2",
       "version_major": 2,
       "version_minor": 0
      },
      "text/plain": [
       "Container(figure=Figure(box_center=[0.5, 0.5, 0.5], box_size=[1.0, 1.0, 1.0], camera=PerspectiveCamera(fov=45.…"
      ]
     },
     "metadata": {},
     "output_type": "display_data"
    }
   ],
   "source": [
    "nviz.plot_axon(neuron_obj_aligned)"
   ]
  },
  {
   "cell_type": "code",
   "execution_count": null,
   "id": "70439f08",
   "metadata": {},
   "outputs": [],
   "source": []
  },
  {
   "cell_type": "code",
   "execution_count": null,
   "id": "4678147d",
   "metadata": {},
   "outputs": [],
   "source": []
  }
 ],
 "metadata": {
  "kernelspec": {
   "display_name": "Python 3 (ipykernel)",
   "language": "python",
   "name": "python3"
  },
  "language_info": {
   "codemirror_mode": {
    "name": "ipython",
    "version": 3
   },
   "file_extension": ".py",
   "mimetype": "text/x-python",
   "name": "python",
   "nbconvert_exporter": "python",
   "pygments_lexer": "ipython3",
   "version": "3.8.0"
  }
 },
 "nbformat": 4,
 "nbformat_minor": 5
}
