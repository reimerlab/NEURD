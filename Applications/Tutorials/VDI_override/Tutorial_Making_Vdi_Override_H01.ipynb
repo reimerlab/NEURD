{
 "cells": [
  {
   "cell_type": "code",
   "execution_count": 1,
   "id": "209a2345",
   "metadata": {},
   "outputs": [
    {
     "data": {
      "text/plain": [
       "'\\nPurpose: To demonstrate how a custom made vdi_override \\ncould be incorporated in the NEURD pipeline\\n\\nApplication: \\n1) Apply own volume specific paramters\\nand functions easily\\n\\n'"
      ]
     },
     "execution_count": 1,
     "metadata": {},
     "output_type": "execute_result"
    }
   ],
   "source": [
    "\"\"\"\n",
    "Purpose: To demonstrate how a custom made vdi_override \n",
    "could be incorporated in the NEURD pipeline\n",
    "\n",
    "Application: \n",
    "1) Apply own volume specific paramters\n",
    "and functions easily\n",
    "\n",
    "\"\"\""
   ]
  },
  {
   "cell_type": "code",
   "execution_count": 2,
   "id": "b07c4966",
   "metadata": {},
   "outputs": [],
   "source": [
    "%load_ext autoreload\n",
    "%autoreload 2"
   ]
  },
  {
   "cell_type": "code",
   "execution_count": 3,
   "id": "1c554284",
   "metadata": {},
   "outputs": [
    {
     "name": "stdout",
     "output_type": "stream",
     "text": [
      "Jupyter environment detected. Enabling Open3D WebVisualizer.\n",
      "[Open3D INFO] WebRTC GUI backend enabled.\n",
      "[Open3D INFO] WebRTCWindowSystem: HTTP handshake server disabled.\n"
     ]
    }
   ],
   "source": [
    "import neurd"
   ]
  },
  {
   "cell_type": "markdown",
   "id": "a6145bef",
   "metadata": {},
   "source": [
    "# Importing the vdi"
   ]
  },
  {
   "cell_type": "code",
   "execution_count": 30,
   "id": "69772206",
   "metadata": {},
   "outputs": [],
   "source": [
    "from neurd.vdi_h01 import volume_data_interface as vdi"
   ]
  },
  {
   "cell_type": "code",
   "execution_count": 31,
   "id": "3f9cb287",
   "metadata": {},
   "outputs": [],
   "source": [
    "from neurd import neuron_visualizations as nviz"
   ]
  },
  {
   "cell_type": "markdown",
   "id": "dc8ca4f3",
   "metadata": {},
   "source": [
    "# Loading a neuron object"
   ]
  },
  {
   "cell_type": "code",
   "execution_count": 58,
   "id": "5255ad08",
   "metadata": {},
   "outputs": [],
   "source": [
    "segment_id = 864691135567721964\n",
    "folder = \"Single_Soma_Inh\"\n",
    "mesh_filepath = f\"../Auto_Proof_Pipeline/{folder}/{segment_id}.off\"\n",
    "neuron_obj_filepath = f\"../Auto_Proof_Pipeline/{folder}/{segment_id}_auto_proof.pbz2\""
   ]
  },
  {
   "cell_type": "code",
   "execution_count": 59,
   "id": "ab3a108b",
   "metadata": {},
   "outputs": [
    {
     "name": "stdout",
     "output_type": "stream",
     "text": [
      "Decompressing Neuron in minimal output mode...please wait\n"
     ]
    }
   ],
   "source": [
    "neuron_obj = vdi.load_neuron_obj(\n",
    "    segment_id = segment_id,\n",
    "    mesh_filepath = mesh_filepath,\n",
    "    filepath = neuron_obj_filepath\n",
    ")"
   ]
  },
  {
   "cell_type": "code",
   "execution_count": 60,
   "id": "f667eb9d",
   "metadata": {},
   "outputs": [
    {
     "name": "stdout",
     "output_type": "stream",
     "text": [
      "\n",
      " Working on visualization type: mesh\n",
      "\n",
      " Working on visualization type: skeleton\n"
     ]
    },
    {
     "data": {
      "application/vnd.jupyter.widget-view+json": {
       "model_id": "91717b27019e4ffa807778974d8b3716",
       "version_major": 2,
       "version_minor": 0
      },
      "text/plain": [
       "Container(figure=Figure(box_center=[0.5, 0.5, 0.5], box_size=[1.0, 1.0, 1.0], camera=PerspectiveCamera(fov=45.…"
      ]
     },
     "metadata": {},
     "output_type": "display_data"
    }
   ],
   "source": [
    "nviz.plot_axon(neuron_obj)"
   ]
  },
  {
   "cell_type": "markdown",
   "id": "934c405e",
   "metadata": {},
   "source": [
    "# Rotating the neuron obj"
   ]
  },
  {
   "cell_type": "code",
   "execution_count": 54,
   "id": "b2d3fac7",
   "metadata": {},
   "outputs": [],
   "source": [
    "import numpy as np\n",
    "align_matrix = np.array([\n",
    "    [0,1,0],\n",
    "    [0,0,1],\n",
    "    [1,0,0]\n",
    "])"
   ]
  },
  {
   "cell_type": "code",
   "execution_count": 55,
   "id": "84a47bf6",
   "metadata": {},
   "outputs": [
    {
     "data": {
      "text/plain": [
       "<neurd.neuron.Neuron at 0x7f03dc2eec40>"
      ]
     },
     "execution_count": 55,
     "metadata": {},
     "output_type": "execute_result"
    }
   ],
   "source": [
    "neuron_obj_aligned = vdi.align_neuron_obj(neuron_obj,align_matrix=align_matrix)\n",
    "neuron_obj_aligned"
   ]
  },
  {
   "cell_type": "code",
   "execution_count": 56,
   "id": "de249442",
   "metadata": {},
   "outputs": [
    {
     "data": {
      "application/vnd.jupyter.widget-view+json": {
       "model_id": "7d598b81a7624feabd1c31fe2a15e837",
       "version_major": 2,
       "version_minor": 0
      },
      "text/plain": [
       "Container(figure=Figure(box_center=[0.5, 0.5, 0.5], box_size=[1.0, 1.0, 1.0], camera=PerspectiveCamera(fov=45.…"
      ]
     },
     "metadata": {},
     "output_type": "display_data"
    }
   ],
   "source": [
    "nviz.plot_axon(neuron_obj)"
   ]
  },
  {
   "cell_type": "code",
   "execution_count": null,
   "id": "4678147d",
   "metadata": {},
   "outputs": [],
   "source": []
  }
 ],
 "metadata": {
  "kernelspec": {
   "display_name": "Python 3 (ipykernel)",
   "language": "python",
   "name": "python3"
  },
  "language_info": {
   "codemirror_mode": {
    "name": "ipython",
    "version": 3
   },
   "file_extension": ".py",
   "mimetype": "text/x-python",
   "name": "python",
   "nbconvert_exporter": "python",
   "pygments_lexer": "ipython3",
   "version": "3.8.0"
  }
 },
 "nbformat": 4,
 "nbformat_minor": 5
}
