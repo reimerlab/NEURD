{
 "cells": [
  {
   "cell_type": "code",
   "execution_count": null,
   "id": "d61efa99",
   "metadata": {},
   "outputs": [],
   "source": [
    "# !pip3 install ipywidgets --upgrade\n",
    "# !pip3 install ipyvolume --upgrade"
   ]
  },
  {
   "cell_type": "code",
   "execution_count": 1,
   "id": "c9709931",
   "metadata": {},
   "outputs": [],
   "source": [
    "%load_ext autoreload\n",
    "%autoreload 2"
   ]
  },
  {
   "cell_type": "code",
   "execution_count": 2,
   "id": "ec3b4f13",
   "metadata": {},
   "outputs": [
    {
     "name": "stdout",
     "output_type": "stream",
     "text": [
      "Jupyter environment detected. Enabling Open3D WebVisualizer.\n",
      "[Open3D INFO] WebRTC GUI backend enabled.\n",
      "[Open3D INFO] WebRTCWindowSystem: HTTP handshake server disabled.\n"
     ]
    }
   ],
   "source": [
    "import neurd"
   ]
  },
  {
   "cell_type": "code",
   "execution_count": 3,
   "id": "eb19670b",
   "metadata": {},
   "outputs": [
    {
     "data": {
      "text/plain": [
       "<neurd.vdi_microns.DataInterfaceMicrons at 0x7fd363b030a0>"
      ]
     },
     "execution_count": 3,
     "metadata": {},
     "output_type": "execute_result"
    }
   ],
   "source": [
    "from neurd.vdi_microns import volume_data_interface as vdi"
   ]
  },
  {
   "cell_type": "code",
   "execution_count": 9,
   "id": "b614707a",
   "metadata": {
    "scrolled": true
   },
   "outputs": [
    {
     "name": "stdout",
     "output_type": "stream",
     "text": [
      "Decompressing Neuron in minimal output mode...please wait\n"
     ]
    }
   ],
   "source": [
    "segment_id_pre = 864691135567721964\n",
    "directory = \"../Auto_Proof_Pipeline/Single_Soma_Inh/\"\n",
    "\n",
    "neuron_obj_pre = vdi.load_neuron_obj_auto_proof(\n",
    "    segment_id_pre,\n",
    "    directory = directory,\n",
    "    meshes_directory = directory,\n",
    ")"
   ]
  },
  {
   "cell_type": "code",
   "execution_count": 10,
   "id": "57af80a6",
   "metadata": {},
   "outputs": [
    {
     "name": "stdout",
     "output_type": "stream",
     "text": [
      "Decompressing Neuron in minimal output mode...please wait\n"
     ]
    }
   ],
   "source": [
    "segment_id_post = 864691134917511946\n",
    "directory = \"../Auto_Proof_Pipeline/Single_Soma_Exc/\"\n",
    "\n",
    "neuron_obj_post = vdi.load_neuron_obj_auto_proof(\n",
    "    segment_id_post,\n",
    "    directory = directory,\n",
    "    meshes_directory = directory,\n",
    ")"
   ]
  },
  {
   "cell_type": "code",
   "execution_count": null,
   "id": "51dda7a3",
   "metadata": {},
   "outputs": [],
   "source": [
    "neuron_obj_pre.synapse_filepath = (\n",
    "    \"/neurd_packages/NEURD/Applications/Tutorials/Auto_Proof_Pipeline/Single_Soma_Inh/864691135567721964_synapses.csv\"\n",
    ")\n",
    "\n",
    "neuron_obj_post.synapse_filepath = (\n",
    "    \"/neurd_packages/NEURD/Applications/Tutorials/Auto_Proof_Pipeline/Single_Soma_Exc/864691134917511946_synapses.csv\"\n",
    ")"
   ]
  },
  {
   "cell_type": "code",
   "execution_count": null,
   "id": "16d628b4",
   "metadata": {
    "scrolled": true
   },
   "outputs": [],
   "source": [
    "vdi.set_parameters_for_directory_modules()\n",
    "\n",
    "from neurd import proximity_utils as pxu\n",
    "\n",
    "prox_data = pxu.proximity_pre_post(\n",
    "    segment_id_pre = neuron_obj_pre,\n",
    "    segment_id_post = neuron_obj_post,\n",
    "    verbose = False,\n",
    "    return_df = False,\n",
    "    verbose_total_time = True,\n",
    ")"
   ]
  },
  {
   "cell_type": "code",
   "execution_count": null,
   "id": "5c26aa21",
   "metadata": {},
   "outputs": [],
   "source": [
    "pxu.plot_proximity(\n",
    "    prox_data,\n",
    "    mesh_presyn = neuron_obj_pre.mesh_from_branches,\n",
    "    mesh_postsyn = neuron_obj_post.mesh_from_branches,\n",
    ")"
   ]
  },
  {
   "cell_type": "code",
   "execution_count": null,
   "id": "abe7409d",
   "metadata": {},
   "outputs": [],
   "source": []
  }
 ],
 "metadata": {
  "kernelspec": {
   "display_name": "Python 3 (ipykernel)",
   "language": "python",
   "name": "python3"
  },
  "language_info": {
   "codemirror_mode": {
    "name": "ipython",
    "version": 3
   },
   "file_extension": ".py",
   "mimetype": "text/x-python",
   "name": "python",
   "nbconvert_exporter": "python",
   "pygments_lexer": "ipython3",
   "version": "3.8.0"
  }
 },
 "nbformat": 4,
 "nbformat_minor": 5
}
