{
 "cells": [
  {
   "cell_type": "code",
   "execution_count": 1,
   "id": "bcf6748e-6812-4f55-abd4-4181b0d1331e",
   "metadata": {},
   "outputs": [],
   "source": [
    "%load_ext autoreload\n",
    "%autoreload 2"
   ]
  },
  {
   "cell_type": "code",
   "execution_count": 2,
   "id": "8af29e4a-59c2-4aad-b6a8-8081d137ae06",
   "metadata": {},
   "outputs": [
    {
     "name": "stderr",
     "output_type": "stream",
     "text": [
      "/usr/local/lib/python3.8/dist-packages/python_jsonschema_objects/__init__.py:113: UserWarning: Schema id not specified. Defaulting to 'self'\n",
      "  warnings.warn(\"Schema id not specified. Defaulting to 'self'\")\n"
     ]
    }
   ],
   "source": [
    "from datasci_tools import ipyvolume_utils as ipvu\n",
    "from neurd import neuron_utils as nru"
   ]
  },
  {
   "cell_type": "markdown",
   "id": "caf6ff83-caba-4ee2-9f6f-72da7cc41079",
   "metadata": {},
   "source": [
    "# Loading Neuron Object"
   ]
  },
  {
   "cell_type": "code",
   "execution_count": 3,
   "id": "86b8c362-c9a5-49e9-8ddc-d55fc3681536",
   "metadata": {},
   "outputs": [],
   "source": [
    "segment_id = 864691134917511946"
   ]
  },
  {
   "cell_type": "code",
   "execution_count": 4,
   "id": "fb7cf859-31b5-494e-825a-94cee30a552d",
   "metadata": {},
   "outputs": [
    {
     "name": "stdout",
     "output_type": "stream",
     "text": [
      "Decompressing Neuron in minimal output mode...please wait\n"
     ]
    },
    {
     "data": {
      "text/plain": [
       "<neurd.neuron.Neuron at 0x7f7bc19e7070>"
      ]
     },
     "execution_count": 4,
     "metadata": {},
     "output_type": "execute_result"
    }
   ],
   "source": [
    "mesh_path_exc = f\"../Auto_Proof_Pipeline/Single_Soma_Exc/{segment_id}.off\"\n",
    "obj_path_exc = mesh_path_exc[:-4] + \"_auto_proof.pbz2\"\n",
    "\n",
    "neuron_obj_exc = nru.decompress_neuron(\n",
    "    filepath = obj_path_exc,\n",
    "    original_mesh=mesh_path_exc\n",
    ")\n",
    "\n",
    "neuron_obj_exc"
   ]
  },
  {
   "cell_type": "markdown",
   "id": "6269eb3d-ac32-4462-a3af-18a1db6f5666",
   "metadata": {},
   "source": [
    "# Visualizing Neuron"
   ]
  },
  {
   "cell_type": "code",
   "execution_count": 5,
   "id": "dcbbef06-a490-4fab-a5e9-d8dc7a714362",
   "metadata": {},
   "outputs": [
    {
     "data": {
      "application/vnd.jupyter.widget-view+json": {
       "model_id": "d96a58c281aa4d519cfc0fa273d31ca6",
       "version_major": 2,
       "version_minor": 0
      },
      "text/plain": [
       "Container(figure=Figure(box_center=[0.5, 0.5, 0.5], box_size=[1.0, 1.0, 1.0], camera=PerspectiveCamera(fov=45.…"
      ]
     },
     "metadata": {},
     "output_type": "display_data"
    }
   ],
   "source": [
    "n = neuron_obj_exc\n",
    "mesh = n.mesh\n",
    "skeleton = n.skeleton\n",
    "\n",
    "ipvu.plot_objects(mesh,skeleton)"
   ]
  },
  {
   "cell_type": "code",
   "execution_count": 6,
   "id": "b2666f3f-501f-4d61-9b0b-4b8cb3a7eba2",
   "metadata": {},
   "outputs": [
    {
     "name": "stdout",
     "output_type": "stream",
     "text": [
      "\n",
      " Working on visualization type: mesh\n"
     ]
    },
    {
     "data": {
      "application/vnd.jupyter.widget-view+json": {
       "model_id": "44de3f78439e4f738f6a6c5d0bb4b731",
       "version_major": 2,
       "version_minor": 0
      },
      "text/plain": [
       "Container(figure=Figure(box_center=[0.5, 0.5, 0.5], box_size=[1.0, 1.0, 1.0], camera=PerspectiveCamera(fov=45.…"
      ]
     },
     "metadata": {},
     "output_type": "display_data"
    },
    {
     "name": "stdout",
     "output_type": "stream",
     "text": [
      "apical:blue\n",
      "apical_shaft:aqua\n",
      "apical_tuft:purple\n",
      "basal:yellow\n",
      "axon:red\n",
      "oblique:green\n",
      "\n",
      "\n",
      "Unlabeled: transparent green\n"
     ]
    }
   ],
   "source": [
    "from neurd import neuron_visualizations as nviz\n",
    "nviz.plot_compartments(\n",
    "    n\n",
    ")"
   ]
  },
  {
   "cell_type": "markdown",
   "id": "18b880b9-c936-445e-aaef-2aafccf3f237",
   "metadata": {},
   "source": [
    "# Exporting as NWB format"
   ]
  },
  {
   "cell_type": "code",
   "execution_count": null,
   "id": "415955a6-a4fc-4935-8ddc-e0349301d92d",
   "metadata": {},
   "outputs": [],
   "source": [
    "\"\"\"\n",
    "pip3 install pynwb\n",
    "\n",
    "Example on how\n",
    "\"\"\""
   ]
  },
  {
   "cell_type": "code",
   "execution_count": 7,
   "id": "23e728d5-7389-4e7e-b96b-c24b4cfe54c1",
   "metadata": {
    "scrolled": true
   },
   "outputs": [
    {
     "name": "stdout",
     "output_type": "stream",
     "text": [
      "Collecting pynwb\n",
      "  Downloading pynwb-2.8.2-py3-none-any.whl (1.4 MB)\n",
      "     |████████████████████████████████| 1.4 MB 4.6 MB/s            \n",
      "\u001b[?25hRequirement already satisfied: python-dateutil>=2.7.3 in /usr/local/lib/python3.8/dist-packages (from pynwb) (2.8.2)\n",
      "Requirement already satisfied: numpy>=1.18 in /usr/local/lib/python3.8/dist-packages (from pynwb) (1.24.4)\n",
      "Collecting hdmf>=3.14.3\n",
      "  Downloading hdmf-3.14.5-py3-none-any.whl (338 kB)\n",
      "     |████████████████████████████████| 338 kB 14.0 MB/s            \n",
      "\u001b[?25hRequirement already satisfied: h5py>=2.10 in /usr/local/lib/python3.8/dist-packages (from pynwb) (3.10.0)\n",
      "Requirement already satisfied: pandas>=1.1.5 in /usr/local/lib/python3.8/dist-packages (from pynwb) (2.0.3)\n",
      "Requirement already satisfied: jsonschema>=2.6.0 in /usr/local/lib/python3.8/dist-packages (from hdmf>=3.14.3->pynwb) (4.19.0)\n",
      "Requirement already satisfied: scipy>=1.4 in /usr/local/lib/python3.8/dist-packages (from hdmf>=3.14.3->pynwb) (1.10.1)\n",
      "Collecting ruamel-yaml>=0.16\n",
      "  Downloading ruamel.yaml-0.18.6-py3-none-any.whl (117 kB)\n",
      "     |████████████████████████████████| 117 kB 30.4 MB/s            \n",
      "\u001b[?25hRequirement already satisfied: importlib-resources in /usr/local/lib/python3.8/dist-packages (from hdmf>=3.14.3->pynwb) (6.0.1)\n",
      "Requirement already satisfied: pytz>=2020.1 in /usr/local/lib/python3.8/dist-packages (from pandas>=1.1.5->pynwb) (2023.3)\n",
      "Requirement already satisfied: tzdata>=2022.1 in /usr/local/lib/python3.8/dist-packages (from pandas>=1.1.5->pynwb) (2023.3)\n",
      "Requirement already satisfied: six>=1.5 in /usr/local/lib/python3.8/dist-packages (from python-dateutil>=2.7.3->pynwb) (1.16.0)\n",
      "Requirement already satisfied: attrs>=22.2.0 in /usr/local/lib/python3.8/dist-packages (from jsonschema>=2.6.0->hdmf>=3.14.3->pynwb) (23.1.0)\n",
      "Requirement already satisfied: referencing>=0.28.4 in /usr/local/lib/python3.8/dist-packages (from jsonschema>=2.6.0->hdmf>=3.14.3->pynwb) (0.30.2)\n",
      "Requirement already satisfied: rpds-py>=0.7.1 in /usr/local/lib/python3.8/dist-packages (from jsonschema>=2.6.0->hdmf>=3.14.3->pynwb) (0.9.2)\n",
      "Requirement already satisfied: pkgutil-resolve-name>=1.3.10 in /usr/local/lib/python3.8/dist-packages (from jsonschema>=2.6.0->hdmf>=3.14.3->pynwb) (1.3.10)\n",
      "Requirement already satisfied: jsonschema-specifications>=2023.03.6 in /usr/local/lib/python3.8/dist-packages (from jsonschema>=2.6.0->hdmf>=3.14.3->pynwb) (2023.7.1)\n",
      "Requirement already satisfied: zipp>=3.1.0 in /usr/local/lib/python3.8/dist-packages (from importlib-resources->hdmf>=3.14.3->pynwb) (3.16.2)\n",
      "Collecting ruamel.yaml.clib>=0.2.7\n",
      "  Downloading ruamel.yaml.clib-0.2.8-cp38-cp38-manylinux_2_5_x86_64.manylinux1_x86_64.whl (596 kB)\n",
      "     |████████████████████████████████| 596 kB 59.8 MB/s            \n",
      "\u001b[?25hInstalling collected packages: ruamel.yaml.clib, ruamel-yaml, hdmf, pynwb\n",
      "Successfully installed hdmf-3.14.5 pynwb-2.8.2 ruamel-yaml-0.18.6 ruamel.yaml.clib-0.2.8\n",
      "\u001b[33mWARNING: Running pip as the 'root' user can result in broken permissions and conflicting behaviour with the system package manager. It is recommended to use a virtual environment instead: https://pip.pypa.io/warnings/venv\u001b[0m\n"
     ]
    }
   ],
   "source": [
    "!pip3 install pynwb"
   ]
  },
  {
   "cell_type": "code",
   "execution_count": 8,
   "id": "5207b36a-02e4-4898-aec0-6fd59ccc6a12",
   "metadata": {},
   "outputs": [
    {
     "name": "stdout",
     "output_type": "stream",
     "text": [
      "NWB file 'example_nwb_file.nwb' has been created successfully.\n"
     ]
    }
   ],
   "source": [
    "from pynwb import NWBFile, TimeSeries\n",
    "from pynwb.file import Subject\n",
    "from datetime import datetime\n",
    "import numpy as np\n",
    "from pynwb import NWBHDF5IO\n",
    "\n",
    "# Step 1: Create a new NWBFile\n",
    "nwbfile = NWBFile(\n",
    "    session_description='Example NWB file creation',\n",
    "    identifier='NWB123',  # unique ID for this file\n",
    "    session_start_time=datetime.now(),  # the start time of the experiment\n",
    "    experimenter='Dr. Jane Doe',  # who conducted the experiment\n",
    "    lab='Neuroscience Lab',\n",
    "    institution='Example University',\n",
    "    experiment_description='An example experiment for demonstrating NWB',\n",
    "    session_id='001',  # session ID\n",
    ")\n",
    "\n",
    "# Step 2: Add subject information (optional)\n",
    "nwbfile.subject = Subject(\n",
    "    subject_id='Mouse123',\n",
    "    description='A wild-type mouse used for recording',\n",
    "    species='Mus musculus',\n",
    "    sex='F',\n",
    "    age='P90D'  # Postnatal day 90\n",
    ")\n",
    "\n",
    "# Step 3: Add some neural data (TimeSeries example)\n",
    "# Simulate some data\n",
    "data = np.random.randn(1000)  # 1000 data points\n",
    "timestamps = np.linspace(0, 100, num=1000)  # 100 seconds of recording\n",
    "\n",
    "# Create a TimeSeries object\n",
    "timeseries = TimeSeries(\n",
    "    name='example_timeseries',\n",
    "    data=data,\n",
    "    unit='mV',  # data unit (e.g., millivolts for electrophysiology data)\n",
    "    timestamps=timestamps,  # timestamps for the data\n",
    "    description='Simulated neural data'\n",
    ")\n",
    "\n",
    "# Add TimeSeries data to the NWB file\n",
    "nwbfile.add_acquisition(timeseries)\n",
    "\n",
    "# Step 4: Write the NWBFile to disk\n",
    "with NWBHDF5IO('example_nwb_file.nwb', 'w') as io:\n",
    "    io.write(nwbfile)\n",
    "\n",
    "print(\"NWB file 'example_nwb_file.nwb' has been created successfully.\")\n"
   ]
  },
  {
   "cell_type": "code",
   "execution_count": 11,
   "id": "d14886c8-d495-45cc-a3bc-2970d541d560",
   "metadata": {},
   "outputs": [
    {
     "data": {
      "text/plain": [
       "[]"
      ]
     },
     "execution_count": 11,
     "metadata": {},
     "output_type": "execute_result"
    }
   ],
   "source": [
    "[k for k in dir(nwbfile) if \"5\" in k]"
   ]
  },
  {
   "cell_type": "code",
   "execution_count": 12,
   "id": "f2d42653-f0bb-4a22-b2d9-689d0be1eaaf",
   "metadata": {},
   "outputs": [
    {
     "data": {
      "text/plain": [
       "['_AbstractContainer__children',\n",
       " '_AbstractContainer__container_source',\n",
       " '_AbstractContainer__field_values',\n",
       " '_AbstractContainer__fieldsconf',\n",
       " '_AbstractContainer__gather_fields',\n",
       " '_AbstractContainer__modified',\n",
       " '_AbstractContainer__name',\n",
       " '_AbstractContainer__obj',\n",
       " '_AbstractContainer__object_id',\n",
       " '_AbstractContainer__parent',\n",
       " '_AbstractContainer__read_io',\n",
       " '_Container__smart_str',\n",
       " '_Container__smart_str_dict',\n",
       " '_Container__smart_str_list',\n",
       " '_MultiContainerInterface__add_article',\n",
       " '_MultiContainerInterface__build_class',\n",
       " '_MultiContainerInterface__build_conf_methods',\n",
       " '_MultiContainerInterface__join',\n",
       " '_MultiContainerInterface__make_add',\n",
       " '_MultiContainerInterface__make_constructor',\n",
       " '_MultiContainerInterface__make_create',\n",
       " '_MultiContainerInterface__make_get',\n",
       " '_MultiContainerInterface__make_getitem',\n",
       " '_MultiContainerInterface__make_getter',\n",
       " '_MultiContainerInterface__make_setter',\n",
       " '_NWBFile__check_electrodes',\n",
       " '_NWBFile__check_epochs',\n",
       " '_NWBFile__check_invalid_times',\n",
       " '_NWBFile__check_trials',\n",
       " '_NWBFile__check_units',\n",
       " '_NWBFile__obj',\n",
       " '__abstractmethods__',\n",
       " '__class__',\n",
       " '__clsconf__',\n",
       " '__del__',\n",
       " '__delattr__',\n",
       " '__dict__',\n",
       " '__dir__',\n",
       " '__doc__',\n",
       " '__eq__',\n",
       " '__fields__',\n",
       " '__format__',\n",
       " '__ge__',\n",
       " '__getattribute__',\n",
       " '__gt__',\n",
       " '__hash__',\n",
       " '__init__',\n",
       " '__init_subclass__',\n",
       " '__le__',\n",
       " '__lt__',\n",
       " '__module__',\n",
       " '__ne__',\n",
       " '__new__',\n",
       " '__nwbfields__',\n",
       " '__reduce__',\n",
       " '__reduce_ex__',\n",
       " '__repr__',\n",
       " '__setattr__',\n",
       " '__sizeof__',\n",
       " '__str__',\n",
       " '__subclasshook__',\n",
       " '__weakref__',\n",
       " '_abc_impl',\n",
       " '_add_acquisition_internal',\n",
       " '_add_scratch',\n",
       " '_add_stimulus_internal',\n",
       " '_add_stimulus_template_internal',\n",
       " '_check_field_spec',\n",
       " '_check_field_spec_keys',\n",
       " '_check_sweep_table',\n",
       " '_data_type_attr',\n",
       " '_error_on_new_warn_on_construct',\n",
       " '_experimental',\n",
       " '_field_config',\n",
       " '_fieldsname',\n",
       " '_generate_array_html',\n",
       " '_generate_field_html',\n",
       " '_generate_html_repr',\n",
       " '_get_fields',\n",
       " '_get_scratch',\n",
       " '_get_type_map',\n",
       " '_getter',\n",
       " '_in_construct_mode',\n",
       " '_pconf_allowed_keys',\n",
       " '_remove_child',\n",
       " '_repr_html_',\n",
       " '_set_fields',\n",
       " '_setter',\n",
       " '_update_sweep_table',\n",
       " '_validate_on_set_parent',\n",
       " 'acquisition',\n",
       " 'add_acquisition',\n",
       " 'add_analysis',\n",
       " 'add_child',\n",
       " 'add_device',\n",
       " 'add_electrode',\n",
       " 'add_electrode_column',\n",
       " 'add_electrode_group',\n",
       " 'add_epoch',\n",
       " 'add_epoch_column',\n",
       " 'add_epoch_metadata_column',\n",
       " 'add_ic_electrode',\n",
       " 'add_icephys_electrode',\n",
       " 'add_icephys_experimental_condition',\n",
       " 'add_icephys_repetition',\n",
       " 'add_icephys_sequential_recording',\n",
       " 'add_icephys_simultaneous_recording',\n",
       " 'add_imaging_plane',\n",
       " 'add_intracellular_recording',\n",
       " 'add_invalid_time_interval',\n",
       " 'add_invalid_times_column',\n",
       " 'add_lab_meta_data',\n",
       " 'add_ogen_site',\n",
       " 'add_processing_module',\n",
       " 'add_scratch',\n",
       " 'add_stimulus',\n",
       " 'add_stimulus_template',\n",
       " 'add_time_intervals',\n",
       " 'add_trial',\n",
       " 'add_trial_column',\n",
       " 'add_unit',\n",
       " 'add_unit_column',\n",
       " 'all_children',\n",
       " 'all_objects',\n",
       " 'analysis',\n",
       " 'children',\n",
       " 'container_source',\n",
       " 'copy',\n",
       " 'create_device',\n",
       " 'create_electrode_group',\n",
       " 'create_electrode_table_region',\n",
       " 'create_ic_electrode',\n",
       " 'create_icephys_electrode',\n",
       " 'create_imaging_plane',\n",
       " 'create_lab_meta_data',\n",
       " 'create_ogen_site',\n",
       " 'create_processing_module',\n",
       " 'create_time_intervals',\n",
       " 'css_style',\n",
       " 'data_collection',\n",
       " 'data_type',\n",
       " 'devices',\n",
       " 'ec_electrode_groups',\n",
       " 'ec_electrodes',\n",
       " 'electrode_groups',\n",
       " 'electrodes',\n",
       " 'epoch_tags',\n",
       " 'epochs',\n",
       " 'experiment_description',\n",
       " 'experimenter',\n",
       " 'fields',\n",
       " 'file_create_date',\n",
       " 'generate_new_id',\n",
       " 'get_acquisition',\n",
       " 'get_analysis',\n",
       " 'get_ancestor',\n",
       " 'get_ancestors',\n",
       " 'get_device',\n",
       " 'get_electrode_group',\n",
       " 'get_fields_conf',\n",
       " 'get_ic_electrode',\n",
       " 'get_icephys_electrode',\n",
       " 'get_icephys_experimental_conditions',\n",
       " 'get_icephys_meta_parent_table',\n",
       " 'get_icephys_repetitions',\n",
       " 'get_icephys_sequential_recordings',\n",
       " 'get_icephys_simultaneous_recordings',\n",
       " 'get_imaging_plane',\n",
       " 'get_intracellular_recordings',\n",
       " 'get_lab_meta_data',\n",
       " 'get_linked_resources',\n",
       " 'get_ogen_site',\n",
       " 'get_processing_module',\n",
       " 'get_read_io',\n",
       " 'get_scratch',\n",
       " 'get_stimulus',\n",
       " 'get_stimulus_template',\n",
       " 'get_time_intervals',\n",
       " 'ic_electrodes',\n",
       " 'icephys_electrodes',\n",
       " 'icephys_experimental_conditions',\n",
       " 'icephys_filtering',\n",
       " 'icephys_repetitions',\n",
       " 'icephys_sequential_recordings',\n",
       " 'icephys_simultaneous_recordings',\n",
       " 'identifier',\n",
       " 'imaging_planes',\n",
       " 'institution',\n",
       " 'intervals',\n",
       " 'intracellular_recordings',\n",
       " 'invalid_times',\n",
       " 'js_script',\n",
       " 'keywords',\n",
       " 'lab',\n",
       " 'lab_meta_data',\n",
       " 'link_resources',\n",
       " 'modified',\n",
       " 'modules',\n",
       " 'name',\n",
       " 'namespace',\n",
       " 'neurodata_type',\n",
       " 'notes',\n",
       " 'object_id',\n",
       " 'objects',\n",
       " 'ogen_sites',\n",
       " 'parent',\n",
       " 'pharmacology',\n",
       " 'processing',\n",
       " 'protocol',\n",
       " 'read_io',\n",
       " 'related_publications',\n",
       " 'reset_parent',\n",
       " 'scratch',\n",
       " 'session_description',\n",
       " 'session_id',\n",
       " 'session_start_time',\n",
       " 'set_data_io',\n",
       " 'set_electrode_table',\n",
       " 'set_modified',\n",
       " 'slices',\n",
       " 'source_script',\n",
       " 'source_script_file_name',\n",
       " 'stimulus',\n",
       " 'stimulus_notes',\n",
       " 'stimulus_template',\n",
       " 'subject',\n",
       " 'surgery',\n",
       " 'sweep_table',\n",
       " 'timestamps_reference_time',\n",
       " 'trials',\n",
       " 'type_hierarchy',\n",
       " 'units',\n",
       " 'virus']"
      ]
     },
     "execution_count": 12,
     "metadata": {},
     "output_type": "execute_result"
    }
   ],
   "source": [
    "dir(nwbfile)"
   ]
  },
  {
   "cell_type": "code",
   "execution_count": 13,
   "id": "cbfd6ba9-10ae-47bd-b330-7b7c418c505e",
   "metadata": {},
   "outputs": [
    {
     "data": {
      "text/plain": [
       "['BuildManager',\n",
       " 'CORE_NAMESPACE',\n",
       " 'DataChunkIterator',\n",
       " 'H5DataIO',\n",
       " 'HDMFIO',\n",
       " 'NWBContainer',\n",
       " 'NWBData',\n",
       " 'NWBDatasetSpec',\n",
       " 'NWBFile',\n",
       " 'NWBGroupSpec',\n",
       " 'NWBHDF5IO',\n",
       " 'NWBNamespace',\n",
       " 'NamespaceCatalog',\n",
       " 'Path',\n",
       " 'ProcessingModule',\n",
       " 'TimeSeries',\n",
       " 'TypeMap',\n",
       " '_HDF5IO',\n",
       " '__NS_CATALOG',\n",
       " '__TYPE_MAP',\n",
       " '__builtins__',\n",
       " '__cached__',\n",
       " '__doc__',\n",
       " '__file__',\n",
       " '__get_resources',\n",
       " '__io',\n",
       " '__loader__',\n",
       " '__name__',\n",
       " '__package__',\n",
       " '__path__',\n",
       " '__resources',\n",
       " '__spec__',\n",
       " '__version__',\n",
       " '_due',\n",
       " '_get_resources',\n",
       " '_version',\n",
       " 'available_namespaces',\n",
       " 'base',\n",
       " 'behavior',\n",
       " 'core',\n",
       " 'deepcopy',\n",
       " 'device',\n",
       " 'docval',\n",
       " 'ecephys',\n",
       " 'epoch',\n",
       " 'file',\n",
       " 'get_class',\n",
       " 'get_docval',\n",
       " 'get_loaded_type_config',\n",
       " 'get_manager',\n",
       " 'get_nwbfile_version',\n",
       " 'get_type_map',\n",
       " 'getargs',\n",
       " 'h5py',\n",
       " 'hdmf',\n",
       " 'hdmf_get_loaded_type_config',\n",
       " 'hdmf_load_type_config',\n",
       " 'hdmf_typemap',\n",
       " 'hdmf_unload_type_config',\n",
       " 'icephys',\n",
       " 'image',\n",
       " 'io',\n",
       " 'legacy',\n",
       " 'load_namespaces',\n",
       " 'load_type_config',\n",
       " 'misc',\n",
       " 'ogen',\n",
       " 'ophys',\n",
       " 'os',\n",
       " 'popargs',\n",
       " 'register_class',\n",
       " 'register_map',\n",
       " 'spec',\n",
       " 'unload_type_config',\n",
       " 'validate',\n",
       " 'warn']"
      ]
     },
     "execution_count": 13,
     "metadata": {},
     "output_type": "execute_result"
    }
   ],
   "source": [
    "import pynwb\n",
    "dir(pynwb)"
   ]
  },
  {
   "cell_type": "code",
   "execution_count": null,
   "id": "56fbf7cd-ffd8-4f46-9761-77a8a1ee08c4",
   "metadata": {},
   "outputs": [],
   "source": []
  }
 ],
 "metadata": {
  "kernelspec": {
   "display_name": "Python 3 (ipykernel)",
   "language": "python",
   "name": "python3"
  },
  "language_info": {
   "codemirror_mode": {
    "name": "ipython",
    "version": 3
   },
   "file_extension": ".py",
   "mimetype": "text/x-python",
   "name": "python",
   "nbconvert_exporter": "python",
   "pygments_lexer": "ipython3",
   "version": "3.8.0"
  }
 },
 "nbformat": 4,
 "nbformat_minor": 5
}
