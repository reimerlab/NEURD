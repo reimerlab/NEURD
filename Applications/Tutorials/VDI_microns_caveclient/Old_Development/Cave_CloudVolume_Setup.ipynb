{
 "cells": [
  {
   "cell_type": "code",
   "execution_count": 1,
   "id": "d2836a36",
   "metadata": {},
   "outputs": [
    {
     "data": {
      "text/plain": [
       "'\\nPurpose: To obtain the CAVE client tokens\\nthat allow for the interface with the \\nreleased data from MICrONS\\n'"
      ]
     },
     "execution_count": 1,
     "metadata": {},
     "output_type": "execute_result"
    }
   ],
   "source": [
    "\"\"\"\n",
    "Purpose: To obtain the CAVE client tokens\n",
    "that allow for the interface with the \n",
    "released data from MICrONS\n",
    "\n",
    "CAVE Documentation source:\n",
    "https://github.com/AllenInstitute/MicronsBinder/blob/master/notebooks/mm3_intro/CAVEsetup.ipynb\n",
    "\"\"\""
   ]
  },
  {
   "cell_type": "code",
   "execution_count": 10,
   "id": "63753cd7",
   "metadata": {},
   "outputs": [
    {
     "name": "stdout",
     "output_type": "stream",
     "text": [
      "Requirement already satisfied: cloud-volume in /usr/local/lib/python3.8/dist-packages (8.27.0)\n",
      "Requirement already satisfied: boto3>=1.4.7 in /usr/local/lib/python3.8/dist-packages (from cloud-volume) (1.28.50)\n",
      "Requirement already satisfied: chardet>=3.0.4 in /usr/local/lib/python3.8/dist-packages (from cloud-volume) (5.2.0)\n",
      "Requirement already satisfied: cloud-files>=4.18.1 in /usr/local/lib/python3.8/dist-packages (from cloud-volume) (4.21.1)\n",
      "Requirement already satisfied: compressed-segmentation>=2.1.1 in /usr/local/lib/python3.8/dist-packages (from cloud-volume) (2.2.1)\n",
      "Requirement already satisfied: compresso>=3.0.0 in /usr/local/lib/python3.8/dist-packages (from cloud-volume) (3.2.1)\n",
      "Requirement already satisfied: crackle-codec in /usr/local/lib/python3.8/dist-packages (from cloud-volume) (0.7.0)\n",
      "Requirement already satisfied: DracoPy<2.0.0,>=1.0.0 in /usr/local/lib/python3.8/dist-packages (from cloud-volume) (1.3.0)\n",
      "Requirement already satisfied: fastremap>=1.14.0 in /usr/local/lib/python3.8/dist-packages (from cloud-volume) (1.14.0)\n",
      "Requirement already satisfied: fpzip<2.0.0,>=1.2.0 in /usr/local/lib/python3.8/dist-packages (from cloud-volume) (1.2.2)\n",
      "Requirement already satisfied: gevent in /usr/local/lib/python3.8/dist-packages (from cloud-volume) (23.9.1)\n",
      "Requirement already satisfied: google-auth>=1.10.0 in /usr/local/lib/python3.8/dist-packages (from cloud-volume) (2.23.0)\n",
      "Requirement already satisfied: google-cloud-core>=1.1.0 in /usr/local/lib/python3.8/dist-packages (from cloud-volume) (2.3.3)\n",
      "Requirement already satisfied: google-cloud-storage>=1.24.1 in /usr/local/lib/python3.8/dist-packages (from cloud-volume) (2.10.0)\n",
      "Requirement already satisfied: json5 in /usr/local/lib/python3.8/dist-packages (from cloud-volume) (0.9.14)\n",
      "Requirement already satisfied: jsonschema!=4.0 in /usr/local/lib/python3.8/dist-packages (from cloud-volume) (4.17.3)\n",
      "Requirement already satisfied: numpy>=1.13.3 in /usr/local/lib/python3.8/dist-packages (from cloud-volume) (1.24.4)\n",
      "Requirement already satisfied: networkx in /usr/local/lib/python3.8/dist-packages (from cloud-volume) (2.8.8)\n",
      "Requirement already satisfied: python-jsonschema-objects>=0.3.3 in /usr/local/lib/python3.8/dist-packages (from cloud-volume) (0.4.6)\n",
      "Requirement already satisfied: pathos in /usr/local/lib/python3.8/dist-packages (from cloud-volume) (0.3.1)\n",
      "Requirement already satisfied: Pillow>=4.2.1 in /usr/local/lib/python3.8/dist-packages (from cloud-volume) (10.0.0)\n",
      "Requirement already satisfied: protobuf>=3.3.0 in /usr/local/lib/python3.8/dist-packages (from cloud-volume) (4.24.3)\n",
      "Requirement already satisfied: pyspng-seunglab>=1.0.0 in /usr/local/lib/python3.8/dist-packages (from cloud-volume) (1.1.0)\n",
      "Requirement already satisfied: python-dateutil in /usr/local/lib/python3.8/dist-packages (from cloud-volume) (2.8.2)\n",
      "Requirement already satisfied: requests>=2.22.0 in /usr/local/lib/python3.8/dist-packages (from cloud-volume) (2.31.0)\n",
      "Requirement already satisfied: psutil in /usr/local/lib/python3.8/dist-packages (from cloud-volume) (5.9.5)\n",
      "Requirement already satisfied: pysimdjson>=3.1.1 in /usr/local/lib/python3.8/dist-packages (from cloud-volume) (5.0.2)\n",
      "Requirement already satisfied: simplejpeg in /usr/local/lib/python3.8/dist-packages (from cloud-volume) (1.7.2)\n",
      "Requirement already satisfied: six>=1.10.0 in /usr/local/lib/python3.8/dist-packages (from cloud-volume) (1.16.0)\n",
      "Requirement already satisfied: tenacity>=4.10.0 in /usr/local/lib/python3.8/dist-packages (from cloud-volume) (8.2.3)\n",
      "Requirement already satisfied: tqdm in /usr/local/lib/python3.8/dist-packages (from cloud-volume) (4.66.1)\n",
      "Requirement already satisfied: urllib3[brotli]>=1.25.7 in /usr/local/lib/python3.8/dist-packages (from cloud-volume) (1.26.16)\n",
      "Requirement already satisfied: zfpc in /usr/local/lib/python3.8/dist-packages (from cloud-volume) (0.1.2)\n",
      "Requirement already satisfied: posix-ipc>=1.0.4 in /usr/local/lib/python3.8/dist-packages (from cloud-volume) (1.1.1)\n",
      "Requirement already satisfied: botocore<1.32.0,>=1.31.50 in /usr/local/lib/python3.8/dist-packages (from boto3>=1.4.7->cloud-volume) (1.31.50)\n",
      "Requirement already satisfied: jmespath<2.0.0,>=0.7.1 in /usr/local/lib/python3.8/dist-packages (from boto3>=1.4.7->cloud-volume) (1.0.1)\n",
      "Requirement already satisfied: s3transfer<0.7.0,>=0.6.0 in /usr/local/lib/python3.8/dist-packages (from boto3>=1.4.7->cloud-volume) (0.6.2)\n",
      "Requirement already satisfied: brotli in /usr/local/lib/python3.8/dist-packages (from cloud-files>=4.18.1->cloud-volume) (1.1.0)\n",
      "Requirement already satisfied: crc32c in /usr/local/lib/python3.8/dist-packages (from cloud-files>=4.18.1->cloud-volume) (2.3.post0)\n",
      "Requirement already satisfied: click in /usr/local/lib/python3.8/dist-packages (from cloud-files>=4.18.1->cloud-volume) (8.1.7)\n",
      "Requirement already satisfied: deflate>=0.2.0 in /usr/local/lib/python3.8/dist-packages (from cloud-files>=4.18.1->cloud-volume) (0.4.0)\n",
      "Requirement already satisfied: google-crc32c>=1.0.0 in /usr/local/lib/python3.8/dist-packages (from cloud-files>=4.18.1->cloud-volume) (1.5.0)\n",
      "Requirement already satisfied: orjson in /usr/local/lib/python3.8/dist-packages (from cloud-files>=4.18.1->cloud-volume) (3.9.7)\n",
      "Requirement already satisfied: zstandard in /usr/local/lib/python3.8/dist-packages (from cloud-files>=4.18.1->cloud-volume) (0.21.0)\n",
      "Requirement already satisfied: rsa>=4.7.2 in /usr/local/lib/python3.8/dist-packages (from cloud-files>=4.18.1->cloud-volume) (4.9)\n",
      "Requirement already satisfied: fasteners in /usr/local/lib/python3.8/dist-packages (from cloud-files>=4.18.1->cloud-volume) (0.18)\n",
      "Requirement already satisfied: pytest in /usr/local/lib/python3.8/dist-packages (from compressed-segmentation>=2.1.1->cloud-volume) (7.4.2)\n",
      "Requirement already satisfied: cachetools<6.0,>=2.0.0 in /usr/local/lib/python3.8/dist-packages (from google-auth>=1.10.0->cloud-volume) (5.3.1)\n",
      "Requirement already satisfied: pyasn1-modules>=0.2.1 in /usr/local/lib/python3.8/dist-packages (from google-auth>=1.10.0->cloud-volume) (0.3.0)\n",
      "Requirement already satisfied: google-api-core!=2.0.*,!=2.1.*,!=2.2.*,!=2.3.0,<3.0.0dev,>=1.31.6 in /usr/local/lib/python3.8/dist-packages (from google-cloud-core>=1.1.0->cloud-volume) (2.11.1)\n",
      "Requirement already satisfied: google-resumable-media>=2.3.2 in /usr/local/lib/python3.8/dist-packages (from google-cloud-storage>=1.24.1->cloud-volume) (2.6.0)\n",
      "Requirement already satisfied: attrs>=17.4.0 in /usr/local/lib/python3.8/dist-packages (from jsonschema!=4.0->cloud-volume) (23.1.0)\n",
      "Requirement already satisfied: importlib-resources>=1.4.0 in /usr/local/lib/python3.8/dist-packages (from jsonschema!=4.0->cloud-volume) (6.0.0)\n",
      "Requirement already satisfied: pkgutil-resolve-name>=1.3.10 in /usr/local/lib/python3.8/dist-packages (from jsonschema!=4.0->cloud-volume) (1.3.10)\n",
      "Requirement already satisfied: pyrsistent!=0.17.0,!=0.17.1,!=0.17.2,>=0.14.0 in /usr/local/lib/python3.8/dist-packages (from jsonschema!=4.0->cloud-volume) (0.19.3)\n",
      "Requirement already satisfied: inflection>=0.2 in /usr/local/lib/python3.8/dist-packages (from python-jsonschema-objects>=0.3.3->cloud-volume) (0.5.1)\n",
      "Requirement already satisfied: Markdown>=2.4 in /usr/local/lib/python3.8/dist-packages (from python-jsonschema-objects>=0.3.3->cloud-volume) (3.4.4)\n",
      "Requirement already satisfied: charset-normalizer<4,>=2 in /usr/local/lib/python3.8/dist-packages (from requests>=2.22.0->cloud-volume) (3.2.0)\n",
      "Requirement already satisfied: idna<4,>=2.5 in /usr/local/lib/python3.8/dist-packages (from requests>=2.22.0->cloud-volume) (3.4)\n",
      "Requirement already satisfied: certifi>=2017.4.17 in /usr/local/lib/python3.8/dist-packages (from requests>=2.22.0->cloud-volume) (2023.5.7)\n",
      "Requirement already satisfied: pybind11 in /usr/local/lib/python3.8/dist-packages (from crackle-codec->cloud-volume) (2.11.1)\n",
      "Requirement already satisfied: zope.event in /usr/local/lib/python3.8/dist-packages (from gevent->cloud-volume) (5.0)\n",
      "Requirement already satisfied: zope.interface in /usr/local/lib/python3.8/dist-packages (from gevent->cloud-volume) (6.0)\n",
      "Requirement already satisfied: greenlet>=2.0.0 in /usr/local/lib/python3.8/dist-packages (from gevent->cloud-volume) (2.0.2)\n",
      "Requirement already satisfied: ppft>=1.7.6.7 in /usr/local/lib/python3.8/dist-packages (from pathos->cloud-volume) (1.7.6.7)\n",
      "Requirement already satisfied: dill>=0.3.7 in /usr/local/lib/python3.8/dist-packages (from pathos->cloud-volume) (0.3.7)\n"
     ]
    },
    {
     "name": "stdout",
     "output_type": "stream",
     "text": [
      "Requirement already satisfied: pox>=0.3.3 in /usr/local/lib/python3.8/dist-packages (from pathos->cloud-volume) (0.3.3)\n",
      "Requirement already satisfied: multiprocess>=0.70.15 in /usr/local/lib/python3.8/dist-packages (from pathos->cloud-volume) (0.70.15)\n",
      "Requirement already satisfied: zfpy in /usr/local/lib/python3.8/dist-packages (from zfpc->cloud-volume) (1.0.0)\n",
      "Requirement already satisfied: googleapis-common-protos<2.0.dev0,>=1.56.2 in /usr/local/lib/python3.8/dist-packages (from google-api-core!=2.0.*,!=2.1.*,!=2.2.*,!=2.3.0,<3.0.0dev,>=1.31.6->google-cloud-core>=1.1.0->cloud-volume) (1.60.0)\n",
      "Requirement already satisfied: zipp>=3.1.0 in /usr/local/lib/python3.8/dist-packages (from importlib-resources>=1.4.0->jsonschema!=4.0->cloud-volume) (3.16.0)\n",
      "Requirement already satisfied: importlib-metadata>=4.4 in /usr/local/lib/python3.8/dist-packages (from Markdown>=2.4->python-jsonschema-objects>=0.3.3->cloud-volume) (6.8.0)\n",
      "Requirement already satisfied: pyasn1<0.6.0,>=0.4.6 in /usr/local/lib/python3.8/dist-packages (from pyasn1-modules>=0.2.1->google-auth>=1.10.0->cloud-volume) (0.5.0)\n",
      "Requirement already satisfied: iniconfig in /usr/local/lib/python3.8/dist-packages (from pytest->compressed-segmentation>=2.1.1->cloud-volume) (2.0.0)\n",
      "Requirement already satisfied: packaging in /usr/local/lib/python3.8/dist-packages (from pytest->compressed-segmentation>=2.1.1->cloud-volume) (23.1)\n",
      "Requirement already satisfied: pluggy<2.0,>=0.12 in /usr/local/lib/python3.8/dist-packages (from pytest->compressed-segmentation>=2.1.1->cloud-volume) (1.3.0)\n",
      "Requirement already satisfied: exceptiongroup>=1.0.0rc8 in /usr/local/lib/python3.8/dist-packages (from pytest->compressed-segmentation>=2.1.1->cloud-volume) (1.1.2)\n",
      "Requirement already satisfied: tomli>=1.0.0 in /usr/local/lib/python3.8/dist-packages (from pytest->compressed-segmentation>=2.1.1->cloud-volume) (2.0.1)\n",
      "Requirement already satisfied: setuptools in /usr/local/lib/python3.8/dist-packages (from zope.event->gevent->cloud-volume) (59.6.0)\n",
      "\n",
      "\u001b[1m[\u001b[0m\u001b[34;49mnotice\u001b[0m\u001b[1;39;49m]\u001b[0m\u001b[39;49m A new release of pip is available: \u001b[0m\u001b[31;49m23.2.1\u001b[0m\u001b[39;49m -> \u001b[0m\u001b[32;49m23.3\u001b[0m\n",
      "\u001b[1m[\u001b[0m\u001b[34;49mnotice\u001b[0m\u001b[1;39;49m]\u001b[0m\u001b[39;49m To update, run: \u001b[0m\u001b[32;49mpython3 -m pip install --upgrade pip\u001b[0m\n",
      "Requirement already satisfied: caveclient in /usr/local/lib/python3.8/dist-packages (5.11.0)\n",
      "Requirement already satisfied: numpy in /usr/local/lib/python3.8/dist-packages (from caveclient) (1.24.4)\n",
      "Requirement already satisfied: pyarrow<12,>=3 in /usr/local/lib/python3.8/dist-packages (from caveclient) (11.0.0)\n",
      "Requirement already satisfied: requests in /usr/local/lib/python3.8/dist-packages (from caveclient) (2.31.0)\n",
      "Requirement already satisfied: urllib3 in /usr/local/lib/python3.8/dist-packages (from caveclient) (1.26.16)\n",
      "Requirement already satisfied: pandas in /usr/local/lib/python3.8/dist-packages (from caveclient) (2.0.3)\n",
      "Requirement already satisfied: cachetools>=4.2.1 in /usr/local/lib/python3.8/dist-packages (from caveclient) (5.3.1)\n",
      "Requirement already satisfied: ipython in /usr/local/lib/python3.8/dist-packages (from caveclient) (8.12.2)\n",
      "Requirement already satisfied: networkx in /usr/local/lib/python3.8/dist-packages (from caveclient) (2.8.8)\n",
      "Requirement already satisfied: jsonschema in /usr/local/lib/python3.8/dist-packages (from caveclient) (4.17.3)\n",
      "Requirement already satisfied: attrs>=21.3.0 in /usr/local/lib/python3.8/dist-packages (from caveclient) (23.1.0)\n",
      "Requirement already satisfied: backcall in /usr/local/lib/python3.8/dist-packages (from ipython->caveclient) (0.2.0)\n",
      "Requirement already satisfied: decorator in /usr/local/lib/python3.8/dist-packages (from ipython->caveclient) (5.1.1)\n",
      "Requirement already satisfied: jedi>=0.16 in /usr/local/lib/python3.8/dist-packages (from ipython->caveclient) (0.17.2)\n",
      "Requirement already satisfied: matplotlib-inline in /usr/local/lib/python3.8/dist-packages (from ipython->caveclient) (0.1.6)\n",
      "Requirement already satisfied: pickleshare in /usr/local/lib/python3.8/dist-packages (from ipython->caveclient) (0.7.5)\n",
      "Requirement already satisfied: prompt-toolkit!=3.0.37,<3.1.0,>=3.0.30 in /usr/local/lib/python3.8/dist-packages (from ipython->caveclient) (3.0.39)\n",
      "Requirement already satisfied: pygments>=2.4.0 in /usr/local/lib/python3.8/dist-packages (from ipython->caveclient) (2.15.1)\n",
      "Requirement already satisfied: stack-data in /usr/local/lib/python3.8/dist-packages (from ipython->caveclient) (0.6.2)\n",
      "Requirement already satisfied: traitlets>=5 in /usr/local/lib/python3.8/dist-packages (from ipython->caveclient) (5.9.0)\n",
      "Requirement already satisfied: typing-extensions in /usr/local/lib/python3.8/dist-packages (from ipython->caveclient) (4.7.1)\n",
      "Requirement already satisfied: pexpect>4.3 in /usr/local/lib/python3.8/dist-packages (from ipython->caveclient) (4.8.0)\n",
      "Requirement already satisfied: importlib-resources>=1.4.0 in /usr/local/lib/python3.8/dist-packages (from jsonschema->caveclient) (6.0.0)\n",
      "Requirement already satisfied: pkgutil-resolve-name>=1.3.10 in /usr/local/lib/python3.8/dist-packages (from jsonschema->caveclient) (1.3.10)\n",
      "Requirement already satisfied: pyrsistent!=0.17.0,!=0.17.1,!=0.17.2,>=0.14.0 in /usr/local/lib/python3.8/dist-packages (from jsonschema->caveclient) (0.19.3)\n",
      "Requirement already satisfied: python-dateutil>=2.8.2 in /usr/local/lib/python3.8/dist-packages (from pandas->caveclient) (2.8.2)\n",
      "Requirement already satisfied: pytz>=2020.1 in /usr/local/lib/python3.8/dist-packages (from pandas->caveclient) (2023.3)\n",
      "Requirement already satisfied: tzdata>=2022.1 in /usr/local/lib/python3.8/dist-packages (from pandas->caveclient) (2023.3)\n",
      "Requirement already satisfied: charset-normalizer<4,>=2 in /usr/local/lib/python3.8/dist-packages (from requests->caveclient) (3.2.0)\n",
      "Requirement already satisfied: idna<4,>=2.5 in /usr/local/lib/python3.8/dist-packages (from requests->caveclient) (3.4)\n",
      "Requirement already satisfied: certifi>=2017.4.17 in /usr/local/lib/python3.8/dist-packages (from requests->caveclient) (2023.5.7)\n",
      "Requirement already satisfied: zipp>=3.1.0 in /usr/local/lib/python3.8/dist-packages (from importlib-resources>=1.4.0->jsonschema->caveclient) (3.16.0)\n",
      "Requirement already satisfied: parso<0.8.0,>=0.7.0 in /usr/local/lib/python3.8/dist-packages (from jedi>=0.16->ipython->caveclient) (0.7.1)\n",
      "Requirement already satisfied: ptyprocess>=0.5 in /usr/local/lib/python3.8/dist-packages (from pexpect>4.3->ipython->caveclient) (0.7.0)\n",
      "Requirement already satisfied: wcwidth in /usr/local/lib/python3.8/dist-packages (from prompt-toolkit!=3.0.37,<3.1.0,>=3.0.30->ipython->caveclient) (0.2.6)\n",
      "Requirement already satisfied: six>=1.5 in /usr/local/lib/python3.8/dist-packages (from python-dateutil>=2.8.2->pandas->caveclient) (1.16.0)\n",
      "Requirement already satisfied: executing>=1.2.0 in /usr/local/lib/python3.8/dist-packages (from stack-data->ipython->caveclient) (1.2.0)\n",
      "Requirement already satisfied: asttokens>=2.1.0 in /usr/local/lib/python3.8/dist-packages (from stack-data->ipython->caveclient) (2.2.1)\n",
      "Requirement already satisfied: pure-eval in /usr/local/lib/python3.8/dist-packages (from stack-data->ipython->caveclient) (0.2.2)\n",
      "\n",
      "\u001b[1m[\u001b[0m\u001b[34;49mnotice\u001b[0m\u001b[1;39;49m]\u001b[0m\u001b[39;49m A new release of pip is available: \u001b[0m\u001b[31;49m23.2.1\u001b[0m\u001b[39;49m -> \u001b[0m\u001b[32;49m23.3\u001b[0m\n",
      "\u001b[1m[\u001b[0m\u001b[34;49mnotice\u001b[0m\u001b[1;39;49m]\u001b[0m\u001b[39;49m To update, run: \u001b[0m\u001b[32;49mpython3 -m pip install --upgrade pip\u001b[0m\n",
      "Collecting load_dotenv\n",
      "  Downloading load_dotenv-0.1.0-py3-none-any.whl (7.2 kB)\n",
      "Collecting python-dotenv (from load_dotenv)\n",
      "  Downloading python_dotenv-1.0.0-py3-none-any.whl (19 kB)\n",
      "Installing collected packages: python-dotenv, load_dotenv\n",
      "Successfully installed load_dotenv-0.1.0 python-dotenv-1.0.0\n",
      "\n",
      "\u001b[1m[\u001b[0m\u001b[34;49mnotice\u001b[0m\u001b[1;39;49m]\u001b[0m\u001b[39;49m A new release of pip is available: \u001b[0m\u001b[31;49m23.2.1\u001b[0m\u001b[39;49m -> \u001b[0m\u001b[32;49m23.3\u001b[0m\n",
      "\u001b[1m[\u001b[0m\u001b[34;49mnotice\u001b[0m\u001b[1;39;49m]\u001b[0m\u001b[39;49m To update, run: \u001b[0m\u001b[32;49mpython3 -m pip install --upgrade pip\u001b[0m\n"
     ]
    }
   ],
   "source": [
    "!pip3 install cloud-volume --upgrade\n",
    "!pip3 install caveclient --upgrade\n",
    "!pip3 install load_dotenv"
   ]
  },
  {
   "cell_type": "code",
   "execution_count": 6,
   "id": "55d22916",
   "metadata": {},
   "outputs": [],
   "source": [
    "from caveclient import CAVEclient\n",
    "client = CAVEclient()"
   ]
  },
  {
   "cell_type": "code",
   "execution_count": 7,
   "id": "ea912f6e",
   "metadata": {},
   "outputs": [
    {
     "name": "stdout",
     "output_type": "stream",
     "text": [
      "New Tokens need to be acquired by hand. Please follow the following steps:\n",
      "                1) Go to: https://global.daf-apis.com/auth/api/v1/create_token to create a new token.\n",
      "                2) Log in with your Google credentials and copy the token shown afterward.\n",
      "                3a) Save it to your computer with: client.auth.save_token(token=\"PASTE_YOUR_TOKEN_HERE\")\n",
      "                or\n",
      "                3b) Set it for the current session only with client.auth.token = \"PASTE_YOUR_TOKEN_HERE\"\n",
      "                Note: If you need to save or load multiple tokens, please read the documentation for details.\n",
      "                Warning! Creating a new token by finishing step 2 will invalidate the previous token!\n"
     ]
    }
   ],
   "source": [
    "client.auth.get_new_token()"
   ]
  },
  {
   "cell_type": "code",
   "execution_count": 13,
   "id": "efcf55bd",
   "metadata": {},
   "outputs": [],
   "source": [
    "\"\"\"\n",
    "Retrieved the token and put in a local env file\n",
    "----./.env ---\n",
    "\n",
    "CAVE_TOEKN=[insert token]\n",
    "\"\"\"\n",
    "env_filepath = \"./.env\"\n"
   ]
  },
  {
   "cell_type": "code",
   "execution_count": 11,
   "id": "c4cb547a",
   "metadata": {},
   "outputs": [],
   "source": [
    "import os\n",
    "from dotenv import load_dotenv\n",
    "\n",
    "load_dotenv(env_filepath)"
   ]
  },
  {
   "cell_type": "code",
   "execution_count": 15,
   "id": "7cd89941",
   "metadata": {},
   "outputs": [
    {
     "data": {
      "text/plain": [
       "'ba0a1b546e9b87f402c5d8c1d1d45bca'"
      ]
     },
     "execution_count": 15,
     "metadata": {},
     "output_type": "execute_result"
    }
   ],
   "source": [
    "cave_token = os.getenv('CAVE_TOKEN')\n",
    "cave_token"
   ]
  },
  {
   "cell_type": "code",
   "execution_count": 33,
   "id": "92c3b18f",
   "metadata": {},
   "outputs": [],
   "source": []
  },
  {
   "cell_type": "code",
   "execution_count": null,
   "id": "41cf170b",
   "metadata": {},
   "outputs": [],
   "source": []
  },
  {
   "cell_type": "code",
   "execution_count": 35,
   "id": "ca02b6ea",
   "metadata": {},
   "outputs": [],
   "source": [
    "jsu.dict_to_json?"
   ]
  },
  {
   "cell_type": "code",
   "execution_count": 37,
   "id": "b0376fb7",
   "metadata": {},
   "outputs": [],
   "source": []
  },
  {
   "cell_type": "code",
   "execution_count": null,
   "id": "7a388d76",
   "metadata": {},
   "outputs": [],
   "source": []
  },
  {
   "cell_type": "code",
   "execution_count": 19,
   "id": "eec79296",
   "metadata": {},
   "outputs": [],
   "source": [
    "# setting the authorization for only this session\n",
    "client.auth.token = cave_token\n",
    "\n",
    "# setting the token for long-term use \n",
    "client.auth.save_token(token=cave_token)"
   ]
  },
  {
   "cell_type": "markdown",
   "id": "a9cd183a",
   "metadata": {},
   "source": [
    "# Setup Cloudvolume"
   ]
  },
  {
   "cell_type": "code",
   "execution_count": 23,
   "id": "31313ac0",
   "metadata": {},
   "outputs": [],
   "source": [
    "import cloudvolume"
   ]
  },
  {
   "cell_type": "code",
   "execution_count": 30,
   "id": "7d08e959",
   "metadata": {},
   "outputs": [],
   "source": [
    "cloudvolume.secrets.cave_credentials??"
   ]
  },
  {
   "cell_type": "code",
   "execution_count": 31,
   "id": "32203689",
   "metadata": {},
   "outputs": [
    {
     "data": {
      "text/plain": [
       "{'token': '3ebe4ec3203582cc1a7d2650328561ee'}"
      ]
     },
     "execution_count": 31,
     "metadata": {},
     "output_type": "execute_result"
    }
   ],
   "source": [
    "cloudvolume.secrets.cave_credentials()"
   ]
  },
  {
   "cell_type": "code",
   "execution_count": null,
   "id": "77234a6e",
   "metadata": {},
   "outputs": [],
   "source": []
  },
  {
   "cell_type": "code",
   "execution_count": null,
   "id": "308f363d",
   "metadata": {},
   "outputs": [],
   "source": [
    "\n",
    "\n",
    "\n",
    "client.auth.get_new_token()"
   ]
  },
  {
   "cell_type": "code",
   "execution_count": null,
   "id": "f212dcc1",
   "metadata": {},
   "outputs": [],
   "source": []
  },
  {
   "cell_type": "code",
   "execution_count": null,
   "id": "948977d5",
   "metadata": {},
   "outputs": [],
   "source": []
  },
  {
   "cell_type": "markdown",
   "id": "1031c964",
   "metadata": {},
   "source": [
    "# Accessing the Data"
   ]
  },
  {
   "cell_type": "code",
   "execution_count": 20,
   "id": "9e674f35",
   "metadata": {},
   "outputs": [],
   "source": [
    "# to access the minnie65 public release dataset\n",
    "# you initialize the client like this\n",
    "client = CAVEclient('minnie65_public_v117')"
   ]
  },
  {
   "cell_type": "code",
   "execution_count": 22,
   "id": "0540b50a",
   "metadata": {},
   "outputs": [
    {
     "data": {
      "text/plain": [
       "['nucleus_detection_v0',\n",
       " 'synapses_pni_2',\n",
       " 'nucleus_neuron_svm',\n",
       " 'proofreading_status_public_release',\n",
       " 'func_unit_em_match_release',\n",
       " 'allen_soma_ei_class_model_v1',\n",
       " 'allen_visp_column_soma_coarse_types_v1',\n",
       " 'allen_soma_coarse_cell_class_model_v1']"
      ]
     },
     "execution_count": 22,
     "metadata": {},
     "output_type": "execute_result"
    }
   ],
   "source": [
    "# as a test, lets see that we can view the tables we can query\n",
    "# from the materialization engine\n",
    "client.materialize.get_tables()"
   ]
  },
  {
   "cell_type": "code",
   "execution_count": null,
   "id": "98d85dd8",
   "metadata": {},
   "outputs": [],
   "source": []
  }
 ],
 "metadata": {
  "kernelspec": {
   "display_name": "Python 3 (ipykernel)",
   "language": "python",
   "name": "python3"
  },
  "language_info": {
   "codemirror_mode": {
    "name": "ipython",
    "version": 3
   },
   "file_extension": ".py",
   "mimetype": "text/x-python",
   "name": "python",
   "nbconvert_exporter": "python",
   "pygments_lexer": "ipython3",
   "version": "3.8.0"
  }
 },
 "nbformat": 4,
 "nbformat_minor": 5
}
