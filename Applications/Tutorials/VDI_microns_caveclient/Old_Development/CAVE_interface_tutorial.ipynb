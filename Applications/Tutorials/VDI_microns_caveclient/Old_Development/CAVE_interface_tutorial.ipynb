{
 "cells": [
  {
   "cell_type": "code",
   "execution_count": 1,
   "id": "08fa0338",
   "metadata": {},
   "outputs": [],
   "source": [
    "%load_ext autoreload\n",
    "%autoreload 2"
   ]
  },
  {
   "cell_type": "code",
   "execution_count": 2,
   "id": "e4c2ae7f",
   "metadata": {},
   "outputs": [
    {
     "data": {
      "text/plain": [
       "'\\nPurpose: After setting up the cave client\\ntoken and access, purpose is to demonstrate\\nhow to use CAVE to interface with microns data\\n- retrieve mesh\\n- retrieve, query synapses\\n- \\n\\nCAVE Documentation source:\\nhttps://github.com/AllenInstitute/MicronsBinder/blob/master/notebooks/mm3_intro/MeshAccess.ipynb\\n'"
      ]
     },
     "execution_count": 2,
     "metadata": {},
     "output_type": "execute_result"
    }
   ],
   "source": [
    "\"\"\"\n",
    "Purpose: After setting up the cave client\n",
    "token and access, purpose is to demonstrate\n",
    "how to use CAVE to interface with microns data\n",
    "- retrieve mesh\n",
    "- retrieve, query synapses\n",
    "- \n",
    "\n",
    "CAVE Documentation source:\n",
    "https://github.com/AllenInstitute/MicronsBinder/blob/master/notebooks/mm3_intro/MeshAccess.ipynb\n",
    "\"\"\""
   ]
  },
  {
   "cell_type": "code",
   "execution_count": 3,
   "id": "5c9360e8",
   "metadata": {},
   "outputs": [],
   "source": [
    "# !pip3 install cloud-volume --upgrade\n",
    "# !pip3 install caveclient --upgrade\n",
    "# !pip3 install load_dotenv"
   ]
  },
  {
   "cell_type": "code",
   "execution_count": 4,
   "id": "9291126a",
   "metadata": {},
   "outputs": [],
   "source": [
    "import os\n",
    "from dotenv import load_dotenv\n",
    "\n",
    "import cloudvolume\n",
    "import caveclient"
   ]
  },
  {
   "cell_type": "code",
   "execution_count": 5,
   "id": "70260f75",
   "metadata": {},
   "outputs": [
    {
     "data": {
      "text/plain": [
       "{'token': 'ba0a1b546e9b87f402c5d8c1d1d45bca'}"
      ]
     },
     "execution_count": 5,
     "metadata": {},
     "output_type": "execute_result"
    }
   ],
   "source": [
    "cloudvolume.secrets.cave_credentials()"
   ]
  },
  {
   "cell_type": "code",
   "execution_count": 6,
   "id": "8df2c4e8",
   "metadata": {},
   "outputs": [
    {
     "name": "stdout",
     "output_type": "stream",
     "text": [
      "Jupyter environment detected. Enabling Open3D WebVisualizer.\n",
      "[Open3D INFO] WebRTC GUI backend enabled.\n",
      "[Open3D INFO] WebRTCWindowSystem: HTTP handshake server disabled.\n"
     ]
    }
   ],
   "source": [
    "from neurd import cave_client_utils as ccu"
   ]
  },
  {
   "cell_type": "code",
   "execution_count": 7,
   "id": "be92717d",
   "metadata": {},
   "outputs": [
    {
     "data": {
      "text/plain": [
       "<neurd.cave_interface.CaveInterface at 0x7f9e2e1c0790>"
      ]
     },
     "execution_count": 7,
     "metadata": {},
     "output_type": "execute_result"
    }
   ],
   "source": [
    "from neurd.cave_interface import CaveInterface\n",
    "from pathlib import Path\n",
    "client = CaveInterface(\n",
    "    \"minnie65_public\",\n",
    "    env_filepath=Path(\"./.env\").absolute())\n",
    "client"
   ]
  },
  {
   "cell_type": "code",
   "execution_count": null,
   "id": "7f955389",
   "metadata": {},
   "outputs": [],
   "source": [
    "cloudvolume.secrets.secretpath()"
   ]
  },
  {
   "cell_type": "code",
   "execution_count": null,
   "id": "135c0669",
   "metadata": {},
   "outputs": [],
   "source": [
    "/root/.cloudvolume/secrets\n",
    "51776982dd531b1e1305fe173f851ad8"
   ]
  },
  {
   "cell_type": "code",
   "execution_count": 8,
   "id": "349b815d",
   "metadata": {},
   "outputs": [
    {
     "name": "stdout",
     "output_type": "stream",
     "text": [
      "Warning: deduplication not currently supported for this layer's variable layered draco meshes\n"
     ]
    },
    {
     "data": {
      "text/plain": [
       "Mesh(vertices<4237977>, faces<8460471>, normals<0>, segid=864691137197197121, encoding_type=<draco>)"
      ]
     },
     "execution_count": 8,
     "metadata": {},
     "output_type": "execute_result"
    }
   ],
   "source": [
    "ccu.mesh_from_seg_id(\n",
    "    seg_id = 864691137197197121,\n",
    "    client=client,\n",
    ")"
   ]
  },
  {
   "cell_type": "code",
   "execution_count": 11,
   "id": "6a1a4a1f",
   "metadata": {},
   "outputs": [],
   "source": [
    "from pathlib import Path\n",
    "from datasci_tools import system_utils as su\n",
    "from datasci_tools import json_utils as jsu\n",
    "\n",
    "data = {\"token\": \"ba0a1b546e9b87f402c5d8c1d1dbcelii\"}\n",
    "\n",
    "cloudvolume_secrets_path = Path(\"/root/.cloudvolume/secrets\")\n",
    "cloudvolume_secrets_path.mkdir(exist_ok = True)\n",
    "json_file = jsu.dict_to_json_file(\n",
    "    data,\n",
    "    cloudvolume_secrets_path / Path(\"cave-secret.json\")\n",
    ")\n",
    "json_file"
   ]
  },
  {
   "cell_type": "code",
   "execution_count": null,
   "id": "8351d718",
   "metadata": {},
   "outputs": [],
   "source": []
  },
  {
   "cell_type": "code",
   "execution_count": null,
   "id": "0dd47730",
   "metadata": {},
   "outputs": [],
   "source": []
  },
  {
   "cell_type": "code",
   "execution_count": null,
   "id": "bec74002",
   "metadata": {},
   "outputs": [],
   "source": []
  },
  {
   "cell_type": "code",
   "execution_count": null,
   "id": "44ecfecc",
   "metadata": {},
   "outputs": [],
   "source": [
    "authorization_token = \"ba0a1b546e9b87f402c5d8c1d1d45bca\""
   ]
  },
  {
   "cell_type": "code",
   "execution_count": null,
   "id": "2a74a89b",
   "metadata": {},
   "outputs": [],
   "source": [
    "~/.cloudvolume/secrets/cave-client.json"
   ]
  },
  {
   "cell_type": "code",
   "execution_count": null,
   "id": "1abd2305",
   "metadata": {},
   "outputs": [],
   "source": [
    "For Google Storage (setup instructions here), default account credentials will be used if available and no service account is provided."
   ]
  },
  {
   "cell_type": "code",
   "execution_count": null,
   "id": "abb0cd22",
   "metadata": {},
   "outputs": [],
   "source": [
    "debug"
   ]
  },
  {
   "cell_type": "code",
   "execution_count": null,
   "id": "7aca2d36",
   "metadata": {},
   "outputs": [],
   "source": [
    "\"\"\"\n",
    "Retrieved the token and put in a local env file\n",
    "\"\"\"\n",
    "\n",
    "env_filepath = \"./.env\"\n",
    "load_dotenv(env_filepath)\n",
    "cave_token = os.getenv('CAVE_TOKEN')\n"
   ]
  },
  {
   "cell_type": "code",
   "execution_count": null,
   "id": "36cf7907",
   "metadata": {},
   "outputs": [],
   "source": [
    "# Setting the release version for data\n",
    "from caveclient import CAVEclient\n",
    "client = CAVEclient('minnie65_public_v117')\n",
    "client = CAVEclient('minnie65_public')\n",
    "#client = CAVEclient('microns_public_v117')\n",
    "client.auth.token = cave_token"
   ]
  },
  {
   "cell_type": "code",
   "execution_count": null,
   "id": "35c5fd67",
   "metadata": {},
   "outputs": [],
   "source": [
    "# this shows you the basic information about this datastack within CAVE\n",
    "client.info.get_datastack_info()"
   ]
  },
  {
   "cell_type": "code",
   "execution_count": null,
   "id": "39bdaa28",
   "metadata": {},
   "outputs": [],
   "source": []
  },
  {
   "cell_type": "markdown",
   "id": "82e86caa",
   "metadata": {},
   "source": [
    "# Utility Functions"
   ]
  },
  {
   "cell_type": "code",
   "execution_count": null,
   "id": "7240be0a",
   "metadata": {},
   "outputs": [],
   "source": [
    "neuron_non_neuron_table = 'nucleus_neuron_svm'\n",
    "synapse_table = 'synapses_pni_2'\n",
    "nuclues_table = \"nucleus_detection_v0\"\n",
    "release_table = \"proofreading_status_public_release\""
   ]
  },
  {
   "cell_type": "code",
   "execution_count": null,
   "id": "43c7ccd2",
   "metadata": {},
   "outputs": [],
   "source": [
    "# here you can see how many entries are in a table\n",
    "def table_size(table_name):\n",
    "    return client.materialize.get_annotation_count(\n",
    "        table_name\n",
    "    )\n",
    "\n",
    "table_size(synapse_table)"
   ]
  },
  {
   "cell_type": "code",
   "execution_count": null,
   "id": "0d2ca7ff",
   "metadata": {},
   "outputs": [],
   "source": [
    "import numpy as np\n",
    "\n",
    "def release_info():\n",
    "    return  client.materialize.get_table_metadata(\n",
    "        release_table\n",
    "    )\n",
    "\n",
    "def voxel_to_nm_scaling():\n",
    "    return np.array(\n",
    "        release_info()['voxel_resolution']\n",
    "    )\n",
    "\n",
    "voxel_to_nm_scaling()"
   ]
  },
  {
   "cell_type": "code",
   "execution_count": null,
   "id": "016b4a1d",
   "metadata": {},
   "outputs": [],
   "source": [
    "def neuron_nucleus_df(verbose = False):\n",
    "    nuc_df = client.materialize.query_table(\n",
    "        neuron_non_neuron_table,\n",
    "        filter_equal_dict={'cell_type':'neuron'},\n",
    "        filter_out_dict={'pt_root_id':[0]}\n",
    "    ) \n",
    "    \n",
    "    if verbose:\n",
    "        print(f\"# of nuclei = {len(verbose)}\")\n",
    "    \n",
    "    return nuc_df\n",
    "\n",
    "def segment_ids_with_nucleus(verbose=False):\n",
    "    return_list = np.unique(nuc_df[\"pt_root_id\"].to_numpy())\n",
    "    if verbose:\n",
    "        print(f\"# of segments with at least one nucleus: {len(return_list)}\")\n",
    "    \n",
    "    return return_list\n",
    "\n",
    "segment_ids_with_nucleus(verbose = True)"
   ]
  },
  {
   "cell_type": "markdown",
   "id": "5ad981b7",
   "metadata": {},
   "source": [
    "# Getting Only Neurons"
   ]
  },
  {
   "cell_type": "code",
   "execution_count": null,
   "id": "97778c56",
   "metadata": {},
   "outputs": [],
   "source": [
    "\n",
    "\n",
    "nuc_df.head()"
   ]
  },
  {
   "cell_type": "markdown",
   "id": "b961497d",
   "metadata": {},
   "source": [
    "# Getting synapses"
   ]
  },
  {
   "cell_type": "code",
   "execution_count": null,
   "id": "cf2065d0",
   "metadata": {},
   "outputs": [],
   "source": [
    "# pick a segment you selected from neuroglancer to enter here\n",
    "seg_id = 864691135474648896\n",
    "seg_id = 864691137197197121\n",
    "\n",
    "# inputs/outputs\n",
    "output_df = client.materialize.synapse_query(pre_ids=seg_id)\n",
    "input_df = client.materialize.synapse_query(post_ids=seg_id)\n",
    "len(output_df), len(input_df)\n",
    "output_df.head()"
   ]
  },
  {
   "cell_type": "markdown",
   "id": "924b2b72",
   "metadata": {},
   "source": [
    "# Downloading a Mesh"
   ]
  },
  {
   "cell_type": "code",
   "execution_count": null,
   "id": "42a89e96",
   "metadata": {},
   "outputs": [],
   "source": [
    "cloudvolume.CloudVolume?"
   ]
  },
  {
   "cell_type": "code",
   "execution_count": null,
   "id": "6b0ff8b7",
   "metadata": {},
   "outputs": [],
   "source": [
    "# to access the minnie65 public release dataset\n",
    "# you initialize the client like this\n",
    "cv = cloudvolume.CloudVolume(\n",
    "    client.info.segmentation_source(),\n",
    "    progress=False,\n",
    "    use_https = True\n",
    ")\n",
    "# which, given a root_id, can be used to get a mesh\n",
    "# cloud volume returns a dictionary with the neuron segment id as the key \n",
    "# and the mesh as the value\n",
    "example_cell_id = 864691137197197121\n",
    "mesh = cv.mesh.get(example_cell_id)[example_cell_id]"
   ]
  },
  {
   "cell_type": "code",
   "execution_count": null,
   "id": "f91304df",
   "metadata": {},
   "outputs": [],
   "source": [
    "# as a test, lets see that we can view the tables we can query\n",
    "# from the materialization engine\n",
    "client.materialize.get_tables()"
   ]
  },
  {
   "cell_type": "code",
   "execution_count": null,
   "id": "4859889e",
   "metadata": {},
   "outputs": [],
   "source": [
    "# this can be used to initialize a cloudvolume object\n",
    "cv = cloudvolume.CloudVolume(client.info.segmentation_source(), progress=False)\n",
    "example_cell_id = 864691135474648896\n",
    "mesh = cv.mesh.get(example_cell_id)[example_cell_id]"
   ]
  },
  {
   "cell_type": "code",
   "execution_count": null,
   "id": "9e045ea0",
   "metadata": {},
   "outputs": [],
   "source": []
  }
 ],
 "metadata": {
  "kernelspec": {
   "display_name": "Python 3 (ipykernel)",
   "language": "python",
   "name": "python3"
  },
  "language_info": {
   "codemirror_mode": {
    "name": "ipython",
    "version": 3
   },
   "file_extension": ".py",
   "mimetype": "text/x-python",
   "name": "python",
   "nbconvert_exporter": "python",
   "pygments_lexer": "ipython3",
   "version": "3.8.0"
  }
 },
 "nbformat": 4,
 "nbformat_minor": 5
}
