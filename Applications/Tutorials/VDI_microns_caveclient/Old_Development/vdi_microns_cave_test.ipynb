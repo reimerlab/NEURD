{
 "cells": [
  {
   "cell_type": "code",
   "execution_count": 1,
   "id": "0c31e2c1",
   "metadata": {},
   "outputs": [
    {
     "data": {
      "text/plain": [
       "'\\nPurpose: To show that the caveclient vdi \\nis working and can fetch meshes and synapses\\n'"
      ]
     },
     "execution_count": 1,
     "metadata": {},
     "output_type": "execute_result"
    }
   ],
   "source": [
    "\"\"\"\n",
    "Purpose: To show that the caveclient vdi \n",
    "is working and can fetch meshes and synapses\n",
    "\"\"\""
   ]
  },
  {
   "cell_type": "code",
   "execution_count": 2,
   "id": "a973756a",
   "metadata": {},
   "outputs": [],
   "source": [
    "%load_ext autoreload\n",
    "%autoreload 2"
   ]
  },
  {
   "cell_type": "code",
   "execution_count": 3,
   "id": "e31c07aa",
   "metadata": {},
   "outputs": [
    {
     "name": "stdout",
     "output_type": "stream",
     "text": [
      "Jupyter environment detected. Enabling Open3D WebVisualizer.\n",
      "[Open3D INFO] WebRTC GUI backend enabled.\n",
      "[Open3D INFO] WebRTCWindowSystem: HTTP handshake server disabled.\n"
     ]
    },
    {
     "name": "stderr",
     "output_type": "stream",
     "text": [
      "/usr/local/lib/python3.8/dist-packages/python_jsonschema_objects/__init__.py:113: UserWarning: Schema id not specified. Defaulting to 'self'\n",
      "  warnings.warn(\"Schema id not specified. Defaulting to 'self'\")\n"
     ]
    }
   ],
   "source": [
    "from mesh_tools import trimesh_utils as tu\n",
    "from datasci_tools import ipyvolume_utils as ipvu\n",
    "from neurd import neuron_visualizations as nviz"
   ]
  },
  {
   "cell_type": "code",
   "execution_count": 4,
   "id": "d61b4a71",
   "metadata": {},
   "outputs": [],
   "source": [
    "from neurd import cave_client_utils as ccu"
   ]
  },
  {
   "cell_type": "code",
   "execution_count": 5,
   "id": "23399e06",
   "metadata": {},
   "outputs": [],
   "source": [
    "from neurd.vdi_microns_cave import volume_data_interface as vdi"
   ]
  },
  {
   "cell_type": "code",
   "execution_count": 6,
   "id": "3ae1718b",
   "metadata": {},
   "outputs": [
    {
     "data": {
      "text/plain": [
       "array([ 4.,  4., 40.])"
      ]
     },
     "execution_count": 6,
     "metadata": {},
     "output_type": "execute_result"
    }
   ],
   "source": [
    "vdi.voxel_to_nm_scaling"
   ]
  },
  {
   "cell_type": "code",
   "execution_count": 7,
   "id": "f0f3afbd",
   "metadata": {},
   "outputs": [
    {
     "name": "stderr",
     "output_type": "stream",
     "text": [
      "Table Owner Notice on nucleus_ref_neuron_svm: Please cite https://doi.org/10.1101/2022.07.20.499976 when using this table.\n"
     ]
    },
    {
     "data": {
      "text/plain": [
       "array([                 0, 864691131906133483, 864691132144578807, ...,\n",
       "       864691137198243393, 864691137198252609, 864691137198255681])"
      ]
     },
     "execution_count": 7,
     "metadata": {},
     "output_type": "execute_result"
    }
   ],
   "source": [
    "vdi.client.segment_ids_with_nucleus()"
   ]
  },
  {
   "cell_type": "markdown",
   "id": "e9920c06",
   "metadata": {},
   "source": [
    "# Downloading mesh and synapses"
   ]
  },
  {
   "cell_type": "code",
   "execution_count": 8,
   "id": "de02f75f",
   "metadata": {},
   "outputs": [],
   "source": [
    "seg_id = segment_id= 864691137198252609"
   ]
  },
  {
   "cell_type": "code",
   "execution_count": 9,
   "id": "d77ec9f6",
   "metadata": {},
   "outputs": [
    {
     "name": "stdout",
     "output_type": "stream",
     "text": [
      "Warning: deduplication not currently supported for this layer's variable layered draco meshes\n"
     ]
    },
    {
     "data": {
      "text/plain": [
       "<trimesh.Trimesh(vertices.shape=(2523209, 3), faces.shape=(5063649, 3))>"
      ]
     },
     "execution_count": 9,
     "metadata": {},
     "output_type": "execute_result"
    }
   ],
   "source": [
    "mesh = vdi.fetch_segment_id_mesh(seg_id)\n",
    "mesh"
   ]
  },
  {
   "cell_type": "code",
   "execution_count": 10,
   "id": "e2438c95",
   "metadata": {},
   "outputs": [
    {
     "data": {
      "text/html": [
       "<div>\n",
       "<style scoped>\n",
       "    .dataframe tbody tr th:only-of-type {\n",
       "        vertical-align: middle;\n",
       "    }\n",
       "\n",
       "    .dataframe tbody tr th {\n",
       "        vertical-align: top;\n",
       "    }\n",
       "\n",
       "    .dataframe thead th {\n",
       "        text-align: right;\n",
       "    }\n",
       "</style>\n",
       "<table border=\"1\" class=\"dataframe\">\n",
       "  <thead>\n",
       "    <tr style=\"text-align: right;\">\n",
       "      <th></th>\n",
       "      <th>segment_id</th>\n",
       "      <th>segment_id_secondary</th>\n",
       "      <th>synapse_id</th>\n",
       "      <th>prepost</th>\n",
       "      <th>synapse_x</th>\n",
       "      <th>synapse_y</th>\n",
       "      <th>synapse_z</th>\n",
       "      <th>synapse_size</th>\n",
       "    </tr>\n",
       "  </thead>\n",
       "  <tbody>\n",
       "    <tr>\n",
       "      <th>0</th>\n",
       "      <td>864691137198252609</td>\n",
       "      <td>864691135902080478</td>\n",
       "      <td>215360645</td>\n",
       "      <td>pre</td>\n",
       "      <td>842440</td>\n",
       "      <td>384256</td>\n",
       "      <td>1013760</td>\n",
       "      <td>552960</td>\n",
       "    </tr>\n",
       "    <tr>\n",
       "      <th>1</th>\n",
       "      <td>864691137198252609</td>\n",
       "      <td>864691135758973006</td>\n",
       "      <td>173939647</td>\n",
       "      <td>pre</td>\n",
       "      <td>747336</td>\n",
       "      <td>487324</td>\n",
       "      <td>1027080</td>\n",
       "      <td>360960</td>\n",
       "    </tr>\n",
       "    <tr>\n",
       "      <th>2</th>\n",
       "      <td>864691137198252609</td>\n",
       "      <td>864691135319320488</td>\n",
       "      <td>203064053</td>\n",
       "      <td>pre</td>\n",
       "      <td>804224</td>\n",
       "      <td>793304</td>\n",
       "      <td>1071280</td>\n",
       "      <td>8524800</td>\n",
       "    </tr>\n",
       "    <tr>\n",
       "      <th>3</th>\n",
       "      <td>864691137198252609</td>\n",
       "      <td>864691136272989374</td>\n",
       "      <td>241323899</td>\n",
       "      <td>pre</td>\n",
       "      <td>909264</td>\n",
       "      <td>330448</td>\n",
       "      <td>959760</td>\n",
       "      <td>1492480</td>\n",
       "    </tr>\n",
       "    <tr>\n",
       "      <th>4</th>\n",
       "      <td>864691137198252609</td>\n",
       "      <td>864691133114428938</td>\n",
       "      <td>195794757</td>\n",
       "      <td>pre</td>\n",
       "      <td>797708</td>\n",
       "      <td>612376</td>\n",
       "      <td>970080</td>\n",
       "      <td>1085440</td>\n",
       "    </tr>\n",
       "    <tr>\n",
       "      <th>...</th>\n",
       "      <td>...</td>\n",
       "      <td>...</td>\n",
       "      <td>...</td>\n",
       "      <td>...</td>\n",
       "      <td>...</td>\n",
       "      <td>...</td>\n",
       "      <td>...</td>\n",
       "      <td>...</td>\n",
       "    </tr>\n",
       "    <tr>\n",
       "      <th>4234</th>\n",
       "      <td>864691137198252609</td>\n",
       "      <td>864691136237813820</td>\n",
       "      <td>198757478</td>\n",
       "      <td>post</td>\n",
       "      <td>805064</td>\n",
       "      <td>509808</td>\n",
       "      <td>893800</td>\n",
       "      <td>1313280</td>\n",
       "    </tr>\n",
       "    <tr>\n",
       "      <th>4235</th>\n",
       "      <td>864691137198252609</td>\n",
       "      <td>864691135754357197</td>\n",
       "      <td>205749107</td>\n",
       "      <td>post</td>\n",
       "      <td>818344</td>\n",
       "      <td>460440</td>\n",
       "      <td>1005760</td>\n",
       "      <td>737280</td>\n",
       "    </tr>\n",
       "    <tr>\n",
       "      <th>4236</th>\n",
       "      <td>864691137198252609</td>\n",
       "      <td>864691135394307317</td>\n",
       "      <td>198655508</td>\n",
       "      <td>post</td>\n",
       "      <td>807856</td>\n",
       "      <td>493328</td>\n",
       "      <td>971800</td>\n",
       "      <td>3816960</td>\n",
       "    </tr>\n",
       "    <tr>\n",
       "      <th>4237</th>\n",
       "      <td>864691137198252609</td>\n",
       "      <td>864691135700772731</td>\n",
       "      <td>191447790</td>\n",
       "      <td>post</td>\n",
       "      <td>795392</td>\n",
       "      <td>496568</td>\n",
       "      <td>927840</td>\n",
       "      <td>1704960</td>\n",
       "    </tr>\n",
       "    <tr>\n",
       "      <th>4238</th>\n",
       "      <td>864691137198252609</td>\n",
       "      <td>864691136371491976</td>\n",
       "      <td>194245814</td>\n",
       "      <td>post</td>\n",
       "      <td>793216</td>\n",
       "      <td>473896</td>\n",
       "      <td>978840</td>\n",
       "      <td>2693120</td>\n",
       "    </tr>\n",
       "  </tbody>\n",
       "</table>\n",
       "<p>4239 rows × 8 columns</p>\n",
       "</div>"
      ],
      "text/plain": [
       "              segment_id  segment_id_secondary  synapse_id prepost  synapse_x  \\\n",
       "0     864691137198252609    864691135902080478   215360645     pre     842440   \n",
       "1     864691137198252609    864691135758973006   173939647     pre     747336   \n",
       "2     864691137198252609    864691135319320488   203064053     pre     804224   \n",
       "3     864691137198252609    864691136272989374   241323899     pre     909264   \n",
       "4     864691137198252609    864691133114428938   195794757     pre     797708   \n",
       "...                  ...                   ...         ...     ...        ...   \n",
       "4234  864691137198252609    864691136237813820   198757478    post     805064   \n",
       "4235  864691137198252609    864691135754357197   205749107    post     818344   \n",
       "4236  864691137198252609    864691135394307317   198655508    post     807856   \n",
       "4237  864691137198252609    864691135700772731   191447790    post     795392   \n",
       "4238  864691137198252609    864691136371491976   194245814    post     793216   \n",
       "\n",
       "      synapse_y  synapse_z  synapse_size  \n",
       "0        384256    1013760        552960  \n",
       "1        487324    1027080        360960  \n",
       "2        793304    1071280       8524800  \n",
       "3        330448     959760       1492480  \n",
       "4        612376     970080       1085440  \n",
       "...         ...        ...           ...  \n",
       "4234     509808     893800       1313280  \n",
       "4235     460440    1005760        737280  \n",
       "4236     493328     971800       3816960  \n",
       "4237     496568     927840       1704960  \n",
       "4238     473896     978840       2693120  \n",
       "\n",
       "[4239 rows x 8 columns]"
      ]
     },
     "execution_count": 10,
     "metadata": {},
     "output_type": "execute_result"
    }
   ],
   "source": [
    "syn_df = vdi.segment_id_to_synapse_dict(seg_id)\n",
    "syn_df"
   ]
  },
  {
   "cell_type": "markdown",
   "id": "4e2cd620",
   "metadata": {},
   "source": [
    "# Plotting the results"
   ]
  },
  {
   "cell_type": "code",
   "execution_count": 11,
   "id": "01a9a0e5",
   "metadata": {},
   "outputs": [
    {
     "name": "stderr",
     "output_type": "stream",
     "text": [
      "/usr/local/lib/python3.8/dist-packages/traittypes/traittypes.py:97: UserWarning: Given trait value dtype \"float64\" does not match required type \"float64\". A coerced copy has been created.\n",
      "  warnings.warn(\n"
     ]
    },
    {
     "data": {
      "application/vnd.jupyter.widget-view+json": {
       "model_id": "99277aacf263418f857c5d82c10b5682",
       "version_major": 2,
       "version_minor": 0
      },
      "text/plain": [
       "HBox(children=(FloatSlider(value=0.3, description='Size', max=3.0), Dropdown(description='Geo', index=3, optio…"
      ]
     },
     "metadata": {},
     "output_type": "display_data"
    },
    {
     "data": {
      "application/vnd.jupyter.widget-view+json": {
       "model_id": "fe15ae2e3cb24a72ad95250fb7c2bf2e",
       "version_major": 2,
       "version_minor": 0
      },
      "text/plain": [
       "Container(figure=Figure(box_center=[0.5, 0.5, 0.5], box_size=[1.0, 1.0, 1.0], camera=PerspectiveCamera(fov=45.…"
      ]
     },
     "metadata": {},
     "output_type": "display_data"
    }
   ],
   "source": [
    "from datasci_tools import ipyvolume_utils as ipvu\n",
    "\n",
    "\"\"\"\n",
    "Purpose: Plot the mesh and the synapses\n",
    "\n",
    "Pseudocode: \n",
    "1) convert the \n",
    "\"\"\"\n",
    "syn_coords = syn_df[[f\"synapse_{k}\" for k in [\"x\",\"y\",\"z\"]]].to_numpy()\n",
    "\n",
    "ipvu.plot_objects(\n",
    "    mesh,\n",
    "    scatters=[syn_coords],\n",
    ")"
   ]
  },
  {
   "cell_type": "markdown",
   "id": "28ce7c0a",
   "metadata": {},
   "source": [
    "# Step 0: Setting Container to Save Results"
   ]
  },
  {
   "cell_type": "code",
   "execution_count": 12,
   "id": "624e7680",
   "metadata": {},
   "outputs": [
    {
     "data": {
      "text/plain": [
       "<datasci_tools.pipeline.PipelineProducts at 0x7f5c3be54850>"
      ]
     },
     "execution_count": 12,
     "metadata": {},
     "output_type": "execute_result"
    }
   ],
   "source": [
    "from datasci_tools import pipeline\n",
    "\n",
    "products = pipeline.PipelineProducts()\n",
    "products"
   ]
  },
  {
   "cell_type": "markdown",
   "id": "7a30c933",
   "metadata": {},
   "source": [
    "# Step 1: Decimation"
   ]
  },
  {
   "cell_type": "code",
   "execution_count": 13,
   "id": "29e0844f",
   "metadata": {},
   "outputs": [
    {
     "data": {
      "text/plain": [
       "\"\\nNOTE: an already decimated mesh is used for the example\\nin order to speed up time, that's why the mesh_dec\\nobject will be overwritten with original mesh object\\n\""
      ]
     },
     "execution_count": 13,
     "metadata": {},
     "output_type": "execute_result"
    }
   ],
   "source": [
    "\"\"\"\n",
    "NOTE: an already decimated mesh is used for the example\n",
    "in order to speed up time, that's why the mesh_dec\n",
    "object will be overwritten with original mesh object\n",
    "\"\"\""
   ]
  },
  {
   "cell_type": "code",
   "execution_count": 14,
   "id": "cdbb6e70",
   "metadata": {},
   "outputs": [],
   "source": [
    "decimation_parameters = dict(\n",
    "    decimation_ratio =0.25,\n",
    ")"
   ]
  },
  {
   "cell_type": "code",
   "execution_count": 15,
   "id": "b3973f2c",
   "metadata": {},
   "outputs": [
    {
     "name": "stdout",
     "output_type": "stream",
     "text": [
      "xvfb-run -n 6933 -s \"-screen 0 800x600x24\" meshlabserver $@  -i /NEURD/Applications/Tutorials/VDI_microns/temp/neuron_56751.off -o /NEURD/Applications/Tutorials/VDI_microns/temp/neuron_56751_decimated.off -s /NEURD/Applications/Tutorials/VDI_microns/temp/decimation_meshlab_2543293.mls\n"
     ]
    }
   ],
   "source": [
    "mesh_decimated = tu.decimate(\n",
    "    mesh,\n",
    "    **decimation_parameters\n",
    ")"
   ]
  },
  {
   "cell_type": "code",
   "execution_count": 16,
   "id": "bbf7c8d0",
   "metadata": {},
   "outputs": [
    {
     "name": "stdout",
     "output_type": "stream",
     "text": [
      "{\n",
      "  'decimation':\n",
      "  {\n",
      "    'decimation_parameters':\n",
      "    {\n",
      "      'decimation_ratio':0.25,\n",
      "    },\n",
      "    'segment_id':864691137198252609,\n",
      "  },\n",
      "}\n",
      "\n"
     ]
    }
   ],
   "source": [
    "# saving any parameters used or output products for later use\n",
    "products.set_stage_attrs(\n",
    "    stage = \"decimation\",\n",
    "    attr_dict = dict(\n",
    "        decimation_parameters = decimation_parameters,\n",
    "        segment_id = segment_id,\n",
    "    ),\n",
    "    \n",
    ")\n",
    "\n",
    "print(products)"
   ]
  },
  {
   "cell_type": "markdown",
   "id": "bc57fd52",
   "metadata": {},
   "source": [
    "# Step 2: Soma Identification"
   ]
  },
  {
   "cell_type": "code",
   "execution_count": 17,
   "id": "8866641c",
   "metadata": {},
   "outputs": [],
   "source": [
    "from neurd import soma_extraction_utils as sm\n",
    "soma_extraction_parameters = dict()"
   ]
  },
  {
   "cell_type": "code",
   "execution_count": 18,
   "id": "b65f18a1",
   "metadata": {},
   "outputs": [
    {
     "data": {
      "text/plain": [
       "{'glia_volume_threshold_in_um_global': 2500,\n",
       " 'glia_n_faces_threshold_global': 400000,\n",
       " 'glia_n_faces_min_global': 100000}"
      ]
     },
     "execution_count": 18,
     "metadata": {},
     "output_type": "execute_result"
    }
   ],
   "source": [
    "# could inspect the parameters of a certain category\n",
    "from neurd import parameter_utils as paru\n",
    "paru.category_param_from_module(\n",
    "        module = sm,\n",
    "        category = \"glia\",\n",
    ")"
   ]
  },
  {
   "cell_type": "code",
   "execution_count": 19,
   "id": "b6ff9777",
   "metadata": {
    "scrolled": true
   },
   "outputs": [
    {
     "name": "stdout",
     "output_type": "stream",
     "text": [
      "Current Arguments Using (adjusted for decimation):\n",
      " large_mesh_threshold= 5000.0 \n",
      "large_mesh_threshold_inner = 3250.0 \n",
      "soma_size_threshold = 562.5 \n",
      "soma_size_threshold_max = 75000.0\n",
      "outer_decimation_ratio = 0.25\n",
      "inner_decimation_ratio = 0.25\n",
      "max_mesh_sized_filtered_away = 22500.0\n",
      "xvfb-run -n 8634 -s \"-screen 0 800x600x24\" meshlabserver $@  -i /NEURD/Applications/Tutorials/VDI_microns/temp/neuron_98186.off -o /NEURD/Applications/Tutorials/VDI_microns/temp/neuron_98186_remove_interior.off -s /NEURD/Applications/Tutorials/VDI_microns/temp/remove_interior_220887.mls\n",
      "removed temporary input file: /NEURD/Applications/Tutorials/VDI_microns/temp/neuron_98186.off\n",
      "removed temporary output file: /NEURD/Applications/Tutorials/VDI_microns/temp/neuron_98186_remove_interior.off\n",
      "/NEURD/Applications/Tutorials/VDI_microns/temp/remove_interior_220887.mls is being deleted....\n",
      "There were 13 total interior meshes\n",
      "Pieces satisfying glia requirements (volume) (x >= 2500000000000): 0\n",
      "Pieces satisfying nuclie requirements: n_faces (700 <= x) and volume (x < 2500000000000) : 13\n",
      "inside remove_mesh_interior and using precomputed inside_pieces\n",
      "Removing the following inside neurons: [<trimesh.Trimesh(vertices.shape=(15652, 3), faces.shape=(33994, 3))>, <trimesh.Trimesh(vertices.shape=(1677, 3), faces.shape=(3886, 3))>, <trimesh.Trimesh(vertices.shape=(907, 3), faces.shape=(2044, 3))>, <trimesh.Trimesh(vertices.shape=(600, 3), faces.shape=(1349, 3))>, <trimesh.Trimesh(vertices.shape=(598, 3), faces.shape=(1328, 3))>]\n",
      "\n",
      "\n",
      "Original Mesh size: 1264407, Final mesh size: 1221772\n",
      "Total time = 97.73958897590637\n",
      "xvfb-run -n 7354 -s \"-screen 0 800x600x24\" meshlabserver $@  -i /NEURD/Applications/Tutorials/VDI_microns/12345/neuron_12345.off -o /NEURD/Applications/Tutorials/VDI_microns/12345/neuron_12345_decimated.off -s /NEURD/Applications/Tutorials/VDI_microns/12345/decimation_meshlab_25530498.mls\n",
      "Total found significant pieces before Poisson = [<trimesh.Trimesh(vertices.shape=(144058, 3), faces.shape=(284492, 3), name=`neuron_12345_decimated.off`)>]\n",
      "----- working on large mesh #0: <trimesh.Trimesh(vertices.shape=(144058, 3), faces.shape=(284492, 3), name=`neuron_12345_decimated.off`)>\n",
      "remove_inside_pieces requested \n",
      "xvfb-run -n 7572 -s \"-screen 0 800x600x24\" meshlabserver $@  -i /NEURD/Applications/Tutorials/VDI_microns/temp/neuron_53514.off -o /NEURD/Applications/Tutorials/VDI_microns/temp/neuron_53514_remove_interior.off -s /NEURD/Applications/Tutorials/VDI_microns/temp/remove_interior_950478.mls\n",
      "removed temporary input file: /NEURD/Applications/Tutorials/VDI_microns/temp/neuron_53514.off\n",
      "removed temporary output file: /NEURD/Applications/Tutorials/VDI_microns/temp/neuron_53514_remove_interior.off\n",
      "/NEURD/Applications/Tutorials/VDI_microns/temp/remove_interior_950478.mls is being deleted....\n",
      "No significant (1000) interior meshes present\n",
      "largest is 12\n",
      "pre_largest_mesh_path = /NEURD/Applications/Tutorials/VDI_microns/12345/neuron_12345_decimated_largest_piece.off\n",
      "xvfb-run -n 8439 -s \"-screen 0 800x600x24\" meshlabserver $@  -i /NEURD/Applications/Tutorials/VDI_microns/12345/neuron_12345_decimated_largest_piece.off -o /NEURD/Applications/Tutorials/VDI_microns/12345/neuron_12345_decimated_largest_piece_poisson.off -s /NEURD/Applications/Tutorials/VDI_microns/12345/poisson_75866.mls\n",
      "Total found significant pieces AFTER Poisson = [<trimesh.Trimesh(vertices.shape=(15457, 3), faces.shape=(30910, 3), name=`neuron_12345_decimated_largest_piece_poisson.off`)>]\n",
      "----- working on mesh after poisson #0: <trimesh.Trimesh(vertices.shape=(15457, 3), faces.shape=(30910, 3), name=`neuron_12345_decimated_largest_piece_poisson.off`)>\n",
      "xvfb-run -n 9444 -s \"-screen 0 800x600x24\" meshlabserver $@  -i /NEURD/Applications/Tutorials/VDI_microns/12345/neuron_12345_decimated_largest_piece_poisson_largest_inner.off -o /NEURD/Applications/Tutorials/VDI_microns/12345/neuron_12345_decimated_largest_piece_poisson_largest_inner_decimated.off -s /NEURD/Applications/Tutorials/VDI_microns/12345/decimation_meshlab_25147048.mls\n",
      "\n",
      "-------Splits after inner decimation len = 1--------\n",
      "\n",
      "done exporting decimated mesh: neuron_12345_decimated_largest_piece_poisson_largest_inner.off\n",
      "\n",
      "    --- On segmentation loop 0 --\n",
      "largest_mesh_path_inner_decimated_clean = <trimesh.Trimesh(vertices.shape=(3865, 3), faces.shape=(7726, 3), name=`neuron_12345_decimated_largest_piece_poisson_largest_inner_decimated.off`)>\n",
      "\n",
      "largest_mesh_path_inner_decimated_clean = <trimesh.Trimesh(vertices.shape=(3865, 3), faces.shape=(7726, 3), name=`neuron_12345_decimated_largest_piece_poisson_largest_inner_decimated.off`)>\n",
      "soma_size_threshold = 562.5\n",
      "soma_size_threshold_max = 75000.0\n",
      "soma_width_threshold = 0.32\n",
      "\n",
      "Number of segments: 9\n",
      "\n"
     ]
    },
    {
     "data": {
      "application/vnd.jupyter.widget-view+json": {
       "model_id": "732bf662c2714a28bb31f2f51e1ea2ad",
       "version_major": 2,
       "version_minor": 0
      },
      "text/plain": [
       "  0%|          | 0/9 [00:00<?, ?it/s]"
      ]
     },
     "metadata": {},
     "output_type": "display_data"
    },
    {
     "name": "stdout",
     "output_type": "stream",
     "text": [
      "      ------ Found 1 viable somas: [0.86286]\n",
      "Using Poisson Surface Reconstruction for watertightness in soma_volume_ratio\n",
      "xvfb-run -n 3027 -s \"-screen 0 800x600x24\" meshlabserver $@  -i /NEURD/Applications/Tutorials/VDI_microns/Poisson_temp/neuron_607448.off -o /NEURD/Applications/Tutorials/VDI_microns/Poisson_temp/neuron_607448_poisson.off -s /NEURD/Applications/Tutorials/VDI_microns/Poisson_temp/poisson_294388.mls\n",
      "removed temporary input file: /NEURD/Applications/Tutorials/VDI_microns/Poisson_temp/neuron_607448.off\n",
      "removed temporary output file: /NEURD/Applications/Tutorials/VDI_microns/Poisson_temp/neuron_607448_poisson.off\n",
      "mesh.is_watertight = True\n",
      "/NEURD/Applications/Tutorials/VDI_microns/Poisson_temp/poisson_294388.mls is being deleted....\n",
      "Inside sphere validater: ratio_val = 2.075305542328065\n",
      "\n",
      "\n",
      "\n",
      " Total time for run = 225.38344073295593\n",
      "Before Filtering the number of somas found = 1\n",
      "\n",
      "---Performing Soma Mesh Backtracking to original mesh for poisson soma 0\n",
      "backtrack_soma_size_threshold = 8000\n",
      "xvfb-run -n 3077 -s \"-screen 0 800x600x24\" meshlabserver $@  -i /NEURD/Applications/Tutorials/VDI_microns/temp/neuron_88609.off -o /NEURD/Applications/Tutorials/VDI_microns/temp/neuron_88609_fill_holes.off -s /NEURD/Applications/Tutorials/VDI_microns/temp/fill_holes_931371.mls\n",
      "\n",
      "---- meshlab output -----\n",
      "QStandardPaths: XDG_RUNTIME_DIR not set, defaulting to '/tmp/runtime-root'\n",
      "Current Plugins Dir is: /meshlab/src/distrib/plugins \n",
      "Error While parsing the XML filter plugin descriptors: We are trying to load a xml file that does not correspond to any dll or javascript code; please delete all the spurious xml files\n",
      "Error While parsing the XML filter plugin descriptors: We are trying to load a xml file that does not correspond to any dll or javascript code; please delete all the spurious xml files\n",
      "Opening a file with extention off\n",
      "FilterScript\n",
      "Reading filter with name Remove Duplicate Vertices\n",
      "Reading filter with name Remove Faces from Non Manifold Edges\n",
      "Reading filter with name Close Holes\n",
      "    Reading Param with name MaxHoleSize : RichInt\n",
      "    Reading Param with name Selected : RichBool\n",
      "    Reading Param with name NewFaceSelected : RichBool\n",
      "    Reading Param with name SelfIntersection : RichBool\n",
      "Loading Plugins:\n",
      "Total 105 filtering actions\n",
      "Total 1 io plugins\n",
      "Mesh /NEURD/Applications/Tutorials/VDI_microns/temp/neuron_88609.off loaded has 34053 vn 68829 fn\n",
      "output mesh  /NEURD/Applications/Tutorials/VDI_microns/temp/neuron_88609_fill_holes.off\n",
      "Apply FilterScript: '/NEURD/Applications/Tutorials/VDI_microns/temp/fill_holes_931371.mls'\n",
      "Starting Script of 3 actionsfilter: Remove Duplicate Vertices\n",
      "no additional memory available!!! memory required: 1643220\n",
      "LOG: 2 Removed 0 duplicated vertices\n",
      "Removed 0 duplicated vertices\n",
      "filter: Remove Faces from Non Manifold Edges\n",
      "no additional memory available!!! memory required: 1643220\n",
      "LOG: 2 Successfully removed 7485 non-manifold faces\n",
      "Removed 0 duplicated vertices\n",
      "Successfully removed 7485 non-manifold faces\n",
      "filter: Close Holes\n",
      "no additional memory available!!! memory required: 1553400\n",
      "meshlabserver: ../../../../vcglib/vcg/complex/algorithms/hole.h:259: bool vcg::tri::TrivialEar<MESH>::Close(vcg::tri::TrivialEar<MESH>::PosType&, vcg::tri::TrivialEar<MESH>::PosType&, vcg::tri::TrivialEar<MESH>::FaceType*) [with MESH = CMeshO; vcg::tri::TrivialEar<MESH>::PosType = vcg::face::Pos<CFaceO>; typename MeshType::FaceType = CFaceO; vcg::tri::TrivialEar<MESH>::FaceType = CFaceO]: Assertion `e1.v->IsUserBit(NonManifoldBit())' failed.\n",
      "Aborted\n",
      "\n",
      "\n",
      " returncode ====== 134\n",
      "\n",
      " ------ Done with meshlab output------\n",
      "/NEURD/Applications/Tutorials/VDI_microns/temp/fill_holes_931371.mls is being deleted....\n",
      "The hole closing did not work so continuing without\n",
      "xvfb-run -n 1732 -s \"-screen 0 800x600x24\" meshlabserver $@  -i /NEURD/Applications/Tutorials/VDI_microns/temp/neuron_35090.off -o /NEURD/Applications/Tutorials/VDI_microns/temp/neuron_35090_remove_interior.off -s /NEURD/Applications/Tutorials/VDI_microns/temp/remove_interior_806983.mls\n",
      "removed temporary input file: /NEURD/Applications/Tutorials/VDI_microns/temp/neuron_35090.off\n",
      "removed temporary output file: /NEURD/Applications/Tutorials/VDI_microns/temp/neuron_35090_remove_interior.off\n",
      "/NEURD/Applications/Tutorials/VDI_microns/temp/remove_interior_806983.mls is being deleted....\n",
      "Removing the following inside neurons: [<trimesh.Trimesh(vertices.shape=(6751, 3), faces.shape=(15696, 3), name=`neuron_35090_remove_interior.off`)>, <trimesh.Trimesh(vertices.shape=(1504, 3), faces.shape=(2994, 3), name=`neuron_35090_remove_interior.off`)>, <trimesh.Trimesh(vertices.shape=(898, 3), faces.shape=(1702, 3), name=`neuron_35090_remove_interior.off`)>, <trimesh.Trimesh(vertices.shape=(511, 3), faces.shape=(952, 3), name=`neuron_35090_remove_interior.off`)>]\n",
      "split_meshes_after_backtrack = [<trimesh.Trimesh(vertices.shape=(16645, 3), faces.shape=(33075, 3))>]\n",
      "soma_size_threshold = 8000\n",
      "After backtrack the found 1 possible somas: [<trimesh.Trimesh(vertices.shape=(16645, 3), faces.shape=(33075, 3))>] \n",
      "\n",
      "--- working on backtrack soma 0: <trimesh.Trimesh(vertices.shape=(16645, 3), faces.shape=(33075, 3))>\n",
      "poisson_backtrack_distance_threshold = None\n",
      "Using Poisson Surface Reconstruction for watertightness in soma_volume_ratio\n",
      "xvfb-run -n 2890 -s \"-screen 0 800x600x24\" meshlabserver $@  -i /NEURD/Applications/Tutorials/VDI_microns/Poisson_temp/neuron_738869.off -o /NEURD/Applications/Tutorials/VDI_microns/Poisson_temp/neuron_738869_poisson.off -s /NEURD/Applications/Tutorials/VDI_microns/Poisson_temp/poisson_854311.mls\n",
      "removed temporary input file: /NEURD/Applications/Tutorials/VDI_microns/Poisson_temp/neuron_738869.off\n",
      "removed temporary output file: /NEURD/Applications/Tutorials/VDI_microns/Poisson_temp/neuron_738869_poisson.off\n",
      "mesh.is_watertight = True\n",
      "/NEURD/Applications/Tutorials/VDI_microns/Poisson_temp/poisson_854311.mls is being deleted....\n",
      "Inside sphere validater: ratio_val = 3.1890936441763236\n",
      "About to add the following inside nuclei pieces after soma backtrack: [<trimesh.Trimesh(vertices.shape=(15681, 3), faces.shape=(34028, 3))>, <trimesh.Trimesh(vertices.shape=(1677, 3), faces.shape=(3886, 3))>, <trimesh.Trimesh(vertices.shape=(907, 3), faces.shape=(2044, 3))>, <trimesh.Trimesh(vertices.shape=(600, 3), faces.shape=(1349, 3))>, <trimesh.Trimesh(vertices.shape=(598, 3), faces.shape=(1328, 3))>]\n",
      "Skipping the segmentatio filter at end\n",
      "removing mesh interior before segmentation\n",
      "xvfb-run -n 724 -s \"-screen 0 800x600x24\" meshlabserver $@  -i /NEURD/Applications/Tutorials/VDI_microns/temp/neuron_9285.off -o /NEURD/Applications/Tutorials/VDI_microns/temp/neuron_9285_fill_holes.off -s /NEURD/Applications/Tutorials/VDI_microns/temp/fill_holes_827189.mls\n",
      "removed temporary input file: /NEURD/Applications/Tutorials/VDI_microns/temp/neuron_9285.off\n",
      "removed temporary output file: /NEURD/Applications/Tutorials/VDI_microns/temp/neuron_9285_fill_holes.off\n",
      "/NEURD/Applications/Tutorials/VDI_microns/temp/fill_holes_827189.mls is being deleted....\n",
      "xvfb-run -n 9070 -s \"-screen 0 800x600x24\" meshlabserver $@  -i /NEURD/Applications/Tutorials/VDI_microns/temp/neuron_88769.off -o /NEURD/Applications/Tutorials/VDI_microns/temp/neuron_88769_remove_interior.off -s /NEURD/Applications/Tutorials/VDI_microns/temp/remove_interior_244915.mls\n",
      "removed temporary input file: /NEURD/Applications/Tutorials/VDI_microns/temp/neuron_88769.off\n",
      "removed temporary output file: /NEURD/Applications/Tutorials/VDI_microns/temp/neuron_88769_remove_interior.off\n",
      "/NEURD/Applications/Tutorials/VDI_microns/temp/remove_interior_244915.mls is being deleted....\n",
      "No significant (1000) interior meshes present\n",
      "largest is 20\n",
      "Doing the soma segmentation filter at end\n",
      "\n",
      "Number of segments: 10\n",
      "\n"
     ]
    },
    {
     "data": {
      "application/vnd.jupyter.widget-view+json": {
       "model_id": "19beb8ce2f3b46c3b05c1e97f04039be",
       "version_major": 2,
       "version_minor": 0
      },
      "text/plain": [
       "  0%|          | 0/10 [00:00<?, ?it/s]"
      ]
     },
     "metadata": {},
     "output_type": "display_data"
    },
    {
     "name": "stdout",
     "output_type": "stream",
     "text": [
      "Largest hole before segmentation = 58008.09339792085, after = 272571.3444482195,\n",
      "\n",
      "ratio = 4.698850254885108, difference = 214563.25105029868\n",
      "filtered_soma_list_components = [<trimesh.Trimesh(vertices.shape=(16645, 3), faces.shape=(33075, 3))>]\n",
      "Not need to do a second pass because already found a soma\n"
     ]
    }
   ],
   "source": [
    "from neurd import neuron_visualizations as nviz\n",
    "\n",
    "verbose = True\n",
    "\n",
    "soma_products = sm.soma_indentification(\n",
    "    mesh_decimated,\n",
    "    verbose=verbose,\n",
    "    **soma_extraction_parameters\n",
    ")"
   ]
  },
  {
   "cell_type": "code",
   "execution_count": 20,
   "id": "6a79d754",
   "metadata": {},
   "outputs": [
    {
     "name": "stdout",
     "output_type": "stream",
     "text": [
      "# of somas = 1\n",
      "# of glia = 0\n",
      "# of nuclei = 9\n"
     ]
    },
    {
     "data": {
      "application/vnd.jupyter.widget-view+json": {
       "model_id": "1605a2128d55404ca94040d8d557853d",
       "version_major": 2,
       "version_minor": 0
      },
      "text/plain": [
       "Container(figure=Figure(box_center=[0.5, 0.5, 0.5], box_size=[1.0, 1.0, 1.0], camera=PerspectiveCamera(fov=45.…"
      ]
     },
     "metadata": {},
     "output_type": "display_data"
    }
   ],
   "source": [
    "sm.plot_soma_products(\n",
    "    mesh_decimated,\n",
    "    soma_products = soma_products,\n",
    "    verbose = True\n",
    ")"
   ]
  },
  {
   "cell_type": "code",
   "execution_count": 21,
   "id": "e43e9f14",
   "metadata": {},
   "outputs": [
    {
     "data": {
      "text/plain": [
       "<datasci_tools.pipeline.StageProducts at 0x7f5c3bcb51c0>"
      ]
     },
     "execution_count": 21,
     "metadata": {},
     "output_type": "execute_result"
    }
   ],
   "source": [
    "soma_products.soma_extraction_parameters = soma_extraction_parameters\n",
    "soma_products"
   ]
  },
  {
   "cell_type": "code",
   "execution_count": 22,
   "id": "a5056278",
   "metadata": {},
   "outputs": [
    {
     "name": "stdout",
     "output_type": "stream",
     "text": [
      "{\n",
      "  'decimation':\n",
      "  {\n",
      "    'decimation_parameters':\n",
      "    {\n",
      "      'decimation_ratio':0.25,\n",
      "    },\n",
      "    'segment_id':864691137198252609,\n",
      "  },\n",
      "  'soma_identification':\n",
      "  {\n",
      "    'glia_meshes':[],\n",
      "    'nuclei_meshes':[<trimesh.Trimesh(vertices.shape=(15681, 3), faces.shape=(34028, 3))>, <trimesh.Trimesh(vertices.shape=(1677, 3), faces.shape=(3886, 3))>, <trimesh.Trimesh(vertices.shape=(907, 3), faces.shape=(2044, 3))>, <trimesh.Trimesh(vertices.shape=(600, 3), faces.shape=(1349, 3))>, <trimesh.Trimesh(vertices.shape=(598, 3), faces.shape=(1328, 3))>, <trimesh.Trimesh(vertices.shape=(6751, 3), faces.shape=(15696, 3))>, <trimesh.Trimesh(vertices.shape=(1504, 3), faces.shape=(2994, 3))>, <trimesh.Trimesh(vertices.shape=(898, 3), faces.shape=(1702, 3))>, <trimesh.Trimesh(vertices.shape=(511, 3), faces.shape=(952, 3))>],\n",
      "    'soma_extraction_parameters':\n",
      "    {\n",
      "    },\n",
      "    'soma_meshes':[<trimesh.Trimesh(vertices.shape=(16645, 3), faces.shape=(33075, 3))>],\n",
      "    'soma_run_time':225.38343620300293,\n",
      "    'soma_sdfs':array([0.86286]),\n",
      "  },\n",
      "}\n",
      "\n"
     ]
    }
   ],
   "source": [
    "products.set_stage_attrs(\n",
    "    stage = \"soma_identification\",\n",
    "    attr_dict = soma_products,\n",
    ")\n",
    "\n",
    "print(products)"
   ]
  },
  {
   "cell_type": "markdown",
   "id": "da45be47",
   "metadata": {},
   "source": [
    "# Step 2b: Saving off pipeline products"
   ]
  },
  {
   "cell_type": "code",
   "execution_count": 23,
   "id": "c99ef858",
   "metadata": {},
   "outputs": [
    {
     "name": "stdout",
     "output_type": "stream",
     "text": [
      "Saved object at /NEURD/Applications/Tutorials/VDI_microns/products_up_to_soma_stage.pkl\n",
      "File size is 19.018161 MB\n",
      "Cleared mesh: <trimesh.Trimesh(vertices.shape=(15681, 3), faces.shape=(34028, 3))>:140033815377568\n",
      "Cleared mesh: <trimesh.Trimesh(vertices.shape=(1677, 3), faces.shape=(3886, 3))>:140033815298160\n",
      "Cleared mesh: <trimesh.Trimesh(vertices.shape=(907, 3), faces.shape=(2044, 3))>:140033806814464\n",
      "Cleared mesh: <trimesh.Trimesh(vertices.shape=(600, 3), faces.shape=(1349, 3))>:140033815376944\n",
      "Cleared mesh: <trimesh.Trimesh(vertices.shape=(598, 3), faces.shape=(1328, 3))>:140033815379392\n",
      "Cleared mesh: <trimesh.Trimesh(vertices.shape=(6751, 3), faces.shape=(15696, 3))>:140033456237248\n",
      "Cleared mesh: <trimesh.Trimesh(vertices.shape=(1504, 3), faces.shape=(2994, 3))>:140033456240144\n",
      "Cleared mesh: <trimesh.Trimesh(vertices.shape=(898, 3), faces.shape=(1702, 3))>:140033458037088\n",
      "Cleared mesh: <trimesh.Trimesh(vertices.shape=(511, 3), faces.shape=(952, 3))>:140033458039920\n",
      "Cleared mesh: <trimesh.Trimesh(vertices.shape=(16645, 3), faces.shape=(33075, 3))>:140033452036784\n"
     ]
    }
   ],
   "source": [
    "from datasci_tools import system_utils as su\n",
    "su.save_object(\n",
    "    products,\"products_up_to_soma_stage\"\n",
    ")"
   ]
  },
  {
   "cell_type": "markdown",
   "id": "bfdbcc82",
   "metadata": {},
   "source": [
    "# Step 3: Decomposition"
   ]
  },
  {
   "cell_type": "code",
   "execution_count": null,
   "id": "84193a27",
   "metadata": {},
   "outputs": [
    {
     "name": "stdout",
     "output_type": "stream",
     "text": [
      "--- 0) Having to preprocess the Neuron becuase no preprocessed data\n",
      "Please wait this could take a while.....\n",
      "Skipping the hole filling\n",
      "limb_remove_mesh_interior_face_threshold = 0\n",
      "use_meshafterparty = True\n",
      "Using pre-computed somas: soma_mesh_list = [<trimesh.Trimesh(vertices.shape=(16645, 3), faces.shape=(33075, 3))>]\n",
      "Soma List = [<trimesh.Trimesh(vertices.shape=(16645, 3), faces.shape=(33075, 3))>]\n",
      "soma_mesh_list_centers = [array([793840.75170922, 481099.37928507, 980586.79360769])]\n",
      "Getting Glia and Nuclei Pieces Subtracted Away 3.4734129905700684\n",
      " Splitting mesh after soma cancellation 9.202287435531616\n",
      "# of split_meshes = 25\n",
      " Containing Mesh Indices 0.7883341312408447\n",
      "containing_mesh_indices = {0: 0}\n",
      " non_soma_touching_meshes 0.0003299713134765625\n",
      "There were 24 pieces found after size threshold\n",
      " Finding inside pieces and non_soma_touching meshes 2.714883327484131\n",
      "soma_containing_meshes = {0: [0]}\n",
      "\n",
      "-----Before combining multiple mesh pieces-----\n",
      "soma_containing_meshes = {0: [0]}\n",
      "\n",
      "-----After combining multiple mesh pieces-----\n",
      "soma_containing_meshes = {0: [0]}\n",
      "\n",
      "\n",
      "----Working on soma-containing mesh piece 0----\n",
      "Total time for Subtract Soma and Original_mesh_faces_map for somas= 41.538769483566284\n"
     ]
    }
   ],
   "source": [
    "from neurd import neuron\n",
    "\n",
    "neuron_obj = neuron.Neuron(\n",
    "    mesh = mesh,\n",
    "    segment_id = segment_id, # don't need this explicitely if segment_id is already in products\n",
    "    pipeline_products = products,\n",
    "    suppress_preprocessing_print=False,\n",
    "    suppress_output=False,\n",
    ")\n",
    "\n",
    "neuron_obj"
   ]
  },
  {
   "cell_type": "code",
   "execution_count": null,
   "id": "5467bcfe",
   "metadata": {},
   "outputs": [],
   "source": [
    "nviz.visualize_neuron(\n",
    "    neuron_obj,\n",
    "    limb_branch_dict=\"all\"\n",
    ")"
   ]
  },
  {
   "cell_type": "markdown",
   "id": "0d43b744",
   "metadata": {},
   "source": [
    "# Calculate statistics"
   ]
  },
  {
   "cell_type": "code",
   "execution_count": null,
   "id": "cac08fd6",
   "metadata": {},
   "outputs": [],
   "source": [
    "decomp_products = neuron_obj.calculate_decomposition_products(\n",
    "    store_in_obj = True,\n",
    ")\n",
    "\n",
    "decomp_products"
   ]
  },
  {
   "cell_type": "code",
   "execution_count": null,
   "id": "fa148fc5",
   "metadata": {},
   "outputs": [],
   "source": [
    "print(neuron_obj.pipeline_products)"
   ]
  },
  {
   "cell_type": "markdown",
   "id": "d090f774",
   "metadata": {},
   "source": [
    "# Saving off neuron"
   ]
  },
  {
   "cell_type": "code",
   "execution_count": null,
   "id": "9486c4e6",
   "metadata": {},
   "outputs": [],
   "source": [
    "vdi.save_neuron_obj(\n",
    "    neuron_obj,\n",
    "    verbose = True\n",
    ")"
   ]
  },
  {
   "cell_type": "markdown",
   "id": "aa2fc99c",
   "metadata": {},
   "source": [
    "# Reloading the Neuron"
   ]
  },
  {
   "cell_type": "code",
   "execution_count": null,
   "id": "e6ce238a",
   "metadata": {},
   "outputs": [],
   "source": [
    "neuron_obj_rec = vdi.load_neuron_obj(\n",
    "    segment_id = segment_id,\n",
    "    #mesh_decimated = mesh_decimated\n",
    ")"
   ]
  },
  {
   "cell_type": "code",
   "execution_count": null,
   "id": "84734850",
   "metadata": {},
   "outputs": [],
   "source": [
    "print(neuron_obj_rec.pipeline_products)"
   ]
  },
  {
   "cell_type": "markdown",
   "id": "06b5f069",
   "metadata": {},
   "source": [
    "# Step 4A: Multi Soma Split Suggestions"
   ]
  },
  {
   "cell_type": "code",
   "execution_count": null,
   "id": "0729b033",
   "metadata": {},
   "outputs": [],
   "source": [
    "from neurd import neuron_visualizations as nviz\n",
    "nviz.plot_soma_limb_concept_network(\n",
    "    neuron_obj\n",
    ")"
   ]
  },
  {
   "cell_type": "code",
   "execution_count": null,
   "id": "3ea8a7ec",
   "metadata": {},
   "outputs": [],
   "source": [
    "multi_soma_split_parameters = dict()"
   ]
  },
  {
   "cell_type": "code",
   "execution_count": null,
   "id": "6b654969",
   "metadata": {},
   "outputs": [],
   "source": [
    "_ = neuron_obj.calculate_multi_soma_split_suggestions(\n",
    "    plot = True,\n",
    "    store_in_obj = True,\n",
    "    **multi_soma_split_parameters\n",
    ")\n"
   ]
  },
  {
   "cell_type": "code",
   "execution_count": null,
   "id": "a8012cfa",
   "metadata": {},
   "outputs": [],
   "source": [
    "neuron_obj.pipeline_products.multi_soma_split_suggestions.multi_soma_split_parameters = multi_soma_split_parameters"
   ]
  },
  {
   "cell_type": "markdown",
   "id": "2206b4cc",
   "metadata": {},
   "source": [
    "# Step 4B: Multi Soma Split Execution"
   ]
  },
  {
   "cell_type": "code",
   "execution_count": null,
   "id": "cc8bc52a",
   "metadata": {},
   "outputs": [],
   "source": [
    "neuron_list = neuron_obj.multi_soma_split_execution(\n",
    "    verbose = False,\n",
    ")"
   ]
  },
  {
   "cell_type": "code",
   "execution_count": null,
   "id": "1239884b",
   "metadata": {},
   "outputs": [],
   "source": [
    "n1 = neuron_list[0]\n",
    "print(n1.pipeline_products)"
   ]
  },
  {
   "cell_type": "markdown",
   "id": "a2dcd901",
   "metadata": {},
   "source": [
    "# Step 5: Cell Typing"
   ]
  },
  {
   "cell_type": "code",
   "execution_count": null,
   "id": "023dd7aa",
   "metadata": {},
   "outputs": [],
   "source": [
    "from neurd import neuron_pipeline_utils as npu"
   ]
  },
  {
   "cell_type": "code",
   "execution_count": null,
   "id": "b17ecdd9",
   "metadata": {},
   "outputs": [],
   "source": [
    "neuron_obj_axon = npu.cell_type_ax_dendr_stage(\n",
    "    n1,\n",
    "    mesh_decimated = mesh_decimated,\n",
    "    plot_axon = False,\n",
    ")"
   ]
  },
  {
   "cell_type": "code",
   "execution_count": null,
   "id": "ef29fb5b",
   "metadata": {},
   "outputs": [],
   "source": [
    "nviz.plot_axon(\n",
    "    neuron_obj_axon\n",
    ")"
   ]
  },
  {
   "cell_type": "markdown",
   "id": "e4359d09",
   "metadata": {},
   "source": [
    "# Autoproofreading Stage"
   ]
  },
  {
   "cell_type": "code",
   "execution_count": null,
   "id": "458fa42f",
   "metadata": {},
   "outputs": [],
   "source": [
    "neuron_obj_proof = npu.auto_proof_stage(\n",
    "    neuron_obj_axon,\n",
    "    mesh_decimated = mesh_decimated,\n",
    "    calculate_after_proof_stats = False,\n",
    ")"
   ]
  },
  {
   "cell_type": "code",
   "execution_count": null,
   "id": "c7e31a9e",
   "metadata": {},
   "outputs": [],
   "source": [
    "_ = npu.after_auto_proof_stats(\n",
    "    neuron_obj_proof,\n",
    "    store_in_obj = True,\n",
    ")"
   ]
  },
  {
   "cell_type": "markdown",
   "id": "86446328",
   "metadata": {},
   "source": [
    "# Saving off the autoproofread neuron"
   ]
  },
  {
   "cell_type": "code",
   "execution_count": null,
   "id": "fb8c945e",
   "metadata": {},
   "outputs": [],
   "source": [
    "vdi.save_neuron_obj_auto_proof(\n",
    "    neuron_obj_proof,\n",
    ")"
   ]
  },
  {
   "cell_type": "markdown",
   "id": "788253a7",
   "metadata": {},
   "source": [
    "# Plotting the final neuron"
   ]
  },
  {
   "cell_type": "code",
   "execution_count": null,
   "id": "96df2c4e",
   "metadata": {},
   "outputs": [],
   "source": [
    "from neurd import synapse_utils as syu"
   ]
  },
  {
   "cell_type": "code",
   "execution_count": null,
   "id": "6eb2997d",
   "metadata": {},
   "outputs": [],
   "source": [
    "from datasci_tools import ipyvolume_utils as ipvu\n",
    "ipvu.plot_objects(\n",
    "    neuron_obj_axon.mesh,\n",
    "    meshes = [neuron_obj_proof.mesh],\n",
    "    meshes_colors=\"red\"\n",
    ")"
   ]
  },
  {
   "cell_type": "code",
   "execution_count": null,
   "id": "60c5c168",
   "metadata": {},
   "outputs": [],
   "source": [
    "syu.plot_synapses(neuron_obj_proof)"
   ]
  },
  {
   "cell_type": "code",
   "execution_count": null,
   "id": "4069451e",
   "metadata": {},
   "outputs": [],
   "source": [
    "syu.plot_synapses_error_from_neuron_obj(neuron_obj_proof)    "
   ]
  },
  {
   "cell_type": "code",
   "execution_count": null,
   "id": "c3ba8212",
   "metadata": {},
   "outputs": [],
   "source": [
    "syu.plot_synapses_valid_from_neuron_obj(neuron_obj_proof)  "
   ]
  },
  {
   "cell_type": "code",
   "execution_count": null,
   "id": "a1174825",
   "metadata": {},
   "outputs": [],
   "source": [
    "nviz.plot_compartments(neuron_obj_proof)"
   ]
  }
 ],
 "metadata": {
  "kernelspec": {
   "display_name": "Python 3 (ipykernel)",
   "language": "python",
   "name": "python3"
  },
  "language_info": {
   "codemirror_mode": {
    "name": "ipython",
    "version": 3
   },
   "file_extension": ".py",
   "mimetype": "text/x-python",
   "name": "python",
   "nbconvert_exporter": "python",
   "pygments_lexer": "ipython3",
   "version": "3.8.0"
  }
 },
 "nbformat": 4,
 "nbformat_minor": 5
}
