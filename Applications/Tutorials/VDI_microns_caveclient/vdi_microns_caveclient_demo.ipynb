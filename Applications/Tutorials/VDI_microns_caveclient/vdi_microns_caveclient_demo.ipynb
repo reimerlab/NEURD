{
 "cells": [
  {
   "cell_type": "code",
   "execution_count": 1,
   "id": "ff1f7fe3",
   "metadata": {},
   "outputs": [],
   "source": [
    "%load_ext autoreload\n",
    "%autoreload 2"
   ]
  },
  {
   "cell_type": "code",
   "execution_count": 2,
   "id": "ba99eb93-3640-488f-aa29-c076ad4725ed",
   "metadata": {},
   "outputs": [
    {
     "data": {
      "text/plain": [
       "'\\nPurpose: To test the neuron decomposition pipeline using \\nthe vdi for microns that accesses the data through the caveclient\\n'"
      ]
     },
     "execution_count": 2,
     "metadata": {},
     "output_type": "execute_result"
    }
   ],
   "source": [
    "\"\"\"\n",
    "Purpose: To test the neuron decomposition pipeline using \n",
    "the vdi for microns that accesses the data through the caveclient\n",
    "\"\"\""
   ]
  },
  {
   "cell_type": "markdown",
   "id": "c37828ed-121b-4226-bfd6-222b051eeeb8",
   "metadata": {},
   "source": [
    "# Setting up the Cave Client"
   ]
  },
  {
   "cell_type": "code",
   "execution_count": 3,
   "id": "b15b74ac-04ed-41f9-a2f2-f1591ded26de",
   "metadata": {},
   "outputs": [],
   "source": [
    "from caveclient import CAVEclient\n",
    "client = CAVEclient()"
   ]
  },
  {
   "cell_type": "code",
   "execution_count": 5,
   "id": "f6fa3637-b1e2-4b63-8947-5d1d0105224f",
   "metadata": {},
   "outputs": [],
   "source": [
    "CAVE_TOKEN  = \"INSERT TOKEN HERE\"\n",
    "\n",
    "#this token is an example token but is not valid\n",
    "\n",
    "CAVE_TOKEN=\"ba0a1b546e9b87f402c5d8c1d1d45bca\" \n",
    "CAVE_TOKEN=\"ba0a1b546e9b87f402c5d8c1d1d45bca\""
   ]
  },
  {
   "cell_type": "code",
   "execution_count": 6,
   "id": "7ff6be2a-8663-4958-bf63-7054eb052b68",
   "metadata": {},
   "outputs": [],
   "source": [
    "# Saving the token to caveclient package and as a local env file\n",
    "try:\n",
    "    client.auth.save_token(token=CAVE_TOKEN,overwrite=True)\n",
    "except Exception as e:\n",
    "    print(e)\n",
    "\n",
    "filepath =\"./.env\" \n",
    "with open(filepath,\"w+\") as f:\n",
    "    f.write(f\"CAVE_TOKEN={CAVE_TOKEN}\")"
   ]
  },
  {
   "cell_type": "markdown",
   "id": "e0621252-b718-4042-91b3-a8b856d61cda",
   "metadata": {},
   "source": [
    "# Importing the VDI with microns_cave interface\n"
   ]
  },
  {
   "cell_type": "code",
   "execution_count": 7,
   "id": "2a1322eb-4a5f-41ae-879a-c5097364b156",
   "metadata": {},
   "outputs": [
    {
     "name": "stdout",
     "output_type": "stream",
     "text": [
      "Jupyter environment detected. Enabling Open3D WebVisualizer.\n",
      "[Open3D INFO] WebRTC GUI backend enabled.\n",
      "[Open3D INFO] WebRTCWindowSystem: HTTP handshake server disabled.\n"
     ]
    },
    {
     "data": {
      "text/plain": [
       "<neurd.cave_client_utils.CaveInterface at 0x7fe3ce2b40d0>"
      ]
     },
     "execution_count": 7,
     "metadata": {},
     "output_type": "execute_result"
    }
   ],
   "source": [
    "from neurd.cave_interface import CaveInterface\n",
    "from pathlib import Path\n",
    "\n",
    "client = CaveInterface(\n",
    "    \"minnie65_public\",\n",
    "    env_filepath=Path(filepath).absolute()\n",
    ")\n",
    "client"
   ]
  },
  {
   "cell_type": "markdown",
   "id": "71b85c1d-6b5a-4c5e-9982-05f630cad273",
   "metadata": {},
   "source": [
    "# Accessing the data with the Cave Interface (we are just checking to make sure cave client access is working, lines of code not necessary for VDI to function)"
   ]
  },
  {
   "cell_type": "code",
   "execution_count": 8,
   "id": "cd621be2-ee16-4e3f-806f-b605acdee057",
   "metadata": {},
   "outputs": [
    {
     "name": "stderr",
     "output_type": "stream",
     "text": [
      "\n",
      "KeyboardInterrupt\n",
      "\n"
     ]
    }
   ],
   "source": [
    "client.materialize.tables"
   ]
  },
  {
   "cell_type": "code",
   "execution_count": null,
   "id": "2d87e269-31a5-4521-aaf1-330e85100eda",
   "metadata": {},
   "outputs": [],
   "source": [
    "nucleus_seg_ids = client.segment_ids_with_nucleus()\n",
    "nucleus_seg_ids[:10]"
   ]
  },
  {
   "cell_type": "code",
   "execution_count": null,
   "id": "f20d172f-d031-4997-8fcc-3c536835fb63",
   "metadata": {},
   "outputs": [],
   "source": [
    "# finding a segement id from the nuclues id\n",
    "nucleus_id = 197805\n",
    "\n",
    "nuc_df = client.neuron_nucleus_df()\n",
    "seg_id = nuc_df.query(\n",
    "    f\"id_ref=={nucleus_id}\")[\n",
    "    \"pt_root_id\"].to_list()[0]\n",
    "seg_id"
   ]
  },
  {
   "cell_type": "code",
   "execution_count": null,
   "id": "a534f472-3e51-4c05-b693-fccaae989b39",
   "metadata": {},
   "outputs": [],
   "source": [
    "# downloading the mesh\n",
    "mesh = client.mesh_from_seg_id(\n",
    "    seg_id\n",
    ")"
   ]
  },
  {
   "cell_type": "code",
   "execution_count": null,
   "id": "ca6aee94-bca7-405a-8c7a-76dbb1714308",
   "metadata": {},
   "outputs": [],
   "source": [
    "# downloading the synapses\n",
    "syn_df = client.pre_post_df_from_seg_id(seg_id)\n",
    "syn_df"
   ]
  },
  {
   "cell_type": "markdown",
   "id": "be992837-9250-4bc2-9039-37a172ef9521",
   "metadata": {},
   "source": [
    "# Using the VDI Microns Cave"
   ]
  },
  {
   "cell_type": "code",
   "execution_count": null,
   "id": "324e4275-ae61-4389-bd34-ce256bb59915",
   "metadata": {},
   "outputs": [],
   "source": [
    "# assumes your caveclient token is stored in an env file\n",
    "from neurd.vdi_microns_cave import volume_data_interface as vdi"
   ]
  },
  {
   "cell_type": "code",
   "execution_count": null,
   "id": "220ad6ba",
   "metadata": {},
   "outputs": [],
   "source": [
    "segment_id = 864691135502491741\n",
    "syn_df = vdi.segment_id_to_synapse_df(segment_id)\n",
    "syn_df"
   ]
  },
  {
   "cell_type": "code",
   "execution_count": null,
   "id": "09a73270",
   "metadata": {},
   "outputs": [],
   "source": [
    "syn_dict = vdi.segment_id_to_synapse_dict(segment_id)"
   ]
  },
  {
   "cell_type": "code",
   "execution_count": null,
   "id": "d7572240",
   "metadata": {
    "scrolled": true
   },
   "outputs": [],
   "source": [
    "syn_dict['presyn'][\"synapse_coordinates\"]"
   ]
  },
  {
   "cell_type": "code",
   "execution_count": null,
   "id": "7d9c62e3-4e01-4ae0-8aae-583353d79a7c",
   "metadata": {},
   "outputs": [],
   "source": [
    "vdi.client.segment_ids_with_nucleus()"
   ]
  },
  {
   "cell_type": "code",
   "execution_count": null,
   "id": "1d1591a1-5ee2-4afd-b318-801a7bb73311",
   "metadata": {},
   "outputs": [],
   "source": [
    "vdi.voxel_to_nm_scaling"
   ]
  },
  {
   "cell_type": "markdown",
   "id": "02beb81f-23a2-4ce2-bc3f-cd1e5e75c5cb",
   "metadata": {},
   "source": [
    "# Neuron Preprocessing Pipeline"
   ]
  },
  {
   "cell_type": "code",
   "execution_count": null,
   "id": "4e24d0a7-30ea-48c7-8de1-8c34a45ddb2f",
   "metadata": {},
   "outputs": [],
   "source": [
    "from mesh_tools import trimesh_utils as tu\n",
    "from datasci_tools import ipyvolume_utils as ipvu\n",
    "from neurd import neuron_visualizations as nviz"
   ]
  },
  {
   "cell_type": "code",
   "execution_count": null,
   "id": "e27ecc67-541e-4adb-85a6-9220ee474f1a",
   "metadata": {},
   "outputs": [],
   "source": [
    "segment_id = 864691135502491741"
   ]
  },
  {
   "cell_type": "markdown",
   "id": "f6299109-222e-4d87-9e63-6cdd4e6b7156",
   "metadata": {},
   "source": [
    "# Step 0: Loading Mesh"
   ]
  },
  {
   "cell_type": "code",
   "execution_count": null,
   "id": "03ed1bf3-62db-4ea2-b269-dacc9a9a8295",
   "metadata": {},
   "outputs": [],
   "source": [
    "mesh = vdi.fetch_segment_id_mesh(\n",
    "    segment_id,\n",
    "    plot = False\n",
    ")\n",
    "mesh"
   ]
  },
  {
   "cell_type": "code",
   "execution_count": null,
   "id": "06d77614-f674-4b93-a60b-89b4bf99e6c1",
   "metadata": {},
   "outputs": [],
   "source": [
    "from datasci_tools import pipeline\n",
    "\n",
    "products = pipeline.PipelineProducts()\n",
    "products"
   ]
  },
  {
   "cell_type": "markdown",
   "id": "f0086e61",
   "metadata": {},
   "source": [
    "# Step 0.1 (optional): Visualizing Synapses with Mesh"
   ]
  },
  {
   "cell_type": "code",
   "execution_count": null,
   "id": "db96277a",
   "metadata": {},
   "outputs": [],
   "source": [
    "syn_dict = vdi.segment_id_to_synapse_dict(segment_id)"
   ]
  },
  {
   "cell_type": "code",
   "execution_count": null,
   "id": "1264ae47",
   "metadata": {},
   "outputs": [],
   "source": [
    "from datasci_tools import ipyvolume_utils as ipvu\n",
    "ipvu.plot_objects(\n",
    "    mesh,\n",
    "    scatters = [\n",
    "        syn_dict[\"postsyn\"][\"synapse_coordinates\"],\n",
    "        syn_dict[\"presyn\"][\"synapse_coordinates\"]\n",
    "    ],\n",
    "    scatters_colors=[\"blue\",\"yellow\"]\n",
    ")"
   ]
  },
  {
   "cell_type": "markdown",
   "id": "a2913cdc-726c-4646-bafd-b4418ddbf7ef",
   "metadata": {},
   "source": [
    "# Step 1: Decimation"
   ]
  },
  {
   "cell_type": "code",
   "execution_count": null,
   "id": "8eba61b0-5da6-44c0-b603-f724c495ec14",
   "metadata": {},
   "outputs": [],
   "source": [
    "decimation_parameters = dict(\n",
    "    decimation_ratio =0.25,\n",
    ")"
   ]
  },
  {
   "cell_type": "code",
   "execution_count": null,
   "id": "05768a97-a909-4401-95ad-f5d2cc536dee",
   "metadata": {},
   "outputs": [],
   "source": [
    "mesh_decimated = tu.decimate(\n",
    "    mesh,\n",
    "    **decimation_parameters\n",
    ")"
   ]
  },
  {
   "cell_type": "code",
   "execution_count": null,
   "id": "ccc97938-122b-4269-bf66-f463b5ab2124",
   "metadata": {},
   "outputs": [],
   "source": [
    "ipvu.plot_objects(mesh_decimated)"
   ]
  },
  {
   "cell_type": "code",
   "execution_count": null,
   "id": "66f9e498-c575-4c17-98fc-588975dfb0cd",
   "metadata": {},
   "outputs": [],
   "source": [
    "# saving any parameters used or output products for later use\n",
    "products.set_stage_attrs(\n",
    "    stage = \"decimation\",\n",
    "    attr_dict = dict(\n",
    "        decimation_parameters = decimation_parameters,\n",
    "        segment_id = segment_id,\n",
    "    ),\n",
    "    \n",
    ")\n",
    "\n",
    "print(products)"
   ]
  },
  {
   "cell_type": "markdown",
   "id": "f029c3ab-cc06-49e8-9e61-e6b9df99291d",
   "metadata": {},
   "source": [
    "# Step 2: Soma Identification"
   ]
  },
  {
   "cell_type": "code",
   "execution_count": null,
   "id": "8866641c",
   "metadata": {},
   "outputs": [],
   "source": [
    "from neurd import soma_extraction_utils as sm\n",
    "soma_extraction_parameters = dict()"
   ]
  },
  {
   "cell_type": "code",
   "execution_count": null,
   "id": "b65f18a1",
   "metadata": {},
   "outputs": [],
   "source": [
    "# could inspect the parameters of a certain category\n",
    "from neurd import parameter_utils as paru\n",
    "paru.category_param_from_module(\n",
    "        module = sm,\n",
    "        category = \"glia\",\n",
    ")"
   ]
  },
  {
   "cell_type": "code",
   "execution_count": null,
   "id": "24667352",
   "metadata": {},
   "outputs": [],
   "source": [
    "# overwritting decimated mesh because original was already decimated\n",
    "mesh_decimated = mesh"
   ]
  },
  {
   "cell_type": "code",
   "execution_count": null,
   "id": "b6ff9777",
   "metadata": {},
   "outputs": [],
   "source": [
    "from neurd import neuron_visualizations as nviz\n",
    "\n",
    "verbose = True\n",
    "\n",
    "soma_products = sm.soma_indentification(\n",
    "    mesh_decimated,\n",
    "    verbose=verbose,\n",
    "    **soma_extraction_parameters\n",
    ")"
   ]
  },
  {
   "cell_type": "code",
   "execution_count": null,
   "id": "6a79d754",
   "metadata": {},
   "outputs": [],
   "source": [
    "sm.plot_soma_products(\n",
    "    mesh_decimated,\n",
    "    soma_products = soma_products,\n",
    "    verbose = True\n",
    ")"
   ]
  },
  {
   "cell_type": "code",
   "execution_count": null,
   "id": "e43e9f14",
   "metadata": {},
   "outputs": [],
   "source": [
    "soma_products.soma_extraction_parameters = soma_extraction_parameters\n",
    "soma_products"
   ]
  },
  {
   "cell_type": "code",
   "execution_count": null,
   "id": "a5056278",
   "metadata": {},
   "outputs": [],
   "source": [
    "products.set_stage_attrs(\n",
    "    stage = \"soma_identification\",\n",
    "    attr_dict = soma_products,\n",
    ")\n",
    "\n",
    "print(products)"
   ]
  },
  {
   "cell_type": "markdown",
   "id": "da45be47",
   "metadata": {},
   "source": [
    "# Step 2b: Saving off pipeline products"
   ]
  },
  {
   "cell_type": "code",
   "execution_count": null,
   "id": "c99ef858",
   "metadata": {},
   "outputs": [],
   "source": [
    "from datasci_tools import system_utils as su\n",
    "su.save_object(\n",
    "    products,\"products_up_to_soma_stage\"\n",
    ")"
   ]
  },
  {
   "cell_type": "markdown",
   "id": "bfdbcc82",
   "metadata": {},
   "source": [
    "# Step 3: Decomposition"
   ]
  },
  {
   "cell_type": "code",
   "execution_count": null,
   "id": "84193a27",
   "metadata": {},
   "outputs": [],
   "source": [
    "from neurd import neuron\n",
    "\n",
    "neuron_obj = neuron.Neuron(\n",
    "    mesh = mesh,\n",
    "    segment_id = segment_id, # don't need this explicitely if segment_id is already in products\n",
    "    pipeline_products = products,\n",
    "    suppress_preprocessing_print=False,\n",
    "    suppress_output=False,\n",
    ")\n",
    "\n",
    "neuron_obj"
   ]
  },
  {
   "cell_type": "code",
   "execution_count": null,
   "id": "5467bcfe",
   "metadata": {},
   "outputs": [],
   "source": [
    "nviz.visualize_neuron(\n",
    "    neuron_obj,\n",
    "    limb_branch_dict=\"all\"\n",
    ")"
   ]
  },
  {
   "cell_type": "markdown",
   "id": "0d43b744",
   "metadata": {},
   "source": [
    "# Calculate statistics"
   ]
  },
  {
   "cell_type": "code",
   "execution_count": null,
   "id": "cac08fd6",
   "metadata": {},
   "outputs": [],
   "source": [
    "decomp_products = neuron_obj.calculate_decomposition_products(\n",
    "    store_in_obj = True,\n",
    ")\n",
    "\n",
    "decomp_products"
   ]
  },
  {
   "cell_type": "code",
   "execution_count": null,
   "id": "fa148fc5",
   "metadata": {},
   "outputs": [],
   "source": [
    "print(neuron_obj.pipeline_products)"
   ]
  },
  {
   "cell_type": "markdown",
   "id": "d090f774",
   "metadata": {},
   "source": [
    "# Saving off neuron"
   ]
  },
  {
   "cell_type": "code",
   "execution_count": null,
   "id": "9486c4e6",
   "metadata": {},
   "outputs": [],
   "source": [
    "vdi.save_neuron_obj(\n",
    "    neuron_obj,\n",
    "    verbose = True\n",
    ")"
   ]
  },
  {
   "cell_type": "markdown",
   "id": "aa2fc99c",
   "metadata": {},
   "source": [
    "# Reloading the Neuron"
   ]
  },
  {
   "cell_type": "code",
   "execution_count": null,
   "id": "e6ce238a",
   "metadata": {},
   "outputs": [],
   "source": [
    "neuron_obj_rec = vdi.load_neuron_obj(\n",
    "    segment_id = segment_id,\n",
    "    #mesh_decimated = mesh_decimated\n",
    ")"
   ]
  },
  {
   "cell_type": "code",
   "execution_count": null,
   "id": "84734850",
   "metadata": {},
   "outputs": [],
   "source": [
    "print(neuron_obj_rec.pipeline_products)"
   ]
  },
  {
   "cell_type": "markdown",
   "id": "06b5f069",
   "metadata": {},
   "source": [
    "# Step 4A: Multi Soma Split Suggestions"
   ]
  },
  {
   "cell_type": "code",
   "execution_count": null,
   "id": "0729b033",
   "metadata": {},
   "outputs": [],
   "source": [
    "from neurd import neuron_visualizations as nviz\n",
    "nviz.plot_soma_limb_concept_network(\n",
    "    neuron_obj\n",
    ")"
   ]
  },
  {
   "cell_type": "code",
   "execution_count": null,
   "id": "3ea8a7ec",
   "metadata": {},
   "outputs": [],
   "source": [
    "multi_soma_split_parameters = dict()"
   ]
  },
  {
   "cell_type": "code",
   "execution_count": null,
   "id": "6b654969",
   "metadata": {},
   "outputs": [],
   "source": [
    "_ = neuron_obj.calculate_multi_soma_split_suggestions(\n",
    "    plot = True,\n",
    "    store_in_obj = True,\n",
    "    **multi_soma_split_parameters\n",
    ")\n"
   ]
  },
  {
   "cell_type": "code",
   "execution_count": null,
   "id": "a8012cfa",
   "metadata": {},
   "outputs": [],
   "source": [
    "neuron_obj.pipeline_products.multi_soma_split_suggestions.multi_soma_split_parameters = multi_soma_split_parameters"
   ]
  },
  {
   "cell_type": "markdown",
   "id": "2206b4cc",
   "metadata": {},
   "source": [
    "# Step 4B: Multi Soma Split Execution"
   ]
  },
  {
   "cell_type": "code",
   "execution_count": null,
   "id": "cc8bc52a",
   "metadata": {},
   "outputs": [],
   "source": [
    "neuron_list = neuron_obj.multi_soma_split_execution(\n",
    "    verbose = False,\n",
    ")"
   ]
  },
  {
   "cell_type": "code",
   "execution_count": null,
   "id": "1239884b",
   "metadata": {},
   "outputs": [],
   "source": [
    "n1 = neuron_list[0]\n",
    "print(n1.pipeline_products)"
   ]
  },
  {
   "cell_type": "markdown",
   "id": "a2dcd901",
   "metadata": {},
   "source": [
    "# Step 5: Cell Typing"
   ]
  },
  {
   "cell_type": "code",
   "execution_count": null,
   "id": "023dd7aa",
   "metadata": {},
   "outputs": [],
   "source": [
    "from neurd import neuron_pipeline_utils as npu"
   ]
  },
  {
   "cell_type": "code",
   "execution_count": null,
   "id": "b17ecdd9",
   "metadata": {},
   "outputs": [],
   "source": [
    "neuron_obj_axon = npu.cell_type_ax_dendr_stage(\n",
    "    n1,\n",
    "    mesh_decimated = mesh_decimated,\n",
    "    plot_axon = False,\n",
    ")"
   ]
  },
  {
   "cell_type": "code",
   "execution_count": null,
   "id": "ef29fb5b",
   "metadata": {},
   "outputs": [],
   "source": [
    "nviz.plot_axon(\n",
    "    neuron_obj_axon\n",
    ")"
   ]
  },
  {
   "cell_type": "markdown",
   "id": "e4359d09",
   "metadata": {},
   "source": [
    "# Autoproofreading Stage"
   ]
  },
  {
   "cell_type": "code",
   "execution_count": null,
   "id": "458fa42f",
   "metadata": {},
   "outputs": [],
   "source": [
    "neuron_obj_proof = npu.auto_proof_stage(\n",
    "    neuron_obj_axon,\n",
    "    mesh_decimated = mesh_decimated,\n",
    "    calculate_after_proof_stats = False,\n",
    ")"
   ]
  },
  {
   "cell_type": "code",
   "execution_count": null,
   "id": "c7e31a9e",
   "metadata": {},
   "outputs": [],
   "source": [
    "_ = npu.after_auto_proof_stats(\n",
    "    neuron_obj_proof,\n",
    "    store_in_obj = True,\n",
    ")"
   ]
  },
  {
   "cell_type": "markdown",
   "id": "86446328",
   "metadata": {},
   "source": [
    "# Saving off the autoproofread neuron"
   ]
  },
  {
   "cell_type": "code",
   "execution_count": null,
   "id": "fb8c945e",
   "metadata": {},
   "outputs": [],
   "source": [
    "vdi.save_neuron_obj_auto_proof(\n",
    "    neuron_obj_proof,\n",
    ")"
   ]
  },
  {
   "cell_type": "markdown",
   "id": "788253a7",
   "metadata": {},
   "source": [
    "# Plotting the final neuron"
   ]
  },
  {
   "cell_type": "code",
   "execution_count": null,
   "id": "96df2c4e",
   "metadata": {},
   "outputs": [],
   "source": [
    "from neurd import synapse_utils as syu"
   ]
  },
  {
   "cell_type": "code",
   "execution_count": null,
   "id": "6eb2997d",
   "metadata": {},
   "outputs": [],
   "source": [
    "from datasci_tools import ipyvolume_utils as ipvu\n",
    "ipvu.plot_objects(\n",
    "    neuron_obj_axon.mesh,\n",
    "    meshes = [neuron_obj_proof.mesh],\n",
    "    meshes_colors=\"red\"\n",
    ")"
   ]
  },
  {
   "cell_type": "code",
   "execution_count": null,
   "id": "60c5c168",
   "metadata": {},
   "outputs": [],
   "source": [
    "syu.plot_synapses(neuron_obj_proof)"
   ]
  },
  {
   "cell_type": "code",
   "execution_count": null,
   "id": "4069451e",
   "metadata": {},
   "outputs": [],
   "source": [
    "syu.plot_synapses_error_from_neuron_obj(neuron_obj_proof)    "
   ]
  },
  {
   "cell_type": "code",
   "execution_count": null,
   "id": "c3ba8212",
   "metadata": {},
   "outputs": [],
   "source": [
    "syu.plot_synapses_valid_from_neuron_obj(neuron_obj_proof)  "
   ]
  },
  {
   "cell_type": "code",
   "execution_count": null,
   "id": "a1174825",
   "metadata": {},
   "outputs": [],
   "source": [
    "nviz.plot_compartments(neuron_obj_proof)"
   ]
  },
  {
   "cell_type": "code",
   "execution_count": null,
   "id": "40ae6bf2-f1d3-4523-a9f1-b3567c362293",
   "metadata": {},
   "outputs": [],
   "source": [
    "from neurd import soma_extraction_utils as sm\n",
    "soma_extraction_parameters = dict()\n",
    "\n",
    "# could inspect the parameters of a certain category\n",
    "from neurd import parameter_utils as paru\n",
    "paru.category_param_from_module(\n",
    "        module = sm,\n",
    "        category = \"glia\",\n",
    ")\n",
    "\n",
    "# overwritting decimated mesh because original was already decimated\n",
    "mesh_decimated = mesh\n",
    "\n",
    "from neurd import neuron_visualizations as nviz\n",
    "\n",
    "verbose = True\n",
    "\n",
    "soma_products = sm.soma_indentification(\n",
    "    mesh_decimated,\n",
    "    verbose=verbose,\n",
    "    **soma_extraction_parameters\n",
    ")\n",
    "\n",
    "sm.plot_soma_products(\n",
    "    mesh_decimated,\n",
    "    soma_products = soma_products,\n",
    "    verbose = True\n",
    ")\n",
    "\n",
    "soma_products.soma_extraction_parameters = soma_extraction_parameters\n",
    "soma_products\n",
    "\n",
    "products.set_stage_attrs(\n",
    "    stage = \"soma_identification\",\n",
    "    attr_dict = soma_products,\n",
    ")\n",
    "\n",
    "print(products)\n",
    "\n",
    "# Step 2b: Saving off pipeline products\n",
    "\n",
    "from datasci_tools import system_utils as su\n",
    "su.save_object(\n",
    "    products,\"products_up_to_soma_stage\"\n",
    ")\n",
    "\n",
    "# Step 3: Decomposition\n",
    "\n",
    "from neurd import neuron\n",
    "\n",
    "neuron_obj = neuron.Neuron(\n",
    "    mesh = mesh,\n",
    "    segment_id = segment_id, # don't need this explicitely if segment_id is already in products\n",
    "    pipeline_products = products,\n",
    "    suppress_preprocessing_print=False,\n",
    "    suppress_output=False,\n",
    ")\n",
    "\n",
    "neuron_obj\n",
    "\n",
    "nviz.visualize_neuron(\n",
    "    neuron_obj,\n",
    "    limb_branch_dict=\"all\"\n",
    ")\n",
    "\n",
    "# Calculate statistics\n",
    "\n",
    "decomp_products = neuron_obj.calculate_decomposition_products(\n",
    "    store_in_obj = True,\n",
    ")\n",
    "\n",
    "decomp_products\n",
    "\n",
    "print(neuron_obj.pipeline_products)\n",
    "\n",
    "# Saving off neuron\n",
    "\n",
    "vdi.save_neuron_obj(\n",
    "    neuron_obj,\n",
    "    verbose = True\n",
    ")\n",
    "\n",
    "# Reloading the Neuron\n",
    "\n",
    "neuron_obj_rec = vdi.load_neuron_obj(\n",
    "    segment_id = segment_id,\n",
    "    #mesh_decimated = mesh_decimated\n",
    ")\n",
    "\n",
    "print(neuron_obj_rec.pipeline_products)\n",
    "\n",
    "# Step 4A: Multi Soma Split Suggestions\n",
    "\n",
    "from neurd import neuron_visualizations as nviz\n",
    "nviz.plot_soma_limb_concept_network(\n",
    "    neuron_obj\n",
    ")\n",
    "\n",
    "multi_soma_split_parameters = dict()\n",
    "\n",
    "_ = neuron_obj.calculate_multi_soma_split_suggestions(\n",
    "    plot = True,\n",
    "    store_in_obj = True,\n",
    "    **multi_soma_split_parameters\n",
    ")\n",
    "\n",
    "\n",
    "neuron_obj.pipeline_products.multi_soma_split_suggestions.multi_soma_split_parameters = multi_soma_split_parameters\n",
    "\n",
    "# Step 4B: Multi Soma Split Execution\n",
    "\n",
    "neuron_list = neuron_obj.multi_soma_split_execution(\n",
    "    verbose = False,\n",
    ")\n",
    "\n",
    "n1 = neuron_list[0]\n",
    "print(n1.pipeline_products)\n",
    "\n",
    "# Step 5: Cell Typing\n",
    "\n",
    "from neurd import neuron_pipeline_utils as npu\n",
    "\n",
    "neuron_obj_axon = npu.cell_type_ax_dendr_stage(\n",
    "    n1,\n",
    "    mesh_decimated = mesh_decimated,\n",
    "    plot_axon = False,\n",
    ")\n",
    "\n",
    "nviz.plot_axon(\n",
    "    neuron_obj_axon\n",
    ")\n",
    "\n",
    "# Autoproofreading Stage\n",
    "\n",
    "neuron_obj_proof = npu.auto_proof_stage(\n",
    "    neuron_obj_axon,\n",
    "    mesh_decimated = mesh_decimated,\n",
    "    calculate_after_proof_stats = False,\n",
    ")\n",
    "\n",
    "_ = npu.after_auto_proof_stats(\n",
    "    neuron_obj_proof,\n",
    "    store_in_obj = True,\n",
    ")\n",
    "\n",
    "# Saving off the autoproofread neuron\n",
    "\n",
    "vdi.save_neuron_obj_auto_proof(\n",
    "    neuron_obj_proof,\n",
    ")\n",
    "\n",
    "# Plotting the final neuron\n",
    "\n",
    "from neurd import synapse_utils as syu\n",
    "\n",
    "from datasci_tools import ipyvolume_utils as ipvu\n",
    "ipvu.plot_objects(\n",
    "    neuron_obj_axon.mesh,\n",
    "    meshes = [neuron_obj_proof.mesh],\n",
    "    meshes_colors=\"red\"\n",
    ")\n",
    "\n",
    "syu.plot_synapses(neuron_obj_proof)\n",
    "\n",
    "syu.plot_synapses_error_from_neuron_obj(neuron_obj_proof)    \n",
    "\n",
    "syu.plot_synapses_valid_from_neuron_obj(neuron_obj_proof)  \n",
    "\n",
    "nviz.plot_compartments(neuron_obj_proof)"
   ]
  }
 ],
 "metadata": {
  "kernelspec": {
   "display_name": "Python 3 (ipykernel)",
   "language": "python",
   "name": "python3"
  },
  "language_info": {
   "codemirror_mode": {
    "name": "ipython",
    "version": 3
   },
   "file_extension": ".py",
   "mimetype": "text/x-python",
   "name": "python",
   "nbconvert_exporter": "python",
   "pygments_lexer": "ipython3",
   "version": "3.8.0"
  }
 },
 "nbformat": 4,
 "nbformat_minor": 5
}
