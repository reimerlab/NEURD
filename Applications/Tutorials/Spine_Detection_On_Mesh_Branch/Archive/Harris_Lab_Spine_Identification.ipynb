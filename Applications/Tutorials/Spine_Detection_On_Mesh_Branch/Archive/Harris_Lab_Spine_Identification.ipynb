{
 "cells": [
  {
   "cell_type": "code",
   "execution_count": 1,
   "metadata": {},
   "outputs": [
    {
     "data": {
      "text/plain": [
       "'\\nPurpose: To run spine detection on a generic mesh\\n'"
      ]
     },
     "execution_count": 1,
     "metadata": {},
     "output_type": "execute_result"
    }
   ],
   "source": [
    "\"\"\"\n",
    "Purpose: To run spine detection on a generic mesh\n",
    "\"\"\""
   ]
  },
  {
   "cell_type": "code",
   "execution_count": 2,
   "metadata": {},
   "outputs": [],
   "source": [
    "%load_ext autoreload\n",
    "%autoreload 2"
   ]
  },
  {
   "cell_type": "code",
   "execution_count": 3,
   "metadata": {},
   "outputs": [],
   "source": [
    "from os import sys\n",
    "sys.path.append(\"/datasci_tools/datasci_tools/\")\n",
    "sys.path.append(\"/meshAfterParty/meshAfterParty/\")\n",
    "sys.path.append(\"/machine_learning_tools/machine_learning_tools/\")\n",
    "sys.path.append(\"/neuron_morphology_tools/neuron_morphology_tools/\")"
   ]
  },
  {
   "cell_type": "code",
   "execution_count": 4,
   "metadata": {},
   "outputs": [
    {
     "data": {
      "application/javascript": [
       "\n",
       "(function(root) {\n",
       "  function now() {\n",
       "    return new Date();\n",
       "  }\n",
       "\n",
       "  var force = true;\n",
       "\n",
       "  if (typeof root._bokeh_onload_callbacks === \"undefined\" || force === true) {\n",
       "    root._bokeh_onload_callbacks = [];\n",
       "    root._bokeh_is_loading = undefined;\n",
       "  }\n",
       "\n",
       "  if (typeof (root._bokeh_timeout) === \"undefined\" || force === true) {\n",
       "    root._bokeh_timeout = Date.now() + 5000;\n",
       "    root._bokeh_failed_load = false;\n",
       "  }\n",
       "\n",
       "  function run_callbacks() {\n",
       "    try {\n",
       "      root._bokeh_onload_callbacks.forEach(function(callback) {\n",
       "        if (callback != null)\n",
       "          callback();\n",
       "      });\n",
       "    } finally {\n",
       "      delete root._bokeh_onload_callbacks\n",
       "    }\n",
       "    console.debug(\"Bokeh: all callbacks have finished\");\n",
       "  }\n",
       "\n",
       "  function load_libs(css_urls, js_urls, js_modules, callback) {\n",
       "    if (css_urls == null) css_urls = [];\n",
       "    if (js_urls == null) js_urls = [];\n",
       "    if (js_modules == null) js_modules = [];\n",
       "\n",
       "    root._bokeh_onload_callbacks.push(callback);\n",
       "    if (root._bokeh_is_loading > 0) {\n",
       "      console.debug(\"Bokeh: BokehJS is being loaded, scheduling callback at\", now());\n",
       "      return null;\n",
       "    }\n",
       "    if (js_urls.length === 0 && js_modules.length === 0) {\n",
       "      run_callbacks();\n",
       "      return null;\n",
       "    }\n",
       "    console.debug(\"Bokeh: BokehJS not loaded, scheduling load and callback at\", now());\n",
       "    root._bokeh_is_loading = css_urls.length + js_urls.length + js_modules.length;\n",
       "\n",
       "    function on_load() {\n",
       "      root._bokeh_is_loading--;\n",
       "      if (root._bokeh_is_loading === 0) {\n",
       "        console.debug(\"Bokeh: all BokehJS libraries/stylesheets loaded\");\n",
       "        run_callbacks()\n",
       "      }\n",
       "    }\n",
       "\n",
       "    function on_error() {\n",
       "      console.error(\"failed to load \" + url);\n",
       "    }\n",
       "\n",
       "    for (var i = 0; i < css_urls.length; i++) {\n",
       "      var url = css_urls[i];\n",
       "      const element = document.createElement(\"link\");\n",
       "      element.onload = on_load;\n",
       "      element.onerror = on_error;\n",
       "      element.rel = \"stylesheet\";\n",
       "      element.type = \"text/css\";\n",
       "      element.href = url;\n",
       "      console.debug(\"Bokeh: injecting link tag for BokehJS stylesheet: \", url);\n",
       "      document.body.appendChild(element);\n",
       "    }\n",
       "\n",
       "    var skip = [];\n",
       "    if (window.requirejs) {\n",
       "      window.requirejs.config({'packages': {}, 'paths': {'vtk': 'https://unpkg.com/vtk.js@14.16.4/dist/vtk'}, 'shim': {'vtk': {'exports': 'vtk'}}});\n",
       "      \n",
       "      require([\"vtk\"], function() {\n",
       "\twindow. = \n",
       "      })\n",
       "      \n",
       "    }\n",
       "    if (((window['vtk'] !== undefined) && (!(window['vtk'] instanceof HTMLElement))) || window.requirejs) {\n",
       "      var urls = ['https://unpkg.com/vtk.js@14.16.4/dist/vtk.js'];\n",
       "      for (var i = 0; i < urls.length; i++) {\n",
       "        skip.push(urls[i])\n",
       "      }\n",
       "    }\n",
       "    for (var i = 0; i < js_urls.length; i++) {\n",
       "      var url = js_urls[i];\n",
       "      if (skip.indexOf(url) >= 0) { on_load(); continue; }\n",
       "      var element = document.createElement('script');\n",
       "      element.onload = on_load;\n",
       "      element.onerror = on_error;\n",
       "      element.async = false;\n",
       "      element.src = url;\n",
       "      console.debug(\"Bokeh: injecting script tag for BokehJS library: \", url);\n",
       "      document.head.appendChild(element);\n",
       "    }\n",
       "    for (var i = 0; i < js_modules.length; i++) {\n",
       "      var url = js_modules[i];\n",
       "      if (skip.indexOf(url) >= 0) { on_load(); continue; }\n",
       "      var element = document.createElement('script');\n",
       "      element.onload = on_load;\n",
       "      element.onerror = on_error;\n",
       "      element.async = false;\n",
       "      element.src = url;\n",
       "      element.type = \"module\";\n",
       "      console.debug(\"Bokeh: injecting script tag for BokehJS library: \", url);\n",
       "      document.head.appendChild(element);\n",
       "    }\n",
       "    if (!js_urls.length && !js_modules.length) {\n",
       "      on_load()\n",
       "    }\n",
       "  };\n",
       "\n",
       "  function inject_raw_css(css) {\n",
       "    const element = document.createElement(\"style\");\n",
       "    element.appendChild(document.createTextNode(css));\n",
       "    document.body.appendChild(element);\n",
       "  }\n",
       "\n",
       "  var js_urls = [\"https://unpkg.com/vtk.js@14.16.4/dist/vtk.js\", \"https://cdn.bokeh.org/bokeh/release/bokeh-2.3.3.min.js\", \"https://cdn.bokeh.org/bokeh/release/bokeh-widgets-2.3.3.min.js\", \"https://cdn.bokeh.org/bokeh/release/bokeh-tables-2.3.3.min.js\", \"https://unpkg.com/@holoviz/panel@0.12.1/dist/panel.min.js\"];\n",
       "  var js_modules = [];\n",
       "  var css_urls = [\"https://unpkg.com/@holoviz/panel@0.12.1/dist/css/widgets.css\", \"https://unpkg.com/@holoviz/panel@0.12.1/dist/css/loading.css\", \"https://unpkg.com/@holoviz/panel@0.12.1/dist/css/json.css\", \"https://unpkg.com/@holoviz/panel@0.12.1/dist/css/alerts.css\", \"https://unpkg.com/@holoviz/panel@0.12.1/dist/css/card.css\", \"https://unpkg.com/@holoviz/panel@0.12.1/dist/css/markdown.css\", \"https://unpkg.com/@holoviz/panel@0.12.1/dist/css/dataframe.css\"];\n",
       "  var inline_js = [\n",
       "    function(Bokeh) {\n",
       "      inject_raw_css(\"\\n    .bk.pn-loading.arcs:before {\\n      background-image: url(\\\"data:image/svg+xml;base64,PHN2ZyB4bWxucz0iaHR0cDovL3d3dy53My5vcmcvMjAwMC9zdmciIHhtbG5zOnhsaW5rPSJodHRwOi8vd3d3LnczLm9yZy8xOTk5L3hsaW5rIiBzdHlsZT0ibWFyZ2luOiBhdXRvOyBiYWNrZ3JvdW5kOiBub25lOyBkaXNwbGF5OiBibG9jazsgc2hhcGUtcmVuZGVyaW5nOiBhdXRvOyIgdmlld0JveD0iMCAwIDEwMCAxMDAiIHByZXNlcnZlQXNwZWN0UmF0aW89InhNaWRZTWlkIj4gIDxjaXJjbGUgY3g9IjUwIiBjeT0iNTAiIHI9IjMyIiBzdHJva2Utd2lkdGg9IjgiIHN0cm9rZT0iI2MzYzNjMyIgc3Ryb2tlLWRhc2hhcnJheT0iNTAuMjY1NDgyNDU3NDM2NjkgNTAuMjY1NDgyNDU3NDM2NjkiIGZpbGw9Im5vbmUiIHN0cm9rZS1saW5lY2FwPSJyb3VuZCI+ICAgIDxhbmltYXRlVHJhbnNmb3JtIGF0dHJpYnV0ZU5hbWU9InRyYW5zZm9ybSIgdHlwZT0icm90YXRlIiByZXBlYXRDb3VudD0iaW5kZWZpbml0ZSIgZHVyPSIxcyIga2V5VGltZXM9IjA7MSIgdmFsdWVzPSIwIDUwIDUwOzM2MCA1MCA1MCI+PC9hbmltYXRlVHJhbnNmb3JtPiAgPC9jaXJjbGU+PC9zdmc+\\\")\\n    }\\n    \");\n",
       "    },\n",
       "    function(Bokeh) {\n",
       "      Bokeh.set_log_level(\"info\");\n",
       "    },\n",
       "    function(Bokeh) {} // ensure no trailing comma for IE\n",
       "  ];\n",
       "\n",
       "  function run_inline_js() {\n",
       "    if ((root.Bokeh !== undefined) || (force === true)) {\n",
       "      for (var i = 0; i < inline_js.length; i++) {\n",
       "        inline_js[i].call(root, root.Bokeh);\n",
       "      }} else if (Date.now() < root._bokeh_timeout) {\n",
       "      setTimeout(run_inline_js, 100);\n",
       "    } else if (!root._bokeh_failed_load) {\n",
       "      console.log(\"Bokeh: BokehJS failed to load within specified timeout.\");\n",
       "      root._bokeh_failed_load = true;\n",
       "    }\n",
       "  }\n",
       "\n",
       "  if (root._bokeh_is_loading === 0) {\n",
       "    console.debug(\"Bokeh: BokehJS loaded, going straight to plotting\");\n",
       "    run_inline_js();\n",
       "  } else {\n",
       "    load_libs(css_urls, js_urls, js_modules, function() {\n",
       "      console.debug(\"Bokeh: BokehJS plotting callback run at\", now());\n",
       "      run_inline_js();\n",
       "    });\n",
       "  }\n",
       "}(window));"
      ],
      "application/vnd.holoviews_load.v0+json": "\n(function(root) {\n  function now() {\n    return new Date();\n  }\n\n  var force = true;\n\n  if (typeof root._bokeh_onload_callbacks === \"undefined\" || force === true) {\n    root._bokeh_onload_callbacks = [];\n    root._bokeh_is_loading = undefined;\n  }\n\n  if (typeof (root._bokeh_timeout) === \"undefined\" || force === true) {\n    root._bokeh_timeout = Date.now() + 5000;\n    root._bokeh_failed_load = false;\n  }\n\n  function run_callbacks() {\n    try {\n      root._bokeh_onload_callbacks.forEach(function(callback) {\n        if (callback != null)\n          callback();\n      });\n    } finally {\n      delete root._bokeh_onload_callbacks\n    }\n    console.debug(\"Bokeh: all callbacks have finished\");\n  }\n\n  function load_libs(css_urls, js_urls, js_modules, callback) {\n    if (css_urls == null) css_urls = [];\n    if (js_urls == null) js_urls = [];\n    if (js_modules == null) js_modules = [];\n\n    root._bokeh_onload_callbacks.push(callback);\n    if (root._bokeh_is_loading > 0) {\n      console.debug(\"Bokeh: BokehJS is being loaded, scheduling callback at\", now());\n      return null;\n    }\n    if (js_urls.length === 0 && js_modules.length === 0) {\n      run_callbacks();\n      return null;\n    }\n    console.debug(\"Bokeh: BokehJS not loaded, scheduling load and callback at\", now());\n    root._bokeh_is_loading = css_urls.length + js_urls.length + js_modules.length;\n\n    function on_load() {\n      root._bokeh_is_loading--;\n      if (root._bokeh_is_loading === 0) {\n        console.debug(\"Bokeh: all BokehJS libraries/stylesheets loaded\");\n        run_callbacks()\n      }\n    }\n\n    function on_error() {\n      console.error(\"failed to load \" + url);\n    }\n\n    for (var i = 0; i < css_urls.length; i++) {\n      var url = css_urls[i];\n      const element = document.createElement(\"link\");\n      element.onload = on_load;\n      element.onerror = on_error;\n      element.rel = \"stylesheet\";\n      element.type = \"text/css\";\n      element.href = url;\n      console.debug(\"Bokeh: injecting link tag for BokehJS stylesheet: \", url);\n      document.body.appendChild(element);\n    }\n\n    var skip = [];\n    if (window.requirejs) {\n      window.requirejs.config({'packages': {}, 'paths': {'vtk': 'https://unpkg.com/vtk.js@14.16.4/dist/vtk'}, 'shim': {'vtk': {'exports': 'vtk'}}});\n      \n      require([\"vtk\"], function() {\n\twindow. = \n      })\n      \n    }\n    if (((window['vtk'] !== undefined) && (!(window['vtk'] instanceof HTMLElement))) || window.requirejs) {\n      var urls = ['https://unpkg.com/vtk.js@14.16.4/dist/vtk.js'];\n      for (var i = 0; i < urls.length; i++) {\n        skip.push(urls[i])\n      }\n    }\n    for (var i = 0; i < js_urls.length; i++) {\n      var url = js_urls[i];\n      if (skip.indexOf(url) >= 0) { on_load(); continue; }\n      var element = document.createElement('script');\n      element.onload = on_load;\n      element.onerror = on_error;\n      element.async = false;\n      element.src = url;\n      console.debug(\"Bokeh: injecting script tag for BokehJS library: \", url);\n      document.head.appendChild(element);\n    }\n    for (var i = 0; i < js_modules.length; i++) {\n      var url = js_modules[i];\n      if (skip.indexOf(url) >= 0) { on_load(); continue; }\n      var element = document.createElement('script');\n      element.onload = on_load;\n      element.onerror = on_error;\n      element.async = false;\n      element.src = url;\n      element.type = \"module\";\n      console.debug(\"Bokeh: injecting script tag for BokehJS library: \", url);\n      document.head.appendChild(element);\n    }\n    if (!js_urls.length && !js_modules.length) {\n      on_load()\n    }\n  };\n\n  function inject_raw_css(css) {\n    const element = document.createElement(\"style\");\n    element.appendChild(document.createTextNode(css));\n    document.body.appendChild(element);\n  }\n\n  var js_urls = [\"https://unpkg.com/vtk.js@14.16.4/dist/vtk.js\", \"https://cdn.bokeh.org/bokeh/release/bokeh-2.3.3.min.js\", \"https://cdn.bokeh.org/bokeh/release/bokeh-widgets-2.3.3.min.js\", \"https://cdn.bokeh.org/bokeh/release/bokeh-tables-2.3.3.min.js\", \"https://unpkg.com/@holoviz/panel@0.12.1/dist/panel.min.js\"];\n  var js_modules = [];\n  var css_urls = [\"https://unpkg.com/@holoviz/panel@0.12.1/dist/css/widgets.css\", \"https://unpkg.com/@holoviz/panel@0.12.1/dist/css/loading.css\", \"https://unpkg.com/@holoviz/panel@0.12.1/dist/css/json.css\", \"https://unpkg.com/@holoviz/panel@0.12.1/dist/css/alerts.css\", \"https://unpkg.com/@holoviz/panel@0.12.1/dist/css/card.css\", \"https://unpkg.com/@holoviz/panel@0.12.1/dist/css/markdown.css\", \"https://unpkg.com/@holoviz/panel@0.12.1/dist/css/dataframe.css\"];\n  var inline_js = [\n    function(Bokeh) {\n      inject_raw_css(\"\\n    .bk.pn-loading.arcs:before {\\n      background-image: url(\\\"data:image/svg+xml;base64,PHN2ZyB4bWxucz0iaHR0cDovL3d3dy53My5vcmcvMjAwMC9zdmciIHhtbG5zOnhsaW5rPSJodHRwOi8vd3d3LnczLm9yZy8xOTk5L3hsaW5rIiBzdHlsZT0ibWFyZ2luOiBhdXRvOyBiYWNrZ3JvdW5kOiBub25lOyBkaXNwbGF5OiBibG9jazsgc2hhcGUtcmVuZGVyaW5nOiBhdXRvOyIgdmlld0JveD0iMCAwIDEwMCAxMDAiIHByZXNlcnZlQXNwZWN0UmF0aW89InhNaWRZTWlkIj4gIDxjaXJjbGUgY3g9IjUwIiBjeT0iNTAiIHI9IjMyIiBzdHJva2Utd2lkdGg9IjgiIHN0cm9rZT0iI2MzYzNjMyIgc3Ryb2tlLWRhc2hhcnJheT0iNTAuMjY1NDgyNDU3NDM2NjkgNTAuMjY1NDgyNDU3NDM2NjkiIGZpbGw9Im5vbmUiIHN0cm9rZS1saW5lY2FwPSJyb3VuZCI+ICAgIDxhbmltYXRlVHJhbnNmb3JtIGF0dHJpYnV0ZU5hbWU9InRyYW5zZm9ybSIgdHlwZT0icm90YXRlIiByZXBlYXRDb3VudD0iaW5kZWZpbml0ZSIgZHVyPSIxcyIga2V5VGltZXM9IjA7MSIgdmFsdWVzPSIwIDUwIDUwOzM2MCA1MCA1MCI+PC9hbmltYXRlVHJhbnNmb3JtPiAgPC9jaXJjbGU+PC9zdmc+\\\")\\n    }\\n    \");\n    },\n    function(Bokeh) {\n      Bokeh.set_log_level(\"info\");\n    },\n    function(Bokeh) {} // ensure no trailing comma for IE\n  ];\n\n  function run_inline_js() {\n    if ((root.Bokeh !== undefined) || (force === true)) {\n      for (var i = 0; i < inline_js.length; i++) {\n        inline_js[i].call(root, root.Bokeh);\n      }} else if (Date.now() < root._bokeh_timeout) {\n      setTimeout(run_inline_js, 100);\n    } else if (!root._bokeh_failed_load) {\n      console.log(\"Bokeh: BokehJS failed to load within specified timeout.\");\n      root._bokeh_failed_load = true;\n    }\n  }\n\n  if (root._bokeh_is_loading === 0) {\n    console.debug(\"Bokeh: BokehJS loaded, going straight to plotting\");\n    run_inline_js();\n  } else {\n    load_libs(css_urls, js_urls, js_modules, function() {\n      console.debug(\"Bokeh: BokehJS plotting callback run at\", now());\n      run_inline_js();\n    });\n  }\n}(window));"
     },
     "metadata": {},
     "output_type": "display_data"
    },
    {
     "data": {
      "application/javascript": [
       "\n",
       "if ((window.PyViz === undefined) || (window.PyViz instanceof HTMLElement)) {\n",
       "  window.PyViz = {comms: {}, comm_status:{}, kernels:{}, receivers: {}, plot_index: []}\n",
       "}\n",
       "\n",
       "\n",
       "    function JupyterCommManager() {\n",
       "    }\n",
       "\n",
       "    JupyterCommManager.prototype.register_target = function(plot_id, comm_id, msg_handler) {\n",
       "      if (window.comm_manager || ((window.Jupyter !== undefined) && (Jupyter.notebook.kernel != null))) {\n",
       "        var comm_manager = window.comm_manager || Jupyter.notebook.kernel.comm_manager;\n",
       "        comm_manager.register_target(comm_id, function(comm) {\n",
       "          comm.on_msg(msg_handler);\n",
       "        });\n",
       "      } else if ((plot_id in window.PyViz.kernels) && (window.PyViz.kernels[plot_id])) {\n",
       "        window.PyViz.kernels[plot_id].registerCommTarget(comm_id, function(comm) {\n",
       "          comm.onMsg = msg_handler;\n",
       "        });\n",
       "      } else if (typeof google != 'undefined' && google.colab.kernel != null) {\n",
       "        google.colab.kernel.comms.registerTarget(comm_id, (comm) => {\n",
       "          var messages = comm.messages[Symbol.asyncIterator]();\n",
       "          function processIteratorResult(result) {\n",
       "            var message = result.value;\n",
       "            console.log(message)\n",
       "            var content = {data: message.data, comm_id};\n",
       "            var buffers = []\n",
       "            for (var buffer of message.buffers || []) {\n",
       "              buffers.push(new DataView(buffer))\n",
       "            }\n",
       "            var metadata = message.metadata || {};\n",
       "            var msg = {content, buffers, metadata}\n",
       "            msg_handler(msg);\n",
       "            return messages.next().then(processIteratorResult);\n",
       "          }\n",
       "          return messages.next().then(processIteratorResult);\n",
       "        })\n",
       "      }\n",
       "    }\n",
       "\n",
       "    JupyterCommManager.prototype.get_client_comm = function(plot_id, comm_id, msg_handler) {\n",
       "      if (comm_id in window.PyViz.comms) {\n",
       "        return window.PyViz.comms[comm_id];\n",
       "      } else if (window.comm_manager || ((window.Jupyter !== undefined) && (Jupyter.notebook.kernel != null))) {\n",
       "        var comm_manager = window.comm_manager || Jupyter.notebook.kernel.comm_manager;\n",
       "        var comm = comm_manager.new_comm(comm_id, {}, {}, {}, comm_id);\n",
       "        if (msg_handler) {\n",
       "          comm.on_msg(msg_handler);\n",
       "        }\n",
       "      } else if ((plot_id in window.PyViz.kernels) && (window.PyViz.kernels[plot_id])) {\n",
       "        var comm = window.PyViz.kernels[plot_id].connectToComm(comm_id);\n",
       "        comm.open();\n",
       "        if (msg_handler) {\n",
       "          comm.onMsg = msg_handler;\n",
       "        }\n",
       "      } else if (typeof google != 'undefined' && google.colab.kernel != null) {\n",
       "        var comm_promise = google.colab.kernel.comms.open(comm_id)\n",
       "        comm_promise.then((comm) => {\n",
       "          window.PyViz.comms[comm_id] = comm;\n",
       "          if (msg_handler) {\n",
       "            var messages = comm.messages[Symbol.asyncIterator]();\n",
       "            function processIteratorResult(result) {\n",
       "              var message = result.value;\n",
       "              var content = {data: message.data};\n",
       "              var metadata = message.metadata || {comm_id};\n",
       "              var msg = {content, metadata}\n",
       "              msg_handler(msg);\n",
       "              return messages.next().then(processIteratorResult);\n",
       "            }\n",
       "            return messages.next().then(processIteratorResult);\n",
       "          }\n",
       "        }) \n",
       "        var sendClosure = (data, metadata, buffers, disposeOnDone) => {\n",
       "          return comm_promise.then((comm) => {\n",
       "            comm.send(data, metadata, buffers, disposeOnDone);\n",
       "          });\n",
       "        };\n",
       "        var comm = {\n",
       "          send: sendClosure\n",
       "        };\n",
       "      }\n",
       "      window.PyViz.comms[comm_id] = comm;\n",
       "      return comm;\n",
       "    }\n",
       "    window.PyViz.comm_manager = new JupyterCommManager();\n",
       "    \n",
       "\n",
       "\n",
       "var JS_MIME_TYPE = 'application/javascript';\n",
       "var HTML_MIME_TYPE = 'text/html';\n",
       "var EXEC_MIME_TYPE = 'application/vnd.holoviews_exec.v0+json';\n",
       "var CLASS_NAME = 'output';\n",
       "\n",
       "/**\n",
       " * Render data to the DOM node\n",
       " */\n",
       "function render(props, node) {\n",
       "  var div = document.createElement(\"div\");\n",
       "  var script = document.createElement(\"script\");\n",
       "  node.appendChild(div);\n",
       "  node.appendChild(script);\n",
       "}\n",
       "\n",
       "/**\n",
       " * Handle when a new output is added\n",
       " */\n",
       "function handle_add_output(event, handle) {\n",
       "  var output_area = handle.output_area;\n",
       "  var output = handle.output;\n",
       "  if ((output.data == undefined) || (!output.data.hasOwnProperty(EXEC_MIME_TYPE))) {\n",
       "    return\n",
       "  }\n",
       "  var id = output.metadata[EXEC_MIME_TYPE][\"id\"];\n",
       "  var toinsert = output_area.element.find(\".\" + CLASS_NAME.split(' ')[0]);\n",
       "  if (id !== undefined) {\n",
       "    var nchildren = toinsert.length;\n",
       "    var html_node = toinsert[nchildren-1].children[0];\n",
       "    html_node.innerHTML = output.data[HTML_MIME_TYPE];\n",
       "    var scripts = [];\n",
       "    var nodelist = html_node.querySelectorAll(\"script\");\n",
       "    for (var i in nodelist) {\n",
       "      if (nodelist.hasOwnProperty(i)) {\n",
       "        scripts.push(nodelist[i])\n",
       "      }\n",
       "    }\n",
       "\n",
       "    scripts.forEach( function (oldScript) {\n",
       "      var newScript = document.createElement(\"script\");\n",
       "      var attrs = [];\n",
       "      var nodemap = oldScript.attributes;\n",
       "      for (var j in nodemap) {\n",
       "        if (nodemap.hasOwnProperty(j)) {\n",
       "          attrs.push(nodemap[j])\n",
       "        }\n",
       "      }\n",
       "      attrs.forEach(function(attr) { newScript.setAttribute(attr.name, attr.value) });\n",
       "      newScript.appendChild(document.createTextNode(oldScript.innerHTML));\n",
       "      oldScript.parentNode.replaceChild(newScript, oldScript);\n",
       "    });\n",
       "    if (JS_MIME_TYPE in output.data) {\n",
       "      toinsert[nchildren-1].children[1].textContent = output.data[JS_MIME_TYPE];\n",
       "    }\n",
       "    output_area._hv_plot_id = id;\n",
       "    if ((window.Bokeh !== undefined) && (id in Bokeh.index)) {\n",
       "      window.PyViz.plot_index[id] = Bokeh.index[id];\n",
       "    } else {\n",
       "      window.PyViz.plot_index[id] = null;\n",
       "    }\n",
       "  } else if (output.metadata[EXEC_MIME_TYPE][\"server_id\"] !== undefined) {\n",
       "    var bk_div = document.createElement(\"div\");\n",
       "    bk_div.innerHTML = output.data[HTML_MIME_TYPE];\n",
       "    var script_attrs = bk_div.children[0].attributes;\n",
       "    for (var i = 0; i < script_attrs.length; i++) {\n",
       "      toinsert[toinsert.length - 1].childNodes[1].setAttribute(script_attrs[i].name, script_attrs[i].value);\n",
       "    }\n",
       "    // store reference to server id on output_area\n",
       "    output_area._bokeh_server_id = output.metadata[EXEC_MIME_TYPE][\"server_id\"];\n",
       "  }\n",
       "}\n",
       "\n",
       "/**\n",
       " * Handle when an output is cleared or removed\n",
       " */\n",
       "function handle_clear_output(event, handle) {\n",
       "  var id = handle.cell.output_area._hv_plot_id;\n",
       "  var server_id = handle.cell.output_area._bokeh_server_id;\n",
       "  if (((id === undefined) || !(id in PyViz.plot_index)) && (server_id !== undefined)) { return; }\n",
       "  var comm = window.PyViz.comm_manager.get_client_comm(\"hv-extension-comm\", \"hv-extension-comm\", function () {});\n",
       "  if (server_id !== null) {\n",
       "    comm.send({event_type: 'server_delete', 'id': server_id});\n",
       "    return;\n",
       "  } else if (comm !== null) {\n",
       "    comm.send({event_type: 'delete', 'id': id});\n",
       "  }\n",
       "  delete PyViz.plot_index[id];\n",
       "  if ((window.Bokeh !== undefined) & (id in window.Bokeh.index)) {\n",
       "    var doc = window.Bokeh.index[id].model.document\n",
       "    doc.clear();\n",
       "    const i = window.Bokeh.documents.indexOf(doc);\n",
       "    if (i > -1) {\n",
       "      window.Bokeh.documents.splice(i, 1);\n",
       "    }\n",
       "  }\n",
       "}\n",
       "\n",
       "/**\n",
       " * Handle kernel restart event\n",
       " */\n",
       "function handle_kernel_cleanup(event, handle) {\n",
       "  delete PyViz.comms[\"hv-extension-comm\"];\n",
       "  window.PyViz.plot_index = {}\n",
       "}\n",
       "\n",
       "/**\n",
       " * Handle update_display_data messages\n",
       " */\n",
       "function handle_update_output(event, handle) {\n",
       "  handle_clear_output(event, {cell: {output_area: handle.output_area}})\n",
       "  handle_add_output(event, handle)\n",
       "}\n",
       "\n",
       "function register_renderer(events, OutputArea) {\n",
       "  function append_mime(data, metadata, element) {\n",
       "    // create a DOM node to render to\n",
       "    var toinsert = this.create_output_subarea(\n",
       "    metadata,\n",
       "    CLASS_NAME,\n",
       "    EXEC_MIME_TYPE\n",
       "    );\n",
       "    this.keyboard_manager.register_events(toinsert);\n",
       "    // Render to node\n",
       "    var props = {data: data, metadata: metadata[EXEC_MIME_TYPE]};\n",
       "    render(props, toinsert[0]);\n",
       "    element.append(toinsert);\n",
       "    return toinsert\n",
       "  }\n",
       "\n",
       "  events.on('output_added.OutputArea', handle_add_output);\n",
       "  events.on('output_updated.OutputArea', handle_update_output);\n",
       "  events.on('clear_output.CodeCell', handle_clear_output);\n",
       "  events.on('delete.Cell', handle_clear_output);\n",
       "  events.on('kernel_ready.Kernel', handle_kernel_cleanup);\n",
       "\n",
       "  OutputArea.prototype.register_mime_type(EXEC_MIME_TYPE, append_mime, {\n",
       "    safe: true,\n",
       "    index: 0\n",
       "  });\n",
       "}\n",
       "\n",
       "if (window.Jupyter !== undefined) {\n",
       "  try {\n",
       "    var events = require('base/js/events');\n",
       "    var OutputArea = require('notebook/js/outputarea').OutputArea;\n",
       "    if (OutputArea.prototype.mime_types().indexOf(EXEC_MIME_TYPE) == -1) {\n",
       "      register_renderer(events, OutputArea);\n",
       "    }\n",
       "  } catch(err) {\n",
       "  }\n",
       "}\n"
      ],
      "application/vnd.holoviews_load.v0+json": "\nif ((window.PyViz === undefined) || (window.PyViz instanceof HTMLElement)) {\n  window.PyViz = {comms: {}, comm_status:{}, kernels:{}, receivers: {}, plot_index: []}\n}\n\n\n    function JupyterCommManager() {\n    }\n\n    JupyterCommManager.prototype.register_target = function(plot_id, comm_id, msg_handler) {\n      if (window.comm_manager || ((window.Jupyter !== undefined) && (Jupyter.notebook.kernel != null))) {\n        var comm_manager = window.comm_manager || Jupyter.notebook.kernel.comm_manager;\n        comm_manager.register_target(comm_id, function(comm) {\n          comm.on_msg(msg_handler);\n        });\n      } else if ((plot_id in window.PyViz.kernels) && (window.PyViz.kernels[plot_id])) {\n        window.PyViz.kernels[plot_id].registerCommTarget(comm_id, function(comm) {\n          comm.onMsg = msg_handler;\n        });\n      } else if (typeof google != 'undefined' && google.colab.kernel != null) {\n        google.colab.kernel.comms.registerTarget(comm_id, (comm) => {\n          var messages = comm.messages[Symbol.asyncIterator]();\n          function processIteratorResult(result) {\n            var message = result.value;\n            console.log(message)\n            var content = {data: message.data, comm_id};\n            var buffers = []\n            for (var buffer of message.buffers || []) {\n              buffers.push(new DataView(buffer))\n            }\n            var metadata = message.metadata || {};\n            var msg = {content, buffers, metadata}\n            msg_handler(msg);\n            return messages.next().then(processIteratorResult);\n          }\n          return messages.next().then(processIteratorResult);\n        })\n      }\n    }\n\n    JupyterCommManager.prototype.get_client_comm = function(plot_id, comm_id, msg_handler) {\n      if (comm_id in window.PyViz.comms) {\n        return window.PyViz.comms[comm_id];\n      } else if (window.comm_manager || ((window.Jupyter !== undefined) && (Jupyter.notebook.kernel != null))) {\n        var comm_manager = window.comm_manager || Jupyter.notebook.kernel.comm_manager;\n        var comm = comm_manager.new_comm(comm_id, {}, {}, {}, comm_id);\n        if (msg_handler) {\n          comm.on_msg(msg_handler);\n        }\n      } else if ((plot_id in window.PyViz.kernels) && (window.PyViz.kernels[plot_id])) {\n        var comm = window.PyViz.kernels[plot_id].connectToComm(comm_id);\n        comm.open();\n        if (msg_handler) {\n          comm.onMsg = msg_handler;\n        }\n      } else if (typeof google != 'undefined' && google.colab.kernel != null) {\n        var comm_promise = google.colab.kernel.comms.open(comm_id)\n        comm_promise.then((comm) => {\n          window.PyViz.comms[comm_id] = comm;\n          if (msg_handler) {\n            var messages = comm.messages[Symbol.asyncIterator]();\n            function processIteratorResult(result) {\n              var message = result.value;\n              var content = {data: message.data};\n              var metadata = message.metadata || {comm_id};\n              var msg = {content, metadata}\n              msg_handler(msg);\n              return messages.next().then(processIteratorResult);\n            }\n            return messages.next().then(processIteratorResult);\n          }\n        }) \n        var sendClosure = (data, metadata, buffers, disposeOnDone) => {\n          return comm_promise.then((comm) => {\n            comm.send(data, metadata, buffers, disposeOnDone);\n          });\n        };\n        var comm = {\n          send: sendClosure\n        };\n      }\n      window.PyViz.comms[comm_id] = comm;\n      return comm;\n    }\n    window.PyViz.comm_manager = new JupyterCommManager();\n    \n\n\nvar JS_MIME_TYPE = 'application/javascript';\nvar HTML_MIME_TYPE = 'text/html';\nvar EXEC_MIME_TYPE = 'application/vnd.holoviews_exec.v0+json';\nvar CLASS_NAME = 'output';\n\n/**\n * Render data to the DOM node\n */\nfunction render(props, node) {\n  var div = document.createElement(\"div\");\n  var script = document.createElement(\"script\");\n  node.appendChild(div);\n  node.appendChild(script);\n}\n\n/**\n * Handle when a new output is added\n */\nfunction handle_add_output(event, handle) {\n  var output_area = handle.output_area;\n  var output = handle.output;\n  if ((output.data == undefined) || (!output.data.hasOwnProperty(EXEC_MIME_TYPE))) {\n    return\n  }\n  var id = output.metadata[EXEC_MIME_TYPE][\"id\"];\n  var toinsert = output_area.element.find(\".\" + CLASS_NAME.split(' ')[0]);\n  if (id !== undefined) {\n    var nchildren = toinsert.length;\n    var html_node = toinsert[nchildren-1].children[0];\n    html_node.innerHTML = output.data[HTML_MIME_TYPE];\n    var scripts = [];\n    var nodelist = html_node.querySelectorAll(\"script\");\n    for (var i in nodelist) {\n      if (nodelist.hasOwnProperty(i)) {\n        scripts.push(nodelist[i])\n      }\n    }\n\n    scripts.forEach( function (oldScript) {\n      var newScript = document.createElement(\"script\");\n      var attrs = [];\n      var nodemap = oldScript.attributes;\n      for (var j in nodemap) {\n        if (nodemap.hasOwnProperty(j)) {\n          attrs.push(nodemap[j])\n        }\n      }\n      attrs.forEach(function(attr) { newScript.setAttribute(attr.name, attr.value) });\n      newScript.appendChild(document.createTextNode(oldScript.innerHTML));\n      oldScript.parentNode.replaceChild(newScript, oldScript);\n    });\n    if (JS_MIME_TYPE in output.data) {\n      toinsert[nchildren-1].children[1].textContent = output.data[JS_MIME_TYPE];\n    }\n    output_area._hv_plot_id = id;\n    if ((window.Bokeh !== undefined) && (id in Bokeh.index)) {\n      window.PyViz.plot_index[id] = Bokeh.index[id];\n    } else {\n      window.PyViz.plot_index[id] = null;\n    }\n  } else if (output.metadata[EXEC_MIME_TYPE][\"server_id\"] !== undefined) {\n    var bk_div = document.createElement(\"div\");\n    bk_div.innerHTML = output.data[HTML_MIME_TYPE];\n    var script_attrs = bk_div.children[0].attributes;\n    for (var i = 0; i < script_attrs.length; i++) {\n      toinsert[toinsert.length - 1].childNodes[1].setAttribute(script_attrs[i].name, script_attrs[i].value);\n    }\n    // store reference to server id on output_area\n    output_area._bokeh_server_id = output.metadata[EXEC_MIME_TYPE][\"server_id\"];\n  }\n}\n\n/**\n * Handle when an output is cleared or removed\n */\nfunction handle_clear_output(event, handle) {\n  var id = handle.cell.output_area._hv_plot_id;\n  var server_id = handle.cell.output_area._bokeh_server_id;\n  if (((id === undefined) || !(id in PyViz.plot_index)) && (server_id !== undefined)) { return; }\n  var comm = window.PyViz.comm_manager.get_client_comm(\"hv-extension-comm\", \"hv-extension-comm\", function () {});\n  if (server_id !== null) {\n    comm.send({event_type: 'server_delete', 'id': server_id});\n    return;\n  } else if (comm !== null) {\n    comm.send({event_type: 'delete', 'id': id});\n  }\n  delete PyViz.plot_index[id];\n  if ((window.Bokeh !== undefined) & (id in window.Bokeh.index)) {\n    var doc = window.Bokeh.index[id].model.document\n    doc.clear();\n    const i = window.Bokeh.documents.indexOf(doc);\n    if (i > -1) {\n      window.Bokeh.documents.splice(i, 1);\n    }\n  }\n}\n\n/**\n * Handle kernel restart event\n */\nfunction handle_kernel_cleanup(event, handle) {\n  delete PyViz.comms[\"hv-extension-comm\"];\n  window.PyViz.plot_index = {}\n}\n\n/**\n * Handle update_display_data messages\n */\nfunction handle_update_output(event, handle) {\n  handle_clear_output(event, {cell: {output_area: handle.output_area}})\n  handle_add_output(event, handle)\n}\n\nfunction register_renderer(events, OutputArea) {\n  function append_mime(data, metadata, element) {\n    // create a DOM node to render to\n    var toinsert = this.create_output_subarea(\n    metadata,\n    CLASS_NAME,\n    EXEC_MIME_TYPE\n    );\n    this.keyboard_manager.register_events(toinsert);\n    // Render to node\n    var props = {data: data, metadata: metadata[EXEC_MIME_TYPE]};\n    render(props, toinsert[0]);\n    element.append(toinsert);\n    return toinsert\n  }\n\n  events.on('output_added.OutputArea', handle_add_output);\n  events.on('output_updated.OutputArea', handle_update_output);\n  events.on('clear_output.CodeCell', handle_clear_output);\n  events.on('delete.Cell', handle_clear_output);\n  events.on('kernel_ready.Kernel', handle_kernel_cleanup);\n\n  OutputArea.prototype.register_mime_type(EXEC_MIME_TYPE, append_mime, {\n    safe: true,\n    index: 0\n  });\n}\n\nif (window.Jupyter !== undefined) {\n  try {\n    var events = require('base/js/events');\n    var OutputArea = require('notebook/js/outputarea').OutputArea;\n    if (OutputArea.prototype.mime_types().indexOf(EXEC_MIME_TYPE) == -1) {\n      register_renderer(events, OutputArea);\n    }\n  } catch(err) {\n  }\n}\n"
     },
     "metadata": {},
     "output_type": "display_data"
    },
    {
     "name": "stderr",
     "output_type": "stream",
     "text": [
      "WARNING - 2023-03-30 21:44:19,324 - _default - No project ID could be determined. Consider running `gcloud config set project` or setting the GOOGLE_CLOUD_PROJECT environment variable\n"
     ]
    },
    {
     "name": "stdout",
     "output_type": "stream",
     "text": [
      "\u001b[1;93mUsing default Google credentials. There is no ~/.cloudvolume/secrets/google-secret.json set.\u001b[m\n"
     ]
    },
    {
     "name": "stderr",
     "output_type": "stream",
     "text": [
      "WARNING - 2023-03-30 21:44:21,147 - version_utils - You are using microns-morphology-api version 0.0.8, which does not match the latest version on Github, 0.0.11.\n",
      "WARNING - 2023-03-30 21:44:21,346 - utils - Imported datajoint_plus version, 0.1.0 does not match the latest version on Github, 0.1.6.\n",
      "INFO - 2023-03-30 21:44:21,352 - settings - Setting enable_python_native_blobs to True\n",
      "INFO - 2023-03-30 21:44:21,353 - settings - Setting stores to {'h01_skeletons': {'protocol': 'file', 'location': '/mnt/dj-stor01/microns/h01/skeletons', 'stage': '/mnt/dj-stor01/microns/h01/skeletons'}, 'h01_meshes': {'protocol': 'file', 'location': '/mnt/dj-stor01/microns/h01/meshes', 'stage': '/mnt/dj-stor01/microns/h01/meshes'}, 'h01_faces': {'protocol': 'file', 'location': '/mnt/dj-stor01/microns/h01/faces', 'stage': '/mnt/dj-stor01/microns/h01/faces'}, 'h01_decimated_meshes': {'protocol': 'file', 'location': '/mnt/dj-stor01/microns/h01/decimated_meshes', 'stage': '/mnt/dj-stor01/microns/h01/decimated_meshes'}, 'h01_soma_meshes': {'protocol': 'file', 'location': '/mnt/dj-stor01/microns/h01/soma_meshes', 'stage': '/mnt/dj-stor01/microns/h01/soma_meshes'}}\n",
      "INFO - 2023-03-30 21:44:21,366 - connection - Connected celiib@at-database.ad.bcm.edu:3306\n"
     ]
    },
    {
     "name": "stdout",
     "output_type": "stream",
     "text": [
      "Connecting celiib@at-database.ad.bcm.edu:3306\n"
     ]
    },
    {
     "name": "stderr",
     "output_type": "stream",
     "text": [
      "WARNING - 2023-03-30 21:44:22,455 - version_utils - You are using microns-materialization-api version 0.0.9, which does not match the latest version on Github, 0.0.17.\n",
      "INFO - 2023-03-30 21:44:22,460 - settings - Setting enable_python_native_blobs to True\n",
      "INFO - 2023-03-30 21:44:28,299 - settings - Setting enable_python_native_blobs to True\n",
      "ERROR - 2023-03-30 21:44:28,327 - compatibility - Could not add DataJointPlus to ImportMethod.\n",
      "Traceback (most recent call last):\n",
      "  File \"/datajoint-plus/datajoint_plus/compatibility.py\", line 41, in add_datajoint_plus\n",
      "    obj.parse_hash_info_from_header()\n",
      "  File \"/datajoint-plus/datajoint_plus/base.py\", line 354, in parse_hash_info_from_header\n",
      "    if result[0] == attr:\n",
      "IndexError: list index out of range\n",
      "ERROR - 2023-03-30 21:44:28,370 - compatibility - Could not add DataJointPlus to Materialization.\n",
      "Traceback (most recent call last):\n",
      "  File \"/datajoint-plus/datajoint_plus/compatibility.py\", line 41, in add_datajoint_plus\n",
      "    obj.parse_hash_info_from_header()\n",
      "  File \"/datajoint-plus/datajoint_plus/base.py\", line 354, in parse_hash_info_from_header\n",
      "    if result[0] == attr:\n",
      "IndexError: list index out of range\n",
      "ERROR - 2023-03-30 21:44:28,375 - compatibility - Could not add DataJointPlus to Mesh.\n",
      "Traceback (most recent call last):\n",
      "  File \"/datajoint-plus/datajoint_plus/compatibility.py\", line 41, in add_datajoint_plus\n",
      "    obj.parse_hash_info_from_header()\n",
      "  File \"/datajoint-plus/datajoint_plus/base.py\", line 354, in parse_hash_info_from_header\n",
      "    if result[0] == attr:\n",
      "IndexError: list index out of range\n",
      "ERROR - 2023-03-30 21:44:28,384 - compatibility - Could not add DataJointPlus to PCGMeshwork.\n",
      "Traceback (most recent call last):\n",
      "  File \"/datajoint-plus/datajoint_plus/compatibility.py\", line 41, in add_datajoint_plus\n",
      "    obj.parse_hash_info_from_header()\n",
      "  File \"/datajoint-plus/datajoint_plus/base.py\", line 354, in parse_hash_info_from_header\n",
      "    if result[0] == attr:\n",
      "IndexError: list index out of range\n",
      "ERROR - 2023-03-30 21:44:28,390 - compatibility - Could not add DataJointPlus to PCGMeshworkExclude.\n",
      "Traceback (most recent call last):\n",
      "  File \"/datajoint-plus/datajoint_plus/compatibility.py\", line 41, in add_datajoint_plus\n",
      "    obj.parse_hash_info_from_header()\n",
      "  File \"/datajoint-plus/datajoint_plus/base.py\", line 354, in parse_hash_info_from_header\n",
      "    if result[0] == attr:\n",
      "IndexError: list index out of range\n",
      "ERROR - 2023-03-30 21:44:28,432 - compatibility - Could not add DataJointPlus to Nucleus.\n",
      "Traceback (most recent call last):\n",
      "  File \"/datajoint-plus/datajoint_plus/compatibility.py\", line 41, in add_datajoint_plus\n",
      "    obj.parse_hash_info_from_header()\n",
      "  File \"/datajoint-plus/datajoint_plus/base.py\", line 354, in parse_hash_info_from_header\n",
      "    if result[0] == attr:\n",
      "IndexError: list index out of range\n",
      "ERROR - 2023-03-30 21:44:28,507 - compatibility - Could not add DataJointPlus to Segment.\n",
      "Traceback (most recent call last):\n",
      "  File \"/datajoint-plus/datajoint_plus/compatibility.py\", line 41, in add_datajoint_plus\n",
      "    obj.parse_hash_info_from_header()\n",
      "  File \"/datajoint-plus/datajoint_plus/base.py\", line 354, in parse_hash_info_from_header\n",
      "    if result[0] == attr:\n",
      "IndexError: list index out of range\n",
      "ERROR - 2023-03-30 21:44:28,516 - compatibility - Could not add DataJointPlus to PCGSkeleton.\n",
      "Traceback (most recent call last):\n",
      "  File \"/datajoint-plus/datajoint_plus/compatibility.py\", line 41, in add_datajoint_plus\n",
      "    obj.parse_hash_info_from_header()\n",
      "  File \"/datajoint-plus/datajoint_plus/base.py\", line 354, in parse_hash_info_from_header\n",
      "    if result[0] == attr:\n",
      "IndexError: list index out of range\n",
      "ERROR - 2023-03-30 21:44:28,561 - compatibility - Could not add DataJointPlus to Synapse.\n",
      "Traceback (most recent call last):\n",
      "  File \"/datajoint-plus/datajoint_plus/compatibility.py\", line 41, in add_datajoint_plus\n",
      "    obj.parse_hash_info_from_header()\n",
      "  File \"/datajoint-plus/datajoint_plus/base.py\", line 354, in parse_hash_info_from_header\n",
      "    if result[0] == attr:\n",
      "IndexError: list index out of range\n",
      "INFO - 2023-03-30 21:44:30,475 - settings - Setting enable_python_native_blobs to True\n"
     ]
    },
    {
     "data": {
      "application/vnd.jupyter.widget-view+json": {
       "model_id": "f60a7c6e82dc40da9b80d327c1ab78d8",
       "version_major": 2,
       "version_minor": 0
      },
      "text/plain": [
       "Output()"
      ]
     },
     "metadata": {},
     "output_type": "display_data"
    },
    {
     "name": "stderr",
     "output_type": "stream",
     "text": [
      "INFO - 2023-03-30 21:44:37,480 - settings - Setting database.host to at-database.ad.bcm.edu\n",
      "INFO - 2023-03-30 21:44:37,481 - settings - Setting database.user to celiib\n",
      "INFO - 2023-03-30 21:44:37,482 - settings - Setting database.password to newceliipass\n",
      "INFO - 2023-03-30 21:44:37,483 - settings - Setting database.host to at-database.ad.bcm.edu\n",
      "INFO - 2023-03-30 21:44:37,483 - settings - Setting database.user to celiib\n",
      "INFO - 2023-03-30 21:44:37,484 - settings - Setting database.password to newceliipass\n",
      "INFO - 2023-03-30 21:44:37,484 - settings - Setting database.host to at-database.ad.bcm.edu\n",
      "INFO - 2023-03-30 21:44:37,485 - settings - Setting database.user to celiib\n",
      "INFO - 2023-03-30 21:44:37,485 - settings - Setting database.password to newceliipass\n",
      "INFO - 2023-03-30 21:44:37,489 - settings - Setting enable_python_native_blobs to True\n",
      "INFO - 2023-03-30 21:44:38,134 - settings - Setting enable_python_native_blobs to True\n",
      "INFO - 2023-03-30 21:44:38,201 - settings - Setting database.host to at-database.ad.bcm.edu\n",
      "INFO - 2023-03-30 21:44:38,202 - settings - Setting database.user to celiib\n",
      "INFO - 2023-03-30 21:44:38,203 - settings - Setting database.password to newceliipass\n",
      "INFO - 2023-03-30 21:44:38,205 - settings - Setting enable_python_native_blobs to True\n",
      "INFO - 2023-03-30 21:44:38,998 - settings - Setting enable_python_native_blobs to True\n",
      "INFO - 2023-03-30 21:44:39,013 - settings - Setting database.host to at-database.ad.bcm.edu\n",
      "INFO - 2023-03-30 21:44:39,014 - settings - Setting database.user to celiib\n",
      "INFO - 2023-03-30 21:44:39,014 - settings - Setting database.password to newceliipass\n",
      "INFO - 2023-03-30 21:44:39,015 - settings - Setting database.host to at-database.ad.bcm.edu\n",
      "INFO - 2023-03-30 21:44:39,015 - settings - Setting database.user to celiib\n",
      "INFO - 2023-03-30 21:44:39,016 - settings - Setting database.password to newceliipass\n",
      "INFO - 2023-03-30 21:44:39,020 - settings - Setting enable_python_native_blobs to True\n",
      "INFO - 2023-03-30 21:44:39,912 - settings - Setting enable_python_native_blobs to True\n"
     ]
    }
   ],
   "source": [
    "import datajoint_utils as du\n",
    "import datajoint as dj"
   ]
  },
  {
   "cell_type": "code",
   "execution_count": 5,
   "metadata": {},
   "outputs": [],
   "source": [
    "from dataInterfaceMinnie65 import data_interface as hdju"
   ]
  },
  {
   "cell_type": "markdown",
   "metadata": {},
   "source": [
    "# Load the data"
   ]
  },
  {
   "cell_type": "code",
   "execution_count": 6,
   "metadata": {},
   "outputs": [],
   "source": [
    "import trimesh\n",
    "import numpy as np\n",
    "import numpy_utils as nu\n",
    "import trimesh_utils as tu"
   ]
  },
  {
   "cell_type": "code",
   "execution_count": 7,
   "metadata": {},
   "outputs": [
    {
     "data": {
      "text/plain": [
       "[PosixPath('temp'),\n",
       " PosixPath('cgal_temp'),\n",
       " PosixPath('full_vert.txt'),\n",
       " PosixPath('part_vert.txt'),\n",
       " PosixPath('full_tri.txt'),\n",
       " PosixPath('Harris_Lab_Spine_Identification.ipynb'),\n",
       " PosixPath('part_tri.txt'),\n",
       " PosixPath('temp_skeleton.cgal'),\n",
       " PosixPath('190_mesh.off'),\n",
       " PosixPath('.ipynb_checkpoints'),\n",
       " PosixPath('190_mesh-cgal_5_0.08.csv'),\n",
       " PosixPath('mesh_watertight.off'),\n",
       " PosixPath('190_mesh-cgal_5_0.08_sdf.csv')]"
      ]
     },
     "execution_count": 7,
     "metadata": {},
     "output_type": "execute_result"
    }
   ],
   "source": [
    "from pathlib import Path\n",
    "list(Path(\"./\").iterdir())"
   ]
  },
  {
   "cell_type": "code",
   "execution_count": 8,
   "metadata": {},
   "outputs": [],
   "source": [
    "file_base = \"full\"\n",
    "verts_file = f\"{file_base}_vert.txt\"\n",
    "tri_file = f\"{file_base}_tri.txt\"\n",
    "tri_array = nu.loadtxt(str(tri_file),dtype = \"int\",delimiter = \" \")\n",
    "verts_array =  nu.loadtxt(str(verts_file),dtype = \"float\",delimiter = \" \")\n"
   ]
  },
  {
   "cell_type": "code",
   "execution_count": 9,
   "metadata": {},
   "outputs": [
    {
     "data": {
      "text/plain": [
       "<trimesh.Trimesh(vertices.shape=(226149, 3), faces.shape=(452370, 3))>"
      ]
     },
     "execution_count": 9,
     "metadata": {},
     "output_type": "execute_result"
    }
   ],
   "source": [
    "mesh = tu.mesh_from_vertices_faces(vertices = verts_array, faces = tri_array)\n",
    "mesh"
   ]
  },
  {
   "cell_type": "code",
   "execution_count": 10,
   "metadata": {},
   "outputs": [
    {
     "name": "stderr",
     "output_type": "stream",
     "text": [
      "/usr/local/lib/python3.6/dist-packages/traittypes/traittypes.py:101: UserWarning:\n",
      "\n",
      "Given trait value dtype \"float64\" does not match required type \"float64\". A coerced copy has been created.\n",
      "\n"
     ]
    },
    {
     "data": {
      "application/vnd.jupyter.widget-view+json": {
       "model_id": "32d4492d118f459a89f0cee46eced3d2",
       "version_major": 2,
       "version_minor": 0
      },
      "text/plain": [
       "VBox(children=(Figure(camera=PerspectiveCamera(fov=46.0, position=(0.0, 0.0, 2.0), projectionMatrix=(1.0, 0.0,…"
      ]
     },
     "metadata": {},
     "output_type": "display_data"
    }
   ],
   "source": [
    "import neuron_visualizations as nviz\n",
    "nviz.plot_objects(\n",
    "    mesh,\n",
    "    buffer = 0\n",
    ")"
   ]
  },
  {
   "cell_type": "code",
   "execution_count": 58,
   "metadata": {},
   "outputs": [
    {
     "name": "stdout",
     "output_type": "stream",
     "text": [
      "xvfb-run -n 7364 -s \"-screen 0 800x600x24\" meshlabserver $@  -i /neuron_mesh_tools/Auto_Proofreading/Colab_Harris/temp/neuron_32829.off -o /neuron_mesh_tools/Auto_Proofreading/Colab_Harris/temp/neuron_32829_decimated.off -s /neuron_mesh_tools/Auto_Proofreading/Colab_Harris/temp/decimation_meshlab_25141303.mls\n"
     ]
    },
    {
     "name": "stderr",
     "output_type": "stream",
     "text": [
      "/usr/local/lib/python3.6/dist-packages/traittypes/traittypes.py:101: UserWarning:\n",
      "\n",
      "Given trait value dtype \"float64\" does not match required type \"float64\". A coerced copy has been created.\n",
      "\n"
     ]
    },
    {
     "data": {
      "application/vnd.jupyter.widget-view+json": {
       "model_id": "a5faf739ecb849289b94482790e8ce2d",
       "version_major": 2,
       "version_minor": 0
      },
      "text/plain": [
       "VBox(children=(Figure(camera=PerspectiveCamera(fov=46.0, position=(0.0, 0.0, 2.0), projectionMatrix=(1.0, 0.0,…"
      ]
     },
     "metadata": {},
     "output_type": "display_data"
    }
   ],
   "source": [
    "mesh_dec = tu.decimate(mesh,decimation_ratio=0.25,)\n",
    "mesh_dec = tu.largest_conn_comp(mesh_dec)\n",
    "nviz.plot_objects(\n",
    "    mesh_dec,\n",
    "    buffer=0\n",
    ")\n"
   ]
  },
  {
   "cell_type": "markdown",
   "metadata": {},
   "source": [
    "# Doing the spine extraction"
   ]
  },
  {
   "cell_type": "code",
   "execution_count": 12,
   "metadata": {},
   "outputs": [],
   "source": [
    "import spine_utils as spu"
   ]
  },
  {
   "cell_type": "code",
   "execution_count": 13,
   "metadata": {},
   "outputs": [
    {
     "data": {
      "text/plain": [
       "'\\nProgression of spine processing from neuron object:\\n\\nspine_and_syn_df_computed_from_neuron_obj\\n    spine_objs_and_synapse_df_computed_from_neuron_obj\\n        spine_objs_and_synapse_df_computed_from_branch_idx\\n            spine_objs_bare_minimum_filt_with_attr_from_branch_obj\\n                spine_objs_with_border_sk_endpoint_and_soma_filter_from_scratch_on_branch_obj\\n                    get_spine_meshes_unfiltered_from_mesh\\n                        split_mesh_into_spines_shaft\\n                            tu.mesh_segmentation\\n                            spu.restrict_meshes_to_shaft_meshes_without_coordinates\\n                                Applies the following query: \\n                                    query = [\\n                                            f\"(close_hole_area_top_2_mean > {close_hole_area_top_2_mean_max}) or (mesh_volume > {mesh_volume_max})\",\\n                                            #f\"(close_hole_area_top_2_mean > {close_hole_area_top_2_mean_max}) or (n_faces > {n_faces_max})\",\\n                                            f\"(n_faces > {n_faces_min})\"\\n                                    ]\\n                                    \\n                                    ** variables can set:\\n                                        shaft_close_hole_area_top_2_mean_max_global\\n                                        shaft_mesh_volume_max_global\\n                                        shaft_mesh_n_faces_min_global\\n\\n                    --> does some filtering you requested\\n                    --> creates the spine objects\\n                calculate_spine_attributes_for_list:\\n                    calculate_spine_attributes\\n                        spine_obj.calculate_volume()\\n                        spine_obj.bbox_oriented_side_lengths\\n                        option for calculating coordinates (for later use)\\n                        option for calculating head neck\\n                        - spine_obj.calculate_head_neck()\\n                             tu.mesh_segmentation\\n                             Tries to filter out the submeshes\\n                             \\n                            ** variables can set:\\n                                head_ray_trace_min_global\\n                                head_smoothness_global\\n                                head_face_min_global\\n                                \\n                        - spine_obj.head_mesh_splits\\n                        calculate_soma_distance_euclidean()\\n                        calculate_soma_distance_skeletal()\\n                        option if branch object provided calculate_branch_overall_features\\n                        - what this does is sets features of spine that really belong to branch\\n                        \\n                        \\n                filter_spine_objs_by_size_bare_minimum\\n                \\n                    Filters the spine objects using the following restriction\\n                    (a lot of hand-crafted tuning variables):\\n                    \\n                    restrictions = [\\n                        f\"n_faces >= {spine_n_face_threshold}\",\\n                        f\"(skeletal_length >= {spine_sk_length_threshold}) or (skeletal_length != skeletal_length)\",\\n                        f\"(volume >= {filter_by_volume_threshold}) or (volume != volume)\",\\n                        f\"sdf_mean > {sdf_mean_min}\",\\n                        f\"bbox_oriented_side_max > {bbox_oriented_side_max_min}\",\\n                        f\"spine_volume_to_spine_area >= {spine_volume_to_spine_area_min}\",\\n                    ],\\n                    \\n                    ** variables can set:\\n                        spine_n_face_threshold_bare_min_global\\n                        spine_sk_length_threshold_bare_min_global\\n                        filter_by_volume_threshold_bare_min_global\\n                        bbox_oriented_side_max_min_bare_min_global\\n                        sdf_mean_min_bare_min_global\\n                        spine_volume_to_spine_area_min_bare_min_global\\n\\n                \\n                calculate_spine_attributes_for_list\\n                plot_spines_objs_with_head_neck_and_coordinates\\n'"
      ]
     },
     "execution_count": 13,
     "metadata": {},
     "output_type": "execute_result"
    }
   ],
   "source": [
    "\"\"\"\n",
    "Progression of spine processing from neuron object:\n",
    "\n",
    "spine_and_syn_df_computed_from_neuron_obj\n",
    "    spine_objs_and_synapse_df_computed_from_neuron_obj\n",
    "        spine_objs_and_synapse_df_computed_from_branch_idx\n",
    "            spine_objs_bare_minimum_filt_with_attr_from_branch_obj\n",
    "                spine_objs_with_border_sk_endpoint_and_soma_filter_from_scratch_on_branch_obj\n",
    "                    get_spine_meshes_unfiltered_from_mesh\n",
    "                        split_mesh_into_spines_shaft\n",
    "                            tu.mesh_segmentation\n",
    "                            spu.restrict_meshes_to_shaft_meshes_without_coordinates\n",
    "                                Applies the following query: \n",
    "                                    query = [\n",
    "                                            f\"(close_hole_area_top_2_mean > {close_hole_area_top_2_mean_max}) or (mesh_volume > {mesh_volume_max})\",\n",
    "                                            #f\"(close_hole_area_top_2_mean > {close_hole_area_top_2_mean_max}) or (n_faces > {n_faces_max})\",\n",
    "                                            f\"(n_faces > {n_faces_min})\"\n",
    "                                    ]\n",
    "                                    \n",
    "                                    ** variables can set:\n",
    "                                        shaft_close_hole_area_top_2_mean_max_global\n",
    "                                        shaft_mesh_volume_max_global\n",
    "                                        shaft_mesh_n_faces_min_global\n",
    "\n",
    "                    --> does some filtering you requested\n",
    "                    --> creates the spine objects\n",
    "                calculate_spine_attributes_for_list:\n",
    "                    calculate_spine_attributes\n",
    "                        spine_obj.calculate_volume()\n",
    "                        spine_obj.bbox_oriented_side_lengths\n",
    "                        option for calculating coordinates (for later use)\n",
    "                        option for calculating head neck\n",
    "                        - spine_obj.calculate_head_neck()\n",
    "                             tu.mesh_segmentation\n",
    "                             Tries to filter out the submeshes\n",
    "                             \n",
    "                            ** variables can set:\n",
    "                                head_ray_trace_min_global\n",
    "                                head_smoothness_global\n",
    "                                head_face_min_global\n",
    "                                \n",
    "                        - spine_obj.head_mesh_splits\n",
    "                        calculate_soma_distance_euclidean()\n",
    "                        calculate_soma_distance_skeletal()\n",
    "                        option if branch object provided calculate_branch_overall_features\n",
    "                        - what this does is sets features of spine that really belong to branch\n",
    "                        \n",
    "                        \n",
    "                filter_spine_objs_by_size_bare_minimum\n",
    "                \n",
    "                    Filters the spine objects using the following restriction\n",
    "                    (a lot of hand-crafted tuning variables):\n",
    "                    \n",
    "                    restrictions = [\n",
    "                        f\"n_faces >= {spine_n_face_threshold}\",\n",
    "                        f\"(skeletal_length >= {spine_sk_length_threshold}) or (skeletal_length != skeletal_length)\",\n",
    "                        f\"(volume >= {filter_by_volume_threshold}) or (volume != volume)\",\n",
    "                        f\"sdf_mean > {sdf_mean_min}\",\n",
    "                        f\"bbox_oriented_side_max > {bbox_oriented_side_max_min}\",\n",
    "                        f\"spine_volume_to_spine_area >= {spine_volume_to_spine_area_min}\",\n",
    "                    ],\n",
    "                    \n",
    "                    ** variables can set:\n",
    "                        spine_n_face_threshold_bare_min_global\n",
    "                        spine_sk_length_threshold_bare_min_global\n",
    "                        filter_by_volume_threshold_bare_min_global\n",
    "                        bbox_oriented_side_max_min_bare_min_global\n",
    "                        sdf_mean_min_bare_min_global\n",
    "                        spine_volume_to_spine_area_min_bare_min_global\n",
    "\n",
    "                \n",
    "                calculate_spine_attributes_for_list\n",
    "                plot_spines_objs_with_head_neck_and_coordinates\n",
    "\"\"\""
   ]
  },
  {
   "cell_type": "code",
   "execution_count": 14,
   "metadata": {},
   "outputs": [],
   "source": [
    "import skeleton_utils as sk"
   ]
  },
  {
   "cell_type": "code",
   "execution_count": 17,
   "metadata": {},
   "outputs": [
    {
     "data": {
      "text/plain": [
       "['filter_away_leaf_skeletons', 'filter_away_small_skeleton_offshoots']"
      ]
     },
     "execution_count": 17,
     "metadata": {},
     "output_type": "execute_result"
    }
   ],
   "source": [
    "[k for k in dir(sk) if \"filt\" in k]"
   ]
  },
  {
   "cell_type": "markdown",
   "metadata": {},
   "source": [
    "# Skeleton Mappings"
   ]
  },
  {
   "cell_type": "code",
   "execution_count": 61,
   "metadata": {},
   "outputs": [],
   "source": [
    "import skeleton_utils as sk\n",
    "#skeletonize_and_clean_connected_branch_CGAL"
   ]
  },
  {
   "cell_type": "code",
   "execution_count": 62,
   "metadata": {},
   "outputs": [
    {
     "data": {
      "application/vnd.jupyter.widget-view+json": {
       "model_id": "eba78faa5003462cb8871d81e6bf5e45",
       "version_major": 2,
       "version_minor": 0
      },
      "text/plain": [
       "VBox(children=(Figure(camera=PerspectiveCamera(fov=46.0, position=(0.0, 0.0, 2.0), projectionMatrix=(1.0, 0.0,…"
      ]
     },
     "metadata": {},
     "output_type": "display_data"
    }
   ],
   "source": [
    "skeleton_surface = sk.surface_skeleton(\n",
    "    mesh_dec,\n",
    "    plot = True,\n",
    "    #n_surface_downsampling=3,\n",
    ")"
   ]
  },
  {
   "cell_type": "code",
   "execution_count": 77,
   "metadata": {},
   "outputs": [
    {
     "data": {
      "application/vnd.jupyter.widget-view+json": {
       "model_id": "07094b309c8c41f89a23efd41d6a8384",
       "version_major": 2,
       "version_minor": 0
      },
      "text/plain": [
       "VBox(children=(Figure(camera=PerspectiveCamera(fov=46.0, position=(0.0, 0.0, 2.0), projectionMatrix=(1.0, 0.0,…"
      ]
     },
     "metadata": {},
     "output_type": "display_data"
    }
   ],
   "source": [
    "nviz.plot_objects(\n",
    "    skeletons=[skeleton,sk_cgal],\n",
    "    skeletons_colors=[\"red\",\"blue\"],\n",
    "    buffer=0\n",
    ")"
   ]
  },
  {
   "cell_type": "code",
   "execution_count": 68,
   "metadata": {},
   "outputs": [
    {
     "data": {
      "text/plain": [
       "[array([], shape=(0, 2, 3), dtype=float64)]"
      ]
     },
     "execution_count": 68,
     "metadata": {},
     "output_type": "execute_result"
    }
   ],
   "source": [
    "sk_removed"
   ]
  },
  {
   "cell_type": "code",
   "execution_count": 78,
   "metadata": {},
   "outputs": [
    {
     "name": "stdout",
     "output_type": "stream",
     "text": [
      "Manifold status before skeletonization = True\n",
      "Watertight status before skeletonization = True\n",
      "min_edge_length = 1\n"
     ]
    },
    {
     "data": {
      "application/vnd.jupyter.widget-view+json": {
       "model_id": "8a5e28357dcf4138ab7a77ab69e55908",
       "version_major": 2,
       "version_minor": 0
      },
      "text/plain": [
       "VBox(children=(Figure(camera=PerspectiveCamera(fov=46.0, position=(0.0, 0.0, 2.0), projectionMatrix=(1.0, 0.0,…"
      ]
     },
     "metadata": {},
     "output_type": "display_data"
    },
    {
     "name": "stdout",
     "output_type": "stream",
     "text": [
      "Using Distance measure skeletal_distance\n",
      "no small end nodes to get rid of so returning whole skeleton\n",
      "No skeletons to stack so returning empty list\n"
     ]
    },
    {
     "data": {
      "application/vnd.jupyter.widget-view+json": {
       "model_id": "b682fc129f1f487d91b72110e73e1798",
       "version_major": 2,
       "version_minor": 0
      },
      "text/plain": [
       "VBox(children=(Figure(camera=PerspectiveCamera(fov=46.0, position=(0.0, 0.0, 2.0), projectionMatrix=(1.0, 0.0,…"
      ]
     },
     "metadata": {},
     "output_type": "display_data"
    }
   ],
   "source": [
    "skeleton = sk.skeleton_cgal(\n",
    "    mesh_dec,\n",
    "    plot = True,\n",
    "    cgal_original_parameters = False,\n",
    "    max_triangle_angle =1.91986,\n",
    "    quality_speed_tradeoff=0.1,\n",
    "    medially_centered_speed_tradeoff=0.2,#0.2,\n",
    "    area_variation_factor=0.0001,\n",
    "    max_iterations=500,#500,\n",
    "    is_medially_centered=True,\n",
    "    min_edge_length = 1,\n",
    "    edge_length_multiplier = 0.002,\n",
    ")\n",
    "\n",
    "skeleton_no_cycles = sk.remove_cycles_from_skeleton(skeleton,verbose=True,)\n",
    "\n",
    "sk_cgal,sk_removed = sk.clean_skeleton(\n",
    "    skeleton_no_cycles,\n",
    "    min_distance_to_junction = 3,\n",
    "    return_removed_skeletons = True,\n",
    ")\n",
    "\n",
    "nviz.plot_objects(\n",
    "    mesh_dec,\n",
    "    skeletons=[sk_cleaned,sk.stack_skeletons(sk_removed)],\n",
    "    skeletons_colors=[\"blue\",\"red\"],\n",
    "    buffer=0\n",
    ")"
   ]
  },
  {
   "cell_type": "code",
   "execution_count": null,
   "metadata": {},
   "outputs": [],
   "source": [
    "# calculating the skeleton endpoints\n"
   ]
  },
  {
   "cell_type": "code",
   "execution_count": 80,
   "metadata": {},
   "outputs": [],
   "source": [
    "spu.spine_objs_with_border_sk_endpoint_and_soma_filter_from_scratch_on_mesh(\n",
    "    mesh = mesh_dec,\n",
    ")"
   ]
  },
  {
   "cell_type": "code",
   "execution_count": null,
   "metadata": {},
   "outputs": [],
   "source": []
  },
  {
   "cell_type": "code",
   "execution_count": 85,
   "metadata": {
    "scrolled": true
   },
   "outputs": [
    {
     "data": {
      "application/vnd.jupyter.widget-view+json": {
       "model_id": "463f770589f3415896d1bd8af8625ce7",
       "version_major": 2,
       "version_minor": 0
      },
      "text/plain": [
       "  0%|          | 0/133 [00:00<?, ?it/s]"
      ]
     },
     "metadata": {},
     "output_type": "display_data"
    },
    {
     "name": "stderr",
     "output_type": "stream",
     "text": [
      "/meshAfterParty/meshAfterParty/trimesh_utils.py:1766: VisibleDeprecationWarning:\n",
      "\n",
      "Creating an ndarray from ragged nested sequences (which is a list-or-tuple of lists-or-tuples-or ndarrays with different lengths or shapes) is deprecated. If you meant to do this, you must specify 'dtype=object' when creating the ndarray\n",
      "\n"
     ]
    },
    {
     "name": "stdout",
     "output_type": "stream",
     "text": [
      "Initial segmentation with clusters = 6, smoothness = 0.08\n"
     ]
    },
    {
     "data": {
      "application/vnd.jupyter.widget-view+json": {
       "model_id": "5ccb6be9004744b1b3cdbd522f2d3954",
       "version_major": 2,
       "version_minor": 0
      },
      "text/plain": [
       "VBox(children=(Figure(camera=PerspectiveCamera(fov=46.0, position=(0.0, 0.0, 2.0), projectionMatrix=(1.0, 0.0,…"
      ]
     },
     "metadata": {},
     "output_type": "display_data"
    },
    {
     "data": {
      "application/vnd.jupyter.widget-view+json": {
       "model_id": "627942634b3f4536b74b72281adc2a7f",
       "version_major": 2,
       "version_minor": 0
      },
      "text/plain": [
       "  0%|          | 0/133 [00:00<?, ?it/s]"
      ]
     },
     "metadata": {},
     "output_type": "display_data"
    },
    {
     "name": "stderr",
     "output_type": "stream",
     "text": [
      "/meshAfterParty/meshAfterParty/trimesh_utils.py:3595: VisibleDeprecationWarning:\n",
      "\n",
      "Creating an ndarray from ragged nested sequences (which is a list-or-tuple of lists-or-tuples-or ndarrays with different lengths or shapes) is deprecated. If you meant to do this, you must specify 'dtype=object' when creating the ndarray\n",
      "\n"
     ]
    },
    {
     "data": {
      "text/html": [
       "<div>\n",
       "<style scoped>\n",
       "    .dataframe tbody tr th:only-of-type {\n",
       "        vertical-align: middle;\n",
       "    }\n",
       "\n",
       "    .dataframe tbody tr th {\n",
       "        vertical-align: top;\n",
       "    }\n",
       "\n",
       "    .dataframe thead th {\n",
       "        text-align: right;\n",
       "    }\n",
       "</style>\n",
       "<table border=\"1\" class=\"dataframe\">\n",
       "  <thead>\n",
       "    <tr style=\"text-align: right;\">\n",
       "      <th></th>\n",
       "      <th>close_hole_area_top_2_mean</th>\n",
       "      <th>n_faces</th>\n",
       "      <th>mesh_volume</th>\n",
       "    </tr>\n",
       "  </thead>\n",
       "  <tbody>\n",
       "    <tr>\n",
       "      <th>0</th>\n",
       "      <td>0.003357</td>\n",
       "      <td>70</td>\n",
       "      <td>0.000595</td>\n",
       "    </tr>\n",
       "    <tr>\n",
       "      <th>1</th>\n",
       "      <td>0.007393</td>\n",
       "      <td>393</td>\n",
       "      <td>0.005086</td>\n",
       "    </tr>\n",
       "    <tr>\n",
       "      <th>2</th>\n",
       "      <td>0.008305</td>\n",
       "      <td>401</td>\n",
       "      <td>0.005104</td>\n",
       "    </tr>\n",
       "    <tr>\n",
       "      <th>3</th>\n",
       "      <td>0.009387</td>\n",
       "      <td>340</td>\n",
       "      <td>0.005546</td>\n",
       "    </tr>\n",
       "    <tr>\n",
       "      <th>4</th>\n",
       "      <td>0.002978</td>\n",
       "      <td>24</td>\n",
       "      <td>0.000209</td>\n",
       "    </tr>\n",
       "    <tr>\n",
       "      <th>...</th>\n",
       "      <td>...</td>\n",
       "      <td>...</td>\n",
       "      <td>...</td>\n",
       "    </tr>\n",
       "    <tr>\n",
       "      <th>128</th>\n",
       "      <td>0.848867</td>\n",
       "      <td>2893</td>\n",
       "      <td>0.336819</td>\n",
       "    </tr>\n",
       "    <tr>\n",
       "      <th>129</th>\n",
       "      <td>0.704605</td>\n",
       "      <td>7084</td>\n",
       "      <td>0.720230</td>\n",
       "    </tr>\n",
       "    <tr>\n",
       "      <th>130</th>\n",
       "      <td>0.596532</td>\n",
       "      <td>4051</td>\n",
       "      <td>0.479279</td>\n",
       "    </tr>\n",
       "    <tr>\n",
       "      <th>131</th>\n",
       "      <td>0.703170</td>\n",
       "      <td>7219</td>\n",
       "      <td>0.840336</td>\n",
       "    </tr>\n",
       "    <tr>\n",
       "      <th>132</th>\n",
       "      <td>1.058500</td>\n",
       "      <td>6236</td>\n",
       "      <td>0.701099</td>\n",
       "    </tr>\n",
       "  </tbody>\n",
       "</table>\n",
       "<p>133 rows × 3 columns</p>\n",
       "</div>"
      ],
      "text/plain": [
       "     close_hole_area_top_2_mean  n_faces  mesh_volume\n",
       "0                      0.003357       70     0.000595\n",
       "1                      0.007393      393     0.005086\n",
       "2                      0.008305      401     0.005104\n",
       "3                      0.009387      340     0.005546\n",
       "4                      0.002978       24     0.000209\n",
       "..                          ...      ...          ...\n",
       "128                    0.848867     2893     0.336819\n",
       "129                    0.704605     7084     0.720230\n",
       "130                    0.596532     4051     0.479279\n",
       "131                    0.703170     7219     0.840336\n",
       "132                    1.058500     6236     0.701099\n",
       "\n",
       "[133 rows x 3 columns]"
      ]
     },
     "metadata": {},
     "output_type": "display_data"
    },
    {
     "name": "stdout",
     "output_type": "stream",
     "text": [
      "--- initial shaft meshes before graph fixing\n"
     ]
    },
    {
     "name": "stderr",
     "output_type": "stream",
     "text": [
      "/usr/local/lib/python3.6/dist-packages/traittypes/traittypes.py:101: UserWarning:\n",
      "\n",
      "Given trait value dtype \"float64\" does not match required type \"float64\". A coerced copy has been created.\n",
      "\n"
     ]
    },
    {
     "data": {
      "application/vnd.jupyter.widget-view+json": {
       "model_id": "963e626735874eb2bf9fd629dcf81fb2",
       "version_major": 2,
       "version_minor": 0
      },
      "text/plain": [
       "VBox(children=(Figure(camera=PerspectiveCamera(fov=46.0, position=(0.0, 0.0, 2.0), projectionMatrix=(1.0, 0.0,…"
      ]
     },
     "metadata": {},
     "output_type": "display_data"
    },
    {
     "name": "stderr",
     "output_type": "stream",
     "text": [
      "/meshAfterParty/meshAfterParty/spine_utils.py:1625: VisibleDeprecationWarning:\n",
      "\n",
      "Creating an ndarray from ragged nested sequences (which is a list-or-tuple of lists-or-tuples-or ndarrays with different lengths or shapes) is deprecated. If you meant to do this, you must specify 'dtype=object' when creating the ndarray\n",
      "\n",
      "/meshAfterParty/meshAfterParty/spine_utils.py:1626: VisibleDeprecationWarning:\n",
      "\n",
      "Creating an ndarray from ragged nested sequences (which is a list-or-tuple of lists-or-tuples-or ndarrays with different lengths or shapes) is deprecated. If you meant to do this, you must specify 'dtype=object' when creating the ndarray\n",
      "\n",
      "/meshAfterParty/meshAfterParty/spine_utils.py:1656: VisibleDeprecationWarning:\n",
      "\n",
      "Creating an ndarray from ragged nested sequences (which is a list-or-tuple of lists-or-tuples-or ndarrays with different lengths or shapes) is deprecated. If you meant to do this, you must specify 'dtype=object' when creating the ndarray\n",
      "\n",
      "/meshAfterParty/meshAfterParty/spine_utils.py:1657: VisibleDeprecationWarning:\n",
      "\n",
      "Creating an ndarray from ragged nested sequences (which is a list-or-tuple of lists-or-tuples-or ndarrays with different lengths or shapes) is deprecated. If you meant to do this, you must specify 'dtype=object' when creating the ndarray\n",
      "\n"
     ]
    },
    {
     "data": {
      "application/vnd.jupyter.widget-view+json": {
       "model_id": "773a101a640b4373ad4fd1ab0f815a55",
       "version_major": 2,
       "version_minor": 0
      },
      "text/plain": [
       "VBox(children=(Figure(camera=PerspectiveCamera(fov=46.0, position=(0.0, 0.0, 2.0), projectionMatrix=(1.0, 0.0,…"
      ]
     },
     "metadata": {},
     "output_type": "display_data"
    },
    {
     "data": {
      "text/plain": [
       "[<spine_utils.Spine at 0x7f06e2800748>,\n",
       " <spine_utils.Spine at 0x7f06e28000b8>,\n",
       " <spine_utils.Spine at 0x7f06e2800048>,\n",
       " <spine_utils.Spine at 0x7f06e2800278>,\n",
       " <spine_utils.Spine at 0x7f06e28004a8>,\n",
       " <spine_utils.Spine at 0x7f06e2800780>,\n",
       " <spine_utils.Spine at 0x7f06e2800e80>,\n",
       " <spine_utils.Spine at 0x7f06e28008d0>,\n",
       " <spine_utils.Spine at 0x7f06e28a9160>,\n",
       " <spine_utils.Spine at 0x7f06e28a9fd0>,\n",
       " <spine_utils.Spine at 0x7f06e28a92e8>,\n",
       " <spine_utils.Spine at 0x7f06e28a9438>,\n",
       " <spine_utils.Spine at 0x7f06e28a9198>,\n",
       " <spine_utils.Spine at 0x7f06e28a9cf8>,\n",
       " <spine_utils.Spine at 0x7f06e28a9278>,\n",
       " <spine_utils.Spine at 0x7f05887e7278>,\n",
       " <spine_utils.Spine at 0x7f05887e7390>,\n",
       " <spine_utils.Spine at 0x7f05887e75f8>,\n",
       " <spine_utils.Spine at 0x7f05887e71d0>,\n",
       " <spine_utils.Spine at 0x7f05887e73c8>,\n",
       " <spine_utils.Spine at 0x7f05887e7400>,\n",
       " <spine_utils.Spine at 0x7f05887e7160>,\n",
       " <spine_utils.Spine at 0x7f05887e7198>,\n",
       " <spine_utils.Spine at 0x7f05887e7208>,\n",
       " <spine_utils.Spine at 0x7f05887e7a58>,\n",
       " <spine_utils.Spine at 0x7f05887e7a90>,\n",
       " <spine_utils.Spine at 0x7f05887e7898>,\n",
       " <spine_utils.Spine at 0x7f05887e74a8>,\n",
       " <spine_utils.Spine at 0x7f05887e7240>,\n",
       " <spine_utils.Spine at 0x7f06e95780b8>,\n",
       " <spine_utils.Spine at 0x7f06e9578908>]"
      ]
     },
     "execution_count": 85,
     "metadata": {},
     "output_type": "execute_result"
    }
   ],
   "source": [
    "clusters = 6\n",
    "smoothness = 0.08\n",
    "\n",
    "\n",
    "# --- determining the shaft ---\n",
    "spu.shaft_mesh_volume_max_global = 0.7\n",
    "spu.shaft_close_hole_area_top_2_mean_max_global = 0.6\n",
    "spu.shaft_mesh_n_faces_min_global = 200\n",
    "\n",
    "sp_objs = spu.spine_objs_with_border_sk_endpoint_and_soma_filter_from_scratch_on_branch_obj(\n",
    "    mesh = mesh_dec,\n",
    "    skeleton = sk_cgal,\n",
    "    clusters = clusters,\n",
    "    smoothness = smoothness,\n",
    "    soma_vertex_nullification = False,\n",
    "    plot_segmentation=True,\n",
    "    plot_shaft=True,\n",
    "    plot = True\n",
    ")"
   ]
  },
  {
   "cell_type": "code",
   "execution_count": 86,
   "metadata": {},
   "outputs": [
    {
     "data": {
      "application/vnd.jupyter.widget-view+json": {
       "model_id": "793c9978082c490f88ab488d3a803481",
       "version_major": 2,
       "version_minor": 0
      },
      "text/plain": [
       "VBox(children=(Figure(camera=PerspectiveCamera(fov=46.0, position=(0.0, 0.0, 2.0), projectionMatrix=(1.0, 0.0,…"
      ]
     },
     "metadata": {},
     "output_type": "display_data"
    }
   ],
   "source": [
    "clusters = 6\n",
    "smoothness = 0.08\n",
    "\n",
    "\n",
    "# --- determining the shaft ---\n",
    "spu.shaft_mesh_volume_max_global = 0.7\n",
    "spu.shaft_close_hole_area_top_2_mean_max_global = 0.6\n",
    "spu.shaft_mesh_n_faces_min_global = 200\n",
    "\n",
    "nviz.plot_objects(\n",
    "    mesh_dec,\n",
    "    meshes = [k.mesh for k in Out[82]],\n",
    "    meshes_colors=\"red\",\n",
    "    buffer = 0\n",
    ")"
   ]
  },
  {
   "cell_type": "code",
   "execution_count": 208,
   "metadata": {},
   "outputs": [],
   "source": [
    "sp_objs_with_att = spu.calculate_spine_attributes_for_list(\n",
    "        sp_objs,\n",
    "        calculate_coordinates=False,\n",
    ")\n",
    "\n",
    "sp_objs_with_att = [spu.calculate_spine_obj_mesh_skeleton_coordinates(\n",
    "    spine_obj = k,\n",
    "    mesh = mesh_dec,\n",
    ") for k in sp_objs_with_att]"
   ]
  },
  {
   "cell_type": "code",
   "execution_count": 164,
   "metadata": {
    "scrolled": true
   },
   "outputs": [],
   "source": [
    "spine_df = spu.df_from_spine_objs(sp_objs_with_att,add_volume_to_area_ratio=True)"
   ]
  },
  {
   "cell_type": "code",
   "execution_count": 165,
   "metadata": {},
   "outputs": [
    {
     "data": {
      "text/plain": [
       "Index(['area', 'sdf_mean', 'n_faces', 'n_faces_head', 'n_faces_neck',\n",
       "       'mesh_center', 'sdf_mean', 'sdf_90_perc', 'sdf_70_perc',\n",
       "       'bbox_oriented_side_max', 'bbox_oriented_side_middle',\n",
       "       'bbox_oriented_side_min', 'n_heads', 'endpoint_dist_0',\n",
       "       'endpoint_dist_1', 'bbox_oriented_side_lengths', 'branch_idx',\n",
       "       'branch_skeletal_length', 'branch_width_at_base',\n",
       "       'branch_width_overall', 'closest_branch_face_idx',\n",
       "       'closest_face_coordinate', 'closest_face_dist', 'closest_sk_coordinate',\n",
       "       'compartment', 'coordinate', 'coordinate_border_verts',\n",
       "       'downstream_dist', 'endpoints_dist', 'head_bbox_oriented_side_lengths',\n",
       "       'head_mesh_splits', 'head_mesh_splits_face_idx', 'head_sdf',\n",
       "       'head_width', 'limb_idx', 'neck_bbox_oriented_side_lengths', 'neck_sdf',\n",
       "       'neck_width', 'skeletal_length', 'soma_distance',\n",
       "       'soma_distance_euclidean', 'spine_id', 'spine_volume_to_spine_area',\n",
       "       'upstream_dist', 'volume'],\n",
       "      dtype='object')"
      ]
     },
     "execution_count": 165,
     "metadata": {},
     "output_type": "execute_result"
    }
   ],
   "source": [
    "spine_df.columns"
   ]
  },
  {
   "cell_type": "code",
   "execution_count": 166,
   "metadata": {},
   "outputs": [
    {
     "data": {
      "text/html": [
       "<div>\n",
       "<style scoped>\n",
       "    .dataframe tbody tr th:only-of-type {\n",
       "        vertical-align: middle;\n",
       "    }\n",
       "\n",
       "    .dataframe tbody tr th {\n",
       "        vertical-align: top;\n",
       "    }\n",
       "\n",
       "    .dataframe thead th {\n",
       "        text-align: right;\n",
       "    }\n",
       "</style>\n",
       "<table border=\"1\" class=\"dataframe\">\n",
       "  <thead>\n",
       "    <tr style=\"text-align: right;\">\n",
       "      <th></th>\n",
       "      <th>skeletal_length</th>\n",
       "      <th>n_faces</th>\n",
       "      <th>volume</th>\n",
       "      <th>sdf_mean</th>\n",
       "      <th>sdf_mean</th>\n",
       "      <th>bbox_oriented_side_max</th>\n",
       "      <th>spine_volume_to_spine_area</th>\n",
       "    </tr>\n",
       "  </thead>\n",
       "  <tbody>\n",
       "    <tr>\n",
       "      <th>0</th>\n",
       "      <td>3.361074</td>\n",
       "      <td>9607</td>\n",
       "      <td>0.573038</td>\n",
       "      <td>0.341332</td>\n",
       "      <td>0.341332</td>\n",
       "      <td>1.871301</td>\n",
       "      <td>0.000090</td>\n",
       "    </tr>\n",
       "    <tr>\n",
       "      <th>1</th>\n",
       "      <td>2.664585</td>\n",
       "      <td>6458</td>\n",
       "      <td>0.340408</td>\n",
       "      <td>0.324174</td>\n",
       "      <td>0.324174</td>\n",
       "      <td>1.629400</td>\n",
       "      <td>0.000080</td>\n",
       "    </tr>\n",
       "    <tr>\n",
       "      <th>2</th>\n",
       "      <td>2.815139</td>\n",
       "      <td>6108</td>\n",
       "      <td>0.303771</td>\n",
       "      <td>0.293687</td>\n",
       "      <td>0.293687</td>\n",
       "      <td>1.793025</td>\n",
       "      <td>0.000074</td>\n",
       "    </tr>\n",
       "    <tr>\n",
       "      <th>3</th>\n",
       "      <td>3.238549</td>\n",
       "      <td>5236</td>\n",
       "      <td>0.337887</td>\n",
       "      <td>0.384542</td>\n",
       "      <td>0.384542</td>\n",
       "      <td>2.532083</td>\n",
       "      <td>0.000097</td>\n",
       "    </tr>\n",
       "    <tr>\n",
       "      <th>4</th>\n",
       "      <td>2.770849</td>\n",
       "      <td>4311</td>\n",
       "      <td>0.193360</td>\n",
       "      <td>0.292481</td>\n",
       "      <td>0.292481</td>\n",
       "      <td>1.529211</td>\n",
       "      <td>0.000068</td>\n",
       "    </tr>\n",
       "    <tr>\n",
       "      <th>5</th>\n",
       "      <td>2.551732</td>\n",
       "      <td>4224</td>\n",
       "      <td>0.170209</td>\n",
       "      <td>0.239192</td>\n",
       "      <td>0.239192</td>\n",
       "      <td>1.564757</td>\n",
       "      <td>0.000062</td>\n",
       "    </tr>\n",
       "    <tr>\n",
       "      <th>6</th>\n",
       "      <td>2.650013</td>\n",
       "      <td>4058</td>\n",
       "      <td>0.180103</td>\n",
       "      <td>0.288500</td>\n",
       "      <td>0.288500</td>\n",
       "      <td>1.898334</td>\n",
       "      <td>0.000070</td>\n",
       "    </tr>\n",
       "    <tr>\n",
       "      <th>7</th>\n",
       "      <td>2.869838</td>\n",
       "      <td>3845</td>\n",
       "      <td>0.193016</td>\n",
       "      <td>0.306781</td>\n",
       "      <td>0.306781</td>\n",
       "      <td>1.939753</td>\n",
       "      <td>0.000076</td>\n",
       "    </tr>\n",
       "    <tr>\n",
       "      <th>8</th>\n",
       "      <td>1.644207</td>\n",
       "      <td>3100</td>\n",
       "      <td>0.174588</td>\n",
       "      <td>0.327442</td>\n",
       "      <td>0.327442</td>\n",
       "      <td>1.086154</td>\n",
       "      <td>0.000084</td>\n",
       "    </tr>\n",
       "    <tr>\n",
       "      <th>9</th>\n",
       "      <td>3.199384</td>\n",
       "      <td>3040</td>\n",
       "      <td>0.096445</td>\n",
       "      <td>0.189544</td>\n",
       "      <td>0.189544</td>\n",
       "      <td>1.923746</td>\n",
       "      <td>0.000048</td>\n",
       "    </tr>\n",
       "    <tr>\n",
       "      <th>10</th>\n",
       "      <td>1.756993</td>\n",
       "      <td>2682</td>\n",
       "      <td>0.149849</td>\n",
       "      <td>0.345925</td>\n",
       "      <td>0.345925</td>\n",
       "      <td>1.412595</td>\n",
       "      <td>0.000084</td>\n",
       "    </tr>\n",
       "    <tr>\n",
       "      <th>11</th>\n",
       "      <td>1.767268</td>\n",
       "      <td>2191</td>\n",
       "      <td>0.075480</td>\n",
       "      <td>0.189477</td>\n",
       "      <td>0.189477</td>\n",
       "      <td>1.107839</td>\n",
       "      <td>0.000051</td>\n",
       "    </tr>\n",
       "    <tr>\n",
       "      <th>12</th>\n",
       "      <td>1.412049</td>\n",
       "      <td>1829</td>\n",
       "      <td>0.086459</td>\n",
       "      <td>0.296811</td>\n",
       "      <td>0.296811</td>\n",
       "      <td>0.937408</td>\n",
       "      <td>0.000070</td>\n",
       "    </tr>\n",
       "    <tr>\n",
       "      <th>13</th>\n",
       "      <td>1.574058</td>\n",
       "      <td>1745</td>\n",
       "      <td>0.060922</td>\n",
       "      <td>0.201022</td>\n",
       "      <td>0.201022</td>\n",
       "      <td>1.033379</td>\n",
       "      <td>0.000051</td>\n",
       "    </tr>\n",
       "    <tr>\n",
       "      <th>14</th>\n",
       "      <td>2.298034</td>\n",
       "      <td>1649</td>\n",
       "      <td>0.060138</td>\n",
       "      <td>0.225988</td>\n",
       "      <td>0.225988</td>\n",
       "      <td>1.819940</td>\n",
       "      <td>0.000054</td>\n",
       "    </tr>\n",
       "    <tr>\n",
       "      <th>15</th>\n",
       "      <td>1.743110</td>\n",
       "      <td>1561</td>\n",
       "      <td>0.052323</td>\n",
       "      <td>0.195725</td>\n",
       "      <td>0.195725</td>\n",
       "      <td>1.139147</td>\n",
       "      <td>0.000049</td>\n",
       "    </tr>\n",
       "    <tr>\n",
       "      <th>16</th>\n",
       "      <td>1.903580</td>\n",
       "      <td>1451</td>\n",
       "      <td>0.034824</td>\n",
       "      <td>0.139470</td>\n",
       "      <td>0.139470</td>\n",
       "      <td>1.335431</td>\n",
       "      <td>0.000036</td>\n",
       "    </tr>\n",
       "    <tr>\n",
       "      <th>17</th>\n",
       "      <td>1.836889</td>\n",
       "      <td>1362</td>\n",
       "      <td>0.034962</td>\n",
       "      <td>0.164199</td>\n",
       "      <td>0.164199</td>\n",
       "      <td>1.567823</td>\n",
       "      <td>0.000039</td>\n",
       "    </tr>\n",
       "    <tr>\n",
       "      <th>18</th>\n",
       "      <td>1.311466</td>\n",
       "      <td>1356</td>\n",
       "      <td>0.044028</td>\n",
       "      <td>0.195585</td>\n",
       "      <td>0.195585</td>\n",
       "      <td>0.919197</td>\n",
       "      <td>0.000050</td>\n",
       "    </tr>\n",
       "    <tr>\n",
       "      <th>19</th>\n",
       "      <td>1.538218</td>\n",
       "      <td>1207</td>\n",
       "      <td>0.031966</td>\n",
       "      <td>0.158988</td>\n",
       "      <td>0.158988</td>\n",
       "      <td>1.132083</td>\n",
       "      <td>0.000040</td>\n",
       "    </tr>\n",
       "    <tr>\n",
       "      <th>20</th>\n",
       "      <td>1.802171</td>\n",
       "      <td>1183</td>\n",
       "      <td>0.033462</td>\n",
       "      <td>0.169616</td>\n",
       "      <td>0.169616</td>\n",
       "      <td>1.388604</td>\n",
       "      <td>0.000042</td>\n",
       "    </tr>\n",
       "    <tr>\n",
       "      <th>21</th>\n",
       "      <td>0.882005</td>\n",
       "      <td>1148</td>\n",
       "      <td>0.047870</td>\n",
       "      <td>0.261851</td>\n",
       "      <td>0.261851</td>\n",
       "      <td>0.701449</td>\n",
       "      <td>0.000064</td>\n",
       "    </tr>\n",
       "    <tr>\n",
       "      <th>22</th>\n",
       "      <td>1.511459</td>\n",
       "      <td>1016</td>\n",
       "      <td>0.028454</td>\n",
       "      <td>0.181244</td>\n",
       "      <td>0.181244</td>\n",
       "      <td>1.009979</td>\n",
       "      <td>0.000042</td>\n",
       "    </tr>\n",
       "    <tr>\n",
       "      <th>23</th>\n",
       "      <td>1.686947</td>\n",
       "      <td>1015</td>\n",
       "      <td>0.028373</td>\n",
       "      <td>0.184574</td>\n",
       "      <td>0.184574</td>\n",
       "      <td>1.081558</td>\n",
       "      <td>0.000041</td>\n",
       "    </tr>\n",
       "    <tr>\n",
       "      <th>24</th>\n",
       "      <td>1.642860</td>\n",
       "      <td>893</td>\n",
       "      <td>0.021570</td>\n",
       "      <td>0.149119</td>\n",
       "      <td>0.149119</td>\n",
       "      <td>1.258934</td>\n",
       "      <td>0.000035</td>\n",
       "    </tr>\n",
       "    <tr>\n",
       "      <th>25</th>\n",
       "      <td>1.200025</td>\n",
       "      <td>877</td>\n",
       "      <td>0.022938</td>\n",
       "      <td>0.159083</td>\n",
       "      <td>0.159083</td>\n",
       "      <td>0.812892</td>\n",
       "      <td>0.000040</td>\n",
       "    </tr>\n",
       "    <tr>\n",
       "      <th>26</th>\n",
       "      <td>1.060651</td>\n",
       "      <td>849</td>\n",
       "      <td>0.027556</td>\n",
       "      <td>0.202501</td>\n",
       "      <td>0.202501</td>\n",
       "      <td>0.779438</td>\n",
       "      <td>0.000048</td>\n",
       "    </tr>\n",
       "    <tr>\n",
       "      <th>27</th>\n",
       "      <td>1.435118</td>\n",
       "      <td>815</td>\n",
       "      <td>0.018652</td>\n",
       "      <td>0.129641</td>\n",
       "      <td>0.129641</td>\n",
       "      <td>0.964799</td>\n",
       "      <td>0.000033</td>\n",
       "    </tr>\n",
       "    <tr>\n",
       "      <th>28</th>\n",
       "      <td>0.781631</td>\n",
       "      <td>560</td>\n",
       "      <td>0.015721</td>\n",
       "      <td>0.156772</td>\n",
       "      <td>0.156772</td>\n",
       "      <td>0.542248</td>\n",
       "      <td>0.000041</td>\n",
       "    </tr>\n",
       "    <tr>\n",
       "      <th>29</th>\n",
       "      <td>0.656009</td>\n",
       "      <td>531</td>\n",
       "      <td>0.014943</td>\n",
       "      <td>0.186587</td>\n",
       "      <td>0.186587</td>\n",
       "      <td>0.504172</td>\n",
       "      <td>0.000042</td>\n",
       "    </tr>\n",
       "    <tr>\n",
       "      <th>30</th>\n",
       "      <td>0.601876</td>\n",
       "      <td>307</td>\n",
       "      <td>0.011066</td>\n",
       "      <td>0.386792</td>\n",
       "      <td>0.386792</td>\n",
       "      <td>0.350188</td>\n",
       "      <td>0.000055</td>\n",
       "    </tr>\n",
       "  </tbody>\n",
       "</table>\n",
       "</div>"
      ],
      "text/plain": [
       "    skeletal_length  n_faces    volume  sdf_mean  sdf_mean  \\\n",
       "0          3.361074     9607  0.573038  0.341332  0.341332   \n",
       "1          2.664585     6458  0.340408  0.324174  0.324174   \n",
       "2          2.815139     6108  0.303771  0.293687  0.293687   \n",
       "3          3.238549     5236  0.337887  0.384542  0.384542   \n",
       "4          2.770849     4311  0.193360  0.292481  0.292481   \n",
       "5          2.551732     4224  0.170209  0.239192  0.239192   \n",
       "6          2.650013     4058  0.180103  0.288500  0.288500   \n",
       "7          2.869838     3845  0.193016  0.306781  0.306781   \n",
       "8          1.644207     3100  0.174588  0.327442  0.327442   \n",
       "9          3.199384     3040  0.096445  0.189544  0.189544   \n",
       "10         1.756993     2682  0.149849  0.345925  0.345925   \n",
       "11         1.767268     2191  0.075480  0.189477  0.189477   \n",
       "12         1.412049     1829  0.086459  0.296811  0.296811   \n",
       "13         1.574058     1745  0.060922  0.201022  0.201022   \n",
       "14         2.298034     1649  0.060138  0.225988  0.225988   \n",
       "15         1.743110     1561  0.052323  0.195725  0.195725   \n",
       "16         1.903580     1451  0.034824  0.139470  0.139470   \n",
       "17         1.836889     1362  0.034962  0.164199  0.164199   \n",
       "18         1.311466     1356  0.044028  0.195585  0.195585   \n",
       "19         1.538218     1207  0.031966  0.158988  0.158988   \n",
       "20         1.802171     1183  0.033462  0.169616  0.169616   \n",
       "21         0.882005     1148  0.047870  0.261851  0.261851   \n",
       "22         1.511459     1016  0.028454  0.181244  0.181244   \n",
       "23         1.686947     1015  0.028373  0.184574  0.184574   \n",
       "24         1.642860      893  0.021570  0.149119  0.149119   \n",
       "25         1.200025      877  0.022938  0.159083  0.159083   \n",
       "26         1.060651      849  0.027556  0.202501  0.202501   \n",
       "27         1.435118      815  0.018652  0.129641  0.129641   \n",
       "28         0.781631      560  0.015721  0.156772  0.156772   \n",
       "29         0.656009      531  0.014943  0.186587  0.186587   \n",
       "30         0.601876      307  0.011066  0.386792  0.386792   \n",
       "\n",
       "    bbox_oriented_side_max  spine_volume_to_spine_area  \n",
       "0                 1.871301                    0.000090  \n",
       "1                 1.629400                    0.000080  \n",
       "2                 1.793025                    0.000074  \n",
       "3                 2.532083                    0.000097  \n",
       "4                 1.529211                    0.000068  \n",
       "5                 1.564757                    0.000062  \n",
       "6                 1.898334                    0.000070  \n",
       "7                 1.939753                    0.000076  \n",
       "8                 1.086154                    0.000084  \n",
       "9                 1.923746                    0.000048  \n",
       "10                1.412595                    0.000084  \n",
       "11                1.107839                    0.000051  \n",
       "12                0.937408                    0.000070  \n",
       "13                1.033379                    0.000051  \n",
       "14                1.819940                    0.000054  \n",
       "15                1.139147                    0.000049  \n",
       "16                1.335431                    0.000036  \n",
       "17                1.567823                    0.000039  \n",
       "18                0.919197                    0.000050  \n",
       "19                1.132083                    0.000040  \n",
       "20                1.388604                    0.000042  \n",
       "21                0.701449                    0.000064  \n",
       "22                1.009979                    0.000042  \n",
       "23                1.081558                    0.000041  \n",
       "24                1.258934                    0.000035  \n",
       "25                0.812892                    0.000040  \n",
       "26                0.779438                    0.000048  \n",
       "27                0.964799                    0.000033  \n",
       "28                0.542248                    0.000041  \n",
       "29                0.504172                    0.000042  \n",
       "30                0.350188                    0.000055  "
      ]
     },
     "execution_count": 166,
     "metadata": {},
     "output_type": "execute_result"
    }
   ],
   "source": [
    "columns = [\n",
    "    \"skeletal_length\",\n",
    "    \"n_faces\",\n",
    "    \"volume\",\n",
    "    \"sdf_mean\",\n",
    "    \"bbox_oriented_side_max\",\n",
    "    \"spine_volume_to_spine_area\",\n",
    "]\n",
    "\n",
    "spine_df[columns]"
   ]
  },
  {
   "cell_type": "code",
   "execution_count": null,
   "metadata": {},
   "outputs": [],
   "source": [
    "not_spines = [30,]\n",
    "big_spine_would_like_split_by_smoothness = [\n",
    "    0,\n",
    "    7,\n",
    "    9,\n",
    "    \n",
    "]\n",
    "big_spines_with_self_touches = [\n",
    "    1,\n",
    "    2,\n",
    "    4, # self touch and some that could be separated\n",
    "    5,\n",
    "]\n",
    "spine_with_end_on_it = [3]\n",
    "double_head = [6,11,13]\n",
    "big_single_head = [8]"
   ]
  },
  {
   "cell_type": "code",
   "execution_count": 155,
   "metadata": {},
   "outputs": [
    {
     "name": "stdout",
     "output_type": "stream",
     "text": [
      "310 0.6 0.011 0.4 0.1 0.02\n"
     ]
    }
   ],
   "source": [
    "print(spu.spine_n_face_threshold_bare_min_global,\n",
    "spu.spine_sk_length_threshold_bare_min_global,\n",
    "spu.filter_by_volume_threshold_bare_min_global,\n",
    "spu.bbox_oriented_side_max_min_bare_min_global,\n",
    "spu.sdf_mean_min_bare_min_global,\n",
    "spu.spine_volume_to_spine_area_min_bare_min_global,)"
   ]
  },
  {
   "cell_type": "code",
   "execution_count": 210,
   "metadata": {},
   "outputs": [],
   "source": [
    "\n",
    "# --- shaft parameters ---\n",
    "spu.shaft_mesh_volume_max_global = 0.7\n",
    "spu.shaft_close_hole_area_top_2_mean_max_global = 0.6\n",
    "spu.shaft_mesh_n_faces_min_global = 200\n",
    "\n",
    "# spine filtering parameters\n",
    "spu.spine_n_face_threshold_bare_min_global = 310\n",
    "spu.spine_sk_length_threshold_bare_min_global = 0.6\n",
    "spu.filter_by_volume_threshold_bare_min_global = 0.011\n",
    "spu.bbox_oriented_side_max_min_bare_min_global = 0.4\n",
    "spu.sdf_mean_min_bare_min_global = 0.1\n",
    "spu.spine_volume_to_spine_area_min_bare_min_global = 0.00002\n",
    "\n",
    "# head neck segmentation\n",
    "spu.head_ray_trace_min_global = 0.3\n",
    "spu.head_face_min_global = 400"
   ]
  },
  {
   "cell_type": "code",
   "execution_count": 211,
   "metadata": {},
   "outputs": [
    {
     "name": "stdout",
     "output_type": "stream",
     "text": [
      "AFTER filtering len(sp_objs_filt) = 30\n"
     ]
    }
   ],
   "source": [
    "verbose = True\n",
    "sp_objs_filt = spu.filter_spine_objs_by_size_bare_minimum(sp_objs_with_att)\n",
    "if verbose:\n",
    "    print(f\"AFTER filtering len(sp_objs_filt) = {len(sp_objs_filt)}\")"
   ]
  },
  {
   "cell_type": "code",
   "execution_count": 212,
   "metadata": {
    "scrolled": true
   },
   "outputs": [
    {
     "data": {
      "application/vnd.jupyter.widget-view+json": {
       "model_id": "1d6e9b1aa2014b679d9eb8c3ef5f59b9",
       "version_major": 2,
       "version_minor": 0
      },
      "text/plain": [
       "  0%|          | 0/5 [00:00<?, ?it/s]"
      ]
     },
     "metadata": {},
     "output_type": "display_data"
    },
    {
     "name": "stderr",
     "output_type": "stream",
     "text": [
      "/meshAfterParty/meshAfterParty/trimesh_utils.py:1766: VisibleDeprecationWarning:\n",
      "\n",
      "Creating an ndarray from ragged nested sequences (which is a list-or-tuple of lists-or-tuples-or ndarrays with different lengths or shapes) is deprecated. If you meant to do this, you must specify 'dtype=object' when creating the ndarray\n",
      "\n",
      "/meshAfterParty/meshAfterParty/trimesh_utils.py:3595: VisibleDeprecationWarning:\n",
      "\n",
      "Creating an ndarray from ragged nested sequences (which is a list-or-tuple of lists-or-tuples-or ndarrays with different lengths or shapes) is deprecated. If you meant to do this, you must specify 'dtype=object' when creating the ndarray\n",
      "\n"
     ]
    },
    {
     "data": {
      "application/vnd.jupyter.widget-view+json": {
       "model_id": "09a48fab1e3c42c9889bb1bdc418798e",
       "version_major": 2,
       "version_minor": 0
      },
      "text/plain": [
       "  0%|          | 0/10 [00:00<?, ?it/s]"
      ]
     },
     "metadata": {},
     "output_type": "display_data"
    },
    {
     "data": {
      "application/vnd.jupyter.widget-view+json": {
       "model_id": "66f39f3ff4db4946b429098727df20fa",
       "version_major": 2,
       "version_minor": 0
      },
      "text/plain": [
       "  0%|          | 0/10 [00:00<?, ?it/s]"
      ]
     },
     "metadata": {},
     "output_type": "display_data"
    },
    {
     "data": {
      "application/vnd.jupyter.widget-view+json": {
       "model_id": "92da475dca7e445087c3887c88b052ef",
       "version_major": 2,
       "version_minor": 0
      },
      "text/plain": [
       "  0%|          | 0/4 [00:00<?, ?it/s]"
      ]
     },
     "metadata": {},
     "output_type": "display_data"
    },
    {
     "data": {
      "application/vnd.jupyter.widget-view+json": {
       "model_id": "a284be561dd84f0dbaef5d0d02171ffc",
       "version_major": 2,
       "version_minor": 0
      },
      "text/plain": [
       "  0%|          | 0/7 [00:00<?, ?it/s]"
      ]
     },
     "metadata": {},
     "output_type": "display_data"
    },
    {
     "data": {
      "application/vnd.jupyter.widget-view+json": {
       "model_id": "f2e7e85c7ee24ce28e2036da65a4878e",
       "version_major": 2,
       "version_minor": 0
      },
      "text/plain": [
       "  0%|          | 0/8 [00:00<?, ?it/s]"
      ]
     },
     "metadata": {},
     "output_type": "display_data"
    },
    {
     "data": {
      "application/vnd.jupyter.widget-view+json": {
       "model_id": "200d2ac9a4054c04b7e8a6c6bffe2f54",
       "version_major": 2,
       "version_minor": 0
      },
      "text/plain": [
       "  0%|          | 0/1 [00:00<?, ?it/s]"
      ]
     },
     "metadata": {},
     "output_type": "display_data"
    },
    {
     "data": {
      "application/vnd.jupyter.widget-view+json": {
       "model_id": "cc0f1250192b49169bb40bd3bfaabc29",
       "version_major": 2,
       "version_minor": 0
      },
      "text/plain": [
       "  0%|          | 0/12 [00:00<?, ?it/s]"
      ]
     },
     "metadata": {},
     "output_type": "display_data"
    },
    {
     "data": {
      "application/vnd.jupyter.widget-view+json": {
       "model_id": "96f08f238fc04fe889be73c63567aa03",
       "version_major": 2,
       "version_minor": 0
      },
      "text/plain": [
       "  0%|          | 0/12 [00:00<?, ?it/s]"
      ]
     },
     "metadata": {},
     "output_type": "display_data"
    },
    {
     "data": {
      "application/vnd.jupyter.widget-view+json": {
       "model_id": "1585c18740bb4c1a8b0bd6d86b928b4e",
       "version_major": 2,
       "version_minor": 0
      },
      "text/plain": [
       "  0%|          | 0/5 [00:00<?, ?it/s]"
      ]
     },
     "metadata": {},
     "output_type": "display_data"
    },
    {
     "data": {
      "application/vnd.jupyter.widget-view+json": {
       "model_id": "f5a87ba8c9884b99b84060de78d477d0",
       "version_major": 2,
       "version_minor": 0
      },
      "text/plain": [
       "  0%|          | 0/6 [00:00<?, ?it/s]"
      ]
     },
     "metadata": {},
     "output_type": "display_data"
    },
    {
     "data": {
      "application/vnd.jupyter.widget-view+json": {
       "model_id": "9a8b3378502d4aad97670cf63e67a7b3",
       "version_major": 2,
       "version_minor": 0
      },
      "text/plain": [
       "  0%|          | 0/8 [00:00<?, ?it/s]"
      ]
     },
     "metadata": {},
     "output_type": "display_data"
    },
    {
     "data": {
      "application/vnd.jupyter.widget-view+json": {
       "model_id": "4504a48757b64b20ad9d9e8e92c07a06",
       "version_major": 2,
       "version_minor": 0
      },
      "text/plain": [
       "  0%|          | 0/3 [00:00<?, ?it/s]"
      ]
     },
     "metadata": {},
     "output_type": "display_data"
    },
    {
     "data": {
      "application/vnd.jupyter.widget-view+json": {
       "model_id": "57f0ef83d3f846c79d70c62b0aa63bb2",
       "version_major": 2,
       "version_minor": 0
      },
      "text/plain": [
       "  0%|          | 0/7 [00:00<?, ?it/s]"
      ]
     },
     "metadata": {},
     "output_type": "display_data"
    },
    {
     "data": {
      "application/vnd.jupyter.widget-view+json": {
       "model_id": "47a6506707da4f36af45a1ad6af7970b",
       "version_major": 2,
       "version_minor": 0
      },
      "text/plain": [
       "  0%|          | 0/8 [00:00<?, ?it/s]"
      ]
     },
     "metadata": {},
     "output_type": "display_data"
    },
    {
     "data": {
      "application/vnd.jupyter.widget-view+json": {
       "model_id": "65fa3a8110254e40a0149ed085a5725f",
       "version_major": 2,
       "version_minor": 0
      },
      "text/plain": [
       "  0%|          | 0/3 [00:00<?, ?it/s]"
      ]
     },
     "metadata": {},
     "output_type": "display_data"
    },
    {
     "data": {
      "application/vnd.jupyter.widget-view+json": {
       "model_id": "9abd12f92355415986f4c7ef30db726d",
       "version_major": 2,
       "version_minor": 0
      },
      "text/plain": [
       "  0%|          | 0/6 [00:00<?, ?it/s]"
      ]
     },
     "metadata": {},
     "output_type": "display_data"
    },
    {
     "data": {
      "application/vnd.jupyter.widget-view+json": {
       "model_id": "347ffa12df8a40e6bd4b669e2d993532",
       "version_major": 2,
       "version_minor": 0
      },
      "text/plain": [
       "  0%|          | 0/8 [00:00<?, ?it/s]"
      ]
     },
     "metadata": {},
     "output_type": "display_data"
    },
    {
     "data": {
      "application/vnd.jupyter.widget-view+json": {
       "model_id": "dd28c4a4f95f484db0dee441689f0fcd",
       "version_major": 2,
       "version_minor": 0
      },
      "text/plain": [
       "  0%|          | 0/3 [00:00<?, ?it/s]"
      ]
     },
     "metadata": {},
     "output_type": "display_data"
    },
    {
     "data": {
      "application/vnd.jupyter.widget-view+json": {
       "model_id": "40feb27e265141dbbfa97df8b7043fa8",
       "version_major": 2,
       "version_minor": 0
      },
      "text/plain": [
       "  0%|          | 0/5 [00:00<?, ?it/s]"
      ]
     },
     "metadata": {},
     "output_type": "display_data"
    },
    {
     "data": {
      "application/vnd.jupyter.widget-view+json": {
       "model_id": "47e775910d634e57bc5bc979e16ce188",
       "version_major": 2,
       "version_minor": 0
      },
      "text/plain": [
       "  0%|          | 0/5 [00:00<?, ?it/s]"
      ]
     },
     "metadata": {},
     "output_type": "display_data"
    },
    {
     "data": {
      "application/vnd.jupyter.widget-view+json": {
       "model_id": "844baf28633945c69282f5babdeed826",
       "version_major": 2,
       "version_minor": 0
      },
      "text/plain": [
       "  0%|          | 0/3 [00:00<?, ?it/s]"
      ]
     },
     "metadata": {},
     "output_type": "display_data"
    },
    {
     "data": {
      "application/vnd.jupyter.widget-view+json": {
       "model_id": "a7c872c1aaed422e9e03bcbf069a1585",
       "version_major": 2,
       "version_minor": 0
      },
      "text/plain": [
       "  0%|          | 0/5 [00:00<?, ?it/s]"
      ]
     },
     "metadata": {},
     "output_type": "display_data"
    },
    {
     "data": {
      "application/vnd.jupyter.widget-view+json": {
       "model_id": "d3af66261eb84f2aa4bae3b3b6da8509",
       "version_major": 2,
       "version_minor": 0
      },
      "text/plain": [
       "  0%|          | 0/6 [00:00<?, ?it/s]"
      ]
     },
     "metadata": {},
     "output_type": "display_data"
    },
    {
     "data": {
      "application/vnd.jupyter.widget-view+json": {
       "model_id": "03bf1c195706418aa2c784780f1504d1",
       "version_major": 2,
       "version_minor": 0
      },
      "text/plain": [
       "  0%|          | 0/3 [00:00<?, ?it/s]"
      ]
     },
     "metadata": {},
     "output_type": "display_data"
    },
    {
     "data": {
      "application/vnd.jupyter.widget-view+json": {
       "model_id": "6725d12b906f459199d10d378e9fd32b",
       "version_major": 2,
       "version_minor": 0
      },
      "text/plain": [
       "  0%|          | 0/3 [00:00<?, ?it/s]"
      ]
     },
     "metadata": {},
     "output_type": "display_data"
    },
    {
     "data": {
      "application/vnd.jupyter.widget-view+json": {
       "model_id": "cb21dddd740a403e99f6b5b405f46973",
       "version_major": 2,
       "version_minor": 0
      },
      "text/plain": [
       "  0%|          | 0/4 [00:00<?, ?it/s]"
      ]
     },
     "metadata": {},
     "output_type": "display_data"
    },
    {
     "data": {
      "application/vnd.jupyter.widget-view+json": {
       "model_id": "c43f2d71a50a4d4fa282826b340f3df4",
       "version_major": 2,
       "version_minor": 0
      },
      "text/plain": [
       "  0%|          | 0/6 [00:00<?, ?it/s]"
      ]
     },
     "metadata": {},
     "output_type": "display_data"
    },
    {
     "data": {
      "application/vnd.jupyter.widget-view+json": {
       "model_id": "c29c5ffb9b8049f892808f39cf043b6e",
       "version_major": 2,
       "version_minor": 0
      },
      "text/plain": [
       "  0%|          | 0/8 [00:00<?, ?it/s]"
      ]
     },
     "metadata": {},
     "output_type": "display_data"
    },
    {
     "data": {
      "application/vnd.jupyter.widget-view+json": {
       "model_id": "a0a7ad612a4d42deb4511d30d69fe02d",
       "version_major": 2,
       "version_minor": 0
      },
      "text/plain": [
       "  0%|          | 0/6 [00:00<?, ?it/s]"
      ]
     },
     "metadata": {},
     "output_type": "display_data"
    },
    {
     "data": {
      "application/vnd.jupyter.widget-view+json": {
       "model_id": "2a674b2b2835400499a859f1aa63d0fe",
       "version_major": 2,
       "version_minor": 0
      },
      "text/plain": [
       "  0%|          | 0/2 [00:00<?, ?it/s]"
      ]
     },
     "metadata": {},
     "output_type": "display_data"
    },
    {
     "data": {
      "application/vnd.jupyter.widget-view+json": {
       "model_id": "ab7d54d707e448388ec05edb43ddcb58",
       "version_major": 2,
       "version_minor": 0
      },
      "text/plain": [
       "  0%|          | 0/3 [00:00<?, ?it/s]"
      ]
     },
     "metadata": {},
     "output_type": "display_data"
    },
    {
     "data": {
      "application/vnd.jupyter.widget-view+json": {
       "model_id": "25b96beee337482a840dc4bb1d14a77c",
       "version_major": 2,
       "version_minor": 0
      },
      "text/plain": [
       "  0%|          | 0/5 [00:00<?, ?it/s]"
      ]
     },
     "metadata": {},
     "output_type": "display_data"
    },
    {
     "data": {
      "application/vnd.jupyter.widget-view+json": {
       "model_id": "e622845d7be94087a161522cdb3a01ac",
       "version_major": 2,
       "version_minor": 0
      },
      "text/plain": [
       "  0%|          | 0/3 [00:00<?, ?it/s]"
      ]
     },
     "metadata": {},
     "output_type": "display_data"
    },
    {
     "data": {
      "application/vnd.jupyter.widget-view+json": {
       "model_id": "6a0b98361bcf4814ab9bec832dc850e7",
       "version_major": 2,
       "version_minor": 0
      },
      "text/plain": [
       "  0%|          | 0/2 [00:00<?, ?it/s]"
      ]
     },
     "metadata": {},
     "output_type": "display_data"
    },
    {
     "data": {
      "application/vnd.jupyter.widget-view+json": {
       "model_id": "42c10babd35146cd930720d4aa907bb1",
       "version_major": 2,
       "version_minor": 0
      },
      "text/plain": [
       "  0%|          | 0/5 [00:00<?, ?it/s]"
      ]
     },
     "metadata": {},
     "output_type": "display_data"
    },
    {
     "data": {
      "application/vnd.jupyter.widget-view+json": {
       "model_id": "9db8ceb9533f4297b4898b1da07d42b2",
       "version_major": 2,
       "version_minor": 0
      },
      "text/plain": [
       "  0%|          | 0/3 [00:00<?, ?it/s]"
      ]
     },
     "metadata": {},
     "output_type": "display_data"
    },
    {
     "data": {
      "application/vnd.jupyter.widget-view+json": {
       "model_id": "7ea5865036524a23b8210d3d1a81dd34",
       "version_major": 2,
       "version_minor": 0
      },
      "text/plain": [
       "  0%|          | 0/3 [00:00<?, ?it/s]"
      ]
     },
     "metadata": {},
     "output_type": "display_data"
    },
    {
     "data": {
      "application/vnd.jupyter.widget-view+json": {
       "model_id": "5a668ec195f0444aabd8442b17909b9a",
       "version_major": 2,
       "version_minor": 0
      },
      "text/plain": [
       "  0%|          | 0/3 [00:00<?, ?it/s]"
      ]
     },
     "metadata": {},
     "output_type": "display_data"
    },
    {
     "data": {
      "application/vnd.jupyter.widget-view+json": {
       "model_id": "83b9208a135742e7ae1c4d3593a0a660",
       "version_major": 2,
       "version_minor": 0
      },
      "text/plain": [
       "  0%|          | 0/3 [00:00<?, ?it/s]"
      ]
     },
     "metadata": {},
     "output_type": "display_data"
    },
    {
     "data": {
      "application/vnd.jupyter.widget-view+json": {
       "model_id": "9831d6763e964256948eb93f143a6c55",
       "version_major": 2,
       "version_minor": 0
      },
      "text/plain": [
       "  0%|          | 0/3 [00:00<?, ?it/s]"
      ]
     },
     "metadata": {},
     "output_type": "display_data"
    },
    {
     "data": {
      "application/vnd.jupyter.widget-view+json": {
       "model_id": "51bb0c105f154087b15bcd3f1b50bdf7",
       "version_major": 2,
       "version_minor": 0
      },
      "text/plain": [
       "  0%|          | 0/4 [00:00<?, ?it/s]"
      ]
     },
     "metadata": {},
     "output_type": "display_data"
    },
    {
     "data": {
      "application/vnd.jupyter.widget-view+json": {
       "model_id": "6a61afe0206a4bbba8999aeff556ccfe",
       "version_major": 2,
       "version_minor": 0
      },
      "text/plain": [
       "  0%|          | 0/3 [00:00<?, ?it/s]"
      ]
     },
     "metadata": {},
     "output_type": "display_data"
    },
    {
     "data": {
      "application/vnd.jupyter.widget-view+json": {
       "model_id": "f7d762a4049848918d8518d2b165237c",
       "version_major": 2,
       "version_minor": 0
      },
      "text/plain": [
       "  0%|          | 0/3 [00:00<?, ?it/s]"
      ]
     },
     "metadata": {},
     "output_type": "display_data"
    },
    {
     "data": {
      "application/vnd.jupyter.widget-view+json": {
       "model_id": "b1dde624dc4d423889719d9af6c1be13",
       "version_major": 2,
       "version_minor": 0
      },
      "text/plain": [
       "  0%|          | 0/4 [00:00<?, ?it/s]"
      ]
     },
     "metadata": {},
     "output_type": "display_data"
    },
    {
     "data": {
      "application/vnd.jupyter.widget-view+json": {
       "model_id": "1f03a9032e544ce191bdd337fa26c95c",
       "version_major": 2,
       "version_minor": 0
      },
      "text/plain": [
       "  0%|          | 0/1 [00:00<?, ?it/s]"
      ]
     },
     "metadata": {},
     "output_type": "display_data"
    },
    {
     "data": {
      "application/vnd.jupyter.widget-view+json": {
       "model_id": "4f85fd8c47d74900ae4d8142e8ecd9a3",
       "version_major": 2,
       "version_minor": 0
      },
      "text/plain": [
       "  0%|          | 0/1 [00:00<?, ?it/s]"
      ]
     },
     "metadata": {},
     "output_type": "display_data"
    },
    {
     "data": {
      "application/vnd.jupyter.widget-view+json": {
       "model_id": "cc38c1f5e6fb400085bc70a6fc1d85a7",
       "version_major": 2,
       "version_minor": 0
      },
      "text/plain": [
       "  0%|          | 0/1 [00:00<?, ?it/s]"
      ]
     },
     "metadata": {},
     "output_type": "display_data"
    },
    {
     "data": {
      "application/vnd.jupyter.widget-view+json": {
       "model_id": "54833ffda1a6417a989f1833485fc4c4",
       "version_major": 2,
       "version_minor": 0
      },
      "text/plain": [
       "  0%|          | 0/2 [00:00<?, ?it/s]"
      ]
     },
     "metadata": {},
     "output_type": "display_data"
    },
    {
     "data": {
      "application/vnd.jupyter.widget-view+json": {
       "model_id": "d0c292d70d7349c4a777416e9ade2e15",
       "version_major": 2,
       "version_minor": 0
      },
      "text/plain": [
       "  0%|          | 0/4 [00:00<?, ?it/s]"
      ]
     },
     "metadata": {},
     "output_type": "display_data"
    },
    {
     "data": {
      "application/vnd.jupyter.widget-view+json": {
       "model_id": "d631796a44ef4022b8dc6e395f57ed7a",
       "version_major": 2,
       "version_minor": 0
      },
      "text/plain": [
       "  0%|          | 0/4 [00:00<?, ?it/s]"
      ]
     },
     "metadata": {},
     "output_type": "display_data"
    },
    {
     "data": {
      "application/vnd.jupyter.widget-view+json": {
       "model_id": "7e00c121207d4719bf82f54d76c3973c",
       "version_major": 2,
       "version_minor": 0
      },
      "text/plain": [
       "  0%|          | 0/2 [00:00<?, ?it/s]"
      ]
     },
     "metadata": {},
     "output_type": "display_data"
    },
    {
     "data": {
      "application/vnd.jupyter.widget-view+json": {
       "model_id": "a68af330c08a4d59a7e72ef9cff3ea01",
       "version_major": 2,
       "version_minor": 0
      },
      "text/plain": [
       "  0%|          | 0/2 [00:00<?, ?it/s]"
      ]
     },
     "metadata": {},
     "output_type": "display_data"
    },
    {
     "data": {
      "application/vnd.jupyter.widget-view+json": {
       "model_id": "968584b21f0542d68bad9870b4b0326a",
       "version_major": 2,
       "version_minor": 0
      },
      "text/plain": [
       "  0%|          | 0/4 [00:00<?, ?it/s]"
      ]
     },
     "metadata": {},
     "output_type": "display_data"
    },
    {
     "data": {
      "application/vnd.jupyter.widget-view+json": {
       "model_id": "682036c3cb9b4660863b49da0bb26a3f",
       "version_major": 2,
       "version_minor": 0
      },
      "text/plain": [
       "  0%|          | 0/1 [00:00<?, ?it/s]"
      ]
     },
     "metadata": {},
     "output_type": "display_data"
    },
    {
     "data": {
      "application/vnd.jupyter.widget-view+json": {
       "model_id": "dc55f1e048784d00a5ba26a5b5d425c1",
       "version_major": 2,
       "version_minor": 0
      },
      "text/plain": [
       "  0%|          | 0/1 [00:00<?, ?it/s]"
      ]
     },
     "metadata": {},
     "output_type": "display_data"
    },
    {
     "data": {
      "application/vnd.jupyter.widget-view+json": {
       "model_id": "69659b0b4f0a45f99298f8e574b4b7b7",
       "version_major": 2,
       "version_minor": 0
      },
      "text/plain": [
       "  0%|          | 0/1 [00:00<?, ?it/s]"
      ]
     },
     "metadata": {},
     "output_type": "display_data"
    },
    {
     "data": {
      "application/vnd.jupyter.widget-view+json": {
       "model_id": "1f70a72978214791a987b7bf7c7959d8",
       "version_major": 2,
       "version_minor": 0
      },
      "text/plain": [
       "  0%|          | 0/3 [00:00<?, ?it/s]"
      ]
     },
     "metadata": {},
     "output_type": "display_data"
    },
    {
     "data": {
      "application/vnd.jupyter.widget-view+json": {
       "model_id": "38779f3606fd440383dea0004e9b0b7f",
       "version_major": 2,
       "version_minor": 0
      },
      "text/plain": [
       "  0%|          | 0/4 [00:00<?, ?it/s]"
      ]
     },
     "metadata": {},
     "output_type": "display_data"
    },
    {
     "data": {
      "application/vnd.jupyter.widget-view+json": {
       "model_id": "b677cf8b05b54d64867964bafc94ba7b",
       "version_major": 2,
       "version_minor": 0
      },
      "text/plain": [
       "  0%|          | 0/4 [00:00<?, ?it/s]"
      ]
     },
     "metadata": {},
     "output_type": "display_data"
    },
    {
     "data": {
      "application/vnd.jupyter.widget-view+json": {
       "model_id": "0213074995494d1ea11809e0ec4253b7",
       "version_major": 2,
       "version_minor": 0
      },
      "text/plain": [
       "  0%|          | 0/1 [00:00<?, ?it/s]"
      ]
     },
     "metadata": {},
     "output_type": "display_data"
    },
    {
     "data": {
      "application/vnd.jupyter.widget-view+json": {
       "model_id": "ba5d60f811e146578d501cdc246e1950",
       "version_major": 2,
       "version_minor": 0
      },
      "text/plain": [
       "  0%|          | 0/1 [00:00<?, ?it/s]"
      ]
     },
     "metadata": {},
     "output_type": "display_data"
    },
    {
     "data": {
      "application/vnd.jupyter.widget-view+json": {
       "model_id": "bbfa66320564489a92f800776bfaa212",
       "version_major": 2,
       "version_minor": 0
      },
      "text/plain": [
       "  0%|          | 0/1 [00:00<?, ?it/s]"
      ]
     },
     "metadata": {},
     "output_type": "display_data"
    },
    {
     "data": {
      "application/vnd.jupyter.widget-view+json": {
       "model_id": "3f43f1c4783f4018b7c69039cd6c1029",
       "version_major": 2,
       "version_minor": 0
      },
      "text/plain": [
       "  0%|          | 0/1 [00:00<?, ?it/s]"
      ]
     },
     "metadata": {},
     "output_type": "display_data"
    },
    {
     "data": {
      "application/vnd.jupyter.widget-view+json": {
       "model_id": "0d6ccc8312ab489aabdc1266660e4b81",
       "version_major": 2,
       "version_minor": 0
      },
      "text/plain": [
       "  0%|          | 0/1 [00:00<?, ?it/s]"
      ]
     },
     "metadata": {},
     "output_type": "display_data"
    },
    {
     "data": {
      "application/vnd.jupyter.widget-view+json": {
       "model_id": "16b285870f5743fd852514611f2cae76",
       "version_major": 2,
       "version_minor": 0
      },
      "text/plain": [
       "  0%|          | 0/1 [00:00<?, ?it/s]"
      ]
     },
     "metadata": {},
     "output_type": "display_data"
    },
    {
     "data": {
      "application/vnd.jupyter.widget-view+json": {
       "model_id": "0bb15967031a4c18b3989752ee3537a8",
       "version_major": 2,
       "version_minor": 0
      },
      "text/plain": [
       "  0%|          | 0/1 [00:00<?, ?it/s]"
      ]
     },
     "metadata": {},
     "output_type": "display_data"
    },
    {
     "data": {
      "application/vnd.jupyter.widget-view+json": {
       "model_id": "49ad203516c94fbc92e52a73c80c7a64",
       "version_major": 2,
       "version_minor": 0
      },
      "text/plain": [
       "  0%|          | 0/1 [00:00<?, ?it/s]"
      ]
     },
     "metadata": {},
     "output_type": "display_data"
    },
    {
     "data": {
      "application/vnd.jupyter.widget-view+json": {
       "model_id": "8de1d2b0bc3342758f3b05e386079341",
       "version_major": 2,
       "version_minor": 0
      },
      "text/plain": [
       "  0%|          | 0/1 [00:00<?, ?it/s]"
      ]
     },
     "metadata": {},
     "output_type": "display_data"
    },
    {
     "data": {
      "application/vnd.jupyter.widget-view+json": {
       "model_id": "306cf05289c24998bf1ccfa47ea2480d",
       "version_major": 2,
       "version_minor": 0
      },
      "text/plain": [
       "  0%|          | 0/2 [00:00<?, ?it/s]"
      ]
     },
     "metadata": {},
     "output_type": "display_data"
    },
    {
     "data": {
      "application/vnd.jupyter.widget-view+json": {
       "model_id": "c5ecc93ee0034c7fb919362c9417fc11",
       "version_major": 2,
       "version_minor": 0
      },
      "text/plain": [
       "  0%|          | 0/4 [00:00<?, ?it/s]"
      ]
     },
     "metadata": {},
     "output_type": "display_data"
    },
    {
     "data": {
      "application/vnd.jupyter.widget-view+json": {
       "model_id": "ad46401f953a4a15ab1b0632d5fda129",
       "version_major": 2,
       "version_minor": 0
      },
      "text/plain": [
       "  0%|          | 0/4 [00:00<?, ?it/s]"
      ]
     },
     "metadata": {},
     "output_type": "display_data"
    },
    {
     "data": {
      "application/vnd.jupyter.widget-view+json": {
       "model_id": "3b513f8c8b994fd09477ba1a5e5dd7a9",
       "version_major": 2,
       "version_minor": 0
      },
      "text/plain": [
       "  0%|          | 0/2 [00:00<?, ?it/s]"
      ]
     },
     "metadata": {},
     "output_type": "display_data"
    },
    {
     "data": {
      "application/vnd.jupyter.widget-view+json": {
       "model_id": "f7a198ab890445b597da1da3707f9fc5",
       "version_major": 2,
       "version_minor": 0
      },
      "text/plain": [
       "  0%|          | 0/3 [00:00<?, ?it/s]"
      ]
     },
     "metadata": {},
     "output_type": "display_data"
    },
    {
     "data": {
      "application/vnd.jupyter.widget-view+json": {
       "model_id": "2f969c2abbe840599e98396ad421eec0",
       "version_major": 2,
       "version_minor": 0
      },
      "text/plain": [
       "  0%|          | 0/5 [00:00<?, ?it/s]"
      ]
     },
     "metadata": {},
     "output_type": "display_data"
    },
    {
     "data": {
      "application/vnd.jupyter.widget-view+json": {
       "model_id": "7c25f21f8be84fb1858059d147332b45",
       "version_major": 2,
       "version_minor": 0
      },
      "text/plain": [
       "  0%|          | 0/1 [00:00<?, ?it/s]"
      ]
     },
     "metadata": {},
     "output_type": "display_data"
    },
    {
     "data": {
      "application/vnd.jupyter.widget-view+json": {
       "model_id": "1d1f36fd706f4d88ada3874a6fe8d2b4",
       "version_major": 2,
       "version_minor": 0
      },
      "text/plain": [
       "  0%|          | 0/1 [00:00<?, ?it/s]"
      ]
     },
     "metadata": {},
     "output_type": "display_data"
    },
    {
     "data": {
      "application/vnd.jupyter.widget-view+json": {
       "model_id": "8b4098dfe2fb45eaa98f443a0fcace5c",
       "version_major": 2,
       "version_minor": 0
      },
      "text/plain": [
       "  0%|          | 0/1 [00:00<?, ?it/s]"
      ]
     },
     "metadata": {},
     "output_type": "display_data"
    },
    {
     "data": {
      "application/vnd.jupyter.widget-view+json": {
       "model_id": "742989d1b9574508a8b6a68c292effae",
       "version_major": 2,
       "version_minor": 0
      },
      "text/plain": [
       "  0%|          | 0/1 [00:00<?, ?it/s]"
      ]
     },
     "metadata": {},
     "output_type": "display_data"
    },
    {
     "data": {
      "application/vnd.jupyter.widget-view+json": {
       "model_id": "675790ad52894ab499643b24299cd6d0",
       "version_major": 2,
       "version_minor": 0
      },
      "text/plain": [
       "  0%|          | 0/1 [00:00<?, ?it/s]"
      ]
     },
     "metadata": {},
     "output_type": "display_data"
    },
    {
     "data": {
      "application/vnd.jupyter.widget-view+json": {
       "model_id": "da4fd0fe321b4b82a87f5b7770e95e47",
       "version_major": 2,
       "version_minor": 0
      },
      "text/plain": [
       "  0%|          | 0/1 [00:00<?, ?it/s]"
      ]
     },
     "metadata": {},
     "output_type": "display_data"
    },
    {
     "data": {
      "application/vnd.jupyter.widget-view+json": {
       "model_id": "75f5b99c69d443498f82bafdbaca3f8f",
       "version_major": 2,
       "version_minor": 0
      },
      "text/plain": [
       "  0%|          | 0/1 [00:00<?, ?it/s]"
      ]
     },
     "metadata": {},
     "output_type": "display_data"
    },
    {
     "data": {
      "application/vnd.jupyter.widget-view+json": {
       "model_id": "5aa01e7ec5874829b36ffa24e8a96631",
       "version_major": 2,
       "version_minor": 0
      },
      "text/plain": [
       "  0%|          | 0/1 [00:00<?, ?it/s]"
      ]
     },
     "metadata": {},
     "output_type": "display_data"
    },
    {
     "data": {
      "application/vnd.jupyter.widget-view+json": {
       "model_id": "3007fbfc250b499ea8d99b01dde3cfb2",
       "version_major": 2,
       "version_minor": 0
      },
      "text/plain": [
       "  0%|          | 0/1 [00:00<?, ?it/s]"
      ]
     },
     "metadata": {},
     "output_type": "display_data"
    },
    {
     "data": {
      "application/vnd.jupyter.widget-view+json": {
       "model_id": "709654a467d34b43b746df33f1e60650",
       "version_major": 2,
       "version_minor": 0
      },
      "text/plain": [
       "  0%|          | 0/1 [00:00<?, ?it/s]"
      ]
     },
     "metadata": {},
     "output_type": "display_data"
    },
    {
     "data": {
      "application/vnd.jupyter.widget-view+json": {
       "model_id": "a4990a98b3314a06b35f97351859553f",
       "version_major": 2,
       "version_minor": 0
      },
      "text/plain": [
       "  0%|          | 0/1 [00:00<?, ?it/s]"
      ]
     },
     "metadata": {},
     "output_type": "display_data"
    },
    {
     "data": {
      "application/vnd.jupyter.widget-view+json": {
       "model_id": "e09cc925fce34f8596a27988d6b92f32",
       "version_major": 2,
       "version_minor": 0
      },
      "text/plain": [
       "  0%|          | 0/1 [00:00<?, ?it/s]"
      ]
     },
     "metadata": {},
     "output_type": "display_data"
    },
    {
     "data": {
      "application/vnd.jupyter.widget-view+json": {
       "model_id": "68a07d1b62004207b9cd479a9332b1b6",
       "version_major": 2,
       "version_minor": 0
      },
      "text/plain": [
       "  0%|          | 0/1 [00:00<?, ?it/s]"
      ]
     },
     "metadata": {},
     "output_type": "display_data"
    },
    {
     "data": {
      "application/vnd.jupyter.widget-view+json": {
       "model_id": "20ae9bc64ef14a919d235d199148296f",
       "version_major": 2,
       "version_minor": 0
      },
      "text/plain": [
       "  0%|          | 0/1 [00:00<?, ?it/s]"
      ]
     },
     "metadata": {},
     "output_type": "display_data"
    },
    {
     "data": {
      "application/vnd.jupyter.widget-view+json": {
       "model_id": "80516123a6b74590a9a7d3cea506751b",
       "version_major": 2,
       "version_minor": 0
      },
      "text/plain": [
       "  0%|          | 0/1 [00:00<?, ?it/s]"
      ]
     },
     "metadata": {},
     "output_type": "display_data"
    }
   ],
   "source": [
    "spu.head_ray_trace_min_global = 0.3\n",
    "spu.head_face_min_global = 400\n",
    "sp_objs_filt_head_neck = spu.calculate_spine_attributes_for_list(sp_objs_filt,calculate_head_neck=True, mesh = mesh_dec)"
   ]
  },
  {
   "cell_type": "code",
   "execution_count": 213,
   "metadata": {},
   "outputs": [
    {
     "data": {
      "text/plain": [
       "(<trimesh.Trimesh(vertices.shape=(2057, 3), faces.shape=(4025, 3))>, 2)"
      ]
     },
     "execution_count": 213,
     "metadata": {},
     "output_type": "execute_result"
    }
   ],
   "source": [
    "sp_obj = sp_objs_filt_head_neck[0]\n",
    "sp_obj.head_mesh,sp_obj.n_heads"
   ]
  },
  {
   "cell_type": "code",
   "execution_count": 214,
   "metadata": {},
   "outputs": [
    {
     "name": "stdout",
     "output_type": "stream",
     "text": [
      "head_meshes = [<trimesh.Trimesh(vertices.shape=(2057, 3), faces.shape=(4025, 3))>, <trimesh.Trimesh(vertices.shape=(2819, 3), faces.shape=(5544, 3))>, <trimesh.Trimesh(vertices.shape=(1403, 3), faces.shape=(2671, 3))>, <trimesh.Trimesh(vertices.shape=(1006, 3), faces.shape=(1944, 3))>, <trimesh.Trimesh(vertices.shape=(1113, 3), faces.shape=(2175, 3))>, <trimesh.Trimesh(vertices.shape=(743, 3), faces.shape=(1451, 3))>, <trimesh.Trimesh(vertices.shape=(1100, 3), faces.shape=(2185, 3))>, <trimesh.Trimesh(vertices.shape=(1224, 3), faces.shape=(2401, 3))>, <trimesh.Trimesh(vertices.shape=(1182, 3), faces.shape=(2335, 3))>, <trimesh.Trimesh(vertices.shape=(687, 3), faces.shape=(1330, 3))>, <trimesh.Trimesh(vertices.shape=(1145, 3), faces.shape=(2272, 3))>, <trimesh.Trimesh(vertices.shape=(270, 3), faces.shape=(514, 3))>, <trimesh.Trimesh(vertices.shape=(340, 3), faces.shape=(656, 3))>]\n"
     ]
    },
    {
     "name": "stderr",
     "output_type": "stream",
     "text": [
      "/usr/local/lib/python3.6/dist-packages/traittypes/traittypes.py:101: UserWarning:\n",
      "\n",
      "Given trait value dtype \"float64\" does not match required type \"float64\". A coerced copy has been created.\n",
      "\n"
     ]
    },
    {
     "data": {
      "application/vnd.jupyter.widget-view+json": {
       "model_id": "39247d141b14433e9fa80fb5ce4c3de0",
       "version_major": 2,
       "version_minor": 0
      },
      "text/plain": [
       "HBox(children=(FloatSlider(value=0.3, description='Size', max=3.0), Dropdown(description='Geo', index=3, optio…"
      ]
     },
     "metadata": {},
     "output_type": "display_data"
    },
    {
     "data": {
      "application/vnd.jupyter.widget-view+json": {
       "model_id": "8dd01672c3234100a5f4efddeebb6f3c",
       "version_major": 2,
       "version_minor": 0
      },
      "text/plain": [
       "HBox(children=(FloatSlider(value=0.3, description='Size', max=3.0), Dropdown(description='Geo', index=3, optio…"
      ]
     },
     "metadata": {},
     "output_type": "display_data"
    },
    {
     "data": {
      "application/vnd.jupyter.widget-view+json": {
       "model_id": "8a33e88f58944ddd9e87637056e57a5f",
       "version_major": 2,
       "version_minor": 0
      },
      "text/plain": [
       "VBox(children=(Figure(camera=PerspectiveCamera(fov=46.0, position=(0.0, 0.0, 2.0), projectionMatrix=(1.0, 0.0,…"
      ]
     },
     "metadata": {},
     "output_type": "display_data"
    }
   ],
   "source": [
    "spu.plot_spines_objs_with_head_neck_and_coordinates(\n",
    "    sp_objs_filt_head_neck,\n",
    "    mesh = mesh_dec,\n",
    ")"
   ]
  },
  {
   "cell_type": "code",
   "execution_count": null,
   "metadata": {},
   "outputs": [],
   "source": [
    "sdfs=[0.242122  0.2696905 0.394093  0.439196  0.733061 ], ray_trace_perc = [0.23194992 0.58525092 0.35166066 0.35188387 0.17948695], mesh_sizes = [ 607 4864 2035 1990  111]"
   ]
  },
  {
   "cell_type": "code",
   "execution_count": null,
   "metadata": {},
   "outputs": [],
   "source": []
  },
  {
   "cell_type": "code",
   "execution_count": 190,
   "metadata": {},
   "outputs": [
    {
     "data": {
      "text/plain": [
       "0.09"
      ]
     },
     "execution_count": 190,
     "metadata": {},
     "output_type": "execute_result"
    }
   ],
   "source": [
    "spu.head_smoothness_global"
   ]
  },
  {
   "cell_type": "code",
   "execution_count": 192,
   "metadata": {
    "scrolled": false
   },
   "outputs": [
    {
     "name": "stdout",
     "output_type": "stream",
     "text": [
      "Using clusters 2\n"
     ]
    },
    {
     "data": {
      "application/vnd.jupyter.widget-view+json": {
       "model_id": "80715e7de3a94001aeed554cde15b48f",
       "version_major": 2,
       "version_minor": 0
      },
      "text/plain": [
       "  0%|          | 0/1 [00:00<?, ?it/s]"
      ]
     },
     "metadata": {},
     "output_type": "display_data"
    },
    {
     "name": "stdout",
     "output_type": "stream",
     "text": [
      "Initial segmentation with clusters = 2, smoothness = 0.03\n"
     ]
    },
    {
     "data": {
      "application/vnd.jupyter.widget-view+json": {
       "model_id": "a645ebbaa7794742a98e8e3f2d223c19",
       "version_major": 2,
       "version_minor": 0
      },
      "text/plain": [
       "VBox(children=(Figure(camera=PerspectiveCamera(fov=46.0, position=(0.0, 0.0, 2.0), projectionMatrix=(1.0, 0.0,…"
      ]
     },
     "metadata": {},
     "output_type": "display_data"
    },
    {
     "name": "stdout",
     "output_type": "stream",
     "text": [
      "sdfs=[0.], ray_trace_perc = [0.26589453], mesh_sizes = [1148]\n",
      "Thresholds: head_ray_trace_min = 0.3, head_face_min = 600\n",
      "head_obj_idx = []\n",
      "head_obj_idx = []\n",
      "neck_obj_idx= [0]\n",
      "neck_face_idx= [   0    1    2 ... 1145 1146 1147]\n",
      "neck_sdf = 0.0\n",
      "neck_width = 0.2658945305964986\n",
      "Using clusters 3\n"
     ]
    },
    {
     "data": {
      "application/vnd.jupyter.widget-view+json": {
       "model_id": "1f937f29eb1b4088b96d8c744c41aee0",
       "version_major": 2,
       "version_minor": 0
      },
      "text/plain": [
       "  0%|          | 0/1 [00:00<?, ?it/s]"
      ]
     },
     "metadata": {},
     "output_type": "display_data"
    },
    {
     "name": "stdout",
     "output_type": "stream",
     "text": [
      "Initial segmentation with clusters = 3, smoothness = 0.03\n"
     ]
    },
    {
     "data": {
      "application/vnd.jupyter.widget-view+json": {
       "model_id": "f4a6f985c53b404e9148e944607c58b0",
       "version_major": 2,
       "version_minor": 0
      },
      "text/plain": [
       "VBox(children=(Figure(camera=PerspectiveCamera(fov=46.0, position=(0.0, 0.0, 2.0), projectionMatrix=(1.0, 0.0,…"
      ]
     },
     "metadata": {},
     "output_type": "display_data"
    },
    {
     "name": "stdout",
     "output_type": "stream",
     "text": [
      "sdfs=[0.], ray_trace_perc = [0.26589453], mesh_sizes = [1148]\n",
      "Thresholds: head_ray_trace_min = 0.3, head_face_min = 600\n",
      "head_obj_idx = []\n",
      "head_obj_idx = []\n",
      "neck_obj_idx= [0]\n",
      "neck_face_idx= [   0    1    2 ... 1145 1146 1147]\n",
      "neck_sdf = 0.0\n",
      "neck_width = 0.2658945305964986\n",
      "Using clusters 4\n"
     ]
    },
    {
     "data": {
      "application/vnd.jupyter.widget-view+json": {
       "model_id": "c9e0ea047809434e93f3ae4dfb454d5a",
       "version_major": 2,
       "version_minor": 0
      },
      "text/plain": [
       "  0%|          | 0/1 [00:00<?, ?it/s]"
      ]
     },
     "metadata": {},
     "output_type": "display_data"
    },
    {
     "name": "stdout",
     "output_type": "stream",
     "text": [
      "Initial segmentation with clusters = 4, smoothness = 0.03\n"
     ]
    },
    {
     "data": {
      "application/vnd.jupyter.widget-view+json": {
       "model_id": "7928f555667a4f80bac684a82e209a68",
       "version_major": 2,
       "version_minor": 0
      },
      "text/plain": [
       "VBox(children=(Figure(camera=PerspectiveCamera(fov=46.0, position=(0.0, 0.0, 2.0), projectionMatrix=(1.0, 0.0,…"
      ]
     },
     "metadata": {},
     "output_type": "display_data"
    },
    {
     "name": "stdout",
     "output_type": "stream",
     "text": [
      "sdfs=[0.], ray_trace_perc = [0.26589453], mesh_sizes = [1148]\n",
      "Thresholds: head_ray_trace_min = 0.3, head_face_min = 600\n",
      "head_obj_idx = []\n",
      "head_obj_idx = []\n",
      "neck_obj_idx= [0]\n",
      "neck_face_idx= [   0    1    2 ... 1145 1146 1147]\n",
      "neck_sdf = 0.0\n",
      "neck_width = 0.2658945305964986\n",
      "head_mesh (red): <trimesh.Trimesh(vertices.shape=(0,), faces.shape=(0, 3))>\n",
      "neck_mesh (green): <trimesh.Trimesh(vertices.shape=(579, 3), faces.shape=(1148, 3))>\n"
     ]
    },
    {
     "data": {
      "application/vnd.jupyter.widget-view+json": {
       "model_id": "aca378c258794bad89cf09640e041ac4",
       "version_major": 2,
       "version_minor": 0
      },
      "text/plain": [
       "VBox(children=(Figure(camera=PerspectiveCamera(fov=46.0, position=(0.0, 0.0, 2.0), projectionMatrix=(1.0, 0.0,…"
      ]
     },
     "metadata": {},
     "output_type": "display_data"
    },
    {
     "data": {
      "text/plain": [
       "[array([], dtype=float64),\n",
       " array([   0,    1,    2, ..., 1145, 1146, 1147]),\n",
       " -1,\n",
       " 0.0,\n",
       " -1,\n",
       " 0.2658945305964986]"
      ]
     },
     "execution_count": 192,
     "metadata": {},
     "output_type": "execute_result"
    }
   ],
   "source": [
    "spu.head_ray_trace_min_global = 0.3\n",
    "spu.head_face_min_global = 600\n",
    "spu.head_smoothness_global = 0.03\n",
    "spu.spine_head_neck(\n",
    "    sp_objs_filt[21].mesh,\n",
    "    plot_segmentation = True,\n",
    "    verbose = True,\n",
    "    plot_head_neck = True,\n",
    "    #only_allow_one_connected_component_neck = True\n",
    ")"
   ]
  },
  {
   "cell_type": "code",
   "execution_count": null,
   "metadata": {},
   "outputs": [],
   "source": []
  },
  {
   "cell_type": "code",
   "execution_count": 174,
   "metadata": {},
   "outputs": [
    {
     "data": {
      "text/html": [
       "<div>\n",
       "<style scoped>\n",
       "    .dataframe tbody tr th:only-of-type {\n",
       "        vertical-align: middle;\n",
       "    }\n",
       "\n",
       "    .dataframe tbody tr th {\n",
       "        vertical-align: top;\n",
       "    }\n",
       "\n",
       "    .dataframe thead th {\n",
       "        text-align: right;\n",
       "    }\n",
       "</style>\n",
       "<table border=\"1\" class=\"dataframe\">\n",
       "  <thead>\n",
       "    <tr style=\"text-align: right;\">\n",
       "      <th></th>\n",
       "      <th>area</th>\n",
       "      <th>sdf_mean</th>\n",
       "      <th>n_faces</th>\n",
       "      <th>n_faces_head</th>\n",
       "      <th>n_faces_neck</th>\n",
       "      <th>mesh_center</th>\n",
       "      <th>sdf_mean</th>\n",
       "      <th>sdf_90_perc</th>\n",
       "      <th>sdf_70_perc</th>\n",
       "      <th>bbox_oriented_side_max</th>\n",
       "      <th>...</th>\n",
       "      <th>limb_idx</th>\n",
       "      <th>neck_bbox_oriented_side_lengths</th>\n",
       "      <th>neck_sdf</th>\n",
       "      <th>neck_width</th>\n",
       "      <th>skeletal_length</th>\n",
       "      <th>soma_distance</th>\n",
       "      <th>soma_distance_euclidean</th>\n",
       "      <th>spine_id</th>\n",
       "      <th>upstream_dist</th>\n",
       "      <th>volume</th>\n",
       "    </tr>\n",
       "  </thead>\n",
       "  <tbody>\n",
       "  </tbody>\n",
       "</table>\n",
       "<p>0 rows × 44 columns</p>\n",
       "</div>"
      ],
      "text/plain": [
       "Empty DataFrame\n",
       "Columns: [area, sdf_mean, n_faces, n_faces_head, n_faces_neck, mesh_center, sdf_mean, sdf_90_perc, sdf_70_perc, bbox_oriented_side_max, bbox_oriented_side_middle, bbox_oriented_side_min, n_heads, endpoint_dist_0, endpoint_dist_1, bbox_oriented_side_lengths, branch_idx, branch_skeletal_length, branch_width_at_base, branch_width_overall, closest_branch_face_idx, closest_face_coordinate, closest_face_dist, closest_sk_coordinate, compartment, coordinate, coordinate_border_verts, downstream_dist, endpoints_dist, head_bbox_oriented_side_lengths, head_mesh_splits, head_mesh_splits_face_idx, head_sdf, head_width, limb_idx, neck_bbox_oriented_side_lengths, neck_sdf, neck_width, skeletal_length, soma_distance, soma_distance_euclidean, spine_id, upstream_dist, volume]\n",
       "Index: []\n",
       "\n",
       "[0 rows x 44 columns]"
      ]
     },
     "execution_count": 174,
     "metadata": {},
     "output_type": "execute_result"
    }
   ],
   "source": []
  },
  {
   "cell_type": "markdown",
   "metadata": {},
   "source": [
    "# Doing it by hand"
   ]
  },
  {
   "cell_type": "code",
   "execution_count": null,
   "metadata": {},
   "outputs": [],
   "source": [
    "delete_temp_file = True\n",
    "clusters = 6\n",
    "smoothness = 0.08\n",
    "delete_temp_file = True\n",
    "plot_segmentation = True\n",
    "\n",
    "current_mesh = mesh_dec\n",
    "\n",
    "cgal_data,cgal_sdf_data = tu.mesh_segmentation(\n",
    "    current_mesh,\n",
    "    #cgal_folder=cgal_folder,\n",
    "    clusters=clusters,\n",
    "    smoothness=smoothness,\n",
    "    return_sdf=True,\n",
    "    delete_temp_files=delete_temp_file,\n",
    "    return_meshes=False,\n",
    "    return_ordered_by_size=False,\n",
    "    plot_segmentation = plot_segmentation,\n",
    ")\n",
    "\n",
    "split_meshes,split_meshes_idx = tu.split_mesh_into_face_groups(current_mesh,cgal_data,return_idx=True,\n",
    "                                   check_connect_comp = False)"
   ]
  },
  {
   "cell_type": "code",
   "execution_count": null,
   "metadata": {},
   "outputs": [],
   "source": [
    "# import ipyvolume_utils as ipvu\n",
    "# ipvu.plot_mesh(\n",
    "#     split_meshes[110]\n",
    "# )"
   ]
  },
  {
   "cell_type": "code",
   "execution_count": null,
   "metadata": {},
   "outputs": [],
   "source": [
    "meshes = list(split_meshes.values())\n",
    "functions = [\n",
    "            \"close_hole_area_top_2_mean\",\n",
    "            \"n_faces\",\n",
    "            \"mesh_volume\"\n",
    "        ]\n",
    "stats_df = tu.stats_df(meshes,functions)\n",
    "stats_df"
   ]
  },
  {
   "cell_type": "code",
   "execution_count": null,
   "metadata": {},
   "outputs": [],
   "source": [
    "close_hole_area_top_2_mean_max = 0.6\n",
    "mesh_volume_max = 0.7\n",
    "n_faces_min = 200"
   ]
  },
  {
   "cell_type": "code",
   "execution_count": null,
   "metadata": {},
   "outputs": [],
   "source": [
    "stats_df_filt = stats_df.query(f\"n_faces > {n_faces_min}\")\n",
    "filt_meshes = [meshes[k] for k in stats_df_filt.index.to_list()]\n",
    "nviz.plot_objects(\n",
    "    mesh_dec,\n",
    "    meshes = filt_meshes,\n",
    "    meshes_colors=\"red\",\n",
    "    buffer=0\n",
    ")"
   ]
  },
  {
   "cell_type": "code",
   "execution_count": null,
   "metadata": {},
   "outputs": [],
   "source": []
  },
  {
   "cell_type": "code",
   "execution_count": null,
   "metadata": {},
   "outputs": [],
   "source": []
  },
  {
   "cell_type": "code",
   "execution_count": null,
   "metadata": {},
   "outputs": [],
   "source": [
    "close_hole_area_top_2_mean_max = spu.shaft_close_hole_area_top_2_mean_max_global\n",
    "mesh_volume_max = spu.shaft_mesh_volume_max_global\n",
    "n_faces_min = spu.shaft_mesh_n_faces_min_global\n",
    "\n",
    "close_hole_area_top_2_mean_max = 1\n",
    "mesh_volume_max = 1"
   ]
  },
  {
   "cell_type": "code",
   "execution_count": null,
   "metadata": {},
   "outputs": [],
   "source": [
    "query = [\n",
    "        f\"(close_hole_area_top_2_mean > {close_hole_area_top_2_mean_max}) or (mesh_volume > {mesh_volume_max})\",\n",
    "        #f\"(close_hole_area_top_2_mean > {close_hole_area_top_2_mean_max}) or (n_faces > {n_faces_max})\",\n",
    "        f\"(n_faces > {n_faces_min})\"\n",
    "    ]\n",
    "\n",
    "import pandas_utils as pu\n",
    "query_str = pu.query_str(query,table_type=\"pandas\")\n",
    "stats_df.query(query_str)"
   ]
  },
  {
   "cell_type": "code",
   "execution_count": null,
   "metadata": {},
   "outputs": [],
   "source": []
  },
  {
   "cell_type": "code",
   "execution_count": null,
   "metadata": {},
   "outputs": [],
   "source": []
  },
  {
   "cell_type": "code",
   "execution_count": null,
   "metadata": {},
   "outputs": [],
   "source": []
  }
 ],
 "metadata": {
  "kernelspec": {
   "display_name": "Python 3 (ipykernel)",
   "language": "python",
   "name": "python3"
  },
  "language_info": {
   "codemirror_mode": {
    "name": "ipython",
    "version": 3
   },
   "file_extension": ".py",
   "mimetype": "text/x-python",
   "name": "python",
   "nbconvert_exporter": "python",
   "pygments_lexer": "ipython3",
   "version": "3.8.0"
  }
 },
 "nbformat": 4,
 "nbformat_minor": 4
}
