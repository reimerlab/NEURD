{
 "cells": [
  {
   "cell_type": "code",
   "execution_count": 1,
   "metadata": {},
   "outputs": [
    {
     "data": {
      "text/plain": [
       "'\\nPurpose: To run spine detection on a generic mesh\\n\\n'"
      ]
     },
     "execution_count": 1,
     "metadata": {},
     "output_type": "execute_result"
    }
   ],
   "source": [
    "\"\"\"\n",
    "Purpose: To run spine detection on a generic mesh\n",
    "\n",
    "\"\"\""
   ]
  },
  {
   "cell_type": "code",
   "execution_count": 2,
   "metadata": {},
   "outputs": [],
   "source": [
    "%load_ext autoreload\n",
    "%autoreload 2"
   ]
  },
  {
   "cell_type": "code",
   "execution_count": 3,
   "metadata": {},
   "outputs": [],
   "source": [
    "from os import sys\n",
    "sys.path.append(\"/neurd_packages/NEURD/neurd\")"
   ]
  },
  {
   "cell_type": "code",
   "execution_count": 7,
   "metadata": {},
   "outputs": [
    {
     "data": {
      "text/plain": [
       "dtype('int64')"
      ]
     },
     "execution_count": 7,
     "metadata": {},
     "output_type": "execute_result"
    }
   ],
   "source": [
    "from datasci_tools import numpy_dep as np\n",
    "np.array([np.array([1,2,3,4,5])]).dtype"
   ]
  },
  {
   "cell_type": "markdown",
   "metadata": {},
   "source": [
    "# Load the data"
   ]
  },
  {
   "cell_type": "code",
   "execution_count": null,
   "metadata": {},
   "outputs": [],
   "source": [
    "import trimesh\n",
    "import numpy as np\n",
    "from datasci_tools import numpy_utils as nu\n",
    "from mesh_tools import trimesh_utils as tu"
   ]
  },
  {
   "cell_type": "code",
   "execution_count": null,
   "metadata": {},
   "outputs": [],
   "source": [
    "from pathlib import Path\n",
    "list(Path(\"./\").iterdir())"
   ]
  },
  {
   "cell_type": "code",
   "execution_count": null,
   "metadata": {},
   "outputs": [],
   "source": [
    "file_base = \"full\"\n",
    "verts_file = f\"{file_base}_vert.txt\"\n",
    "tri_file = f\"{file_base}_tri.txt\"\n",
    "tri_array = nu.loadtxt(str(tri_file),dtype = \"int\",delimiter = \" \")\n",
    "verts_array =  nu.loadtxt(str(verts_file),dtype = \"float\",delimiter = \" \")"
   ]
  },
  {
   "cell_type": "code",
   "execution_count": null,
   "metadata": {},
   "outputs": [],
   "source": [
    "mesh = tu.mesh_from_vertices_faces(vertices = verts_array, faces = tri_array)\n",
    "mesh"
   ]
  },
  {
   "cell_type": "code",
   "execution_count": null,
   "metadata": {},
   "outputs": [],
   "source": [
    "from datasci_tools import ipyvolume_utils as ipvu\n",
    "ipvu.plot_objects(\n",
    "    mesh,\n",
    "    buffer = 0\n",
    ")"
   ]
  },
  {
   "cell_type": "code",
   "execution_count": null,
   "metadata": {},
   "outputs": [],
   "source": [
    "import ipyvolume as ipv\n",
    "import numpy as np\n",
    "N = 1000\n",
    "x, y, z = np.random.normal(0, 1, (3, N))\n",
    "\n",
    "fig = ipv.figure()\n",
    "scatter = ipv.scatter(x, y, z)\n",
    "ipv.show()"
   ]
  },
  {
   "cell_type": "markdown",
   "metadata": {},
   "source": [
    "# Decimating"
   ]
  },
  {
   "cell_type": "code",
   "execution_count": null,
   "metadata": {},
   "outputs": [],
   "source": [
    "mesh_dec = tu.decimate(mesh,decimation_ratio=0.25,)\n",
    "mesh_dec = tu.largest_conn_comp(mesh_dec)\n",
    "ipvu.plot_objects(\n",
    "    mesh_dec,\n",
    "    buffer=0\n",
    ")\n"
   ]
  },
  {
   "cell_type": "markdown",
   "metadata": {},
   "source": [
    "# Doing the spine extraction"
   ]
  },
  {
   "cell_type": "code",
   "execution_count": null,
   "metadata": {},
   "outputs": [],
   "source": [
    "import spine_utils as spu"
   ]
  },
  {
   "cell_type": "code",
   "execution_count": null,
   "metadata": {
    "scrolled": false
   },
   "outputs": [],
   "source": [
    "# --- shaft parameters ---\n",
    "spu.soma_vertex_nullification_global = False\n",
    "spu.skeleton_endpoint_nullification = False\n",
    "\n",
    "spu.clusters_threshold_global = 6\n",
    "spu.smoothness_threshold_global = 0.08\n",
    "spu.shaft_mesh_volume_max_global = 0.4\n",
    "spu.shaft_close_hole_area_top_2_mean_max_global = 0.4\n",
    "spu.shaft_mesh_n_faces_min_global = 200\n",
    "\n",
    "\n",
    "# spine filtering parameters\n",
    "spu.spine_n_face_threshold_bare_min_global = 310\n",
    "spu.spine_sk_length_threshold_bare_min_global = 0.6\n",
    "spu.filter_by_volume_threshold_bare_min_global = 0.011\n",
    "spu.bbox_oriented_side_max_min_bare_min_global = 0.4\n",
    "spu.sdf_mean_min_bare_min_global = 0.1\n",
    "spu.spine_volume_to_spine_area_min_bare_min_global = 0.00002\n",
    "\n",
    "# head neck segmentation\n",
    "spu.head_ray_trace_min_global = 0.3\n",
    "spu.head_face_min_global = 400\n",
    "\n",
    "spine_objs = spu.spine_objs_bare_minimum_filt_with_attr_from_branch_obj(\n",
    "    mesh = mesh_dec,\n",
    "    plot_filtered_spines = True,\n",
    ")"
   ]
  },
  {
   "cell_type": "code",
   "execution_count": null,
   "metadata": {},
   "outputs": [],
   "source": [
    "spine_objs"
   ]
  },
  {
   "cell_type": "code",
   "execution_count": null,
   "metadata": {},
   "outputs": [],
   "source": [
    "connectivity = \"vertices\"\n",
    "min_n_faces_conn_comp = 0\n",
    "mesh_filtered = mesh_dec\n",
    "conn_mesh,conn_faces = tu.split_significant_pieces(mesh_filtered,\n",
    "                                significance_threshold=min_n_faces_conn_comp,\n",
    "                               return_face_indices=True,\n",
    "                               connectivity=connectivity)"
   ]
  },
  {
   "cell_type": "code",
   "execution_count": null,
   "metadata": {},
   "outputs": [],
   "source": [
    "conn_faces[0].dtype"
   ]
  },
  {
   "cell_type": "code",
   "execution_count": null,
   "metadata": {},
   "outputs": [],
   "source": [
    "x = np.array([np.array([4,5,6,7])],dtype='object')"
   ]
  },
  {
   "cell_type": "code",
   "execution_count": null,
   "metadata": {},
   "outputs": [],
   "source": [
    "x[0].dtype"
   ]
  },
  {
   "cell_type": "code",
   "execution_count": null,
   "metadata": {},
   "outputs": [],
   "source": [
    "\"\"\"\n",
    "Things to fix:\n",
    "\n",
    "1) pip3 install -e not working\n",
    "2) ipyvolume widgets not working\n",
    "3) debug the array\n",
    "\"\"\"\n"
   ]
  },
  {
   "cell_type": "code",
   "execution_count": null,
   "metadata": {},
   "outputs": [],
   "source": []
  },
  {
   "cell_type": "markdown",
   "metadata": {},
   "source": [
    "# Inspecting the Spines"
   ]
  },
  {
   "cell_type": "code",
   "execution_count": null,
   "metadata": {},
   "outputs": [],
   "source": [
    "nviz.plot_objects(spine_objs[10].mesh)"
   ]
  },
  {
   "cell_type": "code",
   "execution_count": null,
   "metadata": {},
   "outputs": [],
   "source": [
    "spine_objs[0].export()"
   ]
  },
  {
   "cell_type": "code",
   "execution_count": null,
   "metadata": {},
   "outputs": [],
   "source": []
  },
  {
   "cell_type": "code",
   "execution_count": null,
   "metadata": {},
   "outputs": [],
   "source": [
    "hdju.proofreading_neurons_table"
   ]
  },
  {
   "cell_type": "code",
   "execution_count": null,
   "metadata": {},
   "outputs": [],
   "source": []
  },
  {
   "cell_type": "markdown",
   "metadata": {},
   "source": [
    "# Exporting the figure"
   ]
  },
  {
   "cell_type": "code",
   "execution_count": null,
   "metadata": {},
   "outputs": [],
   "source": [
    "spu.plot_spines_objs_with_head_neck_and_coordinates(\n",
    "    spine_objs,\n",
    "    mesh = mesh_dec,\n",
    ")"
   ]
  },
  {
   "cell_type": "code",
   "execution_count": null,
   "metadata": {},
   "outputs": [],
   "source": [
    "import ipyvolume_utils as ipvu\n",
    "ipvu.save_to_html(f\"{file_base}_spine_detection.html\")"
   ]
  },
  {
   "cell_type": "code",
   "execution_count": null,
   "metadata": {},
   "outputs": [],
   "source": []
  },
  {
   "cell_type": "code",
   "execution_count": null,
   "metadata": {},
   "outputs": [],
   "source": []
  },
  {
   "cell_type": "code",
   "execution_count": null,
   "metadata": {},
   "outputs": [],
   "source": []
  },
  {
   "cell_type": "markdown",
   "metadata": {},
   "source": [
    "# Skeleton Mappings"
   ]
  },
  {
   "cell_type": "code",
   "execution_count": null,
   "metadata": {},
   "outputs": [],
   "source": [
    "import skeleton_utils as sk\n",
    "#skeletonize_and_clean_connected_branch_CGAL"
   ]
  },
  {
   "cell_type": "code",
   "execution_count": null,
   "metadata": {},
   "outputs": [],
   "source": [
    "skeleton_surface = sk.surface_skeleton(\n",
    "    mesh_dec,\n",
    "    plot = True,\n",
    "    #n_surface_downsampling=3,\n",
    ")"
   ]
  },
  {
   "cell_type": "code",
   "execution_count": null,
   "metadata": {},
   "outputs": [],
   "source": [
    "nviz.plot_objects(\n",
    "    skeletons=[skeleton,sk_cgal],\n",
    "    skeletons_colors=[\"red\",\"blue\"],\n",
    "    buffer=0\n",
    ")"
   ]
  },
  {
   "cell_type": "code",
   "execution_count": null,
   "metadata": {},
   "outputs": [],
   "source": [
    "sk_removed"
   ]
  },
  {
   "cell_type": "code",
   "execution_count": null,
   "metadata": {},
   "outputs": [],
   "source": [
    "skeleton = sk.skeleton_cgal(\n",
    "    mesh_dec,\n",
    "    plot = True,\n",
    "    cgal_original_parameters = False,\n",
    "    max_triangle_angle =1.91986,\n",
    "    quality_speed_tradeoff=0.1,\n",
    "    medially_centered_speed_tradeoff=0.2,#0.2,\n",
    "    area_variation_factor=0.0001,\n",
    "    max_iterations=500,#500,\n",
    "    is_medially_centered=True,\n",
    "    min_edge_length = 1,\n",
    "    edge_length_multiplier = 0.002,\n",
    ")\n",
    "\n",
    "skeleton_no_cycles = sk.remove_cycles_from_skeleton(skeleton,verbose=True,)\n",
    "\n",
    "sk_cgal,sk_removed = sk.clean_skeleton(\n",
    "    skeleton_no_cycles,\n",
    "    min_distance_to_junction = 3,\n",
    "    return_removed_skeletons = True,\n",
    ")\n",
    "\n",
    "nviz.plot_objects(\n",
    "    mesh_dec,\n",
    "    skeletons=[sk_cleaned,sk.stack_skeletons(sk_removed)],\n",
    "    skeletons_colors=[\"blue\",\"red\"],\n",
    "    buffer=0\n",
    ")"
   ]
  },
  {
   "cell_type": "code",
   "execution_count": null,
   "metadata": {},
   "outputs": [],
   "source": [
    "# calculating the skeleton endpoints\n"
   ]
  },
  {
   "cell_type": "code",
   "execution_count": null,
   "metadata": {},
   "outputs": [],
   "source": [
    "spu.spine_objs_with_border_sk_endpoint_and_soma_filter_from_scratch_on_mesh(\n",
    "    mesh = mesh_dec,\n",
    ")"
   ]
  },
  {
   "cell_type": "code",
   "execution_count": null,
   "metadata": {},
   "outputs": [],
   "source": []
  },
  {
   "cell_type": "code",
   "execution_count": null,
   "metadata": {
    "scrolled": true
   },
   "outputs": [],
   "source": [
    "clusters = 6\n",
    "smoothness = 0.08\n",
    "\n",
    "\n",
    "# --- determining the shaft ---\n",
    "spu.shaft_mesh_volume_max_global = 0.7\n",
    "spu.shaft_close_hole_area_top_2_mean_max_global = 0.6\n",
    "spu.shaft_mesh_n_faces_min_global = 200\n",
    "\n",
    "sp_objs = spu.spine_objs_with_border_sk_endpoint_and_soma_filter_from_scratch_on_branch_obj(\n",
    "    mesh = mesh_dec,\n",
    "    skeleton = sk_cgal,\n",
    "    clusters = clusters,\n",
    "    smoothness = smoothness,\n",
    "    soma_vertex_nullification = False,\n",
    "    plot_segmentation=True,\n",
    "    plot_shaft=True,\n",
    "    plot = True\n",
    ")"
   ]
  },
  {
   "cell_type": "code",
   "execution_count": null,
   "metadata": {},
   "outputs": [],
   "source": [
    "clusters = 6\n",
    "smoothness = 0.08\n",
    "\n",
    "\n",
    "# --- determining the shaft ---\n",
    "spu.shaft_mesh_volume_max_global = 0.7\n",
    "spu.shaft_close_hole_area_top_2_mean_max_global = 0.6\n",
    "spu.shaft_mesh_n_faces_min_global = 200\n",
    "\n",
    "nviz.plot_objects(\n",
    "    mesh_dec,\n",
    "    meshes = [k.mesh for k in Out[82]],\n",
    "    meshes_colors=\"red\",\n",
    "    buffer = 0\n",
    ")"
   ]
  },
  {
   "cell_type": "code",
   "execution_count": null,
   "metadata": {},
   "outputs": [],
   "source": [
    "sp_objs_with_att = spu.calculate_spine_attributes_for_list(\n",
    "        sp_objs,\n",
    "        calculate_coordinates=False,\n",
    ")\n",
    "\n",
    "sp_objs_with_att = [spu.calculate_spine_obj_mesh_skeleton_coordinates(\n",
    "    spine_obj = k,\n",
    "    mesh = mesh_dec,\n",
    ") for k in sp_objs_with_att]"
   ]
  },
  {
   "cell_type": "code",
   "execution_count": null,
   "metadata": {
    "scrolled": true
   },
   "outputs": [],
   "source": [
    "spine_df = spu.df_from_spine_objs(sp_objs_with_att,add_volume_to_area_ratio=True)"
   ]
  },
  {
   "cell_type": "code",
   "execution_count": null,
   "metadata": {},
   "outputs": [],
   "source": [
    "spine_df.columns"
   ]
  },
  {
   "cell_type": "code",
   "execution_count": null,
   "metadata": {},
   "outputs": [],
   "source": [
    "columns = [\n",
    "    \"skeletal_length\",\n",
    "    \"n_faces\",\n",
    "    \"volume\",\n",
    "    \"sdf_mean\",\n",
    "    \"bbox_oriented_side_max\",\n",
    "    \"spine_volume_to_spine_area\",\n",
    "]\n",
    "\n",
    "spine_df[columns]"
   ]
  },
  {
   "cell_type": "code",
   "execution_count": null,
   "metadata": {},
   "outputs": [],
   "source": [
    "not_spines = [30,]\n",
    "big_spine_would_like_split_by_smoothness = [\n",
    "    0,\n",
    "    7,\n",
    "    9,\n",
    "    \n",
    "]\n",
    "big_spines_with_self_touches = [\n",
    "    1,\n",
    "    2,\n",
    "    4, # self touch and some that could be separated\n",
    "    5,\n",
    "]\n",
    "spine_with_end_on_it = [3]\n",
    "double_head = [6,11,13]\n",
    "big_single_head = [8]"
   ]
  },
  {
   "cell_type": "code",
   "execution_count": null,
   "metadata": {},
   "outputs": [],
   "source": [
    "print(spu.spine_n_face_threshold_bare_min_global,\n",
    "spu.spine_sk_length_threshold_bare_min_global,\n",
    "spu.filter_by_volume_threshold_bare_min_global,\n",
    "spu.bbox_oriented_side_max_min_bare_min_global,\n",
    "spu.sdf_mean_min_bare_min_global,\n",
    "spu.spine_volume_to_spine_area_min_bare_min_global,)"
   ]
  },
  {
   "cell_type": "code",
   "execution_count": null,
   "metadata": {},
   "outputs": [],
   "source": [
    "\n",
    "# --- shaft parameters ---\n",
    "spu.shaft_mesh_volume_max_global = 0.7\n",
    "spu.shaft_close_hole_area_top_2_mean_max_global = 0.6\n",
    "spu.shaft_mesh_n_faces_min_global = 200\n",
    "\n",
    "# spine filtering parameters\n",
    "spu.spine_n_face_threshold_bare_min_global = 310\n",
    "spu.spine_sk_length_threshold_bare_min_global = 0.6\n",
    "spu.filter_by_volume_threshold_bare_min_global = 0.011\n",
    "spu.bbox_oriented_side_max_min_bare_min_global = 0.4\n",
    "spu.sdf_mean_min_bare_min_global = 0.1\n",
    "spu.spine_volume_to_spine_area_min_bare_min_global = 0.00002\n",
    "\n",
    "# head neck segmentation\n",
    "spu.head_ray_trace_min_global = 0.3\n",
    "spu.head_face_min_global = 400"
   ]
  },
  {
   "cell_type": "code",
   "execution_count": null,
   "metadata": {},
   "outputs": [],
   "source": [
    "verbose = True\n",
    "sp_objs_filt = spu.filter_spine_objs_by_size_bare_minimum(sp_objs_with_att)\n",
    "if verbose:\n",
    "    print(f\"AFTER filtering len(sp_objs_filt) = {len(sp_objs_filt)}\")"
   ]
  },
  {
   "cell_type": "code",
   "execution_count": null,
   "metadata": {
    "scrolled": true
   },
   "outputs": [],
   "source": [
    "spu.head_ray_trace_min_global = 0.3\n",
    "spu.head_face_min_global = 400\n",
    "sp_objs_filt_head_neck = spu.calculate_spine_attributes_for_list(sp_objs_filt,calculate_head_neck=True, mesh = mesh_dec)"
   ]
  },
  {
   "cell_type": "code",
   "execution_count": null,
   "metadata": {},
   "outputs": [],
   "source": [
    "sp_obj = sp_objs_filt_head_neck[0]\n",
    "sp_obj.head_mesh,sp_obj.n_heads"
   ]
  },
  {
   "cell_type": "code",
   "execution_count": null,
   "metadata": {},
   "outputs": [],
   "source": [
    "spu.plot_spines_objs_with_head_neck_and_coordinates(\n",
    "    sp_objs_filt_head_neck,\n",
    "    mesh = mesh_dec,\n",
    ")"
   ]
  },
  {
   "cell_type": "code",
   "execution_count": null,
   "metadata": {},
   "outputs": [],
   "source": [
    "sdfs=[0.242122  0.2696905 0.394093  0.439196  0.733061 ], ray_trace_perc = [0.23194992 0.58525092 0.35166066 0.35188387 0.17948695], mesh_sizes = [ 607 4864 2035 1990  111]"
   ]
  },
  {
   "cell_type": "code",
   "execution_count": null,
   "metadata": {},
   "outputs": [],
   "source": []
  },
  {
   "cell_type": "code",
   "execution_count": null,
   "metadata": {},
   "outputs": [],
   "source": [
    "spu.head_smoothness_global"
   ]
  },
  {
   "cell_type": "code",
   "execution_count": null,
   "metadata": {},
   "outputs": [],
   "source": [
    "spu.head_ray_trace_min_global = 0.3\n",
    "spu.head_face_min_global = 600\n",
    "spu.head_smoothness_global = 0.03\n",
    "spu.spine_head_neck(\n",
    "    sp_objs_filt[21].mesh,\n",
    "    plot_segmentation = True,\n",
    "    verbose = True,\n",
    "    plot_head_neck = True,\n",
    "    #only_allow_one_connected_component_neck = True\n",
    ")"
   ]
  },
  {
   "cell_type": "code",
   "execution_count": null,
   "metadata": {},
   "outputs": [],
   "source": []
  },
  {
   "cell_type": "code",
   "execution_count": null,
   "metadata": {},
   "outputs": [],
   "source": []
  },
  {
   "cell_type": "markdown",
   "metadata": {},
   "source": [
    "# Doing it by hand"
   ]
  },
  {
   "cell_type": "code",
   "execution_count": null,
   "metadata": {},
   "outputs": [],
   "source": [
    "delete_temp_file = True\n",
    "clusters = 6\n",
    "smoothness = 0.08\n",
    "delete_temp_file = True\n",
    "plot_segmentation = True\n",
    "\n",
    "current_mesh = mesh_dec\n",
    "\n",
    "cgal_data,cgal_sdf_data = tu.mesh_segmentation(\n",
    "    current_mesh,\n",
    "    #cgal_folder=cgal_folder,\n",
    "    clusters=clusters,\n",
    "    smoothness=smoothness,\n",
    "    return_sdf=True,\n",
    "    delete_temp_files=delete_temp_file,\n",
    "    return_meshes=False,\n",
    "    return_ordered_by_size=False,\n",
    "    plot_segmentation = plot_segmentation,\n",
    ")\n",
    "\n",
    "split_meshes,split_meshes_idx = tu.split_mesh_into_face_groups(current_mesh,cgal_data,return_idx=True,\n",
    "                                   check_connect_comp = False)"
   ]
  },
  {
   "cell_type": "code",
   "execution_count": null,
   "metadata": {},
   "outputs": [],
   "source": [
    "# import ipyvolume_utils as ipvu\n",
    "# ipvu.plot_mesh(\n",
    "#     split_meshes[110]\n",
    "# )"
   ]
  },
  {
   "cell_type": "code",
   "execution_count": null,
   "metadata": {},
   "outputs": [],
   "source": [
    "meshes = list(split_meshes.values())\n",
    "functions = [\n",
    "            \"close_hole_area_top_2_mean\",\n",
    "            \"n_faces\",\n",
    "            \"mesh_volume\"\n",
    "        ]\n",
    "stats_df = tu.stats_df(meshes,functions)\n",
    "stats_df"
   ]
  },
  {
   "cell_type": "code",
   "execution_count": null,
   "metadata": {},
   "outputs": [],
   "source": [
    "close_hole_area_top_2_mean_max = 0.6\n",
    "mesh_volume_max = 0.7\n",
    "n_faces_min = 200"
   ]
  },
  {
   "cell_type": "code",
   "execution_count": null,
   "metadata": {},
   "outputs": [],
   "source": [
    "stats_df_filt = stats_df.query(f\"n_faces > {n_faces_min}\")\n",
    "filt_meshes = [meshes[k] for k in stats_df_filt.index.to_list()]\n",
    "nviz.plot_objects(\n",
    "    mesh_dec,\n",
    "    meshes = filt_meshes,\n",
    "    meshes_colors=\"red\",\n",
    "    buffer=0\n",
    ")"
   ]
  },
  {
   "cell_type": "code",
   "execution_count": null,
   "metadata": {},
   "outputs": [],
   "source": []
  },
  {
   "cell_type": "code",
   "execution_count": null,
   "metadata": {},
   "outputs": [],
   "source": []
  },
  {
   "cell_type": "code",
   "execution_count": null,
   "metadata": {},
   "outputs": [],
   "source": [
    "close_hole_area_top_2_mean_max = spu.shaft_close_hole_area_top_2_mean_max_global\n",
    "mesh_volume_max = spu.shaft_mesh_volume_max_global\n",
    "n_faces_min = spu.shaft_mesh_n_faces_min_global\n",
    "\n",
    "close_hole_area_top_2_mean_max = 1\n",
    "mesh_volume_max = 1"
   ]
  },
  {
   "cell_type": "code",
   "execution_count": null,
   "metadata": {},
   "outputs": [],
   "source": [
    "query = [\n",
    "        f\"(close_hole_area_top_2_mean > {close_hole_area_top_2_mean_max}) or (mesh_volume > {mesh_volume_max})\",\n",
    "        #f\"(close_hole_area_top_2_mean > {close_hole_area_top_2_mean_max}) or (n_faces > {n_faces_max})\",\n",
    "        f\"(n_faces > {n_faces_min})\"\n",
    "    ]\n",
    "\n",
    "import pandas_utils as pu\n",
    "query_str = pu.query_str(query,table_type=\"pandas\")\n",
    "stats_df.query(query_str)"
   ]
  },
  {
   "cell_type": "code",
   "execution_count": null,
   "metadata": {},
   "outputs": [],
   "source": []
  },
  {
   "cell_type": "code",
   "execution_count": null,
   "metadata": {},
   "outputs": [],
   "source": []
  },
  {
   "cell_type": "code",
   "execution_count": null,
   "metadata": {},
   "outputs": [],
   "source": []
  }
 ],
 "metadata": {
  "kernelspec": {
   "display_name": "Python 3 (ipykernel)",
   "language": "python",
   "name": "python3"
  },
  "language_info": {
   "codemirror_mode": {
    "name": "ipython",
    "version": 3
   },
   "file_extension": ".py",
   "mimetype": "text/x-python",
   "name": "python",
   "nbconvert_exporter": "python",
   "pygments_lexer": "ipython3",
   "version": "3.8.0"
  }
 },
 "nbformat": 4,
 "nbformat_minor": 4
}
