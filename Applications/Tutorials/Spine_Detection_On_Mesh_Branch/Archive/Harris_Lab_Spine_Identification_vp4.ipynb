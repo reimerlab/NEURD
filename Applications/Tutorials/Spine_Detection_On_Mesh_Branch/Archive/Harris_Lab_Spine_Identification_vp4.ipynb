{
 "cells": [
  {
   "cell_type": "code",
   "execution_count": 1,
   "metadata": {},
   "outputs": [
    {
     "data": {
      "text/plain": [
       "'\\nPurpose: To run spine detection on a generic mesh\\n'"
      ]
     },
     "execution_count": 1,
     "metadata": {},
     "output_type": "execute_result"
    }
   ],
   "source": [
    "\"\"\"\n",
    "Purpose: To run spine detection on a generic mesh\n",
    "\"\"\""
   ]
  },
  {
   "cell_type": "code",
   "execution_count": 2,
   "metadata": {},
   "outputs": [],
   "source": [
    "%load_ext autoreload\n",
    "%autoreload 2"
   ]
  },
  {
   "cell_type": "code",
   "execution_count": 6,
   "metadata": {},
   "outputs": [
    {
     "name": "stdout",
     "output_type": "stream",
     "text": [
      "ais_utils: Accomplished setting global parameters\n",
      "apical_utils: Accomplished setting global parameters\n",
      "axon_utils: Accomplished setting global parameters\n",
      "branch_attr_utils: Accomplished setting global parameters\n",
      "branch_utils: Accomplished setting global parameters\n",
      "cell_type_utils: Accomplished setting global parameters\n",
      "classification_utils: Accomplished setting global parameters\n",
      "concept_network_utils: Accomplished setting global parameters\n",
      "connectome_analysis_utils: Accomplished setting global parameters\n",
      "connectome_query_utils: Accomplished setting global parameters\n",
      "connectome_utils: Accomplished setting global parameters\n",
      "datajoint_motifs: Accomplished setting global parameters\n",
      "error_detection: Accomplished setting global parameters\n",
      "functional_tuning_utils: Accomplished setting global parameters\n",
      "graph_filters: Accomplished setting global parameters\n",
      "h01_volume_utils: Accomplished setting global parameters\n",
      "microns_graph_query_utils: Accomplished setting global parameters\n",
      "microns_volume_utils: Accomplished setting global parameters\n",
      "neuron: Accomplished setting global parameters\n",
      "neuron_geometry_utils: Accomplished setting global parameters\n",
      "neuron_searching: Accomplished setting global parameters\n",
      "neuron_simplification: Accomplished setting global parameters\n",
      "neuron_statistics: Accomplished setting global parameters\n",
      "neuron_utils: Accomplished setting global parameters\n",
      "neuron_visualizations: Accomplished setting global parameters\n",
      "preprocessing_vp2: Accomplished setting global parameters\n",
      "proofreading_utils: Accomplished setting global parameters\n",
      "soma_extraction_utils: Accomplished setting global parameters\n",
      "spine_utils: Accomplished setting global parameters\n",
      "synapse_utils: Accomplished setting global parameters\n",
      "volume_utils: Accomplished setting global parameters\n",
      "whole_neuron_classifier_datajoint_adapted: Accomplished setting global parameters\n",
      "width_utils: Accomplished setting global parameters\n",
      "All modules set: ['ais_utils' 'apical_utils' 'axon_utils' 'branch_attr_utils'\n",
      " 'branch_utils' 'cell_type_utils' 'classification_utils'\n",
      " 'concept_network_utils' 'connectome_analysis_utils'\n",
      " 'connectome_query_utils' 'connectome_utils' 'datajoint_motifs'\n",
      " 'error_detection' 'functional_tuning_utils' 'graph_filters'\n",
      " 'h01_volume_utils' 'microns_graph_query_utils' 'microns_volume_utils'\n",
      " 'neuron' 'neuron_geometry_utils' 'neuron_searching'\n",
      " 'neuron_simplification' 'neuron_statistics' 'neuron_utils'\n",
      " 'neuron_visualizations' 'preprocessing_vp2' 'proofreading_utils'\n",
      " 'soma_extraction_utils' 'spine_utils' 'synapse_utils' 'volume_utils'\n",
      " 'whole_neuron_classifier_datajoint_adapted' 'width_utils']\n"
     ]
    }
   ],
   "source": [
    "import neurd\n",
    "neurd.set_volume_params(\"microns\",verbose = True)"
   ]
  },
  {
   "cell_type": "markdown",
   "metadata": {},
   "source": [
    "# Load the data"
   ]
  },
  {
   "cell_type": "code",
   "execution_count": 7,
   "metadata": {},
   "outputs": [],
   "source": [
    "import trimesh\n",
    "import numpy as np\n",
    "from datasci_tools import numpy_utils as nu\n",
    "from mesh_tools import trimesh_utils as tu"
   ]
  },
  {
   "cell_type": "code",
   "execution_count": 8,
   "metadata": {},
   "outputs": [
    {
     "data": {
      "text/plain": [
       "[PosixPath('.ipynb_checkpoints'),\n",
       " PosixPath('cgal_temp'),\n",
       " PosixPath('full_tri.txt'),\n",
       " PosixPath('full_vert.txt'),\n",
       " PosixPath('Harris_Lab_Spine_Identification.ipynb'),\n",
       " PosixPath('Harris_Lab_Spine_Identification_vp2_full-Copy1.ipynb'),\n",
       " PosixPath('Harris_Lab_Spine_Identification_vp2_full.ipynb'),\n",
       " PosixPath('Harris_Lab_Spine_Identification_vp3.ipynb'),\n",
       " PosixPath('Harris_Lab_Spine_Identification_vp4.ipynb'),\n",
       " PosixPath('part_tri.txt'),\n",
       " PosixPath('part_vert.txt'),\n",
       " PosixPath('temp')]"
      ]
     },
     "execution_count": 8,
     "metadata": {},
     "output_type": "execute_result"
    }
   ],
   "source": [
    "from pathlib import Path\n",
    "list(Path(\"./\").iterdir())"
   ]
  },
  {
   "cell_type": "code",
   "execution_count": 9,
   "metadata": {},
   "outputs": [],
   "source": [
    "file_base = \"full\"\n",
    "verts_file = f\"{file_base}_vert.txt\"\n",
    "tri_file = f\"{file_base}_tri.txt\"\n",
    "tri_array = nu.loadtxt(str(tri_file),dtype = \"int\",delimiter = \" \")\n",
    "verts_array =  nu.loadtxt(str(verts_file),dtype = \"float\",delimiter = \" \")"
   ]
  },
  {
   "cell_type": "code",
   "execution_count": 10,
   "metadata": {},
   "outputs": [
    {
     "data": {
      "text/plain": [
       "<trimesh.Trimesh(vertices.shape=(226149, 3), faces.shape=(452370, 3))>"
      ]
     },
     "execution_count": 10,
     "metadata": {},
     "output_type": "execute_result"
    }
   ],
   "source": [
    "mesh = tu.mesh_from_vertices_faces(vertices = verts_array, faces = tri_array)\n",
    "mesh"
   ]
  },
  {
   "cell_type": "code",
   "execution_count": 11,
   "metadata": {},
   "outputs": [
    {
     "name": "stderr",
     "output_type": "stream",
     "text": [
      "/usr/local/lib/python3.8/dist-packages/traittypes/traittypes.py:97: UserWarning: Given trait value dtype \"float64\" does not match required type \"float64\". A coerced copy has been created.\n",
      "  warnings.warn(\n"
     ]
    },
    {
     "data": {
      "application/vnd.jupyter.widget-view+json": {
       "model_id": "81e9244ed8624bd8b3a6955ad0cae13c",
       "version_major": 2,
       "version_minor": 0
      },
      "text/plain": [
       "Container(figure=Figure(box_center=[0.5, 0.5, 0.5], box_size=[1.0, 1.0, 1.0], camera=PerspectiveCamera(fov=45.…"
      ]
     },
     "metadata": {},
     "output_type": "display_data"
    }
   ],
   "source": [
    "from datasci_tools import ipyvolume_utils as ipvu\n",
    "ipvu.plot_objects(\n",
    "    mesh,\n",
    "    buffer = 0\n",
    ")"
   ]
  },
  {
   "cell_type": "markdown",
   "metadata": {},
   "source": [
    "# Decimating"
   ]
  },
  {
   "cell_type": "code",
   "execution_count": 12,
   "metadata": {},
   "outputs": [
    {
     "name": "stdout",
     "output_type": "stream",
     "text": [
      "xvfb-run -n 9244 -s \"-screen 0 800x600x24\" meshlabserver $@  -i /neurd_packages/NEURD/Applications/spine_detection_on_mesh_segment/temp/neuron_51994.off -o /neurd_packages/NEURD/Applications/spine_detection_on_mesh_segment/temp/neuron_51994_decimated.off -s /neurd_packages/NEURD/Applications/spine_detection_on_mesh_segment/temp/decimation_meshlab_25846453.mls\n"
     ]
    },
    {
     "data": {
      "application/vnd.jupyter.widget-view+json": {
       "model_id": "187527fb46114786b7b4a31fdfa1cdd8",
       "version_major": 2,
       "version_minor": 0
      },
      "text/plain": [
       "Container(figure=Figure(box_center=[0.5, 0.5, 0.5], box_size=[1.0, 1.0, 1.0], camera=PerspectiveCamera(fov=45.…"
      ]
     },
     "metadata": {},
     "output_type": "display_data"
    }
   ],
   "source": [
    "mesh_dec = tu.decimate(mesh,decimation_ratio=0.25,)\n",
    "mesh_dec = tu.largest_conn_comp(mesh_dec)\n",
    "ipvu.plot_objects(\n",
    "    mesh_dec,\n",
    "    buffer=0\n",
    ")"
   ]
  },
  {
   "cell_type": "markdown",
   "metadata": {},
   "source": [
    "# Doing the spine extraction"
   ]
  },
  {
   "cell_type": "code",
   "execution_count": 13,
   "metadata": {},
   "outputs": [],
   "source": [
    "from neurd import spine_utils as spu"
   ]
  },
  {
   "cell_type": "code",
   "execution_count": 14,
   "metadata": {
    "scrolled": true
   },
   "outputs": [
    {
     "name": "stdout",
     "output_type": "stream",
     "text": [
      "\n",
      "Number of segments: 133\n",
      "\n"
     ]
    },
    {
     "data": {
      "application/vnd.jupyter.widget-view+json": {
       "model_id": "c00dcbd4bf544a87a5e1bd0ee7a65b0f",
       "version_major": 2,
       "version_minor": 0
      },
      "text/plain": [
       "  0%|          | 0/133 [00:00<?, ?it/s]"
      ]
     },
     "metadata": {},
     "output_type": "display_data"
    },
    {
     "data": {
      "application/vnd.jupyter.widget-view+json": {
       "model_id": "8b4ed2a41bb0418cab5bb3f86a1a40a1",
       "version_major": 2,
       "version_minor": 0
      },
      "text/plain": [
       "  0%|          | 0/133 [00:00<?, ?it/s]"
      ]
     },
     "metadata": {},
     "output_type": "display_data"
    },
    {
     "name": "stdout",
     "output_type": "stream",
     "text": [
      "\n",
      "Number of segments: 5\n",
      "\n"
     ]
    },
    {
     "data": {
      "application/vnd.jupyter.widget-view+json": {
       "model_id": "0193fa7192584d49a2e269f559111e8d",
       "version_major": 2,
       "version_minor": 0
      },
      "text/plain": [
       "  0%|          | 0/5 [00:00<?, ?it/s]"
      ]
     },
     "metadata": {},
     "output_type": "display_data"
    },
    {
     "name": "stdout",
     "output_type": "stream",
     "text": [
      "\n",
      "Number of segments: 6\n",
      "\n"
     ]
    },
    {
     "data": {
      "application/vnd.jupyter.widget-view+json": {
       "model_id": "badd55c85fde4067a6c88859e4e2081d",
       "version_major": 2,
       "version_minor": 0
      },
      "text/plain": [
       "  0%|          | 0/6 [00:00<?, ?it/s]"
      ]
     },
     "metadata": {},
     "output_type": "display_data"
    },
    {
     "name": "stdout",
     "output_type": "stream",
     "text": [
      "\n",
      "Number of segments: 8\n",
      "\n"
     ]
    },
    {
     "data": {
      "application/vnd.jupyter.widget-view+json": {
       "model_id": "b74db267ee6e4d69b77345438f4b47c2",
       "version_major": 2,
       "version_minor": 0
      },
      "text/plain": [
       "  0%|          | 0/8 [00:00<?, ?it/s]"
      ]
     },
     "metadata": {},
     "output_type": "display_data"
    },
    {
     "name": "stdout",
     "output_type": "stream",
     "text": [
      "\n",
      "Number of segments: 4\n",
      "\n"
     ]
    },
    {
     "data": {
      "application/vnd.jupyter.widget-view+json": {
       "model_id": "1457a970e93a445d91085af41e7132d1",
       "version_major": 2,
       "version_minor": 0
      },
      "text/plain": [
       "  0%|          | 0/4 [00:00<?, ?it/s]"
      ]
     },
     "metadata": {},
     "output_type": "display_data"
    },
    {
     "name": "stdout",
     "output_type": "stream",
     "text": [
      "\n",
      "Number of segments: 6\n",
      "\n"
     ]
    },
    {
     "data": {
      "application/vnd.jupyter.widget-view+json": {
       "model_id": "f32adcac321b479ca34b30212a9dc441",
       "version_major": 2,
       "version_minor": 0
      },
      "text/plain": [
       "  0%|          | 0/6 [00:00<?, ?it/s]"
      ]
     },
     "metadata": {},
     "output_type": "display_data"
    },
    {
     "name": "stdout",
     "output_type": "stream",
     "text": [
      "\n",
      "Number of segments: 8\n",
      "\n"
     ]
    },
    {
     "data": {
      "application/vnd.jupyter.widget-view+json": {
       "model_id": "8dbe20638ebb4fbea556deb1a71c8d7f",
       "version_major": 2,
       "version_minor": 0
      },
      "text/plain": [
       "  0%|          | 0/8 [00:00<?, ?it/s]"
      ]
     },
     "metadata": {},
     "output_type": "display_data"
    },
    {
     "name": "stdout",
     "output_type": "stream",
     "text": [
      "\n",
      "Number of segments: 1\n",
      "\n"
     ]
    },
    {
     "data": {
      "application/vnd.jupyter.widget-view+json": {
       "model_id": "8ff33f564ed542b0bb799044722ab39e",
       "version_major": 2,
       "version_minor": 0
      },
      "text/plain": [
       "  0%|          | 0/1 [00:00<?, ?it/s]"
      ]
     },
     "metadata": {},
     "output_type": "display_data"
    },
    {
     "name": "stdout",
     "output_type": "stream",
     "text": [
      "\n",
      "Number of segments: 12\n",
      "\n"
     ]
    },
    {
     "data": {
      "application/vnd.jupyter.widget-view+json": {
       "model_id": "84c1d4afd5c74cde9b69ec2a1d2cd0ac",
       "version_major": 2,
       "version_minor": 0
      },
      "text/plain": [
       "  0%|          | 0/12 [00:00<?, ?it/s]"
      ]
     },
     "metadata": {},
     "output_type": "display_data"
    },
    {
     "name": "stdout",
     "output_type": "stream",
     "text": [
      "\n",
      "Number of segments: 12\n",
      "\n"
     ]
    },
    {
     "data": {
      "application/vnd.jupyter.widget-view+json": {
       "model_id": "46c46a97312442e083ff742e80ec3c97",
       "version_major": 2,
       "version_minor": 0
      },
      "text/plain": [
       "  0%|          | 0/12 [00:00<?, ?it/s]"
      ]
     },
     "metadata": {},
     "output_type": "display_data"
    },
    {
     "name": "stdout",
     "output_type": "stream",
     "text": [
      "\n",
      "Number of segments: 2\n",
      "\n"
     ]
    },
    {
     "data": {
      "application/vnd.jupyter.widget-view+json": {
       "model_id": "0068d8a498434a6b83bb4a03ad5945f3",
       "version_major": 2,
       "version_minor": 0
      },
      "text/plain": [
       "  0%|          | 0/2 [00:00<?, ?it/s]"
      ]
     },
     "metadata": {},
     "output_type": "display_data"
    },
    {
     "name": "stdout",
     "output_type": "stream",
     "text": [
      "\n",
      "Number of segments: 7\n",
      "\n"
     ]
    },
    {
     "data": {
      "application/vnd.jupyter.widget-view+json": {
       "model_id": "f2b9053865914819b44436177936679c",
       "version_major": 2,
       "version_minor": 0
      },
      "text/plain": [
       "  0%|          | 0/7 [00:00<?, ?it/s]"
      ]
     },
     "metadata": {},
     "output_type": "display_data"
    },
    {
     "name": "stdout",
     "output_type": "stream",
     "text": [
      "\n",
      "Number of segments: 8\n",
      "\n"
     ]
    },
    {
     "data": {
      "application/vnd.jupyter.widget-view+json": {
       "model_id": "dce058032cc546e8a190eb70e6aabdfd",
       "version_major": 2,
       "version_minor": 0
      },
      "text/plain": [
       "  0%|          | 0/8 [00:00<?, ?it/s]"
      ]
     },
     "metadata": {},
     "output_type": "display_data"
    },
    {
     "name": "stdout",
     "output_type": "stream",
     "text": [
      "\n",
      "Number of segments: 3\n",
      "\n"
     ]
    },
    {
     "data": {
      "application/vnd.jupyter.widget-view+json": {
       "model_id": "0778c83a82004df6bb624e39280df120",
       "version_major": 2,
       "version_minor": 0
      },
      "text/plain": [
       "  0%|          | 0/3 [00:00<?, ?it/s]"
      ]
     },
     "metadata": {},
     "output_type": "display_data"
    },
    {
     "name": "stdout",
     "output_type": "stream",
     "text": [
      "\n",
      "Number of segments: 6\n",
      "\n"
     ]
    },
    {
     "data": {
      "application/vnd.jupyter.widget-view+json": {
       "model_id": "38c57255dbe74e05a6a66737c41a12b4",
       "version_major": 2,
       "version_minor": 0
      },
      "text/plain": [
       "  0%|          | 0/6 [00:00<?, ?it/s]"
      ]
     },
     "metadata": {},
     "output_type": "display_data"
    },
    {
     "name": "stdout",
     "output_type": "stream",
     "text": [
      "\n",
      "Number of segments: 8\n",
      "\n"
     ]
    },
    {
     "data": {
      "application/vnd.jupyter.widget-view+json": {
       "model_id": "2c4dc91dd9da481ea3915a4687584b80",
       "version_major": 2,
       "version_minor": 0
      },
      "text/plain": [
       "  0%|          | 0/8 [00:00<?, ?it/s]"
      ]
     },
     "metadata": {},
     "output_type": "display_data"
    },
    {
     "name": "stdout",
     "output_type": "stream",
     "text": [
      "\n",
      "Number of segments: 3\n",
      "\n"
     ]
    },
    {
     "data": {
      "application/vnd.jupyter.widget-view+json": {
       "model_id": "8106a8a0860046299a64c31813e548bb",
       "version_major": 2,
       "version_minor": 0
      },
      "text/plain": [
       "  0%|          | 0/3 [00:00<?, ?it/s]"
      ]
     },
     "metadata": {},
     "output_type": "display_data"
    },
    {
     "name": "stdout",
     "output_type": "stream",
     "text": [
      "\n",
      "Number of segments: 5\n",
      "\n"
     ]
    },
    {
     "data": {
      "application/vnd.jupyter.widget-view+json": {
       "model_id": "ac2dc6aa2a8b45249bcb171f5f773d6b",
       "version_major": 2,
       "version_minor": 0
      },
      "text/plain": [
       "  0%|          | 0/5 [00:00<?, ?it/s]"
      ]
     },
     "metadata": {},
     "output_type": "display_data"
    },
    {
     "name": "stdout",
     "output_type": "stream",
     "text": [
      "\n",
      "Number of segments: 5\n",
      "\n"
     ]
    },
    {
     "data": {
      "application/vnd.jupyter.widget-view+json": {
       "model_id": "4ee92f32d41c4f46bdc67e41a5b3750d",
       "version_major": 2,
       "version_minor": 0
      },
      "text/plain": [
       "  0%|          | 0/5 [00:00<?, ?it/s]"
      ]
     },
     "metadata": {},
     "output_type": "display_data"
    },
    {
     "name": "stdout",
     "output_type": "stream",
     "text": [
      "\n",
      "Number of segments: 3\n",
      "\n"
     ]
    },
    {
     "data": {
      "application/vnd.jupyter.widget-view+json": {
       "model_id": "0b6df1ec9b4244edb02652019068823f",
       "version_major": 2,
       "version_minor": 0
      },
      "text/plain": [
       "  0%|          | 0/3 [00:00<?, ?it/s]"
      ]
     },
     "metadata": {},
     "output_type": "display_data"
    },
    {
     "name": "stdout",
     "output_type": "stream",
     "text": [
      "\n",
      "Number of segments: 5\n",
      "\n"
     ]
    },
    {
     "data": {
      "application/vnd.jupyter.widget-view+json": {
       "model_id": "fa77f704ac974c2f89ca92b3f9f13983",
       "version_major": 2,
       "version_minor": 0
      },
      "text/plain": [
       "  0%|          | 0/5 [00:00<?, ?it/s]"
      ]
     },
     "metadata": {},
     "output_type": "display_data"
    },
    {
     "name": "stdout",
     "output_type": "stream",
     "text": [
      "\n",
      "Number of segments: 5\n",
      "\n"
     ]
    },
    {
     "data": {
      "application/vnd.jupyter.widget-view+json": {
       "model_id": "a21955a8ee9e4ca79969a80dadf13679",
       "version_major": 2,
       "version_minor": 0
      },
      "text/plain": [
       "  0%|          | 0/5 [00:00<?, ?it/s]"
      ]
     },
     "metadata": {},
     "output_type": "display_data"
    },
    {
     "name": "stdout",
     "output_type": "stream",
     "text": [
      "\n",
      "Number of segments: 1\n",
      "\n"
     ]
    },
    {
     "data": {
      "application/vnd.jupyter.widget-view+json": {
       "model_id": "a71d0f3beedc49b3aeedd15def60496f",
       "version_major": 2,
       "version_minor": 0
      },
      "text/plain": [
       "  0%|          | 0/1 [00:00<?, ?it/s]"
      ]
     },
     "metadata": {},
     "output_type": "display_data"
    },
    {
     "name": "stdout",
     "output_type": "stream",
     "text": [
      "\n",
      "Number of segments: 3\n",
      "\n"
     ]
    },
    {
     "data": {
      "application/vnd.jupyter.widget-view+json": {
       "model_id": "3bc209bb81274a54bbe3db3ed9b4799c",
       "version_major": 2,
       "version_minor": 0
      },
      "text/plain": [
       "  0%|          | 0/3 [00:00<?, ?it/s]"
      ]
     },
     "metadata": {},
     "output_type": "display_data"
    },
    {
     "name": "stdout",
     "output_type": "stream",
     "text": [
      "\n",
      "Number of segments: 5\n",
      "\n"
     ]
    },
    {
     "data": {
      "application/vnd.jupyter.widget-view+json": {
       "model_id": "e2e95f1d3a63437ca235ee72afd511b1",
       "version_major": 2,
       "version_minor": 0
      },
      "text/plain": [
       "  0%|          | 0/5 [00:00<?, ?it/s]"
      ]
     },
     "metadata": {},
     "output_type": "display_data"
    },
    {
     "name": "stdout",
     "output_type": "stream",
     "text": [
      "\n",
      "Number of segments: 3\n",
      "\n"
     ]
    },
    {
     "data": {
      "application/vnd.jupyter.widget-view+json": {
       "model_id": "b22c9f5f6df34175b629ffac3b84c03e",
       "version_major": 2,
       "version_minor": 0
      },
      "text/plain": [
       "  0%|          | 0/3 [00:00<?, ?it/s]"
      ]
     },
     "metadata": {},
     "output_type": "display_data"
    },
    {
     "name": "stdout",
     "output_type": "stream",
     "text": [
      "\n",
      "Number of segments: 2\n",
      "\n"
     ]
    },
    {
     "data": {
      "application/vnd.jupyter.widget-view+json": {
       "model_id": "2269f46d947d4642992e399ce961237a",
       "version_major": 2,
       "version_minor": 0
      },
      "text/plain": [
       "  0%|          | 0/2 [00:00<?, ?it/s]"
      ]
     },
     "metadata": {},
     "output_type": "display_data"
    },
    {
     "name": "stdout",
     "output_type": "stream",
     "text": [
      "\n",
      "Number of segments: 3\n",
      "\n"
     ]
    },
    {
     "data": {
      "application/vnd.jupyter.widget-view+json": {
       "model_id": "dc2e1482df6d4057ae81c0efa2746473",
       "version_major": 2,
       "version_minor": 0
      },
      "text/plain": [
       "  0%|          | 0/3 [00:00<?, ?it/s]"
      ]
     },
     "metadata": {},
     "output_type": "display_data"
    },
    {
     "name": "stdout",
     "output_type": "stream",
     "text": [
      "\n",
      "Number of segments: 6\n",
      "\n"
     ]
    },
    {
     "data": {
      "application/vnd.jupyter.widget-view+json": {
       "model_id": "e2b12519daef4fc599843eec4c563d17",
       "version_major": 2,
       "version_minor": 0
      },
      "text/plain": [
       "  0%|          | 0/6 [00:00<?, ?it/s]"
      ]
     },
     "metadata": {},
     "output_type": "display_data"
    },
    {
     "name": "stdout",
     "output_type": "stream",
     "text": [
      "\n",
      "Number of segments: 8\n",
      "\n"
     ]
    },
    {
     "data": {
      "application/vnd.jupyter.widget-view+json": {
       "model_id": "927647cd9491437a9268b6dd7615825b",
       "version_major": 2,
       "version_minor": 0
      },
      "text/plain": [
       "  0%|          | 0/8 [00:00<?, ?it/s]"
      ]
     },
     "metadata": {},
     "output_type": "display_data"
    },
    {
     "name": "stdout",
     "output_type": "stream",
     "text": [
      "\n",
      "Number of segments: 6\n",
      "\n"
     ]
    },
    {
     "data": {
      "application/vnd.jupyter.widget-view+json": {
       "model_id": "45c466236f034103832519cb8f3ed340",
       "version_major": 2,
       "version_minor": 0
      },
      "text/plain": [
       "  0%|          | 0/6 [00:00<?, ?it/s]"
      ]
     },
     "metadata": {},
     "output_type": "display_data"
    },
    {
     "name": "stdout",
     "output_type": "stream",
     "text": [
      "\n",
      "Number of segments: 2\n",
      "\n"
     ]
    },
    {
     "data": {
      "application/vnd.jupyter.widget-view+json": {
       "model_id": "7d0cf936d1034248aa1ef2808dda5c35",
       "version_major": 2,
       "version_minor": 0
      },
      "text/plain": [
       "  0%|          | 0/2 [00:00<?, ?it/s]"
      ]
     },
     "metadata": {},
     "output_type": "display_data"
    },
    {
     "name": "stdout",
     "output_type": "stream",
     "text": [
      "\n",
      "Number of segments: 3\n",
      "\n"
     ]
    },
    {
     "data": {
      "application/vnd.jupyter.widget-view+json": {
       "model_id": "b5e79afa39354d93a512891b236abc9e",
       "version_major": 2,
       "version_minor": 0
      },
      "text/plain": [
       "  0%|          | 0/3 [00:00<?, ?it/s]"
      ]
     },
     "metadata": {},
     "output_type": "display_data"
    },
    {
     "name": "stdout",
     "output_type": "stream",
     "text": [
      "\n",
      "Number of segments: 5\n",
      "\n"
     ]
    },
    {
     "data": {
      "application/vnd.jupyter.widget-view+json": {
       "model_id": "a20c34fc21c342ccaea980c14c67625e",
       "version_major": 2,
       "version_minor": 0
      },
      "text/plain": [
       "  0%|          | 0/5 [00:00<?, ?it/s]"
      ]
     },
     "metadata": {},
     "output_type": "display_data"
    },
    {
     "name": "stdout",
     "output_type": "stream",
     "text": [
      "\n",
      "Number of segments: 3\n",
      "\n"
     ]
    },
    {
     "data": {
      "application/vnd.jupyter.widget-view+json": {
       "model_id": "720175501d7b4d698d884e135b2f9b2f",
       "version_major": 2,
       "version_minor": 0
      },
      "text/plain": [
       "  0%|          | 0/3 [00:00<?, ?it/s]"
      ]
     },
     "metadata": {},
     "output_type": "display_data"
    },
    {
     "name": "stdout",
     "output_type": "stream",
     "text": [
      "\n",
      "Number of segments: 2\n",
      "\n"
     ]
    },
    {
     "data": {
      "application/vnd.jupyter.widget-view+json": {
       "model_id": "0b15e7150f644c93925418336a6abf83",
       "version_major": 2,
       "version_minor": 0
      },
      "text/plain": [
       "  0%|          | 0/2 [00:00<?, ?it/s]"
      ]
     },
     "metadata": {},
     "output_type": "display_data"
    },
    {
     "name": "stdout",
     "output_type": "stream",
     "text": [
      "\n",
      "Number of segments: 5\n",
      "\n"
     ]
    },
    {
     "data": {
      "application/vnd.jupyter.widget-view+json": {
       "model_id": "cf5514f4d3d7497d8bf484e413d08413",
       "version_major": 2,
       "version_minor": 0
      },
      "text/plain": [
       "  0%|          | 0/5 [00:00<?, ?it/s]"
      ]
     },
     "metadata": {},
     "output_type": "display_data"
    },
    {
     "name": "stdout",
     "output_type": "stream",
     "text": [
      "\n",
      "Number of segments: 3\n",
      "\n"
     ]
    },
    {
     "data": {
      "application/vnd.jupyter.widget-view+json": {
       "model_id": "7ffeaf7cb6344492adaba922ce827ef3",
       "version_major": 2,
       "version_minor": 0
      },
      "text/plain": [
       "  0%|          | 0/3 [00:00<?, ?it/s]"
      ]
     },
     "metadata": {},
     "output_type": "display_data"
    },
    {
     "name": "stdout",
     "output_type": "stream",
     "text": [
      "\n",
      "Number of segments: 3\n",
      "\n"
     ]
    },
    {
     "data": {
      "application/vnd.jupyter.widget-view+json": {
       "model_id": "0a9c08020c39433cb7ec906489fafbf8",
       "version_major": 2,
       "version_minor": 0
      },
      "text/plain": [
       "  0%|          | 0/3 [00:00<?, ?it/s]"
      ]
     },
     "metadata": {},
     "output_type": "display_data"
    },
    {
     "name": "stdout",
     "output_type": "stream",
     "text": [
      "\n",
      "Number of segments: 3\n",
      "\n"
     ]
    },
    {
     "data": {
      "application/vnd.jupyter.widget-view+json": {
       "model_id": "f8bda95030c74c44b4ce827783e6aa81",
       "version_major": 2,
       "version_minor": 0
      },
      "text/plain": [
       "  0%|          | 0/3 [00:00<?, ?it/s]"
      ]
     },
     "metadata": {},
     "output_type": "display_data"
    },
    {
     "name": "stdout",
     "output_type": "stream",
     "text": [
      "\n",
      "Number of segments: 3\n",
      "\n"
     ]
    },
    {
     "data": {
      "application/vnd.jupyter.widget-view+json": {
       "model_id": "482d985d523344889bd765dd9d54f37b",
       "version_major": 2,
       "version_minor": 0
      },
      "text/plain": [
       "  0%|          | 0/3 [00:00<?, ?it/s]"
      ]
     },
     "metadata": {},
     "output_type": "display_data"
    },
    {
     "name": "stdout",
     "output_type": "stream",
     "text": [
      "\n",
      "Number of segments: 3\n",
      "\n"
     ]
    },
    {
     "data": {
      "application/vnd.jupyter.widget-view+json": {
       "model_id": "70a1ad01ddf34e48ba4d9e25b1f5fb5b",
       "version_major": 2,
       "version_minor": 0
      },
      "text/plain": [
       "  0%|          | 0/3 [00:00<?, ?it/s]"
      ]
     },
     "metadata": {},
     "output_type": "display_data"
    },
    {
     "name": "stdout",
     "output_type": "stream",
     "text": [
      "\n",
      "Number of segments: 4\n",
      "\n"
     ]
    },
    {
     "data": {
      "application/vnd.jupyter.widget-view+json": {
       "model_id": "75cf5e55daba43b0a6c6fb0b25503637",
       "version_major": 2,
       "version_minor": 0
      },
      "text/plain": [
       "  0%|          | 0/4 [00:00<?, ?it/s]"
      ]
     },
     "metadata": {},
     "output_type": "display_data"
    },
    {
     "name": "stdout",
     "output_type": "stream",
     "text": [
      "\n",
      "Number of segments: 3\n",
      "\n"
     ]
    },
    {
     "data": {
      "application/vnd.jupyter.widget-view+json": {
       "model_id": "8e5ef6c9239e468a9f99548a8064672d",
       "version_major": 2,
       "version_minor": 0
      },
      "text/plain": [
       "  0%|          | 0/3 [00:00<?, ?it/s]"
      ]
     },
     "metadata": {},
     "output_type": "display_data"
    },
    {
     "name": "stdout",
     "output_type": "stream",
     "text": [
      "\n",
      "Number of segments: 3\n",
      "\n"
     ]
    },
    {
     "data": {
      "application/vnd.jupyter.widget-view+json": {
       "model_id": "bb2345e2f9fb4a4c8c2e9a20aff18768",
       "version_major": 2,
       "version_minor": 0
      },
      "text/plain": [
       "  0%|          | 0/3 [00:00<?, ?it/s]"
      ]
     },
     "metadata": {},
     "output_type": "display_data"
    },
    {
     "name": "stdout",
     "output_type": "stream",
     "text": [
      "\n",
      "Number of segments: 5\n",
      "\n"
     ]
    },
    {
     "data": {
      "application/vnd.jupyter.widget-view+json": {
       "model_id": "504d7fc06da741c880814e75d533a65d",
       "version_major": 2,
       "version_minor": 0
      },
      "text/plain": [
       "  0%|          | 0/5 [00:00<?, ?it/s]"
      ]
     },
     "metadata": {},
     "output_type": "display_data"
    },
    {
     "data": {
      "application/vnd.jupyter.widget-view+json": {
       "model_id": "48fe47f6f79141c683c74804293aae1b",
       "version_major": 2,
       "version_minor": 0
      },
      "text/plain": [
       "  0%|          | 0/1 [00:00<?, ?it/s]"
      ]
     },
     "metadata": {},
     "output_type": "display_data"
    },
    {
     "data": {
      "application/vnd.jupyter.widget-view+json": {
       "model_id": "996782e4cb564132a383ba04f368dd98",
       "version_major": 2,
       "version_minor": 0
      },
      "text/plain": [
       "  0%|          | 0/1 [00:00<?, ?it/s]"
      ]
     },
     "metadata": {},
     "output_type": "display_data"
    },
    {
     "data": {
      "application/vnd.jupyter.widget-view+json": {
       "model_id": "346c26d6a985440fbb33c9263b457879",
       "version_major": 2,
       "version_minor": 0
      },
      "text/plain": [
       "  0%|          | 0/1 [00:00<?, ?it/s]"
      ]
     },
     "metadata": {},
     "output_type": "display_data"
    },
    {
     "name": "stdout",
     "output_type": "stream",
     "text": [
      "\n",
      "Number of segments: 2\n",
      "\n"
     ]
    },
    {
     "data": {
      "application/vnd.jupyter.widget-view+json": {
       "model_id": "863f3dd53510431f9937eca72cb96fc6",
       "version_major": 2,
       "version_minor": 0
      },
      "text/plain": [
       "  0%|          | 0/2 [00:00<?, ?it/s]"
      ]
     },
     "metadata": {},
     "output_type": "display_data"
    },
    {
     "name": "stdout",
     "output_type": "stream",
     "text": [
      "\n",
      "Number of segments: 4\n",
      "\n"
     ]
    },
    {
     "data": {
      "application/vnd.jupyter.widget-view+json": {
       "model_id": "8a33e353331d413da15bea325b1736aa",
       "version_major": 2,
       "version_minor": 0
      },
      "text/plain": [
       "  0%|          | 0/4 [00:00<?, ?it/s]"
      ]
     },
     "metadata": {},
     "output_type": "display_data"
    },
    {
     "name": "stdout",
     "output_type": "stream",
     "text": [
      "\n",
      "Number of segments: 4\n",
      "\n"
     ]
    },
    {
     "data": {
      "application/vnd.jupyter.widget-view+json": {
       "model_id": "f0924573ba44444fa28a4fd7926850d2",
       "version_major": 2,
       "version_minor": 0
      },
      "text/plain": [
       "  0%|          | 0/4 [00:00<?, ?it/s]"
      ]
     },
     "metadata": {},
     "output_type": "display_data"
    },
    {
     "name": "stdout",
     "output_type": "stream",
     "text": [
      "\n",
      "Number of segments: 2\n",
      "\n"
     ]
    },
    {
     "data": {
      "application/vnd.jupyter.widget-view+json": {
       "model_id": "7f19c4ff97e641e7a1d19d7023171ad4",
       "version_major": 2,
       "version_minor": 0
      },
      "text/plain": [
       "  0%|          | 0/2 [00:00<?, ?it/s]"
      ]
     },
     "metadata": {},
     "output_type": "display_data"
    },
    {
     "name": "stdout",
     "output_type": "stream",
     "text": [
      "\n",
      "Number of segments: 2\n",
      "\n"
     ]
    },
    {
     "data": {
      "application/vnd.jupyter.widget-view+json": {
       "model_id": "e087db75a9ba41cf9f20ec243125eb6b",
       "version_major": 2,
       "version_minor": 0
      },
      "text/plain": [
       "  0%|          | 0/2 [00:00<?, ?it/s]"
      ]
     },
     "metadata": {},
     "output_type": "display_data"
    },
    {
     "name": "stdout",
     "output_type": "stream",
     "text": [
      "\n",
      "Number of segments: 4\n",
      "\n"
     ]
    },
    {
     "data": {
      "application/vnd.jupyter.widget-view+json": {
       "model_id": "22090f6412294831a279a7fc37284d7a",
       "version_major": 2,
       "version_minor": 0
      },
      "text/plain": [
       "  0%|          | 0/4 [00:00<?, ?it/s]"
      ]
     },
     "metadata": {},
     "output_type": "display_data"
    },
    {
     "data": {
      "application/vnd.jupyter.widget-view+json": {
       "model_id": "824c972cdb7041ce9c27d008e0a77298",
       "version_major": 2,
       "version_minor": 0
      },
      "text/plain": [
       "  0%|          | 0/1 [00:00<?, ?it/s]"
      ]
     },
     "metadata": {},
     "output_type": "display_data"
    },
    {
     "data": {
      "application/vnd.jupyter.widget-view+json": {
       "model_id": "514d57b5783143ebbfdd231b88ae4d54",
       "version_major": 2,
       "version_minor": 0
      },
      "text/plain": [
       "  0%|          | 0/1 [00:00<?, ?it/s]"
      ]
     },
     "metadata": {},
     "output_type": "display_data"
    },
    {
     "data": {
      "application/vnd.jupyter.widget-view+json": {
       "model_id": "e18044d740204d7494364a3c2dd38c3a",
       "version_major": 2,
       "version_minor": 0
      },
      "text/plain": [
       "  0%|          | 0/1 [00:00<?, ?it/s]"
      ]
     },
     "metadata": {},
     "output_type": "display_data"
    },
    {
     "name": "stdout",
     "output_type": "stream",
     "text": [
      "\n",
      "Number of segments: 3\n",
      "\n"
     ]
    },
    {
     "data": {
      "application/vnd.jupyter.widget-view+json": {
       "model_id": "2ead52cf36dc4c6bbafa26e3badbb4ed",
       "version_major": 2,
       "version_minor": 0
      },
      "text/plain": [
       "  0%|          | 0/3 [00:00<?, ?it/s]"
      ]
     },
     "metadata": {},
     "output_type": "display_data"
    },
    {
     "name": "stdout",
     "output_type": "stream",
     "text": [
      "\n",
      "Number of segments: 4\n",
      "\n"
     ]
    },
    {
     "data": {
      "application/vnd.jupyter.widget-view+json": {
       "model_id": "8ba27df920174039a5b778840ea1e33d",
       "version_major": 2,
       "version_minor": 0
      },
      "text/plain": [
       "  0%|          | 0/4 [00:00<?, ?it/s]"
      ]
     },
     "metadata": {},
     "output_type": "display_data"
    },
    {
     "name": "stdout",
     "output_type": "stream",
     "text": [
      "\n",
      "Number of segments: 4\n",
      "\n"
     ]
    },
    {
     "data": {
      "application/vnd.jupyter.widget-view+json": {
       "model_id": "1866ac899fae4d3fb042a1a0dad54615",
       "version_major": 2,
       "version_minor": 0
      },
      "text/plain": [
       "  0%|          | 0/4 [00:00<?, ?it/s]"
      ]
     },
     "metadata": {},
     "output_type": "display_data"
    },
    {
     "data": {
      "application/vnd.jupyter.widget-view+json": {
       "model_id": "c56643c1643942bebdca77a902d8608c",
       "version_major": 2,
       "version_minor": 0
      },
      "text/plain": [
       "  0%|          | 0/1 [00:00<?, ?it/s]"
      ]
     },
     "metadata": {},
     "output_type": "display_data"
    },
    {
     "data": {
      "application/vnd.jupyter.widget-view+json": {
       "model_id": "d2c43ae74aab48adb916a2bca15674ca",
       "version_major": 2,
       "version_minor": 0
      },
      "text/plain": [
       "  0%|          | 0/1 [00:00<?, ?it/s]"
      ]
     },
     "metadata": {},
     "output_type": "display_data"
    },
    {
     "data": {
      "application/vnd.jupyter.widget-view+json": {
       "model_id": "90f4a5141e664b43a5877d8442406eb5",
       "version_major": 2,
       "version_minor": 0
      },
      "text/plain": [
       "  0%|          | 0/1 [00:00<?, ?it/s]"
      ]
     },
     "metadata": {},
     "output_type": "display_data"
    },
    {
     "data": {
      "application/vnd.jupyter.widget-view+json": {
       "model_id": "1cd340ce35614c599b1b5c284d52682f",
       "version_major": 2,
       "version_minor": 0
      },
      "text/plain": [
       "  0%|          | 0/1 [00:00<?, ?it/s]"
      ]
     },
     "metadata": {},
     "output_type": "display_data"
    },
    {
     "data": {
      "application/vnd.jupyter.widget-view+json": {
       "model_id": "aa996e12bb8f40189492d1f617e24978",
       "version_major": 2,
       "version_minor": 0
      },
      "text/plain": [
       "  0%|          | 0/1 [00:00<?, ?it/s]"
      ]
     },
     "metadata": {},
     "output_type": "display_data"
    },
    {
     "data": {
      "application/vnd.jupyter.widget-view+json": {
       "model_id": "8e1759427a6e476d96df92566a08eb8e",
       "version_major": 2,
       "version_minor": 0
      },
      "text/plain": [
       "  0%|          | 0/1 [00:00<?, ?it/s]"
      ]
     },
     "metadata": {},
     "output_type": "display_data"
    },
    {
     "data": {
      "application/vnd.jupyter.widget-view+json": {
       "model_id": "21d6f3866dad4035b011970c5a39a5f6",
       "version_major": 2,
       "version_minor": 0
      },
      "text/plain": [
       "  0%|          | 0/1 [00:00<?, ?it/s]"
      ]
     },
     "metadata": {},
     "output_type": "display_data"
    },
    {
     "data": {
      "application/vnd.jupyter.widget-view+json": {
       "model_id": "f1db47d2773c486aa0477126b2ccb787",
       "version_major": 2,
       "version_minor": 0
      },
      "text/plain": [
       "  0%|          | 0/1 [00:00<?, ?it/s]"
      ]
     },
     "metadata": {},
     "output_type": "display_data"
    },
    {
     "data": {
      "application/vnd.jupyter.widget-view+json": {
       "model_id": "e43a1f6faa6a42bfafe6bfbbebf4fb28",
       "version_major": 2,
       "version_minor": 0
      },
      "text/plain": [
       "  0%|          | 0/1 [00:00<?, ?it/s]"
      ]
     },
     "metadata": {},
     "output_type": "display_data"
    },
    {
     "name": "stdout",
     "output_type": "stream",
     "text": [
      "\n",
      "Number of segments: 2\n",
      "\n"
     ]
    },
    {
     "data": {
      "application/vnd.jupyter.widget-view+json": {
       "model_id": "f6378f85af3540edbc3261dbf5befb55",
       "version_major": 2,
       "version_minor": 0
      },
      "text/plain": [
       "  0%|          | 0/2 [00:00<?, ?it/s]"
      ]
     },
     "metadata": {},
     "output_type": "display_data"
    },
    {
     "name": "stdout",
     "output_type": "stream",
     "text": [
      "\n",
      "Number of segments: 2\n",
      "\n"
     ]
    },
    {
     "data": {
      "application/vnd.jupyter.widget-view+json": {
       "model_id": "20d311edacda4af49b08bbdb43c4f4bb",
       "version_major": 2,
       "version_minor": 0
      },
      "text/plain": [
       "  0%|          | 0/2 [00:00<?, ?it/s]"
      ]
     },
     "metadata": {},
     "output_type": "display_data"
    },
    {
     "name": "stdout",
     "output_type": "stream",
     "text": [
      "\n",
      "Number of segments: 4\n",
      "\n"
     ]
    },
    {
     "data": {
      "application/vnd.jupyter.widget-view+json": {
       "model_id": "b4f438245f6048898943db806df74bc0",
       "version_major": 2,
       "version_minor": 0
      },
      "text/plain": [
       "  0%|          | 0/4 [00:00<?, ?it/s]"
      ]
     },
     "metadata": {},
     "output_type": "display_data"
    },
    {
     "name": "stdout",
     "output_type": "stream",
     "text": [
      "\n",
      "Number of segments: 2\n",
      "\n"
     ]
    },
    {
     "data": {
      "application/vnd.jupyter.widget-view+json": {
       "model_id": "a1e5500b16334844bc858aac818f8a3f",
       "version_major": 2,
       "version_minor": 0
      },
      "text/plain": [
       "  0%|          | 0/2 [00:00<?, ?it/s]"
      ]
     },
     "metadata": {},
     "output_type": "display_data"
    },
    {
     "name": "stdout",
     "output_type": "stream",
     "text": [
      "\n",
      "Number of segments: 3\n",
      "\n"
     ]
    },
    {
     "data": {
      "application/vnd.jupyter.widget-view+json": {
       "model_id": "4751b49f60874c49bdb560c37f8f9c47",
       "version_major": 2,
       "version_minor": 0
      },
      "text/plain": [
       "  0%|          | 0/3 [00:00<?, ?it/s]"
      ]
     },
     "metadata": {},
     "output_type": "display_data"
    },
    {
     "name": "stdout",
     "output_type": "stream",
     "text": [
      "\n",
      "Number of segments: 3\n",
      "\n"
     ]
    },
    {
     "data": {
      "application/vnd.jupyter.widget-view+json": {
       "model_id": "5164c27709b74ac9b4294c74f784270b",
       "version_major": 2,
       "version_minor": 0
      },
      "text/plain": [
       "  0%|          | 0/3 [00:00<?, ?it/s]"
      ]
     },
     "metadata": {},
     "output_type": "display_data"
    },
    {
     "data": {
      "application/vnd.jupyter.widget-view+json": {
       "model_id": "db5ea3e91a5448c2993b7026113dfea9",
       "version_major": 2,
       "version_minor": 0
      },
      "text/plain": [
       "  0%|          | 0/1 [00:00<?, ?it/s]"
      ]
     },
     "metadata": {},
     "output_type": "display_data"
    },
    {
     "data": {
      "application/vnd.jupyter.widget-view+json": {
       "model_id": "8639c4b305124018802658761d634662",
       "version_major": 2,
       "version_minor": 0
      },
      "text/plain": [
       "  0%|          | 0/1 [00:00<?, ?it/s]"
      ]
     },
     "metadata": {},
     "output_type": "display_data"
    },
    {
     "data": {
      "application/vnd.jupyter.widget-view+json": {
       "model_id": "720bfa10fcd34e8bbb94edaa3c147924",
       "version_major": 2,
       "version_minor": 0
      },
      "text/plain": [
       "  0%|          | 0/1 [00:00<?, ?it/s]"
      ]
     },
     "metadata": {},
     "output_type": "display_data"
    },
    {
     "data": {
      "application/vnd.jupyter.widget-view+json": {
       "model_id": "460d151c1ca14688b6b44d68a9e5977c",
       "version_major": 2,
       "version_minor": 0
      },
      "text/plain": [
       "  0%|          | 0/1 [00:00<?, ?it/s]"
      ]
     },
     "metadata": {},
     "output_type": "display_data"
    },
    {
     "data": {
      "application/vnd.jupyter.widget-view+json": {
       "model_id": "9ca3afe6fd3a474b95887bdfd6f5abba",
       "version_major": 2,
       "version_minor": 0
      },
      "text/plain": [
       "  0%|          | 0/1 [00:00<?, ?it/s]"
      ]
     },
     "metadata": {},
     "output_type": "display_data"
    },
    {
     "data": {
      "application/vnd.jupyter.widget-view+json": {
       "model_id": "f3192f08fcf34c9984f2125e649ef594",
       "version_major": 2,
       "version_minor": 0
      },
      "text/plain": [
       "  0%|          | 0/1 [00:00<?, ?it/s]"
      ]
     },
     "metadata": {},
     "output_type": "display_data"
    },
    {
     "data": {
      "application/vnd.jupyter.widget-view+json": {
       "model_id": "082e2d381dea402f86f97fce04c577c8",
       "version_major": 2,
       "version_minor": 0
      },
      "text/plain": [
       "  0%|          | 0/1 [00:00<?, ?it/s]"
      ]
     },
     "metadata": {},
     "output_type": "display_data"
    },
    {
     "data": {
      "application/vnd.jupyter.widget-view+json": {
       "model_id": "116f0d7f738a4873a1a3f35b195fbab3",
       "version_major": 2,
       "version_minor": 0
      },
      "text/plain": [
       "  0%|          | 0/1 [00:00<?, ?it/s]"
      ]
     },
     "metadata": {},
     "output_type": "display_data"
    },
    {
     "data": {
      "application/vnd.jupyter.widget-view+json": {
       "model_id": "77e30233612d402da5a4dc645415b5a1",
       "version_major": 2,
       "version_minor": 0
      },
      "text/plain": [
       "  0%|          | 0/1 [00:00<?, ?it/s]"
      ]
     },
     "metadata": {},
     "output_type": "display_data"
    },
    {
     "data": {
      "application/vnd.jupyter.widget-view+json": {
       "model_id": "9de72102744c4a79bd615c092eac421f",
       "version_major": 2,
       "version_minor": 0
      },
      "text/plain": [
       "  0%|          | 0/1 [00:00<?, ?it/s]"
      ]
     },
     "metadata": {},
     "output_type": "display_data"
    },
    {
     "data": {
      "application/vnd.jupyter.widget-view+json": {
       "model_id": "601bf81eda28402aa26d14daea11f63f",
       "version_major": 2,
       "version_minor": 0
      },
      "text/plain": [
       "  0%|          | 0/1 [00:00<?, ?it/s]"
      ]
     },
     "metadata": {},
     "output_type": "display_data"
    },
    {
     "data": {
      "application/vnd.jupyter.widget-view+json": {
       "model_id": "c4d0b7f03b3548a986e63a10b24d3808",
       "version_major": 2,
       "version_minor": 0
      },
      "text/plain": [
       "  0%|          | 0/1 [00:00<?, ?it/s]"
      ]
     },
     "metadata": {},
     "output_type": "display_data"
    },
    {
     "data": {
      "application/vnd.jupyter.widget-view+json": {
       "model_id": "6bdf0846f0cb4140b23352286b2b80ec",
       "version_major": 2,
       "version_minor": 0
      },
      "text/plain": [
       "  0%|          | 0/1 [00:00<?, ?it/s]"
      ]
     },
     "metadata": {},
     "output_type": "display_data"
    },
    {
     "data": {
      "application/vnd.jupyter.widget-view+json": {
       "model_id": "be7c911de0ec4e4a8b973d0e2969efbe",
       "version_major": 2,
       "version_minor": 0
      },
      "text/plain": [
       "  0%|          | 0/1 [00:00<?, ?it/s]"
      ]
     },
     "metadata": {},
     "output_type": "display_data"
    },
    {
     "data": {
      "application/vnd.jupyter.widget-view+json": {
       "model_id": "6b8c61da1f8b4977a711123a7f57fe3c",
       "version_major": 2,
       "version_minor": 0
      },
      "text/plain": [
       "  0%|          | 0/1 [00:00<?, ?it/s]"
      ]
     },
     "metadata": {},
     "output_type": "display_data"
    },
    {
     "data": {
      "application/vnd.jupyter.widget-view+json": {
       "model_id": "a2d35e2943cb495ab9a6192e7aca2bac",
       "version_major": 2,
       "version_minor": 0
      },
      "text/plain": [
       "  0%|          | 0/1 [00:00<?, ?it/s]"
      ]
     },
     "metadata": {},
     "output_type": "display_data"
    },
    {
     "data": {
      "application/vnd.jupyter.widget-view+json": {
       "model_id": "47e5d10a8e0c487d82ad9feca21767c6",
       "version_major": 2,
       "version_minor": 0
      },
      "text/plain": [
       "  0%|          | 0/1 [00:00<?, ?it/s]"
      ]
     },
     "metadata": {},
     "output_type": "display_data"
    },
    {
     "data": {
      "application/vnd.jupyter.widget-view+json": {
       "model_id": "2efbd871249e436b924ff6a4eae09395",
       "version_major": 2,
       "version_minor": 0
      },
      "text/plain": [
       "  0%|          | 0/1 [00:00<?, ?it/s]"
      ]
     },
     "metadata": {},
     "output_type": "display_data"
    },
    {
     "name": "stderr",
     "output_type": "stream",
     "text": [
      "/usr/local/lib/python3.8/dist-packages/traittypes/traittypes.py:97: UserWarning: Given trait value dtype \"float64\" does not match required type \"float64\". A coerced copy has been created.\n",
      "  warnings.warn(\n"
     ]
    },
    {
     "data": {
      "application/vnd.jupyter.widget-view+json": {
       "model_id": "7818b93ed3a74b8eb92fa2a78867ae68",
       "version_major": 2,
       "version_minor": 0
      },
      "text/plain": [
       "HBox(children=(FloatSlider(value=0.3, description='Size', max=3.0), Dropdown(description='Geo', index=3, optio…"
      ]
     },
     "metadata": {},
     "output_type": "display_data"
    },
    {
     "data": {
      "application/vnd.jupyter.widget-view+json": {
       "model_id": "8c980a830a2e4d7b85498cd85be8034f",
       "version_major": 2,
       "version_minor": 0
      },
      "text/plain": [
       "HBox(children=(FloatSlider(value=0.3, description='Size', max=3.0), Dropdown(description='Geo', index=3, optio…"
      ]
     },
     "metadata": {},
     "output_type": "display_data"
    },
    {
     "data": {
      "application/vnd.jupyter.widget-view+json": {
       "model_id": "fbe3c824657544749fdbfb6c2445d4e8",
       "version_major": 2,
       "version_minor": 0
      },
      "text/plain": [
       "Container(figure=Figure(box_center=[0.5, 0.5, 0.5], box_size=[1.0, 1.0, 1.0], camera=PerspectiveCamera(fov=45.…"
      ]
     },
     "metadata": {},
     "output_type": "display_data"
    }
   ],
   "source": [
    "# --- shaft parameters ---\n",
    "spu.soma_vertex_nullification_global = False\n",
    "spu.skeleton_endpoint_nullification = False\n",
    "\n",
    "spu.clusters_threshold_global = 6\n",
    "spu.smoothness_threshold_global = 0.08\n",
    "spu.shaft_mesh_volume_max_global = 0.4\n",
    "spu.shaft_close_hole_area_top_2_mean_max_global = 0.4\n",
    "spu.shaft_mesh_n_faces_min_global = 200\n",
    "\n",
    "\n",
    "# spine filtering parameters\n",
    "spu.spine_n_face_threshold_bare_min_global = 310\n",
    "spu.spine_sk_length_threshold_bare_min_global = 0.6\n",
    "spu.filter_by_volume_threshold_bare_min_global = 0.011\n",
    "spu.bbox_oriented_side_max_min_bare_min_global = 0.4\n",
    "spu.sdf_mean_min_bare_min_global = 0.1\n",
    "spu.spine_volume_to_spine_area_min_bare_min_global = 0.00002\n",
    "\n",
    "# head neck segmentation\n",
    "spu.head_ray_trace_min_global = 0.3\n",
    "spu.head_face_min_global = 400\n",
    "\n",
    "spine_objs = spu.spine_objs_bare_minimum_filt_with_attr_from_branch_obj(\n",
    "    mesh = mesh_dec,\n",
    "    plot_filtered_spines = True,\n",
    ")"
   ]
  },
  {
   "cell_type": "markdown",
   "metadata": {},
   "source": [
    "# Inspecting the Spines"
   ]
  },
  {
   "cell_type": "code",
   "execution_count": 15,
   "metadata": {},
   "outputs": [
    {
     "data": {
      "application/vnd.jupyter.widget-view+json": {
       "model_id": "a683e944aded498c861c256c18488f33",
       "version_major": 2,
       "version_minor": 0
      },
      "text/plain": [
       "Container(figure=Figure(box_center=[0.5, 0.5, 0.5], box_size=[1.0, 1.0, 1.0], camera=PerspectiveCamera(fov=45.…"
      ]
     },
     "metadata": {},
     "output_type": "display_data"
    }
   ],
   "source": [
    "idx = 10\n",
    "\n",
    "sp_obj = spine_objs[idx]\n",
    "ipvu.plot_objects(sp_obj.mesh)"
   ]
  },
  {
   "cell_type": "code",
   "execution_count": 16,
   "metadata": {},
   "outputs": [
    {
     "data": {
      "text/plain": [
       "{'mesh_face_idx': array([  7922,   7923,   7924, ..., 107440, 108605, 111364]),\n",
       " 'mesh': <trimesh.Trimesh(vertices.shape=(1352, 3), faces.shape=(2682, 3))>,\n",
       " 'neck_face_idx': array([2272, 2273, 2274, 2275, 2276, 2277, 2278, 2279, 2280, 2281, 2282,\n",
       "        2283, 2284, 2285, 2286, 2287, 2288, 2289, 2290, 2291, 2292, 2293,\n",
       "        2294, 2295, 2296, 2297, 2298, 2299, 2300, 2301, 2302, 2303, 2304,\n",
       "        2305, 2306, 2307, 2308, 2309, 2310, 2311, 2312, 2313, 2314, 2315,\n",
       "        2316, 2317, 2318, 2319, 2320, 2321, 2322, 2323, 2324, 2325, 2326,\n",
       "        2327, 2328, 2329, 2330, 2331, 2332, 2333, 2334, 2335, 2336, 2337,\n",
       "        2338, 2339, 2340, 2341, 2342, 2343, 2344, 2345, 2346, 2347, 2348,\n",
       "        2349, 2350, 2351, 2352, 2353, 2354, 2355, 2356, 2357, 2358, 2359,\n",
       "        2360, 2361, 2362, 2363, 2364, 2365, 2366, 2367, 2368, 2369, 2370,\n",
       "        2371, 2372, 2373, 2374, 2375, 2376, 2377, 2378, 2379, 2380, 2381,\n",
       "        2382, 2383, 2384, 2385, 2386, 2387, 2388, 2389, 2390, 2391, 2392,\n",
       "        2393, 2394, 2395, 2396, 2397, 2398, 2399, 2400, 2401, 2402, 2403,\n",
       "        2404, 2405, 2406, 2407, 2408, 2409, 2410, 2411, 2412, 2413, 2414,\n",
       "        2415, 2416, 2417, 2418, 2419, 2420, 2421, 2422, 2423, 2424, 2425,\n",
       "        2426, 2427, 2428, 2429, 2430, 2431, 2432, 2433, 2434, 2435, 2436,\n",
       "        2437, 2438, 2439, 2440, 2441, 2442, 2443, 2444, 2445, 2446, 2447,\n",
       "        2448, 2449, 2450, 2451, 2452, 2453, 2454, 2455, 2456, 2457, 2458,\n",
       "        2459, 2460, 2461, 2462, 2463, 2464, 2465, 2466, 2467, 2468, 2469,\n",
       "        2470, 2471, 2472, 2473, 2474, 2475, 2476, 2477, 2478, 2479, 2480,\n",
       "        2481, 2482, 2483, 2484, 2485, 2486, 2487, 2488, 2489, 2490, 2491,\n",
       "        2492, 2493, 2494, 2495, 2496, 2497, 2498, 2499, 2500, 2501, 2502,\n",
       "        2503, 2504, 2505, 2506, 2507, 2508, 2509, 2510, 2511, 2512, 2513,\n",
       "        2514, 2515, 2516, 2517, 2518, 2519, 2520, 2521, 2522, 2523, 2524,\n",
       "        2525, 2526, 2527, 2528, 2529, 2530, 2531, 2532, 2533, 2534, 2535,\n",
       "        2536, 2537, 2538, 2539, 2540, 2541, 2542, 2543, 2544, 2545, 2546,\n",
       "        2547, 2548, 2549, 2550, 2551, 2552, 2553, 2554, 2555, 2556, 2557,\n",
       "        2558, 2559, 2560, 2561, 2562, 2563, 2564, 2565, 2566, 2567, 2568,\n",
       "        2569, 2570, 2571, 2572, 2573, 2574, 2575, 2576, 2577, 2578, 2579,\n",
       "        2580, 2581, 2582, 2583, 2584, 2585, 2586, 2587, 2588, 2589, 2590,\n",
       "        2591, 2592, 2593, 2594, 2595, 2596, 2597, 2598, 2599, 2600, 2601,\n",
       "        2602, 2603, 2604, 2605, 2606, 2607, 2608, 2609, 2610, 2611, 2612,\n",
       "        2613, 2614, 2615, 2616, 2617, 2618, 2619, 2620, 2621, 2622, 2623,\n",
       "        2624, 2625, 2626, 2627, 2628, 2629, 2630, 2631, 2632, 2633, 2634,\n",
       "        2635, 2636, 2637, 2638, 2639, 2640, 2641, 2642, 2643, 2644, 2645,\n",
       "        2646, 2647, 2648, 2649, 2650, 2651, 2652, 2653, 2654, 2655, 2656,\n",
       "        2657, 2658, 2659, 2660, 2661, 2662, 2663, 2664, 2665, 2666, 2667,\n",
       "        2668, 2669, 2670, 2671, 2672, 2673, 2674, 2675, 2676, 2677, 2678,\n",
       "        2679, 2680, 2681]),\n",
       " 'head_face_idx': array([   0,    1,    2, ..., 2269, 2270, 2271]),\n",
       " 'neck_sdf': 0.1135305,\n",
       " 'head_sdf': 0.6724155,\n",
       " 'head_width': 0.3753178547144564,\n",
       " 'neck_width': 0.2550924440672558,\n",
       " 'volume': 0.1499995103680517,\n",
       " 'spine_id': None,\n",
       " 'sdf': array([0.396566, 0.398793, 0.41501 , ..., 0.384608, 0.277783, 0.220543]),\n",
       " 'endpoints_dist': None,\n",
       " 'upstream_dist': None,\n",
       " 'downstream_dist': None,\n",
       " 'coordinate': TrackedArray([3.308472, 1.923486, 1.675704]),\n",
       " 'coordinate_border_verts': TrackedArray([[3.308472, 1.923486, 1.675704],\n",
       "               [3.103935, 2.005621, 1.629587],\n",
       "               [3.119478, 1.98468 , 1.615239],\n",
       "               [3.144307, 1.962919, 1.602211],\n",
       "               [3.178296, 1.946892, 1.888793],\n",
       "               [3.148015, 1.961673, 1.834249],\n",
       "               [3.156851, 1.960078, 1.866641],\n",
       "               [3.215776, 1.919817, 1.8729  ],\n",
       "               [3.255153, 1.899306, 1.850536],\n",
       "               [3.120679, 1.996069, 1.792051],\n",
       "               [3.109371, 2.011802, 1.737757],\n",
       "               [3.105387, 2.00653 , 1.682488],\n",
       "               [3.300396, 1.916195, 1.818761],\n",
       "               [3.3144  , 1.92582 , 1.7714  ],\n",
       "               [3.171258, 1.940778, 1.608773],\n",
       "               [3.205613, 1.929835, 1.610176],\n",
       "               [3.23373 , 1.920318, 1.619236],\n",
       "               [3.320209, 1.931121, 1.734344],\n",
       "               [3.254423, 1.911019, 1.628178],\n",
       "               [3.279451, 1.90885 , 1.642565]]),\n",
       " 'closest_sk_coordinate': None,\n",
       " 'closest_branch_face_idx': 94806,\n",
       " 'closest_face_dist': 0.018645295626511335,\n",
       " 'closest_face_coordinate': array([3.31064 , 1.935145, 1.661316]),\n",
       " 'soma_distance': None,\n",
       " 'soma_distance_euclidean': None,\n",
       " 'compartment': None,\n",
       " 'limb_idx': None,\n",
       " 'branch_idx': None,\n",
       " 'skeleton': TrackedArray([[[3.109371 , 2.011802 , 1.737757 ],\n",
       "                [3.11789  , 1.983006 , 1.724503 ]],\n",
       " \n",
       "               [[3.11789  , 1.983006 , 1.724503 ],\n",
       "                [3.118845 , 1.963832 , 1.697221 ]],\n",
       " \n",
       "               [[3.118845 , 1.963832 , 1.697221 ],\n",
       "                [3.127166 , 1.924842 , 1.703302 ]],\n",
       " \n",
       "               [[3.127166 , 1.924842 , 1.703302 ],\n",
       "                [3.136429 , 1.884425 , 1.731411 ]],\n",
       " \n",
       "               [[3.136429 , 1.884425 , 1.731411 ],\n",
       "                [3.134556 , 1.845958 , 1.729015 ]],\n",
       " \n",
       "               [[3.134556 , 1.845958 , 1.729015 ],\n",
       "                [3.129744 , 1.805665 , 1.735445 ]],\n",
       " \n",
       "               [[3.129744 , 1.805665 , 1.735445 ],\n",
       "                [3.132309 , 1.747579 , 1.724918 ]],\n",
       " \n",
       "               [[3.132309 , 1.747579 , 1.724918 ],\n",
       "                [3.133231 , 1.696348 , 1.729741 ]],\n",
       " \n",
       "               [[3.133231 , 1.696348 , 1.729741 ],\n",
       "                [3.138544 , 1.654126 , 1.745074 ]],\n",
       " \n",
       "               [[3.138544 , 1.654126 , 1.745074 ],\n",
       "                [3.124463 , 1.608108 , 1.766076 ]],\n",
       " \n",
       "               [[3.124463 , 1.608108 , 1.766076 ],\n",
       "                [3.135763 , 1.569515 , 1.793566 ]],\n",
       " \n",
       "               [[3.135763 , 1.569515 , 1.793566 ],\n",
       "                [3.137407 , 1.524987 , 1.791802 ]],\n",
       " \n",
       "               [[3.137407 , 1.524987 , 1.791802 ],\n",
       "                [3.146094 , 1.476268 , 1.803371 ]],\n",
       " \n",
       "               [[3.146094 , 1.476268 , 1.803371 ],\n",
       "                [3.150584 , 1.429283 , 1.785814 ]],\n",
       " \n",
       "               [[3.150584 , 1.429283 , 1.785814 ],\n",
       "                [3.153795 , 1.394588 , 1.777543 ]],\n",
       " \n",
       "               [[3.153795 , 1.394588 , 1.777543 ],\n",
       "                [3.160139 , 1.360356 , 1.767648 ]],\n",
       " \n",
       "               [[3.160139 , 1.360356 , 1.767648 ],\n",
       "                [3.167348 , 1.312821 , 1.755283 ]],\n",
       " \n",
       "               [[3.167348 , 1.312821 , 1.755283 ],\n",
       "                [3.176152 , 1.282099 , 1.753007 ]],\n",
       " \n",
       "               [[3.176152 , 1.282099 , 1.753007 ],\n",
       "                [3.184625 , 1.245041 , 1.743994 ]],\n",
       " \n",
       "               [[3.184625 , 1.245041 , 1.743994 ],\n",
       "                [3.19522  , 1.208417 , 1.749191 ]],\n",
       " \n",
       "               [[3.19522  , 1.208417 , 1.749191 ],\n",
       "                [3.197218 , 1.176201 , 1.733893 ]],\n",
       " \n",
       "               [[3.197218 , 1.176201 , 1.733893 ],\n",
       "                [3.198515 , 1.135372 , 1.734732 ]],\n",
       " \n",
       "               [[3.198515 , 1.135372 , 1.734732 ],\n",
       "                [3.205624 , 1.09653  , 1.748979 ]],\n",
       " \n",
       "               [[3.205624 , 1.09653  , 1.748979 ],\n",
       "                [3.21854  , 1.062954 , 1.72857  ]],\n",
       " \n",
       "               [[3.21854  , 1.062954 , 1.72857  ],\n",
       "                [3.224995 , 1.025278 , 1.715868 ]],\n",
       " \n",
       "               [[3.224995 , 1.025278 , 1.715868 ],\n",
       "                [3.224797 , 0.9886671, 1.712366 ]],\n",
       " \n",
       "               [[3.224797 , 0.9886671, 1.712366 ],\n",
       "                [3.23135  , 0.9456317, 1.690332 ]],\n",
       " \n",
       "               [[3.23135  , 0.9456317, 1.690332 ],\n",
       "                [3.212259 , 0.9067031, 1.683356 ]],\n",
       " \n",
       "               [[3.212259 , 0.9067031, 1.683356 ],\n",
       "                [3.171477 , 0.8876517, 1.66977  ]],\n",
       " \n",
       "               [[3.171477 , 0.8876517, 1.66977  ],\n",
       "                [3.1462   , 0.88099  , 1.65896  ]],\n",
       " \n",
       "               [[3.1462   , 0.88099  , 1.65896  ],\n",
       "                [3.121136 , 0.870594 , 1.644612 ]],\n",
       " \n",
       "               [[3.121136 , 0.870594 , 1.644612 ],\n",
       "                [3.089973 , 0.8506216, 1.621432 ]],\n",
       " \n",
       "               [[3.089973 , 0.8506216, 1.621432 ],\n",
       "                [3.060575 , 0.8347318, 1.631649 ]],\n",
       " \n",
       "               [[3.060575 , 0.8347318, 1.631649 ],\n",
       "                [3.03888  , 0.81441  , 1.61489  ]],\n",
       " \n",
       "               [[3.03888  , 0.81441  , 1.61489  ],\n",
       "                [3.022263 , 0.7948116, 1.596175 ]],\n",
       " \n",
       "               [[3.022263 , 0.7948116, 1.596175 ],\n",
       "                [2.999294 , 0.7720298, 1.576991 ]],\n",
       " \n",
       "               [[2.999294 , 0.7720298, 1.576991 ],\n",
       "                [2.979968 , 0.7513998, 1.556058 ]],\n",
       " \n",
       "               [[2.979968 , 0.7513998, 1.556058 ],\n",
       "                [2.962812 , 0.7325095, 1.525377 ]],\n",
       " \n",
       "               [[2.962812 , 0.7325095, 1.525377 ],\n",
       "                [2.929152 , 0.7082403, 1.524932 ]],\n",
       " \n",
       "               [[2.929152 , 0.7082403, 1.524932 ],\n",
       "                [2.907954 , 0.6806293, 1.513982 ]],\n",
       " \n",
       "               [[2.907954 , 0.6806293, 1.513982 ],\n",
       "                [2.874293 , 0.649859 , 1.510966 ]],\n",
       " \n",
       "               [[2.874293 , 0.649859 , 1.510966 ],\n",
       "                [2.861674 , 0.6281817, 1.487658 ]],\n",
       " \n",
       "               [[2.861674 , 0.6281817, 1.487658 ],\n",
       "                [2.847578 , 0.6093342, 1.460604 ]]]),\n",
       " 'skeletal_length': 1.756992951556908,\n",
       " 'bbox_oriented_side_lengths': array([1.4125952, 0.808918 , 0.736193 ]),\n",
       " 'head_bbox_oriented_side_lengths': array([0.8304142, 0.808918 , 0.647334 ]),\n",
       " 'neck_bbox_oriented_side_lengths': array([0.657285, 0.368611, 0.290976]),\n",
       " 'head_mesh_splits': array([<trimesh.Trimesh(vertices.shape=(1145, 3), faces.shape=(2272, 3))>],\n",
       "       dtype=object),\n",
       " 'head_mesh_splits_face_idx': array([0., 0., 0., ..., 0., 0., 0.]),\n",
       " 'branch_width_overall': None,\n",
       " 'branch_skeletal_length': None,\n",
       " 'branch_width_at_base': None}"
      ]
     },
     "execution_count": 16,
     "metadata": {},
     "output_type": "execute_result"
    }
   ],
   "source": [
    "sp_obj.export()"
   ]
  },
  {
   "cell_type": "markdown",
   "metadata": {},
   "source": [
    "# Exporting the figure"
   ]
  },
  {
   "cell_type": "code",
   "execution_count": 17,
   "metadata": {},
   "outputs": [
    {
     "data": {
      "application/vnd.jupyter.widget-view+json": {
       "model_id": "0071410f4d9348b199ebe1fd7c0c1de2",
       "version_major": 2,
       "version_minor": 0
      },
      "text/plain": [
       "HBox(children=(FloatSlider(value=0.3, description='Size', max=3.0), Dropdown(description='Geo', index=3, optio…"
      ]
     },
     "metadata": {},
     "output_type": "display_data"
    },
    {
     "data": {
      "application/vnd.jupyter.widget-view+json": {
       "model_id": "f60d3e1d508c411c91a58bb1e4031f94",
       "version_major": 2,
       "version_minor": 0
      },
      "text/plain": [
       "HBox(children=(FloatSlider(value=0.3, description='Size', max=3.0), Dropdown(description='Geo', index=3, optio…"
      ]
     },
     "metadata": {},
     "output_type": "display_data"
    },
    {
     "data": {
      "application/vnd.jupyter.widget-view+json": {
       "model_id": "4ea861d369ea4d1c9f842b801e35d9ec",
       "version_major": 2,
       "version_minor": 0
      },
      "text/plain": [
       "Container(figure=Figure(box_center=[0.5, 0.5, 0.5], box_size=[1.0, 1.0, 1.0], camera=PerspectiveCamera(fov=45.…"
      ]
     },
     "metadata": {},
     "output_type": "display_data"
    }
   ],
   "source": [
    "spu.plot_spines_objs_with_head_neck_and_coordinates(\n",
    "    spine_objs,\n",
    "    mesh = mesh_dec,\n",
    ")"
   ]
  },
  {
   "cell_type": "code",
   "execution_count": 18,
   "metadata": {},
   "outputs": [],
   "source": [
    "from datasci_tools import ipyvolume_utils as ipvu\n",
    "ipvu.save_to_html(f\"{file_base}_spine_detection.html\")"
   ]
  },
  {
   "cell_type": "markdown",
   "metadata": {},
   "source": [
    "# Skeleton Generation"
   ]
  },
  {
   "cell_type": "code",
   "execution_count": 19,
   "metadata": {},
   "outputs": [],
   "source": [
    "from mesh_tools import skeleton_utils as sk"
   ]
  },
  {
   "cell_type": "code",
   "execution_count": 20,
   "metadata": {},
   "outputs": [],
   "source": [
    "from datasci_tools import ipyvolume_utils as ipvu"
   ]
  },
  {
   "cell_type": "code",
   "execution_count": 21,
   "metadata": {},
   "outputs": [
    {
     "data": {
      "application/vnd.jupyter.widget-view+json": {
       "model_id": "b88efd43656c4056b7c979befa04915e",
       "version_major": 2,
       "version_minor": 0
      },
      "text/plain": [
       "Container(figure=Figure(box_center=[0.5, 0.5, 0.5], box_size=[1.0, 1.0, 1.0], camera=PerspectiveCamera(fov=45.…"
      ]
     },
     "metadata": {},
     "output_type": "display_data"
    }
   ],
   "source": [
    "skeleton_surface = sk.surface_skeleton(\n",
    "    mesh_dec,\n",
    "    plot = True,\n",
    "    #n_surface_downsampling=3,\n",
    ")"
   ]
  },
  {
   "cell_type": "code",
   "execution_count": 22,
   "metadata": {},
   "outputs": [
    {
     "name": "stdout",
     "output_type": "stream",
     "text": [
      "Manifold status before skeletonization = True\n",
      "Watertight status before skeletonization = True\n",
      "min_edge_length = 1\n"
     ]
    },
    {
     "data": {
      "application/vnd.jupyter.widget-view+json": {
       "model_id": "413550a4cc66439c81861bfe20b18681",
       "version_major": 2,
       "version_minor": 0
      },
      "text/plain": [
       "Container(figure=Figure(box_center=[0.5, 0.5, 0.5], box_size=[1.0, 1.0, 1.0], camera=PerspectiveCamera(fov=45.…"
      ]
     },
     "metadata": {},
     "output_type": "display_data"
    },
    {
     "name": "stdout",
     "output_type": "stream",
     "text": [
      "Using Distance measure skeletal_distance\n"
     ]
    },
    {
     "data": {
      "application/vnd.jupyter.widget-view+json": {
       "model_id": "f17b08638d80427cbb24b40e72b7bded",
       "version_major": 2,
       "version_minor": 0
      },
      "text/plain": [
       "  0%|          | 0/2 [00:00<?, ?it/s]"
      ]
     },
     "metadata": {},
     "output_type": "display_data"
    },
    {
     "name": "stdout",
     "output_type": "stream",
     "text": [
      "No skeletons to stack so returning empty list\n"
     ]
    },
    {
     "data": {
      "application/vnd.jupyter.widget-view+json": {
       "model_id": "f330a505abd147b2a299a1706373c72c",
       "version_major": 2,
       "version_minor": 0
      },
      "text/plain": [
       "Container(figure=Figure(box_center=[0.5, 0.5, 0.5], box_size=[1.0, 1.0, 1.0], camera=PerspectiveCamera(fov=45.…"
      ]
     },
     "metadata": {},
     "output_type": "display_data"
    }
   ],
   "source": [
    "skeleton = sk.skeleton_cgal(\n",
    "    mesh_dec,\n",
    "    plot = True,\n",
    "    cgal_original_parameters = False,\n",
    "    max_triangle_angle =1.91986,\n",
    "    quality_speed_tradeoff=0.1,\n",
    "    medially_centered_speed_tradeoff=0.2,#0.2,\n",
    "    area_variation_factor=0.0001,\n",
    "    max_iterations=500,#500,\n",
    "    is_medially_centered=True,\n",
    "    min_edge_length = 1,\n",
    "    edge_length_multiplier = 0.002,\n",
    ")\n",
    "\n",
    "skeleton_no_cycles = sk.remove_cycles_from_skeleton(skeleton,verbose=True,)\n",
    "\n",
    "sk_cgal,sk_removed = sk.clean_skeleton(\n",
    "    skeleton_no_cycles,\n",
    "    min_distance_to_junction = 3,\n",
    "    return_removed_skeletons = True,\n",
    ")\n",
    "\n",
    "ipvu.plot_objects(\n",
    "    mesh_dec,\n",
    "    skeletons=[sk_cgal,sk.stack_skeletons(sk_removed)],\n",
    "    skeletons_colors=[\"blue\",\"red\"],\n",
    "    buffer=0\n",
    ")"
   ]
  },
  {
   "cell_type": "code",
   "execution_count": null,
   "metadata": {},
   "outputs": [],
   "source": []
  }
 ],
 "metadata": {
  "kernelspec": {
   "display_name": "Python 3 (ipykernel)",
   "language": "python",
   "name": "python3"
  },
  "language_info": {
   "codemirror_mode": {
    "name": "ipython",
    "version": 3
   },
   "file_extension": ".py",
   "mimetype": "text/x-python",
   "name": "python",
   "nbconvert_exporter": "python",
   "pygments_lexer": "ipython3",
   "version": "3.8.0"
  }
 },
 "nbformat": 4,
 "nbformat_minor": 4
}
