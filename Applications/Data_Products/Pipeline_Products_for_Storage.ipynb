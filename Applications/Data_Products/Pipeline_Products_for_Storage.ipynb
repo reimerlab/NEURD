{
 "cells": [
  {
   "cell_type": "code",
   "execution_count": 1,
   "id": "aba121d5",
   "metadata": {},
   "outputs": [
    {
     "data": {
      "text/plain": [
       "'\\nPurpose: To practice using the pipeline products\\nobjects for holding output Neuron values\\n'"
      ]
     },
     "execution_count": 1,
     "metadata": {},
     "output_type": "execute_result"
    }
   ],
   "source": [
    "\"\"\"\n",
    "Purpose: To practice using the pipeline products\n",
    "objects for holding output Neuron values\n",
    "\"\"\""
   ]
  },
  {
   "cell_type": "code",
   "execution_count": 2,
   "id": "e64736cb",
   "metadata": {},
   "outputs": [],
   "source": [
    "%load_ext autoreload\n",
    "%autoreload 2"
   ]
  },
  {
   "cell_type": "code",
   "execution_count": 3,
   "id": "dd79f8cd",
   "metadata": {},
   "outputs": [
    {
     "name": "stdout",
     "output_type": "stream",
     "text": [
      "Jupyter environment detected. Enabling Open3D WebVisualizer.\n",
      "[Open3D INFO] WebRTC GUI backend enabled.\n",
      "[Open3D INFO] WebRTCWindowSystem: HTTP handshake server disabled.\n"
     ]
    },
    {
     "name": "stderr",
     "output_type": "stream",
     "text": [
      "WARNING:root:Need to pip install caveclient to repair mesh with pychunkedgraph\n",
      "WARNING:root:Need to pip install caveclient to use dataset_name parameters\n"
     ]
    }
   ],
   "source": [
    "import neurd"
   ]
  },
  {
   "cell_type": "code",
   "execution_count": 52,
   "id": "60f64dab",
   "metadata": {},
   "outputs": [],
   "source": [
    "from datasci_tools import pipeline as pp"
   ]
  },
  {
   "cell_type": "code",
   "execution_count": 70,
   "id": "68a4c1c7",
   "metadata": {
    "scrolled": true
   },
   "outputs": [
    {
     "name": "stdout",
     "output_type": "stream",
     "text": [
      "first_stage\n",
      "    hello:45\n",
      "    hi:10\n",
      "\n",
      "another\n",
      "    new_var:1000\n",
      "\n",
      "\n"
     ]
    }
   ],
   "source": [
    "st = pp.StageProducts({'hi':10,\"hello\":45})\n",
    "st2 = {\"new_var\":1000}\n",
    "obj = pp.PipelineProducts({\"first_stage\":st,\"another\":st2})\n",
    "print(obj)"
   ]
  },
  {
   "cell_type": "code",
   "execution_count": 79,
   "id": "c85a286a",
   "metadata": {},
   "outputs": [],
   "source": [
    "obj2 = pp.PipelineProducts(obj)"
   ]
  },
  {
   "cell_type": "code",
   "execution_count": 87,
   "id": "6f9518fa",
   "metadata": {},
   "outputs": [
    {
     "name": "stdout",
     "output_type": "stream",
     "text": [
      "{\n",
      "  'first_stage':\n",
      "  {\n",
      "    'hello':45,\n",
      "    'hi':10,\n",
      "  },\n",
      "  'another':\n",
      "  {\n",
      "    'new_var':1000,\n",
      "  },\n",
      "}\n",
      "\n"
     ]
    }
   ],
   "source": [
    "print(obj2)"
   ]
  },
  {
   "cell_type": "code",
   "execution_count": 97,
   "id": "74eb20cd",
   "metadata": {},
   "outputs": [],
   "source": [
    "obj2.set_attr(\n",
    "    \"new_value\",\n",
    "    70\n",
    ")"
   ]
  },
  {
   "cell_type": "code",
   "execution_count": 98,
   "id": "bbffb6e6",
   "metadata": {},
   "outputs": [
    {
     "name": "stdout",
     "output_type": "stream",
     "text": [
      "{\n",
      "  'first_stage':\n",
      "  {\n",
      "    'hello':45,\n",
      "    'hi':10,\n",
      "  },\n",
      "  'another':\n",
      "  {\n",
      "    'new_var':1000,\n",
      "  },\n",
      "  'NoStage':\n",
      "  {\n",
      "    'new_value':70,\n",
      "  },\n",
      "}\n",
      "\n"
     ]
    }
   ],
   "source": [
    "print(obj2)"
   ]
  },
  {
   "cell_type": "code",
   "execution_count": null,
   "id": "116e2ed2",
   "metadata": {},
   "outputs": [],
   "source": []
  }
 ],
 "metadata": {
  "kernelspec": {
   "display_name": "Python 3 (ipykernel)",
   "language": "python",
   "name": "python3"
  },
  "language_info": {
   "codemirror_mode": {
    "name": "ipython",
    "version": 3
   },
   "file_extension": ".py",
   "mimetype": "text/x-python",
   "name": "python",
   "nbconvert_exporter": "python",
   "pygments_lexer": "ipython3",
   "version": "3.8.0"
  }
 },
 "nbformat": 4,
 "nbformat_minor": 5
}
