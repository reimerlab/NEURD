{
 "cells": [
  {
   "cell_type": "code",
   "execution_count": 1,
   "id": "cc9dc07e",
   "metadata": {},
   "outputs": [],
   "source": [
    "%load_ext autoreload\n",
    "%autoreload 2"
   ]
  },
  {
   "cell_type": "code",
   "execution_count": 2,
   "id": "ca88dfc0",
   "metadata": {},
   "outputs": [
    {
     "name": "stdout",
     "output_type": "stream",
     "text": [
      "Jupyter environment detected. Enabling Open3D WebVisualizer.\n",
      "[Open3D INFO] WebRTC GUI backend enabled.\n",
      "[Open3D INFO] WebRTCWindowSystem: HTTP handshake server disabled.\n"
     ]
    },
    {
     "name": "stderr",
     "output_type": "stream",
     "text": [
      "WARNING:root:Need to pip install caveclient to repair mesh with pychunkedgraph\n",
      "WARNING:root:Need to pip install caveclient to use dataset_name parameters\n"
     ]
    }
   ],
   "source": [
    "import neurd"
   ]
  },
  {
   "cell_type": "code",
   "execution_count": 5,
   "id": "21e0b93f",
   "metadata": {},
   "outputs": [],
   "source": [
    "from neurd import neuron_pipeline_utils as npu"
   ]
  },
  {
   "cell_type": "code",
   "execution_count": null,
   "id": "6dd129f3",
   "metadata": {
    "scrolled": true
   },
   "outputs": [],
   "source": [
    "from datasci_tools import pipeline\n",
    "from copy import deepcopy"
   ]
  },
  {
   "cell_type": "code",
   "execution_count": null,
   "id": "6b37705a",
   "metadata": {},
   "outputs": [],
   "source": [
    "products = pipeline.PipelineProducts()\n",
    "products"
   ]
  },
  {
   "cell_type": "code",
   "execution_count": null,
   "id": "122b7054",
   "metadata": {},
   "outputs": [],
   "source": [
    "decimation_parameters = dict(\n",
    "    decimation_ratio =0.25,\n",
    ")\n",
    "\n",
    "products.set_stage_attrs(\n",
    "    stage = \"decimation\",\n",
    "    attr_dict = dict(\n",
    "        decimation_parameters = decimation_parameters,\n",
    "        new_mesh = trimesh.Trimesh()\n",
    "    ),\n",
    "    \n",
    ")\n",
    "\n",
    "print(products)"
   ]
  },
  {
   "cell_type": "code",
   "execution_count": null,
   "id": "4f314c26",
   "metadata": {},
   "outputs": [],
   "source": [
    "from datasci_tools import general_utils as gu\n",
    "ret_list = gu.nested_dict_obj_search(\n",
    "    products,\n",
    "    class_to_find = trimesh.Trimesh,\n",
    "    debug = False,\n",
    ")\n",
    "ret_list"
   ]
  },
  {
   "cell_type": "code",
   "execution_count": null,
   "id": "e517dd57",
   "metadata": {},
   "outputs": [],
   "source": [
    "from datasci_tools import mesh_utils as meshu\n",
    "meshu.clear_all_mesh_cache_in_nested_data_struct(\n",
    "    products,\n",
    "    verbose = False\n",
    ")"
   ]
  },
  {
   "cell_type": "code",
   "execution_count": null,
   "id": "ac594492",
   "metadata": {},
   "outputs": [],
   "source": [
    "def clear_all_mesh_cache_in_nested_data_struct(\n",
    "    data_struct,\n",
    "    verbose = False,\n",
    "    debug = False\n",
    "    ):\n",
    "    \n",
    "    return_objs = gu.nested_dict_obj_search(\n",
    "        data_struct,\n",
    "        class_to_find = trimesh.Trimesh,\n",
    "        debug = debug,\n",
    "    )\n",
    "    \n",
    "    if verbose:\n",
    "        print(f\"Clearing the cache for \\\n",
    "        following: {return_objs}\")\n",
    "    for k in return_objs:\n",
    "        tu.clear_mesh_cache(mesh)\n",
    "        "
   ]
  },
  {
   "cell_type": "markdown",
   "id": "c5230e64",
   "metadata": {},
   "source": [
    "# Practice Looping through and clearing"
   ]
  },
  {
   "cell_type": "code",
   "execution_count": null,
   "id": "23e306e5",
   "metadata": {},
   "outputs": [],
   "source": [
    "import trimesh\n",
    "import numpy as np"
   ]
  },
  {
   "cell_type": "code",
   "execution_count": null,
   "id": "59d15a0d",
   "metadata": {},
   "outputs": [],
   "source": [
    "mydict = {\n",
    "    \"hey\":5,\n",
    "    \"hi\":[1,4,trimesh.Trimesh()],\n",
    "    \"new\":trimesh.Trimesh(\n",
    "        vertices = np.array([[1,2,3],[4,5,6]])\n",
    "    ),\n",
    "    'hello':\"yes\"\n",
    "\n",
    "    \n",
    "}\n",
    "\n",
    "mydict"
   ]
  },
  {
   "cell_type": "code",
   "execution_count": null,
   "id": "4b3109ac",
   "metadata": {},
   "outputs": [],
   "source": [
    "from datasci_tools import general_utils as gu\n",
    "ret_list = gu.nested_dict_obj_search(\n",
    "    mydict,\n",
    "    class_to_find = trimesh.Trimesh,\n",
    ")\n",
    "ret_list"
   ]
  },
  {
   "cell_type": "code",
   "execution_count": null,
   "id": "3323257f",
   "metadata": {},
   "outputs": [],
   "source": [
    "for r in ret_list:\n",
    "    print(id(r))"
   ]
  },
  {
   "cell_type": "code",
   "execution_count": null,
   "id": "2e06cbd3",
   "metadata": {},
   "outputs": [],
   "source": [
    "ret_list = gu.nested_dict_obj_search(\n",
    "    products,\n",
    "    class_to_find = trimesh.Trimesh,\n",
    ")\n",
    "ret_list"
   ]
  },
  {
   "cell_type": "code",
   "execution_count": null,
   "id": "394e47a1",
   "metadata": {},
   "outputs": [],
   "source": [
    "x_dict = {\n",
    "    'hi':[5,6,10,trimesh.Trimesh()]\n",
    "}"
   ]
  },
  {
   "cell_type": "code",
   "execution_count": null,
   "id": "fe0b8a4a",
   "metadata": {},
   "outputs": [],
   "source": [
    "id(x_dict['hi'][3])"
   ]
  },
  {
   "cell_type": "code",
   "execution_count": null,
   "id": "a306c6b4",
   "metadata": {},
   "outputs": [],
   "source": [
    "y = []\n",
    "for k,v in x_dict.items():\n",
    "    for kk in v:\n",
    "        y.append(kk)\n",
    "id(y[3])"
   ]
  },
  {
   "cell_type": "code",
   "execution_count": null,
   "id": "9464e209",
   "metadata": {},
   "outputs": [],
   "source": [
    "y"
   ]
  },
  {
   "cell_type": "code",
   "execution_count": null,
   "id": "78f7cef1",
   "metadata": {},
   "outputs": [],
   "source": []
  }
 ],
 "metadata": {
  "kernelspec": {
   "display_name": "Python 3 (ipykernel)",
   "language": "python",
   "name": "python3"
  },
  "language_info": {
   "codemirror_mode": {
    "name": "ipython",
    "version": 3
   },
   "file_extension": ".py",
   "mimetype": "text/x-python",
   "name": "python",
   "nbconvert_exporter": "python",
   "pygments_lexer": "ipython3",
   "version": "3.8.0"
  }
 },
 "nbformat": 4,
 "nbformat_minor": 5
}
