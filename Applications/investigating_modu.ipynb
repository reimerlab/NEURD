{
 "cells": [
  {
   "cell_type": "code",
   "execution_count": 1,
   "metadata": {},
   "outputs": [],
   "source": [
    "# !pip3 install --use-deprecated=legacy-resolver -e ./neurd_packages/mesh_tools/\n",
    "# !pip3 install --use-deprecated=legacy-resolver -e ./neurd_packages/datasci_tools/"
   ]
  },
  {
   "cell_type": "code",
   "execution_count": 2,
   "metadata": {},
   "outputs": [],
   "source": [
    "%load_ext autoreload\n",
    "%autoreload 2"
   ]
  },
  {
   "cell_type": "code",
   "execution_count": 3,
   "metadata": {},
   "outputs": [],
   "source": [
    "from datasci_tools import module_utils as modu"
   ]
  },
  {
   "cell_type": "code",
   "execution_count": 4,
   "metadata": {},
   "outputs": [
    {
     "data": {
      "text/plain": [
       "\"\\n pip3 install attrs=='19.1.0' # still didn't work\\n \\n try:\\n    from meshparty import trimesh_io\\nexcept:\\n    pass\\n\""
      ]
     },
     "execution_count": 4,
     "metadata": {},
     "output_type": "execute_result"
    }
   ],
   "source": [
    "\"\"\"\n",
    " pip3 install attrs=='19.1.0' # still didn't work\n",
    " \n",
    " try:\n",
    "    from meshparty import trimesh_io\n",
    "except:\n",
    "    pass\n",
    "\"\"\""
   ]
  },
  {
   "cell_type": "code",
   "execution_count": 5,
   "metadata": {},
   "outputs": [
    {
     "name": "stdout",
     "output_type": "stream",
     "text": [
      "Jupyter environment detected. Enabling Open3D WebVisualizer.\n",
      "[Open3D INFO] WebRTC GUI backend enabled.\n",
      "[Open3D INFO] WebRTCWindowSystem: HTTP handshake server disabled.\n"
     ]
    },
    {
     "name": "stderr",
     "output_type": "stream",
     "text": [
      "/usr/local/lib/python3.8/dist-packages/umap/distances.py:1063: NumbaDeprecationWarning: The 'nopython' keyword argument was not supplied to the 'numba.jit' decorator. The implicit default value for this argument is currently False, but it will be changed to True in Numba 0.59.0. See https://numba.readthedocs.io/en/stable/reference/deprecation.html#deprecation-of-object-mode-fall-back-behaviour-when-using-jit for details.\n",
      "  @numba.jit()\n",
      "/usr/local/lib/python3.8/dist-packages/umap/distances.py:1071: NumbaDeprecationWarning: The 'nopython' keyword argument was not supplied to the 'numba.jit' decorator. The implicit default value for this argument is currently False, but it will be changed to True in Numba 0.59.0. See https://numba.readthedocs.io/en/stable/reference/deprecation.html#deprecation-of-object-mode-fall-back-behaviour-when-using-jit for details.\n",
      "  @numba.jit()\n",
      "/usr/local/lib/python3.8/dist-packages/umap/distances.py:1086: NumbaDeprecationWarning: The 'nopython' keyword argument was not supplied to the 'numba.jit' decorator. The implicit default value for this argument is currently False, but it will be changed to True in Numba 0.59.0. See https://numba.readthedocs.io/en/stable/reference/deprecation.html#deprecation-of-object-mode-fall-back-behaviour-when-using-jit for details.\n",
      "  @numba.jit()\n",
      "/usr/local/lib/python3.8/dist-packages/umap/umap_.py:660: NumbaDeprecationWarning: The 'nopython' keyword argument was not supplied to the 'numba.jit' decorator. The implicit default value for this argument is currently False, but it will be changed to True in Numba 0.59.0. See https://numba.readthedocs.io/en/stable/reference/deprecation.html#deprecation-of-object-mode-fall-back-behaviour-when-using-jit for details.\n",
      "  @numba.jit()\n"
     ]
    }
   ],
   "source": [
    "from neurd import apical_utils as apu\n",
    "from neurd import preprocessing_vp2 as pre"
   ]
  },
  {
   "cell_type": "markdown",
   "metadata": {},
   "source": [
    "# Look at how to find referencing lines"
   ]
  },
  {
   "cell_type": "code",
   "execution_count": null,
   "metadata": {},
   "outputs": [],
   "source": [
    "from datasci_tools import module_utils as modu\n",
    "from datasci_tools import file_utils as filu\n",
    "verbose = True\n",
    "\n",
    "filepath = \"/neurd_packages/NEURD/neurd/apical_utils.py\"\n",
    "filepath = f\"/neurd_packages/datasci_tools/datasci_tools/pandas_utils.py\"\n",
    "filepath = \"/neurd_packages/graph_tools/graph_tools/graph_statistics.py\"\n",
    "data_doc = filu.read_file(filepath)\n",
    "finds = modu.find_import_modules_in_file(\n",
    "        data = data_doc,\n",
    "        unique = True,\n",
    "        verbose = verbose,\n",
    "        beginning_of_line = True,\n",
    ")"
   ]
  },
  {
   "cell_type": "code",
   "execution_count": null,
   "metadata": {},
   "outputs": [],
   "source": []
  },
  {
   "cell_type": "code",
   "execution_count": null,
   "metadata": {
    "scrolled": true
   },
   "outputs": [],
   "source": [
    "from datasci_tools import regex_utils as reu\n",
    "import regex as re\n",
    "import numpy as np\n",
    "verbose = True\n",
    "\n",
    "\n",
    "from datasci_tools import module_utils as modu\n",
    "from datasci_tools import file_utils as filu\n",
    "verbose = True\n",
    "\n",
    "filepath = \"/neurd_packages/NEURD/neurd/apical_utils.py\"\n",
    "filepath = f\"/neurd_packages/datasci_tools/datasci_tools/pandas_utils.py\"\n",
    "filepath = \"/neurd_packages/graph_tools/graph_tools/graph_statistics.py\"\n",
    "\n",
    "\n",
    "    \n",
    "#5. Replace those lines in the main string\n",
    "if delete_import_lines:\n",
    "    for k in abbr_matches:\n",
    "        data_doc = data_doc.replace(k,\"\")\n",
    "    \n",
    "    return data_doc,"
   ]
  },
  {
   "cell_type": "code",
   "execution_count": null,
   "metadata": {},
   "outputs": [],
   "source": [
    "from datasci_tools import module_utils as modu\n",
    "modu.abbreviation_linked_imports(\n",
    "    data_doc,\n",
    "    modules=[],\n",
    "    verbose = False,\n",
    ")"
   ]
  },
  {
   "cell_type": "code",
   "execution_count": null,
   "metadata": {},
   "outputs": [],
   "source": [
    "doc_pattern = f\"{reu.start_of_line_pattern}{reu.word_pattern_number}[ ]*=[ ]*{abbr_or}.{reu.word_pattern_number}(?:!\\()[ ]*\" "
   ]
  },
  {
   "cell_type": "markdown",
   "metadata": {},
   "source": [
    "# Find leading and trailing white space"
   ]
  },
  {
   "cell_type": "code",
   "execution_count": null,
   "metadata": {},
   "outputs": [],
   "source": [
    "#filepath = \"/neurd_packages/NEURD/neurd/apical_utils.py\"\n",
    "filepath = f\"/neurd_packages/datasci_tools/datasci_tools/pandas_utils.py\"\n",
    "filepath = f\"/neurd_packages/NEURD/neurd/neuron_searching.py\"\n",
    "filepath = f\"/neurd_packages/NEURD/neurd/neuron_simplification.py\"\n",
    "filepath = f\"/neurd_packages/NEURD/neurd/apical_utils.py\"\n",
    "filepath = f\"/neurd_packages/NEURD/neurd/microns_volume_utils.py\"\n",
    "filepath = f\"/neurd_packages/NEURD/neurd/neuron_geometry_utils.py\"\n",
    "\n",
    "top_imports = [\n",
    "        \"from datasci_tools import numpy_dep as np\",\n",
    "        \"from datasci_tools import module_utils as modu\",\n",
    "        \"from datasci_tools import general_utils as gu\",\n",
    "        \"from datasci_tools import data_struct_utils as dsu\",\n",
    "        \"from . import microns_volume_utils as mvu\",\n",
    "        \"from . import h01_volume_utils as hvu\",\n",
    "        \"from . import volume_utils as vu\",\n",
    "        \"from .h01_volume_utils import data_interface as hvu\",\n",
    "        \"from .microns_volume_utils import data_interface as mvu\"\n",
    "]\n",
    "\n",
    "modu.clean_module_syntax(\n",
    "    filepath = filepath,\n",
    "    overwrite= False,\n",
    "    top_imports = top_imports,\n",
    "    replace_abbreviation_linked_imports = True,\n",
    "    verbose = False,\n",
    ")"
   ]
  },
  {
   "cell_type": "code",
   "execution_count": null,
   "metadata": {},
   "outputs": [],
   "source": [
    "from datasci_tools import file_utils as filu\n",
    "new_filepath = \"/neurd_packages/NEURD/neurd/neuron_searching_replaced.py\"\n",
    "new_filepath = \"/neurd_packages/NEURD/neurd/neuron_simplification_replaced.py\"\n",
    "curr_file = filu.read_file(new_filepath)\n",
    "curr_file[-1000:]"
   ]
  },
  {
   "cell_type": "code",
   "execution_count": null,
   "metadata": {},
   "outputs": [],
   "source": []
  },
  {
   "cell_type": "code",
   "execution_count": null,
   "metadata": {},
   "outputs": [],
   "source": []
  },
  {
   "cell_type": "code",
   "execution_count": null,
   "metadata": {},
   "outputs": [],
   "source": [
    "import regex as re\n",
    "pattern = re.compile(\"axon_width_like_requirement = clu.axon_width_like_requirement\")\n",
    "list(pattern.finditer(data_doc_no_mod))"
   ]
  },
  {
   "cell_type": "code",
   "execution_count": null,
   "metadata": {},
   "outputs": [],
   "source": [
    "from datasci_tools import string_utils as stru\n",
    "_ = stru.strip_whitespace(\n",
    "    data_doc_no_mod,\n",
    "    verbose = True\n",
    ")"
   ]
  },
  {
   "cell_type": "code",
   "execution_count": null,
   "metadata": {},
   "outputs": [],
   "source": []
  },
  {
   "cell_type": "code",
   "execution_count": null,
   "metadata": {},
   "outputs": [],
   "source": [
    "\"\"\"\n",
    "modules to put at the top:\n",
    "\n",
    "from datasci_tools import general_utils as gu\n",
    "from datasci_tools import numpy_dep as np\n",
    "from datasci_tools import data_struct_utils as dsu\n",
    "# --- data interfaces\n",
    "from . import volume_utils\n",
    "from . import microns_volume_utils as mvu\n",
    "from . import h01_volume_utils as hvu\n",
    "\"\"\""
   ]
  }
 ],
 "metadata": {
  "kernelspec": {
   "display_name": "Python 3 (ipykernel)",
   "language": "python",
   "name": "python3"
  },
  "language_info": {
   "codemirror_mode": {
    "name": "ipython",
    "version": 3
   },
   "file_extension": ".py",
   "mimetype": "text/x-python",
   "name": "python",
   "nbconvert_exporter": "python",
   "pygments_lexer": "ipython3",
   "version": "3.8.0"
  }
 },
 "nbformat": 4,
 "nbformat_minor": 4
}
