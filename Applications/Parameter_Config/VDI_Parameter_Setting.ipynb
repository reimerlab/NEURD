{
 "cells": [
  {
   "cell_type": "code",
   "execution_count": 2,
   "id": "071ba359",
   "metadata": {},
   "outputs": [
    {
     "name": "stdout",
     "output_type": "stream",
     "text": [
      "The autoreload extension is already loaded. To reload it, use:\n",
      "  %reload_ext autoreload\n"
     ]
    }
   ],
   "source": [
    "%load_ext autoreload\n",
    "%autoreload 2"
   ]
  },
  {
   "cell_type": "code",
   "execution_count": 3,
   "id": "f31c3acb",
   "metadata": {},
   "outputs": [
    {
     "name": "stdout",
     "output_type": "stream",
     "text": [
      "Jupyter environment detected. Enabling Open3D WebVisualizer.\n",
      "[Open3D INFO] WebRTC GUI backend enabled.\n",
      "[Open3D INFO] WebRTCWindowSystem: HTTP handshake server disabled.\n"
     ]
    },
    {
     "name": "stderr",
     "output_type": "stream",
     "text": [
      "WARNING:root:Need to pip install caveclient to repair mesh with pychunkedgraph\n",
      "WARNING:root:Need to pip install caveclient to use dataset_name parameters\n"
     ]
    }
   ],
   "source": [
    "import neurd"
   ]
  },
  {
   "cell_type": "code",
   "execution_count": 8,
   "id": "59efccb9",
   "metadata": {},
   "outputs": [],
   "source": [
    "from neurd import vdi_default as vdi\n",
    "from neurd import vdi_microns as vdi\n",
    "from neurd import vdi_h01 as vdi"
   ]
  },
  {
   "cell_type": "code",
   "execution_count": null,
   "id": "6ac52f7e",
   "metadata": {},
   "outputs": [],
   "source": [
    "from neurd import parameter_utils as paru"
   ]
  },
  {
   "cell_type": "code",
   "execution_count": null,
   "id": "3c2ef980",
   "metadata": {},
   "outputs": [],
   "source": [
    "from neurd import apical_utils as apu\n",
    "apu.max_upward_angle_shaft_like_global"
   ]
  },
  {
   "cell_type": "markdown",
   "id": "3ac72e5d",
   "metadata": {},
   "source": [
    "# Creating a config object"
   ]
  },
  {
   "cell_type": "code",
   "execution_count": null,
   "id": "a99e0b1c",
   "metadata": {
    "scrolled": true
   },
   "outputs": [],
   "source": [
    "from neurd import parameter_utils as paru\n",
    "par_obj = paru.parameters_from_filepath()\n",
    "\n",
    "class DataInteface:\n",
    "    def __init__(self,parameters_obj=None):\n",
    "        self.parameters_obj = parameters_obj\n",
    "        \n",
    "    def rotation_function_axon_alignment(self):\n",
    "        print(rotation_function_axon_alignment)\n",
    "        \n",
    "    def unrotation_function_axon_alignment(self):\n",
    "        print(unrotation_function_axon_alignment)\n",
    "        \n",
    "    def hdju(self):\n",
    "        pass\n",
    "        \n",
    "di = DataInteface(par_obj)\n",
    "dir(di)\n",
    "\n"
   ]
  },
  {
   "cell_type": "code",
   "execution_count": null,
   "id": "308d1a97",
   "metadata": {},
   "outputs": [],
   "source": [
    "# params_to_set = paru.parameter_list_from_module(apu)\n",
    "# params_to_set"
   ]
  },
  {
   "cell_type": "code",
   "execution_count": null,
   "id": "7cd9b71a",
   "metadata": {
    "scrolled": true
   },
   "outputs": [],
   "source": [
    "paru.set_parameters_for_directory_modules_from_obj(\n",
    "    obj = di,\n",
    "    directory = \"/neurd_packages/NEURD/neurd/\",\n",
    "    verbose_loop = True,\n",
    "    from_package = \"neurd\",\n",
    "    # -- for setting the parameters ---\n",
    "    parameters_obj_name = \"parameters_obj\",\n",
    "    verbose_param = False,\n",
    "    error_on_no_attr = True,\n",
    ")"
   ]
  },
  {
   "cell_type": "markdown",
   "id": "c14ea9ac",
   "metadata": {},
   "source": [
    "# Exporting the parameters for all of the modes"
   ]
  },
  {
   "cell_type": "markdown",
   "id": "7eedb3d2",
   "metadata": {},
   "source": [
    "# a) -- Exporting Parameters: Default"
   ]
  },
  {
   "cell_type": "code",
   "execution_count": null,
   "id": "402d9981",
   "metadata": {},
   "outputs": [],
   "source": [
    "mode = \"default\"\n",
    "\n",
    "paru.export_package_param_dict_to_file(\n",
    "    mode=mode,\n",
    "    export_folder = paru.config_directory(),   \n",
    ")"
   ]
  },
  {
   "cell_type": "code",
   "execution_count": null,
   "id": "e6e8a2c8",
   "metadata": {},
   "outputs": [],
   "source": [
    "from neurd import parameter_utils as paru\n",
    "mydict = paru.parameters_from_filepath()\n",
    "mydict"
   ]
  },
  {
   "cell_type": "code",
   "execution_count": null,
   "id": "ae2295d6",
   "metadata": {},
   "outputs": [],
   "source": [
    "dynamic_attributes = [\n",
    "    \"align_neuron_obj\",\n",
    "    \"unalign_neuron_obj\",\n",
    "    \"vdi\",\n",
    "    \"voxel_to_nm_scaling\",\n",
    "    \"exc_filters_auto_proof\",\n",
    "    \"inh_filters_auto_proof\",\n",
    "    \"default_low_degree_graph_filters\",\n",
    "] "
   ]
  },
  {
   "cell_type": "markdown",
   "id": "1186e272",
   "metadata": {},
   "source": [
    "# a2) Creating the DataInteface for Default"
   ]
  },
  {
   "cell_type": "code",
   "execution_count": null,
   "id": "dc416e17",
   "metadata": {},
   "outputs": [],
   "source": [
    "import neurd.vdi_default"
   ]
  },
  {
   "cell_type": "markdown",
   "id": "f0fa21ff",
   "metadata": {},
   "source": [
    "# b) -- Exporting Parameters: MICrONS"
   ]
  },
  {
   "cell_type": "code",
   "execution_count": null,
   "id": "537ec1c6",
   "metadata": {},
   "outputs": [],
   "source": [
    "from neurd import parameter_utils as paru\n",
    "from pathlib import Path"
   ]
  },
  {
   "cell_type": "code",
   "execution_count": null,
   "id": "bbe42c15",
   "metadata": {},
   "outputs": [],
   "source": [
    "mode = \"microns\"\n",
    "\n",
    "paru.export_package_param_dict_to_file(\n",
    "    mode=mode,\n",
    "    export_folder = paru.config_directory(),   \n",
    ")"
   ]
  },
  {
   "cell_type": "code",
   "execution_count": null,
   "id": "768b4b19",
   "metadata": {},
   "outputs": [],
   "source": [
    "from datasci_tools import general_utils as gu\n",
    "gu.merge_dicts()"
   ]
  },
  {
   "cell_type": "markdown",
   "id": "d3f710a9",
   "metadata": {},
   "source": [
    "# b2) -- Creating the DataInteface for Microns"
   ]
  },
  {
   "cell_type": "code",
   "execution_count": null,
   "id": "fe91d4ca",
   "metadata": {
    "scrolled": true
   },
   "outputs": [],
   "source": [
    "from neurd.vdi_microns import volume_data_interface as vdi\n",
    "vdi.set_parameters_for_directory_modules(verbose = False)"
   ]
  },
  {
   "cell_type": "code",
   "execution_count": null,
   "id": "beb634f5",
   "metadata": {},
   "outputs": [],
   "source": [
    "from neurd import graph_filters as gf\n",
    "gf.axon_width_threshold_thin_ax_double_b_global"
   ]
  },
  {
   "cell_type": "markdown",
   "id": "651c214c",
   "metadata": {},
   "source": [
    "# c) -- Exporting Parameters for H01"
   ]
  },
  {
   "cell_type": "code",
   "execution_count": null,
   "id": "66bd428e",
   "metadata": {},
   "outputs": [],
   "source": [
    "mode = \"h01\"\n",
    "\n",
    "paru.export_package_param_dict_to_file(\n",
    "    mode=mode,\n",
    "    export_folder = paru.config_directory(),   \n",
    ")"
   ]
  },
  {
   "cell_type": "code",
   "execution_count": null,
   "id": "66c35b3a",
   "metadata": {},
   "outputs": [],
   "source": [
    "dynamic_attributes = [\n",
    "    \"align_neuron_obj\",\n",
    "    \"unalign_neuron_obj\",\n",
    "    \"vdi\",\n",
    "    \"voxel_to_nm_scaling\",\n",
    "    \"exc_filters_auto_proof\",\n",
    "    \"inh_filters_auto_proof\",\n",
    "    \"default_low_degree_graph_filters\",\n",
    "] "
   ]
  },
  {
   "cell_type": "markdown",
   "id": "aa418ff9",
   "metadata": {},
   "source": [
    "# c2) Creating the DataInterface for H01"
   ]
  },
  {
   "cell_type": "code",
   "execution_count": null,
   "id": "ba154014",
   "metadata": {},
   "outputs": [],
   "source": [
    "from neurd.vdi_h01 import volume_data_interface as vdi\n",
    "vdi.set_parameters_for_directory_modules(verbose = False)"
   ]
  },
  {
   "cell_type": "code",
   "execution_count": null,
   "id": "3b535ff9",
   "metadata": {},
   "outputs": [],
   "source": [
    "from neurd import graph_filters as gf\n",
    "gf.axon_width_threshold_thin_ax_double_b_global"
   ]
  },
  {
   "cell_type": "code",
   "execution_count": null,
   "id": "71aca64e",
   "metadata": {},
   "outputs": [],
   "source": []
  },
  {
   "cell_type": "code",
   "execution_count": null,
   "id": "19189903",
   "metadata": {},
   "outputs": [],
   "source": []
  },
  {
   "cell_type": "markdown",
   "id": "e651f324",
   "metadata": {},
   "source": [
    "# Example of how to update parameter and Package parameter objects"
   ]
  },
  {
   "cell_type": "code",
   "execution_count": null,
   "id": "76b3d6a1",
   "metadata": {},
   "outputs": [],
   "source": [
    "obj = paru.Parameters({'hi':5})\n",
    "obj2 = paru.Parameters({'outer':{'meow':10}})\n",
    "\n",
    "obj.update(obj2)\n",
    "print(obj)"
   ]
  },
  {
   "cell_type": "code",
   "execution_count": null,
   "id": "356c50f5",
   "metadata": {},
   "outputs": [],
   "source": [
    "bo = paru.PackageParameters(\n",
    "    data = {\"myModule\":{\n",
    "        'hello':10\n",
    "    }}\n",
    ")\n",
    "\n",
    "bo2 = paru.PackageParameters(\n",
    "    data = {\"myModule\":{\n",
    "        'hello2':20\n",
    "    }}\n",
    ")\n",
    "bo.update(bo2)\n",
    "print(bo)\n",
    "    \n",
    "    "
   ]
  },
  {
   "cell_type": "code",
   "execution_count": null,
   "id": "376733a7",
   "metadata": {},
   "outputs": [],
   "source": [
    "bo.module_attr_map(\n",
    "    attr_list = [\"hell2\"],\n",
    "    module_name = \"myModule\",\n",
    "    plus_unused=True\n",
    ")"
   ]
  },
  {
   "cell_type": "markdown",
   "id": "9c5e96c3",
   "metadata": {},
   "source": [
    "# How to Set Module attributes with a dictionary"
   ]
  },
  {
   "cell_type": "code",
   "execution_count": null,
   "id": "fbd8ab38",
   "metadata": {},
   "outputs": [],
   "source": [
    "paru.set_parameters_for_directory_modules_from_obj(\n",
    "    obj = di,\n",
    "    directory = \"/neurd_packages/NEURD/neurd/\",\n",
    "    verbose_loop = True,\n",
    "    from_package = \"neurd\",\n",
    "    # -- for setting the parameters ---\n",
    "    parameters_obj_name = \"parameters_obj\",\n",
    "    verbose_param = False,\n",
    "    error_on_no_attr = False\n",
    ")"
   ]
  },
  {
   "cell_type": "code",
   "execution_count": null,
   "id": "acd860c0",
   "metadata": {},
   "outputs": [],
   "source": []
  }
 ],
 "metadata": {
  "kernelspec": {
   "display_name": "Python 3 (ipykernel)",
   "language": "python",
   "name": "python3"
  },
  "language_info": {
   "codemirror_mode": {
    "name": "ipython",
    "version": 3
   },
   "file_extension": ".py",
   "mimetype": "text/x-python",
   "name": "python",
   "nbconvert_exporter": "python",
   "pygments_lexer": "ipython3",
   "version": "3.8.0"
  }
 },
 "nbformat": 4,
 "nbformat_minor": 5
}
