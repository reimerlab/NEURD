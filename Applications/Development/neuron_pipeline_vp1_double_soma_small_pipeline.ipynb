{
 "cells": [
  {
   "cell_type": "code",
   "execution_count": 1,
   "id": "077350ae",
   "metadata": {},
   "outputs": [],
   "source": [
    "%load_ext autoreload\n",
    "%autoreload 2"
   ]
  },
  {
   "cell_type": "code",
   "execution_count": 2,
   "id": "c0765d62",
   "metadata": {
    "scrolled": true
   },
   "outputs": [
    {
     "name": "stdout",
     "output_type": "stream",
     "text": [
      "Jupyter environment detected. Enabling Open3D WebVisualizer.\n",
      "[Open3D INFO] WebRTC GUI backend enabled.\n",
      "[Open3D INFO] WebRTCWindowSystem: HTTP handshake server disabled.\n"
     ]
    },
    {
     "name": "stderr",
     "output_type": "stream",
     "text": [
      "WARNING:root:Need to pip install caveclient to repair mesh with pychunkedgraph\n",
      "WARNING:root:Need to pip install caveclient to use dataset_name parameters\n"
     ]
    }
   ],
   "source": [
    "import neurd"
   ]
  },
  {
   "cell_type": "code",
   "execution_count": 3,
   "id": "f59f25d5",
   "metadata": {},
   "outputs": [
    {
     "name": "stderr",
     "output_type": "stream",
     "text": [
      "/usr/local/lib/python3.8/dist-packages/umap/distances.py:1063: NumbaDeprecationWarning: The 'nopython' keyword argument was not supplied to the 'numba.jit' decorator. The implicit default value for this argument is currently False, but it will be changed to True in Numba 0.59.0. See https://numba.readthedocs.io/en/stable/reference/deprecation.html#deprecation-of-object-mode-fall-back-behaviour-when-using-jit for details.\n",
      "  @numba.jit()\n",
      "/usr/local/lib/python3.8/dist-packages/umap/distances.py:1071: NumbaDeprecationWarning: The 'nopython' keyword argument was not supplied to the 'numba.jit' decorator. The implicit default value for this argument is currently False, but it will be changed to True in Numba 0.59.0. See https://numba.readthedocs.io/en/stable/reference/deprecation.html#deprecation-of-object-mode-fall-back-behaviour-when-using-jit for details.\n",
      "  @numba.jit()\n",
      "/usr/local/lib/python3.8/dist-packages/umap/distances.py:1086: NumbaDeprecationWarning: The 'nopython' keyword argument was not supplied to the 'numba.jit' decorator. The implicit default value for this argument is currently False, but it will be changed to True in Numba 0.59.0. See https://numba.readthedocs.io/en/stable/reference/deprecation.html#deprecation-of-object-mode-fall-back-behaviour-when-using-jit for details.\n",
      "  @numba.jit()\n",
      "/usr/local/lib/python3.8/dist-packages/umap/umap_.py:660: NumbaDeprecationWarning: The 'nopython' keyword argument was not supplied to the 'numba.jit' decorator. The implicit default value for this argument is currently False, but it will be changed to True in Numba 0.59.0. See https://numba.readthedocs.io/en/stable/reference/deprecation.html#deprecation-of-object-mode-fall-back-behaviour-when-using-jit for details.\n",
      "  @numba.jit()\n"
     ]
    }
   ],
   "source": [
    "from mesh_tools import trimesh_utils as tu\n",
    "from datasci_tools import ipyvolume_utils as ipvu\n",
    "from neurd import neuron_visualizations as nviz"
   ]
  },
  {
   "cell_type": "code",
   "execution_count": 4,
   "id": "863967b7",
   "metadata": {},
   "outputs": [],
   "source": [
    "neurd.set_volume_params(\n",
    "    volume = \"microns\"\n",
    ")"
   ]
  },
  {
   "cell_type": "markdown",
   "id": "6f9b75c9",
   "metadata": {},
   "source": [
    "# Data Prep: Loading mesh"
   ]
  },
  {
   "cell_type": "code",
   "execution_count": 5,
   "id": "a1df55b6",
   "metadata": {},
   "outputs": [],
   "source": [
    "from mesh_tools import trimesh_utils as tu"
   ]
  },
  {
   "cell_type": "code",
   "execution_count": 6,
   "id": "de88421b",
   "metadata": {},
   "outputs": [],
   "source": [
    "segment_id = 864691135510518224"
   ]
  },
  {
   "cell_type": "code",
   "execution_count": 7,
   "id": "3c95c75b",
   "metadata": {},
   "outputs": [
    {
     "data": {
      "text/plain": [
       "<trimesh.Trimesh(vertices.shape=(154713, 3), faces.shape=(323535, 3))>"
      ]
     },
     "execution_count": 7,
     "metadata": {},
     "output_type": "execute_result"
    }
   ],
   "source": [
    "mesh_filepath = f\"./{segment_id}.off\"\n",
    "mesh_filepath = '864691135510518224_small_double_soma.off'\n",
    "mesh = tu.load_mesh_no_processing(mesh_filepath)\n",
    "mesh"
   ]
  },
  {
   "cell_type": "markdown",
   "id": "479cac44",
   "metadata": {},
   "source": [
    "# Step 1: Decimation"
   ]
  },
  {
   "cell_type": "code",
   "execution_count": 8,
   "id": "95e97145",
   "metadata": {},
   "outputs": [],
   "source": [
    "#/mnt/lab/users/celiib/neurd_packages/neuron_mesh_tools/Auto_Proofreading/Minnie65_Pipeline/Morphology/m65_morphology_2_Decimation_v1.ipynb"
   ]
  },
  {
   "cell_type": "code",
   "execution_count": 9,
   "id": "ac1747ad",
   "metadata": {},
   "outputs": [],
   "source": [
    "decimation_kwargs = dict(\n",
    "    decimation_ratio =0.25,\n",
    ")"
   ]
  },
  {
   "cell_type": "code",
   "execution_count": 10,
   "id": "432f9e64",
   "metadata": {},
   "outputs": [
    {
     "name": "stdout",
     "output_type": "stream",
     "text": [
      "xvfb-run -n 4991 -s \"-screen 0 800x600x24\" meshlabserver $@  -i /neurd_packages/NEURD/Applications/autoproof_neuron_pipeline/temp/neuron_28704.off -o /neurd_packages/NEURD/Applications/autoproof_neuron_pipeline/temp/neuron_28704_decimated.off -s /neurd_packages/NEURD/Applications/autoproof_neuron_pipeline/temp/decimation_meshlab_25242729.mls\n"
     ]
    }
   ],
   "source": [
    "mesh_dec = tu.decimate(\n",
    "    mesh,\n",
    "    **decimation_kwargs\n",
    ")"
   ]
  },
  {
   "cell_type": "code",
   "execution_count": 11,
   "id": "d7000945",
   "metadata": {},
   "outputs": [
    {
     "name": "stdout",
     "output_type": "stream",
     "text": [
      "mesh = <trimesh.Trimesh(vertices.shape=(154713, 3), faces.shape=(323535, 3))>\n",
      "mesh_dec = <trimesh.Trimesh(vertices.shape=(33683, 3), faces.shape=(80883, 3))>\n"
     ]
    }
   ],
   "source": [
    "print(f\"mesh = {mesh}\")\n",
    "print(f\"mesh_dec = {mesh_dec}\")"
   ]
  },
  {
   "cell_type": "code",
   "execution_count": 12,
   "id": "bb728b90",
   "metadata": {},
   "outputs": [
    {
     "name": "stderr",
     "output_type": "stream",
     "text": [
      "/usr/local/lib/python3.8/dist-packages/traittypes/traittypes.py:97: UserWarning: Given trait value dtype \"float64\" does not match required type \"float64\". A coerced copy has been created.\n",
      "  warnings.warn(\n"
     ]
    },
    {
     "data": {
      "application/vnd.jupyter.widget-view+json": {
       "model_id": "5308bf38458e42b59907ecb0e33ce0ff",
       "version_major": 2,
       "version_minor": 0
      },
      "text/plain": [
       "Container(figure=Figure(box_center=[0.5, 0.5, 0.5], box_size=[1.0, 1.0, 1.0], camera=PerspectiveCamera(fov=45.…"
      ]
     },
     "metadata": {},
     "output_type": "display_data"
    }
   ],
   "source": [
    "ipvu.plot_objects(\n",
    "    meshes = [mesh,mesh_dec],\n",
    "    meshes_colors=[\"green\",\"red\"],\n",
    ")"
   ]
  },
  {
   "cell_type": "markdown",
   "id": "c8691617",
   "metadata": {},
   "source": [
    "# Step 2: Some Identification"
   ]
  },
  {
   "cell_type": "code",
   "execution_count": 13,
   "id": "172a601f",
   "metadata": {},
   "outputs": [],
   "source": [
    "#/mnt/lab/users/celiib/neurd_packages/neuron_mesh_tools/Auto_Proofreading/Minnie65_Pipeline/Morphology/m65_morphology_3_MeshFragment_full_v1.ipynb"
   ]
  },
  {
   "cell_type": "code",
   "execution_count": 14,
   "id": "f740b4ab",
   "metadata": {},
   "outputs": [
    {
     "data": {
      "text/plain": [
       "{'nucleus_min_global': 700, 'nucleus_max_global': None}"
      ]
     },
     "execution_count": 14,
     "metadata": {},
     "output_type": "execute_result"
    }
   ],
   "source": [
    "from neurd import soma_extraction_utils as sm\n",
    "sm.output_global_parameters_nuclei()"
   ]
  },
  {
   "cell_type": "code",
   "execution_count": 15,
   "id": "3dd177b3",
   "metadata": {},
   "outputs": [],
   "source": [
    "mesh_dec = mesh"
   ]
  },
  {
   "cell_type": "code",
   "execution_count": 16,
   "id": "4209363e",
   "metadata": {},
   "outputs": [
    {
     "name": "stdout",
     "output_type": "stream",
     "text": [
      "Current Arguments Using (adjusted for decimation):\n",
      " large_mesh_threshold= 5000.0 \n",
      "large_mesh_threshold_inner = 3250.0 \n",
      "soma_size_threshold = 562.5 \n",
      "soma_size_threshold_max = 75000.0\n",
      "outer_decimation_ratio = 0.25\n",
      "inner_decimation_ratio = 0.25\n",
      "max_mesh_sized_filtered_away = 22500.0\n",
      "xvfb-run -n 9636 -s \"-screen 0 800x600x24\" meshlabserver $@  -i /neurd_packages/NEURD/Applications/autoproof_neuron_pipeline/temp/neuron_1172.off -o /neurd_packages/NEURD/Applications/autoproof_neuron_pipeline/temp/neuron_1172_remove_interior.off -s /neurd_packages/NEURD/Applications/autoproof_neuron_pipeline/temp/remove_interior_37819.mls\n",
      "removed temporary input file: /neurd_packages/NEURD/Applications/autoproof_neuron_pipeline/temp/neuron_1172.off\n",
      "removed temporary output file: /neurd_packages/NEURD/Applications/autoproof_neuron_pipeline/temp/neuron_1172_remove_interior.off\n",
      "/neurd_packages/NEURD/Applications/autoproof_neuron_pipeline/temp/remove_interior_37819.mls is being deleted....\n",
      "There were 16 total interior meshes\n",
      "Pieces satisfying glia requirements (volume) (x >= 2500000000000): 0\n",
      "Pieces satisfying nuclie requirements: n_faces (700 <= x) and volume (x < 2500000000000) : 16\n",
      "inside remove_mesh_interior and using precomputed inside_pieces\n",
      "Removing the following inside neurons: [<trimesh.Trimesh(vertices.shape=(6494, 3), faces.shape=(15575, 3))>, <trimesh.Trimesh(vertices.shape=(3252, 3), faces.shape=(5804, 3))>, <trimesh.Trimesh(vertices.shape=(2064, 3), faces.shape=(4789, 3))>, <trimesh.Trimesh(vertices.shape=(2022, 3), faces.shape=(4628, 3))>, <trimesh.Trimesh(vertices.shape=(1922, 3), faces.shape=(4396, 3))>, <trimesh.Trimesh(vertices.shape=(1089, 3), faces.shape=(2556, 3))>, <trimesh.Trimesh(vertices.shape=(864, 3), faces.shape=(1989, 3))>, <trimesh.Trimesh(vertices.shape=(723, 3), faces.shape=(1611, 3))>, <trimesh.Trimesh(vertices.shape=(693, 3), faces.shape=(1561, 3))>, <trimesh.Trimesh(vertices.shape=(612, 3), faces.shape=(1378, 3))>, <trimesh.Trimesh(vertices.shape=(456, 3), faces.shape=(742, 3))>, <trimesh.Trimesh(vertices.shape=(344, 3), faces.shape=(727, 3))>]\n",
      "\n",
      "\n",
      "Original Mesh size: 323535, Final mesh size: 277773\n",
      "Total time = 18.9737229347229\n",
      "xvfb-run -n 4308 -s \"-screen 0 800x600x24\" meshlabserver $@  -i /neurd_packages/NEURD/Applications/autoproof_neuron_pipeline/864691135510518224/neuron_864691135510518224.off -o /neurd_packages/NEURD/Applications/autoproof_neuron_pipeline/864691135510518224/neuron_864691135510518224_decimated.off -s /neurd_packages/NEURD/Applications/autoproof_neuron_pipeline/864691135510518224/decimation_meshlab_25267546.mls\n",
      "Total found significant pieces before Poisson = [<trimesh.Trimesh(vertices.shape=(29969, 3), faces.shape=(56262, 3))>]\n",
      "----- working on large mesh #0: <trimesh.Trimesh(vertices.shape=(29969, 3), faces.shape=(56262, 3))>\n",
      "remove_inside_pieces requested \n",
      "xvfb-run -n 6676 -s \"-screen 0 800x600x24\" meshlabserver $@  -i /neurd_packages/NEURD/Applications/autoproof_neuron_pipeline/temp/neuron_70128.off -o /neurd_packages/NEURD/Applications/autoproof_neuron_pipeline/temp/neuron_70128_remove_interior.off -s /neurd_packages/NEURD/Applications/autoproof_neuron_pipeline/temp/remove_interior_379780.mls\n",
      "removed temporary input file: /neurd_packages/NEURD/Applications/autoproof_neuron_pipeline/temp/neuron_70128.off\n",
      "removed temporary output file: /neurd_packages/NEURD/Applications/autoproof_neuron_pipeline/temp/neuron_70128_remove_interior.off\n",
      "/neurd_packages/NEURD/Applications/autoproof_neuron_pipeline/temp/remove_interior_379780.mls is being deleted....\n",
      "No significant (1000) interior meshes present\n",
      "largest is 163\n",
      "pre_largest_mesh_path = /neurd_packages/NEURD/Applications/autoproof_neuron_pipeline/864691135510518224/neuron_864691135510518224_decimated_largest_piece.off\n",
      "xvfb-run -n 8248 -s \"-screen 0 800x600x24\" meshlabserver $@  -i /neurd_packages/NEURD/Applications/autoproof_neuron_pipeline/864691135510518224/neuron_864691135510518224_decimated_largest_piece.off -o /neurd_packages/NEURD/Applications/autoproof_neuron_pipeline/864691135510518224/neuron_864691135510518224_decimated_largest_piece_poisson.off -s /neurd_packages/NEURD/Applications/autoproof_neuron_pipeline/864691135510518224/poisson_359812.mls\n",
      "Total found significant pieces AFTER Poisson = [<trimesh.Trimesh(vertices.shape=(14489, 3), faces.shape=(28990, 3))>, <trimesh.Trimesh(vertices.shape=(10700, 3), faces.shape=(21396, 3))>]\n",
      "----- working on mesh after poisson #0: <trimesh.Trimesh(vertices.shape=(14489, 3), faces.shape=(28990, 3))>\n",
      "xvfb-run -n 1178 -s \"-screen 0 800x600x24\" meshlabserver $@  -i /neurd_packages/NEURD/Applications/autoproof_neuron_pipeline/864691135510518224/neuron_864691135510518224_decimated_largest_piece_poisson_largest_inner.off -o /neurd_packages/NEURD/Applications/autoproof_neuron_pipeline/864691135510518224/neuron_864691135510518224_decimated_largest_piece_poisson_largest_inner_decimated.off -s /neurd_packages/NEURD/Applications/autoproof_neuron_pipeline/864691135510518224/decimation_meshlab_25304531.mls\n",
      "\n",
      "-------Splits after inner decimation len = 1--------\n",
      "\n",
      "done exporting decimated mesh: neuron_864691135510518224_decimated_largest_piece_poisson_largest_inner.off\n",
      "\n",
      "    --- On segmentation loop 0 --\n",
      "largest_mesh_path_inner_decimated_clean = <trimesh.Trimesh(vertices.shape=(3614, 3), faces.shape=(7240, 3))>\n",
      "\n",
      "largest_mesh_path_inner_decimated_clean = <trimesh.Trimesh(vertices.shape=(3614, 3), faces.shape=(7240, 3))>\n",
      "soma_size_threshold = 562.5\n",
      "soma_size_threshold_max = 75000.0\n",
      "soma_width_threshold = 0.32\n",
      "\n",
      "Number of segments: 9\n",
      "\n"
     ]
    },
    {
     "data": {
      "application/vnd.jupyter.widget-view+json": {
       "model_id": "6239f3b4a8804e5b9b905d5ec52737d4",
       "version_major": 2,
       "version_minor": 0
      },
      "text/plain": [
       "  0%|          | 0/9 [00:00<?, ?it/s]"
      ]
     },
     "metadata": {},
     "output_type": "display_data"
    },
    {
     "name": "stdout",
     "output_type": "stream",
     "text": [
      "      ------ Found 1 viable somas: [0.769893]\n",
      "Using Poisson Surface Reconstruction for watertightness in soma_volume_ratio\n",
      "xvfb-run -n 7342 -s \"-screen 0 800x600x24\" meshlabserver $@  -i /neurd_packages/NEURD/Applications/autoproof_neuron_pipeline/Poisson_temp/neuron_37771.off -o /neurd_packages/NEURD/Applications/autoproof_neuron_pipeline/Poisson_temp/neuron_37771_poisson.off -s /neurd_packages/NEURD/Applications/autoproof_neuron_pipeline/Poisson_temp/poisson_76976.mls\n",
      "removed temporary input file: /neurd_packages/NEURD/Applications/autoproof_neuron_pipeline/Poisson_temp/neuron_37771.off\n",
      "removed temporary output file: /neurd_packages/NEURD/Applications/autoproof_neuron_pipeline/Poisson_temp/neuron_37771_poisson.off\n",
      "mesh.is_watertight = True\n",
      "/neurd_packages/NEURD/Applications/autoproof_neuron_pipeline/Poisson_temp/poisson_76976.mls is being deleted....\n",
      "Inside sphere validater: ratio_val = 2.7266923461590085\n",
      "----- working on mesh after poisson #1: <trimesh.Trimesh(vertices.shape=(10700, 3), faces.shape=(21396, 3))>\n",
      "xvfb-run -n 1710 -s \"-screen 0 800x600x24\" meshlabserver $@  -i /neurd_packages/NEURD/Applications/autoproof_neuron_pipeline/864691135510518224/neuron_864691135510518224_decimated_largest_piece_poisson_largest_inner.off -o /neurd_packages/NEURD/Applications/autoproof_neuron_pipeline/864691135510518224/neuron_864691135510518224_decimated_largest_piece_poisson_largest_inner_decimated.off -s /neurd_packages/NEURD/Applications/autoproof_neuron_pipeline/864691135510518224/decimation_meshlab_25304531.mls\n",
      "\n",
      "-------Splits after inner decimation len = 1--------\n",
      "\n",
      "done exporting decimated mesh: neuron_864691135510518224_decimated_largest_piece_poisson_largest_inner.off\n",
      "\n",
      "    --- On segmentation loop 0 --\n",
      "largest_mesh_path_inner_decimated_clean = <trimesh.Trimesh(vertices.shape=(2671, 3), faces.shape=(5338, 3))>\n",
      "\n",
      "largest_mesh_path_inner_decimated_clean = <trimesh.Trimesh(vertices.shape=(2671, 3), faces.shape=(5338, 3))>\n",
      "soma_size_threshold = 562.5\n",
      "soma_size_threshold_max = 75000.0\n",
      "soma_width_threshold = 0.32\n",
      "\n",
      "Number of segments: 3\n",
      "\n"
     ]
    },
    {
     "data": {
      "application/vnd.jupyter.widget-view+json": {
       "model_id": "e5077baae9af4866ad67615538d0458d",
       "version_major": 2,
       "version_minor": 0
      },
      "text/plain": [
       "  0%|          | 0/3 [00:00<?, ?it/s]"
      ]
     },
     "metadata": {},
     "output_type": "display_data"
    },
    {
     "name": "stdout",
     "output_type": "stream",
     "text": [
      "      ------ Found 2 viable somas: [0.781901, 0.3351845]\n",
      "Using Poisson Surface Reconstruction for watertightness in soma_volume_ratio\n",
      "xvfb-run -n 9244 -s \"-screen 0 800x600x24\" meshlabserver $@  -i /neurd_packages/NEURD/Applications/autoproof_neuron_pipeline/Poisson_temp/neuron_302298.off -o /neurd_packages/NEURD/Applications/autoproof_neuron_pipeline/Poisson_temp/neuron_302298_poisson.off -s /neurd_packages/NEURD/Applications/autoproof_neuron_pipeline/Poisson_temp/poisson_155804.mls\n",
      "removed temporary input file: /neurd_packages/NEURD/Applications/autoproof_neuron_pipeline/Poisson_temp/neuron_302298.off\n",
      "removed temporary output file: /neurd_packages/NEURD/Applications/autoproof_neuron_pipeline/Poisson_temp/neuron_302298_poisson.off\n",
      "mesh.is_watertight = True\n",
      "/neurd_packages/NEURD/Applications/autoproof_neuron_pipeline/Poisson_temp/poisson_155804.mls is being deleted....\n",
      "Inside sphere validater: ratio_val = 2.130721459144365\n",
      "Using Poisson Surface Reconstruction for watertightness in soma_volume_ratio\n",
      "xvfb-run -n 6356 -s \"-screen 0 800x600x24\" meshlabserver $@  -i /neurd_packages/NEURD/Applications/autoproof_neuron_pipeline/Poisson_temp/neuron_814587.off -o /neurd_packages/NEURD/Applications/autoproof_neuron_pipeline/Poisson_temp/neuron_814587_poisson.off -s /neurd_packages/NEURD/Applications/autoproof_neuron_pipeline/Poisson_temp/poisson_771127.mls\n",
      "removed temporary input file: /neurd_packages/NEURD/Applications/autoproof_neuron_pipeline/Poisson_temp/neuron_814587.off\n",
      "removed temporary output file: /neurd_packages/NEURD/Applications/autoproof_neuron_pipeline/Poisson_temp/neuron_814587_poisson.off\n",
      "mesh.is_watertight = True\n",
      "/neurd_packages/NEURD/Applications/autoproof_neuron_pipeline/Poisson_temp/poisson_771127.mls is being deleted....\n",
      "Inside sphere validater: ratio_val = 2.4907819152454254\n",
      "\n",
      "\n",
      "\n",
      " Total time for run = 75.7431628704071\n",
      "Before Filtering the number of somas found = 3\n",
      "\n",
      "---Performing Soma Mesh Backtracking to original mesh for poisson soma 0\n",
      "backtrack_soma_size_threshold = 8000\n",
      "xvfb-run -n 9273 -s \"-screen 0 800x600x24\" meshlabserver $@  -i /neurd_packages/NEURD/Applications/autoproof_neuron_pipeline/temp/neuron_62700.off -o /neurd_packages/NEURD/Applications/autoproof_neuron_pipeline/temp/neuron_62700_fill_holes.off -s /neurd_packages/NEURD/Applications/autoproof_neuron_pipeline/temp/fill_holes_397860.mls\n",
      "\n",
      "---- meshlab output -----\n",
      "QStandardPaths: XDG_RUNTIME_DIR not set, defaulting to '/tmp/runtime-root'\n",
      "Current Plugins Dir is: /meshlab/src/distrib/plugins \n",
      "Error While parsing the XML filter plugin descriptors: We are trying to load a xml file that does not correspond to any dll or javascript code; please delete all the spurious xml files\n",
      "Error While parsing the XML filter plugin descriptors: We are trying to load a xml file that does not correspond to any dll or javascript code; please delete all the spurious xml files\n",
      "Opening a file with extention off\n",
      "FilterScript\n",
      "Reading filter with name Remove Duplicate Vertices\n",
      "Reading filter with name Remove Faces from Non Manifold Edges\n",
      "Reading filter with name Close Holes\n",
      "    Reading Param with name MaxHoleSize : RichInt\n",
      "    Reading Param with name Selected : RichBool\n",
      "    Reading Param with name NewFaceSelected : RichBool\n",
      "    Reading Param with name SelfIntersection : RichBool\n",
      "Loading Plugins:\n",
      "Total 105 filtering actions\n",
      "Total 1 io plugins\n",
      "Mesh /neurd_packages/NEURD/Applications/autoproof_neuron_pipeline/temp/neuron_62700.off loaded has 21848 vn 42079 fn\n",
      "output mesh  /neurd_packages/NEURD/Applications/autoproof_neuron_pipeline/temp/neuron_62700_fill_holes.off\n",
      "Apply FilterScript: '/neurd_packages/NEURD/Applications/autoproof_neuron_pipeline/temp/fill_holes_397860.mls'\n",
      "Starting Script of 3 actionsfilter: Remove Duplicate Vertices\n",
      "no additional memory available!!! memory required: 1029300\n",
      "LOG: 2 Removed 0 duplicated vertices\n",
      "Removed 0 duplicated vertices\n",
      "filter: Remove Faces from Non Manifold Edges\n",
      "no additional memory available!!! memory required: 1029300\n",
      "LOG: 2 Successfully removed 4223 non-manifold faces\n",
      "Removed 0 duplicated vertices\n",
      "Successfully removed 4223 non-manifold faces\n",
      "filter: Close Holes\n",
      "no additional memory available!!! memory required: 978624\n",
      "meshlabserver: ../../../../vcglib/vcg/complex/algorithms/hole.h:259: bool vcg::tri::TrivialEar<MESH>::Close(vcg::tri::TrivialEar<MESH>::PosType&, vcg::tri::TrivialEar<MESH>::PosType&, vcg::tri::TrivialEar<MESH>::FaceType*) [with MESH = CMeshO; vcg::tri::TrivialEar<MESH>::PosType = vcg::face::Pos<CFaceO>; typename MeshType::FaceType = CFaceO; vcg::tri::TrivialEar<MESH>::FaceType = CFaceO]: Assertion `e1.v->IsUserBit(NonManifoldBit())' failed.\n",
      "Aborted (core dumped)\n",
      "\n",
      "\n",
      " returncode ====== 134\n",
      "\n",
      " ------ Done with meshlab output------\n",
      "/neurd_packages/NEURD/Applications/autoproof_neuron_pipeline/temp/fill_holes_397860.mls is being deleted....\n",
      "The hole closing did not work so continuing without\n",
      "xvfb-run -n 7489 -s \"-screen 0 800x600x24\" meshlabserver $@  -i /neurd_packages/NEURD/Applications/autoproof_neuron_pipeline/temp/neuron_1252.off -o /neurd_packages/NEURD/Applications/autoproof_neuron_pipeline/temp/neuron_1252_remove_interior.off -s /neurd_packages/NEURD/Applications/autoproof_neuron_pipeline/temp/remove_interior_593747.mls\n",
      "removed temporary input file: /neurd_packages/NEURD/Applications/autoproof_neuron_pipeline/temp/neuron_1252.off\n",
      "removed temporary output file: /neurd_packages/NEURD/Applications/autoproof_neuron_pipeline/temp/neuron_1252_remove_interior.off\n",
      "/neurd_packages/NEURD/Applications/autoproof_neuron_pipeline/temp/remove_interior_593747.mls is being deleted....\n",
      "Removing the following inside neurons: [<trimesh.Trimesh(vertices.shape=(363, 3), faces.shape=(876, 3))>, <trimesh.Trimesh(vertices.shape=(301, 3), faces.shape=(613, 3))>, <trimesh.Trimesh(vertices.shape=(253, 3), faces.shape=(632, 3))>, <trimesh.Trimesh(vertices.shape=(199, 3), faces.shape=(446, 3))>, <trimesh.Trimesh(vertices.shape=(176, 3), faces.shape=(418, 3))>]\n",
      "split_meshes_after_backtrack = [<trimesh.Trimesh(vertices.shape=(11386, 3), faces.shape=(22560, 3))>]\n",
      "soma_size_threshold = 8000\n",
      "After backtrack the found 1 possible somas: [<trimesh.Trimesh(vertices.shape=(11386, 3), faces.shape=(22560, 3))>] \n",
      "\n",
      "--- working on backtrack soma 0: <trimesh.Trimesh(vertices.shape=(11386, 3), faces.shape=(22560, 3))>\n",
      "poisson_backtrack_distance_threshold = None\n",
      "Using Poisson Surface Reconstruction for watertightness in soma_volume_ratio\n",
      "xvfb-run -n 9762 -s \"-screen 0 800x600x24\" meshlabserver $@  -i /neurd_packages/NEURD/Applications/autoproof_neuron_pipeline/Poisson_temp/neuron_745666.off -o /neurd_packages/NEURD/Applications/autoproof_neuron_pipeline/Poisson_temp/neuron_745666_poisson.off -s /neurd_packages/NEURD/Applications/autoproof_neuron_pipeline/Poisson_temp/poisson_618578.mls\n",
      "removed temporary input file: /neurd_packages/NEURD/Applications/autoproof_neuron_pipeline/Poisson_temp/neuron_745666.off\n",
      "removed temporary output file: /neurd_packages/NEURD/Applications/autoproof_neuron_pipeline/Poisson_temp/neuron_745666_poisson.off\n",
      "mesh.is_watertight = True\n",
      "/neurd_packages/NEURD/Applications/autoproof_neuron_pipeline/Poisson_temp/poisson_618578.mls is being deleted....\n",
      "Inside sphere validater: ratio_val = 4.115475404999649\n",
      "About to add the following inside nuclei pieces after soma backtrack: [<trimesh.Trimesh(vertices.shape=(6494, 3), faces.shape=(15575, 3))>, <trimesh.Trimesh(vertices.shape=(3256, 3), faces.shape=(5810, 3))>, <trimesh.Trimesh(vertices.shape=(2064, 3), faces.shape=(4789, 3))>, <trimesh.Trimesh(vertices.shape=(2022, 3), faces.shape=(4628, 3))>, <trimesh.Trimesh(vertices.shape=(1922, 3), faces.shape=(4396, 3))>, <trimesh.Trimesh(vertices.shape=(1089, 3), faces.shape=(2556, 3))>, <trimesh.Trimesh(vertices.shape=(864, 3), faces.shape=(1989, 3))>, <trimesh.Trimesh(vertices.shape=(723, 3), faces.shape=(1611, 3))>, <trimesh.Trimesh(vertices.shape=(693, 3), faces.shape=(1561, 3))>, <trimesh.Trimesh(vertices.shape=(612, 3), faces.shape=(1378, 3))>, <trimesh.Trimesh(vertices.shape=(456, 3), faces.shape=(742, 3))>, <trimesh.Trimesh(vertices.shape=(344, 3), faces.shape=(727, 3))>]\n",
      "\n",
      "---Performing Soma Mesh Backtracking to original mesh for poisson soma 1\n",
      "backtrack_soma_size_threshold = 8000\n"
     ]
    },
    {
     "name": "stdout",
     "output_type": "stream",
     "text": [
      "xvfb-run -n 5456 -s \"-screen 0 800x600x24\" meshlabserver $@  -i /neurd_packages/NEURD/Applications/autoproof_neuron_pipeline/temp/neuron_19647.off -o /neurd_packages/NEURD/Applications/autoproof_neuron_pipeline/temp/neuron_19647_fill_holes.off -s /neurd_packages/NEURD/Applications/autoproof_neuron_pipeline/temp/fill_holes_870336.mls\n",
      "\n",
      "---- meshlab output -----\n",
      "QStandardPaths: XDG_RUNTIME_DIR not set, defaulting to '/tmp/runtime-root'\n",
      "Current Plugins Dir is: /meshlab/src/distrib/plugins \n",
      "Error While parsing the XML filter plugin descriptors: We are trying to load a xml file that does not correspond to any dll or javascript code; please delete all the spurious xml files\n",
      "Error While parsing the XML filter plugin descriptors: We are trying to load a xml file that does not correspond to any dll or javascript code; please delete all the spurious xml files\n",
      "Opening a file with extention off\n",
      "FilterScript\n",
      "Reading filter with name Remove Duplicate Vertices\n",
      "Reading filter with name Remove Faces from Non Manifold Edges\n",
      "Reading filter with name Close Holes\n",
      "    Reading Param with name MaxHoleSize : RichInt\n",
      "    Reading Param with name Selected : RichBool\n",
      "    Reading Param with name NewFaceSelected : RichBool\n",
      "    Reading Param with name SelfIntersection : RichBool\n",
      "Loading Plugins:\n",
      "Total 105 filtering actions\n",
      "Total 1 io plugins\n",
      "Mesh /neurd_packages/NEURD/Applications/autoproof_neuron_pipeline/temp/neuron_19647.off loaded has 11899 vn 22569 fn\n",
      "output mesh  /neurd_packages/NEURD/Applications/autoproof_neuron_pipeline/temp/neuron_19647_fill_holes.off\n",
      "Apply FilterScript: '/neurd_packages/NEURD/Applications/autoproof_neuron_pipeline/temp/fill_holes_870336.mls'\n",
      "Starting Script of 3 actionsfilter: Remove Duplicate Vertices\n",
      "no additional memory available!!! memory required: 556404\n",
      "LOG: 2 Removed 0 duplicated vertices\n",
      "Removed 0 duplicated vertices\n",
      "filter: Remove Faces from Non Manifold Edges\n",
      "no additional memory available!!! memory required: 556404\n",
      "LOG: 2 Successfully removed 1995 non-manifold faces\n",
      "Removed 0 duplicated vertices\n",
      "Successfully removed 1995 non-manifold faces\n",
      "filter: Close Holes\n",
      "no additional memory available!!! memory required: 532464\n",
      "meshlabserver: ../../../../vcglib/vcg/complex/algorithms/hole.h:259: bool vcg::tri::TrivialEar<MESH>::Close(vcg::tri::TrivialEar<MESH>::PosType&, vcg::tri::TrivialEar<MESH>::PosType&, vcg::tri::TrivialEar<MESH>::FaceType*) [with MESH = CMeshO; vcg::tri::TrivialEar<MESH>::PosType = vcg::face::Pos<CFaceO>; typename MeshType::FaceType = CFaceO; vcg::tri::TrivialEar<MESH>::FaceType = CFaceO]: Assertion `e1.v->IsUserBit(NonManifoldBit())' failed.\n",
      "Aborted (core dumped)\n",
      "\n",
      "\n",
      " returncode ====== 134\n",
      "\n",
      " ------ Done with meshlab output------\n",
      "/neurd_packages/NEURD/Applications/autoproof_neuron_pipeline/temp/fill_holes_870336.mls is being deleted....\n",
      "The hole closing did not work so continuing without\n",
      "xvfb-run -n 9339 -s \"-screen 0 800x600x24\" meshlabserver $@  -i /neurd_packages/NEURD/Applications/autoproof_neuron_pipeline/temp/neuron_89810.off -o /neurd_packages/NEURD/Applications/autoproof_neuron_pipeline/temp/neuron_89810_remove_interior.off -s /neurd_packages/NEURD/Applications/autoproof_neuron_pipeline/temp/remove_interior_790038.mls\n",
      "removed temporary input file: /neurd_packages/NEURD/Applications/autoproof_neuron_pipeline/temp/neuron_89810.off\n",
      "removed temporary output file: /neurd_packages/NEURD/Applications/autoproof_neuron_pipeline/temp/neuron_89810_remove_interior.off\n",
      "/neurd_packages/NEURD/Applications/autoproof_neuron_pipeline/temp/remove_interior_790038.mls is being deleted....\n",
      "Removing the following inside neurons: [<trimesh.Trimesh(vertices.shape=(328, 3), faces.shape=(686, 3))>, <trimesh.Trimesh(vertices.shape=(145, 3), faces.shape=(317, 3))>]\n",
      "split_meshes_after_backtrack = [<trimesh.Trimesh(vertices.shape=(4698, 3), faces.shape=(7809, 3))>, <trimesh.Trimesh(vertices.shape=(2761, 3), faces.shape=(4711, 3))>]\n",
      "soma_size_threshold = 8000\n",
      "After backtrack the found 0 possible somas: [] \n",
      "\n",
      "---Performing Soma Mesh Backtracking to original mesh for poisson soma 2\n",
      "backtrack_soma_size_threshold = 8000\n",
      "xvfb-run -n 7533 -s \"-screen 0 800x600x24\" meshlabserver $@  -i /neurd_packages/NEURD/Applications/autoproof_neuron_pipeline/temp/neuron_63769.off -o /neurd_packages/NEURD/Applications/autoproof_neuron_pipeline/temp/neuron_63769_fill_holes.off -s /neurd_packages/NEURD/Applications/autoproof_neuron_pipeline/temp/fill_holes_23428.mls\n",
      "\n",
      "---- meshlab output -----\n",
      "QStandardPaths: XDG_RUNTIME_DIR not set, defaulting to '/tmp/runtime-root'\n",
      "Current Plugins Dir is: /meshlab/src/distrib/plugins \n",
      "Error While parsing the XML filter plugin descriptors: We are trying to load a xml file that does not correspond to any dll or javascript code; please delete all the spurious xml files\n",
      "Error While parsing the XML filter plugin descriptors: We are trying to load a xml file that does not correspond to any dll or javascript code; please delete all the spurious xml files\n",
      "Opening a file with extention off\n",
      "FilterScript\n",
      "Reading filter with name Remove Duplicate Vertices\n",
      "Reading filter with name Remove Faces from Non Manifold Edges\n",
      "Reading filter with name Close Holes\n",
      "    Reading Param with name MaxHoleSize : RichInt\n",
      "    Reading Param with name Selected : RichBool\n",
      "    Reading Param with name NewFaceSelected : RichBool\n",
      "    Reading Param with name SelfIntersection : RichBool\n",
      "Loading Plugins:\n",
      "Total 105 filtering actions\n",
      "Total 1 io plugins\n",
      "Mesh /neurd_packages/NEURD/Applications/autoproof_neuron_pipeline/temp/neuron_63769.off loaded has 11083 vn 21026 fn\n",
      "output mesh  /neurd_packages/NEURD/Applications/autoproof_neuron_pipeline/temp/neuron_63769_fill_holes.off\n",
      "Apply FilterScript: '/neurd_packages/NEURD/Applications/autoproof_neuron_pipeline/temp/fill_holes_23428.mls'\n",
      "Starting Script of 3 actionsfilter: Remove Duplicate Vertices\n",
      "no additional memory available!!! memory required: 518304\n",
      "LOG: 2 Removed 0 duplicated vertices\n",
      "Removed 0 duplicated vertices\n",
      "filter: Remove Faces from Non Manifold Edges\n",
      "no additional memory available!!! memory required: 518304\n",
      "LOG: 2 Successfully removed 1600 non-manifold faces\n",
      "Removed 0 duplicated vertices\n",
      "Successfully removed 1600 non-manifold faces\n",
      "filter: Close Holes\n",
      "no additional memory available!!! memory required: 499104\n",
      "meshlabserver: ../../../../vcglib/vcg/complex/algorithms/hole.h:259: bool vcg::tri::TrivialEar<MESH>::Close(vcg::tri::TrivialEar<MESH>::PosType&, vcg::tri::TrivialEar<MESH>::PosType&, vcg::tri::TrivialEar<MESH>::FaceType*) [with MESH = CMeshO; vcg::tri::TrivialEar<MESH>::PosType = vcg::face::Pos<CFaceO>; typename MeshType::FaceType = CFaceO; vcg::tri::TrivialEar<MESH>::FaceType = CFaceO]: Assertion `e1.v->IsUserBit(NonManifoldBit())' failed.\n",
      "Aborted (core dumped)\n",
      "\n",
      "\n",
      " returncode ====== 134\n",
      "\n",
      " ------ Done with meshlab output------\n",
      "/neurd_packages/NEURD/Applications/autoproof_neuron_pipeline/temp/fill_holes_23428.mls is being deleted....\n",
      "The hole closing did not work so continuing without\n",
      "xvfb-run -n 9576 -s \"-screen 0 800x600x24\" meshlabserver $@  -i /neurd_packages/NEURD/Applications/autoproof_neuron_pipeline/temp/neuron_1787.off -o /neurd_packages/NEURD/Applications/autoproof_neuron_pipeline/temp/neuron_1787_remove_interior.off -s /neurd_packages/NEURD/Applications/autoproof_neuron_pipeline/temp/remove_interior_729508.mls\n",
      "removed temporary input file: /neurd_packages/NEURD/Applications/autoproof_neuron_pipeline/temp/neuron_1787.off\n",
      "removed temporary output file: /neurd_packages/NEURD/Applications/autoproof_neuron_pipeline/temp/neuron_1787_remove_interior.off\n",
      "/neurd_packages/NEURD/Applications/autoproof_neuron_pipeline/temp/remove_interior_729508.mls is being deleted....\n",
      "Removing the following inside neurons: [<trimesh.Trimesh(vertices.shape=(145, 3), faces.shape=(317, 3))>]\n",
      "split_meshes_after_backtrack = [<trimesh.Trimesh(vertices.shape=(5708, 3), faces.shape=(10517, 3))>]\n",
      "soma_size_threshold = 8000\n",
      "After backtrack the found 1 possible somas: [<trimesh.Trimesh(vertices.shape=(5708, 3), faces.shape=(10517, 3))>] \n",
      "\n",
      "--- working on backtrack soma 0: <trimesh.Trimesh(vertices.shape=(5708, 3), faces.shape=(10517, 3))>\n",
      "poisson_backtrack_distance_threshold = None\n",
      "Using Poisson Surface Reconstruction for watertightness in soma_volume_ratio\n",
      "xvfb-run -n 4336 -s \"-screen 0 800x600x24\" meshlabserver $@  -i /neurd_packages/NEURD/Applications/autoproof_neuron_pipeline/Poisson_temp/neuron_377487.off -o /neurd_packages/NEURD/Applications/autoproof_neuron_pipeline/Poisson_temp/neuron_377487_poisson.off -s /neurd_packages/NEURD/Applications/autoproof_neuron_pipeline/Poisson_temp/poisson_999734.mls\n"
     ]
    },
    {
     "name": "stdout",
     "output_type": "stream",
     "text": [
      "removed temporary input file: /neurd_packages/NEURD/Applications/autoproof_neuron_pipeline/Poisson_temp/neuron_377487.off\n",
      "removed temporary output file: /neurd_packages/NEURD/Applications/autoproof_neuron_pipeline/Poisson_temp/neuron_377487_poisson.off\n",
      "mesh.is_watertight = False\n",
      "/neurd_packages/NEURD/Applications/autoproof_neuron_pipeline/Poisson_temp/poisson_999734.mls is being deleted....\n",
      "Inside sphere validater: ratio_val = 2.779561458917224\n",
      "About to add the following inside nuclei pieces after soma backtrack: [<trimesh.Trimesh(vertices.shape=(6494, 3), faces.shape=(15575, 3))>, <trimesh.Trimesh(vertices.shape=(3256, 3), faces.shape=(5810, 3))>, <trimesh.Trimesh(vertices.shape=(2064, 3), faces.shape=(4789, 3))>, <trimesh.Trimesh(vertices.shape=(2022, 3), faces.shape=(4628, 3))>, <trimesh.Trimesh(vertices.shape=(1922, 3), faces.shape=(4396, 3))>, <trimesh.Trimesh(vertices.shape=(1089, 3), faces.shape=(2556, 3))>, <trimesh.Trimesh(vertices.shape=(864, 3), faces.shape=(1989, 3))>, <trimesh.Trimesh(vertices.shape=(723, 3), faces.shape=(1611, 3))>, <trimesh.Trimesh(vertices.shape=(693, 3), faces.shape=(1561, 3))>, <trimesh.Trimesh(vertices.shape=(612, 3), faces.shape=(1378, 3))>, <trimesh.Trimesh(vertices.shape=(456, 3), faces.shape=(742, 3))>, <trimesh.Trimesh(vertices.shape=(344, 3), faces.shape=(727, 3))>, <trimesh.Trimesh(vertices.shape=(363, 3), faces.shape=(876, 3))>, <trimesh.Trimesh(vertices.shape=(301, 3), faces.shape=(613, 3))>, <trimesh.Trimesh(vertices.shape=(253, 3), faces.shape=(632, 3))>, <trimesh.Trimesh(vertices.shape=(199, 3), faces.shape=(446, 3))>, <trimesh.Trimesh(vertices.shape=(176, 3), faces.shape=(418, 3))>]\n",
      "Skipping the segmentatio filter at end\n",
      "removing mesh interior before segmentation\n",
      "xvfb-run -n 8713 -s \"-screen 0 800x600x24\" meshlabserver $@  -i /neurd_packages/NEURD/Applications/autoproof_neuron_pipeline/temp/neuron_99025.off -o /neurd_packages/NEURD/Applications/autoproof_neuron_pipeline/temp/neuron_99025_fill_holes.off -s /neurd_packages/NEURD/Applications/autoproof_neuron_pipeline/temp/fill_holes_878680.mls\n",
      "removed temporary input file: /neurd_packages/NEURD/Applications/autoproof_neuron_pipeline/temp/neuron_99025.off\n",
      "removed temporary output file: /neurd_packages/NEURD/Applications/autoproof_neuron_pipeline/temp/neuron_99025_fill_holes.off\n",
      "/neurd_packages/NEURD/Applications/autoproof_neuron_pipeline/temp/fill_holes_878680.mls is being deleted....\n",
      "xvfb-run -n 9587 -s \"-screen 0 800x600x24\" meshlabserver $@  -i /neurd_packages/NEURD/Applications/autoproof_neuron_pipeline/temp/neuron_56145.off -o /neurd_packages/NEURD/Applications/autoproof_neuron_pipeline/temp/neuron_56145_remove_interior.off -s /neurd_packages/NEURD/Applications/autoproof_neuron_pipeline/temp/remove_interior_768716.mls\n",
      "removed temporary input file: /neurd_packages/NEURD/Applications/autoproof_neuron_pipeline/temp/neuron_56145.off\n",
      "removed temporary output file: /neurd_packages/NEURD/Applications/autoproof_neuron_pipeline/temp/neuron_56145_remove_interior.off\n",
      "/neurd_packages/NEURD/Applications/autoproof_neuron_pipeline/temp/remove_interior_768716.mls is being deleted....\n",
      "No significant (1000) interior meshes present\n",
      "largest is 289\n",
      "Doing the soma segmentation filter at end\n",
      "\n",
      "Number of segments: 9\n",
      "\n"
     ]
    },
    {
     "data": {
      "application/vnd.jupyter.widget-view+json": {
       "model_id": "ca85662464a54a0c9485797a03ba779d",
       "version_major": 2,
       "version_minor": 0
      },
      "text/plain": [
       "  0%|          | 0/9 [00:00<?, ?it/s]"
      ]
     },
     "metadata": {},
     "output_type": "display_data"
    },
    {
     "name": "stdout",
     "output_type": "stream",
     "text": [
      "Largest hole before segmentation = 84198.44608552229, after = 79686.03659527568,\n",
      "\n",
      "ratio = 0.9464074493053798, difference = -4512.409490246602\n",
      "Skipping the segmentatio filter at end\n",
      "removing mesh interior before segmentation\n",
      "xvfb-run -n 7053 -s \"-screen 0 800x600x24\" meshlabserver $@  -i /neurd_packages/NEURD/Applications/autoproof_neuron_pipeline/temp/neuron_16391.off -o /neurd_packages/NEURD/Applications/autoproof_neuron_pipeline/temp/neuron_16391_fill_holes.off -s /neurd_packages/NEURD/Applications/autoproof_neuron_pipeline/temp/fill_holes_166119.mls\n",
      "removed temporary input file: /neurd_packages/NEURD/Applications/autoproof_neuron_pipeline/temp/neuron_16391.off\n",
      "removed temporary output file: /neurd_packages/NEURD/Applications/autoproof_neuron_pipeline/temp/neuron_16391_fill_holes.off\n",
      "/neurd_packages/NEURD/Applications/autoproof_neuron_pipeline/temp/fill_holes_166119.mls is being deleted....\n",
      "xvfb-run -n 1783 -s \"-screen 0 800x600x24\" meshlabserver $@  -i /neurd_packages/NEURD/Applications/autoproof_neuron_pipeline/temp/neuron_61234.off -o /neurd_packages/NEURD/Applications/autoproof_neuron_pipeline/temp/neuron_61234_remove_interior.off -s /neurd_packages/NEURD/Applications/autoproof_neuron_pipeline/temp/remove_interior_549997.mls\n",
      "removed temporary input file: /neurd_packages/NEURD/Applications/autoproof_neuron_pipeline/temp/neuron_61234.off\n",
      "removed temporary output file: /neurd_packages/NEURD/Applications/autoproof_neuron_pipeline/temp/neuron_61234_remove_interior.off\n",
      "/neurd_packages/NEURD/Applications/autoproof_neuron_pipeline/temp/remove_interior_549997.mls is being deleted....\n",
      "No significant (1000) interior meshes present\n",
      "largest is 48\n",
      "Doing the soma segmentation filter at end\n",
      "\n",
      "Number of segments: 2\n",
      "\n"
     ]
    },
    {
     "data": {
      "application/vnd.jupyter.widget-view+json": {
       "model_id": "4788e4f2f87942a8b867d743a6157b8c",
       "version_major": 2,
       "version_minor": 0
      },
      "text/plain": [
       "  0%|          | 0/2 [00:00<?, ?it/s]"
      ]
     },
     "metadata": {},
     "output_type": "display_data"
    },
    {
     "name": "stdout",
     "output_type": "stream",
     "text": [
      "No split meshes were above the width threshold (0.32) and size threshold (2000) so continuing\n",
      "So just going with old somas\n",
      "filtered_soma_list_components = [<trimesh.Trimesh(vertices.shape=(11386, 3), faces.shape=(22560, 3))>\n",
      " <trimesh.Trimesh(vertices.shape=(5708, 3), faces.shape=(10517, 3))>]\n",
      "Not need to do a second pass because already found a soma\n"
     ]
    }
   ],
   "source": [
    "(total_soma_list, \n",
    " run_time, \n",
    " total_soma_list_sdf,\n",
    " glia_pieces,\n",
    " nuclei_pieces) = sm.extract_soma_center(\n",
    "    segment_id,\n",
    "    mesh = mesh_dec,\n",
    "    return_glia_nuclei_pieces=True,\n",
    "    verbose = True,\n",
    ")"
   ]
  },
  {
   "cell_type": "code",
   "execution_count": 17,
   "id": "ead5f509",
   "metadata": {},
   "outputs": [
    {
     "name": "stdout",
     "output_type": "stream",
     "text": [
      "# of somas = 2\n",
      "# of glia = 0\n",
      "# of nuclei = 18\n"
     ]
    },
    {
     "data": {
      "application/vnd.jupyter.widget-view+json": {
       "model_id": "643463d64e554fc0850ffa2b5629ee9a",
       "version_major": 2,
       "version_minor": 0
      },
      "text/plain": [
       "Container(figure=Figure(box_center=[0.5, 0.5, 0.5], box_size=[1.0, 1.0, 1.0], camera=PerspectiveCamera(fov=45.…"
      ]
     },
     "metadata": {},
     "output_type": "display_data"
    }
   ],
   "source": [
    "from neurd import neuron_visualizations as nviz\n",
    "nviz.plot_soma_extraction_meshes(\n",
    "    mesh_dec,\n",
    "    total_soma_list,\n",
    "    glia_pieces,\n",
    "    nuclei_pieces,\n",
    "    verbose = True,\n",
    ")"
   ]
  },
  {
   "cell_type": "markdown",
   "id": "f495610d",
   "metadata": {},
   "source": [
    "# Step 3: Decomposition"
   ]
  },
  {
   "cell_type": "code",
   "execution_count": null,
   "id": "b941527d",
   "metadata": {},
   "outputs": [],
   "source": [
    "from neurd import neuron"
   ]
  },
  {
   "cell_type": "code",
   "execution_count": null,
   "id": "58fd70bf",
   "metadata": {},
   "outputs": [],
   "source": [
    "#/mnt/lab/users/celiib/neurd_packages/neuron_mesh_tools/Auto_Proofreading/Minnie65_Pipeline/Auto_Proof/m65_autoproof_4_Decomposition_full_v1.ipynb"
   ]
  },
  {
   "cell_type": "code",
   "execution_count": null,
   "id": "ebcd5925",
   "metadata": {},
   "outputs": [],
   "source": [
    "neurd.set_volume_params(\n",
    "    volume = \"microns\"\n",
    ")"
   ]
  },
  {
   "cell_type": "code",
   "execution_count": null,
   "id": "e4d334ba",
   "metadata": {},
   "outputs": [],
   "source": [
    "somas = [\n",
    " total_soma_list, \n",
    " run_time, \n",
    " total_soma_list_sdf,\n",
    "]"
   ]
  },
  {
   "cell_type": "code",
   "execution_count": null,
   "id": "e4f3779e",
   "metadata": {
    "scrolled": true
   },
   "outputs": [],
   "source": [
    "neuron_obj = neuron.Neuron(\n",
    "    mesh = mesh,\n",
    "    somas = somas,\n",
    "    suppress_preprocessing_print=False,\n",
    "    \n",
    "    suppress_output=False,\n",
    "    glia_meshes=glia_pieces,\n",
    "    nuclei_meshes = nuclei_pieces,\n",
    ")"
   ]
  },
  {
   "cell_type": "code",
   "execution_count": null,
   "id": "78d87911",
   "metadata": {
    "scrolled": false
   },
   "outputs": [],
   "source": [
    "nviz.visualize_neuron(\n",
    "    neuron_obj,\n",
    "    limb_branch_dict=\"all\"\n",
    ")"
   ]
  },
  {
   "cell_type": "markdown",
   "id": "290c9030",
   "metadata": {},
   "source": [
    "## calculating statistics about neuron"
   ]
  },
  {
   "cell_type": "code",
   "execution_count": null,
   "id": "be9a760f",
   "metadata": {
    "scrolled": true
   },
   "outputs": [],
   "source": [
    "from neurd.microns_volume_utils import data_interface as hdju\n",
    "voxel_adjustment_vector = hdju.voxel_to_nm_scaling\n",
    "\n",
    "stats_dict = neuron_obj.neuron_stats(stats_to_ignore = [\n",
    "                    \"n_boutons\",\n",
    "                     \"axon_length\",\n",
    "                     \"axon_area\",\n",
    "                     \"max_soma_volume\",\n",
    "                     \"max_soma_n_faces\",],\n",
    "    include_skeletal_stats = True,\n",
    "    include_centroids= True,\n",
    "    voxel_adjustment_vector=voxel_adjustment_vector,\n",
    ")\n",
    "\n",
    "stats_dict"
   ]
  },
  {
   "cell_type": "markdown",
   "id": "52924f39",
   "metadata": {},
   "source": [
    "## skeleton and skeleton stats"
   ]
  },
  {
   "cell_type": "code",
   "execution_count": null,
   "id": "5798aa25",
   "metadata": {},
   "outputs": [],
   "source": [
    "skeleton = neuron_obj.skeleton\n",
    "\n",
    "ipvu.plot_objects(\n",
    "    main_skeleton=skeleton\n",
    ")"
   ]
  },
  {
   "cell_type": "code",
   "execution_count": null,
   "id": "ff67c873",
   "metadata": {},
   "outputs": [],
   "source": [
    "from neurd import neuron_statistics as nst\n",
    "\n",
    "sk_stats = nst.skeleton_stats_from_neuron_obj(\n",
    "    neuron_obj,\n",
    "    include_centroids=True,\n",
    "    voxel_adjustment_vector=voxel_adjustment_vector,\n",
    "    verbose = True\n",
    ")\n",
    "\n",
    "sk_stats"
   ]
  },
  {
   "cell_type": "markdown",
   "id": "d6d3b6e3",
   "metadata": {},
   "source": [
    "# Step 3.5"
   ]
  },
  {
   "cell_type": "code",
   "execution_count": null,
   "id": "25bef6ef",
   "metadata": {},
   "outputs": [],
   "source": [
    "from neurd import neuron_utils as nru\n",
    "\n",
    "filepath = nru.save_compressed_neuron(\n",
    "    neuron_obj,\n",
    "    output_folder = \"./\",\n",
    "    file_name = f\"large_double_soma\",\n",
    "    return_file_path = True,\n",
    ")"
   ]
  },
  {
   "cell_type": "markdown",
   "id": "321cf04b",
   "metadata": {},
   "source": [
    "# Step 4: Split Multi-Soma Merges"
   ]
  },
  {
   "cell_type": "code",
   "execution_count": null,
   "id": "4aca1b4f",
   "metadata": {},
   "outputs": [],
   "source": [
    "#/mnt/lab/users/celiib/neurd_packages/neuron_mesh_tools/Auto_Proofreading/Minnie65_Pipeline/Auto_Proof/m65_autoproof_5_DecompositionSplitMultiSoma_full_v1.ipynb"
   ]
  },
  {
   "cell_type": "code",
   "execution_count": null,
   "id": "0e693242",
   "metadata": {},
   "outputs": [],
   "source": [
    "from neurd import proofreading_utils as pru\n",
    "\n",
    "neurd.set_volume_params(\n",
    "    \"microns\"\n",
    ")"
   ]
  },
  {
   "cell_type": "code",
   "execution_count": null,
   "id": "1bb9c1d1",
   "metadata": {},
   "outputs": [],
   "source": [
    "plot_intermediates = True\n",
    "plot_suggestions = True\n",
    "plot_cut_coordinates = True\n",
    "only_multi_soma_paths = False\n",
    "verbose = True"
   ]
  },
  {
   "cell_type": "code",
   "execution_count": null,
   "id": "d8fff8ed",
   "metadata": {
    "scrolled": true
   },
   "outputs": [],
   "source": [
    "(split_results,\n",
    "red_blue_split_results) = pru.multi_soma_split_suggestions(\n",
    "    neuron_obj,\n",
    "    plot_intermediates=plot_intermediates,\n",
    "    plot_suggestions=plot_suggestions,\n",
    "    plot_cut_coordinates = plot_cut_coordinates,\n",
    "    only_multi_soma_paths=only_multi_soma_paths,\n",
    "    default_cut_edge = \"last\",\n",
    "    verbose = verbose,\n",
    "    output_red_blue_suggestions = True,\n",
    "    split_red_blue_by_common_upstream = True,\n",
    "    apply_valid_upstream_branches_restriction = True,\n",
    "    debug_red_blue = False,\n",
    ")"
   ]
  },
  {
   "cell_type": "code",
   "execution_count": null,
   "id": "5d1842f6",
   "metadata": {
    "scrolled": true
   },
   "outputs": [],
   "source": [
    "from neurd import soma_splitting_utils as ssu\n",
    "ssu.plot_red_blue_split_suggestions_per_limb(\n",
    "    neuron_obj,\n",
    "    red_blue_split_results,\n",
    "    \n",
    ")"
   ]
  },
  {
   "cell_type": "markdown",
   "id": "93828918",
   "metadata": {},
   "source": [
    "# Step 5: Splitting Multi-Neuron"
   ]
  },
  {
   "cell_type": "code",
   "execution_count": null,
   "id": "ee35234c",
   "metadata": {},
   "outputs": [],
   "source": [
    "import numpy as np\n",
    "from neurd import soma_splitting_utils as ssu\n",
    "from neurd import proofreading_utils as pru\n",
    "\n",
    "neurd.set_volume_params(\n",
    "    \"microns\"\n",
    ")"
   ]
  },
  {
   "cell_type": "code",
   "execution_count": null,
   "id": "951a5a98",
   "metadata": {},
   "outputs": [],
   "source": [
    "n_paths_cut = pru.get_n_paths_cut(\n",
    "    split_results,\n",
    "    verbose = True)"
   ]
  },
  {
   "cell_type": "code",
   "execution_count": null,
   "id": "1f386430",
   "metadata": {
    "scrolled": true
   },
   "outputs": [],
   "source": [
    "verbose = True\n",
    "\n",
    "(neuron_list,\n",
    "neuron_list_errored_limbs_area,\n",
    "neuron_list_errored_limbs_skeletal_length,\n",
    "neuron_list_n_multi_soma_errors,\n",
    "neuron_list_n_same_soma_errors) = pru.split_neuron(neuron_obj,\n",
    "    limb_results=split_results,\n",
    "    verbose=verbose,\n",
    "    return_error_info=True,\n",
    ")\n",
    "\n",
    "multiplicity = len(neuron_list)"
   ]
  },
  {
   "cell_type": "markdown",
   "id": "6bc16121",
   "metadata": {},
   "source": [
    "# Cell Typing"
   ]
  },
  {
   "cell_type": "code",
   "execution_count": null,
   "id": "8594b3a2",
   "metadata": {},
   "outputs": [],
   "source": [
    "\"\"\"\n",
    "Functions to be implemented in volume_utils\n",
    "\n",
    "nuclei_from_segment_id\n",
    "-> returns nucleus_ids,nucleus_centers\n",
    "\n",
    "\"\"\""
   ]
  },
  {
   "cell_type": "code",
   "execution_count": null,
   "id": "2c68373e",
   "metadata": {},
   "outputs": [],
   "source": [
    "verbose = True\n",
    "\n",
    "hdju = pru.data_mod\n",
    "hdju"
   ]
  },
  {
   "cell_type": "code",
   "execution_count": null,
   "id": "3bfeb605",
   "metadata": {},
   "outputs": [],
   "source": [
    "split_index = 0\n",
    "neuron_obj_pre_filt = neuron_list[split_index]"
   ]
  },
  {
   "cell_type": "code",
   "execution_count": null,
   "id": "b60d95f3",
   "metadata": {},
   "outputs": [],
   "source": [
    "# 1) Retrieving the corresponding nucleus ids\n",
    "nucleus_ids,nucleus_centers = hdju.nuclei_from_segment_id(\n",
    "    segment_id,\n",
    "    return_centers=True,\n",
    "    return_nm=True\n",
    "    )\n",
    "\n",
    "if verbose:\n",
    "    if nucleus_ids is not None:\n",
    "        print(f\"Number of Corresponding Nuclei = {len(nucleus_ids)}\")\n",
    "        print(f\"nucleus_ids = {nucleus_ids}\")\n",
    "        print(f\"nucleus_centers = {nucleus_centers}\")\n",
    "        \n"
   ]
  },
  {
   "cell_type": "code",
   "execution_count": null,
   "id": "e1b47d4a",
   "metadata": {
    "scrolled": true
   },
   "outputs": [],
   "source": [
    "plot_initial_neuron = True\n",
    "\n",
    "if plot_initial_neuron:\n",
    "    neuron_obj_rot = hdju.align_neuron_obj(neuron_obj_pre_filt)\n",
    "    nviz.visualize_neuron(neuron_obj_rot,limb_branch_dict = \"all\")"
   ]
  },
  {
   "cell_type": "code",
   "execution_count": null,
   "id": "5556b3b0",
   "metadata": {},
   "outputs": [],
   "source": [
    "nviz.visualize_neuron(neuron_obj_pre_filt,limb_branch_dict = \"all\")"
   ]
  },
  {
   "cell_type": "code",
   "execution_count": null,
   "id": "eb01b4a2",
   "metadata": {},
   "outputs": [],
   "source": [
    "#2) Refining the width array to match sksleton coordinates if it doesn't\n",
    "\n",
    "from neurd import branch_utils as bu\n",
    "bu.refine_width_array_to_match_skeletal_coordinates(\n",
    "        neuron_obj_pre_filt,\n",
    "        verbose = False\n",
    ")"
   ]
  },
  {
   "cell_type": "code",
   "execution_count": null,
   "id": "671f8bec",
   "metadata": {},
   "outputs": [],
   "source": [
    "from neurd import neuron_simplification as nsimp\n",
    "\n",
    "plot_floating_end_nodes_limb_branch_dict =  False\n",
    "plot_downstream_path_limb_branch = False\n",
    "plot_after_simplification = True\n",
    "\n",
    "# 3) Performs branch simplification so there should always be 2 or more child branches\n",
    "neuron_obj_pre_filt_after_simp = nsimp.branching_simplification(\n",
    "    neuron_obj_pre_filt,\n",
    "    return_copy = True,\n",
    "\n",
    "    #floating endpiece arguments\n",
    "    plot_floating_end_nodes_limb_branch_dict = plot_floating_end_nodes_limb_branch_dict,\n",
    "    plot_final_neuron_floating_endpoints = False,\n",
    "\n",
    "    # combine path arguments\n",
    "    plot_downstream_path_limb_branch = plot_downstream_path_limb_branch,\n",
    "    plot_final_neuron_path = False,\n",
    "    plot_after_simplification = True,\n",
    "    verbose = verbose,\n",
    ")\n",
    "\n"
   ]
  },
  {
   "cell_type": "code",
   "execution_count": null,
   "id": "95965748",
   "metadata": {},
   "outputs": [],
   "source": [
    "# Filter away a large cluster of dendrite if requested SKIPPED\n",
    "\n",
    "filter_low_branch_cluster_dendrite = False\n",
    "plot_limb_branch_filter_away_low_branch = False\n",
    "\n",
    "if filter_low_branch_cluster_dendrite:\n",
    "    neuron_obj_pre_class, filtering_info_low_branch = pru.apply_proofreading_filters_to_neuron(\n",
    "        input_neuron = neuron_obj_pre_filt_after_simp,\n",
    "        filter_list = [pru.low_branch_length_clusters_dendrite_filter],\n",
    "        plot_limb_branch_filter_with_disconnect_effect=False,\n",
    "        plot_limb_branch_filter_away=plot_limb_branch_filter_away_low_branch,\n",
    "        plot_final_neuron=False,\n",
    "\n",
    "        return_error_info=True,\n",
    "        verbose=False,\n",
    "        verbose_outline=verbose)\n",
    "else:\n",
    "    neuron_obj_pre_class = neuron_obj_pre_filt_after_simp\n",
    "    filtering_info_low_branch = {}"
   ]
  },
  {
   "cell_type": "code",
   "execution_count": null,
   "id": "1740d6fd",
   "metadata": {},
   "outputs": [],
   "source": [
    "from neurd import neuron_utils as nru\n",
    "\n",
    "winning_nucleus_id, nucleus_info = nru.pair_neuron_obj_to_nuclei(\n",
    "    neuron_obj_pre_class,\n",
    "    \"S0\",\n",
    "    nucleus_ids,\n",
    "    nucleus_centers,\n",
    "    nuclei_distance_threshold = 15000,\n",
    "    return_matching_info = True,\n",
    "    verbose=True)\n",
    "\n",
    "if verbose:\n",
    "    print(f\"nucleus_info = {nucleus_info}\")\n",
    "    print(f\"winning_nucleus_id = {winning_nucleus_id}\")\n"
   ]
  },
  {
   "cell_type": "code",
   "execution_count": null,
   "id": "6ed1f65c",
   "metadata": {},
   "outputs": [],
   "source": [
    "# Getting the cell types from the database\n",
    "\n",
    "database_cell_type_info = hdju.nuclei_classification_info_from_nucleus_id(\n",
    "    winning_nucleus_id\n",
    ")\n",
    "\n",
    "database_e_i_class = database_cell_type_info[f\"external_cell_type\"]  \n",
    "\n",
    "if verbose:\n",
    "    print(f\"database_cell_type_info = {database_cell_type_info}\")\n",
    "    print(f\"database_e_i_class = {database_e_i_class}\")"
   ]
  },
  {
   "cell_type": "code",
   "execution_count": null,
   "id": "d445b224",
   "metadata": {},
   "outputs": [],
   "source": [
    "# Adding the synapses to the cell\n",
    "plot_synapses = True\n",
    "\n",
    "\n",
    "neurd.set_volume_params(\n",
    "    \"microns\"\n",
    ")\n",
    "\n",
    "from neurd import synapse_utils as syu\n",
    "from neurd.microns_volume_utils import data_interface as hdju\n",
    "hdju.set_synapse_filepath(synapse_filepath = '/neurd_packages/NEURD/Applications/autoproof_neuron_pipeline/864691135510518224_synapses.csv')\n",
    "\n",
    "neuron_obj_attr = syu.add_synapses_to_neuron_obj(\n",
    "    neuron_obj_pre_class,\n",
    "    segment_id = segment_id,\n",
    "    #synapse_filepath = '/neurd_packages/NEURD/Applications/autoproof_neuron_pipeline/864691135510518224_synapses.csv',\n",
    "    validation = False,\n",
    "    verbose  = verbose,\n",
    "    original_mesh = mesh_dec,\n",
    "    plot_valid_error_synapses = False,\n",
    "    calculate_synapse_soma_distance = False,\n",
    "    add_valid_synapses = True,\n",
    "    add_error_synapses=False,\n",
    ")\n",
    "\n",
    "if plot_synapses:\n",
    "    syu.plot_synapses(neuron_obj_attr)"
   ]
  },
  {
   "cell_type": "code",
   "execution_count": null,
   "id": "3735aac6",
   "metadata": {},
   "outputs": [],
   "source": [
    "syu.plot_synapses(neuron_obj_attr)"
   ]
  },
  {
   "cell_type": "code",
   "execution_count": null,
   "id": "03f4ef63",
   "metadata": {
    "scrolled": true
   },
   "outputs": [],
   "source": [
    "# Adding the spines\n",
    "from neurd import spine_utils as spu\n",
    "\n",
    "plot_spines = True\n",
    "\n",
    "neuron_obj_attr = spu.add_head_neck_shaft_spine_objs(\n",
    "    neuron_obj_attr,\n",
    "    verbose = verbose\n",
    ")\n",
    "\n",
    "if plot_spines:\n",
    "    spu.plot_spines_head_neck(neuron_obj_attr)"
   ]
  },
  {
   "cell_type": "code",
   "execution_count": null,
   "id": "b6630397",
   "metadata": {
    "scrolled": true
   },
   "outputs": [],
   "source": [
    "# calculating the cell type\n",
    "\n",
    "from neurd import cell_type_utils as ctu\n",
    "\n",
    "plot_spines_and_sk_filter_for_syn = False\n",
    "plot_spines_and_sk_filter_for_spine = False\n",
    "\n",
    "baylor_e_i,baylor_cell_type_info = ctu.e_i_classification_from_neuron_obj(\n",
    "    neuron_obj_attr,\n",
    "    plot_on_model_map=False,\n",
    "    plot_spines_and_sk_filter_for_syn = plot_spines_and_sk_filter_for_syn,\n",
    "    plot_spines_and_sk_filter_for_spine = plot_spines_and_sk_filter_for_spine,\n",
    "    verbose = verbose,\n",
    "    return_cell_type_info = True\n",
    ")\n",
    "\n",
    "baylor_cell_type_info[\"baylor_cell_type\"] = baylor_e_i \n",
    "\n",
    "if verbose:\n",
    "    print(f\"baylor_cell_type_info = \\n{baylor_cell_type_info}\")"
   ]
  },
  {
   "cell_type": "code",
   "execution_count": null,
   "id": "302ac818",
   "metadata": {},
   "outputs": [],
   "source": [
    "e_i_class = baylor_e_i"
   ]
  },
  {
   "cell_type": "markdown",
   "id": "e9fcf40b",
   "metadata": {},
   "source": [
    "# Classifying axon and dendrite"
   ]
  },
  {
   "cell_type": "code",
   "execution_count": null,
   "id": "81cd2b96",
   "metadata": {
    "scrolled": true
   },
   "outputs": [],
   "source": [
    "from neurd import axon_utils as au\n",
    "\n",
    "neurd.set_volume_params(\n",
    "    \"microns\"\n",
    ")\n",
    "\n",
    "filter_dendrite_on_axon = False\n",
    "plot_initial_axon = False\n",
    "plot_axon_on_dendrite = False\n",
    "plot_high_fidelity_axon = False\n",
    "plot_boutons_web = False\n",
    "\n",
    "\n",
    "\n",
    "(o_neuron_unalign,\n",
    " filtering_info,\n",
    " axon_angles_dict,\n",
    " G_axon_labeled,)=au.complete_axon_processing(\n",
    "            neuron_obj_attr,\n",
    "            cell_type = e_i_class,\n",
    "            add_synapses_and_head_neck_shaft_spines = False,\n",
    "            validation = False,\n",
    "            plot_initial_axon=plot_initial_axon,\n",
    "            plot_axon_on_dendrite=plot_axon_on_dendrite,\n",
    "            return_filtering_info = True,\n",
    "             return_axon_angle_info = True,\n",
    "            plot_high_fidelity_axon = plot_high_fidelity_axon,\n",
    "            plot_boutons_web = plot_boutons_web,\n",
    "            add_synapses_after_high_fidelity_axon = True,\n",
    "            filter_dendrite_on_axon = filter_dendrite_on_axon,\n",
    "            return_G_axon_labeled = True,\n",
    "            verbose = verbose)"
   ]
  },
  {
   "cell_type": "code",
   "execution_count": null,
   "id": "4593c820",
   "metadata": {},
   "outputs": [],
   "source": [
    "ipvu.plot_objects(\n",
    "    o_neuron_unalign.mesh,\n",
    "    main_skeleton=o_neuron_unalign.axon_skeleton\n",
    ")"
   ]
  },
  {
   "cell_type": "code",
   "execution_count": null,
   "id": "959c8c73",
   "metadata": {},
   "outputs": [],
   "source": []
  },
  {
   "cell_type": "markdown",
   "id": "4d4f56c5",
   "metadata": {},
   "source": [
    "# Proofreading"
   ]
  },
  {
   "cell_type": "code",
   "execution_count": null,
   "id": "84c92201",
   "metadata": {},
   "outputs": [],
   "source": [
    "import numpy as np\n",
    "ipvu.plot_scatter(\n",
    "    array=np.array([[0.12068656, 0.34903741, 0.84620654],\n",
    "       [0.04812803, 0.14411268, 0.54990798],\n",
    "       [0.79566505, 0.63533888, 0.03276685],\n",
    "       [0.55378168, 0.25424957, 0.71898828],\n",
    "       [0.1054361 , 0.70734158, 0.25456412],\n",
    "       [0.51331846, 0.46793084, 0.44032635],\n",
    "       [0.58216843, 0.46214255, 0.12553144],\n",
    "       [0.08834693, 0.13477684, 0.88986768],\n",
    "       [0.39226641, 0.96131601, 0.05423914],\n",
    "       [0.86158737, 0.30404951, 0.42807901]]),\n",
    "    color=(1,0,0,0.99),\n",
    "    size=10,\n",
    "    widgets_to_plot = (\"size\",\"marker\",\"color\"),\n",
    ")"
   ]
  },
  {
   "cell_type": "code",
   "execution_count": null,
   "id": "41650f1c",
   "metadata": {},
   "outputs": [],
   "source": [
    "size = [0.3]\n",
    "color = [[1.0, 0.0, 0.0, 0.5]]\n",
    "scatters = [np.array([[0.12068656, 0.34903741, 0.84620654],\n",
    "       [0.04812803, 0.14411268, 0.54990798],\n",
    "       [0.79566505, 0.63533888, 0.03276685],\n",
    "       [0.55378168, 0.25424957, 0.71898828],\n",
    "       [0.1054361 , 0.70734158, 0.25456412],\n",
    "       [0.51331846, 0.46793084, 0.44032635],\n",
    "       [0.58216843, 0.46214255, 0.12553144],\n",
    "       [0.08834693, 0.13477684, 0.88986768],\n",
    "       [0.39226641, 0.96131601, 0.05423914],\n",
    "       [0.86158737, 0.30404951, 0.42807901]])]\n",
    "\n",
    "ipvu.plot_multi_scatters(\n",
    "    scatters,\n",
    "    color=\"red\",\n",
    "    #size = size\n",
    ")"
   ]
  },
  {
   "cell_type": "code",
   "execution_count": null,
   "id": "4cdae97e",
   "metadata": {},
   "outputs": [],
   "source": [
    "ipvu.plot_objects(\n",
    "    skeletons=[np.array([[1,2,3],[4,5,6]]).reshape(-1,2,3)],\n",
    "    scatters=[np.random.rand(10,3)]\n",
    ")"
   ]
  },
  {
   "cell_type": "code",
   "execution_count": null,
   "id": "ad97d985",
   "metadata": {},
   "outputs": [],
   "source": [
    "from datasci_tools import ipyvolume_utils as ipvu\n",
    "import ipyvolume  as ipv\n",
    "\n",
    "ipv.clear()\n",
    "ipvu.plot_objects(\n",
    "    scatters=[np.random.rand(10,3)],\n",
    "    scatter_size=10,\n",
    "    set_zoom=1,\n",
    "    axis_box_off=False,\n",
    ")"
   ]
  },
  {
   "cell_type": "code",
   "execution_count": null,
   "id": "74f3cc3b",
   "metadata": {},
   "outputs": [],
   "source": []
  },
  {
   "cell_type": "code",
   "execution_count": null,
   "id": "9d9305ea",
   "metadata": {},
   "outputs": [],
   "source": []
  },
  {
   "cell_type": "code",
   "execution_count": null,
   "id": "ea952940",
   "metadata": {},
   "outputs": [],
   "source": []
  },
  {
   "cell_type": "code",
   "execution_count": null,
   "id": "35323742",
   "metadata": {},
   "outputs": [],
   "source": []
  },
  {
   "cell_type": "code",
   "execution_count": null,
   "id": "9d9d6537",
   "metadata": {},
   "outputs": [],
   "source": []
  },
  {
   "cell_type": "code",
   "execution_count": null,
   "id": "58a6f442",
   "metadata": {},
   "outputs": [],
   "source": []
  },
  {
   "cell_type": "code",
   "execution_count": null,
   "id": "5a3203d9",
   "metadata": {},
   "outputs": [],
   "source": [
    "# Proofreading"
   ]
  },
  {
   "cell_type": "code",
   "execution_count": null,
   "id": "bb1aa8b9",
   "metadata": {},
   "outputs": [],
   "source": []
  },
  {
   "cell_type": "code",
   "execution_count": null,
   "id": "b398db0e",
   "metadata": {},
   "outputs": [],
   "source": []
  },
  {
   "cell_type": "code",
   "execution_count": null,
   "id": "ded6b2b0",
   "metadata": {},
   "outputs": [],
   "source": []
  },
  {
   "cell_type": "code",
   "execution_count": null,
   "id": "467095cc",
   "metadata": {},
   "outputs": [],
   "source": []
  },
  {
   "cell_type": "code",
   "execution_count": null,
   "id": "9215a688",
   "metadata": {},
   "outputs": [],
   "source": []
  },
  {
   "cell_type": "code",
   "execution_count": null,
   "id": "d74537a0",
   "metadata": {},
   "outputs": [],
   "source": []
  },
  {
   "cell_type": "code",
   "execution_count": null,
   "id": "d52f9de6",
   "metadata": {},
   "outputs": [],
   "source": [
    "len(dict_info[\"postsyn\"][\"synapse_ids\"])"
   ]
  },
  {
   "cell_type": "code",
   "execution_count": null,
   "id": "6142a6c5",
   "metadata": {},
   "outputs": [],
   "source": [
    "from datasci_tools import pandas_utils as pu\n",
    "df = syu.synapse_df_from_synapse_dict(dict_info,segment_id = segment_id)\n",
    "filepath = f\"{segment_id}_synapses.csv\"\n",
    "pu.df_to_csv(df,filepath)"
   ]
  },
  {
   "cell_type": "code",
   "execution_count": null,
   "id": "1d54b06e",
   "metadata": {},
   "outputs": [],
   "source": [
    "df"
   ]
  },
  {
   "cell_type": "code",
   "execution_count": null,
   "id": "c144f8d8",
   "metadata": {},
   "outputs": [],
   "source": [
    "df"
   ]
  },
  {
   "cell_type": "code",
   "execution_count": null,
   "id": "d81e564e",
   "metadata": {},
   "outputs": [],
   "source": [
    "syu.synapse_dict_from_synapse_csv(\n",
    "    synapse_filepath = '/neurd_packages/NEURD/Applications/autoproof_neuron_pipeline/864691135510518224_synapses.csv',\n",
    ")"
   ]
  },
  {
   "cell_type": "code",
   "execution_count": null,
   "id": "08e038de",
   "metadata": {},
   "outputs": [],
   "source": [
    "synapse_ids"
   ]
  },
  {
   "cell_type": "code",
   "execution_count": null,
   "id": "147f10b5",
   "metadata": {
    "scrolled": true
   },
   "outputs": [],
   "source": [
    "# find the overlap in files in meshAfterParty\n",
    "from pathlib import Path\n",
    "from datasci_tools import file_utils as filu\n",
    "from datasci_tools import pathlib_utils as plu\n",
    "import numpy as np\n",
    "map_files = plu.files_of_ext_type(\n",
    "    \"/neurd_packages/meshAfterParty/meshAfterParty/\",\n",
    "    ext = \"py\",\n",
    "    return_stem = True,\n",
    ")\n",
    "\n",
    "neurd_files = plu.files_of_ext_type(\n",
    "    \"/neurd_packages/NEURD/neurd/\",\n",
    "    ext = \"py\",\n",
    "    return_stem = True,\n",
    ")\n",
    "\n",
    "interset_files = np.intersect1d(map_files,neurd_files)\n",
    "interset_files"
   ]
  },
  {
   "cell_type": "code",
   "execution_count": null,
   "id": "de01c599",
   "metadata": {},
   "outputs": [],
   "source": [
    "hdju_min.fetch_soma_mesh"
   ]
  },
  {
   "cell_type": "code",
   "execution_count": null,
   "id": "81f257b8",
   "metadata": {},
   "outputs": [],
   "source": [
    "\"\"\"\n",
    "Purpose: Want to move the overlapping files \n",
    "in meshAfterParty into a saved folder with a new name\n",
    "\n",
    "Pseudocode: \n",
    "0) Create a new folder to save files in\n",
    "1) cp the file from meshAfterParty to new folder (with suffix)\n",
    "2) Delete the old filepath\n",
    "\"\"\"\n",
    "from datasci_tools import system_utils as su\n",
    "\n",
    "new_folder = \"/neurd_packages/meshAfterParty/meshAfterParty/neurd_moved_files\"\n",
    "existing_path = \"/neurd_packages/meshAfterParty/meshAfterParty/\"\n",
    "suffix = \"_neurd\"\n",
    "delete_old_files = True\n",
    "verbose = True\n",
    "\n",
    "Path(new_folder).mkdir(exist_ok=True)\n",
    "\n",
    "for f in interset_files:\n",
    "    curr_path = Path(existing_path) / Path(f\"{f}.py\")\n",
    "    final_path =  Path(new_folder) / Path(f\"{f}{suffix}.py\")\n",
    "    if curr_path.exists():\n",
    "        su.copy_file(\n",
    "           curr_path,\n",
    "           final_path,\n",
    "        )\n",
    "        \n",
    "        if verbose:\n",
    "            print(f\"Moved {curr_path}\")\n",
    "\n",
    "        if delete_old_files:\n",
    "            curr_path.unlink()"
   ]
  },
  {
   "cell_type": "code",
   "execution_count": null,
   "id": "a7c0b563",
   "metadata": {},
   "outputs": [],
   "source": [
    "from os import sys\n",
    "sys.path.append(\"/neurd_packages/meshAfterParty/meshAfterParty/\")"
   ]
  },
  {
   "cell_type": "code",
   "execution_count": null,
   "id": "02fb83a8",
   "metadata": {},
   "outputs": [],
   "source": [
    "from dataInterfaceMinnie65 import data_interface as hdju_min"
   ]
  },
  {
   "cell_type": "code",
   "execution_count": null,
   "id": "2e00dfbf",
   "metadata": {},
   "outputs": [],
   "source": [
    "hdju.nuclei_classification_info_from_nucleus_id(\n",
    "    4078\n",
    ")"
   ]
  },
  {
   "cell_type": "code",
   "execution_count": null,
   "id": "c993f026",
   "metadata": {},
   "outputs": [],
   "source": []
  }
 ],
 "metadata": {
  "kernelspec": {
   "display_name": "Python 3 (ipykernel)",
   "language": "python",
   "name": "python3"
  },
  "language_info": {
   "codemirror_mode": {
    "name": "ipython",
    "version": 3
   },
   "file_extension": ".py",
   "mimetype": "text/x-python",
   "name": "python",
   "nbconvert_exporter": "python",
   "pygments_lexer": "ipython3",
   "version": "3.8.0"
  }
 },
 "nbformat": 4,
 "nbformat_minor": 5
}
