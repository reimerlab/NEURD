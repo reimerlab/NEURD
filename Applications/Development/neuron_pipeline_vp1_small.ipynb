{
 "cells": [
  {
   "cell_type": "code",
   "execution_count": 1,
   "id": "077350ae",
   "metadata": {},
   "outputs": [],
   "source": [
    "%load_ext autoreload\n",
    "%autoreload 2"
   ]
  },
  {
   "cell_type": "code",
   "execution_count": 2,
   "id": "c0765d62",
   "metadata": {},
   "outputs": [
    {
     "name": "stdout",
     "output_type": "stream",
     "text": [
      "Jupyter environment detected. Enabling Open3D WebVisualizer.\n",
      "[Open3D INFO] WebRTC GUI backend enabled.\n",
      "[Open3D INFO] WebRTCWindowSystem: HTTP handshake server disabled.\n"
     ]
    },
    {
     "name": "stderr",
     "output_type": "stream",
     "text": [
      "/usr/local/lib/python3.8/dist-packages/umap/distances.py:1063: NumbaDeprecationWarning: The 'nopython' keyword argument was not supplied to the 'numba.jit' decorator. The implicit default value for this argument is currently False, but it will be changed to True in Numba 0.59.0. See https://numba.readthedocs.io/en/stable/reference/deprecation.html#deprecation-of-object-mode-fall-back-behaviour-when-using-jit for details.\n",
      "  @numba.jit()\n",
      "/usr/local/lib/python3.8/dist-packages/umap/distances.py:1071: NumbaDeprecationWarning: The 'nopython' keyword argument was not supplied to the 'numba.jit' decorator. The implicit default value for this argument is currently False, but it will be changed to True in Numba 0.59.0. See https://numba.readthedocs.io/en/stable/reference/deprecation.html#deprecation-of-object-mode-fall-back-behaviour-when-using-jit for details.\n",
      "  @numba.jit()\n",
      "/usr/local/lib/python3.8/dist-packages/umap/distances.py:1086: NumbaDeprecationWarning: The 'nopython' keyword argument was not supplied to the 'numba.jit' decorator. The implicit default value for this argument is currently False, but it will be changed to True in Numba 0.59.0. See https://numba.readthedocs.io/en/stable/reference/deprecation.html#deprecation-of-object-mode-fall-back-behaviour-when-using-jit for details.\n",
      "  @numba.jit()\n",
      "/usr/local/lib/python3.8/dist-packages/umap/umap_.py:660: NumbaDeprecationWarning: The 'nopython' keyword argument was not supplied to the 'numba.jit' decorator. The implicit default value for this argument is currently False, but it will be changed to True in Numba 0.59.0. See https://numba.readthedocs.io/en/stable/reference/deprecation.html#deprecation-of-object-mode-fall-back-behaviour-when-using-jit for details.\n",
      "  @numba.jit()\n"
     ]
    }
   ],
   "source": [
    "import neurd"
   ]
  },
  {
   "cell_type": "code",
   "execution_count": 3,
   "id": "cab8357f",
   "metadata": {},
   "outputs": [],
   "source": [
    "from mesh_tools import trimesh_utils as tu\n",
    "from datasci_tools import ipyvolume_utils as ipvu\n",
    "from neurd import neuron_visualizations as nviz"
   ]
  },
  {
   "cell_type": "code",
   "execution_count": 4,
   "id": "6238f792",
   "metadata": {},
   "outputs": [],
   "source": [
    "neurd.set_volume_params(\n",
    "    volume = \"microns\"\n",
    ")"
   ]
  },
  {
   "cell_type": "markdown",
   "id": "6f9b75c9",
   "metadata": {},
   "source": [
    "# Data Prep: Loading mesh"
   ]
  },
  {
   "cell_type": "code",
   "execution_count": 5,
   "id": "a1df55b6",
   "metadata": {},
   "outputs": [],
   "source": [
    "from mesh_tools import trimesh_utils as tu"
   ]
  },
  {
   "cell_type": "code",
   "execution_count": 8,
   "id": "08dd9184",
   "metadata": {},
   "outputs": [],
   "source": [
    "segment_id = 864691135013273494"
   ]
  },
  {
   "cell_type": "code",
   "execution_count": 9,
   "id": "3c95c75b",
   "metadata": {},
   "outputs": [
    {
     "data": {
      "text/plain": [
       "<trimesh.Trimesh(vertices.shape=(68149, 3), faces.shape=(152455, 3))>"
      ]
     },
     "execution_count": 9,
     "metadata": {},
     "output_type": "execute_result"
    }
   ],
   "source": [
    "mesh_filepath = f\"./{segment_id}.off\"\n",
    "mesh = tu.load_mesh_no_processing(mesh_filepath)\n",
    "mesh"
   ]
  },
  {
   "cell_type": "code",
   "execution_count": 15,
   "id": "6dcbdeac",
   "metadata": {},
   "outputs": [
    {
     "name": "stderr",
     "output_type": "stream",
     "text": [
      "/usr/local/lib/python3.8/dist-packages/traittypes/traittypes.py:97: UserWarning: Given trait value dtype \"float64\" does not match required type \"float64\". A coerced copy has been created.\n",
      "  warnings.warn(\n"
     ]
    },
    {
     "data": {
      "application/vnd.jupyter.widget-view+json": {
       "model_id": "af6c29f1b5f04f2baee43d88a9130499",
       "version_major": 2,
       "version_minor": 0
      },
      "text/plain": [
       "Container(figure=Figure(box_center=[0.5, 0.5, 0.5], box_size=[1.0, 1.0, 1.0], camera=PerspectiveCamera(fov=45.…"
      ]
     },
     "metadata": {},
     "output_type": "display_data"
    }
   ],
   "source": [
    "ipvu.plot_objects(mesh)"
   ]
  },
  {
   "cell_type": "markdown",
   "id": "479cac44",
   "metadata": {},
   "source": [
    "# Step 1: Decimation"
   ]
  },
  {
   "cell_type": "code",
   "execution_count": 10,
   "id": "95e97145",
   "metadata": {},
   "outputs": [],
   "source": [
    "#/mnt/lab/users/celiib/neurd_packages/neuron_mesh_tools/Auto_Proofreading/Minnie65_Pipeline/Morphology/m65_morphology_2_Decimation_v1.ipynb"
   ]
  },
  {
   "cell_type": "code",
   "execution_count": 16,
   "id": "ac1747ad",
   "metadata": {},
   "outputs": [],
   "source": [
    "decimation_kwargs = dict(\n",
    "    decimation_ratio =0.25,\n",
    ")"
   ]
  },
  {
   "cell_type": "code",
   "execution_count": 17,
   "id": "432f9e64",
   "metadata": {},
   "outputs": [
    {
     "name": "stdout",
     "output_type": "stream",
     "text": [
      "xvfb-run -n 4231 -s \"-screen 0 800x600x24\" meshlabserver $@  -i /neurd_packages/NEURD/Applications/autoproof_neuron_pipeline/temp/neuron_33876.off -o /neurd_packages/NEURD/Applications/autoproof_neuron_pipeline/temp/neuron_33876_decimated.off -s /neurd_packages/NEURD/Applications/autoproof_neuron_pipeline/temp/decimation_meshlab_25322712.mls\n"
     ]
    }
   ],
   "source": [
    "mesh_dec = tu.decimate(\n",
    "    mesh,\n",
    "    **decimation_kwargs\n",
    ")"
   ]
  },
  {
   "cell_type": "code",
   "execution_count": 18,
   "id": "0dd55d5f",
   "metadata": {},
   "outputs": [
    {
     "name": "stdout",
     "output_type": "stream",
     "text": [
      "mesh = <trimesh.Trimesh(vertices.shape=(68149, 3), faces.shape=(152455, 3))>\n",
      "mesh_dec = <trimesh.Trimesh(vertices.shape=(14431, 3), faces.shape=(44005, 3))>\n"
     ]
    }
   ],
   "source": [
    "print(f\"mesh = {mesh}\")\n",
    "print(f\"mesh_dec = {mesh_dec}\")"
   ]
  },
  {
   "cell_type": "code",
   "execution_count": 19,
   "id": "bb728b90",
   "metadata": {},
   "outputs": [
    {
     "data": {
      "application/vnd.jupyter.widget-view+json": {
       "model_id": "92e5f4dfb9c64fab93a80390e22c7aa7",
       "version_major": 2,
       "version_minor": 0
      },
      "text/plain": [
       "Container(figure=Figure(box_center=[0.5, 0.5, 0.5], box_size=[1.0, 1.0, 1.0], camera=PerspectiveCamera(fov=45.…"
      ]
     },
     "metadata": {},
     "output_type": "display_data"
    }
   ],
   "source": [
    "ipvu.plot_objects(\n",
    "    meshes = [mesh,mesh_dec],\n",
    "    meshes_colors=[\"green\",\"red\"],\n",
    ")"
   ]
  },
  {
   "cell_type": "code",
   "execution_count": 20,
   "id": "d71eba6f",
   "metadata": {},
   "outputs": [],
   "source": [
    "mesh_dec = mesh"
   ]
  },
  {
   "cell_type": "markdown",
   "id": "bea6f1ed",
   "metadata": {},
   "source": [
    "# Step 2: Some Identification"
   ]
  },
  {
   "cell_type": "code",
   "execution_count": 21,
   "id": "b03019ef",
   "metadata": {},
   "outputs": [],
   "source": [
    "#/mnt/lab/users/celiib/neurd_packages/neuron_mesh_tools/Auto_Proofreading/Minnie65_Pipeline/Morphology/m65_morphology_3_MeshFragment_full_v1.ipynb"
   ]
  },
  {
   "cell_type": "code",
   "execution_count": 22,
   "id": "c1a09265",
   "metadata": {},
   "outputs": [],
   "source": [
    "from neurd import soma_extraction_utils as sm"
   ]
  },
  {
   "cell_type": "code",
   "execution_count": 23,
   "id": "255d2f63",
   "metadata": {},
   "outputs": [
    {
     "name": "stdout",
     "output_type": "stream",
     "text": [
      "Current Arguments Using (adjusted for decimation):\n",
      " large_mesh_threshold= 5000.0 \n",
      "large_mesh_threshold_inner = 3250.0 \n",
      "soma_size_threshold = 562.5 \n",
      "soma_size_threshold_max = 75000.0\n",
      "outer_decimation_ratio = 0.25\n",
      "inner_decimation_ratio = 0.25\n",
      "max_mesh_sized_filtered_away = 22500.0\n",
      "xvfb-run -n 7453 -s \"-screen 0 800x600x24\" meshlabserver $@  -i /neurd_packages/NEURD/Applications/autoproof_neuron_pipeline/temp/neuron_87195.off -o /neurd_packages/NEURD/Applications/autoproof_neuron_pipeline/temp/neuron_87195_remove_interior.off -s /neurd_packages/NEURD/Applications/autoproof_neuron_pipeline/temp/remove_interior_387948.mls\n",
      "removed temporary input file: /neurd_packages/NEURD/Applications/autoproof_neuron_pipeline/temp/neuron_87195.off\n",
      "removed temporary output file: /neurd_packages/NEURD/Applications/autoproof_neuron_pipeline/temp/neuron_87195_remove_interior.off\n",
      "/neurd_packages/NEURD/Applications/autoproof_neuron_pipeline/temp/remove_interior_387948.mls is being deleted....\n",
      "There were 31 total interior meshes\n",
      "Pieces satisfying glia requirements (volume) (x >= 2500000000000): 0\n",
      "Pieces satisfying nuclie requirements: n_faces (700 <= x) and volume (x < 2500000000000) : 31\n",
      "inside remove_mesh_interior and using precomputed inside_pieces\n",
      "Removing the following inside neurons: [<trimesh.Trimesh(vertices.shape=(9077, 3), faces.shape=(19642, 3))>, <trimesh.Trimesh(vertices.shape=(1472, 3), faces.shape=(3430, 3))>, <trimesh.Trimesh(vertices.shape=(1239, 3), faces.shape=(2950, 3))>, <trimesh.Trimesh(vertices.shape=(1091, 3), faces.shape=(1769, 3))>, <trimesh.Trimesh(vertices.shape=(1036, 3), faces.shape=(2343, 3))>, <trimesh.Trimesh(vertices.shape=(1021, 3), faces.shape=(2420, 3))>, <trimesh.Trimesh(vertices.shape=(958, 3), faces.shape=(2237, 3))>, <trimesh.Trimesh(vertices.shape=(891, 3), faces.shape=(2072, 3))>, <trimesh.Trimesh(vertices.shape=(825, 3), faces.shape=(1873, 3))>, <trimesh.Trimesh(vertices.shape=(793, 3), faces.shape=(1786, 3))>, <trimesh.Trimesh(vertices.shape=(758, 3), faces.shape=(1696, 3))>, <trimesh.Trimesh(vertices.shape=(735, 3), faces.shape=(1674, 3))>, <trimesh.Trimesh(vertices.shape=(719, 3), faces.shape=(1637, 3))>, <trimesh.Trimesh(vertices.shape=(680, 3), faces.shape=(1528, 3))>, <trimesh.Trimesh(vertices.shape=(670, 3), faces.shape=(1532, 3))>, <trimesh.Trimesh(vertices.shape=(631, 3), faces.shape=(1408, 3))>, <trimesh.Trimesh(vertices.shape=(540, 3), faces.shape=(1246, 3))>, <trimesh.Trimesh(vertices.shape=(534, 3), faces.shape=(1236, 3))>]\n",
      "\n",
      "\n",
      "Original Mesh size: 152455, Final mesh size: 99976\n",
      "Total time = 12.039433240890503\n",
      "xvfb-run -n 6615 -s \"-screen 0 800x600x24\" meshlabserver $@  -i /neurd_packages/NEURD/Applications/autoproof_neuron_pipeline/864691135013273494/neuron_864691135013273494.off -o /neurd_packages/NEURD/Applications/autoproof_neuron_pipeline/864691135013273494/neuron_864691135013273494_decimated.off -s /neurd_packages/NEURD/Applications/autoproof_neuron_pipeline/864691135013273494/decimation_meshlab_25957410.mls\n",
      "Total found significant pieces before Poisson = [<trimesh.Trimesh(vertices.shape=(8823, 3), faces.shape=(16589, 3))>]\n",
      "----- working on large mesh #0: <trimesh.Trimesh(vertices.shape=(8823, 3), faces.shape=(16589, 3))>\n",
      "remove_inside_pieces requested \n",
      "xvfb-run -n 4651 -s \"-screen 0 800x600x24\" meshlabserver $@  -i /neurd_packages/NEURD/Applications/autoproof_neuron_pipeline/temp/neuron_10782.off -o /neurd_packages/NEURD/Applications/autoproof_neuron_pipeline/temp/neuron_10782_remove_interior.off -s /neurd_packages/NEURD/Applications/autoproof_neuron_pipeline/temp/remove_interior_349429.mls\n",
      "removed temporary input file: /neurd_packages/NEURD/Applications/autoproof_neuron_pipeline/temp/neuron_10782.off\n",
      "removed temporary output file: /neurd_packages/NEURD/Applications/autoproof_neuron_pipeline/temp/neuron_10782_remove_interior.off\n",
      "/neurd_packages/NEURD/Applications/autoproof_neuron_pipeline/temp/remove_interior_349429.mls is being deleted....\n",
      "No significant (1000) interior meshes present\n",
      "largest is 109\n",
      "pre_largest_mesh_path = /neurd_packages/NEURD/Applications/autoproof_neuron_pipeline/864691135013273494/neuron_864691135013273494_decimated_largest_piece.off\n",
      "xvfb-run -n 9427 -s \"-screen 0 800x600x24\" meshlabserver $@  -i /neurd_packages/NEURD/Applications/autoproof_neuron_pipeline/864691135013273494/neuron_864691135013273494_decimated_largest_piece.off -o /neurd_packages/NEURD/Applications/autoproof_neuron_pipeline/864691135013273494/neuron_864691135013273494_decimated_largest_piece_poisson.off -s /neurd_packages/NEURD/Applications/autoproof_neuron_pipeline/864691135013273494/poisson_213290.mls\n",
      "Total found significant pieces AFTER Poisson = [<trimesh.Trimesh(vertices.shape=(13392, 3), faces.shape=(26780, 3))>, <trimesh.Trimesh(vertices.shape=(1708, 3), faces.shape=(3412, 3))>, <trimesh.Trimesh(vertices.shape=(1702, 3), faces.shape=(3400, 3))>]\n",
      "----- working on mesh after poisson #0: <trimesh.Trimesh(vertices.shape=(13392, 3), faces.shape=(26780, 3))>\n",
      "xvfb-run -n 8777 -s \"-screen 0 800x600x24\" meshlabserver $@  -i /neurd_packages/NEURD/Applications/autoproof_neuron_pipeline/864691135013273494/neuron_864691135013273494_decimated_largest_piece_poisson_largest_inner.off -o /neurd_packages/NEURD/Applications/autoproof_neuron_pipeline/864691135013273494/neuron_864691135013273494_decimated_largest_piece_poisson_largest_inner_decimated.off -s /neurd_packages/NEURD/Applications/autoproof_neuron_pipeline/864691135013273494/decimation_meshlab_25760152.mls\n",
      "\n",
      "-------Splits after inner decimation len = 1--------\n",
      "\n",
      "done exporting decimated mesh: neuron_864691135013273494_decimated_largest_piece_poisson_largest_inner.off\n",
      "\n",
      "    --- On segmentation loop 0 --\n",
      "largest_mesh_path_inner_decimated_clean = <trimesh.Trimesh(vertices.shape=(3348, 3), faces.shape=(6692, 3))>\n",
      "\n",
      "largest_mesh_path_inner_decimated_clean = <trimesh.Trimesh(vertices.shape=(3348, 3), faces.shape=(6692, 3))>\n",
      "soma_size_threshold = 562.5\n",
      "soma_size_threshold_max = 75000.0\n",
      "soma_width_threshold = 0.32\n",
      "\n",
      "Number of segments: 8\n",
      "\n"
     ]
    },
    {
     "data": {
      "application/vnd.jupyter.widget-view+json": {
       "model_id": "5678b64893ab41d7ac603b7fbba228a3",
       "version_major": 2,
       "version_minor": 0
      },
      "text/plain": [
       "  0%|          | 0/8 [00:00<?, ?it/s]"
      ]
     },
     "metadata": {},
     "output_type": "display_data"
    },
    {
     "name": "stdout",
     "output_type": "stream",
     "text": [
      "      ------ Found 2 viable somas: [0.632821, 0.363938]\n",
      "Using Poisson Surface Reconstruction for watertightness in soma_volume_ratio\n",
      "xvfb-run -n 2981 -s \"-screen 0 800x600x24\" meshlabserver $@  -i /neurd_packages/NEURD/Applications/autoproof_neuron_pipeline/Poisson_temp/neuron_525039.off -o /neurd_packages/NEURD/Applications/autoproof_neuron_pipeline/Poisson_temp/neuron_525039_poisson.off -s /neurd_packages/NEURD/Applications/autoproof_neuron_pipeline/Poisson_temp/poisson_427366.mls\n",
      "removed temporary input file: /neurd_packages/NEURD/Applications/autoproof_neuron_pipeline/Poisson_temp/neuron_525039.off\n",
      "removed temporary output file: /neurd_packages/NEURD/Applications/autoproof_neuron_pipeline/Poisson_temp/neuron_525039_poisson.off\n",
      "mesh.is_watertight = True\n",
      "/neurd_packages/NEURD/Applications/autoproof_neuron_pipeline/Poisson_temp/poisson_427366.mls is being deleted....\n",
      "Inside sphere validater: ratio_val = 3.4675151233272383\n",
      "Using Poisson Surface Reconstruction for watertightness in soma_volume_ratio\n",
      "xvfb-run -n 3431 -s \"-screen 0 800x600x24\" meshlabserver $@  -i /neurd_packages/NEURD/Applications/autoproof_neuron_pipeline/Poisson_temp/neuron_968157.off -o /neurd_packages/NEURD/Applications/autoproof_neuron_pipeline/Poisson_temp/neuron_968157_poisson.off -s /neurd_packages/NEURD/Applications/autoproof_neuron_pipeline/Poisson_temp/poisson_332811.mls\n",
      "removed temporary input file: /neurd_packages/NEURD/Applications/autoproof_neuron_pipeline/Poisson_temp/neuron_968157.off\n",
      "removed temporary output file: /neurd_packages/NEURD/Applications/autoproof_neuron_pipeline/Poisson_temp/neuron_968157_poisson.off\n",
      "mesh.is_watertight = False\n",
      "/neurd_packages/NEURD/Applications/autoproof_neuron_pipeline/Poisson_temp/poisson_332811.mls is being deleted....\n",
      "Inside sphere validater: ratio_val = 2.5703290398392467\n",
      "----- working on mesh after poisson #1: <trimesh.Trimesh(vertices.shape=(1708, 3), faces.shape=(3412, 3))>\n",
      "xvfb-run -n 3255 -s \"-screen 0 800x600x24\" meshlabserver $@  -i /neurd_packages/NEURD/Applications/autoproof_neuron_pipeline/864691135013273494/neuron_864691135013273494_decimated_largest_piece_poisson_largest_inner.off -o /neurd_packages/NEURD/Applications/autoproof_neuron_pipeline/864691135013273494/neuron_864691135013273494_decimated_largest_piece_poisson_largest_inner_decimated.off -s /neurd_packages/NEURD/Applications/autoproof_neuron_pipeline/864691135013273494/decimation_meshlab_25760152.mls\n",
      "\n",
      "-------Splits after inner decimation len = 1--------\n",
      "\n",
      "done exporting decimated mesh: neuron_864691135013273494_decimated_largest_piece_poisson_largest_inner.off\n",
      "\n",
      "    --- On segmentation loop 0 --\n",
      "largest_mesh_path_inner_decimated_clean = <trimesh.Trimesh(vertices.shape=(428, 3), faces.shape=(852, 3))>\n",
      "\n",
      "largest_mesh_path_inner_decimated_clean = <trimesh.Trimesh(vertices.shape=(428, 3), faces.shape=(852, 3))>\n",
      "soma_size_threshold = 562.5\n",
      "soma_size_threshold_max = 75000.0\n",
      "soma_width_threshold = 0.32\n",
      "\n",
      "Number of segments: 1\n",
      "\n"
     ]
    },
    {
     "data": {
      "application/vnd.jupyter.widget-view+json": {
       "model_id": "70a4f955bb4c4d0485cc08ef357b6405",
       "version_major": 2,
       "version_minor": 0
      },
      "text/plain": [
       "  0%|          | 0/1 [00:00<?, ?it/s]"
      ]
     },
     "metadata": {},
     "output_type": "display_data"
    },
    {
     "name": "stdout",
     "output_type": "stream",
     "text": [
      "      ------ Found 1 viable somas: [0.688585]\n",
      "mesh.is_watertight = True\n",
      "/neurd_packages/NEURD/Applications/autoproof_neuron_pipeline/Poisson_temp/poisson_748875.mls is being deleted....\n",
      "Inside sphere validater: ratio_val = 11.206281628502815\n",
      "->Attempting retry of soma because failed first checks: soma_mesh = <trimesh.Trimesh(vertices.shape=(428, 3), faces.shape=(852, 3))>, curr_side_len_check = True, curr_volume_check = False\n",
      "perc_0_faces = 0.0\n",
      "Going to run cgal segmentation with:\n",
      "File: /neurd_packages/NEURD/Applications/autoproof_neuron_pipeline/153_mesh \n",
      "clusters:3 \n",
      "smoothness:0.2\n",
      "\n",
      "Number of segments: 1\n",
      "\n"
     ]
    },
    {
     "data": {
      "application/vnd.jupyter.widget-view+json": {
       "model_id": "8bc8654ac5a445fbbb87f0961c8ccee6",
       "version_major": 2,
       "version_minor": 0
      },
      "text/plain": [
       "  0%|          | 0/1 [00:00<?, ?it/s]"
      ]
     },
     "metadata": {},
     "output_type": "display_data"
    },
    {
     "name": "stdout",
     "output_type": "stream",
     "text": [
      "mesh.is_watertight = True\n",
      "/neurd_packages/NEURD/Applications/autoproof_neuron_pipeline/Poisson_temp/poisson_580741.mls is being deleted....\n",
      "Inside sphere validater: ratio_val = 11.206281628502815\n",
      "--->This soma mesh was not added because failed retry of sphere validation:\n",
      " soma_mesh = <trimesh.Trimesh(vertices.shape=(428, 3), faces.shape=(852, 3))>, curr_side_len_check = True, curr_volume_check = False\n",
      "----- working on mesh after poisson #2: <trimesh.Trimesh(vertices.shape=(1702, 3), faces.shape=(3400, 3))>\n",
      "xvfb-run -n 9836 -s \"-screen 0 800x600x24\" meshlabserver $@  -i /neurd_packages/NEURD/Applications/autoproof_neuron_pipeline/864691135013273494/neuron_864691135013273494_decimated_largest_piece_poisson_largest_inner.off -o /neurd_packages/NEURD/Applications/autoproof_neuron_pipeline/864691135013273494/neuron_864691135013273494_decimated_largest_piece_poisson_largest_inner_decimated.off -s /neurd_packages/NEURD/Applications/autoproof_neuron_pipeline/864691135013273494/decimation_meshlab_25760152.mls\n",
      "\n",
      "-------Splits after inner decimation len = 1--------\n",
      "\n",
      "done exporting decimated mesh: neuron_864691135013273494_decimated_largest_piece_poisson_largest_inner.off\n",
      "\n",
      "    --- On segmentation loop 0 --\n",
      "largest_mesh_path_inner_decimated_clean = <trimesh.Trimesh(vertices.shape=(427, 3), faces.shape=(850, 3))>\n",
      "\n",
      "largest_mesh_path_inner_decimated_clean = <trimesh.Trimesh(vertices.shape=(427, 3), faces.shape=(850, 3))>\n",
      "soma_size_threshold = 562.5\n",
      "soma_size_threshold_max = 75000.0\n",
      "soma_width_threshold = 0.32\n",
      "\n",
      "Number of segments: 2\n",
      "\n"
     ]
    },
    {
     "data": {
      "application/vnd.jupyter.widget-view+json": {
       "model_id": "06574110cb7f4e888ae89bb92a552a87",
       "version_major": 2,
       "version_minor": 0
      },
      "text/plain": [
       "  0%|          | 0/2 [00:00<?, ?it/s]"
      ]
     },
     "metadata": {},
     "output_type": "display_data"
    },
    {
     "name": "stdout",
     "output_type": "stream",
     "text": [
      "      ------ Found 1 viable somas: [0.480193]\n",
      "mesh.is_watertight = True\n",
      "/neurd_packages/NEURD/Applications/autoproof_neuron_pipeline/Poisson_temp/poisson_792272.mls is being deleted....\n",
      "Inside sphere validater: ratio_val = 142.79818641211224\n",
      "->Attempting retry of soma because failed first checks: soma_mesh = <trimesh.Trimesh(vertices.shape=(361, 3), faces.shape=(717, 3))>, curr_side_len_check = True, curr_volume_check = False\n",
      "perc_0_faces = 0.0\n",
      "Going to run cgal segmentation with:\n",
      "File: /neurd_packages/NEURD/Applications/autoproof_neuron_pipeline/129_mesh \n",
      "clusters:3 \n",
      "smoothness:0.2\n",
      "\n",
      "Number of segments: 1\n",
      "\n"
     ]
    },
    {
     "data": {
      "application/vnd.jupyter.widget-view+json": {
       "model_id": "db5a4212403b4281a6376b6c3b433b63",
       "version_major": 2,
       "version_minor": 0
      },
      "text/plain": [
       "  0%|          | 0/1 [00:00<?, ?it/s]"
      ]
     },
     "metadata": {},
     "output_type": "display_data"
    },
    {
     "name": "stdout",
     "output_type": "stream",
     "text": [
      "mesh.is_watertight = True\n",
      "/neurd_packages/NEURD/Applications/autoproof_neuron_pipeline/Poisson_temp/poisson_709932.mls is being deleted....\n",
      "Inside sphere validater: ratio_val = 142.79818641211224\n",
      "--->This soma mesh was not added because failed retry of sphere validation:\n",
      " soma_mesh = <trimesh.Trimesh(vertices.shape=(361, 3), faces.shape=(717, 3))>, curr_side_len_check = True, curr_volume_check = False\n",
      "\n",
      "\n",
      "\n",
      " Total time for run = 46.23249316215515\n",
      "Before Filtering the number of somas found = 2\n",
      "\n",
      "---Performing Soma Mesh Backtracking to original mesh for poisson soma 0\n",
      "backtrack_soma_size_threshold = 8000\n",
      "xvfb-run -n 4894 -s \"-screen 0 800x600x24\" meshlabserver $@  -i /neurd_packages/NEURD/Applications/autoproof_neuron_pipeline/temp/neuron_25510.off -o /neurd_packages/NEURD/Applications/autoproof_neuron_pipeline/temp/neuron_25510_fill_holes.off -s /neurd_packages/NEURD/Applications/autoproof_neuron_pipeline/temp/fill_holes_666555.mls\n",
      "removed temporary input file: /neurd_packages/NEURD/Applications/autoproof_neuron_pipeline/temp/neuron_25510.off\n",
      "removed temporary output file: /neurd_packages/NEURD/Applications/autoproof_neuron_pipeline/temp/neuron_25510_fill_holes.off\n",
      "/neurd_packages/NEURD/Applications/autoproof_neuron_pipeline/temp/fill_holes_666555.mls is being deleted....\n",
      "xvfb-run -n 9701 -s \"-screen 0 800x600x24\" meshlabserver $@  -i /neurd_packages/NEURD/Applications/autoproof_neuron_pipeline/temp/neuron_86132.off -o /neurd_packages/NEURD/Applications/autoproof_neuron_pipeline/temp/neuron_86132_remove_interior.off -s /neurd_packages/NEURD/Applications/autoproof_neuron_pipeline/temp/remove_interior_628742.mls\n",
      "removed temporary input file: /neurd_packages/NEURD/Applications/autoproof_neuron_pipeline/temp/neuron_86132.off\n",
      "removed temporary output file: /neurd_packages/NEURD/Applications/autoproof_neuron_pipeline/temp/neuron_86132_remove_interior.off\n",
      "/neurd_packages/NEURD/Applications/autoproof_neuron_pipeline/temp/remove_interior_628742.mls is being deleted....\n",
      "Removing the following inside neurons: [<trimesh.Trimesh(vertices.shape=(707, 3), faces.shape=(1492, 3))>, <trimesh.Trimesh(vertices.shape=(279, 3), faces.shape=(407, 3))>, <trimesh.Trimesh(vertices.shape=(246, 3), faces.shape=(426, 3))>, <trimesh.Trimesh(vertices.shape=(202, 3), faces.shape=(303, 3))>, <trimesh.Trimesh(vertices.shape=(158, 3), faces.shape=(310, 3))>]\n",
      "split_meshes_after_backtrack = [<trimesh.Trimesh(vertices.shape=(12799, 3), faces.shape=(24501, 3))>]\n",
      "soma_size_threshold = 8000\n",
      "After backtrack the found 1 possible somas: [<trimesh.Trimesh(vertices.shape=(12799, 3), faces.shape=(24501, 3))>] \n",
      "\n",
      "--- working on backtrack soma 0: <trimesh.Trimesh(vertices.shape=(12799, 3), faces.shape=(24501, 3))>\n",
      "poisson_backtrack_distance_threshold = None\n",
      "Using Poisson Surface Reconstruction for watertightness in soma_volume_ratio\n",
      "xvfb-run -n 3080 -s \"-screen 0 800x600x24\" meshlabserver $@  -i /neurd_packages/NEURD/Applications/autoproof_neuron_pipeline/Poisson_temp/neuron_194774.off -o /neurd_packages/NEURD/Applications/autoproof_neuron_pipeline/Poisson_temp/neuron_194774_poisson.off -s /neurd_packages/NEURD/Applications/autoproof_neuron_pipeline/Poisson_temp/poisson_136129.mls\n",
      "removed temporary input file: /neurd_packages/NEURD/Applications/autoproof_neuron_pipeline/Poisson_temp/neuron_194774.off\n",
      "removed temporary output file: /neurd_packages/NEURD/Applications/autoproof_neuron_pipeline/Poisson_temp/neuron_194774_poisson.off\n",
      "mesh.is_watertight = True\n",
      "/neurd_packages/NEURD/Applications/autoproof_neuron_pipeline/Poisson_temp/poisson_136129.mls is being deleted....\n",
      "Inside sphere validater: ratio_val = 5.492574913088992\n",
      "About to add the following inside nuclei pieces after soma backtrack: [<trimesh.Trimesh(vertices.shape=(9077, 3), faces.shape=(19642, 3))>, <trimesh.Trimesh(vertices.shape=(1472, 3), faces.shape=(3430, 3))>, <trimesh.Trimesh(vertices.shape=(1239, 3), faces.shape=(2950, 3))>, <trimesh.Trimesh(vertices.shape=(1091, 3), faces.shape=(1769, 3))>, <trimesh.Trimesh(vertices.shape=(1036, 3), faces.shape=(2343, 3))>, <trimesh.Trimesh(vertices.shape=(1021, 3), faces.shape=(2420, 3))>, <trimesh.Trimesh(vertices.shape=(958, 3), faces.shape=(2237, 3))>, <trimesh.Trimesh(vertices.shape=(891, 3), faces.shape=(2072, 3))>, <trimesh.Trimesh(vertices.shape=(825, 3), faces.shape=(1873, 3))>, <trimesh.Trimesh(vertices.shape=(793, 3), faces.shape=(1786, 3))>, <trimesh.Trimesh(vertices.shape=(758, 3), faces.shape=(1696, 3))>, <trimesh.Trimesh(vertices.shape=(735, 3), faces.shape=(1674, 3))>, <trimesh.Trimesh(vertices.shape=(719, 3), faces.shape=(1637, 3))>, <trimesh.Trimesh(vertices.shape=(680, 3), faces.shape=(1528, 3))>, <trimesh.Trimesh(vertices.shape=(670, 3), faces.shape=(1532, 3))>, <trimesh.Trimesh(vertices.shape=(631, 3), faces.shape=(1408, 3))>, <trimesh.Trimesh(vertices.shape=(540, 3), faces.shape=(1246, 3))>, <trimesh.Trimesh(vertices.shape=(534, 3), faces.shape=(1236, 3))>]\n",
      "\n",
      "---Performing Soma Mesh Backtracking to original mesh for poisson soma 1\n",
      "backtrack_soma_size_threshold = 8000\n",
      "xvfb-run -n 5661 -s \"-screen 0 800x600x24\" meshlabserver $@  -i /neurd_packages/NEURD/Applications/autoproof_neuron_pipeline/temp/neuron_13524.off -o /neurd_packages/NEURD/Applications/autoproof_neuron_pipeline/temp/neuron_13524_fill_holes.off -s /neurd_packages/NEURD/Applications/autoproof_neuron_pipeline/temp/fill_holes_271537.mls\n",
      "removed temporary input file: /neurd_packages/NEURD/Applications/autoproof_neuron_pipeline/temp/neuron_13524.off\n",
      "removed temporary output file: /neurd_packages/NEURD/Applications/autoproof_neuron_pipeline/temp/neuron_13524_fill_holes.off\n",
      "/neurd_packages/NEURD/Applications/autoproof_neuron_pipeline/temp/fill_holes_271537.mls is being deleted....\n",
      "xvfb-run -n 9595 -s \"-screen 0 800x600x24\" meshlabserver $@  -i /neurd_packages/NEURD/Applications/autoproof_neuron_pipeline/temp/neuron_94055.off -o /neurd_packages/NEURD/Applications/autoproof_neuron_pipeline/temp/neuron_94055_remove_interior.off -s /neurd_packages/NEURD/Applications/autoproof_neuron_pipeline/temp/remove_interior_84213.mls\n",
      "removed temporary input file: /neurd_packages/NEURD/Applications/autoproof_neuron_pipeline/temp/neuron_94055.off\n",
      "removed temporary output file: /neurd_packages/NEURD/Applications/autoproof_neuron_pipeline/temp/neuron_94055_remove_interior.off\n",
      "/neurd_packages/NEURD/Applications/autoproof_neuron_pipeline/temp/remove_interior_84213.mls is being deleted....\n",
      "No significant (300) interior meshes present\n",
      "largest is 215\n",
      "split_meshes_after_backtrack = [<trimesh.Trimesh(vertices.shape=(3162, 3), faces.shape=(6101, 3))>]\n",
      "soma_size_threshold = 8000\n",
      "After backtrack the found 0 possible somas: [] \n",
      "Skipping the segmentatio filter at end\n",
      "removing mesh interior before segmentation\n",
      "xvfb-run -n 931 -s \"-screen 0 800x600x24\" meshlabserver $@  -i /neurd_packages/NEURD/Applications/autoproof_neuron_pipeline/temp/neuron_82510.off -o /neurd_packages/NEURD/Applications/autoproof_neuron_pipeline/temp/neuron_82510_fill_holes.off -s /neurd_packages/NEURD/Applications/autoproof_neuron_pipeline/temp/fill_holes_118731.mls\n",
      "removed temporary input file: /neurd_packages/NEURD/Applications/autoproof_neuron_pipeline/temp/neuron_82510.off\n",
      "removed temporary output file: /neurd_packages/NEURD/Applications/autoproof_neuron_pipeline/temp/neuron_82510_fill_holes.off\n",
      "/neurd_packages/NEURD/Applications/autoproof_neuron_pipeline/temp/fill_holes_118731.mls is being deleted....\n",
      "xvfb-run -n 9270 -s \"-screen 0 800x600x24\" meshlabserver $@  -i /neurd_packages/NEURD/Applications/autoproof_neuron_pipeline/temp/neuron_99639.off -o /neurd_packages/NEURD/Applications/autoproof_neuron_pipeline/temp/neuron_99639_remove_interior.off -s /neurd_packages/NEURD/Applications/autoproof_neuron_pipeline/temp/remove_interior_965232.mls\n",
      "removed temporary input file: /neurd_packages/NEURD/Applications/autoproof_neuron_pipeline/temp/neuron_99639.off\n",
      "removed temporary output file: /neurd_packages/NEURD/Applications/autoproof_neuron_pipeline/temp/neuron_99639_remove_interior.off\n",
      "/neurd_packages/NEURD/Applications/autoproof_neuron_pipeline/temp/remove_interior_965232.mls is being deleted....\n",
      "No significant (1000) interior meshes present\n",
      "largest is 424\n",
      "Doing the soma segmentation filter at end\n"
     ]
    },
    {
     "name": "stdout",
     "output_type": "stream",
     "text": [
      "\n",
      "Number of segments: 12\n",
      "\n"
     ]
    },
    {
     "data": {
      "application/vnd.jupyter.widget-view+json": {
       "model_id": "108bf68d76bd4e4d99b085d5f1929e63",
       "version_major": 2,
       "version_minor": 0
      },
      "text/plain": [
       "  0%|          | 0/12 [00:00<?, ?it/s]"
      ]
     },
     "metadata": {},
     "output_type": "display_data"
    },
    {
     "name": "stdout",
     "output_type": "stream",
     "text": [
      "Largest hole before segmentation = 1834119.1142406375, after = 1873263.6015383773,\n",
      "\n",
      "ratio = 1.0213423910114727, difference = 39144.48729773983\n",
      "filtered_soma_list_components = [<trimesh.Trimesh(vertices.shape=(12799, 3), faces.shape=(24501, 3))>]\n",
      "Not need to do a second pass because already found a soma\n"
     ]
    }
   ],
   "source": [
    "(total_soma_list, \n",
    " run_time, \n",
    " total_soma_list_sdf,\n",
    " glia_pieces,\n",
    " nuclei_pieces) = sm.extract_soma_center(\n",
    "    segment_id,\n",
    "    mesh = mesh_dec,\n",
    "    return_glia_nuclei_pieces=True,\n",
    "    verbose = True,\n",
    ")"
   ]
  },
  {
   "cell_type": "code",
   "execution_count": 24,
   "id": "7345f63e",
   "metadata": {},
   "outputs": [
    {
     "name": "stdout",
     "output_type": "stream",
     "text": [
      "# of somas = 1\n",
      "# of glia = 0\n",
      "# of nuclei = 23\n"
     ]
    },
    {
     "data": {
      "application/vnd.jupyter.widget-view+json": {
       "model_id": "a74fd04a645c42b2a1f60399ce62eab0",
       "version_major": 2,
       "version_minor": 0
      },
      "text/plain": [
       "Container(figure=Figure(box_center=[0.5, 0.5, 0.5], box_size=[1.0, 1.0, 1.0], camera=PerspectiveCamera(fov=45.…"
      ]
     },
     "metadata": {},
     "output_type": "display_data"
    }
   ],
   "source": [
    "from neurd import neuron_visualizations as nviz\n",
    "nviz.plot_soma_extraction_meshes(\n",
    "    mesh_dec,\n",
    "    total_soma_list,\n",
    "    glia_pieces,\n",
    "    nuclei_pieces,\n",
    "    verbose = True,\n",
    ")"
   ]
  },
  {
   "cell_type": "markdown",
   "id": "e2871c1c",
   "metadata": {},
   "source": [
    "# Step 3: Decomposition"
   ]
  },
  {
   "cell_type": "code",
   "execution_count": 25,
   "id": "a2250117",
   "metadata": {},
   "outputs": [],
   "source": [
    "from neurd import neuron"
   ]
  },
  {
   "cell_type": "code",
   "execution_count": 26,
   "id": "163afe28",
   "metadata": {},
   "outputs": [],
   "source": [
    "#/mnt/lab/users/celiib/neurd_packages/neuron_mesh_tools/Auto_Proofreading/Minnie65_Pipeline/Auto_Proof/m65_autoproof_4_Decomposition_full_v1.ipynb"
   ]
  },
  {
   "cell_type": "code",
   "execution_count": 27,
   "id": "4b7c6c35",
   "metadata": {},
   "outputs": [],
   "source": [
    "neurd.set_volume_params(\n",
    "    volume = \"microns\"\n",
    ")"
   ]
  },
  {
   "cell_type": "code",
   "execution_count": 28,
   "id": "4cfddc4e",
   "metadata": {},
   "outputs": [],
   "source": [
    "somas = [\n",
    " total_soma_list, \n",
    " run_time, \n",
    " total_soma_list_sdf,\n",
    "]"
   ]
  },
  {
   "cell_type": "code",
   "execution_count": 31,
   "id": "f1d54153",
   "metadata": {},
   "outputs": [
    {
     "name": "stdout",
     "output_type": "stream",
     "text": [
      "picking a random 7 digit segment id: 49321159\n",
      "--- 0) Having to preprocess the Neuron becuase no preprocessed data\n",
      "Please wait this could take a while.....\n",
      "Skipping the hole filling\n",
      "limb_remove_mesh_interior_face_threshold = 0\n",
      "use_meshafterparty = True\n",
      "Using pre-computed somas: soma_mesh_list = [<trimesh.Trimesh(vertices.shape=(12799, 3), faces.shape=(24501, 3))>]\n",
      "Soma List = [<trimesh.Trimesh(vertices.shape=(12799, 3), faces.shape=(24501, 3))>]\n",
      "soma_mesh_list_centers = [array([288197.93538558, 497611.04869912, 806237.87601375])]\n",
      "Getting Glia and Nuclei Pieces Subtracted Away 0.07191872596740723\n",
      " Splitting mesh after soma cancellation 0.9231059551239014\n",
      "# of split_meshes = 5\n",
      " Containing Mesh Indices 0.00462794303894043\n",
      "containing_mesh_indices = {0: 0}\n",
      " non_soma_touching_meshes 1.1682510375976562e-05\n",
      "There were 4 pieces found after size threshold\n",
      " Finding inside pieces and non_soma_touching meshes 0.03176569938659668\n",
      "soma_containing_meshes = {0: [0]}\n",
      "\n",
      "-----Before combining multiple mesh pieces-----\n",
      "soma_containing_meshes = {0: [0]}\n",
      "\n",
      "-----After combining multiple mesh pieces-----\n",
      "soma_containing_meshes = {0: [0]}\n",
      "\n",
      "\n",
      "----Working on soma-containing mesh piece 0----\n",
      "Total time for Subtract Soma and Original_mesh_faces_map for somas= 0.10619187355041504\n",
      "new_floating_pieces = []\n",
      "Total time for sig_non_soma_pieces= 0.286243200302124\n",
      "Not applying expansions\n",
      "Total time for split= 3.337860107421875e-06\n",
      "Total time for mesh_pieces_connectivity= 0.2840914726257324\n",
      "# of insignificant_limbs = 4 with trimesh : [<trimesh.Trimesh(vertices.shape=(866, 3), faces.shape=(1705, 3))>, <trimesh.Trimesh(vertices.shape=(420, 3), faces.shape=(824, 3))>, <trimesh.Trimesh(vertices.shape=(380, 3), faces.shape=(729, 3))>, <trimesh.Trimesh(vertices.shape=(152, 3), faces.shape=(299, 3))>]\n",
      "# of not_processed_soma_containing_meshes = 0 with trimesh : []\n",
      "\n",
      "\n",
      "----- Working on Proper Limb # 0 ---------\n",
      "meshparty_segment_size = 100\n",
      "invalidation_d = 12000\n",
      "use_adaptive_invalidation_d= False\n",
      "axon_width_preprocess_limb_max = 200\n",
      "filter_end_node_length= 4000\n",
      "filter_end_node_length_meshparty = 4000\n",
      "invalidation_d = 12000\n",
      "root_curr = [281765.6 495343.5 802504.8]\n",
      "Time for preparing soma vertices and root: 0.00037169456481933594\n",
      "invalidation_d = 12000\n",
      "smooth_neighborhood = 1\n",
      "cc_vertex_thresh = 10\n"
     ]
    },
    {
     "name": "stderr",
     "output_type": "stream",
     "text": [
      "100%|██████████| 1/1 [00:00<00:00, 11.58it/s]\n"
     ]
    },
    {
     "name": "stdout",
     "output_type": "stream",
     "text": [
      "meshparty_segment_size = 100\n",
      "Time for 1st pass MP skeletonization: 0.28352808952331543\n",
      "connecting at the root\n",
      "branches_touching_root = [4]\n",
      "combining close nodes\n",
      "combine_threshold = 700\n",
      "length of Graph = 1527\n",
      "After combining close endpoints max(kept_branches_idx) = 4, len(kept_branches_idx) = 5\n",
      "empty_indices % = 0.0\n",
      " conflict_indices % = 0.007973399382485665\n",
      "AFTER face_lookup_resolved_test\n",
      "Decomposing first pass: 1.309159755706787\n",
      "Attempting to use MeshAfterParty Skeletonization and Mesh Correspondence\n",
      "Another print\n",
      "Found len(mesh_large_idx) MAP candidates: [10714, 2508, 3645]\n",
      "mesh_large_connectivity: 0.007458686828613281\n",
      "Finding MAP candidates connected components: 7.43865966796875e-05\n",
      "len(filtered_pieces) = 1\n",
      "skeleton_connectivity_MP : 0.02018880844116211\n",
      "Grouping MP Sublimbs by Graph: 0.00784444808959961\n",
      "Divinding into MP and MAP pieces: 4.76837158203125e-07\n",
      "--- Working on MAP piece 0---\n",
      "MAP Filtering Soma Pieces: 0.014589309692382812\n",
      "inside skeletonize_connected_branch and use_surface_after_CGAL=True, surface_reconstruction_size=1000\n",
      "keep_idx = [0]\n",
      "     Starting Screened Poisson\n",
      "xvfb-run -n 6927 -s \"-screen 0 800x600x24\" meshlabserver $@  -i /neurd_packages/NEURD/Applications/autoproof_neuron_pipeline/temp/None.off -o /neurd_packages/NEURD/Applications/autoproof_neuron_pipeline/temp/None_poisson.off -s /neurd_packages/NEURD/Applications/autoproof_neuron_pipeline/temp/poisson_577819.mls\n",
      "removed temporary input file: /neurd_packages/NEURD/Applications/autoproof_neuron_pipeline/temp/None.off\n",
      "removed temporary output file: /neurd_packages/NEURD/Applications/autoproof_neuron_pipeline/temp/None_poisson.off\n",
      "Using the close holes feature\n",
      "xvfb-run -n 6886 -s \"-screen 0 800x600x24\" meshlabserver $@  -i /neurd_packages/NEURD/Applications/autoproof_neuron_pipeline/temp/neuron_6292.off -o /neurd_packages/NEURD/Applications/autoproof_neuron_pipeline/temp/neuron_6292_fill_holes.off -s /neurd_packages/NEURD/Applications/autoproof_neuron_pipeline/temp/fill_holes_807127.mls\n",
      "removed temporary input file: /neurd_packages/NEURD/Applications/autoproof_neuron_pipeline/temp/neuron_6292.off\n",
      "removed temporary output file: /neurd_packages/NEURD/Applications/autoproof_neuron_pipeline/temp/neuron_6292_fill_holes.off\n",
      "/neurd_packages/NEURD/Applications/autoproof_neuron_pipeline/temp/fill_holes_807127.mls is being deleted....\n",
      "-----Time for Screened Poisson= 10.456012487411499\n",
      "mesh_pieces = [<trimesh.Trimesh(vertices.shape=(20242, 3), faces.shape=(40480, 3))>, <trimesh.Trimesh(vertices.shape=(4261, 3), faces.shape=(8518, 3))>]\n",
      "     Starting Calcification (Changed back where stitches large poissons)\n",
      "Manifold status before skeletonization = True\n",
      "Watertight status before skeletonization = True\n",
      "min_edge_length = 75\n",
      "Manifold status before skeletonization = True\n",
      "Watertight status before skeletonization = True\n",
      "min_edge_length = 75\n",
      "Before mesh subtraction number of skeleton edges = 699\n",
      "len(leftover_meshes_sig) = []\n",
      "No skeletons to stack so returning empty list\n",
      "STacking the leftover and significant poisson skeleton\n",
      "max_stitch_distance = 5000\n",
      "len_subgraphs AT BEGINNING of the loop\n",
      "all graph is one component!\n",
      "Total time for skeleton stitching = 0.024545907974243164\n",
      "The process was using a temp folder\n",
      "Checking connected components after skeletonize_connected_branch\n",
      "    Total time for skeletonizing branch: 13.605372905731201\n",
      "Checking connected components after removing cycles\n",
      "Total time for mesh KDTree = 0.1241462230682373\n",
      "sbv[0].reshape(-1,3) = [[281765.6 495343.5 802504.8]]\n",
      "closest_sk_pt_coord BEFORE = [283983. 493064. 803193.]\n",
      "current_skeleton.shape = (699, 2, 3)\n",
      "node_for_stitch = 84: [283983. 493064. 803193.]\n",
      "node_for_stitch AFTER = 84: [283983. 493064. 803193.]\n",
      "possible_node_loc = [  0  70 176 307 510 518 527 544 619 632]\n",
      "possible_node_loc AFTER = [  0  70 176 307 510 518 527 544 619 632]\n",
      "curr_shortest_path = [84, 82.0, 80.0, 78.0, 76.0, 75.0, 74.0, 73.0, 71.0, 70]\n",
      "Current stitch point was not a branch or endpoint, shortest_path_length to one = 1407.1280481321487\n",
      "Changing the stitch point becasue the distance to end or branch node was 1407.1280481321487\n",
      "New stitch point has degree 1\n",
      "change_status for create soma extending pieces = True\n",
      "closest_sk_pt_coord AFTER = [283305. 494151. 802612.]\n",
      "skipping soma 0 because closest skeleton node was already end node\n",
      "endpoints_must_keep = {0: array([[283305., 494151., 802612.]])}\n",
      "    Total time for Fixing Skeleton Soma Endpoint Extension : 0.2662644386291504\n",
      "filter_end_node_length = 4000\n",
      "Using Distance measure skeletal_distance\n",
      "endpoints_must_keep = [[283305. 494151. 802612.]]\n",
      "Number of end_nodes BEFORE filtering = 10\n",
      "all_single_nodes_to_eliminate = [1]\n",
      "Checking connected components after clean_skeleton\n",
      "after DISTANCE cleaning limb size of skeleton = (671, 2, 3)\n",
      "********COMBINING CLOSE SKELETON NODES WITHIN 700 DISTANCE**********\n",
      "combine_threshold = 700\n",
      "Found 0 valid paths to replace\n",
      "valid_paths = []\n",
      "valid_path_lengths = []\n",
      "No valid paths found so just returning the original\n",
      "skeletonize_and_clean_connected_branch_CGAL: 14.791116714477539\n",
      "Working on limb correspondence for #0 MAP piece\n",
      "xvfb-run -n 2251 -s \"-screen 0 800x600x24\" meshlabserver $@  -i /neurd_packages/NEURD/Applications/autoproof_neuron_pipeline/temp/neuron_18159.off -o /neurd_packages/NEURD/Applications/autoproof_neuron_pipeline/temp/neuron_18159_remove_interior.off -s /neurd_packages/NEURD/Applications/autoproof_neuron_pipeline/temp/remove_interior_94518.mls\n",
      "removed temporary input file: /neurd_packages/NEURD/Applications/autoproof_neuron_pipeline/temp/neuron_18159.off\n",
      "removed temporary output file: /neurd_packages/NEURD/Applications/autoproof_neuron_pipeline/temp/neuron_18159_remove_interior.off\n",
      "/neurd_packages/NEURD/Applications/autoproof_neuron_pipeline/temp/remove_interior_94518.mls is being deleted....\n",
      "No significant (100) interior meshes present\n",
      "largest is 87\n",
      "Total time for decomposition = 2.698065757751465\n",
      "mesh_correspondence_first_pass: 2.698166847229004\n",
      "Limb decomposed into 7 branches\n",
      "divided_skeleton_graph_recovered = (671, 2, 3) and \n",
      "current_mesh_data[0]['branch_skeletons_cleaned'].shape = (671, 2, 3)\n",
      "\n",
      "Number of connected components in deocmposed recovered graph = 1\n",
      "Number of connected components in cleaned skeleton graph= 1\n",
      "The downsampled branches number of connected components = 1\n",
      "Empty submeshes = []\n",
      "\n",
      "\n",
      "--- Working on 1-to-1 correspondence-----\n",
      "max(original_labels),len(original_labels) = (6, 7)\n",
      "empty_indices % = 0.1819529258315053\n",
      " conflict_indices % = 0.021343451710440504\n",
      "AFTER face_lookup_resolved_test\n",
      "Took 0 iterations to expand the label back\n",
      "empty_indices % = 0.0\n",
      " conflict_indices % = 0.0\n",
      "AFTER face_lookup_resolved_test\n",
      "Total time for MAP sublimb #0 mesh processing = 18.284152269363403\n",
      "correspondence_1_to_1: 0.7802102565765381\n",
      "Total time for MAP sublimb processing 18.284201622009277\n",
      "---- Working on MP Decomposition #0 ----\n",
      "Computing the current soma touching verts dict manually\n",
      "MP filtering soma verts: 0.010349035263061523\n",
      "Do Not Need to Fix MP Decomposition 0 so just continuing\n",
      "Successful mesh connectivity with type edges\n",
      "\n",
      "---- Working on (0, 0) connection-----\n",
      "sk_conn = [0, 1]\n",
      "conn = [0, 1]\n",
      "winning_vertex = [275877.67053341 478734.68395841 798829.74969882]\n",
      "MP_branches_with_stitch_point = [0, 1]\n",
      "MAP_branches_with_stitch_point = [0]\n",
      "MAP_stitch_point_on_end_or_branch = True\n",
      "\n",
      "\n",
      "--- Working on 1-to-1 correspondence-----\n",
      "max(original_labels),len(original_labels) = (2, 3)\n",
      "empty_indices % = 0.46383375516184894\n",
      " conflict_indices % = 0.005727987211935527\n",
      "AFTER face_lookup_resolved_test\n",
      "MP_branches_with_stitch_point= [0, 1]\n",
      "MP_branches_for_correspondence = [0 1]\n",
      "MP_leftover = [], MP_leftover_idx = []\n",
      " Finished with (0, 0) \n",
      "\n",
      "\n",
      "\n",
      "Time for decomp of Limb = 22.969404935836792\n",
      "Number of matching vertices = 122\n",
      "Only one endpoint after filtering away the endpoints that are not on the skeleton\n",
      "Using Distance measure skeletal_distance\n",
      "endpoints_must_keep = [[283305. 494151. 802612.]]\n",
      "Number of end_nodes BEFORE filtering = 6\n",
      "all_single_nodes_to_eliminate = [1]\n",
      "no small end nodes to get rid of so returning whole skeleton\n",
      "Removed 0 skeletal branches\n",
      "29472 29473\n",
      "For marked faces: None\n",
      "empty_indices % = 0.0\n",
      " conflict_indices % = 0.0\n",
      "AFTER face_lookup_resolved_test\n",
      "Successful Limb Decomposition\n",
      "\n",
      "\n",
      "----- Working on Proper Limb # 1 ---------\n",
      "meshparty_segment_size = 100\n",
      "invalidation_d = 12000\n",
      "use_adaptive_invalidation_d= False\n",
      "axon_width_preprocess_limb_max = 200\n",
      "filter_end_node_length= 4000\n",
      "filter_end_node_length_meshparty = 4000\n",
      "invalidation_d = 12000\n",
      "root_curr = [293434.4 502016.3 808256. ]\n",
      "Time for preparing soma vertices and root: 0.00019097328186035156\n",
      "invalidation_d = 12000\n",
      "smooth_neighborhood = 1\n",
      "cc_vertex_thresh = 10\n"
     ]
    },
    {
     "name": "stderr",
     "output_type": "stream",
     "text": [
      "100%|██████████| 1/1 [00:00<00:00, 29.10it/s]"
     ]
    },
    {
     "name": "stdout",
     "output_type": "stream",
     "text": [
      "meshparty_segment_size = 100\n",
      "Time for 1st pass MP skeletonization: 0.17055463790893555\n",
      "branches_touching_root = [1]\n"
     ]
    },
    {
     "name": "stderr",
     "output_type": "stream",
     "text": [
      "\n"
     ]
    },
    {
     "name": "stdout",
     "output_type": "stream",
     "text": [
      "combining close nodes\n",
      "combine_threshold = 700\n",
      "length of Graph = 1169\n",
      "After combining close endpoints max(kept_branches_idx) = 2, len(kept_branches_idx) = 3\n",
      "empty_indices % = 0.0\n",
      " conflict_indices % = 0.003143418467583497\n",
      "AFTER face_lookup_resolved_test\n",
      "Decomposing first pass: 0.48873472213745117\n",
      "Attempting to use MeshAfterParty Skeletonization and Mesh Correspondence\n",
      "Another print\n",
      "Divinding into MP and MAP pieces: 3.218650817871094e-05\n",
      "Total time for MAP sublimb processing 2.86102294921875e-06\n",
      "---- Working on MP Decomposition #0 ----\n",
      "Using Quicker soma_to_piece_touching_vertices because no MAP and only one sublimb_mesh piece \n",
      "MP filtering soma verts: 1.4781951904296875e-05\n",
      "Fixing Possible Soma Extension Branch for Sublimb 0\n",
      "Total time for mesh KDTree = 0.05067586898803711\n",
      "sbv[0].reshape(-1,3) = [[293434.4 502016.3 808256. ]]\n",
      "closest_sk_pt_coord BEFORE = [293821.09311835 502292.95669195 808128.47966781]\n",
      "current_skeleton.shape = (769, 2, 3)\n",
      "node_for_stitch = 0: [293821.09311835 502292.95669195 808128.47966781]\n",
      "node_for_stitch AFTER = 0: [293821.09311835 502292.95669195 808128.47966781]\n",
      "possible_node_loc = [  0 545]\n",
      "possible_node_loc AFTER = [  0 545]\n",
      "curr_shortest_path = [0]\n",
      "Current stitch point was a branch or endpoint\n",
      "change_status for create soma extending pieces = False\n",
      "closest_sk_pt_coord AFTER = [293821.09311835 502292.95669195 808128.47966781]\n",
      "skipping soma 0 because closest skeleton node was already end node\n",
      "endpoints_must_keep = {0: array([[293821.09311835, 502292.95669195, 808128.47966781]])}\n",
      "match_sk_branches = [1]\n",
      "The new branch info was none so skipping \n",
      "\n",
      "No soma extending branch was added for this sublimb even though it had a soma border (means they already existed)\n",
      "MP (because soma touching verts) soma extension add: 0.24518537521362305\n",
      "There were not both MAP and MP pieces so skipping the stitch resolving phase\n",
      "Time for decomp of Limb = 0.9325854778289795\n",
      "Number of matching vertices = 9\n",
      "Only one endpoint after filtering away the endpoints that are not on the skeleton\n",
      "Using Distance measure skeletal_distance\n",
      "endpoints_must_keep = [[293821.09311835 502292.95669195 808128.47966781]]\n",
      "Number of end_nodes BEFORE filtering = 3\n",
      "all_single_nodes_to_eliminate = [0]\n",
      "no small end nodes to get rid of so returning whole skeleton\n",
      "Removed 0 skeletal branches\n",
      "12724 12725\n",
      "For marked faces: None\n",
      "empty_indices % = 0.0\n",
      " conflict_indices % = 0.0\n",
      "AFTER face_lookup_resolved_test\n",
      "Successful Limb Decomposition\n",
      "\n",
      "\n",
      "----- Working on Proper Limb # 2 ---------\n",
      "meshparty_segment_size = 100\n",
      "invalidation_d = 12000\n",
      "use_adaptive_invalidation_d= False\n",
      "axon_width_preprocess_limb_max = 200\n",
      "filter_end_node_length= 4000\n",
      "filter_end_node_length_meshparty = 4000\n",
      "invalidation_d = 12000\n",
      "root_curr = [285054.  504918.8 803082. ]\n",
      "Time for preparing soma vertices and root: 0.000164031982421875\n",
      "invalidation_d = 12000\n",
      "smooth_neighborhood = 1\n",
      "cc_vertex_thresh = 10\n"
     ]
    },
    {
     "name": "stderr",
     "output_type": "stream",
     "text": [
      "100%|██████████| 1/1 [00:00<00:00, 29.71it/s]"
     ]
    },
    {
     "name": "stdout",
     "output_type": "stream",
     "text": [
      "meshparty_segment_size = 100\n",
      "Time for 1st pass MP skeletonization: 0.16129851341247559\n",
      "connecting at the root\n",
      "branches_touching_root = [2]\n"
     ]
    },
    {
     "name": "stderr",
     "output_type": "stream",
     "text": [
      "\n"
     ]
    },
    {
     "name": "stdout",
     "output_type": "stream",
     "text": [
      "combining close nodes\n",
      "combine_threshold = 700\n",
      "length of Graph = 930\n",
      "After combining close endpoints max(kept_branches_idx) = 2, len(kept_branches_idx) = 3\n",
      "empty_indices % = 0.0\n",
      " conflict_indices % = 0.0026670977127616585\n",
      "AFTER face_lookup_resolved_test\n",
      "Decomposing first pass: 0.43501973152160645\n",
      "Attempting to use MeshAfterParty Skeletonization and Mesh Correspondence\n",
      "Another print\n",
      "Divinding into MP and MAP pieces: 2.5510787963867188e-05\n",
      "Total time for MAP sublimb processing 2.86102294921875e-06\n",
      "---- Working on MP Decomposition #0 ----\n",
      "Using Quicker soma_to_piece_touching_vertices because no MAP and only one sublimb_mesh piece \n",
      "MP filtering soma verts: 1.4781951904296875e-05\n",
      "Fixing Possible Soma Extension Branch for Sublimb 0\n",
      "Total time for mesh KDTree = 0.08901834487915039\n",
      "sbv[0].reshape(-1,3) = [[285054.  504918.8 803082. ]]\n",
      "closest_sk_pt_coord BEFORE = [285693.1800655  506077.59227924 803213.02350401]\n",
      "current_skeleton.shape = (666, 2, 3)\n",
      "node_for_stitch = 364: [285693.1800655  506077.59227924 803213.02350401]\n",
      "node_for_stitch AFTER = 364: [285693.1800655  506077.59227924 803213.02350401]\n",
      "possible_node_loc = [425 666]\n",
      "possible_node_loc AFTER = [425 666]\n",
      "curr_shortest_path = [364, 369.0, 383.0, 401.0, 405.0, 409.0, 412.0, 415.0, 418.0, 421.0, 423.0, 426.0, 429.0, 432.0, 435.0, 438.0, 441.0, 444.0, 447.0, 450.0, 453.0, 457.0, 462.0, 465.0, 469.0, 473.0, 476.0, 480.0, 482.0, 486.0, 489.0, 493.0, 502.0, 509.0, 517.0, 525.0, 533.0, 535.0, 538.0, 541.0, 543.0, 546.0, 548.0, 550.0, 552.0, 554.0, 553.0, 551.0, 549.0, 547.0, 545.0, 544.0, 542.0, 540.0, 537.0, 536.0, 534.0, 532.0, 527.0, 522.0, 518.0, 514.0, 510.0, 507.0, 504.0, 501.0, 499.0, 496.0, 495.0, 497.0, 500.0, 506.0, 511.0, 519.0, 531.0, 539.0, 555.0, 556.0, 557.0, 558.0, 559.0, 560.0, 561.0, 562.0, 563.0, 564.0, 565.0, 566.0, 567.0, 568.0, 569.0, 570.0, 571.0, 572.0, 573.0, 574.0, 575.0, 576.0, 577.0, 578.0, 579.0, 580.0, 581.0, 582.0, 583.0, 584.0, 585.0, 586.0, 587.0, 588.0, 589.0, 590.0, 591.0, 592.0, 593.0, 594.0, 595.0, 596.0, 597.0, 598.0, 599.0, 600.0, 601.0, 602.0, 603.0, 604.0, 605.0, 606.0, 607.0, 608.0, 609.0, 610.0, 611.0, 612.0, 613.0, 614.0, 615.0, 616.0, 617.0, 618.0, 619.0, 620.0, 621.0, 622.0, 623.0, 624.0, 625.0, 626.0, 627.0, 628.0, 629.0, 630.0, 631.0, 632.0, 633.0, 634.0, 635.0, 636.0, 637.0, 638.0, 639.0, 640.0, 641.0, 642.0, 643.0, 644.0, 645.0, 646.0, 647.0, 648.0, 649.0, 650.0, 651.0, 652.0, 653.0, 654.0, 655.0, 656.0, 657.0, 658.0, 659.0, 660.0, 661.0, 662.0, 663.0, 664.0, 665.0, 666]\n",
      "Current stitch point was not a branch or endpoint, shortest_path_length to one = 18690.503278839707\n",
      "change_status for create soma extending pieces = False\n",
      "closest_sk_pt_coord AFTER = [285693.1800655  506077.59227924 803213.02350401]\n",
      "Adding new branch to skeleton\n",
      "border_average_coordinate = [285718.36808511 505346.27234043 803268.97234043]\n",
      "endpoints_must_keep = {0: array([[285718.36808511, 505346.27234043, 803268.97234043]])}\n",
      "match_sk_branches = []\n",
      "orig_vertex = [285693.1800655  506077.59227924 803213.02350401]\n",
      "match_sk_branches = [2]\n",
      "\n",
      "\n",
      "--- Working on 1-to-1 correspondence-----\n",
      "max(original_labels),len(original_labels) = (2, 3)\n",
      "empty_indices % = 0.3165921896250243\n",
      " conflict_indices % = 0.024188847872547114\n",
      "AFTER face_lookup_resolved_test\n",
      "Took 0 iterations to expand the label back\n",
      "empty_indices % = 0.0\n",
      " conflict_indices % = 0.0\n",
      "AFTER face_lookup_resolved_test\n",
      "curr_width_median = 312.7012577720503\n",
      "curr_width_median = 302.29166617627857\n",
      "curr_width_median = 467.17171251128815\n",
      "checked segment branches after soma add on\n",
      "MP (because soma touching verts) soma extension add: 1.5029919147491455\n",
      "There were not both MAP and MP pieces so skipping the stitch resolving phase\n",
      "Time for decomp of Limb = 2.1410014629364014\n",
      "Number of matching vertices = 47\n",
      "Only one endpoint after filtering away the endpoints that are not on the skeleton\n",
      "Using Distance measure skeletal_distance\n",
      "endpoints_must_keep = [[285718.36808511 505346.27234043 803268.97234043]]\n",
      "Number of end_nodes BEFORE filtering = 4\n",
      "all_single_nodes_to_eliminate = [0]\n",
      "no small end nodes to get rid of so returning whole skeleton\n",
      "Removed 0 skeletal branches\n",
      "12372 12373\n",
      "For marked faces: None\n",
      "empty_indices % = 0.0\n",
      " conflict_indices % = 0.0\n",
      "AFTER face_lookup_resolved_test\n",
      "Successful Limb Decomposition\n",
      "\n",
      "\n",
      "----- Working on Proper Limb # 3 ---------\n",
      "meshparty_segment_size = 100\n",
      "invalidation_d = 12000\n",
      "use_adaptive_invalidation_d= False\n",
      "axon_width_preprocess_limb_max = 200\n",
      "filter_end_node_length= 4000\n",
      "filter_end_node_length_meshparty = 4000\n",
      "invalidation_d = 12000\n",
      "root_curr = [284233.6 499126.1 809991.5]\n",
      "Time for preparing soma vertices and root: 0.00019502639770507812\n",
      "invalidation_d = 12000\n",
      "smooth_neighborhood = 1\n",
      "cc_vertex_thresh = 10\n"
     ]
    },
    {
     "name": "stderr",
     "output_type": "stream",
     "text": [
      "100%|██████████| 1/1 [00:00<00:00, 104.43it/s]"
     ]
    },
    {
     "name": "stdout",
     "output_type": "stream",
     "text": [
      "meshparty_segment_size = 100\n",
      "Time for 1st pass MP skeletonization: 0.07984042167663574\n",
      "connecting at the root\n",
      "branches_touching_root = [0]\n",
      "combining close nodes\n",
      "combine_threshold = 700\n",
      "length of Graph = 375\n",
      "After combining close endpoints max(kept_branches_idx) = 0, len(kept_branches_idx) = 1\n"
     ]
    },
    {
     "name": "stderr",
     "output_type": "stream",
     "text": [
      "\n"
     ]
    },
    {
     "name": "stdout",
     "output_type": "stream",
     "text": [
      "empty_indices % = 0.0\n",
      " conflict_indices % = 0.0\n",
      "AFTER face_lookup_resolved_test\n",
      "Decomposing first pass: 0.21211934089660645\n",
      "Attempting to use MeshAfterParty Skeletonization and Mesh Correspondence\n",
      "Another print\n",
      "Divinding into MP and MAP pieces: 2.5033950805664062e-05\n",
      "Total time for MAP sublimb processing 3.0994415283203125e-06\n",
      "---- Working on MP Decomposition #0 ----\n",
      "Using Quicker soma_to_piece_touching_vertices because no MAP and only one sublimb_mesh piece \n",
      "MP filtering soma verts: 1.4543533325195312e-05\n",
      "Fixing Possible Soma Extension Branch for Sublimb 0\n",
      "Total time for mesh KDTree = 0.06704330444335938\n",
      "sbv[0].reshape(-1,3) = [[284233.6 499126.1 809991.5]]\n",
      "closest_sk_pt_coord BEFORE = [282943.68619256 499097.27675959 811875.22568621]\n",
      "current_skeleton.shape = (374, 2, 3)\n",
      "node_for_stitch = 347: [282943.68619256 499097.27675959 811875.22568621]\n",
      "node_for_stitch AFTER = 347: [282943.68619256 499097.27675959 811875.22568621]\n",
      "possible_node_loc = [  0 316]\n",
      "possible_node_loc AFTER = [  0 316]\n",
      "curr_shortest_path = [347, 349.0, 351.0, 353.0, 355.0, 357.0, 359.0, 361.0, 363.0, 365.0, 367.0, 369.0, 371.0, 373.0, 374.0, 372.0, 370.0, 368.0, 366.0, 364.0, 362.0, 360.0, 358.0, 356.0, 354.0, 352.0, 350.0, 348.0, 346.0, 344.0, 342.0, 341.0, 339.0, 337.0, 335.0, 333.0, 332.0, 330.0, 328.0, 326.0, 325.0, 323.0, 321.0, 319.0, 318.0, 316]\n",
      "Current stitch point was not a branch or endpoint, shortest_path_length to one = 4455.032129864333\n",
      "change_status for create soma extending pieces = False\n",
      "closest_sk_pt_coord AFTER = [282943.68619256 499097.27675959 811875.22568621]\n",
      "Adding new branch to skeleton\n",
      "border_average_coordinate = [284594.37692308 498831.86923077 810024.86923077]\n",
      "endpoints_must_keep = {0: array([[284594.37692308, 498831.86923077, 810024.86923077]])}\n",
      "match_sk_branches = []\n",
      "orig_vertex = [282943.68619256 499097.27675959 811875.22568621]\n",
      "match_sk_branches = [0]\n",
      "\n",
      "\n",
      "--- Working on 1-to-1 correspondence-----\n",
      "max(original_labels),len(original_labels) = (2, 3)\n",
      "empty_indices % = 0.2656943563728599\n",
      " conflict_indices % = 0.02742549143944198\n",
      "AFTER face_lookup_resolved_test\n",
      "Took 0 iterations to expand the label back\n",
      "empty_indices % = 0.0\n",
      " conflict_indices % = 0.0\n",
      "AFTER face_lookup_resolved_test\n",
      "curr_width_median = 411.5343829635351\n",
      "curr_width_median = 386.7535489510548\n",
      "curr_width_median = 761.5491347358748\n",
      "checked segment branches after soma add on\n",
      "MP (because soma touching verts) soma extension add: 0.9780526161193848\n",
      "There were not both MAP and MP pieces so skipping the stitch resolving phase\n",
      "Time for decomp of Limb = 1.291651964187622\n",
      "Number of matching vertices = 13\n",
      "Only one endpoint after filtering away the endpoints that are not on the skeleton\n",
      "Using Distance measure skeletal_distance\n",
      "endpoints_must_keep = [[284594.37692308 498831.86923077 810024.86923077]]\n",
      "Number of end_nodes BEFORE filtering = 3\n",
      "all_single_nodes_to_eliminate = [2]\n",
      "no small end nodes to get rid of so returning whole skeleton\n",
      "Removed 0 skeletal branches\n",
      "6307 6308\n",
      "For marked faces: None\n",
      "empty_indices % = 0.0\n",
      " conflict_indices % = 0.0\n",
      "AFTER face_lookup_resolved_test\n",
      "Successful Limb Decomposition\n",
      "Total time for Skeletonization and Mesh Correspondence = 30.97288227081299\n",
      "\n",
      "\n",
      " ----- Working on Stitching ----------\n",
      "Inside attach_floating_pieces_to_limb_correspondence\n",
      "Starting the floating pieces preprocessing\n",
      "Total time for stitching floating pieces = 0.0028951168060302734\n",
      "Total time for Concept Networks = 0.48335695266723633\n",
      "Total time for all mesh and skeletonization decomp = 31.459503412246704\n",
      "No soma volume ratios so computing them now\n",
      "Using Poisson Surface Reconstruction for watertightness in soma_volume_ratio\n",
      "xvfb-run -n 6471 -s \"-screen 0 800x600x24\" meshlabserver $@  -i /neurd_packages/NEURD/Applications/autoproof_neuron_pipeline/Poisson_temp/neuron_28902.off -o /neurd_packages/NEURD/Applications/autoproof_neuron_pipeline/Poisson_temp/neuron_28902_poisson.off -s /neurd_packages/NEURD/Applications/autoproof_neuron_pipeline/Poisson_temp/poisson_802987.mls\n",
      "removed temporary input file: /neurd_packages/NEURD/Applications/autoproof_neuron_pipeline/Poisson_temp/neuron_28902.off\n",
      "removed temporary output file: /neurd_packages/NEURD/Applications/autoproof_neuron_pipeline/Poisson_temp/neuron_28902_poisson.off\n",
      "mesh.is_watertight = True\n",
      "/neurd_packages/NEURD/Applications/autoproof_neuron_pipeline/Poisson_temp/poisson_802987.mls is being deleted....\n",
      "--- 1) Finished unpacking preprocessed materials: 43.90727138519287\n",
      "total_edges = [['S0', 'L0'], ['S0', 'L1'], ['S0', 'L2'], ['S0', 'L3']]\n",
      "--- 2) Finished creating neuron connectivity graph: 0.00023293495178222656\n",
      "Having to generate soma_meshes_face_idx because none in preprocessed data\n",
      "--- 3a) Finshed generating soma_meshes_face_idx: 0.03313398361206055\n",
      "Using precomputed volume ratio\n",
      "--- 3b) Finished soma creation: 10.676157712936401\n",
      "--- 3) Finshed generating soma objects and adding them to concept graph: 0.00011157989501953125\n",
      "--- 4a) Finshed generating curr_limb_meshes_face_idx: 0.1076211929321289\n",
      "curr_limb_concept_networks= {0: [<datasci_tools.networkx_utils.GraphOrderedEdges object at 0x7f590c746850>]}\n",
      "curr_limb_concept_networks= {0: [<datasci_tools.networkx_utils.GraphOrderedEdges object at 0x7f590c7390d0>]}\n",
      "curr_limb_concept_networks= {0: [<datasci_tools.networkx_utils.GraphOrderedEdges object at 0x7f590c7394f0>]}\n",
      "curr_limb_concept_networks= {0: [<datasci_tools.networkx_utils.GraphOrderedEdges object at 0x7f590c7399d0>]}\n",
      "--- 4) Finshed generating Limb objects and adding them to concept graph: 0.4789698123931885\n",
      "--- 5) SKIPPING Doing the adaptive mesh correspondence on the meshparty preprocessing ---\n",
      "--- 6) SKIPPING Using the computed_attribute_dict to populate neuron attributes ---\n",
      "self.n_limbs = 4\n",
      "7) Calculating the spines for the neuorn if do not already exist\n",
      "7a) calculating spines because didn't exist\n",
      "query = median_mesh_center > 115 and n_faces_branch>100\n",
      "The median_mesh_center was requested but has not already been calculated so calculating now.... \n",
      "width_name BEFORE processing = None\n",
      "After processing\n",
      "width_name = median_mesh_center, distance_by_mesh_center= True, no_spines = False, summary_measure= median\n",
      "Working on limb L0 branch 3\n",
      "    current_width= 1011.4129118964594\n",
      "Working on limb L0 branch 2\n",
      "    current_width= 538.9068528883149\n",
      "Working on limb L0 branch 4\n",
      "    current_width= 385.57680741956466\n",
      "Working on limb L0 branch 0\n",
      "    current_width= 289.14385044769614\n",
      "Working on limb L0 branch 1\n",
      "    current_width= 276.52301091080705\n",
      "Working on limb L0 branch 5\n",
      "    current_width= 263.2747232435886\n",
      "Working on limb L0 branch 6\n",
      "    current_width= 347.72627737299297\n",
      "Working on limb L0 branch 7\n",
      "    current_width= 308.75518639294893\n",
      "Working on limb L0 branch 8\n",
      "    current_width= 244.06479905961388\n",
      "Working on limb L1 branch 0\n",
      "    current_width= 273.408721078637\n",
      "Working on limb L1 branch 1\n",
      "    current_width= 111.67551654043083\n",
      "Working on limb L1 branch 2\n",
      "    current_width= 110.37217795707159\n",
      "Working on limb L2 branch 1\n",
      "    current_width= 395.4378615636536\n",
      "Working on limb L2 branch 0\n",
      "    current_width= 316.89143572853357\n",
      "Working on limb L2 branch 2\n",
      "    current_width= 244.843807156104\n",
      "Working on limb L2 branch 3\n",
      "    current_width= 149.12640631831638\n",
      "Working on limb L2 branch 4\n",
      "    current_width= 80.47805248188267\n",
      "Working on limb L3 branch 2\n",
      "    current_width= 477.0678533357719\n",
      "Working on limb L3 branch 0\n",
      "    current_width= 310.86188835492663\n",
      "Working on limb L3 branch 1\n",
      "    current_width= 218.47263761776244\n",
      "MAX ITERATIONS initially 500\n",
      "AREA VARIATION initially 0.0001\n",
      "medial centered initially 1\n",
      "medially_centered_speed_tradeoff initially 0.2\n",
      "quality_speed_tradeoff initially 0.1\n",
      "max_triangle_angle initially 1.91986\n",
      "min_edge_length initially 107.909\n",
      "setting the edge length by absolute length\n",
      "min_edge_length AFTER = 75\n",
      "max_triangle_angle AFTER = 1.91986\n",
      "quality_speed_tradeoff AFTER = 0.2\n",
      "set_medially_centered_speed_tradeoff AFTER = 0.2\n",
      "medial centered AFTER 1\n",
      "AREA VARIATION AFTER 0.0001\n",
      "MAX ITERATIONS AFTER 500\n",
      "medial centered END 1\n",
      "set_medially_centered_speed_tradeoff END = 0.2\n",
      "quality_speed_tradeoff END = 0.2\n",
      "Max iterations END = 500\n",
      "AREA VARIATION END 0.0001\n",
      "Number of vertices of the skeleton: 505\n",
      "Number of edges of the skeleton: 504\n",
      "MAX ITERATIONS initially 500\n",
      "AREA VARIATION initially 0.0001\n",
      "medial centered initially 1\n",
      "medially_centered_speed_tradeoff initially 0.2\n",
      "quality_speed_tradeoff initially 0.1\n",
      "max_triangle_angle initially 1.91986\n",
      "min_edge_length initially 40.7595\n",
      "setting the edge length by absolute length\n",
      "min_edge_length AFTER = 75\n",
      "max_triangle_angle AFTER = 1.91986\n",
      "quality_speed_tradeoff AFTER = 0.2\n",
      "set_medially_centered_speed_tradeoff AFTER = 0.2\n",
      "medial centered AFTER 1\n",
      "AREA VARIATION AFTER 0.0001\n",
      "MAX ITERATIONS AFTER 500\n",
      "medial centered END 1\n",
      "set_medially_centered_speed_tradeoff END = 0.2\n",
      "quality_speed_tradeoff END = 0.2\n",
      "Max iterations END = 500\n",
      "AREA VARIATION END 0.0001\n",
      "Number of vertices of the skeleton: 195\n",
      "Number of edges of the skeleton: 194\n",
      "\n",
      "Number of segments: 61\n",
      "\n"
     ]
    },
    {
     "name": "stdout",
     "output_type": "stream",
     "text": [
      "Filtering away by face and skeletal length\n",
      "\n",
      "Number of segments: 27\n",
      "\n",
      "Filtering away by face and skeletal length\n",
      "\n",
      "Number of segments: 11\n",
      "\n",
      "Filtering away by face and skeletal length\n",
      "\n",
      "Number of segments: 11\n",
      "\n",
      "Filtering away by face and skeletal length\n",
      "\n",
      "Number of segments: 9\n",
      "\n",
      "Filtering away by face and skeletal length\n",
      "\n",
      "Number of segments: 11\n",
      "\n",
      "Filtering away by face and skeletal length\n",
      "\n",
      "Number of segments: 8\n",
      "\n",
      "Filtering away by face and skeletal length\n",
      "\n",
      "Number of segments: 6\n",
      "\n",
      "Filtering away by face and skeletal length\n",
      "\n",
      "Number of segments: 42\n",
      "\n",
      "Filtering away by face and skeletal length\n",
      "\n",
      "Number of segments: 62\n",
      "\n",
      "Filtering away by face and skeletal length\n",
      "\n",
      "Number of segments: 55\n",
      "\n",
      "Filtering away by face and skeletal length\n",
      "\n",
      "Number of segments: 14\n",
      "\n",
      "Filtering away by face and skeletal length\n",
      "\n",
      "Number of segments: 16\n",
      "\n",
      "Filtering away by face and skeletal length\n",
      "\n",
      "Number of segments: 51\n",
      "\n",
      "Filtering away by face and skeletal length\n",
      "\n",
      "Number of segments: 7\n",
      "\n",
      "Filtering away by face and skeletal length\n",
      "\n",
      "Number of segments: 5\n",
      "\n",
      "Filtering away by face and skeletal length\n",
      "width_name BEFORE processing = no_spine_median_mesh_center\n",
      "After processing\n",
      "width_name = no_spine_median_mesh_center, distance_by_mesh_center= True, no_spines = True, summary_measure= median\n",
      "Working on limb L0 branch 3\n",
      "    No spines and using precomputed width: 1011.4129118964594\n",
      "Working on limb L0 branch 2\n",
      "    No spines and using precomputed width: 538.9068528883149\n",
      "Working on limb L0 branch 4\n",
      "    No spines and using precomputed width: 385.57680741956466\n",
      "Working on limb L0 branch 0\n",
      "    current_width= 260.0087921264718\n",
      "Working on limb L0 branch 1\n",
      "    current_width= 262.05491163635327\n",
      "Working on limb L0 branch 5\n",
      "    current_width= 263.2747232435886\n",
      "Working on limb L0 branch 6\n",
      "    current_width= 347.72627737299297\n",
      "Working on limb L0 branch 7\n",
      "    No spines and using precomputed width: 308.75518639294893\n",
      "Working on limb L0 branch 8\n",
      "    current_width= 220.84201276707154\n",
      "Working on limb L1 branch 0\n",
      "    current_width= 254.03048480153888\n",
      "Working on limb L1 branch 1\n",
      "    No spines and using precomputed width: 111.67551654043083\n",
      "Working on limb L1 branch 2\n",
      "    No spines and using precomputed width: 110.37217795707159\n",
      "Working on limb L2 branch 1\n",
      "    No spines and using precomputed width: 395.4378615636536\n",
      "Working on limb L2 branch 0\n",
      "    current_width= 304.49535722088683\n",
      "Working on limb L2 branch 2\n",
      "    No spines and using precomputed width: 244.843807156104\n",
      "Working on limb L2 branch 3\n",
      "    No spines and using precomputed width: 149.12640631831638\n",
      "Working on limb L2 branch 4\n",
      "    No spines and using precomputed width: 80.47805248188267\n",
      "Working on limb L3 branch 2\n",
      "    No spines and using precomputed width: 477.0678533357719\n",
      "Working on limb L3 branch 0\n",
      "    current_width= 293.0674284413361\n",
      "Working on limb L3 branch 1\n",
      "    No spines and using precomputed width: 218.47263761776244\n",
      "Total time for neuron instance creation = 82.75718665122986\n"
     ]
    }
   ],
   "source": [
    "neuron_obj = neuron.Neuron(\n",
    "    mesh = mesh,\n",
    "    somas = somas,\n",
    "    suppress_preprocessing_print=False,\n",
    "    suppress_output=False,\n",
    "    glia_meshes=glia_pieces,\n",
    "    nuclei_meshes = nuclei_pieces,\n",
    ")"
   ]
  },
  {
   "cell_type": "code",
   "execution_count": 32,
   "id": "59c11ebf",
   "metadata": {},
   "outputs": [
    {
     "data": {
      "image/png": "[encoded data removed]",
      "text/plain": [
       "<Figure size 640x480 with 1 Axes>"
      ]
     },
     "metadata": {},
     "output_type": "display_data"
    }
   ],
   "source": [
    "nviz.plot_soma_limb_concept_network(neuron_obj)"
   ]
  },
  {
   "cell_type": "code",
   "execution_count": 35,
   "id": "8d21caa9",
   "metadata": {},
   "outputs": [
    {
     "name": "stdout",
     "output_type": "stream",
     "text": [
      "\n",
      " Working on visualization type: mesh\n",
      "\n",
      " Working on visualization type: skeleton\n"
     ]
    },
    {
     "data": {
      "application/vnd.jupyter.widget-view+json": {
       "model_id": "d47d9fdfc16f4e2b8a5fc64266bdd2f5",
       "version_major": 2,
       "version_minor": 0
      },
      "text/plain": [
       "Container(figure=Figure(box_center=[0.5, 0.5, 0.5], box_size=[1.0, 1.0, 1.0], camera=PerspectiveCamera(fov=45.…"
      ]
     },
     "metadata": {},
     "output_type": "display_data"
    }
   ],
   "source": [
    "nviz.visualize_neuron(neuron_obj,limb_branch_dict=\"all\")"
   ]
  },
  {
   "cell_type": "markdown",
   "id": "296b1141",
   "metadata": {},
   "source": [
    "# Step 4: Split Multi-Soma Merges"
   ]
  },
  {
   "cell_type": "code",
   "execution_count": null,
   "id": "0ce2b07c",
   "metadata": {},
   "outputs": [],
   "source": []
  }
 ],
 "metadata": {
  "kernelspec": {
   "display_name": "Python 3 (ipykernel)",
   "language": "python",
   "name": "python3"
  },
  "language_info": {
   "codemirror_mode": {
    "name": "ipython",
    "version": 3
   },
   "file_extension": ".py",
   "mimetype": "text/x-python",
   "name": "python",
   "nbconvert_exporter": "python",
   "pygments_lexer": "ipython3",
   "version": "3.8.0"
  }
 },
 "nbformat": 4,
 "nbformat_minor": 5
}
