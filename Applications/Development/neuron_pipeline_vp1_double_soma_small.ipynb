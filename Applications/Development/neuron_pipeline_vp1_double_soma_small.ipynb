{
 "cells": [
  {
   "cell_type": "code",
   "execution_count": 1,
   "id": "077350ae",
   "metadata": {},
   "outputs": [],
   "source": [
    "%load_ext autoreload\n",
    "%autoreload 2"
   ]
  },
  {
   "cell_type": "code",
   "execution_count": 2,
   "id": "c0765d62",
   "metadata": {},
   "outputs": [
    {
     "name": "stdout",
     "output_type": "stream",
     "text": [
      "Jupyter environment detected. Enabling Open3D WebVisualizer.\n",
      "[Open3D INFO] WebRTC GUI backend enabled.\n",
      "[Open3D INFO] WebRTCWindowSystem: HTTP handshake server disabled.\n"
     ]
    },
    {
     "name": "stderr",
     "output_type": "stream",
     "text": [
      "/usr/local/lib/python3.8/dist-packages/umap/distances.py:1063: NumbaDeprecationWarning: The 'nopython' keyword argument was not supplied to the 'numba.jit' decorator. The implicit default value for this argument is currently False, but it will be changed to True in Numba 0.59.0. See https://numba.readthedocs.io/en/stable/reference/deprecation.html#deprecation-of-object-mode-fall-back-behaviour-when-using-jit for details.\n",
      "  @numba.jit()\n",
      "/usr/local/lib/python3.8/dist-packages/umap/distances.py:1071: NumbaDeprecationWarning: The 'nopython' keyword argument was not supplied to the 'numba.jit' decorator. The implicit default value for this argument is currently False, but it will be changed to True in Numba 0.59.0. See https://numba.readthedocs.io/en/stable/reference/deprecation.html#deprecation-of-object-mode-fall-back-behaviour-when-using-jit for details.\n",
      "  @numba.jit()\n",
      "/usr/local/lib/python3.8/dist-packages/umap/distances.py:1086: NumbaDeprecationWarning: The 'nopython' keyword argument was not supplied to the 'numba.jit' decorator. The implicit default value for this argument is currently False, but it will be changed to True in Numba 0.59.0. See https://numba.readthedocs.io/en/stable/reference/deprecation.html#deprecation-of-object-mode-fall-back-behaviour-when-using-jit for details.\n",
      "  @numba.jit()\n",
      "/usr/local/lib/python3.8/dist-packages/umap/umap_.py:660: NumbaDeprecationWarning: The 'nopython' keyword argument was not supplied to the 'numba.jit' decorator. The implicit default value for this argument is currently False, but it will be changed to True in Numba 0.59.0. See https://numba.readthedocs.io/en/stable/reference/deprecation.html#deprecation-of-object-mode-fall-back-behaviour-when-using-jit for details.\n",
      "  @numba.jit()\n"
     ]
    }
   ],
   "source": [
    "import neurd"
   ]
  },
  {
   "cell_type": "code",
   "execution_count": 3,
   "id": "f59f25d5",
   "metadata": {},
   "outputs": [],
   "source": [
    "from mesh_tools import trimesh_utils as tu\n",
    "from datasci_tools import ipyvolume_utils as ipvu\n",
    "from neurd import neuron_visualizations as nviz"
   ]
  },
  {
   "cell_type": "code",
   "execution_count": 4,
   "id": "863967b7",
   "metadata": {},
   "outputs": [],
   "source": [
    "neurd.set_volume_params(\n",
    "    volume = \"microns\"\n",
    ")"
   ]
  },
  {
   "cell_type": "markdown",
   "id": "6f9b75c9",
   "metadata": {},
   "source": [
    "# Data Prep: Loading mesh"
   ]
  },
  {
   "cell_type": "code",
   "execution_count": 5,
   "id": "a1df55b6",
   "metadata": {},
   "outputs": [],
   "source": [
    "from mesh_tools import trimesh_utils as tu"
   ]
  },
  {
   "cell_type": "code",
   "execution_count": 6,
   "id": "de88421b",
   "metadata": {},
   "outputs": [],
   "source": [
    "segment_id = 864691135510518224"
   ]
  },
  {
   "cell_type": "code",
   "execution_count": 7,
   "id": "3c95c75b",
   "metadata": {},
   "outputs": [
    {
     "data": {
      "text/plain": [
       "<trimesh.Trimesh(vertices.shape=(154713, 3), faces.shape=(323535, 3))>"
      ]
     },
     "execution_count": 7,
     "metadata": {},
     "output_type": "execute_result"
    }
   ],
   "source": [
    "mesh_filepath = f\"./{segment_id}.off\"\n",
    "mesh_filepath = '864691135510518224_small_double_soma.off'\n",
    "mesh = tu.load_mesh_no_processing(mesh_filepath)\n",
    "mesh"
   ]
  },
  {
   "cell_type": "markdown",
   "id": "479cac44",
   "metadata": {},
   "source": [
    "# Step 1: Decimation"
   ]
  },
  {
   "cell_type": "code",
   "execution_count": 8,
   "id": "95e97145",
   "metadata": {},
   "outputs": [],
   "source": [
    "#/mnt/lab/users/celiib/neurd_packages/neuron_mesh_tools/Auto_Proofreading/Minnie65_Pipeline/Morphology/m65_morphology_2_Decimation_v1.ipynb"
   ]
  },
  {
   "cell_type": "code",
   "execution_count": 9,
   "id": "ac1747ad",
   "metadata": {},
   "outputs": [],
   "source": [
    "decimation_kwargs = dict(\n",
    "    decimation_ratio =0.25,\n",
    ")"
   ]
  },
  {
   "cell_type": "code",
   "execution_count": 10,
   "id": "432f9e64",
   "metadata": {},
   "outputs": [
    {
     "name": "stdout",
     "output_type": "stream",
     "text": [
      "xvfb-run -n 1312 -s \"-screen 0 800x600x24\" meshlabserver $@  -i /neurd_packages/NEURD/Applications/autoproof_neuron_pipeline/temp/neuron_93267.off -o /neurd_packages/NEURD/Applications/autoproof_neuron_pipeline/temp/neuron_93267_decimated.off -s /neurd_packages/NEURD/Applications/autoproof_neuron_pipeline/temp/decimation_meshlab_25494468.mls\n"
     ]
    }
   ],
   "source": [
    "mesh_dec = tu.decimate(\n",
    "    mesh,\n",
    "    **decimation_kwargs\n",
    ")"
   ]
  },
  {
   "cell_type": "code",
   "execution_count": 11,
   "id": "d7000945",
   "metadata": {},
   "outputs": [
    {
     "name": "stdout",
     "output_type": "stream",
     "text": [
      "mesh = <trimesh.Trimesh(vertices.shape=(154713, 3), faces.shape=(323535, 3))>\n",
      "mesh_dec = <trimesh.Trimesh(vertices.shape=(33683, 3), faces.shape=(80883, 3))>\n"
     ]
    }
   ],
   "source": [
    "print(f\"mesh = {mesh}\")\n",
    "print(f\"mesh_dec = {mesh_dec}\")"
   ]
  },
  {
   "cell_type": "code",
   "execution_count": 12,
   "id": "bb728b90",
   "metadata": {},
   "outputs": [
    {
     "name": "stderr",
     "output_type": "stream",
     "text": [
      "/usr/local/lib/python3.8/dist-packages/traittypes/traittypes.py:97: UserWarning: Given trait value dtype \"float64\" does not match required type \"float64\". A coerced copy has been created.\n",
      "  warnings.warn(\n"
     ]
    },
    {
     "data": {
      "application/vnd.jupyter.widget-view+json": {
       "model_id": "782e469a5a13475aac5df116eb1cc427",
       "version_major": 2,
       "version_minor": 0
      },
      "text/plain": [
       "Container(figure=Figure(box_center=[0.5, 0.5, 0.5], box_size=[1.0, 1.0, 1.0], camera=PerspectiveCamera(fov=45.…"
      ]
     },
     "metadata": {},
     "output_type": "display_data"
    }
   ],
   "source": [
    "ipvu.plot_objects(\n",
    "    meshes = [mesh,mesh_dec],\n",
    "    meshes_colors=[\"green\",\"red\"],\n",
    ")"
   ]
  },
  {
   "cell_type": "markdown",
   "id": "c8691617",
   "metadata": {},
   "source": [
    "# Step 2: Some Identification"
   ]
  },
  {
   "cell_type": "code",
   "execution_count": 13,
   "id": "172a601f",
   "metadata": {},
   "outputs": [],
   "source": [
    "#/mnt/lab/users/celiib/neurd_packages/neuron_mesh_tools/Auto_Proofreading/Minnie65_Pipeline/Morphology/m65_morphology_3_MeshFragment_full_v1.ipynb"
   ]
  },
  {
   "cell_type": "code",
   "execution_count": 14,
   "id": "f740b4ab",
   "metadata": {},
   "outputs": [
    {
     "name": "stdout",
     "output_type": "stream",
     "text": [
      "module: neurd.soma_extraction_utils data_type set to microns, algorithms = ['nuclei']\n",
      "Collecting global_parameters_dict_default_nuclei\n",
      "curr_dict = {'nucleus_min': 700 (None), 'nucleus_max': None (int unsigned), }\n",
      "Unknown dict_name = global_parameters_dict_microns_nuclei\n"
     ]
    },
    {
     "data": {
      "text/plain": [
       "{'nucleus_min': 700 (None), 'nucleus_max': None (int unsigned), }"
      ]
     },
     "execution_count": 14,
     "metadata": {},
     "output_type": "execute_result"
    }
   ],
   "source": [
    "from neurd import soma_extraction_utils as sm\n",
    "sm.output_global_parameters_nuclei()"
   ]
  },
  {
   "cell_type": "code",
   "execution_count": 15,
   "id": "3dd177b3",
   "metadata": {},
   "outputs": [],
   "source": [
    "mesh_dec = mesh"
   ]
  },
  {
   "cell_type": "code",
   "execution_count": 16,
   "id": "4209363e",
   "metadata": {},
   "outputs": [
    {
     "name": "stdout",
     "output_type": "stream",
     "text": [
      "Current Arguments Using (adjusted for decimation):\n",
      " large_mesh_threshold= 5000.0 \n",
      "large_mesh_threshold_inner = 3250.0 \n",
      "soma_size_threshold = 562.5 \n",
      "soma_size_threshold_max = 75000.0\n",
      "outer_decimation_ratio = 0.25\n",
      "inner_decimation_ratio = 0.25\n",
      "max_mesh_sized_filtered_away = 22500.0\n",
      "xvfb-run -n 1025 -s \"-screen 0 800x600x24\" meshlabserver $@  -i /neurd_packages/NEURD/Applications/autoproof_neuron_pipeline/temp/neuron_99603.off -o /neurd_packages/NEURD/Applications/autoproof_neuron_pipeline/temp/neuron_99603_remove_interior.off -s /neurd_packages/NEURD/Applications/autoproof_neuron_pipeline/temp/remove_interior_313801.mls\n",
      "removed temporary input file: /neurd_packages/NEURD/Applications/autoproof_neuron_pipeline/temp/neuron_99603.off\n",
      "removed temporary output file: /neurd_packages/NEURD/Applications/autoproof_neuron_pipeline/temp/neuron_99603_remove_interior.off\n",
      "/neurd_packages/NEURD/Applications/autoproof_neuron_pipeline/temp/remove_interior_313801.mls is being deleted....\n",
      "There were 16 total interior meshes\n",
      "Pieces satisfying glia requirements (volume) (x >= 2500000000000): 0\n",
      "Pieces satisfying nuclie requirements: n_faces (700 <= x) and volume (x < 2500000000000) : 16\n",
      "inside remove_mesh_interior and using precomputed inside_pieces\n",
      "Removing the following inside neurons: [<trimesh.Trimesh(vertices.shape=(6494, 3), faces.shape=(15575, 3))>, <trimesh.Trimesh(vertices.shape=(3252, 3), faces.shape=(5804, 3))>, <trimesh.Trimesh(vertices.shape=(2064, 3), faces.shape=(4789, 3))>, <trimesh.Trimesh(vertices.shape=(2022, 3), faces.shape=(4628, 3))>, <trimesh.Trimesh(vertices.shape=(1922, 3), faces.shape=(4396, 3))>, <trimesh.Trimesh(vertices.shape=(1089, 3), faces.shape=(2556, 3))>, <trimesh.Trimesh(vertices.shape=(864, 3), faces.shape=(1989, 3))>, <trimesh.Trimesh(vertices.shape=(723, 3), faces.shape=(1611, 3))>, <trimesh.Trimesh(vertices.shape=(693, 3), faces.shape=(1561, 3))>, <trimesh.Trimesh(vertices.shape=(612, 3), faces.shape=(1378, 3))>, <trimesh.Trimesh(vertices.shape=(456, 3), faces.shape=(742, 3))>, <trimesh.Trimesh(vertices.shape=(344, 3), faces.shape=(727, 3))>]\n",
      "\n",
      "\n",
      "Original Mesh size: 323535, Final mesh size: 277773\n",
      "Total time = 20.118595838546753\n",
      "xvfb-run -n 1679 -s \"-screen 0 800x600x24\" meshlabserver $@  -i /neurd_packages/NEURD/Applications/autoproof_neuron_pipeline/864691135510518224/neuron_864691135510518224.off -o /neurd_packages/NEURD/Applications/autoproof_neuron_pipeline/864691135510518224/neuron_864691135510518224_decimated.off -s /neurd_packages/NEURD/Applications/autoproof_neuron_pipeline/864691135510518224/decimation_meshlab_25513448.mls\n",
      "Total found significant pieces before Poisson = [<trimesh.Trimesh(vertices.shape=(29969, 3), faces.shape=(56262, 3))>]\n",
      "----- working on large mesh #0: <trimesh.Trimesh(vertices.shape=(29969, 3), faces.shape=(56262, 3))>\n",
      "remove_inside_pieces requested \n",
      "xvfb-run -n 1292 -s \"-screen 0 800x600x24\" meshlabserver $@  -i /neurd_packages/NEURD/Applications/autoproof_neuron_pipeline/temp/neuron_21221.off -o /neurd_packages/NEURD/Applications/autoproof_neuron_pipeline/temp/neuron_21221_remove_interior.off -s /neurd_packages/NEURD/Applications/autoproof_neuron_pipeline/temp/remove_interior_244491.mls\n",
      "removed temporary input file: /neurd_packages/NEURD/Applications/autoproof_neuron_pipeline/temp/neuron_21221.off\n",
      "removed temporary output file: /neurd_packages/NEURD/Applications/autoproof_neuron_pipeline/temp/neuron_21221_remove_interior.off\n",
      "/neurd_packages/NEURD/Applications/autoproof_neuron_pipeline/temp/remove_interior_244491.mls is being deleted....\n",
      "No significant (1000) interior meshes present\n",
      "largest is 163\n",
      "pre_largest_mesh_path = /neurd_packages/NEURD/Applications/autoproof_neuron_pipeline/864691135510518224/neuron_864691135510518224_decimated_largest_piece.off\n",
      "xvfb-run -n 7803 -s \"-screen 0 800x600x24\" meshlabserver $@  -i /neurd_packages/NEURD/Applications/autoproof_neuron_pipeline/864691135510518224/neuron_864691135510518224_decimated_largest_piece.off -o /neurd_packages/NEURD/Applications/autoproof_neuron_pipeline/864691135510518224/neuron_864691135510518224_decimated_largest_piece_poisson.off -s /neurd_packages/NEURD/Applications/autoproof_neuron_pipeline/864691135510518224/poisson_338782.mls\n",
      "Total found significant pieces AFTER Poisson = [<trimesh.Trimesh(vertices.shape=(14489, 3), faces.shape=(28990, 3))>, <trimesh.Trimesh(vertices.shape=(10700, 3), faces.shape=(21396, 3))>]\n",
      "----- working on mesh after poisson #0: <trimesh.Trimesh(vertices.shape=(14489, 3), faces.shape=(28990, 3))>\n",
      "xvfb-run -n 316 -s \"-screen 0 800x600x24\" meshlabserver $@  -i /neurd_packages/NEURD/Applications/autoproof_neuron_pipeline/864691135510518224/neuron_864691135510518224_decimated_largest_piece_poisson_largest_inner.off -o /neurd_packages/NEURD/Applications/autoproof_neuron_pipeline/864691135510518224/neuron_864691135510518224_decimated_largest_piece_poisson_largest_inner_decimated.off -s /neurd_packages/NEURD/Applications/autoproof_neuron_pipeline/864691135510518224/decimation_meshlab_25379186.mls\n",
      "\n",
      "-------Splits after inner decimation len = 1--------\n",
      "\n",
      "done exporting decimated mesh: neuron_864691135510518224_decimated_largest_piece_poisson_largest_inner.off\n",
      "\n",
      "    --- On segmentation loop 0 --\n",
      "largest_mesh_path_inner_decimated_clean = <trimesh.Trimesh(vertices.shape=(3614, 3), faces.shape=(7240, 3))>\n",
      "\n",
      "largest_mesh_path_inner_decimated_clean = <trimesh.Trimesh(vertices.shape=(3614, 3), faces.shape=(7240, 3))>\n",
      "soma_size_threshold = 562.5\n",
      "soma_size_threshold_max = 75000.0\n",
      "soma_width_threshold = 0.32\n",
      "\n",
      "Number of segments: 9\n",
      "\n"
     ]
    },
    {
     "data": {
      "application/vnd.jupyter.widget-view+json": {
       "model_id": "463c42534fd34eb095dfd3cfe425d7ac",
       "version_major": 2,
       "version_minor": 0
      },
      "text/plain": [
       "  0%|          | 0/9 [00:00<?, ?it/s]"
      ]
     },
     "metadata": {},
     "output_type": "display_data"
    },
    {
     "name": "stdout",
     "output_type": "stream",
     "text": [
      "      ------ Found 1 viable somas: [0.769893]\n",
      "Using Poisson Surface Reconstruction for watertightness in soma_volume_ratio\n",
      "xvfb-run -n 4823 -s \"-screen 0 800x600x24\" meshlabserver $@  -i /neurd_packages/NEURD/Applications/autoproof_neuron_pipeline/Poisson_temp/neuron_272750.off -o /neurd_packages/NEURD/Applications/autoproof_neuron_pipeline/Poisson_temp/neuron_272750_poisson.off -s /neurd_packages/NEURD/Applications/autoproof_neuron_pipeline/Poisson_temp/poisson_524067.mls\n",
      "removed temporary input file: /neurd_packages/NEURD/Applications/autoproof_neuron_pipeline/Poisson_temp/neuron_272750.off\n",
      "removed temporary output file: /neurd_packages/NEURD/Applications/autoproof_neuron_pipeline/Poisson_temp/neuron_272750_poisson.off\n",
      "mesh.is_watertight = True\n",
      "/neurd_packages/NEURD/Applications/autoproof_neuron_pipeline/Poisson_temp/poisson_524067.mls is being deleted....\n",
      "Inside sphere validater: ratio_val = 2.7266923461590085\n",
      "----- working on mesh after poisson #1: <trimesh.Trimesh(vertices.shape=(10700, 3), faces.shape=(21396, 3))>\n",
      "xvfb-run -n 416 -s \"-screen 0 800x600x24\" meshlabserver $@  -i /neurd_packages/NEURD/Applications/autoproof_neuron_pipeline/864691135510518224/neuron_864691135510518224_decimated_largest_piece_poisson_largest_inner.off -o /neurd_packages/NEURD/Applications/autoproof_neuron_pipeline/864691135510518224/neuron_864691135510518224_decimated_largest_piece_poisson_largest_inner_decimated.off -s /neurd_packages/NEURD/Applications/autoproof_neuron_pipeline/864691135510518224/decimation_meshlab_25379186.mls\n",
      "\n",
      "-------Splits after inner decimation len = 1--------\n",
      "\n",
      "done exporting decimated mesh: neuron_864691135510518224_decimated_largest_piece_poisson_largest_inner.off\n",
      "\n",
      "    --- On segmentation loop 0 --\n",
      "largest_mesh_path_inner_decimated_clean = <trimesh.Trimesh(vertices.shape=(2671, 3), faces.shape=(5338, 3))>\n",
      "\n",
      "largest_mesh_path_inner_decimated_clean = <trimesh.Trimesh(vertices.shape=(2671, 3), faces.shape=(5338, 3))>\n",
      "soma_size_threshold = 562.5\n",
      "soma_size_threshold_max = 75000.0\n",
      "soma_width_threshold = 0.32\n",
      "\n",
      "Number of segments: 3\n",
      "\n"
     ]
    },
    {
     "data": {
      "application/vnd.jupyter.widget-view+json": {
       "model_id": "fcc40a74086d47a995ee4be6fedf3388",
       "version_major": 2,
       "version_minor": 0
      },
      "text/plain": [
       "  0%|          | 0/3 [00:00<?, ?it/s]"
      ]
     },
     "metadata": {},
     "output_type": "display_data"
    },
    {
     "name": "stdout",
     "output_type": "stream",
     "text": [
      "      ------ Found 2 viable somas: [0.781901, 0.3351845]\n",
      "Using Poisson Surface Reconstruction for watertightness in soma_volume_ratio\n",
      "xvfb-run -n 5419 -s \"-screen 0 800x600x24\" meshlabserver $@  -i /neurd_packages/NEURD/Applications/autoproof_neuron_pipeline/Poisson_temp/neuron_494490.off -o /neurd_packages/NEURD/Applications/autoproof_neuron_pipeline/Poisson_temp/neuron_494490_poisson.off -s /neurd_packages/NEURD/Applications/autoproof_neuron_pipeline/Poisson_temp/poisson_144846.mls\n",
      "removed temporary input file: /neurd_packages/NEURD/Applications/autoproof_neuron_pipeline/Poisson_temp/neuron_494490.off\n",
      "removed temporary output file: /neurd_packages/NEURD/Applications/autoproof_neuron_pipeline/Poisson_temp/neuron_494490_poisson.off\n",
      "mesh.is_watertight = True\n",
      "/neurd_packages/NEURD/Applications/autoproof_neuron_pipeline/Poisson_temp/poisson_144846.mls is being deleted....\n",
      "Inside sphere validater: ratio_val = 2.130721459144365\n",
      "Using Poisson Surface Reconstruction for watertightness in soma_volume_ratio\n",
      "xvfb-run -n 8518 -s \"-screen 0 800x600x24\" meshlabserver $@  -i /neurd_packages/NEURD/Applications/autoproof_neuron_pipeline/Poisson_temp/neuron_1671.off -o /neurd_packages/NEURD/Applications/autoproof_neuron_pipeline/Poisson_temp/neuron_1671_poisson.off -s /neurd_packages/NEURD/Applications/autoproof_neuron_pipeline/Poisson_temp/poisson_4681.mls\n",
      "removed temporary input file: /neurd_packages/NEURD/Applications/autoproof_neuron_pipeline/Poisson_temp/neuron_1671.off\n",
      "removed temporary output file: /neurd_packages/NEURD/Applications/autoproof_neuron_pipeline/Poisson_temp/neuron_1671_poisson.off\n",
      "mesh.is_watertight = True\n",
      "/neurd_packages/NEURD/Applications/autoproof_neuron_pipeline/Poisson_temp/poisson_4681.mls is being deleted....\n",
      "Inside sphere validater: ratio_val = 2.4907819152454254\n",
      "\n",
      "\n",
      "\n",
      " Total time for run = 77.46815061569214\n",
      "Before Filtering the number of somas found = 3\n",
      "\n",
      "---Performing Soma Mesh Backtracking to original mesh for poisson soma 0\n",
      "backtrack_soma_size_threshold = 8000\n",
      "xvfb-run -n 6875 -s \"-screen 0 800x600x24\" meshlabserver $@  -i /neurd_packages/NEURD/Applications/autoproof_neuron_pipeline/temp/neuron_32612.off -o /neurd_packages/NEURD/Applications/autoproof_neuron_pipeline/temp/neuron_32612_fill_holes.off -s /neurd_packages/NEURD/Applications/autoproof_neuron_pipeline/temp/fill_holes_34318.mls\n",
      "\n",
      "---- meshlab output -----\n",
      "QStandardPaths: XDG_RUNTIME_DIR not set, defaulting to '/tmp/runtime-root'\n",
      "Current Plugins Dir is: /meshlab/src/distrib/plugins \n",
      "Error While parsing the XML filter plugin descriptors: We are trying to load a xml file that does not correspond to any dll or javascript code; please delete all the spurious xml files\n",
      "Error While parsing the XML filter plugin descriptors: We are trying to load a xml file that does not correspond to any dll or javascript code; please delete all the spurious xml files\n",
      "Opening a file with extention off\n",
      "FilterScript\n",
      "Reading filter with name Remove Duplicate Vertices\n",
      "Reading filter with name Remove Faces from Non Manifold Edges\n",
      "Reading filter with name Close Holes\n",
      "    Reading Param with name MaxHoleSize : RichInt\n",
      "    Reading Param with name Selected : RichBool\n",
      "    Reading Param with name NewFaceSelected : RichBool\n",
      "    Reading Param with name SelfIntersection : RichBool\n",
      "Loading Plugins:\n",
      "Total 105 filtering actions\n",
      "Total 1 io plugins\n",
      "Mesh /neurd_packages/NEURD/Applications/autoproof_neuron_pipeline/temp/neuron_32612.off loaded has 21848 vn 42079 fn\n",
      "output mesh  /neurd_packages/NEURD/Applications/autoproof_neuron_pipeline/temp/neuron_32612_fill_holes.off\n",
      "Apply FilterScript: '/neurd_packages/NEURD/Applications/autoproof_neuron_pipeline/temp/fill_holes_34318.mls'\n",
      "Starting Script of 3 actionsfilter: Remove Duplicate Vertices\n",
      "no additional memory available!!! memory required: 1029300\n",
      "LOG: 2 Removed 0 duplicated vertices\n",
      "Removed 0 duplicated vertices\n",
      "filter: Remove Faces from Non Manifold Edges\n",
      "no additional memory available!!! memory required: 1029300\n",
      "LOG: 2 Successfully removed 4223 non-manifold faces\n",
      "Removed 0 duplicated vertices\n",
      "Successfully removed 4223 non-manifold faces\n",
      "filter: Close Holes\n",
      "no additional memory available!!! memory required: 978624\n",
      "meshlabserver: ../../../../vcglib/vcg/complex/algorithms/hole.h:259: bool vcg::tri::TrivialEar<MESH>::Close(vcg::tri::TrivialEar<MESH>::PosType&, vcg::tri::TrivialEar<MESH>::PosType&, vcg::tri::TrivialEar<MESH>::FaceType*) [with MESH = CMeshO; vcg::tri::TrivialEar<MESH>::PosType = vcg::face::Pos<CFaceO>; typename MeshType::FaceType = CFaceO; vcg::tri::TrivialEar<MESH>::FaceType = CFaceO]: Assertion `e1.v->IsUserBit(NonManifoldBit())' failed.\n",
      "Aborted (core dumped)\n",
      "\n",
      "\n",
      " returncode ====== 134\n",
      "\n",
      " ------ Done with meshlab output------\n",
      "/neurd_packages/NEURD/Applications/autoproof_neuron_pipeline/temp/fill_holes_34318.mls is being deleted....\n",
      "The hole closing did not work so continuing without\n",
      "xvfb-run -n 5798 -s \"-screen 0 800x600x24\" meshlabserver $@  -i /neurd_packages/NEURD/Applications/autoproof_neuron_pipeline/temp/neuron_12188.off -o /neurd_packages/NEURD/Applications/autoproof_neuron_pipeline/temp/neuron_12188_remove_interior.off -s /neurd_packages/NEURD/Applications/autoproof_neuron_pipeline/temp/remove_interior_710072.mls\n",
      "removed temporary input file: /neurd_packages/NEURD/Applications/autoproof_neuron_pipeline/temp/neuron_12188.off\n",
      "removed temporary output file: /neurd_packages/NEURD/Applications/autoproof_neuron_pipeline/temp/neuron_12188_remove_interior.off\n",
      "/neurd_packages/NEURD/Applications/autoproof_neuron_pipeline/temp/remove_interior_710072.mls is being deleted....\n",
      "Removing the following inside neurons: [<trimesh.Trimesh(vertices.shape=(363, 3), faces.shape=(876, 3))>, <trimesh.Trimesh(vertices.shape=(301, 3), faces.shape=(613, 3))>, <trimesh.Trimesh(vertices.shape=(253, 3), faces.shape=(632, 3))>, <trimesh.Trimesh(vertices.shape=(199, 3), faces.shape=(446, 3))>, <trimesh.Trimesh(vertices.shape=(176, 3), faces.shape=(418, 3))>]\n",
      "split_meshes_after_backtrack = [<trimesh.Trimesh(vertices.shape=(11386, 3), faces.shape=(22560, 3))>]\n",
      "soma_size_threshold = 8000\n",
      "After backtrack the found 1 possible somas: [<trimesh.Trimesh(vertices.shape=(11386, 3), faces.shape=(22560, 3))>] \n",
      "\n",
      "--- working on backtrack soma 0: <trimesh.Trimesh(vertices.shape=(11386, 3), faces.shape=(22560, 3))>\n",
      "poisson_backtrack_distance_threshold = None\n",
      "Using Poisson Surface Reconstruction for watertightness in soma_volume_ratio\n",
      "xvfb-run -n 8796 -s \"-screen 0 800x600x24\" meshlabserver $@  -i /neurd_packages/NEURD/Applications/autoproof_neuron_pipeline/Poisson_temp/neuron_211168.off -o /neurd_packages/NEURD/Applications/autoproof_neuron_pipeline/Poisson_temp/neuron_211168_poisson.off -s /neurd_packages/NEURD/Applications/autoproof_neuron_pipeline/Poisson_temp/poisson_859905.mls\n",
      "removed temporary input file: /neurd_packages/NEURD/Applications/autoproof_neuron_pipeline/Poisson_temp/neuron_211168.off\n",
      "removed temporary output file: /neurd_packages/NEURD/Applications/autoproof_neuron_pipeline/Poisson_temp/neuron_211168_poisson.off\n",
      "mesh.is_watertight = True\n",
      "/neurd_packages/NEURD/Applications/autoproof_neuron_pipeline/Poisson_temp/poisson_859905.mls is being deleted....\n",
      "Inside sphere validater: ratio_val = 4.115475404999649\n",
      "About to add the following inside nuclei pieces after soma backtrack: [<trimesh.Trimesh(vertices.shape=(6494, 3), faces.shape=(15575, 3))>, <trimesh.Trimesh(vertices.shape=(3256, 3), faces.shape=(5810, 3))>, <trimesh.Trimesh(vertices.shape=(2064, 3), faces.shape=(4789, 3))>, <trimesh.Trimesh(vertices.shape=(2022, 3), faces.shape=(4628, 3))>, <trimesh.Trimesh(vertices.shape=(1922, 3), faces.shape=(4396, 3))>, <trimesh.Trimesh(vertices.shape=(1089, 3), faces.shape=(2556, 3))>, <trimesh.Trimesh(vertices.shape=(864, 3), faces.shape=(1989, 3))>, <trimesh.Trimesh(vertices.shape=(723, 3), faces.shape=(1611, 3))>, <trimesh.Trimesh(vertices.shape=(693, 3), faces.shape=(1561, 3))>, <trimesh.Trimesh(vertices.shape=(612, 3), faces.shape=(1378, 3))>, <trimesh.Trimesh(vertices.shape=(456, 3), faces.shape=(742, 3))>, <trimesh.Trimesh(vertices.shape=(344, 3), faces.shape=(727, 3))>]\n",
      "\n",
      "---Performing Soma Mesh Backtracking to original mesh for poisson soma 1\n",
      "backtrack_soma_size_threshold = 8000\n"
     ]
    },
    {
     "name": "stdout",
     "output_type": "stream",
     "text": [
      "xvfb-run -n 7017 -s \"-screen 0 800x600x24\" meshlabserver $@  -i /neurd_packages/NEURD/Applications/autoproof_neuron_pipeline/temp/neuron_27489.off -o /neurd_packages/NEURD/Applications/autoproof_neuron_pipeline/temp/neuron_27489_fill_holes.off -s /neurd_packages/NEURD/Applications/autoproof_neuron_pipeline/temp/fill_holes_909122.mls\n",
      "\n",
      "---- meshlab output -----\n",
      "QStandardPaths: XDG_RUNTIME_DIR not set, defaulting to '/tmp/runtime-root'\n",
      "Current Plugins Dir is: /meshlab/src/distrib/plugins \n",
      "Error While parsing the XML filter plugin descriptors: We are trying to load a xml file that does not correspond to any dll or javascript code; please delete all the spurious xml files\n",
      "Error While parsing the XML filter plugin descriptors: We are trying to load a xml file that does not correspond to any dll or javascript code; please delete all the spurious xml files\n",
      "Opening a file with extention off\n",
      "FilterScript\n",
      "Reading filter with name Remove Duplicate Vertices\n",
      "Reading filter with name Remove Faces from Non Manifold Edges\n",
      "Reading filter with name Close Holes\n",
      "    Reading Param with name MaxHoleSize : RichInt\n",
      "    Reading Param with name Selected : RichBool\n",
      "    Reading Param with name NewFaceSelected : RichBool\n",
      "    Reading Param with name SelfIntersection : RichBool\n",
      "Loading Plugins:\n",
      "Total 105 filtering actions\n",
      "Total 1 io plugins\n",
      "Mesh /neurd_packages/NEURD/Applications/autoproof_neuron_pipeline/temp/neuron_27489.off loaded has 11899 vn 22569 fn\n",
      "output mesh  /neurd_packages/NEURD/Applications/autoproof_neuron_pipeline/temp/neuron_27489_fill_holes.off\n",
      "Apply FilterScript: '/neurd_packages/NEURD/Applications/autoproof_neuron_pipeline/temp/fill_holes_909122.mls'\n",
      "Starting Script of 3 actionsfilter: Remove Duplicate Vertices\n",
      "no additional memory available!!! memory required: 556404\n",
      "LOG: 2 Removed 0 duplicated vertices\n",
      "Removed 0 duplicated vertices\n",
      "filter: Remove Faces from Non Manifold Edges\n",
      "no additional memory available!!! memory required: 556404\n",
      "LOG: 2 Successfully removed 1995 non-manifold faces\n",
      "Removed 0 duplicated vertices\n",
      "Successfully removed 1995 non-manifold faces\n",
      "filter: Close Holes\n",
      "no additional memory available!!! memory required: 532464\n",
      "meshlabserver: ../../../../vcglib/vcg/complex/algorithms/hole.h:259: bool vcg::tri::TrivialEar<MESH>::Close(vcg::tri::TrivialEar<MESH>::PosType&, vcg::tri::TrivialEar<MESH>::PosType&, vcg::tri::TrivialEar<MESH>::FaceType*) [with MESH = CMeshO; vcg::tri::TrivialEar<MESH>::PosType = vcg::face::Pos<CFaceO>; typename MeshType::FaceType = CFaceO; vcg::tri::TrivialEar<MESH>::FaceType = CFaceO]: Assertion `e1.v->IsUserBit(NonManifoldBit())' failed.\n",
      "Aborted (core dumped)\n",
      "\n",
      "\n",
      " returncode ====== 134\n",
      "\n",
      " ------ Done with meshlab output------\n",
      "/neurd_packages/NEURD/Applications/autoproof_neuron_pipeline/temp/fill_holes_909122.mls is being deleted....\n",
      "The hole closing did not work so continuing without\n",
      "xvfb-run -n 9017 -s \"-screen 0 800x600x24\" meshlabserver $@  -i /neurd_packages/NEURD/Applications/autoproof_neuron_pipeline/temp/neuron_61343.off -o /neurd_packages/NEURD/Applications/autoproof_neuron_pipeline/temp/neuron_61343_remove_interior.off -s /neurd_packages/NEURD/Applications/autoproof_neuron_pipeline/temp/remove_interior_185449.mls\n",
      "removed temporary input file: /neurd_packages/NEURD/Applications/autoproof_neuron_pipeline/temp/neuron_61343.off\n",
      "removed temporary output file: /neurd_packages/NEURD/Applications/autoproof_neuron_pipeline/temp/neuron_61343_remove_interior.off\n",
      "/neurd_packages/NEURD/Applications/autoproof_neuron_pipeline/temp/remove_interior_185449.mls is being deleted....\n",
      "Removing the following inside neurons: [<trimesh.Trimesh(vertices.shape=(328, 3), faces.shape=(686, 3))>, <trimesh.Trimesh(vertices.shape=(145, 3), faces.shape=(317, 3))>]\n",
      "split_meshes_after_backtrack = [<trimesh.Trimesh(vertices.shape=(4698, 3), faces.shape=(7809, 3))>, <trimesh.Trimesh(vertices.shape=(2761, 3), faces.shape=(4711, 3))>]\n",
      "soma_size_threshold = 8000\n",
      "After backtrack the found 0 possible somas: [] \n",
      "\n",
      "---Performing Soma Mesh Backtracking to original mesh for poisson soma 2\n",
      "backtrack_soma_size_threshold = 8000\n",
      "xvfb-run -n 6727 -s \"-screen 0 800x600x24\" meshlabserver $@  -i /neurd_packages/NEURD/Applications/autoproof_neuron_pipeline/temp/neuron_68984.off -o /neurd_packages/NEURD/Applications/autoproof_neuron_pipeline/temp/neuron_68984_fill_holes.off -s /neurd_packages/NEURD/Applications/autoproof_neuron_pipeline/temp/fill_holes_457036.mls\n",
      "\n",
      "---- meshlab output -----\n",
      "QStandardPaths: XDG_RUNTIME_DIR not set, defaulting to '/tmp/runtime-root'\n",
      "Current Plugins Dir is: /meshlab/src/distrib/plugins \n",
      "Error While parsing the XML filter plugin descriptors: We are trying to load a xml file that does not correspond to any dll or javascript code; please delete all the spurious xml files\n",
      "Error While parsing the XML filter plugin descriptors: We are trying to load a xml file that does not correspond to any dll or javascript code; please delete all the spurious xml files\n",
      "Opening a file with extention off\n",
      "FilterScript\n",
      "Reading filter with name Remove Duplicate Vertices\n",
      "Reading filter with name Remove Faces from Non Manifold Edges\n",
      "Reading filter with name Close Holes\n",
      "    Reading Param with name MaxHoleSize : RichInt\n",
      "    Reading Param with name Selected : RichBool\n",
      "    Reading Param with name NewFaceSelected : RichBool\n",
      "    Reading Param with name SelfIntersection : RichBool\n",
      "Loading Plugins:\n",
      "Total 105 filtering actions\n",
      "Total 1 io plugins\n",
      "Mesh /neurd_packages/NEURD/Applications/autoproof_neuron_pipeline/temp/neuron_68984.off loaded has 11083 vn 21026 fn\n",
      "output mesh  /neurd_packages/NEURD/Applications/autoproof_neuron_pipeline/temp/neuron_68984_fill_holes.off\n",
      "Apply FilterScript: '/neurd_packages/NEURD/Applications/autoproof_neuron_pipeline/temp/fill_holes_457036.mls'\n",
      "Starting Script of 3 actionsfilter: Remove Duplicate Vertices\n",
      "no additional memory available!!! memory required: 518304\n",
      "LOG: 2 Removed 0 duplicated vertices\n",
      "Removed 0 duplicated vertices\n",
      "filter: Remove Faces from Non Manifold Edges\n",
      "no additional memory available!!! memory required: 518304\n",
      "LOG: 2 Successfully removed 1600 non-manifold faces\n",
      "Removed 0 duplicated vertices\n",
      "Successfully removed 1600 non-manifold faces\n",
      "filter: Close Holes\n",
      "no additional memory available!!! memory required: 499104\n",
      "meshlabserver: ../../../../vcglib/vcg/complex/algorithms/hole.h:259: bool vcg::tri::TrivialEar<MESH>::Close(vcg::tri::TrivialEar<MESH>::PosType&, vcg::tri::TrivialEar<MESH>::PosType&, vcg::tri::TrivialEar<MESH>::FaceType*) [with MESH = CMeshO; vcg::tri::TrivialEar<MESH>::PosType = vcg::face::Pos<CFaceO>; typename MeshType::FaceType = CFaceO; vcg::tri::TrivialEar<MESH>::FaceType = CFaceO]: Assertion `e1.v->IsUserBit(NonManifoldBit())' failed.\n",
      "Aborted (core dumped)\n",
      "\n",
      "\n",
      " returncode ====== 134\n",
      "\n",
      " ------ Done with meshlab output------\n",
      "/neurd_packages/NEURD/Applications/autoproof_neuron_pipeline/temp/fill_holes_457036.mls is being deleted....\n",
      "The hole closing did not work so continuing without\n",
      "xvfb-run -n 4306 -s \"-screen 0 800x600x24\" meshlabserver $@  -i /neurd_packages/NEURD/Applications/autoproof_neuron_pipeline/temp/neuron_72695.off -o /neurd_packages/NEURD/Applications/autoproof_neuron_pipeline/temp/neuron_72695_remove_interior.off -s /neurd_packages/NEURD/Applications/autoproof_neuron_pipeline/temp/remove_interior_584862.mls\n",
      "removed temporary input file: /neurd_packages/NEURD/Applications/autoproof_neuron_pipeline/temp/neuron_72695.off\n",
      "removed temporary output file: /neurd_packages/NEURD/Applications/autoproof_neuron_pipeline/temp/neuron_72695_remove_interior.off\n",
      "/neurd_packages/NEURD/Applications/autoproof_neuron_pipeline/temp/remove_interior_584862.mls is being deleted....\n",
      "Removing the following inside neurons: [<trimesh.Trimesh(vertices.shape=(145, 3), faces.shape=(317, 3))>]\n",
      "split_meshes_after_backtrack = [<trimesh.Trimesh(vertices.shape=(5708, 3), faces.shape=(10517, 3))>]\n",
      "soma_size_threshold = 8000\n",
      "After backtrack the found 1 possible somas: [<trimesh.Trimesh(vertices.shape=(5708, 3), faces.shape=(10517, 3))>] \n",
      "\n",
      "--- working on backtrack soma 0: <trimesh.Trimesh(vertices.shape=(5708, 3), faces.shape=(10517, 3))>\n",
      "poisson_backtrack_distance_threshold = None\n",
      "Using Poisson Surface Reconstruction for watertightness in soma_volume_ratio\n",
      "xvfb-run -n 2272 -s \"-screen 0 800x600x24\" meshlabserver $@  -i /neurd_packages/NEURD/Applications/autoproof_neuron_pipeline/Poisson_temp/neuron_628945.off -o /neurd_packages/NEURD/Applications/autoproof_neuron_pipeline/Poisson_temp/neuron_628945_poisson.off -s /neurd_packages/NEURD/Applications/autoproof_neuron_pipeline/Poisson_temp/poisson_830926.mls\n"
     ]
    },
    {
     "name": "stdout",
     "output_type": "stream",
     "text": [
      "removed temporary input file: /neurd_packages/NEURD/Applications/autoproof_neuron_pipeline/Poisson_temp/neuron_628945.off\n",
      "removed temporary output file: /neurd_packages/NEURD/Applications/autoproof_neuron_pipeline/Poisson_temp/neuron_628945_poisson.off\n",
      "mesh.is_watertight = False\n",
      "/neurd_packages/NEURD/Applications/autoproof_neuron_pipeline/Poisson_temp/poisson_830926.mls is being deleted....\n",
      "Inside sphere validater: ratio_val = 2.779561458917224\n",
      "About to add the following inside nuclei pieces after soma backtrack: [<trimesh.Trimesh(vertices.shape=(6494, 3), faces.shape=(15575, 3))>, <trimesh.Trimesh(vertices.shape=(3256, 3), faces.shape=(5810, 3))>, <trimesh.Trimesh(vertices.shape=(2064, 3), faces.shape=(4789, 3))>, <trimesh.Trimesh(vertices.shape=(2022, 3), faces.shape=(4628, 3))>, <trimesh.Trimesh(vertices.shape=(1922, 3), faces.shape=(4396, 3))>, <trimesh.Trimesh(vertices.shape=(1089, 3), faces.shape=(2556, 3))>, <trimesh.Trimesh(vertices.shape=(864, 3), faces.shape=(1989, 3))>, <trimesh.Trimesh(vertices.shape=(723, 3), faces.shape=(1611, 3))>, <trimesh.Trimesh(vertices.shape=(693, 3), faces.shape=(1561, 3))>, <trimesh.Trimesh(vertices.shape=(612, 3), faces.shape=(1378, 3))>, <trimesh.Trimesh(vertices.shape=(456, 3), faces.shape=(742, 3))>, <trimesh.Trimesh(vertices.shape=(344, 3), faces.shape=(727, 3))>, <trimesh.Trimesh(vertices.shape=(363, 3), faces.shape=(876, 3))>, <trimesh.Trimesh(vertices.shape=(301, 3), faces.shape=(613, 3))>, <trimesh.Trimesh(vertices.shape=(253, 3), faces.shape=(632, 3))>, <trimesh.Trimesh(vertices.shape=(199, 3), faces.shape=(446, 3))>, <trimesh.Trimesh(vertices.shape=(176, 3), faces.shape=(418, 3))>]\n",
      "Skipping the segmentatio filter at end\n",
      "removing mesh interior before segmentation\n",
      "xvfb-run -n 9915 -s \"-screen 0 800x600x24\" meshlabserver $@  -i /neurd_packages/NEURD/Applications/autoproof_neuron_pipeline/temp/neuron_84720.off -o /neurd_packages/NEURD/Applications/autoproof_neuron_pipeline/temp/neuron_84720_fill_holes.off -s /neurd_packages/NEURD/Applications/autoproof_neuron_pipeline/temp/fill_holes_923355.mls\n",
      "removed temporary input file: /neurd_packages/NEURD/Applications/autoproof_neuron_pipeline/temp/neuron_84720.off\n",
      "removed temporary output file: /neurd_packages/NEURD/Applications/autoproof_neuron_pipeline/temp/neuron_84720_fill_holes.off\n",
      "/neurd_packages/NEURD/Applications/autoproof_neuron_pipeline/temp/fill_holes_923355.mls is being deleted....\n",
      "xvfb-run -n 7899 -s \"-screen 0 800x600x24\" meshlabserver $@  -i /neurd_packages/NEURD/Applications/autoproof_neuron_pipeline/temp/neuron_92203.off -o /neurd_packages/NEURD/Applications/autoproof_neuron_pipeline/temp/neuron_92203_remove_interior.off -s /neurd_packages/NEURD/Applications/autoproof_neuron_pipeline/temp/remove_interior_119267.mls\n",
      "removed temporary input file: /neurd_packages/NEURD/Applications/autoproof_neuron_pipeline/temp/neuron_92203.off\n",
      "removed temporary output file: /neurd_packages/NEURD/Applications/autoproof_neuron_pipeline/temp/neuron_92203_remove_interior.off\n",
      "/neurd_packages/NEURD/Applications/autoproof_neuron_pipeline/temp/remove_interior_119267.mls is being deleted....\n",
      "No significant (1000) interior meshes present\n",
      "largest is 289\n",
      "Doing the soma segmentation filter at end\n",
      "\n",
      "Number of segments: 9\n",
      "\n"
     ]
    },
    {
     "data": {
      "application/vnd.jupyter.widget-view+json": {
       "model_id": "af0e46e528db41b29ddf0e13bb5466fd",
       "version_major": 2,
       "version_minor": 0
      },
      "text/plain": [
       "  0%|          | 0/9 [00:00<?, ?it/s]"
      ]
     },
     "metadata": {},
     "output_type": "display_data"
    },
    {
     "name": "stdout",
     "output_type": "stream",
     "text": [
      "Largest hole before segmentation = 84198.44608552229, after = 79686.03659527568,\n",
      "\n",
      "ratio = 0.9464074493053798, difference = -4512.409490246602\n",
      "Skipping the segmentatio filter at end\n",
      "removing mesh interior before segmentation\n",
      "xvfb-run -n 6507 -s \"-screen 0 800x600x24\" meshlabserver $@  -i /neurd_packages/NEURD/Applications/autoproof_neuron_pipeline/temp/neuron_52297.off -o /neurd_packages/NEURD/Applications/autoproof_neuron_pipeline/temp/neuron_52297_fill_holes.off -s /neurd_packages/NEURD/Applications/autoproof_neuron_pipeline/temp/fill_holes_192281.mls\n",
      "removed temporary input file: /neurd_packages/NEURD/Applications/autoproof_neuron_pipeline/temp/neuron_52297.off\n",
      "removed temporary output file: /neurd_packages/NEURD/Applications/autoproof_neuron_pipeline/temp/neuron_52297_fill_holes.off\n",
      "/neurd_packages/NEURD/Applications/autoproof_neuron_pipeline/temp/fill_holes_192281.mls is being deleted....\n",
      "xvfb-run -n 2487 -s \"-screen 0 800x600x24\" meshlabserver $@  -i /neurd_packages/NEURD/Applications/autoproof_neuron_pipeline/temp/neuron_97186.off -o /neurd_packages/NEURD/Applications/autoproof_neuron_pipeline/temp/neuron_97186_remove_interior.off -s /neurd_packages/NEURD/Applications/autoproof_neuron_pipeline/temp/remove_interior_480686.mls\n",
      "removed temporary input file: /neurd_packages/NEURD/Applications/autoproof_neuron_pipeline/temp/neuron_97186.off\n",
      "removed temporary output file: /neurd_packages/NEURD/Applications/autoproof_neuron_pipeline/temp/neuron_97186_remove_interior.off\n",
      "/neurd_packages/NEURD/Applications/autoproof_neuron_pipeline/temp/remove_interior_480686.mls is being deleted....\n",
      "No significant (1000) interior meshes present\n",
      "largest is 48\n",
      "Doing the soma segmentation filter at end\n",
      "\n",
      "Number of segments: 2\n",
      "\n"
     ]
    },
    {
     "data": {
      "application/vnd.jupyter.widget-view+json": {
       "model_id": "a9b42bfd01ff4b07b1ecb457796796c8",
       "version_major": 2,
       "version_minor": 0
      },
      "text/plain": [
       "  0%|          | 0/2 [00:00<?, ?it/s]"
      ]
     },
     "metadata": {},
     "output_type": "display_data"
    },
    {
     "name": "stdout",
     "output_type": "stream",
     "text": [
      "No split meshes were above the width threshold (0.32) and size threshold (2000) so continuing\n",
      "So just going with old somas\n",
      "filtered_soma_list_components = [<trimesh.Trimesh(vertices.shape=(11386, 3), faces.shape=(22560, 3))>\n",
      " <trimesh.Trimesh(vertices.shape=(5708, 3), faces.shape=(10517, 3))>]\n",
      "Not need to do a second pass because already found a soma\n"
     ]
    }
   ],
   "source": [
    "(total_soma_list, \n",
    " run_time, \n",
    " total_soma_list_sdf,\n",
    " glia_pieces,\n",
    " nuclei_pieces) = sm.extract_soma_center(\n",
    "    segment_id,\n",
    "    mesh = mesh_dec,\n",
    "    return_glia_nuclei_pieces=True,\n",
    "    verbose = True,\n",
    ")"
   ]
  },
  {
   "cell_type": "code",
   "execution_count": 80,
   "id": "ead5f509",
   "metadata": {},
   "outputs": [
    {
     "name": "stdout",
     "output_type": "stream",
     "text": [
      "# of somas = 2\n",
      "# of glia = 0\n",
      "# of nuclei = 18\n"
     ]
    },
    {
     "data": {
      "application/vnd.jupyter.widget-view+json": {
       "model_id": "cc8b681c171d402c9d48004a011ddb73",
       "version_major": 2,
       "version_minor": 0
      },
      "text/plain": [
       "Container(figure=Figure(box_center=[0.5, 0.5, 0.5], box_size=[1.0, 1.0, 1.0], camera=PerspectiveCamera(fov=45.…"
      ]
     },
     "metadata": {},
     "output_type": "display_data"
    }
   ],
   "source": [
    "from neurd import neuron_visualizations as nviz\n",
    "nviz.plot_soma_extraction_meshes(\n",
    "    mesh_dec,\n",
    "    total_soma_list,\n",
    "    glia_pieces,\n",
    "    nuclei_pieces,\n",
    "    verbose = True,\n",
    ")"
   ]
  },
  {
   "cell_type": "markdown",
   "id": "f495610d",
   "metadata": {},
   "source": [
    "# Step 3: Decomposition"
   ]
  },
  {
   "cell_type": "code",
   "execution_count": 18,
   "id": "b941527d",
   "metadata": {},
   "outputs": [],
   "source": [
    "from neurd import neuron"
   ]
  },
  {
   "cell_type": "code",
   "execution_count": 19,
   "id": "58fd70bf",
   "metadata": {},
   "outputs": [],
   "source": [
    "#/mnt/lab/users/celiib/neurd_packages/neuron_mesh_tools/Auto_Proofreading/Minnie65_Pipeline/Auto_Proof/m65_autoproof_4_Decomposition_full_v1.ipynb"
   ]
  },
  {
   "cell_type": "code",
   "execution_count": 20,
   "id": "ebcd5925",
   "metadata": {},
   "outputs": [],
   "source": [
    "neurd.set_volume_params(\n",
    "    volume = \"microns\"\n",
    ")"
   ]
  },
  {
   "cell_type": "code",
   "execution_count": 21,
   "id": "e4d334ba",
   "metadata": {},
   "outputs": [],
   "source": [
    "somas = [\n",
    " total_soma_list, \n",
    " run_time, \n",
    " total_soma_list_sdf,\n",
    "]"
   ]
  },
  {
   "cell_type": "code",
   "execution_count": 22,
   "id": "e4f3779e",
   "metadata": {
    "scrolled": true
   },
   "outputs": [
    {
     "name": "stdout",
     "output_type": "stream",
     "text": [
      "picking a random 7 digit segment id: 84530917\n",
      "--- 0) Having to preprocess the Neuron becuase no preprocessed data\n",
      "Please wait this could take a while.....\n",
      "Skipping the hole filling\n",
      "limb_remove_mesh_interior_face_threshold = 0\n",
      "use_meshafterparty = True\n",
      "Using pre-computed somas: soma_mesh_list = [<trimesh.Trimesh(vertices.shape=(11386, 3), faces.shape=(22560, 3))>, <trimesh.Trimesh(vertices.shape=(5708, 3), faces.shape=(10517, 3))>]\n",
      "Soma List = [<trimesh.Trimesh(vertices.shape=(11386, 3), faces.shape=(22560, 3))>, <trimesh.Trimesh(vertices.shape=(5708, 3), faces.shape=(10517, 3))>]\n",
      "soma_mesh_list_centers = [array([1488880.76058317,  589300.09373793, 1100652.31345512]), array([1472182.71408549,  577993.08644009, 1112354.27575333])]\n",
      "Getting Glia and Nuclei Pieces Subtracted Away 0.15792489051818848\n",
      " Splitting mesh after soma cancellation 1.6807746887207031\n",
      "# of split_meshes = 4\n",
      " Containing Mesh Indices 0.019295930862426758\n",
      "containing_mesh_indices = {0: 0, 1: 0}\n",
      " non_soma_touching_meshes 1.4066696166992188e-05\n",
      "There were 3 pieces found after size threshold\n",
      " Finding inside pieces and non_soma_touching meshes 0.5029253959655762\n",
      "soma_containing_meshes = {0: [0, 1]}\n",
      "\n",
      "-----Before combining multiple mesh pieces-----\n",
      "soma_containing_meshes = {0: [0, 1]}\n",
      "\n",
      "-----After combining multiple mesh pieces-----\n",
      "soma_containing_meshes = {0: [0, 1]}\n",
      "\n",
      "\n",
      "----Working on soma-containing mesh piece 0----\n",
      "Total time for Subtract Soma and Original_mesh_faces_map for somas= 0.2840399742126465\n",
      "new_floating_pieces = []\n",
      "Total time for sig_non_soma_pieces= 0.9657299518585205\n",
      "Not applying expansions\n",
      "Total time for split= 3.337860107421875e-06\n",
      "Total time for mesh_pieces_connectivity= 0.8750059604644775\n",
      "# of insignificant_limbs = 1 with trimesh : [<trimesh.Trimesh(vertices.shape=(11, 3), faces.shape=(15, 3))>]\n",
      "# of not_processed_soma_containing_meshes = 0 with trimesh : []\n",
      "\n",
      "\n",
      "----- Working on Proper Limb # 0 ---------\n",
      "meshparty_segment_size = 100\n",
      "invalidation_d = 12000\n",
      "use_adaptive_invalidation_d= False\n",
      "axon_width_preprocess_limb_max = 200\n",
      "filter_end_node_length= 4000\n",
      "filter_end_node_length_meshparty = 4000\n",
      "invalidation_d = 12000\n",
      "root_curr = [1487208.   596715.8 1099876. ]\n",
      "Time for preparing soma vertices and root: 0.0003807544708251953\n",
      "invalidation_d = 12000\n",
      "smooth_neighborhood = 1\n",
      "cc_vertex_thresh = 10\n"
     ]
    },
    {
     "name": "stderr",
     "output_type": "stream",
     "text": [
      "\r",
      "  0%|          | 0/1 [00:00<?, ?it/s]"
     ]
    },
    {
     "data": {
      "application/vnd.jupyter.widget-view+json": {
       "model_id": "0cea387103904b4e953014733f05f288",
       "version_major": 2,
       "version_minor": 0
      },
      "text/plain": [
       "  0%|          | 0/33579 [00:00<?, ?it/s]"
      ]
     },
     "metadata": {},
     "output_type": "display_data"
    },
    {
     "name": "stderr",
     "output_type": "stream",
     "text": [
      "100%|██████████| 1/1 [00:00<00:00,  7.18it/s]\n"
     ]
    },
    {
     "name": "stdout",
     "output_type": "stream",
     "text": [
      "meshparty_segment_size = 100\n",
      "Time for 1st pass MP skeletonization: 0.3711698055267334\n",
      "connecting at the root\n",
      "branches_touching_root = [6]\n",
      "combining close nodes\n",
      "combine_threshold = 700\n",
      "length of Graph = 3258\n",
      "After combining close endpoints max(kept_branches_idx) = 6, len(kept_branches_idx) = 7\n",
      "empty_indices % = 0.0\n",
      " conflict_indices % = 0.002908632942517017\n"
     ]
    },
    {
     "data": {
      "application/vnd.jupyter.widget-view+json": {
       "model_id": "564ffbf6443641d594d3b38b22e733fa",
       "version_major": 2,
       "version_minor": 0
      },
      "text/plain": [
       "  0%|          | 0/3 [00:00<?, ?it/s]"
      ]
     },
     "metadata": {},
     "output_type": "display_data"
    },
    {
     "name": "stdout",
     "output_type": "stream",
     "text": [
      "AFTER face_lookup_resolved_test\n"
     ]
    },
    {
     "data": {
      "application/vnd.jupyter.widget-view+json": {
       "model_id": "bcd86ab58255466aafd4cbc6af2a0248",
       "version_major": 2,
       "version_minor": 0
      },
      "text/plain": [
       "  0%|          | 0/7 [00:00<?, ?it/s]"
      ]
     },
     "metadata": {},
     "output_type": "display_data"
    },
    {
     "name": "stdout",
     "output_type": "stream",
     "text": [
      "Decomposing first pass: 2.3072495460510254\n",
      "Attempting to use MeshAfterParty Skeletonization and Mesh Correspondence\n",
      "Another print\n",
      "Found len(mesh_large_idx) MAP candidates: [638, 7672]\n",
      "mesh_large_connectivity: 0.002768993377685547\n",
      "Finding MAP candidates connected components: 6.651878356933594e-05\n",
      "len(filtered_pieces) = 1\n",
      "skeleton_connectivity_MP : 0.07028818130493164\n",
      "Grouping MP Sublimbs by Graph: 0.03550601005554199\n",
      "Divinding into MP and MAP pieces: 1.1920928955078125e-06\n",
      "--- Working on MAP piece 0---\n",
      "MAP Filtering Soma Pieces: 0.0016930103302001953\n",
      "inside skeletonize_connected_branch and use_surface_after_CGAL=True, surface_reconstruction_size=1000\n",
      "keep_idx = [0]\n",
      "     Starting Screened Poisson\n",
      "xvfb-run -n 7078 -s \"-screen 0 800x600x24\" meshlabserver $@  -i /neurd_packages/NEURD/Applications/autoproof_neuron_pipeline/temp/None.off -o /neurd_packages/NEURD/Applications/autoproof_neuron_pipeline/temp/None_poisson.off -s /neurd_packages/NEURD/Applications/autoproof_neuron_pipeline/temp/poisson_795294.mls\n",
      "removed temporary input file: /neurd_packages/NEURD/Applications/autoproof_neuron_pipeline/temp/None.off\n",
      "removed temporary output file: /neurd_packages/NEURD/Applications/autoproof_neuron_pipeline/temp/None_poisson.off\n",
      "Using the close holes feature\n",
      "xvfb-run -n 9988 -s \"-screen 0 800x600x24\" meshlabserver $@  -i /neurd_packages/NEURD/Applications/autoproof_neuron_pipeline/temp/neuron_89030.off -o /neurd_packages/NEURD/Applications/autoproof_neuron_pipeline/temp/neuron_89030_fill_holes.off -s /neurd_packages/NEURD/Applications/autoproof_neuron_pipeline/temp/fill_holes_147114.mls\n",
      "removed temporary input file: /neurd_packages/NEURD/Applications/autoproof_neuron_pipeline/temp/neuron_89030.off\n",
      "removed temporary output file: /neurd_packages/NEURD/Applications/autoproof_neuron_pipeline/temp/neuron_89030_fill_holes.off\n",
      "/neurd_packages/NEURD/Applications/autoproof_neuron_pipeline/temp/fill_holes_147114.mls is being deleted....\n",
      "-----Time for Screened Poisson= 8.37794017791748\n",
      "mesh_pieces = [<trimesh.Trimesh(vertices.shape=(7406, 3), faces.shape=(14808, 3))>]\n",
      "     Starting Calcification (Changed back where stitches large poissons)\n",
      "Manifold status before skeletonization = True\n",
      "Watertight status before skeletonization = True\n",
      "min_edge_length = 75\n",
      "Before mesh subtraction number of skeleton edges = 302\n"
     ]
    },
    {
     "data": {
      "application/vnd.jupyter.widget-view+json": {
       "model_id": "2bca855c6a45423ebde3fd5b45c9711a",
       "version_major": 2,
       "version_minor": 0
      },
      "text/plain": [
       "0it [00:00, ?it/s]"
      ]
     },
     "metadata": {},
     "output_type": "display_data"
    },
    {
     "name": "stdout",
     "output_type": "stream",
     "text": [
      "len(leftover_meshes_sig) = []\n"
     ]
    },
    {
     "data": {
      "application/vnd.jupyter.widget-view+json": {
       "model_id": "0df9ce86609a4b81be53aa296f3c3974",
       "version_major": 2,
       "version_minor": 0
      },
      "text/plain": [
       "0it [00:00, ?it/s]"
      ]
     },
     "metadata": {},
     "output_type": "display_data"
    },
    {
     "name": "stdout",
     "output_type": "stream",
     "text": [
      "No skeletons to stack so returning empty list\n",
      "STacking the leftover and significant poisson skeleton\n",
      "max_stitch_distance = 5000\n",
      "len_subgraphs AT BEGINNING of the loop\n"
     ]
    },
    {
     "data": {
      "application/vnd.jupyter.widget-view+json": {
       "model_id": "8d9331fadf6e48f3a3231734cdfe28a4",
       "version_major": 2,
       "version_minor": 0
      },
      "text/plain": [
       "  0%|          | 0/1 [00:00<?, ?it/s]"
      ]
     },
     "metadata": {},
     "output_type": "display_data"
    },
    {
     "name": "stdout",
     "output_type": "stream",
     "text": [
      "all graph is one component!\n",
      "Total time for skeleton stitching = 0.017275333404541016\n",
      "The process was using a temp folder\n",
      "Checking connected components after skeletonize_connected_branch\n",
      "    Total time for skeletonizing branch: 9.56391978263855\n",
      "Checking connected components after removing cycles\n",
      "Total time for mesh KDTree = 0.040300607681274414\n",
      "sbv[0].reshape(-1,3) = [[1487208.   596715.8 1099876. ]]\n",
      "closest_sk_pt_coord BEFORE = [1487610.  597313. 1100720.]\n",
      "current_skeleton.shape = (301, 2, 3)\n",
      "node_for_stitch = 213: [1487610.  597313. 1100720.]\n",
      "node_for_stitch AFTER = 213: [1487610.  597313. 1100720.]\n",
      "possible_node_loc = [  0  43 213 301]\n",
      "possible_node_loc AFTER = [  0  43 213 301]\n",
      "curr_shortest_path = [213]\n",
      "Current stitch point was a branch or endpoint\n",
      "change_status for create soma extending pieces = False\n",
      "closest_sk_pt_coord AFTER = [1487610.  597313. 1100720.]\n",
      "skipping soma 0 because closest skeleton node was already end node\n",
      "endpoints_must_keep = {0: array([[1487610.,  597313., 1100720.]])}\n",
      "    Total time for Fixing Skeleton Soma Endpoint Extension : 0.16121149063110352\n",
      "filter_end_node_length = 4000\n",
      "Using Distance measure skeletal_distance\n",
      "endpoints_must_keep = [[1487610.  597313. 1100720.]]\n",
      "Number of end_nodes BEFORE filtering = 4\n",
      "all_single_nodes_to_eliminate = [2]\n"
     ]
    },
    {
     "data": {
      "application/vnd.jupyter.widget-view+json": {
       "model_id": "5ce7172ed2624d36976643f5a3ded22b",
       "version_major": 2,
       "version_minor": 0
      },
      "text/plain": [
       "  0%|          | 0/1 [00:00<?, ?it/s]"
      ]
     },
     "metadata": {},
     "output_type": "display_data"
    },
    {
     "name": "stdout",
     "output_type": "stream",
     "text": [
      "Checking connected components after clean_skeleton\n",
      "after DISTANCE cleaning limb size of skeleton = (281, 2, 3)\n",
      "********COMBINING CLOSE SKELETON NODES WITHIN 700 DISTANCE**********\n",
      "combine_threshold = 700\n",
      "Found 0 valid paths to replace\n",
      "valid_paths = []\n",
      "valid_path_lengths = []\n",
      "No valid paths found so just returning the original\n",
      "skeletonize_and_clean_connected_branch_CGAL: 9.908994436264038\n",
      "Working on limb correspondence for #0 MAP piece\n",
      "xvfb-run -n 1482 -s \"-screen 0 800x600x24\" meshlabserver $@  -i /neurd_packages/NEURD/Applications/autoproof_neuron_pipeline/temp/neuron_51788.off -o /neurd_packages/NEURD/Applications/autoproof_neuron_pipeline/temp/neuron_51788_remove_interior.off -s /neurd_packages/NEURD/Applications/autoproof_neuron_pipeline/temp/remove_interior_907953.mls\n",
      "removed temporary input file: /neurd_packages/NEURD/Applications/autoproof_neuron_pipeline/temp/neuron_51788.off\n",
      "removed temporary output file: /neurd_packages/NEURD/Applications/autoproof_neuron_pipeline/temp/neuron_51788_remove_interior.off\n",
      "/neurd_packages/NEURD/Applications/autoproof_neuron_pipeline/temp/remove_interior_907953.mls is being deleted....\n",
      "No significant (100) interior meshes present\n",
      "largest is 14\n"
     ]
    },
    {
     "data": {
      "application/vnd.jupyter.widget-view+json": {
       "model_id": "938de72926bf464c9fbb4db9968edcdb",
       "version_major": 2,
       "version_minor": 0
      },
      "text/plain": [
       "0it [00:00, ?it/s]"
      ]
     },
     "metadata": {},
     "output_type": "display_data"
    },
    {
     "name": "stdout",
     "output_type": "stream",
     "text": [
      "Total time for decomposition = 1.6726500988006592\n",
      "mesh_correspondence_first_pass: 1.672685146331787\n",
      "Limb decomposed into 3 branches\n",
      "divided_skeleton_graph_recovered = (281, 2, 3) and \n",
      "current_mesh_data[0]['branch_skeletons_cleaned'].shape = (281, 2, 3)\n",
      "\n",
      "Number of connected components in deocmposed recovered graph = 1\n",
      "Number of connected components in cleaned skeleton graph= 1\n",
      "The downsampled branches number of connected components = 1\n",
      "Empty submeshes = []\n",
      "\n",
      "\n",
      "--- Working on 1-to-1 correspondence-----\n",
      "max(original_labels),len(original_labels) = (2, 3)\n",
      "empty_indices % = 0.15908543922984356\n",
      " conflict_indices % = 0.026233453670276775\n"
     ]
    },
    {
     "data": {
      "application/vnd.jupyter.widget-view+json": {
       "model_id": "09a9c4301e774ceaa83d0bf73a59cd26",
       "version_major": 2,
       "version_minor": 0
      },
      "text/plain": [
       "  0%|          | 0/15 [00:00<?, ?it/s]"
      ]
     },
     "metadata": {},
     "output_type": "display_data"
    },
    {
     "name": "stdout",
     "output_type": "stream",
     "text": [
      "AFTER face_lookup_resolved_test\n",
      "Took 0 iterations to expand the label back\n",
      "empty_indices % = 0.0\n",
      " conflict_indices % = 0.0\n"
     ]
    },
    {
     "data": {
      "application/vnd.jupyter.widget-view+json": {
       "model_id": "6196e8ee093344a0a38987dcdcef8785",
       "version_major": 2,
       "version_minor": 0
      },
      "text/plain": [
       "0it [00:00, ?it/s]"
      ]
     },
     "metadata": {},
     "output_type": "display_data"
    },
    {
     "name": "stdout",
     "output_type": "stream",
     "text": [
      "AFTER face_lookup_resolved_test\n"
     ]
    },
    {
     "data": {
      "application/vnd.jupyter.widget-view+json": {
       "model_id": "8e1719f0fc434df59a47edf0ba6ee9ca",
       "version_major": 2,
       "version_minor": 0
      },
      "text/plain": [
       "  0%|          | 0/3 [00:00<?, ?it/s]"
      ]
     },
     "metadata": {},
     "output_type": "display_data"
    },
    {
     "name": "stdout",
     "output_type": "stream",
     "text": [
      "Total time for MAP sublimb #0 mesh processing = 12.004319906234741\n",
      "correspondence_1_to_1: 0.42095470428466797\n",
      "Total time for MAP sublimb processing 12.004385709762573\n",
      "---- Working on MP Decomposition #0 ----\n",
      "Computing the current soma touching verts dict manually\n",
      "MP filtering soma verts: 0.02260589599609375\n",
      "Do Not Need to Fix MP Decomposition 0 so just continuing\n",
      "---- Working on MP Decomposition #1 ----\n",
      "Computing the current soma touching verts dict manually\n",
      "MP filtering soma verts: 0.020953893661499023\n",
      "Do Not Need to Fix MP Decomposition 1 so just continuing\n",
      "---- Working on MP Decomposition #2 ----\n",
      "Computing the current soma touching verts dict manually\n",
      "MP filtering soma verts: 0.023895978927612305\n",
      "Do Not Need to Fix MP Decomposition 2 so just continuing\n",
      "Successful mesh connectivity with type edges\n",
      "\n",
      "---- Working on (0, 0) connection-----\n",
      "sk_conn = [0, 1]\n",
      "conn = [0, 1]\n",
      "winning_vertex = [1491450.08344721  608267.60149996 1098228.13300974]\n",
      "MP_branches_with_stitch_point = [0, 1]\n",
      "MAP_branches_with_stitch_point = [2]\n",
      "MAP_stitch_point_on_end_or_branch = True\n"
     ]
    },
    {
     "data": {
      "application/vnd.jupyter.widget-view+json": {
       "model_id": "771d72f1ade444a6830494fbf3ac5ae0",
       "version_major": 2,
       "version_minor": 0
      },
      "text/plain": [
       "0it [00:00, ?it/s]"
      ]
     },
     "metadata": {},
     "output_type": "display_data"
    },
    {
     "name": "stdout",
     "output_type": "stream",
     "text": [
      "\n",
      "\n",
      "--- Working on 1-to-1 correspondence-----\n",
      "max(original_labels),len(original_labels) = (2, 3)\n",
      "empty_indices % = 0.1710517639301022\n",
      " conflict_indices % = 0.010847345862182658\n"
     ]
    },
    {
     "data": {
      "application/vnd.jupyter.widget-view+json": {
       "model_id": "60ce3b670f3842a99eba939639c1ae5d",
       "version_major": 2,
       "version_minor": 0
      },
      "text/plain": [
       "  0%|          | 0/97 [00:00<?, ?it/s]"
      ]
     },
     "metadata": {},
     "output_type": "display_data"
    },
    {
     "name": "stdout",
     "output_type": "stream",
     "text": [
      "AFTER face_lookup_resolved_test\n"
     ]
    },
    {
     "data": {
      "application/vnd.jupyter.widget-view+json": {
       "model_id": "3895e4fa8f2244e1a0713f42ef11ab02",
       "version_major": 2,
       "version_minor": 0
      },
      "text/plain": [
       "  0%|          | 0/3 [00:00<?, ?it/s]"
      ]
     },
     "metadata": {},
     "output_type": "display_data"
    },
    {
     "name": "stdout",
     "output_type": "stream",
     "text": [
      "MP_branches_with_stitch_point= [0, 1]\n",
      "MP_branches_for_correspondence = [0 1]\n",
      "MP_leftover = [], MP_leftover_idx = []\n",
      " Finished with (0, 0) \n",
      "\n",
      "\n",
      "\n",
      "\n",
      "---- Working on (1, 0) connection-----\n",
      "sk_conn = [0, 1]\n",
      "conn = [0, 1]\n",
      "winning_vertex = [1476472.93997195  615033.74821465 1108138.04148317]\n",
      "MP_branches_with_stitch_point = [0, 1]\n",
      "MAP_branches_with_stitch_point = [0]\n",
      "MAP_stitch_point_on_end_or_branch = False\n"
     ]
    },
    {
     "data": {
      "application/vnd.jupyter.widget-view+json": {
       "model_id": "a2911a35ab1a4be49dae1360e98054cc",
       "version_major": 2,
       "version_minor": 0
      },
      "text/plain": [
       "0it [00:00, ?it/s]"
      ]
     },
     "metadata": {},
     "output_type": "display_data"
    },
    {
     "name": "stdout",
     "output_type": "stream",
     "text": [
      "\n",
      "\n",
      "--- Working on 1-to-1 correspondence-----\n",
      "max(original_labels),len(original_labels) = (1, 2)\n",
      "empty_indices % = 0.19947333772218565\n",
      " conflict_indices % = 0.003785385121790652\n"
     ]
    },
    {
     "data": {
      "application/vnd.jupyter.widget-view+json": {
       "model_id": "fa54e1317dee4540839ca12fb9301360",
       "version_major": 2,
       "version_minor": 0
      },
      "text/plain": [
       "  0%|          | 0/8 [00:00<?, ?it/s]"
      ]
     },
     "metadata": {},
     "output_type": "display_data"
    },
    {
     "name": "stdout",
     "output_type": "stream",
     "text": [
      "AFTER face_lookup_resolved_test\n"
     ]
    },
    {
     "data": {
      "application/vnd.jupyter.widget-view+json": {
       "model_id": "c766bad13e6742a09b4cb01b6a6d61ae",
       "version_major": 2,
       "version_minor": 0
      },
      "text/plain": [
       "  0%|          | 0/2 [00:00<?, ?it/s]"
      ]
     },
     "metadata": {},
     "output_type": "display_data"
    },
    {
     "data": {
      "application/vnd.jupyter.widget-view+json": {
       "model_id": "9b9a8cf10cb9447aac65358cf35b9a7c",
       "version_major": 2,
       "version_minor": 0
      },
      "text/plain": [
       "0it [00:00, ?it/s]"
      ]
     },
     "metadata": {},
     "output_type": "display_data"
    },
    {
     "name": "stdout",
     "output_type": "stream",
     "text": [
      "\n",
      "\n",
      "--- Working on 1-to-1 correspondence-----\n",
      "max(original_labels),len(original_labels) = (3, 4)\n",
      "empty_indices % = 0.1892735291670134\n",
      " conflict_indices % = 0.04672547224764916\n"
     ]
    },
    {
     "data": {
      "application/vnd.jupyter.widget-view+json": {
       "model_id": "cb8b0686762441d08d401b5ac662c87e",
       "version_major": 2,
       "version_minor": 0
      },
      "text/plain": [
       "  0%|          | 0/58 [00:00<?, ?it/s]"
      ]
     },
     "metadata": {},
     "output_type": "display_data"
    },
    {
     "name": "stdout",
     "output_type": "stream",
     "text": [
      "AFTER face_lookup_resolved_test\n"
     ]
    },
    {
     "data": {
      "application/vnd.jupyter.widget-view+json": {
       "model_id": "d7e8527ecde8478f868e7de1d952ab0d",
       "version_major": 2,
       "version_minor": 0
      },
      "text/plain": [
       "  0%|          | 0/4 [00:00<?, ?it/s]"
      ]
     },
     "metadata": {},
     "output_type": "display_data"
    },
    {
     "name": "stdout",
     "output_type": "stream",
     "text": [
      "Deleting branches from dictionary\n",
      "MP_branches_with_stitch_point= [0, 1]\n",
      "MP_branches_for_correspondence = [0 1]\n",
      "MP_leftover = [], MP_leftover_idx = []\n",
      " Finished with (1, 0) \n",
      "\n",
      "\n",
      "\n",
      "\n",
      "---- Working on (2, 0) connection-----\n",
      "sk_conn = [0]\n",
      "conn = [0]\n",
      "winning_vertex = [1488771.89112037  605282.82224157 1100475.99894991]\n",
      "MP_branches_with_stitch_point = [0]\n",
      "MAP_branches_with_stitch_point = [2]\n",
      "MAP_stitch_point_on_end_or_branch = False\n"
     ]
    },
    {
     "data": {
      "application/vnd.jupyter.widget-view+json": {
       "model_id": "0acd8accf77a432ab0b0017880e910cf",
       "version_major": 2,
       "version_minor": 0
      },
      "text/plain": [
       "0it [00:00, ?it/s]"
      ]
     },
     "metadata": {},
     "output_type": "display_data"
    },
    {
     "name": "stdout",
     "output_type": "stream",
     "text": [
      "\n",
      "\n",
      "--- Working on 1-to-1 correspondence-----\n",
      "max(original_labels),len(original_labels) = (1, 2)\n",
      "empty_indices % = 0.1745835903763109\n",
      " conflict_indices % = 0.006785934608266502\n"
     ]
    },
    {
     "data": {
      "application/vnd.jupyter.widget-view+json": {
       "model_id": "712763352b4f41399a782c2a3916090b",
       "version_major": 2,
       "version_minor": 0
      },
      "text/plain": [
       "  0%|          | 0/8 [00:00<?, ?it/s]"
      ]
     },
     "metadata": {},
     "output_type": "display_data"
    },
    {
     "name": "stdout",
     "output_type": "stream",
     "text": [
      "AFTER face_lookup_resolved_test\n"
     ]
    },
    {
     "data": {
      "application/vnd.jupyter.widget-view+json": {
       "model_id": "35f6a6df0e3a444da936845e59769a63",
       "version_major": 2,
       "version_minor": 0
      },
      "text/plain": [
       "  0%|          | 0/2 [00:00<?, ?it/s]"
      ]
     },
     "metadata": {},
     "output_type": "display_data"
    },
    {
     "data": {
      "application/vnd.jupyter.widget-view+json": {
       "model_id": "aa33a75e76824653a8b989f8499b2a2a",
       "version_major": 2,
       "version_minor": 0
      },
      "text/plain": [
       "0it [00:00, ?it/s]"
      ]
     },
     "metadata": {},
     "output_type": "display_data"
    },
    {
     "name": "stdout",
     "output_type": "stream",
     "text": [
      "\n",
      "\n",
      "--- Working on 1-to-1 correspondence-----\n",
      "max(original_labels),len(original_labels) = (2, 3)\n",
      "empty_indices % = 0.23459590232101005\n",
      " conflict_indices % = 0.014213351478037348\n"
     ]
    },
    {
     "data": {
      "application/vnd.jupyter.widget-view+json": {
       "model_id": "e673a2774add40878229606ec0593361",
       "version_major": 2,
       "version_minor": 0
      },
      "text/plain": [
       "  0%|          | 0/30 [00:00<?, ?it/s]"
      ]
     },
     "metadata": {},
     "output_type": "display_data"
    },
    {
     "name": "stdout",
     "output_type": "stream",
     "text": [
      "AFTER face_lookup_resolved_test\n"
     ]
    },
    {
     "data": {
      "application/vnd.jupyter.widget-view+json": {
       "model_id": "1baf8cdc58c9407fb5ca0f8894cef38a",
       "version_major": 2,
       "version_minor": 0
      },
      "text/plain": [
       "  0%|          | 0/3 [00:00<?, ?it/s]"
      ]
     },
     "metadata": {},
     "output_type": "display_data"
    },
    {
     "name": "stdout",
     "output_type": "stream",
     "text": [
      "Deleting branches from dictionary\n",
      "MP_branches_with_stitch_point= [0]\n",
      "MP_branches_for_correspondence = [0]\n",
      "MP_leftover = [], MP_leftover_idx = []\n",
      " Finished with (2, 0) \n",
      "\n",
      "\n",
      "\n",
      "Time for decomp of Limb = 25.468019485473633\n",
      "Number of matching vertices = 26\n",
      "Only one endpoint after filtering away the endpoints that are not on the skeleton\n",
      "Using Distance measure skeletal_distance\n",
      "endpoints_must_keep = [[1487610.  597313. 1100720.]]\n",
      "Number of end_nodes BEFORE filtering = 7\n",
      "all_single_nodes_to_eliminate = [4]\n",
      "no small end nodes to get rid of so returning whole skeleton\n",
      "Removed 0 skeletal branches\n"
     ]
    },
    {
     "data": {
      "application/vnd.jupyter.widget-view+json": {
       "model_id": "0de9100700974cb6890e4fcc127e893c",
       "version_major": 2,
       "version_minor": 0
      },
      "text/plain": [
       "  0%|          | 0/10 [00:00<?, ?it/s]"
      ]
     },
     "metadata": {},
     "output_type": "display_data"
    },
    {
     "name": "stdout",
     "output_type": "stream",
     "text": [
      "66697 66698\n",
      "For marked faces: None\n",
      "empty_indices % = 0.0\n",
      " conflict_indices % = 0.0\n"
     ]
    },
    {
     "data": {
      "application/vnd.jupyter.widget-view+json": {
       "model_id": "ea178f40cf214cdfa83e1d0f6f94caa7",
       "version_major": 2,
       "version_minor": 0
      },
      "text/plain": [
       "0it [00:00, ?it/s]"
      ]
     },
     "metadata": {},
     "output_type": "display_data"
    },
    {
     "name": "stdout",
     "output_type": "stream",
     "text": [
      "AFTER face_lookup_resolved_test\n"
     ]
    },
    {
     "data": {
      "application/vnd.jupyter.widget-view+json": {
       "model_id": "213bb0565d65426da7ae395499d07b46",
       "version_major": 2,
       "version_minor": 0
      },
      "text/plain": [
       "  0%|          | 0/10 [00:00<?, ?it/s]"
      ]
     },
     "metadata": {},
     "output_type": "display_data"
    },
    {
     "name": "stdout",
     "output_type": "stream",
     "text": [
      "Successful Limb Decomposition\n",
      "\n",
      "\n",
      "----- Working on Proper Limb # 1 ---------\n",
      "meshparty_segment_size = 100\n",
      "invalidation_d = 12000\n",
      "use_adaptive_invalidation_d= False\n",
      "axon_width_preprocess_limb_max = 200\n",
      "filter_end_node_length= 4000\n",
      "filter_end_node_length_meshparty = 4000\n",
      "invalidation_d = 12000\n",
      "root_curr = [1484150.   588282.7 1095391. ]\n",
      "Time for preparing soma vertices and root: 0.0003082752227783203\n",
      "invalidation_d = 12000\n",
      "smooth_neighborhood = 1\n",
      "cc_vertex_thresh = 10\n"
     ]
    },
    {
     "name": "stderr",
     "output_type": "stream",
     "text": [
      "\r",
      "  0%|          | 0/1 [00:00<?, ?it/s]"
     ]
    },
    {
     "data": {
      "application/vnd.jupyter.widget-view+json": {
       "model_id": "4f1816330a7444e0bd134e22b8c93b62",
       "version_major": 2,
       "version_minor": 0
      },
      "text/plain": [
       "  0%|          | 0/20269 [00:00<?, ?it/s]"
      ]
     },
     "metadata": {},
     "output_type": "display_data"
    },
    {
     "name": "stderr",
     "output_type": "stream",
     "text": [
      "100%|██████████| 1/1 [00:00<00:00,  4.41it/s]\n"
     ]
    },
    {
     "name": "stdout",
     "output_type": "stream",
     "text": [
      "meshparty_segment_size = 100\n",
      "Time for 1st pass MP skeletonization: 0.5226819515228271\n",
      "branches_touching_root = [3]\n",
      "combining close nodes\n",
      "combine_threshold = 700\n",
      "length of Graph = 5975\n",
      "After combining close endpoints max(kept_branches_idx) = 26, len(kept_branches_idx) = 25\n",
      "empty_indices % = 0.0\n",
      " conflict_indices % = 0.010165121237665492\n"
     ]
    },
    {
     "data": {
      "application/vnd.jupyter.widget-view+json": {
       "model_id": "13a5a098fb3543ad9fcd3b83c63ae5e0",
       "version_major": 2,
       "version_minor": 0
      },
      "text/plain": [
       "  0%|          | 0/11 [00:00<?, ?it/s]"
      ]
     },
     "metadata": {},
     "output_type": "display_data"
    },
    {
     "name": "stdout",
     "output_type": "stream",
     "text": [
      "AFTER face_lookup_resolved_test\n"
     ]
    },
    {
     "data": {
      "application/vnd.jupyter.widget-view+json": {
       "model_id": "9190266b91464dc68ecff8f6f60de75f",
       "version_major": 2,
       "version_minor": 0
      },
      "text/plain": [
       "  0%|          | 0/25 [00:00<?, ?it/s]"
      ]
     },
     "metadata": {},
     "output_type": "display_data"
    },
    {
     "name": "stdout",
     "output_type": "stream",
     "text": [
      "Decomposing first pass: 2.9069063663482666\n",
      "Attempting to use MeshAfterParty Skeletonization and Mesh Correspondence\n",
      "Another print\n",
      "Divinding into MP and MAP pieces: 3.3855438232421875e-05\n",
      "Total time for MAP sublimb processing 3.814697265625e-06\n",
      "---- Working on MP Decomposition #0 ----\n",
      "Using Quicker soma_to_piece_touching_vertices because no MAP and only one sublimb_mesh piece \n",
      "MP filtering soma verts: 1.9550323486328125e-05\n",
      "Fixing Possible Soma Extension Branch for Sublimb 0\n",
      "Total time for mesh KDTree = 0.04775834083557129\n",
      "sbv[0].reshape(-1,3) = [[1484150.   588282.7 1095391. ]]\n",
      "closest_sk_pt_coord BEFORE = [1483982.08022895  588135.81137922 1094821.63000965]\n",
      "current_skeleton.shape = (556, 2, 3)\n",
      "node_for_stitch = 556: [1483982.08022895  588135.81137922 1094821.63000965]\n",
      "node_for_stitch AFTER = 556: [1483982.08022895  588135.81137922 1094821.63000965]\n",
      "possible_node_loc = [  2 556]\n",
      "possible_node_loc AFTER = [  2 556]\n",
      "curr_shortest_path = [556]\n",
      "Current stitch point was a branch or endpoint\n",
      "change_status for create soma extending pieces = False\n",
      "closest_sk_pt_coord AFTER = [1483982.08022895  588135.81137922 1094821.63000965]\n",
      "skipping soma 0 because closest skeleton node was already end node\n",
      "endpoints_must_keep = {0: array([[1483982.08022895,  588135.81137922, 1094821.63000965]])}\n",
      "match_sk_branches = [3]\n",
      "The new branch info was none so skipping \n",
      "\n",
      "No soma extending branch was added for this sublimb even though it had a soma border (means they already existed)\n",
      "MP (because soma touching verts) soma extension add: 0.1989884376525879\n",
      "There were not both MAP and MP pieces so skipping the stitch resolving phase\n",
      "Time for decomp of Limb = 3.7615387439727783\n",
      "Number of matching vertices = 20\n",
      "Only one endpoint after filtering away the endpoints that are not on the skeleton\n",
      "Using Distance measure skeletal_distance\n",
      "endpoints_must_keep = [[1483982.08022895  588135.81137922 1094821.63000965]]\n",
      "Number of end_nodes BEFORE filtering = 15\n",
      "all_single_nodes_to_eliminate = [10]\n",
      "no small end nodes to get rid of so returning whole skeleton\n",
      "Removed 0 skeletal branches\n"
     ]
    },
    {
     "data": {
      "application/vnd.jupyter.widget-view+json": {
       "model_id": "3b5fa7a1cc4947e88cb99826238ad1ae",
       "version_major": 2,
       "version_minor": 0
      },
      "text/plain": [
       "  0%|          | 0/25 [00:00<?, ?it/s]"
      ]
     },
     "metadata": {},
     "output_type": "display_data"
    },
    {
     "name": "stdout",
     "output_type": "stream",
     "text": [
      "40338 40339\n",
      "For marked faces: None\n",
      "empty_indices % = 0.0\n",
      " conflict_indices % = 0.0\n"
     ]
    },
    {
     "data": {
      "application/vnd.jupyter.widget-view+json": {
       "model_id": "dfbfded8357849c9a42c4a182c7a33cc",
       "version_major": 2,
       "version_minor": 0
      },
      "text/plain": [
       "0it [00:00, ?it/s]"
      ]
     },
     "metadata": {},
     "output_type": "display_data"
    },
    {
     "name": "stdout",
     "output_type": "stream",
     "text": [
      "AFTER face_lookup_resolved_test\n"
     ]
    },
    {
     "data": {
      "application/vnd.jupyter.widget-view+json": {
       "model_id": "c9d00eec0c4742cbb3e91f079090397c",
       "version_major": 2,
       "version_minor": 0
      },
      "text/plain": [
       "  0%|          | 0/25 [00:00<?, ?it/s]"
      ]
     },
     "metadata": {},
     "output_type": "display_data"
    },
    {
     "name": "stdout",
     "output_type": "stream",
     "text": [
      "Successful Limb Decomposition\n",
      "\n",
      "\n",
      "----- Working on Proper Limb # 2 ---------\n",
      "meshparty_segment_size = 100\n",
      "invalidation_d = 12000\n",
      "use_adaptive_invalidation_d= False\n",
      "axon_width_preprocess_limb_max = 200\n",
      "filter_end_node_length= 4000\n",
      "filter_end_node_length_meshparty = 4000\n",
      "invalidation_d = 12000\n",
      "root_curr = [1476534.   581771.6 1109552. ]\n",
      "Time for preparing soma vertices and root: 0.00018644332885742188\n",
      "invalidation_d = 12000\n",
      "smooth_neighborhood = 1\n",
      "cc_vertex_thresh = 10\n"
     ]
    },
    {
     "name": "stderr",
     "output_type": "stream",
     "text": [
      "\r",
      "  0%|          | 0/1 [00:00<?, ?it/s]"
     ]
    },
    {
     "data": {
      "application/vnd.jupyter.widget-view+json": {
       "model_id": "53400366260a421fa613868d02883712",
       "version_major": 2,
       "version_minor": 0
      },
      "text/plain": [
       "  0%|          | 0/20030 [00:00<?, ?it/s]"
      ]
     },
     "metadata": {},
     "output_type": "display_data"
    },
    {
     "name": "stderr",
     "output_type": "stream",
     "text": [
      "100%|██████████| 1/1 [00:00<00:00,  9.64it/s]\n"
     ]
    },
    {
     "name": "stdout",
     "output_type": "stream",
     "text": [
      "meshparty_segment_size = 100\n",
      "Time for 1st pass MP skeletonization: 0.3340275287628174\n",
      "branches_touching_root = [1]\n",
      "combining close nodes\n",
      "combine_threshold = 700\n",
      "length of Graph = 2074\n",
      "After combining close endpoints max(kept_branches_idx) = 2, len(kept_branches_idx) = 3\n",
      "empty_indices % = 0.0\n",
      " conflict_indices % = 0.002637462007987742\n"
     ]
    },
    {
     "data": {
      "application/vnd.jupyter.widget-view+json": {
       "model_id": "75062d63ed9c489faef06b83345bcd62",
       "version_major": 2,
       "version_minor": 0
      },
      "text/plain": [
       "  0%|          | 0/1 [00:00<?, ?it/s]"
      ]
     },
     "metadata": {},
     "output_type": "display_data"
    },
    {
     "name": "stdout",
     "output_type": "stream",
     "text": [
      "AFTER face_lookup_resolved_test\n"
     ]
    },
    {
     "data": {
      "application/vnd.jupyter.widget-view+json": {
       "model_id": "287e0285b7db48fb9045f68aae1ee5cc",
       "version_major": 2,
       "version_minor": 0
      },
      "text/plain": [
       "  0%|          | 0/3 [00:00<?, ?it/s]"
      ]
     },
     "metadata": {},
     "output_type": "display_data"
    },
    {
     "name": "stdout",
     "output_type": "stream",
     "text": [
      "Decomposing first pass: 1.519033670425415\n",
      "Attempting to use MeshAfterParty Skeletonization and Mesh Correspondence\n",
      "Another print\n",
      "Found len(mesh_large_idx) MAP candidates: [2091]\n",
      "mesh_large_connectivity: 0.00011348724365234375\n",
      "Finding MAP candidates connected components: 5.817413330078125e-05\n",
      "len(filtered_pieces) = 1\n",
      "skeleton_connectivity_MP : 0.052213430404663086\n",
      "Grouping MP Sublimbs by Graph: 0.022099018096923828\n",
      "Divinding into MP and MAP pieces: 9.5367431640625e-07\n",
      "--- Working on MAP piece 0---\n",
      "MAP Filtering Soma Pieces: 0.015107154846191406\n",
      "inside skeletonize_connected_branch and use_surface_after_CGAL=True, surface_reconstruction_size=1000\n",
      "keep_idx = [0]\n",
      "     Starting Screened Poisson\n",
      "xvfb-run -n 382 -s \"-screen 0 800x600x24\" meshlabserver $@  -i /neurd_packages/NEURD/Applications/autoproof_neuron_pipeline/temp/None.off -o /neurd_packages/NEURD/Applications/autoproof_neuron_pipeline/temp/None_poisson.off -s /neurd_packages/NEURD/Applications/autoproof_neuron_pipeline/temp/poisson_11656.mls\n",
      "removed temporary input file: /neurd_packages/NEURD/Applications/autoproof_neuron_pipeline/temp/None.off\n",
      "removed temporary output file: /neurd_packages/NEURD/Applications/autoproof_neuron_pipeline/temp/None_poisson.off\n",
      "Using the close holes feature\n",
      "xvfb-run -n 8622 -s \"-screen 0 800x600x24\" meshlabserver $@  -i /neurd_packages/NEURD/Applications/autoproof_neuron_pipeline/temp/neuron_60114.off -o /neurd_packages/NEURD/Applications/autoproof_neuron_pipeline/temp/neuron_60114_fill_holes.off -s /neurd_packages/NEURD/Applications/autoproof_neuron_pipeline/temp/fill_holes_5180.mls\n",
      "removed temporary input file: /neurd_packages/NEURD/Applications/autoproof_neuron_pipeline/temp/neuron_60114.off\n",
      "removed temporary output file: /neurd_packages/NEURD/Applications/autoproof_neuron_pipeline/temp/neuron_60114_fill_holes.off\n",
      "/neurd_packages/NEURD/Applications/autoproof_neuron_pipeline/temp/fill_holes_5180.mls is being deleted....\n",
      "-----Time for Screened Poisson= 7.0892274379730225\n",
      "mesh_pieces = [<trimesh.Trimesh(vertices.shape=(1934, 3), faces.shape=(3864, 3))>]\n",
      "     Starting Calcification (Changed back where stitches large poissons)\n",
      "Manifold status before skeletonization = True\n",
      "Watertight status before skeletonization = True\n",
      "min_edge_length = 75\n",
      "Before mesh subtraction number of skeleton edges = 74\n"
     ]
    },
    {
     "data": {
      "application/vnd.jupyter.widget-view+json": {
       "model_id": "92d99f549280476299261972ec9050c6",
       "version_major": 2,
       "version_minor": 0
      },
      "text/plain": [
       "0it [00:00, ?it/s]"
      ]
     },
     "metadata": {},
     "output_type": "display_data"
    },
    {
     "name": "stdout",
     "output_type": "stream",
     "text": [
      "len(leftover_meshes_sig) = []\n"
     ]
    },
    {
     "data": {
      "application/vnd.jupyter.widget-view+json": {
       "model_id": "0e9f01d71a3a45f7a6848ba1602bca8d",
       "version_major": 2,
       "version_minor": 0
      },
      "text/plain": [
       "0it [00:00, ?it/s]"
      ]
     },
     "metadata": {},
     "output_type": "display_data"
    },
    {
     "name": "stdout",
     "output_type": "stream",
     "text": [
      "No skeletons to stack so returning empty list\n",
      "STacking the leftover and significant poisson skeleton\n",
      "max_stitch_distance = 5000\n",
      "len_subgraphs AT BEGINNING of the loop\n"
     ]
    },
    {
     "data": {
      "application/vnd.jupyter.widget-view+json": {
       "model_id": "cbc4b680cc2e452f9f197b2b5565b42b",
       "version_major": 2,
       "version_minor": 0
      },
      "text/plain": [
       "  0%|          | 0/1 [00:00<?, ?it/s]"
      ]
     },
     "metadata": {},
     "output_type": "display_data"
    },
    {
     "name": "stdout",
     "output_type": "stream",
     "text": [
      "all graph is one component!\n",
      "Total time for skeleton stitching = 0.012776851654052734\n",
      "The process was using a temp folder\n",
      "Checking connected components after skeletonize_connected_branch\n",
      "    Total time for skeletonizing branch: 7.496639251708984\n",
      "Checking connected components after removing cycles\n",
      "Total time for mesh KDTree = 0.029949665069580078\n",
      "sbv[0].reshape(-1,3) = [[1476534.   581771.6 1109552. ]]\n",
      "closest_sk_pt_coord BEFORE = [1476740.  582484. 1109380.]\n",
      "current_skeleton.shape = (73, 2, 3)\n",
      "node_for_stitch = 0: [1476740.  582484. 1109380.]\n",
      "node_for_stitch AFTER = 0: [1476740.  582484. 1109380.]\n",
      "possible_node_loc = [ 0 73]\n",
      "possible_node_loc AFTER = [ 0 73]\n",
      "curr_shortest_path = [0]\n",
      "Current stitch point was a branch or endpoint\n",
      "change_status for create soma extending pieces = False\n",
      "closest_sk_pt_coord AFTER = [1476740.  582484. 1109380.]\n",
      "skipping soma 1 because closest skeleton node was already end node\n",
      "endpoints_must_keep = {1: array([[1476740.,  582484., 1109380.]])}\n",
      "    Total time for Fixing Skeleton Soma Endpoint Extension : 0.11794209480285645\n",
      "filter_end_node_length = 4000\n",
      "Using Distance measure skeletal_distance\n",
      "endpoints_must_keep = [[1476740.  582484. 1109380.]]\n",
      "Number of end_nodes BEFORE filtering = 2\n",
      "all_single_nodes_to_eliminate = [0]\n",
      "no small end nodes to get rid of so returning whole skeleton\n",
      "Checking connected components after clean_skeleton\n",
      "after DISTANCE cleaning limb size of skeleton = (73, 2, 3)\n",
      "********COMBINING CLOSE SKELETON NODES WITHIN 700 DISTANCE**********\n",
      "combine_threshold = 700\n",
      "Found 0 valid paths to replace\n",
      "valid_paths = []\n",
      "valid_path_lengths = []\n",
      "No valid paths found so just returning the original\n",
      "skeletonize_and_clean_connected_branch_CGAL: 7.678197860717773\n",
      "Working on limb correspondence for #0 MAP piece\n",
      "xvfb-run -n 5768 -s \"-screen 0 800x600x24\" meshlabserver $@  -i /neurd_packages/NEURD/Applications/autoproof_neuron_pipeline/temp/neuron_3624.off -o /neurd_packages/NEURD/Applications/autoproof_neuron_pipeline/temp/neuron_3624_remove_interior.off -s /neurd_packages/NEURD/Applications/autoproof_neuron_pipeline/temp/remove_interior_249593.mls\n",
      "removed temporary input file: /neurd_packages/NEURD/Applications/autoproof_neuron_pipeline/temp/neuron_3624.off\n",
      "removed temporary output file: /neurd_packages/NEURD/Applications/autoproof_neuron_pipeline/temp/neuron_3624_remove_interior.off\n",
      "/neurd_packages/NEURD/Applications/autoproof_neuron_pipeline/temp/remove_interior_249593.mls is being deleted....\n",
      "No significant (100) interior meshes present\n",
      "largest is 3\n"
     ]
    },
    {
     "data": {
      "application/vnd.jupyter.widget-view+json": {
       "model_id": "1a03602ee78548e38b9e098812f18c96",
       "version_major": 2,
       "version_minor": 0
      },
      "text/plain": [
       "0it [00:00, ?it/s]"
      ]
     },
     "metadata": {},
     "output_type": "display_data"
    },
    {
     "name": "stdout",
     "output_type": "stream",
     "text": [
      "Total time for decomposition = 0.9083280563354492\n",
      "mesh_correspondence_first_pass: 0.9083561897277832\n",
      "Limb decomposed into 1 branches\n",
      "divided_skeleton_graph_recovered = (73, 2, 3) and \n",
      "current_mesh_data[0]['branch_skeletons_cleaned'].shape = (73, 2, 3)\n",
      "\n",
      "Number of connected components in deocmposed recovered graph = 1\n",
      "Number of connected components in cleaned skeleton graph= 1\n",
      "The downsampled branches number of connected components = 1\n",
      "Empty submeshes = []\n",
      "\n",
      "\n",
      "--- Working on 1-to-1 correspondence-----\n",
      "max(original_labels),len(original_labels) = (0, 1)\n",
      "empty_indices % = 0.1449067431850789\n",
      " conflict_indices % = 0.0\n"
     ]
    },
    {
     "data": {
      "application/vnd.jupyter.widget-view+json": {
       "model_id": "ca4eed055a214373aa0c936b10dd160a",
       "version_major": 2,
       "version_minor": 0
      },
      "text/plain": [
       "  0%|          | 0/4 [00:00<?, ?it/s]"
      ]
     },
     "metadata": {},
     "output_type": "display_data"
    },
    {
     "name": "stdout",
     "output_type": "stream",
     "text": [
      "AFTER face_lookup_resolved_test\n",
      "Took 0 iterations to expand the label back\n",
      "empty_indices % = 0.0\n",
      " conflict_indices % = 0.0\n"
     ]
    },
    {
     "data": {
      "application/vnd.jupyter.widget-view+json": {
       "model_id": "d7384d442f6a468980b4fc697c1a2191",
       "version_major": 2,
       "version_minor": 0
      },
      "text/plain": [
       "0it [00:00, ?it/s]"
      ]
     },
     "metadata": {},
     "output_type": "display_data"
    },
    {
     "name": "stdout",
     "output_type": "stream",
     "text": [
      "AFTER face_lookup_resolved_test\n"
     ]
    },
    {
     "data": {
      "application/vnd.jupyter.widget-view+json": {
       "model_id": "8e5737ce8b4645f8853e842af02a9337",
       "version_major": 2,
       "version_minor": 0
      },
      "text/plain": [
       "  0%|          | 0/1 [00:00<?, ?it/s]"
      ]
     },
     "metadata": {},
     "output_type": "display_data"
    },
    {
     "name": "stdout",
     "output_type": "stream",
     "text": [
      "Total time for MAP sublimb #0 mesh processing = 8.764946460723877\n",
      "correspondence_1_to_1: 0.1632695198059082\n",
      "Total time for MAP sublimb processing 8.765012502670288\n",
      "---- Working on MP Decomposition #0 ----\n",
      "Computing the current soma touching verts dict manually\n",
      "MP filtering soma verts: 0.016282081604003906\n",
      "Do Not Need to Fix MP Decomposition 0 so just continuing\n",
      "Successful mesh connectivity with type edges\n",
      "\n",
      "---- Working on (0, 0) connection-----\n",
      "sk_conn = [0, 1]\n",
      "conn = [0, 1]\n",
      "winning_vertex = [1481900.72163354  586937.6302398  1100472.34094648]\n",
      "MP_branches_with_stitch_point = [0, 1]\n",
      "MAP_branches_with_stitch_point = [0]\n",
      "MAP_stitch_point_on_end_or_branch = True\n"
     ]
    },
    {
     "data": {
      "application/vnd.jupyter.widget-view+json": {
       "model_id": "163da843e2c047a0b93f87296c19dcce",
       "version_major": 2,
       "version_minor": 0
      },
      "text/plain": [
       "0it [00:00, ?it/s]"
      ]
     },
     "metadata": {},
     "output_type": "display_data"
    },
    {
     "name": "stdout",
     "output_type": "stream",
     "text": [
      "\n",
      "\n",
      "--- Working on 1-to-1 correspondence-----\n",
      "max(original_labels),len(original_labels) = (2, 3)\n",
      "empty_indices % = 0.21514154379442868\n",
      " conflict_indices % = 0.00957021928612695\n"
     ]
    },
    {
     "data": {
      "application/vnd.jupyter.widget-view+json": {
       "model_id": "b60f2d5503a2452eb9f0d57d5a5579e1",
       "version_major": 2,
       "version_minor": 0
      },
      "text/plain": [
       "  0%|          | 0/134 [00:00<?, ?it/s]"
      ]
     },
     "metadata": {},
     "output_type": "display_data"
    },
    {
     "name": "stdout",
     "output_type": "stream",
     "text": [
      "AFTER face_lookup_resolved_test\n"
     ]
    },
    {
     "data": {
      "application/vnd.jupyter.widget-view+json": {
       "model_id": "51b1f02105c44318be50bb628a5eaacb",
       "version_major": 2,
       "version_minor": 0
      },
      "text/plain": [
       "  0%|          | 0/3 [00:00<?, ?it/s]"
      ]
     },
     "metadata": {},
     "output_type": "display_data"
    },
    {
     "name": "stdout",
     "output_type": "stream",
     "text": [
      "MP_branches_with_stitch_point= [0, 1]\n",
      "MP_branches_for_correspondence = [0 1]\n",
      "MP_leftover = [], MP_leftover_idx = []\n",
      " Finished with (0, 0) \n",
      "\n",
      "\n",
      "\n",
      "Time for decomp of Limb = 17.540291786193848\n",
      "Number of matching vertices = 14\n",
      "Only one endpoint after filtering away the endpoints that are not on the skeleton\n",
      "Using Distance measure skeletal_distance\n",
      "endpoints_must_keep = [[1476740.  582484. 1109380.]]\n",
      "Number of end_nodes BEFORE filtering = 3\n",
      "all_single_nodes_to_eliminate = [0]\n",
      "no small end nodes to get rid of so returning whole skeleton\n",
      "Removed 0 skeletal branches\n"
     ]
    },
    {
     "data": {
      "application/vnd.jupyter.widget-view+json": {
       "model_id": "53b5564850164802b57630708a8f40bf",
       "version_major": 2,
       "version_minor": 0
      },
      "text/plain": [
       "  0%|          | 0/3 [00:00<?, ?it/s]"
      ]
     },
     "metadata": {},
     "output_type": "display_data"
    },
    {
     "name": "stdout",
     "output_type": "stream",
     "text": [
      "39810 39811\n",
      "For marked faces: None\n",
      "empty_indices % = 0.0\n",
      " conflict_indices % = 0.0\n"
     ]
    },
    {
     "data": {
      "application/vnd.jupyter.widget-view+json": {
       "model_id": "de71fa15fca2425b9a5fc8ca30f09cc9",
       "version_major": 2,
       "version_minor": 0
      },
      "text/plain": [
       "0it [00:00, ?it/s]"
      ]
     },
     "metadata": {},
     "output_type": "display_data"
    },
    {
     "name": "stdout",
     "output_type": "stream",
     "text": [
      "AFTER face_lookup_resolved_test\n"
     ]
    },
    {
     "data": {
      "application/vnd.jupyter.widget-view+json": {
       "model_id": "9fa117e968ed49e48a98fb91a0f72313",
       "version_major": 2,
       "version_minor": 0
      },
      "text/plain": [
       "  0%|          | 0/3 [00:00<?, ?it/s]"
      ]
     },
     "metadata": {},
     "output_type": "display_data"
    },
    {
     "name": "stdout",
     "output_type": "stream",
     "text": [
      "Successful Limb Decomposition\n",
      "\n",
      "\n",
      "----- Working on Proper Limb # 3 ---------\n",
      "meshparty_segment_size = 100\n",
      "invalidation_d = 12000\n",
      "use_adaptive_invalidation_d= False\n",
      "axon_width_preprocess_limb_max = 200\n",
      "filter_end_node_length= 4000\n",
      "filter_end_node_length_meshparty = 4000\n",
      "invalidation_d = 12000\n",
      "root_curr = [1474851.   571357.5 1113536. ]\n",
      "Time for preparing soma vertices and root: 0.00017499923706054688\n",
      "invalidation_d = 12000\n",
      "smooth_neighborhood = 1\n",
      "cc_vertex_thresh = 10\n"
     ]
    },
    {
     "name": "stderr",
     "output_type": "stream",
     "text": [
      "\r",
      "  0%|          | 0/1 [00:00<?, ?it/s]"
     ]
    },
    {
     "data": {
      "application/vnd.jupyter.widget-view+json": {
       "model_id": "4cf05cacb4c845ee9175f5ca5ca0fab7",
       "version_major": 2,
       "version_minor": 0
      },
      "text/plain": [
       "  0%|          | 0/11304 [00:00<?, ?it/s]"
      ]
     },
     "metadata": {},
     "output_type": "display_data"
    },
    {
     "name": "stderr",
     "output_type": "stream",
     "text": [
      "100%|██████████| 1/1 [00:00<00:00, 13.67it/s]\n"
     ]
    },
    {
     "name": "stdout",
     "output_type": "stream",
     "text": [
      "meshparty_segment_size = 100\n",
      "Time for 1st pass MP skeletonization: 0.26866602897644043\n",
      "connecting at the root\n",
      "branches_touching_root = [2]\n",
      "combining close nodes\n",
      "combine_threshold = 700\n",
      "length of Graph = 1216\n",
      "After combining close endpoints max(kept_branches_idx) = 2, len(kept_branches_idx) = 3\n",
      "empty_indices % = 0.0\n",
      " conflict_indices % = 0.0026850443032310034\n"
     ]
    },
    {
     "data": {
      "application/vnd.jupyter.widget-view+json": {
       "model_id": "14d88baa36914e0e9f7cbfe2348ccb40",
       "version_major": 2,
       "version_minor": 0
      },
      "text/plain": [
       "  0%|          | 0/1 [00:00<?, ?it/s]"
      ]
     },
     "metadata": {},
     "output_type": "display_data"
    },
    {
     "name": "stdout",
     "output_type": "stream",
     "text": [
      "AFTER face_lookup_resolved_test\n"
     ]
    },
    {
     "data": {
      "application/vnd.jupyter.widget-view+json": {
       "model_id": "f11c82489d244029b59754f6699e27be",
       "version_major": 2,
       "version_minor": 0
      },
      "text/plain": [
       "  0%|          | 0/3 [00:00<?, ?it/s]"
      ]
     },
     "metadata": {},
     "output_type": "display_data"
    },
    {
     "name": "stdout",
     "output_type": "stream",
     "text": [
      "Decomposing first pass: 0.656414270401001\n",
      "Attempting to use MeshAfterParty Skeletonization and Mesh Correspondence\n",
      "Another print\n",
      "Divinding into MP and MAP pieces: 3.504753112792969e-05\n",
      "Total time for MAP sublimb processing 3.0994415283203125e-06\n",
      "---- Working on MP Decomposition #0 ----\n",
      "Using Quicker soma_to_piece_touching_vertices because no MAP and only one sublimb_mesh piece \n",
      "MP filtering soma verts: 1.4543533325195312e-05\n",
      "Fixing Possible Soma Extension Branch for Sublimb 0\n",
      "Total time for mesh KDTree = 0.1296379566192627\n",
      "sbv[0].reshape(-1,3) = [[1474851.   571357.5 1113536. ]]\n",
      "closest_sk_pt_coord BEFORE = [1478327.0746533   571496.39513115 1112568.79431172]\n",
      "current_skeleton.shape = (816, 2, 3)\n",
      "node_for_stitch = 79: [1478327.0746533   571496.39513115 1112568.79431172]\n",
      "node_for_stitch AFTER = 79: [1478327.0746533   571496.39513115 1112568.79431172]\n",
      "possible_node_loc = [  0 816]\n",
      "possible_node_loc AFTER = [  0 816]\n",
      "curr_shortest_path = [79, 78.0, 77.0, 76.0, 75.0, 74.0, 73.0, 72.0, 71.0, 70.0, 69.0, 68.0, 67.0, 66.0, 65.0, 64.0, 63.0, 62.0, 61.0, 60.0, 59.0, 58.0, 57.0, 56.0, 55.0, 54.0, 53.0, 52.0, 51.0, 50.0, 49.0, 48.0, 47.0, 46.0, 45.0, 44.0, 43.0, 42.0, 41.0, 40.0, 39.0, 38.0, 37.0, 36.0, 35.0, 34.0, 33.0, 32.0, 31.0, 30.0, 29.0, 28.0, 27.0, 26.0, 25.0, 24.0, 23.0, 22.0, 21.0, 20.0, 19.0, 18.0, 17.0, 16.0, 15.0, 14.0, 13.0, 12.0, 11.0, 10.0, 9.0, 8.0, 7.0, 6.0, 5.0, 4.0, 3.0, 2.0, 1.0, 0]\n",
      "Current stitch point was not a branch or endpoint, shortest_path_length to one = 7899.09708045272\n",
      "change_status for create soma extending pieces = False\n",
      "closest_sk_pt_coord AFTER = [1478327.0746533   571496.39513115 1112568.79431172]\n",
      "Adding new branch to skeleton\n",
      "border_average_coordinate = [1475123.88888889  571587.50555556 1113243.55555556]\n",
      "endpoints_must_keep = {1: array([[1475123.88888889,  571587.50555556, 1113243.55555556]])}\n",
      "match_sk_branches = []\n",
      "orig_vertex = [1478327.0746533   571496.39513115 1112568.79431172]\n",
      "match_sk_branches = [2]\n"
     ]
    },
    {
     "data": {
      "application/vnd.jupyter.widget-view+json": {
       "model_id": "62dd2a79e0b742c09f61fae6cf57f9b6",
       "version_major": 2,
       "version_minor": 0
      },
      "text/plain": [
       "0it [00:00, ?it/s]"
      ]
     },
     "metadata": {},
     "output_type": "display_data"
    },
    {
     "name": "stdout",
     "output_type": "stream",
     "text": [
      "\n",
      "\n",
      "--- Working on 1-to-1 correspondence-----\n",
      "max(original_labels),len(original_labels) = (2, 3)\n",
      "empty_indices % = 0.20502645502645503\n",
      " conflict_indices % = 0.0\n"
     ]
    },
    {
     "data": {
      "application/vnd.jupyter.widget-view+json": {
       "model_id": "1e41fa118c534d92b14cbb3391c55099",
       "version_major": 2,
       "version_minor": 0
      },
      "text/plain": [
       "  0%|          | 0/50 [00:00<?, ?it/s]"
      ]
     },
     "metadata": {},
     "output_type": "display_data"
    },
    {
     "name": "stdout",
     "output_type": "stream",
     "text": [
      "AFTER face_lookup_resolved_test\n",
      "Took 0 iterations to expand the label back\n",
      "empty_indices % = 0.0\n",
      " conflict_indices % = 0.0\n"
     ]
    },
    {
     "data": {
      "application/vnd.jupyter.widget-view+json": {
       "model_id": "d2765f5ee5a94fe7bb9f429cc05621a7",
       "version_major": 2,
       "version_minor": 0
      },
      "text/plain": [
       "0it [00:00, ?it/s]"
      ]
     },
     "metadata": {},
     "output_type": "display_data"
    },
    {
     "name": "stdout",
     "output_type": "stream",
     "text": [
      "AFTER face_lookup_resolved_test\n"
     ]
    },
    {
     "data": {
      "application/vnd.jupyter.widget-view+json": {
       "model_id": "01000301b4d845168868eccbe2554bbd",
       "version_major": 2,
       "version_minor": 0
      },
      "text/plain": [
       "  0%|          | 0/3 [00:00<?, ?it/s]"
      ]
     },
     "metadata": {},
     "output_type": "display_data"
    },
    {
     "name": "stdout",
     "output_type": "stream",
     "text": [
      "curr_width_median = 87.50057414093507\n",
      "curr_width_median = 443.7480051377248\n",
      "curr_width_median = 382.02971359465397\n",
      "checked segment branches after soma add on\n",
      "MP (because soma touching verts) soma extension add: 2.7209458351135254\n",
      "There were not both MAP and MP pieces so skipping the stitch resolving phase\n",
      "Time for decomp of Limb = 3.687899351119995\n",
      "Number of matching vertices = 18\n",
      "Only one endpoint after filtering away the endpoints that are not on the skeleton\n",
      "Using Distance measure skeletal_distance\n",
      "endpoints_must_keep = [[1475123.88888889  571587.50555556 1113243.55555556]]\n",
      "Number of end_nodes BEFORE filtering = 4\n",
      "all_single_nodes_to_eliminate = [1]\n",
      "no small end nodes to get rid of so returning whole skeleton\n",
      "Removed 0 skeletal branches\n"
     ]
    },
    {
     "data": {
      "application/vnd.jupyter.widget-view+json": {
       "model_id": "4c791638954a4a1aa92ff48d667f1619",
       "version_major": 2,
       "version_minor": 0
      },
      "text/plain": [
       "  0%|          | 0/5 [00:00<?, ?it/s]"
      ]
     },
     "metadata": {},
     "output_type": "display_data"
    },
    {
     "name": "stdout",
     "output_type": "stream",
     "text": [
      "22345 22346\n",
      "For marked faces: None\n",
      "empty_indices % = 0.0\n",
      " conflict_indices % = 0.0\n"
     ]
    },
    {
     "data": {
      "application/vnd.jupyter.widget-view+json": {
       "model_id": "69052e52c6914548bda9627d8da49795",
       "version_major": 2,
       "version_minor": 0
      },
      "text/plain": [
       "0it [00:00, ?it/s]"
      ]
     },
     "metadata": {},
     "output_type": "display_data"
    },
    {
     "name": "stdout",
     "output_type": "stream",
     "text": [
      "AFTER face_lookup_resolved_test\n"
     ]
    },
    {
     "data": {
      "application/vnd.jupyter.widget-view+json": {
       "model_id": "7ed0922cfea947b1982a83c97dc7b362",
       "version_major": 2,
       "version_minor": 0
      },
      "text/plain": [
       "  0%|          | 0/5 [00:00<?, ?it/s]"
      ]
     },
     "metadata": {},
     "output_type": "display_data"
    },
    {
     "name": "stdout",
     "output_type": "stream",
     "text": [
      "Successful Limb Decomposition\n",
      "\n",
      "\n",
      "----- Working on Proper Limb # 4 ---------\n",
      "meshparty_segment_size = 100\n",
      "invalidation_d = 12000\n",
      "use_adaptive_invalidation_d= False\n",
      "axon_width_preprocess_limb_max = 200\n",
      "filter_end_node_length= 4000\n",
      "filter_end_node_length_meshparty = 4000\n",
      "invalidation_d = 12000\n",
      "root_curr = [1493560.   586779.1 1105606. ]\n",
      "Time for preparing soma vertices and root: 0.0002465248107910156\n",
      "invalidation_d = 12000\n",
      "smooth_neighborhood = 1\n",
      "cc_vertex_thresh = 10\n"
     ]
    },
    {
     "name": "stderr",
     "output_type": "stream",
     "text": [
      "\r",
      "  0%|          | 0/1 [00:00<?, ?it/s]"
     ]
    },
    {
     "data": {
      "application/vnd.jupyter.widget-view+json": {
       "model_id": "7999da0aa78e45bb8429608e96801c32",
       "version_major": 2,
       "version_minor": 0
      },
      "text/plain": [
       "  0%|          | 0/10788 [00:00<?, ?it/s]"
      ]
     },
     "metadata": {},
     "output_type": "display_data"
    },
    {
     "name": "stderr",
     "output_type": "stream",
     "text": [
      "\r",
      "100%|██████████| 1/1 [00:00<00:00, 15.74it/s]"
     ]
    },
    {
     "name": "stdout",
     "output_type": "stream",
     "text": [
      "meshparty_segment_size = 100\n",
      "Time for 1st pass MP skeletonization: 0.19266414642333984\n",
      "connecting at the root\n",
      "branches_touching_root = [0]\n"
     ]
    },
    {
     "name": "stderr",
     "output_type": "stream",
     "text": [
      "\n"
     ]
    },
    {
     "name": "stdout",
     "output_type": "stream",
     "text": [
      "combining close nodes\n",
      "combine_threshold = 700\n",
      "length of Graph = 741\n",
      "After combining close endpoints max(kept_branches_idx) = 0, len(kept_branches_idx) = 1\n",
      "empty_indices % = 0.0\n",
      " conflict_indices % = 0.0\n"
     ]
    },
    {
     "data": {
      "application/vnd.jupyter.widget-view+json": {
       "model_id": "ed4dcad2564d4cb8a3b9a28fdb97f072",
       "version_major": 2,
       "version_minor": 0
      },
      "text/plain": [
       "0it [00:00, ?it/s]"
      ]
     },
     "metadata": {},
     "output_type": "display_data"
    },
    {
     "name": "stdout",
     "output_type": "stream",
     "text": [
      "AFTER face_lookup_resolved_test\n"
     ]
    },
    {
     "data": {
      "application/vnd.jupyter.widget-view+json": {
       "model_id": "a815fb61c0b5452d820e78bb7f6c4fe4",
       "version_major": 2,
       "version_minor": 0
      },
      "text/plain": [
       "  0%|          | 0/1 [00:00<?, ?it/s]"
      ]
     },
     "metadata": {},
     "output_type": "display_data"
    },
    {
     "name": "stdout",
     "output_type": "stream",
     "text": [
      "Decomposing first pass: 0.9537620544433594\n",
      "Attempting to use MeshAfterParty Skeletonization and Mesh Correspondence\n",
      "Another print\n",
      "Found len(mesh_large_idx) MAP candidates: [20742]\n",
      "mesh_large_connectivity: 0.0001304149627685547\n",
      "Finding MAP candidates connected components: 5.841255187988281e-05\n",
      "len(filtered_pieces) = 1\n",
      "skeleton_connectivity_MP : 0.006440162658691406\n",
      "Grouping MP Sublimbs by Graph: 2.2172927856445312e-05\n",
      "Divinding into MP and MAP pieces: 4.76837158203125e-07\n",
      "--- Working on MAP piece 0---\n",
      "MAP Filtering Soma Pieces: 0.038725852966308594\n",
      "inside skeletonize_connected_branch and use_surface_after_CGAL=True, surface_reconstruction_size=1000\n",
      "keep_idx = [0]\n",
      "     Starting Screened Poisson\n",
      "xvfb-run -n 4339 -s \"-screen 0 800x600x24\" meshlabserver $@  -i /neurd_packages/NEURD/Applications/autoproof_neuron_pipeline/temp/None.off -o /neurd_packages/NEURD/Applications/autoproof_neuron_pipeline/temp/None_poisson.off -s /neurd_packages/NEURD/Applications/autoproof_neuron_pipeline/temp/poisson_753456.mls\n",
      "removed temporary input file: /neurd_packages/NEURD/Applications/autoproof_neuron_pipeline/temp/None.off\n",
      "removed temporary output file: /neurd_packages/NEURD/Applications/autoproof_neuron_pipeline/temp/None_poisson.off\n",
      "Using the close holes feature\n",
      "xvfb-run -n 8969 -s \"-screen 0 800x600x24\" meshlabserver $@  -i /neurd_packages/NEURD/Applications/autoproof_neuron_pipeline/temp/neuron_41791.off -o /neurd_packages/NEURD/Applications/autoproof_neuron_pipeline/temp/neuron_41791_fill_holes.off -s /neurd_packages/NEURD/Applications/autoproof_neuron_pipeline/temp/fill_holes_571769.mls\n",
      "removed temporary input file: /neurd_packages/NEURD/Applications/autoproof_neuron_pipeline/temp/neuron_41791.off\n",
      "removed temporary output file: /neurd_packages/NEURD/Applications/autoproof_neuron_pipeline/temp/neuron_41791_fill_holes.off\n",
      "/neurd_packages/NEURD/Applications/autoproof_neuron_pipeline/temp/fill_holes_571769.mls is being deleted....\n",
      "-----Time for Screened Poisson= 12.179931402206421\n",
      "mesh_pieces = [<trimesh.Trimesh(vertices.shape=(32479, 3), faces.shape=(64962, 3))>]\n",
      "     Starting Calcification (Changed back where stitches large poissons)\n",
      "Manifold status before skeletonization = True\n",
      "Watertight status before skeletonization = True\n",
      "min_edge_length = 75\n",
      "Before mesh subtraction number of skeleton edges = 745\n"
     ]
    },
    {
     "data": {
      "application/vnd.jupyter.widget-view+json": {
       "model_id": "f0ef6711a88b49359a0a51bec3dc744f",
       "version_major": 2,
       "version_minor": 0
      },
      "text/plain": [
       "0it [00:00, ?it/s]"
      ]
     },
     "metadata": {},
     "output_type": "display_data"
    },
    {
     "name": "stdout",
     "output_type": "stream",
     "text": [
      "len(leftover_meshes_sig) = []\n"
     ]
    },
    {
     "data": {
      "application/vnd.jupyter.widget-view+json": {
       "model_id": "4b783f9bf6024bfda573ddea6f9850b2",
       "version_major": 2,
       "version_minor": 0
      },
      "text/plain": [
       "0it [00:00, ?it/s]"
      ]
     },
     "metadata": {},
     "output_type": "display_data"
    },
    {
     "name": "stdout",
     "output_type": "stream",
     "text": [
      "No skeletons to stack so returning empty list\n",
      "STacking the leftover and significant poisson skeleton\n",
      "max_stitch_distance = 5000\n",
      "len_subgraphs AT BEGINNING of the loop\n"
     ]
    },
    {
     "data": {
      "application/vnd.jupyter.widget-view+json": {
       "model_id": "5c249b02fddb4c0eb8123c1574d4c776",
       "version_major": 2,
       "version_minor": 0
      },
      "text/plain": [
       "  0%|          | 0/1 [00:00<?, ?it/s]"
      ]
     },
     "metadata": {},
     "output_type": "display_data"
    },
    {
     "name": "stdout",
     "output_type": "stream",
     "text": [
      "all graph is one component!\n",
      "Total time for skeleton stitching = 0.0279848575592041\n",
      "The process was using a temp folder\n",
      "Checking connected components after skeletonize_connected_branch\n",
      "    Total time for skeletonizing branch: 21.630176067352295\n",
      "Checking connected components after removing cycles\n",
      "Total time for mesh KDTree = 0.08229756355285645\n",
      "sbv[0].reshape(-1,3) = [[1493560.   586779.1 1105606. ]]\n",
      "closest_sk_pt_coord BEFORE = [1492710.  587118. 1106620.]\n",
      "current_skeleton.shape = (744, 2, 3)\n",
      "node_for_stitch = 199: [1492710.  587118. 1106620.]\n",
      "node_for_stitch AFTER = 199: [1492710.  587118. 1106620.]\n",
      "possible_node_loc = [  0  53 130 147 177 199 317 405 563 577 581 609 702 712 744]\n",
      "possible_node_loc AFTER = [  0  53 130 147 177 199 317 405 563 577 581 609 702 712 744]\n",
      "curr_shortest_path = [199]\n",
      "Current stitch point was a branch or endpoint\n",
      "change_status for create soma extending pieces = False\n",
      "closest_sk_pt_coord AFTER = [1492710.  587118. 1106620.]\n",
      "skipping soma 0 because closest skeleton node was already end node\n",
      "sbv[0].reshape(-1,3) = [[1474600.   582912.4 1113344. ]]\n",
      "closest_sk_pt_coord BEFORE = [1474820.  582855. 1113480.]\n",
      "current_skeleton.shape = (744, 2, 3)\n",
      "node_for_stitch = 0: [1474820.  582855. 1113480.]\n",
      "node_for_stitch AFTER = 0: [1474820.  582855. 1113480.]\n",
      "possible_node_loc = [  0  53 130 147 177 199 317 405 563 577 581 609 702 712 744]\n",
      "possible_node_loc AFTER = [  0  53 130 147 177 199 317 405 563 577 581 609 702 712 744]\n",
      "curr_shortest_path = [0]\n",
      "Current stitch point was a branch or endpoint\n",
      "change_status for create soma extending pieces = False\n",
      "closest_sk_pt_coord AFTER = [1474820.  582855. 1113480.]\n",
      "skipping soma 1 because closest skeleton node was already end node\n",
      "endpoints_must_keep = {0: array([[1492710.,  587118., 1106620.]]), 1: array([[1474820.,  582855., 1113480.]])}\n",
      "    Total time for Fixing Skeleton Soma Endpoint Extension : 0.30895280838012695\n",
      "filter_end_node_length = 4000\n",
      "Using Distance measure skeletal_distance\n",
      "endpoints_must_keep = [[1492710.  587118. 1106620.]\n",
      " [1474820.  582855. 1113480.]]\n",
      "Number of end_nodes BEFORE filtering = 15\n",
      "all_single_nodes_to_eliminate = [5, 0]\n"
     ]
    },
    {
     "data": {
      "application/vnd.jupyter.widget-view+json": {
       "model_id": "e6a3948243194ed8aa236f0cf0ca9211",
       "version_major": 2,
       "version_minor": 0
      },
      "text/plain": [
       "  0%|          | 0/10 [00:00<?, ?it/s]"
      ]
     },
     "metadata": {},
     "output_type": "display_data"
    },
    {
     "name": "stdout",
     "output_type": "stream",
     "text": [
      "Checking connected components after clean_skeleton\n",
      "after DISTANCE cleaning limb size of skeleton = (688, 2, 3)\n",
      "********COMBINING CLOSE SKELETON NODES WITHIN 700 DISTANCE**********\n",
      "combine_threshold = 700\n",
      "Found 0 valid paths to replace\n",
      "valid_paths = []\n",
      "valid_path_lengths = []\n",
      "No valid paths found so just returning the original\n",
      "skeletonize_and_clean_connected_branch_CGAL: 22.905157804489136\n",
      "Working on limb correspondence for #0 MAP piece\n",
      "xvfb-run -n 8113 -s \"-screen 0 800x600x24\" meshlabserver $@  -i /neurd_packages/NEURD/Applications/autoproof_neuron_pipeline/temp/neuron_54385.off -o /neurd_packages/NEURD/Applications/autoproof_neuron_pipeline/temp/neuron_54385_remove_interior.off -s /neurd_packages/NEURD/Applications/autoproof_neuron_pipeline/temp/remove_interior_616115.mls\n",
      "removed temporary input file: /neurd_packages/NEURD/Applications/autoproof_neuron_pipeline/temp/neuron_54385.off\n",
      "removed temporary output file: /neurd_packages/NEURD/Applications/autoproof_neuron_pipeline/temp/neuron_54385_remove_interior.off\n",
      "/neurd_packages/NEURD/Applications/autoproof_neuron_pipeline/temp/remove_interior_616115.mls is being deleted....\n",
      "Removing the following inside neurons: [<trimesh.Trimesh(vertices.shape=(205, 3), faces.shape=(309, 3))>]\n"
     ]
    },
    {
     "data": {
      "application/vnd.jupyter.widget-view+json": {
       "model_id": "fbce00f3ac914e2296a2e3a81a19ee3c",
       "version_major": 2,
       "version_minor": 0
      },
      "text/plain": [
       "0it [00:00, ?it/s]"
      ]
     },
     "metadata": {},
     "output_type": "display_data"
    },
    {
     "name": "stdout",
     "output_type": "stream",
     "text": [
      "Total time for decomposition = 3.102719783782959\n",
      "mesh_correspondence_first_pass: 3.102748394012451\n",
      "Limb decomposed into 7 branches\n",
      "divided_skeleton_graph_recovered = (688, 2, 3) and \n",
      "current_mesh_data[0]['branch_skeletons_cleaned'].shape = (688, 2, 3)\n",
      "\n",
      "Number of connected components in deocmposed recovered graph = 1\n",
      "Number of connected components in cleaned skeleton graph= 1\n",
      "The downsampled branches number of connected components = 1\n",
      "Empty submeshes = []\n",
      "\n",
      "\n",
      "--- Working on 1-to-1 correspondence-----\n",
      "max(original_labels),len(original_labels) = (6, 7)\n",
      "empty_indices % = 0.17303056600134992\n",
      " conflict_indices % = 0.05279143766271333\n"
     ]
    },
    {
     "data": {
      "application/vnd.jupyter.widget-view+json": {
       "model_id": "88b1b68b704b4b13b85f8ab87f2cd38d",
       "version_major": 2,
       "version_minor": 0
      },
      "text/plain": [
       "  0%|          | 0/54 [00:00<?, ?it/s]"
      ]
     },
     "metadata": {},
     "output_type": "display_data"
    },
    {
     "name": "stdout",
     "output_type": "stream",
     "text": [
      "AFTER face_lookup_resolved_test\n",
      "Took 0 iterations to expand the label back\n",
      "empty_indices % = 0.0\n",
      " conflict_indices % = 0.0\n"
     ]
    },
    {
     "data": {
      "application/vnd.jupyter.widget-view+json": {
       "model_id": "c0788e48fac24b97af94dfbb0c0728e6",
       "version_major": 2,
       "version_minor": 0
      },
      "text/plain": [
       "0it [00:00, ?it/s]"
      ]
     },
     "metadata": {},
     "output_type": "display_data"
    },
    {
     "name": "stdout",
     "output_type": "stream",
     "text": [
      "AFTER face_lookup_resolved_test\n",
      "Took 0 iterations to expand the label back\n",
      "empty_indices % = 0.0\n",
      " conflict_indices % = 0.0\n"
     ]
    },
    {
     "data": {
      "application/vnd.jupyter.widget-view+json": {
       "model_id": "2c89b44d55b94a10801dd8ae955e18eb",
       "version_major": 2,
       "version_minor": 0
      },
      "text/plain": [
       "0it [00:00, ?it/s]"
      ]
     },
     "metadata": {},
     "output_type": "display_data"
    },
    {
     "name": "stdout",
     "output_type": "stream",
     "text": [
      "AFTER face_lookup_resolved_test\n"
     ]
    },
    {
     "data": {
      "application/vnd.jupyter.widget-view+json": {
       "model_id": "9b1142133651467abe02fdb5a1fee1dc",
       "version_major": 2,
       "version_minor": 0
      },
      "text/plain": [
       "  0%|          | 0/7 [00:00<?, ?it/s]"
      ]
     },
     "metadata": {},
     "output_type": "display_data"
    },
    {
     "name": "stdout",
     "output_type": "stream",
     "text": [
      "Total time for MAP sublimb #0 mesh processing = 27.71890425682068\n",
      "correspondence_1_to_1: 1.6722288131713867\n",
      "Total time for MAP sublimb processing 27.718966722488403\n",
      "There were not both MAP and MP pieces so skipping the stitch resolving phase\n",
      "Time for decomp of Limb = 28.888379335403442\n",
      "Number of matching vertices = 60\n",
      "Number of matching vertices = 13\n",
      "Only one endpoint after filtering away the endpoints that are not on the skeleton\n",
      "Only one endpoint after filtering away the endpoints that are not on the skeleton\n",
      "Using Distance measure skeletal_distance\n",
      "endpoints_must_keep = [[1474820.  582855. 1113480.]\n",
      " [1492710.  587118. 1106620.]]\n",
      "Number of end_nodes BEFORE filtering = 5\n",
      "all_single_nodes_to_eliminate = [0, 2]\n",
      "no small end nodes to get rid of so returning whole skeleton\n",
      "Removed 0 skeletal branches\n"
     ]
    },
    {
     "data": {
      "application/vnd.jupyter.widget-view+json": {
       "model_id": "fc0bb7bbe25f4956b31eeae30646acea",
       "version_major": 2,
       "version_minor": 0
      },
      "text/plain": [
       "  0%|          | 0/7 [00:00<?, ?it/s]"
      ]
     },
     "metadata": {},
     "output_type": "display_data"
    },
    {
     "name": "stdout",
     "output_type": "stream",
     "text": [
      "20741 20742\n",
      "For marked faces: None\n",
      "empty_indices % = 0.0\n",
      " conflict_indices % = 0.0\n"
     ]
    },
    {
     "data": {
      "application/vnd.jupyter.widget-view+json": {
       "model_id": "0d05bd86eab745dbbc5b43daf8cbeb3b",
       "version_major": 2,
       "version_minor": 0
      },
      "text/plain": [
       "0it [00:00, ?it/s]"
      ]
     },
     "metadata": {},
     "output_type": "display_data"
    },
    {
     "name": "stdout",
     "output_type": "stream",
     "text": [
      "AFTER face_lookup_resolved_test\n"
     ]
    },
    {
     "data": {
      "application/vnd.jupyter.widget-view+json": {
       "model_id": "41210ec0add746619b848d5fbb1ed945",
       "version_major": 2,
       "version_minor": 0
      },
      "text/plain": [
       "  0%|          | 0/7 [00:00<?, ?it/s]"
      ]
     },
     "metadata": {},
     "output_type": "display_data"
    },
    {
     "name": "stdout",
     "output_type": "stream",
     "text": [
      "Successful Limb Decomposition\n",
      "\n",
      "\n",
      "----- Working on Proper Limb # 5 ---------\n",
      "meshparty_segment_size = 100\n",
      "invalidation_d = 12000\n",
      "use_adaptive_invalidation_d= False\n",
      "axon_width_preprocess_limb_max = 200\n",
      "filter_end_node_length= 4000\n",
      "filter_end_node_length_meshparty = 4000\n",
      "invalidation_d = 12000\n",
      "root_curr = [1486653.   594244.2 1104480. ]\n",
      "Time for preparing soma vertices and root: 0.0002815723419189453\n",
      "invalidation_d = 12000\n",
      "smooth_neighborhood = 1\n",
      "cc_vertex_thresh = 10\n"
     ]
    },
    {
     "name": "stderr",
     "output_type": "stream",
     "text": [
      "\r",
      "  0%|          | 0/1 [00:00<?, ?it/s]"
     ]
    },
    {
     "data": {
      "application/vnd.jupyter.widget-view+json": {
       "model_id": "47c698cadfce40db9c2a42246b159fe6",
       "version_major": 2,
       "version_minor": 0
      },
      "text/plain": [
       "  0%|          | 0/9843 [00:00<?, ?it/s]"
      ]
     },
     "metadata": {},
     "output_type": "display_data"
    },
    {
     "name": "stderr",
     "output_type": "stream",
     "text": [
      "100%|██████████| 1/1 [00:00<00:00, 16.24it/s]\n"
     ]
    },
    {
     "name": "stdout",
     "output_type": "stream",
     "text": [
      "meshparty_segment_size = 100\n",
      "Time for 1st pass MP skeletonization: 0.24699115753173828\n",
      "branches_touching_root = [0]\n",
      "combining close nodes\n",
      "combine_threshold = 700\n",
      "length of Graph = 818\n",
      "After combining close endpoints max(kept_branches_idx) = 0, len(kept_branches_idx) = 1\n",
      "empty_indices % = 0.0\n",
      " conflict_indices % = 0.0\n"
     ]
    },
    {
     "data": {
      "application/vnd.jupyter.widget-view+json": {
       "model_id": "a00a9477c9df42a292e63d8b8a04a931",
       "version_major": 2,
       "version_minor": 0
      },
      "text/plain": [
       "0it [00:00, ?it/s]"
      ]
     },
     "metadata": {},
     "output_type": "display_data"
    },
    {
     "name": "stdout",
     "output_type": "stream",
     "text": [
      "AFTER face_lookup_resolved_test\n"
     ]
    },
    {
     "data": {
      "application/vnd.jupyter.widget-view+json": {
       "model_id": "d46893ba60b345dbaad701828bc6ecc9",
       "version_major": 2,
       "version_minor": 0
      },
      "text/plain": [
       "  0%|          | 0/1 [00:00<?, ?it/s]"
      ]
     },
     "metadata": {},
     "output_type": "display_data"
    },
    {
     "name": "stdout",
     "output_type": "stream",
     "text": [
      "Decomposing first pass: 0.971750020980835\n",
      "Attempting to use MeshAfterParty Skeletonization and Mesh Correspondence\n",
      "Another print\n",
      "Divinding into MP and MAP pieces: 3.5762786865234375e-05\n",
      "Total time for MAP sublimb processing 3.0994415283203125e-06\n",
      "---- Working on MP Decomposition #0 ----\n",
      "Using Quicker soma_to_piece_touching_vertices because no MAP and only one sublimb_mesh piece \n",
      "MP filtering soma verts: 1.430511474609375e-05\n",
      "Fixing Possible Soma Extension Branch for Sublimb 0\n",
      "Total time for mesh KDTree = 0.13896775245666504\n",
      "sbv[0].reshape(-1,3) = [[1486653.   594244.2 1104480. ]]\n",
      "closest_sk_pt_coord BEFORE = [1486547.7606223   594609.92820407 1104601.87572914]\n",
      "current_skeleton.shape = (817, 2, 3)\n",
      "node_for_stitch = 817: [1486547.7606223   594609.92820407 1104601.87572914]\n",
      "node_for_stitch AFTER = 817: [1486547.7606223   594609.92820407 1104601.87572914]\n",
      "possible_node_loc = [334 817]\n",
      "possible_node_loc AFTER = [334 817]\n",
      "curr_shortest_path = [817]\n",
      "Current stitch point was a branch or endpoint\n",
      "change_status for create soma extending pieces = False\n",
      "closest_sk_pt_coord AFTER = [1486547.7606223   594609.92820407 1104601.87572914]\n",
      "skipping soma 0 because closest skeleton node was already end node\n",
      "endpoints_must_keep = {0: array([[1486547.7606223 ,  594609.92820407, 1104601.87572914]])}\n",
      "match_sk_branches = [0]\n",
      "The new branch info was none so skipping \n",
      "\n",
      "No soma extending branch was added for this sublimb even though it had a soma border (means they already existed)\n",
      "MP (because soma touching verts) soma extension add: 0.24418854713439941\n",
      "There were not both MAP and MP pieces so skipping the stitch resolving phase\n",
      "Time for decomp of Limb = 1.482304573059082\n",
      "Number of matching vertices = 27\n",
      "Only one endpoint after filtering away the endpoints that are not on the skeleton\n",
      "Using Distance measure skeletal_distance\n",
      "endpoints_must_keep = [[1486547.7606223   594609.92820407 1104601.87572914]]\n",
      "Number of end_nodes BEFORE filtering = 2\n",
      "all_single_nodes_to_eliminate = [1]\n",
      "no small end nodes to get rid of so returning whole skeleton\n",
      "Removed 0 skeletal branches\n"
     ]
    },
    {
     "data": {
      "application/vnd.jupyter.widget-view+json": {
       "model_id": "ac47d52e08ee4656b09a375196ee0ad3",
       "version_major": 2,
       "version_minor": 0
      },
      "text/plain": [
       "  0%|          | 0/1 [00:00<?, ?it/s]"
      ]
     },
     "metadata": {},
     "output_type": "display_data"
    },
    {
     "name": "stdout",
     "output_type": "stream",
     "text": [
      "19361 19362\n",
      "For marked faces: None\n",
      "empty_indices % = 0.0\n",
      " conflict_indices % = 0.0\n"
     ]
    },
    {
     "data": {
      "application/vnd.jupyter.widget-view+json": {
       "model_id": "e38a1f9993bd4489af94617f58095f5a",
       "version_major": 2,
       "version_minor": 0
      },
      "text/plain": [
       "0it [00:00, ?it/s]"
      ]
     },
     "metadata": {},
     "output_type": "display_data"
    },
    {
     "name": "stdout",
     "output_type": "stream",
     "text": [
      "AFTER face_lookup_resolved_test\n"
     ]
    },
    {
     "data": {
      "application/vnd.jupyter.widget-view+json": {
       "model_id": "ddccc7f37f5d414585bfa5bd6b40ef68",
       "version_major": 2,
       "version_minor": 0
      },
      "text/plain": [
       "  0%|          | 0/1 [00:00<?, ?it/s]"
      ]
     },
     "metadata": {},
     "output_type": "display_data"
    },
    {
     "name": "stdout",
     "output_type": "stream",
     "text": [
      "Successful Limb Decomposition\n",
      "\n",
      "\n",
      "----- Working on Proper Limb # 6 ---------\n",
      "meshparty_segment_size = 100\n",
      "invalidation_d = 12000\n",
      "use_adaptive_invalidation_d= False\n",
      "axon_width_preprocess_limb_max = 200\n",
      "filter_end_node_length= 4000\n",
      "filter_end_node_length_meshparty = 4000\n",
      "invalidation_d = 12000\n",
      "root_curr = [1491272.  582425. 1102199.]\n",
      "Time for preparing soma vertices and root: 0.00018405914306640625\n",
      "invalidation_d = 12000\n",
      "smooth_neighborhood = 1\n",
      "cc_vertex_thresh = 10\n"
     ]
    },
    {
     "name": "stderr",
     "output_type": "stream",
     "text": [
      "\r",
      "  0%|          | 0/1 [00:00<?, ?it/s]"
     ]
    },
    {
     "data": {
      "application/vnd.jupyter.widget-view+json": {
       "model_id": "8c448eb812e14ef4a7c73492a78b0696",
       "version_major": 2,
       "version_minor": 0
      },
      "text/plain": [
       "  0%|          | 0/7350 [00:00<?, ?it/s]"
      ]
     },
     "metadata": {},
     "output_type": "display_data"
    },
    {
     "name": "stderr",
     "output_type": "stream",
     "text": [
      "\r",
      "100%|██████████| 1/1 [00:00<00:00, 20.28it/s]"
     ]
    },
    {
     "name": "stdout",
     "output_type": "stream",
     "text": [
      "meshparty_segment_size = 100\n",
      "Time for 1st pass MP skeletonization: 0.18384957313537598\n",
      "connecting at the root\n",
      "branches_touching_root = [0]\n"
     ]
    },
    {
     "name": "stderr",
     "output_type": "stream",
     "text": [
      "\n"
     ]
    },
    {
     "name": "stdout",
     "output_type": "stream",
     "text": [
      "combining close nodes\n",
      "combine_threshold = 700\n",
      "length of Graph = 734\n",
      "After combining close endpoints max(kept_branches_idx) = 0, len(kept_branches_idx) = 1\n",
      "empty_indices % = 0.0\n",
      " conflict_indices % = 0.0\n"
     ]
    },
    {
     "data": {
      "application/vnd.jupyter.widget-view+json": {
       "model_id": "010c2601916d4885aa16caf04d8bd930",
       "version_major": 2,
       "version_minor": 0
      },
      "text/plain": [
       "0it [00:00, ?it/s]"
      ]
     },
     "metadata": {},
     "output_type": "display_data"
    },
    {
     "name": "stdout",
     "output_type": "stream",
     "text": [
      "AFTER face_lookup_resolved_test\n"
     ]
    },
    {
     "data": {
      "application/vnd.jupyter.widget-view+json": {
       "model_id": "5b9c68516ceb4d32a8bb8a899efc30f8",
       "version_major": 2,
       "version_minor": 0
      },
      "text/plain": [
       "  0%|          | 0/1 [00:00<?, ?it/s]"
      ]
     },
     "metadata": {},
     "output_type": "display_data"
    },
    {
     "name": "stdout",
     "output_type": "stream",
     "text": [
      "Decomposing first pass: 0.44608187675476074\n",
      "Attempting to use MeshAfterParty Skeletonization and Mesh Correspondence\n",
      "Another print\n",
      "Divinding into MP and MAP pieces: 5.2928924560546875e-05\n",
      "Total time for MAP sublimb processing 3.337860107421875e-06\n",
      "---- Working on MP Decomposition #0 ----\n",
      "Using Quicker soma_to_piece_touching_vertices because no MAP and only one sublimb_mesh piece \n",
      "MP filtering soma verts: 2.002716064453125e-05\n",
      "Fixing Possible Soma Extension Branch for Sublimb 0\n",
      "Total time for mesh KDTree = 0.13060498237609863\n",
      "sbv[0].reshape(-1,3) = [[1491272.  582425. 1102199.]]\n",
      "closest_sk_pt_coord BEFORE = [1491378.93502276  582020.70946596 1101822.28585048]\n",
      "current_skeleton.shape = (733, 2, 3)\n",
      "node_for_stitch = 1: [1491378.93502276  582020.70946596 1101822.28585048]\n",
      "node_for_stitch AFTER = 1: [1491378.93502276  582020.70946596 1101822.28585048]\n",
      "possible_node_loc = [  0 708]\n",
      "possible_node_loc AFTER = [  0 708]\n",
      "curr_shortest_path = [1, 0.0]\n",
      "Current stitch point was not a branch or endpoint, shortest_path_length to one = 99.99677776977433\n",
      "Changing the stitch point becasue the distance to end or branch node was 99.99677776977433\n",
      "New stitch point has degree 1\n",
      "change_status for create soma extending pieces = True\n",
      "closest_sk_pt_coord AFTER = [1491350.10222965  582056.70210586 1101733.55842811]\n",
      "skipping soma 0 because closest skeleton node was already end node\n",
      "endpoints_must_keep = {0: array([[1491350.10222965,  582056.70210586, 1101733.55842811]])}\n",
      "match_sk_branches = [0]\n",
      "The new branch info was none so skipping \n",
      "\n",
      "No soma extending branch was added for this sublimb even though it had a soma border (means they already existed)\n",
      "MP (because soma touching verts) soma extension add: 0.23958253860473633\n",
      "There were not both MAP and MP pieces so skipping the stitch resolving phase\n",
      "Time for decomp of Limb = 0.8856184482574463\n",
      "Number of matching vertices = 9\n",
      "Only one endpoint after filtering away the endpoints that are not on the skeleton\n",
      "Using Distance measure skeletal_distance\n",
      "endpoints_must_keep = [[1491350.10222965  582056.70210586 1101733.55842811]]\n",
      "Number of end_nodes BEFORE filtering = 2\n",
      "all_single_nodes_to_eliminate = [0]\n",
      "no small end nodes to get rid of so returning whole skeleton\n",
      "Removed 0 skeletal branches\n"
     ]
    },
    {
     "data": {
      "application/vnd.jupyter.widget-view+json": {
       "model_id": "c60608d157b440c4af8e989a7a605bd9",
       "version_major": 2,
       "version_minor": 0
      },
      "text/plain": [
       "  0%|          | 0/1 [00:00<?, ?it/s]"
      ]
     },
     "metadata": {},
     "output_type": "display_data"
    },
    {
     "name": "stdout",
     "output_type": "stream",
     "text": [
      "14575 14576\n",
      "For marked faces: None\n",
      "empty_indices % = 0.0\n",
      " conflict_indices % = 0.0\n"
     ]
    },
    {
     "data": {
      "application/vnd.jupyter.widget-view+json": {
       "model_id": "d57bd8db0a7549aa8c22917c04ba62a5",
       "version_major": 2,
       "version_minor": 0
      },
      "text/plain": [
       "0it [00:00, ?it/s]"
      ]
     },
     "metadata": {},
     "output_type": "display_data"
    },
    {
     "name": "stdout",
     "output_type": "stream",
     "text": [
      "AFTER face_lookup_resolved_test\n"
     ]
    },
    {
     "data": {
      "application/vnd.jupyter.widget-view+json": {
       "model_id": "9df45eaabad044718e0f723dcdb7a784",
       "version_major": 2,
       "version_minor": 0
      },
      "text/plain": [
       "  0%|          | 0/1 [00:00<?, ?it/s]"
      ]
     },
     "metadata": {},
     "output_type": "display_data"
    },
    {
     "name": "stdout",
     "output_type": "stream",
     "text": [
      "Successful Limb Decomposition\n",
      "\n",
      "\n",
      "----- Working on Proper Limb # 7 ---------\n",
      "meshparty_segment_size = 100\n",
      "invalidation_d = 12000\n",
      "use_adaptive_invalidation_d= False\n",
      "axon_width_preprocess_limb_max = 200\n",
      "filter_end_node_length= 4000\n",
      "filter_end_node_length_meshparty = 4000\n",
      "invalidation_d = 12000\n",
      "root_curr = [1468936.   574693.8 1112623. ]\n",
      "Time for preparing soma vertices and root: 0.000240325927734375\n",
      "invalidation_d = 12000\n",
      "smooth_neighborhood = 1\n",
      "cc_vertex_thresh = 10\n"
     ]
    },
    {
     "name": "stderr",
     "output_type": "stream",
     "text": [
      "\r",
      "  0%|          | 0/1 [00:00<?, ?it/s]"
     ]
    },
    {
     "data": {
      "application/vnd.jupyter.widget-view+json": {
       "model_id": "b50c193bdeac4d6c8fd0d599d29b0fbc",
       "version_major": 2,
       "version_minor": 0
      },
      "text/plain": [
       "  0%|          | 0/2055 [00:00<?, ?it/s]"
      ]
     },
     "metadata": {},
     "output_type": "display_data"
    },
    {
     "name": "stderr",
     "output_type": "stream",
     "text": [
      "\r",
      "100%|██████████| 1/1 [00:00<00:00, 61.97it/s]"
     ]
    },
    {
     "name": "stdout",
     "output_type": "stream",
     "text": [
      "meshparty_segment_size = 100\n",
      "Time for 1st pass MP skeletonization: 0.10159587860107422\n",
      "connecting at the root\n",
      "branches_touching_root = [0]\n",
      "combining close nodes\n",
      "combine_threshold = 700\n",
      "length of Graph = 117\n",
      "After combining close endpoints max(kept_branches_idx) = 0, len(kept_branches_idx) = 1\n",
      "empty_indices % = 0.0\n",
      " conflict_indices % = 0.0\n"
     ]
    },
    {
     "name": "stderr",
     "output_type": "stream",
     "text": [
      "\n"
     ]
    },
    {
     "data": {
      "application/vnd.jupyter.widget-view+json": {
       "model_id": "2eccbc65c63344c6b61ed5d63f0b5abc",
       "version_major": 2,
       "version_minor": 0
      },
      "text/plain": [
       "0it [00:00, ?it/s]"
      ]
     },
     "metadata": {},
     "output_type": "display_data"
    },
    {
     "name": "stdout",
     "output_type": "stream",
     "text": [
      "AFTER face_lookup_resolved_test\n"
     ]
    },
    {
     "data": {
      "application/vnd.jupyter.widget-view+json": {
       "model_id": "c7c5c510bab445b4a9d7b95737f00959",
       "version_major": 2,
       "version_minor": 0
      },
      "text/plain": [
       "  0%|          | 0/1 [00:00<?, ?it/s]"
      ]
     },
     "metadata": {},
     "output_type": "display_data"
    },
    {
     "name": "stdout",
     "output_type": "stream",
     "text": [
      "Decomposing first pass: 0.1288313865661621\n",
      "Attempting to use MeshAfterParty Skeletonization and Mesh Correspondence\n",
      "Another print\n",
      "Found len(mesh_large_idx) MAP candidates: [3349]\n",
      "mesh_large_connectivity: 0.000186920166015625\n",
      "Finding MAP candidates connected components: 7.700920104980469e-05\n",
      "len(filtered_pieces) = 1\n",
      "skeleton_connectivity_MP : 0.0028944015502929688\n",
      "Grouping MP Sublimbs by Graph: 2.9325485229492188e-05\n",
      "Divinding into MP and MAP pieces: 9.5367431640625e-07\n",
      "--- Working on MAP piece 0---\n",
      "MAP Filtering Soma Pieces: 0.012485980987548828\n",
      "inside skeletonize_connected_branch and use_surface_after_CGAL=True, surface_reconstruction_size=1000\n",
      "keep_idx = [0]\n",
      "     Starting Screened Poisson\n",
      "xvfb-run -n 3509 -s \"-screen 0 800x600x24\" meshlabserver $@  -i /neurd_packages/NEURD/Applications/autoproof_neuron_pipeline/temp/None.off -o /neurd_packages/NEURD/Applications/autoproof_neuron_pipeline/temp/None_poisson.off -s /neurd_packages/NEURD/Applications/autoproof_neuron_pipeline/temp/poisson_804952.mls\n",
      "removed temporary input file: /neurd_packages/NEURD/Applications/autoproof_neuron_pipeline/temp/None.off\n",
      "removed temporary output file: /neurd_packages/NEURD/Applications/autoproof_neuron_pipeline/temp/None_poisson.off\n",
      "Using the close holes feature\n",
      "xvfb-run -n 6867 -s \"-screen 0 800x600x24\" meshlabserver $@  -i /neurd_packages/NEURD/Applications/autoproof_neuron_pipeline/temp/neuron_87662.off -o /neurd_packages/NEURD/Applications/autoproof_neuron_pipeline/temp/neuron_87662_fill_holes.off -s /neurd_packages/NEURD/Applications/autoproof_neuron_pipeline/temp/fill_holes_953885.mls\n",
      "removed temporary input file: /neurd_packages/NEURD/Applications/autoproof_neuron_pipeline/temp/neuron_87662.off\n",
      "removed temporary output file: /neurd_packages/NEURD/Applications/autoproof_neuron_pipeline/temp/neuron_87662_fill_holes.off\n",
      "/neurd_packages/NEURD/Applications/autoproof_neuron_pipeline/temp/fill_holes_953885.mls is being deleted....\n",
      "-----Time for Screened Poisson= 8.488275527954102\n",
      "mesh_pieces = [<trimesh.Trimesh(vertices.shape=(13498, 3), faces.shape=(26992, 3))>]\n",
      "     Starting Calcification (Changed back where stitches large poissons)\n",
      "Manifold status before skeletonization = True\n",
      "Watertight status before skeletonization = True\n",
      "min_edge_length = 75\n",
      "**** Warning: There were redundant edges in the skeleton*****\n",
      "Removing the cycles made the skeleton of 0 size so returning old skeleton\n",
      "Before mesh subtraction number of skeleton edges = 3\n",
      "**** Warning: There were redundant edges in the skeleton*****\n",
      "sk_graph_clean.degree = dict_items([])\n"
     ]
    },
    {
     "data": {
      "image/png": "[encoded data removed]",
      "text/plain": [
       "<Figure size 640x480 with 1 Axes>"
      ]
     },
     "metadata": {},
     "output_type": "display_data"
    },
    {
     "data": {
      "application/vnd.jupyter.widget-view+json": {
       "model_id": "0e22968e2d384030985d56d5156ea062",
       "version_major": 2,
       "version_minor": 0
      },
      "text/plain": [
       "0it [00:00, ?it/s]"
      ]
     },
     "metadata": {},
     "output_type": "display_data"
    },
    {
     "name": "stdout",
     "output_type": "stream",
     "text": [
      "len(leftover_meshes_sig) = [<trimesh.Trimesh(vertices.shape=(2056, 3), faces.shape=(3349, 3))>]\n"
     ]
    },
    {
     "data": {
      "application/vnd.jupyter.widget-view+json": {
       "model_id": "159ea6e8c3774de3ae8927663c68dd70",
       "version_major": 2,
       "version_minor": 0
      },
      "text/plain": [
       "  0%|          | 0/1 [00:00<?, ?it/s]"
      ]
     },
     "metadata": {},
     "output_type": "display_data"
    },
    {
     "name": "stdout",
     "output_type": "stream",
     "text": [
      "invalidation_d = 12000\n",
      "smooth_neighborhood = 1\n",
      "cc_vertex_thresh = 10\n"
     ]
    },
    {
     "name": "stderr",
     "output_type": "stream",
     "text": [
      "\n",
      "  0%|          | 0/1 [00:00<?, ?it/s]\u001b[A"
     ]
    },
    {
     "data": {
      "application/vnd.jupyter.widget-view+json": {
       "model_id": "f21f8b159a9645cab41ba39851f1c860",
       "version_major": 2,
       "version_minor": 0
      },
      "text/plain": [
       "  0%|          | 0/2055 [00:00<?, ?it/s]"
      ]
     },
     "metadata": {},
     "output_type": "display_data"
    },
    {
     "name": "stderr",
     "output_type": "stream",
     "text": [
      "\r",
      "100%|██████████| 1/1 [00:00<00:00, 39.08it/s]"
     ]
    },
    {
     "name": "stdout",
     "output_type": "stream",
     "text": [
      "Time for sk_meshparty_obj = 0.07761478424072266\n",
      "branches_touching_root = [0]\n",
      "combining close nodes\n",
      "combine_threshold = 700\n",
      "length of Graph = 117\n",
      "After combining close endpoints max(kept_branches_idx) = 0, len(kept_branches_idx) = 1\n",
      "empty_indices % = 0.0\n",
      " conflict_indices % = 0.0\n"
     ]
    },
    {
     "name": "stderr",
     "output_type": "stream",
     "text": [
      "\n"
     ]
    },
    {
     "data": {
      "application/vnd.jupyter.widget-view+json": {
       "model_id": "d28c22b7f61f4392a4743c6e578f5e55",
       "version_major": 2,
       "version_minor": 0
      },
      "text/plain": [
       "0it [00:00, ?it/s]"
      ]
     },
     "metadata": {},
     "output_type": "display_data"
    },
    {
     "name": "stdout",
     "output_type": "stream",
     "text": [
      "AFTER face_lookup_resolved_test\n"
     ]
    },
    {
     "data": {
      "application/vnd.jupyter.widget-view+json": {
       "model_id": "5a1b58cdd1cb49a2a3a92ba9039bc8a2",
       "version_major": 2,
       "version_minor": 0
      },
      "text/plain": [
       "  0%|          | 0/1 [00:00<?, ?it/s]"
      ]
     },
     "metadata": {},
     "output_type": "display_data"
    },
    {
     "name": "stdout",
     "output_type": "stream",
     "text": [
      "widths = [6278.58946421]\n",
      "width_median= 6278.589464208121\n",
      "Time for correspondence = 0.1424720287322998\n",
      "STacking the leftover and significant poisson skeleton\n",
      "max_stitch_distance = 5000\n",
      "len_subgraphs AT BEGINNING of the loop\n"
     ]
    },
    {
     "data": {
      "application/vnd.jupyter.widget-view+json": {
       "model_id": "9f53b283411d4e46836dfcc07bf5f177",
       "version_major": 2,
       "version_minor": 0
      },
      "text/plain": [
       "  0%|          | 0/2 [00:00<?, ?it/s]"
      ]
     },
     "metadata": {},
     "output_type": "display_data"
    },
    {
     "name": "stdout",
     "output_type": "stream",
     "text": [
      "all graph is one component!\n",
      "Total time for skeleton stitching = 0.024829864501953125\n",
      "The process was using a temp folder\n",
      "Checking connected components after skeletonize_connected_branch\n",
      "    Total time for skeletonizing branch: 10.70747184753418\n",
      "Checking connected components after removing cycles\n",
      "Total time for mesh KDTree = 0.030472755432128906\n",
      "sbv[0].reshape(-1,3) = [[1468936.   574693.8 1112623. ]]\n",
      "closest_sk_pt_coord BEFORE = [1467110.60911576  578567.92374513 1112556.22084362]\n",
      "current_skeleton.shape = (118, 2, 3)\n",
      "node_for_stitch = 3: [1467110.60911576  578567.92374513 1112556.22084362]\n",
      "node_for_stitch AFTER = 3: [1467110.60911576  578567.92374513 1112556.22084362]\n",
      "possible_node_loc = [  0 106 117]\n",
      "possible_node_loc AFTER = [  0 106 117]\n",
      "curr_shortest_path = [3, 1.0, 2.0, 4.0, 6.0, 8.0, 0]\n",
      "Current stitch point was not a branch or endpoint, shortest_path_length to one = 1640.5629151199066\n",
      "change_status for create soma extending pieces = False\n",
      "closest_sk_pt_coord AFTER = [1467110.60911576  578567.92374513 1112556.22084362]\n",
      "Adding new branch to skeleton\n",
      "border_average_coordinate = [1468163.64444444  578622.88333333 1112816.05555556]\n",
      "endpoints_must_keep = {1: array([[1468163.64444444,  578622.88333333, 1112816.05555556]])}\n",
      "    Total time for Fixing Skeleton Soma Endpoint Extension : 0.12108039855957031\n",
      "filter_end_node_length = 4000\n",
      "Using Distance measure skeletal_distance\n",
      "endpoints_must_keep = [[1468163.64444444  578622.88333333 1112816.05555556]]\n",
      "Number of end_nodes BEFORE filtering = 4\n",
      "all_single_nodes_to_eliminate = [1]\n"
     ]
    },
    {
     "data": {
      "application/vnd.jupyter.widget-view+json": {
       "model_id": "e8250846fb6842889395415d3c783d30",
       "version_major": 2,
       "version_minor": 0
      },
      "text/plain": [
       "  0%|          | 0/1 [00:00<?, ?it/s]"
      ]
     },
     "metadata": {},
     "output_type": "display_data"
    },
    {
     "name": "stdout",
     "output_type": "stream",
     "text": [
      "Checking connected components after clean_skeleton\n",
      "after DISTANCE cleaning limb size of skeleton = (117, 2, 3)\n",
      "********COMBINING CLOSE SKELETON NODES WITHIN 700 DISTANCE**********\n",
      "combine_threshold = 700\n",
      "Found 0 valid paths to replace\n",
      "valid_paths = []\n",
      "valid_path_lengths = []\n",
      "No valid paths found so just returning the original\n",
      "skeletonize_and_clean_connected_branch_CGAL: 10.914019584655762\n",
      "Working on limb correspondence for #0 MAP piece\n",
      "xvfb-run -n 1592 -s \"-screen 0 800x600x24\" meshlabserver $@  -i /neurd_packages/NEURD/Applications/autoproof_neuron_pipeline/temp/neuron_98678.off -o /neurd_packages/NEURD/Applications/autoproof_neuron_pipeline/temp/neuron_98678_remove_interior.off -s /neurd_packages/NEURD/Applications/autoproof_neuron_pipeline/temp/remove_interior_802819.mls\n",
      "removed temporary input file: /neurd_packages/NEURD/Applications/autoproof_neuron_pipeline/temp/neuron_98678.off\n",
      "removed temporary output file: /neurd_packages/NEURD/Applications/autoproof_neuron_pipeline/temp/neuron_98678_remove_interior.off\n",
      "/neurd_packages/NEURD/Applications/autoproof_neuron_pipeline/temp/remove_interior_802819.mls is being deleted....\n",
      "No significant (100) interior meshes present\n",
      "largest is 3\n"
     ]
    },
    {
     "data": {
      "application/vnd.jupyter.widget-view+json": {
       "model_id": "6032b64711ad46faabff25ab281dcad7",
       "version_major": 2,
       "version_minor": 0
      },
      "text/plain": [
       "0it [00:00, ?it/s]"
      ]
     },
     "metadata": {},
     "output_type": "display_data"
    },
    {
     "name": "stdout",
     "output_type": "stream",
     "text": [
      "Total time for decomposition = 1.0839567184448242\n",
      "mesh_correspondence_first_pass: 1.0839898586273193\n",
      "Limb decomposed into 3 branches\n",
      "divided_skeleton_graph_recovered = (117, 2, 3) and \n",
      "current_mesh_data[0]['branch_skeletons_cleaned'].shape = (117, 2, 3)\n",
      "\n",
      "Number of connected components in deocmposed recovered graph = 1\n",
      "Number of connected components in cleaned skeleton graph= 1\n",
      "The downsampled branches number of connected components = 1\n",
      "Empty submeshes = []\n",
      "\n",
      "\n",
      "--- Working on 1-to-1 correspondence-----\n",
      "max(original_labels),len(original_labels) = (2, 3)\n",
      "empty_indices % = 0.3353239773066587\n",
      " conflict_indices % = 0.03254702896386981\n"
     ]
    },
    {
     "data": {
      "application/vnd.jupyter.widget-view+json": {
       "model_id": "6c132c754ca74149b04872007019d75e",
       "version_major": 2,
       "version_minor": 0
      },
      "text/plain": [
       "  0%|          | 0/4 [00:00<?, ?it/s]"
      ]
     },
     "metadata": {},
     "output_type": "display_data"
    },
    {
     "name": "stdout",
     "output_type": "stream",
     "text": [
      "AFTER face_lookup_resolved_test\n",
      "Took 0 iterations to expand the label back\n",
      "empty_indices % = 0.0\n",
      " conflict_indices % = 0.0\n"
     ]
    },
    {
     "data": {
      "application/vnd.jupyter.widget-view+json": {
       "model_id": "ad1a6990616c4cfa9664964b7b9e8bf0",
       "version_major": 2,
       "version_minor": 0
      },
      "text/plain": [
       "0it [00:00, ?it/s]"
      ]
     },
     "metadata": {},
     "output_type": "display_data"
    },
    {
     "name": "stdout",
     "output_type": "stream",
     "text": [
      "AFTER face_lookup_resolved_test\n"
     ]
    },
    {
     "data": {
      "application/vnd.jupyter.widget-view+json": {
       "model_id": "aac69fce12a243a6b5fbfcfad841d15c",
       "version_major": 2,
       "version_minor": 0
      },
      "text/plain": [
       "  0%|          | 0/3 [00:00<?, ?it/s]"
      ]
     },
     "metadata": {},
     "output_type": "display_data"
    },
    {
     "name": "stdout",
     "output_type": "stream",
     "text": [
      "Total time for MAP sublimb #0 mesh processing = 12.348888397216797\n",
      "correspondence_1_to_1: 0.33840155601501465\n",
      "Total time for MAP sublimb processing 12.348977327346802\n",
      "There were not both MAP and MP pieces so skipping the stitch resolving phase\n",
      "Time for decomp of Limb = 12.58853530883789\n",
      "Number of matching vertices = 90\n",
      "Only one endpoint after filtering away the endpoints that are not on the skeleton\n",
      "Using Distance measure skeletal_distance\n",
      "endpoints_must_keep = [[1468163.64444444  578622.88333333 1112816.05555556]]\n",
      "Number of end_nodes BEFORE filtering = 3\n",
      "all_single_nodes_to_eliminate = [0]\n",
      "no small end nodes to get rid of so returning whole skeleton\n",
      "Removed 0 skeletal branches\n"
     ]
    },
    {
     "data": {
      "application/vnd.jupyter.widget-view+json": {
       "model_id": "c6f67f2ce23d42b7b625e13f5c72b5f4",
       "version_major": 2,
       "version_minor": 0
      },
      "text/plain": [
       "  0%|          | 0/3 [00:00<?, ?it/s]"
      ]
     },
     "metadata": {},
     "output_type": "display_data"
    },
    {
     "name": "stdout",
     "output_type": "stream",
     "text": [
      "3348 3349\n",
      "For marked faces: None\n",
      "empty_indices % = 0.0\n",
      " conflict_indices % = 0.0\n"
     ]
    },
    {
     "data": {
      "application/vnd.jupyter.widget-view+json": {
       "model_id": "e92639d893e54028948e3fca191f5c7d",
       "version_major": 2,
       "version_minor": 0
      },
      "text/plain": [
       "0it [00:00, ?it/s]"
      ]
     },
     "metadata": {},
     "output_type": "display_data"
    },
    {
     "name": "stdout",
     "output_type": "stream",
     "text": [
      "AFTER face_lookup_resolved_test\n"
     ]
    },
    {
     "data": {
      "application/vnd.jupyter.widget-view+json": {
       "model_id": "727ea3f574de474984c4d341da5a535e",
       "version_major": 2,
       "version_minor": 0
      },
      "text/plain": [
       "  0%|          | 0/3 [00:00<?, ?it/s]"
      ]
     },
     "metadata": {},
     "output_type": "display_data"
    },
    {
     "name": "stdout",
     "output_type": "stream",
     "text": [
      "Successful Limb Decomposition\n",
      "Total time for Skeletonization and Mesh Correspondence = 105.40147495269775\n",
      "\n",
      "\n",
      " ----- Working on Stitching ----------\n",
      "Inside attach_floating_pieces_to_limb_correspondence\n",
      "Starting the floating pieces preprocessing\n",
      "Floating 0: <trimesh.Trimesh(vertices.shape=(113, 3), faces.shape=(176, 3))>\n",
      "invalidation_d = 12000\n",
      "use_adaptive_invalidation_d= True\n",
      "axon_width_preprocess_limb_max = 200\n",
      "filter_end_node_length= 4000\n",
      "filter_end_node_length_meshparty = 1000\n",
      "invalidation_d = 12000\n",
      "root_curr = None\n",
      "Time for preparing soma vertices and root: 5.4836273193359375e-06\n",
      "invalidation_d = 12000\n",
      "smooth_neighborhood = 1\n",
      "cc_vertex_thresh = 10\n"
     ]
    },
    {
     "name": "stderr",
     "output_type": "stream",
     "text": [
      "\r",
      "  0%|          | 0/1 [00:00<?, ?it/s]"
     ]
    },
    {
     "data": {
      "application/vnd.jupyter.widget-view+json": {
       "model_id": "318d86101cd9441f86232630a73388c7",
       "version_major": 2,
       "version_minor": 0
      },
      "text/plain": [
       "  0%|          | 0/112 [00:00<?, ?it/s]"
      ]
     },
     "metadata": {},
     "output_type": "display_data"
    },
    {
     "name": "stderr",
     "output_type": "stream",
     "text": [
      "\r",
      "100%|██████████| 1/1 [00:00<00:00, 78.02it/s]"
     ]
    },
    {
     "name": "stdout",
     "output_type": "stream",
     "text": [
      "meshparty_segment_size = 100\n",
      "Time for 1st pass MP skeletonization: 0.031061649322509766\n",
      "branches_touching_root = [0]\n",
      "combining close nodes\n",
      "combine_threshold = 700\n",
      "length of Graph = 11\n",
      "After combining close endpoints max(kept_branches_idx) = 0, len(kept_branches_idx) = 1\n",
      "empty_indices % = 0.0\n",
      " conflict_indices % = 0.0\n"
     ]
    },
    {
     "name": "stderr",
     "output_type": "stream",
     "text": [
      "\n"
     ]
    },
    {
     "data": {
      "application/vnd.jupyter.widget-view+json": {
       "model_id": "5e0a9c8f76884901881e7811c93d00d0",
       "version_major": 2,
       "version_minor": 0
      },
      "text/plain": [
       "0it [00:00, ?it/s]"
      ]
     },
     "metadata": {},
     "output_type": "display_data"
    },
    {
     "name": "stdout",
     "output_type": "stream",
     "text": [
      "AFTER face_lookup_resolved_test\n"
     ]
    },
    {
     "data": {
      "application/vnd.jupyter.widget-view+json": {
       "model_id": "b9aec475ee15404d9130fca13c2071d5",
       "version_major": 2,
       "version_minor": 0
      },
      "text/plain": [
       "  0%|          | 0/1 [00:00<?, ?it/s]"
      ]
     },
     "metadata": {},
     "output_type": "display_data"
    },
    {
     "name": "stdout",
     "output_type": "stream",
     "text": [
      "widths = [400.6602908]\n",
      "width_median= 400.6602908022751\n",
      "segment_widths_median = [400.6602908]\n",
      "Decomposing first pass: 0.04219388961791992\n",
      "Attempting to use MeshAfterParty Skeletonization and Mesh Correspondence\n",
      "Another print\n",
      "Divinding into MP and MAP pieces: 3.4332275390625e-05\n",
      "Total time for MAP sublimb processing 3.0994415283203125e-06\n",
      "---- Working on MP Decomposition #0 ----\n",
      "Using Quicker soma_to_piece_touching_vertices because no MAP and only one sublimb_mesh piece \n",
      "MP filtering soma verts: 2.2649765014648438e-05\n",
      "Do Not Need to Fix MP Decomposition 0 so just continuing\n",
      "There were not both MAP and MP pieces so skipping the stitch resolving phase\n",
      "Time for decomp of Limb = 0.07491660118103027\n",
      "Using Distance measure skeletal_distance\n"
     ]
    },
    {
     "data": {
      "application/vnd.jupyter.widget-view+json": {
       "model_id": "5f7798b794a6404a9796325fde3df55b",
       "version_major": 2,
       "version_minor": 0
      },
      "text/plain": [
       "  0%|          | 0/2 [00:00<?, ?it/s]"
      ]
     },
     "metadata": {},
     "output_type": "display_data"
    },
    {
     "name": "stdout",
     "output_type": "stream",
     "text": [
      "Removed 2 skeletal branches\n",
      "There were no branches after cleaning limb correspondence\n"
     ]
    },
    {
     "data": {
      "application/vnd.jupyter.widget-view+json": {
       "model_id": "1ebd2a5edb5e45ad85ba8970e19d4aa9",
       "version_major": 2,
       "version_minor": 0
      },
      "text/plain": [
       "Container(figure=Figure(box_center=[0.5, 0.5, 0.5], box_size=[1.0, 1.0, 1.0], camera=PerspectiveCamera(fov=45.…"
      ]
     },
     "metadata": {},
     "output_type": "display_data"
    },
    {
     "name": "stdout",
     "output_type": "stream",
     "text": [
      "--> time = 0.13351774215698242\n",
      "Floating 1: <trimesh.Trimesh(vertices.shape=(75, 3), faces.shape=(140, 3))>\n",
      "invalidation_d = 12000\n",
      "use_adaptive_invalidation_d= True\n",
      "axon_width_preprocess_limb_max = 200\n",
      "filter_end_node_length= 4000\n",
      "filter_end_node_length_meshparty = 1000\n",
      "invalidation_d = 12000\n",
      "root_curr = None\n",
      "Time for preparing soma vertices and root: 7.152557373046875e-06\n",
      "invalidation_d = 12000\n",
      "smooth_neighborhood = 1\n",
      "cc_vertex_thresh = 10\n"
     ]
    },
    {
     "name": "stderr",
     "output_type": "stream",
     "text": [
      "\r",
      "  0%|          | 0/1 [00:00<?, ?it/s]"
     ]
    },
    {
     "data": {
      "application/vnd.jupyter.widget-view+json": {
       "model_id": "f3d9c78c2b724e92b97701553efbc13d",
       "version_major": 2,
       "version_minor": 0
      },
      "text/plain": [
       "  0%|          | 0/74 [00:00<?, ?it/s]"
      ]
     },
     "metadata": {},
     "output_type": "display_data"
    },
    {
     "name": "stderr",
     "output_type": "stream",
     "text": [
      "\r",
      "100%|██████████| 1/1 [00:00<00:00, 59.45it/s]"
     ]
    },
    {
     "name": "stdout",
     "output_type": "stream",
     "text": [
      "meshparty_segment_size = 100\n",
      "Time for 1st pass MP skeletonization: 0.033657073974609375\n",
      "branches_touching_root = [0]\n",
      "combining close nodes\n",
      "combine_threshold = 700\n",
      "length of Graph = 24\n",
      "After combining close endpoints max(kept_branches_idx) = 0, len(kept_branches_idx) = 1\n",
      "empty_indices % = 0.0\n",
      " conflict_indices % = 0.0\n"
     ]
    },
    {
     "name": "stderr",
     "output_type": "stream",
     "text": [
      "\n"
     ]
    },
    {
     "data": {
      "application/vnd.jupyter.widget-view+json": {
       "model_id": "7da0f2dc005c4257b4114d6b0572d7e0",
       "version_major": 2,
       "version_minor": 0
      },
      "text/plain": [
       "0it [00:00, ?it/s]"
      ]
     },
     "metadata": {},
     "output_type": "display_data"
    },
    {
     "name": "stdout",
     "output_type": "stream",
     "text": [
      "AFTER face_lookup_resolved_test\n"
     ]
    },
    {
     "data": {
      "application/vnd.jupyter.widget-view+json": {
       "model_id": "b9b661a019744fcf940628f3e4b2abeb",
       "version_major": 2,
       "version_minor": 0
      },
      "text/plain": [
       "  0%|          | 0/1 [00:00<?, ?it/s]"
      ]
     },
     "metadata": {},
     "output_type": "display_data"
    },
    {
     "name": "stdout",
     "output_type": "stream",
     "text": [
      "widths = [159.99342859]\n",
      "width_median= 159.99342858588034\n",
      "segment_widths_median = [159.99342859]\n",
      "Using the axon parameters\n",
      "invalidation_d = 1500\n",
      "smooth_neighborhood = 0\n",
      "cc_vertex_thresh = 10\n"
     ]
    },
    {
     "name": "stderr",
     "output_type": "stream",
     "text": [
      "\r",
      "  0%|          | 0/1 [00:00<?, ?it/s]"
     ]
    },
    {
     "data": {
      "application/vnd.jupyter.widget-view+json": {
       "model_id": "0c17c04b7a9e4cee9ebad6514cd5681c",
       "version_major": 2,
       "version_minor": 0
      },
      "text/plain": [
       "  0%|          | 0/74 [00:00<?, ?it/s]"
      ]
     },
     "metadata": {},
     "output_type": "display_data"
    },
    {
     "name": "stderr",
     "output_type": "stream",
     "text": [
      "\r",
      "100%|██████████| 1/1 [00:00<00:00, 78.40it/s]"
     ]
    },
    {
     "name": "stdout",
     "output_type": "stream",
     "text": [
      "meshparty_segment_size = 100\n",
      "Time for 1st pass MP skeletonization: 0.08169770240783691\n",
      "branches_touching_root = [0]\n",
      "combining close nodes\n",
      "combine_threshold = 1300\n",
      "length of Graph = 34\n",
      "After combining close endpoints max(kept_branches_idx) = 0, len(kept_branches_idx) = 1\n",
      "empty_indices % = 0.0\n",
      " conflict_indices % = 0.0\n"
     ]
    },
    {
     "name": "stderr",
     "output_type": "stream",
     "text": [
      "\n"
     ]
    },
    {
     "data": {
      "application/vnd.jupyter.widget-view+json": {
       "model_id": "d3fa0ec2e2be4089badf868c6be97f31",
       "version_major": 2,
       "version_minor": 0
      },
      "text/plain": [
       "0it [00:00, ?it/s]"
      ]
     },
     "metadata": {},
     "output_type": "display_data"
    },
    {
     "name": "stdout",
     "output_type": "stream",
     "text": [
      "AFTER face_lookup_resolved_test\n"
     ]
    },
    {
     "data": {
      "application/vnd.jupyter.widget-view+json": {
       "model_id": "ddafe74d2dca4c5db624dd5a1223ffc8",
       "version_major": 2,
       "version_minor": 0
      },
      "text/plain": [
       "  0%|          | 0/1 [00:00<?, ?it/s]"
      ]
     },
     "metadata": {},
     "output_type": "display_data"
    },
    {
     "name": "stdout",
     "output_type": "stream",
     "text": [
      "widths = [160.01074253]\n",
      "width_median= 160.0107425276666\n",
      "segment_widths_median = [160.01074253]\n",
      "Using the axon parameters\n",
      "Decomposing first pass: 0.04365706443786621\n",
      "Attempting to use MeshAfterParty Skeletonization and Mesh Correspondence\n",
      "Another print\n",
      "Divinding into MP and MAP pieces: 5.125999450683594e-05\n",
      "Total time for MAP sublimb processing 5.245208740234375e-06\n",
      "---- Working on MP Decomposition #0 ----\n",
      "Using Quicker soma_to_piece_touching_vertices because no MAP and only one sublimb_mesh piece \n",
      "MP filtering soma verts: 3.8623809814453125e-05\n",
      "Do Not Need to Fix MP Decomposition 0 so just continuing\n",
      "There were not both MAP and MP pieces so skipping the stitch resolving phase\n",
      "Time for decomp of Limb = 0.16222548484802246\n",
      "Using Distance measure skeletal_distance\n",
      "no small end nodes to get rid of so returning whole skeleton\n",
      "Removed 0 skeletal branches\n"
     ]
    },
    {
     "data": {
      "application/vnd.jupyter.widget-view+json": {
       "model_id": "900ace1f69c0485f863ac8c5f5461648",
       "version_major": 2,
       "version_minor": 0
      },
      "text/plain": [
       "  0%|          | 0/1 [00:00<?, ?it/s]"
      ]
     },
     "metadata": {},
     "output_type": "display_data"
    },
    {
     "name": "stdout",
     "output_type": "stream",
     "text": [
      "139 140\n",
      "For marked faces: None\n",
      "empty_indices % = 0.0\n",
      " conflict_indices % = 0.0\n"
     ]
    },
    {
     "data": {
      "application/vnd.jupyter.widget-view+json": {
       "model_id": "9c7f41e480044ce7862377a6fbf38b2f",
       "version_major": 2,
       "version_minor": 0
      },
      "text/plain": [
       "0it [00:00, ?it/s]"
      ]
     },
     "metadata": {},
     "output_type": "display_data"
    },
    {
     "name": "stdout",
     "output_type": "stream",
     "text": [
      "AFTER face_lookup_resolved_test\n"
     ]
    },
    {
     "data": {
      "application/vnd.jupyter.widget-view+json": {
       "model_id": "299092cdf12e4d1e8a7dcb03f38e7431",
       "version_major": 2,
       "version_minor": 0
      },
      "text/plain": [
       "  0%|          | 0/1 [00:00<?, ?it/s]"
      ]
     },
     "metadata": {},
     "output_type": "display_data"
    },
    {
     "data": {
      "application/vnd.jupyter.widget-view+json": {
       "model_id": "56bff629a78040f6b2fc5e7ba471f80f",
       "version_major": 2,
       "version_minor": 0
      },
      "text/plain": [
       "Container(figure=Figure(box_center=[0.5, 0.5, 0.5], box_size=[1.0, 1.0, 1.0], camera=PerspectiveCamera(fov=45.…"
      ]
     },
     "metadata": {},
     "output_type": "display_data"
    },
    {
     "name": "stdout",
     "output_type": "stream",
     "text": [
      "--> time = 0.2580130100250244\n",
      "winning_float = 1\n",
      "winning_float_match_main_limb = 1\n",
      "winning_float_dist = 149.5869181909169\n",
      "main_limb_stitch_point = [1454928.38848372  617422.14351492 1109437.08084759]\n",
      "floating_limb_stitch_point = [1455057.   617365.2 1109488. ]\n",
      "node_for_stitch = 1795: [1454928.38848372  617422.14351492 1109437.08084759]\n",
      "node_for_stitch AFTER = 1795: [1454928.38848372  617422.14351492 1109437.08084759]\n",
      "possible_node_loc = [   0  136  440  586 1094 1284 1353 1466 2499 3964 4341 4358 5744 5814\n",
      " 5965  577  688 1089 1114 1389 1640 1693 2508 2844 4194 5319]\n",
      "possible_node_loc AFTER = [   0  136  440  577  586  688 1089 1094 1114 1284 1353 1389 1466 1640\n",
      " 1693 2499 2508 2844 3964 4194 4358 5319 5744 5814 5965]\n",
      "curr_shortest_path = [1795, 1784.0, 1773.0, 1761.0, 1750.0, 1733.0, 1716.0, 1702.0, 1687.0, 1678.0, 1671.0, 1664.0, 1656.0, 1649.0, 1641.0, 1636.0, 1632.0, 1627.0, 1623.0, 1596.0, 1576.0, 1566.0, 1556.0, 1548.0, 1540.0, 1530.0, 1523.0, 1515.0, 1507.0, 1499.0, 1491.0, 1484.0, 1475.0, 1466]\n",
      "Current stitch point was not a branch or endpoint, shortest_path_length to one = 3299.9361676877575\n",
      "Changing the stitch point becasue the distance to end or branch node was 3299.9361676877575\n",
      "New stitch point has degree 1\n",
      "Status of Main limb stitch point moved = True\n",
      "\n",
      "\n",
      "\n",
      "match_sk_branches = [13]\n",
      "match_float_branches = [0]\n",
      "stitch_point_on_end_or_branch = True\n",
      "winning_float = 0\n",
      "winning_float_match_main_limb = 1\n",
      "winning_float_dist = 654.4563409276969\n",
      "main_limb_stitch_point = [1465639.47749826  643515.05932515 1076757.45951826]\n",
      "floating_limb_stitch_point = [1465562.61335848  644156.79891018 1076860.29585036]\n",
      "node_for_stitch = 2533: [1465639.47749826  643515.05932515 1076757.45951826]\n",
      "node_for_stitch AFTER = 2533: [1465639.47749826  643515.05932515 1076757.45951826]\n",
      "possible_node_loc = [   0  136  440  586 1094 1284 1353 2144 2533 3998 4375 4392 5778 5848\n",
      " 5999  577  688 1089 1114 1389 1640 1693 2542 2878 4228 5353]\n",
      "possible_node_loc AFTER = [   0  136  440  577  586  688 1089 1094 1114 1284 1353 1389 1640 1693\n",
      " 2144 2533 2542 2878 3998 4228 4392 5353 5778 5848 5999]\n",
      "curr_shortest_path = [2533]\n",
      "Current stitch point was a branch or endpoint\n",
      "Status of Main limb stitch point moved = False\n",
      "\n",
      "\n",
      "\n",
      "match_sk_branches = [16]\n",
      "match_float_branches = [0]\n",
      "stitch_point_on_end_or_branch = True\n",
      "Total time for stitching floating pieces = 2.506812810897827\n",
      "Total time for Concept Networks = 1.8388736248016357\n",
      "Total time for all mesh and skeletonization decomp = 109.74790573120117\n",
      "No soma volume ratios so computing them now\n",
      "Using Poisson Surface Reconstruction for watertightness in soma_volume_ratio\n",
      "xvfb-run -n 2241 -s \"-screen 0 800x600x24\" meshlabserver $@  -i /neurd_packages/NEURD/Applications/autoproof_neuron_pipeline/Poisson_temp/neuron_535220.off -o /neurd_packages/NEURD/Applications/autoproof_neuron_pipeline/Poisson_temp/neuron_535220_poisson.off -s /neurd_packages/NEURD/Applications/autoproof_neuron_pipeline/Poisson_temp/poisson_213117.mls\n",
      "removed temporary input file: /neurd_packages/NEURD/Applications/autoproof_neuron_pipeline/Poisson_temp/neuron_535220.off\n",
      "removed temporary output file: /neurd_packages/NEURD/Applications/autoproof_neuron_pipeline/Poisson_temp/neuron_535220_poisson.off\n",
      "mesh.is_watertight = True\n",
      "/neurd_packages/NEURD/Applications/autoproof_neuron_pipeline/Poisson_temp/poisson_213117.mls is being deleted....\n",
      "Using Poisson Surface Reconstruction for watertightness in soma_volume_ratio\n",
      "xvfb-run -n 9101 -s \"-screen 0 800x600x24\" meshlabserver $@  -i /neurd_packages/NEURD/Applications/autoproof_neuron_pipeline/Poisson_temp/neuron_962357.off -o /neurd_packages/NEURD/Applications/autoproof_neuron_pipeline/Poisson_temp/neuron_962357_poisson.off -s /neurd_packages/NEURD/Applications/autoproof_neuron_pipeline/Poisson_temp/poisson_810208.mls\n",
      "removed temporary input file: /neurd_packages/NEURD/Applications/autoproof_neuron_pipeline/Poisson_temp/neuron_962357.off\n",
      "removed temporary output file: /neurd_packages/NEURD/Applications/autoproof_neuron_pipeline/Poisson_temp/neuron_962357_poisson.off\n",
      "mesh.is_watertight = False\n",
      "/neurd_packages/NEURD/Applications/autoproof_neuron_pipeline/Poisson_temp/poisson_810208.mls is being deleted....\n",
      "--- 1) Finished unpacking preprocessed materials: 132.08593201637268\n",
      "total_edges = [['S0', 'L0'], ['S0', 'L1'], ['S0', 'L4'], ['S0', 'L5'], ['S0', 'L6'], ['S1', 'L2'], ['S1', 'L3'], ['S1', 'L4'], ['S1', 'L7']]\n",
      "--- 2) Finished creating neuron connectivity graph: 0.00024366378784179688\n",
      "Having to generate soma_meshes_face_idx because none in preprocessed data\n",
      "--- 3a) Finshed generating soma_meshes_face_idx: 0.0910806655883789\n",
      "Using precomputed volume ratio\n",
      "--- 3b) Finished soma creation: 9.546874761581421\n",
      "Using precomputed volume ratio\n",
      "--- 3b) Finished soma creation: 8.063095092773438\n",
      "--- 3) Finshed generating soma objects and adding them to concept graph: 9.965896606445312e-05\n",
      "--- 4a) Finshed generating curr_limb_meshes_face_idx: 0.22218942642211914\n",
      "curr_limb_concept_networks= {0: [<datasci_tools.networkx_utils.GraphOrderedEdges object at 0x7fa6bb6bd8b0>]}\n",
      "curr_limb_concept_networks= {0: [<datasci_tools.networkx_utils.GraphOrderedEdges object at 0x7fa8a0b7b370>]}\n",
      "curr_limb_concept_networks= {1: [<datasci_tools.networkx_utils.GraphOrderedEdges object at 0x7fa8b7567790>]}\n",
      "curr_limb_concept_networks= {1: [<datasci_tools.networkx_utils.GraphOrderedEdges object at 0x7fa6bb631a60>]}\n",
      "curr_limb_concept_networks= {0: [<datasci_tools.networkx_utils.GraphOrderedEdges object at 0x7fa6bb6315e0>], 1: [<datasci_tools.networkx_utils.GraphOrderedEdges object at 0x7fa6bb631b50>]}\n",
      "curr_limb_concept_networks= {0: [<datasci_tools.networkx_utils.GraphOrderedEdges object at 0x7fa8b786baf0>]}\n",
      "curr_limb_concept_networks= {0: [<datasci_tools.networkx_utils.GraphOrderedEdges object at 0x7fa8b786bc40>]}\n",
      "curr_limb_concept_networks= {1: [<datasci_tools.networkx_utils.GraphOrderedEdges object at 0x7fa8b766b040>]}\n",
      "--- 4) Finshed generating Limb objects and adding them to concept graph: 1.7108087539672852\n",
      "--- 5) SKIPPING Doing the adaptive mesh correspondence on the meshparty preprocessing ---\n",
      "--- 6) SKIPPING Using the computed_attribute_dict to populate neuron attributes ---\n",
      "self.n_limbs = 8\n",
      "7) Calculating the spines for the neuorn if do not already exist\n",
      "7a) calculating spines because didn't exist\n",
      "query = median_mesh_center > 115 and n_faces_branch>100\n",
      "The median_mesh_center was requested but has not already been calculated so calculating now.... \n",
      "width_name BEFORE processing = None\n",
      "After processing\n",
      "width_name = median_mesh_center, distance_by_mesh_center= True, no_spines = False, summary_measure= median\n",
      "Working on limb L0 branch 6\n",
      "    current_width= 596.1283984971308\n",
      "Working on limb L0 branch 3\n",
      "    current_width= 435.7919747578752\n",
      "Working on limb L0 branch 7\n",
      "    current_width= 387.52515672413\n",
      "Working on limb L0 branch 0\n",
      "    current_width= 308.20840659465966\n",
      "Working on limb L0 branch 1\n",
      "    current_width= 379.16248459812937\n",
      "Working on limb L0 branch 2\n",
      "    current_width= 304.8760172854618\n",
      "Working on limb L0 branch 4\n",
      "    current_width= 331.5606261403119\n",
      "Working on limb L0 branch 8\n",
      "    current_width= 307.0250455225934\n",
      "Working on limb L0 branch 5\n",
      "    current_width= 309.78740861371114\n",
      "Working on limb L0 branch 9\n",
      "    current_width= 444.5245369969939\n",
      "Working on limb L1 branch 17\n",
      "    current_width= 186.74385817318597\n",
      "Working on limb L1 branch 15\n",
      "    current_width= 81.06732888550147\n",
      "Working on limb L1 branch 16\n",
      "    current_width= 180.79969247866023\n",
      "Working on limb L1 branch 18\n",
      "    current_width= 83.6230371949197\n",
      "Working on limb L1 branch 4\n",
      "    current_width= 67.0560163730836\n",
      "Working on limb L1 branch 14\n",
      "    current_width= 121.53595059694328\n",
      "Working on limb L1 branch 26\n",
      "    current_width= 166.88235794997527\n",
      "Working on limb L1 branch 19\n",
      "    current_width= 74.74432487535276\n",
      "Working on limb L1 branch 20\n",
      "    current_width= 78.90931853911839\n",
      "Working on limb L1 branch 12\n",
      "    current_width= 96.16086090890204\n",
      "Working on limb L1 branch 13\n",
      "    current_width= 103.46347406090041\n",
      "Working on limb L1 branch 21\n",
      "    current_width= 89.35632620500378\n",
      "Working on limb L1 branch 22\n",
      "    current_width= 85.25609472650788\n",
      "Working on limb L1 branch 9\n",
      "    current_width= 99.16919368723237\n",
      "Working on limb L1 branch 10\n",
      "    current_width= 144.9125286893836\n",
      "Working on limb L1 branch 11\n",
      "    current_width= 93.61085880218833\n",
      "Working on limb L1 branch 25\n",
      "    current_width= 66.4711702516618\n",
      "Working on limb L1 branch 1\n"
     ]
    },
    {
     "name": "stdout",
     "output_type": "stream",
     "text": [
      "    current_width= 111.9796517426644\n",
      "Working on limb L1 branch 3\n",
      "    current_width= 95.32640663158229\n",
      "Working on limb L1 branch 7\n",
      "    current_width= 102.37981426575901\n",
      "Working on limb L1 branch 8\n",
      "    current_width= 131.75016231242103\n",
      "Working on limb L1 branch 5\n",
      "    current_width= 129.34942722079472\n",
      "Working on limb L1 branch 6\n",
      "    current_width= 108.30020672887802\n",
      "Working on limb L1 branch 0\n",
      "    current_width= 97.68811695225403\n",
      "Working on limb L1 branch 2\n",
      "    current_width= 124.3431697776255\n",
      "Working on limb L1 branch 23\n",
      "    current_width= 87.93425564048837\n",
      "Working on limb L1 branch 24\n",
      "    current_width= 82.4982383186942\n",
      "Working on limb L4 branch 2\n",
      "    current_width= 983.515729285562\n",
      "Working on limb L4 branch 0\n",
      "    current_width= 425.35433115782877\n",
      "Working on limb L4 branch 3\n",
      "    current_width= 652.8862588219039\n",
      "Working on limb L4 branch 1\n",
      "    current_width= 291.42416343917137\n",
      "Working on limb L4 branch 4\n",
      "    current_width= 504.27782367039697\n",
      "Working on limb L4 branch 5\n",
      "    current_width= 420.13911059438243\n",
      "Working on limb L4 branch 6\n",
      "    current_width= 330.6408814260355\n",
      "Working on limb L5 branch 0\n",
      "    current_width= 447.09174488055413\n",
      "Working on limb L6 branch 0\n",
      "    current_width= 343.94895170316283\n",
      "Working on limb L2 branch 0\n",
      "    current_width= 382.75626186759064\n",
      "Working on limb L2 branch 1\n",
      "    current_width= 331.921474103762\n",
      "Working on limb L2 branch 2\n",
      "    current_width= 364.8430664948653\n",
      "Working on limb L3 branch 1\n",
      "    current_width= 341.6228226856097\n",
      "Working on limb L3 branch 0\n",
      "    current_width= 96.25067340356648\n",
      "Working on limb L3 branch 2\n",
      "    current_width= 389.77078871406786\n",
      "Working on limb L3 branch 3\n",
      "    current_width= 69.00572062527482\n",
      "Working on limb L3 branch 4\n",
      "    current_width= 368.5289855187065\n",
      "Working on limb L7 branch 2\n",
      "    current_width= 469.0114678997627\n",
      "Working on limb L7 branch 0\n",
      "    current_width= 816.8312207972544\n",
      "Working on limb L7 branch 1\n",
      "    current_width= 990.8753491996667\n",
      "MAX ITERATIONS initially 500\n",
      "AREA VARIATION initially 0.0001\n",
      "medial centered initially 1\n",
      "medially_centered_speed_tradeoff initially 0.2\n",
      "quality_speed_tradeoff initially 0.1\n",
      "max_triangle_angle initially 1.91986\n",
      "min_edge_length initially 65.8201\n",
      "setting the edge length by absolute length\n",
      "min_edge_length AFTER = 75\n",
      "max_triangle_angle AFTER = 1.91986\n",
      "quality_speed_tradeoff AFTER = 0.2\n",
      "set_medially_centered_speed_tradeoff AFTER = 0.2\n",
      "medial centered AFTER 1\n",
      "AREA VARIATION AFTER 0.0001\n",
      "MAX ITERATIONS AFTER 500\n",
      "medial centered END 1\n",
      "set_medially_centered_speed_tradeoff END = 0.2\n",
      "quality_speed_tradeoff END = 0.2\n",
      "Max iterations END = 500\n",
      "AREA VARIATION END 0.0001\n",
      "Number of vertices of the skeleton: 302\n",
      "Number of edges of the skeleton: 301\n",
      "MAX ITERATIONS initially 500\n",
      "AREA VARIATION initially 0.0001\n",
      "medial centered initially 1\n",
      "medially_centered_speed_tradeoff initially 0.2\n",
      "quality_speed_tradeoff initially 0.1\n",
      "max_triangle_angle initially 1.91986\n",
      "min_edge_length initially 25.9144\n",
      "setting the edge length by absolute length\n",
      "min_edge_length AFTER = 75\n",
      "max_triangle_angle AFTER = 1.91986\n",
      "quality_speed_tradeoff AFTER = 0.2\n",
      "set_medially_centered_speed_tradeoff AFTER = 0.2\n",
      "medial centered AFTER 1\n",
      "AREA VARIATION AFTER 0.0001\n",
      "MAX ITERATIONS AFTER 500\n",
      "medial centered END 1\n",
      "set_medially_centered_speed_tradeoff END = 0.2\n",
      "quality_speed_tradeoff END = 0.2\n",
      "Max iterations END = 500\n",
      "AREA VARIATION END 0.0001\n",
      "Number of vertices of the skeleton: 74\n",
      "Number of edges of the skeleton: 73\n",
      "MAX ITERATIONS initially 500\n",
      "AREA VARIATION initially 0.0001\n",
      "medial centered initially 1\n",
      "medially_centered_speed_tradeoff initially 0.2\n",
      "quality_speed_tradeoff initially 0.1\n",
      "max_triangle_angle initially 1.91986\n",
      "min_edge_length initially 130.059\n",
      "setting the edge length by absolute length\n",
      "min_edge_length AFTER = 75\n",
      "max_triangle_angle AFTER = 1.91986\n",
      "quality_speed_tradeoff AFTER = 0.2\n",
      "set_medially_centered_speed_tradeoff AFTER = 0.2\n",
      "medial centered AFTER 1\n",
      "AREA VARIATION AFTER 0.0001\n",
      "MAX ITERATIONS AFTER 500\n",
      "medial centered END 1\n",
      "set_medially_centered_speed_tradeoff END = 0.2\n",
      "quality_speed_tradeoff END = 0.2\n",
      "Max iterations END = 500\n",
      "AREA VARIATION END 0.0001\n",
      "Number of vertices of the skeleton: 745\n",
      "Number of edges of the skeleton: 744\n",
      "MAX ITERATIONS initially 500\n",
      "AREA VARIATION initially 0.0001\n",
      "medial centered initially 1\n",
      "medially_centered_speed_tradeoff initially 0.2\n",
      "quality_speed_tradeoff initially 0.1\n",
      "max_triangle_angle initially 1.91986\n",
      "min_edge_length initially 36.8922\n",
      "setting the edge length by absolute length\n",
      "min_edge_length AFTER = 75\n",
      "max_triangle_angle AFTER = 1.91986\n",
      "quality_speed_tradeoff AFTER = 0.2\n",
      "set_medially_centered_speed_tradeoff AFTER = 0.2\n",
      "medial centered AFTER 1\n",
      "AREA VARIATION AFTER 0.0001\n",
      "MAX ITERATIONS AFTER 500\n",
      "medial centered END 1\n",
      "set_medially_centered_speed_tradeoff END = 0.2\n",
      "quality_speed_tradeoff END = 0.2\n",
      "Max iterations END = 500\n",
      "AREA VARIATION END 0.0001\n",
      "Number of vertices of the skeleton: 3\n",
      "Number of edges of the skeleton: 2\n",
      "\n",
      "Number of segments: 76\n",
      "\n"
     ]
    },
    {
     "data": {
      "application/vnd.jupyter.widget-view+json": {
       "model_id": "7cc171f9f22a4f929d377fb6e6757c42",
       "version_major": 2,
       "version_minor": 0
      },
      "text/plain": [
       "  0%|          | 0/76 [00:00<?, ?it/s]"
      ]
     },
     "metadata": {},
     "output_type": "display_data"
    },
    {
     "data": {
      "application/vnd.jupyter.widget-view+json": {
       "model_id": "954e0ebe0a934c408d9160c2390bbc93",
       "version_major": 2,
       "version_minor": 0
      },
      "text/plain": [
       "  0%|          | 0/76 [00:00<?, ?it/s]"
      ]
     },
     "metadata": {},
     "output_type": "display_data"
    },
    {
     "name": "stdout",
     "output_type": "stream",
     "text": [
      "Filtering away by face and skeletal length\n",
      "\n",
      "Number of segments: 96\n",
      "\n"
     ]
    },
    {
     "data": {
      "application/vnd.jupyter.widget-view+json": {
       "model_id": "7d92792184554bb5aa1620147d3214e9",
       "version_major": 2,
       "version_minor": 0
      },
      "text/plain": [
       "  0%|          | 0/96 [00:00<?, ?it/s]"
      ]
     },
     "metadata": {},
     "output_type": "display_data"
    },
    {
     "data": {
      "application/vnd.jupyter.widget-view+json": {
       "model_id": "afe2a38a1cab4cec8f8ef0da623216d8",
       "version_major": 2,
       "version_minor": 0
      },
      "text/plain": [
       "  0%|          | 0/96 [00:00<?, ?it/s]"
      ]
     },
     "metadata": {},
     "output_type": "display_data"
    },
    {
     "name": "stdout",
     "output_type": "stream",
     "text": [
      "Filtering away by face and skeletal length\n",
      "\n",
      "Number of segments: 17\n",
      "\n"
     ]
    },
    {
     "data": {
      "application/vnd.jupyter.widget-view+json": {
       "model_id": "bc3592c89958464895ede1958f6ac025",
       "version_major": 2,
       "version_minor": 0
      },
      "text/plain": [
       "  0%|          | 0/17 [00:00<?, ?it/s]"
      ]
     },
     "metadata": {},
     "output_type": "display_data"
    },
    {
     "data": {
      "application/vnd.jupyter.widget-view+json": {
       "model_id": "833ca57143cf4e8b823e9af84ddde750",
       "version_major": 2,
       "version_minor": 0
      },
      "text/plain": [
       "  0%|          | 0/17 [00:00<?, ?it/s]"
      ]
     },
     "metadata": {},
     "output_type": "display_data"
    },
    {
     "name": "stdout",
     "output_type": "stream",
     "text": [
      "Filtering away by face and skeletal length\n",
      "\n",
      "Number of segments: 18\n",
      "\n"
     ]
    },
    {
     "data": {
      "application/vnd.jupyter.widget-view+json": {
       "model_id": "d68cdf4c37744619a6dfbff1cc688f55",
       "version_major": 2,
       "version_minor": 0
      },
      "text/plain": [
       "  0%|          | 0/18 [00:00<?, ?it/s]"
      ]
     },
     "metadata": {},
     "output_type": "display_data"
    },
    {
     "data": {
      "application/vnd.jupyter.widget-view+json": {
       "model_id": "f06cb3ea07c94844962a695a5137c04d",
       "version_major": 2,
       "version_minor": 0
      },
      "text/plain": [
       "  0%|          | 0/18 [00:00<?, ?it/s]"
      ]
     },
     "metadata": {},
     "output_type": "display_data"
    },
    {
     "name": "stdout",
     "output_type": "stream",
     "text": [
      "Filtering away by face and skeletal length\n",
      "\n",
      "Number of segments: 98\n",
      "\n"
     ]
    },
    {
     "data": {
      "application/vnd.jupyter.widget-view+json": {
       "model_id": "638ba39e06ae4d01bbe40f8f1c1bc4d9",
       "version_major": 2,
       "version_minor": 0
      },
      "text/plain": [
       "  0%|          | 0/98 [00:00<?, ?it/s]"
      ]
     },
     "metadata": {},
     "output_type": "display_data"
    },
    {
     "data": {
      "application/vnd.jupyter.widget-view+json": {
       "model_id": "5d9f1b657deb4dada9310a5bc57ef7d3",
       "version_major": 2,
       "version_minor": 0
      },
      "text/plain": [
       "  0%|          | 0/98 [00:00<?, ?it/s]"
      ]
     },
     "metadata": {},
     "output_type": "display_data"
    },
    {
     "name": "stdout",
     "output_type": "stream",
     "text": [
      "Filtering away by face and skeletal length\n",
      "\n",
      "Number of segments: 82\n",
      "\n"
     ]
    },
    {
     "data": {
      "application/vnd.jupyter.widget-view+json": {
       "model_id": "d2a596f9a78941278d5d478fbb487d73",
       "version_major": 2,
       "version_minor": 0
      },
      "text/plain": [
       "  0%|          | 0/82 [00:00<?, ?it/s]"
      ]
     },
     "metadata": {},
     "output_type": "display_data"
    },
    {
     "data": {
      "application/vnd.jupyter.widget-view+json": {
       "model_id": "f53b13ff65144116a3f6a7fe122f1142",
       "version_major": 2,
       "version_minor": 0
      },
      "text/plain": [
       "  0%|          | 0/82 [00:00<?, ?it/s]"
      ]
     },
     "metadata": {},
     "output_type": "display_data"
    },
    {
     "name": "stdout",
     "output_type": "stream",
     "text": [
      "Filtering away by face and skeletal length\n",
      "\n",
      "Number of segments: 4\n",
      "\n"
     ]
    },
    {
     "data": {
      "application/vnd.jupyter.widget-view+json": {
       "model_id": "76bcc31d0f96468eb8f4d8ae90299426",
       "version_major": 2,
       "version_minor": 0
      },
      "text/plain": [
       "  0%|          | 0/4 [00:00<?, ?it/s]"
      ]
     },
     "metadata": {},
     "output_type": "display_data"
    },
    {
     "data": {
      "application/vnd.jupyter.widget-view+json": {
       "model_id": "049900371aca4cd196bea1a3e7ed475c",
       "version_major": 2,
       "version_minor": 0
      },
      "text/plain": [
       "  0%|          | 0/4 [00:00<?, ?it/s]"
      ]
     },
     "metadata": {},
     "output_type": "display_data"
    },
    {
     "name": "stdout",
     "output_type": "stream",
     "text": [
      "Filtering away by face and skeletal length\n",
      "\n",
      "Number of segments: 5\n",
      "\n"
     ]
    },
    {
     "data": {
      "application/vnd.jupyter.widget-view+json": {
       "model_id": "001cb99de1304f3ea294dbe5d34312e4",
       "version_major": 2,
       "version_minor": 0
      },
      "text/plain": [
       "  0%|          | 0/5 [00:00<?, ?it/s]"
      ]
     },
     "metadata": {},
     "output_type": "display_data"
    },
    {
     "data": {
      "application/vnd.jupyter.widget-view+json": {
       "model_id": "c2afe8245d244f62a8505e47360cf85b",
       "version_major": 2,
       "version_minor": 0
      },
      "text/plain": [
       "  0%|          | 0/5 [00:00<?, ?it/s]"
      ]
     },
     "metadata": {},
     "output_type": "display_data"
    },
    {
     "name": "stdout",
     "output_type": "stream",
     "text": [
      "Filtering away by face and skeletal length\n",
      "\n",
      "Number of segments: 6\n",
      "\n"
     ]
    },
    {
     "data": {
      "application/vnd.jupyter.widget-view+json": {
       "model_id": "6b6f281b44b94152821a122807dcfe63",
       "version_major": 2,
       "version_minor": 0
      },
      "text/plain": [
       "  0%|          | 0/6 [00:00<?, ?it/s]"
      ]
     },
     "metadata": {},
     "output_type": "display_data"
    },
    {
     "data": {
      "application/vnd.jupyter.widget-view+json": {
       "model_id": "7585288908954931bf56742edd576791",
       "version_major": 2,
       "version_minor": 0
      },
      "text/plain": [
       "  0%|          | 0/6 [00:00<?, ?it/s]"
      ]
     },
     "metadata": {},
     "output_type": "display_data"
    },
    {
     "name": "stdout",
     "output_type": "stream",
     "text": [
      "Filtering away by face and skeletal length\n",
      "\n",
      "Number of segments: 188\n",
      "\n"
     ]
    },
    {
     "data": {
      "application/vnd.jupyter.widget-view+json": {
       "model_id": "a00b3d90b3324aa58cfeb221e137006b",
       "version_major": 2,
       "version_minor": 0
      },
      "text/plain": [
       "  0%|          | 0/188 [00:00<?, ?it/s]"
      ]
     },
     "metadata": {},
     "output_type": "display_data"
    },
    {
     "data": {
      "application/vnd.jupyter.widget-view+json": {
       "model_id": "8d1e08b9a33341448cda02f019b68505",
       "version_major": 2,
       "version_minor": 0
      },
      "text/plain": [
       "  0%|          | 0/188 [00:00<?, ?it/s]"
      ]
     },
     "metadata": {},
     "output_type": "display_data"
    },
    {
     "name": "stdout",
     "output_type": "stream",
     "text": [
      "Filtering away by face and skeletal length\n",
      "\n",
      "Number of segments: 26\n",
      "\n"
     ]
    },
    {
     "data": {
      "application/vnd.jupyter.widget-view+json": {
       "model_id": "cd22ffc4ede4432da1da343bc18576fc",
       "version_major": 2,
       "version_minor": 0
      },
      "text/plain": [
       "  0%|          | 0/26 [00:00<?, ?it/s]"
      ]
     },
     "metadata": {},
     "output_type": "display_data"
    },
    {
     "data": {
      "application/vnd.jupyter.widget-view+json": {
       "model_id": "9914d1a04d1a4d769a72a6000974ccd1",
       "version_major": 2,
       "version_minor": 0
      },
      "text/plain": [
       "  0%|          | 0/26 [00:00<?, ?it/s]"
      ]
     },
     "metadata": {},
     "output_type": "display_data"
    },
    {
     "name": "stdout",
     "output_type": "stream",
     "text": [
      "Filtering away by face and skeletal length\n",
      "\n",
      "Number of segments: 3\n",
      "\n"
     ]
    },
    {
     "data": {
      "application/vnd.jupyter.widget-view+json": {
       "model_id": "abf6e4308a7f45f68fff5907edc5d63f",
       "version_major": 2,
       "version_minor": 0
      },
      "text/plain": [
       "  0%|          | 0/3 [00:00<?, ?it/s]"
      ]
     },
     "metadata": {},
     "output_type": "display_data"
    },
    {
     "data": {
      "application/vnd.jupyter.widget-view+json": {
       "model_id": "bf624a8f323142cbb7d6f358facb1d62",
       "version_major": 2,
       "version_minor": 0
      },
      "text/plain": [
       "  0%|          | 0/3 [00:00<?, ?it/s]"
      ]
     },
     "metadata": {},
     "output_type": "display_data"
    },
    {
     "name": "stdout",
     "output_type": "stream",
     "text": [
      "Filtering away by face and skeletal length\n",
      "\n",
      "Number of segments: 33\n",
      "\n"
     ]
    },
    {
     "data": {
      "application/vnd.jupyter.widget-view+json": {
       "model_id": "e680f3bfa623466883c652c972d894c8",
       "version_major": 2,
       "version_minor": 0
      },
      "text/plain": [
       "  0%|          | 0/33 [00:00<?, ?it/s]"
      ]
     },
     "metadata": {},
     "output_type": "display_data"
    },
    {
     "data": {
      "application/vnd.jupyter.widget-view+json": {
       "model_id": "6d31607d85ac4eb388ce6eee25db54d4",
       "version_major": 2,
       "version_minor": 0
      },
      "text/plain": [
       "  0%|          | 0/33 [00:00<?, ?it/s]"
      ]
     },
     "metadata": {},
     "output_type": "display_data"
    },
    {
     "name": "stdout",
     "output_type": "stream",
     "text": [
      "Filtering away by face and skeletal length\n",
      "\n",
      "Number of segments: 5\n",
      "\n"
     ]
    },
    {
     "data": {
      "application/vnd.jupyter.widget-view+json": {
       "model_id": "26d4f6350b28477181f450993e1f84b6",
       "version_major": 2,
       "version_minor": 0
      },
      "text/plain": [
       "  0%|          | 0/5 [00:00<?, ?it/s]"
      ]
     },
     "metadata": {},
     "output_type": "display_data"
    },
    {
     "data": {
      "application/vnd.jupyter.widget-view+json": {
       "model_id": "56d5832c2f16414fa8370af17cbdf331",
       "version_major": 2,
       "version_minor": 0
      },
      "text/plain": [
       "  0%|          | 0/5 [00:00<?, ?it/s]"
      ]
     },
     "metadata": {},
     "output_type": "display_data"
    },
    {
     "name": "stdout",
     "output_type": "stream",
     "text": [
      "Filtering away by face and skeletal length\n",
      "\n",
      "Number of segments: 9\n",
      "\n"
     ]
    },
    {
     "data": {
      "application/vnd.jupyter.widget-view+json": {
       "model_id": "8090611446fd4736b8faa39877ef8a14",
       "version_major": 2,
       "version_minor": 0
      },
      "text/plain": [
       "  0%|          | 0/9 [00:00<?, ?it/s]"
      ]
     },
     "metadata": {},
     "output_type": "display_data"
    },
    {
     "data": {
      "application/vnd.jupyter.widget-view+json": {
       "model_id": "c77c3560f1af4f088f134989d3c51c02",
       "version_major": 2,
       "version_minor": 0
      },
      "text/plain": [
       "  0%|          | 0/9 [00:00<?, ?it/s]"
      ]
     },
     "metadata": {},
     "output_type": "display_data"
    },
    {
     "name": "stdout",
     "output_type": "stream",
     "text": [
      "Filtering away by face and skeletal length\n",
      "\n",
      "Number of segments: 24\n",
      "\n"
     ]
    },
    {
     "data": {
      "application/vnd.jupyter.widget-view+json": {
       "model_id": "78342d40c0644ff3948c7b997afe5ae3",
       "version_major": 2,
       "version_minor": 0
      },
      "text/plain": [
       "  0%|          | 0/24 [00:00<?, ?it/s]"
      ]
     },
     "metadata": {},
     "output_type": "display_data"
    },
    {
     "data": {
      "application/vnd.jupyter.widget-view+json": {
       "model_id": "ac603625089a4a8084f936f207138b89",
       "version_major": 2,
       "version_minor": 0
      },
      "text/plain": [
       "  0%|          | 0/24 [00:00<?, ?it/s]"
      ]
     },
     "metadata": {},
     "output_type": "display_data"
    },
    {
     "name": "stdout",
     "output_type": "stream",
     "text": [
      "Filtering away by face and skeletal length\n",
      "\n",
      "Number of segments: 3\n",
      "\n"
     ]
    },
    {
     "data": {
      "application/vnd.jupyter.widget-view+json": {
       "model_id": "5d41a7da8eb4486ba3b5fbe211186b8e",
       "version_major": 2,
       "version_minor": 0
      },
      "text/plain": [
       "  0%|          | 0/3 [00:00<?, ?it/s]"
      ]
     },
     "metadata": {},
     "output_type": "display_data"
    },
    {
     "data": {
      "application/vnd.jupyter.widget-view+json": {
       "model_id": "cf6b0a61e44a4a7daf3c4b15f5ab969a",
       "version_major": 2,
       "version_minor": 0
      },
      "text/plain": [
       "  0%|          | 0/3 [00:00<?, ?it/s]"
      ]
     },
     "metadata": {},
     "output_type": "display_data"
    },
    {
     "name": "stdout",
     "output_type": "stream",
     "text": [
      "Filtering away by face and skeletal length\n",
      "\n",
      "Number of segments: 6\n",
      "\n"
     ]
    },
    {
     "data": {
      "application/vnd.jupyter.widget-view+json": {
       "model_id": "02a58bee60fb435b9b3f2328a1092ea6",
       "version_major": 2,
       "version_minor": 0
      },
      "text/plain": [
       "  0%|          | 0/6 [00:00<?, ?it/s]"
      ]
     },
     "metadata": {},
     "output_type": "display_data"
    },
    {
     "data": {
      "application/vnd.jupyter.widget-view+json": {
       "model_id": "427bfa5f39634d8cb6995cf06e552d8f",
       "version_major": 2,
       "version_minor": 0
      },
      "text/plain": [
       "  0%|          | 0/6 [00:00<?, ?it/s]"
      ]
     },
     "metadata": {},
     "output_type": "display_data"
    },
    {
     "name": "stdout",
     "output_type": "stream",
     "text": [
      "Filtering away by face and skeletal length\n",
      "\n",
      "Number of segments: 149\n",
      "\n"
     ]
    },
    {
     "data": {
      "application/vnd.jupyter.widget-view+json": {
       "model_id": "595e343041d94923b0181add2742b011",
       "version_major": 2,
       "version_minor": 0
      },
      "text/plain": [
       "  0%|          | 0/149 [00:00<?, ?it/s]"
      ]
     },
     "metadata": {},
     "output_type": "display_data"
    },
    {
     "data": {
      "application/vnd.jupyter.widget-view+json": {
       "model_id": "ddd39fbc68e946a29648ab9f1c469bae",
       "version_major": 2,
       "version_minor": 0
      },
      "text/plain": [
       "  0%|          | 0/149 [00:00<?, ?it/s]"
      ]
     },
     "metadata": {},
     "output_type": "display_data"
    },
    {
     "name": "stdout",
     "output_type": "stream",
     "text": [
      "Filtering away by face and skeletal length\n",
      "\n",
      "Number of segments: 161\n",
      "\n"
     ]
    },
    {
     "data": {
      "application/vnd.jupyter.widget-view+json": {
       "model_id": "6300185e87c54e6487787a6f7ffbfb06",
       "version_major": 2,
       "version_minor": 0
      },
      "text/plain": [
       "  0%|          | 0/161 [00:00<?, ?it/s]"
      ]
     },
     "metadata": {},
     "output_type": "display_data"
    },
    {
     "data": {
      "application/vnd.jupyter.widget-view+json": {
       "model_id": "9dd9aff116f64ba6a4b71e2b41af9961",
       "version_major": 2,
       "version_minor": 0
      },
      "text/plain": [
       "  0%|          | 0/161 [00:00<?, ?it/s]"
      ]
     },
     "metadata": {},
     "output_type": "display_data"
    },
    {
     "name": "stdout",
     "output_type": "stream",
     "text": [
      "Filtering away by face and skeletal length\n",
      "\n",
      "Number of segments: 2\n",
      "\n"
     ]
    },
    {
     "data": {
      "application/vnd.jupyter.widget-view+json": {
       "model_id": "12563edcc96e4ea7814c2b73676f3e72",
       "version_major": 2,
       "version_minor": 0
      },
      "text/plain": [
       "  0%|          | 0/2 [00:00<?, ?it/s]"
      ]
     },
     "metadata": {},
     "output_type": "display_data"
    },
    {
     "data": {
      "application/vnd.jupyter.widget-view+json": {
       "model_id": "4bc4acefc0124e0a810103e9ee8b2a03",
       "version_major": 2,
       "version_minor": 0
      },
      "text/plain": [
       "  0%|          | 0/2 [00:00<?, ?it/s]"
      ]
     },
     "metadata": {},
     "output_type": "display_data"
    },
    {
     "name": "stdout",
     "output_type": "stream",
     "text": [
      "Filtering away by face and skeletal length\n",
      "\n",
      "Number of segments: 107\n",
      "\n"
     ]
    },
    {
     "data": {
      "application/vnd.jupyter.widget-view+json": {
       "model_id": "77b488a5771a4bdcb00de1ae6779b418",
       "version_major": 2,
       "version_minor": 0
      },
      "text/plain": [
       "  0%|          | 0/107 [00:00<?, ?it/s]"
      ]
     },
     "metadata": {},
     "output_type": "display_data"
    },
    {
     "data": {
      "application/vnd.jupyter.widget-view+json": {
       "model_id": "686ecffdc6ed4ef786b2829abc6a3049",
       "version_major": 2,
       "version_minor": 0
      },
      "text/plain": [
       "  0%|          | 0/107 [00:00<?, ?it/s]"
      ]
     },
     "metadata": {},
     "output_type": "display_data"
    },
    {
     "name": "stdout",
     "output_type": "stream",
     "text": [
      "Filtering away by face and skeletal length\n",
      "\n",
      "Number of segments: 51\n",
      "\n"
     ]
    },
    {
     "data": {
      "application/vnd.jupyter.widget-view+json": {
       "model_id": "d48db28660504720a4760ee681c7da89",
       "version_major": 2,
       "version_minor": 0
      },
      "text/plain": [
       "  0%|          | 0/51 [00:00<?, ?it/s]"
      ]
     },
     "metadata": {},
     "output_type": "display_data"
    },
    {
     "data": {
      "application/vnd.jupyter.widget-view+json": {
       "model_id": "4bdde8ecc1014f1ebc11de4b04cfd96a",
       "version_major": 2,
       "version_minor": 0
      },
      "text/plain": [
       "  0%|          | 0/51 [00:00<?, ?it/s]"
      ]
     },
     "metadata": {},
     "output_type": "display_data"
    },
    {
     "name": "stdout",
     "output_type": "stream",
     "text": [
      "Filtering away by face and skeletal length\n",
      "\n",
      "Number of segments: 30\n",
      "\n"
     ]
    },
    {
     "data": {
      "application/vnd.jupyter.widget-view+json": {
       "model_id": "1a4c720182b7432db26c173398e34fe3",
       "version_major": 2,
       "version_minor": 0
      },
      "text/plain": [
       "  0%|          | 0/30 [00:00<?, ?it/s]"
      ]
     },
     "metadata": {},
     "output_type": "display_data"
    },
    {
     "data": {
      "application/vnd.jupyter.widget-view+json": {
       "model_id": "96d1041f57e64789a4ffbfa6a3e17f86",
       "version_major": 2,
       "version_minor": 0
      },
      "text/plain": [
       "  0%|          | 0/30 [00:00<?, ?it/s]"
      ]
     },
     "metadata": {},
     "output_type": "display_data"
    },
    {
     "name": "stdout",
     "output_type": "stream",
     "text": [
      "Filtering away by face and skeletal length\n",
      "\n",
      "Number of segments: 7\n",
      "\n"
     ]
    },
    {
     "data": {
      "application/vnd.jupyter.widget-view+json": {
       "model_id": "dcc775d8256e42bfbf94142b3891ca47",
       "version_major": 2,
       "version_minor": 0
      },
      "text/plain": [
       "  0%|          | 0/7 [00:00<?, ?it/s]"
      ]
     },
     "metadata": {},
     "output_type": "display_data"
    },
    {
     "data": {
      "application/vnd.jupyter.widget-view+json": {
       "model_id": "a5a67bb1a6b243a686118f4c40acbda2",
       "version_major": 2,
       "version_minor": 0
      },
      "text/plain": [
       "  0%|          | 0/7 [00:00<?, ?it/s]"
      ]
     },
     "metadata": {},
     "output_type": "display_data"
    },
    {
     "name": "stdout",
     "output_type": "stream",
     "text": [
      "Filtering away by face and skeletal length\n",
      "\n",
      "Number of segments: 4\n",
      "\n"
     ]
    },
    {
     "data": {
      "application/vnd.jupyter.widget-view+json": {
       "model_id": "5ccc4894dd684673843cfa20f56fde28",
       "version_major": 2,
       "version_minor": 0
      },
      "text/plain": [
       "  0%|          | 0/4 [00:00<?, ?it/s]"
      ]
     },
     "metadata": {},
     "output_type": "display_data"
    },
    {
     "data": {
      "application/vnd.jupyter.widget-view+json": {
       "model_id": "27d0098b30594d6c8127b602105d3ac4",
       "version_major": 2,
       "version_minor": 0
      },
      "text/plain": [
       "  0%|          | 0/4 [00:00<?, ?it/s]"
      ]
     },
     "metadata": {},
     "output_type": "display_data"
    },
    {
     "name": "stdout",
     "output_type": "stream",
     "text": [
      "Filtering away by face and skeletal length\n",
      "\n",
      "Number of segments: 4\n",
      "\n"
     ]
    },
    {
     "data": {
      "application/vnd.jupyter.widget-view+json": {
       "model_id": "dd55833ef8f04c2abdb4a7ee857212c4",
       "version_major": 2,
       "version_minor": 0
      },
      "text/plain": [
       "  0%|          | 0/4 [00:00<?, ?it/s]"
      ]
     },
     "metadata": {},
     "output_type": "display_data"
    },
    {
     "data": {
      "application/vnd.jupyter.widget-view+json": {
       "model_id": "8c1fe7e4293d431ea9321f1fa328732b",
       "version_major": 2,
       "version_minor": 0
      },
      "text/plain": [
       "  0%|          | 0/4 [00:00<?, ?it/s]"
      ]
     },
     "metadata": {},
     "output_type": "display_data"
    },
    {
     "name": "stdout",
     "output_type": "stream",
     "text": [
      "Filtering away by face and skeletal length\n",
      "\n",
      "Number of segments: 5\n",
      "\n"
     ]
    },
    {
     "data": {
      "application/vnd.jupyter.widget-view+json": {
       "model_id": "fd525c61535e4fd685c3c72fc8bfd4ce",
       "version_major": 2,
       "version_minor": 0
      },
      "text/plain": [
       "  0%|          | 0/5 [00:00<?, ?it/s]"
      ]
     },
     "metadata": {},
     "output_type": "display_data"
    },
    {
     "data": {
      "application/vnd.jupyter.widget-view+json": {
       "model_id": "c768ad25f13342c5b69de2f7e3aec672",
       "version_major": 2,
       "version_minor": 0
      },
      "text/plain": [
       "  0%|          | 0/5 [00:00<?, ?it/s]"
      ]
     },
     "metadata": {},
     "output_type": "display_data"
    },
    {
     "name": "stdout",
     "output_type": "stream",
     "text": [
      "Filtering away by face and skeletal length\n",
      "\n",
      "Number of segments: 11\n",
      "\n"
     ]
    },
    {
     "data": {
      "application/vnd.jupyter.widget-view+json": {
       "model_id": "0cf6f06e6f934c018a04fbc504ac922a",
       "version_major": 2,
       "version_minor": 0
      },
      "text/plain": [
       "  0%|          | 0/11 [00:00<?, ?it/s]"
      ]
     },
     "metadata": {},
     "output_type": "display_data"
    },
    {
     "data": {
      "application/vnd.jupyter.widget-view+json": {
       "model_id": "cb6cbf6b741e48fca574c7bb2b715d64",
       "version_major": 2,
       "version_minor": 0
      },
      "text/plain": [
       "  0%|          | 0/11 [00:00<?, ?it/s]"
      ]
     },
     "metadata": {},
     "output_type": "display_data"
    },
    {
     "name": "stdout",
     "output_type": "stream",
     "text": [
      "Filtering away by face and skeletal length\n",
      "\n",
      "Number of segments: 80\n",
      "\n"
     ]
    },
    {
     "data": {
      "application/vnd.jupyter.widget-view+json": {
       "model_id": "9c7d03e345c0400499ed25f70ee317fe",
       "version_major": 2,
       "version_minor": 0
      },
      "text/plain": [
       "  0%|          | 0/80 [00:00<?, ?it/s]"
      ]
     },
     "metadata": {},
     "output_type": "display_data"
    },
    {
     "data": {
      "application/vnd.jupyter.widget-view+json": {
       "model_id": "156c2814a61649eeac76d9a933da9842",
       "version_major": 2,
       "version_minor": 0
      },
      "text/plain": [
       "  0%|          | 0/80 [00:00<?, ?it/s]"
      ]
     },
     "metadata": {},
     "output_type": "display_data"
    },
    {
     "name": "stdout",
     "output_type": "stream",
     "text": [
      "Filtering away by face and skeletal length\n",
      "\n",
      "Number of segments: 134\n",
      "\n"
     ]
    },
    {
     "data": {
      "application/vnd.jupyter.widget-view+json": {
       "model_id": "8129a72b06874090835d98f0071bcdcc",
       "version_major": 2,
       "version_minor": 0
      },
      "text/plain": [
       "  0%|          | 0/134 [00:00<?, ?it/s]"
      ]
     },
     "metadata": {},
     "output_type": "display_data"
    },
    {
     "data": {
      "application/vnd.jupyter.widget-view+json": {
       "model_id": "4ce8ca29e6474a93ab954120ce3f6405",
       "version_major": 2,
       "version_minor": 0
      },
      "text/plain": [
       "  0%|          | 0/134 [00:00<?, ?it/s]"
      ]
     },
     "metadata": {},
     "output_type": "display_data"
    },
    {
     "name": "stdout",
     "output_type": "stream",
     "text": [
      "Filtering away by face and skeletal length\n",
      "\n",
      "Number of segments: 120\n",
      "\n"
     ]
    },
    {
     "data": {
      "application/vnd.jupyter.widget-view+json": {
       "model_id": "0e7e946b567e46dc8ed5fb1f63f9fd05",
       "version_major": 2,
       "version_minor": 0
      },
      "text/plain": [
       "  0%|          | 0/120 [00:00<?, ?it/s]"
      ]
     },
     "metadata": {},
     "output_type": "display_data"
    },
    {
     "data": {
      "application/vnd.jupyter.widget-view+json": {
       "model_id": "25723524b3f5400fb7e067d542a69f11",
       "version_major": 2,
       "version_minor": 0
      },
      "text/plain": [
       "  0%|          | 0/120 [00:00<?, ?it/s]"
      ]
     },
     "metadata": {},
     "output_type": "display_data"
    },
    {
     "name": "stdout",
     "output_type": "stream",
     "text": [
      "Filtering away by face and skeletal length\n",
      "\n",
      "Number of segments: 17\n",
      "\n"
     ]
    },
    {
     "data": {
      "application/vnd.jupyter.widget-view+json": {
       "model_id": "da2549452fe64c67aa5404a68c9219b0",
       "version_major": 2,
       "version_minor": 0
      },
      "text/plain": [
       "  0%|          | 0/17 [00:00<?, ?it/s]"
      ]
     },
     "metadata": {},
     "output_type": "display_data"
    },
    {
     "data": {
      "application/vnd.jupyter.widget-view+json": {
       "model_id": "2683b4b61ce248038609e17f65b9a695",
       "version_major": 2,
       "version_minor": 0
      },
      "text/plain": [
       "  0%|          | 0/17 [00:00<?, ?it/s]"
      ]
     },
     "metadata": {},
     "output_type": "display_data"
    },
    {
     "name": "stdout",
     "output_type": "stream",
     "text": [
      "Filtering away by face and skeletal length\n",
      "\n",
      "Number of segments: 23\n",
      "\n"
     ]
    },
    {
     "data": {
      "application/vnd.jupyter.widget-view+json": {
       "model_id": "91c7eba5ccd7430882db5ec26ca0be17",
       "version_major": 2,
       "version_minor": 0
      },
      "text/plain": [
       "  0%|          | 0/23 [00:00<?, ?it/s]"
      ]
     },
     "metadata": {},
     "output_type": "display_data"
    },
    {
     "data": {
      "application/vnd.jupyter.widget-view+json": {
       "model_id": "232a8cb161db4f72802a7a51c9c54cf6",
       "version_major": 2,
       "version_minor": 0
      },
      "text/plain": [
       "  0%|          | 0/23 [00:00<?, ?it/s]"
      ]
     },
     "metadata": {},
     "output_type": "display_data"
    },
    {
     "name": "stdout",
     "output_type": "stream",
     "text": [
      "Filtering away by face and skeletal length\n",
      "width_name BEFORE processing = no_spine_median_mesh_center\n",
      "After processing\n",
      "width_name = no_spine_median_mesh_center, distance_by_mesh_center= True, no_spines = True, summary_measure= median\n",
      "Working on limb L0 branch 6\n",
      "    No spines and using precomputed width: 596.1283984971308\n",
      "Working on limb L0 branch 3\n",
      "    current_width= 415.1235219676192\n",
      "Working on limb L0 branch 7\n",
      "    No spines and using precomputed width: 387.52515672413\n",
      "Working on limb L0 branch 0\n",
      "    current_width= 261.67118520971894\n",
      "Working on limb L0 branch 1\n",
      "    current_width= 277.7069504096059\n",
      "Working on limb L0 branch 2\n",
      "    current_width= 290.8767242170229\n",
      "Working on limb L0 branch 4\n",
      "    current_width= 300.9105148683843\n",
      "Working on limb L0 branch 8\n",
      "    No spines and using precomputed width: 307.0250455225934\n",
      "Working on limb L0 branch 5\n",
      "    current_width= 232.65418959299325\n",
      "Working on limb L0 branch 9\n",
      "    current_width= 278.12839711062554\n",
      "Working on limb L1 branch 17\n",
      "    current_width= 186.74385817318597\n",
      "Working on limb L1 branch 15\n",
      "    No spines and using precomputed width: 81.06732888550147\n",
      "Working on limb L1 branch 16\n",
      "    No spines and using precomputed width: 180.79969247866023\n",
      "Working on limb L1 branch 18\n",
      "    No spines and using precomputed width: 83.6230371949197\n",
      "Working on limb L1 branch 4\n",
      "    No spines and using precomputed width: 67.0560163730836\n",
      "Working on limb L1 branch 14\n",
      "    No spines and using precomputed width: 121.53595059694328\n",
      "Working on limb L1 branch 26\n",
      "    No spines and using precomputed width: 166.88235794997527\n",
      "Working on limb L1 branch 19\n",
      "    No spines and using precomputed width: 74.74432487535276\n",
      "Working on limb L1 branch 20\n",
      "    No spines and using precomputed width: 78.90931853911839\n",
      "Working on limb L1 branch 12\n",
      "    No spines and using precomputed width: 96.16086090890204\n",
      "Working on limb L1 branch 13\n",
      "    No spines and using precomputed width: 103.46347406090041\n",
      "Working on limb L1 branch 21\n",
      "    No spines and using precomputed width: 89.35632620500378\n",
      "Working on limb L1 branch 22\n",
      "    No spines and using precomputed width: 85.25609472650788\n",
      "Working on limb L1 branch 9\n",
      "    No spines and using precomputed width: 99.16919368723237\n",
      "Working on limb L1 branch 10\n",
      "    No spines and using precomputed width: 144.9125286893836\n",
      "Working on limb L1 branch 11\n",
      "    No spines and using precomputed width: 93.61085880218833\n",
      "Working on limb L1 branch 25\n",
      "    No spines and using precomputed width: 66.4711702516618\n",
      "Working on limb L1 branch 1\n",
      "    No spines and using precomputed width: 111.9796517426644\n",
      "Working on limb L1 branch 3\n",
      "    No spines and using precomputed width: 95.32640663158229\n",
      "Working on limb L1 branch 7\n",
      "    No spines and using precomputed width: 102.37981426575901\n",
      "Working on limb L1 branch 8\n",
      "    No spines and using precomputed width: 131.75016231242103\n",
      "Working on limb L1 branch 5\n",
      "    No spines and using precomputed width: 129.34942722079472\n",
      "Working on limb L1 branch 6\n",
      "    No spines and using precomputed width: 108.30020672887802\n",
      "Working on limb L1 branch 0\n",
      "    No spines and using precomputed width: 97.68811695225403\n",
      "Working on limb L1 branch 2\n",
      "    No spines and using precomputed width: 124.3431697776255\n",
      "Working on limb L1 branch 23\n",
      "    No spines and using precomputed width: 87.93425564048837\n",
      "Working on limb L1 branch 24\n",
      "    No spines and using precomputed width: 82.4982383186942\n",
      "Working on limb L4 branch 2\n",
      "    No spines and using precomputed width: 983.515729285562\n",
      "Working on limb L4 branch 0\n",
      "    current_width= 425.35433115782877\n",
      "Working on limb L4 branch 3\n",
      "    No spines and using precomputed width: 652.8862588219039\n",
      "Working on limb L4 branch 1\n",
      "    No spines and using precomputed width: 291.42416343917137\n",
      "Working on limb L4 branch 4\n",
      "    No spines and using precomputed width: 504.27782367039697\n",
      "Working on limb L4 branch 5\n",
      "    current_width= 420.13911059438243\n",
      "Working on limb L4 branch 6\n",
      "    current_width= 268.5280495319395\n",
      "Working on limb L5 branch 0\n",
      "    current_width= 329.6255313497485\n",
      "Working on limb L6 branch 0\n",
      "    current_width= 272.5035345034447\n",
      "Working on limb L2 branch 0\n",
      "    No spines and using precomputed width: 382.75626186759064\n",
      "Working on limb L2 branch 1\n",
      "    current_width= 282.54626697457945\n",
      "Working on limb L2 branch 2\n",
      "    current_width= 298.3819568733606\n",
      "Working on limb L3 branch 1\n",
      "    No spines and using precomputed width: 341.6228226856097\n",
      "Working on limb L3 branch 0\n",
      "    No spines and using precomputed width: 96.25067340356648\n",
      "Working on limb L3 branch 2\n",
      "    current_width= 331.9521063406744\n",
      "Working on limb L3 branch 3\n",
      "    No spines and using precomputed width: 69.00572062527482\n",
      "Working on limb L3 branch 4\n",
      "    current_width= 260.5391768200335\n",
      "Working on limb L7 branch 2\n",
      "    No spines and using precomputed width: 469.0114678997627\n",
      "Working on limb L7 branch 0\n",
      "    No spines and using precomputed width: 816.8312207972544\n",
      "Working on limb L7 branch 1\n",
      "    No spines and using precomputed width: 990.8753491996667\n",
      "Total time for neuron instance creation = 254.38386940956116\n"
     ]
    }
   ],
   "source": [
    "neuron_obj = neuron.Neuron(\n",
    "    mesh = mesh,\n",
    "    somas = somas,\n",
    "    suppress_preprocessing_print=False,\n",
    "    suppress_output=False,\n",
    "    glia_meshes=glia_pieces,\n",
    "    nuclei_meshes = nuclei_pieces,\n",
    ")"
   ]
  },
  {
   "cell_type": "code",
   "execution_count": 23,
   "id": "78d87911",
   "metadata": {
    "scrolled": false
   },
   "outputs": [
    {
     "name": "stdout",
     "output_type": "stream",
     "text": [
      "\n",
      " Working on visualization type: mesh\n",
      "\n",
      " Working on visualization type: skeleton\n"
     ]
    },
    {
     "data": {
      "application/vnd.jupyter.widget-view+json": {
       "model_id": "04f9d3cf55fb466299f3d7805276a238",
       "version_major": 2,
       "version_minor": 0
      },
      "text/plain": [
       "Container(figure=Figure(box_center=[0.5, 0.5, 0.5], box_size=[1.0, 1.0, 1.0], camera=PerspectiveCamera(fov=45.…"
      ]
     },
     "metadata": {},
     "output_type": "display_data"
    }
   ],
   "source": [
    "nviz.visualize_neuron(\n",
    "    neuron_obj,\n",
    "    limb_branch_dict=\"all\"\n",
    ")"
   ]
  },
  {
   "cell_type": "markdown",
   "id": "290c9030",
   "metadata": {},
   "source": [
    "## calculating statistics about neuron"
   ]
  },
  {
   "cell_type": "code",
   "execution_count": 24,
   "id": "be9a760f",
   "metadata": {
    "scrolled": true
   },
   "outputs": [
    {
     "name": "stdout",
     "output_type": "stream",
     "text": [
      "Total Number of Branches = 55\n",
      "n_short_branches = 12, n_medium_branches = 40, n_long_branches = 3\n",
      "axon_length = 1605.6197682948082, axon_branch_length_median = 16.735647518195066, axon_branch_length_mean = 29.19308669626924\n",
      "bbox_volume = 1.9827346050336923\n",
      "bbox_corners = [[1430458.66683036  502584.20727049 1020174.81709652]\n",
      " [1564397.98216806  659939.53090215 1114250.        ]]\n",
      "bbox_corners_soma_relative = [[-58422.09375281 -86715.88646744 -80477.4963586 ]\n",
      " [ 75517.22158489  70639.43716422  13597.68654488]]\n"
     ]
    },
    {
     "data": {
      "text/plain": [
       "{'n_vertices': 154713,\n",
       " 'n_faces': 323535,\n",
       " 'max_soma_area': 341.07163148783616,\n",
       " 'n_not_processed_soma_containing_meshes': 0,\n",
       " 'n_error_limbs': 1,\n",
       " 'n_same_soma_multi_touching_limbs': 0,\n",
       " 'n_multi_soma_touching_limbs': 1,\n",
       " 'n_somas': 2,\n",
       " 'n_limbs': 8,\n",
       " 'n_branches': 57,\n",
       " 'max_limb_n_branches': 27,\n",
       " 'skeletal_length': 1543739.2939173584,\n",
       " 'max_limb_skeletal_length': 604558.5039643556,\n",
       " 'median_branch_length': 14983.573,\n",
       " 'width_median': 186.744,\n",
       " 'width_no_spine_median': 186.744,\n",
       " 'width_90_perc': 483.118,\n",
       " 'width_no_spine_90_perc': 483.118,\n",
       " 'n_spines': 401,\n",
       " 'spine_density': 0.0002597588864778012,\n",
       " 'spines_per_branch': 7.035087719298246,\n",
       " 'skeletal_length_eligible': 1022369.119,\n",
       " 'n_spine_eligible_branches': 34,\n",
       " 'spine_density_eligible': 0.000392226244462691,\n",
       " 'spines_per_branch_eligible': 11.794,\n",
       " 'total_spine_volume': 36734517460.200005,\n",
       " 'spine_volume_median': 64105155.88328934,\n",
       " 'spine_volume_density': 23795.803867234157,\n",
       " 'spine_volume_density_eligible': 35930.77761985885,\n",
       " 'spine_volume_per_branch_eligible': 1080426984.1235294,\n",
       " 'branch_length_median': 16.735647518195066,\n",
       " 'branch_length_mean': 29.19308669626924,\n",
       " 'n_short_branches': 12,\n",
       " 'n_long_branches': 3,\n",
       " 'n_medium_branches': 40,\n",
       " 'bbox_volume': 1.9827346050336923,\n",
       " 'bbox_x_min': 1430458.6668303611,\n",
       " 'bbox_y_min': 502584.2072704911,\n",
       " 'bbox_z_min': 1020174.8170965186,\n",
       " 'bbox_x_max': 1564397.9821680577,\n",
       " 'bbox_y_max': 659939.5309021459,\n",
       " 'bbox_z_max': 1114250.0,\n",
       " 'bbox_x_min_soma_relative': -58422.0937528112,\n",
       " 'bbox_y_min_soma_relative': -86715.88646743615,\n",
       " 'bbox_z_min_soma_relative': -80477.49635860184,\n",
       " 'bbox_x_max_soma_relative': 75517.22158488538,\n",
       " 'bbox_y_max_soma_relative': 70639.43716421863,\n",
       " 'bbox_z_max_soma_relative': 13597.686544879572,\n",
       " 'centroid_x_nm': 1488880.7605831723,\n",
       " 'centroid_y_nm': 589300.0937379273,\n",
       " 'centroid_z_nm': 1100652.3134551204,\n",
       " 'centroid_x': 372220,\n",
       " 'centroid_y': 147325,\n",
       " 'centroid_z': 27516,\n",
       " 'centroid_volume': 440.7405976697012}"
      ]
     },
     "execution_count": 24,
     "metadata": {},
     "output_type": "execute_result"
    }
   ],
   "source": [
    "from neurd.microns_volume_utils import data_interface as hdju\n",
    "voxel_adjustment_vector = hdju.voxel_to_nm_scaling\n",
    "\n",
    "stats_dict = neuron_obj.neuron_stats(stats_to_ignore = [\n",
    "                    \"n_boutons\",\n",
    "                     \"axon_length\",\n",
    "                     \"axon_area\",\n",
    "                     \"max_soma_volume\",\n",
    "                     \"max_soma_n_faces\",],\n",
    "    include_skeletal_stats = True,\n",
    "    include_centroids= True,\n",
    "    voxel_adjustment_vector=voxel_adjustment_vector,\n",
    ")\n",
    "\n",
    "stats_dict"
   ]
  },
  {
   "cell_type": "markdown",
   "id": "52924f39",
   "metadata": {},
   "source": [
    "## skeleton and skeleton stats"
   ]
  },
  {
   "cell_type": "code",
   "execution_count": 25,
   "id": "5798aa25",
   "metadata": {},
   "outputs": [
    {
     "data": {
      "application/vnd.jupyter.widget-view+json": {
       "model_id": "eed1c2aba87e47af9d8770efe0bc8360",
       "version_major": 2,
       "version_minor": 0
      },
      "text/plain": [
       "Container(figure=Figure(box_center=[0.5, 0.5, 0.5], box_size=[1.0, 1.0, 1.0], camera=PerspectiveCamera(fov=45.…"
      ]
     },
     "metadata": {},
     "output_type": "display_data"
    }
   ],
   "source": [
    "skeleton = neuron_obj.skeleton\n",
    "\n",
    "ipvu.plot_objects(\n",
    "    main_skeleton=skeleton\n",
    ")"
   ]
  },
  {
   "cell_type": "code",
   "execution_count": 26,
   "id": "ff67c873",
   "metadata": {},
   "outputs": [
    {
     "name": "stdout",
     "output_type": "stream",
     "text": [
      "Total Number of Branches = 55\n",
      "n_short_branches = 12, n_medium_branches = 40, n_long_branches = 3\n",
      "axon_length = 1605.6197682948082, axon_branch_length_median = 16.735647518195066, axon_branch_length_mean = 29.19308669626924\n",
      "bbox_volume = 1.9827346050336923\n",
      "bbox_corners = [[1430458.66683036  502584.20727049 1020174.81709652]\n",
      " [1564397.98216806  659939.53090215 1114250.        ]]\n",
      "bbox_corners_soma_relative = [[-58422.09375281 -86715.88646744 -80477.4963586 ]\n",
      " [ 75517.22158489  70639.43716422  13597.68654488]]\n"
     ]
    },
    {
     "data": {
      "text/plain": [
       "{'skeletal_length': 1543739.2939173584,\n",
       " 'n_branches': 57,\n",
       " 'branch_length_median': 16.735647518195066,\n",
       " 'branch_length_mean': 29.19308669626924,\n",
       " 'n_short_branches': 12,\n",
       " 'n_long_branches': 3,\n",
       " 'n_medium_branches': 40,\n",
       " 'bbox_volume': 1.9827346050336923,\n",
       " 'bbox_x_min': 1430458.6668303611,\n",
       " 'bbox_y_min': 502584.2072704911,\n",
       " 'bbox_z_min': 1020174.8170965186,\n",
       " 'bbox_x_max': 1564397.9821680577,\n",
       " 'bbox_y_max': 659939.5309021459,\n",
       " 'bbox_z_max': 1114250.0,\n",
       " 'bbox_x_min_soma_relative': -58422.0937528112,\n",
       " 'bbox_y_min_soma_relative': -86715.88646743615,\n",
       " 'bbox_z_min_soma_relative': -80477.49635860184,\n",
       " 'bbox_x_max_soma_relative': 75517.22158488538,\n",
       " 'bbox_y_max_soma_relative': 70639.43716421863,\n",
       " 'bbox_z_max_soma_relative': 13597.686544879572,\n",
       " 'n_limbs': 8,\n",
       " 'centroid_x_nm': 1488880.7605831723,\n",
       " 'centroid_y_nm': 589300.0937379273,\n",
       " 'centroid_z_nm': 1100652.3134551204,\n",
       " 'centroid_x': 372220,\n",
       " 'centroid_y': 147325,\n",
       " 'centroid_z': 27516,\n",
       " 'centroid_volume': 440.7405976697012}"
      ]
     },
     "execution_count": 26,
     "metadata": {},
     "output_type": "execute_result"
    }
   ],
   "source": [
    "from neurd import neuron_statistics as nst\n",
    "\n",
    "sk_stats = nst.skeleton_stats_from_neuron_obj(\n",
    "    neuron_obj,\n",
    "    include_centroids=True,\n",
    "    voxel_adjustment_vector=voxel_adjustment_vector,\n",
    "    verbose = True\n",
    ")\n",
    "\n",
    "sk_stats"
   ]
  },
  {
   "cell_type": "markdown",
   "id": "d6d3b6e3",
   "metadata": {},
   "source": [
    "# Step 3.5"
   ]
  },
  {
   "cell_type": "code",
   "execution_count": 27,
   "id": "25bef6ef",
   "metadata": {},
   "outputs": [
    {
     "name": "stdout",
     "output_type": "stream",
     "text": [
      "Total time for soma meshes compression = 0.1902453899383545\n",
      "Total time for insignificant_limbs,inside_pieces,non_soma_touching_meshes,not_processed_soma_containing_meshes compression = 0.3275332450866699\n",
      "Total time for limb_meshes compression = 0.4978296756744385\n",
      "    Starting Limb Correspondence Compression\n"
     ]
    },
    {
     "data": {
      "application/vnd.jupyter.widget-view+json": {
       "model_id": "e45922dc7d1a4949bd4bea20d7d33c5d",
       "version_major": 2,
       "version_minor": 0
      },
      "text/plain": [
       "  0%|          | 0/10 [00:00<?, ?it/s]"
      ]
     },
     "metadata": {},
     "output_type": "display_data"
    },
    {
     "data": {
      "application/vnd.jupyter.widget-view+json": {
       "model_id": "06c8ac7ac4354ba0a936ef1d5db0bde3",
       "version_major": 2,
       "version_minor": 0
      },
      "text/plain": [
       "  0%|          | 0/27 [00:00<?, ?it/s]"
      ]
     },
     "metadata": {},
     "output_type": "display_data"
    },
    {
     "data": {
      "application/vnd.jupyter.widget-view+json": {
       "model_id": "8b75c51b16b042c6b675f52f01ebdff9",
       "version_major": 2,
       "version_minor": 0
      },
      "text/plain": [
       "  0%|          | 0/3 [00:00<?, ?it/s]"
      ]
     },
     "metadata": {},
     "output_type": "display_data"
    },
    {
     "data": {
      "application/vnd.jupyter.widget-view+json": {
       "model_id": "5b6dd1583865421aa2d69118a583664e",
       "version_major": 2,
       "version_minor": 0
      },
      "text/plain": [
       "  0%|          | 0/5 [00:00<?, ?it/s]"
      ]
     },
     "metadata": {},
     "output_type": "display_data"
    },
    {
     "data": {
      "application/vnd.jupyter.widget-view+json": {
       "model_id": "163bd8d1a84c4c7da262dddb20915641",
       "version_major": 2,
       "version_minor": 0
      },
      "text/plain": [
       "  0%|          | 0/7 [00:00<?, ?it/s]"
      ]
     },
     "metadata": {},
     "output_type": "display_data"
    },
    {
     "data": {
      "application/vnd.jupyter.widget-view+json": {
       "model_id": "8b892f6cbadd47b9907b767317c83f01",
       "version_major": 2,
       "version_minor": 0
      },
      "text/plain": [
       "  0%|          | 0/1 [00:00<?, ?it/s]"
      ]
     },
     "metadata": {},
     "output_type": "display_data"
    },
    {
     "data": {
      "application/vnd.jupyter.widget-view+json": {
       "model_id": "0722f3094eb74d2ead265867567acfe1",
       "version_major": 2,
       "version_minor": 0
      },
      "text/plain": [
       "  0%|          | 0/1 [00:00<?, ?it/s]"
      ]
     },
     "metadata": {},
     "output_type": "display_data"
    },
    {
     "data": {
      "application/vnd.jupyter.widget-view+json": {
       "model_id": "51010d11c65d4334873f13c153979818",
       "version_major": 2,
       "version_minor": 0
      },
      "text/plain": [
       "  0%|          | 0/3 [00:00<?, ?it/s]"
      ]
     },
     "metadata": {},
     "output_type": "display_data"
    },
    {
     "name": "stdout",
     "output_type": "stream",
     "text": [
      "Total time for new_limb_correspondence compression = 2.854642391204834\n",
      "Total time for compression = 4.341434001922607\n",
      "\n",
      "\n",
      "---Finished outputing neuron at location: /neurd_packages/NEURD/Applications/autoproof_neuron_pipeline/large_double_soma---\n"
     ]
    }
   ],
   "source": [
    "from neurd import neuron_utils as nru\n",
    "\n",
    "filepath = nru.save_compressed_neuron(\n",
    "    neuron_obj,\n",
    "    output_folder = \"./\",\n",
    "    file_name = f\"large_double_soma\",\n",
    "    return_file_path = True,\n",
    ")"
   ]
  },
  {
   "cell_type": "markdown",
   "id": "321cf04b",
   "metadata": {},
   "source": [
    "# Step 4: Split Multi-Soma Merges"
   ]
  },
  {
   "cell_type": "code",
   "execution_count": 28,
   "id": "4aca1b4f",
   "metadata": {},
   "outputs": [],
   "source": [
    "#/mnt/lab/users/celiib/neurd_packages/neuron_mesh_tools/Auto_Proofreading/Minnie65_Pipeline/Auto_Proof/m65_autoproof_5_DecompositionSplitMultiSoma_full_v1.ipynb"
   ]
  },
  {
   "cell_type": "code",
   "execution_count": 29,
   "id": "0e693242",
   "metadata": {},
   "outputs": [],
   "source": [
    "from neurd import proofreading_utils as pru\n",
    "\n",
    "neurd.set_volume_params(\n",
    "    \"microns\"\n",
    ")"
   ]
  },
  {
   "cell_type": "code",
   "execution_count": 30,
   "id": "1bb9c1d1",
   "metadata": {},
   "outputs": [],
   "source": [
    "plot_intermediates = True\n",
    "plot_suggestions = True\n",
    "plot_cut_coordinates = True\n",
    "only_multi_soma_paths = False\n",
    "verbose = True"
   ]
  },
  {
   "cell_type": "code",
   "execution_count": 31,
   "id": "d8fff8ed",
   "metadata": {
    "scrolled": true
   },
   "outputs": [
    {
     "name": "stdout",
     "output_type": "stream",
     "text": [
      "multi_soma_limbs = [4]\n",
      "multi_touch_limbs = []\n",
      "\n",
      "\n",
      " -------- Working on limb 4------------\n",
      "Starting combinations to process = [[2 0]]\n",
      "\n",
      "\n",
      "---- working on disconnecting 2 and 0\n",
      "---- This disconnects S0_0 from S1_0  \n",
      " Cut iteration 0\n",
      "Total number of graphs at the end of the split BEFORE DIRECTIONAL = 1\n",
      "Total number of graphs at the end of the split AFTER DIRECTIONAL = 1\n",
      "Shortest path = [2, 0]\n",
      "remove_segment_threshold = 1500\n",
      "high_degree_endpoint_coordinates_tried = []\n",
      "consider_path_neighbors_for_removal is set so segments_to_consider = [3]\n",
      "Trying combining short segments with a larger threshold 2500\n",
      "Short segments to combine = [3]\n",
      "\n",
      "\n",
      "-------- Removing Segments -------------\n",
      "curr_short_seg_revised = 3\n",
      "np.sum(touch_len>0) = 2\n",
      "Using average stitch point\n",
      "touching_endpoints = [[1493540.  587165. 1108840.]\n",
      " [1495040.  586425. 1109970.]]\n",
      "new_stitch_point = [1494290.  586795. 1109405.]\n",
      "Angles for [2 0 1 4] are [36.31, 92.11, 88.72, 46.34]\n",
      "Branch that will absorb mesh of 3 is 2 \n",
      "Revised cut path = [2 0]\n",
      "\n",
      "-------- Done Removing Segments -------------\n",
      "\n",
      "\n",
      "Found 1 high degree coordinates to cut\n",
      "skip_nodes = []\n",
      "\n",
      "Attempting the doubling back check (symmetrical so don't need to check from both sides)\n"
     ]
    },
    {
     "data": {
      "application/vnd.jupyter.widget-view+json": {
       "model_id": "2efedaf334a0417a9af8a6f14cb577cc",
       "version_major": 2,
       "version_minor": 0
      },
      "text/plain": [
       "  0%|          | 0/1 [00:00<?, ?it/s]"
      ]
     },
     "metadata": {},
     "output_type": "display_data"
    },
    {
     "name": "stdout",
     "output_type": "stream",
     "text": [
      "  Edge: [2 0]: curr_angle = 78.12\n",
      "Total time for doubling_back = 0.032733917236328125\n",
      "high_degree_endpoint_coordinates_widths = [551.1430118882398]\n",
      "high_degree_order = [0]\n",
      "Picking [1494290.  586795. 1109405.] high degree coordinates to cut\n",
      "curr_limb.deleted_edges 4=[]\n",
      "Inisde resolving_crossovers: debug_dict=/n{'apply_width_filter': True, 'best_match_width_diff_max': 75, 'best_match_width_diff_max_perc': 0.6, 'best_match_width_diff_min': 0.25, 'best_singular_match': True, 'lowest_angle_sum_for_pairs': False}\n",
      "coordinate = [1494290.  586795. 1109405.]\n",
      "coordinate_branches = [0, 1, 2, 4]\n",
      "0 = red\n",
      "1 = aqua\n",
      "2 = purple\n",
      "4 = green\n"
     ]
    },
    {
     "data": {
      "application/vnd.jupyter.widget-view+json": {
       "model_id": "6a3c9000c1a243309baaa1a7122013eb",
       "version_major": 2,
       "version_minor": 0
      },
      "text/plain": [
       "Container(figure=Figure(box_center=[0.5, 0.5, 0.5], box_size=[1.0, 1.0, 1.0], camera=PerspectiveCamera(fov=45.…"
      ]
     },
     "metadata": {},
     "output_type": "display_data"
    },
    {
     "name": "stdout",
     "output_type": "stream",
     "text": [
      "edges_to_avoid= None\n",
      "Angle between 0 and 1 = 159.25 \n",
      "Angle between 0 and 2 = 60.99 \n",
      "width_diff = 558.1613981277333, width_diff_perc = 0.5675164936438675\n",
      "\n",
      "Angle between 0 and 4 = 60.83 \n",
      "width_diff = 78.9234925125682, width_diff_perc = 0.15650795812935392\n",
      "\n",
      "Angle between 1 and 2 = 59.43 \n",
      "width_diff = 692.0915658463906, width_diff_perc = 0.7036914054736416\n",
      "\n",
      "Not adding edge [1, 2] because width_diff= 692.0915658463906, width_diff_perc= = 0.7036914054736416\n",
      "Angle between 1 and 4 = 57.75 \n",
      "width_diff = 212.8536602312256, width_diff_perc = 0.4220960158072502\n",
      "\n",
      "Angle between 2 and 4 = 62.82 \n",
      "width_diff = 479.237905615165, width_diff_perc = 0.48727019949471423\n",
      "\n",
      "Final Matches = [[0, 2], [0, 4], [1, 4], [2, 4]]\n",
      "matched_branches_revised = [[1, 4], [0, 2]]\n",
      "Aligned Skeleton Parts\n"
     ]
    },
    {
     "data": {
      "application/vnd.jupyter.widget-view+json": {
       "model_id": "ef6059f582b94b558a292bcb4d40f1af",
       "version_major": 2,
       "version_minor": 0
      },
      "text/plain": [
       "Container(figure=Figure(box_center=[0.5, 0.5, 0.5], box_size=[1.0, 1.0, 1.0], camera=PerspectiveCamera(fov=45.…"
      ]
     },
     "metadata": {},
     "output_type": "display_data"
    },
    {
     "data": {
      "application/vnd.jupyter.widget-view+json": {
       "model_id": "72bba0f98de24e4189ecf395c2666ee0",
       "version_major": 2,
       "version_minor": 0
      },
      "text/plain": [
       "Container(figure=Figure(box_center=[0.5, 0.5, 0.5], box_size=[1.0, 1.0, 1.0], camera=PerspectiveCamera(fov=45.…"
      ]
     },
     "metadata": {},
     "output_type": "display_data"
    },
    {
     "data": {
      "application/vnd.jupyter.widget-view+json": {
       "model_id": "a5aff028b87140a4ae532eb61b744299",
       "version_major": 2,
       "version_minor": 0
      },
      "text/plain": [
       "Container(figure=Figure(box_center=[0.5, 0.5, 0.5], box_size=[1.0, 1.0, 1.0], camera=PerspectiveCamera(fov=45.…"
      ]
     },
     "metadata": {},
     "output_type": "display_data"
    },
    {
     "name": "stdout",
     "output_type": "stream",
     "text": [
      "Original graph\n"
     ]
    },
    {
     "data": {
      "image/png": "[encoded data removed]",
      "text/plain": [
       "<Figure size 640x480 with 1 Axes>"
      ]
     },
     "metadata": {},
     "output_type": "display_data"
    },
    {
     "name": "stdout",
     "output_type": "stream",
     "text": [
      "match_branches = [[1, 4], [0, 2]]\n",
      "branches_to_avoid= []\n",
      "1: No Pair so adding back old edge\n",
      "1: Old neighbors = [2]\n",
      "4: No Pair so adding back old edge\n",
      "4: Old neighbors = [2]\n",
      "new_neighbors = [[1, 2], [2, 4]]\n",
      "edges_to_delete (resolve crossover) = [[0, 1], [0, 4]]\n",
      "edges_to_create (resolve crossover) = [[1, 4], [0, 2], [1, 2], [2, 4]]\n",
      "nx.number_connected_components(G) before = 1\n",
      "G.edges() = [(2, 0)]\n",
      "G.nodes() = [2, 0]\n",
      "nx.number_connected_components(G) after = 1\n",
      "NOT USING the resolve crossover delete edges because not help resolve the cut\n",
      "skip_nodes = []\n",
      "\n",
      "Attempting the doubling back check (symmetrical so don't need to check from both sides)\n"
     ]
    },
    {
     "data": {
      "application/vnd.jupyter.widget-view+json": {
       "model_id": "8a84d6c98e254bd0b2f25e24a8a0b543",
       "version_major": 2,
       "version_minor": 0
      },
      "text/plain": [
       "  0%|          | 0/1 [00:00<?, ?it/s]"
      ]
     },
     "metadata": {},
     "output_type": "display_data"
    },
    {
     "name": "stdout",
     "output_type": "stream",
     "text": [
      "  Edge: [2 0]: curr_angle = 78.12\n",
      "Total time for doubling_back = 0.03253459930419922\n",
      "\n",
      "Attempting the width jump check (ARTIFICIALLY ATTEMPTING FROM BOTH SIDES)\n",
      "width_jump_threshold = 200\n",
      "  Edge: [2 0]: jump = -527.25\n",
      "Total time for width = 0.020521163940429688\n",
      "Did not find an error edge in either of the paths\n",
      "Number of connected components = 2\n",
      "Comp 0 = {0, 1, 2, 4, 5, 6}\n",
      "Comp 1 = {3}\n",
      "curr_limb_copy.deleted_edges = []\n",
      "curr_limb_copy.created_edges = []\n",
      "After get best cut: cut_edges = None, added_edges = []\n",
      "***** there was no suggested cut for this limb even though it is still connnected***\n",
      "--> So Setting the default_cut_edge to last\n",
      "edges_to_delete (cut_limb_network) = [[2, 0]]\n",
      "edges_to_create = []\n",
      "edge_diff = [[2 0]]\n",
      "total_soma_paths_to_cut = []\n",
      "\n",
      "\n",
      "suggested_cut_points = [[1494290.  586795. 1109405.]]\n",
      "\n",
      "\n"
     ]
    },
    {
     "data": {
      "application/vnd.jupyter.widget-view+json": {
       "model_id": "257175dc32f442ddac700ffaf3304749",
       "version_major": 2,
       "version_minor": 0
      },
      "text/plain": [
       "HBox(children=(FloatSlider(value=0.3, description='Size', max=3.0), Dropdown(description='Geo', index=3, optio…"
      ]
     },
     "metadata": {},
     "output_type": "display_data"
    },
    {
     "data": {
      "application/vnd.jupyter.widget-view+json": {
       "model_id": "d8ed4d8ae4ff489d90b31f29ce32e4cf",
       "version_major": 2,
       "version_minor": 0
      },
      "text/plain": [
       "HBox(children=(FloatSlider(value=0.3, description='Size', max=3.0), Dropdown(description='Geo', index=3, optio…"
      ]
     },
     "metadata": {},
     "output_type": "display_data"
    },
    {
     "data": {
      "application/vnd.jupyter.widget-view+json": {
       "model_id": "d1d3ad7806bd476c87ea3dab084f90ac",
       "version_major": 2,
       "version_minor": 0
      },
      "text/plain": [
       "Container(figure=Figure(box_center=[0.5, 0.5, 0.5], box_size=[1.0, 1.0, 1.0], camera=PerspectiveCamera(fov=45.…"
      ]
     },
     "metadata": {},
     "output_type": "display_data"
    },
    {
     "name": "stdout",
     "output_type": "stream",
     "text": [
      "-----------counter = 0------------\n",
      " Cut iteration 1\n",
      "Total number of graphs at the end of the split BEFORE DIRECTIONAL = 3\n",
      "Total number of graphs at the end of the split AFTER DIRECTIONAL = 3\n",
      "No valid path so moving onto the next connection\n",
      "\n",
      "\n",
      "**** Computing red blue splits****\n",
      "Conn comp size before expansion = [5, 1]\n",
      "Not expanding to removed branches\n",
      "\n",
      "--Doing Red/Blue splits for S0_0\n",
      "error_branches=[1 2 4 5 6]\n",
      "valid_upstream_branches_restriction = [0]\n",
      "Error Branches = [1 2 4 5 6]\n",
      "\n",
      "**conn_comp_errors = [[2], [1], [4, 5, 6]]\n",
      "Grouping all conn comp together\n",
      "\n",
      "**conn_comp_errors AFTER PAIRING = [[2, 1, 4, 5, 6]]\n",
      "Working on connected component: [2, 1, 4, 5, 6]\n",
      "Branch 2 had a valid upstream node 0 with common endpoint [[1494290.  586795. 1109405.]]\n",
      "Branch 1 had a valid upstream node 0 with common endpoint [[1494290.  586795. 1109405.]]\n",
      "Branch 4 had a valid upstream node 0 with common endpoint [[1494290.  586795. 1109405.]]\n",
      "Skipping upstream node 4 because was not in valid_upstream_branches_restriction\n",
      "Skipping upstream node 4 because was not in valid_upstream_branches_restriction\n",
      "valid_upstream_branches = [0, 0, 0]\n",
      "error_border_branches = [2, 1, 4]\n",
      "error_border_coordinates = [array([[1494290.,  586795., 1109405.]]), array([[1494290.,  586795., 1109405.]]), array([[1494290.,  586795., 1109405.]])]\n",
      "\n",
      "Grouping Red Blue into Common Upstream Groups\n",
      "\n",
      "After Adding Downstream Valid Nodes\n",
      "error_border_branches = [2, 1, 4]\n",
      "valid_upstream_branches = [0, 0, 0]\n",
      "error_border_coordinates = [array([[1494290.,  586795., 1109405.]]), array([[1494290.,  586795., 1109405.]]), array([[1494290.,  586795., 1109405.]])]\n",
      "\n",
      "Skipping Branch 1 one hop downstream because skeletal distance (5930.482980370747) larger than threshold one_hop_downstream_error_branches_max_distance\n",
      "Error Branch 4 had an error downstream node 5 with common endpoint [[1498130.  587004. 1110090.]]\n",
      "Error Branch 4 had an error downstream node 6 with common endpoint [[1498130.  587004. 1110090.]]\n",
      "\n",
      "After Adding Downstream Error Nodes\n",
      "error_border_branches = [2, 1, 4, 5, 6]\n",
      "valid_upstream_branches = [0, 0, 0, -1, -1]\n",
      "error_border_coordinates = [array([[1494290.,  586795., 1109405.]]), array([[1494290.,  586795., 1109405.]]), array([[1494290.,  586795., 1109405.]]), array([[1498130.,  587004., 1110090.]]), array([[1498130.,  587004., 1110090.]])]\n",
      "\n",
      "error_branches_to_skip = [4] after upsream branches in branches list\n",
      "filtered_skip_nodes according to min_error_downstream_length_total (5000) = [2]\n",
      "nodes_not_to_skip= [2 0]\n",
      "Before laying down points\n",
      "valid nodes to process: [0]\n",
      "Error nodes to process: [1 2 5 6]\n",
      "double_point_flags = [True, False]\n",
      "downstream_errors = []\n",
      "For Pair 0: coordinate [[1494290.  586795. 1109405.]]\n",
      "point_array= [[1492784.92601808  587518.89880702 1109675.3775211 ]\n",
      " [1491800.76203331  588000.07178103 1110942.19765387]]\n",
      "Deciding between min_cancel_distance = 1674.7953393317712, and min_cancel_distance_absolute = 1000\n",
      "After min: min_cancel_distance = 1674.7953393317712\n",
      "blue 0 node offset skeleton coordinate is [1492784.92601808  587518.89880702 1109675.3775211 ]\n",
      " --> using closest_mesh_face method curr_points = [[1493117.          587606.56666667 1109977.66666667]]\n",
      "blue 0 node offset skeleton coordinate is [1491800.76203331  588000.07178103 1110942.19765387]\n",
      " --> using closest_mesh_face method curr_points = [[1491586.          587867.46666667 1110776.        ]]\n",
      "point_array= [[1493748.33973589  586993.06632512 1108591.89868675]\n",
      " [1493206.83767013  587190.82525456 1107778.61799901]\n",
      " [1492809.75318987  587143.75069577 1106869.57203926]]\n",
      "Deciding between min_cancel_distance = 993.1045541636943, and min_cancel_distance_absolute = 1000\n",
      "After min: min_cancel_distance = 1000.0\n",
      "red 2 node offset skeleton coordinate is [1493748.33973589  586993.06632512 1108591.89868675]\n",
      " --> using closest_mesh_face method curr_points = [[1493819.66666667  586431.         1108547.33333333]]\n",
      "red 2 node offset skeleton coordinate is [1493206.83767013  587190.82525456 1107778.61799901]\n",
      " --> using closest_mesh_face method curr_points = [[1492746.66666667  586530.8        1107955.        ]]\n",
      "red 2 node offset skeleton coordinate is [1492809.75318987  587143.75069577 1106869.57203926]\n",
      " --> using closest_mesh_face method curr_points = [[1492729.66666667  587975.4        1106968.66666667]]\n",
      "\n",
      "downstream_errors = []\n",
      "For Pair 1: coordinate [[1494290.  586795. 1109405.]]\n",
      "point_array= [[1494299.35328039  586449.57082947 1110339.91568049]\n",
      " [1494207.62645085  586135.04616736 1111262.82194679]\n",
      " [1493735.53612906  585957.16074938 1112116.60660046]]\n",
      "Deciding between min_cancel_distance = 979.3342385000659, and min_cancel_distance_absolute = 1000\n",
      "After min: min_cancel_distance = 1000.0\n",
      "red 1 node offset skeleton coordinate is [1494299.35328039  586449.57082947 1110339.91568049]\n",
      " --> using closest_mesh_face method curr_points = [[1494233.66666667  586329.26666667 1110773.66666667]]\n",
      "red 1 node offset skeleton coordinate is [1494207.62645085  586135.04616736 1111262.82194679]\n",
      " --> using closest_mesh_face method curr_points = [[1494228.          586105.93333333 1111758.33333333]]\n",
      "red 1 node offset skeleton coordinate is [1493735.53612906  585957.16074938 1112116.60660046]\n",
      " --> using closest_mesh_face method curr_points = [[1493398.33333333  585794.43333333 1112269.        ]]\n",
      "\n",
      "downstream_errors = [5 6]\n",
      "For Pair 2: coordinate [[1494290.  586795. 1109405.]]\n",
      "\n",
      "downstream_errors = []\n",
      "For Pair 3: coordinate [[1498130.  587004. 1110090.]]\n",
      "point_array= [[1498634.13261286  587851.14935431 1110239.7521751 ]\n",
      " [1499096.05414822  588658.6489076  1110558.62183349]\n",
      " [1499285.31456887  589373.55187307 1111226.57284433]]\n",
      "Deciding between min_cancel_distance = 983.4149136681829, and min_cancel_distance_absolute = 1000\n",
      "After min: min_cancel_distance = 1000.0\n",
      "red 5 node offset skeleton coordinate is [1498634.13261286  587851.14935431 1110239.7521751 ]\n",
      " --> using closest_mesh_face method curr_points = [[1498433.33333333  587937.46666667 1110106.        ]]\n",
      "red 5 node offset skeleton coordinate is [1499096.05414822  588658.6489076  1110558.62183349]\n",
      " --> using closest_mesh_face method curr_points = [[1499265.33333333  588460.9        1110629.33333333]]\n",
      "red 5 node offset skeleton coordinate is [1499285.31456887  589373.55187307 1111226.57284433]\n",
      " --> using closest_mesh_face method curr_points = [[1499149.66666667  589488.36666667 1111062.        ]]\n",
      "\n",
      "downstream_errors = []\n",
      "For Pair 4: coordinate [[1498130.  587004. 1110090.]]\n",
      "point_array= [[1498825.98628345  586413.80617245 1109693.60548662]\n",
      " [1499725.08360154  586125.40894462 1109395.40894462]\n",
      " [1500563.1290739   585796.78654225 1108963.81718117]]\n",
      "Deciding between min_cancel_distance = 990.1869147175623, and min_cancel_distance_absolute = 1000\n",
      "After min: min_cancel_distance = 1000.0\n",
      "red 6 node offset skeleton coordinate is [1498825.98628345  586413.80617245 1109693.60548662]\n",
      " --> using closest_mesh_face method curr_points = [[1498826.   586358.5 1109881. ]]\n",
      "red 6 node offset skeleton coordinate is [1499725.08360154  586125.40894462 1109395.40894462]\n",
      " --> using closest_mesh_face method curr_points = [[1499796.33333333  586125.83333333 1109502.66666667]]\n",
      "red 6 node offset skeleton coordinate is [1500563.1290739   585796.78654225 1108963.81718117]\n",
      " --> using closest_mesh_face method curr_points = [[1500541.66666667  585815.33333333 1108818.33333333]]\n",
      "\n",
      "final_blue_points = [[1493117.          587606.56666667 1109977.66666667]\n",
      " [1491586.          587867.46666667 1110776.        ]], voxels = [[373279.25       146901.64166667  27749.44166667]\n",
      " [372896.5        146966.86666667  27769.4       ]]\n",
      "final_red_points = [[1493819.66666667  586431.         1108547.33333333]\n",
      " [1492746.66666667  586530.8        1107955.        ]\n",
      " [1492729.66666667  587975.4        1106968.66666667]\n",
      " [1494233.66666667  586329.26666667 1110773.66666667]\n",
      " [1494228.          586105.93333333 1111758.33333333]\n",
      " [1493398.33333333  585794.43333333 1112269.        ]\n",
      " [1498433.33333333  587937.46666667 1110106.        ]\n",
      " [1499265.33333333  588460.9        1110629.33333333]\n",
      " [1499149.66666667  589488.36666667 1111062.        ]\n",
      " [1498826.          586358.5        1109881.        ]\n",
      " [1499796.33333333  586125.83333333 1109502.66666667]\n",
      " [1500541.66666667  585815.33333333 1108818.33333333]], voxels = [[373279.25       146901.64166667  27749.44166667]\n",
      " [372896.5        146966.86666667  27769.4       ]]\n",
      "\n",
      "# of red_blue_splits made = 1\n",
      "\n",
      "--Doing Red/Blue splits for S1_0\n",
      "error_branches=[0]\n",
      "valid_upstream_branches_restriction = [1, 2, 4, 5, 6]\n",
      "Error Branches = [0]\n",
      "\n",
      "**conn_comp_errors = [[0]]\n",
      "Grouping all conn comp together\n",
      "\n",
      "**conn_comp_errors AFTER PAIRING = [[0]]\n",
      "Working on connected component: [0]\n",
      "Branch 0 had a valid upstream node 2 with common endpoint [[1494290.  586795. 1109405.]]\n",
      "valid_upstream_branches = [2]\n",
      "error_border_branches = [0]\n",
      "error_border_coordinates = [array([[1494290.,  586795., 1109405.]])]\n",
      "\n",
      "Grouping Red Blue into Common Upstream Groups\n",
      "Valid Branch 2 had a valid downstream node 1 with common endpoint [[1494290.  586795. 1109405.]]\n",
      "Valid Branch 2 had a valid downstream node 4 with common endpoint [[1494290.  586795. 1109405.]]\n",
      "\n",
      "After Adding Downstream Valid Nodes\n",
      "error_border_branches = [0, -1, -1]\n",
      "valid_upstream_branches = [2, 1, 4]\n",
      "error_border_coordinates = [array([[1494290.,  586795., 1109405.]]), array([[1494290.,  586795., 1109405.]]), array([[1494290.,  586795., 1109405.]])]\n",
      "\n",
      "Skipping Branch 0 one hop downstream because skeletal distance (26597.628609302254) larger than threshold one_hop_downstream_error_branches_max_distance\n",
      "\n",
      "After Adding Downstream Error Nodes\n",
      "error_border_branches = [0, -1, -1]\n",
      "valid_upstream_branches = [2, 1, 4]\n",
      "error_border_coordinates = [array([[1494290.,  586795., 1109405.]]), array([[1494290.,  586795., 1109405.]]), array([[1494290.,  586795., 1109405.]])]\n",
      "\n",
      "error_branches_to_skip = [] after upsream branches in branches list\n",
      "filtered_skip_nodes according to min_error_downstream_length_total (5000) = []\n",
      "nodes_not_to_skip= [2 0]\n",
      "Before laying down points\n",
      "valid nodes to process: [1 2 4]\n",
      "Error nodes to process: [0]\n",
      "double_point_flags = [False, True]\n",
      "downstream_errors = []\n",
      "For Pair 0: coordinate [[1494290.  586795. 1109405.]]\n"
     ]
    },
    {
     "name": "stdout",
     "output_type": "stream",
     "text": [
      "point_array= [[1493404.15624227  587118.92226152 1108075.23525543]\n",
      " [1492710.          587118.         1106620.        ]]\n",
      "Deciding between min_cancel_distance = 1612.3161563042866, and min_cancel_distance_absolute = 1000\n",
      "After min: min_cancel_distance = 1612.3161563042866\n",
      "blue 2 node offset skeleton coordinate is [1493404.15624227  587118.92226152 1108075.23525543]\n",
      " --> using closest_mesh_face method curr_points = [[1493554.33333333  586398.03333333 1108003.66666667]]\n",
      "blue 2 node offset skeleton coordinate is [1492710.  587118. 1106620.]\n",
      " --> using closest_mesh_face method curr_points = [[1492624.  587993. 1106840.]]\n",
      "point_array= [[1493398.32007519  587221.92248762 1109548.5022058 ]\n",
      " [1492596.8663701   587627.01174959 1109880.73500657]\n",
      " [1492048.92592633  587957.71450222 1110631.79220621]]\n",
      "Deciding between min_cancel_distance = 957.4988174791176, and min_cancel_distance_absolute = 1000\n",
      "After min: min_cancel_distance = 1000.0\n",
      "red 0 node offset skeleton coordinate is [1493398.32007519  587221.92248762 1109548.5022058 ]\n",
      " --> using closest_mesh_face method curr_points = [[1493480.33333333  587423.53333333 1109805.66666667]]\n",
      "red 0 node offset skeleton coordinate is [1492596.8663701   587627.01174959 1109880.73500657]\n",
      " --> using closest_mesh_face method curr_points = [[1492647.66666667  587377.43333333 1110361.33333333]]\n",
      "red 0 node offset skeleton coordinate is [1492048.92592633  587957.71450222 1110631.79220621]\n",
      " --> using closest_mesh_face method curr_points = [[1491792.          587966.83333333 1110374.33333333]]\n",
      "\n",
      "For Pair 1: coordinate [[1494290.  586795. 1109405.]]\n",
      "point_array= [[1494301.96264104  586208.48928098 1110995.15676564]\n",
      " [1493475.54928505  585942.05104076 1112419.9205392 ]]\n",
      "Deciding between min_cancel_distance = 1668.5023767669493, and min_cancel_distance_absolute = 1000\n",
      "After min: min_cancel_distance = 1668.5023767669493\n",
      "blue 1 node offset skeleton coordinate is [1494301.96264104  586208.48928098 1110995.15676564]\n",
      " --> using closest_mesh_face method curr_points = [[1494176.          586281.56666667 1110981.        ]]\n",
      "blue 1 node offset skeleton coordinate is [1493475.54928505  585942.05104076 1112419.9205392 ]\n",
      " --> using closest_mesh_face method curr_points = [[1493540.33333333  585889.9        1112608.33333333]]\n",
      "\n",
      "For Pair 2: coordinate [[1494290.  586795. 1109405.]]\n",
      "point_array= [[1495915.65283358  586616.31643994 1109868.89127892]\n",
      " [1497563.02483057  586854.88356953 1110143.3620295 ]]\n",
      "Deciding between min_cancel_distance = 1687.0337769843543, and min_cancel_distance_absolute = 1000\n",
      "After min: min_cancel_distance = 1687.0337769843543\n",
      "blue 4 node offset skeleton coordinate is [1495915.65283358  586616.31643994 1109868.89127892]\n",
      " --> using closest_mesh_face method curr_points = [[1495874.66666667  587012.76666667 1109947.66666667]]\n",
      "blue 4 node offset skeleton coordinate is [1497563.02483057  586854.88356953 1110143.3620295 ]\n",
      " --> using closest_mesh_face method curr_points = [[1497657.  586754. 1110473.]]\n",
      "Having to use surrounding neighbors mesh \n",
      "parent_node of branch 4 = branch 2\n",
      "child_nodes of branch 4 = [5 6]\n",
      "neighbors = [2, 5, 6]\n",
      "\n",
      "final_blue_points = [[1493554.33333333  586398.03333333 1108003.66666667]\n",
      " [1492624.          587993.         1106840.        ]\n",
      " [1494176.          586281.56666667 1110981.        ]\n",
      " [1493540.33333333  585889.9        1112608.33333333]\n",
      " [1495874.66666667  587012.76666667 1109947.66666667]\n",
      " [1497657.          586754.         1110473.        ]], voxels = [[373388.58333333 146599.50833333  27700.09166667]\n",
      " [373156.         146998.25        27671.        ]\n",
      " [373544.         146570.39166667  27774.525     ]\n",
      " [373385.08333333 146472.475       27815.20833333]\n",
      " [373968.66666667 146753.19166667  27748.69166667]\n",
      " [374414.25       146688.5         27761.825     ]]\n",
      "final_red_points = [[1493480.33333333  587423.53333333 1109805.66666667]\n",
      " [1492647.66666667  587377.43333333 1110361.33333333]\n",
      " [1491792.          587966.83333333 1110374.33333333]], voxels = [[373388.58333333 146599.50833333  27700.09166667]\n",
      " [373156.         146998.25        27671.        ]\n",
      " [373544.         146570.39166667  27774.525     ]\n",
      " [373385.08333333 146472.475       27815.20833333]\n",
      " [373968.66666667 146753.19166667  27748.69166667]\n",
      " [374414.25       146688.5         27761.825     ]]\n",
      "\n",
      "# of red_blue_splits made = 1\n",
      "Total number of graphs at the end of the split = 3: [array([1, 2, 4, 5, 6]), array([0]), array([3])]\n",
      "\n",
      "\n",
      "-------- Suggestions for Limb 4------\n",
      "\n",
      " Working on visualization type: mesh\n",
      "\n",
      " Working on visualization type: skeleton\n"
     ]
    },
    {
     "data": {
      "application/vnd.jupyter.widget-view+json": {
       "model_id": "d131e814339647798aa1cd5e5938617c",
       "version_major": 2,
       "version_minor": 0
      },
      "text/plain": [
       "Container(figure=Figure(box_center=[0.5, 0.5, 0.5], box_size=[1.0, 1.0, 1.0], camera=PerspectiveCamera(fov=45.…"
      ]
     },
     "metadata": {},
     "output_type": "display_data"
    }
   ],
   "source": [
    "(split_results,\n",
    "red_blue_split_results) = pru.multi_soma_split_suggestions(\n",
    "    neuron_obj,\n",
    "    plot_intermediates=plot_intermediates,\n",
    "    plot_suggestions=plot_suggestions,\n",
    "    plot_cut_coordinates = plot_cut_coordinates,\n",
    "    only_multi_soma_paths=only_multi_soma_paths,\n",
    "    default_cut_edge = \"last\",\n",
    "    verbose = verbose,\n",
    "    output_red_blue_suggestions = True,\n",
    "    split_red_blue_by_common_upstream = True,\n",
    "    apply_valid_upstream_branches_restriction = True,\n",
    "    debug_red_blue = False,\n",
    ")"
   ]
  },
  {
   "cell_type": "code",
   "execution_count": 32,
   "id": "5d1842f6",
   "metadata": {
    "scrolled": true
   },
   "outputs": [
    {
     "name": "stdout",
     "output_type": "stream",
     "text": [
      "\n",
      "\n",
      "-------- Suggestions for Limb 4------\n"
     ]
    },
    {
     "data": {
      "application/vnd.jupyter.widget-view+json": {
       "model_id": "4850d278ec2e4229849c876323185106",
       "version_major": 2,
       "version_minor": 0
      },
      "text/plain": [
       "HBox(children=(FloatSlider(value=1.0, description='Size', max=3.0), Dropdown(description='Geo', index=3, optio…"
      ]
     },
     "metadata": {},
     "output_type": "display_data"
    },
    {
     "data": {
      "application/vnd.jupyter.widget-view+json": {
       "model_id": "735211085b1f4123a9409268ddf5aff9",
       "version_major": 2,
       "version_minor": 0
      },
      "text/plain": [
       "HBox(children=(FloatSlider(value=0.3, description='Size', max=3.0), Dropdown(description='Geo', index=3, optio…"
      ]
     },
     "metadata": {},
     "output_type": "display_data"
    },
    {
     "data": {
      "application/vnd.jupyter.widget-view+json": {
       "model_id": "5688c3046b6640c9a8b736a3c3dd9ffe",
       "version_major": 2,
       "version_minor": 0
      },
      "text/plain": [
       "HBox(children=(FloatSlider(value=0.3, description='Size', max=3.0), Dropdown(description='Geo', index=3, optio…"
      ]
     },
     "metadata": {},
     "output_type": "display_data"
    },
    {
     "data": {
      "application/vnd.jupyter.widget-view+json": {
       "model_id": "b00d0193151e437a8a72d7a571d69480",
       "version_major": 2,
       "version_minor": 0
      },
      "text/plain": [
       "Container(figure=Figure(box_center=[0.5, 0.5, 0.5], box_size=[1.0, 1.0, 1.0], camera=PerspectiveCamera(fov=45.…"
      ]
     },
     "metadata": {},
     "output_type": "display_data"
    }
   ],
   "source": [
    "from neurd import soma_splitting_utils as ssu\n",
    "ssu.plot_red_blue_split_suggestions_per_limb(\n",
    "    neuron_obj,\n",
    "    red_blue_split_results,\n",
    "    \n",
    ")"
   ]
  },
  {
   "cell_type": "markdown",
   "id": "93828918",
   "metadata": {},
   "source": [
    "# Step 5: Splitting Multi-Neuron"
   ]
  },
  {
   "cell_type": "code",
   "execution_count": 33,
   "id": "ee35234c",
   "metadata": {},
   "outputs": [],
   "source": [
    "import numpy as np\n",
    "from neurd import soma_splitting_utils as ssu\n",
    "from neurd import proofreading_utils as pru\n",
    "\n",
    "neurd.set_volume_params(\n",
    "    \"microns\"\n",
    ")"
   ]
  },
  {
   "cell_type": "code",
   "execution_count": 34,
   "id": "951a5a98",
   "metadata": {},
   "outputs": [
    {
     "name": "stdout",
     "output_type": "stream",
     "text": [
      "n_paths_multi_soma = 1\n",
      "n_paths_multi_touch = 0\n",
      "n_paths_cut = 1\n"
     ]
    }
   ],
   "source": [
    "n_paths_cut = pru.get_n_paths_cut(\n",
    "    split_results,\n",
    "    verbose = True)"
   ]
  },
  {
   "cell_type": "code",
   "execution_count": 35,
   "id": "1f386430",
   "metadata": {
    "scrolled": true
   },
   "outputs": [
    {
     "name": "stdout",
     "output_type": "stream",
     "text": [
      "using precomputed split suggestions\n",
      "\n",
      "\n",
      "---Working on Splitting Limb 4 with 3 components----\n",
      "\n",
      "\n",
      "----Working on seperate_graph 0----\n",
      "\n",
      "\n",
      "---------Working on soma_idx = 0, soma_group_idx 0, endpt = [1492710.  587118. 1106620.]---------\n",
      "Starting_edge inside branches_to_conept = [[1492710.  587118. 1106620.]\n",
      " [1494290.  586795. 1109405.]]\n",
      "At the start, starting_node (in terms of the skeleton, that shouldn't match the starting edge) = [1]\n",
      "printing out current edge:\n",
      "[[1492710.  587118. 1106620.]\n",
      " [1494290.  586795. 1109405.]]\n",
      "edge_endpoints_to_process was empty so exiting loop after 5 iterations\n",
      "starting_node in concept map (that should match the starting edge) = 1\n",
      "Total time for branches to concept conversion = 0.02914714813232422\n",
      "\n",
      "Done generating concept network \n",
      "\n",
      "\n",
      "\n",
      "\n",
      "----Working on seperate_graph 1----\n",
      "\n",
      "\n",
      "---------Working on soma_idx = 1, soma_group_idx 0, endpt = [1474820.  582855. 1113480.]---------\n",
      "Starting_edge inside branches_to_conept = [[1474820.  582855. 1113480.]\n",
      " [1494290.  586795. 1109405.]]\n",
      "Done generating concept network \n",
      "\n",
      "\n",
      "\n",
      "\n",
      "----Working on seperate_graph 2----\n",
      "There was no starting information so doing to put dummy information and random starting endpoint = [1494343.13832853  586705.29193084 1109449.15850144]\n",
      "\n",
      "\n",
      "---------Working on soma_idx = -1, soma_group_idx -1, endpt = [1494343.13832853  586705.29193084 1109449.15850144]---------\n",
      "Starting_edge inside branches_to_conept = [[1494343.13832853  586705.29193084 1109449.15850144]\n",
      " [1494348.37282853  586710.52643084 1109454.39300144]]\n",
      "Done generating concept network \n",
      "\n",
      "\n",
      "\n",
      "\n",
      "------ Working on Soma 0 -------\n",
      "limb_neighbors = [0, 1, 4, 5, 6]\n",
      "limb_neighbors BEFORE error limbs removed = [0, 1, 4, 5, 6]\n",
      "limb_neighbors AFTER error limbs removed = [0 1 4 5 6]\n",
      "curr_n_multi_soma_limbs_cancelled = 0\n",
      "curr_n_same_soma_limbs_cancelled = 0\n",
      "n_errored_lims = 0\n",
      "curr_error_limbs_cancelled_area = []\n",
      "local_floating_meshes = [<trimesh.Trimesh(vertices.shape=(113, 3), faces.shape=(176, 3))>, <trimesh.Trimesh(vertices.shape=(75, 3), faces.shape=(140, 3))>]\n",
      "Already have preprocessed data\n",
      "--- 1) Finished unpacking preprocessed materials: 3.62396240234375e-05\n",
      "total_edges = [['S0', 'L0'], ['S0', 'L1'], ['S0', 'L2'], ['S0', 'L3'], ['S0', 'L4']]\n",
      "--- 2) Finished creating neuron connectivity graph: 0.00013899803161621094\n",
      "Having to generate soma_meshes_face_idx because none in preprocessed data\n",
      "--- 3a) Finshed generating soma_meshes_face_idx: 0.029302358627319336\n",
      "Using precomputed volume ratio\n",
      "--- 3b) Finished soma creation: 0.04866957664489746\n",
      "--- 3) Finshed generating soma objects and adding them to concept graph: 8.440017700195312e-05\n",
      "Using already existing limb_mehses_face_idx in preprocessed data \n",
      "curr_limb_concept_networks= {0: [<datasci_tools.networkx_utils.GraphOrderedEdges object at 0x7fa6ba022220>]}\n",
      "curr_limb_concept_networks= {0: [<datasci_tools.networkx_utils.GraphOrderedEdges object at 0x7fa8918fdca0>]}\n",
      "curr_limb_concept_networks= {0: [<datasci_tools.networkx_utils.GraphOrderedEdges object at 0x7fa6ca51ad30>]}\n",
      "curr_limb_concept_networks= {0: [<datasci_tools.networkx_utils.GraphOrderedEdges object at 0x7fa6ca51aac0>]}\n",
      "curr_limb_concept_networks= {0: [<datasci_tools.networkx_utils.GraphOrderedEdges object at 0x7fa6ca51ad60>]}\n",
      "--- 4) Finshed generating Limb objects and adding them to concept graph: 0.4656059741973877\n",
      "--- 5) SKIPPING Doing the adaptive mesh correspondence on the meshparty preprocessing ---\n",
      "--- 6) SKIPPING Using the computed_attribute_dict to populate neuron attributes ---\n",
      "self.n_limbs = 5\n",
      "7) Calculating the spines for the neuorn if do not already exist\n",
      "Total time for neuron instance creation = 1.7387409210205078\n",
      "\n",
      "\n",
      "------ Working on Soma 1 -------\n",
      "limb_neighbors = [2, 3, 7, 8]\n",
      "limb_neighbors BEFORE error limbs removed = [2, 3, 7, 8]\n",
      "limb_neighbors AFTER error limbs removed = [2 3 7 8]\n",
      "curr_n_multi_soma_limbs_cancelled = 0\n",
      "curr_n_same_soma_limbs_cancelled = 0\n",
      "n_errored_lims = 0\n",
      "curr_error_limbs_cancelled_area = []\n",
      "local_floating_meshes = []\n",
      "Already have preprocessed data\n",
      "--- 1) Finished unpacking preprocessed materials: 4.982948303222656e-05\n",
      "total_edges = [['S0', 'L0'], ['S0', 'L1'], ['S0', 'L2'], ['S0', 'L3']]\n",
      "--- 2) Finished creating neuron connectivity graph: 0.00016617774963378906\n",
      "Having to generate soma_meshes_face_idx because none in preprocessed data\n",
      "--- 3a) Finshed generating soma_meshes_face_idx: 0.00885319709777832\n",
      "Using precomputed volume ratio\n",
      "--- 3b) Finished soma creation: 0.028573274612426758\n",
      "--- 3) Finshed generating soma objects and adding them to concept graph: 5.602836608886719e-05\n",
      "Using already existing limb_mehses_face_idx in preprocessed data \n",
      "curr_limb_concept_networks= {0: [<datasci_tools.networkx_utils.GraphOrderedEdges object at 0x7fa7d0b3b8e0>]}\n",
      "curr_limb_concept_networks= {0: [<datasci_tools.networkx_utils.GraphOrderedEdges object at 0x7fa7d0b3b280>]}\n",
      "curr_limb_concept_networks= {0: [<datasci_tools.networkx_utils.GraphOrderedEdges object at 0x7fa7d0b3b370>]}\n",
      "curr_limb_concept_networks= {0: [<datasci_tools.networkx_utils.GraphOrderedEdges object at 0x7fa7d0b3b7f0>]}\n",
      "--- 4) Finshed generating Limb objects and adding them to concept graph: 0.15633511543273926\n",
      "--- 5) SKIPPING Doing the adaptive mesh correspondence on the meshparty preprocessing ---\n",
      "--- 6) SKIPPING Using the computed_attribute_dict to populate neuron attributes ---\n",
      "self.n_limbs = 4\n",
      "7) Calculating the spines for the neuorn if do not already exist\n",
      "Total time for neuron instance creation = 0.610192060470581\n",
      "\n",
      "\n",
      "Number of seperate neuron objects = 2\n",
      "Filter limb lengths for limb size of 15000\n",
      "limb_idx_to_filter = []\n",
      "map_idx= {0: 0, 1: 1, 2: 2, 3: 3, 4: 4}\n",
      "limb_meshes_new = 5\n",
      "limb_mehses_face_idx_new = 5\n",
      "limb_correspondence_new = dict_keys([0, 1, 2, 3, 4])\n",
      "limb_labels_new = dict_keys([0, 1, 2, 3, 4])\n",
      "limb_concept_networks_new = dict_keys([0, 1, 2, 3, 4])\n",
      "limb_network_stating_info_new = dict_keys([0, 1, 2, 3, 4])\n",
      "map_idx_limbs_names= {'L0': 'L0', 'L1': 'L1', 'L2': 'L2', 'L3': 'L3', 'L4': 'L4'}\n",
      "Finished relabeling nodes\n",
      "neuron_obj.concept_network.nodes at end = ['S0', 'L0', 'L1', 'L2', 'L3', 'L4']\n",
      "limb_idx_to_filter = [2]\n",
      "map_idx= {0: 0, 1: 1, 3: 2}\n",
      "limb_meshes_new = 3\n",
      "limb_mehses_face_idx_new = 3\n",
      "limb_correspondence_new = dict_keys([0, 1, 2])\n",
      "limb_labels_new = dict_keys([0, 1, 2])\n",
      "limb_concept_networks_new = dict_keys([0, 1, 2])\n",
      "limb_network_stating_info_new = dict_keys([0, 1, 2])\n",
      "map_idx_limbs_names= {'L0': 'L0', 'L1': 'L1', 'L3': 'L2'}\n",
      "Finished relabeling nodes\n",
      "neuron_obj.concept_network.nodes at end = ['S0', 'L0', 'L1', 'L2']\n"
     ]
    }
   ],
   "source": [
    "verbose = True\n",
    "\n",
    "(neuron_list,\n",
    "neuron_list_errored_limbs_area,\n",
    "neuron_list_errored_limbs_skeletal_length,\n",
    "neuron_list_n_multi_soma_errors,\n",
    "neuron_list_n_same_soma_errors) = pru.split_neuron(neuron_obj,\n",
    "    limb_results=split_results,\n",
    "    verbose=verbose,\n",
    "    return_error_info=True,\n",
    ")\n",
    "\n",
    "multiplicity = len(neuron_list)"
   ]
  },
  {
   "cell_type": "markdown",
   "id": "6bc16121",
   "metadata": {},
   "source": [
    "# Cell Typing"
   ]
  },
  {
   "cell_type": "code",
   "execution_count": 36,
   "id": "8594b3a2",
   "metadata": {},
   "outputs": [
    {
     "data": {
      "text/plain": [
       "'\\nFunctions to be implemented in volume_utils\\n\\nnuclei_from_segment_id\\n-> returns nucleus_ids,nucleus_centers\\n\\n'"
      ]
     },
     "execution_count": 36,
     "metadata": {},
     "output_type": "execute_result"
    }
   ],
   "source": [
    "\"\"\"\n",
    "Functions to be implemented in volume_utils\n",
    "\n",
    "nuclei_from_segment_id\n",
    "-> returns nucleus_ids,nucleus_centers\n",
    "\n",
    "\"\"\""
   ]
  },
  {
   "cell_type": "code",
   "execution_count": 37,
   "id": "2c68373e",
   "metadata": {},
   "outputs": [
    {
     "data": {
      "text/plain": [
       "<neurd.microns_volume_utils.DataInterface at 0x7fa8d51107c0>"
      ]
     },
     "execution_count": 37,
     "metadata": {},
     "output_type": "execute_result"
    }
   ],
   "source": [
    "verbose = True\n",
    "\n",
    "hdju = pru.data_mod\n",
    "hdju"
   ]
  },
  {
   "cell_type": "code",
   "execution_count": 38,
   "id": "3bfeb605",
   "metadata": {},
   "outputs": [],
   "source": [
    "split_index = 0\n",
    "neuron_obj_pre_filt = neuron_list[split_index]"
   ]
  },
  {
   "cell_type": "code",
   "execution_count": 39,
   "id": "b60d95f3",
   "metadata": {},
   "outputs": [],
   "source": [
    "# 1) Retrieving the corresponding nucleus ids\n",
    "nucleus_ids,nucleus_centers = hdju.nuclei_from_segment_id(\n",
    "    segment_id,\n",
    "    return_centers=True,\n",
    "    return_nm=True\n",
    "    )\n",
    "\n",
    "if verbose:\n",
    "    if nucleus_ids is not None:\n",
    "        print(f\"Number of Corresponding Nuclei = {len(nucleus_ids)}\")\n",
    "        print(f\"nucleus_ids = {nucleus_ids}\")\n",
    "        print(f\"nucleus_centers = {nucleus_centers}\")\n",
    "        \n"
   ]
  },
  {
   "cell_type": "code",
   "execution_count": 40,
   "id": "e1b47d4a",
   "metadata": {
    "scrolled": true
   },
   "outputs": [
    {
     "name": "stdout",
     "output_type": "stream",
     "text": [
      "\n",
      " Working on visualization type: mesh\n",
      "\n",
      " Working on visualization type: skeleton\n"
     ]
    },
    {
     "data": {
      "application/vnd.jupyter.widget-view+json": {
       "model_id": "19e665ac201f4e3bb99e978087f05c20",
       "version_major": 2,
       "version_minor": 0
      },
      "text/plain": [
       "Container(figure=Figure(box_center=[0.5, 0.5, 0.5], box_size=[1.0, 1.0, 1.0], camera=PerspectiveCamera(fov=45.…"
      ]
     },
     "metadata": {},
     "output_type": "display_data"
    }
   ],
   "source": [
    "plot_initial_neuron = True\n",
    "\n",
    "if plot_initial_neuron:\n",
    "    neuron_obj_rot = hdju.align_neuron_obj(neuron_obj_pre_filt)\n",
    "    nviz.visualize_neuron(neuron_obj_rot,limb_branch_dict = \"all\")"
   ]
  },
  {
   "cell_type": "code",
   "execution_count": 41,
   "id": "e5f14f24",
   "metadata": {},
   "outputs": [
    {
     "name": "stdout",
     "output_type": "stream",
     "text": [
      "\n",
      " Working on visualization type: mesh\n",
      "\n",
      " Working on visualization type: skeleton\n"
     ]
    },
    {
     "data": {
      "application/vnd.jupyter.widget-view+json": {
       "model_id": "16fb98f983904b6bafcd4743831336ff",
       "version_major": 2,
       "version_minor": 0
      },
      "text/plain": [
       "Container(figure=Figure(box_center=[0.5, 0.5, 0.5], box_size=[1.0, 1.0, 1.0], camera=PerspectiveCamera(fov=45.…"
      ]
     },
     "metadata": {},
     "output_type": "display_data"
    }
   ],
   "source": [
    "nviz.visualize_neuron(neuron_obj_pre_filt,limb_branch_dict = \"all\")"
   ]
  },
  {
   "cell_type": "code",
   "execution_count": 42,
   "id": "eb01b4a2",
   "metadata": {},
   "outputs": [
    {
     "data": {
      "text/plain": [
       "<neurd.neuron.Neuron at 0x7fa892023640>"
      ]
     },
     "execution_count": 42,
     "metadata": {},
     "output_type": "execute_result"
    }
   ],
   "source": [
    "#2) Refining the width array to match sksleton coordinates if it doesn't\n",
    "\n",
    "from neurd import branch_utils as bu\n",
    "\n",
    "bu.refine_width_array_to_match_skeletal_coordinates(\n",
    "        neuron_obj_pre_filt,\n",
    "        verbose = False\n",
    ")"
   ]
  },
  {
   "cell_type": "code",
   "execution_count": 43,
   "id": "671f8bec",
   "metadata": {},
   "outputs": [
    {
     "name": "stdout",
     "output_type": "stream",
     "text": [
      "N_branches on limbs before simplification\n",
      "L0: 10\n",
      "L1: 27\n",
      "L2: 5\n",
      "L3: 1\n",
      "L4: 1\n",
      "--- STARTING merge_floating_end_nodes_to_parent----\n",
      "\n",
      "\n",
      "\n",
      "---N_branches on limbs AFTER merge_floating_end_nodes_to_parent---\n",
      "L0: 10 (difference of 0)\n",
      "L1: 27 (difference of 0)\n",
      "L2: 5 (difference of 0)\n",
      "L3: 1 (difference of 0)\n",
      "L4: 1 (difference of 0)\n",
      "\n",
      "\n",
      "\n",
      "--- STARTING COMBINING BRANCHES----\n",
      "jitter_segment = None\n",
      "b_d.endpoints = [[1465201.13645255  644973.35231468 1076973.46519181]\n",
      " [1465639.47749826  643515.05932515 1076757.45951826]]\n",
      "jitter_segment = None\n",
      "b_d.endpoints = [[1453249.48354083  616028.64738608 1111904.55308479]\n",
      " [1457432.          617891.2        1107602.        ]]\n",
      "\n",
      "---Working on limb L1, deleting [26, 25]\n",
      "new_node_name_dict = {0: 0, 1: 1, 2: 2, 3: 3, 4: 4, 5: 5, 6: 6, 7: 7, 8: 8, 9: 9, 10: 10, 11: 11, 12: 12, 13: 13, 14: 14, 15: 15, 16: 16, 17: 17, 18: 18, 19: 19, 20: 20, 21: 21, 22: 22, 23: 23, 24: 24, 25: -1, 26: -2}\n",
      "Finished relabeling nodes\n",
      "AFter relabeling branch names: [-2 -1  0  1  2  3  4  5  6  7  8  9 10 11 12 13 14 15 16 17 18 19 20 21\n",
      " 22 23 24]\n",
      "After branch deletion, names: [ 0  1  2  3  4  5  6  7  8  9 10 11 12 13 14 15 16 17 18 19 20 21 22 23\n",
      " 24]\n",
      "Current starting node BEFORE reset: 17\n",
      "Current starting node after reset: 17\n",
      "Total time for deletion: 0.24750113487243652\n",
      "\n",
      "\n",
      "\n",
      "---N_branches on limbs AFTER combine_path_branches---\n",
      "L0: 10 (difference of 0)\n",
      "L1: 25 (difference of 2)\n",
      "L2: 5 (difference of 0)\n",
      "L3: 1 (difference of 0)\n",
      "L4: 1 (difference of 0)\n",
      "\n",
      "\n",
      "\n",
      "---N_branches on limbs AFTER total simplification---\n",
      "L0: 10 (difference of 0)\n",
      "L1: 25 (difference of 2)\n",
      "L2: 5 (difference of 0)\n",
      "L3: 1 (difference of 0)\n",
      "L4: 1 (difference of 0)\n",
      "\n",
      "***Total time for branch simplification = 8.55805516242981\n",
      "\n",
      " Working on visualization type: mesh\n",
      "\n",
      " Working on visualization type: skeleton\n"
     ]
    },
    {
     "data": {
      "application/vnd.jupyter.widget-view+json": {
       "model_id": "d6ab99bddf4e41b8a671d0b539494804",
       "version_major": 2,
       "version_minor": 0
      },
      "text/plain": [
       "Container(figure=Figure(box_center=[0.5, 0.5, 0.5], box_size=[1.0, 1.0, 1.0], camera=PerspectiveCamera(fov=45.…"
      ]
     },
     "metadata": {},
     "output_type": "display_data"
    }
   ],
   "source": [
    "from neurd import neuron_simplification as nsimp\n",
    "\n",
    "plot_floating_end_nodes_limb_branch_dict =  False\n",
    "plot_downstream_path_limb_branch = False\n",
    "plot_after_simplification = True\n",
    "\n",
    "# 3) Performs branch simplification so there should always be 2 or more child branches\n",
    "neuron_obj_pre_filt_after_simp = nsimp.branching_simplification(\n",
    "    neuron_obj_pre_filt,\n",
    "    return_copy = True,\n",
    "\n",
    "    #floating endpiece arguments\n",
    "    plot_floating_end_nodes_limb_branch_dict = plot_floating_end_nodes_limb_branch_dict,\n",
    "    plot_final_neuron_floating_endpoints = False,\n",
    "\n",
    "    # combine path arguments\n",
    "    plot_downstream_path_limb_branch = plot_downstream_path_limb_branch,\n",
    "    plot_final_neuron_path = False,\n",
    "    plot_after_simplification = True,\n",
    "    verbose = verbose,\n",
    ")\n",
    "\n"
   ]
  },
  {
   "cell_type": "code",
   "execution_count": 44,
   "id": "95965748",
   "metadata": {},
   "outputs": [],
   "source": [
    "# Filter away a large cluster of dendrite if requested SKIPPED\n",
    "\n",
    "filter_low_branch_cluster_dendrite = False\n",
    "plot_limb_branch_filter_away_low_branch = False\n",
    "\n",
    "if filter_low_branch_cluster_dendrite:\n",
    "    neuron_obj_pre_class, filtering_info_low_branch = pru.apply_proofreading_filters_to_neuron(\n",
    "        input_neuron = neuron_obj_pre_filt_after_simp,\n",
    "        filter_list = [pru.low_branch_length_clusters_dendrite_filter],\n",
    "        plot_limb_branch_filter_with_disconnect_effect=False,\n",
    "        plot_limb_branch_filter_away=plot_limb_branch_filter_away_low_branch,\n",
    "        plot_final_neuron=False,\n",
    "\n",
    "        return_error_info=True,\n",
    "        verbose=False,\n",
    "        verbose_outline=verbose)\n",
    "else:\n",
    "    neuron_obj_pre_class = neuron_obj_pre_filt_after_simp\n",
    "    filtering_info_low_branch = {}"
   ]
  },
  {
   "cell_type": "code",
   "execution_count": 45,
   "id": "1740d6fd",
   "metadata": {},
   "outputs": [
    {
     "name": "stdout",
     "output_type": "stream",
     "text": [
      "nucleus_info = {'nucleus_id': None, 'nuclei_distance': None, 'n_nuclei_in_radius': None, 'n_nuclei_in_bbox': None}\n",
      "winning_nucleus_id = None\n"
     ]
    }
   ],
   "source": [
    "from neurd import neuron_utils as nru\n",
    "\n",
    "winning_nucleus_id, nucleus_info = nru.pair_neuron_obj_to_nuclei(\n",
    "    neuron_obj_pre_class,\n",
    "    \"S0\",\n",
    "    nucleus_ids,\n",
    "    nucleus_centers,\n",
    "    nuclei_distance_threshold = 15000,\n",
    "    return_matching_info = True,\n",
    "    verbose=True)\n",
    "\n",
    "if verbose:\n",
    "    print(f\"nucleus_info = {nucleus_info}\")\n",
    "    print(f\"winning_nucleus_id = {winning_nucleus_id}\")\n"
   ]
  },
  {
   "cell_type": "code",
   "execution_count": 46,
   "id": "6ed1f65c",
   "metadata": {},
   "outputs": [
    {
     "name": "stdout",
     "output_type": "stream",
     "text": [
      "database_cell_type_info = {'external_cell_type': None, 'external_cell_type_n_nuc': None, 'external_cell_type_fine': None, 'external_cell_type_fine_n_nuc': None, 'external_cell_type_fine_e_i': None}\n",
      "database_e_i_class = None\n"
     ]
    }
   ],
   "source": [
    "# Getting the cell types from the database\n",
    "\n",
    "database_cell_type_info = hdju.nuclei_classification_info_from_nucleus_id(\n",
    "    winning_nucleus_id\n",
    ")\n",
    "\n",
    "database_e_i_class = database_cell_type_info[f\"external_cell_type\"]  \n",
    "\n",
    "if verbose:\n",
    "    print(f\"database_cell_type_info = {database_cell_type_info}\")\n",
    "    print(f\"database_e_i_class = {database_e_i_class}\")"
   ]
  },
  {
   "cell_type": "code",
   "execution_count": 47,
   "id": "d445b224",
   "metadata": {},
   "outputs": [
    {
     "name": "stdout",
     "output_type": "stream",
     "text": [
      "\n",
      "---Step 1: Computing synapse_dict---\n",
      "# of presyn: 62\n",
      "# of postsyn: 903\n",
      "\n",
      "---Step 2: Computing mesh_label_dict---\n",
      "-- Working on presyn--\n",
      "Using original_mesh_method\n",
      "# of distance_errored_syn_idx = 0\n",
      "# of mesh_errored_syn_idx = 3\n",
      "# of valid_syn_idx = 59\n",
      "-- Working on postsyn--\n",
      "Using original_mesh_method\n",
      "# of distance_errored_syn_idx = 0\n",
      "# of mesh_errored_syn_idx = 345\n",
      "# of valid_syn_idx = 558\n",
      "\n",
      "---Step 3: add_valid_synapses_to_neuron_obj---\n",
      "Synapse dict: 0.0014\n",
      "Original Mesh: 0.1697\n",
      "Closest Branch: 0.1152\n",
      "Closest Skeleton Branch and distance from endpoint: 0.6819\n",
      "Closest Branch: 0.0539\n",
      "Closest Skeleton Branch and distance from endpoint: 2.6289\n",
      "Total time for valid synapse objects = 0.00695490837097168\n",
      "\n",
      " Working on visualization type: mesh\n",
      "\n",
      " Working on visualization type: skeleton\n"
     ]
    },
    {
     "data": {
      "application/vnd.jupyter.widget-view+json": {
       "model_id": "29d710bdf5684044ae138f7ab8c620d2",
       "version_major": 2,
       "version_minor": 0
      },
      "text/plain": [
       "HBox(children=(FloatSlider(value=0.3, description='Size', max=3.0), Dropdown(description='Geo', index=3, optio…"
      ]
     },
     "metadata": {},
     "output_type": "display_data"
    },
    {
     "data": {
      "application/vnd.jupyter.widget-view+json": {
       "model_id": "9bf3bffc24c84effba7e77e51dddb247",
       "version_major": 2,
       "version_minor": 0
      },
      "text/plain": [
       "HBox(children=(FloatSlider(value=0.3, description='Size', max=3.0), Dropdown(description='Geo', index=3, optio…"
      ]
     },
     "metadata": {},
     "output_type": "display_data"
    },
    {
     "data": {
      "application/vnd.jupyter.widget-view+json": {
       "model_id": "43e398bf472e4816b19f7d17d9ba5e06",
       "version_major": 2,
       "version_minor": 0
      },
      "text/plain": [
       "Container(figure=Figure(box_center=[0.5, 0.5, 0.5], box_size=[1.0, 1.0, 1.0], camera=PerspectiveCamera(fov=45.…"
      ]
     },
     "metadata": {},
     "output_type": "display_data"
    }
   ],
   "source": [
    "# Adding the synapses to the cell\n",
    "plot_synapses = True\n",
    "\n",
    "\n",
    "neurd.set_volume_params(\n",
    "    \"microns\"\n",
    ")\n",
    "\n",
    "from neurd import synapse_utils as syu\n",
    "from neurd.microns_volume_utils import data_interface as hdju\n",
    "hdju.set_synapse_filepath(synapse_filepath = '/neurd_packages/NEURD/Applications/autoproof_neuron_pipeline/864691135510518224_synapses.csv')\n",
    "\n",
    "neuron_obj_attr = syu.add_synapses_to_neuron_obj(\n",
    "    neuron_obj_pre_class,\n",
    "    segment_id = segment_id,\n",
    "    #synapse_filepath = '/neurd_packages/NEURD/Applications/autoproof_neuron_pipeline/864691135510518224_synapses.csv',\n",
    "    validation = False,\n",
    "    verbose  = verbose,\n",
    "    original_mesh = mesh_dec,\n",
    "    plot_valid_error_synapses = False,\n",
    "    calculate_synapse_soma_distance = False,\n",
    "    add_valid_synapses = True,\n",
    "    add_error_synapses=False,\n",
    ")\n",
    "\n",
    "if plot_synapses:\n",
    "    syu.plot_synapses(neuron_obj_attr)"
   ]
  },
  {
   "cell_type": "code",
   "execution_count": 61,
   "id": "673bdbcd",
   "metadata": {},
   "outputs": [
    {
     "name": "stdout",
     "output_type": "stream",
     "text": [
      "\n",
      " Working on visualization type: mesh\n",
      "color_list_correct_size = [array([0. , 0. , 1. , 0.2]), array([0.        , 0.50196078, 0.        , 0.2       ]), array([1. , 0. , 0. , 0.2]), array([0. , 1. , 1. , 0.2]), array([1. , 0. , 1. , 0.2]), array([0. , 0. , 0. , 0.2]), array([0.50196078, 0.50196078, 0.50196078, 0.2       ]), array([0.09803922, 0.09803922, 0.43921569, 0.2       ]), array([1.        , 0.75294118, 0.79607843, 0.2       ]), array([0.8627451 , 0.07843137, 0.23529412, 0.2       ]), array([1.        , 0.64705882, 0.        , 0.2       ]), array([0.50196078, 0.50196078, 0.        , 0.2       ]), array([0.95686275, 0.64313725, 0.37647059, 0.2       ]), array([0.82352941, 0.70588235, 0.54901961, 0.2       ]), array([1.        , 0.84313725, 0.        , 0.2       ]), array([0.59607843, 0.98431373, 0.59607843, 0.2       ]), array([0.18431373, 0.30980392, 0.30980392, 0.2       ]), array([0.37254902, 0.61960784, 0.62745098, 0.2       ]), array([0.64705882, 0.16470588, 0.16470588, 0.2       ]), array([0.13333333, 0.54509804, 0.13333333, 0.2       ]), array([0. , 0. , 1. , 0.2]), array([0.        , 0.50196078, 0.        , 0.2       ]), array([1. , 0. , 0. , 0.2]), array([0. , 1. , 1. , 0.2]), array([1. , 0. , 1. , 0.2]), array([0. , 0. , 0. , 0.2]), array([0.50196078, 0.50196078, 0.50196078, 0.2       ]), array([0.09803922, 0.09803922, 0.43921569, 0.2       ]), array([1.        , 0.75294118, 0.79607843, 0.2       ]), array([0.8627451 , 0.07843137, 0.23529412, 0.2       ]), array([1.        , 0.64705882, 0.        , 0.2       ]), array([0.50196078, 0.50196078, 0.        , 0.2       ]), array([0.95686275, 0.64313725, 0.37647059, 0.2       ]), array([0.82352941, 0.70588235, 0.54901961, 0.2       ]), array([1.        , 0.84313725, 0.        , 0.2       ]), array([0.59607843, 0.98431373, 0.59607843, 0.2       ]), array([0.18431373, 0.30980392, 0.30980392, 0.2       ]), array([0.37254902, 0.61960784, 0.62745098, 0.2       ]), array([0.64705882, 0.16470588, 0.16470588, 0.2       ]), array([0.13333333, 0.54509804, 0.13333333, 0.2       ]), array([0. , 0. , 1. , 0.2]), array([0.        , 0.50196078, 0.        , 0.2       ])]\n",
      "\n",
      " Working on visualization type: skeleton\n",
      "color_list_correct_size = [array([0., 0., 1., 1.]), array([0.        , 0.50196078, 0.        , 1.        ]), array([1., 0., 0., 1.]), array([0., 1., 1., 1.]), array([1., 0., 1., 1.]), array([0., 0., 0., 1.]), array([0.50196078, 0.50196078, 0.50196078, 1.        ]), array([0.09803922, 0.09803922, 0.43921569, 1.        ]), array([1.        , 0.75294118, 0.79607843, 1.        ]), array([0.8627451 , 0.07843137, 0.23529412, 1.        ]), array([1.        , 0.64705882, 0.        , 1.        ]), array([0.50196078, 0.50196078, 0.        , 1.        ]), array([0.95686275, 0.64313725, 0.37647059, 1.        ]), array([0.82352941, 0.70588235, 0.54901961, 1.        ]), array([1.        , 0.84313725, 0.        , 1.        ]), array([0.59607843, 0.98431373, 0.59607843, 1.        ]), array([0.18431373, 0.30980392, 0.30980392, 1.        ]), array([0.37254902, 0.61960784, 0.62745098, 1.        ]), array([0.64705882, 0.16470588, 0.16470588, 1.        ]), array([0.13333333, 0.54509804, 0.13333333, 1.        ]), array([0., 0., 1., 1.]), array([0.        , 0.50196078, 0.        , 1.        ]), array([1., 0., 0., 1.]), array([0., 1., 1., 1.]), array([1., 0., 1., 1.]), array([0., 0., 0., 1.]), array([0.50196078, 0.50196078, 0.50196078, 1.        ]), array([0.09803922, 0.09803922, 0.43921569, 1.        ]), array([1.        , 0.75294118, 0.79607843, 1.        ]), array([0.8627451 , 0.07843137, 0.23529412, 1.        ]), array([1.        , 0.64705882, 0.        , 1.        ]), array([0.50196078, 0.50196078, 0.        , 1.        ]), array([0.95686275, 0.64313725, 0.37647059, 1.        ]), array([0.82352941, 0.70588235, 0.54901961, 1.        ]), array([1.        , 0.84313725, 0.        , 1.        ]), array([0.59607843, 0.98431373, 0.59607843, 1.        ]), array([0.18431373, 0.30980392, 0.30980392, 1.        ]), array([0.37254902, 0.61960784, 0.62745098, 1.        ]), array([0.64705882, 0.16470588, 0.16470588, 1.        ]), array([0.13333333, 0.54509804, 0.13333333, 1.        ]), array([0., 0., 1., 1.]), array([0.        , 0.50196078, 0.        , 1.        ])]\n"
     ]
    },
    {
     "data": {
      "application/vnd.jupyter.widget-view+json": {
       "model_id": "46b7837830d64d118bfeba9e4b844c1c",
       "version_major": 2,
       "version_minor": 0
      },
      "text/plain": [
       "HBox(children=(FloatSlider(value=0.3, description='Size', max=3.0), Dropdown(description='Geo', index=3, optio…"
      ]
     },
     "metadata": {},
     "output_type": "display_data"
    },
    {
     "data": {
      "application/vnd.jupyter.widget-view+json": {
       "model_id": "090ddd9dc915404598b997116dcf59d1",
       "version_major": 2,
       "version_minor": 0
      },
      "text/plain": [
       "HBox(children=(FloatSlider(value=0.3, description='Size', max=3.0), Dropdown(description='Geo', index=3, optio…"
      ]
     },
     "metadata": {},
     "output_type": "display_data"
    },
    {
     "data": {
      "application/vnd.jupyter.widget-view+json": {
       "model_id": "111642935388478db5a12d811f884347",
       "version_major": 2,
       "version_minor": 0
      },
      "text/plain": [
       "Container(figure=Figure(box_center=[0.5, 0.5, 0.5], box_size=[1.0, 1.0, 1.0], camera=PerspectiveCamera(fov=45.…"
      ]
     },
     "metadata": {},
     "output_type": "display_data"
    }
   ],
   "source": [
    "syu.plot_synapses(neuron_obj_attr)"
   ]
  },
  {
   "cell_type": "code",
   "execution_count": 48,
   "id": "03f4ef63",
   "metadata": {
    "scrolled": true
   },
   "outputs": [
    {
     "name": "stdout",
     "output_type": "stream",
     "text": [
      "Total time for spine filtering: 1.8957409858703613\n",
      "Total time for fitlering spines by size 1.895857334136963\n",
      "\n",
      "Number of segments: 2\n",
      "\n",
      "\n",
      "Number of segments: 2\n",
      "\n",
      "\n",
      "Number of segments: 2\n",
      "\n",
      "\n",
      "Number of segments: 2\n",
      "\n",
      "\n",
      "Number of segments: 2\n",
      "\n",
      "\n",
      "Number of segments: 4\n",
      "\n",
      "\n",
      "Number of segments: 3\n",
      "\n",
      "\n",
      "Number of segments: 3\n",
      "\n",
      "\n",
      "Number of segments: 3\n",
      "\n",
      "\n",
      "Number of segments: 1\n",
      "\n",
      "\n",
      "Number of segments: 4\n",
      "\n",
      "\n",
      "Number of segments: 4\n",
      "\n",
      "\n",
      "Number of segments: 3\n",
      "\n",
      "\n",
      "Number of segments: 2\n",
      "\n",
      "\n",
      "Number of segments: 5\n",
      "\n",
      "\n",
      "Number of segments: 1\n",
      "\n",
      "\n",
      "Number of segments: 1\n",
      "\n",
      "\n",
      "Number of segments: 1\n",
      "\n",
      "\n",
      "Number of segments: 1\n",
      "\n",
      "\n",
      "Number of segments: 2\n",
      "\n",
      "\n",
      "Number of segments: 2\n",
      "\n",
      "\n",
      "Number of segments: 2\n",
      "\n",
      "\n",
      "Number of segments: 2\n",
      "\n",
      "\n",
      "Number of segments: 2\n",
      "\n",
      "\n",
      "Number of segments: 2\n",
      "\n",
      "\n",
      "Number of segments: 2\n",
      "\n",
      "\n",
      "Number of segments: 2\n",
      "\n",
      "\n",
      "Number of segments: 3\n",
      "\n",
      "\n",
      "Number of segments: 3\n",
      "\n",
      "\n",
      "Number of segments: 2\n",
      "\n",
      "\n",
      "Number of segments: 1\n",
      "\n",
      "\n",
      "Number of segments: 1\n",
      "\n",
      "\n",
      "Number of segments: 1\n",
      "\n",
      "\n",
      "Number of segments: 2\n",
      "\n",
      "\n",
      "Number of segments: 2\n",
      "\n",
      "\n",
      "Number of segments: 2\n",
      "\n",
      "\n",
      "Number of segments: 2\n",
      "\n",
      "\n",
      "Number of segments: 2\n",
      "\n",
      "\n",
      "Number of segments: 2\n",
      "\n",
      "\n",
      "Number of segments: 2\n",
      "\n",
      "\n",
      "Number of segments: 2\n",
      "\n",
      "\n",
      "Number of segments: 2\n",
      "\n",
      "\n",
      "Number of segments: 1\n",
      "\n",
      "\n",
      "Number of segments: 1\n",
      "\n",
      "\n",
      "Number of segments: 1\n",
      "\n",
      "\n",
      "Number of segments: 2\n",
      "\n",
      "\n",
      "Number of segments: 2\n",
      "\n",
      "\n",
      "Number of segments: 2\n",
      "\n",
      "\n",
      "Number of segments: 2\n",
      "\n",
      "\n",
      "Number of segments: 1\n",
      "\n",
      "\n",
      "Number of segments: 1\n",
      "\n",
      "\n",
      "Number of segments: 2\n",
      "\n",
      "\n",
      "Number of segments: 2\n",
      "\n",
      "\n",
      "Number of segments: 2\n",
      "\n",
      "\n",
      "Number of segments: 2\n",
      "\n",
      "\n",
      "Number of segments: 2\n",
      "\n",
      "\n",
      "Number of segments: 2\n",
      "\n",
      "\n",
      "Number of segments: 2\n",
      "\n",
      "\n",
      "Number of segments: 2\n",
      "\n",
      "\n",
      "Number of segments: 2\n",
      "\n",
      "\n",
      "Number of segments: 2\n",
      "\n",
      "\n",
      "Number of segments: 2\n",
      "\n",
      "\n",
      "Number of segments: 2\n",
      "\n",
      "\n",
      "Number of segments: 1\n",
      "\n",
      "\n",
      "Number of segments: 1\n",
      "\n",
      "\n",
      "Number of segments: 1\n",
      "\n",
      "\n",
      "Number of segments: 2\n",
      "\n",
      "\n",
      "Number of segments: 3\n",
      "\n",
      "\n",
      "Number of segments: 2\n",
      "\n",
      "\n",
      "Number of segments: 2\n",
      "\n",
      "\n",
      "Number of segments: 2\n",
      "\n",
      "\n",
      "Number of segments: 3\n",
      "\n",
      "\n",
      "Number of segments: 2\n",
      "\n",
      "\n",
      "Number of segments: 2\n",
      "\n",
      "\n",
      "Number of segments: 2\n",
      "\n",
      "\n",
      "Number of segments: 1\n",
      "\n",
      "\n",
      "Number of segments: 1\n",
      "\n",
      "\n",
      "Number of segments: 1\n",
      "\n",
      "\n",
      "Number of segments: 2\n",
      "\n",
      "\n",
      "Number of segments: 2\n",
      "\n",
      "\n",
      "Number of segments: 2\n",
      "\n",
      "\n",
      "Number of segments: 2\n",
      "\n",
      "\n",
      "Number of segments: 3\n",
      "\n",
      "\n",
      "Number of segments: 3\n",
      "\n",
      "\n",
      "Number of segments: 1\n",
      "\n",
      "\n",
      "Number of segments: 2\n",
      "\n",
      "\n",
      "Number of segments: 2\n",
      "\n",
      "\n",
      "Number of segments: 4\n",
      "\n",
      "\n",
      "Number of segments: 4\n",
      "\n",
      "\n",
      "Number of segments: 5\n",
      "\n",
      "\n",
      "Number of segments: 2\n",
      "\n",
      "\n",
      "Number of segments: 2\n",
      "\n",
      "\n",
      "Number of segments: 2\n",
      "\n",
      "\n",
      "Number of segments: 2\n",
      "\n",
      "\n",
      "Number of segments: 2\n",
      "\n",
      "\n",
      "Number of segments: 2\n",
      "\n",
      "\n",
      "Number of segments: 3\n",
      "\n",
      "\n",
      "Number of segments: 3\n",
      "\n",
      "\n",
      "Number of segments: 3\n",
      "\n",
      "\n",
      "Number of segments: 2\n",
      "\n",
      "\n",
      "Number of segments: 3\n",
      "\n",
      "\n",
      "Number of segments: 4\n",
      "\n",
      "\n",
      "Number of segments: 2\n",
      "\n",
      "\n",
      "Number of segments: 3\n",
      "\n",
      "\n",
      "Number of segments: 3\n",
      "\n",
      "\n",
      "Number of segments: 1\n",
      "\n",
      "\n",
      "Number of segments: 2\n",
      "\n",
      "\n",
      "Number of segments: 2\n",
      "\n",
      "\n",
      "Number of segments: 2\n",
      "\n",
      "\n",
      "Number of segments: 2\n",
      "\n",
      "\n",
      "Number of segments: 2\n",
      "\n",
      "\n",
      "Number of segments: 2\n",
      "\n",
      "\n",
      "Number of segments: 2\n",
      "\n",
      "\n",
      "Number of segments: 2\n",
      "\n",
      "\n",
      "Number of segments: 1\n",
      "\n",
      "\n",
      "Number of segments: 2\n",
      "\n",
      "\n",
      "Number of segments: 2\n",
      "\n",
      "\n",
      "Number of segments: 2\n",
      "\n",
      "\n",
      "Number of segments: 2\n",
      "\n",
      "\n",
      "Number of segments: 2\n",
      "\n",
      "\n",
      "Number of segments: 2\n",
      "\n",
      "\n",
      "Number of segments: 1\n",
      "\n",
      "\n",
      "Number of segments: 1\n",
      "\n",
      "\n",
      "Number of segments: 2\n",
      "\n",
      "\n",
      "Number of segments: 2\n",
      "\n",
      "\n",
      "Number of segments: 2\n",
      "\n",
      "\n",
      "Number of segments: 2\n",
      "\n",
      "\n",
      "Number of segments: 2\n",
      "\n",
      "\n",
      "Number of segments: 2\n",
      "\n",
      "\n",
      "Number of segments: 2\n",
      "\n",
      "\n",
      "Number of segments: 2\n",
      "\n",
      "\n",
      "Number of segments: 3\n",
      "\n",
      "\n",
      "Number of segments: 2\n",
      "\n",
      "\n",
      "Number of segments: 2\n",
      "\n",
      "\n",
      "Number of segments: 2\n",
      "\n",
      "\n",
      "Number of segments: 1\n",
      "\n",
      "\n",
      "Number of segments: 1\n",
      "\n",
      "\n",
      "Number of segments: 1\n",
      "\n",
      "\n",
      "Number of segments: 1\n",
      "\n",
      "\n",
      "Number of segments: 2\n",
      "\n",
      "\n",
      "Number of segments: 1\n",
      "\n",
      "\n",
      "Number of segments: 1\n",
      "\n",
      "\n",
      "Number of segments: 1\n",
      "\n",
      "\n",
      "Number of segments: 1\n",
      "\n",
      "\n",
      "Number of segments: 1\n",
      "\n",
      "\n",
      "Number of segments: 1\n",
      "\n",
      "\n",
      "Number of segments: 1\n",
      "\n",
      "\n",
      "Number of segments: 1\n",
      "\n",
      "\n",
      "Number of segments: 1\n",
      "\n",
      "\n",
      "Number of segments: 1\n",
      "\n",
      "\n",
      "Number of segments: 2\n",
      "\n",
      "\n",
      "Number of segments: 2\n",
      "\n",
      "\n",
      "Number of segments: 2\n",
      "\n",
      "\n",
      "Number of segments: 3\n",
      "\n",
      "\n",
      "Number of segments: 4\n",
      "\n",
      "\n",
      "Number of segments: 4\n",
      "\n",
      "\n",
      "Number of segments: 2\n",
      "\n",
      "\n",
      "Number of segments: 2\n",
      "\n",
      "\n",
      "Number of segments: 2\n",
      "\n",
      "\n",
      "Number of segments: 2\n",
      "\n",
      "\n",
      "Number of segments: 2\n",
      "\n",
      "\n",
      "Number of segments: 2\n",
      "\n",
      "\n",
      "Number of segments: 2\n",
      "\n",
      "\n",
      "Number of segments: 2\n",
      "\n",
      "\n",
      "Number of segments: 2\n",
      "\n",
      "\n",
      "Number of segments: 2\n",
      "\n",
      "\n",
      "Number of segments: 2\n",
      "\n",
      "\n",
      "Number of segments: 2\n",
      "\n",
      "\n",
      "Number of segments: 6\n",
      "\n",
      "\n",
      "Number of segments: 6\n",
      "\n",
      "\n",
      "Number of segments: 7\n",
      "\n",
      "\n",
      "Number of segments: 3\n",
      "\n",
      "\n",
      "Number of segments: 3\n",
      "\n",
      "\n",
      "Number of segments: 4\n",
      "\n",
      "\n",
      "Number of segments: 1\n",
      "\n",
      "\n",
      "Number of segments: 2\n",
      "\n",
      "\n",
      "Number of segments: 2\n",
      "\n",
      "\n",
      "Number of segments: 1\n",
      "\n",
      "\n",
      "Number of segments: 2\n",
      "\n",
      "\n",
      "Number of segments: 2\n",
      "\n",
      "\n",
      "Number of segments: 2\n",
      "\n",
      "\n",
      "Number of segments: 1\n",
      "\n",
      "\n",
      "Number of segments: 2\n",
      "\n",
      "\n",
      "Number of segments: 2\n",
      "\n",
      "\n",
      "Number of segments: 1\n",
      "\n",
      "\n",
      "Number of segments: 2\n",
      "\n",
      "\n",
      "Number of segments: 2\n",
      "\n",
      "\n",
      "Number of segments: 2\n",
      "\n",
      "\n",
      "Number of segments: 2\n",
      "\n",
      "\n",
      "Number of segments: 3\n",
      "\n",
      "\n",
      "Number of segments: 1\n",
      "\n",
      "\n",
      "Number of segments: 3\n",
      "\n",
      "\n",
      "Number of segments: 2\n",
      "\n",
      "\n",
      "Number of segments: 2\n",
      "\n",
      "\n",
      "Number of segments: 2\n",
      "\n",
      "\n",
      "Number of segments: 2\n",
      "\n",
      "\n",
      "Number of segments: 2\n",
      "\n",
      "\n",
      "Number of segments: 2\n",
      "\n",
      "\n",
      "Number of segments: 2\n",
      "\n",
      "\n",
      "Number of segments: 2\n",
      "\n",
      "\n",
      "Number of segments: 2\n",
      "\n",
      "\n",
      "Number of segments: 2\n",
      "\n",
      "\n",
      "Number of segments: 2\n",
      "\n",
      "\n",
      "Number of segments: 2\n",
      "\n",
      "\n",
      "Number of segments: 1\n",
      "\n",
      "\n",
      "Number of segments: 2\n",
      "\n",
      "\n",
      "Number of segments: 2\n",
      "\n",
      "\n",
      "Number of segments: 2\n",
      "\n",
      "\n",
      "Number of segments: 1\n",
      "\n",
      "\n",
      "Number of segments: 2\n",
      "\n",
      "\n",
      "Number of segments: 2\n",
      "\n",
      "\n",
      "Number of segments: 2\n",
      "\n",
      "\n",
      "Number of segments: 2\n",
      "\n",
      "\n",
      "Number of segments: 2\n",
      "\n",
      "\n",
      "Number of segments: 2\n",
      "\n",
      "\n",
      "Number of segments: 2\n",
      "\n",
      "\n",
      "Number of segments: 1\n",
      "\n",
      "\n",
      "Number of segments: 3\n",
      "\n",
      "\n",
      "Number of segments: 2\n",
      "\n",
      "\n",
      "Number of segments: 1\n",
      "\n",
      "\n",
      "Number of segments: 2\n",
      "\n",
      "\n",
      "Number of segments: 2\n",
      "\n",
      "\n",
      "Number of segments: 2\n",
      "\n",
      "\n",
      "Number of segments: 2\n",
      "\n",
      "\n",
      "Number of segments: 2\n",
      "\n",
      "\n",
      "Number of segments: 1\n",
      "\n",
      "\n",
      "Number of segments: 1\n",
      "\n",
      "\n",
      "Number of segments: 1\n",
      "\n",
      "\n",
      "Number of segments: 2\n",
      "\n",
      "\n",
      "Number of segments: 1\n",
      "\n",
      "\n",
      "Number of segments: 1\n",
      "\n",
      "\n",
      "Number of segments: 2\n",
      "\n",
      "\n",
      "Number of segments: 2\n",
      "\n",
      "\n",
      "Number of segments: 2\n",
      "\n",
      "\n",
      "Number of segments: 1\n",
      "\n",
      "\n",
      "Number of segments: 1\n",
      "\n",
      "\n",
      "Number of segments: 1\n",
      "\n",
      "\n",
      "Number of segments: 1\n",
      "\n",
      "\n",
      "Number of segments: 1\n",
      "\n",
      "\n",
      "Number of segments: 1\n",
      "\n",
      "\n",
      "Number of segments: 2\n",
      "\n",
      "\n",
      "Number of segments: 2\n",
      "\n",
      "\n",
      "Number of segments: 2\n",
      "\n",
      "\n",
      "Number of segments: 2\n",
      "\n",
      "\n",
      "Number of segments: 3\n",
      "\n",
      "\n",
      "Number of segments: 3\n",
      "\n",
      "\n",
      "Number of segments: 2\n",
      "\n",
      "\n",
      "Number of segments: 2\n",
      "\n",
      "\n",
      "Number of segments: 2\n",
      "\n",
      "\n",
      "Number of segments: 2\n",
      "\n",
      "\n",
      "Number of segments: 2\n",
      "\n",
      "\n",
      "Number of segments: 2\n",
      "\n",
      "\n",
      "Number of segments: 1\n",
      "\n",
      "\n",
      "Number of segments: 1\n",
      "\n",
      "\n",
      "Number of segments: 1\n",
      "\n",
      "\n",
      "Number of segments: 2\n",
      "\n",
      "\n",
      "Number of segments: 2\n",
      "\n",
      "\n",
      "Number of segments: 2\n",
      "\n",
      "\n",
      "Number of segments: 2\n",
      "\n",
      "\n",
      "Number of segments: 2\n",
      "\n",
      "\n",
      "Number of segments: 2\n",
      "\n",
      "\n",
      "Number of segments: 2\n",
      "\n",
      "\n",
      "Number of segments: 3\n",
      "\n",
      "\n",
      "Number of segments: 3\n",
      "\n",
      "\n",
      "Number of segments: 2\n",
      "\n",
      "\n",
      "Number of segments: 2\n",
      "\n",
      "\n",
      "Number of segments: 2\n",
      "\n",
      "\n",
      "Number of segments: 3\n",
      "\n",
      "\n",
      "Number of segments: 3\n",
      "\n",
      "\n",
      "Number of segments: 3\n",
      "\n",
      "\n",
      "Number of segments: 2\n",
      "\n",
      "\n",
      "Number of segments: 2\n",
      "\n",
      "\n",
      "Number of segments: 1\n",
      "\n",
      "\n",
      "Number of segments: 1\n",
      "\n",
      "\n",
      "Number of segments: 2\n",
      "\n",
      "\n",
      "Number of segments: 3\n",
      "\n",
      "\n",
      "Number of segments: 2\n",
      "\n",
      "\n",
      "Number of segments: 2\n",
      "\n",
      "\n",
      "Number of segments: 2\n",
      "\n",
      "\n",
      "Number of segments: 1\n",
      "\n",
      "\n",
      "Number of segments: 1\n",
      "\n",
      "\n",
      "Number of segments: 1\n",
      "\n",
      "\n",
      "Number of segments: 1\n",
      "\n",
      "\n",
      "Number of segments: 2\n",
      "\n",
      "\n",
      "Number of segments: 2\n",
      "\n",
      "\n",
      "Number of segments: 2\n",
      "\n",
      "\n",
      "Number of segments: 2\n",
      "\n",
      "\n",
      "Number of segments: 2\n",
      "\n",
      "\n",
      "Number of segments: 2\n",
      "\n",
      "\n",
      "Number of segments: 2\n",
      "\n",
      "\n",
      "Number of segments: 2\n",
      "\n",
      "\n",
      "Number of segments: 2\n",
      "\n",
      "\n",
      "Number of segments: 3\n",
      "\n",
      "\n",
      "Number of segments: 2\n",
      "\n",
      "\n",
      "Number of segments: 2\n",
      "\n",
      "\n",
      "Number of segments: 1\n",
      "\n",
      "\n",
      "Number of segments: 2\n",
      "\n",
      "\n",
      "Number of segments: 2\n",
      "\n",
      "\n",
      "Number of segments: 2\n",
      "\n",
      "\n",
      "Number of segments: 2\n",
      "\n",
      "\n",
      "Number of segments: 1\n",
      "\n",
      "\n",
      "Number of segments: 2\n",
      "\n",
      "\n",
      "Number of segments: 2\n",
      "\n",
      "\n",
      "Number of segments: 2\n",
      "\n",
      "\n",
      "Number of segments: 2\n",
      "\n",
      "\n",
      "Number of segments: 2\n",
      "\n",
      "\n",
      "Number of segments: 1\n",
      "\n",
      "\n",
      "Number of segments: 1\n",
      "\n",
      "\n",
      "Number of segments: 3\n",
      "\n",
      "\n",
      "Number of segments: 1\n",
      "\n",
      "\n",
      "Number of segments: 1\n",
      "\n",
      "\n",
      "Number of segments: 1\n",
      "\n",
      "\n",
      "Number of segments: 2\n",
      "\n",
      "\n",
      "Number of segments: 3\n",
      "\n",
      "\n",
      "Number of segments: 3\n",
      "\n",
      "\n",
      "Number of segments: 2\n",
      "\n",
      "\n",
      "Number of segments: 2\n",
      "\n",
      "\n",
      "Number of segments: 2\n",
      "\n",
      "\n",
      "Number of segments: 2\n",
      "\n",
      "\n",
      "Number of segments: 2\n",
      "\n",
      "\n",
      "Number of segments: 3\n",
      "\n",
      "\n",
      "Number of segments: 3\n",
      "\n",
      "\n",
      "Number of segments: 3\n",
      "\n",
      "\n",
      "Number of segments: 3\n",
      "\n",
      "\n",
      "Number of segments: 2\n",
      "\n",
      "\n",
      "Number of segments: 2\n",
      "\n",
      "\n",
      "Number of segments: 2\n",
      "\n",
      "\n",
      "Number of segments: 1\n",
      "\n",
      "\n",
      "Number of segments: 2\n",
      "\n",
      "\n",
      "Number of segments: 4\n",
      "\n",
      "\n",
      "Number of segments: 2\n",
      "\n",
      "\n",
      "Number of segments: 2\n",
      "\n",
      "\n",
      "Number of segments: 2\n",
      "\n",
      "\n",
      "Number of segments: 2\n",
      "\n",
      "\n",
      "Number of segments: 1\n",
      "\n",
      "\n",
      "Number of segments: 1\n",
      "\n",
      "\n",
      "Number of segments: 1\n",
      "\n",
      "\n",
      "Number of segments: 3\n",
      "\n",
      "\n",
      "Number of segments: 3\n",
      "\n"
     ]
    },
    {
     "name": "stdout",
     "output_type": "stream",
     "text": [
      "\n",
      "Number of segments: 1\n",
      "\n",
      "\n",
      "Number of segments: 2\n",
      "\n",
      "\n",
      "Number of segments: 2\n",
      "\n",
      "\n",
      "Number of segments: 2\n",
      "\n",
      "\n",
      "Number of segments: 2\n",
      "\n",
      "\n",
      "Number of segments: 2\n",
      "\n",
      "\n",
      "Number of segments: 1\n",
      "\n",
      "\n",
      "Number of segments: 1\n",
      "\n",
      "\n",
      "Number of segments: 1\n",
      "\n",
      "\n",
      "Number of segments: 2\n",
      "\n",
      "\n",
      "Number of segments: 3\n",
      "\n",
      "\n",
      "Number of segments: 4\n",
      "\n",
      "\n",
      "Number of segments: 1\n",
      "\n",
      "\n",
      "Number of segments: 3\n",
      "\n",
      "\n",
      "Number of segments: 3\n",
      "\n",
      "\n",
      "Number of segments: 2\n",
      "\n",
      "\n",
      "Number of segments: 2\n",
      "\n",
      "\n",
      "Number of segments: 2\n",
      "\n",
      "\n",
      "Number of segments: 2\n",
      "\n",
      "\n",
      "Number of segments: 2\n",
      "\n",
      "\n",
      "Number of segments: 3\n",
      "\n",
      "\n",
      "Number of segments: 2\n",
      "\n",
      "\n",
      "Number of segments: 2\n",
      "\n",
      "\n",
      "Number of segments: 2\n",
      "\n",
      "\n",
      "Number of segments: 2\n",
      "\n",
      "\n",
      "Number of segments: 2\n",
      "\n",
      "\n",
      "Number of segments: 2\n",
      "\n",
      "\n",
      "Number of segments: 2\n",
      "\n",
      "\n",
      "Number of segments: 2\n",
      "\n",
      "\n",
      "Number of segments: 3\n",
      "\n",
      "\n",
      "Number of segments: 2\n",
      "\n",
      "\n",
      "Number of segments: 2\n",
      "\n",
      "\n",
      "Number of segments: 2\n",
      "\n",
      "\n",
      "Number of segments: 2\n",
      "\n",
      "\n",
      "Number of segments: 3\n",
      "\n",
      "\n",
      "Number of segments: 3\n",
      "\n",
      "\n",
      "Number of segments: 2\n",
      "\n",
      "\n",
      "Number of segments: 2\n",
      "\n",
      "\n",
      "Number of segments: 2\n",
      "\n",
      "\n",
      "Number of segments: 1\n",
      "\n",
      "\n",
      "Number of segments: 3\n",
      "\n",
      "\n",
      "Number of segments: 2\n",
      "\n",
      "\n",
      "Number of segments: 2\n",
      "\n",
      "\n",
      "Number of segments: 2\n",
      "\n",
      "\n",
      "Number of segments: 2\n",
      "\n",
      "\n",
      "Number of segments: 2\n",
      "\n",
      "\n",
      "Number of segments: 2\n",
      "\n",
      "\n",
      "Number of segments: 2\n",
      "\n",
      "\n",
      "Number of segments: 1\n",
      "\n",
      "\n",
      "Number of segments: 2\n",
      "\n",
      "\n",
      "Number of segments: 3\n",
      "\n",
      "\n",
      "Number of segments: 2\n",
      "\n",
      "\n",
      "Number of segments: 2\n",
      "\n",
      "\n",
      "Number of segments: 2\n",
      "\n",
      "\n",
      "Number of segments: 2\n",
      "\n",
      "\n",
      "Number of segments: 2\n",
      "\n",
      "\n",
      "Number of segments: 2\n",
      "\n",
      "\n",
      "Number of segments: 1\n",
      "\n",
      "\n",
      "Number of segments: 2\n",
      "\n",
      "\n",
      "Number of segments: 1\n",
      "\n",
      "\n",
      "Number of segments: 2\n",
      "\n",
      "\n",
      "Number of segments: 2\n",
      "\n",
      "\n",
      "Number of segments: 2\n",
      "\n",
      "\n",
      "Number of segments: 1\n",
      "\n",
      "\n",
      "Number of segments: 2\n",
      "\n",
      "\n",
      "Number of segments: 1\n",
      "\n",
      "\n",
      "Number of segments: 2\n",
      "\n",
      "\n",
      "Number of segments: 2\n",
      "\n",
      "\n",
      "Number of segments: 2\n",
      "\n",
      "\n",
      "Number of segments: 2\n",
      "\n",
      "\n",
      "Number of segments: 2\n",
      "\n",
      "\n",
      "Number of segments: 2\n",
      "\n",
      "\n",
      "Number of segments: 2\n",
      "\n",
      "\n",
      "Number of segments: 2\n",
      "\n",
      "\n",
      "Number of segments: 2\n",
      "\n",
      "\n",
      "Number of segments: 2\n",
      "\n",
      "\n",
      "Number of segments: 3\n",
      "\n",
      "\n",
      "Number of segments: 3\n",
      "\n",
      "\n",
      "Number of segments: 2\n",
      "\n",
      "\n",
      "Number of segments: 2\n",
      "\n",
      "\n",
      "Number of segments: 2\n",
      "\n",
      "\n",
      "Number of segments: 2\n",
      "\n",
      "\n",
      "Number of segments: 2\n",
      "\n",
      "\n",
      "Number of segments: 2\n",
      "\n",
      "\n",
      "Number of segments: 2\n",
      "\n",
      "\n",
      "Number of segments: 2\n",
      "\n",
      "\n",
      "Number of segments: 2\n",
      "\n",
      "\n",
      "Number of segments: 2\n",
      "\n",
      "\n",
      "Number of segments: 2\n",
      "\n",
      "\n",
      "Number of segments: 2\n",
      "\n",
      "\n",
      "Number of segments: 1\n",
      "\n",
      "\n",
      "Number of segments: 2\n",
      "\n",
      "\n",
      "Number of segments: 2\n",
      "\n",
      "\n",
      "Number of segments: 2\n",
      "\n",
      "\n",
      "Number of segments: 2\n",
      "\n",
      "\n",
      "Number of segments: 2\n",
      "\n",
      "\n",
      "Number of segments: 2\n",
      "\n",
      "\n",
      "Number of segments: 2\n",
      "\n",
      "\n",
      "Number of segments: 2\n",
      "\n",
      "\n",
      "Number of segments: 1\n",
      "\n",
      "\n",
      "Number of segments: 1\n",
      "\n",
      "\n",
      "Number of segments: 1\n",
      "\n",
      "\n",
      "Number of segments: 2\n",
      "\n",
      "\n",
      "Number of segments: 2\n",
      "\n",
      "\n",
      "Number of segments: 2\n",
      "\n",
      "\n",
      "Number of segments: 1\n",
      "\n",
      "\n",
      "Number of segments: 1\n",
      "\n",
      "\n",
      "Number of segments: 1\n",
      "\n",
      "\n",
      "Number of segments: 2\n",
      "\n",
      "\n",
      "Number of segments: 2\n",
      "\n",
      "\n",
      "Number of segments: 2\n",
      "\n",
      "\n",
      "Number of segments: 1\n",
      "\n",
      "\n",
      "Number of segments: 2\n",
      "\n",
      "\n",
      "Number of segments: 2\n",
      "\n",
      "\n",
      "Number of segments: 2\n",
      "\n",
      "\n",
      "Number of segments: 2\n",
      "\n",
      "\n",
      "Number of segments: 2\n",
      "\n",
      "\n",
      "Number of segments: 1\n",
      "\n",
      "\n",
      "Number of segments: 1\n",
      "\n",
      "\n",
      "Number of segments: 1\n",
      "\n",
      "\n",
      "Number of segments: 2\n",
      "\n",
      "\n",
      "Number of segments: 2\n",
      "\n",
      "\n",
      "Number of segments: 2\n",
      "\n",
      "\n",
      "Number of segments: 1\n",
      "\n",
      "\n",
      "Number of segments: 2\n",
      "\n",
      "\n",
      "Number of segments: 2\n",
      "\n",
      "\n",
      "Number of segments: 1\n",
      "\n",
      "\n",
      "Number of segments: 1\n",
      "\n",
      "\n",
      "Number of segments: 1\n",
      "\n",
      "\n",
      "Number of segments: 1\n",
      "\n",
      "\n",
      "Number of segments: 1\n",
      "\n",
      "\n",
      "Number of segments: 1\n",
      "\n",
      "\n",
      "Number of segments: 2\n",
      "\n",
      "\n",
      "Number of segments: 2\n",
      "\n",
      "\n",
      "Number of segments: 3\n",
      "\n",
      "\n",
      "Number of segments: 1\n",
      "\n",
      "\n",
      "Number of segments: 2\n",
      "\n",
      "\n",
      "Number of segments: 2\n",
      "\n",
      "\n",
      "Number of segments: 1\n",
      "\n",
      "\n",
      "Number of segments: 2\n",
      "\n",
      "\n",
      "Number of segments: 2\n",
      "\n",
      "\n",
      "Number of segments: 1\n",
      "\n",
      "\n",
      "Number of segments: 2\n",
      "\n",
      "\n",
      "Number of segments: 2\n",
      "\n",
      "\n",
      "Number of segments: 1\n",
      "\n",
      "\n",
      "Number of segments: 2\n",
      "\n",
      "\n",
      "Number of segments: 2\n",
      "\n",
      "\n",
      "Number of segments: 2\n",
      "\n",
      "\n",
      "Number of segments: 2\n",
      "\n",
      "\n",
      "Number of segments: 2\n",
      "\n",
      "\n",
      "Number of segments: 2\n",
      "\n",
      "\n",
      "Number of segments: 2\n",
      "\n",
      "\n",
      "Number of segments: 2\n",
      "\n",
      "\n",
      "Number of segments: 1\n",
      "\n",
      "\n",
      "Number of segments: 1\n",
      "\n",
      "\n",
      "Number of segments: 2\n",
      "\n",
      "\n",
      "Number of segments: 2\n",
      "\n",
      "\n",
      "Number of segments: 2\n",
      "\n",
      "\n",
      "Number of segments: 2\n",
      "\n",
      "\n",
      "Number of segments: 1\n",
      "\n",
      "\n",
      "Number of segments: 2\n",
      "\n",
      "\n",
      "Number of segments: 2\n",
      "\n",
      "\n",
      "Number of segments: 1\n",
      "\n",
      "\n",
      "Number of segments: 1\n",
      "\n",
      "\n",
      "Number of segments: 2\n",
      "\n",
      "\n",
      "Number of segments: 1\n",
      "\n",
      "\n",
      "Number of segments: 2\n",
      "\n",
      "\n",
      "Number of segments: 2\n",
      "\n",
      "\n",
      "Number of segments: 2\n",
      "\n",
      "\n",
      "Number of segments: 2\n",
      "\n",
      "\n",
      "Number of segments: 2\n",
      "\n",
      "\n",
      "Number of segments: 2\n",
      "\n",
      "\n",
      "Number of segments: 2\n",
      "\n",
      "\n",
      "Number of segments: 1\n",
      "\n",
      "\n",
      "Number of segments: 1\n",
      "\n",
      "\n",
      "Number of segments: 1\n",
      "\n",
      "\n",
      "Number of segments: 1\n",
      "\n",
      "\n",
      "Number of segments: 2\n",
      "\n",
      "\n",
      "Number of segments: 2\n",
      "\n",
      "\n",
      "Number of segments: 2\n",
      "\n",
      "\n",
      "Number of segments: 1\n",
      "\n",
      "\n",
      "Number of segments: 1\n",
      "\n",
      "\n",
      "Number of segments: 1\n",
      "\n",
      "\n",
      "Number of segments: 1\n",
      "\n",
      "\n",
      "Number of segments: 1\n",
      "\n",
      "\n",
      "Number of segments: 2\n",
      "\n",
      "\n",
      "Number of segments: 1\n",
      "\n",
      "\n",
      "Number of segments: 1\n",
      "\n",
      "\n",
      "Number of segments: 5\n",
      "\n",
      "\n",
      "Number of segments: 1\n",
      "\n",
      "\n",
      "Number of segments: 2\n",
      "\n",
      "\n",
      "Number of segments: 2\n",
      "\n",
      "\n",
      "Number of segments: 2\n",
      "\n",
      "\n",
      "Number of segments: 2\n",
      "\n",
      "\n",
      "Number of segments: 2\n",
      "\n",
      "\n",
      "Number of segments: 2\n",
      "\n",
      "\n",
      "Number of segments: 2\n",
      "\n",
      "\n",
      "Number of segments: 2\n",
      "\n",
      "\n",
      "Number of segments: 3\n",
      "\n",
      "\n",
      "Number of segments: 2\n",
      "\n",
      "\n",
      "Number of segments: 3\n",
      "\n",
      "\n",
      "Number of segments: 1\n",
      "\n",
      "\n",
      "Number of segments: 3\n",
      "\n",
      "\n",
      "Number of segments: 4\n",
      "\n",
      "\n",
      "Number of segments: 2\n",
      "\n",
      "\n",
      "Number of segments: 3\n",
      "\n",
      "\n",
      "Number of segments: 2\n",
      "\n",
      "\n",
      "Number of segments: 2\n",
      "\n",
      "\n",
      "Number of segments: 2\n",
      "\n",
      "\n",
      "Number of segments: 2\n",
      "\n",
      "\n",
      "Number of segments: 1\n",
      "\n",
      "\n",
      "Number of segments: 1\n",
      "\n",
      "\n",
      "Number of segments: 2\n",
      "\n",
      "\n",
      "Number of segments: 1\n",
      "\n",
      "\n",
      "Number of segments: 1\n",
      "\n",
      "\n",
      "Number of segments: 2\n",
      "\n",
      "\n",
      "Number of segments: 2\n",
      "\n",
      "\n",
      "Number of segments: 2\n",
      "\n",
      "\n",
      "Number of segments: 3\n",
      "\n",
      "\n",
      "Number of segments: 2\n",
      "\n",
      "\n",
      "Number of segments: 2\n",
      "\n",
      "\n",
      "Number of segments: 2\n",
      "\n",
      "\n",
      "Number of segments: 2\n",
      "\n",
      "\n",
      "Number of segments: 2\n",
      "\n",
      "\n",
      "Number of segments: 2\n",
      "\n",
      "\n",
      "Number of segments: 1\n",
      "\n",
      "\n",
      "Number of segments: 2\n",
      "\n",
      "\n",
      "Number of segments: 2\n",
      "\n",
      "\n",
      "Number of segments: 2\n",
      "\n",
      "\n",
      "Number of segments: 2\n",
      "\n",
      "\n",
      "Number of segments: 2\n",
      "\n",
      "\n",
      "Number of segments: 2\n",
      "\n",
      "\n",
      "Number of segments: 3\n",
      "\n",
      "\n",
      "Number of segments: 3\n",
      "\n",
      "\n",
      "Number of segments: 1\n",
      "\n",
      "\n",
      "Number of segments: 2\n",
      "\n",
      "\n",
      "Number of segments: 2\n",
      "\n",
      "\n",
      "Number of segments: 2\n",
      "\n",
      "\n",
      "Number of segments: 2\n",
      "\n",
      "\n",
      "Number of segments: 2\n",
      "\n",
      "\n",
      "Number of segments: 2\n",
      "\n",
      "\n",
      "Number of segments: 2\n",
      "\n",
      "\n",
      "Number of segments: 2\n",
      "\n",
      "\n",
      "Number of segments: 2\n",
      "\n",
      "\n",
      "Number of segments: 1\n",
      "\n",
      "\n",
      "Number of segments: 3\n",
      "\n",
      "\n",
      "Number of segments: 1\n",
      "\n",
      "\n",
      "Number of segments: 2\n",
      "\n",
      "\n",
      "Number of segments: 3\n",
      "\n",
      "\n",
      "Number of segments: 3\n",
      "\n",
      "\n",
      "Number of segments: 3\n",
      "\n",
      "\n",
      "Number of segments: 3\n",
      "\n",
      "\n",
      "Number of segments: 1\n",
      "\n",
      "\n",
      "Number of segments: 2\n",
      "\n",
      "\n",
      "Number of segments: 1\n",
      "\n",
      "\n",
      "Number of segments: 2\n",
      "\n",
      "\n",
      "Number of segments: 1\n",
      "\n",
      "\n",
      "Number of segments: 1\n",
      "\n",
      "\n",
      "Number of segments: 1\n",
      "\n",
      "\n",
      "Number of segments: 1\n",
      "\n",
      "\n",
      "Number of segments: 1\n",
      "\n",
      "\n",
      "Number of segments: 3\n",
      "\n",
      "\n",
      "Number of segments: 1\n",
      "\n",
      "\n",
      "Number of segments: 2\n",
      "\n",
      "\n",
      "Number of segments: 1\n",
      "\n",
      "\n",
      "Number of segments: 1\n",
      "\n",
      "\n",
      "Number of segments: 2\n",
      "\n",
      "\n",
      "Number of segments: 1\n",
      "\n",
      "\n",
      "Number of segments: 1\n",
      "\n",
      "\n",
      "Number of segments: 2\n",
      "\n",
      "\n",
      "Number of segments: 2\n",
      "\n",
      "\n",
      "Number of segments: 2\n",
      "\n",
      "\n",
      "Number of segments: 2\n",
      "\n",
      "\n",
      "Number of segments: 2\n",
      "\n",
      "\n",
      "Number of segments: 4\n",
      "\n",
      "\n",
      "Number of segments: 3\n",
      "\n",
      "\n",
      "Number of segments: 4\n",
      "\n",
      "\n",
      "Number of segments: 5\n",
      "\n",
      "\n",
      "Number of segments: 5\n",
      "\n",
      "\n",
      "Number of segments: 2\n",
      "\n",
      "\n",
      "Number of segments: 2\n",
      "\n",
      "\n",
      "Number of segments: 2\n",
      "\n",
      "\n",
      "Number of segments: 2\n",
      "\n",
      "\n",
      "Number of segments: 2\n",
      "\n",
      "\n",
      "Number of segments: 3\n",
      "\n",
      "\n",
      "Number of segments: 2\n",
      "\n",
      "\n",
      "Number of segments: 2\n",
      "\n",
      "\n",
      "Number of segments: 2\n",
      "\n",
      "\n",
      "Number of segments: 3\n",
      "\n",
      "\n",
      "Number of segments: 3\n",
      "\n",
      "\n",
      "Number of segments: 3\n",
      "\n",
      "\n",
      "Number of segments: 1\n",
      "\n",
      "\n",
      "Number of segments: 1\n",
      "\n",
      "\n",
      "Number of segments: 1\n",
      "\n",
      "\n",
      "Number of segments: 2\n",
      "\n",
      "\n",
      "Number of segments: 2\n",
      "\n",
      "\n",
      "Number of segments: 2\n",
      "\n",
      "\n",
      "Number of segments: 2\n",
      "\n",
      "\n",
      "Number of segments: 3\n",
      "\n",
      "\n",
      "Number of segments: 4\n",
      "\n",
      "\n",
      "Number of segments: 2\n",
      "\n",
      "\n",
      "Number of segments: 2\n",
      "\n",
      "\n",
      "Number of segments: 3\n",
      "\n",
      "\n",
      "Number of segments: 1\n",
      "\n",
      "\n",
      "Number of segments: 2\n",
      "\n",
      "\n",
      "Number of segments: 2\n",
      "\n",
      "\n",
      "Number of segments: 3\n",
      "\n",
      "\n",
      "Number of segments: 3\n",
      "\n",
      "\n",
      "Number of segments: 3\n",
      "\n",
      "\n",
      "Number of segments: 5\n",
      "\n",
      "\n",
      "Number of segments: 5\n",
      "\n",
      "\n",
      "Number of segments: 5\n",
      "\n",
      "\n",
      "Number of segments: 2\n",
      "\n",
      "\n",
      "Number of segments: 2\n",
      "\n",
      "\n",
      "Number of segments: 3\n",
      "\n",
      "\n",
      "Number of segments: 1\n",
      "\n",
      "\n",
      "Number of segments: 3\n",
      "\n",
      "\n",
      "Number of segments: 2\n",
      "\n",
      "\n",
      "Number of segments: 1\n",
      "\n",
      "\n",
      "Number of segments: 3\n",
      "\n",
      "\n",
      "Number of segments: 4\n",
      "\n",
      "\n",
      "Number of segments: 1\n",
      "\n",
      "\n",
      "Number of segments: 1\n",
      "\n",
      "\n",
      "Number of segments: 2\n",
      "\n",
      "\n",
      "Number of segments: 1\n",
      "\n",
      "\n",
      "Number of segments: 1\n",
      "\n",
      "\n",
      "Number of segments: 1\n",
      "\n",
      "\n",
      "Number of segments: 2\n",
      "\n",
      "\n",
      "Number of segments: 3\n",
      "\n",
      "\n",
      "Number of segments: 3\n",
      "\n",
      "\n",
      "Number of segments: 2\n",
      "\n",
      "\n",
      "Number of segments: 2\n",
      "\n",
      "\n",
      "Number of segments: 2\n",
      "\n",
      "\n",
      "Number of segments: 2\n",
      "\n",
      "\n",
      "Number of segments: 3\n",
      "\n",
      "\n",
      "Number of segments: 3\n",
      "\n",
      "\n",
      "Number of segments: 2\n",
      "\n",
      "\n",
      "Number of segments: 2\n",
      "\n",
      "\n",
      "Number of segments: 3\n",
      "\n",
      "\n",
      "Number of segments: 2\n",
      "\n",
      "\n",
      "Number of segments: 2\n",
      "\n",
      "\n",
      "Number of segments: 2\n",
      "\n",
      "\n",
      "Number of segments: 2\n",
      "\n",
      "\n",
      "Number of segments: 2\n",
      "\n",
      "\n",
      "Number of segments: 2\n",
      "\n"
     ]
    },
    {
     "name": "stdout",
     "output_type": "stream",
     "text": [
      "\n",
      "Number of segments: 2\n",
      "\n",
      "\n",
      "Number of segments: 2\n",
      "\n",
      "\n",
      "Number of segments: 3\n",
      "\n",
      "\n",
      "Number of segments: 2\n",
      "\n",
      "\n",
      "Number of segments: 2\n",
      "\n",
      "\n",
      "Number of segments: 1\n",
      "\n",
      "\n",
      "Number of segments: 1\n",
      "\n",
      "\n",
      "Number of segments: 1\n",
      "\n",
      "\n",
      "Number of segments: 2\n",
      "\n",
      "\n",
      "Number of segments: 2\n",
      "\n",
      "\n",
      "Number of segments: 2\n",
      "\n",
      "\n",
      "Number of segments: 2\n",
      "\n",
      "\n",
      "Number of segments: 3\n",
      "\n",
      "\n",
      "Number of segments: 3\n",
      "\n",
      "\n",
      "Number of segments: 3\n",
      "\n",
      "\n",
      "Number of segments: 1\n",
      "\n",
      "\n",
      "Number of segments: 1\n",
      "\n",
      "\n",
      "Number of segments: 2\n",
      "\n",
      "\n",
      "Number of segments: 2\n",
      "\n",
      "\n",
      "Number of segments: 2\n",
      "\n",
      "\n",
      "Number of segments: 2\n",
      "\n",
      "\n",
      "Number of segments: 2\n",
      "\n",
      "\n",
      "Number of segments: 2\n",
      "\n",
      "\n",
      "Number of segments: 2\n",
      "\n",
      "\n",
      "Number of segments: 2\n",
      "\n",
      "\n",
      "Number of segments: 2\n",
      "\n",
      "\n",
      "Number of segments: 2\n",
      "\n",
      "\n",
      "Number of segments: 2\n",
      "\n",
      "\n",
      "Number of segments: 2\n",
      "\n",
      "\n",
      "Number of segments: 2\n",
      "\n",
      "\n",
      "Number of segments: 2\n",
      "\n",
      "\n",
      "Number of segments: 2\n",
      "\n",
      "\n",
      "Number of segments: 2\n",
      "\n",
      "\n",
      "Number of segments: 1\n",
      "\n",
      "\n",
      "Number of segments: 3\n",
      "\n",
      "\n",
      "Number of segments: 2\n",
      "\n",
      "\n",
      "Number of segments: 2\n",
      "\n",
      "\n",
      "Number of segments: 2\n",
      "\n",
      "\n",
      "Number of segments: 2\n",
      "\n",
      "\n",
      "Number of segments: 2\n",
      "\n",
      "\n",
      "Number of segments: 3\n",
      "\n",
      "\n",
      "Number of segments: 2\n",
      "\n",
      "\n",
      "Number of segments: 2\n",
      "\n",
      "\n",
      "Number of segments: 2\n",
      "\n",
      "\n",
      "Number of segments: 2\n",
      "\n",
      "\n",
      "Number of segments: 2\n",
      "\n",
      "\n",
      "Number of segments: 3\n",
      "\n",
      "\n",
      "Number of segments: 3\n",
      "\n",
      "\n",
      "Number of segments: 1\n",
      "\n",
      "\n",
      "Number of segments: 2\n",
      "\n",
      "\n",
      "Number of segments: 1\n",
      "\n",
      "\n",
      "Number of segments: 2\n",
      "\n",
      "\n",
      "Number of segments: 2\n",
      "\n",
      "\n",
      "Number of segments: 2\n",
      "\n",
      "\n",
      "Number of segments: 1\n",
      "\n",
      "\n",
      "Number of segments: 1\n",
      "\n",
      "\n",
      "Number of segments: 1\n",
      "\n",
      "\n",
      "Number of segments: 2\n",
      "\n",
      "\n",
      "Number of segments: 2\n",
      "\n",
      "\n",
      "Number of segments: 2\n",
      "\n",
      "\n",
      "Number of segments: 2\n",
      "\n",
      "\n",
      "Number of segments: 2\n",
      "\n",
      "\n",
      "Number of segments: 2\n",
      "\n",
      "\n",
      "Number of segments: 1\n",
      "\n",
      "\n",
      "Number of segments: 1\n",
      "\n",
      "\n",
      "Number of segments: 1\n",
      "\n",
      "\n",
      "Number of segments: 2\n",
      "\n",
      "\n",
      "Number of segments: 2\n",
      "\n",
      "\n",
      "Number of segments: 1\n",
      "\n",
      "\n",
      "Number of segments: 2\n",
      "\n",
      "\n",
      "Number of segments: 2\n",
      "\n",
      "\n",
      "Number of segments: 2\n",
      "\n",
      "\n",
      "Number of segments: 2\n",
      "\n",
      "\n",
      "Number of segments: 2\n",
      "\n",
      "\n",
      "Number of segments: 2\n",
      "\n",
      "\n",
      "Number of segments: 1\n",
      "\n",
      "\n",
      "Number of segments: 3\n",
      "\n",
      "\n",
      "Number of segments: 4\n",
      "\n",
      "\n",
      "Number of segments: 2\n",
      "\n",
      "\n",
      "Number of segments: 2\n",
      "\n",
      "\n",
      "Number of segments: 3\n",
      "\n",
      "\n",
      "Number of segments: 2\n",
      "\n",
      "\n",
      "Number of segments: 3\n",
      "\n",
      "\n",
      "Number of segments: 2\n",
      "\n",
      "\n",
      "Number of segments: 1\n",
      "\n",
      "\n",
      "Number of segments: 2\n",
      "\n",
      "\n",
      "Number of segments: 2\n",
      "\n",
      "\n",
      "Number of segments: 2\n",
      "\n",
      "\n",
      "Number of segments: 2\n",
      "\n",
      "\n",
      "Number of segments: 2\n",
      "\n",
      "\n",
      "Number of segments: 2\n",
      "\n",
      "\n",
      "Number of segments: 2\n",
      "\n",
      "\n",
      "Number of segments: 2\n",
      "\n",
      "\n",
      "Number of segments: 2\n",
      "\n",
      "\n",
      "Number of segments: 2\n",
      "\n",
      "\n",
      "Number of segments: 2\n",
      "\n",
      "\n",
      "Number of segments: 2\n",
      "\n",
      "\n",
      "Number of segments: 2\n",
      "\n",
      "\n",
      "Number of segments: 2\n",
      "\n",
      "\n",
      "Number of segments: 2\n",
      "\n",
      "\n",
      "Number of segments: 2\n",
      "\n",
      "\n",
      "Number of segments: 2\n",
      "\n",
      "\n",
      "Number of segments: 2\n",
      "\n",
      "\n",
      "Number of segments: 2\n",
      "\n",
      "\n",
      "Number of segments: 2\n",
      "\n",
      "\n",
      "Number of segments: 2\n",
      "\n",
      "\n",
      "Number of segments: 1\n",
      "\n",
      "\n",
      "Number of segments: 1\n",
      "\n",
      "\n",
      "Number of segments: 1\n",
      "\n",
      "\n",
      "Number of segments: 1\n",
      "\n",
      "\n",
      "Number of segments: 1\n",
      "\n",
      "\n",
      "Number of segments: 2\n",
      "\n",
      "\n",
      "Number of segments: 2\n",
      "\n",
      "\n",
      "Number of segments: 3\n",
      "\n",
      "\n",
      "Number of segments: 2\n",
      "\n",
      "\n",
      "Number of segments: 3\n",
      "\n",
      "\n",
      "Number of segments: 3\n",
      "\n",
      "\n",
      "Number of segments: 2\n",
      "\n",
      "\n",
      "Number of segments: 2\n",
      "\n",
      "\n",
      "Number of segments: 2\n",
      "\n",
      "\n",
      "Number of segments: 2\n",
      "\n",
      "\n",
      "Number of segments: 2\n",
      "\n",
      "\n",
      "Number of segments: 2\n",
      "\n",
      "\n",
      "Number of segments: 2\n",
      "\n",
      "\n",
      "Number of segments: 2\n",
      "\n",
      "\n",
      "Number of segments: 2\n",
      "\n",
      "\n",
      "Number of segments: 2\n",
      "\n",
      "\n",
      "Number of segments: 2\n",
      "\n",
      "\n",
      "Number of segments: 2\n",
      "\n",
      "\n",
      "Number of segments: 2\n",
      "\n",
      "\n",
      "Number of segments: 2\n",
      "\n",
      "\n",
      "Number of segments: 2\n",
      "\n",
      "\n",
      "Number of segments: 2\n",
      "\n",
      "\n",
      "Number of segments: 2\n",
      "\n",
      "\n",
      "Number of segments: 2\n",
      "\n",
      "\n",
      "Number of segments: 2\n",
      "\n",
      "\n",
      "Number of segments: 2\n",
      "\n",
      "\n",
      "Number of segments: 1\n",
      "\n",
      "\n",
      "Number of segments: 1\n",
      "\n",
      "\n",
      "Number of segments: 1\n",
      "\n",
      "\n",
      "Number of segments: 1\n",
      "\n",
      "\n",
      "Number of segments: 1\n",
      "\n",
      "\n",
      "Number of segments: 1\n",
      "\n",
      "\n",
      "Number of segments: 2\n",
      "\n",
      "\n",
      "Number of segments: 1\n",
      "\n",
      "\n",
      "Number of segments: 2\n",
      "\n",
      "\n",
      "Number of segments: 2\n",
      "\n",
      "\n",
      "Number of segments: 2\n",
      "\n",
      "\n",
      "Number of segments: 1\n",
      "\n",
      "\n",
      "Number of segments: 2\n",
      "\n",
      "\n",
      "Number of segments: 1\n",
      "\n",
      "\n",
      "Number of segments: 1\n",
      "\n",
      "\n",
      "Number of segments: 1\n",
      "\n",
      "\n",
      "Number of segments: 2\n",
      "\n",
      "\n",
      "Number of segments: 2\n",
      "\n",
      "\n",
      "Number of segments: 1\n",
      "\n",
      "\n",
      "Number of segments: 2\n",
      "\n",
      "\n",
      "Number of segments: 2\n",
      "\n",
      "\n",
      "Number of segments: 2\n",
      "\n",
      "\n",
      "Number of segments: 2\n",
      "\n",
      "\n",
      "Number of segments: 2\n",
      "\n",
      "\n",
      "Number of segments: 2\n",
      "\n",
      "\n",
      "Number of segments: 2\n",
      "\n",
      "\n",
      "Number of segments: 2\n",
      "\n",
      "\n",
      "Number of segments: 2\n",
      "\n",
      "\n",
      "Number of segments: 1\n",
      "\n",
      "\n",
      "Number of segments: 1\n",
      "\n",
      "\n",
      "Number of segments: 1\n",
      "\n",
      "\n",
      "Number of segments: 1\n",
      "\n",
      "\n",
      "Number of segments: 1\n",
      "\n",
      "\n",
      "Number of segments: 1\n",
      "\n",
      "Total time for set_neuron_spines_obj 46.02955722808838\n",
      "Total time for set_neuron_head_neck_shaft_idx 0.008542537689208984\n",
      "Total time for set_neuron_synapses_head_neck_shaft 0.02886223793029785\n",
      "--- Working on Limb L0\n",
      "     Branch 0\n",
      "     Branch 1\n",
      "     Branch 2\n",
      "     Branch 3\n",
      "     Branch 4\n",
      "     Branch 5\n",
      "     Branch 6\n",
      "     Branch 7\n",
      "     Branch 8\n",
      "     Branch 9\n",
      "--- Working on Limb L1\n",
      "     Branch 0\n",
      "     Branch 1\n",
      "     Branch 2\n",
      "     Branch 3\n",
      "     Branch 4\n",
      "     Branch 5\n",
      "     Branch 6\n",
      "     Branch 7\n",
      "     Branch 8\n",
      "     Branch 9\n",
      "     Branch 10\n",
      "     Branch 11\n",
      "     Branch 12\n",
      "     Branch 13\n",
      "     Branch 14\n",
      "     Branch 15\n",
      "     Branch 16\n",
      "     Branch 17\n",
      "     Branch 18\n",
      "     Branch 19\n",
      "     Branch 20\n",
      "     Branch 21\n",
      "     Branch 22\n",
      "     Branch 23\n",
      "     Branch 24\n",
      "--- Working on Limb L2\n",
      "     Branch 0\n",
      "     Branch 1\n",
      "     Branch 2\n",
      "     Branch 3\n",
      "     Branch 4\n",
      "--- Working on Limb L3\n",
      "     Branch 0\n",
      "--- Working on Limb L4\n",
      "     Branch 0\n",
      "Working on calculate_neuron_soma_distance_euclidean\n",
      "Total time for calculate_spine_obj_attr_for_neuron 6.24381947517395\n",
      "\n",
      " Working on visualization type: mesh\n"
     ]
    },
    {
     "data": {
      "application/vnd.jupyter.widget-view+json": {
       "model_id": "0ce6c6aa2b6b4a3fb2d256ab1f9a4d9b",
       "version_major": 2,
       "version_minor": 0
      },
      "text/plain": [
       "Container(figure=Figure(box_center=[0.5, 0.5, 0.5], box_size=[1.0, 1.0, 1.0], camera=PerspectiveCamera(fov=45.…"
      ]
     },
     "metadata": {},
     "output_type": "display_data"
    }
   ],
   "source": [
    "# Adding the spines\n",
    "from neurd import spine_utils as spu\n",
    "\n",
    "plot_spines = True\n",
    "\n",
    "neuron_obj_attr = spu.add_head_neck_shaft_spine_objs(\n",
    "    neuron_obj_attr,\n",
    "    verbose = verbose\n",
    ")\n",
    "\n",
    "if plot_spines:\n",
    "    spu.plot_spines_head_neck(neuron_obj_attr)"
   ]
  },
  {
   "cell_type": "code",
   "execution_count": 49,
   "id": "b6630397",
   "metadata": {
    "scrolled": true
   },
   "outputs": [
    {
     "name": "stdout",
     "output_type": "stream",
     "text": [
      "query_postsyn_filter = (distance_from_soma<110000) and (no_spine_median_mesh_center > 140) and (no_spine_median_mesh_center < 10000) and (n_spines > -1) and skeletal_length > 5000 \n",
      "About to do syn_density stats\n",
      "syn_density_post = 0.8805358538910716\n",
      "syn_density_head = 0.36809285695446436\n",
      "syn_density_neck = 0.0072175069991071445\n",
      "syn_density_shaft = 0.39876726170066973\n",
      "sk_length_synapse_density = 554207.9835176922\n",
      "About to do spine_density stats\n",
      "query_postsyn_filter = (distance_from_soma<110000) and (no_spine_median_mesh_center > 140) and (no_spine_median_mesh_center < 520) and (n_spines > 2) and skeletal_length > 15000 \n",
      "postsyn_limb_branch = {'L0': array([0, 1, 3, 4, 5, 9]), 'L2': array([4]), 'L3': array([0]), 'L4': array([0])}\n",
      "sk_length = 524897.880646129\n",
      "# of spines = 255\n",
      "Density = 0.4858087818645883\n",
      "spine_density = 0.4858087818645883 (multiplier = 1000)\n",
      "sk_length spine density = 524897.880646129\n",
      "Done stats\n",
      "Not apply_hand_made_low_rules\n",
      "For model: LogisticRegression(class_weight={'excitatory': 1, 'inhibitory': 1.5}) \n",
      "with features: ['syn_density_shaft', 'spine_density']\n",
      "pred_class = excitatory, pred_class_label = excitatory\n",
      "Total time for e/i calculations = 0.055643558502197266\n",
      "baylor_e_i = excitatory\n",
      "baylor_cell_type_info = \n",
      "{'syn_density_post': 0.8805358538910716, 'syn_density_head': 0.36809285695446436, 'syn_density_neck': 0.0072175069991071445, 'syn_density_shaft': 0.39876726170066973, 'skeletal_length_processed_syn': 554207.9835176922, 'spine_density': 0.4858087818645883, 'skeletal_length_processed_spine': 524897.880646129, 'baylor_cell_type_exc_probability': 0.9000221144602953, 'baylor_cell_type': 'excitatory'}\n"
     ]
    }
   ],
   "source": [
    "# calculating the cell type\n",
    "\n",
    "from neurd import cell_type_utils as ctu\n",
    "\n",
    "plot_spines_and_sk_filter_for_syn = False\n",
    "plot_spines_and_sk_filter_for_spine = False\n",
    "\n",
    "baylor_e_i,baylor_cell_type_info = ctu.e_i_classification_from_neuron_obj(\n",
    "    neuron_obj_attr,\n",
    "    plot_on_model_map=False,\n",
    "    plot_spines_and_sk_filter_for_syn = plot_spines_and_sk_filter_for_syn,\n",
    "    plot_spines_and_sk_filter_for_spine = plot_spines_and_sk_filter_for_spine,\n",
    "    verbose = verbose,\n",
    "    return_cell_type_info = True\n",
    ")\n",
    "\n",
    "baylor_cell_type_info[\"baylor_cell_type\"] = baylor_e_i \n",
    "\n",
    "if verbose:\n",
    "    print(f\"baylor_cell_type_info = \\n{baylor_cell_type_info}\")"
   ]
  },
  {
   "cell_type": "code",
   "execution_count": 50,
   "id": "302ac818",
   "metadata": {},
   "outputs": [],
   "source": [
    "e_i_class = baylor_e_i"
   ]
  },
  {
   "cell_type": "markdown",
   "id": "e9fcf40b",
   "metadata": {},
   "source": [
    "# Classifying axon and dendrite"
   ]
  },
  {
   "cell_type": "code",
   "execution_count": 53,
   "id": "81cd2b96",
   "metadata": {
    "scrolled": true
   },
   "outputs": [
    {
     "name": "stdout",
     "output_type": "stream",
     "text": [
      "axon_fun = <function axon_classification_excitatory at 0x7fa8d28da700>\n",
      "Restricting limbs to those greater than 70\n",
      "Limb L0 soma angle: 170.98 \n",
      "Limb L1 soma angle: 81.31 \n",
      "Limb L2 soma angle: 72.89 \n",
      "Limb L3 soma angle: 139.18 \n",
      "Limb L4 soma angle: 20.41 \n",
      "\n",
      "Part 0: possible_axon_limbs = [0, 1, 2, 3]\n",
      "branches_without_postsyn_req query = \n",
      "skeletal_length > 10000  and ((synapse_density_offset_endpoint_upstream < 0.00015) or (n_synapses_offset_endpoint_upstream <= 2)) and (n_synapses_pre_offset_endpoint_upstream <= 1) and (width_new > 95) and (width_new < 650) and (n_synapses_spine_offset_endpoint_upstream < 3)\n",
      "low_density_limb_branch = {'L1': array([ 0,  8,  9, 16, 17])}\n",
      "low_density_limb_branch_within_dist = {'L1': array([16, 17])}\n",
      "low_postsyn = {'L1': array([16, 17])}\n",
      "L1 : limb_conn_comp = {17: [16, 17]}\n",
      "# of candidates = 1\n",
      "Before filtering canddiate, axon_candidates = [{'limb_idx': 'L1', 'start_node': 17, 'branches': [16, 17]}]\n",
      "len(axon_candidates) = 1\n",
      "axon_candidates = [{'limb_idx': 'L1', 'start_node': 17, 'branches': array([16, 17])}]\n",
      "axon_candidates_ais_width = [249.6194948388562]\n",
      "After AIS width threhold\n",
      "len(axon_candidates) = 1\n",
      "axon_candidates = [{'limb_idx': 'L1', 'start_node': 17, 'branches': array([16, 17])}]\n",
      "axon_candidates_soma_dist = [0]\n",
      "After AIS distance from soma threshold\n",
      "len(axon_candidates) = 1\n",
      "axon_candidates = [{'limb_idx': 'L1', 'start_node': 17, 'branches': array([16, 17])}]\n",
      "Found at least one candidate so breaking\n",
      "full_axon_limb_branch = {'L1': [17, 0, 1, 2, 3, 4, 5, 6, 7, 8, 9, 10, 11, 12, 13, 14, 15, 16, 18, 19, 20, 21, 22, 23, 24]}\n",
      "axon_like_dendr_query = (n_synapses_pre >= 1) and (synapse_pre_perc >= 0.6) and (axon_width <= 270) and (n_spines <= 10) and (n_synapses_post_spine <= 3) and (skeletal_length > 2500) and (area > 1) and (closest_mesh_skeleton_dist < 500)\n",
      "axon_like_dendr = {}\n",
      "pre_down_limb_branch_query = (synapse_pre_perc_downstream >= 0.9) or (n_synapses_downstream == 0) or (n_synapses_post_downstream < 3)\n",
      "pre_down_limb_branch = {}\n",
      "thin_branches_query= (width_new <= 80) and (skeletal_length > 2500) and (n_synapses_post_downstream <= 3) and(area > 1) and (closest_mesh_skeleton_dist < 500) and (skeletal_length_downstream > 7000)\n",
      "filter_away_thin_branches = True\n",
      "thin_axon_limb_branch = {}\n",
      "myelination_query 0 = (skeletal_length > 2500.0) and (synapse_density_post < 7e-05)and (axon_width < 650)and (is_axon == False)and (distance_from_soma > 10000) and (skeletal_length_downstream > 7000) and (n_synapses_post_downstream < 5)\n",
      "myelin_dict_0 = {}\n",
      "myelination_query 1 = (skeletal_length > 5000) and (synapse_density_post < 7e-05)and (axon_width < 650)and (is_axon == False)and (distance_from_soma > 10000) and (skeletal_length_downstream > 7000) and (n_synapses_post_downstream < 7)\n",
      "myelin_dict_1 = {}\n",
      "myelination_query 2 = (skeletal_length > 25000) and (synapse_density_post < 0.0001)and (axon_width < 650)and (is_axon == False)and (distance_from_soma > -1) and (skeletal_length_downstream > 7000)\n",
      "myelin_dict_2 = {}\n",
      "myelin_dict_total= {}\n",
      "filter_away_myelination set\n",
      "myelin_limb_branch = {}\n",
      "axon_downstream= {'L1': array([ 5,  6,  7,  9, 10, 12, 14, 15, 17, 18, 20])}\n",
      "pre_down_limb_branch = {}\n",
      "axon_on_dendrite_dict= {}\n",
      "Restricting branches to only those a certain distance away from soma (10000)\n",
      "pre_limb_branch AFTER restriction = {'L1': array([ 0,  1,  2,  3,  4,  5,  6,  7,  8,  9, 10, 11, 12, 13, 14, 15, 16,\n",
      "       18, 19, 20, 21, 22, 23, 24])}\n",
      "dendr_like_axon_query = (n_synapses_pre >= 1) and (synapse_post_perc >= 0.6) and (axon_width >= 170) and (spine_density >= 0.00012) and (skeletal_length > 3000)\n",
      "dendr_like_axon = {}\n",
      "Using coarse dendrite filter\n",
      "No limb branch to plot\n",
      "coarse_dendrite_query = (axon_width >  300) and (synapse_post_perc > 0.75) and (n_synapses_post > 20) and (n_spines > 10) and (spine_density > 0.00015)\n",
      "coarse_dendrite_limb_branch = {}\n",
      "After COARSE: dendr_like_axon = {}\n",
      "post_down_limb_branch_query= (synapse_post_perc_downstream >= 0.9) or (n_synapses_downstream == 0) or (n_synapses_pre_downstream < 3)\n",
      "post_down_limb_branch = {}\n",
      "Final dendrite on axon: {}\n",
      "dendrite_on_axon_dict= {}\n",
      "# of neuron_obj.synapses_somas = 58\n",
      "axon_angles_dict = {'axon_angle_max': 144.06, 'axon_angle_min': 144.06, 'n_axon_angles': 1}\n",
      "axon_limb_branch_dict = {'L1': array([17,  0,  1,  2,  3,  4,  5,  6,  7,  8,  9, 10, 11, 12, 13, 14, 15,\n",
      "       16, 18, 19, 20, 21, 22, 23, 24])}\n",
      "neuron_obj.align_matrix = None\n",
      "Computing the axon labeled graph\n",
      "After pre filtering: # of neuron_obj.synapses_somas = 58\n",
      "o_neuron_pre.align_matrix = None\n",
      "Starting axon branch was the starting node so using border vertices and NOT computing upstream branch\n",
      "upstream_node_to_axon_starting_branch = None\n",
      "More than 1 seperated mesh (taking the top one): [<trimesh.Trimesh(vertices.shape=(20342, 3), faces.shape=(40479, 3))>\n",
      " <trimesh.Trimesh(vertices.shape=(113, 3), faces.shape=(176, 3))>]\n",
      "invalidation_d = 1500\n",
      "use_adaptive_invalidation_d= False\n",
      "axon_width_preprocess_limb_max = 200\n",
      "filter_end_node_length= 1150\n",
      "filter_end_node_length_meshparty = 1150\n",
      "invalidation_d = 1500\n",
      "root_curr = [1484150.   588282.7 1095391. ]\n",
      "Time for preparing soma vertices and root: 0.0002994537353515625\n",
      "invalidation_d = 1500\n",
      "smooth_neighborhood = 0\n",
      "cc_vertex_thresh = 10\n"
     ]
    },
    {
     "name": "stderr",
     "output_type": "stream",
     "text": [
      "100%|██████████| 1/1 [00:00<00:00,  2.86it/s]\n"
     ]
    },
    {
     "name": "stdout",
     "output_type": "stream",
     "text": [
      "meshparty_segment_size = 100\n",
      "Time for 1st pass MP skeletonization: 0.5720117092132568\n",
      "branches_touching_root = [13]\n",
      "combining close nodes\n",
      "combine_threshold = 1300\n",
      "length of Graph = 7906\n",
      "After combining close endpoints max(kept_branches_idx) = 85, len(kept_branches_idx) = 75\n",
      "empty_indices % = 0.0\n",
      " conflict_indices % = 0.028463139120095123\n",
      "AFTER face_lookup_resolved_test\n",
      "Decomposing first pass: 4.74818229675293\n",
      "Only Using MeshParty Skeletonization and Mesh Correspondence\n",
      "Another print\n",
      "Divinding into MP and MAP pieces: 1.0967254638671875e-05\n",
      "Total time for MAP sublimb processing 5.245208740234375e-06\n",
      "---- Working on MP Decomposition #0 ----\n",
      "Using Quicker soma_to_piece_touching_vertices because no MAP and only one sublimb_mesh piece \n",
      "MP filtering soma verts: 1.71661376953125e-05\n",
      "Fixing Possible Soma Extension Branch for Sublimb 0\n",
      "Total time for mesh KDTree = 0.03582024574279785\n",
      "sbv[0].reshape(-1,3) = [[1484150.   588282.7 1095391. ]]\n",
      "closest_sk_pt_coord BEFORE = [1484209.07018222  588125.41800575 1095073.94391184]\n",
      "current_skeleton.shape = (443, 2, 3)\n",
      "node_for_stitch = 441: [1484209.07018222  588125.41800575 1095073.94391184]\n",
      "node_for_stitch AFTER = 441: [1484209.07018222  588125.41800575 1095073.94391184]\n",
      "possible_node_loc = [  0 443]\n",
      "possible_node_loc AFTER = [  0 443]\n",
      "curr_shortest_path = [441, 442.0, 443]\n",
      "Current stitch point was not a branch or endpoint, shortest_path_length to one = 189.87969562013262\n",
      "Changing the stitch point becasue the distance to end or branch node was 189.87969562013262\n",
      "New stitch point has degree 1\n",
      "change_status for create soma extending pieces = True\n",
      "closest_sk_pt_coord AFTER = [1484351.   588129.9 1095200. ]\n",
      "skipping soma 0 because closest skeleton node was already end node\n",
      "endpoints_must_keep = {0: array([[1484351. ,  588129.9, 1095200. ]])}\n",
      "match_sk_branches = [12]\n",
      "The new branch info was none so skipping \n",
      "\n",
      "No soma extending branch was added for this sublimb even though it had a soma border (means they already existed)\n",
      "MP (because soma touching verts) soma extension add: 0.20676422119140625\n",
      "There were not both MAP and MP pieces so skipping the stitch resolving phase\n",
      "Time for decomp of Limb = 5.699491500854492\n",
      "Number of matching vertices = 20\n",
      "Only one endpoint after filtering away the endpoints that are not on the skeleton\n",
      "Using Distance measure skeletal_distance\n",
      "endpoints_must_keep = [[1484351.   588129.9 1095200. ]]\n",
      "Number of end_nodes BEFORE filtering = 45\n",
      "all_single_nodes_to_eliminate = [34]\n",
      "no small end nodes to get rid of so returning whole skeleton\n",
      "Removed 0 skeletal branches\n",
      "40478 40479\n",
      "For marked faces: None\n",
      "empty_indices % = 0.0\n",
      " conflict_indices % = 0.0\n",
      "AFTER face_lookup_resolved_test\n",
      "Limb Correspondence before stitching = 75\n",
      "Filtering away non soma floating pieces near the soma\n",
      "Before filter # of pieces = 1\n",
      "AFTER filter # of pieces = 1\n",
      "Inside attach_floating_pieces_to_limb_correspondence\n",
      "Starting the floating pieces preprocessing\n",
      "Floating 0: <trimesh.Trimesh(vertices.shape=(113, 3), faces.shape=(176, 3))>\n",
      "invalidation_d = 1500\n",
      "use_adaptive_invalidation_d= False\n",
      "axon_width_preprocess_limb_max = 200\n",
      "filter_end_node_length= 1150\n",
      "filter_end_node_length_meshparty = 1150\n",
      "invalidation_d = 1500\n",
      "root_curr = None\n",
      "Time for preparing soma vertices and root: 5.7220458984375e-06\n",
      "invalidation_d = 1500\n",
      "smooth_neighborhood = 0\n",
      "cc_vertex_thresh = 10\n"
     ]
    },
    {
     "name": "stderr",
     "output_type": "stream",
     "text": [
      "100%|██████████| 1/1 [00:00<00:00, 218.42it/s]"
     ]
    },
    {
     "name": "stdout",
     "output_type": "stream",
     "text": [
      "meshparty_segment_size = 100\n",
      "Time for 1st pass MP skeletonization: 0.029603958129882812\n",
      "branches_touching_root = [0]\n",
      "combining close nodes\n",
      "combine_threshold = 1300\n",
      "length of Graph = 20\n",
      "After combining close endpoints max(kept_branches_idx) = 0, len(kept_branches_idx) = 1\n",
      "empty_indices % = 0.0\n",
      " conflict_indices % = 0.0\n",
      "AFTER face_lookup_resolved_test\n",
      "Decomposing first pass: 0.032559871673583984\n",
      "Only Using MeshParty Skeletonization and Mesh Correspondence\n",
      "Another print\n",
      "Divinding into MP and MAP pieces: 9.5367431640625e-06\n",
      "Total time for MAP sublimb processing 4.5299530029296875e-06\n",
      "---- Working on MP Decomposition #0 ----\n",
      "Using Quicker soma_to_piece_touching_vertices because no MAP and only one sublimb_mesh piece \n",
      "MP filtering soma verts: 1.9788742065429688e-05\n",
      "Do Not Need to Fix MP Decomposition 0 so just continuing\n",
      "There were not both MAP and MP pieces so skipping the stitch resolving phase\n",
      "Time for decomp of Limb = 0.06324934959411621\n",
      "Using Distance measure skeletal_distance\n",
      "no small end nodes to get rid of so returning whole skeleton\n",
      "Removed 0 skeletal branches\n",
      "175 176\n",
      "For marked faces: None\n",
      "empty_indices % = 0.0\n",
      " conflict_indices % = 0.0\n",
      "AFTER face_lookup_resolved_test\n"
     ]
    },
    {
     "name": "stderr",
     "output_type": "stream",
     "text": [
      "\n"
     ]
    },
    {
     "data": {
      "application/vnd.jupyter.widget-view+json": {
       "model_id": "d4547cfcdd124ed7a8c9490ff8dafc35",
       "version_major": 2,
       "version_minor": 0
      },
      "text/plain": [
       "Container(figure=Figure(box_center=[0.5, 0.5, 0.5], box_size=[1.0, 1.0, 1.0], camera=PerspectiveCamera(fov=45.…"
      ]
     },
     "metadata": {},
     "output_type": "display_data"
    },
    {
     "name": "stdout",
     "output_type": "stream",
     "text": [
      "--> time = 0.129990816116333\n",
      "Floating 1: <trimesh.Trimesh(vertices.shape=(3012, 3), faces.shape=(5404, 3))>\n",
      "invalidation_d = 1500\n",
      "use_adaptive_invalidation_d= False\n",
      "axon_width_preprocess_limb_max = 200\n",
      "filter_end_node_length= 1150\n",
      "filter_end_node_length_meshparty = 1150\n",
      "invalidation_d = 1500\n",
      "root_curr = None\n",
      "Time for preparing soma vertices and root: 4.76837158203125e-06\n",
      "invalidation_d = 1500\n",
      "smooth_neighborhood = 0\n",
      "cc_vertex_thresh = 10\n"
     ]
    },
    {
     "name": "stderr",
     "output_type": "stream",
     "text": [
      "100%|██████████| 1/1 [00:00<00:00, 13.94it/s]\n"
     ]
    },
    {
     "name": "stdout",
     "output_type": "stream",
     "text": [
      "meshparty_segment_size = 100\n",
      "Time for 1st pass MP skeletonization: 0.13386893272399902\n",
      "branches_touching_root = [6]\n",
      "combining close nodes\n",
      "combine_threshold = 1300\n",
      "length of Graph = 344\n",
      "After combining close endpoints max(kept_branches_idx) = 12, len(kept_branches_idx) = 11\n",
      "empty_indices % = 0.0\n",
      " conflict_indices % = 0.0902269743012568\n",
      "AFTER face_lookup_resolved_test\n",
      "Decomposing first pass: 0.33974504470825195\n",
      "Only Using MeshParty Skeletonization and Mesh Correspondence\n",
      "Another print\n",
      "Divinding into MP and MAP pieces: 6.9141387939453125e-06\n",
      "Total time for MAP sublimb processing 2.6226043701171875e-06\n",
      "---- Working on MP Decomposition #0 ----\n",
      "Using Quicker soma_to_piece_touching_vertices because no MAP and only one sublimb_mesh piece \n",
      "MP filtering soma verts: 1.3113021850585938e-05\n",
      "Do Not Need to Fix MP Decomposition 0 so just continuing\n",
      "There were not both MAP and MP pieces so skipping the stitch resolving phase\n",
      "Time for decomp of Limb = 0.4830169677734375\n",
      "Using Distance measure skeletal_distance\n",
      "Removed 2 skeletal branches\n",
      "5403 5404\n",
      "For marked faces: None\n",
      "empty_indices % = 0.0007401924500370096\n",
      " conflict_indices % = 0.0\n",
      "AFTER face_lookup_resolved_test\n"
     ]
    },
    {
     "data": {
      "application/vnd.jupyter.widget-view+json": {
       "model_id": "4eefa661657e45a4af2e718c2b41b010",
       "version_major": 2,
       "version_minor": 0
      },
      "text/plain": [
       "Container(figure=Figure(box_center=[0.5, 0.5, 0.5], box_size=[1.0, 1.0, 1.0], camera=PerspectiveCamera(fov=45.…"
      ]
     },
     "metadata": {},
     "output_type": "display_data"
    },
    {
     "name": "stdout",
     "output_type": "stream",
     "text": [
      "--> time = 1.0535452365875244\n",
      "winning_float = 0\n",
      "winning_float_match_main_limb = 0\n",
      "winning_float_dist = 21.0\n",
      "main_limb_stitch_point = [1465674.  643860. 1076901.]\n",
      "floating_limb_stitch_point = [1465674.  643881. 1076901.]\n",
      "node_for_stitch = 3609: [1465674.  643860. 1076901.]\n",
      "node_for_stitch AFTER = 3609: [1465674.  643860. 1076901.]\n",
      "possible_node_loc = [   0   56  231  394  489  599  750  886  911  923  930 1520 1868 1916\n",
      " 1970 1977 2099 2137 2186 2257 2467 2558 2570 2654 2948 3166 3249 3609\n",
      " 3667 3907 4018 4333 5310 5723 5732 6499 6879 6970 7222 7513 7623 7638\n",
      " 7758 7797 7841  350  845  860 1042 1233 1518 1531 1665 1739 1782 2196\n",
      " 2378 2575 2655 2761 2911 3114 3620 3782 3846 3900 4086 4485 5560 6468\n",
      " 6601 6896 7065 7167 7429 7447]\n",
      "possible_node_loc AFTER = [   0   56  231  350  394  489  599  750  845  860  886  911  923  930\n",
      " 1042 1233 1518 1520 1531 1665 1739 1782 1868 1916 1970 1977 2099 2137\n",
      " 2186 2196 2257 2378 2467 2558 2570 2575 2654 2655 2761 2911 2948 3114\n",
      " 3166 3249 3609 3620 3667 3782 3846 3900 3907 4018 4086 4333 4485 5310\n",
      " 5560 5723 6468 6499 6601 6879 6896 6970 7065 7167 7222 7429 7447 7513\n",
      " 7623 7638 7758 7797 7841]\n",
      "curr_shortest_path = [3609]\n",
      "Current stitch point was a branch or endpoint\n",
      "Status of Main limb stitch point moved = False\n",
      "\n",
      "\n",
      "\n",
      "match_sk_branches = [45]\n",
      "match_float_branches = [0]\n",
      "stitch_point_on_end_or_branch = True\n",
      "winning_float = 1\n",
      "winning_float_match_main_limb = 0\n",
      "winning_float_dist = 23581.571737481798\n",
      "main_limb_stitch_point = [1484351.   588129.9 1095200. ]\n",
      "floating_limb_stitch_point = [1470189.  580818. 1112580.]\n",
      "The closest float distance was 23581.571737481798 which was greater than the maximum stitch distance 5000\n",
      " --> so ending the floating mesh stitch processs\n",
      "concept_network_dict = {0: [<datasci_tools.networkx_utils.GraphOrderedEdges object at 0x7fa899201460>]}\n",
      "\n",
      "\n",
      "----Working on seperate_graph 0----\n",
      "\n",
      "\n",
      "---------Working on soma_idx = 0, soma_group_idx 0, endpt = [1484351.   588129.9 1095200. ]---------\n",
      "Starting_edge inside branches_to_conept = [[1467806.   619005.5 1081192. ]\n",
      " [1484351.   588129.9 1095200. ]]\n",
      "At the start, starting_node (in terms of the skeleton, that shouldn't match the starting edge) = [59]\n",
      "printing out current edge:\n",
      "[[1484351.   588129.9 1095200. ]\n",
      " [1467806.   619005.5 1081192. ]]\n",
      "edge_endpoints_to_process was empty so exiting loop after 76 iterations\n",
      "starting_node in concept map (that should match the starting edge) = 53\n",
      "Total time for branches to concept conversion = 0.36780524253845215\n",
      "\n",
      "Done generating concept network \n",
      "\n",
      "\n",
      "After high fidelity: # of neuron_obj.synapses_somas = 58\n",
      "\n",
      "Number of segments: 15\n",
      "\n",
      "\n",
      "Number of segments: 9\n",
      "\n",
      "\n",
      "Number of segments: 12\n",
      "\n",
      "\n",
      "Number of segments: 9\n",
      "\n",
      "\n",
      "Number of segments: 3\n",
      "\n",
      "\n",
      "Number of segments: 7\n",
      "\n",
      "\n",
      "Number of segments: 3\n",
      "\n",
      "\n",
      "Number of segments: 11\n",
      "\n",
      "\n",
      "Number of segments: 4\n",
      "\n",
      "\n",
      "Number of segments: 2\n",
      "\n",
      "\n",
      "Number of segments: 3\n",
      "\n",
      "\n",
      "Number of segments: 4\n",
      "\n",
      "\n",
      "Number of segments: 4\n",
      "\n",
      "\n",
      "Number of segments: 54\n",
      "\n",
      "\n",
      "Number of segments: 2\n",
      "\n",
      "\n",
      "Number of segments: 18\n",
      "\n",
      "\n",
      "Number of segments: 5\n",
      "\n",
      "\n",
      "Number of segments: 5\n",
      "\n",
      "\n",
      "Number of segments: 2\n",
      "\n",
      "\n",
      "Number of segments: 5\n",
      "\n",
      "\n",
      "Number of segments: 3\n",
      "\n",
      "\n",
      "Number of segments: 10\n",
      "\n",
      "\n",
      "Number of segments: 11\n",
      "\n",
      "\n",
      "Number of segments: 2\n",
      "\n",
      "\n",
      "Number of segments: 6\n",
      "\n",
      "\n",
      "Number of segments: 6\n",
      "\n",
      "\n",
      "Number of segments: 3\n",
      "\n",
      "\n",
      "Number of segments: 5\n",
      "\n",
      "\n",
      "Number of segments: 3\n",
      "\n",
      "\n",
      "Number of segments: 3\n",
      "\n",
      "\n",
      "Number of segments: 7\n",
      "\n",
      "\n",
      "Number of segments: 15\n",
      "\n",
      "\n",
      "Number of segments: 2\n",
      "\n",
      "\n",
      "Number of segments: 4\n",
      "\n",
      "\n",
      "Number of segments: 5\n",
      "\n",
      "\n",
      "Number of segments: 8\n",
      "\n",
      "\n",
      "Number of segments: 5\n",
      "\n",
      "\n",
      "Number of segments: 3\n",
      "\n",
      "\n",
      "Number of segments: 7\n",
      "\n",
      "\n",
      "Number of segments: 7\n",
      "\n",
      "\n",
      "Number of segments: 3\n",
      "\n",
      "\n",
      "Number of segments: 14\n",
      "\n",
      "\n",
      "Number of segments: 9\n",
      "\n",
      "\n",
      "Number of segments: 17\n",
      "\n",
      "\n",
      "Number of segments: 17\n",
      "\n",
      "\n",
      "Number of segments: 4\n",
      "\n",
      "\n",
      "Number of segments: 6\n",
      "\n",
      "\n",
      "Number of segments: 8\n",
      "\n",
      "\n",
      "Number of segments: 8\n",
      "\n",
      "\n",
      "Number of segments: 2\n",
      "\n",
      "\n",
      "Number of segments: 5\n",
      "\n",
      "\n",
      "Number of segments: 12\n",
      "\n",
      "\n",
      "Number of segments: 5\n",
      "\n",
      "\n",
      "Number of segments: 5\n",
      "\n",
      "\n",
      "Number of segments: 4\n",
      "\n",
      "\n",
      "Number of segments: 5\n",
      "\n",
      "\n",
      "Number of segments: 3\n",
      "\n",
      "\n",
      "Number of segments: 2\n",
      "\n",
      "After pre bouton: # of neuron_obj.synapses_somas = 58\n",
      "neuron_obj_with_boutons.align_matrix = None\n",
      "\n",
      "Number of segments: 11\n",
      "\n",
      "\n",
      "Number of segments: 17\n",
      "\n",
      "\n",
      "Number of segments: 8\n",
      "\n",
      "\n",
      "Number of segments: 9\n",
      "\n",
      "\n",
      "Number of segments: 10\n",
      "\n",
      "\n",
      "Number of segments: 17\n",
      "\n",
      "\n",
      "Number of segments: 21\n",
      "\n",
      "\n",
      "Number of segments: 12\n",
      "\n",
      "\n",
      "Number of segments: 26\n",
      "\n",
      "\n",
      "Number of segments: 10\n",
      "\n",
      "\n",
      "Number of segments: 11\n",
      "\n",
      "\n",
      "Number of segments: 18\n",
      "\n",
      "\n",
      "Number of segments: 19\n",
      "\n",
      "\n",
      "Number of segments: 11\n",
      "\n",
      "\n",
      "Number of segments: 6\n",
      "\n",
      "\n",
      "Number of segments: 13\n",
      "\n",
      "\n",
      "Number of segments: 12\n",
      "\n",
      "\n",
      "Number of segments: 8\n",
      "\n",
      "\n",
      "Number of segments: 23\n",
      "\n",
      "\n",
      "Number of segments: 12\n",
      "\n",
      "\n",
      "Number of segments: 7\n",
      "\n",
      "\n",
      "Number of segments: 8\n",
      "\n",
      "\n",
      "Number of segments: 24\n",
      "\n",
      "\n",
      "Number of segments: 26\n",
      "\n",
      "\n",
      "Number of segments: 13\n",
      "\n",
      "\n",
      "Number of segments: 22\n",
      "\n",
      "\n",
      "Number of segments: 9\n",
      "\n",
      "\n",
      "Number of segments: 16\n",
      "\n",
      "\n",
      "Number of segments: 10\n",
      "\n",
      "\n",
      "Number of segments: 15\n",
      "\n",
      "\n",
      "Number of segments: 11\n",
      "\n",
      "neuron_obj_with_web.align_matrix = None\n",
      "Readding Synapses to the high fidelity axon after all processing donw\n",
      "\n",
      "---Step 1: Computing synapse_dict---\n",
      "# of presyn: 0\n",
      "# of postsyn: 0\n",
      "\n",
      "---Step 2: Computing mesh_label_dict---\n",
      "-- Working on presyn--\n",
      "-- Working on postsyn--\n",
      "\n",
      "---Step 3: add_valid_synapses_to_neuron_obj---\n",
      "Synapse dict: 0.0003\n",
      "Original Mesh: 0.1557\n",
      "Closest Branch: 0.0001\n",
      "Closest Skeleton Branch and distance from endpoint: 0.0\n",
      "Closest Branch: 0.0\n",
      "Closest Skeleton Branch and distance from endpoint: 0.0\n",
      "Total time for valid synapse objects = 3.361701965332031e-05\n",
      "\n",
      "---Step 5: Adding Soma distances to synapse objects---\n",
      "After add_synapses_after_high_fidelity_axon: # of neuron_obj.synapses_somas = 58\n",
      "neuron_obj_with_web.align_matrix = None\n",
      "Working on branch simplification after axon finding\n",
      "N_branches on limbs before simplification\n",
      "L0: 10\n",
      "L2: 5\n",
      "L3: 1\n",
      "L4: 1\n",
      "L1: 76\n",
      "--- STARTING merge_floating_end_nodes_to_parent----\n",
      "\n",
      "\n",
      "\n",
      "---N_branches on limbs AFTER merge_floating_end_nodes_to_parent---\n",
      "L0: 10 (difference of 0)\n",
      "L2: 5 (difference of 0)\n",
      "L3: 1 (difference of 0)\n",
      "L4: 1 (difference of 0)\n",
      "L1: 76 (difference of 0)\n",
      "\n",
      "\n",
      "\n",
      "--- STARTING COMBINING BRANCHES----\n",
      "jitter_segment = None\n",
      "b_d.endpoints = [[1464895.   645340.1 1076998. ]\n",
      " [1465674.   643860.  1076901. ]]\n",
      "\n",
      "---Working on limb L1, deleting [75]\n",
      "new_node_name_dict = {0: 0, 1: 1, 2: 2, 3: 3, 4: 4, 5: 5, 6: 6, 7: 7, 8: 8, 9: 9, 10: 10, 11: 11, 12: 12, 13: 13, 14: 14, 15: 15, 16: 16, 17: 17, 18: 18, 19: 19, 20: 20, 21: 21, 22: 22, 23: 23, 24: 24, 25: 25, 26: 26, 27: 27, 28: 28, 29: 29, 30: 30, 31: 31, 32: 32, 33: 33, 34: 34, 35: 35, 36: 36, 37: 37, 38: 38, 39: 39, 40: 40, 41: 41, 42: 42, 43: 43, 44: 44, 45: 45, 46: 46, 47: 47, 48: 48, 49: 49, 50: 50, 51: 51, 52: 52, 53: 53, 54: 54, 55: 55, 56: 56, 57: 57, 58: 58, 59: 59, 60: 60, 61: 61, 62: 62, 63: 63, 64: 64, 65: 65, 66: 66, 67: 67, 68: 68, 69: 69, 70: 70, 71: 71, 72: 72, 73: 73, 74: 74, 75: -1}\n",
      "Finished relabeling nodes\n",
      "AFter relabeling branch names: [-1  0  1  2  3  4  5  6  7  8  9 10 11 12 13 14 15 16 17 18 19 20 21 22\n",
      " 23 24 25 26 27 28 29 30 31 32 33 34 35 36 37 38 39 40 41 42 43 44 45 46\n",
      " 47 48 49 50 51 52 53 54 55 56 57 58 59 60 61 62 63 64 65 66 67 68 69 70\n",
      " 71 72 73 74]\n",
      "After branch deletion, names: [ 0  1  2  3  4  5  6  7  8  9 10 11 12 13 14 15 16 17 18 19 20 21 22 23\n",
      " 24 25 26 27 28 29 30 31 32 33 34 35 36 37 38 39 40 41 42 43 44 45 46 47\n",
      " 48 49 50 51 52 53 54 55 56 57 58 59 60 61 62 63 64 65 66 67 68 69 70 71\n",
      " 72 73 74]\n",
      "Current starting node BEFORE reset: 53\n",
      "Current starting node after reset: 53\n",
      "Total time for deletion: 0.37267255783081055\n",
      "\n",
      "\n",
      "\n",
      "---N_branches on limbs AFTER combine_path_branches---\n",
      "L0: 10 (difference of 0)\n",
      "L2: 5 (difference of 0)\n",
      "L3: 1 (difference of 0)\n",
      "L4: 1 (difference of 0)\n",
      "L1: 75 (difference of 1)\n",
      "\n",
      "\n",
      "\n",
      "---N_branches on limbs AFTER total simplification---\n",
      "L0: 10 (difference of 0)\n",
      "L2: 5 (difference of 0)\n",
      "L3: 1 (difference of 0)\n",
      "L4: 1 (difference of 0)\n",
      "L1: 75 (difference of 1)\n",
      "\n",
      "***Total time for branch simplification = 11.031286239624023\n"
     ]
    }
   ],
   "source": [
    "from neurd import axon_utils as au\n",
    "\n",
    "neurd.set_volume_params(\n",
    "    \"microns\"\n",
    ")\n",
    "\n",
    "filter_dendrite_on_axon = False\n",
    "plot_initial_axon = False\n",
    "plot_axon_on_dendrite = False\n",
    "plot_high_fidelity_axon = False\n",
    "plot_boutons_web = False\n",
    "\n",
    "\n",
    "\n",
    "(o_neuron_unalign,\n",
    " filtering_info,\n",
    " axon_angles_dict,\n",
    " G_axon_labeled,)=au.complete_axon_processing(\n",
    "            neuron_obj_attr,\n",
    "            cell_type = e_i_class,\n",
    "            add_synapses_and_head_neck_shaft_spines = False,\n",
    "            validation = False,\n",
    "            plot_initial_axon=plot_initial_axon,\n",
    "            plot_axon_on_dendrite=plot_axon_on_dendrite,\n",
    "            return_filtering_info = True,\n",
    "             return_axon_angle_info = True,\n",
    "            plot_high_fidelity_axon = plot_high_fidelity_axon,\n",
    "            plot_boutons_web = plot_boutons_web,\n",
    "            add_synapses_after_high_fidelity_axon = True,\n",
    "            filter_dendrite_on_axon = filter_dendrite_on_axon,\n",
    "            return_G_axon_labeled = True,\n",
    "            verbose = verbose)"
   ]
  },
  {
   "cell_type": "code",
   "execution_count": 59,
   "id": "e8b6fdf0",
   "metadata": {},
   "outputs": [
    {
     "data": {
      "application/vnd.jupyter.widget-view+json": {
       "model_id": "4a10bb8a62c84e2d8f3dca4330bffb41",
       "version_major": 2,
       "version_minor": 0
      },
      "text/plain": [
       "Container(figure=Figure(box_center=[0.5, 0.5, 0.5], box_size=[1.0, 1.0, 1.0], camera=PerspectiveCamera(fov=45.…"
      ]
     },
     "metadata": {},
     "output_type": "display_data"
    }
   ],
   "source": [
    "ipvu.plot_objects(\n",
    "    o_neuron_unalign.mesh,\n",
    "    main_skeleton=o_neuron_unalign.axon_skeleton\n",
    ")"
   ]
  },
  {
   "cell_type": "markdown",
   "id": "4d4f56c5",
   "metadata": {},
   "source": [
    "# Proofreading"
   ]
  },
  {
   "cell_type": "code",
   "execution_count": null,
   "id": "84c92201",
   "metadata": {},
   "outputs": [],
   "source": [
    "import numpy as np\n",
    "ipvu.plot_scatter(\n",
    "    array=np.array([[0.12068656, 0.34903741, 0.84620654],\n",
    "       [0.04812803, 0.14411268, 0.54990798],\n",
    "       [0.79566505, 0.63533888, 0.03276685],\n",
    "       [0.55378168, 0.25424957, 0.71898828],\n",
    "       [0.1054361 , 0.70734158, 0.25456412],\n",
    "       [0.51331846, 0.46793084, 0.44032635],\n",
    "       [0.58216843, 0.46214255, 0.12553144],\n",
    "       [0.08834693, 0.13477684, 0.88986768],\n",
    "       [0.39226641, 0.96131601, 0.05423914],\n",
    "       [0.86158737, 0.30404951, 0.42807901]]),\n",
    "    color=(1,0,0,0.99),\n",
    "    size=10,\n",
    "    widgets_to_plot = (\"size\",\"marker\",\"color\"),\n",
    ")"
   ]
  },
  {
   "cell_type": "code",
   "execution_count": null,
   "id": "41650f1c",
   "metadata": {},
   "outputs": [],
   "source": [
    "size = [0.3]\n",
    "color = [[1.0, 0.0, 0.0, 0.5]]\n",
    "scatters = [np.array([[0.12068656, 0.34903741, 0.84620654],\n",
    "       [0.04812803, 0.14411268, 0.54990798],\n",
    "       [0.79566505, 0.63533888, 0.03276685],\n",
    "       [0.55378168, 0.25424957, 0.71898828],\n",
    "       [0.1054361 , 0.70734158, 0.25456412],\n",
    "       [0.51331846, 0.46793084, 0.44032635],\n",
    "       [0.58216843, 0.46214255, 0.12553144],\n",
    "       [0.08834693, 0.13477684, 0.88986768],\n",
    "       [0.39226641, 0.96131601, 0.05423914],\n",
    "       [0.86158737, 0.30404951, 0.42807901]])]\n",
    "\n",
    "ipvu.plot_multi_scatters(\n",
    "    scatters,\n",
    "    color=\"red\",\n",
    "    #size = size\n",
    ")"
   ]
  },
  {
   "cell_type": "code",
   "execution_count": null,
   "id": "4cdae97e",
   "metadata": {},
   "outputs": [],
   "source": [
    "ipvu.plot_objects(\n",
    "    skeletons=[np.array([[1,2,3],[4,5,6]]).reshape(-1,2,3)],\n",
    "    scatters=[np.random.rand(10,3)]\n",
    ")"
   ]
  },
  {
   "cell_type": "code",
   "execution_count": null,
   "id": "ad97d985",
   "metadata": {},
   "outputs": [],
   "source": [
    "from datasci_tools import ipyvolume_utils as ipvu\n",
    "import ipyvolume  as ipv\n",
    "\n",
    "ipv.clear()\n",
    "ipvu.plot_objects(\n",
    "    scatters=[np.random.rand(10,3)],\n",
    "    scatter_size=10,\n",
    "    set_zoom=1,\n",
    "    axis_box_off=False,\n",
    ")"
   ]
  },
  {
   "cell_type": "code",
   "execution_count": null,
   "id": "74f3cc3b",
   "metadata": {},
   "outputs": [],
   "source": []
  },
  {
   "cell_type": "code",
   "execution_count": null,
   "id": "9d9305ea",
   "metadata": {},
   "outputs": [],
   "source": []
  },
  {
   "cell_type": "code",
   "execution_count": null,
   "id": "ea952940",
   "metadata": {},
   "outputs": [],
   "source": []
  },
  {
   "cell_type": "code",
   "execution_count": null,
   "id": "35323742",
   "metadata": {},
   "outputs": [],
   "source": []
  },
  {
   "cell_type": "code",
   "execution_count": null,
   "id": "9d9d6537",
   "metadata": {},
   "outputs": [],
   "source": []
  },
  {
   "cell_type": "code",
   "execution_count": null,
   "id": "58a6f442",
   "metadata": {},
   "outputs": [],
   "source": []
  },
  {
   "cell_type": "code",
   "execution_count": null,
   "id": "5a3203d9",
   "metadata": {},
   "outputs": [],
   "source": [
    "# Proofreading"
   ]
  },
  {
   "cell_type": "code",
   "execution_count": null,
   "id": "bb1aa8b9",
   "metadata": {},
   "outputs": [],
   "source": []
  },
  {
   "cell_type": "code",
   "execution_count": null,
   "id": "b398db0e",
   "metadata": {},
   "outputs": [],
   "source": []
  },
  {
   "cell_type": "code",
   "execution_count": null,
   "id": "ded6b2b0",
   "metadata": {},
   "outputs": [],
   "source": []
  },
  {
   "cell_type": "code",
   "execution_count": null,
   "id": "467095cc",
   "metadata": {},
   "outputs": [],
   "source": []
  },
  {
   "cell_type": "code",
   "execution_count": null,
   "id": "9215a688",
   "metadata": {},
   "outputs": [],
   "source": []
  },
  {
   "cell_type": "code",
   "execution_count": null,
   "id": "d74537a0",
   "metadata": {},
   "outputs": [],
   "source": []
  },
  {
   "cell_type": "code",
   "execution_count": null,
   "id": "d52f9de6",
   "metadata": {},
   "outputs": [],
   "source": [
    "len(dict_info[\"postsyn\"][\"synapse_ids\"])"
   ]
  },
  {
   "cell_type": "code",
   "execution_count": null,
   "id": "6142a6c5",
   "metadata": {},
   "outputs": [],
   "source": [
    "from datasci_tools import pandas_utils as pu\n",
    "df = syu.synapse_df_from_synapse_dict(dict_info,segment_id = segment_id)\n",
    "filepath = f\"{segment_id}_synapses.csv\"\n",
    "pu.df_to_csv(df,filepath)"
   ]
  },
  {
   "cell_type": "code",
   "execution_count": null,
   "id": "1d54b06e",
   "metadata": {},
   "outputs": [],
   "source": [
    "df"
   ]
  },
  {
   "cell_type": "code",
   "execution_count": null,
   "id": "c144f8d8",
   "metadata": {},
   "outputs": [],
   "source": [
    "df"
   ]
  },
  {
   "cell_type": "code",
   "execution_count": null,
   "id": "d81e564e",
   "metadata": {},
   "outputs": [],
   "source": [
    "syu.synapse_dict_from_synapse_csv(\n",
    "    synapse_filepath = '/neurd_packages/NEURD/Applications/autoproof_neuron_pipeline/864691135510518224_synapses.csv',\n",
    ")"
   ]
  },
  {
   "cell_type": "code",
   "execution_count": null,
   "id": "08e038de",
   "metadata": {},
   "outputs": [],
   "source": [
    "synapse_ids"
   ]
  },
  {
   "cell_type": "code",
   "execution_count": null,
   "id": "147f10b5",
   "metadata": {
    "scrolled": true
   },
   "outputs": [],
   "source": [
    "# find the overlap in files in meshAfterParty\n",
    "from pathlib import Path\n",
    "from datasci_tools import file_utils as filu\n",
    "from datasci_tools import pathlib_utils as plu\n",
    "import numpy as np\n",
    "map_files = plu.files_of_ext_type(\n",
    "    \"/neurd_packages/meshAfterParty/meshAfterParty/\",\n",
    "    ext = \"py\",\n",
    "    return_stem = True,\n",
    ")\n",
    "\n",
    "neurd_files = plu.files_of_ext_type(\n",
    "    \"/neurd_packages/NEURD/neurd/\",\n",
    "    ext = \"py\",\n",
    "    return_stem = True,\n",
    ")\n",
    "\n",
    "interset_files = np.intersect1d(map_files,neurd_files)\n",
    "interset_files"
   ]
  },
  {
   "cell_type": "code",
   "execution_count": null,
   "id": "de01c599",
   "metadata": {},
   "outputs": [],
   "source": [
    "hdju_min.fetch_soma_mesh"
   ]
  },
  {
   "cell_type": "code",
   "execution_count": null,
   "id": "81f257b8",
   "metadata": {},
   "outputs": [],
   "source": [
    "\"\"\"\n",
    "Purpose: Want to move the overlapping files \n",
    "in meshAfterParty into a saved folder with a new name\n",
    "\n",
    "Pseudocode: \n",
    "0) Create a new folder to save files in\n",
    "1) cp the file from meshAfterParty to new folder (with suffix)\n",
    "2) Delete the old filepath\n",
    "\"\"\"\n",
    "from datasci_tools import system_utils as su\n",
    "\n",
    "new_folder = \"/neurd_packages/meshAfterParty/meshAfterParty/neurd_moved_files\"\n",
    "existing_path = \"/neurd_packages/meshAfterParty/meshAfterParty/\"\n",
    "suffix = \"_neurd\"\n",
    "delete_old_files = True\n",
    "verbose = True\n",
    "\n",
    "Path(new_folder).mkdir(exist_ok=True)\n",
    "\n",
    "for f in interset_files:\n",
    "    curr_path = Path(existing_path) / Path(f\"{f}.py\")\n",
    "    final_path =  Path(new_folder) / Path(f\"{f}{suffix}.py\")\n",
    "    if curr_path.exists():\n",
    "        su.copy_file(\n",
    "           curr_path,\n",
    "           final_path,\n",
    "        )\n",
    "        \n",
    "        if verbose:\n",
    "            print(f\"Moved {curr_path}\")\n",
    "\n",
    "        if delete_old_files:\n",
    "            curr_path.unlink()"
   ]
  },
  {
   "cell_type": "code",
   "execution_count": null,
   "id": "a7c0b563",
   "metadata": {},
   "outputs": [],
   "source": [
    "from os import sys\n",
    "sys.path.append(\"/neurd_packages/meshAfterParty/meshAfterParty/\")"
   ]
  },
  {
   "cell_type": "code",
   "execution_count": null,
   "id": "02fb83a8",
   "metadata": {},
   "outputs": [],
   "source": [
    "from dataInterfaceMinnie65 import data_interface as hdju_min"
   ]
  },
  {
   "cell_type": "code",
   "execution_count": null,
   "id": "2e00dfbf",
   "metadata": {},
   "outputs": [],
   "source": [
    "hdju.nuclei_classification_info_from_nucleus_id(\n",
    "    4078\n",
    ")"
   ]
  },
  {
   "cell_type": "code",
   "execution_count": null,
   "id": "c993f026",
   "metadata": {},
   "outputs": [],
   "source": []
  },
  {
   "cell_type": "code",
   "execution_count": null,
   "id": "6c1e8a23",
   "metadata": {},
   "outputs": [],
   "source": []
  },
  {
   "cell_type": "code",
   "execution_count": 74,
   "id": "7bfdd217",
   "metadata": {},
   "outputs": [
    {
     "data": {
      "text/plain": [
       "array([[[1469972.26898917,  644331.51215205, 1105781.49225862],\n",
       "        [1469922.99793769,  644306.57306289, 1105698.12317519]],\n",
       "\n",
       "       [[1469922.99793769,  644306.57306289, 1105698.12317519],\n",
       "        [1469873.03503235,  644278.96793629, 1105616.01554459]],\n",
       "\n",
       "       [[1469873.03503235,  644278.96793629, 1105616.01554459],\n",
       "        [1469822.34841942,  644249.02047451, 1105535.18233182]],\n",
       "\n",
       "       ...,\n",
       "\n",
       "       [[1488880.76058317,  589300.09373793, 1100652.31345512],\n",
       "        [1492710.        ,  587118.        , 1106620.        ]],\n",
       "\n",
       "       [[1488880.76058317,  589300.09373793, 1100652.31345512],\n",
       "        [1486547.7606223 ,  594609.92820407, 1104601.87572914]],\n",
       "\n",
       "       [[1488880.76058317,  589300.09373793, 1100652.31345512],\n",
       "        [1491350.10222965,  582056.70210586, 1101733.55842811]]])"
      ]
     },
     "execution_count": 74,
     "metadata": {},
     "output_type": "execute_result"
    }
   ],
   "source": [
    "neuron_obj.skeleton"
   ]
  },
  {
   "cell_type": "code",
   "execution_count": 76,
   "id": "57697793",
   "metadata": {},
   "outputs": [],
   "source": [
    "import time\n",
    "def nodes_edges_from_skeleton(\n",
    "    skeleton,\n",
    "    verbose = False,):\n",
    "    \n",
    "    if verbose:\n",
    "        st = time.time()\n",
    "    all_skeleton_vertices = skeleton.reshape(-1,3)\n",
    "    unique_rows,indices = np.unique(all_skeleton_vertices,return_inverse=True,axis=0)\n",
    "\n",
    "    #need to merge unique indices so if within a certain range of each other then merge them together\n",
    "    reshaped_indices = indices.reshape(-1,2)\n",
    "    \n",
    "    if verbose:\n",
    "        print(f\"# of unique noes = {len(unique_rows)}\")\n",
    "        print(f\"# of edges = {len(reshaped_indices)}\")\n",
    "        print(f\"Total time = {time.time() - st}\")\n",
    "    \n",
    "    return unique_rows,reshaped_indices"
   ]
  },
  {
   "cell_type": "code",
   "execution_count": 78,
   "id": "370a14b5",
   "metadata": {},
   "outputs": [
    {
     "name": "stdout",
     "output_type": "stream",
     "text": [
      "# of unique noes = 11363\n",
      "# of edges = 11362\n",
      "Total time = 0.014240741729736328\n"
     ]
    },
    {
     "data": {
      "text/plain": [
       "(array([[1430458.66683036,  633163.57383684, 1114154.44979059],\n",
       "        [1430545.59086331,  633147.79231559, 1114107.61954541],\n",
       "        [1430632.04854622,  633135.09839254, 1114059.02719669],\n",
       "        ...,\n",
       "        [1564239.87060205,  578392.43542517, 1066856.18108472],\n",
       "        [1564320.48052889,  578384.67307494, 1066914.838054  ],\n",
       "        [1564397.98216806,  578375.79108058, 1066970.29491043]]),\n",
       " array([[4102, 4096],\n",
       "        [4096, 4089],\n",
       "        [4089, 4082],\n",
       "        ...,\n",
       "        [7414, 7846],\n",
       "        [7414, 6910],\n",
       "        [7414, 7696]]))"
      ]
     },
     "execution_count": 78,
     "metadata": {},
     "output_type": "execute_result"
    }
   ],
   "source": [
    "nodes_edges_from_skeleton(\n",
    "    neuron_obj.skeleton,\n",
    "    verbose = True\n",
    ")"
   ]
  },
  {
   "cell_type": "code",
   "execution_count": 79,
   "id": "a1417e0f",
   "metadata": {},
   "outputs": [
    {
     "name": "stdout",
     "output_type": "stream",
     "text": [
      "# of unique noes = 11363\n",
      "# of edges = 11362\n",
      "Total time = 3.041592597961426\n"
     ]
    },
    {
     "data": {
      "text/plain": [
       "(array([[1430458.66683036,  633163.57383684, 1114154.44979059],\n",
       "        [1430545.59086331,  633147.79231559, 1114107.61954541],\n",
       "        [1430632.04854622,  633135.09839254, 1114059.02719669],\n",
       "        ...,\n",
       "        [1564239.87060205,  578392.43542517, 1066856.18108472],\n",
       "        [1564320.48052889,  578384.67307494, 1066914.838054  ],\n",
       "        [1564397.98216806,  578375.79108058, 1066970.29491043]]),\n",
       " array([[4102, 4096],\n",
       "        [4096, 4089],\n",
       "        [4089, 4082],\n",
       "        ...,\n",
       "        [7414, 7846],\n",
       "        [7414, 6910],\n",
       "        [7414, 7696]]))"
      ]
     },
     "execution_count": 79,
     "metadata": {},
     "output_type": "execute_result"
    }
   ],
   "source": [
    "from mesh_tools import skeleton_utils as sk\n",
    "sk.convert_skeleton_to_nodes_edges(\n",
    "    neuron_obj.skeleton,\n",
    "    verbose = True\n",
    ")"
   ]
  },
  {
   "cell_type": "code",
   "execution_count": null,
   "id": "e74a9d05",
   "metadata": {},
   "outputs": [],
   "source": []
  }
 ],
 "metadata": {
  "kernelspec": {
   "display_name": "Python 3 (ipykernel)",
   "language": "python",
   "name": "python3"
  },
  "language_info": {
   "codemirror_mode": {
    "name": "ipython",
    "version": 3
   },
   "file_extension": ".py",
   "mimetype": "text/x-python",
   "name": "python",
   "nbconvert_exporter": "python",
   "pygments_lexer": "ipython3",
   "version": "3.8.0"
  }
 },
 "nbformat": 4,
 "nbformat_minor": 5
}
