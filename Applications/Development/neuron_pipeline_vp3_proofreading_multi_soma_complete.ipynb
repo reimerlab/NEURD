{
 "cells": [
  {
   "cell_type": "code",
   "execution_count": 1,
   "id": "077350ae",
   "metadata": {},
   "outputs": [],
   "source": [
    "%load_ext autoreload\n",
    "%autoreload 2"
   ]
  },
  {
   "cell_type": "code",
   "execution_count": 2,
   "id": "c0765d62",
   "metadata": {
    "scrolled": true
   },
   "outputs": [
    {
     "name": "stdout",
     "output_type": "stream",
     "text": [
      "Jupyter environment detected. Enabling Open3D WebVisualizer.\n",
      "[Open3D INFO] WebRTC GUI backend enabled.\n",
      "[Open3D INFO] WebRTCWindowSystem: HTTP handshake server disabled.\n"
     ]
    },
    {
     "name": "stderr",
     "output_type": "stream",
     "text": [
      "WARNING:root:Need to pip install caveclient to repair mesh with pychunkedgraph\n",
      "WARNING:root:Need to pip install caveclient to use dataset_name parameters\n"
     ]
    }
   ],
   "source": [
    "import neurd"
   ]
  },
  {
   "cell_type": "code",
   "execution_count": 3,
   "id": "f59f25d5",
   "metadata": {
    "scrolled": true
   },
   "outputs": [],
   "source": [
    "from mesh_tools import trimesh_utils as tu\n",
    "from datasci_tools import ipyvolume_utils as ipvu\n",
    "from neurd import neuron_visualizations as nviz"
   ]
  },
  {
   "cell_type": "markdown",
   "id": "8c857d7b",
   "metadata": {},
   "source": [
    "# Load the appropriate volume data inferface object"
   ]
  },
  {
   "cell_type": "code",
   "execution_count": 4,
   "id": "863967b7",
   "metadata": {},
   "outputs": [],
   "source": [
    "from neurd.vdi_microns import volume_data_interface as vdi\n",
    "vdi.set_parameters_for_directory_modules()"
   ]
  },
  {
   "cell_type": "markdown",
   "id": "6f9b75c9",
   "metadata": {},
   "source": [
    "# Data Prep: Loading mesh"
   ]
  },
  {
   "cell_type": "code",
   "execution_count": 197,
   "id": "73e640d6",
   "metadata": {},
   "outputs": [
    {
     "name": "stderr",
     "output_type": "stream",
     "text": [
      "[autoreload of cloudvolume.provenance failed: Traceback (most recent call last):\n",
      "  File \"/usr/local/lib/python3.8/dist-packages/IPython/extensions/autoreload.py\", line 273, in check\n",
      "    superreload(m, reload, self.old_objects)\n",
      "  File \"/usr/local/lib/python3.8/dist-packages/IPython/extensions/autoreload.py\", line 471, in superreload\n",
      "    module = reload(module)\n",
      "  File \"/usr/lib/python3.8/importlib/__init__.py\", line 169, in reload\n",
      "    _bootstrap._exec(spec, module)\n",
      "  File \"<frozen importlib._bootstrap>\", line 604, in _exec\n",
      "  File \"<frozen importlib._bootstrap_external>\", line 783, in exec_module\n",
      "  File \"<frozen importlib._bootstrap>\", line 219, in _call_with_frames_removed\n",
      "  File \"/usr/local/lib/python3.8/dist-packages/cloudvolume/provenance.py\", line 44, in <module>\n",
      "    builder = pjs.ObjectBuilder(dataset_provenance_schema)\n",
      "  File \"/usr/local/lib/python3.8/dist-packages/python_jsonschema_objects/__init__.py\", line 59, in __init__\n",
      "    meta_validator = validatorClass(validatorClass.META_SCHEMA)\n",
      "  File \"<attrs generated init jsonschema.validators.create.<locals>.Validator>\", line 7, in __init__\n",
      "    self.__attrs_post_init__()\n",
      "  File \"/usr/local/lib/python3.8/dist-packages/jsonschema/validators.py\", line 273, in __attrs_post_init__\n",
      "    instance=instance,\n",
      "NameError: name '_REMOTE_WARNING_REGISTRY' is not defined\n",
      "]\n"
     ]
    },
    {
     "name": "stdout",
     "output_type": "stream",
     "text": [
      "Unexpected exception formatting exception. Falling back to standard exception\n"
     ]
    },
    {
     "name": "stderr",
     "output_type": "stream",
     "text": [
      "Traceback (most recent call last):\n",
      "  File \"/usr/local/lib/python3.8/dist-packages/IPython/core/interactiveshell.py\", line 3508, in run_code\n",
      "    exec(code_obj, self.user_global_ns, self.user_ns)\n",
      "  File \"/tmp/ipykernel_494/2136458744.py\", line 1, in <module>\n",
      "    np\n",
      "NameError: name 'np' is not defined\n",
      "\n",
      "During handling of the above exception, another exception occurred:\n",
      "\n",
      "Traceback (most recent call last):\n",
      "  File \"/usr/local/lib/python3.8/dist-packages/IPython/core/interactiveshell.py\", line 2105, in showtraceback\n",
      "    stb = self.InteractiveTB.structured_traceback(\n",
      "  File \"/usr/local/lib/python3.8/dist-packages/IPython/core/ultratb.py\", line 1396, in structured_traceback\n",
      "    return FormattedTB.structured_traceback(\n",
      "  File \"/usr/local/lib/python3.8/dist-packages/IPython/core/ultratb.py\", line 1287, in structured_traceback\n",
      "    return VerboseTB.structured_traceback(\n",
      "  File \"/usr/local/lib/python3.8/dist-packages/IPython/core/ultratb.py\", line 1140, in structured_traceback\n",
      "    formatted_exception = self.format_exception_as_a_whole(etype, evalue, etb, number_of_lines_of_context,\n",
      "  File \"/usr/local/lib/python3.8/dist-packages/IPython/core/ultratb.py\", line 1055, in format_exception_as_a_whole\n",
      "    frames.append(self.format_record(record))\n",
      "  File \"/usr/local/lib/python3.8/dist-packages/IPython/core/ultratb.py\", line 955, in format_record\n",
      "    frame_info.lines, Colors, self.has_colors, lvals\n",
      "  File \"/usr/local/lib/python3.8/dist-packages/IPython/core/ultratb.py\", line 778, in lines\n",
      "    return self._sd.lines\n",
      "  File \"/usr/local/lib/python3.8/dist-packages/stack_data/utils.py\", line 144, in cached_property_wrapper\n",
      "    value = obj.__dict__[self.func.__name__] = self.func(obj)\n",
      "  File \"/usr/local/lib/python3.8/dist-packages/stack_data/core.py\", line 734, in lines\n",
      "    pieces = self.included_pieces\n",
      "  File \"/usr/local/lib/python3.8/dist-packages/stack_data/utils.py\", line 144, in cached_property_wrapper\n",
      "    value = obj.__dict__[self.func.__name__] = self.func(obj)\n",
      "  File \"/usr/local/lib/python3.8/dist-packages/stack_data/core.py\", line 677, in included_pieces\n",
      "    scope_pieces = self.scope_pieces\n",
      "  File \"/usr/local/lib/python3.8/dist-packages/stack_data/utils.py\", line 144, in cached_property_wrapper\n",
      "    value = obj.__dict__[self.func.__name__] = self.func(obj)\n",
      "  File \"/usr/local/lib/python3.8/dist-packages/stack_data/core.py\", line 614, in scope_pieces\n",
      "    scope_start, scope_end = self.source.line_range(self.scope)\n",
      "  File \"/usr/local/lib/python3.8/dist-packages/stack_data/core.py\", line 178, in line_range\n",
      "    return line_range(self.asttext(), node)\n",
      "  File \"/usr/local/lib/python3.8/dist-packages/executing/executing.py\", line 428, in asttext\n",
      "    self._asttext = ASTText(self.text, tree=self.tree, filename=self.filename)\n",
      "  File \"/usr/local/lib/python3.8/dist-packages/asttokens/asttokens.py\", line 307, in __init__\n",
      "    super(ASTText, self).__init__(source_text, filename)\n",
      "  File \"/usr/local/lib/python3.8/dist-packages/asttokens/asttokens.py\", line 44, in __init__\n",
      "    source_text = six.ensure_text(source_text)\n",
      "AttributeError: module 'six' has no attribute 'ensure_text'\n"
     ]
    }
   ],
   "source": [
    "np"
   ]
  },
  {
   "cell_type": "code",
   "execution_count": null,
   "id": "1e8a43e6",
   "metadata": {},
   "outputs": [],
   "source": []
  },
  {
   "cell_type": "code",
   "execution_count": 5,
   "id": "a1df55b6",
   "metadata": {},
   "outputs": [],
   "source": [
    "segment_id = 864691135510518224"
   ]
  },
  {
   "cell_type": "code",
   "execution_count": 6,
   "id": "3c95c75b",
   "metadata": {},
   "outputs": [
    {
     "name": "stderr",
     "output_type": "stream",
     "text": [
      "/usr/local/lib/python3.8/dist-packages/traittypes/traittypes.py:97: UserWarning: Given trait value dtype \"float64\" does not match required type \"float64\". A coerced copy has been created.\n",
      "  warnings.warn(\n"
     ]
    },
    {
     "data": {
      "application/vnd.jupyter.widget-view+json": {
       "model_id": "972b7189f4904687be532a65562bd055",
       "version_major": 2,
       "version_minor": 0
      },
      "text/plain": [
       "Container(figure=Figure(box_center=[0.5, 0.5, 0.5], box_size=[1.0, 1.0, 1.0], camera=PerspectiveCamera(fov=45.…"
      ]
     },
     "metadata": {},
     "output_type": "display_data"
    },
    {
     "data": {
      "text/plain": [
       "<trimesh.Trimesh(vertices.shape=(154713, 3), faces.shape=(323535, 3))>"
      ]
     },
     "execution_count": 6,
     "metadata": {},
     "output_type": "execute_result"
    }
   ],
   "source": [
    "mesh = vdi.fetch_segment_id_mesh(\n",
    "    segment_id,\n",
    "    plot = True\n",
    ")\n",
    "mesh"
   ]
  },
  {
   "cell_type": "code",
   "execution_count": 7,
   "id": "0cfc1789",
   "metadata": {},
   "outputs": [
    {
     "data": {
      "text/plain": [
       "<datasci_tools.pipeline.PipelineProducts at 0x7fb87559ae20>"
      ]
     },
     "execution_count": 7,
     "metadata": {},
     "output_type": "execute_result"
    }
   ],
   "source": [
    "from datasci_tools import pipeline\n",
    "\n",
    "products = pipeline.PipelineProducts()\n",
    "products"
   ]
  },
  {
   "cell_type": "markdown",
   "id": "7a30c933",
   "metadata": {},
   "source": [
    "# Step 1: Decimation"
   ]
  },
  {
   "cell_type": "code",
   "execution_count": 8,
   "id": "29e0844f",
   "metadata": {},
   "outputs": [
    {
     "data": {
      "text/plain": [
       "\"\\nNOTE: an already decimated mesh is used for the example\\nin order to speed up time, that's why the mesh_dec\\nobject will be overwritten with original mesh object\\n\""
      ]
     },
     "execution_count": 8,
     "metadata": {},
     "output_type": "execute_result"
    }
   ],
   "source": [
    "\"\"\"\n",
    "NOTE: an already decimated mesh is used for the example\n",
    "in order to speed up time, that's why the mesh_dec\n",
    "object will be overwritten with original mesh object\n",
    "\"\"\""
   ]
  },
  {
   "cell_type": "code",
   "execution_count": 9,
   "id": "cdbb6e70",
   "metadata": {},
   "outputs": [],
   "source": [
    "decimation_parameters = dict(\n",
    "    decimation_ratio =0.25,\n",
    ")"
   ]
  },
  {
   "cell_type": "code",
   "execution_count": 10,
   "id": "b3973f2c",
   "metadata": {},
   "outputs": [
    {
     "name": "stdout",
     "output_type": "stream",
     "text": [
      "xvfb-run -n 1083 -s \"-screen 0 800x600x24\" meshlabserver $@  -i /neurd_packages/NEURD/Applications/autoproof_neuron_pipeline/temp/neuron_45805.off -o /neurd_packages/NEURD/Applications/autoproof_neuron_pipeline/temp/neuron_45805_decimated.off -s /neurd_packages/NEURD/Applications/autoproof_neuron_pipeline/temp/decimation_meshlab_25838599.mls\n"
     ]
    }
   ],
   "source": [
    "mesh_decimated = tu.decimate(\n",
    "    mesh,\n",
    "    **decimation_parameters\n",
    ")"
   ]
  },
  {
   "cell_type": "code",
   "execution_count": 11,
   "id": "bbf7c8d0",
   "metadata": {},
   "outputs": [
    {
     "name": "stdout",
     "output_type": "stream",
     "text": [
      "{\n",
      "  'decimation':\n",
      "  {\n",
      "    'decimation_parameters':\n",
      "    {\n",
      "      'decimation_ratio':0.25,\n",
      "    },\n",
      "  },\n",
      "}\n",
      "\n"
     ]
    }
   ],
   "source": [
    "# saving any parameters used or output products for later use\n",
    "products.set_stage_attrs(\n",
    "    stage = \"decimation\",\n",
    "    attr_dict = dict(\n",
    "        decimation_parameters = decimation_parameters,\n",
    "    ),\n",
    "    \n",
    ")\n",
    "\n",
    "print(products)"
   ]
  },
  {
   "cell_type": "markdown",
   "id": "bc57fd52",
   "metadata": {},
   "source": [
    "# Step 2: Soma Identification"
   ]
  },
  {
   "cell_type": "code",
   "execution_count": 12,
   "id": "6f3d2107",
   "metadata": {},
   "outputs": [],
   "source": [
    "from neurd.vdi_microns import volume_data_interface as vdi\n",
    "vdi.set_parameters_for_directory_modules()"
   ]
  },
  {
   "cell_type": "code",
   "execution_count": 13,
   "id": "8866641c",
   "metadata": {},
   "outputs": [],
   "source": [
    "from neurd import soma_extraction_utils as sm\n",
    "soma_extraction_parameters = dict()"
   ]
  },
  {
   "cell_type": "code",
   "execution_count": 14,
   "id": "b65f18a1",
   "metadata": {},
   "outputs": [
    {
     "data": {
      "text/plain": [
       "{'glia_volume_threshold_in_um_global': 2500,\n",
       " 'glia_n_faces_threshold_global': 400000,\n",
       " 'glia_n_faces_min_global': 100000}"
      ]
     },
     "execution_count": 14,
     "metadata": {},
     "output_type": "execute_result"
    }
   ],
   "source": [
    "# could inspect the parameters of a certain category\n",
    "from neurd import parameter_utils as paru\n",
    "paru.category_param_from_module(\n",
    "        module = sm,\n",
    "        category = \"glia\",\n",
    ")"
   ]
  },
  {
   "cell_type": "code",
   "execution_count": 15,
   "id": "24667352",
   "metadata": {},
   "outputs": [],
   "source": [
    "# overwritting decimated mesh because original was already decimated\n",
    "mesh_decimated = mesh"
   ]
  },
  {
   "cell_type": "code",
   "execution_count": null,
   "id": "b6ff9777",
   "metadata": {
    "scrolled": true
   },
   "outputs": [
    {
     "name": "stdout",
     "output_type": "stream",
     "text": [
      "Current Arguments Using (adjusted for decimation):\n",
      " large_mesh_threshold= 5000.0 \n",
      "large_mesh_threshold_inner = 3250.0 \n",
      "soma_size_threshold = 562.5 \n",
      "soma_size_threshold_max = 75000.0\n",
      "outer_decimation_ratio = 0.25\n",
      "inner_decimation_ratio = 0.25\n",
      "max_mesh_sized_filtered_away = 22500.0\n",
      "xvfb-run -n 5280 -s \"-screen 0 800x600x24\" meshlabserver $@  -i /neurd_packages/NEURD/Applications/autoproof_neuron_pipeline/temp/neuron_88873.off -o /neurd_packages/NEURD/Applications/autoproof_neuron_pipeline/temp/neuron_88873_remove_interior.off -s /neurd_packages/NEURD/Applications/autoproof_neuron_pipeline/temp/remove_interior_759182.mls\n",
      "removed temporary input file: /neurd_packages/NEURD/Applications/autoproof_neuron_pipeline/temp/neuron_88873.off\n",
      "removed temporary output file: /neurd_packages/NEURD/Applications/autoproof_neuron_pipeline/temp/neuron_88873_remove_interior.off\n",
      "/neurd_packages/NEURD/Applications/autoproof_neuron_pipeline/temp/remove_interior_759182.mls is being deleted....\n",
      "There were 16 total interior meshes\n",
      "Pieces satisfying glia requirements (volume) (x >= 2500000000000): 0\n",
      "Pieces satisfying nuclie requirements: n_faces (700 <= x) and volume (x < 2500000000000) : 16\n",
      "inside remove_mesh_interior and using precomputed inside_pieces\n",
      "Removing the following inside neurons: [<trimesh.Trimesh(vertices.shape=(6494, 3), faces.shape=(15575, 3))>, <trimesh.Trimesh(vertices.shape=(3252, 3), faces.shape=(5804, 3))>, <trimesh.Trimesh(vertices.shape=(2064, 3), faces.shape=(4789, 3))>, <trimesh.Trimesh(vertices.shape=(2022, 3), faces.shape=(4628, 3))>, <trimesh.Trimesh(vertices.shape=(1922, 3), faces.shape=(4396, 3))>, <trimesh.Trimesh(vertices.shape=(1089, 3), faces.shape=(2556, 3))>, <trimesh.Trimesh(vertices.shape=(864, 3), faces.shape=(1989, 3))>, <trimesh.Trimesh(vertices.shape=(723, 3), faces.shape=(1611, 3))>, <trimesh.Trimesh(vertices.shape=(693, 3), faces.shape=(1561, 3))>, <trimesh.Trimesh(vertices.shape=(612, 3), faces.shape=(1378, 3))>, <trimesh.Trimesh(vertices.shape=(456, 3), faces.shape=(742, 3))>, <trimesh.Trimesh(vertices.shape=(344, 3), faces.shape=(727, 3))>]\n",
      "\n",
      "\n",
      "Original Mesh size: 323535, Final mesh size: 277773\n",
      "Total time = 19.53029179573059\n",
      "xvfb-run -n 5345 -s \"-screen 0 800x600x24\" meshlabserver $@  -i /neurd_packages/NEURD/Applications/autoproof_neuron_pipeline/12345/neuron_12345.off -o /neurd_packages/NEURD/Applications/autoproof_neuron_pipeline/12345/neuron_12345_decimated.off -s /neurd_packages/NEURD/Applications/autoproof_neuron_pipeline/12345/decimation_meshlab_25483197.mls\n",
      "Total found significant pieces before Poisson = [<trimesh.Trimesh(vertices.shape=(29969, 3), faces.shape=(56262, 3))>]\n",
      "----- working on large mesh #0: <trimesh.Trimesh(vertices.shape=(29969, 3), faces.shape=(56262, 3))>\n",
      "remove_inside_pieces requested \n",
      "xvfb-run -n 9627 -s \"-screen 0 800x600x24\" meshlabserver $@  -i /neurd_packages/NEURD/Applications/autoproof_neuron_pipeline/temp/neuron_72727.off -o /neurd_packages/NEURD/Applications/autoproof_neuron_pipeline/temp/neuron_72727_remove_interior.off -s /neurd_packages/NEURD/Applications/autoproof_neuron_pipeline/temp/remove_interior_707538.mls\n",
      "removed temporary input file: /neurd_packages/NEURD/Applications/autoproof_neuron_pipeline/temp/neuron_72727.off\n",
      "removed temporary output file: /neurd_packages/NEURD/Applications/autoproof_neuron_pipeline/temp/neuron_72727_remove_interior.off\n",
      "/neurd_packages/NEURD/Applications/autoproof_neuron_pipeline/temp/remove_interior_707538.mls is being deleted....\n",
      "No significant (1000) interior meshes present\n",
      "largest is 163\n",
      "pre_largest_mesh_path = /neurd_packages/NEURD/Applications/autoproof_neuron_pipeline/12345/neuron_12345_decimated_largest_piece.off\n",
      "xvfb-run -n 8547 -s \"-screen 0 800x600x24\" meshlabserver $@  -i /neurd_packages/NEURD/Applications/autoproof_neuron_pipeline/12345/neuron_12345_decimated_largest_piece.off -o /neurd_packages/NEURD/Applications/autoproof_neuron_pipeline/12345/neuron_12345_decimated_largest_piece_poisson.off -s /neurd_packages/NEURD/Applications/autoproof_neuron_pipeline/12345/poisson_220084.mls\n"
     ]
    }
   ],
   "source": [
    "from neurd import neuron_visualizations as nviz\n",
    "\n",
    "verbose = True\n",
    "\n",
    "soma_products = sm.soma_indentification(\n",
    "    mesh_decimated,\n",
    "    verbose=verbose,\n",
    "    **soma_extraction_parameters\n",
    ")"
   ]
  },
  {
   "cell_type": "code",
   "execution_count": null,
   "id": "6a79d754",
   "metadata": {},
   "outputs": [],
   "source": [
    "sm.plot_soma_products(\n",
    "    mesh_decimated,\n",
    "    soma_products = soma_products,\n",
    "    verbose = True\n",
    ")"
   ]
  },
  {
   "cell_type": "code",
   "execution_count": null,
   "id": "e43e9f14",
   "metadata": {},
   "outputs": [],
   "source": [
    "soma_products.soma_extraction_parameters = soma_extraction_parameters\n",
    "soma_products"
   ]
  },
  {
   "cell_type": "code",
   "execution_count": null,
   "id": "a5056278",
   "metadata": {
    "scrolled": true
   },
   "outputs": [],
   "source": [
    "products.set_stage_attrs(\n",
    "    stage = \"soma_identification\",\n",
    "    attr_dict = soma_products,\n",
    ")\n",
    "\n",
    "print(products)"
   ]
  },
  {
   "cell_type": "markdown",
   "id": "da45be47",
   "metadata": {},
   "source": [
    "# Step 2b: Saving off pipeline products"
   ]
  },
  {
   "cell_type": "code",
   "execution_count": null,
   "id": "c99ef858",
   "metadata": {},
   "outputs": [],
   "source": [
    "from datasci_tools import system_utils as su\n",
    "su.save_object(\n",
    "    products,\"products_up_to_soma_stage\")"
   ]
  },
  {
   "cell_type": "markdown",
   "id": "bfdbcc82",
   "metadata": {},
   "source": [
    "# Step 3: Decomposition"
   ]
  },
  {
   "cell_type": "code",
   "execution_count": 21,
   "id": "84193a27",
   "metadata": {
    "scrolled": true
   },
   "outputs": [
    {
     "name": "stdout",
     "output_type": "stream",
     "text": [
      "After combining close endpoints max(kept_branches_idx) = 26, len(kept_branches_idx) = 25\n",
      "empty_indices % = 0.0\n",
      " conflict_indices % = 0.010165121237665492\n"
     ]
    },
    {
     "data": {
      "application/vnd.jupyter.widget-view+json": {
       "model_id": "5e899d2ba170458480a988d06e40d980",
       "version_major": 2,
       "version_minor": 0
      },
      "text/plain": [
       "  0%|          | 0/11 [00:00<?, ?it/s]"
      ]
     },
     "metadata": {},
     "output_type": "display_data"
    },
    {
     "data": {
      "application/vnd.jupyter.widget-view+json": {
       "model_id": "1ac9e35ad1ad415fbd5eb1aac5c072d6",
       "version_major": 2,
       "version_minor": 0
      },
      "text/plain": [
       "  0%|          | 0/25 [00:00<?, ?it/s]"
      ]
     },
     "metadata": {},
     "output_type": "display_data"
    },
    {
     "name": "stdout",
     "output_type": "stream",
     "text": [
      "Decomposing first pass: 2.916431188583374\n",
      "Attempting to use MeshAfterParty Skeletonization and Mesh Correspondence\n",
      "Another print\n",
      "Divinding into MP and MAP pieces: 3.528594970703125e-05\n",
      "Total time for MAP sublimb processing 2.6226043701171875e-06\n",
      "---- Working on MP Decomposition #0 ----\n",
      "Using Quicker soma_to_piece_touching_vertices because no MAP and only one sublimb_mesh piece \n",
      "MP filtering soma verts: 1.6450881958007812e-05\n",
      "Fixing Possible Soma Extension Branch for Sublimb 0\n",
      "Total time for mesh KDTree = 0.04030895233154297\n",
      "sbv[0].reshape(-1,3) = [[1484150.   588282.7 1095391. ]]\n",
      "closest_sk_pt_coord BEFORE = [1483982.08022895  588135.81137922 1094821.63000965]\n",
      "current_skeleton.shape = (556, 2, 3)\n",
      "node_for_stitch = 556: [1483982.08022895  588135.81137922 1094821.63000965]\n",
      "node_for_stitch AFTER = 556: [1483982.08022895  588135.81137922 1094821.63000965]\n",
      "possible_node_loc = [  2 556]\n",
      "possible_node_loc AFTER = [  2 556]\n",
      "curr_shortest_path = [556]\n",
      "Current stitch point was a branch or endpoint\n",
      "change_status for create soma extending pieces = False\n",
      "closest_sk_pt_coord AFTER = [1483982.08022895  588135.81137922 1094821.63000965]\n",
      "skipping soma 0 because closest skeleton node was already end node\n",
      "endpoints_must_keep = {0: array([[1483982.08022895,  588135.81137922, 1094821.63000965]])}\n",
      "match_sk_branches = [3]\n",
      "The new branch info was none so skipping \n",
      "\n",
      "No soma extending branch was added for this sublimb even though it had a soma border (means they already existed)\n",
      "MP (because soma touching verts) soma extension add: 0.21874761581420898\n",
      "There were not both MAP and MP pieces so skipping the stitch resolving phase\n",
      "Time for decomp of Limb = 3.7661352157592773\n",
      "Number of matching vertices = 20\n",
      "Only one endpoint after filtering away the endpoints that are not on the skeleton\n",
      "Removed 0 skeletal branches\n"
     ]
    },
    {
     "data": {
      "application/vnd.jupyter.widget-view+json": {
       "model_id": "9b0b49b9293d4577af277dda80e8993a",
       "version_major": 2,
       "version_minor": 0
      },
      "text/plain": [
       "  0%|          | 0/25 [00:00<?, ?it/s]"
      ]
     },
     "metadata": {},
     "output_type": "display_data"
    },
    {
     "name": "stdout",
     "output_type": "stream",
     "text": [
      "40338 40339\n",
      "For marked faces: None\n",
      "empty_indices % = 0.0\n",
      " conflict_indices % = 0.0\n"
     ]
    },
    {
     "data": {
      "application/vnd.jupyter.widget-view+json": {
       "model_id": "3eac0817558a4a70bee934102021fef7",
       "version_major": 2,
       "version_minor": 0
      },
      "text/plain": [
       "0it [00:00, ?it/s]"
      ]
     },
     "metadata": {},
     "output_type": "display_data"
    },
    {
     "data": {
      "application/vnd.jupyter.widget-view+json": {
       "model_id": "2cf6d670d68a454d853296f86a852416",
       "version_major": 2,
       "version_minor": 0
      },
      "text/plain": [
       "  0%|          | 0/25 [00:00<?, ?it/s]"
      ]
     },
     "metadata": {},
     "output_type": "display_data"
    },
    {
     "name": "stdout",
     "output_type": "stream",
     "text": [
      "Successful Limb Decomposition\n",
      "\n",
      "\n",
      "----- Working on Proper Limb # 2 ---------\n",
      "meshparty_segment_size = 100\n",
      "invalidation_d = 12000\n",
      "use_adaptive_invalidation_d= False\n",
      "axon_width_preprocess_limb_max = 200\n",
      "filter_end_node_length= 4000\n",
      "filter_end_node_length_meshparty = 4000\n",
      "invalidation_d = 12000\n",
      "root_curr = [1476534.   581771.6 1109552. ]\n",
      "Time for preparing soma vertices and root: 0.0001590251922607422\n",
      "invalidation_d = 12000\n",
      "smooth_neighborhood = 1\n",
      "cc_vertex_thresh = 10\n"
     ]
    },
    {
     "name": "stderr",
     "output_type": "stream",
     "text": [
      "\r",
      "  0%|          | 0/1 [00:00<?, ?it/s]"
     ]
    },
    {
     "data": {
      "application/vnd.jupyter.widget-view+json": {
       "model_id": "499760fc91244603bbe418d1558f63f5",
       "version_major": 2,
       "version_minor": 0
      },
      "text/plain": [
       "  0%|          | 0/20030 [00:00<?, ?it/s]"
      ]
     },
     "metadata": {},
     "output_type": "display_data"
    },
    {
     "name": "stderr",
     "output_type": "stream",
     "text": [
      "100%|██████████| 1/1 [00:00<00:00, 12.11it/s]\n"
     ]
    },
    {
     "name": "stdout",
     "output_type": "stream",
     "text": [
      "meshparty_segment_size = 100\n",
      "Time for 1st pass MP skeletonization: 0.23192667961120605\n",
      "branches_touching_root = [1]\n",
      "combining close nodes\n",
      "combine_threshold = 700\n",
      "length of Graph = 2074\n",
      "After combining close endpoints max(kept_branches_idx) = 2, len(kept_branches_idx) = 3\n",
      "empty_indices % = 0.0\n",
      " conflict_indices % = 0.002637462007987742\n"
     ]
    },
    {
     "data": {
      "application/vnd.jupyter.widget-view+json": {
       "model_id": "5a873fbd436b4f13b2f5e05029b11777",
       "version_major": 2,
       "version_minor": 0
      },
      "text/plain": [
       "  0%|          | 0/1 [00:00<?, ?it/s]"
      ]
     },
     "metadata": {},
     "output_type": "display_data"
    },
    {
     "data": {
      "application/vnd.jupyter.widget-view+json": {
       "model_id": "8cbee15e2e12414489be2fe953ba34ca",
       "version_major": 2,
       "version_minor": 0
      },
      "text/plain": [
       "  0%|          | 0/3 [00:00<?, ?it/s]"
      ]
     },
     "metadata": {},
     "output_type": "display_data"
    },
    {
     "name": "stdout",
     "output_type": "stream",
     "text": [
      "Decomposing first pass: 1.4778282642364502\n",
      "Attempting to use MeshAfterParty Skeletonization and Mesh Correspondence\n",
      "Another print\n",
      "Found len(mesh_large_idx) MAP candidates: [2091]\n",
      "mesh_large_connectivity: 0.00011682510375976562\n",
      "Finding MAP candidates connected components: 5.936622619628906e-05\n",
      "len(filtered_pieces) = 1\n",
      "skeleton_connectivity_MP : 0.052546024322509766\n",
      "Grouping MP Sublimbs by Graph: 0.021500349044799805\n",
      "Divinding into MP and MAP pieces: 7.152557373046875e-07\n",
      "--- Working on MAP piece 0---\n",
      "MAP Filtering Soma Pieces: 0.0006649494171142578\n",
      "inside skeletonize_connected_branch and use_surface_after_CGAL=True, surface_reconstruction_size=1000\n",
      "keep_idx = [0]\n",
      "     Starting Screened Poisson\n",
      "xvfb-run -n 1535 -s \"-screen 0 800x600x24\" meshlabserver $@  -i /neurd_packages/NEURD/Applications/autoproof_neuron_pipeline/temp/None.off -o /neurd_packages/NEURD/Applications/autoproof_neuron_pipeline/temp/None_poisson.off -s /neurd_packages/NEURD/Applications/autoproof_neuron_pipeline/temp/poisson_945024.mls\n",
      "removed temporary input file: /neurd_packages/NEURD/Applications/autoproof_neuron_pipeline/temp/None.off\n",
      "removed temporary output file: /neurd_packages/NEURD/Applications/autoproof_neuron_pipeline/temp/None_poisson.off\n",
      "Using the close holes feature\n",
      "xvfb-run -n 4234 -s \"-screen 0 800x600x24\" meshlabserver $@  -i /neurd_packages/NEURD/Applications/autoproof_neuron_pipeline/temp/neuron_16311.off -o /neurd_packages/NEURD/Applications/autoproof_neuron_pipeline/temp/neuron_16311_fill_holes.off -s /neurd_packages/NEURD/Applications/autoproof_neuron_pipeline/temp/fill_holes_998445.mls\n",
      "removed temporary input file: /neurd_packages/NEURD/Applications/autoproof_neuron_pipeline/temp/neuron_16311.off\n",
      "removed temporary output file: /neurd_packages/NEURD/Applications/autoproof_neuron_pipeline/temp/neuron_16311_fill_holes.off\n",
      "/neurd_packages/NEURD/Applications/autoproof_neuron_pipeline/temp/fill_holes_998445.mls is being deleted....\n",
      "-----Time for Screened Poisson= 6.896522045135498\n",
      "mesh_pieces = [<trimesh.Trimesh(vertices.shape=(1993, 3), faces.shape=(3982, 3))>]\n",
      "     Starting Calcification (Changed back where stitches large poissons)\n",
      "Manifold status before skeletonization = True\n",
      "Watertight status before skeletonization = True\n",
      "min_edge_length = 75\n",
      "Before mesh subtraction number of skeleton edges = 76\n"
     ]
    },
    {
     "data": {
      "application/vnd.jupyter.widget-view+json": {
       "model_id": "c29ee81a19ac4f55ab3cde715425d3bf",
       "version_major": 2,
       "version_minor": 0
      },
      "text/plain": [
       "0it [00:00, ?it/s]"
      ]
     },
     "metadata": {},
     "output_type": "display_data"
    },
    {
     "name": "stdout",
     "output_type": "stream",
     "text": [
      "len(leftover_meshes_sig) = []\n"
     ]
    },
    {
     "data": {
      "application/vnd.jupyter.widget-view+json": {
       "model_id": "24965dc91fdc40a7810e39b6db6daa8c",
       "version_major": 2,
       "version_minor": 0
      },
      "text/plain": [
       "0it [00:00, ?it/s]"
      ]
     },
     "metadata": {},
     "output_type": "display_data"
    },
    {
     "name": "stdout",
     "output_type": "stream",
     "text": [
      "No skeletons to stack so returning empty list\n",
      "STacking the leftover and significant poisson skeleton\n",
      "max_stitch_distance = 5000\n",
      "len_subgraphs AT BEGINNING of the loop\n"
     ]
    },
    {
     "data": {
      "application/vnd.jupyter.widget-view+json": {
       "model_id": "b528ebf8774c442ea3223c03dcbc6f18",
       "version_major": 2,
       "version_minor": 0
      },
      "text/plain": [
       "  0%|          | 0/1 [00:00<?, ?it/s]"
      ]
     },
     "metadata": {},
     "output_type": "display_data"
    },
    {
     "name": "stdout",
     "output_type": "stream",
     "text": [
      "all graph is one component!\n",
      "Total time for skeleton stitching = 0.012726306915283203\n",
      "The process was using a temp folder\n",
      "Checking connected components after skeletonize_connected_branch\n",
      "    Total time for skeletonizing branch: 7.325097322463989\n",
      "Checking connected components after removing cycles\n",
      "Total time for mesh KDTree = 0.022324085235595703\n",
      "sbv[0].reshape(-1,3) = [[1476534.   581771.6 1109552. ]]\n",
      "closest_sk_pt_coord BEFORE = [1476750.  582471. 1109370.]\n",
      "current_skeleton.shape = (75, 2, 3)\n",
      "node_for_stitch = 0: [1476750.  582471. 1109370.]\n",
      "node_for_stitch AFTER = 0: [1476750.  582471. 1109370.]\n",
      "possible_node_loc = [ 0 75]\n",
      "possible_node_loc AFTER = [ 0 75]\n",
      "curr_shortest_path = [0]\n",
      "Current stitch point was a branch or endpoint\n",
      "change_status for create soma extending pieces = False\n",
      "closest_sk_pt_coord AFTER = [1476750.  582471. 1109370.]\n",
      "skipping soma 1 because closest skeleton node was already end node\n",
      "endpoints_must_keep = {1: array([[1476750.,  582471., 1109370.]])}\n",
      "    Total time for Fixing Skeleton Soma Endpoint Extension : 0.126633882522583\n",
      "filter_end_node_length = 4000\n",
      "Checking connected components after clean_skeleton\n",
      "after DISTANCE cleaning limb size of skeleton = (75, 2, 3)\n",
      "********COMBINING CLOSE SKELETON NODES WITHIN 700 DISTANCE**********\n",
      "combine_threshold = 700\n",
      "Found 0 valid paths to replace\n",
      "valid_paths = []\n",
      "valid_path_lengths = []\n",
      "No valid paths found so just returning the original\n",
      "skeletonize_and_clean_connected_branch_CGAL: 7.503108501434326\n",
      "Working on limb correspondence for #0 MAP piece\n",
      "xvfb-run -n 348 -s \"-screen 0 800x600x24\" meshlabserver $@  -i /neurd_packages/NEURD/Applications/autoproof_neuron_pipeline/temp/neuron_21048.off -o /neurd_packages/NEURD/Applications/autoproof_neuron_pipeline/temp/neuron_21048_remove_interior.off -s /neurd_packages/NEURD/Applications/autoproof_neuron_pipeline/temp/remove_interior_505020.mls\n",
      "removed temporary input file: /neurd_packages/NEURD/Applications/autoproof_neuron_pipeline/temp/neuron_21048.off\n",
      "removed temporary output file: /neurd_packages/NEURD/Applications/autoproof_neuron_pipeline/temp/neuron_21048_remove_interior.off\n",
      "/neurd_packages/NEURD/Applications/autoproof_neuron_pipeline/temp/remove_interior_505020.mls is being deleted....\n",
      "No significant (100) interior meshes present\n",
      "largest is 3\n"
     ]
    },
    {
     "data": {
      "application/vnd.jupyter.widget-view+json": {
       "model_id": "1f30369e2e3e4784af03cb5ca6ef4307",
       "version_major": 2,
       "version_minor": 0
      },
      "text/plain": [
       "0it [00:00, ?it/s]"
      ]
     },
     "metadata": {},
     "output_type": "display_data"
    },
    {
     "name": "stdout",
     "output_type": "stream",
     "text": [
      "Total time for decomposition = 0.930884838104248\n",
      "mesh_correspondence_first_pass: 0.9309165477752686\n",
      "Limb decomposed into 1 branches\n",
      "divided_skeleton_graph_recovered = (75, 2, 3) and \n",
      "current_mesh_data[0]['branch_skeletons_cleaned'].shape = (75, 2, 3)\n",
      "\n",
      "Number of connected components in deocmposed recovered graph = 1\n",
      "Number of connected components in cleaned skeleton graph= 1\n",
      "The downsampled branches number of connected components = 1\n",
      "Empty submeshes = []\n",
      "\n",
      "\n",
      "--- Working on 1-to-1 correspondence-----\n",
      "max(original_labels),len(original_labels) = (0, 1)\n",
      "empty_indices % = 0.14299378287900527\n",
      " conflict_indices % = 0.0\n"
     ]
    },
    {
     "data": {
      "application/vnd.jupyter.widget-view+json": {
       "model_id": "f2b3d8a969f7462390854cd72755a2c9",
       "version_major": 2,
       "version_minor": 0
      },
      "text/plain": [
       "  0%|          | 0/5 [00:00<?, ?it/s]"
      ]
     },
     "metadata": {},
     "output_type": "display_data"
    },
    {
     "name": "stdout",
     "output_type": "stream",
     "text": [
      "Took 0 iterations to expand the label back\n",
      "empty_indices % = 0.0\n",
      " conflict_indices % = 0.0\n"
     ]
    },
    {
     "data": {
      "application/vnd.jupyter.widget-view+json": {
       "model_id": "a1f2a4c7c90d46f984c59d891b1178d7",
       "version_major": 2,
       "version_minor": 0
      },
      "text/plain": [
       "0it [00:00, ?it/s]"
      ]
     },
     "metadata": {},
     "output_type": "display_data"
    },
    {
     "data": {
      "application/vnd.jupyter.widget-view+json": {
       "model_id": "2348dd63901c41569e1ff35e648e612d",
       "version_major": 2,
       "version_minor": 0
      },
      "text/plain": [
       "  0%|          | 0/1 [00:00<?, ?it/s]"
      ]
     },
     "metadata": {},
     "output_type": "display_data"
    },
    {
     "name": "stdout",
     "output_type": "stream",
     "text": [
      "Total time for MAP sublimb #0 mesh processing = 8.585468053817749\n",
      "correspondence_1_to_1: 0.15078115463256836\n",
      "Total time for MAP sublimb processing 8.585540771484375\n",
      "---- Working on MP Decomposition #0 ----\n",
      "Computing the current soma touching verts dict manually\n",
      "MP filtering soma verts: 0.005060434341430664\n",
      "Do Not Need to Fix MP Decomposition 0 so just continuing\n",
      "Successful mesh connectivity with type edges\n",
      "\n",
      "---- Working on (0, 0) connection-----\n",
      "sk_conn = [0, 1]\n",
      "conn = [0, 1]\n",
      "winning_vertex = [1481900.72163354  586937.6302398  1100472.34094648]\n",
      "MP_branches_with_stitch_point = [0, 1]\n",
      "MAP_branches_with_stitch_point = [0]\n",
      "MAP_stitch_point_on_end_or_branch = True\n"
     ]
    },
    {
     "data": {
      "application/vnd.jupyter.widget-view+json": {
       "model_id": "c95a594b2b08475ba710fca609fcbea4",
       "version_major": 2,
       "version_minor": 0
      },
      "text/plain": [
       "0it [00:00, ?it/s]"
      ]
     },
     "metadata": {},
     "output_type": "display_data"
    },
    {
     "name": "stdout",
     "output_type": "stream",
     "text": [
      "\n",
      "\n",
      "--- Working on 1-to-1 correspondence-----\n",
      "max(original_labels),len(original_labels) = (2, 3)\n",
      "empty_indices % = 0.20358694833086333\n",
      " conflict_indices % = 0.009444625857175152\n"
     ]
    },
    {
     "data": {
      "application/vnd.jupyter.widget-view+json": {
       "model_id": "725b128ad161472b9dc5d29622b4ad13",
       "version_major": 2,
       "version_minor": 0
      },
      "text/plain": [
       "  0%|          | 0/129 [00:00<?, ?it/s]"
      ]
     },
     "metadata": {},
     "output_type": "display_data"
    },
    {
     "data": {
      "application/vnd.jupyter.widget-view+json": {
       "model_id": "77602b472d2c4be69efaa25229f7d6fc",
       "version_major": 2,
       "version_minor": 0
      },
      "text/plain": [
       "  0%|          | 0/3 [00:00<?, ?it/s]"
      ]
     },
     "metadata": {},
     "output_type": "display_data"
    },
    {
     "name": "stdout",
     "output_type": "stream",
     "text": [
      "MP_branches_with_stitch_point= [0, 1]\n",
      "MP_branches_for_correspondence = [0 1]\n",
      "MP_leftover = [], MP_leftover_idx = []\n",
      " Finished with (0, 0) \n",
      "\n",
      "\n",
      "\n",
      "Time for decomp of Limb = 16.455724954605103\n",
      "Number of matching vertices = 14\n",
      "Only one endpoint after filtering away the endpoints that are not on the skeleton\n",
      "Removed 0 skeletal branches\n"
     ]
    },
    {
     "data": {
      "application/vnd.jupyter.widget-view+json": {
       "model_id": "4b438a6016814874a2cf44b05da011bd",
       "version_major": 2,
       "version_minor": 0
      },
      "text/plain": [
       "  0%|          | 0/3 [00:00<?, ?it/s]"
      ]
     },
     "metadata": {},
     "output_type": "display_data"
    },
    {
     "name": "stdout",
     "output_type": "stream",
     "text": [
      "39810 39811\n",
      "For marked faces: None\n",
      "empty_indices % = 0.0\n",
      " conflict_indices % = 0.0\n"
     ]
    },
    {
     "data": {
      "application/vnd.jupyter.widget-view+json": {
       "model_id": "a32e44c536eb4b3a98146f334a9b3782",
       "version_major": 2,
       "version_minor": 0
      },
      "text/plain": [
       "0it [00:00, ?it/s]"
      ]
     },
     "metadata": {},
     "output_type": "display_data"
    },
    {
     "data": {
      "application/vnd.jupyter.widget-view+json": {
       "model_id": "5c76a3f1318440d1934e15de38450f6b",
       "version_major": 2,
       "version_minor": 0
      },
      "text/plain": [
       "  0%|          | 0/3 [00:00<?, ?it/s]"
      ]
     },
     "metadata": {},
     "output_type": "display_data"
    },
    {
     "name": "stdout",
     "output_type": "stream",
     "text": [
      "Successful Limb Decomposition\n",
      "\n",
      "\n",
      "----- Working on Proper Limb # 3 ---------\n",
      "meshparty_segment_size = 100\n",
      "invalidation_d = 12000\n",
      "use_adaptive_invalidation_d= False\n",
      "axon_width_preprocess_limb_max = 200\n",
      "filter_end_node_length= 4000\n",
      "filter_end_node_length_meshparty = 4000\n",
      "invalidation_d = 12000\n",
      "root_curr = [1474851.   571357.5 1113536. ]\n",
      "Time for preparing soma vertices and root: 0.0001678466796875\n",
      "invalidation_d = 12000\n",
      "smooth_neighborhood = 1\n",
      "cc_vertex_thresh = 10\n"
     ]
    },
    {
     "name": "stderr",
     "output_type": "stream",
     "text": [
      "\r",
      "  0%|          | 0/1 [00:00<?, ?it/s]"
     ]
    },
    {
     "data": {
      "application/vnd.jupyter.widget-view+json": {
       "model_id": "8c7fab34f46a40e6aad7b0a981262034",
       "version_major": 2,
       "version_minor": 0
      },
      "text/plain": [
       "  0%|          | 0/11304 [00:00<?, ?it/s]"
      ]
     },
     "metadata": {},
     "output_type": "display_data"
    },
    {
     "name": "stderr",
     "output_type": "stream",
     "text": [
      "100%|██████████| 1/1 [00:00<00:00, 14.10it/s]\n"
     ]
    },
    {
     "name": "stdout",
     "output_type": "stream",
     "text": [
      "meshparty_segment_size = 100\n",
      "Time for 1st pass MP skeletonization: 0.25058817863464355\n",
      "connecting at the root\n",
      "branches_touching_root = [2]\n",
      "combining close nodes\n",
      "combine_threshold = 700\n",
      "length of Graph = 1216\n",
      "After combining close endpoints max(kept_branches_idx) = 2, len(kept_branches_idx) = 3\n",
      "empty_indices % = 0.0\n",
      " conflict_indices % = 0.0026850443032310034\n"
     ]
    },
    {
     "data": {
      "application/vnd.jupyter.widget-view+json": {
       "model_id": "e0f318f252ee491c960a367749f79d3f",
       "version_major": 2,
       "version_minor": 0
      },
      "text/plain": [
       "  0%|          | 0/1 [00:00<?, ?it/s]"
      ]
     },
     "metadata": {},
     "output_type": "display_data"
    },
    {
     "data": {
      "application/vnd.jupyter.widget-view+json": {
       "model_id": "00b86cabce35456f98bdcb13e016f774",
       "version_major": 2,
       "version_minor": 0
      },
      "text/plain": [
       "  0%|          | 0/3 [00:00<?, ?it/s]"
      ]
     },
     "metadata": {},
     "output_type": "display_data"
    },
    {
     "name": "stdout",
     "output_type": "stream",
     "text": [
      "Decomposing first pass: 0.667788028717041\n",
      "Attempting to use MeshAfterParty Skeletonization and Mesh Correspondence\n",
      "Another print\n",
      "Divinding into MP and MAP pieces: 4.744529724121094e-05\n",
      "Total time for MAP sublimb processing 3.5762786865234375e-06\n",
      "---- Working on MP Decomposition #0 ----\n",
      "Using Quicker soma_to_piece_touching_vertices because no MAP and only one sublimb_mesh piece \n",
      "MP filtering soma verts: 2.0742416381835938e-05\n",
      "Fixing Possible Soma Extension Branch for Sublimb 0\n",
      "Total time for mesh KDTree = 0.07314538955688477\n",
      "sbv[0].reshape(-1,3) = [[1474851.   571357.5 1113536. ]]\n",
      "closest_sk_pt_coord BEFORE = [1478327.0746533   571496.39513115 1112568.79431172]\n",
      "current_skeleton.shape = (816, 2, 3)\n",
      "node_for_stitch = 79: [1478327.0746533   571496.39513115 1112568.79431172]\n",
      "node_for_stitch AFTER = 79: [1478327.0746533   571496.39513115 1112568.79431172]\n",
      "possible_node_loc = [  0 816]\n",
      "possible_node_loc AFTER = [  0 816]\n",
      "curr_shortest_path = [79, 78.0, 77.0, 76.0, 75.0, 74.0, 73.0, 72.0, 71.0, 70.0, 69.0, 68.0, 67.0, 66.0, 65.0, 64.0, 63.0, 62.0, 61.0, 60.0, 59.0, 58.0, 57.0, 56.0, 55.0, 54.0, 53.0, 52.0, 51.0, 50.0, 49.0, 48.0, 47.0, 46.0, 45.0, 44.0, 43.0, 42.0, 41.0, 40.0, 39.0, 38.0, 37.0, 36.0, 35.0, 34.0, 33.0, 32.0, 31.0, 30.0, 29.0, 28.0, 27.0, 26.0, 25.0, 24.0, 23.0, 22.0, 21.0, 20.0, 19.0, 18.0, 17.0, 16.0, 15.0, 14.0, 13.0, 12.0, 11.0, 10.0, 9.0, 8.0, 7.0, 6.0, 5.0, 4.0, 3.0, 2.0, 1.0, 0]\n",
      "Current stitch point was not a branch or endpoint, shortest_path_length to one = 7899.09708045272\n",
      "change_status for create soma extending pieces = False\n",
      "closest_sk_pt_coord AFTER = [1478327.0746533   571496.39513115 1112568.79431172]\n",
      "Adding new branch to skeleton\n",
      "border_average_coordinate = [1475123.88888889  571587.50555556 1113243.55555556]\n",
      "endpoints_must_keep = {1: array([[1475123.88888889,  571587.50555556, 1113243.55555556]])}\n",
      "match_sk_branches = []\n",
      "orig_vertex = [1478327.0746533   571496.39513115 1112568.79431172]\n",
      "match_sk_branches = [2]\n"
     ]
    },
    {
     "data": {
      "application/vnd.jupyter.widget-view+json": {
       "model_id": "a49d823d9a984f8f835f4ca97b7c7dfb",
       "version_major": 2,
       "version_minor": 0
      },
      "text/plain": [
       "0it [00:00, ?it/s]"
      ]
     },
     "metadata": {},
     "output_type": "display_data"
    },
    {
     "name": "stdout",
     "output_type": "stream",
     "text": [
      "\n",
      "\n",
      "--- Working on 1-to-1 correspondence-----\n",
      "max(original_labels),len(original_labels) = (2, 3)\n",
      "empty_indices % = 0.20502645502645503\n",
      " conflict_indices % = 0.0\n"
     ]
    },
    {
     "data": {
      "application/vnd.jupyter.widget-view+json": {
       "model_id": "620b38cfe8dd4f96a91c85237b4676fa",
       "version_major": 2,
       "version_minor": 0
      },
      "text/plain": [
       "  0%|          | 0/50 [00:00<?, ?it/s]"
      ]
     },
     "metadata": {},
     "output_type": "display_data"
    },
    {
     "name": "stdout",
     "output_type": "stream",
     "text": [
      "Took 0 iterations to expand the label back\n",
      "empty_indices % = 0.0\n",
      " conflict_indices % = 0.0\n"
     ]
    },
    {
     "data": {
      "application/vnd.jupyter.widget-view+json": {
       "model_id": "d51d06d9cf044a7b85676c696857aafc",
       "version_major": 2,
       "version_minor": 0
      },
      "text/plain": [
       "0it [00:00, ?it/s]"
      ]
     },
     "metadata": {},
     "output_type": "display_data"
    },
    {
     "data": {
      "application/vnd.jupyter.widget-view+json": {
       "model_id": "3942a8563da74026b9e7d6912ccaffa8",
       "version_major": 2,
       "version_minor": 0
      },
      "text/plain": [
       "  0%|          | 0/3 [00:00<?, ?it/s]"
      ]
     },
     "metadata": {},
     "output_type": "display_data"
    },
    {
     "name": "stdout",
     "output_type": "stream",
     "text": [
      "curr_width_median = 87.38775118162019\n",
      "curr_width_median = 443.7150414182957\n",
      "curr_width_median = 382.57500092844\n",
      "checked segment branches after soma add on\n",
      "MP (because soma touching verts) soma extension add: 2.7897541522979736\n",
      "There were not both MAP and MP pieces so skipping the stitch resolving phase\n",
      "Time for decomp of Limb = 3.744363307952881\n",
      "Number of matching vertices = 18\n",
      "Only one endpoint after filtering away the endpoints that are not on the skeleton\n",
      "Removed 0 skeletal branches\n"
     ]
    },
    {
     "data": {
      "application/vnd.jupyter.widget-view+json": {
       "model_id": "84401a8b930d41f29fe9dae33242adce",
       "version_major": 2,
       "version_minor": 0
      },
      "text/plain": [
       "  0%|          | 0/5 [00:00<?, ?it/s]"
      ]
     },
     "metadata": {},
     "output_type": "display_data"
    },
    {
     "name": "stdout",
     "output_type": "stream",
     "text": [
      "22345 22346\n",
      "For marked faces: None\n",
      "empty_indices % = 0.0\n",
      " conflict_indices % = 0.0\n"
     ]
    },
    {
     "data": {
      "application/vnd.jupyter.widget-view+json": {
       "model_id": "45f93dd5af8042b1b565df921ce3a6f3",
       "version_major": 2,
       "version_minor": 0
      },
      "text/plain": [
       "0it [00:00, ?it/s]"
      ]
     },
     "metadata": {},
     "output_type": "display_data"
    },
    {
     "data": {
      "application/vnd.jupyter.widget-view+json": {
       "model_id": "af27c02ed1834508912ac893655b2cda",
       "version_major": 2,
       "version_minor": 0
      },
      "text/plain": [
       "  0%|          | 0/5 [00:00<?, ?it/s]"
      ]
     },
     "metadata": {},
     "output_type": "display_data"
    },
    {
     "name": "stdout",
     "output_type": "stream",
     "text": [
      "Successful Limb Decomposition\n",
      "\n",
      "\n",
      "----- Working on Proper Limb # 4 ---------\n",
      "meshparty_segment_size = 100\n",
      "invalidation_d = 12000\n",
      "use_adaptive_invalidation_d= False\n",
      "axon_width_preprocess_limb_max = 200\n",
      "filter_end_node_length= 4000\n",
      "filter_end_node_length_meshparty = 4000\n",
      "invalidation_d = 12000\n",
      "root_curr = [1493560.   586779.1 1105606. ]\n",
      "Time for preparing soma vertices and root: 0.00016617774963378906\n",
      "invalidation_d = 12000\n",
      "smooth_neighborhood = 1\n",
      "cc_vertex_thresh = 10\n"
     ]
    },
    {
     "name": "stderr",
     "output_type": "stream",
     "text": [
      "\r",
      "  0%|          | 0/1 [00:00<?, ?it/s]"
     ]
    },
    {
     "data": {
      "application/vnd.jupyter.widget-view+json": {
       "model_id": "bdec3684e3414e48a35706685735af2c",
       "version_major": 2,
       "version_minor": 0
      },
      "text/plain": [
       "  0%|          | 0/10788 [00:00<?, ?it/s]"
      ]
     },
     "metadata": {},
     "output_type": "display_data"
    },
    {
     "name": "stderr",
     "output_type": "stream",
     "text": [
      "100%|██████████| 1/1 [00:00<00:00, 15.27it/s]\n"
     ]
    },
    {
     "name": "stdout",
     "output_type": "stream",
     "text": [
      "meshparty_segment_size = 100\n",
      "Time for 1st pass MP skeletonization: 0.24018478393554688\n",
      "connecting at the root\n",
      "branches_touching_root = [0]\n",
      "combining close nodes\n",
      "combine_threshold = 700\n",
      "length of Graph = 741\n",
      "After combining close endpoints max(kept_branches_idx) = 0, len(kept_branches_idx) = 1\n",
      "empty_indices % = 0.0\n",
      " conflict_indices % = 0.0\n"
     ]
    },
    {
     "data": {
      "application/vnd.jupyter.widget-view+json": {
       "model_id": "21e0c889004d49fe87bc4309396d46ef",
       "version_major": 2,
       "version_minor": 0
      },
      "text/plain": [
       "0it [00:00, ?it/s]"
      ]
     },
     "metadata": {},
     "output_type": "display_data"
    },
    {
     "data": {
      "application/vnd.jupyter.widget-view+json": {
       "model_id": "def0759504d8406f9aeb06a5b73b7b53",
       "version_major": 2,
       "version_minor": 0
      },
      "text/plain": [
       "  0%|          | 0/1 [00:00<?, ?it/s]"
      ]
     },
     "metadata": {},
     "output_type": "display_data"
    },
    {
     "name": "stdout",
     "output_type": "stream",
     "text": [
      "Decomposing first pass: 0.5509340763092041\n",
      "Attempting to use MeshAfterParty Skeletonization and Mesh Correspondence\n",
      "Another print\n",
      "Found len(mesh_large_idx) MAP candidates: [20742]\n",
      "mesh_large_connectivity: 0.0001246929168701172\n",
      "Finding MAP candidates connected components: 6.222724914550781e-05\n",
      "len(filtered_pieces) = 1\n",
      "skeleton_connectivity_MP : 0.006819725036621094\n",
      "Grouping MP Sublimbs by Graph: 2.5033950805664062e-05\n",
      "Divinding into MP and MAP pieces: 4.76837158203125e-07\n",
      "--- Working on MAP piece 0---\n",
      "MAP Filtering Soma Pieces: 0.028733491897583008\n",
      "inside skeletonize_connected_branch and use_surface_after_CGAL=True, surface_reconstruction_size=1000\n",
      "keep_idx = [0]\n",
      "     Starting Screened Poisson\n",
      "xvfb-run -n 2754 -s \"-screen 0 800x600x24\" meshlabserver $@  -i /neurd_packages/NEURD/Applications/autoproof_neuron_pipeline/temp/None.off -o /neurd_packages/NEURD/Applications/autoproof_neuron_pipeline/temp/None_poisson.off -s /neurd_packages/NEURD/Applications/autoproof_neuron_pipeline/temp/poisson_995838.mls\n",
      "removed temporary input file: /neurd_packages/NEURD/Applications/autoproof_neuron_pipeline/temp/None.off\n",
      "removed temporary output file: /neurd_packages/NEURD/Applications/autoproof_neuron_pipeline/temp/None_poisson.off\n",
      "Using the close holes feature\n",
      "xvfb-run -n 8810 -s \"-screen 0 800x600x24\" meshlabserver $@  -i /neurd_packages/NEURD/Applications/autoproof_neuron_pipeline/temp/neuron_54556.off -o /neurd_packages/NEURD/Applications/autoproof_neuron_pipeline/temp/neuron_54556_fill_holes.off -s /neurd_packages/NEURD/Applications/autoproof_neuron_pipeline/temp/fill_holes_754857.mls\n",
      "removed temporary input file: /neurd_packages/NEURD/Applications/autoproof_neuron_pipeline/temp/neuron_54556.off\n",
      "removed temporary output file: /neurd_packages/NEURD/Applications/autoproof_neuron_pipeline/temp/neuron_54556_fill_holes.off\n",
      "/neurd_packages/NEURD/Applications/autoproof_neuron_pipeline/temp/fill_holes_754857.mls is being deleted....\n",
      "-----Time for Screened Poisson= 12.45721983909607\n",
      "mesh_pieces = [<trimesh.Trimesh(vertices.shape=(32479, 3), faces.shape=(64962, 3))>]\n",
      "     Starting Calcification (Changed back where stitches large poissons)\n",
      "Manifold status before skeletonization = True\n",
      "Watertight status before skeletonization = True\n",
      "min_edge_length = 75\n",
      "Before mesh subtraction number of skeleton edges = 775\n"
     ]
    },
    {
     "data": {
      "application/vnd.jupyter.widget-view+json": {
       "model_id": "9016756ae78844598e53f5bdbf827341",
       "version_major": 2,
       "version_minor": 0
      },
      "text/plain": [
       "0it [00:00, ?it/s]"
      ]
     },
     "metadata": {},
     "output_type": "display_data"
    },
    {
     "name": "stdout",
     "output_type": "stream",
     "text": [
      "len(leftover_meshes_sig) = []\n"
     ]
    },
    {
     "data": {
      "application/vnd.jupyter.widget-view+json": {
       "model_id": "9e6e6f0ad9c945c7a55e7752b7d6db9c",
       "version_major": 2,
       "version_minor": 0
      },
      "text/plain": [
       "0it [00:00, ?it/s]"
      ]
     },
     "metadata": {},
     "output_type": "display_data"
    },
    {
     "name": "stdout",
     "output_type": "stream",
     "text": [
      "No skeletons to stack so returning empty list\n",
      "STacking the leftover and significant poisson skeleton\n",
      "max_stitch_distance = 5000\n",
      "len_subgraphs AT BEGINNING of the loop\n"
     ]
    },
    {
     "data": {
      "application/vnd.jupyter.widget-view+json": {
       "model_id": "2cdde90cb6234788b20502cea9791ca5",
       "version_major": 2,
       "version_minor": 0
      },
      "text/plain": [
       "  0%|          | 0/1 [00:00<?, ?it/s]"
      ]
     },
     "metadata": {},
     "output_type": "display_data"
    },
    {
     "name": "stdout",
     "output_type": "stream",
     "text": [
      "all graph is one component!\n",
      "Total time for skeleton stitching = 0.029989242553710938\n",
      "The process was using a temp folder\n",
      "Checking connected components after skeletonize_connected_branch\n",
      "    Total time for skeletonizing branch: 16.35565423965454\n",
      "Checking connected components after removing cycles\n",
      "Total time for mesh KDTree = 0.1703624725341797\n",
      "sbv[0].reshape(-1,3) = [[1493560.   586779.1 1105606. ]]\n",
      "closest_sk_pt_coord BEFORE = [1492760.  587122. 1106680.]\n",
      "current_skeleton.shape = (774, 2, 3)\n",
      "node_for_stitch = 201: [1492760.  587122. 1106680.]\n",
      "node_for_stitch AFTER = 201: [1492760.  587122. 1106680.]\n",
      "possible_node_loc = [  0 124 135 147 174 201 315 417 584 596 600 630 743 774]\n",
      "possible_node_loc AFTER = [  0 124 135 147 174 201 315 417 584 596 600 630 743 774]\n",
      "curr_shortest_path = [201]\n",
      "Current stitch point was a branch or endpoint\n",
      "change_status for create soma extending pieces = False\n",
      "closest_sk_pt_coord AFTER = [1492760.  587122. 1106680.]\n",
      "skipping soma 0 because closest skeleton node was already end node\n",
      "sbv[0].reshape(-1,3) = [[1474600.   582912.4 1113344. ]]\n",
      "closest_sk_pt_coord BEFORE = [1475020.  582930. 1113460.]\n",
      "current_skeleton.shape = (774, 2, 3)\n",
      "node_for_stitch = 0: [1475020.  582930. 1113460.]\n",
      "node_for_stitch AFTER = 0: [1475020.  582930. 1113460.]\n",
      "possible_node_loc = [  0 124 135 147 174 201 315 417 584 596 600 630 743 774]\n",
      "possible_node_loc AFTER = [  0 124 135 147 174 201 315 417 584 596 600 630 743 774]\n",
      "curr_shortest_path = [0]\n",
      "Current stitch point was a branch or endpoint\n",
      "change_status for create soma extending pieces = False\n",
      "closest_sk_pt_coord AFTER = [1475020.  582930. 1113460.]\n",
      "skipping soma 1 because closest skeleton node was already end node\n",
      "endpoints_must_keep = {0: array([[1492760.,  587122., 1106680.]]), 1: array([[1475020.,  582930., 1113460.]])}\n",
      "    Total time for Fixing Skeleton Soma Endpoint Extension : 0.3776578903198242\n",
      "filter_end_node_length = 4000\n"
     ]
    },
    {
     "data": {
      "application/vnd.jupyter.widget-view+json": {
       "model_id": "b5cd3b6a002441be9077d1b96b97da37",
       "version_major": 2,
       "version_minor": 0
      },
      "text/plain": [
       "  0%|          | 0/9 [00:00<?, ?it/s]"
      ]
     },
     "metadata": {},
     "output_type": "display_data"
    },
    {
     "name": "stdout",
     "output_type": "stream",
     "text": [
      "Checking connected components after clean_skeleton\n",
      "after DISTANCE cleaning limb size of skeleton = (713, 2, 3)\n",
      "********COMBINING CLOSE SKELETON NODES WITHIN 700 DISTANCE**********\n",
      "combine_threshold = 700\n",
      "Found 0 valid paths to replace\n",
      "valid_paths = []\n",
      "valid_path_lengths = []\n",
      "No valid paths found so just returning the original\n",
      "skeletonize_and_clean_connected_branch_CGAL: 17.20860743522644\n",
      "Working on limb correspondence for #0 MAP piece\n",
      "xvfb-run -n 7764 -s \"-screen 0 800x600x24\" meshlabserver $@  -i /neurd_packages/NEURD/Applications/autoproof_neuron_pipeline/temp/neuron_14954.off -o /neurd_packages/NEURD/Applications/autoproof_neuron_pipeline/temp/neuron_14954_remove_interior.off -s /neurd_packages/NEURD/Applications/autoproof_neuron_pipeline/temp/remove_interior_104666.mls\n",
      "removed temporary input file: /neurd_packages/NEURD/Applications/autoproof_neuron_pipeline/temp/neuron_14954.off\n",
      "removed temporary output file: /neurd_packages/NEURD/Applications/autoproof_neuron_pipeline/temp/neuron_14954_remove_interior.off\n",
      "/neurd_packages/NEURD/Applications/autoproof_neuron_pipeline/temp/remove_interior_104666.mls is being deleted....\n",
      "Removing the following inside neurons: [<trimesh.Trimesh(vertices.shape=(205, 3), faces.shape=(309, 3))>]\n"
     ]
    },
    {
     "data": {
      "application/vnd.jupyter.widget-view+json": {
       "model_id": "36d03a7ab8d4450392811ca3c417de4d",
       "version_major": 2,
       "version_minor": 0
      },
      "text/plain": [
       "0it [00:00, ?it/s]"
      ]
     },
     "metadata": {},
     "output_type": "display_data"
    },
    {
     "name": "stdout",
     "output_type": "stream",
     "text": [
      "Total time for decomposition = 3.456727981567383\n",
      "mesh_correspondence_first_pass: 3.4567582607269287\n",
      "Limb decomposed into 7 branches\n",
      "divided_skeleton_graph_recovered = (713, 2, 3) and \n",
      "current_mesh_data[0]['branch_skeletons_cleaned'].shape = (713, 2, 3)\n",
      "\n",
      "Number of connected components in deocmposed recovered graph = 1\n",
      "Number of connected components in cleaned skeleton graph= 1\n",
      "The downsampled branches number of connected components = 1\n",
      "Empty submeshes = []\n",
      "\n",
      "\n",
      "--- Working on 1-to-1 correspondence-----\n",
      "max(original_labels),len(original_labels) = (6, 7)\n",
      "empty_indices % = 0.1691736573136631\n",
      " conflict_indices % = 0.052068267283772056\n"
     ]
    },
    {
     "data": {
      "application/vnd.jupyter.widget-view+json": {
       "model_id": "bdcc1aabfbbe43c1a05f2d68607e029a",
       "version_major": 2,
       "version_minor": 0
      },
      "text/plain": [
       "  0%|          | 0/56 [00:00<?, ?it/s]"
      ]
     },
     "metadata": {},
     "output_type": "display_data"
    },
    {
     "name": "stdout",
     "output_type": "stream",
     "text": [
      "Took 0 iterations to expand the label back\n",
      "empty_indices % = 0.0\n",
      " conflict_indices % = 0.0\n"
     ]
    },
    {
     "data": {
      "application/vnd.jupyter.widget-view+json": {
       "model_id": "988b98dfdd5547318947215097b76464",
       "version_major": 2,
       "version_minor": 0
      },
      "text/plain": [
       "0it [00:00, ?it/s]"
      ]
     },
     "metadata": {},
     "output_type": "display_data"
    },
    {
     "name": "stdout",
     "output_type": "stream",
     "text": [
      "Took 0 iterations to expand the label back\n",
      "empty_indices % = 0.0\n",
      " conflict_indices % = 0.0\n"
     ]
    },
    {
     "data": {
      "application/vnd.jupyter.widget-view+json": {
       "model_id": "c9f761a9a2a14eb6a807b4690ca5e295",
       "version_major": 2,
       "version_minor": 0
      },
      "text/plain": [
       "0it [00:00, ?it/s]"
      ]
     },
     "metadata": {},
     "output_type": "display_data"
    },
    {
     "data": {
      "application/vnd.jupyter.widget-view+json": {
       "model_id": "aab5fa8b988f437d907cae9cf4b4e867",
       "version_major": 2,
       "version_minor": 0
      },
      "text/plain": [
       "  0%|          | 0/7 [00:00<?, ?it/s]"
      ]
     },
     "metadata": {},
     "output_type": "display_data"
    },
    {
     "name": "stdout",
     "output_type": "stream",
     "text": [
      "Total time for MAP sublimb #0 mesh processing = 22.354944467544556\n",
      "correspondence_1_to_1: 1.6608147621154785\n",
      "Total time for MAP sublimb processing 22.355003595352173\n",
      "There were not both MAP and MP pieces so skipping the stitch resolving phase\n",
      "Time for decomp of Limb = 23.16880226135254\n",
      "Number of matching vertices = 60\n",
      "Number of matching vertices = 13\n",
      "Only one endpoint after filtering away the endpoints that are not on the skeleton\n",
      "Only one endpoint after filtering away the endpoints that are not on the skeleton\n",
      "Removed 0 skeletal branches\n"
     ]
    },
    {
     "data": {
      "application/vnd.jupyter.widget-view+json": {
       "model_id": "fb6c9fb73c824de3b3702aeb2ab0eadd",
       "version_major": 2,
       "version_minor": 0
      },
      "text/plain": [
       "  0%|          | 0/7 [00:00<?, ?it/s]"
      ]
     },
     "metadata": {},
     "output_type": "display_data"
    },
    {
     "name": "stdout",
     "output_type": "stream",
     "text": [
      "20741 20742\n",
      "For marked faces: None\n",
      "empty_indices % = 0.0\n",
      " conflict_indices % = 0.0\n"
     ]
    },
    {
     "data": {
      "application/vnd.jupyter.widget-view+json": {
       "model_id": "ed5cde52539344c59cb47e2e6c5b998c",
       "version_major": 2,
       "version_minor": 0
      },
      "text/plain": [
       "0it [00:00, ?it/s]"
      ]
     },
     "metadata": {},
     "output_type": "display_data"
    },
    {
     "data": {
      "application/vnd.jupyter.widget-view+json": {
       "model_id": "f9fef62c0ae94cab934cccf539ebf30e",
       "version_major": 2,
       "version_minor": 0
      },
      "text/plain": [
       "  0%|          | 0/7 [00:00<?, ?it/s]"
      ]
     },
     "metadata": {},
     "output_type": "display_data"
    },
    {
     "name": "stdout",
     "output_type": "stream",
     "text": [
      "Successful Limb Decomposition\n",
      "\n",
      "\n",
      "----- Working on Proper Limb # 5 ---------\n",
      "meshparty_segment_size = 100\n",
      "invalidation_d = 12000\n",
      "use_adaptive_invalidation_d= False\n",
      "axon_width_preprocess_limb_max = 200\n",
      "filter_end_node_length= 4000\n",
      "filter_end_node_length_meshparty = 4000\n",
      "invalidation_d = 12000\n",
      "root_curr = [1486653.   594244.2 1104480. ]\n",
      "Time for preparing soma vertices and root: 0.0001704692840576172\n",
      "invalidation_d = 12000\n",
      "smooth_neighborhood = 1\n",
      "cc_vertex_thresh = 10\n"
     ]
    },
    {
     "name": "stderr",
     "output_type": "stream",
     "text": [
      "\r",
      "  0%|          | 0/1 [00:00<?, ?it/s]"
     ]
    },
    {
     "data": {
      "application/vnd.jupyter.widget-view+json": {
       "model_id": "81ab917bf5564e048c605e94880c946e",
       "version_major": 2,
       "version_minor": 0
      },
      "text/plain": [
       "  0%|          | 0/9843 [00:00<?, ?it/s]"
      ]
     },
     "metadata": {},
     "output_type": "display_data"
    },
    {
     "name": "stderr",
     "output_type": "stream",
     "text": [
      "100%|██████████| 1/1 [00:00<00:00, 17.49it/s]\n"
     ]
    },
    {
     "name": "stdout",
     "output_type": "stream",
     "text": [
      "meshparty_segment_size = 100\n",
      "Time for 1st pass MP skeletonization: 0.22526788711547852\n",
      "branches_touching_root = [0]\n",
      "combining close nodes\n",
      "combine_threshold = 700\n",
      "length of Graph = 818\n",
      "After combining close endpoints max(kept_branches_idx) = 0, len(kept_branches_idx) = 1\n",
      "empty_indices % = 0.0\n",
      " conflict_indices % = 0.0\n"
     ]
    },
    {
     "data": {
      "application/vnd.jupyter.widget-view+json": {
       "model_id": "fa7301804d564422b1034a6ca7466813",
       "version_major": 2,
       "version_minor": 0
      },
      "text/plain": [
       "0it [00:00, ?it/s]"
      ]
     },
     "metadata": {},
     "output_type": "display_data"
    },
    {
     "data": {
      "application/vnd.jupyter.widget-view+json": {
       "model_id": "ffe4db961765429b988f4ac71a3ec712",
       "version_major": 2,
       "version_minor": 0
      },
      "text/plain": [
       "  0%|          | 0/1 [00:00<?, ?it/s]"
      ]
     },
     "metadata": {},
     "output_type": "display_data"
    },
    {
     "name": "stdout",
     "output_type": "stream",
     "text": [
      "Decomposing first pass: 0.5219707489013672\n",
      "Attempting to use MeshAfterParty Skeletonization and Mesh Correspondence\n",
      "Another print\n",
      "Divinding into MP and MAP pieces: 2.8848648071289062e-05\n",
      "Total time for MAP sublimb processing 3.0994415283203125e-06\n",
      "---- Working on MP Decomposition #0 ----\n",
      "Using Quicker soma_to_piece_touching_vertices because no MAP and only one sublimb_mesh piece \n",
      "MP filtering soma verts: 1.4781951904296875e-05\n",
      "Fixing Possible Soma Extension Branch for Sublimb 0\n",
      "Total time for mesh KDTree = 0.14623236656188965\n",
      "sbv[0].reshape(-1,3) = [[1486653.   594244.2 1104480. ]]\n",
      "closest_sk_pt_coord BEFORE = [1486547.7606223   594609.92820407 1104601.87572914]\n",
      "current_skeleton.shape = (817, 2, 3)\n",
      "node_for_stitch = 817: [1486547.7606223   594609.92820407 1104601.87572914]\n",
      "node_for_stitch AFTER = 817: [1486547.7606223   594609.92820407 1104601.87572914]\n",
      "possible_node_loc = [334 817]\n",
      "possible_node_loc AFTER = [334 817]\n",
      "curr_shortest_path = [817]\n",
      "Current stitch point was a branch or endpoint\n",
      "change_status for create soma extending pieces = False\n",
      "closest_sk_pt_coord AFTER = [1486547.7606223   594609.92820407 1104601.87572914]\n",
      "skipping soma 0 because closest skeleton node was already end node\n",
      "endpoints_must_keep = {0: array([[1486547.7606223 ,  594609.92820407, 1104601.87572914]])}\n",
      "match_sk_branches = [0]\n",
      "The new branch info was none so skipping \n",
      "\n",
      "No soma extending branch was added for this sublimb even though it had a soma border (means they already existed)\n",
      "MP (because soma touching verts) soma extension add: 0.2871730327606201\n",
      "There were not both MAP and MP pieces so skipping the stitch resolving phase\n",
      "Time for decomp of Limb = 1.0537259578704834\n",
      "Number of matching vertices = 27\n",
      "Only one endpoint after filtering away the endpoints that are not on the skeleton\n",
      "Removed 0 skeletal branches\n"
     ]
    },
    {
     "data": {
      "application/vnd.jupyter.widget-view+json": {
       "model_id": "f6fe3223944c473fac1660ec2603c410",
       "version_major": 2,
       "version_minor": 0
      },
      "text/plain": [
       "  0%|          | 0/1 [00:00<?, ?it/s]"
      ]
     },
     "metadata": {},
     "output_type": "display_data"
    },
    {
     "name": "stdout",
     "output_type": "stream",
     "text": [
      "19361 19362\n",
      "For marked faces: None\n",
      "empty_indices % = 0.0\n",
      " conflict_indices % = 0.0\n"
     ]
    },
    {
     "data": {
      "application/vnd.jupyter.widget-view+json": {
       "model_id": "130d285910ee40388e5ba8c38f6fe5d4",
       "version_major": 2,
       "version_minor": 0
      },
      "text/plain": [
       "0it [00:00, ?it/s]"
      ]
     },
     "metadata": {},
     "output_type": "display_data"
    },
    {
     "data": {
      "application/vnd.jupyter.widget-view+json": {
       "model_id": "2a523effe375405ea20f46b8bd772ef5",
       "version_major": 2,
       "version_minor": 0
      },
      "text/plain": [
       "  0%|          | 0/1 [00:00<?, ?it/s]"
      ]
     },
     "metadata": {},
     "output_type": "display_data"
    },
    {
     "name": "stdout",
     "output_type": "stream",
     "text": [
      "Successful Limb Decomposition\n",
      "\n",
      "\n",
      "----- Working on Proper Limb # 6 ---------\n",
      "meshparty_segment_size = 100\n",
      "invalidation_d = 12000\n",
      "use_adaptive_invalidation_d= False\n",
      "axon_width_preprocess_limb_max = 200\n",
      "filter_end_node_length= 4000\n",
      "filter_end_node_length_meshparty = 4000\n",
      "invalidation_d = 12000\n",
      "root_curr = [1491272.  582425. 1102199.]\n",
      "Time for preparing soma vertices and root: 0.00018930435180664062\n",
      "invalidation_d = 12000\n",
      "smooth_neighborhood = 1\n",
      "cc_vertex_thresh = 10\n"
     ]
    },
    {
     "name": "stderr",
     "output_type": "stream",
     "text": [
      "\r",
      "  0%|          | 0/1 [00:00<?, ?it/s]"
     ]
    },
    {
     "data": {
      "application/vnd.jupyter.widget-view+json": {
       "model_id": "645ee7cafba1450395b789b72bc4d093",
       "version_major": 2,
       "version_minor": 0
      },
      "text/plain": [
       "  0%|          | 0/7350 [00:00<?, ?it/s]"
      ]
     },
     "metadata": {},
     "output_type": "display_data"
    },
    {
     "name": "stderr",
     "output_type": "stream",
     "text": [
      "\r",
      "100%|██████████| 1/1 [00:00<00:00, 19.24it/s]"
     ]
    },
    {
     "name": "stdout",
     "output_type": "stream",
     "text": [
      "meshparty_segment_size = 100\n",
      "Time for 1st pass MP skeletonization: 0.1845407485961914\n",
      "connecting at the root\n",
      "branches_touching_root = [0]\n"
     ]
    },
    {
     "name": "stderr",
     "output_type": "stream",
     "text": [
      "\n"
     ]
    },
    {
     "name": "stdout",
     "output_type": "stream",
     "text": [
      "combining close nodes\n",
      "combine_threshold = 700\n",
      "length of Graph = 734\n",
      "After combining close endpoints max(kept_branches_idx) = 0, len(kept_branches_idx) = 1\n",
      "empty_indices % = 0.0\n",
      " conflict_indices % = 0.0\n"
     ]
    },
    {
     "data": {
      "application/vnd.jupyter.widget-view+json": {
       "model_id": "29125920f1b1417b813cda319f45e389",
       "version_major": 2,
       "version_minor": 0
      },
      "text/plain": [
       "0it [00:00, ?it/s]"
      ]
     },
     "metadata": {},
     "output_type": "display_data"
    },
    {
     "data": {
      "application/vnd.jupyter.widget-view+json": {
       "model_id": "c6effc13d05f420386392fc477324a8a",
       "version_major": 2,
       "version_minor": 0
      },
      "text/plain": [
       "  0%|          | 0/1 [00:00<?, ?it/s]"
      ]
     },
     "metadata": {},
     "output_type": "display_data"
    },
    {
     "name": "stdout",
     "output_type": "stream",
     "text": [
      "Decomposing first pass: 0.43975067138671875\n",
      "Attempting to use MeshAfterParty Skeletonization and Mesh Correspondence\n",
      "Another print\n",
      "Divinding into MP and MAP pieces: 4.100799560546875e-05\n",
      "Total time for MAP sublimb processing 3.814697265625e-06\n",
      "---- Working on MP Decomposition #0 ----\n",
      "Using Quicker soma_to_piece_touching_vertices because no MAP and only one sublimb_mesh piece \n",
      "MP filtering soma verts: 2.2172927856445312e-05\n",
      "Fixing Possible Soma Extension Branch for Sublimb 0\n",
      "Total time for mesh KDTree = 0.12228083610534668\n",
      "sbv[0].reshape(-1,3) = [[1491272.  582425. 1102199.]]\n",
      "closest_sk_pt_coord BEFORE = [1491378.93502276  582020.70946596 1101822.28585048]\n",
      "current_skeleton.shape = (733, 2, 3)\n",
      "node_for_stitch = 1: [1491378.93502276  582020.70946596 1101822.28585048]\n",
      "node_for_stitch AFTER = 1: [1491378.93502276  582020.70946596 1101822.28585048]\n",
      "possible_node_loc = [  0 708]\n",
      "possible_node_loc AFTER = [  0 708]\n",
      "curr_shortest_path = [1, 0.0]\n",
      "Current stitch point was not a branch or endpoint, shortest_path_length to one = 99.99677776977433\n",
      "Changing the stitch point becasue the distance to end or branch node was 99.99677776977433\n",
      "New stitch point has degree 1\n",
      "change_status for create soma extending pieces = True\n",
      "closest_sk_pt_coord AFTER = [1491350.10222965  582056.70210586 1101733.55842811]\n",
      "skipping soma 0 because closest skeleton node was already end node\n",
      "endpoints_must_keep = {0: array([[1491350.10222965,  582056.70210586, 1101733.55842811]])}\n",
      "match_sk_branches = [0]\n",
      "The new branch info was none so skipping \n",
      "\n",
      "No soma extending branch was added for this sublimb even though it had a soma border (means they already existed)\n",
      "MP (because soma touching verts) soma extension add: 0.2461225986480713\n",
      "There were not both MAP and MP pieces so skipping the stitch resolving phase\n",
      "Time for decomp of Limb = 0.8934834003448486\n",
      "Number of matching vertices = 9\n",
      "Only one endpoint after filtering away the endpoints that are not on the skeleton\n",
      "Removed 0 skeletal branches\n"
     ]
    },
    {
     "data": {
      "application/vnd.jupyter.widget-view+json": {
       "model_id": "282f4e58c4274098ae27d9179e19cab3",
       "version_major": 2,
       "version_minor": 0
      },
      "text/plain": [
       "  0%|          | 0/1 [00:00<?, ?it/s]"
      ]
     },
     "metadata": {},
     "output_type": "display_data"
    },
    {
     "name": "stdout",
     "output_type": "stream",
     "text": [
      "14575 14576\n",
      "For marked faces: None\n",
      "empty_indices % = 0.0\n",
      " conflict_indices % = 0.0\n"
     ]
    },
    {
     "data": {
      "application/vnd.jupyter.widget-view+json": {
       "model_id": "0d86058632394af485d44beccc57a0a8",
       "version_major": 2,
       "version_minor": 0
      },
      "text/plain": [
       "0it [00:00, ?it/s]"
      ]
     },
     "metadata": {},
     "output_type": "display_data"
    },
    {
     "data": {
      "application/vnd.jupyter.widget-view+json": {
       "model_id": "3519496f06804ea3b3e4b2d7044bdad5",
       "version_major": 2,
       "version_minor": 0
      },
      "text/plain": [
       "  0%|          | 0/1 [00:00<?, ?it/s]"
      ]
     },
     "metadata": {},
     "output_type": "display_data"
    },
    {
     "name": "stdout",
     "output_type": "stream",
     "text": [
      "Successful Limb Decomposition\n",
      "\n",
      "\n",
      "----- Working on Proper Limb # 7 ---------\n",
      "meshparty_segment_size = 100\n",
      "invalidation_d = 12000\n",
      "use_adaptive_invalidation_d= False\n",
      "axon_width_preprocess_limb_max = 200\n",
      "filter_end_node_length= 4000\n",
      "filter_end_node_length_meshparty = 4000\n",
      "invalidation_d = 12000\n",
      "root_curr = [1468936.   574693.8 1112623. ]\n",
      "Time for preparing soma vertices and root: 0.0002522468566894531\n",
      "invalidation_d = 12000\n",
      "smooth_neighborhood = 1\n",
      "cc_vertex_thresh = 10\n"
     ]
    },
    {
     "name": "stderr",
     "output_type": "stream",
     "text": [
      "\r",
      "  0%|          | 0/1 [00:00<?, ?it/s]"
     ]
    },
    {
     "data": {
      "application/vnd.jupyter.widget-view+json": {
       "model_id": "f097e3992eaf468283707e0409783b2e",
       "version_major": 2,
       "version_minor": 0
      },
      "text/plain": [
       "  0%|          | 0/2055 [00:00<?, ?it/s]"
      ]
     },
     "metadata": {},
     "output_type": "display_data"
    },
    {
     "name": "stderr",
     "output_type": "stream",
     "text": [
      "\r",
      "100%|██████████| 1/1 [00:00<00:00, 41.82it/s]"
     ]
    },
    {
     "name": "stdout",
     "output_type": "stream",
     "text": [
      "meshparty_segment_size = 100\n",
      "Time for 1st pass MP skeletonization: 0.11821889877319336\n",
      "connecting at the root\n",
      "branches_touching_root = [0]\n",
      "combining close nodes\n",
      "combine_threshold = 700\n",
      "length of Graph = 117\n",
      "After combining close endpoints max(kept_branches_idx) = 0, len(kept_branches_idx) = 1\n"
     ]
    },
    {
     "name": "stderr",
     "output_type": "stream",
     "text": [
      "\n"
     ]
    },
    {
     "name": "stdout",
     "output_type": "stream",
     "text": [
      "empty_indices % = 0.0\n",
      " conflict_indices % = 0.0\n"
     ]
    },
    {
     "data": {
      "application/vnd.jupyter.widget-view+json": {
       "model_id": "8d4368a09ecc405482355719c01b1660",
       "version_major": 2,
       "version_minor": 0
      },
      "text/plain": [
       "0it [00:00, ?it/s]"
      ]
     },
     "metadata": {},
     "output_type": "display_data"
    },
    {
     "data": {
      "application/vnd.jupyter.widget-view+json": {
       "model_id": "688a9a36fa104730902af1226bf252e5",
       "version_major": 2,
       "version_minor": 0
      },
      "text/plain": [
       "  0%|          | 0/1 [00:00<?, ?it/s]"
      ]
     },
     "metadata": {},
     "output_type": "display_data"
    },
    {
     "name": "stdout",
     "output_type": "stream",
     "text": [
      "Decomposing first pass: 0.1525423526763916\n",
      "Attempting to use MeshAfterParty Skeletonization and Mesh Correspondence\n",
      "Another print\n",
      "Found len(mesh_large_idx) MAP candidates: [3349]\n",
      "mesh_large_connectivity: 0.00010442733764648438\n",
      "Finding MAP candidates connected components: 4.601478576660156e-05\n",
      "len(filtered_pieces) = 1\n",
      "skeleton_connectivity_MP : 0.0016248226165771484\n",
      "Grouping MP Sublimbs by Graph: 1.9550323486328125e-05\n",
      "Divinding into MP and MAP pieces: 4.76837158203125e-07\n",
      "--- Working on MAP piece 0---\n",
      "MAP Filtering Soma Pieces: 0.013872146606445312\n",
      "inside skeletonize_connected_branch and use_surface_after_CGAL=True, surface_reconstruction_size=1000\n",
      "keep_idx = [0]\n",
      "     Starting Screened Poisson\n",
      "xvfb-run -n 270 -s \"-screen 0 800x600x24\" meshlabserver $@  -i /neurd_packages/NEURD/Applications/autoproof_neuron_pipeline/temp/None.off -o /neurd_packages/NEURD/Applications/autoproof_neuron_pipeline/temp/None_poisson.off -s /neurd_packages/NEURD/Applications/autoproof_neuron_pipeline/temp/poisson_247343.mls\n",
      "removed temporary input file: /neurd_packages/NEURD/Applications/autoproof_neuron_pipeline/temp/None.off\n",
      "removed temporary output file: /neurd_packages/NEURD/Applications/autoproof_neuron_pipeline/temp/None_poisson.off\n",
      "Using the close holes feature\n",
      "xvfb-run -n 7338 -s \"-screen 0 800x600x24\" meshlabserver $@  -i /neurd_packages/NEURD/Applications/autoproof_neuron_pipeline/temp/neuron_66414.off -o /neurd_packages/NEURD/Applications/autoproof_neuron_pipeline/temp/neuron_66414_fill_holes.off -s /neurd_packages/NEURD/Applications/autoproof_neuron_pipeline/temp/fill_holes_813233.mls\n",
      "removed temporary input file: /neurd_packages/NEURD/Applications/autoproof_neuron_pipeline/temp/neuron_66414.off\n",
      "removed temporary output file: /neurd_packages/NEURD/Applications/autoproof_neuron_pipeline/temp/neuron_66414_fill_holes.off\n",
      "/neurd_packages/NEURD/Applications/autoproof_neuron_pipeline/temp/fill_holes_813233.mls is being deleted....\n",
      "-----Time for Screened Poisson= 8.507805109024048\n",
      "mesh_pieces = [<trimesh.Trimesh(vertices.shape=(13498, 3), faces.shape=(26992, 3))>]\n",
      "     Starting Calcification (Changed back where stitches large poissons)\n",
      "Manifold status before skeletonization = True\n",
      "Watertight status before skeletonization = True\n",
      "min_edge_length = 75\n",
      "Before mesh subtraction number of skeleton edges = 3\n"
     ]
    },
    {
     "data": {
      "application/vnd.jupyter.widget-view+json": {
       "model_id": "4ec6c5cc99d1450cb83568c95a323a83",
       "version_major": 2,
       "version_minor": 0
      },
      "text/plain": [
       "0it [00:00, ?it/s]"
      ]
     },
     "metadata": {},
     "output_type": "display_data"
    },
    {
     "name": "stdout",
     "output_type": "stream",
     "text": [
      "len(leftover_meshes_sig) = [<trimesh.Trimesh(vertices.shape=(892, 3), faces.shape=(1350, 3))>, <trimesh.Trimesh(vertices.shape=(662, 3), faces.shape=(1078, 3))>]\n"
     ]
    },
    {
     "data": {
      "application/vnd.jupyter.widget-view+json": {
       "model_id": "8c795f00f6534478a0abecad156d60e5",
       "version_major": 2,
       "version_minor": 0
      },
      "text/plain": [
       "  0%|          | 0/2 [00:00<?, ?it/s]"
      ]
     },
     "metadata": {},
     "output_type": "display_data"
    },
    {
     "name": "stdout",
     "output_type": "stream",
     "text": [
      "invalidation_d = 12000\n",
      "smooth_neighborhood = 1\n",
      "cc_vertex_thresh = 10\n"
     ]
    },
    {
     "name": "stderr",
     "output_type": "stream",
     "text": [
      "\n",
      "  0%|          | 0/1 [00:00<?, ?it/s]\u001b[A"
     ]
    },
    {
     "data": {
      "application/vnd.jupyter.widget-view+json": {
       "model_id": "5a988189dcf248ce97e1731ca5a66cc6",
       "version_major": 2,
       "version_minor": 0
      },
      "text/plain": [
       "  0%|          | 0/891 [00:00<?, ?it/s]"
      ]
     },
     "metadata": {},
     "output_type": "display_data"
    },
    {
     "name": "stderr",
     "output_type": "stream",
     "text": [
      "\r",
      "100%|██████████| 1/1 [00:00<00:00, 62.97it/s]"
     ]
    },
    {
     "name": "stdout",
     "output_type": "stream",
     "text": [
      "Time for sk_meshparty_obj = 0.040838003158569336\n",
      "branches_touching_root = [0]\n",
      "combining close nodes\n",
      "combine_threshold = 700\n",
      "length of Graph = 76\n",
      "After combining close endpoints max(kept_branches_idx) = 0, len(kept_branches_idx) = 1\n",
      "empty_indices % = 0.0\n",
      " conflict_indices % = 0.0\n"
     ]
    },
    {
     "name": "stderr",
     "output_type": "stream",
     "text": [
      "\n"
     ]
    },
    {
     "data": {
      "application/vnd.jupyter.widget-view+json": {
       "model_id": "0dcf11a8d5cb4fa18fd3f27640963141",
       "version_major": 2,
       "version_minor": 0
      },
      "text/plain": [
       "0it [00:00, ?it/s]"
      ]
     },
     "metadata": {},
     "output_type": "display_data"
    },
    {
     "data": {
      "application/vnd.jupyter.widget-view+json": {
       "model_id": "4f1146abd2aa4185bce154dda299cd02",
       "version_major": 2,
       "version_minor": 0
      },
      "text/plain": [
       "  0%|          | 0/1 [00:00<?, ?it/s]"
      ]
     },
     "metadata": {},
     "output_type": "display_data"
    },
    {
     "name": "stdout",
     "output_type": "stream",
     "text": [
      "widths = [4400.58628296]\n",
      "width_median= 4400.58628295601\n",
      "Time for correspondence = 0.06472063064575195\n",
      "invalidation_d = 12000\n",
      "smooth_neighborhood = 1\n",
      "cc_vertex_thresh = 10\n"
     ]
    },
    {
     "name": "stderr",
     "output_type": "stream",
     "text": [
      "\n",
      "  0%|          | 0/1 [00:00<?, ?it/s]\u001b[A"
     ]
    },
    {
     "data": {
      "application/vnd.jupyter.widget-view+json": {
       "model_id": "7a4938ea5c914dacadb7f2915937cdb4",
       "version_major": 2,
       "version_minor": 0
      },
      "text/plain": [
       "  0%|          | 0/661 [00:00<?, ?it/s]"
      ]
     },
     "metadata": {},
     "output_type": "display_data"
    },
    {
     "name": "stderr",
     "output_type": "stream",
     "text": [
      "\r",
      "100%|██████████| 1/1 [00:00<00:00, 51.37it/s]"
     ]
    },
    {
     "name": "stdout",
     "output_type": "stream",
     "text": [
      "Time for sk_meshparty_obj = 0.04315519332885742\n",
      "branches_touching_root = [0]\n",
      "combining close nodes\n",
      "combine_threshold = 700\n",
      "length of Graph = 57\n",
      "After combining close endpoints max(kept_branches_idx) = 0, len(kept_branches_idx) = 1\n",
      "empty_indices % = 0.0\n",
      " conflict_indices % = 0.0\n"
     ]
    },
    {
     "name": "stderr",
     "output_type": "stream",
     "text": [
      "\n"
     ]
    },
    {
     "data": {
      "application/vnd.jupyter.widget-view+json": {
       "model_id": "58895b6349ea4d118514e46ee4155adb",
       "version_major": 2,
       "version_minor": 0
      },
      "text/plain": [
       "0it [00:00, ?it/s]"
      ]
     },
     "metadata": {},
     "output_type": "display_data"
    },
    {
     "data": {
      "application/vnd.jupyter.widget-view+json": {
       "model_id": "55f57f24f784480d8eb97df666e50b3c",
       "version_major": 2,
       "version_minor": 0
      },
      "text/plain": [
       "  0%|          | 0/1 [00:00<?, ?it/s]"
      ]
     },
     "metadata": {},
     "output_type": "display_data"
    },
    {
     "name": "stdout",
     "output_type": "stream",
     "text": [
      "widths = [inf]\n",
      "width_median= inf\n",
      "Time for correspondence = 0.08063125610351562\n",
      "STacking the leftover and significant poisson skeleton\n",
      "max_stitch_distance = 5000\n",
      "len_subgraphs AT BEGINNING of the loop\n"
     ]
    },
    {
     "data": {
      "application/vnd.jupyter.widget-view+json": {
       "model_id": "e40256d029fd4b529da72b74e326449d",
       "version_major": 2,
       "version_minor": 0
      },
      "text/plain": [
       "  0%|          | 0/3 [00:00<?, ?it/s]"
      ]
     },
     "metadata": {},
     "output_type": "display_data"
    },
    {
     "name": "stdout",
     "output_type": "stream",
     "text": [
      "all graph is one component!\n",
      "Total time for skeleton stitching = 0.06680536270141602\n",
      "The process was using a temp folder\n",
      "Checking connected components after skeletonize_connected_branch\n",
      "    Total time for skeletonizing branch: 10.592318296432495\n",
      "Checking connected components after removing cycles\n",
      "Total time for mesh KDTree = 0.018558740615844727\n",
      "sbv[0].reshape(-1,3) = [[1468936.   574693.8 1112623. ]]\n",
      "closest_sk_pt_coord BEFORE = [1467366.30595274  578509.84736969 1112376.30613502]\n",
      "current_skeleton.shape = (135, 2, 3)\n",
      "node_for_stitch = 70: [1467366.30595274  578509.84736969 1112376.30613502]\n",
      "node_for_stitch AFTER = 70: [1467366.30595274  578509.84736969 1112376.30613502]\n",
      "possible_node_loc = [  0 133 135]\n",
      "possible_node_loc AFTER = [  0 133 135]\n",
      "curr_shortest_path = [70, 42.0, 41.0, 40.0, 22.0, 21.0, 20.0, 19.0, 18.0, 17.0, 16.0, 15.0, 14.0, 13.0, 12.0, 11.0, 10.0, 9.0, 8.0, 7.0, 6.0, 5.0, 4.0, 3.0, 2.0, 1.0, 0]\n",
      "Current stitch point was not a branch or endpoint, shortest_path_length to one = 4693.08071724139\n",
      "change_status for create soma extending pieces = False\n",
      "closest_sk_pt_coord AFTER = [1467366.30595274  578509.84736969 1112376.30613502]\n",
      "Adding new branch to skeleton\n",
      "border_average_coordinate = [1468163.64444444  578622.88333333 1112816.05555556]\n",
      "endpoints_must_keep = {1: array([[1468163.64444444,  578622.88333333, 1112816.05555556]])}\n",
      "    Total time for Fixing Skeleton Soma Endpoint Extension : 0.13493704795837402\n",
      "filter_end_node_length = 4000\n"
     ]
    },
    {
     "data": {
      "application/vnd.jupyter.widget-view+json": {
       "model_id": "f843ee28ded34d6086eff588e15f652b",
       "version_major": 2,
       "version_minor": 0
      },
      "text/plain": [
       "  0%|          | 0/1 [00:00<?, ?it/s]"
      ]
     },
     "metadata": {},
     "output_type": "display_data"
    },
    {
     "name": "stdout",
     "output_type": "stream",
     "text": [
      "Checking connected components after clean_skeleton\n",
      "after DISTANCE cleaning limb size of skeleton = (114, 2, 3)\n",
      "********COMBINING CLOSE SKELETON NODES WITHIN 700 DISTANCE**********\n",
      "combine_threshold = 700\n",
      "Found 0 valid paths to replace\n",
      "valid_paths = []\n",
      "valid_path_lengths = []\n",
      "No valid paths found so just returning the original\n",
      "skeletonize_and_clean_connected_branch_CGAL: 10.843826532363892\n",
      "Working on limb correspondence for #0 MAP piece\n",
      "xvfb-run -n 706 -s \"-screen 0 800x600x24\" meshlabserver $@  -i /neurd_packages/NEURD/Applications/autoproof_neuron_pipeline/temp/neuron_69568.off -o /neurd_packages/NEURD/Applications/autoproof_neuron_pipeline/temp/neuron_69568_remove_interior.off -s /neurd_packages/NEURD/Applications/autoproof_neuron_pipeline/temp/remove_interior_746123.mls\n",
      "removed temporary input file: /neurd_packages/NEURD/Applications/autoproof_neuron_pipeline/temp/neuron_69568.off\n",
      "removed temporary output file: /neurd_packages/NEURD/Applications/autoproof_neuron_pipeline/temp/neuron_69568_remove_interior.off\n",
      "/neurd_packages/NEURD/Applications/autoproof_neuron_pipeline/temp/remove_interior_746123.mls is being deleted....\n",
      "No significant (100) interior meshes present\n",
      "largest is 3\n"
     ]
    },
    {
     "data": {
      "application/vnd.jupyter.widget-view+json": {
       "model_id": "31fbda2a9f3c4b409c4bb4b65f5b1d90",
       "version_major": 2,
       "version_minor": 0
      },
      "text/plain": [
       "0it [00:00, ?it/s]"
      ]
     },
     "metadata": {},
     "output_type": "display_data"
    },
    {
     "name": "stdout",
     "output_type": "stream",
     "text": [
      "Total time for decomposition = 1.1296892166137695\n",
      "mesh_correspondence_first_pass: 1.1297283172607422\n",
      "Limb decomposed into 3 branches\n",
      "divided_skeleton_graph_recovered = (114, 2, 3) and \n",
      "current_mesh_data[0]['branch_skeletons_cleaned'].shape = (114, 2, 3)\n",
      "\n",
      "Number of connected components in deocmposed recovered graph = 1\n",
      "Number of connected components in cleaned skeleton graph= 1\n",
      "The downsampled branches number of connected components = 1\n",
      "Empty submeshes = []\n",
      "\n",
      "\n",
      "--- Working on 1-to-1 correspondence-----\n",
      "max(original_labels),len(original_labels) = (2, 3)\n",
      "empty_indices % = 0.14601373544341595\n",
      " conflict_indices % = 0.19617796357121528\n"
     ]
    },
    {
     "data": {
      "application/vnd.jupyter.widget-view+json": {
       "model_id": "86c445427d4d47848d22eadebf33df6a",
       "version_major": 2,
       "version_minor": 0
      },
      "text/plain": [
       "  0%|          | 0/5 [00:00<?, ?it/s]"
      ]
     },
     "metadata": {},
     "output_type": "display_data"
    },
    {
     "name": "stdout",
     "output_type": "stream",
     "text": [
      "Took 0 iterations to expand the label back\n",
      "empty_indices % = 0.0\n",
      " conflict_indices % = 0.0\n"
     ]
    },
    {
     "data": {
      "application/vnd.jupyter.widget-view+json": {
       "model_id": "ad2ef67714b14ef5be4f78bc8449af04",
       "version_major": 2,
       "version_minor": 0
      },
      "text/plain": [
       "0it [00:00, ?it/s]"
      ]
     },
     "metadata": {},
     "output_type": "display_data"
    },
    {
     "data": {
      "application/vnd.jupyter.widget-view+json": {
       "model_id": "8e0eeef89c28443891ad793d104abc0d",
       "version_major": 2,
       "version_minor": 0
      },
      "text/plain": [
       "  0%|          | 0/3 [00:00<?, ?it/s]"
      ]
     },
     "metadata": {},
     "output_type": "display_data"
    },
    {
     "name": "stdout",
     "output_type": "stream",
     "text": [
      "Total time for MAP sublimb #0 mesh processing = 12.293514490127563\n",
      "correspondence_1_to_1: 0.3060731887817383\n",
      "Total time for MAP sublimb processing 12.293577432632446\n",
      "There were not both MAP and MP pieces so skipping the stitch resolving phase\n",
      "Time for decomp of Limb = 12.569897651672363\n",
      "Number of matching vertices = 90\n",
      "Only one endpoint after filtering away the endpoints that are not on the skeleton\n",
      "Removed 0 skeletal branches\n"
     ]
    },
    {
     "data": {
      "application/vnd.jupyter.widget-view+json": {
       "model_id": "338f36c8fa514737807d834638de84ce",
       "version_major": 2,
       "version_minor": 0
      },
      "text/plain": [
       "  0%|          | 0/3 [00:00<?, ?it/s]"
      ]
     },
     "metadata": {},
     "output_type": "display_data"
    },
    {
     "name": "stdout",
     "output_type": "stream",
     "text": [
      "3348 3349\n",
      "For marked faces: None\n",
      "empty_indices % = 0.0\n",
      " conflict_indices % = 0.0\n"
     ]
    },
    {
     "data": {
      "application/vnd.jupyter.widget-view+json": {
       "model_id": "4a4ec77f84c54c9c91c0df06d442b9ab",
       "version_major": 2,
       "version_minor": 0
      },
      "text/plain": [
       "0it [00:00, ?it/s]"
      ]
     },
     "metadata": {},
     "output_type": "display_data"
    },
    {
     "data": {
      "application/vnd.jupyter.widget-view+json": {
       "model_id": "11b19510d3c14c01ad926e5b5507240d",
       "version_major": 2,
       "version_minor": 0
      },
      "text/plain": [
       "  0%|          | 0/3 [00:00<?, ?it/s]"
      ]
     },
     "metadata": {},
     "output_type": "display_data"
    },
    {
     "name": "stdout",
     "output_type": "stream",
     "text": [
      "Successful Limb Decomposition\n",
      "Total time for Skeletonization and Mesh Correspondence = 97.13153862953186\n",
      "\n",
      "\n",
      " ----- Working on Stitching ----------\n",
      "Starting the floating pieces preprocessing\n",
      "Floating 0: <trimesh.Trimesh(vertices.shape=(113, 3), faces.shape=(176, 3))>\n",
      "invalidation_d = 12000\n",
      "use_adaptive_invalidation_d= True\n",
      "axon_width_preprocess_limb_max = 200\n",
      "filter_end_node_length= 4000\n",
      "filter_end_node_length_meshparty = 1000\n",
      "invalidation_d = 12000\n",
      "root_curr = None\n",
      "Time for preparing soma vertices and root: 5.0067901611328125e-06\n",
      "invalidation_d = 12000\n",
      "smooth_neighborhood = 1\n",
      "cc_vertex_thresh = 10\n"
     ]
    },
    {
     "name": "stderr",
     "output_type": "stream",
     "text": [
      "\r",
      "  0%|          | 0/1 [00:00<?, ?it/s]"
     ]
    },
    {
     "data": {
      "application/vnd.jupyter.widget-view+json": {
       "model_id": "a7a6b13c72db4a4a9f244f4abc582d6a",
       "version_major": 2,
       "version_minor": 0
      },
      "text/plain": [
       "  0%|          | 0/112 [00:00<?, ?it/s]"
      ]
     },
     "metadata": {},
     "output_type": "display_data"
    },
    {
     "name": "stderr",
     "output_type": "stream",
     "text": [
      "\r",
      "100%|██████████| 1/1 [00:00<00:00, 81.52it/s]"
     ]
    },
    {
     "name": "stdout",
     "output_type": "stream",
     "text": [
      "meshparty_segment_size = 100\n",
      "Time for 1st pass MP skeletonization: 0.029496431350708008\n",
      "branches_touching_root = [0]\n",
      "combining close nodes\n",
      "combine_threshold = 700\n",
      "length of Graph = 11\n",
      "After combining close endpoints max(kept_branches_idx) = 0, len(kept_branches_idx) = 1\n",
      "empty_indices % = 0.0\n",
      " conflict_indices % = 0.0\n"
     ]
    },
    {
     "name": "stderr",
     "output_type": "stream",
     "text": [
      "\n"
     ]
    },
    {
     "data": {
      "application/vnd.jupyter.widget-view+json": {
       "model_id": "93fbe1fdf6774728a5f13e9c183be5f0",
       "version_major": 2,
       "version_minor": 0
      },
      "text/plain": [
       "0it [00:00, ?it/s]"
      ]
     },
     "metadata": {},
     "output_type": "display_data"
    },
    {
     "data": {
      "application/vnd.jupyter.widget-view+json": {
       "model_id": "0e65245070b041a49403a46ff606749d",
       "version_major": 2,
       "version_minor": 0
      },
      "text/plain": [
       "  0%|          | 0/1 [00:00<?, ?it/s]"
      ]
     },
     "metadata": {},
     "output_type": "display_data"
    },
    {
     "name": "stdout",
     "output_type": "stream",
     "text": [
      "widths = [401.12278507]\n",
      "width_median= 401.1227850659981\n",
      "segment_widths_median = [401.12278507]\n",
      "Decomposing first pass: 0.04164719581604004\n",
      "Attempting to use MeshAfterParty Skeletonization and Mesh Correspondence\n",
      "Another print\n",
      "Divinding into MP and MAP pieces: 3.075599670410156e-05\n",
      "Total time for MAP sublimb processing 3.337860107421875e-06\n",
      "---- Working on MP Decomposition #0 ----\n",
      "Using Quicker soma_to_piece_touching_vertices because no MAP and only one sublimb_mesh piece \n",
      "MP filtering soma verts: 2.4080276489257812e-05\n",
      "Do Not Need to Fix MP Decomposition 0 so just continuing\n",
      "There were not both MAP and MP pieces so skipping the stitch resolving phase\n",
      "Time for decomp of Limb = 0.07245969772338867\n"
     ]
    },
    {
     "data": {
      "application/vnd.jupyter.widget-view+json": {
       "model_id": "303ea5f3f56c4e118bbc3f1e71da8b4b",
       "version_major": 2,
       "version_minor": 0
      },
      "text/plain": [
       "  0%|          | 0/2 [00:00<?, ?it/s]"
      ]
     },
     "metadata": {},
     "output_type": "display_data"
    },
    {
     "name": "stdout",
     "output_type": "stream",
     "text": [
      "Removed 2 skeletal branches\n",
      "There were no branches after cleaning limb correspondence\n"
     ]
    },
    {
     "data": {
      "application/vnd.jupyter.widget-view+json": {
       "model_id": "61eb17cb85b441ac987f8d27da9ed3ac",
       "version_major": 2,
       "version_minor": 0
      },
      "text/plain": [
       "Container(figure=Figure(box_center=[0.5, 0.5, 0.5], box_size=[1.0, 1.0, 1.0], camera=PerspectiveCamera(fov=45.…"
      ]
     },
     "metadata": {},
     "output_type": "display_data"
    },
    {
     "name": "stdout",
     "output_type": "stream",
     "text": [
      "--> time = 0.13165664672851562\n",
      "Floating 1: <trimesh.Trimesh(vertices.shape=(75, 3), faces.shape=(140, 3))>\n",
      "invalidation_d = 12000\n",
      "use_adaptive_invalidation_d= True\n",
      "axon_width_preprocess_limb_max = 200\n",
      "filter_end_node_length= 4000\n",
      "filter_end_node_length_meshparty = 1000\n",
      "invalidation_d = 12000\n",
      "root_curr = None\n",
      "Time for preparing soma vertices and root: 4.76837158203125e-06\n",
      "invalidation_d = 12000\n",
      "smooth_neighborhood = 1\n",
      "cc_vertex_thresh = 10\n"
     ]
    },
    {
     "name": "stderr",
     "output_type": "stream",
     "text": [
      "\r",
      "  0%|          | 0/1 [00:00<?, ?it/s]"
     ]
    },
    {
     "data": {
      "application/vnd.jupyter.widget-view+json": {
       "model_id": "165af7dd3bb34d49a22b88e774e6372c",
       "version_major": 2,
       "version_minor": 0
      },
      "text/plain": [
       "  0%|          | 0/74 [00:00<?, ?it/s]"
      ]
     },
     "metadata": {},
     "output_type": "display_data"
    },
    {
     "name": "stderr",
     "output_type": "stream",
     "text": [
      "\r",
      "100%|██████████| 1/1 [00:00<00:00, 69.75it/s]"
     ]
    },
    {
     "name": "stdout",
     "output_type": "stream",
     "text": [
      "meshparty_segment_size = 100\n",
      "Time for 1st pass MP skeletonization: 0.027939319610595703\n",
      "branches_touching_root = [0]\n",
      "combining close nodes\n",
      "combine_threshold = 700\n",
      "length of Graph = 24\n",
      "After combining close endpoints max(kept_branches_idx) = 0, len(kept_branches_idx) = 1\n",
      "empty_indices % = 0.0\n",
      " conflict_indices % = 0.0\n"
     ]
    },
    {
     "name": "stderr",
     "output_type": "stream",
     "text": [
      "\n"
     ]
    },
    {
     "data": {
      "application/vnd.jupyter.widget-view+json": {
       "model_id": "930f63384c1345d69bf6f96c695b0127",
       "version_major": 2,
       "version_minor": 0
      },
      "text/plain": [
       "0it [00:00, ?it/s]"
      ]
     },
     "metadata": {},
     "output_type": "display_data"
    },
    {
     "data": {
      "application/vnd.jupyter.widget-view+json": {
       "model_id": "bca51c7e2a40406083ec45312f721450",
       "version_major": 2,
       "version_minor": 0
      },
      "text/plain": [
       "  0%|          | 0/1 [00:00<?, ?it/s]"
      ]
     },
     "metadata": {},
     "output_type": "display_data"
    },
    {
     "name": "stdout",
     "output_type": "stream",
     "text": [
      "widths = [159.98961537]\n",
      "width_median= 159.98961536716592\n",
      "segment_widths_median = [159.98961537]\n",
      "Using the axon parameters\n",
      "invalidation_d = 1500\n",
      "smooth_neighborhood = 0\n",
      "cc_vertex_thresh = 10\n"
     ]
    },
    {
     "name": "stderr",
     "output_type": "stream",
     "text": [
      "\r",
      "  0%|          | 0/1 [00:00<?, ?it/s]"
     ]
    },
    {
     "data": {
      "application/vnd.jupyter.widget-view+json": {
       "model_id": "968c6e2eaef745cb833ec26c9da2b54c",
       "version_major": 2,
       "version_minor": 0
      },
      "text/plain": [
       "  0%|          | 0/74 [00:00<?, ?it/s]"
      ]
     },
     "metadata": {},
     "output_type": "display_data"
    },
    {
     "name": "stderr",
     "output_type": "stream",
     "text": [
      "100%|██████████| 1/1 [00:00<00:00, 97.43it/s]\n"
     ]
    },
    {
     "name": "stdout",
     "output_type": "stream",
     "text": [
      "meshparty_segment_size = 100\n",
      "Time for 1st pass MP skeletonization: 0.0575556755065918\n",
      "branches_touching_root = [0]\n",
      "combining close nodes\n",
      "combine_threshold = 1300\n",
      "length of Graph = 34\n",
      "After combining close endpoints max(kept_branches_idx) = 0, len(kept_branches_idx) = 1\n",
      "empty_indices % = 0.0\n",
      " conflict_indices % = 0.0\n"
     ]
    },
    {
     "data": {
      "application/vnd.jupyter.widget-view+json": {
       "model_id": "5bc27e8fb88049f5bf930cc08ed0c9c0",
       "version_major": 2,
       "version_minor": 0
      },
      "text/plain": [
       "0it [00:00, ?it/s]"
      ]
     },
     "metadata": {},
     "output_type": "display_data"
    },
    {
     "data": {
      "application/vnd.jupyter.widget-view+json": {
       "model_id": "f375e8ad86a34b9f86dd500ffca42b39",
       "version_major": 2,
       "version_minor": 0
      },
      "text/plain": [
       "  0%|          | 0/1 [00:00<?, ?it/s]"
      ]
     },
     "metadata": {},
     "output_type": "display_data"
    },
    {
     "name": "stdout",
     "output_type": "stream",
     "text": [
      "widths = [159.98783275]\n",
      "width_median= 159.9878327481756\n",
      "segment_widths_median = [159.98783275]\n",
      "Using the axon parameters\n",
      "Decomposing first pass: 0.0481572151184082\n",
      "Attempting to use MeshAfterParty Skeletonization and Mesh Correspondence\n",
      "Another print\n",
      "Divinding into MP and MAP pieces: 2.7894973754882812e-05\n",
      "Total time for MAP sublimb processing 3.0994415283203125e-06\n",
      "---- Working on MP Decomposition #0 ----\n",
      "Using Quicker soma_to_piece_touching_vertices because no MAP and only one sublimb_mesh piece \n",
      "MP filtering soma verts: 2.1696090698242188e-05\n",
      "Do Not Need to Fix MP Decomposition 0 so just continuing\n",
      "There were not both MAP and MP pieces so skipping the stitch resolving phase\n",
      "Time for decomp of Limb = 0.1359694004058838\n",
      "Removed 0 skeletal branches\n"
     ]
    },
    {
     "data": {
      "application/vnd.jupyter.widget-view+json": {
       "model_id": "70d09f9c03b942a6b47dfc90cce5e1e7",
       "version_major": 2,
       "version_minor": 0
      },
      "text/plain": [
       "  0%|          | 0/1 [00:00<?, ?it/s]"
      ]
     },
     "metadata": {},
     "output_type": "display_data"
    },
    {
     "name": "stdout",
     "output_type": "stream",
     "text": [
      "139 140\n",
      "For marked faces: None\n",
      "empty_indices % = 0.0\n",
      " conflict_indices % = 0.0\n"
     ]
    },
    {
     "data": {
      "application/vnd.jupyter.widget-view+json": {
       "model_id": "3f2fe0c1290c401b9714bc38ca5e3e9e",
       "version_major": 2,
       "version_minor": 0
      },
      "text/plain": [
       "0it [00:00, ?it/s]"
      ]
     },
     "metadata": {},
     "output_type": "display_data"
    },
    {
     "data": {
      "application/vnd.jupyter.widget-view+json": {
       "model_id": "39f092383c774c6ba54500312161c587",
       "version_major": 2,
       "version_minor": 0
      },
      "text/plain": [
       "  0%|          | 0/1 [00:00<?, ?it/s]"
      ]
     },
     "metadata": {},
     "output_type": "display_data"
    },
    {
     "data": {
      "application/vnd.jupyter.widget-view+json": {
       "model_id": "460c017fc2c04c5fad0c8c12a304ef39",
       "version_major": 2,
       "version_minor": 0
      },
      "text/plain": [
       "Container(figure=Figure(box_center=[0.5, 0.5, 0.5], box_size=[1.0, 1.0, 1.0], camera=PerspectiveCamera(fov=45.…"
      ]
     },
     "metadata": {},
     "output_type": "display_data"
    },
    {
     "name": "stdout",
     "output_type": "stream",
     "text": [
      "--> time = 0.23587441444396973\n",
      "Total time for stitching floating pieces = 2.418975591659546\n",
      "Total time for Concept Networks = 1.67750883102417\n",
      "Total time for all mesh and skeletonization decomp = 101.22858715057373\n",
      "No soma volume ratios so computing them now\n",
      "Using Poisson Surface Reconstruction for watertightness in soma_volume_ratio\n",
      "xvfb-run -n 8005 -s \"-screen 0 800x600x24\" meshlabserver $@  -i /neurd_packages/NEURD/Applications/autoproof_neuron_pipeline/Poisson_temp/neuron_523372.off -o /neurd_packages/NEURD/Applications/autoproof_neuron_pipeline/Poisson_temp/neuron_523372_poisson.off -s /neurd_packages/NEURD/Applications/autoproof_neuron_pipeline/Poisson_temp/poisson_472650.mls\n",
      "removed temporary input file: /neurd_packages/NEURD/Applications/autoproof_neuron_pipeline/Poisson_temp/neuron_523372.off\n",
      "removed temporary output file: /neurd_packages/NEURD/Applications/autoproof_neuron_pipeline/Poisson_temp/neuron_523372_poisson.off\n",
      "mesh.is_watertight = True\n",
      "/neurd_packages/NEURD/Applications/autoproof_neuron_pipeline/Poisson_temp/poisson_472650.mls is being deleted....\n",
      "Using Poisson Surface Reconstruction for watertightness in soma_volume_ratio\n",
      "xvfb-run -n 5220 -s \"-screen 0 800x600x24\" meshlabserver $@  -i /neurd_packages/NEURD/Applications/autoproof_neuron_pipeline/Poisson_temp/neuron_384671.off -o /neurd_packages/NEURD/Applications/autoproof_neuron_pipeline/Poisson_temp/neuron_384671_poisson.off -s /neurd_packages/NEURD/Applications/autoproof_neuron_pipeline/Poisson_temp/poisson_334747.mls\n",
      "removed temporary input file: /neurd_packages/NEURD/Applications/autoproof_neuron_pipeline/Poisson_temp/neuron_384671.off\n",
      "removed temporary output file: /neurd_packages/NEURD/Applications/autoproof_neuron_pipeline/Poisson_temp/neuron_384671_poisson.off\n",
      "mesh.is_watertight = False\n",
      "/neurd_packages/NEURD/Applications/autoproof_neuron_pipeline/Poisson_temp/poisson_334747.mls is being deleted....\n",
      "--- 1) Finished unpacking preprocessed materials: 123.15215969085693\n",
      "total_edges = [['S0', 'L0'], ['S0', 'L1'], ['S0', 'L4'], ['S0', 'L5'], ['S0', 'L6'], ['S1', 'L2'], ['S1', 'L3'], ['S1', 'L4'], ['S1', 'L7']]\n",
      "--- 2) Finished creating neuron connectivity graph: 0.00014829635620117188\n",
      "Having to generate soma_meshes_face_idx because none in preprocessed data\n",
      "--- 3a) Finshed generating soma_meshes_face_idx: 0.0985713005065918\n",
      "Using precomputed volume ratio\n",
      "--- 3b) Finished soma creation: 9.13750410079956\n",
      "Using precomputed volume ratio\n",
      "--- 3b) Finished soma creation: 7.581527471542358\n",
      "--- 3) Finshed generating soma objects and adding them to concept graph: 0.00020885467529296875\n",
      "--- 4a) Finshed generating curr_limb_meshes_face_idx: 0.253098726272583\n",
      "curr_limb_concept_networks= {0: [<datasci_tools.networkx_utils.GraphOrderedEdges object at 0x7fb85f3df070>]}\n",
      "curr_limb_concept_networks= {0: [<datasci_tools.networkx_utils.GraphOrderedEdges object at 0x7fb87578ba90>]}\n",
      "curr_limb_concept_networks= {1: [<datasci_tools.networkx_utils.GraphOrderedEdges object at 0x7fb87a3249d0>]}\n",
      "curr_limb_concept_networks= {1: [<datasci_tools.networkx_utils.GraphOrderedEdges object at 0x7fb87574f040>]}\n",
      "curr_limb_concept_networks= {0: [<datasci_tools.networkx_utils.GraphOrderedEdges object at 0x7fb85f061700>], 1: [<datasci_tools.networkx_utils.GraphOrderedEdges object at 0x7fb870c10430>]}\n",
      "curr_limb_concept_networks= {0: [<datasci_tools.networkx_utils.GraphOrderedEdges object at 0x7fb87594b850>]}\n",
      "curr_limb_concept_networks= {0: [<datasci_tools.networkx_utils.GraphOrderedEdges object at 0x7fb870c10d00>]}\n",
      "curr_limb_concept_networks= {1: [<datasci_tools.networkx_utils.GraphOrderedEdges object at 0x7fb875905490>]}\n",
      "--- 4) Finshed generating Limb objects and adding them to concept graph: 2.111997365951538\n",
      "--- 5) SKIPPING Doing the adaptive mesh correspondence on the meshparty preprocessing ---\n",
      "--- 6) SKIPPING Using the computed_attribute_dict to populate neuron attributes ---\n",
      "self.n_limbs = 8\n",
      "7) Calculating the spines for the neuorn if do not already exist\n",
      "7a) calculating spines because didn't exist\n",
      "query = median_mesh_center > 115 and n_faces_branch>100\n",
      "The median_mesh_center was requested but has not already been calculated so calculating now.... \n",
      "width_name BEFORE processing = None\n",
      "After processing\n",
      "width_name = median_mesh_center, distance_by_mesh_center= True, no_spines = False, summary_measure= median\n",
      "Working on limb L0 branch 6\n",
      "    current_width= 630.2784498341566\n",
      "Working on limb L0 branch 3\n",
      "    current_width= 432.9638560228863\n",
      "Working on limb L0 branch 7\n",
      "    current_width= 379.0361128994382\n",
      "Working on limb L0 branch 0\n",
      "    current_width= 308.20840659465966\n",
      "Working on limb L0 branch 1\n",
      "    current_width= 379.16248459812937\n",
      "Working on limb L0 branch 2\n",
      "    current_width= 291.64620419528615\n",
      "Working on limb L0 branch 4\n",
      "    current_width= 331.5606261403119\n",
      "Working on limb L0 branch 8\n",
      "    current_width= 307.3302495420711\n",
      "Working on limb L0 branch 5\n",
      "    current_width= 304.87775977039416\n",
      "Working on limb L0 branch 9\n",
      "    current_width= 445.09867587184743\n",
      "Working on limb L1 branch 17\n",
      "    current_width= 186.74385817318597\n",
      "Working on limb L1 branch 15\n",
      "    current_width= 81.06732888550147\n",
      "Working on limb L1 branch 16\n",
      "    current_width= 180.79969247866023\n",
      "Working on limb L1 branch 18\n",
      "    current_width= 83.6230371949197\n",
      "Working on limb L1 branch 4\n",
      "    current_width= 67.0560163730836\n",
      "Working on limb L1 branch 14\n",
      "    current_width= 117.52564794080544\n",
      "Working on limb L1 branch 26\n",
      "    current_width= 166.88235794997527\n",
      "Working on limb L1 branch 19\n",
      "    current_width= 74.74432487535276\n",
      "Working on limb L1 branch 20\n",
      "    current_width= 78.90931853911839\n",
      "Working on limb L1 branch 12\n",
      "    current_width= 103.22323650098632\n",
      "Working on limb L1 branch 13\n",
      "    current_width= 103.46347406090041\n",
      "Working on limb L1 branch 21\n",
      "    current_width= 89.35632620500378\n",
      "Working on limb L1 branch 22\n",
      "    current_width= 85.25609472650788\n",
      "Working on limb L1 branch 9\n",
      "    current_width= 100.46127338361123\n",
      "Working on limb L1 branch 10\n",
      "    current_width= 142.18601228890287\n",
      "Working on limb L1 branch 11\n",
      "    current_width= 93.61085880218833\n",
      "Working on limb L1 branch 25\n",
      "    current_width= 66.4711702516618\n",
      "Working on limb L1 branch 1\n",
      "    current_width= 111.9796517426644\n",
      "Working on limb L1 branch 3\n",
      "    current_width= 95.32640663158229\n",
      "Working on limb L1 branch 7\n",
      "    current_width= 102.2228169510694\n",
      "Working on limb L1 branch 8\n",
      "    current_width= 131.75016231242103\n",
      "Working on limb L1 branch 5\n",
      "    current_width= 128.81184575314447\n",
      "Working on limb L1 branch 6\n",
      "    current_width= 108.30020672887802\n",
      "Working on limb L1 branch 0\n",
      "    current_width= 97.68811695225403\n",
      "Working on limb L1 branch 2\n",
      "    current_width= 125.70160186748858\n",
      "Working on limb L1 branch 23\n",
      "    current_width= 87.93425564048837\n",
      "Working on limb L1 branch 24\n",
      "    current_width= 82.4982383186942\n",
      "Working on limb L4 branch 2\n",
      "    current_width= 970.8585212051892\n",
      "Working on limb L4 branch 0\n",
      "    current_width= 428.22199570981036\n",
      "Working on limb L4 branch 3\n",
      "    current_width= 772.1446190502194\n",
      "Working on limb L4 branch 1\n",
      "    current_width= 290.19257976859114\n",
      "Working on limb L4 branch 4\n",
      "    current_width= 509.7801183381049\n",
      "Working on limb L4 branch 5\n",
      "    current_width= 418.1747077447276\n",
      "Working on limb L4 branch 6\n",
      "    current_width= 328.1983214616748\n",
      "Working on limb L5 branch 0\n",
      "    current_width= 447.09174488055413\n",
      "Working on limb L6 branch 0\n",
      "    current_width= 343.94895170316283\n",
      "Working on limb L2 branch 0\n",
      "    current_width= 382.8675172722097\n",
      "Working on limb L2 branch 1\n",
      "    current_width= 331.9370977049412\n",
      "Working on limb L2 branch 2\n",
      "    current_width= 363.2024700532205\n",
      "Working on limb L3 branch 1\n",
      "    current_width= 341.6228226856097\n",
      "Working on limb L3 branch 0\n",
      "    current_width= 96.25067340356648\n",
      "Working on limb L3 branch 2\n",
      "    current_width= 389.77078871406786\n",
      "Working on limb L3 branch 3\n",
      "    current_width= 69.00572062527482\n",
      "Working on limb L3 branch 4\n",
      "    current_width= 368.5289855187065\n",
      "Working on limb L7 branch 2\n",
      "    current_width= 1625.5841318596515\n",
      "Working on limb L7 branch 0\n",
      "    current_width= 809.239718310899\n",
      "Working on limb L7 branch 1\n",
      "    current_width= 757.2841905314622\n",
      "MAX ITERATIONS initially 500\n",
      "AREA VARIATION initially 0.0001\n",
      "medial centered initially 1\n",
      "medially_centered_speed_tradeoff initially 0.2\n",
      "quality_speed_tradeoff initially 0.1\n",
      "max_triangle_angle initially 1.91986\n",
      "min_edge_length initially 65.8216\n",
      "setting the edge length by absolute length\n",
      "min_edge_length AFTER = 75\n",
      "max_triangle_angle AFTER = 1.91986\n",
      "quality_speed_tradeoff AFTER = 0.2\n",
      "set_medially_centered_speed_tradeoff AFTER = 0.2\n",
      "medial centered AFTER 1\n",
      "AREA VARIATION AFTER 0.0001\n",
      "MAX ITERATIONS AFTER 500\n",
      "medial centered END 1\n",
      "set_medially_centered_speed_tradeoff END = 0.2\n",
      "quality_speed_tradeoff END = 0.2\n",
      "Max iterations END = 500\n",
      "AREA VARIATION END 0.0001\n",
      "Number of vertices of the skeleton: 299\n",
      "Number of edges of the skeleton: 298\n",
      "MAX ITERATIONS initially 500\n",
      "AREA VARIATION initially 0.0001\n",
      "medial centered initially 1\n",
      "medially_centered_speed_tradeoff initially 0.2\n",
      "quality_speed_tradeoff initially 0.1\n",
      "max_triangle_angle initially 1.91986\n",
      "min_edge_length initially 25.9483\n"
     ]
    },
    {
     "name": "stdout",
     "output_type": "stream",
     "text": [
      "setting the edge length by absolute length\n",
      "min_edge_length AFTER = 75\n",
      "max_triangle_angle AFTER = 1.91986\n",
      "quality_speed_tradeoff AFTER = 0.2\n",
      "set_medially_centered_speed_tradeoff AFTER = 0.2\n",
      "medial centered AFTER 1\n",
      "AREA VARIATION AFTER 0.0001\n",
      "MAX ITERATIONS AFTER 500\n",
      "medial centered END 1\n",
      "set_medially_centered_speed_tradeoff END = 0.2\n",
      "quality_speed_tradeoff END = 0.2\n",
      "Max iterations END = 500\n",
      "AREA VARIATION END 0.0001\n",
      "Number of vertices of the skeleton: 76\n",
      "Number of edges of the skeleton: 75\n",
      "MAX ITERATIONS initially 500\n",
      "AREA VARIATION initially 0.0001\n",
      "medial centered initially 1\n",
      "medially_centered_speed_tradeoff initially 0.2\n",
      "quality_speed_tradeoff initially 0.1\n",
      "max_triangle_angle initially 1.91986\n",
      "min_edge_length initially 130.059\n",
      "setting the edge length by absolute length\n",
      "min_edge_length AFTER = 75\n",
      "max_triangle_angle AFTER = 1.91986\n",
      "quality_speed_tradeoff AFTER = 0.2\n",
      "set_medially_centered_speed_tradeoff AFTER = 0.2\n",
      "medial centered AFTER 1\n",
      "AREA VARIATION AFTER 0.0001\n",
      "MAX ITERATIONS AFTER 500\n",
      "medial centered END 1\n",
      "set_medially_centered_speed_tradeoff END = 0.2\n",
      "quality_speed_tradeoff END = 0.2\n",
      "Max iterations END = 500\n",
      "AREA VARIATION END 0.0001\n",
      "Number of vertices of the skeleton: 775\n",
      "Number of edges of the skeleton: 774\n",
      "MAX ITERATIONS initially 500\n",
      "AREA VARIATION initially 0.0001\n",
      "medial centered initially 1\n",
      "medially_centered_speed_tradeoff initially 0.2\n",
      "quality_speed_tradeoff initially 0.1\n",
      "max_triangle_angle initially 1.91986\n",
      "min_edge_length initially 36.8922\n",
      "setting the edge length by absolute length\n",
      "min_edge_length AFTER = 75\n",
      "max_triangle_angle AFTER = 1.91986\n",
      "quality_speed_tradeoff AFTER = 0.2\n",
      "set_medially_centered_speed_tradeoff AFTER = 0.2\n",
      "medial centered AFTER 1\n",
      "AREA VARIATION AFTER 0.0001\n",
      "MAX ITERATIONS AFTER 500\n",
      "medial centered END 1\n",
      "set_medially_centered_speed_tradeoff END = 0.2\n",
      "quality_speed_tradeoff END = 0.2\n",
      "Max iterations END = 500\n",
      "AREA VARIATION END 0.0001\n",
      "Number of vertices of the skeleton: 3\n",
      "Number of edges of the skeleton: 2\n",
      "\n",
      "Number of segments: 80\n",
      "\n"
     ]
    },
    {
     "data": {
      "application/vnd.jupyter.widget-view+json": {
       "model_id": "488179a147574754877c32a9b3de1d3a",
       "version_major": 2,
       "version_minor": 0
      },
      "text/plain": [
       "  0%|          | 0/80 [00:00<?, ?it/s]"
      ]
     },
     "metadata": {},
     "output_type": "display_data"
    },
    {
     "data": {
      "application/vnd.jupyter.widget-view+json": {
       "model_id": "d6efc105f0934574a00ca75dec8ac229",
       "version_major": 2,
       "version_minor": 0
      },
      "text/plain": [
       "  0%|          | 0/80 [00:00<?, ?it/s]"
      ]
     },
     "metadata": {},
     "output_type": "display_data"
    },
    {
     "name": "stdout",
     "output_type": "stream",
     "text": [
      "Filtering away by face and skeletal length\n",
      "\n",
      "Number of segments: 102\n",
      "\n"
     ]
    },
    {
     "data": {
      "application/vnd.jupyter.widget-view+json": {
       "model_id": "4f8a7a658e354d65975cc70013f5cac4",
       "version_major": 2,
       "version_minor": 0
      },
      "text/plain": [
       "  0%|          | 0/102 [00:00<?, ?it/s]"
      ]
     },
     "metadata": {},
     "output_type": "display_data"
    },
    {
     "data": {
      "application/vnd.jupyter.widget-view+json": {
       "model_id": "eb56112fd23b414c9e9c7cf6c607674e",
       "version_major": 2,
       "version_minor": 0
      },
      "text/plain": [
       "  0%|          | 0/102 [00:00<?, ?it/s]"
      ]
     },
     "metadata": {},
     "output_type": "display_data"
    },
    {
     "name": "stdout",
     "output_type": "stream",
     "text": [
      "Filtering away by face and skeletal length\n",
      "\n",
      "Number of segments: 16\n",
      "\n"
     ]
    },
    {
     "data": {
      "application/vnd.jupyter.widget-view+json": {
       "model_id": "ac662916e9b7438f9e9f8b706f2fb6af",
       "version_major": 2,
       "version_minor": 0
      },
      "text/plain": [
       "  0%|          | 0/16 [00:00<?, ?it/s]"
      ]
     },
     "metadata": {},
     "output_type": "display_data"
    },
    {
     "data": {
      "application/vnd.jupyter.widget-view+json": {
       "model_id": "840f8bc466e24e739b8a1c9af96ffd54",
       "version_major": 2,
       "version_minor": 0
      },
      "text/plain": [
       "  0%|          | 0/16 [00:00<?, ?it/s]"
      ]
     },
     "metadata": {},
     "output_type": "display_data"
    },
    {
     "name": "stdout",
     "output_type": "stream",
     "text": [
      "Filtering away by face and skeletal length\n",
      "\n",
      "Number of segments: 18\n",
      "\n"
     ]
    },
    {
     "data": {
      "application/vnd.jupyter.widget-view+json": {
       "model_id": "13f4ec7f786249c6a89247f7091ec66d",
       "version_major": 2,
       "version_minor": 0
      },
      "text/plain": [
       "  0%|          | 0/18 [00:00<?, ?it/s]"
      ]
     },
     "metadata": {},
     "output_type": "display_data"
    },
    {
     "data": {
      "application/vnd.jupyter.widget-view+json": {
       "model_id": "ba93f33c5bba472cb1aac999222f36f9",
       "version_major": 2,
       "version_minor": 0
      },
      "text/plain": [
       "  0%|          | 0/18 [00:00<?, ?it/s]"
      ]
     },
     "metadata": {},
     "output_type": "display_data"
    },
    {
     "name": "stdout",
     "output_type": "stream",
     "text": [
      "Filtering away by face and skeletal length\n",
      "\n",
      "Number of segments: 100\n",
      "\n"
     ]
    },
    {
     "data": {
      "application/vnd.jupyter.widget-view+json": {
       "model_id": "df162ce78c924664b63188235c9cd3da",
       "version_major": 2,
       "version_minor": 0
      },
      "text/plain": [
       "  0%|          | 0/100 [00:00<?, ?it/s]"
      ]
     },
     "metadata": {},
     "output_type": "display_data"
    },
    {
     "data": {
      "application/vnd.jupyter.widget-view+json": {
       "model_id": "79dd358fbde0498a9a95584cbbb8eb96",
       "version_major": 2,
       "version_minor": 0
      },
      "text/plain": [
       "  0%|          | 0/100 [00:00<?, ?it/s]"
      ]
     },
     "metadata": {},
     "output_type": "display_data"
    },
    {
     "name": "stdout",
     "output_type": "stream",
     "text": [
      "Filtering away by face and skeletal length\n",
      "\n",
      "Number of segments: 82\n",
      "\n"
     ]
    },
    {
     "data": {
      "application/vnd.jupyter.widget-view+json": {
       "model_id": "0e3daa5bf57740f2b35e1d72ea825934",
       "version_major": 2,
       "version_minor": 0
      },
      "text/plain": [
       "  0%|          | 0/82 [00:00<?, ?it/s]"
      ]
     },
     "metadata": {},
     "output_type": "display_data"
    },
    {
     "data": {
      "application/vnd.jupyter.widget-view+json": {
       "model_id": "d06086f1455b4680acf78c3c7fc4576b",
       "version_major": 2,
       "version_minor": 0
      },
      "text/plain": [
       "  0%|          | 0/82 [00:00<?, ?it/s]"
      ]
     },
     "metadata": {},
     "output_type": "display_data"
    },
    {
     "name": "stdout",
     "output_type": "stream",
     "text": [
      "Filtering away by face and skeletal length\n",
      "\n",
      "Number of segments: 2\n",
      "\n"
     ]
    },
    {
     "data": {
      "application/vnd.jupyter.widget-view+json": {
       "model_id": "8612565c6fdf4b6493459cd8cbe8eeae",
       "version_major": 2,
       "version_minor": 0
      },
      "text/plain": [
       "  0%|          | 0/2 [00:00<?, ?it/s]"
      ]
     },
     "metadata": {},
     "output_type": "display_data"
    },
    {
     "data": {
      "application/vnd.jupyter.widget-view+json": {
       "model_id": "d56bc5a1cdf44ad8940c46d1b4cbc511",
       "version_major": 2,
       "version_minor": 0
      },
      "text/plain": [
       "  0%|          | 0/2 [00:00<?, ?it/s]"
      ]
     },
     "metadata": {},
     "output_type": "display_data"
    },
    {
     "name": "stdout",
     "output_type": "stream",
     "text": [
      "Filtering away by face and skeletal length\n",
      "\n",
      "Number of segments: 7\n",
      "\n"
     ]
    },
    {
     "data": {
      "application/vnd.jupyter.widget-view+json": {
       "model_id": "0a4e0e94cda2484ebcc5aa2ecb884703",
       "version_major": 2,
       "version_minor": 0
      },
      "text/plain": [
       "  0%|          | 0/7 [00:00<?, ?it/s]"
      ]
     },
     "metadata": {},
     "output_type": "display_data"
    },
    {
     "data": {
      "application/vnd.jupyter.widget-view+json": {
       "model_id": "835f84357b4c40789d118fd8904aad8f",
       "version_major": 2,
       "version_minor": 0
      },
      "text/plain": [
       "  0%|          | 0/7 [00:00<?, ?it/s]"
      ]
     },
     "metadata": {},
     "output_type": "display_data"
    },
    {
     "name": "stdout",
     "output_type": "stream",
     "text": [
      "Filtering away by face and skeletal length\n",
      "\n",
      "Number of segments: 9\n",
      "\n"
     ]
    },
    {
     "data": {
      "application/vnd.jupyter.widget-view+json": {
       "model_id": "5af91cabe24e42a884024fade7565817",
       "version_major": 2,
       "version_minor": 0
      },
      "text/plain": [
       "  0%|          | 0/9 [00:00<?, ?it/s]"
      ]
     },
     "metadata": {},
     "output_type": "display_data"
    },
    {
     "data": {
      "application/vnd.jupyter.widget-view+json": {
       "model_id": "566d3806598944f9a565ac402db99f18",
       "version_major": 2,
       "version_minor": 0
      },
      "text/plain": [
       "  0%|          | 0/9 [00:00<?, ?it/s]"
      ]
     },
     "metadata": {},
     "output_type": "display_data"
    },
    {
     "name": "stdout",
     "output_type": "stream",
     "text": [
      "Filtering away by face and skeletal length\n",
      "\n",
      "Number of segments: 186\n",
      "\n"
     ]
    },
    {
     "data": {
      "application/vnd.jupyter.widget-view+json": {
       "model_id": "e41d0cd46eb54bbf9e28934bd78cc3d9",
       "version_major": 2,
       "version_minor": 0
      },
      "text/plain": [
       "  0%|          | 0/186 [00:00<?, ?it/s]"
      ]
     },
     "metadata": {},
     "output_type": "display_data"
    },
    {
     "data": {
      "application/vnd.jupyter.widget-view+json": {
       "model_id": "9116b1433eff4d869d71bd7688d7b9a0",
       "version_major": 2,
       "version_minor": 0
      },
      "text/plain": [
       "  0%|          | 0/186 [00:00<?, ?it/s]"
      ]
     },
     "metadata": {},
     "output_type": "display_data"
    },
    {
     "name": "stdout",
     "output_type": "stream",
     "text": [
      "Filtering away by face and skeletal length\n",
      "\n",
      "Number of segments: 23\n",
      "\n"
     ]
    },
    {
     "data": {
      "application/vnd.jupyter.widget-view+json": {
       "model_id": "d1d7c0ab7a974b35af2f5729fb2646a2",
       "version_major": 2,
       "version_minor": 0
      },
      "text/plain": [
       "  0%|          | 0/23 [00:00<?, ?it/s]"
      ]
     },
     "metadata": {},
     "output_type": "display_data"
    },
    {
     "data": {
      "application/vnd.jupyter.widget-view+json": {
       "model_id": "a9f4bf1e7cf44484a5b59aca03b3cc74",
       "version_major": 2,
       "version_minor": 0
      },
      "text/plain": [
       "  0%|          | 0/23 [00:00<?, ?it/s]"
      ]
     },
     "metadata": {},
     "output_type": "display_data"
    },
    {
     "name": "stdout",
     "output_type": "stream",
     "text": [
      "Filtering away by face and skeletal length\n",
      "\n",
      "Number of segments: 4\n",
      "\n"
     ]
    },
    {
     "data": {
      "application/vnd.jupyter.widget-view+json": {
       "model_id": "b1fd0d223e5d4d92b72475d6360aaad5",
       "version_major": 2,
       "version_minor": 0
      },
      "text/plain": [
       "  0%|          | 0/4 [00:00<?, ?it/s]"
      ]
     },
     "metadata": {},
     "output_type": "display_data"
    },
    {
     "data": {
      "application/vnd.jupyter.widget-view+json": {
       "model_id": "3ea1ad31453243579898aec032446300",
       "version_major": 2,
       "version_minor": 0
      },
      "text/plain": [
       "  0%|          | 0/4 [00:00<?, ?it/s]"
      ]
     },
     "metadata": {},
     "output_type": "display_data"
    },
    {
     "name": "stdout",
     "output_type": "stream",
     "text": [
      "Filtering away by face and skeletal length\n",
      "\n",
      "Number of segments: 38\n",
      "\n"
     ]
    },
    {
     "data": {
      "application/vnd.jupyter.widget-view+json": {
       "model_id": "afd96754c95d472eb6aaa18ff7a1eec6",
       "version_major": 2,
       "version_minor": 0
      },
      "text/plain": [
       "  0%|          | 0/38 [00:00<?, ?it/s]"
      ]
     },
     "metadata": {},
     "output_type": "display_data"
    },
    {
     "data": {
      "application/vnd.jupyter.widget-view+json": {
       "model_id": "46e8c9c9642b45c09d6eb14eeac2970a",
       "version_major": 2,
       "version_minor": 0
      },
      "text/plain": [
       "  0%|          | 0/38 [00:00<?, ?it/s]"
      ]
     },
     "metadata": {},
     "output_type": "display_data"
    },
    {
     "name": "stdout",
     "output_type": "stream",
     "text": [
      "Filtering away by face and skeletal length\n",
      "\n",
      "Number of segments: 3\n",
      "\n"
     ]
    },
    {
     "data": {
      "application/vnd.jupyter.widget-view+json": {
       "model_id": "ab211f76b5524576882a31042cadd1da",
       "version_major": 2,
       "version_minor": 0
      },
      "text/plain": [
       "  0%|          | 0/3 [00:00<?, ?it/s]"
      ]
     },
     "metadata": {},
     "output_type": "display_data"
    },
    {
     "data": {
      "application/vnd.jupyter.widget-view+json": {
       "model_id": "d476a4b8d40d472081c713e75fca7637",
       "version_major": 2,
       "version_minor": 0
      },
      "text/plain": [
       "  0%|          | 0/3 [00:00<?, ?it/s]"
      ]
     },
     "metadata": {},
     "output_type": "display_data"
    },
    {
     "name": "stdout",
     "output_type": "stream",
     "text": [
      "Filtering away by face and skeletal length\n",
      "\n",
      "Number of segments: 9\n",
      "\n"
     ]
    },
    {
     "data": {
      "application/vnd.jupyter.widget-view+json": {
       "model_id": "7bcf23acb1b04a7b87c0202579a46268",
       "version_major": 2,
       "version_minor": 0
      },
      "text/plain": [
       "  0%|          | 0/9 [00:00<?, ?it/s]"
      ]
     },
     "metadata": {},
     "output_type": "display_data"
    },
    {
     "data": {
      "application/vnd.jupyter.widget-view+json": {
       "model_id": "ca07aafd4691487c9e664d8aac226507",
       "version_major": 2,
       "version_minor": 0
      },
      "text/plain": [
       "  0%|          | 0/9 [00:00<?, ?it/s]"
      ]
     },
     "metadata": {},
     "output_type": "display_data"
    },
    {
     "name": "stdout",
     "output_type": "stream",
     "text": [
      "Filtering away by face and skeletal length\n",
      "\n",
      "Number of segments: 23\n",
      "\n"
     ]
    },
    {
     "data": {
      "application/vnd.jupyter.widget-view+json": {
       "model_id": "01280fa7c4db4135bdcf9c7a5b18fe86",
       "version_major": 2,
       "version_minor": 0
      },
      "text/plain": [
       "  0%|          | 0/23 [00:00<?, ?it/s]"
      ]
     },
     "metadata": {},
     "output_type": "display_data"
    },
    {
     "data": {
      "application/vnd.jupyter.widget-view+json": {
       "model_id": "5b59ae3f4ca94beda4d829a85e22f0dd",
       "version_major": 2,
       "version_minor": 0
      },
      "text/plain": [
       "  0%|          | 0/23 [00:00<?, ?it/s]"
      ]
     },
     "metadata": {},
     "output_type": "display_data"
    },
    {
     "name": "stdout",
     "output_type": "stream",
     "text": [
      "Filtering away by face and skeletal length\n",
      "\n",
      "Number of segments: 3\n",
      "\n"
     ]
    },
    {
     "data": {
      "application/vnd.jupyter.widget-view+json": {
       "model_id": "a82454f148894cf4b64ffd66f345f8e2",
       "version_major": 2,
       "version_minor": 0
      },
      "text/plain": [
       "  0%|          | 0/3 [00:00<?, ?it/s]"
      ]
     },
     "metadata": {},
     "output_type": "display_data"
    },
    {
     "data": {
      "application/vnd.jupyter.widget-view+json": {
       "model_id": "52703243d97d45f387455d97dc9e0dbe",
       "version_major": 2,
       "version_minor": 0
      },
      "text/plain": [
       "  0%|          | 0/3 [00:00<?, ?it/s]"
      ]
     },
     "metadata": {},
     "output_type": "display_data"
    },
    {
     "name": "stdout",
     "output_type": "stream",
     "text": [
      "Filtering away by face and skeletal length\n",
      "\n",
      "Number of segments: 7\n",
      "\n"
     ]
    },
    {
     "data": {
      "application/vnd.jupyter.widget-view+json": {
       "model_id": "2fbde09ab3954a72a2d8711520c4dc18",
       "version_major": 2,
       "version_minor": 0
      },
      "text/plain": [
       "  0%|          | 0/7 [00:00<?, ?it/s]"
      ]
     },
     "metadata": {},
     "output_type": "display_data"
    },
    {
     "data": {
      "application/vnd.jupyter.widget-view+json": {
       "model_id": "8a2d0fe434824813b8196ab50816d552",
       "version_major": 2,
       "version_minor": 0
      },
      "text/plain": [
       "  0%|          | 0/7 [00:00<?, ?it/s]"
      ]
     },
     "metadata": {},
     "output_type": "display_data"
    },
    {
     "name": "stdout",
     "output_type": "stream",
     "text": [
      "Filtering away by face and skeletal length\n",
      "\n",
      "Number of segments: 149\n",
      "\n"
     ]
    },
    {
     "data": {
      "application/vnd.jupyter.widget-view+json": {
       "model_id": "4ec5e8c2db8e484ea734ce6fdd94c045",
       "version_major": 2,
       "version_minor": 0
      },
      "text/plain": [
       "  0%|          | 0/149 [00:00<?, ?it/s]"
      ]
     },
     "metadata": {},
     "output_type": "display_data"
    },
    {
     "data": {
      "application/vnd.jupyter.widget-view+json": {
       "model_id": "a63584d691eb4e42bb7287510dd26399",
       "version_major": 2,
       "version_minor": 0
      },
      "text/plain": [
       "  0%|          | 0/149 [00:00<?, ?it/s]"
      ]
     },
     "metadata": {},
     "output_type": "display_data"
    },
    {
     "name": "stdout",
     "output_type": "stream",
     "text": [
      "Filtering away by face and skeletal length\n",
      "\n",
      "Number of segments: 155\n",
      "\n"
     ]
    },
    {
     "data": {
      "application/vnd.jupyter.widget-view+json": {
       "model_id": "8eb115918ebc4da3a657d6c572e81350",
       "version_major": 2,
       "version_minor": 0
      },
      "text/plain": [
       "  0%|          | 0/155 [00:00<?, ?it/s]"
      ]
     },
     "metadata": {},
     "output_type": "display_data"
    },
    {
     "data": {
      "application/vnd.jupyter.widget-view+json": {
       "model_id": "c34172167da54a66bb570c11c3100558",
       "version_major": 2,
       "version_minor": 0
      },
      "text/plain": [
       "  0%|          | 0/155 [00:00<?, ?it/s]"
      ]
     },
     "metadata": {},
     "output_type": "display_data"
    },
    {
     "name": "stdout",
     "output_type": "stream",
     "text": [
      "Filtering away by face and skeletal length\n",
      "\n",
      "Number of segments: 2\n",
      "\n"
     ]
    },
    {
     "data": {
      "application/vnd.jupyter.widget-view+json": {
       "model_id": "cb155824beeb4d72ba2d016067d533d8",
       "version_major": 2,
       "version_minor": 0
      },
      "text/plain": [
       "  0%|          | 0/2 [00:00<?, ?it/s]"
      ]
     },
     "metadata": {},
     "output_type": "display_data"
    },
    {
     "data": {
      "application/vnd.jupyter.widget-view+json": {
       "model_id": "ddd0ac6b7ffb40d4a067c44205905504",
       "version_major": 2,
       "version_minor": 0
      },
      "text/plain": [
       "  0%|          | 0/2 [00:00<?, ?it/s]"
      ]
     },
     "metadata": {},
     "output_type": "display_data"
    },
    {
     "name": "stdout",
     "output_type": "stream",
     "text": [
      "Filtering away by face and skeletal length\n",
      "\n",
      "Number of segments: 109\n",
      "\n"
     ]
    },
    {
     "data": {
      "application/vnd.jupyter.widget-view+json": {
       "model_id": "bcb2b86c0c7e4e6283eeec80be4863ff",
       "version_major": 2,
       "version_minor": 0
      },
      "text/plain": [
       "  0%|          | 0/109 [00:00<?, ?it/s]"
      ]
     },
     "metadata": {},
     "output_type": "display_data"
    },
    {
     "data": {
      "application/vnd.jupyter.widget-view+json": {
       "model_id": "30ca58797d0949e286a00715bc1b7fc1",
       "version_major": 2,
       "version_minor": 0
      },
      "text/plain": [
       "  0%|          | 0/109 [00:00<?, ?it/s]"
      ]
     },
     "metadata": {},
     "output_type": "display_data"
    },
    {
     "name": "stdout",
     "output_type": "stream",
     "text": [
      "Filtering away by face and skeletal length\n",
      "\n",
      "Number of segments: 52\n",
      "\n"
     ]
    },
    {
     "data": {
      "application/vnd.jupyter.widget-view+json": {
       "model_id": "1b382b12ea9f4291aa7ea5bf39908bfd",
       "version_major": 2,
       "version_minor": 0
      },
      "text/plain": [
       "  0%|          | 0/52 [00:00<?, ?it/s]"
      ]
     },
     "metadata": {},
     "output_type": "display_data"
    },
    {
     "data": {
      "application/vnd.jupyter.widget-view+json": {
       "model_id": "29a77bdf25294603abda0a3fe1975080",
       "version_major": 2,
       "version_minor": 0
      },
      "text/plain": [
       "  0%|          | 0/52 [00:00<?, ?it/s]"
      ]
     },
     "metadata": {},
     "output_type": "display_data"
    },
    {
     "name": "stdout",
     "output_type": "stream",
     "text": [
      "Filtering away by face and skeletal length\n",
      "\n",
      "Number of segments: 32\n",
      "\n"
     ]
    },
    {
     "data": {
      "application/vnd.jupyter.widget-view+json": {
       "model_id": "8a071c8100b54f138eb461128d0b0636",
       "version_major": 2,
       "version_minor": 0
      },
      "text/plain": [
       "  0%|          | 0/32 [00:00<?, ?it/s]"
      ]
     },
     "metadata": {},
     "output_type": "display_data"
    },
    {
     "data": {
      "application/vnd.jupyter.widget-view+json": {
       "model_id": "248cbfb038434d13acb62f168c79a7fb",
       "version_major": 2,
       "version_minor": 0
      },
      "text/plain": [
       "  0%|          | 0/32 [00:00<?, ?it/s]"
      ]
     },
     "metadata": {},
     "output_type": "display_data"
    },
    {
     "name": "stdout",
     "output_type": "stream",
     "text": [
      "Filtering away by face and skeletal length\n",
      "\n",
      "Number of segments: 6\n",
      "\n"
     ]
    },
    {
     "data": {
      "application/vnd.jupyter.widget-view+json": {
       "model_id": "f080a58b93d6418eb53b2150a219e164",
       "version_major": 2,
       "version_minor": 0
      },
      "text/plain": [
       "  0%|          | 0/6 [00:00<?, ?it/s]"
      ]
     },
     "metadata": {},
     "output_type": "display_data"
    },
    {
     "data": {
      "application/vnd.jupyter.widget-view+json": {
       "model_id": "e107ca2cc2de46e6a37274a8416e2a50",
       "version_major": 2,
       "version_minor": 0
      },
      "text/plain": [
       "  0%|          | 0/6 [00:00<?, ?it/s]"
      ]
     },
     "metadata": {},
     "output_type": "display_data"
    },
    {
     "name": "stdout",
     "output_type": "stream",
     "text": [
      "Filtering away by face and skeletal length\n",
      "\n",
      "Number of segments: 3\n",
      "\n"
     ]
    },
    {
     "data": {
      "application/vnd.jupyter.widget-view+json": {
       "model_id": "7279929fb8424794b1d9cc1380604db1",
       "version_major": 2,
       "version_minor": 0
      },
      "text/plain": [
       "  0%|          | 0/3 [00:00<?, ?it/s]"
      ]
     },
     "metadata": {},
     "output_type": "display_data"
    },
    {
     "data": {
      "application/vnd.jupyter.widget-view+json": {
       "model_id": "3cabdcea3771437280a8c7d380c65b96",
       "version_major": 2,
       "version_minor": 0
      },
      "text/plain": [
       "  0%|          | 0/3 [00:00<?, ?it/s]"
      ]
     },
     "metadata": {},
     "output_type": "display_data"
    },
    {
     "name": "stdout",
     "output_type": "stream",
     "text": [
      "Filtering away by face and skeletal length\n",
      "\n",
      "Number of segments: 7\n",
      "\n"
     ]
    },
    {
     "data": {
      "application/vnd.jupyter.widget-view+json": {
       "model_id": "0b1a79f216d949429a08c836c2c292c0",
       "version_major": 2,
       "version_minor": 0
      },
      "text/plain": [
       "  0%|          | 0/7 [00:00<?, ?it/s]"
      ]
     },
     "metadata": {},
     "output_type": "display_data"
    },
    {
     "data": {
      "application/vnd.jupyter.widget-view+json": {
       "model_id": "621c1d80f97b4125bfda8b830e02402b",
       "version_major": 2,
       "version_minor": 0
      },
      "text/plain": [
       "  0%|          | 0/7 [00:00<?, ?it/s]"
      ]
     },
     "metadata": {},
     "output_type": "display_data"
    },
    {
     "name": "stdout",
     "output_type": "stream",
     "text": [
      "Filtering away by face and skeletal length\n",
      "\n",
      "Number of segments: 4\n",
      "\n"
     ]
    },
    {
     "data": {
      "application/vnd.jupyter.widget-view+json": {
       "model_id": "505a725c9f124a52a7dc53a93480350b",
       "version_major": 2,
       "version_minor": 0
      },
      "text/plain": [
       "  0%|          | 0/4 [00:00<?, ?it/s]"
      ]
     },
     "metadata": {},
     "output_type": "display_data"
    },
    {
     "data": {
      "application/vnd.jupyter.widget-view+json": {
       "model_id": "7ad9f655584c41d0a532a3e0d23209a7",
       "version_major": 2,
       "version_minor": 0
      },
      "text/plain": [
       "  0%|          | 0/4 [00:00<?, ?it/s]"
      ]
     },
     "metadata": {},
     "output_type": "display_data"
    },
    {
     "name": "stdout",
     "output_type": "stream",
     "text": [
      "Filtering away by face and skeletal length\n",
      "\n",
      "Number of segments: 10\n",
      "\n"
     ]
    },
    {
     "data": {
      "application/vnd.jupyter.widget-view+json": {
       "model_id": "cd3f8889ed204d8faa4a3c14753a7e6b",
       "version_major": 2,
       "version_minor": 0
      },
      "text/plain": [
       "  0%|          | 0/10 [00:00<?, ?it/s]"
      ]
     },
     "metadata": {},
     "output_type": "display_data"
    },
    {
     "data": {
      "application/vnd.jupyter.widget-view+json": {
       "model_id": "cdf895fe337748e2b3f3865627f9cb85",
       "version_major": 2,
       "version_minor": 0
      },
      "text/plain": [
       "  0%|          | 0/10 [00:00<?, ?it/s]"
      ]
     },
     "metadata": {},
     "output_type": "display_data"
    },
    {
     "name": "stdout",
     "output_type": "stream",
     "text": [
      "Filtering away by face and skeletal length\n",
      "\n",
      "Number of segments: 78\n",
      "\n"
     ]
    },
    {
     "data": {
      "application/vnd.jupyter.widget-view+json": {
       "model_id": "80a7539944ec4a5b9207402a224d9ced",
       "version_major": 2,
       "version_minor": 0
      },
      "text/plain": [
       "  0%|          | 0/78 [00:00<?, ?it/s]"
      ]
     },
     "metadata": {},
     "output_type": "display_data"
    },
    {
     "data": {
      "application/vnd.jupyter.widget-view+json": {
       "model_id": "7059932996c042b8a1d5f725ef0530ea",
       "version_major": 2,
       "version_minor": 0
      },
      "text/plain": [
       "  0%|          | 0/78 [00:00<?, ?it/s]"
      ]
     },
     "metadata": {},
     "output_type": "display_data"
    },
    {
     "name": "stdout",
     "output_type": "stream",
     "text": [
      "Filtering away by face and skeletal length\n",
      "\n",
      "Number of segments: 134\n",
      "\n"
     ]
    },
    {
     "data": {
      "application/vnd.jupyter.widget-view+json": {
       "model_id": "125693db89084aeb96865a350b02b01c",
       "version_major": 2,
       "version_minor": 0
      },
      "text/plain": [
       "  0%|          | 0/134 [00:00<?, ?it/s]"
      ]
     },
     "metadata": {},
     "output_type": "display_data"
    },
    {
     "data": {
      "application/vnd.jupyter.widget-view+json": {
       "model_id": "229d69d52b9346c582b32c79555a5058",
       "version_major": 2,
       "version_minor": 0
      },
      "text/plain": [
       "  0%|          | 0/134 [00:00<?, ?it/s]"
      ]
     },
     "metadata": {},
     "output_type": "display_data"
    },
    {
     "name": "stdout",
     "output_type": "stream",
     "text": [
      "Filtering away by face and skeletal length\n",
      "\n",
      "Number of segments: 120\n",
      "\n"
     ]
    },
    {
     "data": {
      "application/vnd.jupyter.widget-view+json": {
       "model_id": "2b3a732ae55e448d919afb8a85ec75bb",
       "version_major": 2,
       "version_minor": 0
      },
      "text/plain": [
       "  0%|          | 0/120 [00:00<?, ?it/s]"
      ]
     },
     "metadata": {},
     "output_type": "display_data"
    },
    {
     "data": {
      "application/vnd.jupyter.widget-view+json": {
       "model_id": "52394476e78b49de998f4c2f99aa74af",
       "version_major": 2,
       "version_minor": 0
      },
      "text/plain": [
       "  0%|          | 0/120 [00:00<?, ?it/s]"
      ]
     },
     "metadata": {},
     "output_type": "display_data"
    },
    {
     "name": "stdout",
     "output_type": "stream",
     "text": [
      "Filtering away by face and skeletal length\n",
      "\n",
      "Number of segments: 12\n",
      "\n"
     ]
    },
    {
     "data": {
      "application/vnd.jupyter.widget-view+json": {
       "model_id": "ba041d5a6dc04adaa86e9b40ecd866d4",
       "version_major": 2,
       "version_minor": 0
      },
      "text/plain": [
       "  0%|          | 0/12 [00:00<?, ?it/s]"
      ]
     },
     "metadata": {},
     "output_type": "display_data"
    },
    {
     "data": {
      "application/vnd.jupyter.widget-view+json": {
       "model_id": "4c95a936d9da4e1eb13cfcaac7252682",
       "version_major": 2,
       "version_minor": 0
      },
      "text/plain": [
       "  0%|          | 0/12 [00:00<?, ?it/s]"
      ]
     },
     "metadata": {},
     "output_type": "display_data"
    },
    {
     "name": "stdout",
     "output_type": "stream",
     "text": [
      "Filtering away by face and skeletal length\n",
      "\n",
      "Number of segments: 7\n",
      "\n"
     ]
    },
    {
     "data": {
      "application/vnd.jupyter.widget-view+json": {
       "model_id": "c69e093685fd4d6eb501e955fcd34685",
       "version_major": 2,
       "version_minor": 0
      },
      "text/plain": [
       "  0%|          | 0/7 [00:00<?, ?it/s]"
      ]
     },
     "metadata": {},
     "output_type": "display_data"
    },
    {
     "data": {
      "application/vnd.jupyter.widget-view+json": {
       "model_id": "e7d79bee83c342a8afd87ad2f5fb4bcd",
       "version_major": 2,
       "version_minor": 0
      },
      "text/plain": [
       "  0%|          | 0/7 [00:00<?, ?it/s]"
      ]
     },
     "metadata": {},
     "output_type": "display_data"
    },
    {
     "name": "stdout",
     "output_type": "stream",
     "text": [
      "Filtering away by face and skeletal length\n"
     ]
    },
    {
     "data": {
      "application/vnd.jupyter.widget-view+json": {
       "model_id": "a1a5fa143b2a45fdb47e761a043db609",
       "version_major": 2,
       "version_minor": 0
      },
      "text/plain": [
       "  0%|          | 0/1 [00:00<?, ?it/s]"
      ]
     },
     "metadata": {},
     "output_type": "display_data"
    },
    {
     "data": {
      "application/vnd.jupyter.widget-view+json": {
       "model_id": "3921b2fc47754f7994e2151a4280684e",
       "version_major": 2,
       "version_minor": 0
      },
      "text/plain": [
       "  0%|          | 0/1 [00:00<?, ?it/s]"
      ]
     },
     "metadata": {},
     "output_type": "display_data"
    },
    {
     "name": "stdout",
     "output_type": "stream",
     "text": [
      "There was only one mesh found from the spine process and mesh split, returning empty array\n",
      "Filtering away by face and skeletal length\n",
      "width_name BEFORE processing = no_spine_median_mesh_center\n",
      "After processing\n",
      "width_name = no_spine_median_mesh_center, distance_by_mesh_center= True, no_spines = True, summary_measure= median\n",
      "Working on limb L0 branch 6\n",
      "    No spines and using precomputed width: 630.2784498341566\n",
      "Working on limb L0 branch 3\n",
      "    current_width= 413.74918729790517\n",
      "Working on limb L0 branch 7\n",
      "    No spines and using precomputed width: 379.0361128994382\n",
      "Working on limb L0 branch 0\n",
      "    current_width= 264.9952831459003\n",
      "Working on limb L0 branch 1\n",
      "    current_width= 271.25307888688695\n",
      "Working on limb L0 branch 2\n",
      "    current_width= 290.06918856380514\n",
      "Working on limb L0 branch 4\n",
      "    current_width= 296.6207081305331\n",
      "Working on limb L0 branch 8\n",
      "    No spines and using precomputed width: 307.3302495420711\n",
      "Working on limb L0 branch 5\n",
      "    current_width= 231.6235017904683\n",
      "Working on limb L0 branch 9\n",
      "    current_width= 277.3078439573778\n",
      "Working on limb L1 branch 17\n",
      "    current_width= 186.74385817318597\n",
      "Working on limb L1 branch 15\n",
      "    No spines and using precomputed width: 81.06732888550147\n",
      "Working on limb L1 branch 16\n",
      "    No spines and using precomputed width: 180.79969247866023\n",
      "Working on limb L1 branch 18\n",
      "    No spines and using precomputed width: 83.6230371949197\n",
      "Working on limb L1 branch 4\n",
      "    No spines and using precomputed width: 67.0560163730836\n",
      "Working on limb L1 branch 14\n",
      "    No spines and using precomputed width: 117.52564794080544\n",
      "Working on limb L1 branch 26\n",
      "    No spines and using precomputed width: 166.88235794997527\n",
      "Working on limb L1 branch 19\n",
      "    No spines and using precomputed width: 74.74432487535276\n",
      "Working on limb L1 branch 20\n",
      "    No spines and using precomputed width: 78.90931853911839\n",
      "Working on limb L1 branch 12\n",
      "    No spines and using precomputed width: 103.22323650098632\n",
      "Working on limb L1 branch 13\n",
      "    No spines and using precomputed width: 103.46347406090041\n",
      "Working on limb L1 branch 21\n",
      "    No spines and using precomputed width: 89.35632620500378\n",
      "Working on limb L1 branch 22\n",
      "    No spines and using precomputed width: 85.25609472650788\n",
      "Working on limb L1 branch 9\n",
      "    No spines and using precomputed width: 100.46127338361123\n",
      "Working on limb L1 branch 10\n",
      "    No spines and using precomputed width: 142.18601228890287\n",
      "Working on limb L1 branch 11\n",
      "    No spines and using precomputed width: 93.61085880218833\n",
      "Working on limb L1 branch 25\n",
      "    No spines and using precomputed width: 66.4711702516618\n",
      "Working on limb L1 branch 1\n",
      "    No spines and using precomputed width: 111.9796517426644\n",
      "Working on limb L1 branch 3\n",
      "    No spines and using precomputed width: 95.32640663158229\n",
      "Working on limb L1 branch 7\n",
      "    No spines and using precomputed width: 102.2228169510694\n",
      "Working on limb L1 branch 8\n",
      "    No spines and using precomputed width: 131.75016231242103\n",
      "Working on limb L1 branch 5\n",
      "    No spines and using precomputed width: 128.81184575314447\n",
      "Working on limb L1 branch 6\n",
      "    No spines and using precomputed width: 108.30020672887802\n",
      "Working on limb L1 branch 0\n",
      "    No spines and using precomputed width: 97.68811695225403\n",
      "Working on limb L1 branch 2\n",
      "    No spines and using precomputed width: 125.70160186748858\n",
      "Working on limb L1 branch 23\n",
      "    No spines and using precomputed width: 87.93425564048837\n",
      "Working on limb L1 branch 24\n",
      "    No spines and using precomputed width: 82.4982383186942\n",
      "Working on limb L4 branch 2\n",
      "    No spines and using precomputed width: 970.8585212051892\n",
      "Working on limb L4 branch 0\n",
      "    current_width= 428.22199570981036\n",
      "Working on limb L4 branch 3\n",
      "    No spines and using precomputed width: 772.1446190502194\n",
      "Working on limb L4 branch 1\n",
      "    No spines and using precomputed width: 290.19257976859114\n",
      "Working on limb L4 branch 4\n",
      "    No spines and using precomputed width: 509.7801183381049\n",
      "Working on limb L4 branch 5\n",
      "    current_width= 418.1747077447276\n",
      "Working on limb L4 branch 6\n",
      "    current_width= 264.7203402189229\n",
      "Working on limb L5 branch 0\n",
      "    current_width= 329.6255313497485\n",
      "Working on limb L6 branch 0\n",
      "    current_width= 272.5035345034447\n",
      "Working on limb L2 branch 0\n",
      "    No spines and using precomputed width: 382.8675172722097\n",
      "Working on limb L2 branch 1\n",
      "    current_width= 280.6660989868567\n",
      "Working on limb L2 branch 2\n",
      "    current_width= 294.86818289194355\n",
      "Working on limb L3 branch 1\n",
      "    No spines and using precomputed width: 341.6228226856097\n",
      "Working on limb L3 branch 0\n",
      "    No spines and using precomputed width: 96.25067340356648\n",
      "Working on limb L3 branch 2\n",
      "    current_width= 337.9040555721308\n",
      "Working on limb L3 branch 3\n",
      "    No spines and using precomputed width: 69.00572062527482\n",
      "Working on limb L3 branch 4\n",
      "    current_width= 260.5391768200335\n",
      "Working on limb L7 branch 2\n",
      "    No spines and using precomputed width: 1625.5841318596515\n",
      "Working on limb L7 branch 0\n",
      "    No spines and using precomputed width: 809.239718310899\n",
      "Working on limb L7 branch 1\n",
      "    No spines and using precomputed width: 757.2841905314622\n",
      "Total time for neuron instance creation = 238.56655502319336\n"
     ]
    },
    {
     "data": {
      "text/plain": [
       "<neurd.neuron.Neuron at 0x7fb85f1a3d00>"
      ]
     },
     "execution_count": 21,
     "metadata": {},
     "output_type": "execute_result"
    }
   ],
   "source": [
    "from neurd import neuron\n",
    "\n",
    "neuron_obj = neuron.Neuron(\n",
    "    mesh = mesh,\n",
    "    pipeline_products = products,\n",
    "    suppress_preprocessing_print=False,\n",
    "    suppress_output=False,\n",
    ")\n",
    "\n",
    "neuron_obj"
   ]
  },
  {
   "cell_type": "code",
   "execution_count": 22,
   "id": "5467bcfe",
   "metadata": {
    "scrolled": true
   },
   "outputs": [
    {
     "name": "stdout",
     "output_type": "stream",
     "text": [
      "\n",
      " Working on visualization type: mesh\n",
      "\n",
      " Working on visualization type: skeleton\n"
     ]
    },
    {
     "data": {
      "application/vnd.jupyter.widget-view+json": {
       "model_id": "c7815ed453af4b2580b437ca5a2f1669",
       "version_major": 2,
       "version_minor": 0
      },
      "text/plain": [
       "Container(figure=Figure(box_center=[0.5, 0.5, 0.5], box_size=[1.0, 1.0, 1.0], camera=PerspectiveCamera(fov=45.…"
      ]
     },
     "metadata": {},
     "output_type": "display_data"
    }
   ],
   "source": [
    "nviz.visualize_neuron(\n",
    "    neuron_obj,\n",
    "    limb_branch_dict=\"all\"\n",
    ")"
   ]
  },
  {
   "cell_type": "markdown",
   "id": "0d43b744",
   "metadata": {},
   "source": [
    "# Calculate statistics"
   ]
  },
  {
   "cell_type": "code",
   "execution_count": 23,
   "id": "bd082c5f",
   "metadata": {},
   "outputs": [],
   "source": [
    "from neurd.vdi_microns import volume_data_interface as vdi\n",
    "vdi.set_parameters_for_directory_modules(verbose = False)"
   ]
  },
  {
   "cell_type": "code",
   "execution_count": 24,
   "id": "cac08fd6",
   "metadata": {},
   "outputs": [
    {
     "data": {
      "text/plain": [
       "<datasci_tools.pipeline.StageProducts at 0x7fb6adf7f7c0>"
      ]
     },
     "execution_count": 24,
     "metadata": {},
     "output_type": "execute_result"
    }
   ],
   "source": [
    "decomp_products = neuron_obj.calculate_decomposition_products(\n",
    "    store_in_obj = True,\n",
    ")\n",
    "\n",
    "decomp_products"
   ]
  },
  {
   "cell_type": "code",
   "execution_count": 25,
   "id": "fa148fc5",
   "metadata": {
    "scrolled": true
   },
   "outputs": [
    {
     "name": "stdout",
     "output_type": "stream",
     "text": [
      "{\n",
      "  'decimation':\n",
      "  {\n",
      "    'decimation_parameters':\n",
      "    {\n",
      "      'decimation_ratio':0.25,\n",
      "    },\n",
      "  },\n",
      "  'soma_identification':\n",
      "  {\n",
      "    'glia_meshes':[],\n",
      "    'nuclei_meshes':[<trimesh.Trimesh(vertices.shape=(6494, 3), faces.shape=(15575, 3))>, <trimesh.Trimesh(vertices.shape=(3256, 3), faces.shape=(5810, 3))>, <trimesh.Trimesh(vertices.shape=(2064, 3), faces.shape=(4789, 3))>, <trimesh.Trimesh(vertices.shape=(2022, 3), faces.shape=(4628, 3))>, <trimesh.Trimesh(vertices.shape=(1922, 3), faces.shape=(4396, 3))>, <trimesh.Trimesh(vertices.shape=(1089, 3), faces.shape=(2556, 3))>, <trimesh.Trimesh(vertices.shape=(864, 3), faces.shape=(1989, 3))>, <trimesh.Trimesh(vertices.shape=(723, 3), faces.shape=(1611, 3))>, <trimesh.Trimesh(vertices.shape=(693, 3), faces.shape=(1561, 3))>, <trimesh.Trimesh(vertices.shape=(612, 3), faces.shape=(1378, 3))>, <trimesh.Trimesh(vertices.shape=(456, 3), faces.shape=(742, 3))>, <trimesh.Trimesh(vertices.shape=(344, 3), faces.shape=(727, 3))>, <trimesh.Trimesh(vertices.shape=(363, 3), faces.shape=(876, 3))>, <trimesh.Trimesh(vertices.shape=(301, 3), faces.shape=(613, 3))>, <trimesh.Trimesh(vertices.shape=(253, 3), faces.shape=(632, 3))>, <trimesh.Trimesh(vertices.shape=(199, 3), faces.shape=(446, 3))>, <trimesh.Trimesh(vertices.shape=(176, 3), faces.shape=(418, 3))>, <trimesh.Trimesh(vertices.shape=(145, 3), faces.shape=(317, 3))>],\n",
      "    'soma_extraction_parameters':\n",
      "    {\n",
      "    },\n",
      "    'soma_meshes':[<trimesh.Trimesh(vertices.shape=(11386, 3), faces.shape=(22560, 3))>, <trimesh.Trimesh(vertices.shape=(5708, 3), faces.shape=(10517, 3))>],\n",
      "    'soma_run_time':75.57745242118835,\n",
      "    'soma_sdfs':array([0.769893 , 0.3351845]),\n",
      "  },\n",
      "  'decomposition':\n",
      "  {\n",
      "    'bbox_volume':1.9863175359667264,\n",
      "    'bbox_x_max':1564397.9821680577,\n",
      "    'bbox_x_max_soma_relative':75517.22158488538,\n",
      "    'bbox_x_min':1430458.6668303611,\n",
      "    'bbox_x_min_soma_relative':-58422.0937528112,\n",
      "    'bbox_y_max':659939.5309021459,\n",
      "    'bbox_y_max_soma_relative':70639.43716421863,\n",
      "    'bbox_y_min':502584.2072704911,\n",
      "    'bbox_y_min_soma_relative':-86715.88646743615,\n",
      "    'bbox_z_max':1114420.0,\n",
      "    'bbox_z_max_soma_relative':13767.686544879572,\n",
      "    'bbox_z_min':1020174.8170965186,\n",
      "    'bbox_z_min_soma_relative':-80477.49635860184,\n",
      "    'branch_length_mean':29.246179108824116,\n",
      "    'branch_length_median':16.735647518195066,\n",
      "    'centroid_volume':440.7405976697012,\n",
      "    'centroid_x':372220,\n",
      "    'centroid_x_nm':1488880.7605831723,\n",
      "    'centroid_y':147325,\n",
      "    'centroid_y_nm':589300.0937379273,\n",
      "    'centroid_z':27516,\n",
      "    'centroid_z_nm':1100652.3134551204,\n",
      "    'max_limb_n_branches':27,\n",
      "    'max_limb_skeletal_length':604558.5039643556,\n",
      "    'max_soma_area':341.07163148783616,\n",
      "    'median_branch_length':14983.573,\n",
      "    'n_branches':57,\n",
      "    'n_error_limbs':1,\n",
      "    'n_faces':323535,\n",
      "    'n_limbs':8,\n",
      "    'n_long_branches':3,\n",
      "    'n_medium_branches':41,\n",
      "    'n_multi_soma_touching_limbs':1,\n",
      "    'n_not_processed_soma_containing_meshes':0,\n",
      "    'n_same_soma_multi_touching_limbs':0,\n",
      "    'n_short_branches':11,\n",
      "    'n_somas':2,\n",
      "    'n_spine_eligible_branches':35,\n",
      "    'n_spines':407,\n",
      "    'n_vertices':154713,\n",
      "    'skeletal_length':1546716.1719839661,\n",
      "    'skeletal_length_eligible':1026432.008,\n",
      "    'skeleton':array([[[1469972.26898917,  644331.51215205, 1105781.49225862],\n",
      "        [1469922.99793769,  644306.57306289, 1105698.12317519]],\n",
      "\n",
      "       [[1469922.99793769,  644306.57306289, 1105698.12317519],\n",
      "        [1469873.03503235,  644278.96793629, 1105616.01554459]],\n",
      "\n",
      "       [[1469873.03503235,  644278.96793629, 1105616.01554459],\n",
      "        [1469822.34841942,  644249.02047451, 1105535.18233182]],\n",
      "\n",
      "       ...,\n",
      "\n",
      "       [[1472182.71408549,  577993.08644009, 1112354.27575333],\n",
      "        [1475123.88888889,  571587.50555556, 1113243.55555556]],\n",
      "\n",
      "       [[1472182.71408549,  577993.08644009, 1112354.27575333],\n",
      "        [1475020.        ,  582930.        , 1113460.        ]],\n",
      "\n",
      "       [[1472182.71408549,  577993.08644009, 1112354.27575333],\n",
      "        [1468163.64444444,  578622.88333333, 1112816.05555556]]]),\n",
      "    'spine_density':0.00026313812926514037,\n",
      "    'spine_density_eligible':0.00039651920129910837,\n",
      "    'spine_volume_density':23940.73139135514,\n",
      "    'spine_volume_density_eligible':36075.9564428287,\n",
      "    'spine_volume_median':62822837.45000966,\n",
      "    'spine_volume_per_branch_eligible':1057986183.2038058,\n",
      "    'spines_per_branch':7.140350877192983,\n",
      "    'spines_per_branch_eligible':11.629,\n",
      "    'total_spine_volume':37029516412.1332,\n",
      "    'width_90_perc':557.979,\n",
      "    'width_median':186.744,\n",
      "    'width_no_spine_90_perc':557.979,\n",
      "    'width_no_spine_median':186.744,\n",
      "  },\n",
      "}\n",
      "\n"
     ]
    }
   ],
   "source": [
    "print(neuron_obj.pipeline_products)"
   ]
  },
  {
   "cell_type": "markdown",
   "id": "d090f774",
   "metadata": {},
   "source": [
    "# Saving off neuron"
   ]
  },
  {
   "cell_type": "code",
   "execution_count": 50,
   "id": "9486c4e6",
   "metadata": {
    "scrolled": true
   },
   "outputs": [
    {
     "name": "stdout",
     "output_type": "stream",
     "text": [
      "Total time for soma meshes compression = 0.17049574851989746\n",
      "Total time for insignificant_limbs,inside_pieces,non_soma_touching_meshes,not_processed_soma_containing_meshes compression = 0.23262834548950195\n",
      "Total time for limb_meshes compression = 0.48692774772644043\n",
      "    Starting Limb Correspondence Compression\n"
     ]
    },
    {
     "data": {
      "application/vnd.jupyter.widget-view+json": {
       "model_id": "aadc9faca95a4879bad98b14f4dffc23",
       "version_major": 2,
       "version_minor": 0
      },
      "text/plain": [
       "  0%|          | 0/10 [00:00<?, ?it/s]"
      ]
     },
     "metadata": {},
     "output_type": "display_data"
    },
    {
     "data": {
      "application/vnd.jupyter.widget-view+json": {
       "model_id": "c60aa93a525348309d1f4145ad2e5ee0",
       "version_major": 2,
       "version_minor": 0
      },
      "text/plain": [
       "  0%|          | 0/27 [00:00<?, ?it/s]"
      ]
     },
     "metadata": {},
     "output_type": "display_data"
    },
    {
     "data": {
      "application/vnd.jupyter.widget-view+json": {
       "model_id": "8138fe6b636042dd927d8f91dd4a2cc3",
       "version_major": 2,
       "version_minor": 0
      },
      "text/plain": [
       "  0%|          | 0/3 [00:00<?, ?it/s]"
      ]
     },
     "metadata": {},
     "output_type": "display_data"
    },
    {
     "data": {
      "application/vnd.jupyter.widget-view+json": {
       "model_id": "643d819502c4425c8827d7a69d1003fe",
       "version_major": 2,
       "version_minor": 0
      },
      "text/plain": [
       "  0%|          | 0/5 [00:00<?, ?it/s]"
      ]
     },
     "metadata": {},
     "output_type": "display_data"
    },
    {
     "data": {
      "application/vnd.jupyter.widget-view+json": {
       "model_id": "b876c13c3e7145049ce944f343dde699",
       "version_major": 2,
       "version_minor": 0
      },
      "text/plain": [
       "  0%|          | 0/7 [00:00<?, ?it/s]"
      ]
     },
     "metadata": {},
     "output_type": "display_data"
    },
    {
     "data": {
      "application/vnd.jupyter.widget-view+json": {
       "model_id": "f278d38c08eb476baaa1592c06705de3",
       "version_major": 2,
       "version_minor": 0
      },
      "text/plain": [
       "  0%|          | 0/1 [00:00<?, ?it/s]"
      ]
     },
     "metadata": {},
     "output_type": "display_data"
    },
    {
     "data": {
      "application/vnd.jupyter.widget-view+json": {
       "model_id": "3f4dcbc772a34bf398f560ed249fc3fe",
       "version_major": 2,
       "version_minor": 0
      },
      "text/plain": [
       "  0%|          | 0/1 [00:00<?, ?it/s]"
      ]
     },
     "metadata": {},
     "output_type": "display_data"
    },
    {
     "data": {
      "application/vnd.jupyter.widget-view+json": {
       "model_id": "b8a02945b6df4e898b5ddde8be4312c8",
       "version_major": 2,
       "version_minor": 0
      },
      "text/plain": [
       "  0%|          | 0/3 [00:00<?, ?it/s]"
      ]
     },
     "metadata": {},
     "output_type": "display_data"
    },
    {
     "name": "stdout",
     "output_type": "stream",
     "text": [
      "Total time for new_limb_correspondence compression = 2.686476707458496\n",
      "Total time for compression = 4.050966262817383\n",
      "\n",
      "\n",
      "---Finished outputing neuron at location: /neurd_packages/NEURD/Applications/autoproof_neuron_pipeline/123---\n"
     ]
    }
   ],
   "source": [
    "from neurd import neuron_utils as nru\n",
    "\n",
    "filepath = nru.save_compressed_neuron(\n",
    "    neuron_obj,\n",
    "    output_folder = \"./\",\n",
    "    file_name = f\"{segment_id}\",\n",
    "    return_file_path = True,\n",
    ")"
   ]
  },
  {
   "cell_type": "markdown",
   "id": "aa2fc99c",
   "metadata": {},
   "source": [
    "# Reloading the Neuron"
   ]
  },
  {
   "cell_type": "code",
   "execution_count": 51,
   "id": "e6ce238a",
   "metadata": {},
   "outputs": [
    {
     "name": "stdout",
     "output_type": "stream",
     "text": [
      "Decompressing Neuron in minimal output mode...please wait\n"
     ]
    }
   ],
   "source": [
    "neuron_obj_rec = nru.decompress_neuron(\n",
    "    filepath = f\"./{segment_id}\",\n",
    "    original_mesh = mesh_decimated,\n",
    "    #pipeline_products = pipeline_products,\n",
    ")"
   ]
  },
  {
   "cell_type": "code",
   "execution_count": 52,
   "id": "84734850",
   "metadata": {},
   "outputs": [
    {
     "name": "stdout",
     "output_type": "stream",
     "text": [
      "{\n",
      "  'decimation':\n",
      "  {\n",
      "    'decimation_parameters':\n",
      "    {\n",
      "      'decimation_ratio':0.25,\n",
      "    },\n",
      "  },\n",
      "  'soma_identification':\n",
      "  {\n",
      "    'glia_meshes':[],\n",
      "    'nuclei_meshes':[<trimesh.Trimesh(vertices.shape=(6494, 3), faces.shape=(15575, 3))>, <trimesh.Trimesh(vertices.shape=(3256, 3), faces.shape=(5810, 3))>, <trimesh.Trimesh(vertices.shape=(2064, 3), faces.shape=(4789, 3))>, <trimesh.Trimesh(vertices.shape=(2022, 3), faces.shape=(4628, 3))>, <trimesh.Trimesh(vertices.shape=(1922, 3), faces.shape=(4396, 3))>, <trimesh.Trimesh(vertices.shape=(1089, 3), faces.shape=(2556, 3))>, <trimesh.Trimesh(vertices.shape=(864, 3), faces.shape=(1989, 3))>, <trimesh.Trimesh(vertices.shape=(723, 3), faces.shape=(1611, 3))>, <trimesh.Trimesh(vertices.shape=(693, 3), faces.shape=(1561, 3))>, <trimesh.Trimesh(vertices.shape=(612, 3), faces.shape=(1378, 3))>, <trimesh.Trimesh(vertices.shape=(456, 3), faces.shape=(742, 3))>, <trimesh.Trimesh(vertices.shape=(344, 3), faces.shape=(727, 3))>, <trimesh.Trimesh(vertices.shape=(363, 3), faces.shape=(876, 3))>, <trimesh.Trimesh(vertices.shape=(301, 3), faces.shape=(613, 3))>, <trimesh.Trimesh(vertices.shape=(253, 3), faces.shape=(632, 3))>, <trimesh.Trimesh(vertices.shape=(199, 3), faces.shape=(446, 3))>, <trimesh.Trimesh(vertices.shape=(176, 3), faces.shape=(418, 3))>, <trimesh.Trimesh(vertices.shape=(145, 3), faces.shape=(317, 3))>],\n",
      "    'soma_extraction_parameters':\n",
      "    {\n",
      "    },\n",
      "    'soma_meshes':[<trimesh.Trimesh(vertices.shape=(11386, 3), faces.shape=(22560, 3))>, <trimesh.Trimesh(vertices.shape=(5708, 3), faces.shape=(10517, 3))>],\n",
      "    'soma_run_time':75.57745242118835,\n",
      "    'soma_sdfs':array([0.769893 , 0.3351845]),\n",
      "  },\n",
      "  'decomposition':\n",
      "  {\n",
      "    'bbox_volume':1.9863175359667264,\n",
      "    'bbox_x_max':1564397.9821680577,\n",
      "    'bbox_x_max_soma_relative':75517.22158488538,\n",
      "    'bbox_x_min':1430458.6668303611,\n",
      "    'bbox_x_min_soma_relative':-58422.0937528112,\n",
      "    'bbox_y_max':659939.5309021459,\n",
      "    'bbox_y_max_soma_relative':70639.43716421863,\n",
      "    'bbox_y_min':502584.2072704911,\n",
      "    'bbox_y_min_soma_relative':-86715.88646743615,\n",
      "    'bbox_z_max':1114420.0,\n",
      "    'bbox_z_max_soma_relative':13767.686544879572,\n",
      "    'bbox_z_min':1020174.8170965186,\n",
      "    'bbox_z_min_soma_relative':-80477.49635860184,\n",
      "    'branch_length_mean':29.246179108824116,\n",
      "    'branch_length_median':16.735647518195066,\n",
      "    'centroid_volume':440.7405976697012,\n",
      "    'centroid_x':372220,\n",
      "    'centroid_x_nm':1488880.7605831723,\n",
      "    'centroid_y':147325,\n",
      "    'centroid_y_nm':589300.0937379273,\n",
      "    'centroid_z':27516,\n",
      "    'centroid_z_nm':1100652.3134551204,\n",
      "    'max_limb_n_branches':27,\n",
      "    'max_limb_skeletal_length':604558.5039643556,\n",
      "    'max_soma_area':341.07163148783616,\n",
      "    'median_branch_length':14983.573,\n",
      "    'n_branches':57,\n",
      "    'n_error_limbs':1,\n",
      "    'n_faces':323535,\n",
      "    'n_limbs':8,\n",
      "    'n_long_branches':3,\n",
      "    'n_medium_branches':41,\n",
      "    'n_multi_soma_touching_limbs':1,\n",
      "    'n_not_processed_soma_containing_meshes':0,\n",
      "    'n_same_soma_multi_touching_limbs':0,\n",
      "    'n_short_branches':11,\n",
      "    'n_somas':2,\n",
      "    'n_spine_eligible_branches':35,\n",
      "    'n_spines':407,\n",
      "    'n_vertices':154713,\n",
      "    'skeletal_length':1546716.1719839661,\n",
      "    'skeletal_length_eligible':1026432.008,\n",
      "    'skeleton':array([[[1469972.26898917,  644331.51215205, 1105781.49225862],\n",
      "        [1469922.99793769,  644306.57306289, 1105698.12317519]],\n",
      "\n",
      "       [[1469922.99793769,  644306.57306289, 1105698.12317519],\n",
      "        [1469873.03503235,  644278.96793629, 1105616.01554459]],\n",
      "\n",
      "       [[1469873.03503235,  644278.96793629, 1105616.01554459],\n",
      "        [1469822.34841942,  644249.02047451, 1105535.18233182]],\n",
      "\n",
      "       ...,\n",
      "\n",
      "       [[1472182.71408549,  577993.08644009, 1112354.27575333],\n",
      "        [1475123.88888889,  571587.50555556, 1113243.55555556]],\n",
      "\n",
      "       [[1472182.71408549,  577993.08644009, 1112354.27575333],\n",
      "        [1475020.        ,  582930.        , 1113460.        ]],\n",
      "\n",
      "       [[1472182.71408549,  577993.08644009, 1112354.27575333],\n",
      "        [1468163.64444444,  578622.88333333, 1112816.05555556]]]),\n",
      "    'spine_density':0.00026313812926514037,\n",
      "    'spine_density_eligible':0.00039651920129910837,\n",
      "    'spine_volume_density':23940.73139135514,\n",
      "    'spine_volume_density_eligible':36075.9564428287,\n",
      "    'spine_volume_median':62822837.45000966,\n",
      "    'spine_volume_per_branch_eligible':1057986183.2038058,\n",
      "    'spines_per_branch':7.140350877192983,\n",
      "    'spines_per_branch_eligible':11.629,\n",
      "    'total_spine_volume':37029516412.1332,\n",
      "    'width_90_perc':557.979,\n",
      "    'width_median':186.744,\n",
      "    'width_no_spine_90_perc':557.979,\n",
      "    'width_no_spine_median':186.744,\n",
      "  },\n",
      "}\n",
      "\n"
     ]
    }
   ],
   "source": [
    "print(neuron_obj_rec.pipeline_products)"
   ]
  },
  {
   "cell_type": "markdown",
   "id": "06b5f069",
   "metadata": {},
   "source": [
    "# Step 4A: Multi Soma Split Suggestions"
   ]
  },
  {
   "cell_type": "code",
   "execution_count": 53,
   "id": "0729b033",
   "metadata": {},
   "outputs": [
    {
     "data": {
      "image/png": "[encoded data removed]",
      "text/plain": [
       "<Figure size 640x480 with 1 Axes>"
      ]
     },
     "metadata": {},
     "output_type": "display_data"
    }
   ],
   "source": [
    "from neurd import neuron_visualizations as nviz\n",
    "nviz.plot_soma_limb_concept_network(\n",
    "    neuron_obj\n",
    ")"
   ]
  },
  {
   "cell_type": "code",
   "execution_count": 54,
   "id": "3ea8a7ec",
   "metadata": {},
   "outputs": [],
   "source": [
    "multi_soma_split_parameters = dict()"
   ]
  },
  {
   "cell_type": "code",
   "execution_count": 55,
   "id": "c9e7138e",
   "metadata": {},
   "outputs": [],
   "source": [
    "from neurd.vdi_microns import volume_data_interface as vdi\n",
    "vdi.set_parameters_for_directory_modules()"
   ]
  },
  {
   "cell_type": "code",
   "execution_count": 56,
   "id": "6b654969",
   "metadata": {},
   "outputs": [
    {
     "data": {
      "application/vnd.jupyter.widget-view+json": {
       "model_id": "e623f80f66d9455da911668df7e2a918",
       "version_major": 2,
       "version_minor": 0
      },
      "text/plain": [
       "  0%|          | 0/1 [00:00<?, ?it/s]"
      ]
     },
     "metadata": {},
     "output_type": "display_data"
    },
    {
     "data": {
      "application/vnd.jupyter.widget-view+json": {
       "model_id": "3323cce01d3c400bae1881af7b0401c0",
       "version_major": 2,
       "version_minor": 0
      },
      "text/plain": [
       "  0%|          | 0/1 [00:00<?, ?it/s]"
      ]
     },
     "metadata": {},
     "output_type": "display_data"
    },
    {
     "name": "stdout",
     "output_type": "stream",
     "text": [
      "n_paths_multi_soma = 1\n",
      "n_paths_multi_touch = 0\n",
      "n_paths_cut = 1\n",
      "\n",
      "\n",
      "-------- Suggestions for Limb 4------\n"
     ]
    },
    {
     "data": {
      "application/vnd.jupyter.widget-view+json": {
       "model_id": "b3e83d9b7a584c5a86c2a7458e02fc49",
       "version_major": 2,
       "version_minor": 0
      },
      "text/plain": [
       "HBox(children=(FloatSlider(value=1.0, description='Size', max=3.0), Dropdown(description='Geo', index=3, optio…"
      ]
     },
     "metadata": {},
     "output_type": "display_data"
    },
    {
     "data": {
      "application/vnd.jupyter.widget-view+json": {
       "model_id": "1edcd61f2329441bb5bb279c22a75000",
       "version_major": 2,
       "version_minor": 0
      },
      "text/plain": [
       "HBox(children=(FloatSlider(value=0.3, description='Size', max=3.0), Dropdown(description='Geo', index=3, optio…"
      ]
     },
     "metadata": {},
     "output_type": "display_data"
    },
    {
     "data": {
      "application/vnd.jupyter.widget-view+json": {
       "model_id": "92f621ad49664f1ab1bb9f78e278e0eb",
       "version_major": 2,
       "version_minor": 0
      },
      "text/plain": [
       "HBox(children=(FloatSlider(value=0.3, description='Size', max=3.0), Dropdown(description='Geo', index=3, optio…"
      ]
     },
     "metadata": {},
     "output_type": "display_data"
    },
    {
     "data": {
      "application/vnd.jupyter.widget-view+json": {
       "model_id": "45d324090c614d10bbe8c3be1105e988",
       "version_major": 2,
       "version_minor": 0
      },
      "text/plain": [
       "Container(figure=Figure(box_center=[0.5, 0.5, 0.5], box_size=[1.0, 1.0, 1.0], camera=PerspectiveCamera(fov=45.…"
      ]
     },
     "metadata": {},
     "output_type": "display_data"
    }
   ],
   "source": [
    "_ = neuron_obj.calculate_multi_soma_split_suggestions(\n",
    "    plot = True,\n",
    "    store_in_obj = True,\n",
    "    **multi_soma_split_parameters\n",
    ")\n"
   ]
  },
  {
   "cell_type": "markdown",
   "id": "2206b4cc",
   "metadata": {},
   "source": [
    "# Step 4B: Multi Soma Split Execution"
   ]
  },
  {
   "cell_type": "code",
   "execution_count": 62,
   "id": "cc8bc52a",
   "metadata": {},
   "outputs": [],
   "source": [
    "neuron_list = neuron_obj.multi_soma_split_execution(\n",
    "    verbose = False,\n",
    ")"
   ]
  },
  {
   "cell_type": "code",
   "execution_count": 63,
   "id": "1239884b",
   "metadata": {},
   "outputs": [
    {
     "name": "stdout",
     "output_type": "stream",
     "text": [
      "{\n",
      "  'decimation':\n",
      "  {\n",
      "    'decimation_parameters':\n",
      "    {\n",
      "      'decimation_ratio':0.25,\n",
      "    },\n",
      "  },\n",
      "  'soma_identification':\n",
      "  {\n",
      "    'glia_meshes':[],\n",
      "    'nuclei_meshes':[<trimesh.Trimesh(vertices.shape=(6494, 3), faces.shape=(15575, 3))>, <trimesh.Trimesh(vertices.shape=(3256, 3), faces.shape=(5810, 3))>, <trimesh.Trimesh(vertices.shape=(2064, 3), faces.shape=(4789, 3))>, <trimesh.Trimesh(vertices.shape=(2022, 3), faces.shape=(4628, 3))>, <trimesh.Trimesh(vertices.shape=(1922, 3), faces.shape=(4396, 3))>, <trimesh.Trimesh(vertices.shape=(1089, 3), faces.shape=(2556, 3))>, <trimesh.Trimesh(vertices.shape=(864, 3), faces.shape=(1989, 3))>, <trimesh.Trimesh(vertices.shape=(723, 3), faces.shape=(1611, 3))>, <trimesh.Trimesh(vertices.shape=(693, 3), faces.shape=(1561, 3))>, <trimesh.Trimesh(vertices.shape=(612, 3), faces.shape=(1378, 3))>, <trimesh.Trimesh(vertices.shape=(456, 3), faces.shape=(742, 3))>, <trimesh.Trimesh(vertices.shape=(344, 3), faces.shape=(727, 3))>, <trimesh.Trimesh(vertices.shape=(363, 3), faces.shape=(876, 3))>, <trimesh.Trimesh(vertices.shape=(301, 3), faces.shape=(613, 3))>, <trimesh.Trimesh(vertices.shape=(253, 3), faces.shape=(632, 3))>, <trimesh.Trimesh(vertices.shape=(199, 3), faces.shape=(446, 3))>, <trimesh.Trimesh(vertices.shape=(176, 3), faces.shape=(418, 3))>, <trimesh.Trimesh(vertices.shape=(145, 3), faces.shape=(317, 3))>],\n",
      "    'soma_extraction_parameters':\n",
      "    {\n",
      "    },\n",
      "    'soma_meshes':[<trimesh.Trimesh(vertices.shape=(11386, 3), faces.shape=(22560, 3))>, <trimesh.Trimesh(vertices.shape=(5708, 3), faces.shape=(10517, 3))>],\n",
      "    'soma_run_time':75.57745242118835,\n",
      "    'soma_sdfs':array([0.769893 , 0.3351845]),\n",
      "  },\n",
      "  'decomposition':\n",
      "  {\n",
      "    'bbox_volume':1.9863175359667264,\n",
      "    'bbox_x_max':1564397.9821680577,\n",
      "    'bbox_x_max_soma_relative':75517.22158488538,\n",
      "    'bbox_x_min':1430458.6668303611,\n",
      "    'bbox_x_min_soma_relative':-58422.0937528112,\n",
      "    'bbox_y_max':659939.5309021459,\n",
      "    'bbox_y_max_soma_relative':70639.43716421863,\n",
      "    'bbox_y_min':502584.2072704911,\n",
      "    'bbox_y_min_soma_relative':-86715.88646743615,\n",
      "    'bbox_z_max':1114420.0,\n",
      "    'bbox_z_max_soma_relative':13767.686544879572,\n",
      "    'bbox_z_min':1020174.8170965186,\n",
      "    'bbox_z_min_soma_relative':-80477.49635860184,\n",
      "    'branch_length_mean':29.246179108824116,\n",
      "    'branch_length_median':16.735647518195066,\n",
      "    'centroid_volume':440.7405976697012,\n",
      "    'centroid_x':372220,\n",
      "    'centroid_x_nm':1488880.7605831723,\n",
      "    'centroid_y':147325,\n",
      "    'centroid_y_nm':589300.0937379273,\n",
      "    'centroid_z':27516,\n",
      "    'centroid_z_nm':1100652.3134551204,\n",
      "    'max_limb_n_branches':27,\n",
      "    'max_limb_skeletal_length':604558.5039643556,\n",
      "    'max_soma_area':341.07163148783616,\n",
      "    'median_branch_length':14983.573,\n",
      "    'n_branches':57,\n",
      "    'n_error_limbs':1,\n",
      "    'n_faces':323535,\n",
      "    'n_limbs':8,\n",
      "    'n_long_branches':3,\n",
      "    'n_medium_branches':41,\n",
      "    'n_multi_soma_touching_limbs':1,\n",
      "    'n_not_processed_soma_containing_meshes':0,\n",
      "    'n_same_soma_multi_touching_limbs':0,\n",
      "    'n_short_branches':11,\n",
      "    'n_somas':2,\n",
      "    'n_spine_eligible_branches':35,\n",
      "    'n_spines':407,\n",
      "    'n_vertices':154713,\n",
      "    'skeletal_length':1546716.1719839661,\n",
      "    'skeletal_length_eligible':1026432.008,\n",
      "    'skeleton':array([[[1469972.26898917,  644331.51215205, 1105781.49225862],\n",
      "        [1469922.99793769,  644306.57306289, 1105698.12317519]],\n",
      "\n",
      "       [[1469922.99793769,  644306.57306289, 1105698.12317519],\n",
      "        [1469873.03503235,  644278.96793629, 1105616.01554459]],\n",
      "\n",
      "       [[1469873.03503235,  644278.96793629, 1105616.01554459],\n",
      "        [1469822.34841942,  644249.02047451, 1105535.18233182]],\n",
      "\n",
      "       ...,\n",
      "\n",
      "       [[1472182.71408549,  577993.08644009, 1112354.27575333],\n",
      "        [1475123.88888889,  571587.50555556, 1113243.55555556]],\n",
      "\n",
      "       [[1472182.71408549,  577993.08644009, 1112354.27575333],\n",
      "        [1475020.        ,  582930.        , 1113460.        ]],\n",
      "\n",
      "       [[1472182.71408549,  577993.08644009, 1112354.27575333],\n",
      "        [1468163.64444444,  578622.88333333, 1112816.05555556]]]),\n",
      "    'spine_density':0.00026313812926514037,\n",
      "    'spine_density_eligible':0.00039651920129910837,\n",
      "    'spine_volume_density':23940.73139135514,\n",
      "    'spine_volume_density_eligible':36075.9564428287,\n",
      "    'spine_volume_median':62822837.45000966,\n",
      "    'spine_volume_per_branch_eligible':1057986183.2038058,\n",
      "    'spines_per_branch':7.140350877192983,\n",
      "    'spines_per_branch_eligible':11.629,\n",
      "    'total_spine_volume':37029516412.1332,\n",
      "    'width_90_perc':557.979,\n",
      "    'width_median':186.744,\n",
      "    'width_no_spine_90_perc':557.979,\n",
      "    'width_no_spine_median':186.744,\n",
      "  },\n",
      "  'multi_soma_split_suggestions':\n",
      "  {\n",
      "    'n_paths_cut':1,\n",
      "    'red_blue_split_results':\n",
      "    {\n",
      "      4:[{'S0_0': {0: [{'error_branches': array([1., 2., 4., 5., 6.]), 'error_branches_skeleton_length': 73023.09434745889, 'valid_branches': array([0]), 'parent_branch': 0, 'parent_branch_width': 428.22199570981036, 'parent_branch_axon': False, 'n_error_branches': 5, 'valid_points': array([[1491700.66666667,  587848.86666667, 1110594.33333333],\n",
      "       [1489989.33333333,  587939.06666667, 1113021.66666667]]), 'error_points': array([[1493777.66666667,  586438.33333333, 1108433.66666667],\n",
      "       [1492741.        ,  586506.23333333, 1107844.        ],\n",
      "       [1493620.        ,  587008.53333333, 1106546.66666667],\n",
      "       [1494021.33333333,  586052.46666667, 1111232.33333333],\n",
      "       [1492721.        ,  585819.7       , 1112899.        ],\n",
      "       [1489861.33333333,  587360.7       , 1113030.66666667],\n",
      "       [1495465.33333333,  587016.3       , 1109645.66666667],\n",
      "       [1496905.        ,  586996.53333333, 1109881.33333333],\n",
      "       [1498234.        ,  586921.2       , 1110382.33333333]]), 'coordinate': array([[1494190. ,  586839.5, 1109350. ]]), 'error_branches_skeleton_points': array([[1491410.        ,  585590.        , 1114420.        ],\n",
      "       [1492513.87440837,  585713.10994086, 1113468.92647919],\n",
      "       [1492760.        ,  587122.        , 1106680.        ],\n",
      "       [1493388.26279248,  587116.29636539, 1108028.27575167],\n",
      "       [1493513.89898161,  585941.58774671, 1112380.61251605],\n",
      "       [1494154.02796912,  586851.91919086, 1109290.69739432],\n",
      "       [1494190.        ,  586839.5       , 1109350.        ],\n",
      "       [1494222.03735073,  586691.55489158, 1109731.83951538],\n",
      "       [1494284.41603729,  586165.74646229, 1111124.31273582],\n",
      "       [1495618.66230994,  586657.02543339, 1109769.07879533],\n",
      "       [1497064.76889357,  586748.50799203, 1110086.53481167],\n",
      "       [1498170.        ,  587035.        , 1110100.        ],\n",
      "       [1498922.12089255,  588298.51453154, 1110342.12089255],\n",
      "       [1499240.        ,  593514.        , 1114360.        ],\n",
      "       [1499253.1458435 ,  586232.61078097, 1109520.65440818],\n",
      "       [1499289.65833608,  589403.22334763, 1111258.29168042],\n",
      "       [1499717.83158646,  592353.58806178, 1113774.19648246],\n",
      "       [1499771.80891742,  590421.8340477 , 1112182.06022018],\n",
      "       [1500453.37407939,  591478.82886654, 1112823.19072212],\n",
      "       [1500559.16077092,  585798.39590957, 1108966.02179393],\n",
      "       [1501732.69964659,  585109.07222618, 1108350.38021205],\n",
      "       [1502951.77623161,  584560.02691805, 1107677.29719823],\n",
      "       [1504112.52269945,  583749.78039037, 1107194.5372002 ],\n",
      "       [1505208.99020174,  582857.49970028, 1106705.50489913],\n",
      "       [1506089.3502741 ,  581858.6497259 , 1106030.6497259 ],\n",
      "       [1507013.63764862,  580810.17976221, 1105537.0898811 ],\n",
      "       [1507854.73743193,  579696.48357351, 1105246.7368716 ],\n",
      "       [1508877.34606905,  578603.66815578, 1105265.73460691],\n",
      "       [1509960.4507874 ,  577617.38476871, 1105540.        ],\n",
      "       [1510976.51128106,  576638.21559753, 1105146.80262907],\n",
      "       [1511884.46837901,  575542.08146907, 1104915.56476116],\n",
      "       [1512765.06969411,  574395.06057675, 1105301.67441046],\n",
      "       [1513616.11321713,  573173.08074292, 1105234.16603486],\n",
      "       [1514723.43731812,  572207.66274008, 1105256.06239087],\n",
      "       [1515576.11248991,  571173.61538438, 1105868.44499597],\n",
      "       [1516580.64702627,  570313.43240665, 1105943.50736515],\n",
      "       [1517385.65701597,  569151.62806199, 1106115.67928754],\n",
      "       [1518170.89306848,  568113.78495347, 1106784.52409131],\n",
      "       [1518679.06640926,  566942.27831404, 1107264.95508365],\n",
      "       [1519577.18262377,  566255.2678193 , 1108170.73913986],\n",
      "       [1519860.        ,  557536.        , 1113990.        ],\n",
      "       [1520594.50410511,  565369.49589489, 1108749.08401752],\n",
      "       [1520767.97429386,  557735.03794351, 1113930.        ],\n",
      "       [1521795.9361579 ,  564598.77394079, 1109058.71009869],\n",
      "       [1522226.14828315,  557927.71273602, 1113700.43916308],\n",
      "       [1522819.73989148,  563732.77454927, 1109588.23700333],\n",
      "       [1523436.14493412,  562469.553612  , 1110082.63354319],\n",
      "       [1523619.69377331,  558296.25167288, 1113445.15311334],\n",
      "       [1524472.5178882 ,  561488.38674016, 1110370.62947205],\n",
      "       [1524871.48531943,  558957.64294759, 1113252.59412777],\n",
      "       [1525332.06040554,  559734.47857963, 1112263.55888229],\n",
      "       [1525400.        ,  560662.54150628, 1111097.11593676]]), 'error_pre_ids': array([], dtype=float64), 'error_pre_coordinates': array([], dtype=float64), 'error_post_ids': array([], dtype=float64), 'error_post_coordinates': array([], dtype=float64), 'valid_pre_ids': array([], dtype=float64), 'valid_pre_coordinates': array([], dtype=float64), 'valid_post_ids': array([], dtype=float64), 'valid_post_coordinates': array([], dtype=float64)}]}, 'S1_0': {0: [{'error_branches': array([0.]), 'error_branches_skeleton_length': 26312.313176765972, 'valid_branches': array([1, 2, 4]), 'parent_branch': 2, 'parent_branch_width': 970.8585212051892, 'parent_branch_axon': False, 'n_error_branches': 1, 'valid_points': array([[1493554.33333333,  586398.03333333, 1108003.66666667],\n",
      "       [1493620.        ,  587008.53333333, 1106546.66666667],\n",
      "       [1493616.33333333,  586028.53333333, 1112008.        ],\n",
      "       [1491580.66666667,  585629.3       , 1114158.33333333],\n",
      "       [1496104.33333333,  587001.6       , 1110053.33333333],\n",
      "       [1498234.        ,  586921.2       , 1110382.33333333]]), 'error_points': array([[1491700.66666667,  587848.86666667, 1110594.33333333],\n",
      "       [1490011.66666667,  587844.56666667, 1113001.66666667],\n",
      "       [1487301.        ,  587435.83333333, 1113545.        ]]), 'coordinate': array([[1494190. ,  586839.5, 1109350. ]]), 'error_branches_skeleton_points': array([[1475020.        ,  582930.        , 1113460.        ],\n",
      "       [1476411.74603094,  583294.43183582, 1113072.73036656],\n",
      "       [1477809.86200902,  583460.13610358, 1112564.97193617],\n",
      "       [1478995.29616952,  584276.05936744, 1112358.95584069],\n",
      "       [1480075.57336074,  585236.43192378, 1112324.01395296],\n",
      "       [1481500.1359492 ,  585496.42045727, 1111973.89335555],\n",
      "       [1482918.88983866,  585159.03670002, 1111739.11237682],\n",
      "       [1484286.93309859,  585556.44923147, 1112081.39033478],\n",
      "       [1485591.25021256,  585568.79617541, 1111359.82232312],\n",
      "       [1486818.05411486,  587034.34810193, 1113064.82413447],\n",
      "       [1486924.48557341,  585930.26450988, 1111043.96109323],\n",
      "       [1487205.83457724,  586263.7283112 , 1112071.02871574],\n",
      "       [1487816.45122117,  587882.25695552, 1113724.65557043],\n",
      "       [1489188.65050539,  587780.42637485, 1113225.6747473 ],\n",
      "       [1490387.25216541,  587999.33250008, 1112361.26817993],\n",
      "       [1491463.70560491,  588060.65486967, 1111333.06457868],\n",
      "       [1492345.75174445,  587742.99693504, 1110184.73660452],\n",
      "       [1493470.41387951,  587184.8636523 , 1109500.90546715],\n",
      "       [1494190.        ,  586839.5       , 1109350.        ]]), 'error_pre_ids': array([], dtype=float64), 'error_pre_coordinates': array([], dtype=float64), 'error_post_ids': array([], dtype=float64), 'error_post_coordinates': array([], dtype=float64), 'valid_pre_ids': array([], dtype=float64), 'valid_pre_coordinates': array([], dtype=float64), 'valid_post_ids': array([], dtype=float64), 'valid_post_coordinates': array([], dtype=float64)}]}}],\n",
      "    },\n",
      "    'split_results':\n",
      "    {\n",
      "      4:[{'starting_node_1': 2, 'starting_node_2': 0, 'title': 'S0_0 from S1_0 ', 'edges_to_delete': [[2, 0]], 'edges_to_create': [], 'removed_branches': [3], 'coordinate_suggestions': [array([1494190. ,  586839.5, 1109350. ])], 'successful_disconnection': True, 'paths_not_cut': [], 'paths_cut': [array([[1475020.        ,  582930.        , 1113460.        ],\n",
      "       [1476868.23196756,  583347.49968583, 1112877.35423484],\n",
      "       [1478663.67122102,  583903.0794405 , 1112347.04109737],\n",
      "       [1480070.97857271,  585235.12467069, 1112325.77747204],\n",
      "       [1481960.42633921,  585403.60258931, 1111849.21964288],\n",
      "       [1483819.78912896,  585384.30721674, 1112017.93673869],\n",
      "       [1485570.28014018,  585569.        , 1111373.45809261],\n",
      "       [1486723.87434212,  586562.48430914, 1112791.43980258],\n",
      "       [1487284.8202914 ,  586182.49138847, 1111202.4101457 ],\n",
      "       [1487758.38552586,  587847.10366971, 1113716.80885485],\n",
      "       [1489548.31869851,  587806.2327115 , 1113008.14672449],\n",
      "       [1491053.45132587,  588092.66452135, 1111736.54867413],\n",
      "       [1492324.70929238,  587827.82106661, 1110238.22998963],\n",
      "       [1492760.        ,  587122.        , 1106680.        ],\n",
      "       [1493377.84415704,  587248.86233718, 1108562.75325635],\n",
      "       [1493380.        ,  587239.        , 1108760.        ]])], 'split_reasons': {'default_edge_last': [array([1494190. ,  586839.5, 1109350. ])]}}],\n",
      "    },\n",
      "  },\n",
      "  'multi_soma_split_execution':\n",
      "  {\n",
      "    'multi_soma_errored_limbs_area':[],\n",
      "    'multi_soma_errored_limbs_skeletal_length':[],\n",
      "    'multi_soma_n_multi_soma_errors':0,\n",
      "    'multi_soma_n_same_soma_errors':0,\n",
      "    'multiplicity':2,\n",
      "  },\n",
      "}\n",
      "\n"
     ]
    }
   ],
   "source": [
    "nobj_1 = neuron_list[0]\n",
    "print(nobj_1.pipeline_products)"
   ]
  },
  {
   "cell_type": "markdown",
   "id": "a2dcd901",
   "metadata": {},
   "source": [
    "# Step 5: Cell Typing"
   ]
  },
  {
   "cell_type": "code",
   "execution_count": 132,
   "id": "53307e68",
   "metadata": {},
   "outputs": [],
   "source": [
    "from neurd import neuron_pipeline_utils as npu"
   ]
  },
  {
   "cell_type": "code",
   "execution_count": 172,
   "id": "34127600",
   "metadata": {},
   "outputs": [
    {
     "data": {
      "text/plain": [
       "123"
      ]
     },
     "execution_count": 172,
     "metadata": {},
     "output_type": "execute_result"
    }
   ],
   "source": [
    "segment_id"
   ]
  },
  {
   "cell_type": "code",
   "execution_count": 173,
   "id": "177781b9",
   "metadata": {},
   "outputs": [
    {
     "data": {
      "text/plain": [
       "<trimesh.Trimesh(vertices.shape=(154713, 3), faces.shape=(323535, 3))>"
      ]
     },
     "execution_count": 173,
     "metadata": {},
     "output_type": "execute_result"
    }
   ],
   "source": [
    "n1 = neuron_list[0]\n",
    "mesh_decimated"
   ]
  },
  {
   "cell_type": "code",
   "execution_count": 175,
   "id": "2007a13c",
   "metadata": {},
   "outputs": [
    {
     "name": "stdout",
     "output_type": "stream",
     "text": [
      "\n",
      " Working on visualization type: mesh\n",
      "\n",
      " Working on visualization type: skeleton\n"
     ]
    },
    {
     "data": {
      "application/vnd.jupyter.widget-view+json": {
       "model_id": "ddef80b104484215ab560f9d33371958",
       "version_major": 2,
       "version_minor": 0
      },
      "text/plain": [
       "Container(figure=Figure(box_center=[0.5, 0.5, 0.5], box_size=[1.0, 1.0, 1.0], camera=PerspectiveCamera(fov=45.…"
      ]
     },
     "metadata": {},
     "output_type": "display_data"
    }
   ],
   "source": [
    "nviz.visualize_neuron(\n",
    "    n1,\n",
    "    limb_branch_dict=\"all\"\n",
    ")"
   ]
  },
  {
   "cell_type": "code",
   "execution_count": 176,
   "id": "2f405d2f",
   "metadata": {},
   "outputs": [],
   "source": [
    "synapse_filepath = '/neurd_packages/NEURD/Applications/autoproof_neuron_pipeline/864691135510518224_synapses.csv'\n",
    "\n",
    "vdi.set_synapse_filepath(\n",
    "    synapse_filepath\n",
    ")"
   ]
  },
  {
   "cell_type": "code",
   "execution_count": 179,
   "id": "b17ecdd9",
   "metadata": {
    "scrolled": true
   },
   "outputs": [
    {
     "name": "stdout",
     "output_type": "stream",
     "text": [
      "\n",
      "Number of segments: 2\n",
      "\n",
      "\n",
      "Number of segments: 2\n",
      "\n",
      "\n",
      "Number of segments: 2\n",
      "\n",
      "\n",
      "Number of segments: 3\n",
      "\n",
      "\n",
      "Number of segments: 3\n",
      "\n",
      "\n",
      "Number of segments: 3\n",
      "\n",
      "\n",
      "Number of segments: 2\n",
      "\n",
      "\n",
      "Number of segments: 2\n",
      "\n",
      "\n",
      "Number of segments: 2\n",
      "\n",
      "\n",
      "Number of segments: 2\n",
      "\n",
      "\n",
      "Number of segments: 2\n",
      "\n",
      "\n",
      "Number of segments: 2\n",
      "\n",
      "\n",
      "Number of segments: 1\n",
      "\n",
      "\n",
      "Number of segments: 4\n",
      "\n",
      "\n",
      "Number of segments: 4\n",
      "\n",
      "\n",
      "Number of segments: 1\n",
      "\n",
      "\n",
      "Number of segments: 1\n",
      "\n",
      "\n",
      "Number of segments: 1\n",
      "\n",
      "\n",
      "Number of segments: 1\n",
      "\n",
      "\n",
      "Number of segments: 2\n",
      "\n",
      "\n",
      "Number of segments: 2\n",
      "\n",
      "\n",
      "Number of segments: 2\n",
      "\n",
      "\n",
      "Number of segments: 2\n",
      "\n",
      "\n",
      "Number of segments: 2\n",
      "\n",
      "\n",
      "Number of segments: 2\n",
      "\n",
      "\n",
      "Number of segments: 2\n",
      "\n",
      "\n",
      "Number of segments: 2\n",
      "\n",
      "\n",
      "Number of segments: 3\n",
      "\n",
      "\n",
      "Number of segments: 3\n",
      "\n",
      "\n",
      "Number of segments: 3\n",
      "\n",
      "\n",
      "Number of segments: 1\n",
      "\n",
      "\n",
      "Number of segments: 1\n",
      "\n",
      "\n",
      "Number of segments: 1\n",
      "\n",
      "\n",
      "Number of segments: 2\n",
      "\n",
      "\n",
      "Number of segments: 2\n",
      "\n",
      "\n",
      "Number of segments: 2\n",
      "\n",
      "\n",
      "Number of segments: 2\n",
      "\n",
      "\n",
      "Number of segments: 2\n",
      "\n",
      "\n",
      "Number of segments: 2\n",
      "\n",
      "\n",
      "Number of segments: 1\n",
      "\n",
      "\n",
      "Number of segments: 2\n",
      "\n",
      "\n",
      "Number of segments: 1\n",
      "\n",
      "\n",
      "Number of segments: 2\n",
      "\n",
      "\n",
      "Number of segments: 2\n",
      "\n",
      "\n",
      "Number of segments: 2\n",
      "\n",
      "\n",
      "Number of segments: 2\n",
      "\n",
      "\n",
      "Number of segments: 2\n",
      "\n",
      "\n",
      "Number of segments: 1\n",
      "\n",
      "\n",
      "Number of segments: 2\n",
      "\n",
      "\n",
      "Number of segments: 1\n",
      "\n",
      "\n",
      "Number of segments: 1\n",
      "\n",
      "\n",
      "Number of segments: 2\n",
      "\n",
      "\n",
      "Number of segments: 2\n",
      "\n",
      "\n",
      "Number of segments: 2\n",
      "\n",
      "\n",
      "Number of segments: 2\n",
      "\n",
      "\n",
      "Number of segments: 2\n",
      "\n",
      "\n",
      "Number of segments: 2\n",
      "\n",
      "\n",
      "Number of segments: 2\n",
      "\n",
      "\n",
      "Number of segments: 2\n",
      "\n",
      "\n",
      "Number of segments: 2\n",
      "\n",
      "\n",
      "Number of segments: 2\n",
      "\n",
      "\n",
      "Number of segments: 1\n",
      "\n",
      "\n",
      "Number of segments: 2\n",
      "\n",
      "\n",
      "Number of segments: 1\n",
      "\n",
      "\n",
      "Number of segments: 1\n",
      "\n",
      "\n",
      "Number of segments: 2\n",
      "\n",
      "\n",
      "Number of segments: 2\n",
      "\n",
      "\n",
      "Number of segments: 2\n",
      "\n",
      "\n",
      "Number of segments: 2\n",
      "\n",
      "\n",
      "Number of segments: 2\n",
      "\n",
      "\n",
      "Number of segments: 2\n",
      "\n",
      "\n",
      "Number of segments: 3\n",
      "\n",
      "\n",
      "Number of segments: 2\n",
      "\n",
      "\n",
      "Number of segments: 2\n",
      "\n",
      "\n",
      "Number of segments: 3\n",
      "\n",
      "\n",
      "Number of segments: 1\n",
      "\n",
      "\n",
      "Number of segments: 1\n",
      "\n",
      "\n",
      "Number of segments: 1\n",
      "\n",
      "\n",
      "Number of segments: 2\n",
      "\n",
      "\n",
      "Number of segments: 2\n",
      "\n",
      "\n",
      "Number of segments: 2\n",
      "\n",
      "\n",
      "Number of segments: 2\n",
      "\n",
      "\n",
      "Number of segments: 3\n",
      "\n",
      "\n",
      "Number of segments: 3\n",
      "\n",
      "\n",
      "Number of segments: 1\n",
      "\n",
      "\n",
      "Number of segments: 2\n",
      "\n",
      "\n",
      "Number of segments: 2\n",
      "\n",
      "\n",
      "Number of segments: 2\n",
      "\n",
      "\n",
      "Number of segments: 2\n",
      "\n",
      "\n",
      "Number of segments: 2\n",
      "\n",
      "\n",
      "Number of segments: 4\n",
      "\n",
      "\n",
      "Number of segments: 4\n",
      "\n",
      "\n",
      "Number of segments: 5\n",
      "\n",
      "\n",
      "Number of segments: 2\n",
      "\n",
      "\n",
      "Number of segments: 2\n",
      "\n",
      "\n",
      "Number of segments: 2\n",
      "\n",
      "\n",
      "Number of segments: 2\n",
      "\n",
      "\n",
      "Number of segments: 2\n",
      "\n",
      "\n",
      "Number of segments: 3\n",
      "\n",
      "\n",
      "Number of segments: 3\n",
      "\n",
      "\n",
      "Number of segments: 3\n",
      "\n",
      "\n",
      "Number of segments: 3\n",
      "\n",
      "\n",
      "Number of segments: 2\n",
      "\n",
      "\n",
      "Number of segments: 3\n",
      "\n",
      "\n",
      "Number of segments: 4\n",
      "\n",
      "\n",
      "Number of segments: 1\n",
      "\n",
      "\n",
      "Number of segments: 2\n",
      "\n",
      "\n",
      "Number of segments: 1\n",
      "\n",
      "\n",
      "Number of segments: 2\n",
      "\n",
      "\n",
      "Number of segments: 3\n",
      "\n",
      "\n",
      "Number of segments: 3\n",
      "\n",
      "\n",
      "Number of segments: 1\n",
      "\n",
      "\n",
      "Number of segments: 2\n",
      "\n",
      "\n",
      "Number of segments: 2\n",
      "\n",
      "\n",
      "Number of segments: 2\n",
      "\n",
      "\n",
      "Number of segments: 2\n",
      "\n",
      "\n",
      "Number of segments: 2\n",
      "\n",
      "\n",
      "Number of segments: 2\n",
      "\n",
      "\n",
      "Number of segments: 2\n",
      "\n",
      "\n",
      "Number of segments: 2\n",
      "\n",
      "\n",
      "Number of segments: 2\n",
      "\n",
      "\n",
      "Number of segments: 2\n",
      "\n",
      "\n",
      "Number of segments: 2\n",
      "\n",
      "\n",
      "Number of segments: 1\n",
      "\n",
      "\n",
      "Number of segments: 2\n",
      "\n",
      "\n",
      "Number of segments: 2\n",
      "\n",
      "\n",
      "Number of segments: 2\n",
      "\n",
      "\n",
      "Number of segments: 2\n",
      "\n",
      "\n",
      "Number of segments: 2\n",
      "\n",
      "\n",
      "Number of segments: 2\n",
      "\n",
      "\n",
      "Number of segments: 2\n",
      "\n",
      "\n",
      "Number of segments: 2\n",
      "\n",
      "\n",
      "Number of segments: 2\n",
      "\n",
      "\n",
      "Number of segments: 2\n",
      "\n",
      "\n",
      "Number of segments: 3\n",
      "\n",
      "\n",
      "Number of segments: 2\n",
      "\n",
      "\n",
      "Number of segments: 2\n",
      "\n",
      "\n",
      "Number of segments: 2\n",
      "\n",
      "\n",
      "Number of segments: 2\n",
      "\n",
      "\n",
      "Number of segments: 2\n",
      "\n",
      "\n",
      "Number of segments: 2\n",
      "\n",
      "\n",
      "Number of segments: 2\n",
      "\n",
      "\n",
      "Number of segments: 1\n",
      "\n",
      "\n",
      "Number of segments: 1\n",
      "\n",
      "\n",
      "Number of segments: 1\n",
      "\n",
      "\n",
      "Number of segments: 1\n",
      "\n",
      "\n",
      "Number of segments: 1\n",
      "\n",
      "\n",
      "Number of segments: 1\n",
      "\n",
      "\n",
      "Number of segments: 2\n",
      "\n",
      "\n",
      "Number of segments: 1\n",
      "\n",
      "\n",
      "Number of segments: 2\n",
      "\n",
      "\n",
      "Number of segments: 2\n",
      "\n",
      "\n",
      "Number of segments: 2\n",
      "\n",
      "\n",
      "Number of segments: 1\n",
      "\n",
      "\n",
      "Number of segments: 1\n",
      "\n",
      "\n",
      "Number of segments: 1\n",
      "\n",
      "\n",
      "Number of segments: 3\n",
      "\n",
      "\n",
      "Number of segments: 4\n",
      "\n",
      "\n",
      "Number of segments: 4\n",
      "\n",
      "\n",
      "Number of segments: 2\n",
      "\n",
      "\n",
      "Number of segments: 2\n",
      "\n",
      "\n",
      "Number of segments: 2\n",
      "\n",
      "\n",
      "Number of segments: 2\n",
      "\n",
      "\n",
      "Number of segments: 2\n",
      "\n",
      "\n",
      "Number of segments: 2\n",
      "\n",
      "\n",
      "Number of segments: 2\n",
      "\n",
      "\n",
      "Number of segments: 2\n",
      "\n",
      "\n",
      "Number of segments: 2\n",
      "\n",
      "\n",
      "Number of segments: 2\n",
      "\n",
      "\n",
      "Number of segments: 2\n",
      "\n",
      "\n",
      "Number of segments: 3\n",
      "\n",
      "\n",
      "Number of segments: 6\n",
      "\n",
      "\n",
      "Number of segments: 6\n",
      "\n",
      "\n",
      "Number of segments: 7\n",
      "\n",
      "\n",
      "Number of segments: 3\n",
      "\n",
      "\n",
      "Number of segments: 2\n",
      "\n",
      "\n",
      "Number of segments: 4\n",
      "\n",
      "\n",
      "Number of segments: 1\n",
      "\n",
      "\n",
      "Number of segments: 1\n",
      "\n",
      "\n",
      "Number of segments: 2\n",
      "\n",
      "\n",
      "Number of segments: 1\n",
      "\n",
      "\n",
      "Number of segments: 2\n",
      "\n",
      "\n",
      "Number of segments: 3\n",
      "\n",
      "\n",
      "Number of segments: 2\n",
      "\n",
      "\n",
      "Number of segments: 1\n",
      "\n",
      "\n",
      "Number of segments: 2\n",
      "\n",
      "\n",
      "Number of segments: 2\n",
      "\n",
      "\n",
      "Number of segments: 1\n",
      "\n",
      "\n",
      "Number of segments: 2\n",
      "\n",
      "\n",
      "Number of segments: 2\n",
      "\n",
      "\n",
      "Number of segments: 2\n",
      "\n",
      "\n",
      "Number of segments: 2\n",
      "\n",
      "\n",
      "Number of segments: 3\n",
      "\n",
      "\n",
      "Number of segments: 3\n",
      "\n",
      "\n",
      "Number of segments: 3\n",
      "\n",
      "\n",
      "Number of segments: 2\n",
      "\n",
      "\n",
      "Number of segments: 2\n",
      "\n",
      "\n",
      "Number of segments: 2\n",
      "\n",
      "\n",
      "Number of segments: 2\n",
      "\n",
      "\n",
      "Number of segments: 2\n",
      "\n",
      "\n",
      "Number of segments: 2\n",
      "\n",
      "\n",
      "Number of segments: 2\n",
      "\n",
      "\n",
      "Number of segments: 2\n",
      "\n",
      "\n",
      "Number of segments: 2\n",
      "\n",
      "\n",
      "Number of segments: 2\n",
      "\n",
      "\n",
      "Number of segments: 2\n",
      "\n",
      "\n",
      "Number of segments: 2\n",
      "\n",
      "\n",
      "Number of segments: 1\n",
      "\n",
      "\n",
      "Number of segments: 2\n",
      "\n",
      "\n",
      "Number of segments: 2\n",
      "\n",
      "\n",
      "Number of segments: 2\n",
      "\n",
      "\n",
      "Number of segments: 1\n",
      "\n",
      "\n",
      "Number of segments: 2\n",
      "\n",
      "\n",
      "Number of segments: 2\n",
      "\n",
      "\n",
      "Number of segments: 2\n",
      "\n",
      "\n",
      "Number of segments: 1\n",
      "\n",
      "\n",
      "Number of segments: 2\n",
      "\n",
      "\n",
      "Number of segments: 1\n",
      "\n",
      "\n",
      "Number of segments: 2\n",
      "\n",
      "\n",
      "Number of segments: 1\n",
      "\n",
      "\n",
      "Number of segments: 3\n",
      "\n",
      "\n",
      "Number of segments: 2\n",
      "\n",
      "\n",
      "Number of segments: 2\n",
      "\n",
      "\n",
      "Number of segments: 2\n",
      "\n",
      "\n",
      "Number of segments: 2\n",
      "\n",
      "\n",
      "Number of segments: 1\n",
      "\n",
      "\n",
      "Number of segments: 1\n",
      "\n",
      "\n",
      "Number of segments: 1\n",
      "\n",
      "\n",
      "Number of segments: 1\n",
      "\n",
      "\n",
      "Number of segments: 2\n",
      "\n",
      "\n",
      "Number of segments: 2\n",
      "\n",
      "\n",
      "Number of segments: 2\n",
      "\n",
      "\n",
      "Number of segments: 1\n",
      "\n",
      "\n",
      "Number of segments: 1\n",
      "\n",
      "\n",
      "Number of segments: 1\n",
      "\n",
      "\n",
      "Number of segments: 1\n",
      "\n",
      "\n",
      "Number of segments: 2\n",
      "\n",
      "\n",
      "Number of segments: 2\n",
      "\n",
      "\n",
      "Number of segments: 2\n",
      "\n",
      "\n",
      "Number of segments: 2\n",
      "\n",
      "\n",
      "Number of segments: 1\n",
      "\n",
      "\n",
      "Number of segments: 1\n",
      "\n",
      "\n",
      "Number of segments: 1\n",
      "\n",
      "\n",
      "Number of segments: 1\n",
      "\n",
      "\n",
      "Number of segments: 1\n",
      "\n",
      "\n",
      "Number of segments: 1\n",
      "\n",
      "\n",
      "Number of segments: 2\n",
      "\n",
      "\n",
      "Number of segments: 2\n",
      "\n",
      "\n",
      "Number of segments: 2\n",
      "\n",
      "\n",
      "Number of segments: 2\n",
      "\n",
      "\n",
      "Number of segments: 3\n",
      "\n",
      "\n",
      "Number of segments: 3\n",
      "\n",
      "\n",
      "Number of segments: 2\n",
      "\n",
      "\n",
      "Number of segments: 2\n",
      "\n",
      "\n",
      "Number of segments: 2\n",
      "\n",
      "\n",
      "Number of segments: 2\n",
      "\n",
      "\n",
      "Number of segments: 2\n",
      "\n",
      "\n",
      "Number of segments: 2\n",
      "\n",
      "\n",
      "Number of segments: 1\n",
      "\n",
      "\n",
      "Number of segments: 1\n",
      "\n",
      "\n",
      "Number of segments: 1\n",
      "\n",
      "\n",
      "Number of segments: 2\n",
      "\n",
      "\n",
      "Number of segments: 2\n",
      "\n",
      "\n",
      "Number of segments: 2\n",
      "\n",
      "\n",
      "Number of segments: 2\n",
      "\n",
      "\n",
      "Number of segments: 2\n",
      "\n",
      "\n",
      "Number of segments: 2\n",
      "\n",
      "\n",
      "Number of segments: 2\n",
      "\n",
      "\n",
      "Number of segments: 3\n",
      "\n",
      "\n",
      "Number of segments: 3\n",
      "\n",
      "\n",
      "Number of segments: 2\n",
      "\n",
      "\n",
      "Number of segments: 2\n",
      "\n",
      "\n",
      "Number of segments: 2\n",
      "\n",
      "\n",
      "Number of segments: 3\n",
      "\n",
      "\n",
      "Number of segments: 3\n",
      "\n",
      "\n",
      "Number of segments: 3\n",
      "\n",
      "\n",
      "Number of segments: 2\n",
      "\n",
      "\n",
      "Number of segments: 2\n",
      "\n",
      "\n",
      "Number of segments: 1\n",
      "\n",
      "\n",
      "Number of segments: 1\n",
      "\n",
      "\n",
      "Number of segments: 2\n",
      "\n",
      "\n",
      "Number of segments: 3\n",
      "\n",
      "\n",
      "Number of segments: 2\n",
      "\n",
      "\n",
      "Number of segments: 2\n",
      "\n",
      "\n",
      "Number of segments: 2\n",
      "\n",
      "\n",
      "Number of segments: 1\n",
      "\n",
      "\n",
      "Number of segments: 1\n",
      "\n",
      "\n",
      "Number of segments: 1\n",
      "\n",
      "\n",
      "Number of segments: 1\n",
      "\n",
      "\n",
      "Number of segments: 2\n",
      "\n",
      "\n",
      "Number of segments: 2\n",
      "\n",
      "\n",
      "Number of segments: 2\n",
      "\n",
      "\n",
      "Number of segments: 2\n",
      "\n",
      "\n",
      "Number of segments: 3\n",
      "\n",
      "\n",
      "Number of segments: 2\n",
      "\n",
      "\n",
      "Number of segments: 2\n",
      "\n",
      "\n",
      "Number of segments: 2\n",
      "\n",
      "\n",
      "Number of segments: 2\n",
      "\n",
      "\n",
      "Number of segments: 3\n",
      "\n",
      "\n",
      "Number of segments: 2\n",
      "\n",
      "\n",
      "Number of segments: 2\n",
      "\n",
      "\n",
      "Number of segments: 2\n",
      "\n",
      "\n",
      "Number of segments: 2\n",
      "\n",
      "\n",
      "Number of segments: 2\n",
      "\n",
      "\n",
      "Number of segments: 2\n",
      "\n",
      "\n",
      "Number of segments: 2\n",
      "\n",
      "\n",
      "Number of segments: 1\n",
      "\n",
      "\n",
      "Number of segments: 2\n",
      "\n",
      "\n",
      "Number of segments: 2\n",
      "\n",
      "\n",
      "Number of segments: 2\n",
      "\n",
      "\n",
      "Number of segments: 2\n",
      "\n",
      "\n",
      "Number of segments: 2\n",
      "\n",
      "\n",
      "Number of segments: 1\n",
      "\n",
      "\n",
      "Number of segments: 1\n",
      "\n",
      "\n",
      "Number of segments: 3\n",
      "\n",
      "\n",
      "Number of segments: 1\n",
      "\n",
      "\n",
      "Number of segments: 1\n",
      "\n",
      "\n",
      "Number of segments: 1\n",
      "\n",
      "\n",
      "Number of segments: 1\n",
      "\n",
      "\n",
      "Number of segments: 3\n",
      "\n",
      "\n",
      "Number of segments: 3\n",
      "\n",
      "\n",
      "Number of segments: 2\n",
      "\n",
      "\n",
      "Number of segments: 2\n",
      "\n",
      "\n",
      "Number of segments: 3\n",
      "\n",
      "\n",
      "Number of segments: 2\n",
      "\n",
      "\n",
      "Number of segments: 2\n",
      "\n",
      "\n",
      "Number of segments: 3\n",
      "\n",
      "\n",
      "Number of segments: 1\n",
      "\n",
      "\n",
      "Number of segments: 2\n",
      "\n",
      "\n",
      "Number of segments: 2\n",
      "\n",
      "\n",
      "Number of segments: 2\n",
      "\n",
      "\n",
      "Number of segments: 2\n",
      "\n",
      "\n",
      "Number of segments: 2\n",
      "\n",
      "\n",
      "Number of segments: 3\n",
      "\n",
      "\n",
      "Number of segments: 3\n",
      "\n",
      "\n",
      "Number of segments: 3\n",
      "\n",
      "\n",
      "Number of segments: 2\n",
      "\n",
      "\n",
      "Number of segments: 2\n",
      "\n",
      "\n",
      "Number of segments: 2\n",
      "\n",
      "\n",
      "Number of segments: 1\n",
      "\n",
      "\n",
      "Number of segments: 1\n",
      "\n",
      "\n",
      "Number of segments: 4\n",
      "\n"
     ]
    },
    {
     "name": "stdout",
     "output_type": "stream",
     "text": [
      "\n",
      "Number of segments: 2\n",
      "\n",
      "\n",
      "Number of segments: 2\n",
      "\n",
      "\n",
      "Number of segments: 2\n",
      "\n",
      "\n",
      "Number of segments: 1\n",
      "\n",
      "\n",
      "Number of segments: 3\n",
      "\n",
      "\n",
      "Number of segments: 3\n",
      "\n",
      "\n",
      "Number of segments: 1\n",
      "\n",
      "\n",
      "Number of segments: 1\n",
      "\n",
      "\n",
      "Number of segments: 2\n",
      "\n",
      "\n",
      "Number of segments: 2\n",
      "\n",
      "\n",
      "Number of segments: 2\n",
      "\n",
      "\n",
      "Number of segments: 2\n",
      "\n",
      "\n",
      "Number of segments: 2\n",
      "\n",
      "\n",
      "Number of segments: 3\n",
      "\n",
      "\n",
      "Number of segments: 4\n",
      "\n",
      "\n",
      "Number of segments: 1\n",
      "\n",
      "\n",
      "Number of segments: 1\n",
      "\n",
      "\n",
      "Number of segments: 1\n",
      "\n",
      "\n",
      "Number of segments: 2\n",
      "\n",
      "\n",
      "Number of segments: 2\n",
      "\n",
      "\n",
      "Number of segments: 2\n",
      "\n",
      "\n",
      "Number of segments: 1\n",
      "\n",
      "\n",
      "Number of segments: 3\n",
      "\n",
      "\n",
      "Number of segments: 3\n",
      "\n",
      "\n",
      "Number of segments: 2\n",
      "\n",
      "\n",
      "Number of segments: 2\n",
      "\n",
      "\n",
      "Number of segments: 2\n",
      "\n",
      "\n",
      "Number of segments: 2\n",
      "\n",
      "\n",
      "Number of segments: 2\n",
      "\n",
      "\n",
      "Number of segments: 3\n",
      "\n",
      "\n",
      "Number of segments: 2\n",
      "\n",
      "\n",
      "Number of segments: 2\n",
      "\n",
      "\n",
      "Number of segments: 3\n",
      "\n",
      "\n",
      "Number of segments: 2\n",
      "\n",
      "\n",
      "Number of segments: 2\n",
      "\n",
      "\n",
      "Number of segments: 2\n",
      "\n",
      "\n",
      "Number of segments: 2\n",
      "\n",
      "\n",
      "Number of segments: 2\n",
      "\n",
      "\n",
      "Number of segments: 2\n",
      "\n",
      "\n",
      "Number of segments: 2\n",
      "\n",
      "\n",
      "Number of segments: 2\n",
      "\n",
      "\n",
      "Number of segments: 2\n",
      "\n",
      "\n",
      "Number of segments: 2\n",
      "\n",
      "\n",
      "Number of segments: 2\n",
      "\n",
      "\n",
      "Number of segments: 2\n",
      "\n",
      "\n",
      "Number of segments: 1\n",
      "\n",
      "\n",
      "Number of segments: 3\n",
      "\n",
      "\n",
      "Number of segments: 2\n",
      "\n",
      "\n",
      "Number of segments: 2\n",
      "\n",
      "\n",
      "Number of segments: 2\n",
      "\n",
      "\n",
      "Number of segments: 2\n",
      "\n",
      "\n",
      "Number of segments: 1\n",
      "\n",
      "\n",
      "Number of segments: 2\n",
      "\n",
      "\n",
      "Number of segments: 3\n",
      "\n",
      "\n",
      "Number of segments: 2\n",
      "\n",
      "\n",
      "Number of segments: 2\n",
      "\n",
      "\n",
      "Number of segments: 2\n",
      "\n",
      "\n",
      "Number of segments: 2\n",
      "\n",
      "\n",
      "Number of segments: 2\n",
      "\n",
      "\n",
      "Number of segments: 2\n",
      "\n",
      "\n",
      "Number of segments: 1\n",
      "\n",
      "\n",
      "Number of segments: 2\n",
      "\n",
      "\n",
      "Number of segments: 1\n",
      "\n",
      "\n",
      "Number of segments: 2\n",
      "\n",
      "\n",
      "Number of segments: 2\n",
      "\n",
      "\n",
      "Number of segments: 3\n",
      "\n",
      "\n",
      "Number of segments: 2\n",
      "\n",
      "\n",
      "Number of segments: 2\n",
      "\n",
      "\n",
      "Number of segments: 2\n",
      "\n",
      "\n",
      "Number of segments: 2\n",
      "\n",
      "\n",
      "Number of segments: 2\n",
      "\n",
      "\n",
      "Number of segments: 2\n",
      "\n",
      "\n",
      "Number of segments: 1\n",
      "\n",
      "\n",
      "Number of segments: 2\n",
      "\n",
      "\n",
      "Number of segments: 1\n",
      "\n",
      "\n",
      "Number of segments: 2\n",
      "\n",
      "\n",
      "Number of segments: 2\n",
      "\n",
      "\n",
      "Number of segments: 2\n",
      "\n",
      "\n",
      "Number of segments: 2\n",
      "\n",
      "\n",
      "Number of segments: 2\n",
      "\n",
      "\n",
      "Number of segments: 2\n",
      "\n",
      "\n",
      "Number of segments: 2\n",
      "\n",
      "\n",
      "Number of segments: 3\n",
      "\n",
      "\n",
      "Number of segments: 3\n",
      "\n",
      "\n",
      "Number of segments: 2\n",
      "\n",
      "\n",
      "Number of segments: 2\n",
      "\n",
      "\n",
      "Number of segments: 2\n",
      "\n",
      "\n",
      "Number of segments: 2\n",
      "\n",
      "\n",
      "Number of segments: 2\n",
      "\n",
      "\n",
      "Number of segments: 2\n",
      "\n",
      "\n",
      "Number of segments: 2\n",
      "\n",
      "\n",
      "Number of segments: 2\n",
      "\n",
      "\n",
      "Number of segments: 2\n",
      "\n",
      "\n",
      "Number of segments: 2\n",
      "\n",
      "\n",
      "Number of segments: 2\n",
      "\n",
      "\n",
      "Number of segments: 2\n",
      "\n",
      "\n",
      "Number of segments: 1\n",
      "\n",
      "\n",
      "Number of segments: 2\n",
      "\n",
      "\n",
      "Number of segments: 2\n",
      "\n",
      "\n",
      "Number of segments: 2\n",
      "\n",
      "\n",
      "Number of segments: 2\n",
      "\n",
      "\n",
      "Number of segments: 2\n",
      "\n",
      "\n",
      "Number of segments: 2\n",
      "\n",
      "\n",
      "Number of segments: 2\n",
      "\n",
      "\n",
      "Number of segments: 2\n",
      "\n",
      "\n",
      "Number of segments: 1\n",
      "\n",
      "\n",
      "Number of segments: 2\n",
      "\n",
      "\n",
      "Number of segments: 1\n",
      "\n",
      "\n",
      "Number of segments: 1\n",
      "\n",
      "\n",
      "Number of segments: 2\n",
      "\n",
      "\n",
      "Number of segments: 2\n",
      "\n",
      "\n",
      "Number of segments: 1\n",
      "\n",
      "\n",
      "Number of segments: 1\n",
      "\n",
      "\n",
      "Number of segments: 1\n",
      "\n",
      "\n",
      "Number of segments: 2\n",
      "\n",
      "\n",
      "Number of segments: 2\n",
      "\n",
      "\n",
      "Number of segments: 2\n",
      "\n",
      "\n",
      "Number of segments: 2\n",
      "\n",
      "\n",
      "Number of segments: 2\n",
      "\n",
      "\n",
      "Number of segments: 2\n",
      "\n",
      "\n",
      "Number of segments: 2\n",
      "\n",
      "\n",
      "Number of segments: 2\n",
      "\n",
      "\n",
      "Number of segments: 2\n",
      "\n",
      "\n",
      "Number of segments: 1\n",
      "\n",
      "\n",
      "Number of segments: 1\n",
      "\n",
      "\n",
      "Number of segments: 1\n",
      "\n",
      "\n",
      "Number of segments: 2\n",
      "\n",
      "\n",
      "Number of segments: 2\n",
      "\n",
      "\n",
      "Number of segments: 2\n",
      "\n",
      "\n",
      "Number of segments: 1\n",
      "\n",
      "\n",
      "Number of segments: 3\n",
      "\n",
      "\n",
      "Number of segments: 2\n",
      "\n",
      "\n",
      "Number of segments: 1\n",
      "\n",
      "\n",
      "Number of segments: 2\n",
      "\n",
      "\n",
      "Number of segments: 2\n",
      "\n",
      "\n",
      "Number of segments: 1\n",
      "\n",
      "\n",
      "Number of segments: 1\n",
      "\n",
      "\n",
      "Number of segments: 2\n",
      "\n",
      "\n",
      "Number of segments: 2\n",
      "\n",
      "\n",
      "Number of segments: 2\n",
      "\n",
      "\n",
      "Number of segments: 3\n",
      "\n",
      "\n",
      "Number of segments: 1\n",
      "\n",
      "\n",
      "Number of segments: 2\n",
      "\n",
      "\n",
      "Number of segments: 2\n",
      "\n",
      "\n",
      "Number of segments: 1\n",
      "\n",
      "\n",
      "Number of segments: 2\n",
      "\n",
      "\n",
      "Number of segments: 2\n",
      "\n",
      "\n",
      "Number of segments: 1\n",
      "\n",
      "\n",
      "Number of segments: 2\n",
      "\n",
      "\n",
      "Number of segments: 2\n",
      "\n",
      "\n",
      "Number of segments: 2\n",
      "\n",
      "\n",
      "Number of segments: 2\n",
      "\n",
      "\n",
      "Number of segments: 2\n",
      "\n",
      "\n",
      "Number of segments: 1\n",
      "\n",
      "\n",
      "Number of segments: 1\n",
      "\n",
      "\n",
      "Number of segments: 2\n",
      "\n",
      "\n",
      "Number of segments: 1\n",
      "\n",
      "\n",
      "Number of segments: 2\n",
      "\n",
      "\n",
      "Number of segments: 2\n",
      "\n",
      "\n",
      "Number of segments: 2\n",
      "\n",
      "\n",
      "Number of segments: 2\n",
      "\n",
      "\n",
      "Number of segments: 2\n",
      "\n",
      "\n",
      "Number of segments: 1\n",
      "\n",
      "\n",
      "Number of segments: 2\n",
      "\n",
      "\n",
      "Number of segments: 2\n",
      "\n",
      "\n",
      "Number of segments: 1\n",
      "\n",
      "\n",
      "Number of segments: 1\n",
      "\n",
      "\n",
      "Number of segments: 2\n",
      "\n",
      "\n",
      "Number of segments: 1\n",
      "\n",
      "\n",
      "Number of segments: 2\n",
      "\n",
      "\n",
      "Number of segments: 2\n",
      "\n",
      "\n",
      "Number of segments: 2\n",
      "\n",
      "\n",
      "Number of segments: 2\n",
      "\n",
      "\n",
      "Number of segments: 1\n",
      "\n",
      "\n",
      "Number of segments: 2\n",
      "\n",
      "\n",
      "Number of segments: 2\n",
      "\n",
      "\n",
      "Number of segments: 2\n",
      "\n",
      "\n",
      "Number of segments: 2\n",
      "\n",
      "\n",
      "Number of segments: 2\n",
      "\n",
      "\n",
      "Number of segments: 3\n",
      "\n",
      "\n",
      "Number of segments: 1\n",
      "\n",
      "\n",
      "Number of segments: 1\n",
      "\n",
      "\n",
      "Number of segments: 2\n",
      "\n",
      "\n",
      "Number of segments: 2\n",
      "\n",
      "\n",
      "Number of segments: 2\n",
      "\n",
      "\n",
      "Number of segments: 2\n",
      "\n",
      "\n",
      "Number of segments: 2\n",
      "\n",
      "\n",
      "Number of segments: 2\n",
      "\n",
      "\n",
      "Number of segments: 2\n",
      "\n",
      "\n",
      "Number of segments: 1\n",
      "\n",
      "\n",
      "Number of segments: 1\n",
      "\n",
      "\n",
      "Number of segments: 5\n",
      "\n",
      "\n",
      "Number of segments: 1\n",
      "\n",
      "\n",
      "Number of segments: 2\n",
      "\n",
      "\n",
      "Number of segments: 2\n",
      "\n",
      "\n",
      "Number of segments: 2\n",
      "\n",
      "\n",
      "Number of segments: 2\n",
      "\n",
      "\n",
      "Number of segments: 2\n",
      "\n",
      "\n",
      "Number of segments: 2\n",
      "\n",
      "\n",
      "Number of segments: 2\n",
      "\n",
      "\n",
      "Number of segments: 2\n",
      "\n",
      "\n",
      "Number of segments: 3\n",
      "\n",
      "\n",
      "Number of segments: 1\n",
      "\n",
      "\n",
      "Number of segments: 3\n",
      "\n",
      "\n",
      "Number of segments: 1\n",
      "\n",
      "\n",
      "Number of segments: 3\n",
      "\n",
      "\n",
      "Number of segments: 4\n",
      "\n",
      "\n",
      "Number of segments: 2\n",
      "\n",
      "\n",
      "Number of segments: 3\n",
      "\n",
      "\n",
      "Number of segments: 2\n",
      "\n",
      "\n",
      "Number of segments: 2\n",
      "\n",
      "\n",
      "Number of segments: 2\n",
      "\n",
      "\n",
      "Number of segments: 2\n",
      "\n",
      "\n",
      "Number of segments: 1\n",
      "\n",
      "\n",
      "Number of segments: 1\n",
      "\n",
      "\n",
      "Number of segments: 1\n",
      "\n",
      "\n",
      "Number of segments: 1\n",
      "\n",
      "\n",
      "Number of segments: 1\n",
      "\n",
      "\n",
      "Number of segments: 2\n",
      "\n",
      "\n",
      "Number of segments: 2\n",
      "\n",
      "\n",
      "Number of segments: 3\n",
      "\n",
      "\n",
      "Number of segments: 3\n",
      "\n",
      "\n",
      "Number of segments: 2\n",
      "\n",
      "\n",
      "Number of segments: 2\n",
      "\n",
      "\n",
      "Number of segments: 2\n",
      "\n",
      "\n",
      "Number of segments: 2\n",
      "\n",
      "\n",
      "Number of segments: 2\n",
      "\n",
      "\n",
      "Number of segments: 2\n",
      "\n",
      "\n",
      "Number of segments: 1\n",
      "\n",
      "\n",
      "Number of segments: 2\n",
      "\n",
      "\n",
      "Number of segments: 2\n",
      "\n",
      "\n",
      "Number of segments: 2\n",
      "\n",
      "\n",
      "Number of segments: 2\n",
      "\n",
      "\n",
      "Number of segments: 2\n",
      "\n",
      "\n",
      "Number of segments: 1\n",
      "\n",
      "\n",
      "Number of segments: 3\n",
      "\n",
      "\n",
      "Number of segments: 3\n",
      "\n",
      "\n",
      "Number of segments: 1\n",
      "\n",
      "\n",
      "Number of segments: 1\n",
      "\n",
      "\n",
      "Number of segments: 2\n",
      "\n",
      "\n",
      "Number of segments: 2\n",
      "\n",
      "\n",
      "Number of segments: 2\n",
      "\n",
      "\n",
      "Number of segments: 2\n",
      "\n",
      "\n",
      "Number of segments: 2\n",
      "\n",
      "\n",
      "Number of segments: 2\n",
      "\n",
      "\n",
      "Number of segments: 2\n",
      "\n",
      "\n",
      "Number of segments: 2\n",
      "\n",
      "\n",
      "Number of segments: 1\n",
      "\n",
      "\n",
      "Number of segments: 3\n",
      "\n",
      "\n",
      "Number of segments: 1\n",
      "\n",
      "\n",
      "Number of segments: 2\n",
      "\n",
      "\n",
      "Number of segments: 3\n",
      "\n",
      "\n",
      "Number of segments: 3\n",
      "\n",
      "\n",
      "Number of segments: 3\n",
      "\n",
      "\n",
      "Number of segments: 3\n",
      "\n",
      "\n",
      "Number of segments: 1\n",
      "\n",
      "\n",
      "Number of segments: 2\n",
      "\n",
      "\n",
      "Number of segments: 2\n",
      "\n",
      "\n",
      "Number of segments: 2\n",
      "\n",
      "\n",
      "Number of segments: 1\n",
      "\n",
      "\n",
      "Number of segments: 1\n",
      "\n",
      "\n",
      "Number of segments: 1\n",
      "\n",
      "\n",
      "Number of segments: 1\n",
      "\n",
      "\n",
      "Number of segments: 1\n",
      "\n",
      "\n",
      "Number of segments: 1\n",
      "\n",
      "\n",
      "Number of segments: 1\n",
      "\n",
      "\n",
      "Number of segments: 2\n",
      "\n",
      "\n",
      "Number of segments: 2\n",
      "\n",
      "\n",
      "Number of segments: 2\n",
      "\n",
      "\n",
      "Number of segments: 1\n",
      "\n",
      "\n",
      "Number of segments: 1\n",
      "\n",
      "\n",
      "Number of segments: 1\n",
      "\n",
      "\n",
      "Number of segments: 2\n",
      "\n",
      "\n",
      "Number of segments: 2\n",
      "\n",
      "\n",
      "Number of segments: 2\n",
      "\n",
      "\n",
      "Number of segments: 2\n",
      "\n",
      "\n",
      "Number of segments: 2\n",
      "\n",
      "\n",
      "Number of segments: 3\n",
      "\n",
      "\n",
      "Number of segments: 3\n",
      "\n",
      "\n",
      "Number of segments: 4\n",
      "\n",
      "\n",
      "Number of segments: 5\n",
      "\n",
      "\n",
      "Number of segments: 5\n",
      "\n",
      "\n",
      "Number of segments: 2\n",
      "\n",
      "\n",
      "Number of segments: 2\n",
      "\n",
      "\n",
      "Number of segments: 2\n",
      "\n",
      "\n",
      "Number of segments: 2\n",
      "\n",
      "\n",
      "Number of segments: 3\n",
      "\n",
      "\n",
      "Number of segments: 2\n",
      "\n",
      "\n",
      "Number of segments: 2\n",
      "\n",
      "\n",
      "Number of segments: 2\n",
      "\n",
      "\n",
      "Number of segments: 2\n",
      "\n",
      "\n",
      "Number of segments: 3\n",
      "\n",
      "\n",
      "Number of segments: 3\n",
      "\n",
      "\n",
      "Number of segments: 3\n",
      "\n",
      "\n",
      "Number of segments: 1\n",
      "\n",
      "\n",
      "Number of segments: 1\n",
      "\n",
      "\n",
      "Number of segments: 1\n",
      "\n",
      "\n",
      "Number of segments: 2\n",
      "\n",
      "\n",
      "Number of segments: 2\n",
      "\n",
      "\n",
      "Number of segments: 2\n",
      "\n",
      "\n",
      "Number of segments: 2\n",
      "\n",
      "\n",
      "Number of segments: 3\n",
      "\n",
      "\n",
      "Number of segments: 3\n",
      "\n",
      "\n",
      "Number of segments: 2\n",
      "\n",
      "\n",
      "Number of segments: 1\n",
      "\n",
      "\n",
      "Number of segments: 2\n",
      "\n",
      "\n",
      "Number of segments: 1\n",
      "\n",
      "\n",
      "Number of segments: 2\n",
      "\n",
      "\n",
      "Number of segments: 2\n",
      "\n",
      "\n",
      "Number of segments: 3\n",
      "\n",
      "\n",
      "Number of segments: 3\n",
      "\n",
      "\n",
      "Number of segments: 3\n",
      "\n",
      "\n",
      "Number of segments: 5\n",
      "\n",
      "\n",
      "Number of segments: 5\n",
      "\n",
      "\n",
      "Number of segments: 5\n",
      "\n",
      "\n",
      "Number of segments: 2\n",
      "\n",
      "\n",
      "Number of segments: 2\n",
      "\n",
      "\n",
      "Number of segments: 2\n",
      "\n",
      "\n",
      "Number of segments: 1\n",
      "\n",
      "\n",
      "Number of segments: 2\n",
      "\n",
      "\n",
      "Number of segments: 2\n",
      "\n",
      "\n",
      "Number of segments: 1\n",
      "\n",
      "\n",
      "Number of segments: 3\n",
      "\n",
      "\n",
      "Number of segments: 4\n",
      "\n",
      "\n",
      "Number of segments: 1\n",
      "\n",
      "\n",
      "Number of segments: 1\n",
      "\n",
      "\n",
      "Number of segments: 2\n",
      "\n",
      "\n",
      "Number of segments: 1\n",
      "\n",
      "\n",
      "Number of segments: 1\n",
      "\n",
      "\n",
      "Number of segments: 1\n",
      "\n",
      "\n",
      "Number of segments: 2\n",
      "\n",
      "\n",
      "Number of segments: 3\n",
      "\n",
      "\n",
      "Number of segments: 3\n",
      "\n",
      "\n",
      "Number of segments: 2\n",
      "\n",
      "\n",
      "Number of segments: 2\n",
      "\n",
      "\n",
      "Number of segments: 2\n",
      "\n",
      "\n",
      "Number of segments: 2\n",
      "\n",
      "\n",
      "Number of segments: 3\n",
      "\n",
      "\n",
      "Number of segments: 3\n",
      "\n",
      "\n",
      "Number of segments: 2\n",
      "\n",
      "\n",
      "Number of segments: 2\n",
      "\n",
      "\n",
      "Number of segments: 3\n",
      "\n",
      "\n",
      "Number of segments: 2\n",
      "\n",
      "\n",
      "Number of segments: 2\n",
      "\n",
      "\n",
      "Number of segments: 2\n",
      "\n"
     ]
    },
    {
     "name": "stdout",
     "output_type": "stream",
     "text": [
      "\n",
      "Number of segments: 2\n",
      "\n",
      "\n",
      "Number of segments: 2\n",
      "\n",
      "\n",
      "Number of segments: 2\n",
      "\n",
      "\n",
      "Number of segments: 2\n",
      "\n",
      "\n",
      "Number of segments: 2\n",
      "\n",
      "\n",
      "Number of segments: 3\n",
      "\n",
      "\n",
      "Number of segments: 2\n",
      "\n",
      "\n",
      "Number of segments: 2\n",
      "\n",
      "\n",
      "Number of segments: 1\n",
      "\n",
      "\n",
      "Number of segments: 1\n",
      "\n",
      "\n",
      "Number of segments: 1\n",
      "\n",
      "\n",
      "Number of segments: 2\n",
      "\n",
      "\n",
      "Number of segments: 2\n",
      "\n",
      "\n",
      "Number of segments: 2\n",
      "\n",
      "\n",
      "Number of segments: 2\n",
      "\n",
      "\n",
      "Number of segments: 3\n",
      "\n",
      "\n",
      "Number of segments: 3\n",
      "\n",
      "\n",
      "Number of segments: 3\n",
      "\n",
      "\n",
      "Number of segments: 1\n",
      "\n",
      "\n",
      "Number of segments: 1\n",
      "\n",
      "\n",
      "Number of segments: 2\n",
      "\n",
      "\n",
      "Number of segments: 2\n",
      "\n",
      "\n",
      "Number of segments: 2\n",
      "\n",
      "\n",
      "Number of segments: 2\n",
      "\n",
      "\n",
      "Number of segments: 2\n",
      "\n",
      "\n",
      "Number of segments: 2\n",
      "\n",
      "\n",
      "Number of segments: 2\n",
      "\n",
      "\n",
      "Number of segments: 2\n",
      "\n",
      "\n",
      "Number of segments: 2\n",
      "\n",
      "\n",
      "Number of segments: 2\n",
      "\n",
      "\n",
      "Number of segments: 2\n",
      "\n",
      "\n",
      "Number of segments: 2\n",
      "\n",
      "\n",
      "Number of segments: 2\n",
      "\n",
      "\n",
      "Number of segments: 2\n",
      "\n",
      "\n",
      "Number of segments: 2\n",
      "\n",
      "\n",
      "Number of segments: 2\n",
      "\n",
      "\n",
      "Number of segments: 1\n",
      "\n",
      "\n",
      "Number of segments: 3\n",
      "\n",
      "\n",
      "Number of segments: 2\n",
      "\n",
      "\n",
      "Number of segments: 2\n",
      "\n",
      "\n",
      "Number of segments: 2\n",
      "\n",
      "\n",
      "Number of segments: 2\n",
      "\n",
      "\n",
      "Number of segments: 2\n",
      "\n",
      "\n",
      "Number of segments: 3\n",
      "\n",
      "\n",
      "Number of segments: 2\n",
      "\n",
      "\n",
      "Number of segments: 2\n",
      "\n",
      "\n",
      "Number of segments: 2\n",
      "\n",
      "\n",
      "Number of segments: 2\n",
      "\n",
      "\n",
      "Number of segments: 2\n",
      "\n",
      "\n",
      "Number of segments: 3\n",
      "\n",
      "\n",
      "Number of segments: 3\n",
      "\n",
      "\n",
      "Number of segments: 1\n",
      "\n",
      "\n",
      "Number of segments: 2\n",
      "\n",
      "\n",
      "Number of segments: 1\n",
      "\n",
      "\n",
      "Number of segments: 2\n",
      "\n",
      "\n",
      "Number of segments: 2\n",
      "\n",
      "\n",
      "Number of segments: 2\n",
      "\n",
      "\n",
      "Number of segments: 1\n",
      "\n",
      "\n",
      "Number of segments: 1\n",
      "\n",
      "\n",
      "Number of segments: 2\n",
      "\n",
      "\n",
      "Number of segments: 2\n",
      "\n",
      "\n",
      "Number of segments: 2\n",
      "\n",
      "\n",
      "Number of segments: 2\n",
      "\n",
      "\n",
      "Number of segments: 2\n",
      "\n",
      "\n",
      "Number of segments: 2\n",
      "\n",
      "\n",
      "Number of segments: 2\n",
      "\n",
      "\n",
      "Number of segments: 1\n",
      "\n",
      "\n",
      "Number of segments: 1\n",
      "\n",
      "\n",
      "Number of segments: 1\n",
      "\n",
      "\n",
      "Number of segments: 2\n",
      "\n",
      "\n",
      "Number of segments: 2\n",
      "\n",
      "\n",
      "Number of segments: 1\n",
      "\n",
      "\n",
      "Number of segments: 2\n",
      "\n",
      "\n",
      "Number of segments: 1\n",
      "\n",
      "\n",
      "Number of segments: 2\n",
      "\n",
      "\n",
      "Number of segments: 2\n",
      "\n",
      "\n",
      "Number of segments: 2\n",
      "\n",
      "\n",
      "Number of segments: 2\n",
      "\n",
      "\n",
      "Number of segments: 1\n",
      "\n",
      "\n",
      "Number of segments: 3\n",
      "\n",
      "\n",
      "Number of segments: 4\n",
      "\n",
      "\n",
      "Number of segments: 2\n",
      "\n",
      "\n",
      "Number of segments: 2\n",
      "\n",
      "\n",
      "Number of segments: 3\n",
      "\n",
      "\n",
      "Number of segments: 2\n",
      "\n",
      "\n",
      "Number of segments: 3\n",
      "\n",
      "\n",
      "Number of segments: 3\n",
      "\n",
      "\n",
      "Number of segments: 1\n",
      "\n",
      "\n",
      "Number of segments: 2\n",
      "\n",
      "\n",
      "Number of segments: 2\n",
      "\n",
      "\n",
      "Number of segments: 2\n",
      "\n",
      "\n",
      "Number of segments: 2\n",
      "\n",
      "\n",
      "Number of segments: 2\n",
      "\n",
      "\n",
      "Number of segments: 2\n",
      "\n",
      "\n",
      "Number of segments: 2\n",
      "\n",
      "\n",
      "Number of segments: 2\n",
      "\n",
      "\n",
      "Number of segments: 2\n",
      "\n",
      "\n",
      "Number of segments: 2\n",
      "\n",
      "\n",
      "Number of segments: 2\n",
      "\n",
      "\n",
      "Number of segments: 2\n",
      "\n",
      "\n",
      "Number of segments: 2\n",
      "\n",
      "\n",
      "Number of segments: 2\n",
      "\n",
      "\n",
      "Number of segments: 2\n",
      "\n",
      "\n",
      "Number of segments: 2\n",
      "\n",
      "\n",
      "Number of segments: 2\n",
      "\n",
      "\n",
      "Number of segments: 2\n",
      "\n",
      "\n",
      "Number of segments: 2\n",
      "\n",
      "\n",
      "Number of segments: 2\n",
      "\n",
      "\n",
      "Number of segments: 2\n",
      "\n",
      "\n",
      "Number of segments: 1\n",
      "\n",
      "\n",
      "Number of segments: 2\n",
      "\n",
      "\n",
      "Number of segments: 1\n",
      "\n",
      "\n",
      "Number of segments: 1\n",
      "\n",
      "\n",
      "Number of segments: 1\n",
      "\n",
      "\n",
      "Number of segments: 2\n",
      "\n",
      "\n",
      "Number of segments: 2\n",
      "\n",
      "\n",
      "Number of segments: 3\n",
      "\n",
      "\n",
      "Number of segments: 2\n",
      "\n",
      "\n",
      "Number of segments: 3\n",
      "\n",
      "\n",
      "Number of segments: 3\n",
      "\n",
      "\n",
      "Number of segments: 2\n",
      "\n",
      "\n",
      "Number of segments: 2\n",
      "\n",
      "\n",
      "Number of segments: 2\n",
      "\n",
      "\n",
      "Number of segments: 2\n",
      "\n",
      "\n",
      "Number of segments: 2\n",
      "\n",
      "\n",
      "Number of segments: 2\n",
      "\n",
      "\n",
      "Number of segments: 2\n",
      "\n",
      "\n",
      "Number of segments: 2\n",
      "\n",
      "\n",
      "Number of segments: 2\n",
      "\n",
      "\n",
      "Number of segments: 2\n",
      "\n",
      "\n",
      "Number of segments: 2\n",
      "\n",
      "\n",
      "Number of segments: 2\n",
      "\n",
      "\n",
      "Number of segments: 2\n",
      "\n",
      "\n",
      "Number of segments: 2\n",
      "\n",
      "\n",
      "Number of segments: 2\n",
      "\n",
      "\n",
      "Number of segments: 2\n",
      "\n",
      "\n",
      "Number of segments: 2\n",
      "\n",
      "\n",
      "Number of segments: 2\n",
      "\n",
      "\n",
      "Number of segments: 2\n",
      "\n",
      "\n",
      "Number of segments: 2\n",
      "\n",
      "\n",
      "Number of segments: 1\n",
      "\n",
      "\n",
      "Number of segments: 1\n",
      "\n",
      "\n",
      "Number of segments: 1\n",
      "\n",
      "\n",
      "Number of segments: 1\n",
      "\n",
      "\n",
      "Number of segments: 1\n",
      "\n",
      "\n",
      "Number of segments: 1\n",
      "\n",
      "\n",
      "Number of segments: 2\n",
      "\n",
      "\n",
      "Number of segments: 1\n",
      "\n",
      "\n",
      "Number of segments: 2\n",
      "\n",
      "\n",
      "Number of segments: 2\n",
      "\n",
      "\n",
      "Number of segments: 2\n",
      "\n",
      "\n",
      "Number of segments: 2\n",
      "\n",
      "\n",
      "Number of segments: 2\n",
      "\n",
      "\n",
      "Number of segments: 1\n",
      "\n",
      "\n",
      "Number of segments: 1\n",
      "\n",
      "\n",
      "Number of segments: 1\n",
      "\n",
      "\n",
      "Number of segments: 2\n",
      "\n",
      "\n",
      "Number of segments: 2\n",
      "\n",
      "\n",
      "Number of segments: 1\n",
      "\n",
      "\n",
      "Number of segments: 2\n",
      "\n",
      "\n",
      "Number of segments: 2\n",
      "\n",
      "\n",
      "Number of segments: 2\n",
      "\n",
      "\n",
      "Number of segments: 2\n",
      "\n",
      "\n",
      "Number of segments: 2\n",
      "\n",
      "\n",
      "Number of segments: 2\n",
      "\n",
      "\n",
      "Number of segments: 2\n",
      "\n",
      "\n",
      "Number of segments: 2\n",
      "\n",
      "\n",
      "Number of segments: 2\n",
      "\n",
      "\n",
      "Number of segments: 2\n",
      "\n",
      "\n",
      "Number of segments: 2\n",
      "\n",
      "\n",
      "Number of segments: 2\n",
      "\n",
      "\n",
      "Number of segments: 1\n",
      "\n",
      "\n",
      "Number of segments: 1\n",
      "\n",
      "\n",
      "Number of segments: 1\n",
      "\n",
      "\n",
      "Number of segments: 1\n",
      "\n",
      "\n",
      "Number of segments: 1\n",
      "\n",
      "\n",
      "Number of segments: 1\n",
      "\n",
      "branches_without_postsyn_req query = \n",
      "skeletal_length > 10000  and ((synapse_density_offset_endpoint_upstream < 0.00015) or (n_synapses_offset_endpoint_upstream <= 2)) and (n_synapses_pre_offset_endpoint_upstream <= 1) and (width_new > 95) and (width_new < 650) and (n_synapses_spine_offset_endpoint_upstream < 3)\n",
      "No limb branch to plot\n",
      "Starting axon branch was the starting node so using border vertices and NOT computing upstream branch\n",
      "upstream_node_to_axon_starting_branch = None\n",
      "More than 1 seperated mesh (taking the top one): [<trimesh.Trimesh(vertices.shape=(20342, 3), faces.shape=(40479, 3))>\n",
      " <trimesh.Trimesh(vertices.shape=(113, 3), faces.shape=(176, 3))>]\n",
      "invalidation_d = 1500\n",
      "use_adaptive_invalidation_d= False\n",
      "axon_width_preprocess_limb_max = 200\n",
      "filter_end_node_length= 1150\n",
      "filter_end_node_length_meshparty = 1150\n",
      "invalidation_d = 1500\n",
      "root_curr = [1484150.   588282.7 1095391. ]\n",
      "Time for preparing soma vertices and root: 0.00022029876708984375\n",
      "invalidation_d = 1500\n",
      "smooth_neighborhood = 0\n",
      "cc_vertex_thresh = 10\n"
     ]
    },
    {
     "name": "stderr",
     "output_type": "stream",
     "text": [
      "100%|██████████| 1/1 [00:00<00:00,  3.46it/s]\n"
     ]
    },
    {
     "name": "stdout",
     "output_type": "stream",
     "text": [
      "meshparty_segment_size = 100\n",
      "Time for 1st pass MP skeletonization: 0.5636334419250488\n",
      "branches_touching_root = [13]\n",
      "combining close nodes\n",
      "combine_threshold = 1300\n",
      "length of Graph = 7906\n",
      "After combining close endpoints max(kept_branches_idx) = 85, len(kept_branches_idx) = 75\n",
      "empty_indices % = 0.0\n",
      " conflict_indices % = 0.028463139120095123\n",
      "Decomposing first pass: 4.527435064315796\n",
      "Only Using MeshParty Skeletonization and Mesh Correspondence\n",
      "Another print\n",
      "Divinding into MP and MAP pieces: 8.344650268554688e-06\n",
      "Total time for MAP sublimb processing 4.5299530029296875e-06\n",
      "---- Working on MP Decomposition #0 ----\n",
      "Using Quicker soma_to_piece_touching_vertices because no MAP and only one sublimb_mesh piece \n",
      "MP filtering soma verts: 1.9550323486328125e-05\n",
      "Fixing Possible Soma Extension Branch for Sublimb 0\n",
      "Total time for mesh KDTree = 0.044293880462646484\n",
      "sbv[0].reshape(-1,3) = [[1484150.   588282.7 1095391. ]]\n",
      "closest_sk_pt_coord BEFORE = [1484209.07018222  588125.41800575 1095073.94391184]\n",
      "current_skeleton.shape = (443, 2, 3)\n",
      "node_for_stitch = 441: [1484209.07018222  588125.41800575 1095073.94391184]\n",
      "node_for_stitch AFTER = 441: [1484209.07018222  588125.41800575 1095073.94391184]\n",
      "possible_node_loc = [  0 443]\n",
      "possible_node_loc AFTER = [  0 443]\n",
      "curr_shortest_path = [441, 442.0, 443]\n",
      "Current stitch point was not a branch or endpoint, shortest_path_length to one = 189.87969562013262\n",
      "Changing the stitch point becasue the distance to end or branch node was 189.87969562013262\n",
      "New stitch point has degree 1\n",
      "change_status for create soma extending pieces = True\n",
      "closest_sk_pt_coord AFTER = [1484351.   588129.9 1095200. ]\n",
      "skipping soma 0 because closest skeleton node was already end node\n",
      "endpoints_must_keep = {0: array([[1484351. ,  588129.9, 1095200. ]])}\n",
      "match_sk_branches = [12]\n",
      "The new branch info was none so skipping \n",
      "\n",
      "No soma extending branch was added for this sublimb even though it had a soma border (means they already existed)\n",
      "MP (because soma touching verts) soma extension add: 0.19416499137878418\n",
      "There were not both MAP and MP pieces so skipping the stitch resolving phase\n",
      "Time for decomp of Limb = 5.462863206863403\n",
      "Number of matching vertices = 20\n",
      "Only one endpoint after filtering away the endpoints that are not on the skeleton\n",
      "Removed 0 skeletal branches\n",
      "40478 40479\n",
      "For marked faces: None\n",
      "empty_indices % = 0.0\n",
      " conflict_indices % = 0.0\n",
      "Limb Correspondence before stitching = 75\n",
      "Filtering away non soma floating pieces near the soma\n",
      "Before filter # of pieces = 0\n",
      "AFTER filter # of pieces = 0\n",
      "Starting the floating pieces preprocessing\n",
      "Floating 0: <trimesh.Trimesh(vertices.shape=(113, 3), faces.shape=(176, 3))>\n",
      "invalidation_d = 1500\n",
      "use_adaptive_invalidation_d= False\n",
      "axon_width_preprocess_limb_max = 200\n",
      "filter_end_node_length= 1150\n",
      "filter_end_node_length_meshparty = 1150\n",
      "invalidation_d = 1500\n",
      "root_curr = None\n",
      "Time for preparing soma vertices and root: 8.344650268554688e-06\n",
      "invalidation_d = 1500\n",
      "smooth_neighborhood = 0\n",
      "cc_vertex_thresh = 10\n"
     ]
    },
    {
     "name": "stderr",
     "output_type": "stream",
     "text": [
      "100%|██████████| 1/1 [00:00<00:00, 286.11it/s]"
     ]
    },
    {
     "name": "stdout",
     "output_type": "stream",
     "text": [
      "meshparty_segment_size = 100\n",
      "Time for 1st pass MP skeletonization: 0.02121567726135254\n",
      "branches_touching_root = [0]\n",
      "combining close nodes\n",
      "combine_threshold = 1300\n",
      "length of Graph = 20\n",
      "After combining close endpoints max(kept_branches_idx) = 0, len(kept_branches_idx) = 1\n",
      "empty_indices % = 0.0\n",
      " conflict_indices % = 0.0\n",
      "Decomposing first pass: 0.030910253524780273\n",
      "Only Using MeshParty Skeletonization and Mesh Correspondence\n",
      "Another print\n",
      "Divinding into MP and MAP pieces: 6.9141387939453125e-06\n",
      "Total time for MAP sublimb processing 2.1457672119140625e-06\n",
      "---- Working on MP Decomposition #0 ----\n",
      "Using Quicker soma_to_piece_touching_vertices because no MAP and only one sublimb_mesh piece \n",
      "MP filtering soma verts: 1.33514404296875e-05\n",
      "Do Not Need to Fix MP Decomposition 0 so just continuing\n",
      "There were not both MAP and MP pieces so skipping the stitch resolving phase\n",
      "Time for decomp of Limb = 0.05292963981628418\n",
      "Removed 0 skeletal branches\n",
      "175 176\n",
      "For marked faces: None\n",
      "empty_indices % = 0.0\n",
      " conflict_indices % = 0.0\n"
     ]
    },
    {
     "name": "stderr",
     "output_type": "stream",
     "text": [
      "\n"
     ]
    },
    {
     "data": {
      "application/vnd.jupyter.widget-view+json": {
       "model_id": "1d41891c259a42b399c784c6c30c12c5",
       "version_major": 2,
       "version_minor": 0
      },
      "text/plain": [
       "Container(figure=Figure(box_center=[0.5, 0.5, 0.5], box_size=[1.0, 1.0, 1.0], camera=PerspectiveCamera(fov=45.…"
      ]
     },
     "metadata": {},
     "output_type": "display_data"
    },
    {
     "name": "stdout",
     "output_type": "stream",
     "text": [
      "--> time = 0.1015021800994873\n",
      "concept_network_dict = {0: [<datasci_tools.networkx_utils.GraphOrderedEdges object at 0x7fb6449d2a30>]}\n",
      "\n",
      "\n",
      "----Working on seperate_graph 0----\n",
      "\n",
      "\n",
      "---------Working on soma_idx = 0, soma_group_idx 0, endpt = [1484351.   588129.9 1095200. ]---------\n",
      "Starting_edge inside branches_to_conept = [[1467806.   619005.5 1081192. ]\n",
      " [1484351.   588129.9 1095200. ]]\n",
      "At the start, starting_node (in terms of the skeleton, that shouldn't match the starting edge) = [59]\n",
      "printing out current edge:\n",
      "[[1484351.   588129.9 1095200. ]\n",
      " [1467806.   619005.5 1081192. ]]\n",
      "edge_endpoints_to_process was empty so exiting loop after 76 iterations\n",
      "starting_node in concept map (that should match the starting edge) = 53\n",
      "Total time for branches to concept conversion = 0.37469053268432617\n",
      "\n",
      "Done generating concept network \n",
      "\n",
      "\n",
      "\n",
      "Number of segments: 16\n",
      "\n",
      "\n",
      "Number of segments: 11\n",
      "\n",
      "\n",
      "Number of segments: 12\n",
      "\n",
      "\n",
      "Number of segments: 9\n",
      "\n",
      "\n",
      "Number of segments: 3\n",
      "\n",
      "\n",
      "Number of segments: 6\n",
      "\n",
      "\n",
      "Number of segments: 3\n",
      "\n",
      "\n",
      "Number of segments: 11\n",
      "\n",
      "\n",
      "Number of segments: 4\n",
      "\n",
      "\n",
      "Number of segments: 5\n",
      "\n",
      "\n",
      "Number of segments: 4\n",
      "\n",
      "\n",
      "Number of segments: 5\n",
      "\n",
      "\n",
      "Number of segments: 4\n",
      "\n",
      "\n",
      "Number of segments: 55\n",
      "\n",
      "\n",
      "Number of segments: 2\n",
      "\n",
      "\n",
      "Number of segments: 11\n",
      "\n",
      "\n",
      "Number of segments: 4\n",
      "\n",
      "\n",
      "Number of segments: 9\n",
      "\n",
      "\n",
      "Number of segments: 2\n",
      "\n",
      "\n",
      "Number of segments: 7\n",
      "\n",
      "\n",
      "Number of segments: 5\n",
      "\n",
      "\n",
      "Number of segments: 8\n",
      "\n",
      "\n",
      "Number of segments: 8\n",
      "\n",
      "\n",
      "Number of segments: 3\n",
      "\n",
      "\n",
      "Number of segments: 6\n",
      "\n",
      "\n",
      "Number of segments: 6\n",
      "\n",
      "\n",
      "Number of segments: 6\n",
      "\n",
      "\n",
      "Number of segments: 6\n",
      "\n",
      "\n",
      "Number of segments: 3\n",
      "\n",
      "\n",
      "Number of segments: 1\n",
      "\n",
      "\n",
      "Number of segments: 6\n",
      "\n",
      "\n",
      "Number of segments: 17\n",
      "\n",
      "\n",
      "Number of segments: 5\n",
      "\n",
      "\n",
      "Number of segments: 7\n",
      "\n",
      "\n",
      "Number of segments: 9\n",
      "\n",
      "\n",
      "Number of segments: 2\n",
      "\n",
      "\n",
      "Number of segments: 4\n",
      "\n",
      "\n",
      "Number of segments: 9\n",
      "\n",
      "\n",
      "Number of segments: 7\n",
      "\n",
      "\n",
      "Number of segments: 2\n",
      "\n",
      "\n",
      "Number of segments: 16\n",
      "\n",
      "\n",
      "Number of segments: 7\n",
      "\n",
      "\n",
      "Number of segments: 16\n",
      "\n",
      "\n",
      "Number of segments: 20\n",
      "\n",
      "\n",
      "Number of segments: 2\n",
      "\n",
      "\n",
      "Number of segments: 6\n",
      "\n",
      "\n",
      "Number of segments: 7\n",
      "\n",
      "\n",
      "Number of segments: 12\n",
      "\n",
      "\n",
      "Number of segments: 4\n",
      "\n",
      "\n",
      "Number of segments: 3\n",
      "\n",
      "\n",
      "Number of segments: 13\n",
      "\n",
      "\n",
      "Number of segments: 4\n",
      "\n",
      "\n",
      "Number of segments: 7\n",
      "\n",
      "\n",
      "Number of segments: 6\n",
      "\n",
      "\n",
      "Number of segments: 5\n",
      "\n",
      "\n",
      "Number of segments: 4\n",
      "\n",
      "\n",
      "Number of segments: 2\n",
      "\n",
      "\n",
      "Number of segments: 12\n",
      "\n",
      "\n",
      "Number of segments: 18\n",
      "\n",
      "\n",
      "Number of segments: 9\n",
      "\n",
      "\n",
      "Number of segments: 15\n",
      "\n",
      "\n",
      "Number of segments: 9\n",
      "\n",
      "\n",
      "Number of segments: 20\n",
      "\n",
      "\n",
      "Number of segments: 26\n",
      "\n",
      "\n",
      "Number of segments: 13\n",
      "\n",
      "\n",
      "Number of segments: 28\n",
      "\n",
      "\n",
      "Number of segments: 10\n",
      "\n",
      "\n",
      "Number of segments: 6\n",
      "\n",
      "\n",
      "Number of segments: 15\n",
      "\n",
      "\n",
      "Number of segments: 18\n",
      "\n",
      "\n",
      "Number of segments: 11\n",
      "\n",
      "\n",
      "Number of segments: 5\n",
      "\n",
      "\n",
      "Number of segments: 11\n",
      "\n",
      "\n",
      "Number of segments: 12\n",
      "\n",
      "\n",
      "Number of segments: 6\n",
      "\n",
      "\n",
      "Number of segments: 26\n",
      "\n",
      "\n",
      "Number of segments: 12\n",
      "\n",
      "\n",
      "Number of segments: 12\n",
      "\n",
      "\n",
      "Number of segments: 9\n",
      "\n",
      "\n",
      "Number of segments: 25\n",
      "\n",
      "\n",
      "Number of segments: 26\n",
      "\n",
      "\n",
      "Number of segments: 20\n",
      "\n",
      "\n",
      "Number of segments: 14\n",
      "\n",
      "\n",
      "Number of segments: 8\n",
      "\n",
      "\n",
      "Number of segments: 17\n",
      "\n",
      "\n",
      "Number of segments: 11\n",
      "\n",
      "\n",
      "Number of segments: 15\n",
      "\n",
      "\n",
      "Number of segments: 17\n",
      "\n"
     ]
    }
   ],
   "source": [
    "from neurd.vdi_microns import volume_data_interface as vdi\n",
    "vdi.set_parameters_for_directory_modules()\n",
    "\n",
    "neuron_obj_axon = npu.cell_type_ax_dendr_stage(\n",
    "    n1,\n",
    "    mesh_decimated = mesh_decimated,\n",
    "    plot_axon = False,\n",
    ")"
   ]
  },
  {
   "cell_type": "code",
   "execution_count": 77,
   "id": "ef29fb5b",
   "metadata": {},
   "outputs": [
    {
     "name": "stdout",
     "output_type": "stream",
     "text": [
      "\n",
      " Working on visualization type: mesh\n",
      "\n",
      " Working on visualization type: skeleton\n"
     ]
    },
    {
     "data": {
      "application/vnd.jupyter.widget-view+json": {
       "model_id": "92ac6f50a6e44a038c8cbf3ddedb92ef",
       "version_major": 2,
       "version_minor": 0
      },
      "text/plain": [
       "Container(figure=Figure(box_center=[0.5, 0.5, 0.5], box_size=[1.0, 1.0, 1.0], camera=PerspectiveCamera(fov=45.…"
      ]
     },
     "metadata": {},
     "output_type": "display_data"
    }
   ],
   "source": [
    "nviz.plot_axon(\n",
    "    neuron_obj_axon\n",
    ")"
   ]
  },
  {
   "cell_type": "markdown",
   "id": "e4359d09",
   "metadata": {},
   "source": [
    "# Autoproofreading Stage"
   ]
  },
  {
   "cell_type": "code",
   "execution_count": 185,
   "id": "458fa42f",
   "metadata": {
    "scrolled": true
   },
   "outputs": [
    {
     "name": "stdout",
     "output_type": "stream",
     "text": [
      "About to do syn_density stats\n",
      "syn_density_post = 0.8780864319672531\n",
      "syn_density_head = 0.3778650629367278\n",
      "syn_density_neck = 0.007197429770223387\n",
      "syn_density_shaft = 0.3958586373622862\n",
      "sk_length_synapse_density = 555753.946575272\n",
      "About to do spine_density stats\n",
      "postsyn_limb_branch = {'L0': array([0, 1, 3, 4, 5, 9]), 'L2': array([4]), 'L3': array([0]), 'L4': array([0])}\n",
      "sk_length = 525107.9917640581\n",
      "# of spines = 260\n",
      "Density = 0.49513624640628845\n",
      "spine_density = 0.49513624640628845 (multiplier = 1000)\n",
      "sk_length spine density = 525107.9917640581\n",
      "Done stats\n",
      "Not apply_hand_made_low_rules\n",
      "For model: LogisticRegression(class_weight={'excitatory': 1, 'inhibitory': 1.5}) \n",
      "with features: ['syn_density_shaft', 'spine_density']\n",
      "pred_class = excitatory, pred_class_label = excitatory\n",
      "Total time for e/i calculations = 0.07155132293701172\n",
      "baylor_e_i = excitatory\n",
      "\n",
      "*****Using v7 Filters!!!\n",
      "\n",
      "\n",
      "Current node skip distance was 1519.343930041573 but max skip distance was 1519.343930041573\n",
      "Current node skip distance was 1470.8325329718405 but max skip distance was 1470.8325329718405\n",
      "Current node skip distance was 1443.1357230722474 but max skip distance was 1443.1357230722474\n",
      "Current node skip distance was 1441.6399232600943 but max skip distance was 1441.6399232600943\n",
      "Current node skip distance was 1590.078422127474 but max skip distance was 1590.078422127474\n",
      "Current node skip distance was 1583.3676319054541 but max skip distance was 1590.078422127474\n",
      "branch_match_query = :\n",
      "(((width_diff < 75) or (width_diff_percentage < 0.6)) and (sk_angle < 65))and ((synapse_density_diff<0.00015) or (n_synapses_diff < 6))\n",
      "Done with edge_df: 0.00119781494140625\n",
      "Performing Edge Query\n",
      "After edge filter, # of rows = 3\n",
      "Exporting the edges\n",
      "Deleteing edges only\n",
      "\n",
      "--- Before Local Query ---\n",
      "   u  v  sk_angle  width_diff  width_diff_percentage  synapse_density_diff  \\\n",
      "0  1  3     18.23    7.006226               0.095976              0.000009   \n",
      "1  1  4     51.52   28.619013               0.392042              0.000194   \n",
      "2  1  5     38.18   27.008424               0.270062              0.000038   \n",
      "3  3  4    135.77   35.625240               0.539829              0.000185   \n",
      "4  3  5    124.09   34.014650               0.340119              0.000029   \n",
      "5  4  5     97.91    1.610590               0.016105              0.000155   \n",
      "\n",
      "   n_synapses_diff  \n",
      "0                0  \n",
      "1                2  \n",
      "2                1  \n",
      "3                2  \n",
      "4                1  \n",
      "5                1  \n",
      "Afer Local query: \n",
      "   u  v  sk_angle  width_diff  width_diff_percentage  synapse_density_diff  \\\n",
      "0  1  3     18.23    7.006226               0.095976              0.000009   \n",
      "1  1  4     51.52   28.619013               0.392042              0.000194   \n",
      "2  1  5     38.18   27.008424               0.270062              0.000038   \n",
      "\n",
      "   n_synapses_diff  \n",
      "0                0  \n",
      "1                2  \n",
      "2                1  \n"
     ]
    },
    {
     "data": {
      "image/png": "[encoded data removed]",
      "text/plain": [
       "<Figure size 640x480 with 1 Axes>"
      ]
     },
     "metadata": {},
     "output_type": "display_data"
    },
    {
     "name": "stdout",
     "output_type": "stream",
     "text": [
      "Performing global features query\n",
      "Done with edge_df: 0.0006356239318847656\n",
      "Performing Edge Query\n",
      "After edge filter, # of rows = 0\n",
      "Exporting the edges\n",
      "Deleteing edges only\n",
      "\n",
      "--- Before Global Query ---\n",
      "   u  v  sk_angle  width_diff  width_diff_percentage  synapse_density_diff  \\\n",
      "0  1  3     18.23    7.006226               0.095976              0.000009   \n",
      "1  1  4     51.52   28.619013               0.392042              0.000194   \n",
      "2  1  5     38.18   27.008424               0.270062              0.000038   \n",
      "\n",
      "   n_synapses_diff definite_partner_sk_delete definite_partner_width_delete  \n",
      "0                0                       None                          None  \n",
      "1                2                       None                          None  \n",
      "2                1                       None                          None  \n",
      "Afer Global query: \n",
      "   u  v  sk_angle  width_diff  width_diff_percentage  synapse_density_diff  \\\n",
      "0  1  3     18.23    7.006226               0.095976              0.000009   \n",
      "1  1  4     51.52   28.619013               0.392042              0.000194   \n",
      "2  1  5     38.18   27.008424               0.270062              0.000038   \n",
      "\n",
      "   n_synapses_diff definite_partner_sk_delete definite_partner_width_delete  \n",
      "0                0                       None                          None  \n",
      "1                2                       None                          None  \n",
      "2                1                       None                          None  \n"
     ]
    },
    {
     "data": {
      "image/png": "[encoded data removed]",
      "text/plain": [
       "<Figure size 640x480 with 1 Axes>"
      ]
     },
     "metadata": {},
     "output_type": "display_data"
    },
    {
     "name": "stdout",
     "output_type": "stream",
     "text": [
      "Performing node features query\n",
      "Done with edge_df: 0.0009584426879882812\n",
      "Performing Edge Query\n",
      "After edge filter, # of rows = 1\n",
      "Exporting the edges\n",
      "Deleteing edges only\n",
      "\n",
      "--- Before Node Query ---\n",
      "   u  v  sk_angle  width_diff  width_diff_percentage  synapse_density_diff  \\\n",
      "0  1  3     18.23    7.006226               0.095976              0.000009   \n",
      "1  1  4     51.52   28.619013               0.392042              0.000194   \n",
      "2  1  5     38.18   27.008424               0.270062              0.000038   \n",
      "\n",
      "   n_synapses_diff definite_partner_sk_delete definite_partner_width_delete  \\\n",
      "0                0                       None                          None   \n",
      "1                2                       None                          None   \n",
      "2                1                       None                          None   \n",
      "\n",
      "  above_threshold_delete  \n",
      "0                   None  \n",
      "1                   True  \n",
      "2                   None  \n",
      "Afer Node query: \n",
      "   u  v  sk_angle  width_diff  width_diff_percentage  synapse_density_diff  \\\n",
      "0  1  3     18.23    7.006226               0.095976              0.000009   \n",
      "1  1  5     38.18   27.008424               0.270062              0.000038   \n",
      "\n",
      "   n_synapses_diff definite_partner_sk_delete definite_partner_width_delete  \\\n",
      "0                0                       None                          None   \n",
      "1                1                       None                          None   \n",
      "\n",
      "  above_threshold_delete  \n",
      "0                   None  \n",
      "1                   None  \n"
     ]
    },
    {
     "data": {
      "image/png": "[encoded data removed]",
      "text/plain": [
       "<Figure size 640x480 with 1 Axes>"
      ]
     },
     "metadata": {},
     "output_type": "display_data"
    },
    {
     "name": "stdout",
     "output_type": "stream",
     "text": [
      "for upstream node 5, winning_node = None, error_branches = [1 3 4]\n",
      "Inside high_degree_false_positive_low_sibling_filter ****\n",
      "No winning branch so returning\n",
      "Current node skip distance was 1433.3560022556676 but max skip distance was 1433.3560022556676\n",
      "Current node skip distance was 1430.4806768165622 but max skip distance was 1430.4806768165622\n",
      "Current node skip distance was 1395.1715386565604 but max skip distance was 1395.1715386565604\n",
      "Current node skip distance was 1746.63661976179 but max skip distance was 1746.63661976179\n",
      "Current node skip distance was 1466.6820609466095 but max skip distance was 1466.6820609466095\n",
      "Current node skip distance was 1419.1567072051882 but max skip distance was 1923.9180300989\n",
      "Current node skip distance was 1419.1157734842918 but max skip distance was 1419.1157734842918\n",
      "Current node skip distance was 1386.0051763815936 but max skip distance was 1386.0051763815936\n",
      "Current node skip distance was 1545.595763467836 but max skip distance was 1652.1261265923345\n",
      "Current node skip distance was 1531.322283084673 but max skip distance was 1746.63661976179\n",
      "Current node skip distance was 1498.3993981456397 but max skip distance was 1971.4937691930365\n",
      "Current node skip distance was 1606.4829364930304 but max skip distance was 1611.6505289229938\n",
      "branch_match_query = :\n",
      "(((width_diff < 75) or (width_diff_percentage < 0.6)) and (sk_angle < 65))and ((synapse_density_diff<0.00015) or (n_synapses_diff < 6))\n",
      "Done with edge_df: 0.0012316703796386719\n",
      "Performing Edge Query\n",
      "After edge filter, # of rows = 10\n",
      "Exporting the edges\n",
      "Deleteing edges only\n",
      "\n",
      "--- Before Local Query ---\n",
      "     u   v  sk_angle  width_diff  width_diff_percentage  synapse_density_diff  \\\n",
      "0   12  21     52.72   30.497361               0.503277                   0.0   \n",
      "1   12  23     57.20    1.161105               0.019161                   0.0   \n",
      "2   12  26    112.10   46.198517               0.762382                   0.0   \n",
      "3   12  29     34.74   10.451040               0.172466                   0.0   \n",
      "4   12  20     71.87   44.958295               0.425919                   0.0   \n",
      "5   21  23    144.68   29.336256               0.322040                   0.0   \n",
      "6   21  26     87.25   15.701156               0.172360                   0.0   \n",
      "7   21  29    102.91   20.046321               0.220060                   0.0   \n",
      "8   21  20     79.57   14.460934               0.136998                   0.0   \n",
      "9   23  26    116.84   45.037413               0.729248                   0.0   \n",
      "10  23  29    119.66    9.289935               0.150423                   0.0   \n",
      "11  23  20     53.63   43.797190               0.414919                   0.0   \n",
      "12  26  29     91.18   35.747478               0.334726                   0.0   \n",
      "13  26  20     14.73    1.240222               0.011749                   0.0   \n",
      "14  29  20     92.26   34.507255               0.326910                   0.0   \n",
      "\n",
      "    n_synapses_diff  \n",
      "0                 0  \n",
      "1                 0  \n",
      "2                 0  \n",
      "3                 0  \n",
      "4                 0  \n",
      "5                 0  \n",
      "6                 0  \n",
      "7                 0  \n",
      "8                 0  \n",
      "9                 0  \n",
      "10                0  \n",
      "11                0  \n",
      "12                0  \n",
      "13                0  \n",
      "14                0  \n",
      "Afer Local query: \n",
      "    u   v  sk_angle  width_diff  width_diff_percentage  synapse_density_diff  \\\n",
      "0  12  21     52.72   30.497361               0.503277                   0.0   \n",
      "1  12  23     57.20    1.161105               0.019161                   0.0   \n",
      "2  12  29     34.74   10.451040               0.172466                   0.0   \n",
      "3  23  20     53.63   43.797190               0.414919                   0.0   \n",
      "4  26  20     14.73    1.240222               0.011749                   0.0   \n",
      "\n",
      "   n_synapses_diff  \n",
      "0                0  \n",
      "1                0  \n",
      "2                0  \n",
      "3                0  \n",
      "4                0  \n"
     ]
    },
    {
     "data": {
      "image/png": "[encoded data removed]",
      "text/plain": [
       "<Figure size 640x480 with 1 Axes>"
      ]
     },
     "metadata": {},
     "output_type": "display_data"
    },
    {
     "name": "stdout",
     "output_type": "stream",
     "text": [
      "Performing global features query\n",
      "Done with edge_df: 0.0006215572357177734\n",
      "Performing Edge Query\n",
      "After edge filter, # of rows = 1\n",
      "Exporting the edges\n",
      "Deleteing edges only\n",
      "\n",
      "--- Before Global Query ---\n",
      "    u   v  sk_angle  width_diff  width_diff_percentage  synapse_density_diff  \\\n",
      "0  12  21     52.72   30.497361               0.503277                   0.0   \n",
      "1  12  23     57.20    1.161105               0.019161                   0.0   \n",
      "2  12  29     34.74   10.451040               0.172466                   0.0   \n",
      "3  23  20     53.63   43.797190               0.414919                   0.0   \n",
      "4  26  20     14.73    1.240222               0.011749                   0.0   \n",
      "\n",
      "   n_synapses_diff definite_partner_sk_delete definite_partner_width_delete  \n",
      "0                0                       None                          None  \n",
      "1                0                       None                          None  \n",
      "2                0                       None                          None  \n",
      "3                0                       True                          True  \n",
      "4                0                      False                         False  \n",
      "Afer Global query: \n",
      "    u   v  sk_angle  width_diff  width_diff_percentage  synapse_density_diff  \\\n",
      "0  12  21     52.72   30.497361               0.503277                   0.0   \n",
      "1  12  23     57.20    1.161105               0.019161                   0.0   \n",
      "2  12  29     34.74   10.451040               0.172466                   0.0   \n",
      "3  26  20     14.73    1.240222               0.011749                   0.0   \n",
      "\n",
      "   n_synapses_diff definite_partner_sk_delete definite_partner_width_delete  \n",
      "0                0                       None                          None  \n",
      "1                0                       None                          None  \n",
      "2                0                       None                          None  \n",
      "3                0                      False                         False  \n"
     ]
    },
    {
     "data": {
      "image/png": "[encoded data removed]",
      "text/plain": [
       "<Figure size 640x480 with 1 Axes>"
      ]
     },
     "metadata": {},
     "output_type": "display_data"
    },
    {
     "name": "stdout",
     "output_type": "stream",
     "text": [
      "Performing node features query\n",
      "Done with edge_df: 0.0007996559143066406\n",
      "Performing Edge Query\n",
      "After edge filter, # of rows = 2\n",
      "Exporting the edges\n",
      "Deleteing edges only\n",
      "\n",
      "--- Before Node Query ---\n",
      "    u   v  sk_angle  width_diff  width_diff_percentage  synapse_density_diff  \\\n",
      "0  12  21     52.72   30.497361               0.503277                   0.0   \n",
      "1  12  23     57.20    1.161105               0.019161                   0.0   \n",
      "2  12  29     34.74   10.451040               0.172466                   0.0   \n",
      "3  26  20     14.73    1.240222               0.011749                   0.0   \n",
      "\n",
      "   n_synapses_diff definite_partner_sk_delete definite_partner_width_delete  \\\n",
      "0                0                       None                          None   \n",
      "1                0                       None                          None   \n",
      "2                0                       None                          None   \n",
      "3                0                      False                         False   \n",
      "\n",
      "  above_threshold_delete  \n",
      "0                   True  \n",
      "1                   True  \n",
      "2                   None  \n",
      "3                   None  \n",
      "Afer Node query: \n",
      "    u   v  sk_angle  width_diff  width_diff_percentage  synapse_density_diff  \\\n",
      "0  12  29     34.74   10.451040               0.172466                   0.0   \n",
      "1  26  20     14.73    1.240222               0.011749                   0.0   \n",
      "\n",
      "   n_synapses_diff definite_partner_sk_delete definite_partner_width_delete  \\\n",
      "0                0                       None                          None   \n",
      "1                0                      False                         False   \n",
      "\n",
      "  above_threshold_delete  \n",
      "0                   None  \n",
      "1                   None  \n"
     ]
    },
    {
     "data": {
      "image/png": "[encoded data removed]",
      "text/plain": [
       "<Figure size 640x480 with 1 Axes>"
      ]
     },
     "metadata": {},
     "output_type": "display_data"
    },
    {
     "name": "stdout",
     "output_type": "stream",
     "text": [
      "for upstream node 20, winning_node = 26, error_branches = [12 21 23 29]\n",
      "Inside high_degree_false_positive_low_sibling_filter ****\n",
      "Not exactly 2 downstream errors so returning\n",
      "Current node skip distance was 1546.2290435708915 but max skip distance was 1546.2290435708915\n",
      "Current node skip distance was 1489.1567938332191 but max skip distance was 1489.1567938332191\n",
      "Current node skip distance was 1423.9946428663225 but max skip distance was 1423.9946428663225\n",
      "Current node skip distance was 1809.0584379151333 but max skip distance was 1850.2864660348337\n",
      "Current node skip distance was 1850.2864660348337 but max skip distance was 1850.2864660348337\n",
      "Current node skip distance was 1611.6505289229938 but max skip distance was 1611.6505289229938\n",
      "Current node skip distance was 1551.6937888199488 but max skip distance was 1551.6937888199488\n",
      "Current node skip distance was 1719.0736127242612 but max skip distance was 1809.0584379151333\n",
      "branch_match_query = :\n",
      "(((width_diff < 75) or (width_diff_percentage < 0.6)) and (sk_angle < 65))and ((synapse_density_diff<0.00015) or (n_synapses_diff < 6))\n",
      "Done with edge_df: 0.0008499622344970703\n",
      "Performing Edge Query\n",
      "After edge filter, # of rows = 6\n",
      "Exporting the edges\n",
      "Deleteing edges only\n",
      "\n",
      "--- Before Local Query ---\n",
      "    u   v  sk_angle  width_diff  width_diff_percentage  synapse_density_diff  \\\n",
      "0  13  20     20.72   44.968119               0.742198                   0.0   \n",
      "1  13  22    134.09   16.809845               0.277446                   0.0   \n",
      "2  13  25     97.53  103.480966               1.707951                   0.0   \n",
      "3  13  28    158.80   71.989881               0.543002                   0.0   \n",
      "4  20  22     27.54   28.158274               0.266762                   0.0   \n",
      "5  20  25     63.33   58.512847               0.554330                   0.0   \n",
      "6  20  28     13.50   27.021762               0.203818                   0.0   \n",
      "7  22  25    143.43   86.671121               1.119816                   0.0   \n",
      "8  22  28    141.07   55.180037               0.416209                   0.0   \n",
      "9  25  28    107.57   31.491085               0.237529                   0.0   \n",
      "\n",
      "   n_synapses_diff  \n",
      "0                0  \n",
      "1                0  \n",
      "2                0  \n",
      "3                0  \n",
      "4                0  \n",
      "5                0  \n",
      "6                0  \n",
      "7                0  \n",
      "8                0  \n",
      "9                0  \n",
      "Afer Local query: \n",
      "    u   v  sk_angle  width_diff  width_diff_percentage  synapse_density_diff  \\\n",
      "0  13  20     20.72   44.968119               0.742198                   0.0   \n",
      "1  20  22     27.54   28.158274               0.266762                   0.0   \n",
      "2  20  25     63.33   58.512847               0.554330                   0.0   \n",
      "3  20  28     13.50   27.021762               0.203818                   0.0   \n",
      "\n",
      "   n_synapses_diff  \n",
      "0                0  \n",
      "1                0  \n",
      "2                0  \n",
      "3                0  \n"
     ]
    },
    {
     "data": {
      "image/png": "[encoded data removed]",
      "text/plain": [
       "<Figure size 640x480 with 1 Axes>"
      ]
     },
     "metadata": {},
     "output_type": "display_data"
    },
    {
     "name": "stdout",
     "output_type": "stream",
     "text": [
      "Performing global features query\n",
      "Done with edge_df: 0.0008623600006103516\n",
      "Performing Edge Query\n",
      "After edge filter, # of rows = 0\n",
      "Exporting the edges\n",
      "Deleteing edges only\n",
      "\n",
      "--- Before Global Query ---\n",
      "    u   v  sk_angle  width_diff  width_diff_percentage  synapse_density_diff  \\\n",
      "0  13  20     20.72   44.968119               0.742198                   0.0   \n",
      "1  20  22     27.54   28.158274               0.266762                   0.0   \n",
      "2  20  25     63.33   58.512847               0.554330                   0.0   \n",
      "3  20  28     13.50   27.021762               0.203818                   0.0   \n",
      "\n",
      "   n_synapses_diff definite_partner_sk_delete definite_partner_width_delete  \n",
      "0                0                       None                          None  \n",
      "1                0                       None                          None  \n",
      "2                0                       None                          None  \n",
      "3                0                       None                          None  \n",
      "Afer Global query: \n",
      "    u   v  sk_angle  width_diff  width_diff_percentage  synapse_density_diff  \\\n",
      "0  13  20     20.72   44.968119               0.742198                   0.0   \n",
      "1  20  22     27.54   28.158274               0.266762                   0.0   \n",
      "2  20  25     63.33   58.512847               0.554330                   0.0   \n",
      "3  20  28     13.50   27.021762               0.203818                   0.0   \n",
      "\n",
      "   n_synapses_diff definite_partner_sk_delete definite_partner_width_delete  \n",
      "0                0                       None                          None  \n",
      "1                0                       None                          None  \n",
      "2                0                       None                          None  \n",
      "3                0                       None                          None  \n"
     ]
    },
    {
     "data": {
      "image/png": "[encoded data removed]",
      "text/plain": [
       "<Figure size 640x480 with 1 Axes>"
      ]
     },
     "metadata": {},
     "output_type": "display_data"
    },
    {
     "name": "stdout",
     "output_type": "stream",
     "text": [
      "Performing node features query\n",
      "Done with edge_df: 0.0007410049438476562\n",
      "Performing Edge Query\n",
      "After edge filter, # of rows = 1\n",
      "Exporting the edges\n",
      "Deleteing edges only\n",
      "\n",
      "--- Before Node Query ---\n",
      "    u   v  sk_angle  width_diff  width_diff_percentage  synapse_density_diff  \\\n",
      "0  13  20     20.72   44.968119               0.742198                   0.0   \n",
      "1  20  22     27.54   28.158274               0.266762                   0.0   \n",
      "2  20  25     63.33   58.512847               0.554330                   0.0   \n",
      "3  20  28     13.50   27.021762               0.203818                   0.0   \n",
      "\n",
      "   n_synapses_diff definite_partner_sk_delete definite_partner_width_delete  \\\n",
      "0                0                       None                          None   \n",
      "1                0                       None                          None   \n",
      "2                0                       None                          None   \n",
      "3                0                       None                          None   \n",
      "\n",
      "  above_threshold_delete  \n",
      "0                   None  \n",
      "1                   None  \n",
      "2                   True  \n",
      "3                   None  \n",
      "Afer Node query: \n",
      "    u   v  sk_angle  width_diff  width_diff_percentage  synapse_density_diff  \\\n",
      "0  13  20     20.72   44.968119               0.742198                   0.0   \n",
      "1  20  22     27.54   28.158274               0.266762                   0.0   \n",
      "2  20  28     13.50   27.021762               0.203818                   0.0   \n",
      "\n",
      "   n_synapses_diff definite_partner_sk_delete definite_partner_width_delete  \\\n",
      "0                0                       None                          None   \n",
      "1                0                       None                          None   \n",
      "2                0                       None                          None   \n",
      "\n",
      "  above_threshold_delete  \n",
      "0                   None  \n",
      "1                   None  \n",
      "2                   None  \n"
     ]
    },
    {
     "data": {
      "image/png": "[encoded data removed]",
      "text/plain": [
       "<Figure size 640x480 with 1 Axes>"
      ]
     },
     "metadata": {},
     "output_type": "display_data"
    },
    {
     "name": "stdout",
     "output_type": "stream",
     "text": [
      "for upstream node 28, winning_node = None, error_branches = [13 20 22 25]\n",
      "Inside high_degree_false_positive_low_sibling_filter ****\n",
      "No winning branch so returning\n",
      "Current node skip distance was 1462.702705562729 but max skip distance was 1462.702705562729\n",
      "Current node skip distance was 1826.2385344561253 but max skip distance was 1826.2385344561253\n",
      "branch_match_query = :\n",
      "(((width_diff < 75) or (width_diff_percentage < 0.6)) and (sk_angle < 65))and ((synapse_density_diff<0.00015) or (n_synapses_diff < 6))\n",
      "Done with edge_df: 0.0008018016815185547\n",
      "Performing Edge Query\n",
      "After edge filter, # of rows = 3\n",
      "Exporting the edges\n",
      "Deleteing edges only\n",
      "\n",
      "--- Before Local Query ---\n",
      "    u   v  sk_angle  width_diff  width_diff_percentage  synapse_density_diff  \\\n",
      "0  10  16     20.86   48.249806               0.346640              0.000082   \n",
      "1  10  28     47.78    6.615122               0.047525              0.000000   \n",
      "2  10  30     91.23   19.104460               0.120687              0.000000   \n",
      "3  16  28    118.35   41.634684               0.457811              0.000082   \n",
      "4  16  30    105.00   67.354265               0.425492              0.000082   \n",
      "5  28  30     43.46   25.719581               0.162476              0.000000   \n",
      "\n",
      "   n_synapses_diff  \n",
      "0                9  \n",
      "1                0  \n",
      "2                0  \n",
      "3                9  \n",
      "4                9  \n",
      "5                0  \n",
      "Afer Local query: \n",
      "    u   v  sk_angle  width_diff  width_diff_percentage  synapse_density_diff  \\\n",
      "0  10  16     20.86   48.249806               0.346640              0.000082   \n",
      "1  10  28     47.78    6.615122               0.047525              0.000000   \n",
      "2  28  30     43.46   25.719581               0.162476              0.000000   \n",
      "\n",
      "   n_synapses_diff  \n",
      "0                9  \n",
      "1                0  \n",
      "2                0  \n"
     ]
    },
    {
     "data": {
      "image/png": "[encoded data removed]",
      "text/plain": [
       "<Figure size 640x480 with 1 Axes>"
      ]
     },
     "metadata": {},
     "output_type": "display_data"
    },
    {
     "name": "stdout",
     "output_type": "stream",
     "text": [
      "Performing global features query\n",
      "Done with edge_df: 0.0005822181701660156\n",
      "Performing Edge Query\n",
      "After edge filter, # of rows = 1\n",
      "Exporting the edges\n",
      "Deleteing edges only\n",
      "\n",
      "--- Before Global Query ---\n",
      "    u   v  sk_angle  width_diff  width_diff_percentage  synapse_density_diff  \\\n",
      "0  10  16     20.86   48.249806               0.346640              0.000082   \n",
      "1  10  28     47.78    6.615122               0.047525              0.000000   \n",
      "2  28  30     43.46   25.719581               0.162476              0.000000   \n",
      "\n",
      "   n_synapses_diff definite_partner_sk_delete definite_partner_width_delete  \n",
      "0                9                      False                          None  \n",
      "1                0                       True                          None  \n",
      "2                0                       None                          None  \n",
      "Afer Global query: \n",
      "    u   v  sk_angle  width_diff  width_diff_percentage  synapse_density_diff  \\\n",
      "0  10  16     20.86   48.249806               0.346640              0.000082   \n",
      "1  28  30     43.46   25.719581               0.162476              0.000000   \n",
      "\n",
      "   n_synapses_diff definite_partner_sk_delete definite_partner_width_delete  \n",
      "0                9                      False                          None  \n",
      "1                0                       None                          None  \n"
     ]
    },
    {
     "data": {
      "image/png": "[encoded data removed]",
      "text/plain": [
       "<Figure size 640x480 with 1 Axes>"
      ]
     },
     "metadata": {},
     "output_type": "display_data"
    },
    {
     "name": "stdout",
     "output_type": "stream",
     "text": [
      "Performing node features query\n",
      "Done with edge_df: 0.0006873607635498047\n",
      "Performing Edge Query\n",
      "After edge filter, # of rows = 0\n",
      "Exporting the edges\n",
      "Deleteing edges only\n",
      "\n",
      "--- Before Node Query ---\n",
      "    u   v  sk_angle  width_diff  width_diff_percentage  synapse_density_diff  \\\n",
      "0  10  16     20.86   48.249806               0.346640              0.000082   \n",
      "1  28  30     43.46   25.719581               0.162476              0.000000   \n",
      "\n",
      "   n_synapses_diff definite_partner_sk_delete definite_partner_width_delete  \\\n",
      "0                9                      False                          None   \n",
      "1                0                       None                          None   \n",
      "\n",
      "  above_threshold_delete  \n",
      "0                   None  \n",
      "1                   None  \n",
      "Afer Node query: \n",
      "    u   v  sk_angle  width_diff  width_diff_percentage  synapse_density_diff  \\\n",
      "0  10  16     20.86   48.249806               0.346640              0.000082   \n",
      "1  28  30     43.46   25.719581               0.162476              0.000000   \n",
      "\n",
      "   n_synapses_diff definite_partner_sk_delete definite_partner_width_delete  \\\n",
      "0                9                      False                          None   \n",
      "1                0                       None                          None   \n",
      "\n",
      "  above_threshold_delete  \n",
      "0                   None  \n",
      "1                   None  \n"
     ]
    },
    {
     "data": {
      "image/png": "[encoded data removed]",
      "text/plain": [
       "<Figure size 640x480 with 1 Axes>"
      ]
     },
     "metadata": {},
     "output_type": "display_data"
    },
    {
     "name": "stdout",
     "output_type": "stream",
     "text": [
      "for upstream node 30, winning_node = 28, error_branches = [10 16]\n",
      "Inside high_degree_false_positive_low_sibling_filter ****\n",
      "Upstream width (132.57766705382286) less than width_min(250)\n",
      "Current node skip distance was 1502.8179992499754 but max skip distance was 1502.8179992499754\n",
      "Current node skip distance was 1523.7884501972999 but max skip distance was 1531.943190281531\n",
      "Current node skip distance was 1608.7992850545759 but max skip distance was 1826.2385344561253\n",
      "branch_match_query = :\n",
      "(((width_diff < 75) or (width_diff_percentage < 0.6)) and (sk_angle < 65))and ((synapse_density_diff<0.00015) or (n_synapses_diff < 6))\n",
      "Done with edge_df: 0.0007669925689697266\n",
      "Performing Edge Query\n",
      "After edge filter, # of rows = 3\n",
      "Exporting the edges\n",
      "Deleteing edges only\n",
      "\n",
      "--- Before Local Query ---\n",
      "    u   v  sk_angle  width_diff  width_diff_percentage  synapse_density_diff  \\\n",
      "0  27  30     77.08   65.890739               0.713053                   0.0   \n",
      "1  27  32     25.52    6.697281               0.072476                   0.0   \n",
      "2  27  33    144.95   13.705319               0.129159                   0.0   \n",
      "3  30  32    119.91   72.588020               0.458555                   0.0   \n",
      "4  30  33     47.52   52.185420               0.491796                   0.0   \n",
      "5  32  33     12.61   20.402600               0.192275                   0.0   \n",
      "\n",
      "   n_synapses_diff  \n",
      "0                0  \n",
      "1                0  \n",
      "2                0  \n",
      "3                0  \n",
      "4                0  \n",
      "5                0  \n",
      "Afer Local query: \n",
      "    u   v  sk_angle  width_diff  width_diff_percentage  synapse_density_diff  \\\n",
      "0  27  32     25.52    6.697281               0.072476                   0.0   \n",
      "1  30  33     47.52   52.185420               0.491796                   0.0   \n",
      "2  32  33     12.61   20.402600               0.192275                   0.0   \n",
      "\n",
      "   n_synapses_diff  \n",
      "0                0  \n",
      "1                0  \n",
      "2                0  \n"
     ]
    },
    {
     "data": {
      "image/png": "[encoded data removed]",
      "text/plain": [
       "<Figure size 640x480 with 1 Axes>"
      ]
     },
     "metadata": {},
     "output_type": "display_data"
    },
    {
     "name": "stdout",
     "output_type": "stream",
     "text": [
      "Performing global features query\n",
      "Done with edge_df: 0.0005862712860107422\n",
      "Performing Edge Query\n",
      "After edge filter, # of rows = 0\n",
      "Exporting the edges\n",
      "Deleteing edges only\n",
      "\n",
      "--- Before Global Query ---\n",
      "    u   v  sk_angle  width_diff  width_diff_percentage  synapse_density_diff  \\\n",
      "0  27  32     25.52    6.697281               0.072476                   0.0   \n",
      "1  30  33     47.52   52.185420               0.491796                   0.0   \n",
      "2  32  33     12.61   20.402600               0.192275                   0.0   \n",
      "\n",
      "   n_synapses_diff definite_partner_sk_delete definite_partner_width_delete  \n",
      "0                0                       None                          None  \n",
      "1                0                       None                          None  \n",
      "2                0                       None                          None  \n",
      "Afer Global query: \n",
      "    u   v  sk_angle  width_diff  width_diff_percentage  synapse_density_diff  \\\n",
      "0  27  32     25.52    6.697281               0.072476                   0.0   \n",
      "1  30  33     47.52   52.185420               0.491796                   0.0   \n",
      "2  32  33     12.61   20.402600               0.192275                   0.0   \n",
      "\n",
      "   n_synapses_diff definite_partner_sk_delete definite_partner_width_delete  \n",
      "0                0                       None                          None  \n",
      "1                0                       None                          None  \n",
      "2                0                       None                          None  \n"
     ]
    },
    {
     "data": {
      "image/png": "[encoded data removed]",
      "text/plain": [
       "<Figure size 640x480 with 1 Axes>"
      ]
     },
     "metadata": {},
     "output_type": "display_data"
    },
    {
     "name": "stdout",
     "output_type": "stream",
     "text": [
      "Performing node features query\n",
      "Done with edge_df: 0.0005924701690673828\n",
      "Performing Edge Query\n",
      "After edge filter, # of rows = 1\n",
      "Exporting the edges\n",
      "Deleteing edges only\n",
      "\n",
      "--- Before Node Query ---\n",
      "    u   v  sk_angle  width_diff  width_diff_percentage  synapse_density_diff  \\\n",
      "0  27  32     25.52    6.697281               0.072476                   0.0   \n",
      "1  30  33     47.52   52.185420               0.491796                   0.0   \n",
      "2  32  33     12.61   20.402600               0.192275                   0.0   \n",
      "\n",
      "   n_synapses_diff definite_partner_sk_delete definite_partner_width_delete  \\\n",
      "0                0                       None                          None   \n",
      "1                0                       None                          None   \n",
      "2                0                       None                          None   \n",
      "\n",
      "  above_threshold_delete  \n",
      "0                   None  \n",
      "1                   True  \n",
      "2                   None  \n",
      "Afer Node query: \n",
      "    u   v  sk_angle  width_diff  width_diff_percentage  synapse_density_diff  \\\n",
      "0  27  32     25.52    6.697281               0.072476                   0.0   \n",
      "1  32  33     12.61   20.402600               0.192275                   0.0   \n",
      "\n",
      "   n_synapses_diff definite_partner_sk_delete definite_partner_width_delete  \\\n",
      "0                0                       None                          None   \n",
      "1                0                       None                          None   \n",
      "\n",
      "  above_threshold_delete  \n",
      "0                   None  \n",
      "1                   None  \n"
     ]
    },
    {
     "data": {
      "image/png": "[encoded data removed]",
      "text/plain": [
       "<Figure size 640x480 with 1 Axes>"
      ]
     },
     "metadata": {},
     "output_type": "display_data"
    },
    {
     "name": "stdout",
     "output_type": "stream",
     "text": [
      "for upstream node 33, winning_node = None, error_branches = [27 30 32]\n",
      "Inside high_degree_false_positive_low_sibling_filter ****\n",
      "No winning branch so returning\n",
      "Current node skip distance was 1744.659214242252 but max skip distance was 1744.659214242252\n",
      "Current node skip distance was 1531.943190281531 but max skip distance was 1531.943190281531\n",
      "Current node skip distance was 1444.8699834408342 but max skip distance was 1608.7992850545759\n",
      "Current node skip distance was 1430.495890861237 but max skip distance was 1676.6593961423819\n",
      "Current node skip distance was 1488.2050338527479 but max skip distance was 1488.2050338527479\n",
      "Current node skip distance was 1438.787336903817 but max skip distance was 1438.787336903817\n",
      "Current node skip distance was 1701.1800011959722 but max skip distance was 1744.659214242252\n",
      "Current node skip distance was 1459.4197789215646 but max skip distance was 2141.3451010899726\n",
      "Current node skip distance was 1903.2530417833777 but max skip distance was 1903.2530417833777\n",
      "Current node skip distance was 2001.7503160694682 but max skip distance was 2001.7503160694682\n",
      "branch_match_query = :\n",
      "(((width_diff < 75) or (width_diff_percentage < 0.6)) and (sk_angle < 65))and ((synapse_density_diff<0.00015) or (n_synapses_diff < 6))\n",
      "Done with edge_df: 0.0009319782257080078\n",
      "Performing Edge Query\n",
      "After edge filter, # of rows = 4\n",
      "Exporting the edges\n",
      "Deleteing edges only\n",
      "\n",
      "--- Before Local Query ---\n",
      "    u   v  sk_angle  width_diff  width_diff_percentage  synapse_density_diff  \\\n",
      "0  39  45    116.24   99.611522               1.290820                   0.0   \n",
      "1  39  47     12.03    4.310532               0.055858                   0.0   \n",
      "2  39  46     70.68  123.250868               0.614963                   0.0   \n",
      "3  45  47     74.03   95.300990               0.539092                   0.0   \n",
      "4  45  46     17.97   23.639346               0.117949                   0.0   \n",
      "5  47  46     97.66  118.940336               0.593455                   0.0   \n",
      "\n",
      "   n_synapses_diff  \n",
      "0                0  \n",
      "1                0  \n",
      "2                0  \n",
      "3                0  \n",
      "4                0  \n",
      "5                0  \n",
      "Afer Local query: \n",
      "    u   v  sk_angle  width_diff  width_diff_percentage  synapse_density_diff  \\\n",
      "0  39  47     12.03    4.310532               0.055858                   0.0   \n",
      "1  45  46     17.97   23.639346               0.117949                   0.0   \n",
      "\n",
      "   n_synapses_diff  \n",
      "0                0  \n",
      "1                0  \n"
     ]
    },
    {
     "data": {
      "image/png": "[encoded data removed]",
      "text/plain": [
       "<Figure size 640x480 with 1 Axes>"
      ]
     },
     "metadata": {},
     "output_type": "display_data"
    },
    {
     "name": "stdout",
     "output_type": "stream",
     "text": [
      "Performing global features query\n",
      "Done with edge_df: 0.0007522106170654297\n",
      "Performing Edge Query\n",
      "After edge filter, # of rows = 0\n",
      "Exporting the edges\n",
      "Deleteing edges only\n",
      "\n",
      "--- Before Global Query ---\n",
      "    u   v  sk_angle  width_diff  width_diff_percentage  synapse_density_diff  \\\n",
      "0  39  47     12.03    4.310532               0.055858                   0.0   \n",
      "1  45  46     17.97   23.639346               0.117949                   0.0   \n",
      "\n",
      "   n_synapses_diff  definite_partner_sk_delete  definite_partner_width_delete  \n",
      "0                0                       False                          False  \n",
      "1                0                       False                          False  \n",
      "Afer Global query: \n",
      "    u   v  sk_angle  width_diff  width_diff_percentage  synapse_density_diff  \\\n",
      "0  39  47     12.03    4.310532               0.055858                   0.0   \n",
      "1  45  46     17.97   23.639346               0.117949                   0.0   \n",
      "\n",
      "   n_synapses_diff  definite_partner_sk_delete  definite_partner_width_delete  \n",
      "0                0                       False                          False  \n",
      "1                0                       False                          False  \n"
     ]
    },
    {
     "data": {
      "image/png": "[encoded data removed]",
      "text/plain": [
       "<Figure size 640x480 with 1 Axes>"
      ]
     },
     "metadata": {},
     "output_type": "display_data"
    },
    {
     "name": "stdout",
     "output_type": "stream",
     "text": [
      "Performing node features query\n",
      "Done with edge_df: 0.0005929470062255859\n",
      "Performing Edge Query\n",
      "After edge filter, # of rows = 0\n",
      "Exporting the edges\n",
      "Deleteing edges only\n",
      "\n",
      "--- Before Node Query ---\n",
      "    u   v  sk_angle  width_diff  width_diff_percentage  synapse_density_diff  \\\n",
      "0  39  47     12.03    4.310532               0.055858                   0.0   \n",
      "1  45  46     17.97   23.639346               0.117949                   0.0   \n",
      "\n",
      "   n_synapses_diff  definite_partner_sk_delete  definite_partner_width_delete  \\\n",
      "0                0                       False                          False   \n",
      "1                0                       False                          False   \n",
      "\n",
      "  above_threshold_delete  \n",
      "0                   None  \n",
      "1                   None  \n",
      "Afer Node query: \n",
      "    u   v  sk_angle  width_diff  width_diff_percentage  synapse_density_diff  \\\n",
      "0  39  47     12.03    4.310532               0.055858                   0.0   \n",
      "1  45  46     17.97   23.639346               0.117949                   0.0   \n",
      "\n",
      "   n_synapses_diff  definite_partner_sk_delete  definite_partner_width_delete  \\\n",
      "0                0                       False                          False   \n",
      "1                0                       False                          False   \n",
      "\n",
      "  above_threshold_delete  \n",
      "0                   None  \n",
      "1                   None  \n"
     ]
    },
    {
     "data": {
      "image/png": "[encoded data removed]",
      "text/plain": [
       "<Figure size 640x480 with 1 Axes>"
      ]
     },
     "metadata": {},
     "output_type": "display_data"
    },
    {
     "name": "stdout",
     "output_type": "stream",
     "text": [
      "for upstream node 46, winning_node = 45, error_branches = [39 47]\n",
      "Inside high_degree_false_positive_low_sibling_filter ****\n",
      "Upstream width (176.78073002801082) less than width_min(250)\n",
      "Current node skip distance was 1506.165582874341 but max skip distance was 1506.165582874341\n",
      "Current node skip distance was 1450.4508458210582 but max skip distance was 1450.4508458210582\n",
      "Current node skip distance was 2014.7403094353122 but max skip distance was 2014.7403094353122\n",
      "Current node skip distance was 1874.4952927129884 but max skip distance was 2014.7403094353122\n",
      "Current node skip distance was 1915.3718706738891 but max skip distance was 2052.567859111655\n",
      "Current node skip distance was 1445.777336920075 but max skip distance was 1468.5371695391739\n",
      "Current node skip distance was 1494.8142487134844 but max skip distance was 1494.8142487134844\n",
      "Current node skip distance was 1386.5517768828443 but max skip distance was 1386.5517768828443\n",
      "Current node skip distance was 1468.5371695391739 but max skip distance was 1468.5371695391739\n",
      "Current node skip distance was 1467.5843532286704 but max skip distance was 1467.5843532286704\n",
      "Current node skip distance was 1413.4261117223807 but max skip distance was 1625.8969478334047\n",
      "Current node skip distance was 1452.9413618462172 but max skip distance was 1452.9413618462172\n",
      "Current node skip distance was 1625.8969478334047 but max skip distance was 1625.8969478334047\n",
      "Current node skip distance was 1652.1261265923345 but max skip distance was 1652.1261265923345\n",
      "Current node skip distance was 1524.4411781294457 but max skip distance was 1524.4411781294457\n",
      "Current node skip distance was 1537.1708380607677 but max skip distance was 1537.1708380607677\n",
      "Current node skip distance was 1612.1763238697054 but max skip distance was 1612.1763238697054\n",
      "Current node skip distance was 1487.5334263472798 but max skip distance was 1487.5334263472798\n",
      "Current node skip distance was 1371.280434179415 but max skip distance was 1478.703064516917\n",
      "Current node skip distance was 1424.9218766014635 but max skip distance was 2096.074228551554\n",
      "Current node skip distance was 1478.703064516917 but max skip distance was 1478.703064516917\n",
      "Current node skip distance was 1528.0046849802366 but max skip distance was 1528.0046849802366\n",
      "Current node skip distance was 1362.1728053872455 but max skip distance was 1362.1728053872455\n",
      "Current node skip distance was 1514.1344501452731 but max skip distance was 1514.1344501452731\n",
      "limb_branch_dict_to_cancel = {'L1': array([ 8, 33, 34, 37, 38, 40, 41, 42, 43, 44, 56, 57, 54, 55, 58, 59, 60,\n",
      "       61,  2,  7, 14, 15, 18, 19, 17, 24, 28, 31, 35, 36,  0,  5, 64, 65,\n",
      "       66, 67, 68, 69, 70, 71, 72, 73, 74, 62, 63, 26,  6,  9, 11,  1,  3,\n",
      "        4, 12, 21, 23, 29, 13, 20, 22, 25, 10, 16, 27, 30, 32, 39, 47])}\n",
      "limb_branch_dict_to_cancel = {}\n",
      "width_max = 300\n",
      "upstream_width_max = 300\n",
      "limb_branch_dict_to_cancel = {}\n",
      "limb_branch_dict_to_cancel = {}\n",
      "limb_branch_dict_to_cancel = {}\n",
      "limb_branch_dict_to_cancel = {}\n",
      "N_branches on limbs before simplification\n",
      "L0: 10\n",
      "L1: 8\n",
      "L2: 5\n",
      "L3: 1\n",
      "L4: 1\n",
      "--- STARTING merge_floating_end_nodes_to_parent----\n",
      "\n",
      "\n",
      "\n",
      "---N_branches on limbs AFTER merge_floating_end_nodes_to_parent---\n",
      "L0: 10 (difference of 0)\n",
      "L1: 8 (difference of 0)\n",
      "L2: 5 (difference of 0)\n",
      "L3: 1 (difference of 0)\n",
      "L4: 1 (difference of 0)\n",
      "\n",
      "\n",
      "\n",
      "--- STARTING COMBINING BRANCHES----\n",
      "\n",
      "\n",
      "\n",
      "---N_branches on limbs AFTER combine_path_branches---\n",
      "L0: 10 (difference of 0)\n",
      "L1: 7 (difference of 1)\n",
      "L2: 5 (difference of 0)\n",
      "L3: 1 (difference of 0)\n",
      "L4: 1 (difference of 0)\n",
      "\n",
      "\n",
      "\n",
      "---N_branches on limbs AFTER total simplification---\n",
      "L0: 10 (difference of 0)\n",
      "L1: 7 (difference of 1)\n",
      "L2: 5 (difference of 0)\n",
      "L3: 1 (difference of 0)\n",
      "L4: 1 (difference of 0)\n",
      "\n",
      "***Total time for branch simplification = 7.720068693161011\n"
     ]
    }
   ],
   "source": [
    "from neurd.vdi_microns import volume_data_interface as vdi\n",
    "vdi.set_parameters_for_directory_modules()\n",
    "\n",
    "neuron_obj_proof = npu.auto_proof_stage(\n",
    "    neuron_obj_axon,\n",
    "    mesh_decimated = mesh_decimated,\n",
    "    calculate_after_proof_stats = False,\n",
    ")"
   ]
  },
  {
   "cell_type": "code",
   "execution_count": 186,
   "id": "0a702187",
   "metadata": {},
   "outputs": [
    {
     "name": "stdout",
     "output_type": "stream",
     "text": [
      "No skeletons to stack so returning empty list\n",
      "\n",
      "Working on compartment basal---\n",
      "Compartment limb stats = {'n_limbs': 4, 'soma_angle_max': 170.11, 'soma_angle_min': 20.41}\n",
      "\n",
      "Working on compartment apical_total---\n",
      "Compartment limb stats = {'n_limbs': 0, 'soma_angle_max': None, 'soma_angle_min': None}\n",
      "\n",
      "Working on compartment axon---\n",
      "Compartment limb stats = {'n_limbs': 1, 'soma_angle_max': 80.63, 'soma_angle_min': 80.63}\n",
      "\n",
      "Working on compartment dendrite---\n",
      "Compartment limb stats = {'n_limbs': 4, 'soma_angle_max': 170.11, 'soma_angle_min': 20.41}\n"
     ]
    }
   ],
   "source": [
    "_ = npu.after_auto_proof_stats(\n",
    "    neuron_obj_proof,\n",
    "    store_in_obj = True,\n",
    ")"
   ]
  },
  {
   "cell_type": "markdown",
   "id": "8b1bdfba",
   "metadata": {},
   "source": [
    "# Plotting the final neuron"
   ]
  },
  {
   "cell_type": "code",
   "execution_count": 187,
   "id": "87bed13e",
   "metadata": {},
   "outputs": [],
   "source": [
    "from neurd import synapse_utils as syu"
   ]
  },
  {
   "cell_type": "code",
   "execution_count": 188,
   "id": "01582a6a",
   "metadata": {},
   "outputs": [
    {
     "data": {
      "text/plain": [
       "array(['soma', 'limb_branch', 'mesh_errored'], dtype=object)"
      ]
     },
     "execution_count": 188,
     "metadata": {},
     "output_type": "execute_result"
    }
   ],
   "source": [
    "synapse_df = syu.synapse_df(neuron_obj_proof)\n",
    "synapse_df[\"label\"].unique()"
   ]
  },
  {
   "cell_type": "code",
   "execution_count": 190,
   "id": "e51b1d57",
   "metadata": {},
   "outputs": [
    {
     "data": {
      "text/html": [
       "<div>\n",
       "<style scoped>\n",
       "    .dataframe tbody tr th:only-of-type {\n",
       "        vertical-align: middle;\n",
       "    }\n",
       "\n",
       "    .dataframe tbody tr th {\n",
       "        vertical-align: top;\n",
       "    }\n",
       "\n",
       "    .dataframe thead th {\n",
       "        text-align: right;\n",
       "    }\n",
       "</style>\n",
       "<table border=\"1\" class=\"dataframe\">\n",
       "  <thead>\n",
       "    <tr style=\"text-align: right;\">\n",
       "      <th></th>\n",
       "      <th>label</th>\n",
       "      <th>limb_idx</th>\n",
       "      <th>branch_idx</th>\n",
       "      <th>compartment</th>\n",
       "      <th>syn_type</th>\n",
       "      <th>syn_id</th>\n",
       "      <th>volume</th>\n",
       "      <th>endpoints_dist</th>\n",
       "      <th>upstream_dist</th>\n",
       "      <th>downstream_dist</th>\n",
       "      <th>coordinate</th>\n",
       "      <th>closest_sk_coordinate</th>\n",
       "      <th>closest_face_idx</th>\n",
       "      <th>closest_branch_face_idx</th>\n",
       "      <th>closest_face_dist</th>\n",
       "      <th>closest_face_coordinate</th>\n",
       "      <th>soma_distance</th>\n",
       "      <th>soma_distance_euclidean</th>\n",
       "      <th>head_neck_shaft</th>\n",
       "      <th>limb_branch</th>\n",
       "    </tr>\n",
       "  </thead>\n",
       "  <tbody>\n",
       "    <tr>\n",
       "      <th>0</th>\n",
       "      <td>soma</td>\n",
       "      <td>-1</td>\n",
       "      <td>NaN</td>\n",
       "      <td>soma</td>\n",
       "      <td>postsyn</td>\n",
       "      <td>478881248</td>\n",
       "      <td>316</td>\n",
       "      <td>[0.0, 0.0]</td>\n",
       "      <td>0.0</td>\n",
       "      <td>0.0</td>\n",
       "      <td>[1487008, 587528, 1096120]</td>\n",
       "      <td>[1486992.3333333333, 587452.3666666667, 109616...</td>\n",
       "      <td>158169.0</td>\n",
       "      <td>NaN</td>\n",
       "      <td>87.919540</td>\n",
       "      <td>[1486992.3333333333, 587452.3666666667, 109616...</td>\n",
       "      <td>-2.0</td>\n",
       "      <td>None</td>\n",
       "      <td>-1.0</td>\n",
       "      <td>L-1_-1</td>\n",
       "    </tr>\n",
       "    <tr>\n",
       "      <th>1</th>\n",
       "      <td>soma</td>\n",
       "      <td>-1</td>\n",
       "      <td>NaN</td>\n",
       "      <td>soma</td>\n",
       "      <td>postsyn</td>\n",
       "      <td>482547007</td>\n",
       "      <td>500</td>\n",
       "      <td>[0.0, 0.0]</td>\n",
       "      <td>0.0</td>\n",
       "      <td>0.0</td>\n",
       "      <td>[1488952, 591388, 1104720]</td>\n",
       "      <td>[1488993.0, 591347.4666666667, 1104759.0]</td>\n",
       "      <td>167120.0</td>\n",
       "      <td>NaN</td>\n",
       "      <td>69.605683</td>\n",
       "      <td>[1488993.0, 591347.4666666667, 1104759.0]</td>\n",
       "      <td>-2.0</td>\n",
       "      <td>None</td>\n",
       "      <td>-1.0</td>\n",
       "      <td>L-1_-1</td>\n",
       "    </tr>\n",
       "    <tr>\n",
       "      <th>2</th>\n",
       "      <td>soma</td>\n",
       "      <td>-1</td>\n",
       "      <td>NaN</td>\n",
       "      <td>soma</td>\n",
       "      <td>postsyn</td>\n",
       "      <td>482546961</td>\n",
       "      <td>3788</td>\n",
       "      <td>[0.0, 0.0]</td>\n",
       "      <td>0.0</td>\n",
       "      <td>0.0</td>\n",
       "      <td>[1488744, 593992, 1102280]</td>\n",
       "      <td>[1488763.6666666667, 593939.5, 1102242.6666666...</td>\n",
       "      <td>173200.0</td>\n",
       "      <td>NaN</td>\n",
       "      <td>67.355813</td>\n",
       "      <td>[1488763.6666666667, 593939.5, 1102242.6666666...</td>\n",
       "      <td>-2.0</td>\n",
       "      <td>None</td>\n",
       "      <td>-1.0</td>\n",
       "      <td>L-1_-1</td>\n",
       "    </tr>\n",
       "    <tr>\n",
       "      <th>3</th>\n",
       "      <td>soma</td>\n",
       "      <td>-1</td>\n",
       "      <td>NaN</td>\n",
       "      <td>soma</td>\n",
       "      <td>postsyn</td>\n",
       "      <td>482547009</td>\n",
       "      <td>4436</td>\n",
       "      <td>[0.0, 0.0]</td>\n",
       "      <td>0.0</td>\n",
       "      <td>0.0</td>\n",
       "      <td>[1489052, 592864, 1103760]</td>\n",
       "      <td>[1489050.6666666667, 592910.0, 1103734.6666666...</td>\n",
       "      <td>175900.0</td>\n",
       "      <td>NaN</td>\n",
       "      <td>52.531472</td>\n",
       "      <td>[1489050.6666666667, 592910.0, 1103734.6666666...</td>\n",
       "      <td>-2.0</td>\n",
       "      <td>None</td>\n",
       "      <td>-1.0</td>\n",
       "      <td>L-1_-1</td>\n",
       "    </tr>\n",
       "    <tr>\n",
       "      <th>4</th>\n",
       "      <td>soma</td>\n",
       "      <td>-1</td>\n",
       "      <td>NaN</td>\n",
       "      <td>soma</td>\n",
       "      <td>postsyn</td>\n",
       "      <td>482547105</td>\n",
       "      <td>1524</td>\n",
       "      <td>[0.0, 0.0]</td>\n",
       "      <td>0.0</td>\n",
       "      <td>0.0</td>\n",
       "      <td>[1489712, 592160, 1104280]</td>\n",
       "      <td>[1489769.6666666667, 592196.5333333333, 110422...</td>\n",
       "      <td>175474.0</td>\n",
       "      <td>NaN</td>\n",
       "      <td>86.834555</td>\n",
       "      <td>[1489769.6666666667, 592196.5333333333, 110422...</td>\n",
       "      <td>-2.0</td>\n",
       "      <td>None</td>\n",
       "      <td>-1.0</td>\n",
       "      <td>L-1_-1</td>\n",
       "    </tr>\n",
       "    <tr>\n",
       "      <th>...</th>\n",
       "      <td>...</td>\n",
       "      <td>...</td>\n",
       "      <td>...</td>\n",
       "      <td>...</td>\n",
       "      <td>...</td>\n",
       "      <td>...</td>\n",
       "      <td>...</td>\n",
       "      <td>...</td>\n",
       "      <td>...</td>\n",
       "      <td>...</td>\n",
       "      <td>...</td>\n",
       "      <td>...</td>\n",
       "      <td>...</td>\n",
       "      <td>...</td>\n",
       "      <td>...</td>\n",
       "      <td>...</td>\n",
       "      <td>...</td>\n",
       "      <td>...</td>\n",
       "      <td>...</td>\n",
       "      <td>...</td>\n",
       "    </tr>\n",
       "    <tr>\n",
       "      <th>960</th>\n",
       "      <td>mesh_errored</td>\n",
       "      <td>-1</td>\n",
       "      <td>NaN</td>\n",
       "      <td>error</td>\n",
       "      <td>postsyn</td>\n",
       "      <td>482468881</td>\n",
       "      <td>6112</td>\n",
       "      <td>None</td>\n",
       "      <td>NaN</td>\n",
       "      <td>NaN</td>\n",
       "      <td>[1489376, 594488, 1092360]</td>\n",
       "      <td>None</td>\n",
       "      <td>NaN</td>\n",
       "      <td>NaN</td>\n",
       "      <td>NaN</td>\n",
       "      <td>None</td>\n",
       "      <td>-1.0</td>\n",
       "      <td>None</td>\n",
       "      <td>NaN</td>\n",
       "      <td>L-1_-1</td>\n",
       "    </tr>\n",
       "    <tr>\n",
       "      <th>961</th>\n",
       "      <td>mesh_errored</td>\n",
       "      <td>-1</td>\n",
       "      <td>NaN</td>\n",
       "      <td>error</td>\n",
       "      <td>postsyn</td>\n",
       "      <td>483712349</td>\n",
       "      <td>17880</td>\n",
       "      <td>None</td>\n",
       "      <td>NaN</td>\n",
       "      <td>NaN</td>\n",
       "      <td>[1501720, 609480, 1075880]</td>\n",
       "      <td>None</td>\n",
       "      <td>NaN</td>\n",
       "      <td>NaN</td>\n",
       "      <td>NaN</td>\n",
       "      <td>None</td>\n",
       "      <td>-1.0</td>\n",
       "      <td>None</td>\n",
       "      <td>NaN</td>\n",
       "      <td>L-1_-1</td>\n",
       "    </tr>\n",
       "    <tr>\n",
       "      <th>962</th>\n",
       "      <td>mesh_errored</td>\n",
       "      <td>-1</td>\n",
       "      <td>NaN</td>\n",
       "      <td>error</td>\n",
       "      <td>postsyn</td>\n",
       "      <td>492052366</td>\n",
       "      <td>8680</td>\n",
       "      <td>None</td>\n",
       "      <td>NaN</td>\n",
       "      <td>NaN</td>\n",
       "      <td>[1524840, 622592, 1056880]</td>\n",
       "      <td>None</td>\n",
       "      <td>NaN</td>\n",
       "      <td>NaN</td>\n",
       "      <td>NaN</td>\n",
       "      <td>None</td>\n",
       "      <td>-1.0</td>\n",
       "      <td>None</td>\n",
       "      <td>NaN</td>\n",
       "      <td>L-1_-1</td>\n",
       "    </tr>\n",
       "    <tr>\n",
       "      <th>963</th>\n",
       "      <td>mesh_errored</td>\n",
       "      <td>-1</td>\n",
       "      <td>NaN</td>\n",
       "      <td>error</td>\n",
       "      <td>postsyn</td>\n",
       "      <td>486032429</td>\n",
       "      <td>2244</td>\n",
       "      <td>None</td>\n",
       "      <td>NaN</td>\n",
       "      <td>NaN</td>\n",
       "      <td>[1492720, 571480, 1029520]</td>\n",
       "      <td>None</td>\n",
       "      <td>NaN</td>\n",
       "      <td>NaN</td>\n",
       "      <td>NaN</td>\n",
       "      <td>None</td>\n",
       "      <td>-1.0</td>\n",
       "      <td>None</td>\n",
       "      <td>NaN</td>\n",
       "      <td>L-1_-1</td>\n",
       "    </tr>\n",
       "    <tr>\n",
       "      <th>964</th>\n",
       "      <td>mesh_errored</td>\n",
       "      <td>-1</td>\n",
       "      <td>NaN</td>\n",
       "      <td>error</td>\n",
       "      <td>postsyn</td>\n",
       "      <td>477362400</td>\n",
       "      <td>18312</td>\n",
       "      <td>None</td>\n",
       "      <td>NaN</td>\n",
       "      <td>NaN</td>\n",
       "      <td>[1476856, 585624, 1113440]</td>\n",
       "      <td>None</td>\n",
       "      <td>NaN</td>\n",
       "      <td>NaN</td>\n",
       "      <td>NaN</td>\n",
       "      <td>None</td>\n",
       "      <td>-1.0</td>\n",
       "      <td>None</td>\n",
       "      <td>NaN</td>\n",
       "      <td>L-1_-1</td>\n",
       "    </tr>\n",
       "  </tbody>\n",
       "</table>\n",
       "<p>965 rows × 20 columns</p>\n",
       "</div>"
      ],
      "text/plain": [
       "            label  limb_idx  branch_idx compartment syn_type     syn_id  \\\n",
       "0            soma        -1         NaN        soma  postsyn  478881248   \n",
       "1            soma        -1         NaN        soma  postsyn  482547007   \n",
       "2            soma        -1         NaN        soma  postsyn  482546961   \n",
       "3            soma        -1         NaN        soma  postsyn  482547009   \n",
       "4            soma        -1         NaN        soma  postsyn  482547105   \n",
       "..            ...       ...         ...         ...      ...        ...   \n",
       "960  mesh_errored        -1         NaN       error  postsyn  482468881   \n",
       "961  mesh_errored        -1         NaN       error  postsyn  483712349   \n",
       "962  mesh_errored        -1         NaN       error  postsyn  492052366   \n",
       "963  mesh_errored        -1         NaN       error  postsyn  486032429   \n",
       "964  mesh_errored        -1         NaN       error  postsyn  477362400   \n",
       "\n",
       "     volume endpoints_dist  upstream_dist  downstream_dist  \\\n",
       "0       316     [0.0, 0.0]            0.0              0.0   \n",
       "1       500     [0.0, 0.0]            0.0              0.0   \n",
       "2      3788     [0.0, 0.0]            0.0              0.0   \n",
       "3      4436     [0.0, 0.0]            0.0              0.0   \n",
       "4      1524     [0.0, 0.0]            0.0              0.0   \n",
       "..      ...            ...            ...              ...   \n",
       "960    6112           None            NaN              NaN   \n",
       "961   17880           None            NaN              NaN   \n",
       "962    8680           None            NaN              NaN   \n",
       "963    2244           None            NaN              NaN   \n",
       "964   18312           None            NaN              NaN   \n",
       "\n",
       "                     coordinate  \\\n",
       "0    [1487008, 587528, 1096120]   \n",
       "1    [1488952, 591388, 1104720]   \n",
       "2    [1488744, 593992, 1102280]   \n",
       "3    [1489052, 592864, 1103760]   \n",
       "4    [1489712, 592160, 1104280]   \n",
       "..                          ...   \n",
       "960  [1489376, 594488, 1092360]   \n",
       "961  [1501720, 609480, 1075880]   \n",
       "962  [1524840, 622592, 1056880]   \n",
       "963  [1492720, 571480, 1029520]   \n",
       "964  [1476856, 585624, 1113440]   \n",
       "\n",
       "                                 closest_sk_coordinate  closest_face_idx  \\\n",
       "0    [1486992.3333333333, 587452.3666666667, 109616...          158169.0   \n",
       "1            [1488993.0, 591347.4666666667, 1104759.0]          167120.0   \n",
       "2    [1488763.6666666667, 593939.5, 1102242.6666666...          173200.0   \n",
       "3    [1489050.6666666667, 592910.0, 1103734.6666666...          175900.0   \n",
       "4    [1489769.6666666667, 592196.5333333333, 110422...          175474.0   \n",
       "..                                                 ...               ...   \n",
       "960                                               None               NaN   \n",
       "961                                               None               NaN   \n",
       "962                                               None               NaN   \n",
       "963                                               None               NaN   \n",
       "964                                               None               NaN   \n",
       "\n",
       "     closest_branch_face_idx  closest_face_dist  \\\n",
       "0                        NaN          87.919540   \n",
       "1                        NaN          69.605683   \n",
       "2                        NaN          67.355813   \n",
       "3                        NaN          52.531472   \n",
       "4                        NaN          86.834555   \n",
       "..                       ...                ...   \n",
       "960                      NaN                NaN   \n",
       "961                      NaN                NaN   \n",
       "962                      NaN                NaN   \n",
       "963                      NaN                NaN   \n",
       "964                      NaN                NaN   \n",
       "\n",
       "                               closest_face_coordinate  soma_distance  \\\n",
       "0    [1486992.3333333333, 587452.3666666667, 109616...           -2.0   \n",
       "1            [1488993.0, 591347.4666666667, 1104759.0]           -2.0   \n",
       "2    [1488763.6666666667, 593939.5, 1102242.6666666...           -2.0   \n",
       "3    [1489050.6666666667, 592910.0, 1103734.6666666...           -2.0   \n",
       "4    [1489769.6666666667, 592196.5333333333, 110422...           -2.0   \n",
       "..                                                 ...            ...   \n",
       "960                                               None           -1.0   \n",
       "961                                               None           -1.0   \n",
       "962                                               None           -1.0   \n",
       "963                                               None           -1.0   \n",
       "964                                               None           -1.0   \n",
       "\n",
       "    soma_distance_euclidean  head_neck_shaft limb_branch  \n",
       "0                      None             -1.0      L-1_-1  \n",
       "1                      None             -1.0      L-1_-1  \n",
       "2                      None             -1.0      L-1_-1  \n",
       "3                      None             -1.0      L-1_-1  \n",
       "4                      None             -1.0      L-1_-1  \n",
       "..                      ...              ...         ...  \n",
       "960                    None              NaN      L-1_-1  \n",
       "961                    None              NaN      L-1_-1  \n",
       "962                    None              NaN      L-1_-1  \n",
       "963                    None              NaN      L-1_-1  \n",
       "964                    None              NaN      L-1_-1  \n",
       "\n",
       "[965 rows x 20 columns]"
      ]
     },
     "execution_count": 190,
     "metadata": {},
     "output_type": "execute_result"
    }
   ],
   "source": [
    "synapse_df"
   ]
  },
  {
   "cell_type": "code",
   "execution_count": 147,
   "id": "895418f8",
   "metadata": {},
   "outputs": [
    {
     "data": {
      "application/vnd.jupyter.widget-view+json": {
       "model_id": "b024f9ee80344d719eb96c7bb699d614",
       "version_major": 2,
       "version_minor": 0
      },
      "text/plain": [
       "Container(figure=Figure(box_center=[0.5, 0.5, 0.5], box_size=[1.0, 1.0, 1.0], camera=PerspectiveCamera(fov=45.…"
      ]
     },
     "metadata": {},
     "output_type": "display_data"
    }
   ],
   "source": [
    "from datasci_tools import ipyvolume_utils as ipvu\n",
    "ipvu.plot_objects(\n",
    "    neuron_obj_axon.mesh,\n",
    "    meshes = [neuron_obj_proof.mesh],\n",
    "    meshes_colors=\"red\"\n",
    ")"
   ]
  },
  {
   "cell_type": "code",
   "execution_count": 192,
   "id": "815c0e4d",
   "metadata": {},
   "outputs": [
    {
     "name": "stdout",
     "output_type": "stream",
     "text": [
      "\n",
      " Working on visualization type: mesh\n",
      "\n",
      " Working on visualization type: skeleton\n"
     ]
    },
    {
     "data": {
      "application/vnd.jupyter.widget-view+json": {
       "model_id": "63ac7ee98de7409eac7766386470c3f4",
       "version_major": 2,
       "version_minor": 0
      },
      "text/plain": [
       "HBox(children=(FloatSlider(value=0.3, description='Size', max=3.0), Dropdown(description='Geo', index=3, optio…"
      ]
     },
     "metadata": {},
     "output_type": "display_data"
    },
    {
     "data": {
      "application/vnd.jupyter.widget-view+json": {
       "model_id": "e19fadf0ebdd45749c27c149cdf2fe55",
       "version_major": 2,
       "version_minor": 0
      },
      "text/plain": [
       "HBox(children=(FloatSlider(value=0.3, description='Size', max=3.0), Dropdown(description='Geo', index=3, optio…"
      ]
     },
     "metadata": {},
     "output_type": "display_data"
    },
    {
     "data": {
      "application/vnd.jupyter.widget-view+json": {
       "model_id": "3b9ad39d42b14fa2b105c02d1cc1fd59",
       "version_major": 2,
       "version_minor": 0
      },
      "text/plain": [
       "Container(figure=Figure(box_center=[0.5, 0.5, 0.5], box_size=[1.0, 1.0, 1.0], camera=PerspectiveCamera(fov=45.…"
      ]
     },
     "metadata": {},
     "output_type": "display_data"
    }
   ],
   "source": [
    "syu.plot_synapses(neuron_obj_proof)"
   ]
  },
  {
   "cell_type": "code",
   "execution_count": 193,
   "id": "1c45d05f",
   "metadata": {},
   "outputs": [
    {
     "name": "stdout",
     "output_type": "stream",
     "text": [
      "# of error synapses = 408\n",
      "\n",
      " Working on visualization type: mesh\n"
     ]
    },
    {
     "data": {
      "application/vnd.jupyter.widget-view+json": {
       "model_id": "24f9010b0e3e4c96afd93dca993dec8d",
       "version_major": 2,
       "version_minor": 0
      },
      "text/plain": [
       "HBox(children=(FloatSlider(value=0.3, description='Size', max=3.0), Dropdown(description='Geo', index=3, optio…"
      ]
     },
     "metadata": {},
     "output_type": "display_data"
    },
    {
     "data": {
      "application/vnd.jupyter.widget-view+json": {
       "model_id": "a04c144cea344af2ae869b4f1e455949",
       "version_major": 2,
       "version_minor": 0
      },
      "text/plain": [
       "Container(figure=Figure(box_center=[0.5, 0.5, 0.5], box_size=[1.0, 1.0, 1.0], camera=PerspectiveCamera(fov=45.…"
      ]
     },
     "metadata": {},
     "output_type": "display_data"
    }
   ],
   "source": [
    "syu.plot_synapses_error_from_neuron_obj(neuron_obj_proof)    "
   ]
  },
  {
   "cell_type": "code",
   "execution_count": 149,
   "id": "712b625c",
   "metadata": {},
   "outputs": [
    {
     "name": "stdout",
     "output_type": "stream",
     "text": [
      "# of valid synapses = 556\n",
      "\n",
      " Working on visualization type: mesh\n"
     ]
    },
    {
     "data": {
      "application/vnd.jupyter.widget-view+json": {
       "model_id": "cf93e92b3b4b45baa44c9b9e5fa72201",
       "version_major": 2,
       "version_minor": 0
      },
      "text/plain": [
       "HBox(children=(FloatSlider(value=0.3, description='Size', max=3.0), Dropdown(description='Geo', index=3, optio…"
      ]
     },
     "metadata": {},
     "output_type": "display_data"
    },
    {
     "data": {
      "application/vnd.jupyter.widget-view+json": {
       "model_id": "49971888c7ac4ae29848793993428190",
       "version_major": 2,
       "version_minor": 0
      },
      "text/plain": [
       "Container(figure=Figure(box_center=[0.5, 0.5, 0.5], box_size=[1.0, 1.0, 1.0], camera=PerspectiveCamera(fov=45.…"
      ]
     },
     "metadata": {},
     "output_type": "display_data"
    }
   ],
   "source": [
    "syu.plot_synapses_valid_from_neuron_obj(neuron_obj_proof)  "
   ]
  },
  {
   "cell_type": "code",
   "execution_count": 195,
   "id": "b2824c0c",
   "metadata": {},
   "outputs": [
    {
     "name": "stdout",
     "output_type": "stream",
     "text": [
      "\n",
      " Working on visualization type: mesh\n"
     ]
    },
    {
     "data": {
      "application/vnd.jupyter.widget-view+json": {
       "model_id": "87161840cfa5414faf010f5802a80fbb",
       "version_major": 2,
       "version_minor": 0
      },
      "text/plain": [
       "Container(figure=Figure(box_center=[0.5, 0.5, 0.5], box_size=[1.0, 1.0, 1.0], camera=PerspectiveCamera(fov=45.…"
      ]
     },
     "metadata": {},
     "output_type": "display_data"
    },
    {
     "name": "stdout",
     "output_type": "stream",
     "text": [
      "apical:blue\n",
      "apical_shaft:aqua\n",
      "apical_tuft:purple\n",
      "basal:yellow\n",
      "axon:red\n",
      "oblique:green\n",
      "\n",
      "\n",
      "Unlabeled: transparent green\n"
     ]
    }
   ],
   "source": [
    "nviz.plot_compartments(neuron_obj_proof)"
   ]
  },
  {
   "cell_type": "code",
   "execution_count": 198,
   "id": "30be42b1",
   "metadata": {},
   "outputs": [
    {
     "name": "stderr",
     "output_type": "stream",
     "text": [
      "[autoreload of trimesh.path.exchange.svg_io failed: Traceback (most recent call last):\n",
      "  File \"/usr/local/lib/python3.8/dist-packages/IPython/extensions/autoreload.py\", line 273, in check\n",
      "    superreload(m, reload, self.old_objects)\n",
      "  File \"/usr/local/lib/python3.8/dist-packages/IPython/extensions/autoreload.py\", line 451, in superreload\n",
      "    if not append_obj(module, old_objects, name, obj):\n",
      "  File \"/usr/local/lib/python3.8/dist-packages/IPython/extensions/autoreload.py\", line 419, in append_obj\n",
      "    in_module = hasattr(obj, \"__module__\") and obj.__module__ == module.__name__\n",
      "  File \"/usr/local/lib/python3.8/dist-packages/trimesh/exceptions.py\", line 30, in __getattribute__\n",
      "    raise super(ExceptionWrapper, self).__getattribute__('exception')\n",
      "NameError: name 'ExceptionWrapper' is not defined\n",
      "]\n",
      "[autoreload of trimesh.visual.gloss failed: Traceback (most recent call last):\n",
      "  File \"/usr/local/lib/python3.8/dist-packages/IPython/extensions/autoreload.py\", line 273, in check\n",
      "    superreload(m, reload, self.old_objects)\n",
      "  File \"/usr/local/lib/python3.8/dist-packages/IPython/extensions/autoreload.py\", line 471, in superreload\n",
      "    module = reload(module)\n",
      "  File \"/usr/lib/python3.8/importlib/__init__.py\", line 169, in reload\n",
      "    _bootstrap._exec(spec, module)\n",
      "  File \"<frozen importlib._bootstrap>\", line 604, in _exec\n",
      "  File \"<frozen importlib._bootstrap_external>\", line 783, in exec_module\n",
      "  File \"<frozen importlib._bootstrap>\", line 219, in _call_with_frames_removed\n",
      "  File \"/usr/local/lib/python3.8/dist-packages/trimesh/visual/gloss.py\", line 4, in <module>\n",
      "    from ..exceptions import ExceptionWrapper\n",
      "ImportError: cannot import name 'ExceptionWrapper' from 'trimesh.exceptions' (/usr/local/lib/python3.8/dist-packages/trimesh/exceptions.py)\n",
      "]\n",
      "[autoreload of trimesh.exchange.dae failed: Traceback (most recent call last):\n",
      "  File \"/usr/local/lib/python3.8/dist-packages/IPython/extensions/autoreload.py\", line 273, in check\n",
      "    superreload(m, reload, self.old_objects)\n",
      "  File \"/usr/local/lib/python3.8/dist-packages/IPython/extensions/autoreload.py\", line 451, in superreload\n",
      "    if not append_obj(module, old_objects, name, obj):\n",
      "  File \"/usr/local/lib/python3.8/dist-packages/IPython/extensions/autoreload.py\", line 419, in append_obj\n",
      "    in_module = hasattr(obj, \"__module__\") and obj.__module__ == module.__name__\n",
      "  File \"/usr/local/lib/python3.8/dist-packages/trimesh/exceptions.py\", line 30, in __getattribute__\n",
      "    raise super(ExceptionWrapper, self).__getattribute__('exception')\n",
      "NameError: name 'ExceptionWrapper' is not defined\n",
      "]\n",
      "[autoreload of trimesh.exchange.openctm failed: Traceback (most recent call last):\n",
      "  File \"/usr/local/lib/python3.8/dist-packages/IPython/extensions/autoreload.py\", line 273, in check\n",
      "    superreload(m, reload, self.old_objects)\n",
      "  File \"/usr/local/lib/python3.8/dist-packages/IPython/extensions/autoreload.py\", line 451, in superreload\n",
      "    if not append_obj(module, old_objects, name, obj):\n",
      "  File \"/usr/local/lib/python3.8/dist-packages/IPython/extensions/autoreload.py\", line 419, in append_obj\n",
      "    in_module = hasattr(obj, \"__module__\") and obj.__module__ == module.__name__\n",
      "  File \"/usr/local/lib/python3.8/dist-packages/trimesh/exceptions.py\", line 30, in __getattribute__\n",
      "    raise super(ExceptionWrapper, self).__getattribute__('exception')\n",
      "NameError: name 'ExceptionWrapper' is not defined\n",
      "]\n",
      "[autoreload of trimesh.creation failed: Traceback (most recent call last):\n",
      "  File \"/usr/local/lib/python3.8/dist-packages/IPython/extensions/autoreload.py\", line 273, in check\n",
      "    superreload(m, reload, self.old_objects)\n",
      "  File \"/usr/local/lib/python3.8/dist-packages/IPython/extensions/autoreload.py\", line 451, in superreload\n",
      "    if not append_obj(module, old_objects, name, obj):\n",
      "  File \"/usr/local/lib/python3.8/dist-packages/IPython/extensions/autoreload.py\", line 419, in append_obj\n",
      "    in_module = hasattr(obj, \"__module__\") and obj.__module__ == module.__name__\n",
      "  File \"/usr/local/lib/python3.8/dist-packages/trimesh/exceptions.py\", line 30, in __getattribute__\n",
      "    raise super(ExceptionWrapper, self).__getattribute__('exception')\n",
      "NameError: name 'ExceptionWrapper' is not defined\n",
      "]\n",
      "[autoreload of trimesh.path.path failed: Traceback (most recent call last):\n",
      "  File \"/usr/local/lib/python3.8/dist-packages/IPython/extensions/autoreload.py\", line 273, in check\n",
      "    superreload(m, reload, self.old_objects)\n",
      "  File \"/usr/local/lib/python3.8/dist-packages/IPython/extensions/autoreload.py\", line 496, in superreload\n",
      "    update_generic(old_obj, new_obj)\n",
      "  File \"/usr/local/lib/python3.8/dist-packages/IPython/extensions/autoreload.py\", line 393, in update_generic\n",
      "    update(a, b)\n",
      "  File \"/usr/local/lib/python3.8/dist-packages/IPython/extensions/autoreload.py\", line 345, in update_class\n",
      "    if update_generic(old_obj, new_obj):\n",
      "  File \"/usr/local/lib/python3.8/dist-packages/IPython/extensions/autoreload.py\", line 393, in update_generic\n",
      "    update(a, b)\n",
      "  File \"/usr/local/lib/python3.8/dist-packages/IPython/extensions/autoreload.py\", line 367, in update_property\n",
      "    update_generic(old.fget, new.fget)\n",
      "  File \"/usr/local/lib/python3.8/dist-packages/IPython/extensions/autoreload.py\", line 393, in update_generic\n",
      "    update(a, b)\n",
      "  File \"/usr/local/lib/python3.8/dist-packages/IPython/extensions/autoreload.py\", line 305, in update_function\n",
      "    setattr(old, name, getattr(new, name))\n",
      "ValueError: identifier_md5() requires a code object with 1 free vars, not 0\n",
      "]\n",
      "[autoreload of trimesh.scene.transforms failed: Traceback (most recent call last):\n",
      "  File \"/usr/local/lib/python3.8/dist-packages/IPython/extensions/autoreload.py\", line 273, in check\n",
      "    superreload(m, reload, self.old_objects)\n",
      "  File \"/usr/local/lib/python3.8/dist-packages/IPython/extensions/autoreload.py\", line 496, in superreload\n",
      "    update_generic(old_obj, new_obj)\n",
      "  File \"/usr/local/lib/python3.8/dist-packages/IPython/extensions/autoreload.py\", line 393, in update_generic\n",
      "    update(a, b)\n",
      "  File \"/usr/local/lib/python3.8/dist-packages/IPython/extensions/autoreload.py\", line 345, in update_class\n",
      "    if update_generic(old_obj, new_obj):\n",
      "  File \"/usr/local/lib/python3.8/dist-packages/IPython/extensions/autoreload.py\", line 393, in update_generic\n",
      "    update(a, b)\n",
      "  File \"/usr/local/lib/python3.8/dist-packages/IPython/extensions/autoreload.py\", line 305, in update_function\n",
      "    setattr(old, name, getattr(new, name))\n",
      "ValueError: __init__() requires a code object with 1 free vars, not 0\n",
      "]\n",
      "[autoreload of trimesh.base failed: Traceback (most recent call last):\n",
      "  File \"/usr/local/lib/python3.8/dist-packages/IPython/extensions/autoreload.py\", line 273, in check\n",
      "    superreload(m, reload, self.old_objects)\n",
      "  File \"/usr/local/lib/python3.8/dist-packages/IPython/extensions/autoreload.py\", line 496, in superreload\n",
      "    update_generic(old_obj, new_obj)\n",
      "  File \"/usr/local/lib/python3.8/dist-packages/IPython/extensions/autoreload.py\", line 393, in update_generic\n",
      "    update(a, b)\n",
      "  File \"/usr/local/lib/python3.8/dist-packages/IPython/extensions/autoreload.py\", line 345, in update_class\n",
      "    if update_generic(old_obj, new_obj):\n",
      "  File \"/usr/local/lib/python3.8/dist-packages/IPython/extensions/autoreload.py\", line 393, in update_generic\n",
      "    update(a, b)\n",
      "  File \"/usr/local/lib/python3.8/dist-packages/IPython/extensions/autoreload.py\", line 367, in update_property\n",
      "    update_generic(old.fget, new.fget)\n",
      "  File \"/usr/local/lib/python3.8/dist-packages/IPython/extensions/autoreload.py\", line 393, in update_generic\n",
      "    update(a, b)\n",
      "  File \"/usr/local/lib/python3.8/dist-packages/IPython/extensions/autoreload.py\", line 305, in update_function\n",
      "    setattr(old, name, getattr(new, name))\n",
      "ValueError: identifier_md5() requires a code object with 1 free vars, not 0\n",
      "]\n"
     ]
    },
    {
     "data": {
      "text/html": [
       "<div>\n",
       "<style scoped>\n",
       "    .dataframe tbody tr th:only-of-type {\n",
       "        vertical-align: middle;\n",
       "    }\n",
       "\n",
       "    .dataframe tbody tr th {\n",
       "        vertical-align: top;\n",
       "    }\n",
       "\n",
       "    .dataframe thead th {\n",
       "        text-align: right;\n",
       "    }\n",
       "</style>\n",
       "<table border=\"1\" class=\"dataframe\">\n",
       "  <thead>\n",
       "    <tr style=\"text-align: right;\">\n",
       "      <th></th>\n",
       "      <th>label</th>\n",
       "      <th>limb_idx</th>\n",
       "      <th>branch_idx</th>\n",
       "      <th>compartment</th>\n",
       "      <th>syn_type</th>\n",
       "      <th>syn_id</th>\n",
       "      <th>volume</th>\n",
       "      <th>endpoints_dist</th>\n",
       "      <th>upstream_dist</th>\n",
       "      <th>downstream_dist</th>\n",
       "      <th>coordinate</th>\n",
       "      <th>closest_sk_coordinate</th>\n",
       "      <th>closest_face_idx</th>\n",
       "      <th>closest_branch_face_idx</th>\n",
       "      <th>closest_face_dist</th>\n",
       "      <th>closest_face_coordinate</th>\n",
       "      <th>soma_distance</th>\n",
       "      <th>soma_distance_euclidean</th>\n",
       "      <th>head_neck_shaft</th>\n",
       "      <th>limb_branch</th>\n",
       "    </tr>\n",
       "  </thead>\n",
       "  <tbody>\n",
       "    <tr>\n",
       "      <th>0</th>\n",
       "      <td>soma</td>\n",
       "      <td>-1</td>\n",
       "      <td>NaN</td>\n",
       "      <td>soma</td>\n",
       "      <td>postsyn</td>\n",
       "      <td>478881248</td>\n",
       "      <td>316</td>\n",
       "      <td>[0.0, 0.0]</td>\n",
       "      <td>0.0</td>\n",
       "      <td>0.0</td>\n",
       "      <td>[1487008, 587528, 1096120]</td>\n",
       "      <td>[1486992.3333333333, 587452.3666666667, 109616...</td>\n",
       "      <td>158169.0</td>\n",
       "      <td>NaN</td>\n",
       "      <td>87.919540</td>\n",
       "      <td>[1486992.3333333333, 587452.3666666667, 109616...</td>\n",
       "      <td>-2.0</td>\n",
       "      <td>None</td>\n",
       "      <td>-1.0</td>\n",
       "      <td>L-1_-1</td>\n",
       "    </tr>\n",
       "    <tr>\n",
       "      <th>1</th>\n",
       "      <td>soma</td>\n",
       "      <td>-1</td>\n",
       "      <td>NaN</td>\n",
       "      <td>soma</td>\n",
       "      <td>postsyn</td>\n",
       "      <td>482547007</td>\n",
       "      <td>500</td>\n",
       "      <td>[0.0, 0.0]</td>\n",
       "      <td>0.0</td>\n",
       "      <td>0.0</td>\n",
       "      <td>[1488952, 591388, 1104720]</td>\n",
       "      <td>[1488993.0, 591347.4666666667, 1104759.0]</td>\n",
       "      <td>167120.0</td>\n",
       "      <td>NaN</td>\n",
       "      <td>69.605683</td>\n",
       "      <td>[1488993.0, 591347.4666666667, 1104759.0]</td>\n",
       "      <td>-2.0</td>\n",
       "      <td>None</td>\n",
       "      <td>-1.0</td>\n",
       "      <td>L-1_-1</td>\n",
       "    </tr>\n",
       "    <tr>\n",
       "      <th>2</th>\n",
       "      <td>soma</td>\n",
       "      <td>-1</td>\n",
       "      <td>NaN</td>\n",
       "      <td>soma</td>\n",
       "      <td>postsyn</td>\n",
       "      <td>482546961</td>\n",
       "      <td>3788</td>\n",
       "      <td>[0.0, 0.0]</td>\n",
       "      <td>0.0</td>\n",
       "      <td>0.0</td>\n",
       "      <td>[1488744, 593992, 1102280]</td>\n",
       "      <td>[1488763.6666666667, 593939.5, 1102242.6666666...</td>\n",
       "      <td>173200.0</td>\n",
       "      <td>NaN</td>\n",
       "      <td>67.355813</td>\n",
       "      <td>[1488763.6666666667, 593939.5, 1102242.6666666...</td>\n",
       "      <td>-2.0</td>\n",
       "      <td>None</td>\n",
       "      <td>-1.0</td>\n",
       "      <td>L-1_-1</td>\n",
       "    </tr>\n",
       "    <tr>\n",
       "      <th>3</th>\n",
       "      <td>soma</td>\n",
       "      <td>-1</td>\n",
       "      <td>NaN</td>\n",
       "      <td>soma</td>\n",
       "      <td>postsyn</td>\n",
       "      <td>482547009</td>\n",
       "      <td>4436</td>\n",
       "      <td>[0.0, 0.0]</td>\n",
       "      <td>0.0</td>\n",
       "      <td>0.0</td>\n",
       "      <td>[1489052, 592864, 1103760]</td>\n",
       "      <td>[1489050.6666666667, 592910.0, 1103734.6666666...</td>\n",
       "      <td>175900.0</td>\n",
       "      <td>NaN</td>\n",
       "      <td>52.531472</td>\n",
       "      <td>[1489050.6666666667, 592910.0, 1103734.6666666...</td>\n",
       "      <td>-2.0</td>\n",
       "      <td>None</td>\n",
       "      <td>-1.0</td>\n",
       "      <td>L-1_-1</td>\n",
       "    </tr>\n",
       "    <tr>\n",
       "      <th>4</th>\n",
       "      <td>soma</td>\n",
       "      <td>-1</td>\n",
       "      <td>NaN</td>\n",
       "      <td>soma</td>\n",
       "      <td>postsyn</td>\n",
       "      <td>482547105</td>\n",
       "      <td>1524</td>\n",
       "      <td>[0.0, 0.0]</td>\n",
       "      <td>0.0</td>\n",
       "      <td>0.0</td>\n",
       "      <td>[1489712, 592160, 1104280]</td>\n",
       "      <td>[1489769.6666666667, 592196.5333333333, 110422...</td>\n",
       "      <td>175474.0</td>\n",
       "      <td>NaN</td>\n",
       "      <td>86.834555</td>\n",
       "      <td>[1489769.6666666667, 592196.5333333333, 110422...</td>\n",
       "      <td>-2.0</td>\n",
       "      <td>None</td>\n",
       "      <td>-1.0</td>\n",
       "      <td>L-1_-1</td>\n",
       "    </tr>\n",
       "    <tr>\n",
       "      <th>...</th>\n",
       "      <td>...</td>\n",
       "      <td>...</td>\n",
       "      <td>...</td>\n",
       "      <td>...</td>\n",
       "      <td>...</td>\n",
       "      <td>...</td>\n",
       "      <td>...</td>\n",
       "      <td>...</td>\n",
       "      <td>...</td>\n",
       "      <td>...</td>\n",
       "      <td>...</td>\n",
       "      <td>...</td>\n",
       "      <td>...</td>\n",
       "      <td>...</td>\n",
       "      <td>...</td>\n",
       "      <td>...</td>\n",
       "      <td>...</td>\n",
       "      <td>...</td>\n",
       "      <td>...</td>\n",
       "      <td>...</td>\n",
       "    </tr>\n",
       "    <tr>\n",
       "      <th>960</th>\n",
       "      <td>mesh_errored</td>\n",
       "      <td>-1</td>\n",
       "      <td>NaN</td>\n",
       "      <td>error</td>\n",
       "      <td>postsyn</td>\n",
       "      <td>482468881</td>\n",
       "      <td>6112</td>\n",
       "      <td>None</td>\n",
       "      <td>NaN</td>\n",
       "      <td>NaN</td>\n",
       "      <td>[1489376, 594488, 1092360]</td>\n",
       "      <td>None</td>\n",
       "      <td>NaN</td>\n",
       "      <td>NaN</td>\n",
       "      <td>NaN</td>\n",
       "      <td>None</td>\n",
       "      <td>-1.0</td>\n",
       "      <td>None</td>\n",
       "      <td>NaN</td>\n",
       "      <td>L-1_-1</td>\n",
       "    </tr>\n",
       "    <tr>\n",
       "      <th>961</th>\n",
       "      <td>mesh_errored</td>\n",
       "      <td>-1</td>\n",
       "      <td>NaN</td>\n",
       "      <td>error</td>\n",
       "      <td>postsyn</td>\n",
       "      <td>483712349</td>\n",
       "      <td>17880</td>\n",
       "      <td>None</td>\n",
       "      <td>NaN</td>\n",
       "      <td>NaN</td>\n",
       "      <td>[1501720, 609480, 1075880]</td>\n",
       "      <td>None</td>\n",
       "      <td>NaN</td>\n",
       "      <td>NaN</td>\n",
       "      <td>NaN</td>\n",
       "      <td>None</td>\n",
       "      <td>-1.0</td>\n",
       "      <td>None</td>\n",
       "      <td>NaN</td>\n",
       "      <td>L-1_-1</td>\n",
       "    </tr>\n",
       "    <tr>\n",
       "      <th>962</th>\n",
       "      <td>mesh_errored</td>\n",
       "      <td>-1</td>\n",
       "      <td>NaN</td>\n",
       "      <td>error</td>\n",
       "      <td>postsyn</td>\n",
       "      <td>492052366</td>\n",
       "      <td>8680</td>\n",
       "      <td>None</td>\n",
       "      <td>NaN</td>\n",
       "      <td>NaN</td>\n",
       "      <td>[1524840, 622592, 1056880]</td>\n",
       "      <td>None</td>\n",
       "      <td>NaN</td>\n",
       "      <td>NaN</td>\n",
       "      <td>NaN</td>\n",
       "      <td>None</td>\n",
       "      <td>-1.0</td>\n",
       "      <td>None</td>\n",
       "      <td>NaN</td>\n",
       "      <td>L-1_-1</td>\n",
       "    </tr>\n",
       "    <tr>\n",
       "      <th>963</th>\n",
       "      <td>mesh_errored</td>\n",
       "      <td>-1</td>\n",
       "      <td>NaN</td>\n",
       "      <td>error</td>\n",
       "      <td>postsyn</td>\n",
       "      <td>486032429</td>\n",
       "      <td>2244</td>\n",
       "      <td>None</td>\n",
       "      <td>NaN</td>\n",
       "      <td>NaN</td>\n",
       "      <td>[1492720, 571480, 1029520]</td>\n",
       "      <td>None</td>\n",
       "      <td>NaN</td>\n",
       "      <td>NaN</td>\n",
       "      <td>NaN</td>\n",
       "      <td>None</td>\n",
       "      <td>-1.0</td>\n",
       "      <td>None</td>\n",
       "      <td>NaN</td>\n",
       "      <td>L-1_-1</td>\n",
       "    </tr>\n",
       "    <tr>\n",
       "      <th>964</th>\n",
       "      <td>mesh_errored</td>\n",
       "      <td>-1</td>\n",
       "      <td>NaN</td>\n",
       "      <td>error</td>\n",
       "      <td>postsyn</td>\n",
       "      <td>477362400</td>\n",
       "      <td>18312</td>\n",
       "      <td>None</td>\n",
       "      <td>NaN</td>\n",
       "      <td>NaN</td>\n",
       "      <td>[1476856, 585624, 1113440]</td>\n",
       "      <td>None</td>\n",
       "      <td>NaN</td>\n",
       "      <td>NaN</td>\n",
       "      <td>NaN</td>\n",
       "      <td>None</td>\n",
       "      <td>-1.0</td>\n",
       "      <td>None</td>\n",
       "      <td>NaN</td>\n",
       "      <td>L-1_-1</td>\n",
       "    </tr>\n",
       "  </tbody>\n",
       "</table>\n",
       "<p>965 rows × 20 columns</p>\n",
       "</div>"
      ],
      "text/plain": [
       "            label  limb_idx  branch_idx compartment syn_type     syn_id  \\\n",
       "0            soma        -1         NaN        soma  postsyn  478881248   \n",
       "1            soma        -1         NaN        soma  postsyn  482547007   \n",
       "2            soma        -1         NaN        soma  postsyn  482546961   \n",
       "3            soma        -1         NaN        soma  postsyn  482547009   \n",
       "4            soma        -1         NaN        soma  postsyn  482547105   \n",
       "..            ...       ...         ...         ...      ...        ...   \n",
       "960  mesh_errored        -1         NaN       error  postsyn  482468881   \n",
       "961  mesh_errored        -1         NaN       error  postsyn  483712349   \n",
       "962  mesh_errored        -1         NaN       error  postsyn  492052366   \n",
       "963  mesh_errored        -1         NaN       error  postsyn  486032429   \n",
       "964  mesh_errored        -1         NaN       error  postsyn  477362400   \n",
       "\n",
       "     volume endpoints_dist  upstream_dist  downstream_dist  \\\n",
       "0       316     [0.0, 0.0]            0.0              0.0   \n",
       "1       500     [0.0, 0.0]            0.0              0.0   \n",
       "2      3788     [0.0, 0.0]            0.0              0.0   \n",
       "3      4436     [0.0, 0.0]            0.0              0.0   \n",
       "4      1524     [0.0, 0.0]            0.0              0.0   \n",
       "..      ...            ...            ...              ...   \n",
       "960    6112           None            NaN              NaN   \n",
       "961   17880           None            NaN              NaN   \n",
       "962    8680           None            NaN              NaN   \n",
       "963    2244           None            NaN              NaN   \n",
       "964   18312           None            NaN              NaN   \n",
       "\n",
       "                     coordinate  \\\n",
       "0    [1487008, 587528, 1096120]   \n",
       "1    [1488952, 591388, 1104720]   \n",
       "2    [1488744, 593992, 1102280]   \n",
       "3    [1489052, 592864, 1103760]   \n",
       "4    [1489712, 592160, 1104280]   \n",
       "..                          ...   \n",
       "960  [1489376, 594488, 1092360]   \n",
       "961  [1501720, 609480, 1075880]   \n",
       "962  [1524840, 622592, 1056880]   \n",
       "963  [1492720, 571480, 1029520]   \n",
       "964  [1476856, 585624, 1113440]   \n",
       "\n",
       "                                 closest_sk_coordinate  closest_face_idx  \\\n",
       "0    [1486992.3333333333, 587452.3666666667, 109616...          158169.0   \n",
       "1            [1488993.0, 591347.4666666667, 1104759.0]          167120.0   \n",
       "2    [1488763.6666666667, 593939.5, 1102242.6666666...          173200.0   \n",
       "3    [1489050.6666666667, 592910.0, 1103734.6666666...          175900.0   \n",
       "4    [1489769.6666666667, 592196.5333333333, 110422...          175474.0   \n",
       "..                                                 ...               ...   \n",
       "960                                               None               NaN   \n",
       "961                                               None               NaN   \n",
       "962                                               None               NaN   \n",
       "963                                               None               NaN   \n",
       "964                                               None               NaN   \n",
       "\n",
       "     closest_branch_face_idx  closest_face_dist  \\\n",
       "0                        NaN          87.919540   \n",
       "1                        NaN          69.605683   \n",
       "2                        NaN          67.355813   \n",
       "3                        NaN          52.531472   \n",
       "4                        NaN          86.834555   \n",
       "..                       ...                ...   \n",
       "960                      NaN                NaN   \n",
       "961                      NaN                NaN   \n",
       "962                      NaN                NaN   \n",
       "963                      NaN                NaN   \n",
       "964                      NaN                NaN   \n",
       "\n",
       "                               closest_face_coordinate  soma_distance  \\\n",
       "0    [1486992.3333333333, 587452.3666666667, 109616...           -2.0   \n",
       "1            [1488993.0, 591347.4666666667, 1104759.0]           -2.0   \n",
       "2    [1488763.6666666667, 593939.5, 1102242.6666666...           -2.0   \n",
       "3    [1489050.6666666667, 592910.0, 1103734.6666666...           -2.0   \n",
       "4    [1489769.6666666667, 592196.5333333333, 110422...           -2.0   \n",
       "..                                                 ...            ...   \n",
       "960                                               None           -1.0   \n",
       "961                                               None           -1.0   \n",
       "962                                               None           -1.0   \n",
       "963                                               None           -1.0   \n",
       "964                                               None           -1.0   \n",
       "\n",
       "    soma_distance_euclidean  head_neck_shaft limb_branch  \n",
       "0                      None             -1.0      L-1_-1  \n",
       "1                      None             -1.0      L-1_-1  \n",
       "2                      None             -1.0      L-1_-1  \n",
       "3                      None             -1.0      L-1_-1  \n",
       "4                      None             -1.0      L-1_-1  \n",
       "..                      ...              ...         ...  \n",
       "960                    None              NaN      L-1_-1  \n",
       "961                    None              NaN      L-1_-1  \n",
       "962                    None              NaN      L-1_-1  \n",
       "963                    None              NaN      L-1_-1  \n",
       "964                    None              NaN      L-1_-1  \n",
       "\n",
       "[965 rows x 20 columns]"
      ]
     },
     "execution_count": 198,
     "metadata": {},
     "output_type": "execute_result"
    }
   ],
   "source": [
    "syn_df = syu.synapse_df(neuron_obj_proof)\n",
    "syn_df"
   ]
  },
  {
   "cell_type": "code",
   "execution_count": 200,
   "id": "cb2d0fcd",
   "metadata": {},
   "outputs": [
    {
     "data": {
      "text/plain": [
       "Index(['label', 'limb_idx', 'branch_idx', 'compartment', 'syn_type', 'syn_id',\n",
       "       'volume', 'endpoints_dist', 'upstream_dist', 'downstream_dist',\n",
       "       'coordinate', 'closest_sk_coordinate', 'closest_face_idx',\n",
       "       'closest_branch_face_idx', 'closest_face_dist',\n",
       "       'closest_face_coordinate', 'soma_distance', 'soma_distance_euclidean',\n",
       "       'head_neck_shaft', 'limb_branch'],\n",
       "      dtype='object')"
      ]
     },
     "execution_count": 200,
     "metadata": {},
     "output_type": "execute_result"
    }
   ],
   "source": [
    "syn_df.columns"
   ]
  },
  {
   "cell_type": "code",
   "execution_count": null,
   "id": "ded05be3",
   "metadata": {},
   "outputs": [],
   "source": []
  }
 ],
 "metadata": {
  "kernelspec": {
   "display_name": "Python 3 (ipykernel)",
   "language": "python",
   "name": "python3"
  },
  "language_info": {
   "codemirror_mode": {
    "name": "ipython",
    "version": 3
   },
   "file_extension": ".py",
   "mimetype": "text/x-python",
   "name": "python",
   "nbconvert_exporter": "python",
   "pygments_lexer": "ipython3",
   "version": "3.8.0"
  }
 },
 "nbformat": 4,
 "nbformat_minor": 5
}
