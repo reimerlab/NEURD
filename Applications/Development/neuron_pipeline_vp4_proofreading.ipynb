{
 "cells": [
  {
   "cell_type": "code",
   "execution_count": 1,
   "id": "077350ae",
   "metadata": {},
   "outputs": [],
   "source": [
    "%load_ext autoreload\n",
    "%autoreload 2"
   ]
  },
  {
   "cell_type": "code",
   "execution_count": null,
   "id": "29d70e01",
   "metadata": {},
   "outputs": [],
   "source": [
    "dicts_to_update = []\n",
    "\n",
    "\n",
    "cell_type = vdi.cell_type(neuron_obj)\n",
    "nucleus_id = vdi.nucleus_id(neuron_obj)\n",
    "\n",
    "limb_branch_to_cancel = pru.extract_from_filter_info(\n",
    "    filtering_info,\n",
    "    name_to_extract=\"limb_branch_dict_to_cancel\"\n",
    ")\n",
    "\n",
    "red_blue_suggestions = pru.extract_from_filter_info(\n",
    "    filtering_info,\n",
    "    name_to_extract = \"red_blue_suggestions\"\n",
    ")\n",
    "\n",
    "split_locations = pru.extract_from_filter_info(\n",
    "    filtering_info,\n",
    "    name_to_extract = \"split_locations\",\n",
    "    name_must_be_ending = True,)\n",
    "split_locations_before_filter = pru.extract_from_filter_info(\n",
    "    filtering_info,\n",
    "    name_to_extract = \"split_locations_before_filter\",\n",
    "    name_must_be_ending = True\n",
    ")\n",
    "\n",
    "filter_key = {k:np.round(v,2) for k,v in filtering_info.items() if \"area\" in k or \"length\" in k}\n",
    "\n",
    "G_after_proof = ctcu.G_with_attrs_from_neuron_obj(\n",
    "    neuron_obj_proof,\n",
    "    plot_G=True,\n",
    "    neuron_obj_attributes_dict = hdju.neuron_graph_attributes_to_set(\n",
    "    segment_id,split_index),\n",
    ")\n",
    "\n",
    "neuron_objs_dict = dict(\n",
    "        proof_version = proof_version,\n",
    "        limb_branch_to_cancel=limb_branch_to_cancel,\n",
    "        red_blue_suggestions=red_blue_suggestions,\n",
    "        split_locations = split_locations,\n",
    "        split_locations_before_filter=split_locations_before_filter,)\n",
    "\n",
    "neuron_objs_dict.update(filter_key)\n",
    "\n",
    "dicts_to_update.append(neuron_objs_dict)\n",
    "\n",
    "\n",
    "\n",
    "# ---- 5) Neuron Statistcs -----\n",
    "if verbose:\n",
    "    print(f\"\\n--5a) Neuron basics\")\n",
    "\n",
    "\n",
    "multiplicity = vdi.multiplicity(neuron_obj)\n",
    "soma_x,soma_y,soma_z = nru.soma_centers(neuron_obj_proof,\n",
    "                                       soma_name=\"S0\",\n",
    "                                       voxel_adjustment=True)\n",
    "basic_cell_dict = dict(multiplicity=multiplicity,\n",
    "                       soma_x=soma_x,\n",
    "                       soma_y=soma_y,\n",
    "                       soma_z=soma_z,\n",
    "                        cell_type=cell_type,\n",
    "                        cell_type_used = cell_type_used\n",
    "                      )\n",
    "dicts_to_update.append(basic_cell_dict)"
   ]
  },
  {
   "cell_type": "code",
   "execution_count": 235,
   "id": "c0765d62",
   "metadata": {
    "scrolled": true
   },
   "outputs": [],
   "source": [
    "import neurd"
   ]
  },
  {
   "cell_type": "code",
   "execution_count": 4,
   "id": "f59f25d5",
   "metadata": {
    "scrolled": true
   },
   "outputs": [],
   "source": [
    "from mesh_tools import trimesh_utils as tu\n",
    "from datasci_tools import ipyvolume_utils as ipvu\n",
    "from neurd import neuron_visualizations as nviz"
   ]
  },
  {
   "cell_type": "markdown",
   "id": "8c857d7b",
   "metadata": {},
   "source": [
    "# Load the appropriate volume data inferface object"
   ]
  },
  {
   "cell_type": "code",
   "execution_count": 5,
   "id": "863967b7",
   "metadata": {},
   "outputs": [],
   "source": [
    "from neurd.vdi_microns import volume_data_interface as vdi\n",
    "vdi.set_parameters_for_directory_modules()"
   ]
  },
  {
   "cell_type": "markdown",
   "id": "6f9b75c9",
   "metadata": {},
   "source": [
    "# Data Prep: Loading mesh"
   ]
  },
  {
   "cell_type": "code",
   "execution_count": 6,
   "id": "a1df55b6",
   "metadata": {},
   "outputs": [],
   "source": [
    "segment_id = 123"
   ]
  },
  {
   "cell_type": "code",
   "execution_count": 7,
   "id": "3c95c75b",
   "metadata": {},
   "outputs": [
    {
     "name": "stderr",
     "output_type": "stream",
     "text": [
      "/usr/local/lib/python3.8/dist-packages/traittypes/traittypes.py:97: UserWarning: Given trait value dtype \"float64\" does not match required type \"float64\". A coerced copy has been created.\n",
      "  warnings.warn(\n"
     ]
    },
    {
     "data": {
      "application/vnd.jupyter.widget-view+json": {
       "model_id": "f167f6c67de1412d844473a199d7128b",
       "version_major": 2,
       "version_minor": 0
      },
      "text/plain": [
       "Container(figure=Figure(box_center=[0.5, 0.5, 0.5], box_size=[1.0, 1.0, 1.0], camera=PerspectiveCamera(fov=45.…"
      ]
     },
     "metadata": {},
     "output_type": "display_data"
    },
    {
     "data": {
      "text/plain": [
       "<trimesh.Trimesh(vertices.shape=(154713, 3), faces.shape=(323535, 3))>"
      ]
     },
     "execution_count": 7,
     "metadata": {},
     "output_type": "execute_result"
    }
   ],
   "source": [
    "mesh = vdi.fetch_segment_id_mesh(\n",
    "    segment_id,\n",
    "    plot = True\n",
    ")\n",
    "mesh"
   ]
  },
  {
   "cell_type": "code",
   "execution_count": 8,
   "id": "0cfc1789",
   "metadata": {},
   "outputs": [
    {
     "data": {
      "text/plain": [
       "<datasci_tools.pipeline.PipelineProducts at 0x7f7f6c201fd0>"
      ]
     },
     "execution_count": 8,
     "metadata": {},
     "output_type": "execute_result"
    }
   ],
   "source": [
    "from datasci_tools import pipeline\n",
    "\n",
    "products = pipeline.PipelineProducts()\n",
    "products"
   ]
  },
  {
   "cell_type": "markdown",
   "id": "7a30c933",
   "metadata": {},
   "source": [
    "# Step 1: Decimation"
   ]
  },
  {
   "cell_type": "code",
   "execution_count": 9,
   "id": "29e0844f",
   "metadata": {},
   "outputs": [
    {
     "data": {
      "text/plain": [
       "\"\\nNOTE: an already decimated mesh is used for the example\\nin order to speed up time, that's why the mesh_dec\\nobject will be overwritten with original mesh object\\n\""
      ]
     },
     "execution_count": 9,
     "metadata": {},
     "output_type": "execute_result"
    }
   ],
   "source": [
    "\"\"\"\n",
    "NOTE: an already decimated mesh is used for the example\n",
    "in order to speed up time, that's why the mesh_dec\n",
    "object will be overwritten with original mesh object\n",
    "\"\"\""
   ]
  },
  {
   "cell_type": "code",
   "execution_count": 10,
   "id": "cdbb6e70",
   "metadata": {},
   "outputs": [],
   "source": [
    "decimation_parameters = dict(\n",
    "    decimation_ratio =0.25,\n",
    ")"
   ]
  },
  {
   "cell_type": "code",
   "execution_count": 11,
   "id": "b3973f2c",
   "metadata": {},
   "outputs": [
    {
     "name": "stdout",
     "output_type": "stream",
     "text": [
      "xvfb-run -n 2700 -s \"-screen 0 800x600x24\" meshlabserver $@  -i /neurd_packages/NEURD/Applications/autoproof_neuron_pipeline/temp/neuron_24953.off -o /neurd_packages/NEURD/Applications/autoproof_neuron_pipeline/temp/neuron_24953_decimated.off -s /neurd_packages/NEURD/Applications/autoproof_neuron_pipeline/temp/decimation_meshlab_25933010.mls\n"
     ]
    }
   ],
   "source": [
    "mesh_decimated = tu.decimate(\n",
    "    mesh,\n",
    "    **decimation_parameters\n",
    ")"
   ]
  },
  {
   "cell_type": "code",
   "execution_count": 12,
   "id": "bbf7c8d0",
   "metadata": {},
   "outputs": [
    {
     "name": "stdout",
     "output_type": "stream",
     "text": [
      "{\n",
      "  'decimation':\n",
      "  {\n",
      "    'decimation_parameters':\n",
      "    {\n",
      "      'decimation_ratio':0.25,\n",
      "    },\n",
      "  },\n",
      "}\n",
      "\n"
     ]
    }
   ],
   "source": [
    "# saving any parameters used or output products for later use\n",
    "products.set_stage_attrs(\n",
    "    stage = \"decimation\",\n",
    "    attr_dict = dict(\n",
    "        decimation_parameters = decimation_parameters,\n",
    "    ),\n",
    "    \n",
    ")\n",
    "\n",
    "print(products)"
   ]
  },
  {
   "cell_type": "markdown",
   "id": "bc57fd52",
   "metadata": {},
   "source": [
    "# Step 2: Soma Identification"
   ]
  },
  {
   "cell_type": "code",
   "execution_count": 13,
   "id": "6f3d2107",
   "metadata": {},
   "outputs": [],
   "source": [
    "from neurd.vdi_microns import volume_data_interface as vdi\n",
    "vdi.set_parameters_for_directory_modules()"
   ]
  },
  {
   "cell_type": "code",
   "execution_count": 14,
   "id": "8866641c",
   "metadata": {},
   "outputs": [],
   "source": [
    "from neurd import soma_extraction_utils as sm\n",
    "soma_extraction_parameters = dict()"
   ]
  },
  {
   "cell_type": "code",
   "execution_count": 15,
   "id": "b65f18a1",
   "metadata": {},
   "outputs": [
    {
     "data": {
      "text/plain": [
       "{'glia_volume_threshold_in_um_global': 2500,\n",
       " 'glia_n_faces_threshold_global': 400000,\n",
       " 'glia_n_faces_min_global': 100000}"
      ]
     },
     "execution_count": 15,
     "metadata": {},
     "output_type": "execute_result"
    }
   ],
   "source": [
    "# could inspect the parameters of a certain category\n",
    "from neurd import parameter_utils as paru\n",
    "paru.category_param_from_module(\n",
    "        module = sm,\n",
    "        category = \"glia\",\n",
    ")"
   ]
  },
  {
   "cell_type": "code",
   "execution_count": 16,
   "id": "24667352",
   "metadata": {},
   "outputs": [],
   "source": [
    "# overwritting decimated mesh because original was already decimated\n",
    "mesh_decimated = mesh"
   ]
  },
  {
   "cell_type": "code",
   "execution_count": 17,
   "id": "b6ff9777",
   "metadata": {
    "scrolled": true
   },
   "outputs": [
    {
     "name": "stdout",
     "output_type": "stream",
     "text": [
      "Current Arguments Using (adjusted for decimation):\n",
      " large_mesh_threshold= 5000.0 \n",
      "large_mesh_threshold_inner = 3250.0 \n",
      "soma_size_threshold = 562.5 \n",
      "soma_size_threshold_max = 75000.0\n",
      "outer_decimation_ratio = 0.25\n",
      "inner_decimation_ratio = 0.25\n",
      "max_mesh_sized_filtered_away = 22500.0\n",
      "xvfb-run -n 6912 -s \"-screen 0 800x600x24\" meshlabserver $@  -i /neurd_packages/NEURD/Applications/autoproof_neuron_pipeline/temp/neuron_65990.off -o /neurd_packages/NEURD/Applications/autoproof_neuron_pipeline/temp/neuron_65990_remove_interior.off -s /neurd_packages/NEURD/Applications/autoproof_neuron_pipeline/temp/remove_interior_592675.mls\n",
      "removed temporary input file: /neurd_packages/NEURD/Applications/autoproof_neuron_pipeline/temp/neuron_65990.off\n",
      "removed temporary output file: /neurd_packages/NEURD/Applications/autoproof_neuron_pipeline/temp/neuron_65990_remove_interior.off\n",
      "/neurd_packages/NEURD/Applications/autoproof_neuron_pipeline/temp/remove_interior_592675.mls is being deleted....\n",
      "There were 16 total interior meshes\n",
      "Pieces satisfying glia requirements (volume) (x >= 2500000000000): 0\n",
      "Pieces satisfying nuclie requirements: n_faces (700 <= x) and volume (x < 2500000000000) : 16\n",
      "inside remove_mesh_interior and using precomputed inside_pieces\n",
      "Removing the following inside neurons: [<trimesh.Trimesh(vertices.shape=(6494, 3), faces.shape=(15575, 3))>, <trimesh.Trimesh(vertices.shape=(3252, 3), faces.shape=(5804, 3))>, <trimesh.Trimesh(vertices.shape=(2064, 3), faces.shape=(4789, 3))>, <trimesh.Trimesh(vertices.shape=(2022, 3), faces.shape=(4628, 3))>, <trimesh.Trimesh(vertices.shape=(1922, 3), faces.shape=(4396, 3))>, <trimesh.Trimesh(vertices.shape=(1089, 3), faces.shape=(2556, 3))>, <trimesh.Trimesh(vertices.shape=(864, 3), faces.shape=(1989, 3))>, <trimesh.Trimesh(vertices.shape=(723, 3), faces.shape=(1611, 3))>, <trimesh.Trimesh(vertices.shape=(693, 3), faces.shape=(1561, 3))>, <trimesh.Trimesh(vertices.shape=(612, 3), faces.shape=(1378, 3))>, <trimesh.Trimesh(vertices.shape=(456, 3), faces.shape=(742, 3))>, <trimesh.Trimesh(vertices.shape=(344, 3), faces.shape=(727, 3))>]\n",
      "\n",
      "\n",
      "Original Mesh size: 323535, Final mesh size: 277773\n",
      "Total time = 20.22167468070984\n",
      "xvfb-run -n 4359 -s \"-screen 0 800x600x24\" meshlabserver $@  -i /neurd_packages/NEURD/Applications/autoproof_neuron_pipeline/12345/neuron_12345.off -o /neurd_packages/NEURD/Applications/autoproof_neuron_pipeline/12345/neuron_12345_decimated.off -s /neurd_packages/NEURD/Applications/autoproof_neuron_pipeline/12345/decimation_meshlab_25903426.mls\n",
      "Total found significant pieces before Poisson = [<trimesh.Trimesh(vertices.shape=(29969, 3), faces.shape=(56262, 3))>]\n",
      "----- working on large mesh #0: <trimesh.Trimesh(vertices.shape=(29969, 3), faces.shape=(56262, 3))>\n",
      "remove_inside_pieces requested \n",
      "xvfb-run -n 2320 -s \"-screen 0 800x600x24\" meshlabserver $@  -i /neurd_packages/NEURD/Applications/autoproof_neuron_pipeline/temp/neuron_86101.off -o /neurd_packages/NEURD/Applications/autoproof_neuron_pipeline/temp/neuron_86101_remove_interior.off -s /neurd_packages/NEURD/Applications/autoproof_neuron_pipeline/temp/remove_interior_647557.mls\n",
      "removed temporary input file: /neurd_packages/NEURD/Applications/autoproof_neuron_pipeline/temp/neuron_86101.off\n",
      "removed temporary output file: /neurd_packages/NEURD/Applications/autoproof_neuron_pipeline/temp/neuron_86101_remove_interior.off\n",
      "/neurd_packages/NEURD/Applications/autoproof_neuron_pipeline/temp/remove_interior_647557.mls is being deleted....\n",
      "No significant (1000) interior meshes present\n",
      "largest is 163\n",
      "pre_largest_mesh_path = /neurd_packages/NEURD/Applications/autoproof_neuron_pipeline/12345/neuron_12345_decimated_largest_piece.off\n",
      "xvfb-run -n 1582 -s \"-screen 0 800x600x24\" meshlabserver $@  -i /neurd_packages/NEURD/Applications/autoproof_neuron_pipeline/12345/neuron_12345_decimated_largest_piece.off -o /neurd_packages/NEURD/Applications/autoproof_neuron_pipeline/12345/neuron_12345_decimated_largest_piece_poisson.off -s /neurd_packages/NEURD/Applications/autoproof_neuron_pipeline/12345/poisson_45140.mls\n",
      "Total found significant pieces AFTER Poisson = [<trimesh.Trimesh(vertices.shape=(14489, 3), faces.shape=(28990, 3))>, <trimesh.Trimesh(vertices.shape=(10700, 3), faces.shape=(21396, 3))>]\n",
      "----- working on mesh after poisson #0: <trimesh.Trimesh(vertices.shape=(14489, 3), faces.shape=(28990, 3))>\n",
      "xvfb-run -n 4395 -s \"-screen 0 800x600x24\" meshlabserver $@  -i /neurd_packages/NEURD/Applications/autoproof_neuron_pipeline/12345/neuron_12345_decimated_largest_piece_poisson_largest_inner.off -o /neurd_packages/NEURD/Applications/autoproof_neuron_pipeline/12345/neuron_12345_decimated_largest_piece_poisson_largest_inner_decimated.off -s /neurd_packages/NEURD/Applications/autoproof_neuron_pipeline/12345/decimation_meshlab_25837129.mls\n",
      "\n",
      "-------Splits after inner decimation len = 1--------\n",
      "\n",
      "done exporting decimated mesh: neuron_12345_decimated_largest_piece_poisson_largest_inner.off\n",
      "\n",
      "    --- On segmentation loop 0 --\n",
      "largest_mesh_path_inner_decimated_clean = <trimesh.Trimesh(vertices.shape=(3614, 3), faces.shape=(7240, 3))>\n",
      "\n",
      "largest_mesh_path_inner_decimated_clean = <trimesh.Trimesh(vertices.shape=(3614, 3), faces.shape=(7240, 3))>\n",
      "soma_size_threshold = 562.5\n",
      "soma_size_threshold_max = 75000.0\n",
      "soma_width_threshold = 0.32\n",
      "\n",
      "Number of segments: 9\n",
      "\n"
     ]
    },
    {
     "data": {
      "application/vnd.jupyter.widget-view+json": {
       "model_id": "d75a07a9ff9740d598851b42f325f993",
       "version_major": 2,
       "version_minor": 0
      },
      "text/plain": [
       "  0%|          | 0/9 [00:00<?, ?it/s]"
      ]
     },
     "metadata": {},
     "output_type": "display_data"
    },
    {
     "name": "stdout",
     "output_type": "stream",
     "text": [
      "      ------ Found 1 viable somas: [0.769893]\n",
      "Using Poisson Surface Reconstruction for watertightness in soma_volume_ratio\n",
      "xvfb-run -n 9599 -s \"-screen 0 800x600x24\" meshlabserver $@  -i /neurd_packages/NEURD/Applications/autoproof_neuron_pipeline/Poisson_temp/neuron_49625.off -o /neurd_packages/NEURD/Applications/autoproof_neuron_pipeline/Poisson_temp/neuron_49625_poisson.off -s /neurd_packages/NEURD/Applications/autoproof_neuron_pipeline/Poisson_temp/poisson_519951.mls\n",
      "removed temporary input file: /neurd_packages/NEURD/Applications/autoproof_neuron_pipeline/Poisson_temp/neuron_49625.off\n",
      "removed temporary output file: /neurd_packages/NEURD/Applications/autoproof_neuron_pipeline/Poisson_temp/neuron_49625_poisson.off\n",
      "mesh.is_watertight = True\n",
      "/neurd_packages/NEURD/Applications/autoproof_neuron_pipeline/Poisson_temp/poisson_519951.mls is being deleted....\n",
      "Inside sphere validater: ratio_val = 2.7266923461590085\n",
      "----- working on mesh after poisson #1: <trimesh.Trimesh(vertices.shape=(10700, 3), faces.shape=(21396, 3))>\n",
      "xvfb-run -n 5421 -s \"-screen 0 800x600x24\" meshlabserver $@  -i /neurd_packages/NEURD/Applications/autoproof_neuron_pipeline/12345/neuron_12345_decimated_largest_piece_poisson_largest_inner.off -o /neurd_packages/NEURD/Applications/autoproof_neuron_pipeline/12345/neuron_12345_decimated_largest_piece_poisson_largest_inner_decimated.off -s /neurd_packages/NEURD/Applications/autoproof_neuron_pipeline/12345/decimation_meshlab_25837129.mls\n",
      "\n",
      "-------Splits after inner decimation len = 1--------\n",
      "\n",
      "done exporting decimated mesh: neuron_12345_decimated_largest_piece_poisson_largest_inner.off\n",
      "\n",
      "    --- On segmentation loop 0 --\n",
      "largest_mesh_path_inner_decimated_clean = <trimesh.Trimesh(vertices.shape=(2671, 3), faces.shape=(5338, 3))>\n",
      "\n",
      "largest_mesh_path_inner_decimated_clean = <trimesh.Trimesh(vertices.shape=(2671, 3), faces.shape=(5338, 3))>\n",
      "soma_size_threshold = 562.5\n",
      "soma_size_threshold_max = 75000.0\n",
      "soma_width_threshold = 0.32\n",
      "\n",
      "Number of segments: 3\n",
      "\n"
     ]
    },
    {
     "data": {
      "application/vnd.jupyter.widget-view+json": {
       "model_id": "4c6a92d87d664c2c96e700d0ff1366f1",
       "version_major": 2,
       "version_minor": 0
      },
      "text/plain": [
       "  0%|          | 0/3 [00:00<?, ?it/s]"
      ]
     },
     "metadata": {},
     "output_type": "display_data"
    },
    {
     "name": "stdout",
     "output_type": "stream",
     "text": [
      "      ------ Found 2 viable somas: [0.781901, 0.3351845]\n",
      "Using Poisson Surface Reconstruction for watertightness in soma_volume_ratio\n",
      "xvfb-run -n 9147 -s \"-screen 0 800x600x24\" meshlabserver $@  -i /neurd_packages/NEURD/Applications/autoproof_neuron_pipeline/Poisson_temp/neuron_214150.off -o /neurd_packages/NEURD/Applications/autoproof_neuron_pipeline/Poisson_temp/neuron_214150_poisson.off -s /neurd_packages/NEURD/Applications/autoproof_neuron_pipeline/Poisson_temp/poisson_116730.mls\n",
      "removed temporary input file: /neurd_packages/NEURD/Applications/autoproof_neuron_pipeline/Poisson_temp/neuron_214150.off\n",
      "removed temporary output file: /neurd_packages/NEURD/Applications/autoproof_neuron_pipeline/Poisson_temp/neuron_214150_poisson.off\n",
      "mesh.is_watertight = True\n",
      "/neurd_packages/NEURD/Applications/autoproof_neuron_pipeline/Poisson_temp/poisson_116730.mls is being deleted....\n",
      "Inside sphere validater: ratio_val = 2.130721459144365\n",
      "Using Poisson Surface Reconstruction for watertightness in soma_volume_ratio\n",
      "xvfb-run -n 8403 -s \"-screen 0 800x600x24\" meshlabserver $@  -i /neurd_packages/NEURD/Applications/autoproof_neuron_pipeline/Poisson_temp/neuron_413707.off -o /neurd_packages/NEURD/Applications/autoproof_neuron_pipeline/Poisson_temp/neuron_413707_poisson.off -s /neurd_packages/NEURD/Applications/autoproof_neuron_pipeline/Poisson_temp/poisson_349561.mls\n",
      "removed temporary input file: /neurd_packages/NEURD/Applications/autoproof_neuron_pipeline/Poisson_temp/neuron_413707.off\n",
      "removed temporary output file: /neurd_packages/NEURD/Applications/autoproof_neuron_pipeline/Poisson_temp/neuron_413707_poisson.off\n",
      "mesh.is_watertight = True\n",
      "/neurd_packages/NEURD/Applications/autoproof_neuron_pipeline/Poisson_temp/poisson_349561.mls is being deleted....\n",
      "Inside sphere validater: ratio_val = 2.4907819152454254\n",
      "\n",
      "\n",
      "\n",
      " Total time for run = 77.18859672546387\n",
      "Before Filtering the number of somas found = 3\n",
      "\n",
      "---Performing Soma Mesh Backtracking to original mesh for poisson soma 0\n",
      "backtrack_soma_size_threshold = 8000\n",
      "xvfb-run -n 192 -s \"-screen 0 800x600x24\" meshlabserver $@  -i /neurd_packages/NEURD/Applications/autoproof_neuron_pipeline/temp/neuron_98022.off -o /neurd_packages/NEURD/Applications/autoproof_neuron_pipeline/temp/neuron_98022_fill_holes.off -s /neurd_packages/NEURD/Applications/autoproof_neuron_pipeline/temp/fill_holes_894441.mls\n",
      "\n",
      "---- meshlab output -----\n",
      "QStandardPaths: XDG_RUNTIME_DIR not set, defaulting to '/tmp/runtime-root'\n",
      "Current Plugins Dir is: /meshlab/src/distrib/plugins \n",
      "Error While parsing the XML filter plugin descriptors: We are trying to load a xml file that does not correspond to any dll or javascript code; please delete all the spurious xml files\n",
      "Error While parsing the XML filter plugin descriptors: We are trying to load a xml file that does not correspond to any dll or javascript code; please delete all the spurious xml files\n",
      "Opening a file with extention off\n",
      "FilterScript\n",
      "Reading filter with name Remove Duplicate Vertices\n",
      "Reading filter with name Remove Faces from Non Manifold Edges\n",
      "Reading filter with name Close Holes\n",
      "    Reading Param with name MaxHoleSize : RichInt\n",
      "    Reading Param with name Selected : RichBool\n",
      "    Reading Param with name NewFaceSelected : RichBool\n",
      "    Reading Param with name SelfIntersection : RichBool\n",
      "Loading Plugins:\n",
      "Total 105 filtering actions\n",
      "Total 1 io plugins\n",
      "Mesh /neurd_packages/NEURD/Applications/autoproof_neuron_pipeline/temp/neuron_98022.off loaded has 21848 vn 42079 fn\n",
      "output mesh  /neurd_packages/NEURD/Applications/autoproof_neuron_pipeline/temp/neuron_98022_fill_holes.off\n",
      "Apply FilterScript: '/neurd_packages/NEURD/Applications/autoproof_neuron_pipeline/temp/fill_holes_894441.mls'\n",
      "Starting Script of 3 actionsfilter: Remove Duplicate Vertices\n",
      "no additional memory available!!! memory required: 1029300\n",
      "LOG: 2 Removed 0 duplicated vertices\n",
      "Removed 0 duplicated vertices\n",
      "filter: Remove Faces from Non Manifold Edges\n",
      "no additional memory available!!! memory required: 1029300\n",
      "LOG: 2 Successfully removed 4223 non-manifold faces\n",
      "Removed 0 duplicated vertices\n",
      "Successfully removed 4223 non-manifold faces\n",
      "filter: Close Holes\n",
      "no additional memory available!!! memory required: 978624\n",
      "meshlabserver: ../../../../vcglib/vcg/complex/algorithms/hole.h:259: bool vcg::tri::TrivialEar<MESH>::Close(vcg::tri::TrivialEar<MESH>::PosType&, vcg::tri::TrivialEar<MESH>::PosType&, vcg::tri::TrivialEar<MESH>::FaceType*) [with MESH = CMeshO; vcg::tri::TrivialEar<MESH>::PosType = vcg::face::Pos<CFaceO>; typename MeshType::FaceType = CFaceO; vcg::tri::TrivialEar<MESH>::FaceType = CFaceO]: Assertion `e1.v->IsUserBit(NonManifoldBit())' failed.\n",
      "Aborted (core dumped)\n",
      "\n",
      "\n",
      " returncode ====== 134\n",
      "\n",
      " ------ Done with meshlab output------\n",
      "/neurd_packages/NEURD/Applications/autoproof_neuron_pipeline/temp/fill_holes_894441.mls is being deleted....\n",
      "The hole closing did not work so continuing without\n",
      "xvfb-run -n 1209 -s \"-screen 0 800x600x24\" meshlabserver $@  -i /neurd_packages/NEURD/Applications/autoproof_neuron_pipeline/temp/neuron_24310.off -o /neurd_packages/NEURD/Applications/autoproof_neuron_pipeline/temp/neuron_24310_remove_interior.off -s /neurd_packages/NEURD/Applications/autoproof_neuron_pipeline/temp/remove_interior_179046.mls\n",
      "removed temporary input file: /neurd_packages/NEURD/Applications/autoproof_neuron_pipeline/temp/neuron_24310.off\n",
      "removed temporary output file: /neurd_packages/NEURD/Applications/autoproof_neuron_pipeline/temp/neuron_24310_remove_interior.off\n",
      "/neurd_packages/NEURD/Applications/autoproof_neuron_pipeline/temp/remove_interior_179046.mls is being deleted....\n",
      "Removing the following inside neurons: [<trimesh.Trimesh(vertices.shape=(363, 3), faces.shape=(876, 3))>, <trimesh.Trimesh(vertices.shape=(301, 3), faces.shape=(613, 3))>, <trimesh.Trimesh(vertices.shape=(253, 3), faces.shape=(632, 3))>, <trimesh.Trimesh(vertices.shape=(199, 3), faces.shape=(446, 3))>, <trimesh.Trimesh(vertices.shape=(176, 3), faces.shape=(418, 3))>]\n",
      "split_meshes_after_backtrack = [<trimesh.Trimesh(vertices.shape=(11386, 3), faces.shape=(22560, 3))>]\n",
      "soma_size_threshold = 8000\n",
      "After backtrack the found 1 possible somas: [<trimesh.Trimesh(vertices.shape=(11386, 3), faces.shape=(22560, 3))>] \n",
      "\n",
      "--- working on backtrack soma 0: <trimesh.Trimesh(vertices.shape=(11386, 3), faces.shape=(22560, 3))>\n",
      "poisson_backtrack_distance_threshold = None\n",
      "Using Poisson Surface Reconstruction for watertightness in soma_volume_ratio\n",
      "xvfb-run -n 3603 -s \"-screen 0 800x600x24\" meshlabserver $@  -i /neurd_packages/NEURD/Applications/autoproof_neuron_pipeline/Poisson_temp/neuron_928636.off -o /neurd_packages/NEURD/Applications/autoproof_neuron_pipeline/Poisson_temp/neuron_928636_poisson.off -s /neurd_packages/NEURD/Applications/autoproof_neuron_pipeline/Poisson_temp/poisson_250545.mls\n",
      "removed temporary input file: /neurd_packages/NEURD/Applications/autoproof_neuron_pipeline/Poisson_temp/neuron_928636.off\n",
      "removed temporary output file: /neurd_packages/NEURD/Applications/autoproof_neuron_pipeline/Poisson_temp/neuron_928636_poisson.off\n",
      "mesh.is_watertight = True\n",
      "/neurd_packages/NEURD/Applications/autoproof_neuron_pipeline/Poisson_temp/poisson_250545.mls is being deleted....\n",
      "Inside sphere validater: ratio_val = 4.115475404999649\n",
      "About to add the following inside nuclei pieces after soma backtrack: [<trimesh.Trimesh(vertices.shape=(6494, 3), faces.shape=(15575, 3))>, <trimesh.Trimesh(vertices.shape=(3256, 3), faces.shape=(5810, 3))>, <trimesh.Trimesh(vertices.shape=(2064, 3), faces.shape=(4789, 3))>, <trimesh.Trimesh(vertices.shape=(2022, 3), faces.shape=(4628, 3))>, <trimesh.Trimesh(vertices.shape=(1922, 3), faces.shape=(4396, 3))>, <trimesh.Trimesh(vertices.shape=(1089, 3), faces.shape=(2556, 3))>, <trimesh.Trimesh(vertices.shape=(864, 3), faces.shape=(1989, 3))>, <trimesh.Trimesh(vertices.shape=(723, 3), faces.shape=(1611, 3))>, <trimesh.Trimesh(vertices.shape=(693, 3), faces.shape=(1561, 3))>, <trimesh.Trimesh(vertices.shape=(612, 3), faces.shape=(1378, 3))>, <trimesh.Trimesh(vertices.shape=(456, 3), faces.shape=(742, 3))>, <trimesh.Trimesh(vertices.shape=(344, 3), faces.shape=(727, 3))>]\n",
      "\n",
      "---Performing Soma Mesh Backtracking to original mesh for poisson soma 1\n",
      "backtrack_soma_size_threshold = 8000\n"
     ]
    },
    {
     "name": "stdout",
     "output_type": "stream",
     "text": [
      "xvfb-run -n 407 -s \"-screen 0 800x600x24\" meshlabserver $@  -i /neurd_packages/NEURD/Applications/autoproof_neuron_pipeline/temp/neuron_40987.off -o /neurd_packages/NEURD/Applications/autoproof_neuron_pipeline/temp/neuron_40987_fill_holes.off -s /neurd_packages/NEURD/Applications/autoproof_neuron_pipeline/temp/fill_holes_655985.mls\n",
      "\n",
      "---- meshlab output -----\n",
      "QStandardPaths: XDG_RUNTIME_DIR not set, defaulting to '/tmp/runtime-root'\n",
      "Current Plugins Dir is: /meshlab/src/distrib/plugins \n",
      "Error While parsing the XML filter plugin descriptors: We are trying to load a xml file that does not correspond to any dll or javascript code; please delete all the spurious xml files\n",
      "Error While parsing the XML filter plugin descriptors: We are trying to load a xml file that does not correspond to any dll or javascript code; please delete all the spurious xml files\n",
      "Opening a file with extention off\n",
      "FilterScript\n",
      "Reading filter with name Remove Duplicate Vertices\n",
      "Reading filter with name Remove Faces from Non Manifold Edges\n",
      "Reading filter with name Close Holes\n",
      "    Reading Param with name MaxHoleSize : RichInt\n",
      "    Reading Param with name Selected : RichBool\n",
      "    Reading Param with name NewFaceSelected : RichBool\n",
      "    Reading Param with name SelfIntersection : RichBool\n",
      "Loading Plugins:\n",
      "Total 105 filtering actions\n",
      "Total 1 io plugins\n",
      "Mesh /neurd_packages/NEURD/Applications/autoproof_neuron_pipeline/temp/neuron_40987.off loaded has 11899 vn 22569 fn\n",
      "output mesh  /neurd_packages/NEURD/Applications/autoproof_neuron_pipeline/temp/neuron_40987_fill_holes.off\n",
      "Apply FilterScript: '/neurd_packages/NEURD/Applications/autoproof_neuron_pipeline/temp/fill_holes_655985.mls'\n",
      "Starting Script of 3 actionsfilter: Remove Duplicate Vertices\n",
      "no additional memory available!!! memory required: 556404\n",
      "LOG: 2 Removed 0 duplicated vertices\n",
      "Removed 0 duplicated vertices\n",
      "filter: Remove Faces from Non Manifold Edges\n",
      "no additional memory available!!! memory required: 556404\n",
      "LOG: 2 Successfully removed 1995 non-manifold faces\n",
      "Removed 0 duplicated vertices\n",
      "Successfully removed 1995 non-manifold faces\n",
      "filter: Close Holes\n",
      "no additional memory available!!! memory required: 532464\n",
      "meshlabserver: ../../../../vcglib/vcg/complex/algorithms/hole.h:259: bool vcg::tri::TrivialEar<MESH>::Close(vcg::tri::TrivialEar<MESH>::PosType&, vcg::tri::TrivialEar<MESH>::PosType&, vcg::tri::TrivialEar<MESH>::FaceType*) [with MESH = CMeshO; vcg::tri::TrivialEar<MESH>::PosType = vcg::face::Pos<CFaceO>; typename MeshType::FaceType = CFaceO; vcg::tri::TrivialEar<MESH>::FaceType = CFaceO]: Assertion `e1.v->IsUserBit(NonManifoldBit())' failed.\n",
      "Aborted (core dumped)\n",
      "\n",
      "\n",
      " returncode ====== 134\n",
      "\n",
      " ------ Done with meshlab output------\n",
      "/neurd_packages/NEURD/Applications/autoproof_neuron_pipeline/temp/fill_holes_655985.mls is being deleted....\n",
      "The hole closing did not work so continuing without\n",
      "xvfb-run -n 3386 -s \"-screen 0 800x600x24\" meshlabserver $@  -i /neurd_packages/NEURD/Applications/autoproof_neuron_pipeline/temp/neuron_76905.off -o /neurd_packages/NEURD/Applications/autoproof_neuron_pipeline/temp/neuron_76905_remove_interior.off -s /neurd_packages/NEURD/Applications/autoproof_neuron_pipeline/temp/remove_interior_71874.mls\n",
      "removed temporary input file: /neurd_packages/NEURD/Applications/autoproof_neuron_pipeline/temp/neuron_76905.off\n",
      "removed temporary output file: /neurd_packages/NEURD/Applications/autoproof_neuron_pipeline/temp/neuron_76905_remove_interior.off\n",
      "/neurd_packages/NEURD/Applications/autoproof_neuron_pipeline/temp/remove_interior_71874.mls is being deleted....\n",
      "Removing the following inside neurons: [<trimesh.Trimesh(vertices.shape=(328, 3), faces.shape=(686, 3))>, <trimesh.Trimesh(vertices.shape=(145, 3), faces.shape=(317, 3))>]\n",
      "split_meshes_after_backtrack = [<trimesh.Trimesh(vertices.shape=(4698, 3), faces.shape=(7809, 3))>, <trimesh.Trimesh(vertices.shape=(2761, 3), faces.shape=(4711, 3))>]\n",
      "soma_size_threshold = 8000\n",
      "After backtrack the found 0 possible somas: [] \n",
      "\n",
      "---Performing Soma Mesh Backtracking to original mesh for poisson soma 2\n",
      "backtrack_soma_size_threshold = 8000\n",
      "xvfb-run -n 5506 -s \"-screen 0 800x600x24\" meshlabserver $@  -i /neurd_packages/NEURD/Applications/autoproof_neuron_pipeline/temp/neuron_54402.off -o /neurd_packages/NEURD/Applications/autoproof_neuron_pipeline/temp/neuron_54402_fill_holes.off -s /neurd_packages/NEURD/Applications/autoproof_neuron_pipeline/temp/fill_holes_753694.mls\n",
      "\n",
      "---- meshlab output -----\n",
      "QStandardPaths: XDG_RUNTIME_DIR not set, defaulting to '/tmp/runtime-root'\n",
      "Current Plugins Dir is: /meshlab/src/distrib/plugins \n",
      "Error While parsing the XML filter plugin descriptors: We are trying to load a xml file that does not correspond to any dll or javascript code; please delete all the spurious xml files\n",
      "Error While parsing the XML filter plugin descriptors: We are trying to load a xml file that does not correspond to any dll or javascript code; please delete all the spurious xml files\n",
      "Opening a file with extention off\n",
      "FilterScript\n",
      "Reading filter with name Remove Duplicate Vertices\n",
      "Reading filter with name Remove Faces from Non Manifold Edges\n",
      "Reading filter with name Close Holes\n",
      "    Reading Param with name MaxHoleSize : RichInt\n",
      "    Reading Param with name Selected : RichBool\n",
      "    Reading Param with name NewFaceSelected : RichBool\n",
      "    Reading Param with name SelfIntersection : RichBool\n",
      "Loading Plugins:\n",
      "Total 105 filtering actions\n",
      "Total 1 io plugins\n",
      "Mesh /neurd_packages/NEURD/Applications/autoproof_neuron_pipeline/temp/neuron_54402.off loaded has 11083 vn 21026 fn\n",
      "output mesh  /neurd_packages/NEURD/Applications/autoproof_neuron_pipeline/temp/neuron_54402_fill_holes.off\n",
      "Apply FilterScript: '/neurd_packages/NEURD/Applications/autoproof_neuron_pipeline/temp/fill_holes_753694.mls'\n",
      "Starting Script of 3 actionsfilter: Remove Duplicate Vertices\n",
      "no additional memory available!!! memory required: 518304\n",
      "LOG: 2 Removed 0 duplicated vertices\n",
      "Removed 0 duplicated vertices\n",
      "filter: Remove Faces from Non Manifold Edges\n",
      "no additional memory available!!! memory required: 518304\n",
      "LOG: 2 Successfully removed 1600 non-manifold faces\n",
      "Removed 0 duplicated vertices\n",
      "Successfully removed 1600 non-manifold faces\n",
      "filter: Close Holes\n",
      "no additional memory available!!! memory required: 499104\n",
      "meshlabserver: ../../../../vcglib/vcg/complex/algorithms/hole.h:259: bool vcg::tri::TrivialEar<MESH>::Close(vcg::tri::TrivialEar<MESH>::PosType&, vcg::tri::TrivialEar<MESH>::PosType&, vcg::tri::TrivialEar<MESH>::FaceType*) [with MESH = CMeshO; vcg::tri::TrivialEar<MESH>::PosType = vcg::face::Pos<CFaceO>; typename MeshType::FaceType = CFaceO; vcg::tri::TrivialEar<MESH>::FaceType = CFaceO]: Assertion `e1.v->IsUserBit(NonManifoldBit())' failed.\n",
      "Aborted (core dumped)\n",
      "\n",
      "\n",
      " returncode ====== 134\n",
      "\n",
      " ------ Done with meshlab output------\n",
      "/neurd_packages/NEURD/Applications/autoproof_neuron_pipeline/temp/fill_holes_753694.mls is being deleted....\n",
      "The hole closing did not work so continuing without\n",
      "xvfb-run -n 2311 -s \"-screen 0 800x600x24\" meshlabserver $@  -i /neurd_packages/NEURD/Applications/autoproof_neuron_pipeline/temp/neuron_93568.off -o /neurd_packages/NEURD/Applications/autoproof_neuron_pipeline/temp/neuron_93568_remove_interior.off -s /neurd_packages/NEURD/Applications/autoproof_neuron_pipeline/temp/remove_interior_226052.mls\n",
      "removed temporary input file: /neurd_packages/NEURD/Applications/autoproof_neuron_pipeline/temp/neuron_93568.off\n",
      "removed temporary output file: /neurd_packages/NEURD/Applications/autoproof_neuron_pipeline/temp/neuron_93568_remove_interior.off\n",
      "/neurd_packages/NEURD/Applications/autoproof_neuron_pipeline/temp/remove_interior_226052.mls is being deleted....\n",
      "Removing the following inside neurons: [<trimesh.Trimesh(vertices.shape=(145, 3), faces.shape=(317, 3))>]\n",
      "split_meshes_after_backtrack = [<trimesh.Trimesh(vertices.shape=(5708, 3), faces.shape=(10517, 3))>]\n",
      "soma_size_threshold = 8000\n",
      "After backtrack the found 1 possible somas: [<trimesh.Trimesh(vertices.shape=(5708, 3), faces.shape=(10517, 3))>] \n",
      "\n",
      "--- working on backtrack soma 0: <trimesh.Trimesh(vertices.shape=(5708, 3), faces.shape=(10517, 3))>\n",
      "poisson_backtrack_distance_threshold = None\n",
      "Using Poisson Surface Reconstruction for watertightness in soma_volume_ratio\n",
      "xvfb-run -n 9529 -s \"-screen 0 800x600x24\" meshlabserver $@  -i /neurd_packages/NEURD/Applications/autoproof_neuron_pipeline/Poisson_temp/neuron_511020.off -o /neurd_packages/NEURD/Applications/autoproof_neuron_pipeline/Poisson_temp/neuron_511020_poisson.off -s /neurd_packages/NEURD/Applications/autoproof_neuron_pipeline/Poisson_temp/poisson_976156.mls\n"
     ]
    },
    {
     "name": "stdout",
     "output_type": "stream",
     "text": [
      "removed temporary input file: /neurd_packages/NEURD/Applications/autoproof_neuron_pipeline/Poisson_temp/neuron_511020.off\n",
      "removed temporary output file: /neurd_packages/NEURD/Applications/autoproof_neuron_pipeline/Poisson_temp/neuron_511020_poisson.off\n",
      "mesh.is_watertight = False\n",
      "/neurd_packages/NEURD/Applications/autoproof_neuron_pipeline/Poisson_temp/poisson_976156.mls is being deleted....\n",
      "Inside sphere validater: ratio_val = 2.779561458917224\n",
      "About to add the following inside nuclei pieces after soma backtrack: [<trimesh.Trimesh(vertices.shape=(6494, 3), faces.shape=(15575, 3))>, <trimesh.Trimesh(vertices.shape=(3256, 3), faces.shape=(5810, 3))>, <trimesh.Trimesh(vertices.shape=(2064, 3), faces.shape=(4789, 3))>, <trimesh.Trimesh(vertices.shape=(2022, 3), faces.shape=(4628, 3))>, <trimesh.Trimesh(vertices.shape=(1922, 3), faces.shape=(4396, 3))>, <trimesh.Trimesh(vertices.shape=(1089, 3), faces.shape=(2556, 3))>, <trimesh.Trimesh(vertices.shape=(864, 3), faces.shape=(1989, 3))>, <trimesh.Trimesh(vertices.shape=(723, 3), faces.shape=(1611, 3))>, <trimesh.Trimesh(vertices.shape=(693, 3), faces.shape=(1561, 3))>, <trimesh.Trimesh(vertices.shape=(612, 3), faces.shape=(1378, 3))>, <trimesh.Trimesh(vertices.shape=(456, 3), faces.shape=(742, 3))>, <trimesh.Trimesh(vertices.shape=(344, 3), faces.shape=(727, 3))>, <trimesh.Trimesh(vertices.shape=(363, 3), faces.shape=(876, 3))>, <trimesh.Trimesh(vertices.shape=(301, 3), faces.shape=(613, 3))>, <trimesh.Trimesh(vertices.shape=(253, 3), faces.shape=(632, 3))>, <trimesh.Trimesh(vertices.shape=(199, 3), faces.shape=(446, 3))>, <trimesh.Trimesh(vertices.shape=(176, 3), faces.shape=(418, 3))>]\n",
      "Skipping the segmentatio filter at end\n",
      "removing mesh interior before segmentation\n",
      "xvfb-run -n 2506 -s \"-screen 0 800x600x24\" meshlabserver $@  -i /neurd_packages/NEURD/Applications/autoproof_neuron_pipeline/temp/neuron_16297.off -o /neurd_packages/NEURD/Applications/autoproof_neuron_pipeline/temp/neuron_16297_fill_holes.off -s /neurd_packages/NEURD/Applications/autoproof_neuron_pipeline/temp/fill_holes_828761.mls\n",
      "removed temporary input file: /neurd_packages/NEURD/Applications/autoproof_neuron_pipeline/temp/neuron_16297.off\n",
      "removed temporary output file: /neurd_packages/NEURD/Applications/autoproof_neuron_pipeline/temp/neuron_16297_fill_holes.off\n",
      "/neurd_packages/NEURD/Applications/autoproof_neuron_pipeline/temp/fill_holes_828761.mls is being deleted....\n",
      "xvfb-run -n 7895 -s \"-screen 0 800x600x24\" meshlabserver $@  -i /neurd_packages/NEURD/Applications/autoproof_neuron_pipeline/temp/neuron_20960.off -o /neurd_packages/NEURD/Applications/autoproof_neuron_pipeline/temp/neuron_20960_remove_interior.off -s /neurd_packages/NEURD/Applications/autoproof_neuron_pipeline/temp/remove_interior_486354.mls\n",
      "removed temporary input file: /neurd_packages/NEURD/Applications/autoproof_neuron_pipeline/temp/neuron_20960.off\n",
      "removed temporary output file: /neurd_packages/NEURD/Applications/autoproof_neuron_pipeline/temp/neuron_20960_remove_interior.off\n",
      "/neurd_packages/NEURD/Applications/autoproof_neuron_pipeline/temp/remove_interior_486354.mls is being deleted....\n",
      "No significant (1000) interior meshes present\n",
      "largest is 289\n",
      "Doing the soma segmentation filter at end\n",
      "\n",
      "Number of segments: 9\n",
      "\n"
     ]
    },
    {
     "data": {
      "application/vnd.jupyter.widget-view+json": {
       "model_id": "b75b6e60de82448a81e297d6e8513c99",
       "version_major": 2,
       "version_minor": 0
      },
      "text/plain": [
       "  0%|          | 0/9 [00:00<?, ?it/s]"
      ]
     },
     "metadata": {},
     "output_type": "display_data"
    },
    {
     "name": "stdout",
     "output_type": "stream",
     "text": [
      "Largest hole before segmentation = 84198.44608552229, after = 79686.03659527568,\n",
      "\n",
      "ratio = 0.9464074493053798, difference = -4512.409490246602\n",
      "Skipping the segmentatio filter at end\n",
      "removing mesh interior before segmentation\n",
      "xvfb-run -n 1053 -s \"-screen 0 800x600x24\" meshlabserver $@  -i /neurd_packages/NEURD/Applications/autoproof_neuron_pipeline/temp/neuron_39572.off -o /neurd_packages/NEURD/Applications/autoproof_neuron_pipeline/temp/neuron_39572_fill_holes.off -s /neurd_packages/NEURD/Applications/autoproof_neuron_pipeline/temp/fill_holes_319312.mls\n",
      "removed temporary input file: /neurd_packages/NEURD/Applications/autoproof_neuron_pipeline/temp/neuron_39572.off\n",
      "removed temporary output file: /neurd_packages/NEURD/Applications/autoproof_neuron_pipeline/temp/neuron_39572_fill_holes.off\n",
      "/neurd_packages/NEURD/Applications/autoproof_neuron_pipeline/temp/fill_holes_319312.mls is being deleted....\n",
      "xvfb-run -n 1844 -s \"-screen 0 800x600x24\" meshlabserver $@  -i /neurd_packages/NEURD/Applications/autoproof_neuron_pipeline/temp/neuron_94159.off -o /neurd_packages/NEURD/Applications/autoproof_neuron_pipeline/temp/neuron_94159_remove_interior.off -s /neurd_packages/NEURD/Applications/autoproof_neuron_pipeline/temp/remove_interior_6070.mls\n",
      "removed temporary input file: /neurd_packages/NEURD/Applications/autoproof_neuron_pipeline/temp/neuron_94159.off\n",
      "removed temporary output file: /neurd_packages/NEURD/Applications/autoproof_neuron_pipeline/temp/neuron_94159_remove_interior.off\n",
      "/neurd_packages/NEURD/Applications/autoproof_neuron_pipeline/temp/remove_interior_6070.mls is being deleted....\n",
      "No significant (1000) interior meshes present\n",
      "largest is 48\n",
      "Doing the soma segmentation filter at end\n",
      "\n",
      "Number of segments: 2\n",
      "\n"
     ]
    },
    {
     "data": {
      "application/vnd.jupyter.widget-view+json": {
       "model_id": "d847bc76a16b43e7af2d7fafab2a2061",
       "version_major": 2,
       "version_minor": 0
      },
      "text/plain": [
       "  0%|          | 0/2 [00:00<?, ?it/s]"
      ]
     },
     "metadata": {},
     "output_type": "display_data"
    },
    {
     "name": "stdout",
     "output_type": "stream",
     "text": [
      "No split meshes were above the width threshold (0.32) and size threshold (2000) so continuing\n",
      "So just going with old somas\n",
      "filtered_soma_list_components = [<trimesh.Trimesh(vertices.shape=(11386, 3), faces.shape=(22560, 3))>\n",
      " <trimesh.Trimesh(vertices.shape=(5708, 3), faces.shape=(10517, 3))>]\n",
      "Not need to do a second pass because already found a soma\n"
     ]
    }
   ],
   "source": [
    "from neurd import neuron_visualizations as nviz\n",
    "\n",
    "verbose = True\n",
    "\n",
    "soma_products = sm.soma_indentification(\n",
    "    mesh_decimated,\n",
    "    verbose=verbose,\n",
    "    **soma_extraction_parameters\n",
    ")"
   ]
  },
  {
   "cell_type": "code",
   "execution_count": 18,
   "id": "6a79d754",
   "metadata": {},
   "outputs": [
    {
     "name": "stdout",
     "output_type": "stream",
     "text": [
      "# of somas = 2\n",
      "# of glia = 0\n",
      "# of nuclei = 18\n"
     ]
    },
    {
     "data": {
      "application/vnd.jupyter.widget-view+json": {
       "model_id": "de5dc17c7aa440e9b38058019a3027c7",
       "version_major": 2,
       "version_minor": 0
      },
      "text/plain": [
       "Container(figure=Figure(box_center=[0.5, 0.5, 0.5], box_size=[1.0, 1.0, 1.0], camera=PerspectiveCamera(fov=45.…"
      ]
     },
     "metadata": {},
     "output_type": "display_data"
    }
   ],
   "source": [
    "sm.plot_soma_products(\n",
    "    mesh_decimated,\n",
    "    soma_products = soma_products,\n",
    "    verbose = True\n",
    ")"
   ]
  },
  {
   "cell_type": "code",
   "execution_count": 19,
   "id": "e43e9f14",
   "metadata": {},
   "outputs": [
    {
     "data": {
      "text/plain": [
       "<datasci_tools.pipeline.StageProducts at 0x7f7f6ea37730>"
      ]
     },
     "execution_count": 19,
     "metadata": {},
     "output_type": "execute_result"
    }
   ],
   "source": [
    "soma_products.soma_extraction_parameters = soma_extraction_parameters\n",
    "soma_products"
   ]
  },
  {
   "cell_type": "code",
   "execution_count": 20,
   "id": "a5056278",
   "metadata": {
    "scrolled": true
   },
   "outputs": [
    {
     "name": "stdout",
     "output_type": "stream",
     "text": [
      "{\n",
      "  'decimation':\n",
      "  {\n",
      "    'decimation_parameters':\n",
      "    {\n",
      "      'decimation_ratio':0.25,\n",
      "    },\n",
      "  },\n",
      "  'soma_identification':\n",
      "  {\n",
      "    'glia_meshes':[],\n",
      "    'nuclei_meshes':[<trimesh.Trimesh(vertices.shape=(6494, 3), faces.shape=(15575, 3))>, <trimesh.Trimesh(vertices.shape=(3256, 3), faces.shape=(5810, 3))>, <trimesh.Trimesh(vertices.shape=(2064, 3), faces.shape=(4789, 3))>, <trimesh.Trimesh(vertices.shape=(2022, 3), faces.shape=(4628, 3))>, <trimesh.Trimesh(vertices.shape=(1922, 3), faces.shape=(4396, 3))>, <trimesh.Trimesh(vertices.shape=(1089, 3), faces.shape=(2556, 3))>, <trimesh.Trimesh(vertices.shape=(864, 3), faces.shape=(1989, 3))>, <trimesh.Trimesh(vertices.shape=(723, 3), faces.shape=(1611, 3))>, <trimesh.Trimesh(vertices.shape=(693, 3), faces.shape=(1561, 3))>, <trimesh.Trimesh(vertices.shape=(612, 3), faces.shape=(1378, 3))>, <trimesh.Trimesh(vertices.shape=(456, 3), faces.shape=(742, 3))>, <trimesh.Trimesh(vertices.shape=(344, 3), faces.shape=(727, 3))>, <trimesh.Trimesh(vertices.shape=(363, 3), faces.shape=(876, 3))>, <trimesh.Trimesh(vertices.shape=(301, 3), faces.shape=(613, 3))>, <trimesh.Trimesh(vertices.shape=(253, 3), faces.shape=(632, 3))>, <trimesh.Trimesh(vertices.shape=(199, 3), faces.shape=(446, 3))>, <trimesh.Trimesh(vertices.shape=(176, 3), faces.shape=(418, 3))>, <trimesh.Trimesh(vertices.shape=(145, 3), faces.shape=(317, 3))>],\n",
      "    'soma_extraction_parameters':\n",
      "    {\n",
      "    },\n",
      "    'soma_meshes':[<trimesh.Trimesh(vertices.shape=(11386, 3), faces.shape=(22560, 3))>, <trimesh.Trimesh(vertices.shape=(5708, 3), faces.shape=(10517, 3))>],\n",
      "    'soma_run_time':77.18858623504639,\n",
      "    'soma_sdfs':array([0.769893 , 0.3351845]),\n",
      "  },\n",
      "}\n",
      "\n"
     ]
    }
   ],
   "source": [
    "products.set_stage_attrs(\n",
    "    stage = \"soma_identification\",\n",
    "    attr_dict = soma_products,\n",
    ")\n",
    "\n",
    "print(products)"
   ]
  },
  {
   "cell_type": "markdown",
   "id": "da45be47",
   "metadata": {},
   "source": [
    "# Step 2b: Saving off pipeline products"
   ]
  },
  {
   "cell_type": "code",
   "execution_count": 27,
   "id": "c99ef858",
   "metadata": {},
   "outputs": [
    {
     "name": "stdout",
     "output_type": "stream",
     "text": [
      "Saved object at /neurd_packages/NEURD/Applications/autoproof_neuron_pipeline/products_up_to_soma_stage.pkl\n",
      "File size is 3.411244 MB\n"
     ]
    }
   ],
   "source": [
    "from datasci_tools import system_utils as su\n",
    "su.save_object(\n",
    "    products,\"products_up_to_soma_stage\")"
   ]
  },
  {
   "cell_type": "markdown",
   "id": "bfdbcc82",
   "metadata": {},
   "source": [
    "# Step 3: Decomposition"
   ]
  },
  {
   "cell_type": "code",
   "execution_count": 28,
   "id": "84193a27",
   "metadata": {
    "scrolled": true
   },
   "outputs": [
    {
     "name": "stdout",
     "output_type": "stream",
     "text": [
      "picking a random 7 digit segment id: 33246865\n",
      "--- 0) Having to preprocess the Neuron becuase no preprocessed data\n",
      "Please wait this could take a while.....\n",
      "Skipping the hole filling\n",
      "limb_remove_mesh_interior_face_threshold = 0\n",
      "use_meshafterparty = True\n",
      "Using pre-computed somas: soma_mesh_list = [<trimesh.Trimesh(vertices.shape=(11386, 3), faces.shape=(22560, 3))>, <trimesh.Trimesh(vertices.shape=(5708, 3), faces.shape=(10517, 3))>]\n",
      "Soma List = [<trimesh.Trimesh(vertices.shape=(11386, 3), faces.shape=(22560, 3))>, <trimesh.Trimesh(vertices.shape=(5708, 3), faces.shape=(10517, 3))>]\n",
      "soma_mesh_list_centers = [array([1488880.76058317,  589300.09373793, 1100652.31345512]), array([1472182.71408549,  577993.08644009, 1112354.27575333])]\n",
      "Getting Glia and Nuclei Pieces Subtracted Away 0.16089963912963867\n",
      " Splitting mesh after soma cancellation 1.6356453895568848\n",
      "# of split_meshes = 4\n",
      " Containing Mesh Indices 0.02781534194946289\n",
      "containing_mesh_indices = {0: 0, 1: 0}\n",
      " non_soma_touching_meshes 1.621246337890625e-05\n",
      "There were 3 pieces found after size threshold\n",
      " Finding inside pieces and non_soma_touching meshes 0.6995396614074707\n",
      "soma_containing_meshes = {0: [0, 1]}\n",
      "\n",
      "-----Before combining multiple mesh pieces-----\n",
      "soma_containing_meshes = {0: [0, 1]}\n",
      "\n",
      "-----After combining multiple mesh pieces-----\n",
      "soma_containing_meshes = {0: [0, 1]}\n",
      "\n",
      "\n",
      "----Working on soma-containing mesh piece 0----\n",
      "Total time for Subtract Soma and Original_mesh_faces_map for somas= 0.2770674228668213\n",
      "new_floating_pieces = []\n",
      "Total time for sig_non_soma_pieces= 0.9649813175201416\n",
      "Not applying expansions\n",
      "Total time for split= 3.337860107421875e-06\n",
      "Total time for mesh_pieces_connectivity= 0.9233677387237549\n",
      "# of insignificant_limbs = 1 with trimesh : [<trimesh.Trimesh(vertices.shape=(11, 3), faces.shape=(15, 3))>]\n",
      "# of not_processed_soma_containing_meshes = 0 with trimesh : []\n",
      "\n",
      "\n",
      "----- Working on Proper Limb # 0 ---------\n",
      "meshparty_segment_size = 100\n",
      "invalidation_d = 12000\n",
      "use_adaptive_invalidation_d= False\n",
      "axon_width_preprocess_limb_max = 200\n",
      "filter_end_node_length= 4000\n",
      "filter_end_node_length_meshparty = 4000\n",
      "invalidation_d = 12000\n",
      "root_curr = [1487208.   596715.8 1099876. ]\n",
      "Time for preparing soma vertices and root: 0.0002682209014892578\n",
      "invalidation_d = 12000\n",
      "smooth_neighborhood = 1\n",
      "cc_vertex_thresh = 10\n"
     ]
    },
    {
     "name": "stderr",
     "output_type": "stream",
     "text": [
      "\r",
      "  0%|          | 0/1 [00:00<?, ?it/s]"
     ]
    },
    {
     "data": {
      "application/vnd.jupyter.widget-view+json": {
       "model_id": "b77c95d99b3647bb840bc52129628506",
       "version_major": 2,
       "version_minor": 0
      },
      "text/plain": [
       "  0%|          | 0/33579 [00:00<?, ?it/s]"
      ]
     },
     "metadata": {},
     "output_type": "display_data"
    },
    {
     "name": "stderr",
     "output_type": "stream",
     "text": [
      "100%|██████████| 1/1 [00:00<00:00,  6.86it/s]\n"
     ]
    },
    {
     "name": "stdout",
     "output_type": "stream",
     "text": [
      "meshparty_segment_size = 100\n",
      "Time for 1st pass MP skeletonization: 0.4533708095550537\n",
      "connecting at the root\n",
      "branches_touching_root = [6]\n",
      "combining close nodes\n",
      "combine_threshold = 700\n",
      "length of Graph = 3258\n",
      "After combining close endpoints max(kept_branches_idx) = 6, len(kept_branches_idx) = 7\n",
      "empty_indices % = 0.0\n",
      " conflict_indices % = 0.002908632942517017\n"
     ]
    },
    {
     "data": {
      "application/vnd.jupyter.widget-view+json": {
       "model_id": "7d28ccba50014d7ca02b45dc7fcb03c3",
       "version_major": 2,
       "version_minor": 0
      },
      "text/plain": [
       "  0%|          | 0/3 [00:00<?, ?it/s]"
      ]
     },
     "metadata": {},
     "output_type": "display_data"
    },
    {
     "name": "stdout",
     "output_type": "stream",
     "text": [
      "AFTER face_lookup_resolved_test\n"
     ]
    },
    {
     "data": {
      "application/vnd.jupyter.widget-view+json": {
       "model_id": "6c156ed9a74646ae857790b2c56c5354",
       "version_major": 2,
       "version_minor": 0
      },
      "text/plain": [
       "  0%|          | 0/7 [00:00<?, ?it/s]"
      ]
     },
     "metadata": {},
     "output_type": "display_data"
    },
    {
     "name": "stdout",
     "output_type": "stream",
     "text": [
      "Decomposing first pass: 2.2313926219940186\n",
      "Attempting to use MeshAfterParty Skeletonization and Mesh Correspondence\n",
      "Another print\n",
      "Found len(mesh_large_idx) MAP candidates: [636, 7672]\n",
      "mesh_large_connectivity: 0.0023429393768310547\n",
      "Finding MAP candidates connected components: 7.367134094238281e-05\n",
      "len(filtered_pieces) = 1\n",
      "skeleton_connectivity_MP : 0.07179903984069824\n",
      "Grouping MP Sublimbs by Graph: 0.03551793098449707\n",
      "Divinding into MP and MAP pieces: 4.76837158203125e-07\n",
      "--- Working on MAP piece 0---\n",
      "MAP Filtering Soma Pieces: 0.0009133815765380859\n",
      "inside skeletonize_connected_branch and use_surface_after_CGAL=True, surface_reconstruction_size=1000\n",
      "keep_idx = [0]\n",
      "     Starting Screened Poisson\n",
      "xvfb-run -n 753 -s \"-screen 0 800x600x24\" meshlabserver $@  -i /neurd_packages/NEURD/Applications/autoproof_neuron_pipeline/temp/None.off -o /neurd_packages/NEURD/Applications/autoproof_neuron_pipeline/temp/None_poisson.off -s /neurd_packages/NEURD/Applications/autoproof_neuron_pipeline/temp/poisson_542562.mls\n",
      "removed temporary input file: /neurd_packages/NEURD/Applications/autoproof_neuron_pipeline/temp/None.off\n",
      "removed temporary output file: /neurd_packages/NEURD/Applications/autoproof_neuron_pipeline/temp/None_poisson.off\n",
      "Using the close holes feature\n",
      "xvfb-run -n 9063 -s \"-screen 0 800x600x24\" meshlabserver $@  -i /neurd_packages/NEURD/Applications/autoproof_neuron_pipeline/temp/neuron_57306.off -o /neurd_packages/NEURD/Applications/autoproof_neuron_pipeline/temp/neuron_57306_fill_holes.off -s /neurd_packages/NEURD/Applications/autoproof_neuron_pipeline/temp/fill_holes_550841.mls\n",
      "removed temporary input file: /neurd_packages/NEURD/Applications/autoproof_neuron_pipeline/temp/neuron_57306.off\n",
      "removed temporary output file: /neurd_packages/NEURD/Applications/autoproof_neuron_pipeline/temp/neuron_57306_fill_holes.off\n",
      "/neurd_packages/NEURD/Applications/autoproof_neuron_pipeline/temp/fill_holes_550841.mls is being deleted....\n",
      "-----Time for Screened Poisson= 8.300224542617798\n",
      "mesh_pieces = [<trimesh.Trimesh(vertices.shape=(7520, 3), faces.shape=(15036, 3))>]\n",
      "     Starting Calcification (Changed back where stitches large poissons)\n",
      "Manifold status before skeletonization = True\n",
      "Watertight status before skeletonization = True\n",
      "min_edge_length = 75\n",
      "Before mesh subtraction number of skeleton edges = 291\n"
     ]
    },
    {
     "data": {
      "application/vnd.jupyter.widget-view+json": {
       "model_id": "f75a50a9af5b4d68a8255d66680b5636",
       "version_major": 2,
       "version_minor": 0
      },
      "text/plain": [
       "0it [00:00, ?it/s]"
      ]
     },
     "metadata": {},
     "output_type": "display_data"
    },
    {
     "name": "stdout",
     "output_type": "stream",
     "text": [
      "len(leftover_meshes_sig) = []\n"
     ]
    },
    {
     "data": {
      "application/vnd.jupyter.widget-view+json": {
       "model_id": "09ab6b4c934845a28bdc25df4d0c7257",
       "version_major": 2,
       "version_minor": 0
      },
      "text/plain": [
       "0it [00:00, ?it/s]"
      ]
     },
     "metadata": {},
     "output_type": "display_data"
    },
    {
     "name": "stdout",
     "output_type": "stream",
     "text": [
      "No skeletons to stack so returning empty list\n",
      "STacking the leftover and significant poisson skeleton\n",
      "max_stitch_distance = 5000\n",
      "len_subgraphs AT BEGINNING of the loop\n"
     ]
    },
    {
     "data": {
      "application/vnd.jupyter.widget-view+json": {
       "model_id": "85c701d8762049fd8f87726d05389723",
       "version_major": 2,
       "version_minor": 0
      },
      "text/plain": [
       "  0%|          | 0/1 [00:00<?, ?it/s]"
      ]
     },
     "metadata": {},
     "output_type": "display_data"
    },
    {
     "name": "stdout",
     "output_type": "stream",
     "text": [
      "all graph is one component!\n",
      "Total time for skeleton stitching = 0.017548799514770508\n",
      "The process was using a temp folder\n",
      "Checking connected components after skeletonize_connected_branch\n",
      "    Total time for skeletonizing branch: 9.486051082611084\n",
      "Checking connected components after removing cycles\n",
      "Total time for mesh KDTree = 0.07647037506103516\n",
      "sbv[0].reshape(-1,3) = [[1487208.   596715.8 1099876. ]]\n",
      "closest_sk_pt_coord BEFORE = [1487610.  597275. 1100680.]\n",
      "current_skeleton.shape = (290, 2, 3)\n",
      "node_for_stitch = 211: [1487610.  597275. 1100680.]\n",
      "node_for_stitch AFTER = 211: [1487610.  597275. 1100680.]\n",
      "possible_node_loc = [  0  47 211 290]\n",
      "possible_node_loc AFTER = [  0  47 211 290]\n",
      "curr_shortest_path = [211]\n",
      "Current stitch point was a branch or endpoint\n",
      "change_status for create soma extending pieces = False\n",
      "closest_sk_pt_coord AFTER = [1487610.  597275. 1100680.]\n",
      "skipping soma 0 because closest skeleton node was already end node\n",
      "endpoints_must_keep = {0: array([[1487610.,  597275., 1100680.]])}\n",
      "    Total time for Fixing Skeleton Soma Endpoint Extension : 0.1732177734375\n",
      "filter_end_node_length = 4000\n",
      "Using Distance measure skeletal_distance\n",
      "endpoints_must_keep = [[1487610.  597275. 1100680.]]\n",
      "Number of end_nodes BEFORE filtering = 4\n",
      "all_single_nodes_to_eliminate = [2]\n"
     ]
    },
    {
     "data": {
      "application/vnd.jupyter.widget-view+json": {
       "model_id": "1ffe2100adf84984aa6dc578958c1931",
       "version_major": 2,
       "version_minor": 0
      },
      "text/plain": [
       "  0%|          | 0/1 [00:00<?, ?it/s]"
      ]
     },
     "metadata": {},
     "output_type": "display_data"
    },
    {
     "name": "stdout",
     "output_type": "stream",
     "text": [
      "Checking connected components after clean_skeleton\n",
      "after DISTANCE cleaning limb size of skeleton = (270, 2, 3)\n",
      "********COMBINING CLOSE SKELETON NODES WITHIN 700 DISTANCE**********\n",
      "combine_threshold = 700\n",
      "Found 0 valid paths to replace\n",
      "valid_paths = []\n",
      "valid_path_lengths = []\n",
      "No valid paths found so just returning the original\n",
      "skeletonize_and_clean_connected_branch_CGAL: 9.821785688400269\n",
      "Working on limb correspondence for #0 MAP piece\n",
      "xvfb-run -n 8203 -s \"-screen 0 800x600x24\" meshlabserver $@  -i /neurd_packages/NEURD/Applications/autoproof_neuron_pipeline/temp/neuron_83580.off -o /neurd_packages/NEURD/Applications/autoproof_neuron_pipeline/temp/neuron_83580_remove_interior.off -s /neurd_packages/NEURD/Applications/autoproof_neuron_pipeline/temp/remove_interior_969858.mls\n",
      "removed temporary input file: /neurd_packages/NEURD/Applications/autoproof_neuron_pipeline/temp/neuron_83580.off\n",
      "removed temporary output file: /neurd_packages/NEURD/Applications/autoproof_neuron_pipeline/temp/neuron_83580_remove_interior.off\n",
      "/neurd_packages/NEURD/Applications/autoproof_neuron_pipeline/temp/remove_interior_969858.mls is being deleted....\n",
      "No significant (100) interior meshes present\n",
      "largest is 16\n"
     ]
    },
    {
     "data": {
      "application/vnd.jupyter.widget-view+json": {
       "model_id": "a241a9455659420fad9620b413fca55c",
       "version_major": 2,
       "version_minor": 0
      },
      "text/plain": [
       "0it [00:00, ?it/s]"
      ]
     },
     "metadata": {},
     "output_type": "display_data"
    },
    {
     "name": "stdout",
     "output_type": "stream",
     "text": [
      "Total time for decomposition = 1.6925010681152344\n",
      "mesh_correspondence_first_pass: 1.6925323009490967\n",
      "Limb decomposed into 3 branches\n",
      "divided_skeleton_graph_recovered = (270, 2, 3) and \n",
      "current_mesh_data[0]['branch_skeletons_cleaned'].shape = (270, 2, 3)\n",
      "\n",
      "Number of connected components in deocmposed recovered graph = 1\n",
      "Number of connected components in cleaned skeleton graph= 1\n",
      "The downsampled branches number of connected components = 1\n",
      "Empty submeshes = []\n",
      "\n",
      "\n",
      "--- Working on 1-to-1 correspondence-----\n",
      "max(original_labels),len(original_labels) = (2, 3)\n",
      "empty_indices % = 0.16357727491574386\n",
      " conflict_indices % = 0.02455464612421762\n"
     ]
    },
    {
     "data": {
      "application/vnd.jupyter.widget-view+json": {
       "model_id": "fb61c2ee79eb40be98cd591ac8df9c28",
       "version_major": 2,
       "version_minor": 0
      },
      "text/plain": [
       "  0%|          | 0/17 [00:00<?, ?it/s]"
      ]
     },
     "metadata": {},
     "output_type": "display_data"
    },
    {
     "name": "stdout",
     "output_type": "stream",
     "text": [
      "AFTER face_lookup_resolved_test\n",
      "Took 0 iterations to expand the label back\n",
      "empty_indices % = 0.0\n",
      " conflict_indices % = 0.0\n"
     ]
    },
    {
     "data": {
      "application/vnd.jupyter.widget-view+json": {
       "model_id": "54e92e0e60554139a24a2b3e40fd870b",
       "version_major": 2,
       "version_minor": 0
      },
      "text/plain": [
       "0it [00:00, ?it/s]"
      ]
     },
     "metadata": {},
     "output_type": "display_data"
    },
    {
     "name": "stdout",
     "output_type": "stream",
     "text": [
      "AFTER face_lookup_resolved_test\n"
     ]
    },
    {
     "data": {
      "application/vnd.jupyter.widget-view+json": {
       "model_id": "6045d204314c447e8f9f7431cc2846aa",
       "version_major": 2,
       "version_minor": 0
      },
      "text/plain": [
       "  0%|          | 0/3 [00:00<?, ?it/s]"
      ]
     },
     "metadata": {},
     "output_type": "display_data"
    },
    {
     "name": "stdout",
     "output_type": "stream",
     "text": [
      "Total time for MAP sublimb #0 mesh processing = 11.883660316467285\n",
      "correspondence_1_to_1: 0.36844706535339355\n",
      "Total time for MAP sublimb processing 11.88373875617981\n",
      "---- Working on MP Decomposition #0 ----\n",
      "Computing the current soma touching verts dict manually\n",
      "MP filtering soma verts: 0.01599264144897461\n",
      "Do Not Need to Fix MP Decomposition 0 so just continuing\n",
      "---- Working on MP Decomposition #1 ----\n",
      "Computing the current soma touching verts dict manually\n",
      "MP filtering soma verts: 0.007624626159667969\n",
      "Do Not Need to Fix MP Decomposition 1 so just continuing\n",
      "---- Working on MP Decomposition #2 ----\n",
      "Computing the current soma touching verts dict manually\n",
      "MP filtering soma verts: 0.001070261001586914\n",
      "Do Not Need to Fix MP Decomposition 2 so just continuing\n",
      "Successful mesh connectivity with type edges\n",
      "\n",
      "---- Working on (0, 0) connection-----\n",
      "sk_conn = [0, 1]\n",
      "conn = [0, 1]\n",
      "winning_vertex = [1491450.08344721  608267.60149996 1098228.13300974]\n",
      "MP_branches_with_stitch_point = [0, 1]\n",
      "MAP_branches_with_stitch_point = [2]\n",
      "MAP_stitch_point_on_end_or_branch = True\n"
     ]
    },
    {
     "data": {
      "application/vnd.jupyter.widget-view+json": {
       "model_id": "2208d8fc42374499afb0b63dc8a1831b",
       "version_major": 2,
       "version_minor": 0
      },
      "text/plain": [
       "0it [00:00, ?it/s]"
      ]
     },
     "metadata": {},
     "output_type": "display_data"
    },
    {
     "name": "stdout",
     "output_type": "stream",
     "text": [
      "\n",
      "\n",
      "--- Working on 1-to-1 correspondence-----\n",
      "max(original_labels),len(original_labels) = (2, 3)\n",
      "empty_indices % = 0.18173124484748557\n",
      " conflict_indices % = 0.01012366034624897\n"
     ]
    },
    {
     "data": {
      "application/vnd.jupyter.widget-view+json": {
       "model_id": "c9599003b285469f88e6b72f0751e571",
       "version_major": 2,
       "version_minor": 0
      },
      "text/plain": [
       "  0%|          | 0/105 [00:00<?, ?it/s]"
      ]
     },
     "metadata": {},
     "output_type": "display_data"
    },
    {
     "name": "stdout",
     "output_type": "stream",
     "text": [
      "AFTER face_lookup_resolved_test\n"
     ]
    },
    {
     "data": {
      "application/vnd.jupyter.widget-view+json": {
       "model_id": "028a6893c60d46acb70ac2025343aa1b",
       "version_major": 2,
       "version_minor": 0
      },
      "text/plain": [
       "  0%|          | 0/3 [00:00<?, ?it/s]"
      ]
     },
     "metadata": {},
     "output_type": "display_data"
    },
    {
     "name": "stdout",
     "output_type": "stream",
     "text": [
      "MP_branches_with_stitch_point= [0, 1]\n",
      "MP_branches_for_correspondence = [0 1]\n",
      "MP_leftover = [], MP_leftover_idx = []\n",
      " Finished with (0, 0) \n",
      "\n",
      "\n",
      "\n",
      "\n",
      "---- Working on (1, 0) connection-----\n",
      "sk_conn = [0, 1]\n",
      "conn = [0, 1]\n",
      "winning_vertex = [1476472.93997195  615033.74821465 1108138.04148317]\n",
      "MP_branches_with_stitch_point = [0, 1]\n",
      "MAP_branches_with_stitch_point = [0]\n",
      "MAP_stitch_point_on_end_or_branch = False\n"
     ]
    },
    {
     "data": {
      "application/vnd.jupyter.widget-view+json": {
       "model_id": "b21293bb694b4c6dba699153e249ca17",
       "version_major": 2,
       "version_minor": 0
      },
      "text/plain": [
       "0it [00:00, ?it/s]"
      ]
     },
     "metadata": {},
     "output_type": "display_data"
    },
    {
     "name": "stdout",
     "output_type": "stream",
     "text": [
      "\n",
      "\n",
      "--- Working on 1-to-1 correspondence-----\n",
      "max(original_labels),len(original_labels) = (1, 2)\n",
      "empty_indices % = 0.2003627968337731\n",
      " conflict_indices % = 0.0037928759894459104\n"
     ]
    },
    {
     "data": {
      "application/vnd.jupyter.widget-view+json": {
       "model_id": "513dc737d951424998dfbd9fb73cce49",
       "version_major": 2,
       "version_minor": 0
      },
      "text/plain": [
       "  0%|          | 0/11 [00:00<?, ?it/s]"
      ]
     },
     "metadata": {},
     "output_type": "display_data"
    },
    {
     "name": "stdout",
     "output_type": "stream",
     "text": [
      "AFTER face_lookup_resolved_test\n"
     ]
    },
    {
     "data": {
      "application/vnd.jupyter.widget-view+json": {
       "model_id": "3e3f101f1c264398b592ec1e74ac40d9",
       "version_major": 2,
       "version_minor": 0
      },
      "text/plain": [
       "  0%|          | 0/2 [00:00<?, ?it/s]"
      ]
     },
     "metadata": {},
     "output_type": "display_data"
    },
    {
     "data": {
      "application/vnd.jupyter.widget-view+json": {
       "model_id": "06aef008764e44449bce96ba8eb04f21",
       "version_major": 2,
       "version_minor": 0
      },
      "text/plain": [
       "0it [00:00, ?it/s]"
      ]
     },
     "metadata": {},
     "output_type": "display_data"
    },
    {
     "name": "stdout",
     "output_type": "stream",
     "text": [
      "\n",
      "\n",
      "--- Working on 1-to-1 correspondence-----\n",
      "max(original_labels),len(original_labels) = (3, 4)\n",
      "empty_indices % = 0.18957622179668637\n",
      " conflict_indices % = 0.04670718508034302\n"
     ]
    },
    {
     "data": {
      "application/vnd.jupyter.widget-view+json": {
       "model_id": "e6a3e9308a8f4c09ac8bd62870535b71",
       "version_major": 2,
       "version_minor": 0
      },
      "text/plain": [
       "  0%|          | 0/58 [00:00<?, ?it/s]"
      ]
     },
     "metadata": {},
     "output_type": "display_data"
    },
    {
     "name": "stdout",
     "output_type": "stream",
     "text": [
      "AFTER face_lookup_resolved_test\n"
     ]
    },
    {
     "data": {
      "application/vnd.jupyter.widget-view+json": {
       "model_id": "09e5195529684084bd9760e4e11792e5",
       "version_major": 2,
       "version_minor": 0
      },
      "text/plain": [
       "  0%|          | 0/4 [00:00<?, ?it/s]"
      ]
     },
     "metadata": {},
     "output_type": "display_data"
    },
    {
     "name": "stdout",
     "output_type": "stream",
     "text": [
      "Deleting branches from dictionary\n",
      "MP_branches_with_stitch_point= [0, 1]\n",
      "MP_branches_for_correspondence = [0 1]\n",
      "MP_leftover = [], MP_leftover_idx = []\n",
      " Finished with (1, 0) \n",
      "\n",
      "\n",
      "\n",
      "\n",
      "---- Working on (2, 0) connection-----\n",
      "sk_conn = [0]\n",
      "conn = [0]\n",
      "winning_vertex = [1488771.89112037  605282.82224157 1100475.99894991]\n",
      "MP_branches_with_stitch_point = [0]\n",
      "MAP_branches_with_stitch_point = [2]\n",
      "MAP_stitch_point_on_end_or_branch = False\n"
     ]
    },
    {
     "data": {
      "application/vnd.jupyter.widget-view+json": {
       "model_id": "df61b40c7d9d486899447d82bd7f8887",
       "version_major": 2,
       "version_minor": 0
      },
      "text/plain": [
       "0it [00:00, ?it/s]"
      ]
     },
     "metadata": {},
     "output_type": "display_data"
    },
    {
     "name": "stdout",
     "output_type": "stream",
     "text": [
      "\n",
      "\n",
      "--- Working on 1-to-1 correspondence-----\n",
      "max(original_labels),len(original_labels) = (1, 2)\n",
      "empty_indices % = 0.16718458669981354\n",
      " conflict_indices % = 0.008079552517091361\n"
     ]
    },
    {
     "data": {
      "application/vnd.jupyter.widget-view+json": {
       "model_id": "2ebdb55a83f2420d9b318e800725f90d",
       "version_major": 2,
       "version_minor": 0
      },
      "text/plain": [
       "  0%|          | 0/10 [00:00<?, ?it/s]"
      ]
     },
     "metadata": {},
     "output_type": "display_data"
    },
    {
     "name": "stdout",
     "output_type": "stream",
     "text": [
      "AFTER face_lookup_resolved_test\n"
     ]
    },
    {
     "data": {
      "application/vnd.jupyter.widget-view+json": {
       "model_id": "e45320528f6d470785c5bbf3365fc361",
       "version_major": 2,
       "version_minor": 0
      },
      "text/plain": [
       "  0%|          | 0/2 [00:00<?, ?it/s]"
      ]
     },
     "metadata": {},
     "output_type": "display_data"
    },
    {
     "data": {
      "application/vnd.jupyter.widget-view+json": {
       "model_id": "459900bfc731476991dd012cb6fc2d53",
       "version_major": 2,
       "version_minor": 0
      },
      "text/plain": [
       "0it [00:00, ?it/s]"
      ]
     },
     "metadata": {},
     "output_type": "display_data"
    },
    {
     "name": "stdout",
     "output_type": "stream",
     "text": [
      "\n",
      "\n",
      "--- Working on 1-to-1 correspondence-----\n",
      "max(original_labels),len(original_labels) = (2, 3)\n",
      "empty_indices % = 0.23375935869318612\n",
      " conflict_indices % = 0.013763896241397565\n"
     ]
    },
    {
     "data": {
      "application/vnd.jupyter.widget-view+json": {
       "model_id": "c85ddb99f3584e17974a6fffeb8a41ce",
       "version_major": 2,
       "version_minor": 0
      },
      "text/plain": [
       "  0%|          | 0/30 [00:00<?, ?it/s]"
      ]
     },
     "metadata": {},
     "output_type": "display_data"
    },
    {
     "name": "stdout",
     "output_type": "stream",
     "text": [
      "AFTER face_lookup_resolved_test\n"
     ]
    },
    {
     "data": {
      "application/vnd.jupyter.widget-view+json": {
       "model_id": "d2c770db03354f5baf3da152c9be203a",
       "version_major": 2,
       "version_minor": 0
      },
      "text/plain": [
       "  0%|          | 0/3 [00:00<?, ?it/s]"
      ]
     },
     "metadata": {},
     "output_type": "display_data"
    },
    {
     "name": "stdout",
     "output_type": "stream",
     "text": [
      "Deleting branches from dictionary\n",
      "MP_branches_with_stitch_point= [0]\n",
      "MP_branches_for_correspondence = [0]\n",
      "MP_leftover = [], MP_leftover_idx = []\n",
      " Finished with (2, 0) \n",
      "\n",
      "\n",
      "\n",
      "Time for decomp of Limb = 25.268543243408203\n",
      "Number of matching vertices = 26\n",
      "Only one endpoint after filtering away the endpoints that are not on the skeleton\n",
      "Using Distance measure skeletal_distance\n",
      "endpoints_must_keep = [[1487610.  597275. 1100680.]]\n",
      "Number of end_nodes BEFORE filtering = 7\n",
      "all_single_nodes_to_eliminate = [4]\n",
      "no small end nodes to get rid of so returning whole skeleton\n",
      "Removed 0 skeletal branches\n"
     ]
    },
    {
     "data": {
      "application/vnd.jupyter.widget-view+json": {
       "model_id": "6b733eecaf2146eca4164a89bb65bfd7",
       "version_major": 2,
       "version_minor": 0
      },
      "text/plain": [
       "  0%|          | 0/10 [00:00<?, ?it/s]"
      ]
     },
     "metadata": {},
     "output_type": "display_data"
    },
    {
     "name": "stdout",
     "output_type": "stream",
     "text": [
      "66697 66698\n",
      "For marked faces: None\n",
      "empty_indices % = 0.0\n",
      " conflict_indices % = 0.0\n"
     ]
    },
    {
     "data": {
      "application/vnd.jupyter.widget-view+json": {
       "model_id": "801a98f280b042f1b6059abafd6af67b",
       "version_major": 2,
       "version_minor": 0
      },
      "text/plain": [
       "0it [00:00, ?it/s]"
      ]
     },
     "metadata": {},
     "output_type": "display_data"
    },
    {
     "name": "stdout",
     "output_type": "stream",
     "text": [
      "AFTER face_lookup_resolved_test\n"
     ]
    },
    {
     "data": {
      "application/vnd.jupyter.widget-view+json": {
       "model_id": "076a22c999d04a16895a39863144fb7c",
       "version_major": 2,
       "version_minor": 0
      },
      "text/plain": [
       "  0%|          | 0/10 [00:00<?, ?it/s]"
      ]
     },
     "metadata": {},
     "output_type": "display_data"
    },
    {
     "name": "stdout",
     "output_type": "stream",
     "text": [
      "Successful Limb Decomposition\n",
      "\n",
      "\n",
      "----- Working on Proper Limb # 1 ---------\n",
      "meshparty_segment_size = 100\n",
      "invalidation_d = 12000\n",
      "use_adaptive_invalidation_d= False\n",
      "axon_width_preprocess_limb_max = 200\n",
      "filter_end_node_length= 4000\n",
      "filter_end_node_length_meshparty = 4000\n",
      "invalidation_d = 12000\n",
      "root_curr = [1484150.   588282.7 1095391. ]\n",
      "Time for preparing soma vertices and root: 0.0002605915069580078\n",
      "invalidation_d = 12000\n",
      "smooth_neighborhood = 1\n",
      "cc_vertex_thresh = 10\n"
     ]
    },
    {
     "name": "stderr",
     "output_type": "stream",
     "text": [
      "\r",
      "  0%|          | 0/1 [00:00<?, ?it/s]"
     ]
    },
    {
     "data": {
      "application/vnd.jupyter.widget-view+json": {
       "model_id": "51b9dff98d774a829b3e85b2c475ba74",
       "version_major": 2,
       "version_minor": 0
      },
      "text/plain": [
       "  0%|          | 0/20269 [00:00<?, ?it/s]"
      ]
     },
     "metadata": {},
     "output_type": "display_data"
    },
    {
     "name": "stderr",
     "output_type": "stream",
     "text": [
      "100%|██████████| 1/1 [00:00<00:00,  4.47it/s]\n"
     ]
    },
    {
     "name": "stdout",
     "output_type": "stream",
     "text": [
      "meshparty_segment_size = 100\n",
      "Time for 1st pass MP skeletonization: 0.46584153175354004\n",
      "branches_touching_root = [3]\n",
      "combining close nodes\n",
      "combine_threshold = 700\n",
      "length of Graph = 5975\n",
      "After combining close endpoints max(kept_branches_idx) = 26, len(kept_branches_idx) = 25\n",
      "empty_indices % = 0.0\n",
      " conflict_indices % = 0.010165121237665492\n"
     ]
    },
    {
     "data": {
      "application/vnd.jupyter.widget-view+json": {
       "model_id": "370312530db04413ad87f342adcfddd0",
       "version_major": 2,
       "version_minor": 0
      },
      "text/plain": [
       "  0%|          | 0/11 [00:00<?, ?it/s]"
      ]
     },
     "metadata": {},
     "output_type": "display_data"
    },
    {
     "name": "stdout",
     "output_type": "stream",
     "text": [
      "AFTER face_lookup_resolved_test\n"
     ]
    },
    {
     "data": {
      "application/vnd.jupyter.widget-view+json": {
       "model_id": "ec4f5a3cdcfd4ead8b8bb5e1e90ff979",
       "version_major": 2,
       "version_minor": 0
      },
      "text/plain": [
       "  0%|          | 0/25 [00:00<?, ?it/s]"
      ]
     },
     "metadata": {},
     "output_type": "display_data"
    },
    {
     "name": "stdout",
     "output_type": "stream",
     "text": [
      "Decomposing first pass: 2.9896228313446045\n",
      "Attempting to use MeshAfterParty Skeletonization and Mesh Correspondence\n",
      "Another print\n",
      "Divinding into MP and MAP pieces: 4.4345855712890625e-05\n",
      "Total time for MAP sublimb processing 3.5762786865234375e-06\n",
      "---- Working on MP Decomposition #0 ----\n",
      "Using Quicker soma_to_piece_touching_vertices because no MAP and only one sublimb_mesh piece \n",
      "MP filtering soma verts: 1.9550323486328125e-05\n",
      "Fixing Possible Soma Extension Branch for Sublimb 0\n",
      "Total time for mesh KDTree = 0.052495479583740234\n",
      "sbv[0].reshape(-1,3) = [[1484150.   588282.7 1095391. ]]\n",
      "closest_sk_pt_coord BEFORE = [1483982.08022895  588135.81137922 1094821.63000965]\n",
      "current_skeleton.shape = (556, 2, 3)\n",
      "node_for_stitch = 556: [1483982.08022895  588135.81137922 1094821.63000965]\n",
      "node_for_stitch AFTER = 556: [1483982.08022895  588135.81137922 1094821.63000965]\n",
      "possible_node_loc = [  2 556]\n",
      "possible_node_loc AFTER = [  2 556]\n",
      "curr_shortest_path = [556]\n",
      "Current stitch point was a branch or endpoint\n",
      "change_status for create soma extending pieces = False\n",
      "closest_sk_pt_coord AFTER = [1483982.08022895  588135.81137922 1094821.63000965]\n",
      "skipping soma 0 because closest skeleton node was already end node\n",
      "endpoints_must_keep = {0: array([[1483982.08022895,  588135.81137922, 1094821.63000965]])}\n",
      "match_sk_branches = [3]\n",
      "The new branch info was none so skipping \n",
      "\n",
      "No soma extending branch was added for this sublimb even though it had a soma border (means they already existed)\n",
      "MP (because soma touching verts) soma extension add: 0.19101357460021973\n",
      "There were not both MAP and MP pieces so skipping the stitch resolving phase\n",
      "Time for decomp of Limb = 3.7797067165374756\n",
      "Number of matching vertices = 20\n",
      "Only one endpoint after filtering away the endpoints that are not on the skeleton\n",
      "Using Distance measure skeletal_distance\n",
      "endpoints_must_keep = [[1483982.08022895  588135.81137922 1094821.63000965]]\n",
      "Number of end_nodes BEFORE filtering = 15\n",
      "all_single_nodes_to_eliminate = [10]\n",
      "no small end nodes to get rid of so returning whole skeleton\n",
      "Removed 0 skeletal branches\n"
     ]
    },
    {
     "data": {
      "application/vnd.jupyter.widget-view+json": {
       "model_id": "ecca212098dc46c29079117662e696f1",
       "version_major": 2,
       "version_minor": 0
      },
      "text/plain": [
       "  0%|          | 0/25 [00:00<?, ?it/s]"
      ]
     },
     "metadata": {},
     "output_type": "display_data"
    },
    {
     "name": "stdout",
     "output_type": "stream",
     "text": [
      "40338 40339\n",
      "For marked faces: None\n",
      "empty_indices % = 0.0\n",
      " conflict_indices % = 0.0\n"
     ]
    },
    {
     "data": {
      "application/vnd.jupyter.widget-view+json": {
       "model_id": "fef662ba8b944a30b3419e83b32b5ee1",
       "version_major": 2,
       "version_minor": 0
      },
      "text/plain": [
       "0it [00:00, ?it/s]"
      ]
     },
     "metadata": {},
     "output_type": "display_data"
    },
    {
     "name": "stdout",
     "output_type": "stream",
     "text": [
      "AFTER face_lookup_resolved_test\n"
     ]
    },
    {
     "data": {
      "application/vnd.jupyter.widget-view+json": {
       "model_id": "812debadd1c14816b28083d6db51a4b2",
       "version_major": 2,
       "version_minor": 0
      },
      "text/plain": [
       "  0%|          | 0/25 [00:00<?, ?it/s]"
      ]
     },
     "metadata": {},
     "output_type": "display_data"
    },
    {
     "name": "stdout",
     "output_type": "stream",
     "text": [
      "Successful Limb Decomposition\n",
      "\n",
      "\n",
      "----- Working on Proper Limb # 2 ---------\n",
      "meshparty_segment_size = 100\n",
      "invalidation_d = 12000\n",
      "use_adaptive_invalidation_d= False\n",
      "axon_width_preprocess_limb_max = 200\n",
      "filter_end_node_length= 4000\n",
      "filter_end_node_length_meshparty = 4000\n",
      "invalidation_d = 12000\n",
      "root_curr = [1476534.   581771.6 1109552. ]\n",
      "Time for preparing soma vertices and root: 0.00018405914306640625\n",
      "invalidation_d = 12000\n",
      "smooth_neighborhood = 1\n",
      "cc_vertex_thresh = 10\n"
     ]
    },
    {
     "name": "stderr",
     "output_type": "stream",
     "text": [
      "\r",
      "  0%|          | 0/1 [00:00<?, ?it/s]"
     ]
    },
    {
     "data": {
      "application/vnd.jupyter.widget-view+json": {
       "model_id": "babffd349b6b45eab6356d49dee26679",
       "version_major": 2,
       "version_minor": 0
      },
      "text/plain": [
       "  0%|          | 0/20030 [00:00<?, ?it/s]"
      ]
     },
     "metadata": {},
     "output_type": "display_data"
    },
    {
     "name": "stderr",
     "output_type": "stream",
     "text": [
      "100%|██████████| 1/1 [00:00<00:00, 10.42it/s]\n"
     ]
    },
    {
     "name": "stdout",
     "output_type": "stream",
     "text": [
      "meshparty_segment_size = 100\n",
      "Time for 1st pass MP skeletonization: 0.3067605495452881\n",
      "branches_touching_root = [1]\n",
      "combining close nodes\n",
      "combine_threshold = 700\n",
      "length of Graph = 2074\n",
      "After combining close endpoints max(kept_branches_idx) = 2, len(kept_branches_idx) = 3\n",
      "empty_indices % = 0.0\n",
      " conflict_indices % = 0.002637462007987742\n"
     ]
    },
    {
     "data": {
      "application/vnd.jupyter.widget-view+json": {
       "model_id": "0a96a28f5ef04c8a921ba8dd28199506",
       "version_major": 2,
       "version_minor": 0
      },
      "text/plain": [
       "  0%|          | 0/1 [00:00<?, ?it/s]"
      ]
     },
     "metadata": {},
     "output_type": "display_data"
    },
    {
     "name": "stdout",
     "output_type": "stream",
     "text": [
      "AFTER face_lookup_resolved_test\n"
     ]
    },
    {
     "data": {
      "application/vnd.jupyter.widget-view+json": {
       "model_id": "3196c1db3caf4b51b651c9582746ad6b",
       "version_major": 2,
       "version_minor": 0
      },
      "text/plain": [
       "  0%|          | 0/3 [00:00<?, ?it/s]"
      ]
     },
     "metadata": {},
     "output_type": "display_data"
    },
    {
     "name": "stdout",
     "output_type": "stream",
     "text": [
      "Decomposing first pass: 1.4396405220031738\n",
      "Attempting to use MeshAfterParty Skeletonization and Mesh Correspondence\n",
      "Another print\n",
      "Found len(mesh_large_idx) MAP candidates: [2093]\n",
      "mesh_large_connectivity: 0.0001163482666015625\n",
      "Finding MAP candidates connected components: 7.05718994140625e-05\n",
      "len(filtered_pieces) = 1\n",
      "skeleton_connectivity_MP : 0.05486297607421875\n",
      "Grouping MP Sublimbs by Graph: 0.022491931915283203\n",
      "Divinding into MP and MAP pieces: 4.76837158203125e-07\n",
      "--- Working on MAP piece 0---\n",
      "MAP Filtering Soma Pieces: 0.015030145645141602\n",
      "inside skeletonize_connected_branch and use_surface_after_CGAL=True, surface_reconstruction_size=1000\n",
      "keep_idx = [0]\n",
      "     Starting Screened Poisson\n",
      "xvfb-run -n 2008 -s \"-screen 0 800x600x24\" meshlabserver $@  -i /neurd_packages/NEURD/Applications/autoproof_neuron_pipeline/temp/None.off -o /neurd_packages/NEURD/Applications/autoproof_neuron_pipeline/temp/None_poisson.off -s /neurd_packages/NEURD/Applications/autoproof_neuron_pipeline/temp/poisson_840978.mls\n",
      "removed temporary input file: /neurd_packages/NEURD/Applications/autoproof_neuron_pipeline/temp/None.off\n",
      "removed temporary output file: /neurd_packages/NEURD/Applications/autoproof_neuron_pipeline/temp/None_poisson.off\n",
      "Using the close holes feature\n",
      "xvfb-run -n 3361 -s \"-screen 0 800x600x24\" meshlabserver $@  -i /neurd_packages/NEURD/Applications/autoproof_neuron_pipeline/temp/neuron_77530.off -o /neurd_packages/NEURD/Applications/autoproof_neuron_pipeline/temp/neuron_77530_fill_holes.off -s /neurd_packages/NEURD/Applications/autoproof_neuron_pipeline/temp/fill_holes_411558.mls\n",
      "removed temporary input file: /neurd_packages/NEURD/Applications/autoproof_neuron_pipeline/temp/neuron_77530.off\n",
      "removed temporary output file: /neurd_packages/NEURD/Applications/autoproof_neuron_pipeline/temp/neuron_77530_fill_holes.off\n",
      "/neurd_packages/NEURD/Applications/autoproof_neuron_pipeline/temp/fill_holes_411558.mls is being deleted....\n",
      "-----Time for Screened Poisson= 6.996233224868774\n",
      "mesh_pieces = [<trimesh.Trimesh(vertices.shape=(1991, 3), faces.shape=(3978, 3))>]\n",
      "     Starting Calcification (Changed back where stitches large poissons)\n",
      "Manifold status before skeletonization = True\n",
      "Watertight status before skeletonization = True\n",
      "min_edge_length = 75\n",
      "Before mesh subtraction number of skeleton edges = 70\n"
     ]
    },
    {
     "data": {
      "application/vnd.jupyter.widget-view+json": {
       "model_id": "f7ddb5205f714d65886c8462d82ef409",
       "version_major": 2,
       "version_minor": 0
      },
      "text/plain": [
       "0it [00:00, ?it/s]"
      ]
     },
     "metadata": {},
     "output_type": "display_data"
    },
    {
     "name": "stdout",
     "output_type": "stream",
     "text": [
      "len(leftover_meshes_sig) = []\n"
     ]
    },
    {
     "data": {
      "application/vnd.jupyter.widget-view+json": {
       "model_id": "df16b1ca0a154729907e4b082cd3d90e",
       "version_major": 2,
       "version_minor": 0
      },
      "text/plain": [
       "0it [00:00, ?it/s]"
      ]
     },
     "metadata": {},
     "output_type": "display_data"
    },
    {
     "name": "stdout",
     "output_type": "stream",
     "text": [
      "No skeletons to stack so returning empty list\n",
      "STacking the leftover and significant poisson skeleton\n",
      "max_stitch_distance = 5000\n",
      "len_subgraphs AT BEGINNING of the loop\n"
     ]
    },
    {
     "data": {
      "application/vnd.jupyter.widget-view+json": {
       "model_id": "c7e9b229f4274af29ca6f2c18957f840",
       "version_major": 2,
       "version_minor": 0
      },
      "text/plain": [
       "  0%|          | 0/1 [00:00<?, ?it/s]"
      ]
     },
     "metadata": {},
     "output_type": "display_data"
    },
    {
     "name": "stdout",
     "output_type": "stream",
     "text": [
      "all graph is one component!\n",
      "Total time for skeleton stitching = 0.01571822166442871\n",
      "The process was using a temp folder\n",
      "Checking connected components after skeletonize_connected_branch\n",
      "    Total time for skeletonizing branch: 7.428932189941406\n",
      "Checking connected components after removing cycles\n",
      "Total time for mesh KDTree = 0.025260210037231445\n",
      "sbv[0].reshape(-1,3) = [[1476534.   581771.6 1109552. ]]\n",
      "closest_sk_pt_coord BEFORE = [1476780.  582505. 1109340.]\n",
      "current_skeleton.shape = (69, 2, 3)\n",
      "node_for_stitch = 0: [1476780.  582505. 1109340.]\n",
      "node_for_stitch AFTER = 0: [1476780.  582505. 1109340.]\n",
      "possible_node_loc = [ 0 69]\n",
      "possible_node_loc AFTER = [ 0 69]\n",
      "curr_shortest_path = [0]\n",
      "Current stitch point was a branch or endpoint\n",
      "change_status for create soma extending pieces = False\n",
      "closest_sk_pt_coord AFTER = [1476780.  582505. 1109340.]\n",
      "skipping soma 1 because closest skeleton node was already end node\n",
      "endpoints_must_keep = {1: array([[1476780.,  582505., 1109340.]])}\n",
      "    Total time for Fixing Skeleton Soma Endpoint Extension : 0.1324605941772461\n",
      "filter_end_node_length = 4000\n",
      "Using Distance measure skeletal_distance\n",
      "endpoints_must_keep = [[1476780.  582505. 1109340.]]\n",
      "Number of end_nodes BEFORE filtering = 2\n",
      "all_single_nodes_to_eliminate = [0]\n",
      "no small end nodes to get rid of so returning whole skeleton\n",
      "Checking connected components after clean_skeleton\n",
      "after DISTANCE cleaning limb size of skeleton = (69, 2, 3)\n",
      "********COMBINING CLOSE SKELETON NODES WITHIN 700 DISTANCE**********\n",
      "combine_threshold = 700\n",
      "Found 0 valid paths to replace\n",
      "valid_paths = []\n",
      "valid_path_lengths = []\n",
      "No valid paths found so just returning the original\n",
      "skeletonize_and_clean_connected_branch_CGAL: 7.622689723968506\n",
      "Working on limb correspondence for #0 MAP piece\n",
      "xvfb-run -n 3738 -s \"-screen 0 800x600x24\" meshlabserver $@  -i /neurd_packages/NEURD/Applications/autoproof_neuron_pipeline/temp/neuron_27407.off -o /neurd_packages/NEURD/Applications/autoproof_neuron_pipeline/temp/neuron_27407_remove_interior.off -s /neurd_packages/NEURD/Applications/autoproof_neuron_pipeline/temp/remove_interior_810253.mls\n",
      "removed temporary input file: /neurd_packages/NEURD/Applications/autoproof_neuron_pipeline/temp/neuron_27407.off\n",
      "removed temporary output file: /neurd_packages/NEURD/Applications/autoproof_neuron_pipeline/temp/neuron_27407_remove_interior.off\n",
      "/neurd_packages/NEURD/Applications/autoproof_neuron_pipeline/temp/remove_interior_810253.mls is being deleted....\n",
      "No significant (100) interior meshes present\n",
      "largest is 3\n"
     ]
    },
    {
     "data": {
      "application/vnd.jupyter.widget-view+json": {
       "model_id": "480cbe81f88945ac9a410f2bd4af3120",
       "version_major": 2,
       "version_minor": 0
      },
      "text/plain": [
       "0it [00:00, ?it/s]"
      ]
     },
     "metadata": {},
     "output_type": "display_data"
    },
    {
     "name": "stdout",
     "output_type": "stream",
     "text": [
      "Total time for decomposition = 0.9679651260375977\n",
      "mesh_correspondence_first_pass: 0.9679880142211914\n",
      "Limb decomposed into 1 branches\n",
      "divided_skeleton_graph_recovered = (69, 2, 3) and \n",
      "current_mesh_data[0]['branch_skeletons_cleaned'].shape = (69, 2, 3)\n",
      "\n",
      "Number of connected components in deocmposed recovered graph = 1\n",
      "Number of connected components in cleaned skeleton graph= 1\n",
      "The downsampled branches number of connected components = 1\n",
      "Empty submeshes = []\n",
      "\n",
      "\n",
      "--- Working on 1-to-1 correspondence-----\n",
      "max(original_labels),len(original_labels) = (0, 1)\n",
      "empty_indices % = 0.14763497372193024\n",
      " conflict_indices % = 0.0\n"
     ]
    },
    {
     "data": {
      "application/vnd.jupyter.widget-view+json": {
       "model_id": "069e82caee7f4c20ab5f0c57ca06a65d",
       "version_major": 2,
       "version_minor": 0
      },
      "text/plain": [
       "  0%|          | 0/4 [00:00<?, ?it/s]"
      ]
     },
     "metadata": {},
     "output_type": "display_data"
    },
    {
     "name": "stdout",
     "output_type": "stream",
     "text": [
      "AFTER face_lookup_resolved_test\n",
      "Took 0 iterations to expand the label back\n",
      "empty_indices % = 0.0\n",
      " conflict_indices % = 0.0\n"
     ]
    },
    {
     "data": {
      "application/vnd.jupyter.widget-view+json": {
       "model_id": "1eb139e2c9d843dba16d958838d8893e",
       "version_major": 2,
       "version_minor": 0
      },
      "text/plain": [
       "0it [00:00, ?it/s]"
      ]
     },
     "metadata": {},
     "output_type": "display_data"
    },
    {
     "name": "stdout",
     "output_type": "stream",
     "text": [
      "AFTER face_lookup_resolved_test\n"
     ]
    },
    {
     "data": {
      "application/vnd.jupyter.widget-view+json": {
       "model_id": "1de0b54477ed46e3ab724ef1c7cd9fa4",
       "version_major": 2,
       "version_minor": 0
      },
      "text/plain": [
       "  0%|          | 0/1 [00:00<?, ?it/s]"
      ]
     },
     "metadata": {},
     "output_type": "display_data"
    },
    {
     "name": "stdout",
     "output_type": "stream",
     "text": [
      "Total time for MAP sublimb #0 mesh processing = 8.746443271636963\n",
      "correspondence_1_to_1: 0.14072275161743164\n",
      "Total time for MAP sublimb processing 8.746516942977905\n",
      "---- Working on MP Decomposition #0 ----\n",
      "Computing the current soma touching verts dict manually\n",
      "MP filtering soma verts: 0.018105745315551758\n",
      "Do Not Need to Fix MP Decomposition 0 so just continuing\n",
      "Successful mesh connectivity with type edges\n",
      "\n",
      "---- Working on (0, 0) connection-----\n",
      "sk_conn = [0, 1]\n",
      "conn = [0, 1]\n",
      "winning_vertex = [1481900.72163354  586937.6302398  1100472.34094648]\n",
      "MP_branches_with_stitch_point = [0, 1]\n",
      "MAP_branches_with_stitch_point = [0]\n",
      "MAP_stitch_point_on_end_or_branch = True\n"
     ]
    },
    {
     "data": {
      "application/vnd.jupyter.widget-view+json": {
       "model_id": "ef566cac5a4e4885a0394ab952877bf9",
       "version_major": 2,
       "version_minor": 0
      },
      "text/plain": [
       "0it [00:00, ?it/s]"
      ]
     },
     "metadata": {},
     "output_type": "display_data"
    },
    {
     "name": "stdout",
     "output_type": "stream",
     "text": [
      "\n",
      "\n",
      "--- Working on 1-to-1 correspondence-----\n",
      "max(original_labels),len(original_labels) = (2, 3)\n",
      "empty_indices % = 0.20318504935821757\n",
      " conflict_indices % = 0.009670694029288388\n"
     ]
    },
    {
     "data": {
      "application/vnd.jupyter.widget-view+json": {
       "model_id": "4c86691e6c73419aaba71c1d41395772",
       "version_major": 2,
       "version_minor": 0
      },
      "text/plain": [
       "  0%|          | 0/129 [00:00<?, ?it/s]"
      ]
     },
     "metadata": {},
     "output_type": "display_data"
    },
    {
     "name": "stdout",
     "output_type": "stream",
     "text": [
      "AFTER face_lookup_resolved_test\n"
     ]
    },
    {
     "data": {
      "application/vnd.jupyter.widget-view+json": {
       "model_id": "d34f2b34a326496abafa456084fb86ed",
       "version_major": 2,
       "version_minor": 0
      },
      "text/plain": [
       "  0%|          | 0/3 [00:00<?, ?it/s]"
      ]
     },
     "metadata": {},
     "output_type": "display_data"
    },
    {
     "name": "stdout",
     "output_type": "stream",
     "text": [
      "MP_branches_with_stitch_point= [0, 1]\n",
      "MP_branches_for_correspondence = [0 1]\n",
      "MP_leftover = [], MP_leftover_idx = []\n",
      " Finished with (0, 0) \n",
      "\n",
      "\n",
      "\n",
      "Time for decomp of Limb = 16.769046306610107\n",
      "Number of matching vertices = 14\n",
      "Only one endpoint after filtering away the endpoints that are not on the skeleton\n",
      "Using Distance measure skeletal_distance\n",
      "endpoints_must_keep = [[1476780.  582505. 1109340.]]\n",
      "Number of end_nodes BEFORE filtering = 3\n",
      "all_single_nodes_to_eliminate = [0]\n",
      "no small end nodes to get rid of so returning whole skeleton\n",
      "Removed 0 skeletal branches\n"
     ]
    },
    {
     "data": {
      "application/vnd.jupyter.widget-view+json": {
       "model_id": "21048792a56040f8b127dcd156d385df",
       "version_major": 2,
       "version_minor": 0
      },
      "text/plain": [
       "  0%|          | 0/3 [00:00<?, ?it/s]"
      ]
     },
     "metadata": {},
     "output_type": "display_data"
    },
    {
     "name": "stdout",
     "output_type": "stream",
     "text": [
      "39810 39811\n",
      "For marked faces: None\n",
      "empty_indices % = 0.0\n",
      " conflict_indices % = 0.0\n"
     ]
    },
    {
     "data": {
      "application/vnd.jupyter.widget-view+json": {
       "model_id": "b98e830c28614e57a14313a214895b8b",
       "version_major": 2,
       "version_minor": 0
      },
      "text/plain": [
       "0it [00:00, ?it/s]"
      ]
     },
     "metadata": {},
     "output_type": "display_data"
    },
    {
     "name": "stdout",
     "output_type": "stream",
     "text": [
      "AFTER face_lookup_resolved_test\n"
     ]
    },
    {
     "data": {
      "application/vnd.jupyter.widget-view+json": {
       "model_id": "135db429b0e84f9b9cc421f116c95518",
       "version_major": 2,
       "version_minor": 0
      },
      "text/plain": [
       "  0%|          | 0/3 [00:00<?, ?it/s]"
      ]
     },
     "metadata": {},
     "output_type": "display_data"
    },
    {
     "name": "stdout",
     "output_type": "stream",
     "text": [
      "Successful Limb Decomposition\n",
      "\n",
      "\n",
      "----- Working on Proper Limb # 3 ---------\n",
      "meshparty_segment_size = 100\n",
      "invalidation_d = 12000\n",
      "use_adaptive_invalidation_d= False\n",
      "axon_width_preprocess_limb_max = 200\n",
      "filter_end_node_length= 4000\n",
      "filter_end_node_length_meshparty = 4000\n",
      "invalidation_d = 12000\n",
      "root_curr = [1474851.   571357.5 1113536. ]\n",
      "Time for preparing soma vertices and root: 0.0002219676971435547\n",
      "invalidation_d = 12000\n",
      "smooth_neighborhood = 1\n",
      "cc_vertex_thresh = 10\n"
     ]
    },
    {
     "name": "stderr",
     "output_type": "stream",
     "text": [
      "\r",
      "  0%|          | 0/1 [00:00<?, ?it/s]"
     ]
    },
    {
     "data": {
      "application/vnd.jupyter.widget-view+json": {
       "model_id": "b07ce7b0e88542d1b9469f2e61c64c7c",
       "version_major": 2,
       "version_minor": 0
      },
      "text/plain": [
       "  0%|          | 0/11304 [00:00<?, ?it/s]"
      ]
     },
     "metadata": {},
     "output_type": "display_data"
    },
    {
     "name": "stderr",
     "output_type": "stream",
     "text": [
      "100%|██████████| 1/1 [00:00<00:00, 12.44it/s]\n"
     ]
    },
    {
     "name": "stdout",
     "output_type": "stream",
     "text": [
      "meshparty_segment_size = 100\n",
      "Time for 1st pass MP skeletonization: 0.25199389457702637\n",
      "connecting at the root\n",
      "branches_touching_root = [2]\n",
      "combining close nodes\n",
      "combine_threshold = 700\n",
      "length of Graph = 1216\n",
      "After combining close endpoints max(kept_branches_idx) = 2, len(kept_branches_idx) = 3\n",
      "empty_indices % = 0.0\n",
      " conflict_indices % = 0.0026850443032310034\n"
     ]
    },
    {
     "data": {
      "application/vnd.jupyter.widget-view+json": {
       "model_id": "b8380f456653408bb271d5627ae3a12e",
       "version_major": 2,
       "version_minor": 0
      },
      "text/plain": [
       "  0%|          | 0/1 [00:00<?, ?it/s]"
      ]
     },
     "metadata": {},
     "output_type": "display_data"
    },
    {
     "name": "stdout",
     "output_type": "stream",
     "text": [
      "AFTER face_lookup_resolved_test\n"
     ]
    },
    {
     "data": {
      "application/vnd.jupyter.widget-view+json": {
       "model_id": "fdb83ed150f645cd83587d7e7a998df3",
       "version_major": 2,
       "version_minor": 0
      },
      "text/plain": [
       "  0%|          | 0/3 [00:00<?, ?it/s]"
      ]
     },
     "metadata": {},
     "output_type": "display_data"
    },
    {
     "name": "stdout",
     "output_type": "stream",
     "text": [
      "Decomposing first pass: 0.6959841251373291\n",
      "Attempting to use MeshAfterParty Skeletonization and Mesh Correspondence\n",
      "Another print\n",
      "Divinding into MP and MAP pieces: 4.076957702636719e-05\n",
      "Total time for MAP sublimb processing 3.5762786865234375e-06\n",
      "---- Working on MP Decomposition #0 ----\n",
      "Using Quicker soma_to_piece_touching_vertices because no MAP and only one sublimb_mesh piece \n",
      "MP filtering soma verts: 1.9311904907226562e-05\n",
      "Fixing Possible Soma Extension Branch for Sublimb 0\n",
      "Total time for mesh KDTree = 0.13678288459777832\n",
      "sbv[0].reshape(-1,3) = [[1474851.   571357.5 1113536. ]]\n",
      "closest_sk_pt_coord BEFORE = [1478327.0746533   571496.39513115 1112568.79431172]\n",
      "current_skeleton.shape = (816, 2, 3)\n",
      "node_for_stitch = 79: [1478327.0746533   571496.39513115 1112568.79431172]\n",
      "node_for_stitch AFTER = 79: [1478327.0746533   571496.39513115 1112568.79431172]\n",
      "possible_node_loc = [  0 816]\n",
      "possible_node_loc AFTER = [  0 816]\n",
      "curr_shortest_path = [79, 78.0, 77.0, 76.0, 75.0, 74.0, 73.0, 72.0, 71.0, 70.0, 69.0, 68.0, 67.0, 66.0, 65.0, 64.0, 63.0, 62.0, 61.0, 60.0, 59.0, 58.0, 57.0, 56.0, 55.0, 54.0, 53.0, 52.0, 51.0, 50.0, 49.0, 48.0, 47.0, 46.0, 45.0, 44.0, 43.0, 42.0, 41.0, 40.0, 39.0, 38.0, 37.0, 36.0, 35.0, 34.0, 33.0, 32.0, 31.0, 30.0, 29.0, 28.0, 27.0, 26.0, 25.0, 24.0, 23.0, 22.0, 21.0, 20.0, 19.0, 18.0, 17.0, 16.0, 15.0, 14.0, 13.0, 12.0, 11.0, 10.0, 9.0, 8.0, 7.0, 6.0, 5.0, 4.0, 3.0, 2.0, 1.0, 0]\n",
      "Current stitch point was not a branch or endpoint, shortest_path_length to one = 7899.09708045272\n",
      "change_status for create soma extending pieces = False\n",
      "closest_sk_pt_coord AFTER = [1478327.0746533   571496.39513115 1112568.79431172]\n",
      "Adding new branch to skeleton\n",
      "border_average_coordinate = [1475123.88888889  571587.50555556 1113243.55555556]\n",
      "endpoints_must_keep = {1: array([[1475123.88888889,  571587.50555556, 1113243.55555556]])}\n",
      "match_sk_branches = []\n",
      "orig_vertex = [1478327.0746533   571496.39513115 1112568.79431172]\n",
      "match_sk_branches = [2]\n"
     ]
    },
    {
     "data": {
      "application/vnd.jupyter.widget-view+json": {
       "model_id": "15bd187374c64c3aae52be615b2f65cc",
       "version_major": 2,
       "version_minor": 0
      },
      "text/plain": [
       "0it [00:00, ?it/s]"
      ]
     },
     "metadata": {},
     "output_type": "display_data"
    },
    {
     "name": "stdout",
     "output_type": "stream",
     "text": [
      "\n",
      "\n",
      "--- Working on 1-to-1 correspondence-----\n",
      "max(original_labels),len(original_labels) = (2, 3)\n",
      "empty_indices % = 0.20500180353492847\n",
      " conflict_indices % = 0.0\n"
     ]
    },
    {
     "data": {
      "application/vnd.jupyter.widget-view+json": {
       "model_id": "7161d63714ec43b38be618ef85d1ff85",
       "version_major": 2,
       "version_minor": 0
      },
      "text/plain": [
       "  0%|          | 0/50 [00:00<?, ?it/s]"
      ]
     },
     "metadata": {},
     "output_type": "display_data"
    },
    {
     "name": "stdout",
     "output_type": "stream",
     "text": [
      "AFTER face_lookup_resolved_test\n",
      "Took 0 iterations to expand the label back\n",
      "empty_indices % = 0.0\n",
      " conflict_indices % = 0.0\n"
     ]
    },
    {
     "data": {
      "application/vnd.jupyter.widget-view+json": {
       "model_id": "97390c50218c440db69767f0bb7a5db6",
       "version_major": 2,
       "version_minor": 0
      },
      "text/plain": [
       "0it [00:00, ?it/s]"
      ]
     },
     "metadata": {},
     "output_type": "display_data"
    },
    {
     "name": "stdout",
     "output_type": "stream",
     "text": [
      "AFTER face_lookup_resolved_test\n"
     ]
    },
    {
     "data": {
      "application/vnd.jupyter.widget-view+json": {
       "model_id": "4bc92b33c39f423fa17e64b048d25e9f",
       "version_major": 2,
       "version_minor": 0
      },
      "text/plain": [
       "  0%|          | 0/3 [00:00<?, ?it/s]"
      ]
     },
     "metadata": {},
     "output_type": "display_data"
    },
    {
     "name": "stdout",
     "output_type": "stream",
     "text": [
      "curr_width_median = 87.54854055123917\n",
      "curr_width_median = 443.7225406969436\n",
      "curr_width_median = 382.2549750344962\n",
      "checked segment branches after soma add on\n",
      "MP (because soma touching verts) soma extension add: 2.7583062648773193\n",
      "There were not both MAP and MP pieces so skipping the stitch resolving phase\n",
      "Time for decomp of Limb = 3.7509284019470215\n",
      "Number of matching vertices = 18\n",
      "Only one endpoint after filtering away the endpoints that are not on the skeleton\n",
      "Using Distance measure skeletal_distance\n",
      "endpoints_must_keep = [[1475123.88888889  571587.50555556 1113243.55555556]]\n",
      "Number of end_nodes BEFORE filtering = 4\n",
      "all_single_nodes_to_eliminate = [1]\n",
      "no small end nodes to get rid of so returning whole skeleton\n",
      "Removed 0 skeletal branches\n"
     ]
    },
    {
     "data": {
      "application/vnd.jupyter.widget-view+json": {
       "model_id": "af9a823e2e1741ecb384d70c2d59a720",
       "version_major": 2,
       "version_minor": 0
      },
      "text/plain": [
       "  0%|          | 0/5 [00:00<?, ?it/s]"
      ]
     },
     "metadata": {},
     "output_type": "display_data"
    },
    {
     "name": "stdout",
     "output_type": "stream",
     "text": [
      "22345 22346\n",
      "For marked faces: None\n",
      "empty_indices % = 0.0\n",
      " conflict_indices % = 0.0\n"
     ]
    },
    {
     "data": {
      "application/vnd.jupyter.widget-view+json": {
       "model_id": "533024af009e44d1926d86f79c036f54",
       "version_major": 2,
       "version_minor": 0
      },
      "text/plain": [
       "0it [00:00, ?it/s]"
      ]
     },
     "metadata": {},
     "output_type": "display_data"
    },
    {
     "name": "stdout",
     "output_type": "stream",
     "text": [
      "AFTER face_lookup_resolved_test\n"
     ]
    },
    {
     "data": {
      "application/vnd.jupyter.widget-view+json": {
       "model_id": "49287ea4afcb418c8513351f4efe8eab",
       "version_major": 2,
       "version_minor": 0
      },
      "text/plain": [
       "  0%|          | 0/5 [00:00<?, ?it/s]"
      ]
     },
     "metadata": {},
     "output_type": "display_data"
    },
    {
     "name": "stdout",
     "output_type": "stream",
     "text": [
      "Successful Limb Decomposition\n",
      "\n",
      "\n",
      "----- Working on Proper Limb # 4 ---------\n",
      "meshparty_segment_size = 100\n",
      "invalidation_d = 12000\n",
      "use_adaptive_invalidation_d= False\n",
      "axon_width_preprocess_limb_max = 200\n",
      "filter_end_node_length= 4000\n",
      "filter_end_node_length_meshparty = 4000\n",
      "invalidation_d = 12000\n",
      "root_curr = [1493560.   586779.1 1105606. ]\n",
      "Time for preparing soma vertices and root: 0.00025200843811035156\n",
      "invalidation_d = 12000\n",
      "smooth_neighborhood = 1\n",
      "cc_vertex_thresh = 10\n"
     ]
    },
    {
     "name": "stderr",
     "output_type": "stream",
     "text": [
      "\r",
      "  0%|          | 0/1 [00:00<?, ?it/s]"
     ]
    },
    {
     "data": {
      "application/vnd.jupyter.widget-view+json": {
       "model_id": "626ae75e2fed4682b4e557e75e7cbee1",
       "version_major": 2,
       "version_minor": 0
      },
      "text/plain": [
       "  0%|          | 0/10788 [00:00<?, ?it/s]"
      ]
     },
     "metadata": {},
     "output_type": "display_data"
    },
    {
     "name": "stderr",
     "output_type": "stream",
     "text": [
      "100%|██████████| 1/1 [00:00<00:00, 16.50it/s]\n"
     ]
    },
    {
     "name": "stdout",
     "output_type": "stream",
     "text": [
      "meshparty_segment_size = 100\n",
      "Time for 1st pass MP skeletonization: 0.23043513298034668\n",
      "connecting at the root\n",
      "branches_touching_root = [0]\n",
      "combining close nodes\n",
      "combine_threshold = 700\n",
      "length of Graph = 741\n",
      "After combining close endpoints max(kept_branches_idx) = 0, len(kept_branches_idx) = 1\n",
      "empty_indices % = 0.0\n",
      " conflict_indices % = 0.0\n"
     ]
    },
    {
     "data": {
      "application/vnd.jupyter.widget-view+json": {
       "model_id": "0e097cb071e6485f853b611926ed3e60",
       "version_major": 2,
       "version_minor": 0
      },
      "text/plain": [
       "0it [00:00, ?it/s]"
      ]
     },
     "metadata": {},
     "output_type": "display_data"
    },
    {
     "name": "stdout",
     "output_type": "stream",
     "text": [
      "AFTER face_lookup_resolved_test\n"
     ]
    },
    {
     "data": {
      "application/vnd.jupyter.widget-view+json": {
       "model_id": "164a86990c2f4b9cb72ec81dd2f518b9",
       "version_major": 2,
       "version_minor": 0
      },
      "text/plain": [
       "  0%|          | 0/1 [00:00<?, ?it/s]"
      ]
     },
     "metadata": {},
     "output_type": "display_data"
    },
    {
     "name": "stdout",
     "output_type": "stream",
     "text": [
      "Decomposing first pass: 0.9029879570007324\n",
      "Attempting to use MeshAfterParty Skeletonization and Mesh Correspondence\n",
      "Another print\n",
      "Found len(mesh_large_idx) MAP candidates: [20742]\n",
      "mesh_large_connectivity: 0.00010800361633300781\n",
      "Finding MAP candidates connected components: 6.389617919921875e-05\n",
      "len(filtered_pieces) = 1\n",
      "skeleton_connectivity_MP : 0.006676197052001953\n",
      "Grouping MP Sublimbs by Graph: 2.47955322265625e-05\n",
      "Divinding into MP and MAP pieces: 7.152557373046875e-07\n",
      "--- Working on MAP piece 0---\n",
      "MAP Filtering Soma Pieces: 0.015907764434814453\n",
      "inside skeletonize_connected_branch and use_surface_after_CGAL=True, surface_reconstruction_size=1000\n",
      "keep_idx = [0]\n",
      "     Starting Screened Poisson\n",
      "xvfb-run -n 9204 -s \"-screen 0 800x600x24\" meshlabserver $@  -i /neurd_packages/NEURD/Applications/autoproof_neuron_pipeline/temp/None.off -o /neurd_packages/NEURD/Applications/autoproof_neuron_pipeline/temp/None_poisson.off -s /neurd_packages/NEURD/Applications/autoproof_neuron_pipeline/temp/poisson_553595.mls\n",
      "removed temporary input file: /neurd_packages/NEURD/Applications/autoproof_neuron_pipeline/temp/None.off\n",
      "removed temporary output file: /neurd_packages/NEURD/Applications/autoproof_neuron_pipeline/temp/None_poisson.off\n",
      "Using the close holes feature\n",
      "xvfb-run -n 8682 -s \"-screen 0 800x600x24\" meshlabserver $@  -i /neurd_packages/NEURD/Applications/autoproof_neuron_pipeline/temp/neuron_52185.off -o /neurd_packages/NEURD/Applications/autoproof_neuron_pipeline/temp/neuron_52185_fill_holes.off -s /neurd_packages/NEURD/Applications/autoproof_neuron_pipeline/temp/fill_holes_96329.mls\n",
      "removed temporary input file: /neurd_packages/NEURD/Applications/autoproof_neuron_pipeline/temp/neuron_52185.off\n",
      "removed temporary output file: /neurd_packages/NEURD/Applications/autoproof_neuron_pipeline/temp/neuron_52185_fill_holes.off\n",
      "/neurd_packages/NEURD/Applications/autoproof_neuron_pipeline/temp/fill_holes_96329.mls is being deleted....\n",
      "-----Time for Screened Poisson= 12.128929615020752\n",
      "mesh_pieces = [<trimesh.Trimesh(vertices.shape=(32479, 3), faces.shape=(64962, 3))>]\n",
      "     Starting Calcification (Changed back where stitches large poissons)\n",
      "Manifold status before skeletonization = True\n",
      "Watertight status before skeletonization = True\n",
      "min_edge_length = 75\n",
      "Before mesh subtraction number of skeleton edges = 760\n"
     ]
    },
    {
     "data": {
      "application/vnd.jupyter.widget-view+json": {
       "model_id": "ce48f83bc7cb40f4b57458ab975249f6",
       "version_major": 2,
       "version_minor": 0
      },
      "text/plain": [
       "0it [00:00, ?it/s]"
      ]
     },
     "metadata": {},
     "output_type": "display_data"
    },
    {
     "name": "stdout",
     "output_type": "stream",
     "text": [
      "len(leftover_meshes_sig) = []\n"
     ]
    },
    {
     "data": {
      "application/vnd.jupyter.widget-view+json": {
       "model_id": "e96fd688ac904f91b25167eafa5031ad",
       "version_major": 2,
       "version_minor": 0
      },
      "text/plain": [
       "0it [00:00, ?it/s]"
      ]
     },
     "metadata": {},
     "output_type": "display_data"
    },
    {
     "name": "stdout",
     "output_type": "stream",
     "text": [
      "No skeletons to stack so returning empty list\n",
      "STacking the leftover and significant poisson skeleton\n",
      "max_stitch_distance = 5000\n",
      "len_subgraphs AT BEGINNING of the loop\n"
     ]
    },
    {
     "data": {
      "application/vnd.jupyter.widget-view+json": {
       "model_id": "8c46c93f3dab4507a0d6f13898d30d0d",
       "version_major": 2,
       "version_minor": 0
      },
      "text/plain": [
       "  0%|          | 0/1 [00:00<?, ?it/s]"
      ]
     },
     "metadata": {},
     "output_type": "display_data"
    },
    {
     "name": "stdout",
     "output_type": "stream",
     "text": [
      "all graph is one component!\n",
      "Total time for skeleton stitching = 0.026201248168945312\n",
      "The process was using a temp folder\n",
      "Checking connected components after skeletonize_connected_branch\n",
      "    Total time for skeletonizing branch: 15.862396717071533\n",
      "Checking connected components after removing cycles\n",
      "Total time for mesh KDTree = 0.16779780387878418\n",
      "sbv[0].reshape(-1,3) = [[1493560.   586779.1 1105606. ]]\n",
      "closest_sk_pt_coord BEFORE = [1492740.  587136. 1106690.]\n",
      "current_skeleton.shape = (759, 2, 3)\n",
      "node_for_stitch = 203: [1492740.  587136. 1106690.]\n",
      "node_for_stitch AFTER = 203: [1492740.  587136. 1106690.]\n",
      "possible_node_loc = [  0  49 126 137 149 182 203 315 423 576 588 593 620 716 730 759]\n",
      "possible_node_loc AFTER = [  0  49 126 137 149 182 203 315 423 576 588 593 620 716 730 759]\n",
      "curr_shortest_path = [203]\n",
      "Current stitch point was a branch or endpoint\n",
      "change_status for create soma extending pieces = False\n",
      "closest_sk_pt_coord AFTER = [1492740.  587136. 1106690.]\n",
      "skipping soma 0 because closest skeleton node was already end node\n",
      "sbv[0].reshape(-1,3) = [[1474600.   582912.4 1113344. ]]\n",
      "closest_sk_pt_coord BEFORE = [1474890.  582880. 1113470.]\n",
      "current_skeleton.shape = (759, 2, 3)\n",
      "node_for_stitch = 0: [1474890.  582880. 1113470.]\n",
      "node_for_stitch AFTER = 0: [1474890.  582880. 1113470.]\n",
      "possible_node_loc = [  0  49 126 137 149 182 203 315 423 576 588 593 620 716 730 759]\n",
      "possible_node_loc AFTER = [  0  49 126 137 149 182 203 315 423 576 588 593 620 716 730 759]\n",
      "curr_shortest_path = [0]\n",
      "Current stitch point was a branch or endpoint\n",
      "change_status for create soma extending pieces = False\n",
      "closest_sk_pt_coord AFTER = [1474890.  582880. 1113470.]\n",
      "skipping soma 1 because closest skeleton node was already end node\n",
      "endpoints_must_keep = {0: array([[1492740.,  587136., 1106690.]]), 1: array([[1474890.,  582880., 1113470.]])}\n",
      "    Total time for Fixing Skeleton Soma Endpoint Extension : 0.36678051948547363\n",
      "filter_end_node_length = 4000\n",
      "Using Distance measure skeletal_distance\n",
      "endpoints_must_keep = [[1492740.  587136. 1106690.]\n",
      " [1474890.  582880. 1113470.]]\n",
      "Number of end_nodes BEFORE filtering = 16\n",
      "all_single_nodes_to_eliminate = [6, 0]\n"
     ]
    },
    {
     "data": {
      "application/vnd.jupyter.widget-view+json": {
       "model_id": "1faf731162404df8ab29ffb5feb08f86",
       "version_major": 2,
       "version_minor": 0
      },
      "text/plain": [
       "  0%|          | 0/11 [00:00<?, ?it/s]"
      ]
     },
     "metadata": {},
     "output_type": "display_data"
    },
    {
     "name": "stdout",
     "output_type": "stream",
     "text": [
      "Checking connected components after clean_skeleton\n",
      "after DISTANCE cleaning limb size of skeleton = (697, 2, 3)\n",
      "********COMBINING CLOSE SKELETON NODES WITHIN 700 DISTANCE**********\n",
      "combine_threshold = 700\n",
      "Found 0 valid paths to replace\n",
      "valid_paths = []\n",
      "valid_path_lengths = []\n",
      "No valid paths found so just returning the original\n",
      "skeletonize_and_clean_connected_branch_CGAL: 16.721639394760132\n",
      "Working on limb correspondence for #0 MAP piece\n",
      "xvfb-run -n 5283 -s \"-screen 0 800x600x24\" meshlabserver $@  -i /neurd_packages/NEURD/Applications/autoproof_neuron_pipeline/temp/neuron_53165.off -o /neurd_packages/NEURD/Applications/autoproof_neuron_pipeline/temp/neuron_53165_remove_interior.off -s /neurd_packages/NEURD/Applications/autoproof_neuron_pipeline/temp/remove_interior_64716.mls\n",
      "removed temporary input file: /neurd_packages/NEURD/Applications/autoproof_neuron_pipeline/temp/neuron_53165.off\n",
      "removed temporary output file: /neurd_packages/NEURD/Applications/autoproof_neuron_pipeline/temp/neuron_53165_remove_interior.off\n",
      "/neurd_packages/NEURD/Applications/autoproof_neuron_pipeline/temp/remove_interior_64716.mls is being deleted....\n",
      "Removing the following inside neurons: [<trimesh.Trimesh(vertices.shape=(205, 3), faces.shape=(309, 3))>]\n"
     ]
    },
    {
     "data": {
      "application/vnd.jupyter.widget-view+json": {
       "model_id": "776614abe3454277b71fdfb041ce7d39",
       "version_major": 2,
       "version_minor": 0
      },
      "text/plain": [
       "0it [00:00, ?it/s]"
      ]
     },
     "metadata": {},
     "output_type": "display_data"
    },
    {
     "name": "stdout",
     "output_type": "stream",
     "text": [
      "Total time for decomposition = 3.104112148284912\n",
      "mesh_correspondence_first_pass: 3.1041369438171387\n",
      "Limb decomposed into 7 branches\n",
      "divided_skeleton_graph_recovered = (697, 2, 3) and \n",
      "current_mesh_data[0]['branch_skeletons_cleaned'].shape = (697, 2, 3)\n",
      "\n",
      "Number of connected components in deocmposed recovered graph = 1\n",
      "Number of connected components in cleaned skeleton graph= 1\n",
      "The downsampled branches number of connected components = 1\n",
      "Empty submeshes = []\n",
      "\n",
      "\n",
      "--- Working on 1-to-1 correspondence-----\n",
      "max(original_labels),len(original_labels) = (6, 7)\n",
      "empty_indices % = 0.17066820943014174\n",
      " conflict_indices % = 0.054334201137788064\n"
     ]
    },
    {
     "data": {
      "application/vnd.jupyter.widget-view+json": {
       "model_id": "b1c839a4cc4843308230ae21a4468ff5",
       "version_major": 2,
       "version_minor": 0
      },
      "text/plain": [
       "  0%|          | 0/63 [00:00<?, ?it/s]"
      ]
     },
     "metadata": {},
     "output_type": "display_data"
    },
    {
     "name": "stdout",
     "output_type": "stream",
     "text": [
      "AFTER face_lookup_resolved_test\n",
      "Took 0 iterations to expand the label back\n",
      "empty_indices % = 0.0\n",
      " conflict_indices % = 0.0\n"
     ]
    },
    {
     "data": {
      "application/vnd.jupyter.widget-view+json": {
       "model_id": "a329b2c1f29c439cad6573a6fe409e7c",
       "version_major": 2,
       "version_minor": 0
      },
      "text/plain": [
       "0it [00:00, ?it/s]"
      ]
     },
     "metadata": {},
     "output_type": "display_data"
    },
    {
     "name": "stdout",
     "output_type": "stream",
     "text": [
      "AFTER face_lookup_resolved_test\n",
      "Took 0 iterations to expand the label back\n",
      "empty_indices % = 0.0\n",
      " conflict_indices % = 0.0\n"
     ]
    },
    {
     "data": {
      "application/vnd.jupyter.widget-view+json": {
       "model_id": "9ea75571378f4b6e9df0845c37954948",
       "version_major": 2,
       "version_minor": 0
      },
      "text/plain": [
       "0it [00:00, ?it/s]"
      ]
     },
     "metadata": {},
     "output_type": "display_data"
    },
    {
     "name": "stdout",
     "output_type": "stream",
     "text": [
      "AFTER face_lookup_resolved_test\n"
     ]
    },
    {
     "data": {
      "application/vnd.jupyter.widget-view+json": {
       "model_id": "15f6c8847f504e2694e5c85deb4d8ed4",
       "version_major": 2,
       "version_minor": 0
      },
      "text/plain": [
       "  0%|          | 0/7 [00:00<?, ?it/s]"
      ]
     },
     "metadata": {},
     "output_type": "display_data"
    },
    {
     "name": "stdout",
     "output_type": "stream",
     "text": [
      "Total time for MAP sublimb #0 mesh processing = 21.60326886177063\n",
      "correspondence_1_to_1: 1.7615511417388916\n",
      "Total time for MAP sublimb processing 21.603326559066772\n",
      "There were not both MAP and MP pieces so skipping the stitch resolving phase\n",
      "Time for decomp of Limb = 22.7603178024292\n",
      "Number of matching vertices = 60\n",
      "Number of matching vertices = 13\n",
      "Only one endpoint after filtering away the endpoints that are not on the skeleton\n",
      "Only one endpoint after filtering away the endpoints that are not on the skeleton\n",
      "Using Distance measure skeletal_distance\n",
      "endpoints_must_keep = [[1474890.  582880. 1113470.]\n",
      " [1492740.  587136. 1106690.]]\n",
      "Number of end_nodes BEFORE filtering = 5\n",
      "all_single_nodes_to_eliminate = [0, 2]\n",
      "no small end nodes to get rid of so returning whole skeleton\n",
      "Removed 0 skeletal branches\n"
     ]
    },
    {
     "data": {
      "application/vnd.jupyter.widget-view+json": {
       "model_id": "4c39ca8c2f734145b317d6ea34fe5991",
       "version_major": 2,
       "version_minor": 0
      },
      "text/plain": [
       "  0%|          | 0/7 [00:00<?, ?it/s]"
      ]
     },
     "metadata": {},
     "output_type": "display_data"
    },
    {
     "name": "stdout",
     "output_type": "stream",
     "text": [
      "20741 20742\n",
      "For marked faces: None\n",
      "empty_indices % = 0.0\n",
      " conflict_indices % = 0.0\n"
     ]
    },
    {
     "data": {
      "application/vnd.jupyter.widget-view+json": {
       "model_id": "7417c21d2432464882b3cb60c5357df2",
       "version_major": 2,
       "version_minor": 0
      },
      "text/plain": [
       "0it [00:00, ?it/s]"
      ]
     },
     "metadata": {},
     "output_type": "display_data"
    },
    {
     "name": "stdout",
     "output_type": "stream",
     "text": [
      "AFTER face_lookup_resolved_test\n"
     ]
    },
    {
     "data": {
      "application/vnd.jupyter.widget-view+json": {
       "model_id": "494270155c0948bea1afbd614342e024",
       "version_major": 2,
       "version_minor": 0
      },
      "text/plain": [
       "  0%|          | 0/7 [00:00<?, ?it/s]"
      ]
     },
     "metadata": {},
     "output_type": "display_data"
    },
    {
     "name": "stdout",
     "output_type": "stream",
     "text": [
      "Successful Limb Decomposition\n",
      "\n",
      "\n",
      "----- Working on Proper Limb # 5 ---------\n",
      "meshparty_segment_size = 100\n",
      "invalidation_d = 12000\n",
      "use_adaptive_invalidation_d= False\n",
      "axon_width_preprocess_limb_max = 200\n",
      "filter_end_node_length= 4000\n",
      "filter_end_node_length_meshparty = 4000\n",
      "invalidation_d = 12000\n",
      "root_curr = [1486653.   594244.2 1104480. ]\n",
      "Time for preparing soma vertices and root: 0.0002727508544921875\n",
      "invalidation_d = 12000\n",
      "smooth_neighborhood = 1\n",
      "cc_vertex_thresh = 10\n"
     ]
    },
    {
     "name": "stderr",
     "output_type": "stream",
     "text": [
      "\r",
      "  0%|          | 0/1 [00:00<?, ?it/s]"
     ]
    },
    {
     "data": {
      "application/vnd.jupyter.widget-view+json": {
       "model_id": "d6c2588183f6485fb629c82f290e1c44",
       "version_major": 2,
       "version_minor": 0
      },
      "text/plain": [
       "  0%|          | 0/9843 [00:00<?, ?it/s]"
      ]
     },
     "metadata": {},
     "output_type": "display_data"
    },
    {
     "name": "stderr",
     "output_type": "stream",
     "text": [
      "100%|██████████| 1/1 [00:00<00:00, 20.73it/s]\n"
     ]
    },
    {
     "name": "stdout",
     "output_type": "stream",
     "text": [
      "meshparty_segment_size = 100\n",
      "Time for 1st pass MP skeletonization: 0.2342369556427002\n",
      "branches_touching_root = [0]\n",
      "combining close nodes\n",
      "combine_threshold = 700\n",
      "length of Graph = 818\n",
      "After combining close endpoints max(kept_branches_idx) = 0, len(kept_branches_idx) = 1\n",
      "empty_indices % = 0.0\n",
      " conflict_indices % = 0.0\n"
     ]
    },
    {
     "data": {
      "application/vnd.jupyter.widget-view+json": {
       "model_id": "56ec8f059e324effaac06db729e835f8",
       "version_major": 2,
       "version_minor": 0
      },
      "text/plain": [
       "0it [00:00, ?it/s]"
      ]
     },
     "metadata": {},
     "output_type": "display_data"
    },
    {
     "name": "stdout",
     "output_type": "stream",
     "text": [
      "AFTER face_lookup_resolved_test\n"
     ]
    },
    {
     "data": {
      "application/vnd.jupyter.widget-view+json": {
       "model_id": "c31a22742a6e4728b10ba2cfec4a0317",
       "version_major": 2,
       "version_minor": 0
      },
      "text/plain": [
       "  0%|          | 0/1 [00:00<?, ?it/s]"
      ]
     },
     "metadata": {},
     "output_type": "display_data"
    },
    {
     "name": "stdout",
     "output_type": "stream",
     "text": [
      "Decomposing first pass: 0.5458805561065674\n",
      "Attempting to use MeshAfterParty Skeletonization and Mesh Correspondence\n",
      "Another print\n",
      "Divinding into MP and MAP pieces: 2.8848648071289062e-05\n",
      "Total time for MAP sublimb processing 3.0994415283203125e-06\n",
      "---- Working on MP Decomposition #0 ----\n",
      "Using Quicker soma_to_piece_touching_vertices because no MAP and only one sublimb_mesh piece \n",
      "MP filtering soma verts: 1.52587890625e-05\n",
      "Fixing Possible Soma Extension Branch for Sublimb 0\n",
      "Total time for mesh KDTree = 0.14849305152893066\n",
      "sbv[0].reshape(-1,3) = [[1486653.   594244.2 1104480. ]]\n",
      "closest_sk_pt_coord BEFORE = [1486547.7606223   594609.92820407 1104601.87572914]\n",
      "current_skeleton.shape = (817, 2, 3)\n",
      "node_for_stitch = 817: [1486547.7606223   594609.92820407 1104601.87572914]\n",
      "node_for_stitch AFTER = 817: [1486547.7606223   594609.92820407 1104601.87572914]\n",
      "possible_node_loc = [334 817]\n",
      "possible_node_loc AFTER = [334 817]\n",
      "curr_shortest_path = [817]\n",
      "Current stitch point was a branch or endpoint\n",
      "change_status for create soma extending pieces = False\n",
      "closest_sk_pt_coord AFTER = [1486547.7606223   594609.92820407 1104601.87572914]\n",
      "skipping soma 0 because closest skeleton node was already end node\n",
      "endpoints_must_keep = {0: array([[1486547.7606223 ,  594609.92820407, 1104601.87572914]])}\n",
      "match_sk_branches = [0]\n",
      "The new branch info was none so skipping \n",
      "\n",
      "No soma extending branch was added for this sublimb even though it had a soma border (means they already existed)\n",
      "MP (because soma touching verts) soma extension add: 0.23820042610168457\n",
      "There were not both MAP and MP pieces so skipping the stitch resolving phase\n",
      "Time for decomp of Limb = 1.0381083488464355\n",
      "Number of matching vertices = 27\n",
      "Only one endpoint after filtering away the endpoints that are not on the skeleton\n",
      "Using Distance measure skeletal_distance\n",
      "endpoints_must_keep = [[1486547.7606223   594609.92820407 1104601.87572914]]\n",
      "Number of end_nodes BEFORE filtering = 2\n",
      "all_single_nodes_to_eliminate = [1]\n",
      "no small end nodes to get rid of so returning whole skeleton\n",
      "Removed 0 skeletal branches\n"
     ]
    },
    {
     "data": {
      "application/vnd.jupyter.widget-view+json": {
       "model_id": "f0ef36dd01da4a15a80f9f3855128627",
       "version_major": 2,
       "version_minor": 0
      },
      "text/plain": [
       "  0%|          | 0/1 [00:00<?, ?it/s]"
      ]
     },
     "metadata": {},
     "output_type": "display_data"
    },
    {
     "name": "stdout",
     "output_type": "stream",
     "text": [
      "19361 19362\n",
      "For marked faces: None\n",
      "empty_indices % = 0.0\n",
      " conflict_indices % = 0.0\n"
     ]
    },
    {
     "data": {
      "application/vnd.jupyter.widget-view+json": {
       "model_id": "c9dbc9b077df4e12a78489d6be133ec2",
       "version_major": 2,
       "version_minor": 0
      },
      "text/plain": [
       "0it [00:00, ?it/s]"
      ]
     },
     "metadata": {},
     "output_type": "display_data"
    },
    {
     "name": "stdout",
     "output_type": "stream",
     "text": [
      "AFTER face_lookup_resolved_test\n"
     ]
    },
    {
     "data": {
      "application/vnd.jupyter.widget-view+json": {
       "model_id": "5f989d2366a44bef800f3e255d734eea",
       "version_major": 2,
       "version_minor": 0
      },
      "text/plain": [
       "  0%|          | 0/1 [00:00<?, ?it/s]"
      ]
     },
     "metadata": {},
     "output_type": "display_data"
    },
    {
     "name": "stdout",
     "output_type": "stream",
     "text": [
      "Successful Limb Decomposition\n",
      "\n",
      "\n",
      "----- Working on Proper Limb # 6 ---------\n",
      "meshparty_segment_size = 100\n",
      "invalidation_d = 12000\n",
      "use_adaptive_invalidation_d= False\n",
      "axon_width_preprocess_limb_max = 200\n",
      "filter_end_node_length= 4000\n",
      "filter_end_node_length_meshparty = 4000\n",
      "invalidation_d = 12000\n",
      "root_curr = [1491272.  582425. 1102199.]\n",
      "Time for preparing soma vertices and root: 0.0002472400665283203\n",
      "invalidation_d = 12000\n",
      "smooth_neighborhood = 1\n",
      "cc_vertex_thresh = 10\n"
     ]
    },
    {
     "name": "stderr",
     "output_type": "stream",
     "text": [
      "\r",
      "  0%|          | 0/1 [00:00<?, ?it/s]"
     ]
    },
    {
     "data": {
      "application/vnd.jupyter.widget-view+json": {
       "model_id": "e772ff9fb980482e94f601045139a92a",
       "version_major": 2,
       "version_minor": 0
      },
      "text/plain": [
       "  0%|          | 0/7350 [00:00<?, ?it/s]"
      ]
     },
     "metadata": {},
     "output_type": "display_data"
    },
    {
     "name": "stderr",
     "output_type": "stream",
     "text": [
      "\r",
      "100%|██████████| 1/1 [00:00<00:00, 20.59it/s]"
     ]
    },
    {
     "name": "stdout",
     "output_type": "stream",
     "text": [
      "meshparty_segment_size = 100\n",
      "Time for 1st pass MP skeletonization: 0.1780412197113037\n",
      "connecting at the root\n",
      "branches_touching_root = [0]\n"
     ]
    },
    {
     "name": "stderr",
     "output_type": "stream",
     "text": [
      "\n"
     ]
    },
    {
     "name": "stdout",
     "output_type": "stream",
     "text": [
      "combining close nodes\n",
      "combine_threshold = 700\n",
      "length of Graph = 734\n",
      "After combining close endpoints max(kept_branches_idx) = 0, len(kept_branches_idx) = 1\n",
      "empty_indices % = 0.0\n",
      " conflict_indices % = 0.0\n"
     ]
    },
    {
     "data": {
      "application/vnd.jupyter.widget-view+json": {
       "model_id": "74d36ceae9064fb29e9d78228b71f767",
       "version_major": 2,
       "version_minor": 0
      },
      "text/plain": [
       "0it [00:00, ?it/s]"
      ]
     },
     "metadata": {},
     "output_type": "display_data"
    },
    {
     "name": "stdout",
     "output_type": "stream",
     "text": [
      "AFTER face_lookup_resolved_test\n"
     ]
    },
    {
     "data": {
      "application/vnd.jupyter.widget-view+json": {
       "model_id": "222c03ed298047f89d364a8956c1e4b8",
       "version_major": 2,
       "version_minor": 0
      },
      "text/plain": [
       "  0%|          | 0/1 [00:00<?, ?it/s]"
      ]
     },
     "metadata": {},
     "output_type": "display_data"
    },
    {
     "name": "stdout",
     "output_type": "stream",
     "text": [
      "Decomposing first pass: 0.9101231098175049\n",
      "Attempting to use MeshAfterParty Skeletonization and Mesh Correspondence\n",
      "Another print\n",
      "Divinding into MP and MAP pieces: 5.4836273193359375e-05\n",
      "Total time for MAP sublimb processing 4.0531158447265625e-06\n",
      "---- Working on MP Decomposition #0 ----\n",
      "Using Quicker soma_to_piece_touching_vertices because no MAP and only one sublimb_mesh piece \n",
      "MP filtering soma verts: 2.2649765014648438e-05\n",
      "Fixing Possible Soma Extension Branch for Sublimb 0\n",
      "Total time for mesh KDTree = 0.121307373046875\n",
      "sbv[0].reshape(-1,3) = [[1491272.  582425. 1102199.]]\n",
      "closest_sk_pt_coord BEFORE = [1491378.93502276  582020.70946596 1101822.28585048]\n",
      "current_skeleton.shape = (733, 2, 3)\n",
      "node_for_stitch = 1: [1491378.93502276  582020.70946596 1101822.28585048]\n",
      "node_for_stitch AFTER = 1: [1491378.93502276  582020.70946596 1101822.28585048]\n",
      "possible_node_loc = [  0 708]\n",
      "possible_node_loc AFTER = [  0 708]\n",
      "curr_shortest_path = [1, 0.0]\n",
      "Current stitch point was not a branch or endpoint, shortest_path_length to one = 99.99677776977433\n",
      "Changing the stitch point becasue the distance to end or branch node was 99.99677776977433\n",
      "New stitch point has degree 1\n",
      "change_status for create soma extending pieces = True\n",
      "closest_sk_pt_coord AFTER = [1491350.10222965  582056.70210586 1101733.55842811]\n",
      "skipping soma 0 because closest skeleton node was already end node\n",
      "endpoints_must_keep = {0: array([[1491350.10222965,  582056.70210586, 1101733.55842811]])}\n",
      "match_sk_branches = [0]\n",
      "The new branch info was none so skipping \n",
      "\n",
      "No soma extending branch was added for this sublimb even though it had a soma border (means they already existed)\n",
      "MP (because soma touching verts) soma extension add: 0.24057817459106445\n",
      "There were not both MAP and MP pieces so skipping the stitch resolving phase\n",
      "Time for decomp of Limb = 1.3458425998687744\n",
      "Number of matching vertices = 9\n",
      "Only one endpoint after filtering away the endpoints that are not on the skeleton\n",
      "Using Distance measure skeletal_distance\n",
      "endpoints_must_keep = [[1491350.10222965  582056.70210586 1101733.55842811]]\n",
      "Number of end_nodes BEFORE filtering = 2\n",
      "all_single_nodes_to_eliminate = [0]\n",
      "no small end nodes to get rid of so returning whole skeleton\n",
      "Removed 0 skeletal branches\n"
     ]
    },
    {
     "data": {
      "application/vnd.jupyter.widget-view+json": {
       "model_id": "19816a7d2a054206b403dcb9b18fc5a5",
       "version_major": 2,
       "version_minor": 0
      },
      "text/plain": [
       "  0%|          | 0/1 [00:00<?, ?it/s]"
      ]
     },
     "metadata": {},
     "output_type": "display_data"
    },
    {
     "name": "stdout",
     "output_type": "stream",
     "text": [
      "14575 14576\n",
      "For marked faces: None\n",
      "empty_indices % = 0.0\n",
      " conflict_indices % = 0.0\n"
     ]
    },
    {
     "data": {
      "application/vnd.jupyter.widget-view+json": {
       "model_id": "252eb7595938478696b1cae62a0e8f5c",
       "version_major": 2,
       "version_minor": 0
      },
      "text/plain": [
       "0it [00:00, ?it/s]"
      ]
     },
     "metadata": {},
     "output_type": "display_data"
    },
    {
     "name": "stdout",
     "output_type": "stream",
     "text": [
      "AFTER face_lookup_resolved_test\n"
     ]
    },
    {
     "data": {
      "application/vnd.jupyter.widget-view+json": {
       "model_id": "5c2e739aa93c4591aa2ef1e9ea0da1ba",
       "version_major": 2,
       "version_minor": 0
      },
      "text/plain": [
       "  0%|          | 0/1 [00:00<?, ?it/s]"
      ]
     },
     "metadata": {},
     "output_type": "display_data"
    },
    {
     "name": "stdout",
     "output_type": "stream",
     "text": [
      "Successful Limb Decomposition\n",
      "\n",
      "\n",
      "----- Working on Proper Limb # 7 ---------\n",
      "meshparty_segment_size = 100\n",
      "invalidation_d = 12000\n",
      "use_adaptive_invalidation_d= False\n",
      "axon_width_preprocess_limb_max = 200\n",
      "filter_end_node_length= 4000\n",
      "filter_end_node_length_meshparty = 4000\n",
      "invalidation_d = 12000\n",
      "root_curr = [1468936.   574693.8 1112623. ]\n",
      "Time for preparing soma vertices and root: 0.0003414154052734375\n",
      "invalidation_d = 12000\n",
      "smooth_neighborhood = 1\n",
      "cc_vertex_thresh = 10\n"
     ]
    },
    {
     "name": "stderr",
     "output_type": "stream",
     "text": [
      "\r",
      "  0%|          | 0/1 [00:00<?, ?it/s]"
     ]
    },
    {
     "data": {
      "application/vnd.jupyter.widget-view+json": {
       "model_id": "21160249cadb475797a509314e8fb09a",
       "version_major": 2,
       "version_minor": 0
      },
      "text/plain": [
       "  0%|          | 0/2055 [00:00<?, ?it/s]"
      ]
     },
     "metadata": {},
     "output_type": "display_data"
    },
    {
     "name": "stderr",
     "output_type": "stream",
     "text": [
      "\r",
      "100%|██████████| 1/1 [00:00<00:00, 39.61it/s]"
     ]
    },
    {
     "name": "stdout",
     "output_type": "stream",
     "text": [
      "meshparty_segment_size = 100\n",
      "Time for 1st pass MP skeletonization: 0.11786198616027832\n",
      "connecting at the root\n",
      "branches_touching_root = [0]\n",
      "combining close nodes\n",
      "combine_threshold = 700\n",
      "length of Graph = 117\n",
      "After combining close endpoints max(kept_branches_idx) = 0, len(kept_branches_idx) = 1\n"
     ]
    },
    {
     "name": "stderr",
     "output_type": "stream",
     "text": [
      "\n"
     ]
    },
    {
     "name": "stdout",
     "output_type": "stream",
     "text": [
      "empty_indices % = 0.0\n",
      " conflict_indices % = 0.0\n"
     ]
    },
    {
     "data": {
      "application/vnd.jupyter.widget-view+json": {
       "model_id": "9f809e1685c046b09000fb50aa6f0179",
       "version_major": 2,
       "version_minor": 0
      },
      "text/plain": [
       "0it [00:00, ?it/s]"
      ]
     },
     "metadata": {},
     "output_type": "display_data"
    },
    {
     "name": "stdout",
     "output_type": "stream",
     "text": [
      "AFTER face_lookup_resolved_test\n"
     ]
    },
    {
     "data": {
      "application/vnd.jupyter.widget-view+json": {
       "model_id": "edbc7e25859c43bbaee4e11310b82407",
       "version_major": 2,
       "version_minor": 0
      },
      "text/plain": [
       "  0%|          | 0/1 [00:00<?, ?it/s]"
      ]
     },
     "metadata": {},
     "output_type": "display_data"
    },
    {
     "name": "stdout",
     "output_type": "stream",
     "text": [
      "Decomposing first pass: 0.1568143367767334\n",
      "Attempting to use MeshAfterParty Skeletonization and Mesh Correspondence\n",
      "Another print\n",
      "Found len(mesh_large_idx) MAP candidates: [3349]\n",
      "mesh_large_connectivity: 0.00012731552124023438\n",
      "Finding MAP candidates connected components: 4.8160552978515625e-05\n",
      "len(filtered_pieces) = 1\n",
      "skeleton_connectivity_MP : 0.00171661376953125\n",
      "Grouping MP Sublimbs by Graph: 2.0265579223632812e-05\n",
      "Divinding into MP and MAP pieces: 4.76837158203125e-07\n",
      "--- Working on MAP piece 0---\n",
      "MAP Filtering Soma Pieces: 0.0036635398864746094\n",
      "inside skeletonize_connected_branch and use_surface_after_CGAL=True, surface_reconstruction_size=1000\n",
      "keep_idx = [0]\n",
      "     Starting Screened Poisson\n",
      "xvfb-run -n 2347 -s \"-screen 0 800x600x24\" meshlabserver $@  -i /neurd_packages/NEURD/Applications/autoproof_neuron_pipeline/temp/None.off -o /neurd_packages/NEURD/Applications/autoproof_neuron_pipeline/temp/None_poisson.off -s /neurd_packages/NEURD/Applications/autoproof_neuron_pipeline/temp/poisson_936025.mls\n",
      "removed temporary input file: /neurd_packages/NEURD/Applications/autoproof_neuron_pipeline/temp/None.off\n",
      "removed temporary output file: /neurd_packages/NEURD/Applications/autoproof_neuron_pipeline/temp/None_poisson.off\n",
      "Using the close holes feature\n",
      "xvfb-run -n 4939 -s \"-screen 0 800x600x24\" meshlabserver $@  -i /neurd_packages/NEURD/Applications/autoproof_neuron_pipeline/temp/neuron_88390.off -o /neurd_packages/NEURD/Applications/autoproof_neuron_pipeline/temp/neuron_88390_fill_holes.off -s /neurd_packages/NEURD/Applications/autoproof_neuron_pipeline/temp/fill_holes_612842.mls\n",
      "removed temporary input file: /neurd_packages/NEURD/Applications/autoproof_neuron_pipeline/temp/neuron_88390.off\n",
      "removed temporary output file: /neurd_packages/NEURD/Applications/autoproof_neuron_pipeline/temp/neuron_88390_fill_holes.off\n",
      "/neurd_packages/NEURD/Applications/autoproof_neuron_pipeline/temp/fill_holes_612842.mls is being deleted....\n",
      "-----Time for Screened Poisson= 8.728732109069824\n",
      "mesh_pieces = [<trimesh.Trimesh(vertices.shape=(13498, 3), faces.shape=(26992, 3))>]\n",
      "     Starting Calcification (Changed back where stitches large poissons)\n",
      "Manifold status before skeletonization = True\n",
      "Watertight status before skeletonization = True\n",
      "min_edge_length = 75\n",
      "Before mesh subtraction number of skeleton edges = 3\n"
     ]
    },
    {
     "data": {
      "application/vnd.jupyter.widget-view+json": {
       "model_id": "9573d6bb325f4096851a82c5271ce073",
       "version_major": 2,
       "version_minor": 0
      },
      "text/plain": [
       "0it [00:00, ?it/s]"
      ]
     },
     "metadata": {},
     "output_type": "display_data"
    },
    {
     "name": "stdout",
     "output_type": "stream",
     "text": [
      "len(leftover_meshes_sig) = [<trimesh.Trimesh(vertices.shape=(785, 3), faces.shape=(1125, 3))>]\n"
     ]
    },
    {
     "data": {
      "application/vnd.jupyter.widget-view+json": {
       "model_id": "31c11690fac24776b38e3659fd46c34b",
       "version_major": 2,
       "version_minor": 0
      },
      "text/plain": [
       "  0%|          | 0/1 [00:00<?, ?it/s]"
      ]
     },
     "metadata": {},
     "output_type": "display_data"
    },
    {
     "name": "stdout",
     "output_type": "stream",
     "text": [
      "invalidation_d = 12000\n",
      "smooth_neighborhood = 1\n",
      "cc_vertex_thresh = 10\n"
     ]
    },
    {
     "name": "stderr",
     "output_type": "stream",
     "text": [
      "\n",
      "  0%|          | 0/1 [00:00<?, ?it/s]\u001b[A"
     ]
    },
    {
     "data": {
      "application/vnd.jupyter.widget-view+json": {
       "model_id": "261dd1042e074447973256d809f390b3",
       "version_major": 2,
       "version_minor": 0
      },
      "text/plain": [
       "  0%|          | 0/784 [00:00<?, ?it/s]"
      ]
     },
     "metadata": {},
     "output_type": "display_data"
    },
    {
     "name": "stderr",
     "output_type": "stream",
     "text": [
      "\r",
      "100%|██████████| 1/1 [00:00<00:00, 67.78it/s]"
     ]
    },
    {
     "name": "stdout",
     "output_type": "stream",
     "text": [
      "Time for sk_meshparty_obj = 0.036679744720458984\n",
      "branches_touching_root = [0]\n",
      "combining close nodes\n",
      "combine_threshold = 700\n",
      "length of Graph = 83\n",
      "After combining close endpoints max(kept_branches_idx) = 0, len(kept_branches_idx) = 1\n",
      "empty_indices % = 0.0\n",
      " conflict_indices % = 0.0\n"
     ]
    },
    {
     "name": "stderr",
     "output_type": "stream",
     "text": [
      "\n"
     ]
    },
    {
     "data": {
      "application/vnd.jupyter.widget-view+json": {
       "model_id": "df4f5265eab141cb9115c32c8268f152",
       "version_major": 2,
       "version_minor": 0
      },
      "text/plain": [
       "0it [00:00, ?it/s]"
      ]
     },
     "metadata": {},
     "output_type": "display_data"
    },
    {
     "name": "stdout",
     "output_type": "stream",
     "text": [
      "AFTER face_lookup_resolved_test\n"
     ]
    },
    {
     "data": {
      "application/vnd.jupyter.widget-view+json": {
       "model_id": "59a0e308e11e4d99b82feb413ed720ce",
       "version_major": 2,
       "version_minor": 0
      },
      "text/plain": [
       "  0%|          | 0/1 [00:00<?, ?it/s]"
      ]
     },
     "metadata": {},
     "output_type": "display_data"
    },
    {
     "name": "stdout",
     "output_type": "stream",
     "text": [
      "widths = [inf]\n",
      "width_median= inf\n",
      "Time for correspondence = 0.06133079528808594\n",
      "STacking the leftover and significant poisson skeleton\n",
      "max_stitch_distance = 5000\n",
      "len_subgraphs AT BEGINNING of the loop\n"
     ]
    },
    {
     "data": {
      "application/vnd.jupyter.widget-view+json": {
       "model_id": "2c692bee43b54e88a1b6dcbffdf3e5f4",
       "version_major": 2,
       "version_minor": 0
      },
      "text/plain": [
       "  0%|          | 0/2 [00:00<?, ?it/s]"
      ]
     },
     "metadata": {},
     "output_type": "display_data"
    },
    {
     "name": "stdout",
     "output_type": "stream",
     "text": [
      "all graph is one component!\n",
      "Total time for skeleton stitching = 0.02602982521057129\n",
      "The process was using a temp folder\n",
      "Checking connected components after skeletonize_connected_branch\n",
      "    Total time for skeletonizing branch: 10.704436302185059\n",
      "Checking connected components after removing cycles\n",
      "Total time for mesh KDTree = 0.024353981018066406\n",
      "sbv[0].reshape(-1,3) = [[1468936.   574693.8 1112623. ]]\n",
      "closest_sk_pt_coord BEFORE = [1466290.  578910. 1113230.]\n",
      "current_skeleton.shape = (85, 2, 3)\n",
      "node_for_stitch = 49: [1466290.  578910. 1113230.]\n",
      "node_for_stitch AFTER = 49: [1466290.  578910. 1113230.]\n",
      "possible_node_loc = [ 0 49 85]\n",
      "possible_node_loc AFTER = [ 0 49 85]\n",
      "curr_shortest_path = [49]\n",
      "Current stitch point was a branch or endpoint\n",
      "change_status for create soma extending pieces = False\n",
      "closest_sk_pt_coord AFTER = [1466290.  578910. 1113230.]\n",
      "skipping soma 1 because closest skeleton node was already end node\n",
      "endpoints_must_keep = {1: array([[1466290.,  578910., 1113230.]])}\n",
      "    Total time for Fixing Skeleton Soma Endpoint Extension : 0.14249038696289062\n",
      "filter_end_node_length = 4000\n",
      "Using Distance measure skeletal_distance\n",
      "endpoints_must_keep = [[1466290.  578910. 1113230.]]\n",
      "Number of end_nodes BEFORE filtering = 3\n",
      "all_single_nodes_to_eliminate = [1]\n"
     ]
    },
    {
     "data": {
      "application/vnd.jupyter.widget-view+json": {
       "model_id": "b1ac48c748614abfb4d60c117d0aa471",
       "version_major": 2,
       "version_minor": 0
      },
      "text/plain": [
       "  0%|          | 0/1 [00:00<?, ?it/s]"
      ]
     },
     "metadata": {},
     "output_type": "display_data"
    },
    {
     "name": "stdout",
     "output_type": "stream",
     "text": [
      "Checking connected components after clean_skeleton\n",
      "after DISTANCE cleaning limb size of skeleton = (63, 2, 3)\n",
      "********COMBINING CLOSE SKELETON NODES WITHIN 700 DISTANCE**********\n",
      "combine_threshold = 700\n",
      "Found 0 valid paths to replace\n",
      "valid_paths = []\n",
      "valid_path_lengths = []\n",
      "No valid paths found so just returning the original\n",
      "skeletonize_and_clean_connected_branch_CGAL: 10.91999101638794\n",
      "Working on limb correspondence for #0 MAP piece\n",
      "xvfb-run -n 7002 -s \"-screen 0 800x600x24\" meshlabserver $@  -i /neurd_packages/NEURD/Applications/autoproof_neuron_pipeline/temp/neuron_28302.off -o /neurd_packages/NEURD/Applications/autoproof_neuron_pipeline/temp/neuron_28302_remove_interior.off -s /neurd_packages/NEURD/Applications/autoproof_neuron_pipeline/temp/remove_interior_742810.mls\n",
      "removed temporary input file: /neurd_packages/NEURD/Applications/autoproof_neuron_pipeline/temp/neuron_28302.off\n",
      "removed temporary output file: /neurd_packages/NEURD/Applications/autoproof_neuron_pipeline/temp/neuron_28302_remove_interior.off\n",
      "/neurd_packages/NEURD/Applications/autoproof_neuron_pipeline/temp/remove_interior_742810.mls is being deleted....\n",
      "No significant (100) interior meshes present\n",
      "largest is 3\n"
     ]
    },
    {
     "data": {
      "application/vnd.jupyter.widget-view+json": {
       "model_id": "be2de5117b0747098bbb938ff61b54a7",
       "version_major": 2,
       "version_minor": 0
      },
      "text/plain": [
       "0it [00:00, ?it/s]"
      ]
     },
     "metadata": {},
     "output_type": "display_data"
    },
    {
     "name": "stdout",
     "output_type": "stream",
     "text": [
      "Total time for decomposition = 1.0658552646636963\n",
      "mesh_correspondence_first_pass: 1.066033124923706\n",
      "Limb decomposed into 1 branches\n",
      "divided_skeleton_graph_recovered = (63, 2, 3) and \n",
      "current_mesh_data[0]['branch_skeletons_cleaned'].shape = (63, 2, 3)\n",
      "\n",
      "Number of connected components in deocmposed recovered graph = 1\n",
      "Number of connected components in cleaned skeleton graph= 1\n",
      "The downsampled branches number of connected components = 1\n",
      "Empty submeshes = []\n",
      "\n",
      "\n",
      "--- Working on 1-to-1 correspondence-----\n",
      "max(original_labels),len(original_labels) = (0, 1)\n",
      "empty_indices % = 0.48253209913406986\n",
      " conflict_indices % = 0.0\n"
     ]
    },
    {
     "data": {
      "application/vnd.jupyter.widget-view+json": {
       "model_id": "df09f5f9b2994e6db692c12c3cd7876b",
       "version_major": 2,
       "version_minor": 0
      },
      "text/plain": [
       "  0%|          | 0/5 [00:00<?, ?it/s]"
      ]
     },
     "metadata": {},
     "output_type": "display_data"
    },
    {
     "name": "stdout",
     "output_type": "stream",
     "text": [
      "AFTER face_lookup_resolved_test\n",
      "Took 0 iterations to expand the label back\n",
      "empty_indices % = 0.0\n",
      " conflict_indices % = 0.0\n"
     ]
    },
    {
     "data": {
      "application/vnd.jupyter.widget-view+json": {
       "model_id": "3a9c1c0a3f204f14af6ce1b3af32ec7b",
       "version_major": 2,
       "version_minor": 0
      },
      "text/plain": [
       "0it [00:00, ?it/s]"
      ]
     },
     "metadata": {},
     "output_type": "display_data"
    },
    {
     "name": "stdout",
     "output_type": "stream",
     "text": [
      "AFTER face_lookup_resolved_test\n"
     ]
    },
    {
     "data": {
      "application/vnd.jupyter.widget-view+json": {
       "model_id": "6a26c964128c480ab4e4fe172ac7fe2d",
       "version_major": 2,
       "version_minor": 0
      },
      "text/plain": [
       "  0%|          | 0/1 [00:00<?, ?it/s]"
      ]
     },
     "metadata": {},
     "output_type": "display_data"
    },
    {
     "name": "stdout",
     "output_type": "stream",
     "text": [
      "Total time for MAP sublimb #0 mesh processing = 12.230329751968384\n",
      "correspondence_1_to_1: 0.24063420295715332\n",
      "Total time for MAP sublimb processing 12.230411767959595\n",
      "There were not both MAP and MP pieces so skipping the stitch resolving phase\n",
      "Time for decomp of Limb = 12.509755611419678\n",
      "Number of matching vertices = 90\n",
      "Only one endpoint after filtering away the endpoints that are not on the skeleton\n",
      "Using Distance measure skeletal_distance\n",
      "endpoints_must_keep = [[1466290.  578910. 1113230.]]\n",
      "Number of end_nodes BEFORE filtering = 2\n",
      "all_single_nodes_to_eliminate = [0]\n",
      "no small end nodes to get rid of so returning whole skeleton\n",
      "Removed 0 skeletal branches\n"
     ]
    },
    {
     "data": {
      "application/vnd.jupyter.widget-view+json": {
       "model_id": "03d5594835d14a92b45dc1a124d69b44",
       "version_major": 2,
       "version_minor": 0
      },
      "text/plain": [
       "  0%|          | 0/1 [00:00<?, ?it/s]"
      ]
     },
     "metadata": {},
     "output_type": "display_data"
    },
    {
     "name": "stdout",
     "output_type": "stream",
     "text": [
      "3348 3349\n",
      "For marked faces: None\n",
      "empty_indices % = 0.0\n",
      " conflict_indices % = 0.0\n"
     ]
    },
    {
     "data": {
      "application/vnd.jupyter.widget-view+json": {
       "model_id": "f704ef88bfdd4d0780666a3867db3f30",
       "version_major": 2,
       "version_minor": 0
      },
      "text/plain": [
       "0it [00:00, ?it/s]"
      ]
     },
     "metadata": {},
     "output_type": "display_data"
    },
    {
     "name": "stdout",
     "output_type": "stream",
     "text": [
      "AFTER face_lookup_resolved_test\n"
     ]
    },
    {
     "data": {
      "application/vnd.jupyter.widget-view+json": {
       "model_id": "b22e357b552e45afb812e79b670ee70f",
       "version_major": 2,
       "version_minor": 0
      },
      "text/plain": [
       "  0%|          | 0/1 [00:00<?, ?it/s]"
      ]
     },
     "metadata": {},
     "output_type": "display_data"
    },
    {
     "name": "stdout",
     "output_type": "stream",
     "text": [
      "Successful Limb Decomposition\n",
      "Total time for Skeletonization and Mesh Correspondence = 97.78792238235474\n",
      "\n",
      "\n",
      " ----- Working on Stitching ----------\n",
      "Inside attach_floating_pieces_to_limb_correspondence\n",
      "Starting the floating pieces preprocessing\n",
      "Floating 0: <trimesh.Trimesh(vertices.shape=(113, 3), faces.shape=(176, 3))>\n",
      "invalidation_d = 12000\n",
      "use_adaptive_invalidation_d= True\n",
      "axon_width_preprocess_limb_max = 200\n",
      "filter_end_node_length= 4000\n",
      "filter_end_node_length_meshparty = 1000\n",
      "invalidation_d = 12000\n",
      "root_curr = None\n",
      "Time for preparing soma vertices and root: 4.76837158203125e-06\n",
      "invalidation_d = 12000\n",
      "smooth_neighborhood = 1\n",
      "cc_vertex_thresh = 10\n"
     ]
    },
    {
     "name": "stderr",
     "output_type": "stream",
     "text": [
      "\r",
      "  0%|          | 0/1 [00:00<?, ?it/s]"
     ]
    },
    {
     "data": {
      "application/vnd.jupyter.widget-view+json": {
       "model_id": "ad06f24dffee4e3dac6b25849db402fe",
       "version_major": 2,
       "version_minor": 0
      },
      "text/plain": [
       "  0%|          | 0/112 [00:00<?, ?it/s]"
      ]
     },
     "metadata": {},
     "output_type": "display_data"
    },
    {
     "name": "stderr",
     "output_type": "stream",
     "text": [
      "\r",
      "100%|██████████| 1/1 [00:00<00:00, 90.32it/s]"
     ]
    },
    {
     "name": "stdout",
     "output_type": "stream",
     "text": [
      "meshparty_segment_size = 100\n",
      "Time for 1st pass MP skeletonization: 0.02755594253540039\n",
      "branches_touching_root = [0]\n",
      "combining close nodes\n",
      "combine_threshold = 700\n",
      "length of Graph = 11\n",
      "After combining close endpoints max(kept_branches_idx) = 0, len(kept_branches_idx) = 1\n",
      "empty_indices % = 0.0\n",
      " conflict_indices % = 0.0\n"
     ]
    },
    {
     "name": "stderr",
     "output_type": "stream",
     "text": [
      "\n"
     ]
    },
    {
     "data": {
      "application/vnd.jupyter.widget-view+json": {
       "model_id": "b7f72dd1948d4afcafad2b07aa1a6826",
       "version_major": 2,
       "version_minor": 0
      },
      "text/plain": [
       "0it [00:00, ?it/s]"
      ]
     },
     "metadata": {},
     "output_type": "display_data"
    },
    {
     "name": "stdout",
     "output_type": "stream",
     "text": [
      "AFTER face_lookup_resolved_test\n"
     ]
    },
    {
     "data": {
      "application/vnd.jupyter.widget-view+json": {
       "model_id": "42b984cec49f4b96bc8cb7898fac4549",
       "version_major": 2,
       "version_minor": 0
      },
      "text/plain": [
       "  0%|          | 0/1 [00:00<?, ?it/s]"
      ]
     },
     "metadata": {},
     "output_type": "display_data"
    },
    {
     "name": "stdout",
     "output_type": "stream",
     "text": [
      "widths = [400.85083856]\n",
      "width_median= 400.8508385627582\n",
      "segment_widths_median = [400.85083856]\n",
      "Decomposing first pass: 0.04281783103942871\n",
      "Attempting to use MeshAfterParty Skeletonization and Mesh Correspondence\n",
      "Another print\n",
      "Divinding into MP and MAP pieces: 3.0994415283203125e-05\n",
      "Total time for MAP sublimb processing 3.5762786865234375e-06\n",
      "---- Working on MP Decomposition #0 ----\n",
      "Using Quicker soma_to_piece_touching_vertices because no MAP and only one sublimb_mesh piece \n",
      "MP filtering soma verts: 2.2649765014648438e-05\n",
      "Do Not Need to Fix MP Decomposition 0 so just continuing\n",
      "There were not both MAP and MP pieces so skipping the stitch resolving phase\n",
      "Time for decomp of Limb = 0.07182073593139648\n",
      "Using Distance measure skeletal_distance\n"
     ]
    },
    {
     "data": {
      "application/vnd.jupyter.widget-view+json": {
       "model_id": "f41123c3c8e748b18f9d5ca4c29bd31c",
       "version_major": 2,
       "version_minor": 0
      },
      "text/plain": [
       "  0%|          | 0/2 [00:00<?, ?it/s]"
      ]
     },
     "metadata": {},
     "output_type": "display_data"
    },
    {
     "name": "stdout",
     "output_type": "stream",
     "text": [
      "Removed 2 skeletal branches\n",
      "There were no branches after cleaning limb correspondence\n"
     ]
    },
    {
     "data": {
      "application/vnd.jupyter.widget-view+json": {
       "model_id": "3bc86b246f4141b7821946ca6f59b10e",
       "version_major": 2,
       "version_minor": 0
      },
      "text/plain": [
       "Container(figure=Figure(box_center=[0.5, 0.5, 0.5], box_size=[1.0, 1.0, 1.0], camera=PerspectiveCamera(fov=45.…"
      ]
     },
     "metadata": {},
     "output_type": "display_data"
    },
    {
     "name": "stdout",
     "output_type": "stream",
     "text": [
      "--> time = 0.12425398826599121\n",
      "Floating 1: <trimesh.Trimesh(vertices.shape=(75, 3), faces.shape=(140, 3))>\n",
      "invalidation_d = 12000\n",
      "use_adaptive_invalidation_d= True\n",
      "axon_width_preprocess_limb_max = 200\n",
      "filter_end_node_length= 4000\n",
      "filter_end_node_length_meshparty = 1000\n",
      "invalidation_d = 12000\n",
      "root_curr = None\n",
      "Time for preparing soma vertices and root: 4.76837158203125e-06\n",
      "invalidation_d = 12000\n",
      "smooth_neighborhood = 1\n",
      "cc_vertex_thresh = 10\n"
     ]
    },
    {
     "name": "stderr",
     "output_type": "stream",
     "text": [
      "\r",
      "  0%|          | 0/1 [00:00<?, ?it/s]"
     ]
    },
    {
     "data": {
      "application/vnd.jupyter.widget-view+json": {
       "model_id": "63518d4ad87e4e53921333300fb79fce",
       "version_major": 2,
       "version_minor": 0
      },
      "text/plain": [
       "  0%|          | 0/74 [00:00<?, ?it/s]"
      ]
     },
     "metadata": {},
     "output_type": "display_data"
    },
    {
     "name": "stderr",
     "output_type": "stream",
     "text": [
      "\r",
      "100%|██████████| 1/1 [00:00<00:00, 66.06it/s]"
     ]
    },
    {
     "name": "stdout",
     "output_type": "stream",
     "text": [
      "meshparty_segment_size = 100\n",
      "Time for 1st pass MP skeletonization: 0.03216385841369629\n",
      "branches_touching_root = [0]\n",
      "combining close nodes\n",
      "combine_threshold = 700\n",
      "length of Graph = 24\n",
      "After combining close endpoints max(kept_branches_idx) = 0, len(kept_branches_idx) = 1\n",
      "empty_indices % = 0.0\n",
      " conflict_indices % = 0.0\n"
     ]
    },
    {
     "name": "stderr",
     "output_type": "stream",
     "text": [
      "\n"
     ]
    },
    {
     "data": {
      "application/vnd.jupyter.widget-view+json": {
       "model_id": "37b331b5501c426cb6269cf629c90876",
       "version_major": 2,
       "version_minor": 0
      },
      "text/plain": [
       "0it [00:00, ?it/s]"
      ]
     },
     "metadata": {},
     "output_type": "display_data"
    },
    {
     "name": "stdout",
     "output_type": "stream",
     "text": [
      "AFTER face_lookup_resolved_test\n"
     ]
    },
    {
     "data": {
      "application/vnd.jupyter.widget-view+json": {
       "model_id": "17b55edf5b2a4183897cf57e268f672b",
       "version_major": 2,
       "version_minor": 0
      },
      "text/plain": [
       "  0%|          | 0/1 [00:00<?, ?it/s]"
      ]
     },
     "metadata": {},
     "output_type": "display_data"
    },
    {
     "name": "stdout",
     "output_type": "stream",
     "text": [
      "widths = [160.01875845]\n",
      "width_median= 160.01875845053254\n",
      "segment_widths_median = [160.01875845]\n",
      "Using the axon parameters\n",
      "invalidation_d = 1500\n",
      "smooth_neighborhood = 0\n",
      "cc_vertex_thresh = 10\n"
     ]
    },
    {
     "name": "stderr",
     "output_type": "stream",
     "text": [
      "\r",
      "  0%|          | 0/1 [00:00<?, ?it/s]"
     ]
    },
    {
     "data": {
      "application/vnd.jupyter.widget-view+json": {
       "model_id": "5b197ee910e94565bd25cf58dcccd363",
       "version_major": 2,
       "version_minor": 0
      },
      "text/plain": [
       "  0%|          | 0/74 [00:00<?, ?it/s]"
      ]
     },
     "metadata": {},
     "output_type": "display_data"
    },
    {
     "name": "stderr",
     "output_type": "stream",
     "text": [
      "100%|██████████| 1/1 [00:00<00:00, 78.81it/s]\n"
     ]
    },
    {
     "name": "stdout",
     "output_type": "stream",
     "text": [
      "meshparty_segment_size = 100\n",
      "Time for 1st pass MP skeletonization: 0.06804561614990234\n",
      "branches_touching_root = [0]\n",
      "combining close nodes\n",
      "combine_threshold = 1300\n",
      "length of Graph = 34\n",
      "After combining close endpoints max(kept_branches_idx) = 0, len(kept_branches_idx) = 1\n",
      "empty_indices % = 0.0\n",
      " conflict_indices % = 0.0\n"
     ]
    },
    {
     "data": {
      "application/vnd.jupyter.widget-view+json": {
       "model_id": "4e19eb250ec74e828dd8f85d65cc9181",
       "version_major": 2,
       "version_minor": 0
      },
      "text/plain": [
       "0it [00:00, ?it/s]"
      ]
     },
     "metadata": {},
     "output_type": "display_data"
    },
    {
     "name": "stdout",
     "output_type": "stream",
     "text": [
      "AFTER face_lookup_resolved_test\n"
     ]
    },
    {
     "data": {
      "application/vnd.jupyter.widget-view+json": {
       "model_id": "f71855c9d2c441ed91b6ffb937756c91",
       "version_major": 2,
       "version_minor": 0
      },
      "text/plain": [
       "  0%|          | 0/1 [00:00<?, ?it/s]"
      ]
     },
     "metadata": {},
     "output_type": "display_data"
    },
    {
     "name": "stdout",
     "output_type": "stream",
     "text": [
      "widths = [160.02781829]\n",
      "width_median= 160.02781829165968\n",
      "segment_widths_median = [160.02781829]\n",
      "Using the axon parameters\n",
      "Decomposing first pass: 0.041367530822753906\n",
      "Attempting to use MeshAfterParty Skeletonization and Mesh Correspondence\n",
      "Another print\n",
      "Divinding into MP and MAP pieces: 2.7894973754882812e-05\n",
      "Total time for MAP sublimb processing 3.0994415283203125e-06\n",
      "---- Working on MP Decomposition #0 ----\n",
      "Using Quicker soma_to_piece_touching_vertices because no MAP and only one sublimb_mesh piece \n",
      "MP filtering soma verts: 2.1219253540039062e-05\n",
      "Do Not Need to Fix MP Decomposition 0 so just continuing\n",
      "There were not both MAP and MP pieces so skipping the stitch resolving phase\n",
      "Time for decomp of Limb = 0.14357280731201172\n",
      "Using Distance measure skeletal_distance\n",
      "no small end nodes to get rid of so returning whole skeleton\n",
      "Removed 0 skeletal branches\n"
     ]
    },
    {
     "data": {
      "application/vnd.jupyter.widget-view+json": {
       "model_id": "47de1aeaae9b4829b869434f07aa42d0",
       "version_major": 2,
       "version_minor": 0
      },
      "text/plain": [
       "  0%|          | 0/1 [00:00<?, ?it/s]"
      ]
     },
     "metadata": {},
     "output_type": "display_data"
    },
    {
     "name": "stdout",
     "output_type": "stream",
     "text": [
      "139 140\n",
      "For marked faces: None\n",
      "empty_indices % = 0.0\n",
      " conflict_indices % = 0.0\n"
     ]
    },
    {
     "data": {
      "application/vnd.jupyter.widget-view+json": {
       "model_id": "d0fb52befc7d4be192ecb53f4b7c657d",
       "version_major": 2,
       "version_minor": 0
      },
      "text/plain": [
       "0it [00:00, ?it/s]"
      ]
     },
     "metadata": {},
     "output_type": "display_data"
    },
    {
     "name": "stdout",
     "output_type": "stream",
     "text": [
      "AFTER face_lookup_resolved_test\n"
     ]
    },
    {
     "data": {
      "application/vnd.jupyter.widget-view+json": {
       "model_id": "f04a5343f1434b719862c014646686e5",
       "version_major": 2,
       "version_minor": 0
      },
      "text/plain": [
       "  0%|          | 0/1 [00:00<?, ?it/s]"
      ]
     },
     "metadata": {},
     "output_type": "display_data"
    },
    {
     "data": {
      "application/vnd.jupyter.widget-view+json": {
       "model_id": "0a17e12a5bbf43319f32f3af6443e9da",
       "version_major": 2,
       "version_minor": 0
      },
      "text/plain": [
       "Container(figure=Figure(box_center=[0.5, 0.5, 0.5], box_size=[1.0, 1.0, 1.0], camera=PerspectiveCamera(fov=45.…"
      ]
     },
     "metadata": {},
     "output_type": "display_data"
    },
    {
     "name": "stdout",
     "output_type": "stream",
     "text": [
      "--> time = 0.23917460441589355\n",
      "winning_float = 1\n",
      "winning_float_match_main_limb = 1\n",
      "winning_float_dist = 149.5869181909169\n",
      "main_limb_stitch_point = [1454928.38848372  617422.14351492 1109437.08084759]\n",
      "floating_limb_stitch_point = [1455057.   617365.2 1109488. ]\n",
      "node_for_stitch = 1795: [1454928.38848372  617422.14351492 1109437.08084759]\n",
      "node_for_stitch AFTER = 1795: [1454928.38848372  617422.14351492 1109437.08084759]\n",
      "possible_node_loc = [   0  136  440  586 1094 1284 1353 1466 2499 3964 4341 4358 5744 5814\n",
      " 5965  577  688 1089 1114 1389 1640 1693 2508 2844 4194 5319]\n",
      "possible_node_loc AFTER = [   0  136  440  577  586  688 1089 1094 1114 1284 1353 1389 1466 1640\n",
      " 1693 2499 2508 2844 3964 4194 4358 5319 5744 5814 5965]\n",
      "curr_shortest_path = [1795, 1784.0, 1773.0, 1761.0, 1750.0, 1733.0, 1716.0, 1702.0, 1687.0, 1678.0, 1671.0, 1664.0, 1656.0, 1649.0, 1641.0, 1636.0, 1632.0, 1627.0, 1623.0, 1596.0, 1576.0, 1566.0, 1556.0, 1548.0, 1540.0, 1530.0, 1523.0, 1515.0, 1507.0, 1499.0, 1491.0, 1484.0, 1475.0, 1466]\n",
      "Current stitch point was not a branch or endpoint, shortest_path_length to one = 3299.9361676877575\n",
      "Changing the stitch point becasue the distance to end or branch node was 3299.9361676877575\n",
      "New stitch point has degree 1\n",
      "Status of Main limb stitch point moved = True\n",
      "\n",
      "\n",
      "\n",
      "match_sk_branches = [13]\n",
      "match_float_branches = [0]\n",
      "stitch_point_on_end_or_branch = True\n",
      "winning_float = 0\n",
      "winning_float_match_main_limb = 1\n",
      "winning_float_dist = 654.4563409276969\n",
      "main_limb_stitch_point = [1465639.47749826  643515.05932515 1076757.45951826]\n",
      "floating_limb_stitch_point = [1465562.61335848  644156.79891018 1076860.29585036]\n",
      "node_for_stitch = 2533: [1465639.47749826  643515.05932515 1076757.45951826]\n",
      "node_for_stitch AFTER = 2533: [1465639.47749826  643515.05932515 1076757.45951826]\n",
      "possible_node_loc = [   0  136  440  586 1094 1284 1353 2144 2533 3998 4375 4392 5778 5848\n",
      " 5999  577  688 1089 1114 1389 1640 1693 2542 2878 4228 5353]\n",
      "possible_node_loc AFTER = [   0  136  440  577  586  688 1089 1094 1114 1284 1353 1389 1640 1693\n",
      " 2144 2533 2542 2878 3998 4228 4392 5353 5778 5848 5999]\n",
      "curr_shortest_path = [2533]\n",
      "Current stitch point was a branch or endpoint\n",
      "Status of Main limb stitch point moved = False\n",
      "\n",
      "\n",
      "\n",
      "match_sk_branches = [16]\n",
      "match_float_branches = [0]\n",
      "stitch_point_on_end_or_branch = True\n",
      "Total time for stitching floating pieces = 3.1152255535125732\n",
      "Total time for Concept Networks = 1.8356900215148926\n",
      "Total time for all mesh and skeletonization decomp = 102.73950624465942\n",
      "No soma volume ratios so computing them now\n",
      "Using Poisson Surface Reconstruction for watertightness in soma_volume_ratio\n",
      "xvfb-run -n 4133 -s \"-screen 0 800x600x24\" meshlabserver $@  -i /neurd_packages/NEURD/Applications/autoproof_neuron_pipeline/Poisson_temp/neuron_636905.off -o /neurd_packages/NEURD/Applications/autoproof_neuron_pipeline/Poisson_temp/neuron_636905_poisson.off -s /neurd_packages/NEURD/Applications/autoproof_neuron_pipeline/Poisson_temp/poisson_589097.mls\n",
      "removed temporary input file: /neurd_packages/NEURD/Applications/autoproof_neuron_pipeline/Poisson_temp/neuron_636905.off\n",
      "removed temporary output file: /neurd_packages/NEURD/Applications/autoproof_neuron_pipeline/Poisson_temp/neuron_636905_poisson.off\n",
      "mesh.is_watertight = True\n",
      "/neurd_packages/NEURD/Applications/autoproof_neuron_pipeline/Poisson_temp/poisson_589097.mls is being deleted....\n",
      "Using Poisson Surface Reconstruction for watertightness in soma_volume_ratio\n",
      "xvfb-run -n 1565 -s \"-screen 0 800x600x24\" meshlabserver $@  -i /neurd_packages/NEURD/Applications/autoproof_neuron_pipeline/Poisson_temp/neuron_58224.off -o /neurd_packages/NEURD/Applications/autoproof_neuron_pipeline/Poisson_temp/neuron_58224_poisson.off -s /neurd_packages/NEURD/Applications/autoproof_neuron_pipeline/Poisson_temp/poisson_770073.mls\n",
      "removed temporary input file: /neurd_packages/NEURD/Applications/autoproof_neuron_pipeline/Poisson_temp/neuron_58224.off\n",
      "removed temporary output file: /neurd_packages/NEURD/Applications/autoproof_neuron_pipeline/Poisson_temp/neuron_58224_poisson.off\n",
      "mesh.is_watertight = False\n",
      "/neurd_packages/NEURD/Applications/autoproof_neuron_pipeline/Poisson_temp/poisson_770073.mls is being deleted....\n",
      "--- 1) Finished unpacking preprocessed materials: 125.10957551002502\n",
      "total_edges = [['S0', 'L0'], ['S0', 'L1'], ['S0', 'L4'], ['S0', 'L5'], ['S0', 'L6'], ['S1', 'L2'], ['S1', 'L3'], ['S1', 'L4'], ['S1', 'L7']]\n",
      "--- 2) Finished creating neuron connectivity graph: 0.0002601146697998047\n",
      "Having to generate soma_meshes_face_idx because none in preprocessed data\n",
      "--- 3a) Finshed generating soma_meshes_face_idx: 0.10867428779602051\n",
      "Using precomputed volume ratio\n",
      "--- 3b) Finished soma creation: 9.194257974624634\n",
      "Using precomputed volume ratio\n",
      "--- 3b) Finished soma creation: 8.203768968582153\n",
      "--- 3) Finshed generating soma objects and adding them to concept graph: 6.222724914550781e-05\n",
      "--- 4a) Finshed generating curr_limb_meshes_face_idx: 0.28305602073669434\n",
      "curr_limb_concept_networks= {0: [<datasci_tools.networkx_utils.GraphOrderedEdges object at 0x7f7f6c5755b0>]}\n",
      "curr_limb_concept_networks= {0: [<datasci_tools.networkx_utils.GraphOrderedEdges object at 0x7f7f6c195370>]}\n",
      "curr_limb_concept_networks= {1: [<datasci_tools.networkx_utils.GraphOrderedEdges object at 0x7f7f6c12e910>]}\n",
      "curr_limb_concept_networks= {1: [<datasci_tools.networkx_utils.GraphOrderedEdges object at 0x7f7f4c42cbb0>]}\n",
      "curr_limb_concept_networks= {0: [<datasci_tools.networkx_utils.GraphOrderedEdges object at 0x7f7f6c3ab730>], 1: [<datasci_tools.networkx_utils.GraphOrderedEdges object at 0x7f7f4c42c1f0>]}\n",
      "curr_limb_concept_networks= {0: [<datasci_tools.networkx_utils.GraphOrderedEdges object at 0x7f7f6c1d0a00>]}\n",
      "curr_limb_concept_networks= {0: [<datasci_tools.networkx_utils.GraphOrderedEdges object at 0x7f7f6c1d00a0>]}\n",
      "curr_limb_concept_networks= {1: [<datasci_tools.networkx_utils.GraphOrderedEdges object at 0x7f7f6c21a5e0>]}\n",
      "--- 4) Finshed generating Limb objects and adding them to concept graph: 1.6863086223602295\n",
      "--- 5) SKIPPING Doing the adaptive mesh correspondence on the meshparty preprocessing ---\n",
      "--- 6) SKIPPING Using the computed_attribute_dict to populate neuron attributes ---\n",
      "self.n_limbs = 8\n",
      "7) Calculating the spines for the neuorn if do not already exist\n",
      "7a) calculating spines because didn't exist\n",
      "query = median_mesh_center > 115 and n_faces_branch>100\n",
      "The median_mesh_center was requested but has not already been calculated so calculating now.... \n",
      "width_name BEFORE processing = None\n",
      "After processing\n",
      "width_name = median_mesh_center, distance_by_mesh_center= True, no_spines = False, summary_measure= median\n",
      "Working on limb L0 branch 6\n",
      "    current_width= 602.6784666648938\n",
      "Working on limb L0 branch 3\n",
      "    current_width= 435.5490549993848\n",
      "Working on limb L0 branch 7\n",
      "    current_width= 373.74842183757386\n",
      "Working on limb L0 branch 0\n",
      "    current_width= 308.20840659465966\n",
      "Working on limb L0 branch 1\n",
      "    current_width= 379.16248459812937\n",
      "Working on limb L0 branch 2\n",
      "    current_width= 303.65998025161593\n",
      "Working on limb L0 branch 4\n",
      "    current_width= 331.5606261403119\n",
      "Working on limb L0 branch 8\n",
      "    current_width= 308.0742759524652\n",
      "Working on limb L0 branch 5\n",
      "    current_width= 308.1588246660402\n",
      "Working on limb L0 branch 9\n",
      "    current_width= 436.84173132769973\n",
      "Working on limb L1 branch 17\n",
      "    current_width= 186.74385817318597\n",
      "Working on limb L1 branch 15\n",
      "    current_width= 81.06732888550147\n",
      "Working on limb L1 branch 16\n",
      "    current_width= 180.79969247866023\n",
      "Working on limb L1 branch 18\n",
      "    current_width= 83.6230371949197\n",
      "Working on limb L1 branch 4\n",
      "    current_width= 67.0560163730836\n",
      "Working on limb L1 branch 14\n",
      "    current_width= 118.84116640354748\n",
      "Working on limb L1 branch 26\n",
      "    current_width= 166.88235794997527\n",
      "Working on limb L1 branch 19\n",
      "    current_width= 74.74432487535276\n",
      "Working on limb L1 branch 20\n",
      "    current_width= 78.90931853911839\n",
      "Working on limb L1 branch 12\n",
      "    current_width= 105.28209006483999\n",
      "Working on limb L1 branch 13\n",
      "    current_width= 103.46347406090041\n",
      "Working on limb L1 branch 21\n",
      "    current_width= 89.35632620500378\n",
      "Working on limb L1 branch 22\n",
      "    current_width= 85.25609472650788\n",
      "Working on limb L1 branch 9\n",
      "    current_width= 100.44295627050678\n",
      "Working on limb L1 branch 10\n",
      "    current_width= 154.25056283420307\n",
      "Working on limb L1 branch 11\n",
      "    current_width= 93.61085880218833\n",
      "Working on limb L1 branch 25\n",
      "    current_width= 66.4711702516618\n",
      "Working on limb L1 branch 1\n"
     ]
    },
    {
     "name": "stdout",
     "output_type": "stream",
     "text": [
      "    current_width= 111.9796517426644\n",
      "Working on limb L1 branch 3\n",
      "    current_width= 95.32640663158229\n",
      "Working on limb L1 branch 7\n",
      "    current_width= 102.50874533280447\n",
      "Working on limb L1 branch 8\n",
      "    current_width= 131.75016231242103\n",
      "Working on limb L1 branch 5\n",
      "    current_width= 128.10406228933053\n",
      "Working on limb L1 branch 6\n",
      "    current_width= 108.30020672887802\n",
      "Working on limb L1 branch 0\n",
      "    current_width= 97.68811695225403\n",
      "Working on limb L1 branch 2\n",
      "    current_width= 125.98586935524001\n",
      "Working on limb L1 branch 23\n",
      "    current_width= 87.93425564048837\n",
      "Working on limb L1 branch 24\n",
      "    current_width= 82.4982383186942\n",
      "Working on limb L4 branch 2\n",
      "    current_width= 980.9831322974292\n",
      "Working on limb L4 branch 0\n",
      "    current_width= 426.75089109979007\n",
      "Working on limb L4 branch 3\n",
      "    current_width= 641.1096029718302\n",
      "Working on limb L4 branch 1\n",
      "    current_width= 276.24530855379544\n",
      "Working on limb L4 branch 4\n",
      "    current_width= 501.40363236498973\n",
      "Working on limb L4 branch 5\n",
      "    current_width= 334.0753123291282\n",
      "Working on limb L4 branch 6\n",
      "    current_width= 446.2015047293933\n",
      "Working on limb L5 branch 0\n",
      "    current_width= 447.09174488055413\n",
      "Working on limb L6 branch 0\n",
      "    current_width= 343.94895170316283\n",
      "Working on limb L2 branch 0\n",
      "    current_width= 385.0723000142679\n",
      "Working on limb L2 branch 1\n",
      "    current_width= 333.2676243072525\n",
      "Working on limb L2 branch 2\n",
      "    current_width= 363.79341946094013\n",
      "Working on limb L3 branch 1\n",
      "    current_width= 341.6228226856097\n",
      "Working on limb L3 branch 0\n",
      "    current_width= 96.25067340356648\n",
      "Working on limb L3 branch 2\n",
      "    current_width= 389.77078871406786\n",
      "Working on limb L3 branch 3\n",
      "    current_width= 69.00572062527482\n",
      "Working on limb L3 branch 4\n",
      "    current_width= 368.5289855187065\n",
      "Working on limb L7 branch 0\n",
      "    current_width= 1128.2533827549519\n",
      "MAX ITERATIONS initially 500\n",
      "AREA VARIATION initially 0.0001\n",
      "medial centered initially 1\n",
      "medially_centered_speed_tradeoff initially 0.2\n",
      "quality_speed_tradeoff initially 0.1\n",
      "max_triangle_angle initially 1.91986\n",
      "min_edge_length initially 65.8508\n",
      "setting the edge length by absolute length\n",
      "min_edge_length AFTER = 75\n",
      "max_triangle_angle AFTER = 1.91986\n",
      "quality_speed_tradeoff AFTER = 0.2\n",
      "set_medially_centered_speed_tradeoff AFTER = 0.2\n",
      "medial centered AFTER 1\n",
      "AREA VARIATION AFTER 0.0001\n",
      "MAX ITERATIONS AFTER 500\n",
      "medial centered END 1\n",
      "set_medially_centered_speed_tradeoff END = 0.2\n",
      "quality_speed_tradeoff END = 0.2\n",
      "Max iterations END = 500\n",
      "AREA VARIATION END 0.0001\n",
      "Number of vertices of the skeleton: 291\n",
      "Number of edges of the skeleton: 290\n",
      "MAX ITERATIONS initially 500\n",
      "AREA VARIATION initially 0.0001\n",
      "medial centered initially 1\n",
      "medially_centered_speed_tradeoff initially 0.2\n",
      "quality_speed_tradeoff initially 0.1\n",
      "max_triangle_angle initially 1.91986\n",
      "min_edge_length initially 25.9221\n",
      "setting the edge length by absolute length\n",
      "min_edge_length AFTER = 75\n",
      "max_triangle_angle AFTER = 1.91986\n",
      "quality_speed_tradeoff AFTER = 0.2\n",
      "set_medially_centered_speed_tradeoff AFTER = 0.2\n",
      "medial centered AFTER 1\n",
      "AREA VARIATION AFTER 0.0001\n",
      "MAX ITERATIONS AFTER 500\n",
      "medial centered END 1\n",
      "set_medially_centered_speed_tradeoff END = 0.2\n",
      "quality_speed_tradeoff END = 0.2\n",
      "Max iterations END = 500\n",
      "AREA VARIATION END 0.0001\n",
      "Number of vertices of the skeleton: 70\n",
      "Number of edges of the skeleton: 69\n",
      "MAX ITERATIONS initially 500\n",
      "AREA VARIATION initially 0.0001\n",
      "medial centered initially 1\n",
      "medially_centered_speed_tradeoff initially 0.2\n",
      "quality_speed_tradeoff initially 0.1\n",
      "max_triangle_angle initially 1.91986\n",
      "min_edge_length initially 130.059\n",
      "setting the edge length by absolute length\n",
      "min_edge_length AFTER = 75\n",
      "max_triangle_angle AFTER = 1.91986\n",
      "quality_speed_tradeoff AFTER = 0.2\n",
      "set_medially_centered_speed_tradeoff AFTER = 0.2\n",
      "medial centered AFTER 1\n",
      "AREA VARIATION AFTER 0.0001\n",
      "MAX ITERATIONS AFTER 500\n",
      "medial centered END 1\n",
      "set_medially_centered_speed_tradeoff END = 0.2\n",
      "quality_speed_tradeoff END = 0.2\n",
      "Max iterations END = 500\n",
      "AREA VARIATION END 0.0001\n",
      "Number of vertices of the skeleton: 760\n",
      "Number of edges of the skeleton: 759\n",
      "MAX ITERATIONS initially 500\n",
      "AREA VARIATION initially 0.0001\n",
      "medial centered initially 1\n",
      "medially_centered_speed_tradeoff initially 0.2\n",
      "quality_speed_tradeoff initially 0.1\n",
      "max_triangle_angle initially 1.91986\n",
      "min_edge_length initially 36.8922\n",
      "setting the edge length by absolute length\n",
      "min_edge_length AFTER = 75\n",
      "max_triangle_angle AFTER = 1.91986\n",
      "quality_speed_tradeoff AFTER = 0.2\n",
      "set_medially_centered_speed_tradeoff AFTER = 0.2\n",
      "medial centered AFTER 1\n",
      "AREA VARIATION AFTER 0.0001\n",
      "MAX ITERATIONS AFTER 500\n",
      "medial centered END 1\n",
      "set_medially_centered_speed_tradeoff END = 0.2\n",
      "quality_speed_tradeoff END = 0.2\n",
      "Max iterations END = 500\n",
      "AREA VARIATION END 0.0001\n",
      "Number of vertices of the skeleton: 3\n",
      "Number of edges of the skeleton: 2\n",
      "\n",
      "Number of segments: 77\n",
      "\n"
     ]
    },
    {
     "data": {
      "application/vnd.jupyter.widget-view+json": {
       "model_id": "4e7bc56bde7e414da89aecc73fd4321b",
       "version_major": 2,
       "version_minor": 0
      },
      "text/plain": [
       "  0%|          | 0/77 [00:00<?, ?it/s]"
      ]
     },
     "metadata": {},
     "output_type": "display_data"
    },
    {
     "data": {
      "application/vnd.jupyter.widget-view+json": {
       "model_id": "ff3c27ccae934a918443a3b000207278",
       "version_major": 2,
       "version_minor": 0
      },
      "text/plain": [
       "  0%|          | 0/77 [00:00<?, ?it/s]"
      ]
     },
     "metadata": {},
     "output_type": "display_data"
    },
    {
     "name": "stdout",
     "output_type": "stream",
     "text": [
      "Filtering away by face and skeletal length\n",
      "\n",
      "Number of segments: 100\n",
      "\n"
     ]
    },
    {
     "data": {
      "application/vnd.jupyter.widget-view+json": {
       "model_id": "46e098a88d0d4ddc9a9cfac06233a45d",
       "version_major": 2,
       "version_minor": 0
      },
      "text/plain": [
       "  0%|          | 0/100 [00:00<?, ?it/s]"
      ]
     },
     "metadata": {},
     "output_type": "display_data"
    },
    {
     "data": {
      "application/vnd.jupyter.widget-view+json": {
       "model_id": "886003099bbd4b6e8d3513f2fe3f0dbd",
       "version_major": 2,
       "version_minor": 0
      },
      "text/plain": [
       "  0%|          | 0/100 [00:00<?, ?it/s]"
      ]
     },
     "metadata": {},
     "output_type": "display_data"
    },
    {
     "name": "stdout",
     "output_type": "stream",
     "text": [
      "Filtering away by face and skeletal length\n",
      "\n",
      "Number of segments: 17\n",
      "\n"
     ]
    },
    {
     "data": {
      "application/vnd.jupyter.widget-view+json": {
       "model_id": "6237b88fefe64143806b5aa1240dfd9c",
       "version_major": 2,
       "version_minor": 0
      },
      "text/plain": [
       "  0%|          | 0/17 [00:00<?, ?it/s]"
      ]
     },
     "metadata": {},
     "output_type": "display_data"
    },
    {
     "data": {
      "application/vnd.jupyter.widget-view+json": {
       "model_id": "1192a88630194c7fae734e1296cda8d1",
       "version_major": 2,
       "version_minor": 0
      },
      "text/plain": [
       "  0%|          | 0/17 [00:00<?, ?it/s]"
      ]
     },
     "metadata": {},
     "output_type": "display_data"
    },
    {
     "name": "stdout",
     "output_type": "stream",
     "text": [
      "Filtering away by face and skeletal length\n",
      "\n",
      "Number of segments: 18\n",
      "\n"
     ]
    },
    {
     "data": {
      "application/vnd.jupyter.widget-view+json": {
       "model_id": "ee26e8cf1caf45fdba626d99b7d7e6c4",
       "version_major": 2,
       "version_minor": 0
      },
      "text/plain": [
       "  0%|          | 0/18 [00:00<?, ?it/s]"
      ]
     },
     "metadata": {},
     "output_type": "display_data"
    },
    {
     "data": {
      "application/vnd.jupyter.widget-view+json": {
       "model_id": "b6ef8d5b6b5d4fdf914ef36f0374ec86",
       "version_major": 2,
       "version_minor": 0
      },
      "text/plain": [
       "  0%|          | 0/18 [00:00<?, ?it/s]"
      ]
     },
     "metadata": {},
     "output_type": "display_data"
    },
    {
     "name": "stdout",
     "output_type": "stream",
     "text": [
      "Filtering away by face and skeletal length\n",
      "\n",
      "Number of segments: 96\n",
      "\n"
     ]
    },
    {
     "data": {
      "application/vnd.jupyter.widget-view+json": {
       "model_id": "9c349eef7fd0424c86fbe434a96cf89b",
       "version_major": 2,
       "version_minor": 0
      },
      "text/plain": [
       "  0%|          | 0/96 [00:00<?, ?it/s]"
      ]
     },
     "metadata": {},
     "output_type": "display_data"
    },
    {
     "data": {
      "application/vnd.jupyter.widget-view+json": {
       "model_id": "c1cbd19b83e54b74958f5fe0db1631fb",
       "version_major": 2,
       "version_minor": 0
      },
      "text/plain": [
       "  0%|          | 0/96 [00:00<?, ?it/s]"
      ]
     },
     "metadata": {},
     "output_type": "display_data"
    },
    {
     "name": "stdout",
     "output_type": "stream",
     "text": [
      "Filtering away by face and skeletal length\n",
      "\n",
      "Number of segments: 84\n",
      "\n"
     ]
    },
    {
     "data": {
      "application/vnd.jupyter.widget-view+json": {
       "model_id": "5daf888bae5840ba89e2ed80c84a0d00",
       "version_major": 2,
       "version_minor": 0
      },
      "text/plain": [
       "  0%|          | 0/84 [00:00<?, ?it/s]"
      ]
     },
     "metadata": {},
     "output_type": "display_data"
    },
    {
     "data": {
      "application/vnd.jupyter.widget-view+json": {
       "model_id": "c30980ad3653447cbc6ab882d805173f",
       "version_major": 2,
       "version_minor": 0
      },
      "text/plain": [
       "  0%|          | 0/84 [00:00<?, ?it/s]"
      ]
     },
     "metadata": {},
     "output_type": "display_data"
    },
    {
     "name": "stdout",
     "output_type": "stream",
     "text": [
      "Filtering away by face and skeletal length\n",
      "\n",
      "Number of segments: 2\n",
      "\n"
     ]
    },
    {
     "data": {
      "application/vnd.jupyter.widget-view+json": {
       "model_id": "713a6218e69145ee87fb323adf868965",
       "version_major": 2,
       "version_minor": 0
      },
      "text/plain": [
       "  0%|          | 0/2 [00:00<?, ?it/s]"
      ]
     },
     "metadata": {},
     "output_type": "display_data"
    },
    {
     "data": {
      "application/vnd.jupyter.widget-view+json": {
       "model_id": "3e0818cdbee649edac7d352cc049da45",
       "version_major": 2,
       "version_minor": 0
      },
      "text/plain": [
       "  0%|          | 0/2 [00:00<?, ?it/s]"
      ]
     },
     "metadata": {},
     "output_type": "display_data"
    },
    {
     "name": "stdout",
     "output_type": "stream",
     "text": [
      "Filtering away by face and skeletal length\n",
      "\n",
      "Number of segments: 10\n",
      "\n"
     ]
    },
    {
     "data": {
      "application/vnd.jupyter.widget-view+json": {
       "model_id": "a1e2b80939ce4263b57e89775936344c",
       "version_major": 2,
       "version_minor": 0
      },
      "text/plain": [
       "  0%|          | 0/10 [00:00<?, ?it/s]"
      ]
     },
     "metadata": {},
     "output_type": "display_data"
    },
    {
     "data": {
      "application/vnd.jupyter.widget-view+json": {
       "model_id": "b51902a3135b49cc94edbf97dc082902",
       "version_major": 2,
       "version_minor": 0
      },
      "text/plain": [
       "  0%|          | 0/10 [00:00<?, ?it/s]"
      ]
     },
     "metadata": {},
     "output_type": "display_data"
    },
    {
     "name": "stdout",
     "output_type": "stream",
     "text": [
      "Filtering away by face and skeletal length\n",
      "\n",
      "Number of segments: 7\n",
      "\n"
     ]
    },
    {
     "data": {
      "application/vnd.jupyter.widget-view+json": {
       "model_id": "faf90e995dcc4fddbdaa772c2b4d0807",
       "version_major": 2,
       "version_minor": 0
      },
      "text/plain": [
       "  0%|          | 0/7 [00:00<?, ?it/s]"
      ]
     },
     "metadata": {},
     "output_type": "display_data"
    },
    {
     "data": {
      "application/vnd.jupyter.widget-view+json": {
       "model_id": "4eeb5d37d57643f18e8de6674ce8186d",
       "version_major": 2,
       "version_minor": 0
      },
      "text/plain": [
       "  0%|          | 0/7 [00:00<?, ?it/s]"
      ]
     },
     "metadata": {},
     "output_type": "display_data"
    },
    {
     "name": "stdout",
     "output_type": "stream",
     "text": [
      "Filtering away by face and skeletal length\n",
      "\n",
      "Number of segments: 184\n",
      "\n"
     ]
    },
    {
     "data": {
      "application/vnd.jupyter.widget-view+json": {
       "model_id": "4250efff44024f2c95647d7d92d4c2c0",
       "version_major": 2,
       "version_minor": 0
      },
      "text/plain": [
       "  0%|          | 0/184 [00:00<?, ?it/s]"
      ]
     },
     "metadata": {},
     "output_type": "display_data"
    },
    {
     "data": {
      "application/vnd.jupyter.widget-view+json": {
       "model_id": "013573cbce614d04a52407039a57b424",
       "version_major": 2,
       "version_minor": 0
      },
      "text/plain": [
       "  0%|          | 0/184 [00:00<?, ?it/s]"
      ]
     },
     "metadata": {},
     "output_type": "display_data"
    },
    {
     "name": "stdout",
     "output_type": "stream",
     "text": [
      "Filtering away by face and skeletal length\n",
      "\n",
      "Number of segments: 22\n",
      "\n"
     ]
    },
    {
     "data": {
      "application/vnd.jupyter.widget-view+json": {
       "model_id": "0bc807d2b5804b2e8dc30a52d735d61c",
       "version_major": 2,
       "version_minor": 0
      },
      "text/plain": [
       "  0%|          | 0/22 [00:00<?, ?it/s]"
      ]
     },
     "metadata": {},
     "output_type": "display_data"
    },
    {
     "data": {
      "application/vnd.jupyter.widget-view+json": {
       "model_id": "26c5eab02cc54d03ad7060c50b5b0854",
       "version_major": 2,
       "version_minor": 0
      },
      "text/plain": [
       "  0%|          | 0/22 [00:00<?, ?it/s]"
      ]
     },
     "metadata": {},
     "output_type": "display_data"
    },
    {
     "name": "stdout",
     "output_type": "stream",
     "text": [
      "Filtering away by face and skeletal length\n",
      "\n",
      "Number of segments: 4\n",
      "\n"
     ]
    },
    {
     "data": {
      "application/vnd.jupyter.widget-view+json": {
       "model_id": "ecc091cd8d40473c9188368f5fb8acbd",
       "version_major": 2,
       "version_minor": 0
      },
      "text/plain": [
       "  0%|          | 0/4 [00:00<?, ?it/s]"
      ]
     },
     "metadata": {},
     "output_type": "display_data"
    },
    {
     "data": {
      "application/vnd.jupyter.widget-view+json": {
       "model_id": "483c0eae4d37428d8fa70484b6bb91b1",
       "version_major": 2,
       "version_minor": 0
      },
      "text/plain": [
       "  0%|          | 0/4 [00:00<?, ?it/s]"
      ]
     },
     "metadata": {},
     "output_type": "display_data"
    },
    {
     "name": "stdout",
     "output_type": "stream",
     "text": [
      "Filtering away by face and skeletal length\n",
      "\n",
      "Number of segments: 37\n",
      "\n"
     ]
    },
    {
     "data": {
      "application/vnd.jupyter.widget-view+json": {
       "model_id": "6cd96ae85b734b68bab4bcfa2ed98c22",
       "version_major": 2,
       "version_minor": 0
      },
      "text/plain": [
       "  0%|          | 0/37 [00:00<?, ?it/s]"
      ]
     },
     "metadata": {},
     "output_type": "display_data"
    },
    {
     "data": {
      "application/vnd.jupyter.widget-view+json": {
       "model_id": "c1d84d2bc39146109daa608d795622e8",
       "version_major": 2,
       "version_minor": 0
      },
      "text/plain": [
       "  0%|          | 0/37 [00:00<?, ?it/s]"
      ]
     },
     "metadata": {},
     "output_type": "display_data"
    },
    {
     "name": "stdout",
     "output_type": "stream",
     "text": [
      "Filtering away by face and skeletal length\n",
      "\n",
      "Number of segments: 5\n",
      "\n"
     ]
    },
    {
     "data": {
      "application/vnd.jupyter.widget-view+json": {
       "model_id": "367b5b59f27c427eb295d5769f3e9131",
       "version_major": 2,
       "version_minor": 0
      },
      "text/plain": [
       "  0%|          | 0/5 [00:00<?, ?it/s]"
      ]
     },
     "metadata": {},
     "output_type": "display_data"
    },
    {
     "data": {
      "application/vnd.jupyter.widget-view+json": {
       "model_id": "ec9394b3a2f1468c82611f8449e48882",
       "version_major": 2,
       "version_minor": 0
      },
      "text/plain": [
       "  0%|          | 0/5 [00:00<?, ?it/s]"
      ]
     },
     "metadata": {},
     "output_type": "display_data"
    },
    {
     "name": "stdout",
     "output_type": "stream",
     "text": [
      "Filtering away by face and skeletal length\n",
      "\n",
      "Number of segments: 9\n",
      "\n"
     ]
    },
    {
     "data": {
      "application/vnd.jupyter.widget-view+json": {
       "model_id": "eae1078a77474c599c895538e662f814",
       "version_major": 2,
       "version_minor": 0
      },
      "text/plain": [
       "  0%|          | 0/9 [00:00<?, ?it/s]"
      ]
     },
     "metadata": {},
     "output_type": "display_data"
    },
    {
     "data": {
      "application/vnd.jupyter.widget-view+json": {
       "model_id": "98aab00afb3543f089ad19c3875823e4",
       "version_major": 2,
       "version_minor": 0
      },
      "text/plain": [
       "  0%|          | 0/9 [00:00<?, ?it/s]"
      ]
     },
     "metadata": {},
     "output_type": "display_data"
    },
    {
     "name": "stdout",
     "output_type": "stream",
     "text": [
      "Filtering away by face and skeletal length\n",
      "\n",
      "Number of segments: 24\n",
      "\n"
     ]
    },
    {
     "data": {
      "application/vnd.jupyter.widget-view+json": {
       "model_id": "4a5981e6ef2f4f3ab1b419da015827b9",
       "version_major": 2,
       "version_minor": 0
      },
      "text/plain": [
       "  0%|          | 0/24 [00:00<?, ?it/s]"
      ]
     },
     "metadata": {},
     "output_type": "display_data"
    },
    {
     "data": {
      "application/vnd.jupyter.widget-view+json": {
       "model_id": "d6bc1c090f5f4df2ad7927cb254fcefc",
       "version_major": 2,
       "version_minor": 0
      },
      "text/plain": [
       "  0%|          | 0/24 [00:00<?, ?it/s]"
      ]
     },
     "metadata": {},
     "output_type": "display_data"
    },
    {
     "name": "stdout",
     "output_type": "stream",
     "text": [
      "Filtering away by face and skeletal length\n",
      "\n",
      "Number of segments: 3\n",
      "\n"
     ]
    },
    {
     "data": {
      "application/vnd.jupyter.widget-view+json": {
       "model_id": "60aad2d2544d40259c7a06d234b0e6f1",
       "version_major": 2,
       "version_minor": 0
      },
      "text/plain": [
       "  0%|          | 0/3 [00:00<?, ?it/s]"
      ]
     },
     "metadata": {},
     "output_type": "display_data"
    },
    {
     "data": {
      "application/vnd.jupyter.widget-view+json": {
       "model_id": "914fea90510b4a1f937bd590f6d42dd9",
       "version_major": 2,
       "version_minor": 0
      },
      "text/plain": [
       "  0%|          | 0/3 [00:00<?, ?it/s]"
      ]
     },
     "metadata": {},
     "output_type": "display_data"
    },
    {
     "name": "stdout",
     "output_type": "stream",
     "text": [
      "Filtering away by face and skeletal length\n",
      "\n",
      "Number of segments: 5\n",
      "\n"
     ]
    },
    {
     "data": {
      "application/vnd.jupyter.widget-view+json": {
       "model_id": "73f5d7bedd2b4b82b8f51f36b8fefefb",
       "version_major": 2,
       "version_minor": 0
      },
      "text/plain": [
       "  0%|          | 0/5 [00:00<?, ?it/s]"
      ]
     },
     "metadata": {},
     "output_type": "display_data"
    },
    {
     "data": {
      "application/vnd.jupyter.widget-view+json": {
       "model_id": "48d567b290974d50b23a02b6f4e0f29a",
       "version_major": 2,
       "version_minor": 0
      },
      "text/plain": [
       "  0%|          | 0/5 [00:00<?, ?it/s]"
      ]
     },
     "metadata": {},
     "output_type": "display_data"
    },
    {
     "name": "stdout",
     "output_type": "stream",
     "text": [
      "Filtering away by face and skeletal length\n",
      "\n",
      "Number of segments: 149\n",
      "\n"
     ]
    },
    {
     "data": {
      "application/vnd.jupyter.widget-view+json": {
       "model_id": "6e7ac3f6033c47e59f077835708e7e94",
       "version_major": 2,
       "version_minor": 0
      },
      "text/plain": [
       "  0%|          | 0/149 [00:00<?, ?it/s]"
      ]
     },
     "metadata": {},
     "output_type": "display_data"
    },
    {
     "data": {
      "application/vnd.jupyter.widget-view+json": {
       "model_id": "0f79dd3e56ae42e5bf12a4f4421f07f6",
       "version_major": 2,
       "version_minor": 0
      },
      "text/plain": [
       "  0%|          | 0/149 [00:00<?, ?it/s]"
      ]
     },
     "metadata": {},
     "output_type": "display_data"
    },
    {
     "name": "stdout",
     "output_type": "stream",
     "text": [
      "Filtering away by face and skeletal length\n",
      "\n",
      "Number of segments: 153\n",
      "\n"
     ]
    },
    {
     "data": {
      "application/vnd.jupyter.widget-view+json": {
       "model_id": "c95bb06538dc47df8ddfa3e392bceda9",
       "version_major": 2,
       "version_minor": 0
      },
      "text/plain": [
       "  0%|          | 0/153 [00:00<?, ?it/s]"
      ]
     },
     "metadata": {},
     "output_type": "display_data"
    },
    {
     "data": {
      "application/vnd.jupyter.widget-view+json": {
       "model_id": "a4d49bbee2e14f6bb7edd4df41e2def2",
       "version_major": 2,
       "version_minor": 0
      },
      "text/plain": [
       "  0%|          | 0/153 [00:00<?, ?it/s]"
      ]
     },
     "metadata": {},
     "output_type": "display_data"
    },
    {
     "name": "stdout",
     "output_type": "stream",
     "text": [
      "Filtering away by face and skeletal length\n",
      "\n",
      "Number of segments: 2\n",
      "\n"
     ]
    },
    {
     "data": {
      "application/vnd.jupyter.widget-view+json": {
       "model_id": "faa9e1ae792849b695e0d96a4f9ba503",
       "version_major": 2,
       "version_minor": 0
      },
      "text/plain": [
       "  0%|          | 0/2 [00:00<?, ?it/s]"
      ]
     },
     "metadata": {},
     "output_type": "display_data"
    },
    {
     "data": {
      "application/vnd.jupyter.widget-view+json": {
       "model_id": "35d682718d514978a27091ffc8c96c20",
       "version_major": 2,
       "version_minor": 0
      },
      "text/plain": [
       "  0%|          | 0/2 [00:00<?, ?it/s]"
      ]
     },
     "metadata": {},
     "output_type": "display_data"
    },
    {
     "name": "stdout",
     "output_type": "stream",
     "text": [
      "Filtering away by face and skeletal length\n",
      "\n",
      "Number of segments: 109\n",
      "\n"
     ]
    },
    {
     "data": {
      "application/vnd.jupyter.widget-view+json": {
       "model_id": "9c5b691f646a46f48616f0b3216e6975",
       "version_major": 2,
       "version_minor": 0
      },
      "text/plain": [
       "  0%|          | 0/109 [00:00<?, ?it/s]"
      ]
     },
     "metadata": {},
     "output_type": "display_data"
    },
    {
     "data": {
      "application/vnd.jupyter.widget-view+json": {
       "model_id": "bb34e714ed0a4934b2de8b5cd2d92315",
       "version_major": 2,
       "version_minor": 0
      },
      "text/plain": [
       "  0%|          | 0/109 [00:00<?, ?it/s]"
      ]
     },
     "metadata": {},
     "output_type": "display_data"
    },
    {
     "name": "stdout",
     "output_type": "stream",
     "text": [
      "Filtering away by face and skeletal length\n",
      "\n",
      "Number of segments: 54\n",
      "\n"
     ]
    },
    {
     "data": {
      "application/vnd.jupyter.widget-view+json": {
       "model_id": "2272be6b92174a82b21badb0c1ca328d",
       "version_major": 2,
       "version_minor": 0
      },
      "text/plain": [
       "  0%|          | 0/54 [00:00<?, ?it/s]"
      ]
     },
     "metadata": {},
     "output_type": "display_data"
    },
    {
     "data": {
      "application/vnd.jupyter.widget-view+json": {
       "model_id": "66a6c063733142699e87f546c454ad09",
       "version_major": 2,
       "version_minor": 0
      },
      "text/plain": [
       "  0%|          | 0/54 [00:00<?, ?it/s]"
      ]
     },
     "metadata": {},
     "output_type": "display_data"
    },
    {
     "name": "stdout",
     "output_type": "stream",
     "text": [
      "Filtering away by face and skeletal length\n",
      "\n",
      "Number of segments: 31\n",
      "\n"
     ]
    },
    {
     "data": {
      "application/vnd.jupyter.widget-view+json": {
       "model_id": "84a1353e069543209c6be345c49dd6ae",
       "version_major": 2,
       "version_minor": 0
      },
      "text/plain": [
       "  0%|          | 0/31 [00:00<?, ?it/s]"
      ]
     },
     "metadata": {},
     "output_type": "display_data"
    },
    {
     "data": {
      "application/vnd.jupyter.widget-view+json": {
       "model_id": "9efea455285c4d50823c3f1d3b8c8a01",
       "version_major": 2,
       "version_minor": 0
      },
      "text/plain": [
       "  0%|          | 0/31 [00:00<?, ?it/s]"
      ]
     },
     "metadata": {},
     "output_type": "display_data"
    },
    {
     "name": "stdout",
     "output_type": "stream",
     "text": [
      "Filtering away by face and skeletal length\n",
      "\n",
      "Number of segments: 13\n",
      "\n"
     ]
    },
    {
     "data": {
      "application/vnd.jupyter.widget-view+json": {
       "model_id": "9347176ce85b47e58c7d45cbee86784f",
       "version_major": 2,
       "version_minor": 0
      },
      "text/plain": [
       "  0%|          | 0/13 [00:00<?, ?it/s]"
      ]
     },
     "metadata": {},
     "output_type": "display_data"
    },
    {
     "data": {
      "application/vnd.jupyter.widget-view+json": {
       "model_id": "a3169eea8fa6462286e4607892e327d0",
       "version_major": 2,
       "version_minor": 0
      },
      "text/plain": [
       "  0%|          | 0/13 [00:00<?, ?it/s]"
      ]
     },
     "metadata": {},
     "output_type": "display_data"
    },
    {
     "name": "stdout",
     "output_type": "stream",
     "text": [
      "Filtering away by face and skeletal length\n",
      "\n",
      "Number of segments: 6\n",
      "\n"
     ]
    },
    {
     "data": {
      "application/vnd.jupyter.widget-view+json": {
       "model_id": "e8939bb0d67545a498c173b53109532a",
       "version_major": 2,
       "version_minor": 0
      },
      "text/plain": [
       "  0%|          | 0/6 [00:00<?, ?it/s]"
      ]
     },
     "metadata": {},
     "output_type": "display_data"
    },
    {
     "data": {
      "application/vnd.jupyter.widget-view+json": {
       "model_id": "f5fb01f7ffbf45c4b51b2be628b70da5",
       "version_major": 2,
       "version_minor": 0
      },
      "text/plain": [
       "  0%|          | 0/6 [00:00<?, ?it/s]"
      ]
     },
     "metadata": {},
     "output_type": "display_data"
    },
    {
     "name": "stdout",
     "output_type": "stream",
     "text": [
      "Filtering away by face and skeletal length\n",
      "\n",
      "Number of segments: 11\n",
      "\n"
     ]
    },
    {
     "data": {
      "application/vnd.jupyter.widget-view+json": {
       "model_id": "406dfcf14d7643dbbf03cf4fff26c384",
       "version_major": 2,
       "version_minor": 0
      },
      "text/plain": [
       "  0%|          | 0/11 [00:00<?, ?it/s]"
      ]
     },
     "metadata": {},
     "output_type": "display_data"
    },
    {
     "data": {
      "application/vnd.jupyter.widget-view+json": {
       "model_id": "44d6ef09bd594503b3c4bbe9b222c82a",
       "version_major": 2,
       "version_minor": 0
      },
      "text/plain": [
       "  0%|          | 0/11 [00:00<?, ?it/s]"
      ]
     },
     "metadata": {},
     "output_type": "display_data"
    },
    {
     "name": "stdout",
     "output_type": "stream",
     "text": [
      "Filtering away by face and skeletal length\n",
      "\n",
      "Number of segments: 4\n",
      "\n"
     ]
    },
    {
     "data": {
      "application/vnd.jupyter.widget-view+json": {
       "model_id": "b44dfda28c8b4622a1eaed3b38d78dfe",
       "version_major": 2,
       "version_minor": 0
      },
      "text/plain": [
       "  0%|          | 0/4 [00:00<?, ?it/s]"
      ]
     },
     "metadata": {},
     "output_type": "display_data"
    },
    {
     "data": {
      "application/vnd.jupyter.widget-view+json": {
       "model_id": "a962c031c1934792aa32ad1321d1274a",
       "version_major": 2,
       "version_minor": 0
      },
      "text/plain": [
       "  0%|          | 0/4 [00:00<?, ?it/s]"
      ]
     },
     "metadata": {},
     "output_type": "display_data"
    },
    {
     "name": "stdout",
     "output_type": "stream",
     "text": [
      "Filtering away by face and skeletal length\n",
      "\n",
      "Number of segments: 85\n",
      "\n"
     ]
    },
    {
     "data": {
      "application/vnd.jupyter.widget-view+json": {
       "model_id": "4e1a980017da4588809969fa7a20dd10",
       "version_major": 2,
       "version_minor": 0
      },
      "text/plain": [
       "  0%|          | 0/85 [00:00<?, ?it/s]"
      ]
     },
     "metadata": {},
     "output_type": "display_data"
    },
    {
     "data": {
      "application/vnd.jupyter.widget-view+json": {
       "model_id": "36ad3b1c8a4244388a696a54da8cb2ff",
       "version_major": 2,
       "version_minor": 0
      },
      "text/plain": [
       "  0%|          | 0/85 [00:00<?, ?it/s]"
      ]
     },
     "metadata": {},
     "output_type": "display_data"
    },
    {
     "name": "stdout",
     "output_type": "stream",
     "text": [
      "Filtering away by face and skeletal length\n",
      "\n",
      "Number of segments: 12\n",
      "\n"
     ]
    },
    {
     "data": {
      "application/vnd.jupyter.widget-view+json": {
       "model_id": "8fb8bab7c9ee4fd1a4cdb9065c4d2d8a",
       "version_major": 2,
       "version_minor": 0
      },
      "text/plain": [
       "  0%|          | 0/12 [00:00<?, ?it/s]"
      ]
     },
     "metadata": {},
     "output_type": "display_data"
    },
    {
     "data": {
      "application/vnd.jupyter.widget-view+json": {
       "model_id": "9ebb02f2ba4c4a159d6ecf118954229b",
       "version_major": 2,
       "version_minor": 0
      },
      "text/plain": [
       "  0%|          | 0/12 [00:00<?, ?it/s]"
      ]
     },
     "metadata": {},
     "output_type": "display_data"
    },
    {
     "name": "stdout",
     "output_type": "stream",
     "text": [
      "Filtering away by face and skeletal length\n",
      "\n",
      "Number of segments: 134\n",
      "\n"
     ]
    },
    {
     "data": {
      "application/vnd.jupyter.widget-view+json": {
       "model_id": "85679d9004684e168a4ef7f40affaec2",
       "version_major": 2,
       "version_minor": 0
      },
      "text/plain": [
       "  0%|          | 0/134 [00:00<?, ?it/s]"
      ]
     },
     "metadata": {},
     "output_type": "display_data"
    },
    {
     "data": {
      "application/vnd.jupyter.widget-view+json": {
       "model_id": "424686dc807d480390cac9fec8e5a05c",
       "version_major": 2,
       "version_minor": 0
      },
      "text/plain": [
       "  0%|          | 0/134 [00:00<?, ?it/s]"
      ]
     },
     "metadata": {},
     "output_type": "display_data"
    },
    {
     "name": "stdout",
     "output_type": "stream",
     "text": [
      "Filtering away by face and skeletal length\n",
      "\n",
      "Number of segments: 120\n",
      "\n"
     ]
    },
    {
     "data": {
      "application/vnd.jupyter.widget-view+json": {
       "model_id": "f59195b757ec424489c5fd1e86c3cac9",
       "version_major": 2,
       "version_minor": 0
      },
      "text/plain": [
       "  0%|          | 0/120 [00:00<?, ?it/s]"
      ]
     },
     "metadata": {},
     "output_type": "display_data"
    },
    {
     "data": {
      "application/vnd.jupyter.widget-view+json": {
       "model_id": "ff020fe7fa7943de8514979c1ee3822b",
       "version_major": 2,
       "version_minor": 0
      },
      "text/plain": [
       "  0%|          | 0/120 [00:00<?, ?it/s]"
      ]
     },
     "metadata": {},
     "output_type": "display_data"
    },
    {
     "name": "stdout",
     "output_type": "stream",
     "text": [
      "Filtering away by face and skeletal length\n",
      "\n",
      "Number of segments: 22\n",
      "\n"
     ]
    },
    {
     "data": {
      "application/vnd.jupyter.widget-view+json": {
       "model_id": "137de382d13b476cba2fdf7392caff71",
       "version_major": 2,
       "version_minor": 0
      },
      "text/plain": [
       "  0%|          | 0/22 [00:00<?, ?it/s]"
      ]
     },
     "metadata": {},
     "output_type": "display_data"
    },
    {
     "data": {
      "application/vnd.jupyter.widget-view+json": {
       "model_id": "183e153131d9499ba3545fafbf850016",
       "version_major": 2,
       "version_minor": 0
      },
      "text/plain": [
       "  0%|          | 0/22 [00:00<?, ?it/s]"
      ]
     },
     "metadata": {},
     "output_type": "display_data"
    },
    {
     "name": "stdout",
     "output_type": "stream",
     "text": [
      "Filtering away by face and skeletal length\n",
      "width_name BEFORE processing = no_spine_median_mesh_center\n",
      "After processing\n",
      "width_name = no_spine_median_mesh_center, distance_by_mesh_center= True, no_spines = True, summary_measure= median\n",
      "Working on limb L0 branch 6\n",
      "    No spines and using precomputed width: 602.6784666648938\n",
      "Working on limb L0 branch 3\n",
      "    current_width= 414.3782496780707\n",
      "Working on limb L0 branch 7\n",
      "    No spines and using precomputed width: 373.74842183757386\n",
      "Working on limb L0 branch 0\n",
      "    current_width= 261.67118520971894\n",
      "Working on limb L0 branch 1\n",
      "    current_width= 277.7069504096059\n",
      "Working on limb L0 branch 2\n",
      "    current_width= 297.0009972780132\n",
      "Working on limb L0 branch 4\n",
      "    current_width= 301.21669775687826\n",
      "Working on limb L0 branch 8\n",
      "    No spines and using precomputed width: 308.0742759524652\n",
      "Working on limb L0 branch 5\n",
      "    current_width= 229.5120139403681\n",
      "Working on limb L0 branch 9\n",
      "    current_width= 281.0234636151062\n",
      "Working on limb L1 branch 17\n",
      "    current_width= 186.74385817318597\n",
      "Working on limb L1 branch 15\n",
      "    No spines and using precomputed width: 81.06732888550147\n",
      "Working on limb L1 branch 16\n",
      "    No spines and using precomputed width: 180.79969247866023\n",
      "Working on limb L1 branch 18\n",
      "    No spines and using precomputed width: 83.6230371949197\n",
      "Working on limb L1 branch 4\n",
      "    No spines and using precomputed width: 67.0560163730836\n",
      "Working on limb L1 branch 14\n",
      "    No spines and using precomputed width: 118.84116640354748\n",
      "Working on limb L1 branch 26\n",
      "    No spines and using precomputed width: 166.88235794997527\n",
      "Working on limb L1 branch 19\n",
      "    No spines and using precomputed width: 74.74432487535276\n",
      "Working on limb L1 branch 20\n",
      "    No spines and using precomputed width: 78.90931853911839\n",
      "Working on limb L1 branch 12\n",
      "    No spines and using precomputed width: 105.28209006483999\n",
      "Working on limb L1 branch 13\n",
      "    No spines and using precomputed width: 103.46347406090041\n",
      "Working on limb L1 branch 21\n",
      "    No spines and using precomputed width: 89.35632620500378\n",
      "Working on limb L1 branch 22\n",
      "    No spines and using precomputed width: 85.25609472650788\n",
      "Working on limb L1 branch 9\n",
      "    No spines and using precomputed width: 100.44295627050678\n",
      "Working on limb L1 branch 10\n",
      "    No spines and using precomputed width: 154.25056283420307\n",
      "Working on limb L1 branch 11\n",
      "    No spines and using precomputed width: 93.61085880218833\n",
      "Working on limb L1 branch 25\n",
      "    No spines and using precomputed width: 66.4711702516618\n",
      "Working on limb L1 branch 1\n",
      "    No spines and using precomputed width: 111.9796517426644\n",
      "Working on limb L1 branch 3\n",
      "    No spines and using precomputed width: 95.32640663158229\n",
      "Working on limb L1 branch 7\n",
      "    No spines and using precomputed width: 102.50874533280447\n",
      "Working on limb L1 branch 8\n",
      "    No spines and using precomputed width: 131.75016231242103\n",
      "Working on limb L1 branch 5\n",
      "    No spines and using precomputed width: 128.10406228933053\n",
      "Working on limb L1 branch 6\n",
      "    No spines and using precomputed width: 108.30020672887802\n",
      "Working on limb L1 branch 0\n",
      "    No spines and using precomputed width: 97.68811695225403\n",
      "Working on limb L1 branch 2\n",
      "    No spines and using precomputed width: 125.98586935524001\n",
      "Working on limb L1 branch 23\n",
      "    No spines and using precomputed width: 87.93425564048837\n",
      "Working on limb L1 branch 24\n",
      "    No spines and using precomputed width: 82.4982383186942\n",
      "Working on limb L4 branch 2\n",
      "    No spines and using precomputed width: 980.9831322974292\n",
      "Working on limb L4 branch 0\n",
      "    current_width= 426.75089109979007\n",
      "Working on limb L4 branch 3\n",
      "    No spines and using precomputed width: 641.1096029718302\n",
      "Working on limb L4 branch 1\n",
      "    No spines and using precomputed width: 276.24530855379544\n",
      "Working on limb L4 branch 4\n",
      "    No spines and using precomputed width: 501.40363236498973\n",
      "Working on limb L4 branch 5\n",
      "    current_width= 266.3968242158419\n",
      "Working on limb L4 branch 6\n",
      "    current_width= 446.2015047293933\n",
      "Working on limb L5 branch 0\n",
      "    current_width= 329.6255313497485\n",
      "Working on limb L6 branch 0\n",
      "    current_width= 272.5035345034447\n",
      "Working on limb L2 branch 0\n",
      "    No spines and using precomputed width: 385.0723000142679\n",
      "Working on limb L2 branch 1\n",
      "    current_width= 279.0896351955128\n",
      "Working on limb L2 branch 2\n",
      "    current_width= 302.1523669329279\n",
      "Working on limb L3 branch 1\n",
      "    No spines and using precomputed width: 341.6228226856097\n",
      "Working on limb L3 branch 0\n",
      "    No spines and using precomputed width: 96.25067340356648\n",
      "Working on limb L3 branch 2\n",
      "    current_width= 337.9040555721308\n",
      "Working on limb L3 branch 3\n",
      "    No spines and using precomputed width: 69.00572062527482\n",
      "Working on limb L3 branch 4\n",
      "    current_width= 260.5391768200335\n",
      "Working on limb L7 branch 0\n",
      "    No spines and using precomputed width: 1128.2533827549519\n",
      "Total time for neuron instance creation = 242.7640209197998\n"
     ]
    },
    {
     "data": {
      "text/plain": [
       "<neurd.neuron.Neuron at 0x7f806dde52b0>"
      ]
     },
     "execution_count": 28,
     "metadata": {},
     "output_type": "execute_result"
    }
   ],
   "source": [
    "from neurd import neuron\n",
    "\n",
    "neuron_obj = neuron.Neuron(\n",
    "    mesh = mesh,\n",
    "    pipeline_products = products,\n",
    "    suppress_preprocessing_print=False,\n",
    "    suppress_output=False,\n",
    ")\n",
    "\n",
    "neuron_obj"
   ]
  },
  {
   "cell_type": "code",
   "execution_count": 29,
   "id": "5467bcfe",
   "metadata": {
    "scrolled": true
   },
   "outputs": [
    {
     "name": "stdout",
     "output_type": "stream",
     "text": [
      "\n",
      " Working on visualization type: mesh\n",
      "\n",
      " Working on visualization type: skeleton\n"
     ]
    },
    {
     "data": {
      "application/vnd.jupyter.widget-view+json": {
       "model_id": "58934266d67b4f318fa15bd8a9d5cdfc",
       "version_major": 2,
       "version_minor": 0
      },
      "text/plain": [
       "Container(figure=Figure(box_center=[0.5, 0.5, 0.5], box_size=[1.0, 1.0, 1.0], camera=PerspectiveCamera(fov=45.…"
      ]
     },
     "metadata": {},
     "output_type": "display_data"
    }
   ],
   "source": [
    "nviz.visualize_neuron(\n",
    "    neuron_obj,\n",
    "    limb_branch_dict=\"all\"\n",
    ")"
   ]
  },
  {
   "cell_type": "markdown",
   "id": "0d43b744",
   "metadata": {},
   "source": [
    "# Calculate statistics"
   ]
  },
  {
   "cell_type": "code",
   "execution_count": 31,
   "id": "bd082c5f",
   "metadata": {},
   "outputs": [],
   "source": [
    "from neurd.vdi_microns import volume_data_interface as vdi\n",
    "vdi.set_parameters_for_directory_modules(verbose = False)"
   ]
  },
  {
   "cell_type": "code",
   "execution_count": 32,
   "id": "cac08fd6",
   "metadata": {},
   "outputs": [
    {
     "data": {
      "text/plain": [
       "<datasci_tools.pipeline.StageProducts at 0x7f7ee0e74a90>"
      ]
     },
     "execution_count": 32,
     "metadata": {},
     "output_type": "execute_result"
    }
   ],
   "source": [
    "decomp_products = neuron_obj.calculate_decomposition_products(\n",
    "    store_in_obj = True,\n",
    ")\n",
    "\n",
    "decomp_products"
   ]
  },
  {
   "cell_type": "code",
   "execution_count": 33,
   "id": "fa148fc5",
   "metadata": {
    "scrolled": true
   },
   "outputs": [
    {
     "name": "stdout",
     "output_type": "stream",
     "text": [
      "{\n",
      "  'decimation':\n",
      "  {\n",
      "    'decimation_parameters':\n",
      "    {\n",
      "      'decimation_ratio':0.25,\n",
      "    },\n",
      "  },\n",
      "  'soma_identification':\n",
      "  {\n",
      "    'glia_meshes':[],\n",
      "    'nuclei_meshes':[<trimesh.Trimesh(vertices.shape=(6494, 3), faces.shape=(15575, 3))>, <trimesh.Trimesh(vertices.shape=(3256, 3), faces.shape=(5810, 3))>, <trimesh.Trimesh(vertices.shape=(2064, 3), faces.shape=(4789, 3))>, <trimesh.Trimesh(vertices.shape=(2022, 3), faces.shape=(4628, 3))>, <trimesh.Trimesh(vertices.shape=(1922, 3), faces.shape=(4396, 3))>, <trimesh.Trimesh(vertices.shape=(1089, 3), faces.shape=(2556, 3))>, <trimesh.Trimesh(vertices.shape=(864, 3), faces.shape=(1989, 3))>, <trimesh.Trimesh(vertices.shape=(723, 3), faces.shape=(1611, 3))>, <trimesh.Trimesh(vertices.shape=(693, 3), faces.shape=(1561, 3))>, <trimesh.Trimesh(vertices.shape=(612, 3), faces.shape=(1378, 3))>, <trimesh.Trimesh(vertices.shape=(456, 3), faces.shape=(742, 3))>, <trimesh.Trimesh(vertices.shape=(344, 3), faces.shape=(727, 3))>, <trimesh.Trimesh(vertices.shape=(363, 3), faces.shape=(876, 3))>, <trimesh.Trimesh(vertices.shape=(301, 3), faces.shape=(613, 3))>, <trimesh.Trimesh(vertices.shape=(253, 3), faces.shape=(632, 3))>, <trimesh.Trimesh(vertices.shape=(199, 3), faces.shape=(446, 3))>, <trimesh.Trimesh(vertices.shape=(176, 3), faces.shape=(418, 3))>, <trimesh.Trimesh(vertices.shape=(145, 3), faces.shape=(317, 3))>],\n",
      "    'soma_extraction_parameters':\n",
      "    {\n",
      "    },\n",
      "    'soma_meshes':[<trimesh.Trimesh(vertices.shape=(11386, 3), faces.shape=(22560, 3))>, <trimesh.Trimesh(vertices.shape=(5708, 3), faces.shape=(10517, 3))>],\n",
      "    'soma_run_time':77.18858623504639,\n",
      "    'soma_sdfs':array([0.769893 , 0.3351845]),\n",
      "  },\n",
      "  'decomposition':\n",
      "  {\n",
      "    'bbox_volume':1.9839991688924103,\n",
      "    'bbox_x_max':1564397.9821680577,\n",
      "    'bbox_x_max_soma_relative':75517.22158488538,\n",
      "    'bbox_x_min':1430458.6668303611,\n",
      "    'bbox_x_min_soma_relative':-58422.0937528112,\n",
      "    'bbox_y_max':659939.5309021459,\n",
      "    'bbox_y_max_soma_relative':70639.43716421863,\n",
      "    'bbox_y_min':502584.2072704911,\n",
      "    'bbox_y_min_soma_relative':-86715.88646743615,\n",
      "    'bbox_z_max':1114310.0,\n",
      "    'bbox_z_max_soma_relative':13657.686544879572,\n",
      "    'bbox_z_min':1020174.8170965186,\n",
      "    'bbox_z_min_soma_relative':-80477.49635860184,\n",
      "    'branch_length_mean':30.23828681959675,\n",
      "    'branch_length_median':17.78327317389583,\n",
      "    'centroid_volume':440.7405976697012,\n",
      "    'centroid_x':372220,\n",
      "    'centroid_x_nm':1488880.7605831723,\n",
      "    'centroid_y':147325,\n",
      "    'centroid_y_nm':589300.0937379273,\n",
      "    'centroid_z':27516,\n",
      "    'centroid_z_nm':1100652.3134551204,\n",
      "    'max_limb_n_branches':27,\n",
      "    'max_limb_skeletal_length':604558.5039643556,\n",
      "    'max_soma_area':341.07163148783616,\n",
      "    'median_branch_length':15905.11,\n",
      "    'n_branches':55,\n",
      "    'n_error_limbs':1,\n",
      "    'n_faces':323535,\n",
      "    'n_limbs':8,\n",
      "    'n_long_branches':3,\n",
      "    'n_medium_branches':41,\n",
      "    'n_multi_soma_touching_limbs':1,\n",
      "    'n_not_processed_soma_containing_meshes':0,\n",
      "    'n_same_soma_multi_touching_limbs':0,\n",
      "    'n_short_branches':9,\n",
      "    'n_somas':2,\n",
      "    'n_spine_eligible_branches':33,\n",
      "    'n_spines':403,\n",
      "    'n_vertices':154713,\n",
      "    'skeletal_length':1538677.9420402118,\n",
      "    'skeletal_length_eligible':1018393.778,\n",
      "    'skeleton':array([[[1469972.26898917,  644331.51215205, 1105781.49225862],\n",
      "        [1469922.99793769,  644306.57306289, 1105698.12317519]],\n",
      "\n",
      "       [[1469922.99793769,  644306.57306289, 1105698.12317519],\n",
      "        [1469873.03503235,  644278.96793629, 1105616.01554459]],\n",
      "\n",
      "       [[1469873.03503235,  644278.96793629, 1105616.01554459],\n",
      "        [1469822.34841942,  644249.02047451, 1105535.18233182]],\n",
      "\n",
      "       ...,\n",
      "\n",
      "       [[1472182.71408549,  577993.08644009, 1112354.27575333],\n",
      "        [1475123.88888889,  571587.50555556, 1113243.55555556]],\n",
      "\n",
      "       [[1472182.71408549,  577993.08644009, 1112354.27575333],\n",
      "        [1474890.        ,  582880.        , 1113470.        ]],\n",
      "\n",
      "       [[1472182.71408549,  577993.08644009, 1112354.27575333],\n",
      "        [1466290.        ,  578910.        , 1113230.        ]]]),\n",
      "    'spine_density':0.0002619131586858532,\n",
      "    'spine_density_eligible':0.00039572119224004135,\n",
      "    'spine_volume_density':23738.15400309535,\n",
      "    'spine_volume_density_eligible':35865.668799595085,\n",
      "    'spine_volume_median':63435972.82498169,\n",
      "    'spine_volume_per_branch_eligible':1106829513.6156476,\n",
      "    'spines_per_branch':7.327272727272727,\n",
      "    'spines_per_branch_eligible':12.212,\n",
      "    'total_spine_volume':36525373949.31637,\n",
      "    'width_90_perc':446.736,\n",
      "    'width_median':180.8,\n",
      "    'width_no_spine_90_perc':438.421,\n",
      "    'width_no_spine_median':180.8,\n",
      "  },\n",
      "}\n",
      "\n"
     ]
    }
   ],
   "source": [
    "print(neuron_obj.pipeline_products)"
   ]
  },
  {
   "cell_type": "markdown",
   "id": "d090f774",
   "metadata": {},
   "source": [
    "# Saving off neuron"
   ]
  },
  {
   "cell_type": "code",
   "execution_count": 93,
   "id": "9486c4e6",
   "metadata": {
    "scrolled": true
   },
   "outputs": [
    {
     "name": "stdout",
     "output_type": "stream",
     "text": [
      "Total time for soma meshes compression = 0.14532923698425293\n",
      "Total time for insignificant_limbs,inside_pieces,non_soma_touching_meshes,not_processed_soma_containing_meshes compression = 0.29314136505126953\n",
      "Total time for limb_meshes compression = 0.6717627048492432\n",
      "    Starting Limb Correspondence Compression\n",
      "Total time for new_limb_correspondence compression = 2.3930892944335938\n",
      "Total time for compression = 3.9447450637817383\n",
      "\n",
      "\n",
      "---Finished outputing neuron at location: /neurd_packages/NEURD/Applications/autoproof_neuron_pipeline/123---\n"
     ]
    }
   ],
   "source": [
    "from neurd import neuron_utils as nru\n",
    "\n",
    "filepath = nru.save_compressed_neuron(\n",
    "    neuron_obj,\n",
    "    output_folder = \"./\",\n",
    "    file_name = f\"{segment_id}\",\n",
    "    return_file_path = True,\n",
    ")"
   ]
  },
  {
   "cell_type": "markdown",
   "id": "aa2fc99c",
   "metadata": {},
   "source": [
    "# Reloading the Neuron"
   ]
  },
  {
   "cell_type": "code",
   "execution_count": 95,
   "id": "e6ce238a",
   "metadata": {},
   "outputs": [
    {
     "name": "stdout",
     "output_type": "stream",
     "text": [
      "Decompressing Neuron in minimal output mode...please wait\n"
     ]
    }
   ],
   "source": [
    "neuron_obj_rec = nru.decompress_neuron(\n",
    "    filepath = f\"./{segment_id}\",\n",
    "    original_mesh = mesh_decimated,\n",
    "    #pipeline_products = pipeline_products,\n",
    ")"
   ]
  },
  {
   "cell_type": "code",
   "execution_count": 96,
   "id": "84734850",
   "metadata": {},
   "outputs": [
    {
     "name": "stdout",
     "output_type": "stream",
     "text": [
      "{\n",
      "  'decimation':\n",
      "  {\n",
      "    'decimation_parameters':\n",
      "    {\n",
      "      'decimation_ratio':0.25,\n",
      "    },\n",
      "  },\n",
      "  'soma_identification':\n",
      "  {\n",
      "    'glia_meshes':[],\n",
      "    'nuclei_meshes':[<trimesh.Trimesh(vertices.shape=(6494, 3), faces.shape=(15575, 3))>, <trimesh.Trimesh(vertices.shape=(3256, 3), faces.shape=(5810, 3))>, <trimesh.Trimesh(vertices.shape=(2064, 3), faces.shape=(4789, 3))>, <trimesh.Trimesh(vertices.shape=(2022, 3), faces.shape=(4628, 3))>, <trimesh.Trimesh(vertices.shape=(1922, 3), faces.shape=(4396, 3))>, <trimesh.Trimesh(vertices.shape=(1089, 3), faces.shape=(2556, 3))>, <trimesh.Trimesh(vertices.shape=(864, 3), faces.shape=(1989, 3))>, <trimesh.Trimesh(vertices.shape=(723, 3), faces.shape=(1611, 3))>, <trimesh.Trimesh(vertices.shape=(693, 3), faces.shape=(1561, 3))>, <trimesh.Trimesh(vertices.shape=(612, 3), faces.shape=(1378, 3))>, <trimesh.Trimesh(vertices.shape=(456, 3), faces.shape=(742, 3))>, <trimesh.Trimesh(vertices.shape=(344, 3), faces.shape=(727, 3))>, <trimesh.Trimesh(vertices.shape=(363, 3), faces.shape=(876, 3))>, <trimesh.Trimesh(vertices.shape=(301, 3), faces.shape=(613, 3))>, <trimesh.Trimesh(vertices.shape=(253, 3), faces.shape=(632, 3))>, <trimesh.Trimesh(vertices.shape=(199, 3), faces.shape=(446, 3))>, <trimesh.Trimesh(vertices.shape=(176, 3), faces.shape=(418, 3))>, <trimesh.Trimesh(vertices.shape=(145, 3), faces.shape=(317, 3))>],\n",
      "    'soma_extraction_parameters':\n",
      "    {\n",
      "    },\n",
      "    'soma_meshes':[<trimesh.Trimesh(vertices.shape=(11386, 3), faces.shape=(22560, 3))>, <trimesh.Trimesh(vertices.shape=(5708, 3), faces.shape=(10517, 3))>],\n",
      "    'soma_run_time':77.18858623504639,\n",
      "    'soma_sdfs':array([0.769893 , 0.3351845]),\n",
      "  },\n",
      "  'decomposition':\n",
      "  {\n",
      "    'bbox_volume':1.9839991688924103,\n",
      "    'bbox_x_max':1564397.9821680577,\n",
      "    'bbox_x_max_soma_relative':75517.22158488538,\n",
      "    'bbox_x_min':1430458.6668303611,\n",
      "    'bbox_x_min_soma_relative':-58422.0937528112,\n",
      "    'bbox_y_max':659939.5309021459,\n",
      "    'bbox_y_max_soma_relative':70639.43716421863,\n",
      "    'bbox_y_min':502584.2072704911,\n",
      "    'bbox_y_min_soma_relative':-86715.88646743615,\n",
      "    'bbox_z_max':1114310.0,\n",
      "    'bbox_z_max_soma_relative':13657.686544879572,\n",
      "    'bbox_z_min':1020174.8170965186,\n",
      "    'bbox_z_min_soma_relative':-80477.49635860184,\n",
      "    'branch_length_mean':30.23828681959675,\n",
      "    'branch_length_median':17.78327317389583,\n",
      "    'centroid_volume':440.7405976697012,\n",
      "    'centroid_x':372220,\n",
      "    'centroid_x_nm':1488880.7605831723,\n",
      "    'centroid_y':147325,\n",
      "    'centroid_y_nm':589300.0937379273,\n",
      "    'centroid_z':27516,\n",
      "    'centroid_z_nm':1100652.3134551204,\n",
      "    'max_limb_n_branches':27,\n",
      "    'max_limb_skeletal_length':604558.5039643556,\n",
      "    'max_soma_area':341.07163148783616,\n",
      "    'median_branch_length':15905.11,\n",
      "    'n_branches':55,\n",
      "    'n_error_limbs':1,\n",
      "    'n_faces':323535,\n",
      "    'n_limbs':8,\n",
      "    'n_long_branches':3,\n",
      "    'n_medium_branches':41,\n",
      "    'n_multi_soma_touching_limbs':1,\n",
      "    'n_not_processed_soma_containing_meshes':0,\n",
      "    'n_same_soma_multi_touching_limbs':0,\n",
      "    'n_short_branches':9,\n",
      "    'n_somas':2,\n",
      "    'n_spine_eligible_branches':33,\n",
      "    'n_spines':403,\n",
      "    'n_vertices':154713,\n",
      "    'skeletal_length':1538677.9420402118,\n",
      "    'skeletal_length_eligible':1018393.778,\n",
      "    'skeleton':array([[[1469972.26898917,  644331.51215205, 1105781.49225862],\n",
      "        [1469922.99793769,  644306.57306289, 1105698.12317519]],\n",
      "\n",
      "       [[1469922.99793769,  644306.57306289, 1105698.12317519],\n",
      "        [1469873.03503235,  644278.96793629, 1105616.01554459]],\n",
      "\n",
      "       [[1469873.03503235,  644278.96793629, 1105616.01554459],\n",
      "        [1469822.34841942,  644249.02047451, 1105535.18233182]],\n",
      "\n",
      "       ...,\n",
      "\n",
      "       [[1472182.71408549,  577993.08644009, 1112354.27575333],\n",
      "        [1475123.88888889,  571587.50555556, 1113243.55555556]],\n",
      "\n",
      "       [[1472182.71408549,  577993.08644009, 1112354.27575333],\n",
      "        [1474890.        ,  582880.        , 1113470.        ]],\n",
      "\n",
      "       [[1472182.71408549,  577993.08644009, 1112354.27575333],\n",
      "        [1466290.        ,  578910.        , 1113230.        ]]]),\n",
      "    'spine_density':0.0002619131586858532,\n",
      "    'spine_density_eligible':0.00039572119224004135,\n",
      "    'spine_volume_density':23738.15400309535,\n",
      "    'spine_volume_density_eligible':35865.668799595085,\n",
      "    'spine_volume_median':63435972.82498169,\n",
      "    'spine_volume_per_branch_eligible':1106829513.6156476,\n",
      "    'spines_per_branch':7.327272727272727,\n",
      "    'spines_per_branch_eligible':12.212,\n",
      "    'total_spine_volume':36525373949.31637,\n",
      "    'width_90_perc':446.736,\n",
      "    'width_median':180.8,\n",
      "    'width_no_spine_90_perc':438.421,\n",
      "    'width_no_spine_median':180.8,\n",
      "  },\n",
      "}\n",
      "\n"
     ]
    }
   ],
   "source": [
    "print(neuron_obj_rec.pipeline_products)"
   ]
  },
  {
   "cell_type": "markdown",
   "id": "06b5f069",
   "metadata": {},
   "source": [
    "# Step 4A: Multi Soma Split Suggestions"
   ]
  },
  {
   "cell_type": "code",
   "execution_count": 115,
   "id": "0729b033",
   "metadata": {},
   "outputs": [
    {
     "data": {
      "image/png": "[encoded data removed]",
      "text/plain": [
       "<Figure size 640x480 with 1 Axes>"
      ]
     },
     "metadata": {},
     "output_type": "display_data"
    }
   ],
   "source": [
    "from neurd import neuron_visualizations as nviz\n",
    "nviz.plot_soma_limb_concept_network(\n",
    "    neuron_obj\n",
    ")"
   ]
  },
  {
   "cell_type": "code",
   "execution_count": 118,
   "id": "3ea8a7ec",
   "metadata": {},
   "outputs": [],
   "source": [
    "multi_soma_split_parameters = dict()"
   ]
  },
  {
   "cell_type": "code",
   "execution_count": 133,
   "id": "c9e7138e",
   "metadata": {},
   "outputs": [],
   "source": [
    "from neurd.vdi_microns import volume_data_interface as vdi\n",
    "vdi.set_parameters_for_directory_modules()"
   ]
  },
  {
   "cell_type": "code",
   "execution_count": 136,
   "id": "6b654969",
   "metadata": {},
   "outputs": [
    {
     "name": "stdout",
     "output_type": "stream",
     "text": [
      "n_paths_multi_soma = 1\n",
      "n_paths_multi_touch = 0\n",
      "n_paths_cut = 1\n",
      "\n",
      "\n",
      "-------- Suggestions for Limb 4------\n"
     ]
    },
    {
     "data": {
      "application/vnd.jupyter.widget-view+json": {
       "model_id": "9edcefd8ab1b442d854509d5575573bb",
       "version_major": 2,
       "version_minor": 0
      },
      "text/plain": [
       "HBox(children=(FloatSlider(value=1.0, description='Size', max=3.0), Dropdown(description='Geo', index=3, optio…"
      ]
     },
     "metadata": {},
     "output_type": "display_data"
    },
    {
     "data": {
      "application/vnd.jupyter.widget-view+json": {
       "model_id": "5e1fa43beafe41ba9c44a698d442ff70",
       "version_major": 2,
       "version_minor": 0
      },
      "text/plain": [
       "HBox(children=(FloatSlider(value=0.3, description='Size', max=3.0), Dropdown(description='Geo', index=3, optio…"
      ]
     },
     "metadata": {},
     "output_type": "display_data"
    },
    {
     "data": {
      "application/vnd.jupyter.widget-view+json": {
       "model_id": "c8a53848609c47279a158f06493556e3",
       "version_major": 2,
       "version_minor": 0
      },
      "text/plain": [
       "HBox(children=(FloatSlider(value=0.3, description='Size', max=3.0), Dropdown(description='Geo', index=3, optio…"
      ]
     },
     "metadata": {},
     "output_type": "display_data"
    },
    {
     "data": {
      "application/vnd.jupyter.widget-view+json": {
       "model_id": "664defdfd93e4463a9bf1815054fe638",
       "version_major": 2,
       "version_minor": 0
      },
      "text/plain": [
       "Container(figure=Figure(box_center=[0.5, 0.5, 0.5], box_size=[1.0, 1.0, 1.0], camera=PerspectiveCamera(fov=45.…"
      ]
     },
     "metadata": {},
     "output_type": "display_data"
    }
   ],
   "source": [
    "_ = neuron_obj.calculate_multi_soma_split_suggestions(\n",
    "    plot = True,\n",
    "    store_in_obj = True,\n",
    "    **multi_soma_split_parameters\n",
    ")\n"
   ]
  },
  {
   "cell_type": "markdown",
   "id": "2206b4cc",
   "metadata": {},
   "source": [
    "# Step 4B: Multi Soma Split Execution"
   ]
  },
  {
   "cell_type": "code",
   "execution_count": 144,
   "id": "cc8bc52a",
   "metadata": {},
   "outputs": [],
   "source": [
    "neuron_list = ssu.multi_soma_split_execution(\n",
    "    neuron_obj,\n",
    ")"
   ]
  },
  {
   "cell_type": "code",
   "execution_count": 145,
   "id": "1239884b",
   "metadata": {},
   "outputs": [
    {
     "name": "stdout",
     "output_type": "stream",
     "text": [
      "{\n",
      "  'decimation':\n",
      "  {\n",
      "    'decimation_parameters':\n",
      "    {\n",
      "      'decimation_ratio':0.25,\n",
      "    },\n",
      "  },\n",
      "  'soma_identification':\n",
      "  {\n",
      "    'glia_meshes':[],\n",
      "    'nuclei_meshes':[<trimesh.Trimesh(vertices.shape=(6494, 3), faces.shape=(15575, 3))>, <trimesh.Trimesh(vertices.shape=(3256, 3), faces.shape=(5810, 3))>, <trimesh.Trimesh(vertices.shape=(2064, 3), faces.shape=(4789, 3))>, <trimesh.Trimesh(vertices.shape=(2022, 3), faces.shape=(4628, 3))>, <trimesh.Trimesh(vertices.shape=(1922, 3), faces.shape=(4396, 3))>, <trimesh.Trimesh(vertices.shape=(1089, 3), faces.shape=(2556, 3))>, <trimesh.Trimesh(vertices.shape=(864, 3), faces.shape=(1989, 3))>, <trimesh.Trimesh(vertices.shape=(723, 3), faces.shape=(1611, 3))>, <trimesh.Trimesh(vertices.shape=(693, 3), faces.shape=(1561, 3))>, <trimesh.Trimesh(vertices.shape=(612, 3), faces.shape=(1378, 3))>, <trimesh.Trimesh(vertices.shape=(456, 3), faces.shape=(742, 3))>, <trimesh.Trimesh(vertices.shape=(344, 3), faces.shape=(727, 3))>, <trimesh.Trimesh(vertices.shape=(363, 3), faces.shape=(876, 3))>, <trimesh.Trimesh(vertices.shape=(301, 3), faces.shape=(613, 3))>, <trimesh.Trimesh(vertices.shape=(253, 3), faces.shape=(632, 3))>, <trimesh.Trimesh(vertices.shape=(199, 3), faces.shape=(446, 3))>, <trimesh.Trimesh(vertices.shape=(176, 3), faces.shape=(418, 3))>, <trimesh.Trimesh(vertices.shape=(145, 3), faces.shape=(317, 3))>],\n",
      "    'soma_extraction_parameters':\n",
      "    {\n",
      "    },\n",
      "    'soma_meshes':[<trimesh.Trimesh(vertices.shape=(11386, 3), faces.shape=(22560, 3))>, <trimesh.Trimesh(vertices.shape=(5708, 3), faces.shape=(10517, 3))>],\n",
      "    'soma_run_time':77.18858623504639,\n",
      "    'soma_sdfs':array([0.769893 , 0.3351845]),\n",
      "  },\n",
      "  'decomposition':\n",
      "  {\n",
      "    'bbox_volume':1.9839991688924103,\n",
      "    'bbox_x_max':1564397.9821680577,\n",
      "    'bbox_x_max_soma_relative':75517.22158488538,\n",
      "    'bbox_x_min':1430458.6668303611,\n",
      "    'bbox_x_min_soma_relative':-58422.0937528112,\n",
      "    'bbox_y_max':659939.5309021459,\n",
      "    'bbox_y_max_soma_relative':70639.43716421863,\n",
      "    'bbox_y_min':502584.2072704911,\n",
      "    'bbox_y_min_soma_relative':-86715.88646743615,\n",
      "    'bbox_z_max':1114310.0,\n",
      "    'bbox_z_max_soma_relative':13657.686544879572,\n",
      "    'bbox_z_min':1020174.8170965186,\n",
      "    'bbox_z_min_soma_relative':-80477.49635860184,\n",
      "    'branch_length_mean':30.23828681959675,\n",
      "    'branch_length_median':17.78327317389583,\n",
      "    'centroid_volume':440.7405976697012,\n",
      "    'centroid_x':372220,\n",
      "    'centroid_x_nm':1488880.7605831723,\n",
      "    'centroid_y':147325,\n",
      "    'centroid_y_nm':589300.0937379273,\n",
      "    'centroid_z':27516,\n",
      "    'centroid_z_nm':1100652.3134551204,\n",
      "    'max_limb_n_branches':27,\n",
      "    'max_limb_skeletal_length':604558.5039643556,\n",
      "    'max_soma_area':341.07163148783616,\n",
      "    'median_branch_length':15905.11,\n",
      "    'n_branches':55,\n",
      "    'n_error_limbs':1,\n",
      "    'n_faces':323535,\n",
      "    'n_limbs':8,\n",
      "    'n_long_branches':3,\n",
      "    'n_medium_branches':41,\n",
      "    'n_multi_soma_touching_limbs':1,\n",
      "    'n_not_processed_soma_containing_meshes':0,\n",
      "    'n_same_soma_multi_touching_limbs':0,\n",
      "    'n_short_branches':9,\n",
      "    'n_somas':2,\n",
      "    'n_spine_eligible_branches':33,\n",
      "    'n_spines':403,\n",
      "    'n_vertices':154713,\n",
      "    'skeletal_length':1538677.9420402118,\n",
      "    'skeletal_length_eligible':1018393.778,\n",
      "    'skeleton':array([[[1469972.26898917,  644331.51215205, 1105781.49225862],\n",
      "        [1469922.99793769,  644306.57306289, 1105698.12317519]],\n",
      "\n",
      "       [[1469922.99793769,  644306.57306289, 1105698.12317519],\n",
      "        [1469873.03503235,  644278.96793629, 1105616.01554459]],\n",
      "\n",
      "       [[1469873.03503235,  644278.96793629, 1105616.01554459],\n",
      "        [1469822.34841942,  644249.02047451, 1105535.18233182]],\n",
      "\n",
      "       ...,\n",
      "\n",
      "       [[1472182.71408549,  577993.08644009, 1112354.27575333],\n",
      "        [1475123.88888889,  571587.50555556, 1113243.55555556]],\n",
      "\n",
      "       [[1472182.71408549,  577993.08644009, 1112354.27575333],\n",
      "        [1474890.        ,  582880.        , 1113470.        ]],\n",
      "\n",
      "       [[1472182.71408549,  577993.08644009, 1112354.27575333],\n",
      "        [1466290.        ,  578910.        , 1113230.        ]]]),\n",
      "    'spine_density':0.0002619131586858532,\n",
      "    'spine_density_eligible':0.00039572119224004135,\n",
      "    'spine_volume_density':23738.15400309535,\n",
      "    'spine_volume_density_eligible':35865.668799595085,\n",
      "    'spine_volume_median':63435972.82498169,\n",
      "    'spine_volume_per_branch_eligible':1106829513.6156476,\n",
      "    'spines_per_branch':7.327272727272727,\n",
      "    'spines_per_branch_eligible':12.212,\n",
      "    'total_spine_volume':36525373949.31637,\n",
      "    'width_90_perc':446.736,\n",
      "    'width_median':180.8,\n",
      "    'width_no_spine_90_perc':438.421,\n",
      "    'width_no_spine_median':180.8,\n",
      "  },\n",
      "  'multi_soma_split_suggestions':\n",
      "  {\n",
      "    'n_paths_cut':1,\n",
      "    'red_blue_split_results':\n",
      "    {\n",
      "      4:[{'S0_0': {0: [{'error_branches': array([1., 2., 4., 5., 6.]), 'error_branches_skeleton_length': 71958.04227801345, 'valid_branches': array([0]), 'parent_branch': 0, 'parent_branch_width': 426.75089109979007, 'parent_branch_axon': False, 'n_error_branches': 5, 'valid_points': array([[1491700.66666667,  587848.86666667, 1110594.33333333],\n",
      "       [1489989.33333333,  587939.06666667, 1113021.66666667]]), 'error_points': array([[1493777.66666667,  586438.33333333, 1108433.66666667],\n",
      "       [1492741.        ,  586506.23333333, 1107844.        ],\n",
      "       [1492624.        ,  587993.        , 1106840.        ],\n",
      "       [1494101.66666667,  586228.96666667, 1111083.        ],\n",
      "       [1493297.33333333,  585849.46666667, 1112854.        ],\n",
      "       [1492015.        ,  585417.        , 1114260.        ],\n",
      "       [1495465.33333333,  587016.3       , 1109645.66666667],\n",
      "       [1496905.        ,  586996.53333333, 1109881.33333333],\n",
      "       [1498234.        ,  586921.2       , 1110382.33333333]]), 'coordinate': array([[1494250.,  586828., 1109340.]]), 'error_branches_skeleton_points': array([[1491900.        ,  585533.        , 1114140.        ],\n",
      "       [1492740.        ,  587136.        , 1106690.        ],\n",
      "       [1492880.19480036,  585845.86079088, 1113049.81252272],\n",
      "       [1493396.00546465,  587119.76758273, 1108026.13005798],\n",
      "       [1493865.01940617,  585987.81082449, 1111933.53356229],\n",
      "       [1494199.66218155,  586845.19793629, 1109262.55530466],\n",
      "       [1494250.        ,  586828.        , 1109340.        ],\n",
      "       [1494348.7487827 ,  586335.97945683, 1110605.53702827],\n",
      "       [1495668.46503317,  586636.46792551, 1109788.63394223],\n",
      "       [1497112.77964205,  586758.62932292, 1110093.54324394],\n",
      "       [1498130.        ,  587103.        , 1110130.        ],\n",
      "       [1498948.17597459,  588329.76074792, 1110350.21996824],\n",
      "       [1499185.14203303,  586261.13877217, 1109553.40691037],\n",
      "       [1499250.        ,  593111.        , 1114310.        ],\n",
      "       [1499294.60941621,  589430.92602648, 1111277.65649729],\n",
      "       [1499709.9416989 ,  592362.67674222, 1113776.30101346],\n",
      "       [1499775.29081009,  590437.76515038, 1112200.17106476],\n",
      "       [1500451.67225825,  591493.27070764, 1112833.27741754],\n",
      "       [1500507.62288178,  585826.98480612, 1109031.18855911],\n",
      "       [1501675.5915711 ,  585136.98231964, 1108401.09474041],\n",
      "       [1502885.51421784,  584594.72575049, 1107706.6914693 ],\n",
      "       [1504050.3320273 ,  583797.40503191, 1107213.62548976],\n",
      "       [1505145.57479557,  582898.75622896, 1106736.65512266],\n",
      "       [1506037.92910366,  581906.48507561, 1106062.07089634],\n",
      "       [1506972.59873168,  580868.2035823 , 1105539.4916009 ],\n",
      "       [1507821.26725092,  579733.19335148, 1105244.12672509],\n",
      "       [1508845.24993801,  578641.27505579, 1105265.5249938 ],\n",
      "       [1509945.51241455,  577652.12041937, 1105499.59203769],\n",
      "       [1510978.88859091,  576657.14845606, 1105151.11140909],\n",
      "       [1511865.46657746,  575557.6223263 , 1104901.82219249],\n",
      "       [1512756.17640289,  574420.74380677, 1105293.73948613],\n",
      "       [1513605.11770491,  573195.55468349, 1105243.04070618],\n",
      "       [1514714.50241293,  572226.34727684, 1105244.00137882],\n",
      "       [1515554.50316959,  571168.15243263, 1105869.80126784],\n",
      "       [1516553.55028917,  570366.52663887, 1105950.82840619],\n",
      "       [1517324.35623336,  569211.62397589, 1106086.23748891],\n",
      "       [1518138.68998629,  568199.60253771, 1106758.68998629],\n",
      "       [1518635.00733718,  567011.56486809, 1107221.6788953 ],\n",
      "       [1519484.94014533,  566319.2495822 , 1108168.5982743 ],\n",
      "       [1520000.        ,  557570.        , 1113960.        ],\n",
      "       [1520530.10532367,  565438.95010847, 1108737.36141965],\n",
      "       [1520860.27008144,  557742.42160652, 1113930.        ],\n",
      "       [1521720.84138906,  564633.6844791 , 1109020.50483343],\n",
      "       [1522316.63523438,  557955.96255327, 1113708.78502131],\n",
      "       [1522792.58917409,  563818.50692246, 1109536.01552733],\n",
      "       [1523377.39424801,  562567.56006598, 1110058.697124  ],\n",
      "       [1523709.55049855,  558294.93481291, 1113404.87643401],\n",
      "       [1524375.91435694,  561537.80806081, 1110327.65239282],\n",
      "       [1524937.80079869,  559016.81324877, 1113184.14940099],\n",
      "       [1525312.29484656,  559808.55801736, 1112176.88453968],\n",
      "       [1525382.38377528,  560733.07155505, 1111017.15132585]]), 'error_pre_ids': array([], dtype=float64), 'error_pre_coordinates': array([], dtype=float64), 'error_post_ids': array([], dtype=float64), 'error_post_coordinates': array([], dtype=float64), 'valid_pre_ids': array([], dtype=float64), 'valid_pre_coordinates': array([], dtype=float64), 'valid_post_ids': array([], dtype=float64), 'valid_post_coordinates': array([], dtype=float64)}]}, 'S1_0': {0: [{'error_branches': array([0.]), 'error_branches_skeleton_length': 26643.125049682614, 'valid_branches': array([1, 2, 4]), 'parent_branch': 2, 'parent_branch_width': 980.9831322974292, 'parent_branch_axon': False, 'n_error_branches': 1, 'valid_points': array([[1493554.33333333,  586398.03333333, 1108003.66666667],\n",
      "       [1492624.        ,  587993.        , 1106840.        ],\n",
      "       [1493679.        ,  586004.63333333, 1111911.33333333],\n",
      "       [1492015.        ,  585417.        , 1114260.        ],\n",
      "       [1496104.33333333,  587001.6       , 1110053.33333333],\n",
      "       [1498234.        ,  586921.2       , 1110382.33333333]]), 'error_points': array([[1491700.66666667,  587848.86666667, 1110594.33333333],\n",
      "       [1490074.66666667,  587802.26666667, 1112945.33333333],\n",
      "       [1487518.33333333,  587405.73333333, 1113527.66666667]]), 'coordinate': array([[1494250.,  586828., 1109340.]]), 'error_branches_skeleton_points': array([[1474890.        ,  582880.        , 1113470.        ],\n",
      "       [1476287.72850119,  583269.08552136, 1113129.55020972],\n",
      "       [1477678.53290764,  583431.60850268, 1112598.58193428],\n",
      "       [1478910.8970712 ,  584157.23396214, 1112330.95241156],\n",
      "       [1479932.49480468,  585162.92898172, 1112353.00207813],\n",
      "       [1481290.78303548,  585496.13814857, 1112000.80261916],\n",
      "       [1482709.4781253 ,  585166.03786122, 1111708.54017884],\n",
      "       [1484111.42850039,  585480.70909207, 1112050.        ],\n",
      "       [1485444.82654078,  585569.18145573, 1111465.7734724 ],\n",
      "       [1486767.14092699,  585833.97146111, 1111008.19098584],\n",
      "       [1486770.6671716 ,  586954.02566062, 1113020.74213075],\n",
      "       [1487247.50381537,  586265.99777203, 1111971.0768118 ],\n",
      "       [1487644.18753156,  587873.72273574, 1113770.930936  ],\n",
      "       [1488924.21609433,  587825.26823754, 1113357.29078504],\n",
      "       [1490164.22310991,  587922.09188005, 1112541.91402047],\n",
      "       [1491252.00477927,  588088.78487023, 1111527.99522073],\n",
      "       [1492181.86835586,  587845.69606561, 1110409.23763256],\n",
      "       [1493247.42768688,  587312.47138605, 1109598.59449392],\n",
      "       [1494250.        ,  586828.        , 1109340.        ]]), 'error_pre_ids': array([], dtype=float64), 'error_pre_coordinates': array([], dtype=float64), 'error_post_ids': array([], dtype=float64), 'error_post_coordinates': array([], dtype=float64), 'valid_pre_ids': array([], dtype=float64), 'valid_pre_coordinates': array([], dtype=float64), 'valid_post_ids': array([], dtype=float64), 'valid_post_coordinates': array([], dtype=float64)}]}}],\n",
      "    },\n",
      "    'split_results':\n",
      "    {\n",
      "      4:[{'starting_node_1': 2, 'starting_node_2': 0, 'title': 'S0_0 from S1_0 ', 'edges_to_delete': [[2, 0]], 'edges_to_create': [], 'removed_branches': [3], 'coordinate_suggestions': [array([1494250.,  586828., 1109340.])], 'successful_disconnection': True, 'paths_not_cut': [], 'paths_cut': [array([[1474890.        ,  582880.        , 1113470.        ],\n",
      "       [1476739.50510325,  583340.02792223, 1112932.04313489],\n",
      "       [1478555.14795485,  583811.55208884, 1112358.97040903],\n",
      "       [1479926.73580304,  585161.8002174 , 1112355.30567878],\n",
      "       [1481760.57866151,  585463.01460568, 1111902.17415504],\n",
      "       [1483615.37840635,  585304.82286055, 1111961.04669322],\n",
      "       [1485413.33570021,  585571.66642998, 1111489.74176907],\n",
      "       [1486767.4067816 ,  586504.76609963, 1112723.45762454],\n",
      "       [1487145.5260727 ,  586063.26299436, 1111114.73675371],\n",
      "       [1487602.93548552,  587823.5689324 , 1113751.39049314],\n",
      "       [1489304.79016051,  587801.84032798, 1113166.80655966],\n",
      "       [1490844.67152246,  588061.28154201, 1111931.37644343],\n",
      "       [1492175.56689177,  587913.31620125, 1110462.57747764],\n",
      "       [1492740.        ,  587136.        , 1106690.        ],\n",
      "       [1493270.28119883,  587279.86994554, 1108939.57820176],\n",
      "       [1493375.58125449,  587235.23724874, 1108562.32501795],\n",
      "       [1493430.        ,  587212.        , 1108750.        ]])], 'split_reasons': {'default_edge_last': [array([1494250.,  586828., 1109340.])]}}],\n",
      "    },\n",
      "  },\n",
      "  'multi_soma_split_execution':\n",
      "  {\n",
      "    'multi_soma_errored_limbs_area':[],\n",
      "    'multi_soma_errored_limbs_skeletal_length':[],\n",
      "    'multi_soma_n_multi_soma_errors':0,\n",
      "    'multi_soma_n_same_soma_errors':0,\n",
      "  },\n",
      "}\n",
      "\n"
     ]
    }
   ],
   "source": [
    "nobj_1 = neuron_list[0]\n",
    "print(nobj_1.pipeline_products)"
   ]
  },
  {
   "cell_type": "markdown",
   "id": "a2dcd901",
   "metadata": {},
   "source": [
    "# Step 5: Cell Typing"
   ]
  },
  {
   "cell_type": "code",
   "execution_count": 146,
   "id": "177781b9",
   "metadata": {},
   "outputs": [],
   "source": [
    "n1 = neuron_list[0]\n",
    "mesh_decimated"
   ]
  },
  {
   "cell_type": "code",
   "execution_count": 148,
   "id": "2007a13c",
   "metadata": {},
   "outputs": [
    {
     "name": "stdout",
     "output_type": "stream",
     "text": [
      "\n",
      " Working on visualization type: mesh\n",
      "\n",
      " Working on visualization type: skeleton\n"
     ]
    },
    {
     "data": {
      "application/vnd.jupyter.widget-view+json": {
       "model_id": "b50d54b0c1e7454c940e577ec061f74f",
       "version_major": 2,
       "version_minor": 0
      },
      "text/plain": [
       "Container(figure=Figure(box_center=[0.5, 0.5, 0.5], box_size=[1.0, 1.0, 1.0], camera=PerspectiveCamera(fov=45.…"
      ]
     },
     "metadata": {},
     "output_type": "display_data"
    }
   ],
   "source": [
    "nviz.visualize_neuron(\n",
    "    n1,\n",
    "    limb_branch_dict=\"all\"\n",
    ")"
   ]
  },
  {
   "cell_type": "code",
   "execution_count": 169,
   "id": "2f405d2f",
   "metadata": {},
   "outputs": [],
   "source": [
    "synapse_filepath = '/neurd_packages/NEURD/Applications/autoproof_neuron_pipeline/864691135510518224_synapses.csv'\n",
    "\n",
    "vdi.set_synapse_filepath(\n",
    "    synapse_filepath\n",
    ")"
   ]
  },
  {
   "cell_type": "code",
   "execution_count": 248,
   "id": "b17ecdd9",
   "metadata": {},
   "outputs": [
    {
     "name": "stdout",
     "output_type": "stream",
     "text": [
      "\n",
      "Number of segments: 2\n",
      "\n",
      "\n",
      "Number of segments: 2\n",
      "\n",
      "\n",
      "Number of segments: 2\n",
      "\n",
      "\n",
      "Number of segments: 2\n",
      "\n",
      "\n",
      "Number of segments: 2\n",
      "\n",
      "\n",
      "Number of segments: 4\n",
      "\n",
      "\n",
      "Number of segments: 3\n",
      "\n",
      "\n",
      "Number of segments: 3\n",
      "\n",
      "\n",
      "Number of segments: 3\n",
      "\n",
      "\n",
      "Number of segments: 1\n",
      "\n",
      "\n",
      "Number of segments: 4\n",
      "\n",
      "\n",
      "Number of segments: 4\n",
      "\n",
      "\n",
      "Number of segments: 3\n",
      "\n",
      "\n",
      "Number of segments: 2\n",
      "\n",
      "\n",
      "Number of segments: 5\n",
      "\n",
      "\n",
      "Number of segments: 1\n",
      "\n",
      "\n",
      "Number of segments: 1\n",
      "\n",
      "\n",
      "Number of segments: 1\n",
      "\n",
      "\n",
      "Number of segments: 1\n",
      "\n",
      "\n",
      "Number of segments: 2\n",
      "\n",
      "\n",
      "Number of segments: 2\n",
      "\n",
      "\n",
      "Number of segments: 2\n",
      "\n",
      "\n",
      "Number of segments: 2\n",
      "\n",
      "\n",
      "Number of segments: 2\n",
      "\n",
      "\n",
      "Number of segments: 2\n",
      "\n",
      "\n",
      "Number of segments: 2\n",
      "\n",
      "\n",
      "Number of segments: 2\n",
      "\n",
      "\n",
      "Number of segments: 3\n",
      "\n",
      "\n",
      "Number of segments: 3\n",
      "\n",
      "\n",
      "Number of segments: 3\n",
      "\n",
      "\n",
      "Number of segments: 1\n",
      "\n",
      "\n",
      "Number of segments: 1\n",
      "\n",
      "\n",
      "Number of segments: 1\n",
      "\n",
      "\n",
      "Number of segments: 2\n",
      "\n",
      "\n",
      "Number of segments: 2\n",
      "\n",
      "\n",
      "Number of segments: 2\n",
      "\n",
      "\n",
      "Number of segments: 2\n",
      "\n",
      "\n",
      "Number of segments: 2\n",
      "\n",
      "\n",
      "Number of segments: 2\n",
      "\n",
      "\n",
      "Number of segments: 2\n",
      "\n",
      "\n",
      "Number of segments: 2\n",
      "\n",
      "\n",
      "Number of segments: 2\n",
      "\n",
      "\n",
      "Number of segments: 1\n",
      "\n",
      "\n",
      "Number of segments: 1\n",
      "\n",
      "\n",
      "Number of segments: 1\n",
      "\n",
      "\n",
      "Number of segments: 2\n",
      "\n",
      "\n",
      "Number of segments: 2\n",
      "\n",
      "\n",
      "Number of segments: 2\n",
      "\n",
      "\n",
      "Number of segments: 2\n",
      "\n",
      "\n",
      "Number of segments: 2\n",
      "\n",
      "\n",
      "Number of segments: 2\n",
      "\n",
      "\n",
      "Number of segments: 2\n",
      "\n",
      "\n",
      "Number of segments: 2\n",
      "\n",
      "\n",
      "Number of segments: 2\n",
      "\n",
      "\n",
      "Number of segments: 2\n",
      "\n",
      "\n",
      "Number of segments: 2\n",
      "\n",
      "\n",
      "Number of segments: 2\n",
      "\n",
      "\n",
      "Number of segments: 2\n",
      "\n",
      "\n",
      "Number of segments: 2\n",
      "\n",
      "\n",
      "Number of segments: 2\n",
      "\n",
      "\n",
      "Number of segments: 2\n",
      "\n",
      "\n",
      "Number of segments: 2\n",
      "\n",
      "\n",
      "Number of segments: 2\n",
      "\n",
      "\n",
      "Number of segments: 1\n",
      "\n",
      "\n",
      "Number of segments: 1\n",
      "\n",
      "\n",
      "Number of segments: 1\n",
      "\n",
      "\n",
      "Number of segments: 2\n",
      "\n",
      "\n",
      "Number of segments: 2\n",
      "\n",
      "\n",
      "Number of segments: 2\n",
      "\n",
      "\n",
      "Number of segments: 2\n",
      "\n",
      "\n",
      "Number of segments: 2\n",
      "\n",
      "\n",
      "Number of segments: 2\n",
      "\n",
      "\n",
      "Number of segments: 2\n",
      "\n",
      "\n",
      "Number of segments: 2\n",
      "\n",
      "\n",
      "Number of segments: 2\n",
      "\n",
      "\n",
      "Number of segments: 1\n",
      "\n",
      "\n",
      "Number of segments: 1\n",
      "\n",
      "\n",
      "Number of segments: 1\n",
      "\n",
      "\n",
      "Number of segments: 2\n",
      "\n",
      "\n",
      "Number of segments: 2\n",
      "\n",
      "\n",
      "Number of segments: 2\n",
      "\n",
      "\n",
      "Number of segments: 2\n",
      "\n",
      "\n",
      "Number of segments: 3\n",
      "\n",
      "\n",
      "Number of segments: 3\n",
      "\n",
      "\n",
      "Number of segments: 1\n",
      "\n",
      "\n",
      "Number of segments: 2\n",
      "\n",
      "\n",
      "Number of segments: 2\n",
      "\n",
      "\n",
      "Number of segments: 2\n",
      "\n",
      "\n",
      "Number of segments: 3\n",
      "\n",
      "\n",
      "Number of segments: 2\n",
      "\n",
      "\n",
      "Number of segments: 2\n",
      "\n",
      "\n",
      "Number of segments: 2\n",
      "\n",
      "\n",
      "Number of segments: 2\n",
      "\n",
      "\n",
      "Number of segments: 2\n",
      "\n",
      "\n",
      "Number of segments: 2\n",
      "\n",
      "\n",
      "Number of segments: 3\n",
      "\n",
      "\n",
      "Number of segments: 3\n",
      "\n",
      "\n",
      "Number of segments: 3\n",
      "\n",
      "\n",
      "Number of segments: 3\n",
      "\n",
      "\n",
      "Number of segments: 1\n",
      "\n",
      "\n",
      "Number of segments: 3\n",
      "\n",
      "\n",
      "Number of segments: 4\n",
      "\n",
      "\n",
      "Number of segments: 2\n",
      "\n",
      "\n",
      "Number of segments: 3\n",
      "\n",
      "\n",
      "Number of segments: 3\n",
      "\n",
      "\n",
      "Number of segments: 1\n",
      "\n",
      "\n",
      "Number of segments: 2\n",
      "\n",
      "\n",
      "Number of segments: 2\n",
      "\n",
      "\n",
      "Number of segments: 2\n",
      "\n",
      "\n",
      "Number of segments: 2\n",
      "\n",
      "\n",
      "Number of segments: 2\n",
      "\n",
      "\n",
      "Number of segments: 2\n",
      "\n",
      "\n",
      "Number of segments: 2\n",
      "\n",
      "\n",
      "Number of segments: 2\n",
      "\n",
      "\n",
      "Number of segments: 2\n",
      "\n",
      "\n",
      "Number of segments: 2\n",
      "\n",
      "\n",
      "Number of segments: 2\n",
      "\n",
      "\n",
      "Number of segments: 1\n",
      "\n",
      "\n",
      "Number of segments: 2\n",
      "\n",
      "\n",
      "Number of segments: 2\n",
      "\n",
      "\n",
      "Number of segments: 2\n",
      "\n",
      "\n",
      "Number of segments: 2\n",
      "\n",
      "\n",
      "Number of segments: 1\n",
      "\n",
      "\n",
      "Number of segments: 2\n",
      "\n",
      "\n",
      "Number of segments: 2\n",
      "\n",
      "\n",
      "Number of segments: 2\n",
      "\n",
      "\n",
      "Number of segments: 2\n",
      "\n",
      "\n",
      "Number of segments: 2\n",
      "\n",
      "\n",
      "Number of segments: 2\n",
      "\n",
      "\n",
      "Number of segments: 1\n",
      "\n",
      "\n",
      "Number of segments: 2\n",
      "\n",
      "\n",
      "Number of segments: 3\n",
      "\n",
      "\n",
      "Number of segments: 2\n",
      "\n",
      "\n",
      "Number of segments: 2\n",
      "\n",
      "\n",
      "Number of segments: 2\n",
      "\n",
      "\n",
      "Number of segments: 2\n",
      "\n",
      "\n",
      "Number of segments: 2\n",
      "\n",
      "\n",
      "Number of segments: 3\n",
      "\n",
      "\n",
      "Number of segments: 2\n",
      "\n",
      "\n",
      "Number of segments: 2\n",
      "\n",
      "\n",
      "Number of segments: 2\n",
      "\n",
      "\n",
      "Number of segments: 2\n",
      "\n",
      "\n",
      "Number of segments: 2\n",
      "\n",
      "\n",
      "Number of segments: 1\n",
      "\n",
      "\n",
      "Number of segments: 1\n",
      "\n",
      "\n",
      "Number of segments: 1\n",
      "\n",
      "\n",
      "Number of segments: 1\n",
      "\n",
      "\n",
      "Number of segments: 1\n",
      "\n",
      "\n",
      "Number of segments: 2\n",
      "\n",
      "\n",
      "Number of segments: 1\n",
      "\n",
      "\n",
      "Number of segments: 1\n",
      "\n",
      "\n",
      "Number of segments: 1\n",
      "\n",
      "\n",
      "Number of segments: 1\n",
      "\n",
      "\n",
      "Number of segments: 2\n",
      "\n",
      "\n",
      "Number of segments: 2\n",
      "\n",
      "\n",
      "Number of segments: 2\n",
      "\n",
      "\n",
      "Number of segments: 3\n",
      "\n",
      "\n",
      "Number of segments: 4\n",
      "\n",
      "\n",
      "Number of segments: 4\n",
      "\n",
      "\n",
      "Number of segments: 2\n",
      "\n",
      "\n",
      "Number of segments: 2\n",
      "\n",
      "\n",
      "Number of segments: 2\n",
      "\n",
      "\n",
      "Number of segments: 2\n",
      "\n",
      "\n",
      "Number of segments: 2\n",
      "\n",
      "\n",
      "Number of segments: 2\n",
      "\n",
      "\n",
      "Number of segments: 2\n",
      "\n",
      "\n",
      "Number of segments: 2\n",
      "\n",
      "\n",
      "Number of segments: 2\n",
      "\n",
      "\n",
      "Number of segments: 2\n",
      "\n",
      "\n",
      "Number of segments: 2\n",
      "\n",
      "\n",
      "Number of segments: 2\n",
      "\n",
      "\n",
      "Number of segments: 3\n",
      "\n",
      "\n",
      "Number of segments: 4\n",
      "\n",
      "\n",
      "Number of segments: 6\n",
      "\n",
      "\n",
      "Number of segments: 6\n",
      "\n",
      "\n",
      "Number of segments: 6\n",
      "\n",
      "\n",
      "Number of segments: 7\n",
      "\n",
      "\n",
      "Number of segments: 3\n",
      "\n",
      "\n",
      "Number of segments: 2\n",
      "\n",
      "\n",
      "Number of segments: 4\n",
      "\n",
      "\n",
      "Number of segments: 1\n",
      "\n",
      "\n",
      "Number of segments: 1\n",
      "\n",
      "\n",
      "Number of segments: 2\n",
      "\n",
      "\n",
      "Number of segments: 1\n",
      "\n",
      "\n",
      "Number of segments: 2\n",
      "\n",
      "\n",
      "Number of segments: 3\n",
      "\n",
      "\n",
      "Number of segments: 2\n",
      "\n",
      "\n",
      "Number of segments: 1\n",
      "\n",
      "\n",
      "Number of segments: 2\n",
      "\n",
      "\n",
      "Number of segments: 2\n",
      "\n",
      "\n",
      "Number of segments: 1\n",
      "\n",
      "\n",
      "Number of segments: 2\n",
      "\n",
      "\n",
      "Number of segments: 2\n",
      "\n",
      "\n",
      "Number of segments: 2\n",
      "\n",
      "\n",
      "Number of segments: 2\n",
      "\n",
      "\n",
      "Number of segments: 2\n",
      "\n",
      "\n",
      "Number of segments: 2\n",
      "\n",
      "\n",
      "Number of segments: 2\n",
      "\n",
      "\n",
      "Number of segments: 2\n",
      "\n",
      "\n",
      "Number of segments: 2\n",
      "\n",
      "\n",
      "Number of segments: 2\n",
      "\n",
      "\n",
      "Number of segments: 1\n",
      "\n",
      "\n",
      "Number of segments: 2\n",
      "\n",
      "\n",
      "Number of segments: 2\n",
      "\n",
      "\n",
      "Number of segments: 1\n",
      "\n",
      "\n",
      "Number of segments: 1\n",
      "\n",
      "\n",
      "Number of segments: 2\n",
      "\n",
      "\n",
      "Number of segments: 2\n",
      "\n",
      "\n",
      "Number of segments: 2\n",
      "\n",
      "\n",
      "Number of segments: 2\n",
      "\n",
      "\n",
      "Number of segments: 2\n",
      "\n",
      "\n",
      "Number of segments: 2\n",
      "\n",
      "\n",
      "Number of segments: 1\n",
      "\n",
      "\n",
      "Number of segments: 2\n",
      "\n",
      "\n",
      "Number of segments: 2\n",
      "\n",
      "\n",
      "Number of segments: 2\n",
      "\n",
      "\n",
      "Number of segments: 1\n",
      "\n",
      "\n",
      "Number of segments: 3\n",
      "\n",
      "\n",
      "Number of segments: 2\n",
      "\n",
      "\n",
      "Number of segments: 1\n",
      "\n",
      "\n",
      "Number of segments: 2\n",
      "\n",
      "\n",
      "Number of segments: 2\n",
      "\n",
      "\n",
      "Number of segments: 2\n",
      "\n",
      "\n",
      "Number of segments: 2\n",
      "\n",
      "\n",
      "Number of segments: 2\n",
      "\n",
      "\n",
      "Number of segments: 1\n",
      "\n",
      "\n",
      "Number of segments: 1\n",
      "\n",
      "\n",
      "Number of segments: 1\n",
      "\n",
      "\n",
      "Number of segments: 2\n",
      "\n",
      "\n",
      "Number of segments: 1\n",
      "\n",
      "\n",
      "Number of segments: 1\n",
      "\n",
      "\n",
      "Number of segments: 2\n",
      "\n",
      "\n",
      "Number of segments: 2\n",
      "\n",
      "\n",
      "Number of segments: 2\n",
      "\n",
      "\n",
      "Number of segments: 1\n",
      "\n",
      "\n",
      "Number of segments: 1\n",
      "\n",
      "\n",
      "Number of segments: 1\n",
      "\n",
      "\n",
      "Number of segments: 1\n",
      "\n",
      "\n",
      "Number of segments: 1\n",
      "\n",
      "\n",
      "Number of segments: 1\n",
      "\n",
      "\n",
      "Number of segments: 2\n",
      "\n",
      "\n",
      "Number of segments: 2\n",
      "\n",
      "\n",
      "Number of segments: 2\n",
      "\n",
      "\n",
      "Number of segments: 2\n",
      "\n",
      "\n",
      "Number of segments: 3\n",
      "\n",
      "\n",
      "Number of segments: 3\n",
      "\n",
      "\n",
      "Number of segments: 2\n",
      "\n",
      "\n",
      "Number of segments: 2\n",
      "\n",
      "\n",
      "Number of segments: 2\n",
      "\n",
      "\n",
      "Number of segments: 1\n",
      "\n",
      "\n",
      "Number of segments: 1\n",
      "\n",
      "\n",
      "Number of segments: 1\n",
      "\n",
      "\n",
      "Number of segments: 2\n",
      "\n",
      "\n",
      "Number of segments: 2\n",
      "\n",
      "\n",
      "Number of segments: 2\n",
      "\n",
      "\n",
      "Number of segments: 2\n",
      "\n",
      "\n",
      "Number of segments: 2\n",
      "\n",
      "\n",
      "Number of segments: 2\n",
      "\n",
      "\n",
      "Number of segments: 2\n",
      "\n",
      "\n",
      "Number of segments: 3\n",
      "\n",
      "\n",
      "Number of segments: 3\n",
      "\n",
      "\n",
      "Number of segments: 2\n",
      "\n",
      "\n",
      "Number of segments: 2\n",
      "\n",
      "\n",
      "Number of segments: 2\n",
      "\n",
      "\n",
      "Number of segments: 2\n",
      "\n",
      "\n",
      "Number of segments: 2\n",
      "\n",
      "\n",
      "Number of segments: 2\n",
      "\n",
      "\n",
      "Number of segments: 3\n",
      "\n",
      "\n",
      "Number of segments: 3\n",
      "\n",
      "\n",
      "Number of segments: 4\n",
      "\n",
      "\n",
      "Number of segments: 2\n",
      "\n",
      "\n",
      "Number of segments: 2\n",
      "\n",
      "\n",
      "Number of segments: 1\n",
      "\n",
      "\n",
      "Number of segments: 1\n",
      "\n",
      "\n",
      "Number of segments: 2\n",
      "\n",
      "\n",
      "Number of segments: 3\n",
      "\n",
      "\n",
      "Number of segments: 1\n",
      "\n",
      "\n",
      "Number of segments: 1\n",
      "\n",
      "\n",
      "Number of segments: 1\n",
      "\n",
      "\n",
      "Number of segments: 2\n",
      "\n",
      "\n",
      "Number of segments: 2\n",
      "\n",
      "\n",
      "Number of segments: 2\n",
      "\n",
      "\n",
      "Number of segments: 1\n",
      "\n",
      "\n",
      "Number of segments: 1\n",
      "\n",
      "\n",
      "Number of segments: 1\n",
      "\n",
      "\n",
      "Number of segments: 1\n",
      "\n",
      "\n",
      "Number of segments: 2\n",
      "\n",
      "\n",
      "Number of segments: 2\n",
      "\n",
      "\n",
      "Number of segments: 2\n",
      "\n",
      "\n",
      "Number of segments: 2\n",
      "\n",
      "\n",
      "Number of segments: 2\n",
      "\n",
      "\n",
      "Number of segments: 2\n",
      "\n",
      "\n",
      "Number of segments: 2\n",
      "\n",
      "\n",
      "Number of segments: 3\n",
      "\n",
      "\n",
      "Number of segments: 2\n",
      "\n",
      "\n",
      "Number of segments: 3\n",
      "\n",
      "\n",
      "Number of segments: 2\n",
      "\n",
      "\n",
      "Number of segments: 2\n",
      "\n",
      "\n",
      "Number of segments: 1\n",
      "\n",
      "\n",
      "Number of segments: 2\n",
      "\n",
      "\n",
      "Number of segments: 2\n",
      "\n",
      "\n",
      "Number of segments: 2\n",
      "\n",
      "\n",
      "Number of segments: 2\n",
      "\n",
      "\n",
      "Number of segments: 1\n",
      "\n",
      "\n",
      "Number of segments: 2\n",
      "\n",
      "\n",
      "Number of segments: 2\n",
      "\n",
      "\n",
      "Number of segments: 1\n",
      "\n",
      "\n",
      "Number of segments: 1\n",
      "\n",
      "\n",
      "Number of segments: 1\n",
      "\n",
      "\n",
      "Number of segments: 2\n",
      "\n",
      "\n",
      "Number of segments: 2\n",
      "\n",
      "\n",
      "Number of segments: 2\n",
      "\n",
      "\n",
      "Number of segments: 1\n",
      "\n",
      "\n",
      "Number of segments: 1\n",
      "\n",
      "\n",
      "Number of segments: 3\n",
      "\n",
      "\n",
      "Number of segments: 1\n",
      "\n",
      "\n",
      "Number of segments: 1\n",
      "\n",
      "\n",
      "Number of segments: 1\n",
      "\n",
      "\n",
      "Number of segments: 1\n",
      "\n",
      "\n",
      "Number of segments: 3\n",
      "\n",
      "\n",
      "Number of segments: 3\n",
      "\n",
      "\n",
      "Number of segments: 2\n",
      "\n",
      "\n",
      "Number of segments: 2\n",
      "\n",
      "\n",
      "Number of segments: 2\n",
      "\n",
      "\n",
      "Number of segments: 2\n",
      "\n",
      "\n",
      "Number of segments: 2\n",
      "\n",
      "\n",
      "Number of segments: 2\n",
      "\n",
      "\n",
      "Number of segments: 3\n",
      "\n",
      "\n",
      "Number of segments: 3\n",
      "\n",
      "\n",
      "Number of segments: 3\n",
      "\n",
      "\n",
      "Number of segments: 2\n",
      "\n",
      "\n",
      "Number of segments: 2\n",
      "\n",
      "\n",
      "Number of segments: 2\n",
      "\n",
      "\n",
      "Number of segments: 1\n",
      "\n",
      "\n",
      "Number of segments: 2\n",
      "\n",
      "\n",
      "Number of segments: 2\n",
      "\n",
      "\n",
      "Number of segments: 2\n",
      "\n",
      "\n",
      "Number of segments: 2\n",
      "\n",
      "\n",
      "Number of segments: 2\n",
      "\n",
      "\n",
      "Number of segments: 2\n",
      "\n",
      "\n",
      "Number of segments: 2\n",
      "\n",
      "\n",
      "Number of segments: 2\n",
      "\n",
      "\n",
      "Number of segments: 1\n",
      "\n",
      "\n",
      "Number of segments: 2\n",
      "\n",
      "\n",
      "Number of segments: 4\n",
      "\n"
     ]
    },
    {
     "name": "stdout",
     "output_type": "stream",
     "text": [
      "\n",
      "Number of segments: 1\n",
      "\n",
      "\n",
      "Number of segments: 3\n",
      "\n",
      "\n",
      "Number of segments: 3\n",
      "\n",
      "\n",
      "Number of segments: 1\n",
      "\n",
      "\n",
      "Number of segments: 2\n",
      "\n",
      "\n",
      "Number of segments: 2\n",
      "\n",
      "\n",
      "Number of segments: 2\n",
      "\n",
      "\n",
      "Number of segments: 2\n",
      "\n",
      "\n",
      "Number of segments: 2\n",
      "\n",
      "\n",
      "Number of segments: 2\n",
      "\n",
      "\n",
      "Number of segments: 4\n",
      "\n",
      "\n",
      "Number of segments: 4\n",
      "\n",
      "\n",
      "Number of segments: 1\n",
      "\n",
      "\n",
      "Number of segments: 1\n",
      "\n",
      "\n",
      "Number of segments: 1\n",
      "\n",
      "\n",
      "Number of segments: 2\n",
      "\n",
      "\n",
      "Number of segments: 2\n",
      "\n",
      "\n",
      "Number of segments: 2\n",
      "\n",
      "\n",
      "Number of segments: 1\n",
      "\n",
      "\n",
      "Number of segments: 3\n",
      "\n",
      "\n",
      "Number of segments: 3\n",
      "\n",
      "\n",
      "Number of segments: 2\n",
      "\n",
      "\n",
      "Number of segments: 2\n",
      "\n",
      "\n",
      "Number of segments: 3\n",
      "\n",
      "\n",
      "Number of segments: 3\n",
      "\n",
      "\n",
      "Number of segments: 2\n",
      "\n",
      "\n",
      "Number of segments: 2\n",
      "\n",
      "\n",
      "Number of segments: 2\n",
      "\n",
      "\n",
      "Number of segments: 2\n",
      "\n",
      "\n",
      "Number of segments: 2\n",
      "\n",
      "\n",
      "Number of segments: 2\n",
      "\n",
      "\n",
      "Number of segments: 2\n",
      "\n",
      "\n",
      "Number of segments: 2\n",
      "\n",
      "\n",
      "Number of segments: 2\n",
      "\n",
      "\n",
      "Number of segments: 2\n",
      "\n",
      "\n",
      "Number of segments: 3\n",
      "\n",
      "\n",
      "Number of segments: 2\n",
      "\n",
      "\n",
      "Number of segments: 2\n",
      "\n",
      "\n",
      "Number of segments: 2\n",
      "\n",
      "\n",
      "Number of segments: 2\n",
      "\n",
      "\n",
      "Number of segments: 2\n",
      "\n",
      "\n",
      "Number of segments: 2\n",
      "\n",
      "\n",
      "Number of segments: 1\n",
      "\n",
      "\n",
      "Number of segments: 3\n",
      "\n",
      "\n",
      "Number of segments: 2\n",
      "\n",
      "\n",
      "Number of segments: 2\n",
      "\n",
      "\n",
      "Number of segments: 2\n",
      "\n",
      "\n",
      "Number of segments: 2\n",
      "\n",
      "\n",
      "Number of segments: 2\n",
      "\n",
      "\n",
      "Number of segments: 2\n",
      "\n",
      "\n",
      "Number of segments: 2\n",
      "\n",
      "\n",
      "Number of segments: 1\n",
      "\n",
      "\n",
      "Number of segments: 2\n",
      "\n",
      "\n",
      "Number of segments: 3\n",
      "\n",
      "\n",
      "Number of segments: 2\n",
      "\n",
      "\n",
      "Number of segments: 2\n",
      "\n",
      "\n",
      "Number of segments: 2\n",
      "\n",
      "\n",
      "Number of segments: 1\n",
      "\n",
      "\n",
      "Number of segments: 2\n",
      "\n",
      "\n",
      "Number of segments: 1\n",
      "\n",
      "\n",
      "Number of segments: 2\n",
      "\n",
      "\n",
      "Number of segments: 2\n",
      "\n",
      "\n",
      "Number of segments: 2\n",
      "\n",
      "\n",
      "Number of segments: 1\n",
      "\n",
      "\n",
      "Number of segments: 2\n",
      "\n",
      "\n",
      "Number of segments: 1\n",
      "\n",
      "\n",
      "Number of segments: 1\n",
      "\n",
      "\n",
      "Number of segments: 1\n",
      "\n",
      "\n",
      "Number of segments: 2\n",
      "\n",
      "\n",
      "Number of segments: 2\n",
      "\n",
      "\n",
      "Number of segments: 2\n",
      "\n",
      "\n",
      "Number of segments: 3\n",
      "\n",
      "\n",
      "Number of segments: 2\n",
      "\n",
      "\n",
      "Number of segments: 2\n",
      "\n",
      "\n",
      "Number of segments: 2\n",
      "\n",
      "\n",
      "Number of segments: 2\n",
      "\n",
      "\n",
      "Number of segments: 2\n",
      "\n",
      "\n",
      "Number of segments: 2\n",
      "\n",
      "\n",
      "Number of segments: 2\n",
      "\n",
      "\n",
      "Number of segments: 2\n",
      "\n",
      "\n",
      "Number of segments: 3\n",
      "\n",
      "\n",
      "Number of segments: 2\n",
      "\n",
      "\n",
      "Number of segments: 2\n",
      "\n",
      "\n",
      "Number of segments: 2\n",
      "\n",
      "\n",
      "Number of segments: 2\n",
      "\n",
      "\n",
      "Number of segments: 2\n",
      "\n",
      "\n",
      "Number of segments: 2\n",
      "\n",
      "\n",
      "Number of segments: 2\n",
      "\n",
      "\n",
      "Number of segments: 2\n",
      "\n",
      "\n",
      "Number of segments: 2\n",
      "\n",
      "\n",
      "Number of segments: 2\n",
      "\n",
      "\n",
      "Number of segments: 2\n",
      "\n",
      "\n",
      "Number of segments: 2\n",
      "\n",
      "\n",
      "Number of segments: 2\n",
      "\n",
      "\n",
      "Number of segments: 2\n",
      "\n",
      "\n",
      "Number of segments: 2\n",
      "\n",
      "\n",
      "Number of segments: 2\n",
      "\n",
      "\n",
      "Number of segments: 2\n",
      "\n",
      "\n",
      "Number of segments: 2\n",
      "\n",
      "\n",
      "Number of segments: 2\n",
      "\n",
      "\n",
      "Number of segments: 2\n",
      "\n",
      "\n",
      "Number of segments: 2\n",
      "\n",
      "\n",
      "Number of segments: 1\n",
      "\n",
      "\n",
      "Number of segments: 1\n",
      "\n",
      "\n",
      "Number of segments: 1\n",
      "\n",
      "\n",
      "Number of segments: 2\n",
      "\n",
      "\n",
      "Number of segments: 2\n",
      "\n",
      "\n",
      "Number of segments: 2\n",
      "\n",
      "\n",
      "Number of segments: 1\n",
      "\n",
      "\n",
      "Number of segments: 2\n",
      "\n",
      "\n",
      "Number of segments: 2\n",
      "\n",
      "\n",
      "Number of segments: 2\n",
      "\n",
      "\n",
      "Number of segments: 2\n",
      "\n",
      "\n",
      "Number of segments: 2\n",
      "\n",
      "\n",
      "Number of segments: 2\n",
      "\n",
      "\n",
      "Number of segments: 2\n",
      "\n",
      "\n",
      "Number of segments: 2\n",
      "\n",
      "\n",
      "Number of segments: 1\n",
      "\n",
      "\n",
      "Number of segments: 1\n",
      "\n",
      "\n",
      "Number of segments: 1\n",
      "\n",
      "\n",
      "Number of segments: 1\n",
      "\n",
      "\n",
      "Number of segments: 1\n",
      "\n",
      "\n",
      "Number of segments: 2\n",
      "\n",
      "\n",
      "Number of segments: 1\n",
      "\n",
      "\n",
      "Number of segments: 1\n",
      "\n",
      "\n",
      "Number of segments: 1\n",
      "\n",
      "\n",
      "Number of segments: 2\n",
      "\n",
      "\n",
      "Number of segments: 2\n",
      "\n",
      "\n",
      "Number of segments: 2\n",
      "\n",
      "\n",
      "Number of segments: 1\n",
      "\n",
      "\n",
      "Number of segments: 1\n",
      "\n",
      "\n",
      "Number of segments: 2\n",
      "\n",
      "\n",
      "Number of segments: 2\n",
      "\n",
      "\n",
      "Number of segments: 2\n",
      "\n",
      "\n",
      "Number of segments: 3\n",
      "\n",
      "\n",
      "Number of segments: 1\n",
      "\n",
      "\n",
      "Number of segments: 2\n",
      "\n",
      "\n",
      "Number of segments: 2\n",
      "\n",
      "\n",
      "Number of segments: 1\n",
      "\n",
      "\n",
      "Number of segments: 2\n",
      "\n",
      "\n",
      "Number of segments: 2\n",
      "\n",
      "\n",
      "Number of segments: 1\n",
      "\n",
      "\n",
      "Number of segments: 2\n",
      "\n",
      "\n",
      "Number of segments: 2\n",
      "\n",
      "\n",
      "Number of segments: 2\n",
      "\n",
      "\n",
      "Number of segments: 2\n",
      "\n",
      "\n",
      "Number of segments: 2\n",
      "\n",
      "\n",
      "Number of segments: 1\n",
      "\n",
      "\n",
      "Number of segments: 1\n",
      "\n",
      "\n",
      "Number of segments: 2\n",
      "\n",
      "\n",
      "Number of segments: 1\n",
      "\n",
      "\n",
      "Number of segments: 1\n",
      "\n",
      "\n",
      "Number of segments: 2\n",
      "\n",
      "\n",
      "Number of segments: 1\n",
      "\n",
      "\n",
      "Number of segments: 2\n",
      "\n",
      "\n",
      "Number of segments: 2\n",
      "\n",
      "\n",
      "Number of segments: 1\n",
      "\n",
      "\n",
      "Number of segments: 2\n",
      "\n",
      "\n",
      "Number of segments: 2\n",
      "\n",
      "\n",
      "Number of segments: 2\n",
      "\n",
      "\n",
      "Number of segments: 2\n",
      "\n",
      "\n",
      "Number of segments: 2\n",
      "\n",
      "\n",
      "Number of segments: 2\n",
      "\n",
      "\n",
      "Number of segments: 2\n",
      "\n",
      "\n",
      "Number of segments: 1\n",
      "\n",
      "\n",
      "Number of segments: 2\n",
      "\n",
      "\n",
      "Number of segments: 2\n",
      "\n",
      "\n",
      "Number of segments: 2\n",
      "\n",
      "\n",
      "Number of segments: 2\n",
      "\n",
      "\n",
      "Number of segments: 2\n",
      "\n",
      "\n",
      "Number of segments: 2\n",
      "\n",
      "\n",
      "Number of segments: 1\n",
      "\n",
      "\n",
      "Number of segments: 1\n",
      "\n",
      "\n",
      "Number of segments: 1\n",
      "\n",
      "\n",
      "Number of segments: 1\n",
      "\n",
      "\n",
      "Number of segments: 1\n",
      "\n",
      "\n",
      "Number of segments: 2\n",
      "\n",
      "\n",
      "Number of segments: 2\n",
      "\n",
      "\n",
      "Number of segments: 2\n",
      "\n",
      "\n",
      "Number of segments: 2\n",
      "\n",
      "\n",
      "Number of segments: 1\n",
      "\n",
      "\n",
      "Number of segments: 1\n",
      "\n",
      "\n",
      "Number of segments: 5\n",
      "\n",
      "\n",
      "Number of segments: 1\n",
      "\n",
      "\n",
      "Number of segments: 2\n",
      "\n",
      "\n",
      "Number of segments: 2\n",
      "\n",
      "\n",
      "Number of segments: 1\n",
      "\n",
      "\n",
      "Number of segments: 2\n",
      "\n",
      "\n",
      "Number of segments: 2\n",
      "\n",
      "\n",
      "Number of segments: 2\n",
      "\n",
      "\n",
      "Number of segments: 2\n",
      "\n",
      "\n",
      "Number of segments: 2\n",
      "\n",
      "\n",
      "Number of segments: 3\n",
      "\n",
      "\n",
      "Number of segments: 2\n",
      "\n",
      "\n",
      "Number of segments: 3\n",
      "\n",
      "\n",
      "Number of segments: 1\n",
      "\n",
      "\n",
      "Number of segments: 2\n",
      "\n",
      "\n",
      "Number of segments: 3\n",
      "\n",
      "\n",
      "Number of segments: 1\n",
      "\n",
      "\n",
      "Number of segments: 3\n",
      "\n",
      "\n",
      "Number of segments: 3\n",
      "\n",
      "\n",
      "Number of segments: 2\n",
      "\n",
      "\n",
      "Number of segments: 2\n",
      "\n",
      "\n",
      "Number of segments: 2\n",
      "\n",
      "\n",
      "Number of segments: 1\n",
      "\n",
      "\n",
      "Number of segments: 1\n",
      "\n",
      "\n",
      "Number of segments: 2\n",
      "\n",
      "\n",
      "Number of segments: 2\n",
      "\n",
      "\n",
      "Number of segments: 3\n",
      "\n",
      "\n",
      "Number of segments: 3\n",
      "\n",
      "\n",
      "Number of segments: 2\n",
      "\n",
      "\n",
      "Number of segments: 2\n",
      "\n",
      "\n",
      "Number of segments: 2\n",
      "\n",
      "\n",
      "Number of segments: 2\n",
      "\n",
      "\n",
      "Number of segments: 2\n",
      "\n",
      "\n",
      "Number of segments: 2\n",
      "\n",
      "\n",
      "Number of segments: 1\n",
      "\n",
      "\n",
      "Number of segments: 2\n",
      "\n",
      "\n",
      "Number of segments: 2\n",
      "\n",
      "\n",
      "Number of segments: 2\n",
      "\n",
      "\n",
      "Number of segments: 2\n",
      "\n",
      "\n",
      "Number of segments: 2\n",
      "\n",
      "\n",
      "Number of segments: 1\n",
      "\n",
      "\n",
      "Number of segments: 3\n",
      "\n",
      "\n",
      "Number of segments: 3\n",
      "\n",
      "\n",
      "Number of segments: 1\n",
      "\n",
      "\n",
      "Number of segments: 1\n",
      "\n",
      "\n",
      "Number of segments: 2\n",
      "\n",
      "\n",
      "Number of segments: 2\n",
      "\n",
      "\n",
      "Number of segments: 2\n",
      "\n",
      "\n",
      "Number of segments: 2\n",
      "\n",
      "\n",
      "Number of segments: 2\n",
      "\n",
      "\n",
      "Number of segments: 2\n",
      "\n",
      "\n",
      "Number of segments: 2\n",
      "\n",
      "\n",
      "Number of segments: 2\n",
      "\n",
      "\n",
      "Number of segments: 1\n",
      "\n",
      "\n",
      "Number of segments: 3\n",
      "\n",
      "\n",
      "Number of segments: 3\n",
      "\n",
      "\n",
      "Number of segments: 3\n",
      "\n",
      "\n",
      "Number of segments: 3\n",
      "\n",
      "\n",
      "Number of segments: 1\n",
      "\n",
      "\n",
      "Number of segments: 2\n",
      "\n",
      "\n",
      "Number of segments: 4\n",
      "\n",
      "\n",
      "Number of segments: 1\n",
      "\n",
      "\n",
      "Number of segments: 2\n",
      "\n",
      "\n",
      "Number of segments: 2\n",
      "\n",
      "\n",
      "Number of segments: 2\n",
      "\n",
      "\n",
      "Number of segments: 1\n",
      "\n",
      "\n",
      "Number of segments: 1\n",
      "\n",
      "\n",
      "Number of segments: 3\n",
      "\n",
      "\n",
      "Number of segments: 1\n",
      "\n",
      "\n",
      "Number of segments: 2\n",
      "\n",
      "\n",
      "Number of segments: 1\n",
      "\n",
      "\n",
      "Number of segments: 1\n",
      "\n",
      "\n",
      "Number of segments: 1\n",
      "\n",
      "\n",
      "Number of segments: 1\n",
      "\n",
      "\n",
      "Number of segments: 1\n",
      "\n",
      "\n",
      "Number of segments: 2\n",
      "\n",
      "\n",
      "Number of segments: 1\n",
      "\n",
      "\n",
      "Number of segments: 1\n",
      "\n",
      "\n",
      "Number of segments: 2\n",
      "\n",
      "\n",
      "Number of segments: 2\n",
      "\n",
      "\n",
      "Number of segments: 2\n",
      "\n",
      "\n",
      "Number of segments: 2\n",
      "\n",
      "\n",
      "Number of segments: 1\n",
      "\n",
      "\n",
      "Number of segments: 1\n",
      "\n",
      "\n",
      "Number of segments: 1\n",
      "\n",
      "\n",
      "Number of segments: 2\n",
      "\n",
      "\n",
      "Number of segments: 2\n",
      "\n",
      "\n",
      "Number of segments: 2\n",
      "\n",
      "\n",
      "Number of segments: 2\n",
      "\n",
      "\n",
      "Number of segments: 4\n",
      "\n",
      "\n",
      "Number of segments: 3\n",
      "\n",
      "\n",
      "Number of segments: 4\n",
      "\n",
      "\n",
      "Number of segments: 5\n",
      "\n",
      "\n",
      "Number of segments: 5\n",
      "\n",
      "\n",
      "Number of segments: 2\n",
      "\n",
      "\n",
      "Number of segments: 2\n",
      "\n",
      "\n",
      "Number of segments: 2\n",
      "\n",
      "\n",
      "Number of segments: 2\n",
      "\n",
      "\n",
      "Number of segments: 2\n",
      "\n",
      "\n",
      "Number of segments: 3\n",
      "\n",
      "\n",
      "Number of segments: 2\n",
      "\n",
      "\n",
      "Number of segments: 2\n",
      "\n",
      "\n",
      "Number of segments: 2\n",
      "\n",
      "\n",
      "Number of segments: 3\n",
      "\n",
      "\n",
      "Number of segments: 3\n",
      "\n",
      "\n",
      "Number of segments: 3\n",
      "\n",
      "\n",
      "Number of segments: 1\n",
      "\n",
      "\n",
      "Number of segments: 1\n",
      "\n",
      "\n",
      "Number of segments: 1\n",
      "\n",
      "\n",
      "Number of segments: 2\n",
      "\n",
      "\n",
      "Number of segments: 2\n",
      "\n",
      "\n",
      "Number of segments: 2\n",
      "\n",
      "\n",
      "Number of segments: 2\n",
      "\n",
      "\n",
      "Number of segments: 3\n",
      "\n",
      "\n",
      "Number of segments: 4\n",
      "\n",
      "\n",
      "Number of segments: 2\n",
      "\n",
      "\n",
      "Number of segments: 2\n",
      "\n",
      "\n",
      "Number of segments: 3\n",
      "\n",
      "\n",
      "Number of segments: 1\n",
      "\n",
      "\n",
      "Number of segments: 2\n",
      "\n",
      "\n",
      "Number of segments: 2\n",
      "\n",
      "\n",
      "Number of segments: 3\n",
      "\n",
      "\n",
      "Number of segments: 3\n",
      "\n",
      "\n",
      "Number of segments: 3\n",
      "\n",
      "\n",
      "Number of segments: 5\n",
      "\n",
      "\n",
      "Number of segments: 5\n",
      "\n",
      "\n",
      "Number of segments: 5\n",
      "\n",
      "\n",
      "Number of segments: 2\n",
      "\n",
      "\n",
      "Number of segments: 2\n",
      "\n",
      "\n",
      "Number of segments: 3\n",
      "\n",
      "\n",
      "Number of segments: 1\n",
      "\n",
      "\n",
      "Number of segments: 3\n",
      "\n",
      "\n",
      "Number of segments: 2\n",
      "\n",
      "\n",
      "Number of segments: 1\n",
      "\n",
      "\n",
      "Number of segments: 3\n",
      "\n",
      "\n",
      "Number of segments: 4\n",
      "\n",
      "\n",
      "Number of segments: 1\n",
      "\n",
      "\n",
      "Number of segments: 1\n",
      "\n",
      "\n",
      "Number of segments: 2\n",
      "\n",
      "\n",
      "Number of segments: 1\n",
      "\n",
      "\n",
      "Number of segments: 1\n",
      "\n",
      "\n",
      "Number of segments: 1\n",
      "\n",
      "\n",
      "Number of segments: 2\n",
      "\n",
      "\n",
      "Number of segments: 3\n",
      "\n",
      "\n",
      "Number of segments: 3\n",
      "\n",
      "\n",
      "Number of segments: 2\n",
      "\n",
      "\n",
      "Number of segments: 2\n",
      "\n",
      "\n",
      "Number of segments: 2\n",
      "\n",
      "\n",
      "Number of segments: 2\n",
      "\n",
      "\n",
      "Number of segments: 3\n",
      "\n",
      "\n",
      "Number of segments: 3\n",
      "\n",
      "\n",
      "Number of segments: 2\n",
      "\n",
      "\n",
      "Number of segments: 2\n",
      "\n",
      "\n",
      "Number of segments: 2\n",
      "\n",
      "\n",
      "Number of segments: 2\n",
      "\n",
      "\n",
      "Number of segments: 2\n",
      "\n",
      "\n",
      "Number of segments: 2\n",
      "\n",
      "\n",
      "Number of segments: 2\n",
      "\n",
      "\n",
      "Number of segments: 2\n",
      "\n",
      "\n",
      "Number of segments: 2\n",
      "\n",
      "\n",
      "Number of segments: 2\n",
      "\n",
      "\n"
     ]
    },
    {
     "name": "stdout",
     "output_type": "stream",
     "text": [
      "Number of segments: 2\n",
      "\n",
      "\n",
      "Number of segments: 3\n",
      "\n",
      "\n",
      "Number of segments: 2\n",
      "\n",
      "\n",
      "Number of segments: 2\n",
      "\n",
      "\n",
      "Number of segments: 1\n",
      "\n",
      "\n",
      "Number of segments: 1\n",
      "\n",
      "\n",
      "Number of segments: 1\n",
      "\n",
      "\n",
      "Number of segments: 2\n",
      "\n",
      "\n",
      "Number of segments: 2\n",
      "\n",
      "\n",
      "Number of segments: 2\n",
      "\n",
      "\n",
      "Number of segments: 2\n",
      "\n",
      "\n",
      "Number of segments: 3\n",
      "\n",
      "\n",
      "Number of segments: 3\n",
      "\n",
      "\n",
      "Number of segments: 3\n",
      "\n",
      "\n",
      "Number of segments: 1\n",
      "\n",
      "\n",
      "Number of segments: 1\n",
      "\n",
      "\n",
      "Number of segments: 2\n",
      "\n",
      "\n",
      "Number of segments: 2\n",
      "\n",
      "\n",
      "Number of segments: 2\n",
      "\n",
      "\n",
      "Number of segments: 2\n",
      "\n",
      "\n",
      "Number of segments: 2\n",
      "\n",
      "\n",
      "Number of segments: 2\n",
      "\n",
      "\n",
      "Number of segments: 2\n",
      "\n",
      "\n",
      "Number of segments: 2\n",
      "\n",
      "\n",
      "Number of segments: 2\n",
      "\n",
      "\n",
      "Number of segments: 2\n",
      "\n",
      "\n",
      "Number of segments: 2\n",
      "\n",
      "\n",
      "Number of segments: 2\n",
      "\n",
      "\n",
      "Number of segments: 2\n",
      "\n",
      "\n",
      "Number of segments: 2\n",
      "\n",
      "\n",
      "Number of segments: 2\n",
      "\n",
      "\n",
      "Number of segments: 2\n",
      "\n",
      "\n",
      "Number of segments: 2\n",
      "\n",
      "\n",
      "Number of segments: 3\n",
      "\n",
      "\n",
      "Number of segments: 3\n",
      "\n",
      "\n",
      "Number of segments: 2\n",
      "\n",
      "\n",
      "Number of segments: 2\n",
      "\n",
      "\n",
      "Number of segments: 2\n",
      "\n",
      "\n",
      "Number of segments: 2\n",
      "\n",
      "\n",
      "Number of segments: 3\n",
      "\n",
      "\n",
      "Number of segments: 2\n",
      "\n",
      "\n",
      "Number of segments: 2\n",
      "\n",
      "\n",
      "Number of segments: 2\n",
      "\n",
      "\n",
      "Number of segments: 2\n",
      "\n",
      "\n",
      "Number of segments: 2\n",
      "\n",
      "\n",
      "Number of segments: 3\n",
      "\n",
      "\n",
      "Number of segments: 3\n",
      "\n",
      "\n",
      "Number of segments: 1\n",
      "\n",
      "\n",
      "Number of segments: 2\n",
      "\n",
      "\n",
      "Number of segments: 1\n",
      "\n",
      "\n",
      "Number of segments: 2\n",
      "\n",
      "\n",
      "Number of segments: 2\n",
      "\n",
      "\n",
      "Number of segments: 2\n",
      "\n",
      "\n",
      "Number of segments: 1\n",
      "\n",
      "\n",
      "Number of segments: 1\n",
      "\n",
      "\n",
      "Number of segments: 1\n",
      "\n",
      "\n",
      "Number of segments: 2\n",
      "\n",
      "\n",
      "Number of segments: 2\n",
      "\n",
      "\n",
      "Number of segments: 2\n",
      "\n",
      "\n",
      "Number of segments: 2\n",
      "\n",
      "\n",
      "Number of segments: 2\n",
      "\n",
      "\n",
      "Number of segments: 2\n",
      "\n",
      "\n",
      "Number of segments: 1\n",
      "\n",
      "\n",
      "Number of segments: 1\n",
      "\n",
      "\n",
      "Number of segments: 1\n",
      "\n",
      "\n",
      "Number of segments: 2\n",
      "\n",
      "\n",
      "Number of segments: 2\n",
      "\n",
      "\n",
      "Number of segments: 1\n",
      "\n",
      "\n",
      "Number of segments: 2\n",
      "\n",
      "\n",
      "Number of segments: 2\n",
      "\n",
      "\n",
      "Number of segments: 2\n",
      "\n",
      "\n",
      "Number of segments: 2\n",
      "\n",
      "\n",
      "Number of segments: 2\n",
      "\n",
      "\n",
      "Number of segments: 2\n",
      "\n",
      "\n",
      "Number of segments: 1\n",
      "\n",
      "\n",
      "Number of segments: 3\n",
      "\n",
      "\n",
      "Number of segments: 4\n",
      "\n",
      "\n",
      "Number of segments: 2\n",
      "\n",
      "\n",
      "Number of segments: 2\n",
      "\n",
      "\n",
      "Number of segments: 3\n",
      "\n",
      "\n",
      "Number of segments: 2\n",
      "\n",
      "\n",
      "Number of segments: 3\n",
      "\n",
      "\n",
      "Number of segments: 2\n",
      "\n",
      "\n",
      "Number of segments: 1\n",
      "\n",
      "\n",
      "Number of segments: 2\n",
      "\n",
      "\n",
      "Number of segments: 2\n",
      "\n",
      "\n",
      "Number of segments: 2\n",
      "\n",
      "\n",
      "Number of segments: 2\n",
      "\n",
      "\n",
      "Number of segments: 2\n",
      "\n",
      "\n",
      "Number of segments: 2\n",
      "\n",
      "\n",
      "Number of segments: 2\n",
      "\n",
      "\n",
      "Number of segments: 2\n",
      "\n",
      "\n",
      "Number of segments: 2\n",
      "\n",
      "\n",
      "Number of segments: 2\n",
      "\n",
      "\n",
      "Number of segments: 2\n",
      "\n",
      "\n",
      "Number of segments: 2\n",
      "\n",
      "\n",
      "Number of segments: 2\n",
      "\n",
      "\n",
      "Number of segments: 2\n",
      "\n",
      "\n",
      "Number of segments: 2\n",
      "\n",
      "\n",
      "Number of segments: 2\n",
      "\n",
      "\n",
      "Number of segments: 2\n",
      "\n",
      "\n",
      "Number of segments: 2\n",
      "\n",
      "\n",
      "Number of segments: 2\n",
      "\n",
      "\n",
      "Number of segments: 2\n",
      "\n",
      "\n",
      "Number of segments: 2\n",
      "\n",
      "\n",
      "Number of segments: 1\n",
      "\n",
      "\n",
      "Number of segments: 2\n",
      "\n",
      "\n",
      "Number of segments: 1\n",
      "\n",
      "\n",
      "Number of segments: 1\n",
      "\n",
      "\n",
      "Number of segments: 1\n",
      "\n",
      "\n",
      "Number of segments: 2\n",
      "\n",
      "\n",
      "Number of segments: 2\n",
      "\n",
      "\n",
      "Number of segments: 3\n",
      "\n",
      "\n",
      "Number of segments: 2\n",
      "\n",
      "\n",
      "Number of segments: 3\n",
      "\n",
      "\n",
      "Number of segments: 3\n",
      "\n",
      "\n",
      "Number of segments: 2\n",
      "\n",
      "\n",
      "Number of segments: 2\n",
      "\n",
      "\n",
      "Number of segments: 2\n",
      "\n",
      "\n",
      "Number of segments: 2\n",
      "\n",
      "\n",
      "Number of segments: 2\n",
      "\n",
      "\n",
      "Number of segments: 3\n",
      "\n",
      "\n",
      "Number of segments: 2\n",
      "\n",
      "\n",
      "Number of segments: 2\n",
      "\n",
      "\n",
      "Number of segments: 2\n",
      "\n",
      "\n",
      "Number of segments: 2\n",
      "\n",
      "\n",
      "Number of segments: 2\n",
      "\n",
      "\n",
      "Number of segments: 2\n",
      "\n",
      "\n",
      "Number of segments: 2\n",
      "\n",
      "\n",
      "Number of segments: 2\n",
      "\n",
      "\n",
      "Number of segments: 2\n",
      "\n",
      "\n",
      "Number of segments: 2\n",
      "\n",
      "\n",
      "Number of segments: 2\n",
      "\n",
      "\n",
      "Number of segments: 2\n",
      "\n",
      "\n",
      "Number of segments: 2\n",
      "\n",
      "\n",
      "Number of segments: 2\n",
      "\n",
      "\n",
      "Number of segments: 1\n",
      "\n",
      "\n",
      "Number of segments: 1\n",
      "\n",
      "\n",
      "Number of segments: 1\n",
      "\n",
      "\n",
      "Number of segments: 1\n",
      "\n",
      "\n",
      "Number of segments: 1\n",
      "\n",
      "\n",
      "Number of segments: 1\n",
      "\n",
      "\n",
      "Number of segments: 2\n",
      "\n",
      "\n",
      "Number of segments: 1\n",
      "\n",
      "\n",
      "Number of segments: 2\n",
      "\n",
      "\n",
      "Number of segments: 2\n",
      "\n",
      "\n",
      "Number of segments: 2\n",
      "\n",
      "\n",
      "Number of segments: 2\n",
      "\n",
      "\n",
      "Number of segments: 2\n",
      "\n",
      "\n",
      "Number of segments: 1\n",
      "\n",
      "\n",
      "Number of segments: 1\n",
      "\n",
      "\n",
      "Number of segments: 1\n",
      "\n",
      "\n",
      "Number of segments: 2\n",
      "\n",
      "\n",
      "Number of segments: 2\n",
      "\n",
      "\n",
      "Number of segments: 1\n",
      "\n",
      "\n",
      "Number of segments: 2\n",
      "\n",
      "\n",
      "Number of segments: 2\n",
      "\n",
      "\n",
      "Number of segments: 2\n",
      "\n",
      "\n",
      "Number of segments: 2\n",
      "\n",
      "\n",
      "Number of segments: 2\n",
      "\n",
      "\n",
      "Number of segments: 2\n",
      "\n",
      "\n",
      "Number of segments: 2\n",
      "\n",
      "\n",
      "Number of segments: 2\n",
      "\n",
      "\n",
      "Number of segments: 2\n",
      "\n",
      "\n",
      "Number of segments: 2\n",
      "\n",
      "\n",
      "Number of segments: 2\n",
      "\n",
      "\n",
      "Number of segments: 2\n",
      "\n",
      "\n",
      "Number of segments: 1\n",
      "\n",
      "\n",
      "Number of segments: 1\n",
      "\n",
      "\n",
      "Number of segments: 1\n",
      "\n",
      "\n",
      "Number of segments: 1\n",
      "\n",
      "\n",
      "Number of segments: 1\n",
      "\n",
      "\n",
      "Number of segments: 1\n",
      "\n",
      "query_postsyn_filter = (distance_from_soma<110000) and (no_spine_median_mesh_center > 140) and (no_spine_median_mesh_center < 10000) and (n_spines > -1) and skeletal_length > 5000 \n",
      "query_postsyn_filter = (distance_from_soma<110000) and (no_spine_median_mesh_center > 140) and (no_spine_median_mesh_center < 520) and (n_spines > 2) and skeletal_length > 15000 \n",
      "branches_without_postsyn_req query = \n",
      "skeletal_length > 10000  and ((synapse_density_offset_endpoint_upstream < 0.00015) or (n_synapses_offset_endpoint_upstream <= 2)) and (n_synapses_pre_offset_endpoint_upstream <= 1) and (width_new > 95) and (width_new < 650) and (n_synapses_spine_offset_endpoint_upstream < 3)\n",
      "No limb branch to plot\n",
      "Starting axon branch was the starting node so using border vertices and NOT computing upstream branch\n",
      "upstream_node_to_axon_starting_branch = None\n",
      "More than 1 seperated mesh (taking the top one): [<trimesh.Trimesh(vertices.shape=(20342, 3), faces.shape=(40479, 3))>\n",
      " <trimesh.Trimesh(vertices.shape=(113, 3), faces.shape=(176, 3))>]\n",
      "invalidation_d = 1500\n",
      "use_adaptive_invalidation_d= False\n",
      "axon_width_preprocess_limb_max = 200\n",
      "filter_end_node_length= 1150\n",
      "filter_end_node_length_meshparty = 1150\n",
      "invalidation_d = 1500\n",
      "root_curr = [1484150.   588282.7 1095391. ]\n",
      "Time for preparing soma vertices and root: 0.0003352165222167969\n",
      "invalidation_d = 1500\n",
      "smooth_neighborhood = 0\n",
      "cc_vertex_thresh = 10\n"
     ]
    },
    {
     "name": "stderr",
     "output_type": "stream",
     "text": [
      "100%|██████████| 1/1 [00:00<00:00,  3.29it/s]\n"
     ]
    },
    {
     "name": "stdout",
     "output_type": "stream",
     "text": [
      "meshparty_segment_size = 100\n",
      "Time for 1st pass MP skeletonization: 0.5028512477874756\n",
      "branches_touching_root = [13]\n",
      "combining close nodes\n",
      "combine_threshold = 1300\n",
      "length of Graph = 7906\n",
      "After combining close endpoints max(kept_branches_idx) = 85, len(kept_branches_idx) = 75\n",
      "empty_indices % = 0.0\n",
      " conflict_indices % = 0.028463139120095123\n",
      "AFTER face_lookup_resolved_test\n",
      "Decomposing first pass: 5.923474550247192\n",
      "Only Using MeshParty Skeletonization and Mesh Correspondence\n",
      "Another print\n",
      "Divinding into MP and MAP pieces: 1.2874603271484375e-05\n",
      "Total time for MAP sublimb processing 2.86102294921875e-06\n",
      "---- Working on MP Decomposition #0 ----\n",
      "Using Quicker soma_to_piece_touching_vertices because no MAP and only one sublimb_mesh piece \n",
      "MP filtering soma verts: 1.33514404296875e-05\n",
      "Fixing Possible Soma Extension Branch for Sublimb 0\n",
      "Total time for mesh KDTree = 0.020953893661499023\n",
      "sbv[0].reshape(-1,3) = [[1484150.   588282.7 1095391. ]]\n",
      "closest_sk_pt_coord BEFORE = [1484209.07018222  588125.41800575 1095073.94391184]\n",
      "current_skeleton.shape = (443, 2, 3)\n",
      "node_for_stitch = 441: [1484209.07018222  588125.41800575 1095073.94391184]\n",
      "node_for_stitch AFTER = 441: [1484209.07018222  588125.41800575 1095073.94391184]\n",
      "possible_node_loc = [  0 443]\n",
      "possible_node_loc AFTER = [  0 443]\n",
      "curr_shortest_path = [441, 442.0, 443]\n",
      "Current stitch point was not a branch or endpoint, shortest_path_length to one = 189.87969562013262\n",
      "Changing the stitch point becasue the distance to end or branch node was 189.87969562013262\n",
      "New stitch point has degree 1\n",
      "change_status for create soma extending pieces = True\n",
      "closest_sk_pt_coord AFTER = [1484351.   588129.9 1095200. ]\n",
      "skipping soma 0 because closest skeleton node was already end node\n",
      "endpoints_must_keep = {0: array([[1484351. ,  588129.9, 1095200. ]])}\n",
      "match_sk_branches = [12]\n",
      "The new branch info was none so skipping \n",
      "\n",
      "No soma extending branch was added for this sublimb even though it had a soma border (means they already existed)\n",
      "MP (because soma touching verts) soma extension add: 0.14238405227661133\n",
      "There were not both MAP and MP pieces so skipping the stitch resolving phase\n",
      "Time for decomp of Limb = 6.752827882766724\n",
      "Number of matching vertices = 20\n",
      "Only one endpoint after filtering away the endpoints that are not on the skeleton\n",
      "Using Distance measure skeletal_distance\n",
      "endpoints_must_keep = [[1484351.   588129.9 1095200. ]]\n",
      "Number of end_nodes BEFORE filtering = 45\n",
      "all_single_nodes_to_eliminate = [34]\n",
      "no small end nodes to get rid of so returning whole skeleton\n",
      "Removed 0 skeletal branches\n",
      "40478 40479\n",
      "For marked faces: None\n",
      "empty_indices % = 0.0\n",
      " conflict_indices % = 0.0\n",
      "AFTER face_lookup_resolved_test\n",
      "Limb Correspondence before stitching = 75\n",
      "Filtering away non soma floating pieces near the soma\n",
      "Before filter # of pieces = 1\n",
      "AFTER filter # of pieces = 1\n",
      "Inside attach_floating_pieces_to_limb_correspondence\n",
      "Starting the floating pieces preprocessing\n",
      "Floating 0: <trimesh.Trimesh(vertices.shape=(113, 3), faces.shape=(176, 3))>\n",
      "invalidation_d = 1500\n",
      "use_adaptive_invalidation_d= False\n",
      "axon_width_preprocess_limb_max = 200\n",
      "filter_end_node_length= 1150\n",
      "filter_end_node_length_meshparty = 1150\n",
      "invalidation_d = 1500\n",
      "root_curr = None\n",
      "Time for preparing soma vertices and root: 6.4373016357421875e-06\n",
      "invalidation_d = 1500\n",
      "smooth_neighborhood = 0\n",
      "cc_vertex_thresh = 10\n"
     ]
    },
    {
     "name": "stderr",
     "output_type": "stream",
     "text": [
      "100%|██████████| 1/1 [00:00<00:00, 332.12it/s]"
     ]
    },
    {
     "name": "stdout",
     "output_type": "stream",
     "text": [
      "meshparty_segment_size = 100\n",
      "Time for 1st pass MP skeletonization: 0.016187429428100586\n",
      "branches_touching_root = [0]\n",
      "combining close nodes\n",
      "combine_threshold = 1300\n",
      "length of Graph = 20\n",
      "After combining close endpoints max(kept_branches_idx) = 0, len(kept_branches_idx) = 1\n",
      "empty_indices % = 0.0\n",
      " conflict_indices % = 0.0\n",
      "AFTER face_lookup_resolved_test\n",
      "Decomposing first pass: 0.017120361328125\n",
      "Only Using MeshParty Skeletonization and Mesh Correspondence\n",
      "Another print\n",
      "Divinding into MP and MAP pieces: 6.67572021484375e-06\n",
      "Total time for MAP sublimb processing 1.9073486328125e-06\n",
      "---- Working on MP Decomposition #0 ----\n",
      "Using Quicker soma_to_piece_touching_vertices because no MAP and only one sublimb_mesh piece \n",
      "MP filtering soma verts: 1.3113021850585938e-05\n",
      "Do Not Need to Fix MP Decomposition 0 so just continuing\n",
      "There were not both MAP and MP pieces so skipping the stitch resolving phase\n",
      "Time for decomp of Limb = 0.03407025337219238\n",
      "Using Distance measure skeletal_distance\n",
      "no small end nodes to get rid of so returning whole skeleton\n",
      "Removed 0 skeletal branches\n",
      "175 176\n",
      "For marked faces: None\n",
      "empty_indices % = 0.0\n",
      " conflict_indices % = 0.0\n",
      "AFTER face_lookup_resolved_test\n"
     ]
    },
    {
     "name": "stderr",
     "output_type": "stream",
     "text": [
      "\n"
     ]
    },
    {
     "data": {
      "application/vnd.jupyter.widget-view+json": {
       "model_id": "14fa752e6be04e02af47232a3b7150ab",
       "version_major": 2,
       "version_minor": 0
      },
      "text/plain": [
       "Container(figure=Figure(box_center=[0.5, 0.5, 0.5], box_size=[1.0, 1.0, 1.0], camera=PerspectiveCamera(fov=45.…"
      ]
     },
     "metadata": {},
     "output_type": "display_data"
    },
    {
     "name": "stdout",
     "output_type": "stream",
     "text": [
      "--> time = 0.10035848617553711\n",
      "Floating 1: <trimesh.Trimesh(vertices.shape=(3012, 3), faces.shape=(5404, 3))>\n",
      "invalidation_d = 1500\n",
      "use_adaptive_invalidation_d= False\n",
      "axon_width_preprocess_limb_max = 200\n",
      "filter_end_node_length= 1150\n",
      "filter_end_node_length_meshparty = 1150\n",
      "invalidation_d = 1500\n",
      "root_curr = None\n",
      "Time for preparing soma vertices and root: 5.0067901611328125e-06\n",
      "invalidation_d = 1500\n",
      "smooth_neighborhood = 0\n",
      "cc_vertex_thresh = 10\n"
     ]
    },
    {
     "name": "stderr",
     "output_type": "stream",
     "text": [
      "100%|██████████| 1/1 [00:00<00:00, 14.24it/s]\n"
     ]
    },
    {
     "name": "stdout",
     "output_type": "stream",
     "text": [
      "meshparty_segment_size = 100\n",
      "Time for 1st pass MP skeletonization: 0.12490081787109375\n",
      "branches_touching_root = [6]\n",
      "combining close nodes\n",
      "combine_threshold = 1300\n",
      "length of Graph = 344\n",
      "After combining close endpoints max(kept_branches_idx) = 12, len(kept_branches_idx) = 11\n",
      "empty_indices % = 0.0\n",
      " conflict_indices % = 0.0902269743012568\n",
      "AFTER face_lookup_resolved_test\n",
      "Decomposing first pass: 0.2885880470275879\n",
      "Only Using MeshParty Skeletonization and Mesh Correspondence\n",
      "Another print\n",
      "Divinding into MP and MAP pieces: 7.62939453125e-06\n",
      "Total time for MAP sublimb processing 2.1457672119140625e-06\n",
      "---- Working on MP Decomposition #0 ----\n",
      "Using Quicker soma_to_piece_touching_vertices because no MAP and only one sublimb_mesh piece \n",
      "MP filtering soma verts: 1.3828277587890625e-05\n",
      "Do Not Need to Fix MP Decomposition 0 so just continuing\n",
      "There were not both MAP and MP pieces so skipping the stitch resolving phase\n",
      "Time for decomp of Limb = 0.42392611503601074\n",
      "Using Distance measure skeletal_distance\n",
      "Removed 2 skeletal branches\n",
      "5403 5404\n",
      "For marked faces: None\n",
      "empty_indices % = 0.000925240562546262\n",
      " conflict_indices % = 0.0\n",
      "AFTER face_lookup_resolved_test\n"
     ]
    },
    {
     "data": {
      "application/vnd.jupyter.widget-view+json": {
       "model_id": "969dc5772b624761a3a60eeeeba5a54d",
       "version_major": 2,
       "version_minor": 0
      },
      "text/plain": [
       "Container(figure=Figure(box_center=[0.5, 0.5, 0.5], box_size=[1.0, 1.0, 1.0], camera=PerspectiveCamera(fov=45.…"
      ]
     },
     "metadata": {},
     "output_type": "display_data"
    },
    {
     "name": "stdout",
     "output_type": "stream",
     "text": [
      "--> time = 0.7721388339996338\n",
      "winning_float = 0\n",
      "winning_float_match_main_limb = 0\n",
      "winning_float_dist = 21.0\n",
      "main_limb_stitch_point = [1465674.  643860. 1076901.]\n",
      "floating_limb_stitch_point = [1465674.  643881. 1076901.]\n",
      "node_for_stitch = 3609: [1465674.  643860. 1076901.]\n",
      "node_for_stitch AFTER = 3609: [1465674.  643860. 1076901.]\n",
      "possible_node_loc = [   0   56  231  394  489  599  750  886  911  923  930 1520 1868 1916\n",
      " 1970 1977 2099 2137 2186 2257 2467 2558 2570 2654 2948 3166 3249 3609\n",
      " 3667 3907 4018 4333 5310 5723 5732 6499 6879 6970 7222 7513 7623 7638\n",
      " 7758 7797 7841  350  845  860 1042 1233 1518 1531 1665 1739 1782 2196\n",
      " 2378 2575 2655 2761 2911 3114 3620 3782 3846 3900 4086 4485 5560 6468\n",
      " 6601 6896 7065 7167 7429 7447]\n",
      "possible_node_loc AFTER = [   0   56  231  350  394  489  599  750  845  860  886  911  923  930\n",
      " 1042 1233 1518 1520 1531 1665 1739 1782 1868 1916 1970 1977 2099 2137\n",
      " 2186 2196 2257 2378 2467 2558 2570 2575 2654 2655 2761 2911 2948 3114\n",
      " 3166 3249 3609 3620 3667 3782 3846 3900 3907 4018 4086 4333 4485 5310\n",
      " 5560 5723 6468 6499 6601 6879 6896 6970 7065 7167 7222 7429 7447 7513\n",
      " 7623 7638 7758 7797 7841]\n",
      "curr_shortest_path = [3609]\n",
      "Current stitch point was a branch or endpoint\n",
      "Status of Main limb stitch point moved = False\n",
      "\n",
      "\n",
      "\n",
      "match_sk_branches = [45]\n",
      "match_float_branches = [0]\n",
      "stitch_point_on_end_or_branch = True\n",
      "winning_float = 1\n",
      "winning_float_match_main_limb = 0\n",
      "winning_float_dist = 23581.571737481798\n",
      "main_limb_stitch_point = [1484351.   588129.9 1095200. ]\n",
      "floating_limb_stitch_point = [1470189.  580818. 1112580.]\n",
      "The closest float distance was 23581.571737481798 which was greater than the maximum stitch distance 5000\n",
      " --> so ending the floating mesh stitch processs\n",
      "concept_network_dict = {0: [<datasci_tools.networkx_utils.GraphOrderedEdges object at 0x7f7d36c6b2b0>]}\n",
      "\n",
      "\n",
      "----Working on seperate_graph 0----\n",
      "\n",
      "\n",
      "---------Working on soma_idx = 0, soma_group_idx 0, endpt = [1484351.   588129.9 1095200. ]---------\n",
      "Starting_edge inside branches_to_conept = [[1467806.   619005.5 1081192. ]\n",
      " [1484351.   588129.9 1095200. ]]\n",
      "At the start, starting_node (in terms of the skeleton, that shouldn't match the starting edge) = [59]\n",
      "printing out current edge:\n",
      "[[1484351.   588129.9 1095200. ]\n",
      " [1467806.   619005.5 1081192. ]]\n",
      "edge_endpoints_to_process was empty so exiting loop after 76 iterations\n",
      "starting_node in concept map (that should match the starting edge) = 53\n",
      "Total time for branches to concept conversion = 0.379591703414917\n",
      "\n",
      "Done generating concept network \n",
      "\n",
      "\n",
      "\n",
      "Number of segments: 15\n",
      "\n",
      "\n",
      "Number of segments: 11\n",
      "\n",
      "\n",
      "Number of segments: 11\n",
      "\n",
      "\n",
      "Number of segments: 10\n",
      "\n",
      "\n",
      "Number of segments: 2\n",
      "\n",
      "\n",
      "Number of segments: 8\n",
      "\n",
      "\n",
      "Number of segments: 3\n",
      "\n",
      "\n",
      "Number of segments: 13\n",
      "\n",
      "\n",
      "Number of segments: 1\n",
      "\n",
      "\n",
      "Number of segments: 2\n",
      "\n",
      "\n",
      "Number of segments: 4\n",
      "\n",
      "\n",
      "Number of segments: 5\n",
      "\n",
      "\n",
      "Number of segments: 6\n",
      "\n",
      "\n",
      "Number of segments: 51\n",
      "\n",
      "\n",
      "Number of segments: 3\n",
      "\n",
      "\n",
      "Number of segments: 12\n",
      "\n",
      "\n",
      "Number of segments: 6\n",
      "\n",
      "\n",
      "Number of segments: 3\n",
      "\n",
      "\n",
      "Number of segments: 5\n",
      "\n",
      "\n",
      "Number of segments: 10\n",
      "\n",
      "\n",
      "Number of segments: 7\n",
      "\n",
      "\n",
      "Number of segments: 7\n",
      "\n",
      "\n",
      "Number of segments: 7\n",
      "\n",
      "\n",
      "Number of segments: 3\n",
      "\n",
      "\n",
      "Number of segments: 5\n",
      "\n",
      "\n",
      "Number of segments: 4\n",
      "\n",
      "\n",
      "Number of segments: 3\n",
      "\n",
      "\n",
      "Number of segments: 4\n",
      "\n",
      "\n",
      "Number of segments: 3\n",
      "\n",
      "\n",
      "Number of segments: 3\n",
      "\n",
      "\n",
      "Number of segments: 7\n",
      "\n",
      "\n",
      "Number of segments: 14\n",
      "\n",
      "\n",
      "Number of segments: 4\n",
      "\n",
      "\n",
      "Number of segments: 7\n",
      "\n",
      "\n",
      "Number of segments: 8\n",
      "\n",
      "\n",
      "Number of segments: 4\n",
      "\n",
      "\n",
      "Number of segments: 4\n",
      "\n",
      "\n",
      "Number of segments: 7\n",
      "\n",
      "\n",
      "Number of segments: 10\n",
      "\n",
      "\n",
      "Number of segments: 2\n",
      "\n",
      "\n",
      "Number of segments: 16\n",
      "\n",
      "\n",
      "Number of segments: 10\n",
      "\n",
      "\n",
      "Number of segments: 16\n",
      "\n",
      "\n",
      "Number of segments: 20\n",
      "\n",
      "\n",
      "Number of segments: 3\n",
      "\n",
      "\n",
      "Number of segments: 5\n",
      "\n",
      "\n",
      "Number of segments: 9\n",
      "\n",
      "\n",
      "Number of segments: 10\n",
      "\n",
      "\n",
      "Number of segments: 2\n",
      "\n",
      "\n",
      "Number of segments: 4\n",
      "\n",
      "\n",
      "Number of segments: 13\n",
      "\n",
      "\n",
      "Number of segments: 6\n",
      "\n",
      "\n",
      "Number of segments: 6\n",
      "\n",
      "\n",
      "Number of segments: 4\n",
      "\n",
      "\n",
      "Number of segments: 5\n",
      "\n",
      "\n",
      "Number of segments: 3\n",
      "\n",
      "\n",
      "Number of segments: 3\n",
      "\n",
      "\n",
      "Number of segments: 12\n",
      "\n",
      "\n",
      "Number of segments: 16\n",
      "\n",
      "\n",
      "Number of segments: 9\n",
      "\n",
      "\n",
      "Number of segments: 9\n",
      "\n",
      "\n",
      "Number of segments: 12\n",
      "\n",
      "\n",
      "Number of segments: 16\n",
      "\n",
      "\n",
      "Number of segments: 23\n",
      "\n",
      "\n",
      "Number of segments: 12\n",
      "\n",
      "\n",
      "Number of segments: 28\n",
      "\n",
      "\n",
      "Number of segments: 10\n",
      "\n",
      "\n",
      "Number of segments: 8\n",
      "\n",
      "\n",
      "Number of segments: 12\n",
      "\n",
      "\n",
      "Number of segments: 21\n",
      "\n",
      "\n",
      "Number of segments: 8\n",
      "\n",
      "\n",
      "Number of segments: 5\n",
      "\n",
      "\n",
      "Number of segments: 12\n",
      "\n",
      "\n",
      "Number of segments: 12\n",
      "\n",
      "\n",
      "Number of segments: 6\n",
      "\n",
      "\n",
      "Number of segments: 23\n",
      "\n",
      "\n",
      "Number of segments: 13\n",
      "\n",
      "\n",
      "Number of segments: 9\n",
      "\n",
      "\n",
      "Number of segments: 10\n",
      "\n",
      "\n",
      "Number of segments: 23\n",
      "\n",
      "\n",
      "Number of segments: 26\n",
      "\n",
      "\n",
      "Number of segments: 11\n",
      "\n",
      "\n",
      "Number of segments: 13\n",
      "\n",
      "\n",
      "Number of segments: 12\n",
      "\n",
      "\n",
      "Number of segments: 17\n",
      "\n",
      "\n",
      "Number of segments: 8\n",
      "\n",
      "\n",
      "Number of segments: 15\n",
      "\n",
      "\n",
      "Number of segments: 13\n",
      "\n",
      "\n",
      " Working on visualization type: mesh\n",
      "\n",
      " Working on visualization type: skeleton\n"
     ]
    },
    {
     "data": {
      "application/vnd.jupyter.widget-view+json": {
       "model_id": "2d42a07179f3421abdbc307a55753ab6",
       "version_major": 2,
       "version_minor": 0
      },
      "text/plain": [
       "Container(figure=Figure(box_center=[0.5, 0.5, 0.5], box_size=[1.0, 1.0, 1.0], camera=PerspectiveCamera(fov=45.…"
      ]
     },
     "metadata": {},
     "output_type": "display_data"
    }
   ],
   "source": [
    "from neurd.vdi_microns import volume_data_interface as vdi\n",
    "vdi.set_parameters_for_directory_modules()\n",
    "\n",
    "from neurd import neuron_pipeline_utils as npu\n",
    "\n",
    "neuron_obj_axon = npu.cell_type_ax_dendr_stage(\n",
    "    n1,\n",
    "    segment_id = 864691135510518224,\n",
    "    mesh_decimated = mesh_decimated,\n",
    "    plot_axon = True,\n",
    ")"
   ]
  },
  {
   "cell_type": "code",
   "execution_count": 256,
   "id": "ef29fb5b",
   "metadata": {},
   "outputs": [
    {
     "name": "stdout",
     "output_type": "stream",
     "text": [
      "\n",
      " Working on visualization type: mesh\n",
      "\n",
      " Working on visualization type: skeleton\n"
     ]
    },
    {
     "data": {
      "application/vnd.jupyter.widget-view+json": {
       "model_id": "690edbe4827c47af879be71e85b2aae3",
       "version_major": 2,
       "version_minor": 0
      },
      "text/plain": [
       "Container(figure=Figure(box_center=[0.5, 0.5, 0.5], box_size=[1.0, 1.0, 1.0], camera=PerspectiveCamera(fov=45.…"
      ]
     },
     "metadata": {},
     "output_type": "display_data"
    }
   ],
   "source": [
    "nviz.plot_axon(\n",
    "    neuron_obj_axon\n",
    ")"
   ]
  },
  {
   "cell_type": "code",
   "execution_count": null,
   "id": "704ac5c8",
   "metadata": {},
   "outputs": [],
   "source": []
  },
  {
   "cell_type": "markdown",
   "id": "e4359d09",
   "metadata": {},
   "source": [
    "# Autoproofreading Stage"
   ]
  },
  {
   "cell_type": "code",
   "execution_count": 274,
   "id": "b9f4caaa",
   "metadata": {},
   "outputs": [],
   "source": [
    "#2) Proofreading Full Run\n",
    "validation = False\n",
    "plot_data = False\n",
    "proofread_verbose= True\n",
    "plot_head_neck_shaft_synapses = False\n",
    "plot_limb_branch_filter_with_disconnect_effect = True\n",
    "plot_compartments = True\n",
    "plot_valid_synapses = True\n",
    "plot_error_synapses = True\n",
    "\n",
    "#4) Neuron Objects\n",
    "proof_version = 7\n",
    "compute_G_after_proof = True\n",
    "\n",
    "#5) Neuron Statistics \n",
    "cell_type_used = \"neurd\"\n",
    "\n",
    "verbose = True\n",
    "proofread_verbose = True\n",
    "return_red_blue_splits = True\n",
    "return_split_locations = True"
   ]
  },
  {
   "cell_type": "code",
   "execution_count": 258,
   "id": "2f5fd9cd",
   "metadata": {},
   "outputs": [
    {
     "data": {
      "text/plain": [
       "'excitatory'"
      ]
     },
     "execution_count": 258,
     "metadata": {},
     "output_type": "execute_result"
    }
   ],
   "source": [
    "cell_type = neuron_obj_axon.cell_type\n",
    "nucleus_id = neuron_obj_axon.cell_type"
   ]
  },
  {
   "cell_type": "code",
   "execution_count": null,
   "id": "458fa42f",
   "metadata": {
    "scrolled": true
   },
   "outputs": [
    {
     "name": "stderr",
     "output_type": "stream",
     "text": [
      "[autoreload of prompt_toolkit.cache failed: Traceback (most recent call last):\n",
      "  File \"/usr/local/lib/python3.8/dist-packages/IPython/extensions/autoreload.py\", line 273, in check\n",
      "    superreload(m, reload, self.old_objects)\n",
      "  File \"/usr/local/lib/python3.8/dist-packages/IPython/extensions/autoreload.py\", line 496, in superreload\n",
      "    update_generic(old_obj, new_obj)\n",
      "  File \"/usr/local/lib/python3.8/dist-packages/IPython/extensions/autoreload.py\", line 393, in update_generic\n",
      "    update(a, b)\n",
      "  File \"/usr/local/lib/python3.8/dist-packages/IPython/extensions/autoreload.py\", line 361, in update_class\n",
      "    update_instances(old, new)\n",
      "  File \"/usr/local/lib/python3.8/dist-packages/IPython/extensions/autoreload.py\", line 319, in update_instances\n",
      "    object.__setattr__(ref, \"__class__\", new)\n",
      "TypeError: __class__ assignment: 'SimpleCache' object layout differs from 'SimpleCache'\n",
      "]\n",
      "[autoreload of prompt_toolkit.filters.base failed: Traceback (most recent call last):\n",
      "  File \"/usr/local/lib/python3.8/dist-packages/IPython/extensions/autoreload.py\", line 273, in check\n",
      "    superreload(m, reload, self.old_objects)\n",
      "  File \"/usr/local/lib/python3.8/dist-packages/IPython/extensions/autoreload.py\", line 471, in superreload\n",
      "    module = reload(module)\n",
      "  File \"/usr/lib/python3.8/importlib/__init__.py\", line 169, in reload\n",
      "    _bootstrap._exec(spec, module)\n",
      "  File \"<frozen importlib._bootstrap>\", line 604, in _exec\n",
      "  File \"<frozen importlib._bootstrap_external>\", line 783, in exec_module\n",
      "  File \"<frozen importlib._bootstrap>\", line 219, in _call_with_frames_removed\n",
      "  File \"/usr/local/lib/python3.8/dist-packages/prompt_toolkit/filters/base.py\", line 7, in <module>\n",
      "    from prompt_toolkit.utils import test_callable_args\n",
      "ImportError: cannot import name 'test_callable_args' from 'prompt_toolkit.utils' (/usr/local/lib/python3.8/dist-packages/prompt_toolkit/utils.py)\n",
      "]\n",
      "[autoreload of prompt_toolkit.filters.app failed: Traceback (most recent call last):\n",
      "  File \"/usr/local/lib/python3.8/dist-packages/IPython/extensions/autoreload.py\", line 273, in check\n",
      "    superreload(m, reload, self.old_objects)\n",
      "  File \"/usr/local/lib/python3.8/dist-packages/IPython/extensions/autoreload.py\", line 496, in superreload\n",
      "    update_generic(old_obj, new_obj)\n",
      "  File \"/usr/local/lib/python3.8/dist-packages/IPython/extensions/autoreload.py\", line 393, in update_generic\n",
      "    update(a, b)\n",
      "  File \"/usr/local/lib/python3.8/dist-packages/IPython/extensions/autoreload.py\", line 305, in update_function\n",
      "    setattr(old, name, getattr(new, name))\n",
      "ValueError: has_focus() requires a code object with 0 free vars, not 2\n",
      "]\n",
      "[autoreload of prompt_toolkit.keys failed: Traceback (most recent call last):\n",
      "  File \"/usr/local/lib/python3.8/dist-packages/IPython/extensions/autoreload.py\", line 273, in check\n",
      "    superreload(m, reload, self.old_objects)\n",
      "  File \"/usr/local/lib/python3.8/dist-packages/IPython/extensions/autoreload.py\", line 496, in superreload\n",
      "    update_generic(old_obj, new_obj)\n",
      "  File \"/usr/local/lib/python3.8/dist-packages/IPython/extensions/autoreload.py\", line 393, in update_generic\n",
      "    update(a, b)\n",
      "  File \"/usr/local/lib/python3.8/dist-packages/IPython/extensions/autoreload.py\", line 361, in update_class\n",
      "    update_instances(old, new)\n",
      "  File \"/usr/local/lib/python3.8/dist-packages/IPython/extensions/autoreload.py\", line 319, in update_instances\n",
      "    object.__setattr__(ref, \"__class__\", new)\n",
      "TypeError: __class__ assignment: 'Keys' object layout differs from 'Keys'\n",
      "]\n",
      "[autoreload of prompt_toolkit.key_binding.vi_state failed: Traceback (most recent call last):\n",
      "  File \"/usr/local/lib/python3.8/dist-packages/IPython/extensions/autoreload.py\", line 273, in check\n",
      "    superreload(m, reload, self.old_objects)\n",
      "  File \"/usr/local/lib/python3.8/dist-packages/IPython/extensions/autoreload.py\", line 496, in superreload\n",
      "    update_generic(old_obj, new_obj)\n",
      "  File \"/usr/local/lib/python3.8/dist-packages/IPython/extensions/autoreload.py\", line 393, in update_generic\n",
      "    update(a, b)\n",
      "  File \"/usr/local/lib/python3.8/dist-packages/IPython/extensions/autoreload.py\", line 361, in update_class\n",
      "    update_instances(old, new)\n",
      "  File \"/usr/local/lib/python3.8/dist-packages/IPython/extensions/autoreload.py\", line 319, in update_instances\n",
      "    object.__setattr__(ref, \"__class__\", new)\n",
      "TypeError: __class__ assignment: 'InputMode' object layout differs from 'InputMode'\n",
      "]\n",
      "[autoreload of prompt_toolkit.output.color_depth failed: Traceback (most recent call last):\n",
      "  File \"/usr/local/lib/python3.8/dist-packages/IPython/extensions/autoreload.py\", line 273, in check\n",
      "    superreload(m, reload, self.old_objects)\n",
      "  File \"/usr/local/lib/python3.8/dist-packages/IPython/extensions/autoreload.py\", line 496, in superreload\n",
      "    update_generic(old_obj, new_obj)\n",
      "  File \"/usr/local/lib/python3.8/dist-packages/IPython/extensions/autoreload.py\", line 393, in update_generic\n",
      "    update(a, b)\n",
      "  File \"/usr/local/lib/python3.8/dist-packages/IPython/extensions/autoreload.py\", line 361, in update_class\n",
      "    update_instances(old, new)\n",
      "  File \"/usr/local/lib/python3.8/dist-packages/IPython/extensions/autoreload.py\", line 319, in update_instances\n",
      "    object.__setattr__(ref, \"__class__\", new)\n",
      "TypeError: __class__ assignment: 'ColorDepth' object layout differs from 'ColorDepth'\n",
      "]\n",
      "[autoreload of prompt_toolkit.output.base failed: Traceback (most recent call last):\n",
      "  File \"/usr/local/lib/python3.8/dist-packages/IPython/extensions/autoreload.py\", line 273, in check\n",
      "    superreload(m, reload, self.old_objects)\n",
      "  File \"/usr/local/lib/python3.8/dist-packages/IPython/extensions/autoreload.py\", line 471, in superreload\n",
      "    module = reload(module)\n",
      "  File \"/usr/lib/python3.8/importlib/__init__.py\", line 169, in reload\n",
      "    _bootstrap._exec(spec, module)\n",
      "  File \"<frozen importlib._bootstrap>\", line 604, in _exec\n",
      "  File \"<frozen importlib._bootstrap_external>\", line 783, in exec_module\n",
      "  File \"<frozen importlib._bootstrap>\", line 219, in _call_with_frames_removed\n",
      "  File \"/usr/local/lib/python3.8/dist-packages/prompt_toolkit/output/base.py\", line 10, in <module>\n",
      "    from prompt_toolkit.layout.screen import Size\n",
      "ImportError: cannot import name 'Size' from 'prompt_toolkit.layout.screen' (/usr/local/lib/python3.8/dist-packages/prompt_toolkit/layout/screen.py)\n",
      "]\n",
      "[autoreload of prompt_toolkit.output.vt100 failed: Traceback (most recent call last):\n",
      "  File \"/usr/local/lib/python3.8/dist-packages/IPython/extensions/autoreload.py\", line 273, in check\n",
      "    superreload(m, reload, self.old_objects)\n",
      "  File \"/usr/local/lib/python3.8/dist-packages/IPython/extensions/autoreload.py\", line 471, in superreload\n",
      "    module = reload(module)\n",
      "  File \"/usr/lib/python3.8/importlib/__init__.py\", line 169, in reload\n",
      "    _bootstrap._exec(spec, module)\n",
      "  File \"<frozen importlib._bootstrap>\", line 604, in _exec\n",
      "  File \"<frozen importlib._bootstrap_external>\", line 783, in exec_module\n",
      "  File \"<frozen importlib._bootstrap>\", line 219, in _call_with_frames_removed\n",
      "  File \"/usr/local/lib/python3.8/dist-packages/prompt_toolkit/output/vt100.py\", line 18, in <module>\n",
      "    from prompt_toolkit.layout.screen import Size\n",
      "ImportError: cannot import name 'Size' from 'prompt_toolkit.layout.screen' (/usr/local/lib/python3.8/dist-packages/prompt_toolkit/layout/screen.py)\n",
      "]\n",
      "[autoreload of prompt_toolkit.completion.filesystem failed: Traceback (most recent call last):\n",
      "  File \"/usr/local/lib/python3.8/dist-packages/IPython/extensions/autoreload.py\", line 273, in check\n",
      "    superreload(m, reload, self.old_objects)\n",
      "  File \"/usr/local/lib/python3.8/dist-packages/IPython/extensions/autoreload.py\", line 496, in superreload\n",
      "    update_generic(old_obj, new_obj)\n",
      "  File \"/usr/local/lib/python3.8/dist-packages/IPython/extensions/autoreload.py\", line 393, in update_generic\n",
      "    update(a, b)\n",
      "  File \"/usr/local/lib/python3.8/dist-packages/IPython/extensions/autoreload.py\", line 345, in update_class\n",
      "    if update_generic(old_obj, new_obj):\n",
      "  File \"/usr/local/lib/python3.8/dist-packages/IPython/extensions/autoreload.py\", line 393, in update_generic\n",
      "    update(a, b)\n",
      "  File \"/usr/local/lib/python3.8/dist-packages/IPython/extensions/autoreload.py\", line 305, in update_function\n",
      "    setattr(old, name, getattr(new, name))\n",
      "ValueError: __init__() requires a code object with 1 free vars, not 0\n",
      "]\n"
     ]
    },
    {
     "name": "stderr",
     "output_type": "stream",
     "text": [
      "[autoreload of prompt_toolkit.history failed: Traceback (most recent call last):\n",
      "  File \"/usr/local/lib/python3.8/dist-packages/IPython/extensions/autoreload.py\", line 273, in check\n",
      "    superreload(m, reload, self.old_objects)\n",
      "  File \"/usr/local/lib/python3.8/dist-packages/IPython/extensions/autoreload.py\", line 496, in superreload\n",
      "    update_generic(old_obj, new_obj)\n",
      "  File \"/usr/local/lib/python3.8/dist-packages/IPython/extensions/autoreload.py\", line 393, in update_generic\n",
      "    update(a, b)\n",
      "  File \"/usr/local/lib/python3.8/dist-packages/IPython/extensions/autoreload.py\", line 345, in update_class\n",
      "    if update_generic(old_obj, new_obj):\n",
      "  File \"/usr/local/lib/python3.8/dist-packages/IPython/extensions/autoreload.py\", line 393, in update_generic\n",
      "    update(a, b)\n",
      "  File \"/usr/local/lib/python3.8/dist-packages/IPython/extensions/autoreload.py\", line 305, in update_function\n",
      "    setattr(old, name, getattr(new, name))\n",
      "ValueError: __init__() requires a code object with 1 free vars, not 0\n",
      "]\n",
      "[autoreload of prompt_toolkit.layout.controls failed: Traceback (most recent call last):\n",
      "  File \"/usr/local/lib/python3.8/dist-packages/IPython/extensions/autoreload.py\", line 273, in check\n",
      "    superreload(m, reload, self.old_objects)\n",
      "  File \"/usr/local/lib/python3.8/dist-packages/IPython/extensions/autoreload.py\", line 496, in superreload\n",
      "    update_generic(old_obj, new_obj)\n",
      "  File \"/usr/local/lib/python3.8/dist-packages/IPython/extensions/autoreload.py\", line 393, in update_generic\n",
      "    update(a, b)\n",
      "  File \"/usr/local/lib/python3.8/dist-packages/IPython/extensions/autoreload.py\", line 361, in update_class\n",
      "    update_instances(old, new)\n",
      "  File \"/usr/local/lib/python3.8/dist-packages/IPython/extensions/autoreload.py\", line 315, in update_instances\n",
      "    refs = gc.get_referrers(old)\n",
      "KeyboardInterrupt\n",
      "]\n",
      "[autoreload of prompt_toolkit.layout.screen failed: Traceback (most recent call last):\n",
      "  File \"/usr/local/lib/python3.8/dist-packages/IPython/extensions/autoreload.py\", line 273, in check\n",
      "    superreload(m, reload, self.old_objects)\n",
      "  File \"/usr/local/lib/python3.8/dist-packages/IPython/extensions/autoreload.py\", line 496, in superreload\n",
      "    update_generic(old_obj, new_obj)\n",
      "  File \"/usr/local/lib/python3.8/dist-packages/IPython/extensions/autoreload.py\", line 393, in update_generic\n",
      "    update(a, b)\n",
      "  File \"/usr/local/lib/python3.8/dist-packages/IPython/extensions/autoreload.py\", line 361, in update_class\n",
      "    update_instances(old, new)\n",
      "  File \"/usr/local/lib/python3.8/dist-packages/IPython/extensions/autoreload.py\", line 315, in update_instances\n",
      "    refs = gc.get_referrers(old)\n",
      "KeyboardInterrupt\n",
      "]\n",
      "[autoreload of prompt_toolkit.layout.containers failed: Traceback (most recent call last):\n",
      "  File \"/usr/local/lib/python3.8/dist-packages/IPython/extensions/autoreload.py\", line 273, in check\n",
      "    superreload(m, reload, self.old_objects)\n",
      "  File \"/usr/local/lib/python3.8/dist-packages/IPython/extensions/autoreload.py\", line 496, in superreload\n",
      "    update_generic(old_obj, new_obj)\n",
      "  File \"/usr/local/lib/python3.8/dist-packages/IPython/extensions/autoreload.py\", line 393, in update_generic\n",
      "    update(a, b)\n",
      "  File \"/usr/local/lib/python3.8/dist-packages/IPython/extensions/autoreload.py\", line 361, in update_class\n",
      "    update_instances(old, new)\n",
      "  File \"/usr/local/lib/python3.8/dist-packages/IPython/extensions/autoreload.py\", line 315, in update_instances\n",
      "    refs = gc.get_referrers(old)\n",
      "KeyboardInterrupt\n",
      "]\n",
      "[autoreload of prompt_toolkit.layout.layout failed: Traceback (most recent call last):\n",
      "  File \"/usr/local/lib/python3.8/dist-packages/IPython/extensions/autoreload.py\", line 273, in check\n",
      "    superreload(m, reload, self.old_objects)\n",
      "  File \"/usr/local/lib/python3.8/dist-packages/IPython/extensions/autoreload.py\", line 496, in superreload\n",
      "    update_generic(old_obj, new_obj)\n",
      "  File \"/usr/local/lib/python3.8/dist-packages/IPython/extensions/autoreload.py\", line 393, in update_generic\n",
      "    update(a, b)\n",
      "  File \"/usr/local/lib/python3.8/dist-packages/IPython/extensions/autoreload.py\", line 361, in update_class\n",
      "    update_instances(old, new)\n",
      "  File \"/usr/local/lib/python3.8/dist-packages/IPython/extensions/autoreload.py\", line 315, in update_instances\n",
      "    refs = gc.get_referrers(old)\n",
      "KeyboardInterrupt\n",
      "]\n",
      "[autoreload of prompt_toolkit.layout.menus failed: Traceback (most recent call last):\n",
      "  File \"/usr/local/lib/python3.8/dist-packages/IPython/extensions/autoreload.py\", line 273, in check\n",
      "    superreload(m, reload, self.old_objects)\n",
      "  File \"/usr/local/lib/python3.8/dist-packages/IPython/extensions/autoreload.py\", line 496, in superreload\n",
      "    update_generic(old_obj, new_obj)\n",
      "  File \"/usr/local/lib/python3.8/dist-packages/IPython/extensions/autoreload.py\", line 393, in update_generic\n",
      "    update(a, b)\n",
      "  File \"/usr/local/lib/python3.8/dist-packages/IPython/extensions/autoreload.py\", line 361, in update_class\n",
      "    update_instances(old, new)\n",
      "  File \"/usr/local/lib/python3.8/dist-packages/IPython/extensions/autoreload.py\", line 315, in update_instances\n",
      "    refs = gc.get_referrers(old)\n",
      "KeyboardInterrupt\n",
      "]\n",
      "[autoreload of prompt_toolkit.input.vt100_parser failed: Traceback (most recent call last):\n",
      "  File \"/usr/local/lib/python3.8/dist-packages/IPython/extensions/autoreload.py\", line 273, in check\n",
      "    superreload(m, reload, self.old_objects)\n",
      "  File \"/usr/local/lib/python3.8/dist-packages/IPython/extensions/autoreload.py\", line 496, in superreload\n",
      "    update_generic(old_obj, new_obj)\n",
      "  File \"/usr/local/lib/python3.8/dist-packages/IPython/extensions/autoreload.py\", line 393, in update_generic\n",
      "    update(a, b)\n",
      "  File \"/usr/local/lib/python3.8/dist-packages/IPython/extensions/autoreload.py\", line 361, in update_class\n",
      "    update_instances(old, new)\n",
      "  File \"/usr/local/lib/python3.8/dist-packages/IPython/extensions/autoreload.py\", line 315, in update_instances\n",
      "    refs = gc.get_referrers(old)\n",
      "KeyboardInterrupt\n",
      "]\n",
      "[autoreload of prompt_toolkit.key_binding.bindings.vi failed: Traceback (most recent call last):\n",
      "  File \"/usr/local/lib/python3.8/dist-packages/IPython/extensions/autoreload.py\", line 273, in check\n",
      "    superreload(m, reload, self.old_objects)\n",
      "  File \"/usr/local/lib/python3.8/dist-packages/IPython/extensions/autoreload.py\", line 496, in superreload\n",
      "    update_generic(old_obj, new_obj)\n",
      "  File \"/usr/local/lib/python3.8/dist-packages/IPython/extensions/autoreload.py\", line 393, in update_generic\n",
      "    update(a, b)\n",
      "  File \"/usr/local/lib/python3.8/dist-packages/IPython/extensions/autoreload.py\", line 361, in update_class\n",
      "    update_instances(old, new)\n",
      "  File \"/usr/local/lib/python3.8/dist-packages/IPython/extensions/autoreload.py\", line 315, in update_instances\n",
      "    refs = gc.get_referrers(old)\n",
      "KeyboardInterrupt\n",
      "]\n",
      "[autoreload of prompt_toolkit.key_binding.emacs_state failed: Traceback (most recent call last):\n",
      "  File \"/usr/local/lib/python3.8/dist-packages/IPython/extensions/autoreload.py\", line 273, in check\n",
      "    superreload(m, reload, self.old_objects)\n",
      "  File \"/usr/local/lib/python3.8/dist-packages/IPython/extensions/autoreload.py\", line 496, in superreload\n",
      "    update_generic(old_obj, new_obj)\n",
      "  File \"/usr/local/lib/python3.8/dist-packages/IPython/extensions/autoreload.py\", line 393, in update_generic\n",
      "    update(a, b)\n",
      "  File \"/usr/local/lib/python3.8/dist-packages/IPython/extensions/autoreload.py\", line 361, in update_class\n",
      "    update_instances(old, new)\n",
      "  File \"/usr/local/lib/python3.8/dist-packages/IPython/extensions/autoreload.py\", line 315, in update_instances\n",
      "    refs = gc.get_referrers(old)\n",
      "KeyboardInterrupt\n",
      "]\n",
      "[autoreload of prompt_toolkit.widgets.base failed: Traceback (most recent call last):\n",
      "  File \"/usr/local/lib/python3.8/dist-packages/IPython/extensions/autoreload.py\", line 273, in check\n",
      "    superreload(m, reload, self.old_objects)\n",
      "  File \"/usr/local/lib/python3.8/dist-packages/IPython/extensions/autoreload.py\", line 496, in superreload\n",
      "    update_generic(old_obj, new_obj)\n",
      "  File \"/usr/local/lib/python3.8/dist-packages/IPython/extensions/autoreload.py\", line 393, in update_generic\n",
      "    update(a, b)\n",
      "  File \"/usr/local/lib/python3.8/dist-packages/IPython/extensions/autoreload.py\", line 361, in update_class\n",
      "    update_instances(old, new)\n",
      "  File \"/usr/local/lib/python3.8/dist-packages/IPython/extensions/autoreload.py\", line 315, in update_instances\n",
      "    refs = gc.get_referrers(old)\n",
      "KeyboardInterrupt\n",
      "]\n"
     ]
    },
    {
     "name": "stderr",
     "output_type": "stream",
     "text": [
      "[autoreload of prompt_toolkit.widgets.dialogs failed: Traceback (most recent call last):\n",
      "  File \"/usr/local/lib/python3.8/dist-packages/IPython/extensions/autoreload.py\", line 273, in check\n",
      "    superreload(m, reload, self.old_objects)\n",
      "  File \"/usr/local/lib/python3.8/dist-packages/IPython/extensions/autoreload.py\", line 496, in superreload\n",
      "    update_generic(old_obj, new_obj)\n",
      "  File \"/usr/local/lib/python3.8/dist-packages/IPython/extensions/autoreload.py\", line 393, in update_generic\n",
      "    update(a, b)\n",
      "  File \"/usr/local/lib/python3.8/dist-packages/IPython/extensions/autoreload.py\", line 361, in update_class\n",
      "    update_instances(old, new)\n",
      "  File \"/usr/local/lib/python3.8/dist-packages/IPython/extensions/autoreload.py\", line 315, in update_instances\n",
      "    refs = gc.get_referrers(old)\n",
      "KeyboardInterrupt\n",
      "]\n",
      "[autoreload of prompt_toolkit.widgets.menus failed: Traceback (most recent call last):\n",
      "  File \"/usr/local/lib/python3.8/dist-packages/IPython/extensions/autoreload.py\", line 273, in check\n",
      "    superreload(m, reload, self.old_objects)\n",
      "  File \"/usr/local/lib/python3.8/dist-packages/IPython/extensions/autoreload.py\", line 496, in superreload\n",
      "    update_generic(old_obj, new_obj)\n",
      "  File \"/usr/local/lib/python3.8/dist-packages/IPython/extensions/autoreload.py\", line 393, in update_generic\n",
      "    update(a, b)\n",
      "  File \"/usr/local/lib/python3.8/dist-packages/IPython/extensions/autoreload.py\", line 361, in update_class\n",
      "    update_instances(old, new)\n",
      "  File \"/usr/local/lib/python3.8/dist-packages/IPython/extensions/autoreload.py\", line 315, in update_instances\n",
      "    refs = gc.get_referrers(old)\n",
      "KeyboardInterrupt\n",
      "]\n",
      "[autoreload of prompt_toolkit.shortcuts.progress_bar.formatters failed: Traceback (most recent call last):\n",
      "  File \"/usr/local/lib/python3.8/dist-packages/IPython/extensions/autoreload.py\", line 273, in check\n",
      "    superreload(m, reload, self.old_objects)\n",
      "  File \"/usr/local/lib/python3.8/dist-packages/IPython/extensions/autoreload.py\", line 496, in superreload\n",
      "    update_generic(old_obj, new_obj)\n",
      "  File \"/usr/local/lib/python3.8/dist-packages/IPython/extensions/autoreload.py\", line 393, in update_generic\n",
      "    update(a, b)\n",
      "  File \"/usr/local/lib/python3.8/dist-packages/IPython/extensions/autoreload.py\", line 361, in update_class\n",
      "    update_instances(old, new)\n",
      "  File \"/usr/local/lib/python3.8/dist-packages/IPython/extensions/autoreload.py\", line 315, in update_instances\n",
      "    refs = gc.get_referrers(old)\n",
      "KeyboardInterrupt\n",
      "]\n",
      "[autoreload of prompt_toolkit.shortcuts.progress_bar.base failed: Traceback (most recent call last):\n",
      "  File \"/usr/local/lib/python3.8/dist-packages/IPython/extensions/autoreload.py\", line 273, in check\n",
      "    superreload(m, reload, self.old_objects)\n",
      "  File \"/usr/local/lib/python3.8/dist-packages/IPython/extensions/autoreload.py\", line 496, in superreload\n",
      "    update_generic(old_obj, new_obj)\n",
      "  File \"/usr/local/lib/python3.8/dist-packages/IPython/extensions/autoreload.py\", line 393, in update_generic\n",
      "    update(a, b)\n",
      "  File \"/usr/local/lib/python3.8/dist-packages/IPython/extensions/autoreload.py\", line 361, in update_class\n",
      "    update_instances(old, new)\n",
      "  File \"/usr/local/lib/python3.8/dist-packages/IPython/extensions/autoreload.py\", line 315, in update_instances\n",
      "    refs = gc.get_referrers(old)\n",
      "KeyboardInterrupt\n",
      "]\n",
      "[autoreload of prompt_toolkit.shortcuts.prompt failed: Traceback (most recent call last):\n",
      "  File \"/usr/local/lib/python3.8/dist-packages/IPython/extensions/autoreload.py\", line 273, in check\n",
      "    superreload(m, reload, self.old_objects)\n",
      "  File \"/usr/local/lib/python3.8/dist-packages/IPython/extensions/autoreload.py\", line 496, in superreload\n",
      "    update_generic(old_obj, new_obj)\n",
      "  File \"/usr/local/lib/python3.8/dist-packages/IPython/extensions/autoreload.py\", line 393, in update_generic\n",
      "    update(a, b)\n",
      "  File \"/usr/local/lib/python3.8/dist-packages/IPython/extensions/autoreload.py\", line 361, in update_class\n",
      "    update_instances(old, new)\n",
      "  File \"/usr/local/lib/python3.8/dist-packages/IPython/extensions/autoreload.py\", line 319, in update_instances\n",
      "    object.__setattr__(ref, \"__class__\", new)\n",
      "TypeError: __class__ assignment: 'CompleteStyle' object layout differs from 'CompleteStyle'\n",
      "]\n"
     ]
    }
   ],
   "source": [
    "from neurd import proofreading_utils as pru\n",
    "\n",
    "from neurd.vdi_microns import volume_data_interface as vdi\n",
    "vdi.set_parameters_for_directory_modules()\n",
    "\n",
    "neuron_obj_proof,filtering_info = pru.proofread_neuron_full(\n",
    "    neuron_obj_axon,\n",
    "    #original_mesh = mesh_decimated,\n",
    "\n",
    "    # arguments for processing down in DecompositionCellTypeV7\n",
    "    cell_type=cell_type,\n",
    "    add_back_soma_synapses = False,\n",
    "\n",
    "    proofread_verbose = proofread_verbose,\n",
    "    verbose_outline = verbose,\n",
    "    plot_limb_branch_filter_with_disconnect_effect = plot_limb_branch_filter_with_disconnect_effect,\n",
    "    plot_final_filtered_neuron = False,\n",
    "    plot_synapses_after_proofread = False,\n",
    "\n",
    "\n",
    "    plot_compartments = plot_compartments,\n",
    "\n",
    "    plot_valid_synapses = plot_valid_synapses,\n",
    "    plot_error_synapses = plot_error_synapses,\n",
    "\n",
    "    verbose = verbose,\n",
    "    debug_time = verbose,\n",
    "\n",
    "    return_red_blue_splits= True,\n",
    "    return_split_locations=True,\n",
    ")"
   ]
  },
  {
   "cell_type": "code",
   "execution_count": null,
   "id": "d2e8d117",
   "metadata": {},
   "outputs": [],
   "source": []
  },
  {
   "cell_type": "code",
   "execution_count": null,
   "id": "cfa5891f",
   "metadata": {},
   "outputs": [],
   "source": []
  },
  {
   "cell_type": "code",
   "execution_count": null,
   "id": "04fcb85d",
   "metadata": {},
   "outputs": [],
   "source": []
  },
  {
   "cell_type": "code",
   "execution_count": null,
   "id": "9bb8cde8",
   "metadata": {},
   "outputs": [],
   "source": []
  },
  {
   "cell_type": "code",
   "execution_count": 278,
   "id": "5299dd19",
   "metadata": {},
   "outputs": [
    {
     "data": {
      "text/plain": [
       "True"
      ]
     },
     "execution_count": 278,
     "metadata": {},
     "output_type": "execute_result"
    }
   ],
   "source": [
    "import networkx as nx\n",
    "from networkx.algorithms import isomorphism\n",
    "\n",
    "G1 = nx.path_graph(4, create_using=nx.DiGraph())\n",
    "G2 = nx.path_graph(4, create_using=nx.DiGraph())\n",
    "DiGM = isomorphism.DiGraphMatcher(G1, G2)\n",
    "DiGM.is_isomorphic()"
   ]
  },
  {
   "cell_type": "code",
   "execution_count": 280,
   "id": "1accb30f",
   "metadata": {},
   "outputs": [
    {
     "data": {
      "text/plain": [
       "True"
      ]
     },
     "execution_count": 280,
     "metadata": {},
     "output_type": "execute_result"
    }
   ],
   "source": [
    "from networkx.algorithms import isomorphism\n",
    "G1 = nx.path_graph(4)\n",
    "G2 = nx.path_graph(4)\n",
    "GM = isomorphism.GraphMatcher(G1, G2)\n",
    "GM.is_isomorphic()"
   ]
  },
  {
   "cell_type": "code",
   "execution_count": 281,
   "id": "71149c4f",
   "metadata": {},
   "outputs": [
    {
     "data": {
      "text/plain": [
       "'/usr/local/lib/python3.8/dist-packages/networkx/__init__.py'"
      ]
     },
     "execution_count": 281,
     "metadata": {},
     "output_type": "execute_result"
    }
   ],
   "source": [
    "nx.__file__"
   ]
  },
  {
   "cell_type": "code",
   "execution_count": 282,
   "id": "3c528903",
   "metadata": {},
   "outputs": [
    {
     "data": {
      "text/plain": [
       "'/usr/local/lib/python3.8/dist-packages/networkx/algorithms/isomorphism/__init__.py'"
      ]
     },
     "execution_count": 282,
     "metadata": {},
     "output_type": "execute_result"
    }
   ],
   "source": [
    "isomorphism.__file__"
   ]
  },
  {
   "cell_type": "code",
   "execution_count": null,
   "id": "76a0284b",
   "metadata": {},
   "outputs": [],
   "source": []
  }
 ],
 "metadata": {
  "kernelspec": {
   "display_name": "Python 3 (ipykernel)",
   "language": "python",
   "name": "python3"
  },
  "language_info": {
   "codemirror_mode": {
    "name": "ipython",
    "version": 3
   },
   "file_extension": ".py",
   "mimetype": "text/x-python",
   "name": "python",
   "nbconvert_exporter": "python",
   "pygments_lexer": "ipython3",
   "version": "3.8.0"
  }
 },
 "nbformat": 4,
 "nbformat_minor": 5
}
