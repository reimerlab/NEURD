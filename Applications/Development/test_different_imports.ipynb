{
 "cells": [
  {
   "cell_type": "code",
   "execution_count": 1,
   "id": "81c02eee",
   "metadata": {},
   "outputs": [],
   "source": [
    "%load_ext autoreload\n",
    "%autoreload 2"
   ]
  },
  {
   "cell_type": "code",
   "execution_count": 2,
   "id": "d1e7829b",
   "metadata": {},
   "outputs": [
    {
     "data": {
      "text/plain": [
       "\"\\ninformation on loader: https://tenthousandmeters.com/blog/python-behind-the-scenes-11-how-the-python-import-system-works/\\n\\nProblem: The loaders don't always point to the same object for the same module\\nbut imported in different modules\\n\""
      ]
     },
     "execution_count": 2,
     "metadata": {},
     "output_type": "execute_result"
    }
   ],
   "source": [
    "\"\"\"\n",
    "information on loader: https://tenthousandmeters.com/blog/python-behind-the-scenes-11-how-the-python-import-system-works/\n",
    "\n",
    "Problem: The loaders don't always point to the same object for the same module\n",
    "but imported in different modules\n",
    "\"\"\""
   ]
  },
  {
   "cell_type": "code",
   "execution_count": 3,
   "id": "4b4006da",
   "metadata": {
    "scrolled": true
   },
   "outputs": [
    {
     "name": "stdout",
     "output_type": "stream",
     "text": [
      "Jupyter environment detected. Enabling Open3D WebVisualizer.\n",
      "[Open3D INFO] WebRTC GUI backend enabled.\n",
      "[Open3D INFO] WebRTCWindowSystem: HTTP handshake server disabled.\n"
     ]
    }
   ],
   "source": [
    "from datasci_tools import ipyvolume_utils as ipvu"
   ]
  },
  {
   "cell_type": "markdown",
   "id": "e3e00e36",
   "metadata": {},
   "source": [
    "# Exploring class"
   ]
  },
  {
   "cell_type": "code",
   "execution_count": 135,
   "id": "3ea9666d",
   "metadata": {},
   "outputs": [],
   "source": [
    "import abc\n",
    "import uuid\n",
    "\n",
    "\n",
    "class Grader:\n",
    "    def __init__(self):\n",
    "        self.student_graders = {}\n",
    "        self.assignment_classes = {}\n",
    "\n",
    "    def register(self, assignment_class):\n",
    "        if not issubclass(assignment_class, Assignment):\n",
    "            raise RuntimeError(\n",
    "                \"Your class does not have the right methods\"\n",
    "            )\n",
    "\n",
    "        id = uuid.uuid4()\n",
    "        self.assignment_classes[id] = assignment_class\n",
    "        return id\n",
    "\n",
    "    def start_assignment(self, student, id):\n",
    "        self.student_graders[student] = AssignmentGrader(\n",
    "            student, self.assignment_classes[id]\n",
    "        )\n",
    "\n",
    "    def get_lesson(self, student):\n",
    "        assignment = self.student_graders[student]\n",
    "        return assignment.lesson()\n",
    "\n",
    "    def check_assignment(self, student, code):\n",
    "        assignment = self.student_graders[student]\n",
    "        return assignment.check(code)\n",
    "\n",
    "    def assignment_summary(self, student):\n",
    "        grader = self.student_graders[student]\n",
    "        return f\"\"\"\n",
    "        {student}'s attempts at {grader.assignment.__class__.__name__}:\n",
    "\n",
    "        attempts: {grader.attempts}\n",
    "        correct: {grader.correct_attempts}\n",
    "\n",
    "        passed: {grader.correct_attempts > 0}\n",
    "        \"\"\"\n",
    "\n",
    "\n",
    "class Assignment(metaclass=abc.ABCMeta):\n",
    "    @abc.abstractmethod\n",
    "    def lesson(self, student):\n",
    "        pass\n",
    "\n",
    "    @abc.abstractmethod\n",
    "    def check(self, code):\n",
    "        pass\n",
    "\n",
    "    @classmethod\n",
    "    def __subclasshook__(cls, C):\n",
    "        if cls is Assignment:\n",
    "            attrs = set(dir(C))\n",
    "            if set(cls.__abstractmethods__) <= attrs:\n",
    "                return True\n",
    "\n",
    "        return NotImplemented\n",
    "\n",
    "\n",
    "class AssignmentGrader:\n",
    "    def __init__(self, student, AssignmentClass):\n",
    "        self.assignment = AssignmentClass()\n",
    "        self.assignment.student = student\n",
    "        self.attempts = 0\n",
    "        self.correct_attempts = 0\n",
    "\n",
    "    def check(self, code):\n",
    "        self.attempts += 1\n",
    "        result = self.assignment.check(code)\n",
    "        if result:\n",
    "            self.correct_attempts += 1\n",
    "\n",
    "        return result\n",
    "\n",
    "    def lesson(self):\n",
    "        return self.assignment.lesson()\n",
    "    \n",
    "class IntroToPython:\n",
    "    def lesson(self):\n",
    "        return f\"\"\"\n",
    "            Hello {self.student}. define two variables,\n",
    "            an integer named a with value 1\n",
    "            and a string named b with value 'hello'\n",
    "\n",
    "        \"\"\"\n",
    "\n",
    "    def check(self, code):\n",
    "        return code == \"a = 1\\nb = 'hello'\"\n",
    "\n",
    "\n",
    "class Statistics(Assignment):\n",
    "    def lesson(self):\n",
    "        return (\n",
    "            \"Good work so far, \"\n",
    "            + self.student\n",
    "            + \". Now calculate the average of the numbers \"\n",
    "            + \" 1, 5, 18, -3 and assign to a variable named 'avg'\"\n",
    "        )\n",
    "\n",
    "    def check(self, code):\n",
    "        import statistics\n",
    "\n",
    "        code = \"import statistics\\n\" + code\n",
    "\n",
    "        local_vars = {}\n",
    "        global_vars = {}\n",
    "        exec(code, global_vars, local_vars)\n",
    "\n",
    "        return local_vars.get(\"avg\") == statistics.mean([1, 5, 18, -3])\n",
    "\n",
    "\n",
    "# Some code to test that it's doing the right thing"
   ]
  },
  {
   "cell_type": "code",
   "execution_count": 137,
   "id": "c4cbf6e3",
   "metadata": {},
   "outputs": [
    {
     "ename": "AttributeError",
     "evalue": "'Statistics' object has no attribute 'student'",
     "output_type": "error",
     "traceback": [
      "\u001b[0;31m---------------------------------------------------------------------------\u001b[0m",
      "\u001b[0;31mAttributeError\u001b[0m                            Traceback (most recent call last)",
      "Cell \u001b[0;32mIn[137], line 2\u001b[0m\n\u001b[1;32m      1\u001b[0m new_obj \u001b[38;5;241m=\u001b[39m Statistics()\n\u001b[0;32m----> 2\u001b[0m \u001b[43mnew_obj\u001b[49m\u001b[38;5;241;43m.\u001b[39;49m\u001b[43mlesson\u001b[49m\u001b[43m(\u001b[49m\u001b[43m)\u001b[49m\n",
      "Cell \u001b[0;32mIn[135], line 99\u001b[0m, in \u001b[0;36mStatistics.lesson\u001b[0;34m(self)\u001b[0m\n\u001b[1;32m     96\u001b[0m \u001b[38;5;28;01mdef\u001b[39;00m \u001b[38;5;21mlesson\u001b[39m(\u001b[38;5;28mself\u001b[39m):\n\u001b[1;32m     97\u001b[0m     \u001b[38;5;28;01mreturn\u001b[39;00m (\n\u001b[1;32m     98\u001b[0m         \u001b[38;5;124m\"\u001b[39m\u001b[38;5;124mGood work so far, \u001b[39m\u001b[38;5;124m\"\u001b[39m\n\u001b[0;32m---> 99\u001b[0m         \u001b[38;5;241m+\u001b[39m \u001b[38;5;28;43mself\u001b[39;49m\u001b[38;5;241;43m.\u001b[39;49m\u001b[43mstudent\u001b[49m\n\u001b[1;32m    100\u001b[0m         \u001b[38;5;241m+\u001b[39m \u001b[38;5;124m\"\u001b[39m\u001b[38;5;124m. Now calculate the average of the numbers \u001b[39m\u001b[38;5;124m\"\u001b[39m\n\u001b[1;32m    101\u001b[0m         \u001b[38;5;241m+\u001b[39m \u001b[38;5;124m\"\u001b[39m\u001b[38;5;124m 1, 5, 18, -3 and assign to a variable named \u001b[39m\u001b[38;5;124m'\u001b[39m\u001b[38;5;124mavg\u001b[39m\u001b[38;5;124m'\u001b[39m\u001b[38;5;124m\"\u001b[39m\n\u001b[1;32m    102\u001b[0m     )\n",
      "\u001b[0;31mAttributeError\u001b[0m: 'Statistics' object has no attribute 'student'"
     ]
    }
   ],
   "source": [
    "new_obj = Statistics()\n",
    "new_obj.lesson()"
   ]
  },
  {
   "cell_type": "code",
   "execution_count": null,
   "id": "54653156",
   "metadata": {},
   "outputs": [],
   "source": []
  },
  {
   "cell_type": "code",
   "execution_count": 131,
   "id": "26ba4a80",
   "metadata": {},
   "outputs": [],
   "source": [
    "class PrintClass:\n",
    "    def print_name(self):\n",
    "        print(f\"{self.name}\")\n",
    "    def print_attr_1(self):\n",
    "        print(f\"{self.attr_1}\")\n",
    "    def print_attr_2(self):\n",
    "        print(f\"{self.attr_2}\")\n",
    "    def print_attr_base(self):\n",
    "        print(f\"{self.attr_base}\")\n",
    "\n",
    "class Comp2(PrintClass):\n",
    "    attr_2 = 30\n",
    "\n",
    "class Comp1(PrintClass):\n",
    "    attr_1 = 20\n",
    "    def __init__(self):\n",
    "        self.component = Comp2()\n",
    "\n",
    "class MyBase(PrintClass):\n",
    "    attr_base = 10\n",
    "    def __init__(self):\n",
    "        self.name = \"Brendan\"\n",
    "        self.component_big = Comp1()\n",
    "        \n",
    "\n",
    "        "
   ]
  },
  {
   "cell_type": "code",
   "execution_count": 133,
   "id": "1c9f48a1",
   "metadata": {},
   "outputs": [
    {
     "ename": "AttributeError",
     "evalue": "'Comp2' object has no attribute 'attr_1'",
     "output_type": "error",
     "traceback": [
      "\u001b[0;31m---------------------------------------------------------------------------\u001b[0m",
      "\u001b[0;31mAttributeError\u001b[0m                            Traceback (most recent call last)",
      "Cell \u001b[0;32mIn[133], line 2\u001b[0m\n\u001b[1;32m      1\u001b[0m b \u001b[38;5;241m=\u001b[39m MyBase()\n\u001b[0;32m----> 2\u001b[0m \u001b[43mb\u001b[49m\u001b[38;5;241;43m.\u001b[39;49m\u001b[43mcomponent_big\u001b[49m\u001b[38;5;241;43m.\u001b[39;49m\u001b[43mcomponent\u001b[49m\u001b[38;5;241;43m.\u001b[39;49m\u001b[43mprint_attr_1\u001b[49m\u001b[43m(\u001b[49m\u001b[43m)\u001b[49m\n",
      "Cell \u001b[0;32mIn[131], line 5\u001b[0m, in \u001b[0;36mPrintClass.print_attr_1\u001b[0;34m(self)\u001b[0m\n\u001b[1;32m      4\u001b[0m \u001b[38;5;28;01mdef\u001b[39;00m \u001b[38;5;21mprint_attr_1\u001b[39m(\u001b[38;5;28mself\u001b[39m):\n\u001b[0;32m----> 5\u001b[0m     \u001b[38;5;28mprint\u001b[39m(\u001b[38;5;124mf\u001b[39m\u001b[38;5;124m\"\u001b[39m\u001b[38;5;132;01m{\u001b[39;00m\u001b[38;5;28mself\u001b[39m\u001b[38;5;241m.\u001b[39mattr_1\u001b[38;5;132;01m}\u001b[39;00m\u001b[38;5;124m\"\u001b[39m)\n",
      "\u001b[0;31mAttributeError\u001b[0m: 'Comp2' object has no attribute 'attr_1'"
     ]
    }
   ],
   "source": [
    "b = MyBase()\n",
    "b.component_big.component.print_attr_1()"
   ]
  },
  {
   "cell_type": "code",
   "execution_count": null,
   "id": "140d94c9",
   "metadata": {},
   "outputs": [],
   "source": []
  },
  {
   "cell_type": "code",
   "execution_count": null,
   "id": "cb60f615",
   "metadata": {},
   "outputs": [],
   "source": []
  },
  {
   "cell_type": "code",
   "execution_count": null,
   "id": "d3e92e2d",
   "metadata": {},
   "outputs": [],
   "source": []
  },
  {
   "cell_type": "markdown",
   "id": "f2e322ef",
   "metadata": {},
   "source": [
    "# List of derived_products"
   ]
  },
  {
   "cell_type": "code",
   "execution_count": null,
   "id": "ae3d1661",
   "metadata": {},
   "outputs": [],
   "source": [
    "\"\"\"\n",
    "How we could devide it?\n",
    "- each stage have it's own dataclass that \n",
    "  is an objedct of another datacalss\n",
    "    \n",
    "\n",
    "\"\"\""
   ]
  },
  {
   "cell_type": "code",
   "execution_count": null,
   "id": "89cc29f3",
   "metadata": {},
   "outputs": [],
   "source": [
    "\"\"\"\n",
    "decimation: \n",
    "- time\n",
    "- Original mesh?\n",
    "\n",
    "Soma Identification:\n",
    "- time\n",
    "- nuclei_pieces\n",
    "- glia_pieces\n",
    "- total_soma_list\n",
    "- total_soma_list_sdf\n",
    "\n",
    "Decomposition\n",
    "- time\n",
    "\n",
    "Splitting Preview:\n",
    "- time\n",
    "- split_results\n",
    "- red_blue_split_results\n",
    "\n",
    "Splitting:\n",
    "- time\n",
    "- neuron_list_errored_limbs_area\n",
    "- neuron_list_errored_limbs_skeletal_length\n",
    "- neuron_list_n_multi_soma_errors\n",
    "- neuron_list_n_same_soma_errors\n",
    "\n",
    "Cell Typing:\n",
    "- time (could have subcategories for like spine, synapse)\n",
    "- filtering_info_low_branch\n",
    "\n",
    "- winning_nucleus_id\n",
    "- nucleus_info\n",
    "\n",
    "- database_cell_type_info\n",
    "- database_e_i_class\n",
    "\n",
    "- baylor_e_i\n",
    "- baylor_cell_type_info\n",
    "\n",
    "- e_i_class\n",
    "\n",
    "# axon dendrite\n",
    "filtering_info\n",
    "axon_angles_dict\n",
    "G_axon_labeled\n",
    "\n",
    "Proofreading\n",
    "\"\"\""
   ]
  },
  {
   "cell_type": "code",
   "execution_count": null,
   "id": "66d9bcf7",
   "metadata": {},
   "outputs": [],
   "source": []
  },
  {
   "cell_type": "code",
   "execution_count": null,
   "id": "203f5b20",
   "metadata": {},
   "outputs": [],
   "source": []
  },
  {
   "cell_type": "code",
   "execution_count": null,
   "id": "f61204cf",
   "metadata": {},
   "outputs": [],
   "source": []
  },
  {
   "cell_type": "code",
   "execution_count": 119,
   "id": "2e63dd01",
   "metadata": {},
   "outputs": [
    {
     "data": {
      "text/plain": [
       "{'cell_type': {'cell_type': 'excitatory'}}"
      ]
     },
     "execution_count": 119,
     "metadata": {},
     "output_type": "execute_result"
    }
   ],
   "source": [
    "from neurd.products import StageProducts,PipelineProducts\n",
    "\n",
    "pp = StageProducts(cell_type=\"excitatory\")\n",
    "p = PipelineProducts(\n",
    "    cell_type = pp\n",
    ")\n",
    "\n",
    "p.export()"
   ]
  },
  {
   "cell_type": "code",
   "execution_count": 121,
   "id": "dc9ae36b",
   "metadata": {},
   "outputs": [],
   "source": [
    "p.set_stage_products(\n",
    "    \"new_stage\",\n",
    "    hello = 10,\n",
    "    hi = 5\n",
    ")"
   ]
  },
  {
   "cell_type": "code",
   "execution_count": 125,
   "id": "d4db3710",
   "metadata": {},
   "outputs": [
    {
     "data": {
      "text/plain": [
       "{'hello': 10, 'hi': 5}"
      ]
     },
     "execution_count": 125,
     "metadata": {},
     "output_type": "execute_result"
    }
   ],
   "source": [
    "p.products[\"new_stage\"].export()"
   ]
  },
  {
   "cell_type": "code",
   "execution_count": 115,
   "id": "e56b689f",
   "metadata": {},
   "outputs": [
    {
     "data": {
      "text/plain": [
       "{'cell_type': {'cell_type': 'excitatory'}}"
      ]
     },
     "execution_count": 115,
     "metadata": {},
     "output_type": "execute_result"
    }
   ],
   "source": [
    "PipelineProducts(p).export()"
   ]
  },
  {
   "cell_type": "code",
   "execution_count": 117,
   "id": "70653da3",
   "metadata": {},
   "outputs": [
    {
     "data": {
      "text/plain": [
       "['cell_type']"
      ]
     },
     "execution_count": 117,
     "metadata": {},
     "output_type": "execute_result"
    }
   ],
   "source": []
  },
  {
   "cell_type": "markdown",
   "id": "b18d6a6a",
   "metadata": {},
   "source": [
    "# Seeing if can automatically close the legend"
   ]
  },
  {
   "cell_type": "code",
   "execution_count": 4,
   "id": "957eeddb",
   "metadata": {},
   "outputs": [
    {
     "data": {
      "text/plain": [
       "'\\n1) Have these vuetify ui components (shown below) ipyvolume > vue > container.vue\\n\\n2) Using a veutify template to make the component: \\nhttps://ipyvuetify.readthedocs.io/en/latest/template_usage.html\\n\\n<v-expansion-panel>\\n    <v-expansion-panel-header>Legend</v-expansion-panel-header>\\n    <v-expansion-panel-content>\\n        <jupyter-widget ref=\"legend\" :widget=\"legend\"></jupyter-widget>\\n    </v-expansion-panel-content>\\n</v-expansion-panel>\\n\\n2) Use a python module for manipulating the vuetify templates (ipyvuetify package)\\n\\nNotes ---\\n1) a vue object could be shown or hidden using built in methods: \\n- hide(), show()\\n2) some vue objects can be accessed with children \\n\\nw = v.Icon(children=[\\'mdi-eye-off\\'])\\nw.hide()\\nw\\n\\n'"
      ]
     },
     "execution_count": 4,
     "metadata": {},
     "output_type": "execute_result"
    }
   ],
   "source": [
    "\"\"\"\n",
    "1) Have these vuetify ui components (shown below) ipyvolume > vue > container.vue\n",
    "\n",
    "2) Using a veutify template to make the component: \n",
    "https://ipyvuetify.readthedocs.io/en/latest/template_usage.html\n",
    "\n",
    "<v-expansion-panel>\n",
    "    <v-expansion-panel-header>Legend</v-expansion-panel-header>\n",
    "    <v-expansion-panel-content>\n",
    "        <jupyter-widget ref=\"legend\" :widget=\"legend\"></jupyter-widget>\n",
    "    </v-expansion-panel-content>\n",
    "</v-expansion-panel>\n",
    "\n",
    "2) Use a python module for manipulating the vuetify templates (ipyvuetify package)\n",
    "\n",
    "Notes ---\n",
    "1) a vue object could be shown or hidden using built in methods: \n",
    "- hide(), show()\n",
    "2) some vue objects can be accessed with children \n",
    "\n",
    "w = v.Icon(children=['mdi-eye-off'])\n",
    "w.hide()\n",
    "w\n",
    "\n",
    "\"\"\""
   ]
  },
  {
   "cell_type": "code",
   "execution_count": 32,
   "id": "19aec1d4",
   "metadata": {},
   "outputs": [
    {
     "data": {
      "text/plain": [
       "<trimesh.Trimesh(vertices.shape=(42, 3), faces.shape=(80, 3))>"
      ]
     },
     "execution_count": 32,
     "metadata": {},
     "output_type": "execute_result"
    }
   ],
   "source": [
    "from mesh_tools import trimesh_utils as tu\n",
    "import numpy as np\n",
    "mesh = tu.sphere_mesh()\n",
    "mesh"
   ]
  },
  {
   "cell_type": "code",
   "execution_count": 34,
   "id": "b021013e",
   "metadata": {},
   "outputs": [
    {
     "data": {
      "application/vnd.jupyter.widget-view+json": {
       "model_id": "fa6aca52418542e1964fb9fa659f9241",
       "version_major": 2,
       "version_minor": 0
      },
      "text/plain": [
       "Container(figure=Figure(box_center=[0.5, 0.5, 0.5], box_size=[1.0, 1.0, 1.0], camera=PerspectiveCamera(fov=45.…"
      ]
     },
     "metadata": {},
     "output_type": "display_data"
    }
   ],
   "source": [
    "from datasci_tools import ipyvolume_utils as ipvu\n",
    "ipvu.plot_objects(mesh)"
   ]
  },
  {
   "cell_type": "code",
   "execution_count": null,
   "id": "8332484d",
   "metadata": {},
   "outputs": [],
   "source": [
    "container.close_all()"
   ]
  },
  {
   "cell_type": "code",
   "execution_count": null,
   "id": "9fee78e1",
   "metadata": {},
   "outputs": [],
   "source": [
    "import ipyvuetify as v"
   ]
  },
  {
   "cell_type": "code",
   "execution_count": 25,
   "id": "61ccda60",
   "metadata": {},
   "outputs": [
    {
     "data": {
      "text/plain": [
       "{'_component_instances': <traitlets.traitlets.List at 0x7f82224bcee0>,\n",
       " '_dom_classes': <ipywidgets.widgets.trait_types.TypedTuple at 0x7f8232e65c40>,\n",
       " '_jupyter_vue': <traitlets.traitlets.Any at 0x7f82224bcb80>,\n",
       " '_model_module': <traitlets.traitlets.Unicode at 0x7f822211a520>,\n",
       " '_model_module_version': <traitlets.traitlets.Unicode at 0x7f822211adc0>,\n",
       " '_model_name': <traitlets.traitlets.Unicode at 0x7f822211aa60>,\n",
       " '_msg_callbacks': <traitlets.traitlets.Instance at 0x7f8232e65730>,\n",
       " '_property_lock': <traitlets.traitlets.Dict at 0x7f8232e656d0>,\n",
       " '_states_to_send': <traitlets.traitlets.Set at 0x7f8232e65700>,\n",
       " '_view_count': <traitlets.traitlets.Int at 0x7f8232e655e0>,\n",
       " '_view_module': <traitlets.traitlets.Unicode at 0x7f822211a5e0>,\n",
       " '_view_module_version': <traitlets.traitlets.Unicode at 0x7f822211ad60>,\n",
       " '_view_name': <traitlets.traitlets.Unicode at 0x7f822211aaf0>,\n",
       " 'children': <traitlets.traitlets.List at 0x7f822249e790>,\n",
       " 'comm': <traitlets.traitlets.Any at 0x7f8232e65610>,\n",
       " 'components': <traitlets.traitlets.Dict at 0x7f82224bceb0>,\n",
       " 'css': <traitlets.traitlets.Unicode at 0x7f82224bcd90>,\n",
       " 'data': <traitlets.traitlets.Unicode at 0x7f82224bcdf0>,\n",
       " 'events': <traitlets.traitlets.List at 0x7f82224bce50>,\n",
       " 'figure': <traitlets.traitlets.Instance at 0x7f822291e250>,\n",
       " 'keys': <traitlets.traitlets.List at 0x7f8232e65640>,\n",
       " 'layout': <ipywidgets.widgets.trait_types.InstanceDict at 0x7f8232e776d0>,\n",
       " 'legend': <traitlets.traitlets.Instance at 0x7f8222513820>,\n",
       " 'legend_show': <traitlets.traitlets.Bool at 0x7f8222503a30>,\n",
       " 'log': <traitlets.traitlets.Instance at 0x7f8232e5aac0>,\n",
       " 'methods': <traitlets.traitlets.Unicode at 0x7f82224bcdc0>,\n",
       " 'models': <traitlets.traitlets.Any at 0x7f822249e760>,\n",
       " 'panels': <traitlets.traitlets.List at 0x7f822249e820>,\n",
       " 'tabbable': <traitlets.traitlets.Bool at 0x7f8232e65c10>,\n",
       " 'template': <traitlets.traitlets.Union at 0x7f82224bcd60>,\n",
       " 'tooltip': <traitlets.traitlets.Unicode at 0x7f8232e77700>}"
      ]
     },
     "execution_count": 25,
     "metadata": {},
     "output_type": "execute_result"
    }
   ],
   "source": [
    "import ipyvuetify as v\n",
    "container.traits()"
   ]
  },
  {
   "cell_type": "code",
   "execution_count": null,
   "id": "dc89fec9",
   "metadata": {},
   "outputs": [],
   "source": [
    "type(container.legend)"
   ]
  },
  {
   "cell_type": "code",
   "execution_count": null,
   "id": "c55401a0",
   "metadata": {},
   "outputs": [],
   "source": [
    "import ipywidgets as widgets\n",
    "widgets.widget_serialization?"
   ]
  },
  {
   "cell_type": "code",
   "execution_count": null,
   "id": "61945b42",
   "metadata": {},
   "outputs": [],
   "source": [
    "import ipyvolume as ipv\n",
    "[k for k in dir(container) if \"legend\" in k.lower()]"
   ]
  },
  {
   "cell_type": "code",
   "execution_count": null,
   "id": "add140b2",
   "metadata": {},
   "outputs": [],
   "source": [
    "container.legend"
   ]
  },
  {
   "cell_type": "code",
   "execution_count": null,
   "id": "b5e4eb2c",
   "metadata": {},
   "outputs": [],
   "source": [
    "dir(container)"
   ]
  },
  {
   "cell_type": "code",
   "execution_count": null,
   "id": "110e6d38",
   "metadata": {},
   "outputs": [],
   "source": [
    "type(container.legend)"
   ]
  },
  {
   "cell_type": "code",
   "execution_count": null,
   "id": "c54db7ba",
   "metadata": {
    "scrolled": false
   },
   "outputs": [],
   "source": [
    "from neurd import neuron_visualizations as nviz\n",
    "from neurd import preprocessing_vp2 as pre"
   ]
  },
  {
   "cell_type": "code",
   "execution_count": null,
   "id": "e57c513c",
   "metadata": {},
   "outputs": [],
   "source": [
    "from neurd import preprocessing_vp2 as pre\n",
    "pre.nviz.nviz"
   ]
  },
  {
   "cell_type": "code",
   "execution_count": null,
   "id": "40d70925",
   "metadata": {},
   "outputs": [],
   "source": [
    "from neurd.microns_volume_utils import data_interface as hdju"
   ]
  },
  {
   "cell_type": "code",
   "execution_count": null,
   "id": "50a61dad",
   "metadata": {},
   "outputs": [],
   "source": [
    "from neurd import neuron_visualizations as nviz\n",
    "nviz.nviz"
   ]
  },
  {
   "cell_type": "code",
   "execution_count": null,
   "id": "5599e30c",
   "metadata": {},
   "outputs": [],
   "source": [
    "from neurd import synapse_utils as syu\n",
    "syu.hdju"
   ]
  },
  {
   "cell_type": "code",
   "execution_count": null,
   "id": "00e55989",
   "metadata": {},
   "outputs": [],
   "source": [
    "hdju"
   ]
  },
  {
   "cell_type": "code",
   "execution_count": null,
   "id": "2ab74f47",
   "metadata": {},
   "outputs": [],
   "source": [
    "hdju.set_synapse_filepath(\"hello\")"
   ]
  },
  {
   "cell_type": "code",
   "execution_count": null,
   "id": "2e259981",
   "metadata": {},
   "outputs": [],
   "source": []
  },
  {
   "cell_type": "code",
   "execution_count": null,
   "id": "bfe9247b",
   "metadata": {},
   "outputs": [],
   "source": [
    "syu.hdju"
   ]
  },
  {
   "cell_type": "code",
   "execution_count": null,
   "id": "37e1417d",
   "metadata": {},
   "outputs": [],
   "source": [
    "from importlib import reload\n",
    "from neurd import classification_utils as clu\n",
    "clu = reload(clu)"
   ]
  },
  {
   "cell_type": "code",
   "execution_count": null,
   "id": "65c6bc8c",
   "metadata": {
    "scrolled": true
   },
   "outputs": [],
   "source": [
    "from datasci_tools import package_utils as pku\n",
    "pkg_mods = pku.submodule_version_dict(\n",
    "    \"nviz\",\n",
    "    \"neurd\",\n",
    "    use_loader=True,\n",
    "    verbose = True\n",
    ")\n",
    "pkg_mods"
   ]
  },
  {
   "cell_type": "code",
   "execution_count": null,
   "id": "0ae3b9a2",
   "metadata": {},
   "outputs": [],
   "source": [
    "from neurd import neuron_visualizations as nviz\n",
    "from os import sys\n",
    "nviz.__loader__\n",
    "sys.modules[\"neurd.neuron_visualizations\"]"
   ]
  },
  {
   "cell_type": "code",
   "execution_count": null,
   "id": "97a99378",
   "metadata": {},
   "outputs": [],
   "source": [
    "pre.nviz"
   ]
  },
  {
   "cell_type": "code",
   "execution_count": null,
   "id": "008d1057",
   "metadata": {},
   "outputs": [],
   "source": []
  },
  {
   "cell_type": "code",
   "execution_count": null,
   "id": "9057578d",
   "metadata": {},
   "outputs": [],
   "source": [
    "import neurd\n",
    "\n",
    "neurd.set_volume_params(\"microns\")\n",
    "\n",
    "pkg_mods = pku.submodule_version_dict(\n",
    "    \"hdju\",\n",
    "    \"neurd\",\n",
    "    use_loader=False,\n",
    "    verbose = True,\n",
    ")\n",
    "pkg_mods"
   ]
  },
  {
   "cell_type": "code",
   "execution_count": null,
   "id": "e207c383",
   "metadata": {},
   "outputs": [],
   "source": [
    "from neurd import axon_utils as au\n",
    "nviz.au.__loader__ is au.__loader__"
   ]
  },
  {
   "cell_type": "code",
   "execution_count": null,
   "id": "42f171ed",
   "metadata": {},
   "outputs": [],
   "source": [
    "import importlib\n",
    "from os import sys\n",
    "def reload_all_modules_in_package(package_name):\n",
    "    \"\"\"\n",
    "    Purpose: To reload all modules in a specified package\n",
    "\n",
    "    \"\"\"\n",
    "    for module in [k for k in sys.modules.values() if f\"'{package_name}.\" in str(k)]:\n",
    "        importlib.reload(module)"
   ]
  },
  {
   "cell_type": "code",
   "execution_count": null,
   "id": "fbbe278b",
   "metadata": {},
   "outputs": [],
   "source": [
    "import os\n",
    "os.listdir(os.path.dirname(\"./\"))"
   ]
  },
  {
   "cell_type": "code",
   "execution_count": null,
   "id": "f88760fc",
   "metadata": {},
   "outputs": [],
   "source": [
    "nviz.nviz"
   ]
  },
  {
   "cell_type": "code",
   "execution_count": null,
   "id": "361293d0",
   "metadata": {},
   "outputs": [],
   "source": [
    "nviz.soma_color"
   ]
  },
  {
   "cell_type": "code",
   "execution_count": null,
   "id": "32a3f19b",
   "metadata": {},
   "outputs": [],
   "source": []
  },
  {
   "cell_type": "code",
   "execution_count": null,
   "id": "3d5b2c3e",
   "metadata": {},
   "outputs": [],
   "source": []
  },
  {
   "cell_type": "code",
   "execution_count": null,
   "id": "09ca9311",
   "metadata": {},
   "outputs": [],
   "source": []
  },
  {
   "cell_type": "code",
   "execution_count": null,
   "id": "1fbad699",
   "metadata": {},
   "outputs": [],
   "source": [
    "from neurd import neuron_utils as nru\n",
    "nru.__loader__"
   ]
  },
  {
   "cell_type": "code",
   "execution_count": null,
   "id": "e52413c7",
   "metadata": {},
   "outputs": [],
   "source": [
    "from importlib import reload\n",
    "pre = reload(pre)"
   ]
  },
  {
   "cell_type": "code",
   "execution_count": null,
   "id": "7b84e322",
   "metadata": {},
   "outputs": [],
   "source": [
    "import ipywidgets\n",
    "ipywidgets.__version__"
   ]
  },
  {
   "cell_type": "code",
   "execution_count": null,
   "id": "58082abb",
   "metadata": {},
   "outputs": [],
   "source": [
    "import numpy as np\n",
    "ipvu.plot_scatter(\n",
    "    array=np.array([[0.12068656, 0.34903741, 0.84620654],\n",
    "       [0.04812803, 0.14411268, 0.54990798],\n",
    "       [0.79566505, 0.63533888, 0.03276685],\n",
    "       [0.55378168, 0.25424957, 0.71898828],\n",
    "       [0.1054361 , 0.70734158, 0.25456412],\n",
    "       [0.51331846, 0.46793084, 0.44032635],\n",
    "       [0.58216843, 0.46214255, 0.12553144],\n",
    "       [0.08834693, 0.13477684, 0.88986768],\n",
    "       [0.39226641, 0.96131601, 0.05423914],\n",
    "       [0.86158737, 0.30404951, 0.42807901]]),\n",
    "    color=(1,0,0,0.99),\n",
    "    size=10,\n",
    "    widgets_to_plot = (\"size\",\"marker\",\"color\"),\n",
    ")"
   ]
  },
  {
   "cell_type": "markdown",
   "id": "f75b85bc",
   "metadata": {},
   "source": [
    "# Look at how proximities are"
   ]
  },
  {
   "cell_type": "code",
   "execution_count": null,
   "id": "813d9b03",
   "metadata": {},
   "outputs": [],
   "source": [
    "from os import sys\n",
    "sys.path.append(\"/neurd_packages/meshAfterParty/meshAfterParty/\")"
   ]
  },
  {
   "cell_type": "code",
   "execution_count": null,
   "id": "151ae4eb",
   "metadata": {},
   "outputs": [],
   "source": [
    "from dataInterfaceMinnie65 import data_interface as hdju"
   ]
  },
  {
   "cell_type": "code",
   "execution_count": null,
   "id": "364374c1",
   "metadata": {},
   "outputs": [],
   "source": [
    "from neurd import neuron_visualizations as nviz\n",
    "from datasci_tools import ipyvolume_utils as ipvu\n",
    "import numpy as np\n",
    "ipvu.plot_objects(\n",
    "    scatters=[np.array([[0.12068656, 0.34903741, 0.84620654],\n",
    "       [0.04812803, 0.14411268, 0.54990798],\n",
    "       [0.79566505, 0.63533888, 0.03276685],\n",
    "       [0.55378168, 0.25424957, 0.71898828],\n",
    "       [0.1054361 , 0.70734158, 0.25456412],\n",
    "       [0.51331846, 0.46793084, 0.44032635],\n",
    "       [0.58216843, 0.46214255, 0.12553144],\n",
    "       [0.08834693, 0.13477684, 0.88986768],\n",
    "       [0.39226641, 0.96131601, 0.05423914],\n",
    "       [0.86158737, 0.30404951, 0.42807901]])],\n",
    "    scatters_colors=(1,0,0,0.99),\n",
    "    scatter_size=10,\n",
    "    #widgets_to_plot = (\"size\",\"marker\",\"color\"),\n",
    ")"
   ]
  },
  {
   "cell_type": "code",
   "execution_count": null,
   "id": "0db55e79",
   "metadata": {},
   "outputs": [],
   "source": [
    "from datasci_tools import ipyvolume_utils as ipvu\n",
    "import numpy as np\n",
    "ipvu.plot_objects(\n",
    "    scatters=[np.random.rand(10,3)],\n",
    "    scatter_size=10,\n",
    "    #scatters_colors=\"red\",\n",
    "    set_zoom=1,\n",
    "    axis_box_off=False,\n",
    "    \n",
    ")"
   ]
  },
  {
   "cell_type": "code",
   "execution_count": null,
   "id": "6d82914c",
   "metadata": {
    "scrolled": true
   },
   "outputs": [],
   "source": [
    "hdju.plot_proximity(\n",
    "    864691134884741626,864691134884760314\n",
    ")"
   ]
  },
  {
   "cell_type": "code",
   "execution_count": null,
   "id": "20bf9254",
   "metadata": {},
   "outputs": [],
   "source": [
    "hdju.plot_proofread_neuron(864691134884741626)"
   ]
  },
  {
   "cell_type": "code",
   "execution_count": null,
   "id": "38d77e28",
   "metadata": {
    "scrolled": false
   },
   "outputs": [],
   "source": [
    "import neurd\n",
    "\n",
    "neurd.set_volume_params(\n",
    "    \"microns\"\n",
    ")\n",
    "\n",
    "hdju.plot_proofread_neuron(864691134884760314)"
   ]
  },
  {
   "cell_type": "code",
   "execution_count": null,
   "id": "0ca166cd",
   "metadata": {},
   "outputs": [],
   "source": [
    "hdju.proximity_table & dict(segment_id_post=864691134884760314)"
   ]
  },
  {
   "cell_type": "code",
   "execution_count": null,
   "id": "61fe0fde",
   "metadata": {},
   "outputs": [],
   "source": []
  }
 ],
 "metadata": {
  "kernelspec": {
   "display_name": "Python 3 (ipykernel)",
   "language": "python",
   "name": "python3"
  },
  "language_info": {
   "codemirror_mode": {
    "name": "ipython",
    "version": 3
   },
   "file_extension": ".py",
   "mimetype": "text/x-python",
   "name": "python",
   "nbconvert_exporter": "python",
   "pygments_lexer": "ipython3",
   "version": "3.8.0"
  }
 },
 "nbformat": 4,
 "nbformat_minor": 5
}
